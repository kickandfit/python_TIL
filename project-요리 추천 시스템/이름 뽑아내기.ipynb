{
 "cells": [
  {
   "cell_type": "code",
   "execution_count": 1,
   "id": "e8f41de2",
   "metadata": {},
   "outputs": [],
   "source": [
    "!pip install -qr https://raw.githubusercontent.com/ultralytics/yolov5/master/requirements.txt"
   ]
  },
  {
   "cell_type": "code",
   "execution_count": 3,
   "id": "76e82c61",
   "metadata": {},
   "outputs": [
    {
     "name": "stderr",
     "output_type": "stream",
     "text": [
      "C:\\Users\\moh12\\Anaconda3\\envs\\multi\\lib\\site-packages\\numpy\\_distributor_init.py:30: UserWarning: loaded more than 1 DLL from .libs:\n",
      "C:\\Users\\moh12\\Anaconda3\\envs\\multi\\lib\\site-packages\\numpy\\.libs\\libopenblas.PYQHXLVVQ7VESDPUVUADXEVJOBGHJPAY.gfortran-win_amd64.dll\n",
      "C:\\Users\\moh12\\Anaconda3\\envs\\multi\\lib\\site-packages\\numpy\\.libs\\libopenblas.WCDJNK7YVMPZQ2ME2ZZHJJRJ3JIKNDB7.gfortran-win_amd64.dll\n",
      "  warnings.warn(\"loaded more than 1 DLL from .libs:\\n%s\" %\n",
      "Downloading: \"https://github.com/ultralytics/yolov5/archive/master.zip\" to C:\\Users\\moh12/.cache\\torch\\hub\\master.zip\n",
      "YOLOv5  2021-9-24 torch 1.9.1+cpu CPU\n",
      "\n"
     ]
    },
    {
     "name": "stdout",
     "output_type": "stream",
     "text": [
      "Downloading https://github.com/ultralytics/yolov5/releases/download/v5.0/yolov5s.pt to C:\\Users\\moh12\\.cache\\torch\\hub\\ultralytics_yolov5_master\\yolov5s.pt...\n"
     ]
    },
    {
     "data": {
      "application/vnd.jupyter.widget-view+json": {
       "model_id": "eb091db652744070a7867f6414b02eec",
       "version_major": 2,
       "version_minor": 0
      },
      "text/plain": [
       "  0%|          | 0.00/14.1M [00:00<?, ?B/s]"
      ]
     },
     "metadata": {},
     "output_type": "display_data"
    },
    {
     "name": "stdout",
     "output_type": "stream",
     "text": [
      "\n"
     ]
    },
    {
     "name": "stderr",
     "output_type": "stream",
     "text": [
      "Fusing layers... \n",
      "Model Summary: 224 layers, 7266973 parameters, 0 gradients\n",
      "Adding AutoShape... \n"
     ]
    }
   ],
   "source": [
    "import torch\n",
    "model = torch.hub.load('ultralytics/yolov5', 'yolov5s', pretrained=True)"
   ]
  },
  {
   "cell_type": "code",
   "execution_count": 14,
   "id": "02aed814",
   "metadata": {},
   "outputs": [
    {
     "data": {
      "text/html": [
       "<div>\n",
       "<style scoped>\n",
       "    .dataframe tbody tr th:only-of-type {\n",
       "        vertical-align: middle;\n",
       "    }\n",
       "\n",
       "    .dataframe tbody tr th {\n",
       "        vertical-align: top;\n",
       "    }\n",
       "\n",
       "    .dataframe thead th {\n",
       "        text-align: right;\n",
       "    }\n",
       "</style>\n",
       "<table border=\"1\" class=\"dataframe\">\n",
       "  <thead>\n",
       "    <tr style=\"text-align: right;\">\n",
       "      <th></th>\n",
       "      <th>xmin</th>\n",
       "      <th>ymin</th>\n",
       "      <th>xmax</th>\n",
       "      <th>ymax</th>\n",
       "      <th>confidence</th>\n",
       "      <th>class</th>\n",
       "      <th>name</th>\n",
       "    </tr>\n",
       "  </thead>\n",
       "  <tbody>\n",
       "    <tr>\n",
       "      <th>0</th>\n",
       "      <td>595.925232</td>\n",
       "      <td>399.905060</td>\n",
       "      <td>921.239197</td>\n",
       "      <td>1019.001038</td>\n",
       "      <td>0.827783</td>\n",
       "      <td>41</td>\n",
       "      <td>cup</td>\n",
       "    </tr>\n",
       "    <tr>\n",
       "      <th>1</th>\n",
       "      <td>938.255676</td>\n",
       "      <td>74.532791</td>\n",
       "      <td>1205.745850</td>\n",
       "      <td>1030.762817</td>\n",
       "      <td>0.818131</td>\n",
       "      <td>39</td>\n",
       "      <td>bottle</td>\n",
       "    </tr>\n",
       "    <tr>\n",
       "      <th>2</th>\n",
       "      <td>306.507629</td>\n",
       "      <td>1.764507</td>\n",
       "      <td>826.240662</td>\n",
       "      <td>255.599014</td>\n",
       "      <td>0.365703</td>\n",
       "      <td>62</td>\n",
       "      <td>tv</td>\n",
       "    </tr>\n",
       "    <tr>\n",
       "      <th>3</th>\n",
       "      <td>30.388664</td>\n",
       "      <td>745.197632</td>\n",
       "      <td>1440.000000</td>\n",
       "      <td>1070.560181</td>\n",
       "      <td>0.349093</td>\n",
       "      <td>60</td>\n",
       "      <td>dining table</td>\n",
       "    </tr>\n",
       "  </tbody>\n",
       "</table>\n",
       "</div>"
      ],
      "text/plain": [
       "         xmin        ymin         xmax         ymax  confidence  class  \\\n",
       "0  595.925232  399.905060   921.239197  1019.001038    0.827783     41   \n",
       "1  938.255676   74.532791  1205.745850  1030.762817    0.818131     39   \n",
       "2  306.507629    1.764507   826.240662   255.599014    0.365703     62   \n",
       "3   30.388664  745.197632  1440.000000  1070.560181    0.349093     60   \n",
       "\n",
       "           name  \n",
       "0           cup  \n",
       "1        bottle  \n",
       "2            tv  \n",
       "3  dining table  "
      ]
     },
     "execution_count": 14,
     "metadata": {},
     "output_type": "execute_result"
    }
   ],
   "source": [
    "import pandas as pd\n",
    "\n",
    "# 이미지\n",
    "img = ['./dnr.jpg']\n",
    "\n",
    "# 추론\n",
    "results = model(img)\n",
    "\n",
    "# 결과\n",
    "# results.print()\n",
    "# results.show()\n",
    "# results.save() # Save image to 'runs\\detect\\exp'\n",
    "\n",
    "# results.xyxy[0]  # 예측 (tensor)\n",
    "a = results.pandas().xyxy[0]  # 예측 (pandas)\n",
    "b = pd.DataFrame(a)\n",
    "b"
   ]
  },
  {
   "cell_type": "code",
   "execution_count": null,
   "id": "325c48de",
   "metadata": {},
   "outputs": [],
   "source": []
  }
 ],
 "metadata": {
  "kernelspec": {
   "display_name": "Python 3",
   "language": "python",
   "name": "python3"
  },
  "language_info": {
   "codemirror_mode": {
    "name": "ipython",
    "version": 3
   },
   "file_extension": ".py",
   "mimetype": "text/x-python",
   "name": "python",
   "nbconvert_exporter": "python",
   "pygments_lexer": "ipython3",
   "version": "3.8.10"
  }
 },
 "nbformat": 4,
 "nbformat_minor": 5
}
