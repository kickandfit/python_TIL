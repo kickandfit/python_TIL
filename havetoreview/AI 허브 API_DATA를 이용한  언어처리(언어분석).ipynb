{
 "cells": [
  {
   "cell_type": "code",
   "execution_count": 2,
   "id": "288681c9",
   "metadata": {},
   "outputs": [],
   "source": [
    "import pandas as pd\n",
    "import numpy as np\n",
    "import urllib3\n",
    "import json\n",
    "import sys"
   ]
  },
  {
   "cell_type": "markdown",
   "id": "8bcb7c30",
   "metadata": {},
   "source": [
    "언어 분석 기술 문어/구어 중 한가지만 선택해 사용"
   ]
  },
  {
   "cell_type": "code",
   "execution_count": 3,
   "id": "589c93f9",
   "metadata": {},
   "outputs": [],
   "source": [
    "## 언어 분석 기술(문어)\n",
    "openApiURL = \"http://aiopen.etri.re.kr:8000/WiseNLU\" \n",
    "\n",
    "## 언어 분석 기술(구어)\n",
    "openApiURL = \"http://aiopen.etri.re.kr:8000/WiseNLU_spoken\""
   ]
  },
  {
   "cell_type": "markdown",
   "id": "0c689989",
   "metadata": {},
   "source": [
    "인증키 및 분석 코드 요청"
   ]
  },
  {
   "cell_type": "code",
   "execution_count": 4,
   "id": "4b579b92",
   "metadata": {},
   "outputs": [],
   "source": [
    "accessKey = \"fdf16766-d73d-48be-a4b3-c03276a6cfb2\"  # 발급받은 개인 API key \n",
    "analysisCode = \"ner\"    # 언어분석코드, ner=>객체명 인식"
   ]
  },
  {
   "cell_type": "markdown",
   "id": "1f89fd6e",
   "metadata": {},
   "source": [
    "사용자 텍스트 입력"
   ]
  },
  {
   "cell_type": "code",
   "execution_count": 60,
   "id": "34cd0ca0",
   "metadata": {},
   "outputs": [
    {
     "data": {
      "text/plain": [
       "<function TextIOWrapper.close()>"
      ]
     },
     "execution_count": 60,
     "metadata": {},
     "output_type": "execute_result"
    }
   ],
   "source": [
    "f=open(\"c:/pydata/2021_신년사.txt\")\n",
    "\n",
    "text=\"\"\n",
    "txt=f.readlines()\n",
    "for t in txt:\n",
    "    if len(t)!=1:\n",
    "        text += t\n",
    "f.close\n",
    "\n",
    "#print(text)"
   ]
  },
  {
   "cell_type": "markdown",
   "id": "69f2be82",
   "metadata": {},
   "source": [
    "키 인증 및 테스트를 이용한 개체명 요청"
   ]
  },
  {
   "cell_type": "code",
   "execution_count": 61,
   "id": "b38ace80",
   "metadata": {},
   "outputs": [],
   "source": [
    "requestJson = {\n",
    "    \"access_key\": accessKey,\n",
    "    \"argument\": {\n",
    "        \"text\": text,\n",
    "        \"analysis_code\": analysisCode\n",
    "    }\n",
    "}"
   ]
  },
  {
   "cell_type": "markdown",
   "id": "e8899faa",
   "metadata": {},
   "source": [
    "urllib3 모듈을 이용한 분석 결과 요청"
   ]
  },
  {
   "cell_type": "code",
   "execution_count": 62,
   "id": "3bd98b8d",
   "metadata": {},
   "outputs": [],
   "source": [
    "http = urllib3.PoolManager()\n",
    "response = http.request(\n",
    "    \"POST\",\n",
    "    openApiURL,\n",
    "    headers={\"Content-Type\": \"application/json; charset=UTF-8\"},\n",
    "    body=json.dumps(requestJson)\n",
    ")"
   ]
  },
  {
   "cell_type": "markdown",
   "id": "54709cb7",
   "metadata": {},
   "source": [
    "결과 확인\n",
    "- 언어 분석 API 레퍼런스: https://aiopen.etri.re.kr/guide_wiseNLU.php 참조"
   ]
  },
  {
   "cell_type": "code",
   "execution_count": 63,
   "id": "07a5524b",
   "metadata": {},
   "outputs": [
    {
     "name": "stdout",
     "output_type": "stream",
     "text": [
      "[responseCode] 200\n"
     ]
    }
   ],
   "source": [
    "## 요청 결과 확인\n",
    "print(f'[responseCode] {response.status}')"
   ]
  },
  {
   "cell_type": "code",
   "execution_count": 74,
   "id": "f85b83db",
   "metadata": {},
   "outputs": [],
   "source": [
    "## 전체 결과 내용 확인\n",
    "#json.loads(response.data)"
   ]
  },
  {
   "cell_type": "code",
   "execution_count": 71,
   "id": "475dd3f0",
   "metadata": {
    "scrolled": true
   },
   "outputs": [
    {
     "data": {
      "text/html": [
       "<div>\n",
       "<style scoped>\n",
       "    .dataframe tbody tr th:only-of-type {\n",
       "        vertical-align: middle;\n",
       "    }\n",
       "\n",
       "    .dataframe tbody tr th {\n",
       "        vertical-align: top;\n",
       "    }\n",
       "\n",
       "    .dataframe thead th {\n",
       "        text-align: right;\n",
       "    }\n",
       "</style>\n",
       "<table border=\"1\" class=\"dataframe\">\n",
       "  <thead>\n",
       "    <tr style=\"text-align: right;\">\n",
       "      <th></th>\n",
       "      <th>id</th>\n",
       "      <th>text</th>\n",
       "      <th>type</th>\n",
       "      <th>begin</th>\n",
       "      <th>end</th>\n",
       "      <th>weight</th>\n",
       "      <th>common_noun</th>\n",
       "    </tr>\n",
       "  </thead>\n",
       "  <tbody>\n",
       "    <tr>\n",
       "      <th>0</th>\n",
       "      <td>0.0</td>\n",
       "      <td>국민</td>\n",
       "      <td>CV_POSITION</td>\n",
       "      <td>3.0</td>\n",
       "      <td>3.0</td>\n",
       "      <td>0.206237</td>\n",
       "      <td>0.0</td>\n",
       "    </tr>\n",
       "    <tr>\n",
       "      <th>1</th>\n",
       "      <td>0.0</td>\n",
       "      <td>신축년</td>\n",
       "      <td>DT_YEAR</td>\n",
       "      <td>0.0</td>\n",
       "      <td>1.0</td>\n",
       "      <td>0.164352</td>\n",
       "      <td>0.0</td>\n",
       "    </tr>\n",
       "    <tr>\n",
       "      <th>2</th>\n",
       "      <td>1.0</td>\n",
       "      <td>새해</td>\n",
       "      <td>DT_YEAR</td>\n",
       "      <td>2.0</td>\n",
       "      <td>2.0</td>\n",
       "      <td>0.209563</td>\n",
       "      <td>0.0</td>\n",
       "    </tr>\n",
       "    <tr>\n",
       "      <th>3</th>\n",
       "      <td>0.0</td>\n",
       "      <td>새해</td>\n",
       "      <td>DT_YEAR</td>\n",
       "      <td>0.0</td>\n",
       "      <td>0.0</td>\n",
       "      <td>0.382773</td>\n",
       "      <td>0.0</td>\n",
       "    </tr>\n",
       "    <tr>\n",
       "      <th>4</th>\n",
       "      <td>1.0</td>\n",
       "      <td>새해</td>\n",
       "      <td>DT_YEAR</td>\n",
       "      <td>2.0</td>\n",
       "      <td>2.0</td>\n",
       "      <td>0.449926</td>\n",
       "      <td>0.0</td>\n",
       "    </tr>\n",
       "    <tr>\n",
       "      <th>...</th>\n",
       "      <td>...</td>\n",
       "      <td>...</td>\n",
       "      <td>...</td>\n",
       "      <td>...</td>\n",
       "      <td>...</td>\n",
       "      <td>...</td>\n",
       "      <td>...</td>\n",
       "    </tr>\n",
       "    <tr>\n",
       "      <th>277</th>\n",
       "      <td>1.0</td>\n",
       "      <td>코리아</td>\n",
       "      <td>LCP_COUNTRY</td>\n",
       "      <td>6.0</td>\n",
       "      <td>6.0</td>\n",
       "      <td>0.191505</td>\n",
       "      <td>0.0</td>\n",
       "    </tr>\n",
       "    <tr>\n",
       "      <th>278</th>\n",
       "      <td>0.0</td>\n",
       "      <td>지난해</td>\n",
       "      <td>DT_YEAR</td>\n",
       "      <td>0.0</td>\n",
       "      <td>0.0</td>\n",
       "      <td>0.361061</td>\n",
       "      <td>0.0</td>\n",
       "    </tr>\n",
       "    <tr>\n",
       "      <th>279</th>\n",
       "      <td>1.0</td>\n",
       "      <td>대한민국</td>\n",
       "      <td>LCP_COUNTRY</td>\n",
       "      <td>9.0</td>\n",
       "      <td>9.0</td>\n",
       "      <td>0.352682</td>\n",
       "      <td>0.0</td>\n",
       "    </tr>\n",
       "    <tr>\n",
       "      <th>280</th>\n",
       "      <td>0.0</td>\n",
       "      <td>2021년</td>\n",
       "      <td>DT_YEAR</td>\n",
       "      <td>0.0</td>\n",
       "      <td>1.0</td>\n",
       "      <td>0.591335</td>\n",
       "      <td>0.0</td>\n",
       "    </tr>\n",
       "    <tr>\n",
       "      <th>281</th>\n",
       "      <td>1.0</td>\n",
       "      <td>올해</td>\n",
       "      <td>DT_YEAR</td>\n",
       "      <td>2.0</td>\n",
       "      <td>2.0</td>\n",
       "      <td>0.194466</td>\n",
       "      <td>0.0</td>\n",
       "    </tr>\n",
       "  </tbody>\n",
       "</table>\n",
       "<p>282 rows × 7 columns</p>\n",
       "</div>"
      ],
      "text/plain": [
       "      id   text         type  begin  end    weight  common_noun\n",
       "0    0.0     국민  CV_POSITION    3.0  3.0  0.206237          0.0\n",
       "1    0.0    신축년      DT_YEAR    0.0  1.0  0.164352          0.0\n",
       "2    1.0     새해      DT_YEAR    2.0  2.0  0.209563          0.0\n",
       "3    0.0     새해      DT_YEAR    0.0  0.0  0.382773          0.0\n",
       "4    1.0     새해      DT_YEAR    2.0  2.0  0.449926          0.0\n",
       "..   ...    ...          ...    ...  ...       ...          ...\n",
       "277  1.0    코리아  LCP_COUNTRY    6.0  6.0  0.191505          0.0\n",
       "278  0.0    지난해      DT_YEAR    0.0  0.0  0.361061          0.0\n",
       "279  1.0   대한민국  LCP_COUNTRY    9.0  9.0  0.352682          0.0\n",
       "280  0.0  2021년      DT_YEAR    0.0  1.0  0.591335          0.0\n",
       "281  1.0     올해      DT_YEAR    2.0  2.0  0.194466          0.0\n",
       "\n",
       "[282 rows x 7 columns]"
      ]
     },
     "execution_count": 71,
     "metadata": {},
     "output_type": "execute_result"
    }
   ],
   "source": [
    "### 객체명에 해당하는 값 가져오기\n",
    "json_data=json.loads(response.data)\n",
    "\n",
    "prn_data=[]\n",
    "for obj in json_data[\"return_object\"][\"sentence\"]:\n",
    "    for dic in obj[\"NE\"]:\n",
    "        prn_data.append(dic)\n",
    "        \n",
    "df1=pd.DataFrame(prn_data)\n",
    "df1"
   ]
  },
  {
   "cell_type": "code",
   "execution_count": 72,
   "id": "f606e9ae",
   "metadata": {},
   "outputs": [
    {
     "data": {
      "text/html": [
       "<div>\n",
       "<style scoped>\n",
       "    .dataframe tbody tr th:only-of-type {\n",
       "        vertical-align: middle;\n",
       "    }\n",
       "\n",
       "    .dataframe tbody tr th {\n",
       "        vertical-align: top;\n",
       "    }\n",
       "\n",
       "    .dataframe thead th {\n",
       "        text-align: right;\n",
       "    }\n",
       "</style>\n",
       "<table border=\"1\" class=\"dataframe\">\n",
       "  <thead>\n",
       "    <tr style=\"text-align: right;\">\n",
       "      <th></th>\n",
       "      <th>id</th>\n",
       "      <th>lemma</th>\n",
       "      <th>type</th>\n",
       "      <th>position</th>\n",
       "      <th>weight</th>\n",
       "    </tr>\n",
       "  </thead>\n",
       "  <tbody>\n",
       "    <tr>\n",
       "      <th>0</th>\n",
       "      <td>0.0</td>\n",
       "      <td>존경</td>\n",
       "      <td>NNG</td>\n",
       "      <td>0.0</td>\n",
       "      <td>0.053573</td>\n",
       "    </tr>\n",
       "    <tr>\n",
       "      <th>1</th>\n",
       "      <td>1.0</td>\n",
       "      <td>하</td>\n",
       "      <td>XSV</td>\n",
       "      <td>6.0</td>\n",
       "      <td>0.053573</td>\n",
       "    </tr>\n",
       "    <tr>\n",
       "      <th>2</th>\n",
       "      <td>2.0</td>\n",
       "      <td>는</td>\n",
       "      <td>ETM</td>\n",
       "      <td>9.0</td>\n",
       "      <td>0.075712</td>\n",
       "    </tr>\n",
       "    <tr>\n",
       "      <th>3</th>\n",
       "      <td>3.0</td>\n",
       "      <td>국민</td>\n",
       "      <td>NNG</td>\n",
       "      <td>13.0</td>\n",
       "      <td>0.113873</td>\n",
       "    </tr>\n",
       "    <tr>\n",
       "      <th>4</th>\n",
       "      <td>4.0</td>\n",
       "      <td>여러분</td>\n",
       "      <td>NP</td>\n",
       "      <td>20.0</td>\n",
       "      <td>0.062886</td>\n",
       "    </tr>\n",
       "    <tr>\n",
       "      <th>...</th>\n",
       "      <td>...</td>\n",
       "      <td>...</td>\n",
       "      <td>...</td>\n",
       "      <td>...</td>\n",
       "      <td>...</td>\n",
       "    </tr>\n",
       "    <tr>\n",
       "      <th>4282</th>\n",
       "      <td>19.0</td>\n",
       "      <td>.</td>\n",
       "      <td>SF</td>\n",
       "      <td>19815.0</td>\n",
       "      <td>1.000000</td>\n",
       "    </tr>\n",
       "    <tr>\n",
       "      <th>4283</th>\n",
       "      <td>0.0</td>\n",
       "      <td>감사</td>\n",
       "      <td>NNG</td>\n",
       "      <td>19816.0</td>\n",
       "      <td>0.040890</td>\n",
       "    </tr>\n",
       "    <tr>\n",
       "      <th>4284</th>\n",
       "      <td>1.0</td>\n",
       "      <td>하</td>\n",
       "      <td>XSV</td>\n",
       "      <td>19822.0</td>\n",
       "      <td>0.028991</td>\n",
       "    </tr>\n",
       "    <tr>\n",
       "      <th>4285</th>\n",
       "      <td>2.0</td>\n",
       "      <td>ㅂ니다</td>\n",
       "      <td>EF</td>\n",
       "      <td>19822.0</td>\n",
       "      <td>0.054410</td>\n",
       "    </tr>\n",
       "    <tr>\n",
       "      <th>4286</th>\n",
       "      <td>3.0</td>\n",
       "      <td>.</td>\n",
       "      <td>SF</td>\n",
       "      <td>19831.0</td>\n",
       "      <td>1.000000</td>\n",
       "    </tr>\n",
       "  </tbody>\n",
       "</table>\n",
       "<p>4287 rows × 5 columns</p>\n",
       "</div>"
      ],
      "text/plain": [
       "        id lemma type  position    weight\n",
       "0      0.0    존경  NNG       0.0  0.053573\n",
       "1      1.0     하  XSV       6.0  0.053573\n",
       "2      2.0     는  ETM       9.0  0.075712\n",
       "3      3.0    국민  NNG      13.0  0.113873\n",
       "4      4.0   여러분   NP      20.0  0.062886\n",
       "...    ...   ...  ...       ...       ...\n",
       "4282  19.0     .   SF   19815.0  1.000000\n",
       "4283   0.0    감사  NNG   19816.0  0.040890\n",
       "4284   1.0     하  XSV   19822.0  0.028991\n",
       "4285   2.0   ㅂ니다   EF   19822.0  0.054410\n",
       "4286   3.0     .   SF   19831.0  1.000000\n",
       "\n",
       "[4287 rows x 5 columns]"
      ]
     },
     "execution_count": 72,
     "metadata": {},
     "output_type": "execute_result"
    }
   ],
   "source": [
    "### 형태소에 해당하는 값 가져오기\n",
    "json_data=json.loads(response.data)\n",
    "\n",
    "prn_data=[]\n",
    "\n",
    "for obj in json_data[\"return_object\"][\"sentence\"]:\n",
    "    for dic in obj[\"morp\"]:\n",
    "        prn_data.append(dic)\n",
    "        \n",
    "df1=pd.DataFrame(prn_data)\n",
    "df1"
   ]
  },
  {
   "cell_type": "code",
   "execution_count": 75,
   "id": "91ed24f7",
   "metadata": {
    "scrolled": false
   },
   "outputs": [],
   "source": [
    "### 워드에 해당하는 값 가져오기\n",
    "json_data=json.loads(response.data)\n",
    "\n",
    "prn_data=[]\n",
    "\n",
    "for obj in json_data[\"return_object\"][\"sentence\"]:\n",
    "    for dic in obj[\"word\"]:\n",
    "        prn_data.append(dic)\n",
    "        \n",
    "#prn_data"
   ]
  }
 ],
 "metadata": {
  "kernelspec": {
   "display_name": "Python 3",
   "language": "python",
   "name": "python3"
  },
  "language_info": {
   "codemirror_mode": {
    "name": "ipython",
    "version": 3
   },
   "file_extension": ".py",
   "mimetype": "text/x-python",
   "name": "python",
   "nbconvert_exporter": "python",
   "pygments_lexer": "ipython3",
   "version": "3.8.10"
  }
 },
 "nbformat": 4,
 "nbformat_minor": 5
}
