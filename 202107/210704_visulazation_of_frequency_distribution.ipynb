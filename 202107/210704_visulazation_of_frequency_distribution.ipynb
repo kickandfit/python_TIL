{
 "cells": [
  {
   "cell_type": "code",
   "execution_count": 13,
   "id": "033f0f98",
   "metadata": {},
   "outputs": [
    {
     "data": {
      "text/html": [
       "<div>\n",
       "<style scoped>\n",
       "    .dataframe tbody tr th:only-of-type {\n",
       "        vertical-align: middle;\n",
       "    }\n",
       "\n",
       "    .dataframe tbody tr th {\n",
       "        vertical-align: top;\n",
       "    }\n",
       "\n",
       "    .dataframe thead th {\n",
       "        text-align: right;\n",
       "    }\n",
       "</style>\n",
       "<table border=\"1\" class=\"dataframe\">\n",
       "  <thead>\n",
       "    <tr style=\"text-align: right;\">\n",
       "      <th></th>\n",
       "      <th>성별</th>\n",
       "      <th>연령</th>\n",
       "      <th>키</th>\n",
       "      <th>몸무게학업성적</th>\n",
       "      <th>경제상태</th>\n",
       "      <th>건강인지</th>\n",
       "      <th>운동일수</th>\n",
       "      <th>스트레스인지</th>\n",
       "      <th>피로회복정도</th>\n",
       "      <th>음주경험</th>\n",
       "      <th>흡연경험</th>\n",
       "      <th>주중_인터넷이용시간</th>\n",
       "      <th>주말_인터넷이용시간</th>\n",
       "    </tr>\n",
       "  </thead>\n",
       "  <tbody>\n",
       "    <tr>\n",
       "      <th>0</th>\n",
       "      <td>2.0</td>\n",
       "      <td>13.0</td>\n",
       "      <td>154.0</td>\n",
       "      <td>50.0</td>\n",
       "      <td>2.0</td>\n",
       "      <td>2.0</td>\n",
       "      <td>1.0</td>\n",
       "      <td>4.0</td>\n",
       "      <td>4.0</td>\n",
       "      <td>1.0</td>\n",
       "      <td>1.0</td>\n",
       "      <td>120.0</td>\n",
       "      <td>180.0</td>\n",
       "    </tr>\n",
       "    <tr>\n",
       "      <th>1</th>\n",
       "      <td>2.0</td>\n",
       "      <td>12.0</td>\n",
       "      <td>161.0</td>\n",
       "      <td>47.0</td>\n",
       "      <td>1.0</td>\n",
       "      <td>1.0</td>\n",
       "      <td>1.0</td>\n",
       "      <td>6.0</td>\n",
       "      <td>2.0</td>\n",
       "      <td>1.0</td>\n",
       "      <td>1.0</td>\n",
       "      <td>120.0</td>\n",
       "      <td>60.0</td>\n",
       "    </tr>\n",
       "    <tr>\n",
       "      <th>2</th>\n",
       "      <td>2.0</td>\n",
       "      <td>13.0</td>\n",
       "      <td>161.0</td>\n",
       "      <td>44.3</td>\n",
       "      <td>2.0</td>\n",
       "      <td>2.0</td>\n",
       "      <td>2.0</td>\n",
       "      <td>5.0</td>\n",
       "      <td>3.0</td>\n",
       "      <td>1.0</td>\n",
       "      <td>1.0</td>\n",
       "      <td>120.0</td>\n",
       "      <td>180.0</td>\n",
       "    </tr>\n",
       "    <tr>\n",
       "      <th>3</th>\n",
       "      <td>2.0</td>\n",
       "      <td>13.0</td>\n",
       "      <td>163.7</td>\n",
       "      <td>52.0</td>\n",
       "      <td>1.0</td>\n",
       "      <td>2.0</td>\n",
       "      <td>1.0</td>\n",
       "      <td>8.0</td>\n",
       "      <td>3.0</td>\n",
       "      <td>2.0</td>\n",
       "      <td>1.0</td>\n",
       "      <td>0.0</td>\n",
       "      <td>0.0</td>\n",
       "    </tr>\n",
       "    <tr>\n",
       "      <th>4</th>\n",
       "      <td>2.0</td>\n",
       "      <td>13.0</td>\n",
       "      <td>156.0</td>\n",
       "      <td>44.0</td>\n",
       "      <td>3.0</td>\n",
       "      <td>2.0</td>\n",
       "      <td>1.0</td>\n",
       "      <td>8.0</td>\n",
       "      <td>2.0</td>\n",
       "      <td>1.0</td>\n",
       "      <td>1.0</td>\n",
       "      <td>20.0</td>\n",
       "      <td>0.0</td>\n",
       "    </tr>\n",
       "    <tr>\n",
       "      <th>...</th>\n",
       "      <td>...</td>\n",
       "      <td>...</td>\n",
       "      <td>...</td>\n",
       "      <td>...</td>\n",
       "      <td>...</td>\n",
       "      <td>...</td>\n",
       "      <td>...</td>\n",
       "      <td>...</td>\n",
       "      <td>...</td>\n",
       "      <td>...</td>\n",
       "      <td>...</td>\n",
       "      <td>...</td>\n",
       "      <td>...</td>\n",
       "    </tr>\n",
       "    <tr>\n",
       "      <th>55743</th>\n",
       "      <td>1.0</td>\n",
       "      <td>18.0</td>\n",
       "      <td>170.1</td>\n",
       "      <td>73.0</td>\n",
       "      <td>4.0</td>\n",
       "      <td>5.0</td>\n",
       "      <td>2.0</td>\n",
       "      <td>4.0</td>\n",
       "      <td>3.0</td>\n",
       "      <td>1.0</td>\n",
       "      <td>1.0</td>\n",
       "      <td>0.0</td>\n",
       "      <td>0.0</td>\n",
       "    </tr>\n",
       "    <tr>\n",
       "      <th>55744</th>\n",
       "      <td>1.0</td>\n",
       "      <td>18.0</td>\n",
       "      <td>171.0</td>\n",
       "      <td>75.0</td>\n",
       "      <td>2.0</td>\n",
       "      <td>2.0</td>\n",
       "      <td>1.0</td>\n",
       "      <td>4.0</td>\n",
       "      <td>1.0</td>\n",
       "      <td>1.0</td>\n",
       "      <td>1.0</td>\n",
       "      <td>70.0</td>\n",
       "      <td>200.0</td>\n",
       "    </tr>\n",
       "    <tr>\n",
       "      <th>55745</th>\n",
       "      <td>2.0</td>\n",
       "      <td>18.0</td>\n",
       "      <td>159.0</td>\n",
       "      <td>50.0</td>\n",
       "      <td>2.0</td>\n",
       "      <td>4.0</td>\n",
       "      <td>4.0</td>\n",
       "      <td>1.0</td>\n",
       "      <td>5.0</td>\n",
       "      <td>2.0</td>\n",
       "      <td>1.0</td>\n",
       "      <td>0.0</td>\n",
       "      <td>0.0</td>\n",
       "    </tr>\n",
       "    <tr>\n",
       "      <th>55746</th>\n",
       "      <td>2.0</td>\n",
       "      <td>18.0</td>\n",
       "      <td>153.7</td>\n",
       "      <td>63.0</td>\n",
       "      <td>3.0</td>\n",
       "      <td>2.0</td>\n",
       "      <td>3.0</td>\n",
       "      <td>3.0</td>\n",
       "      <td>3.0</td>\n",
       "      <td>1.0</td>\n",
       "      <td>1.0</td>\n",
       "      <td>130.0</td>\n",
       "      <td>80.0</td>\n",
       "    </tr>\n",
       "    <tr>\n",
       "      <th>55747</th>\n",
       "      <td>1.0</td>\n",
       "      <td>17.0</td>\n",
       "      <td>172.0</td>\n",
       "      <td>63.0</td>\n",
       "      <td>4.0</td>\n",
       "      <td>2.0</td>\n",
       "      <td>3.0</td>\n",
       "      <td>8.0</td>\n",
       "      <td>2.0</td>\n",
       "      <td>2.0</td>\n",
       "      <td>2.0</td>\n",
       "      <td>0.0</td>\n",
       "      <td>0.0</td>\n",
       "    </tr>\n",
       "  </tbody>\n",
       "</table>\n",
       "<p>55748 rows × 13 columns</p>\n",
       "</div>"
      ],
      "text/plain": [
       "        성별    연령      키  몸무게학업성적  경제상태  건강인지  운동일수  스트레스인지  피로회복정도  음주경험  \\\n",
       "0      2.0  13.0  154.0     50.0   2.0   2.0   1.0     4.0     4.0   1.0   \n",
       "1      2.0  12.0  161.0     47.0   1.0   1.0   1.0     6.0     2.0   1.0   \n",
       "2      2.0  13.0  161.0     44.3   2.0   2.0   2.0     5.0     3.0   1.0   \n",
       "3      2.0  13.0  163.7     52.0   1.0   2.0   1.0     8.0     3.0   2.0   \n",
       "4      2.0  13.0  156.0     44.0   3.0   2.0   1.0     8.0     2.0   1.0   \n",
       "...    ...   ...    ...      ...   ...   ...   ...     ...     ...   ...   \n",
       "55743  1.0  18.0  170.1     73.0   4.0   5.0   2.0     4.0     3.0   1.0   \n",
       "55744  1.0  18.0  171.0     75.0   2.0   2.0   1.0     4.0     1.0   1.0   \n",
       "55745  2.0  18.0  159.0     50.0   2.0   4.0   4.0     1.0     5.0   2.0   \n",
       "55746  2.0  18.0  153.7     63.0   3.0   2.0   3.0     3.0     3.0   1.0   \n",
       "55747  1.0  17.0  172.0     63.0   4.0   2.0   3.0     8.0     2.0   2.0   \n",
       "\n",
       "       흡연경험  주중_인터넷이용시간  주말_인터넷이용시간  \n",
       "0       1.0       120.0       180.0  \n",
       "1       1.0       120.0        60.0  \n",
       "2       1.0       120.0       180.0  \n",
       "3       1.0         0.0         0.0  \n",
       "4       1.0        20.0         0.0  \n",
       "...     ...         ...         ...  \n",
       "55743   1.0         0.0         0.0  \n",
       "55744   1.0        70.0       200.0  \n",
       "55745   1.0         0.0         0.0  \n",
       "55746   1.0       130.0        80.0  \n",
       "55747   2.0         0.0         0.0  \n",
       "\n",
       "[55748 rows x 13 columns]"
      ]
     },
     "execution_count": 13,
     "metadata": {},
     "output_type": "execute_result"
    }
   ],
   "source": [
    "import pandas as pd\n",
    "import numpy as np\n",
    "import matplotlib.pyplot as plt\n",
    "import matplotlib.font_manager as fm\n",
    "\n",
    "font_path = \"C:/Windows/Fonts/malgun.ttf\" \n",
    "font_name = fm.FontProperties(fname=font_path).get_name()\n",
    "plt.rc('font', family=font_name) \n",
    "Rawdata = pd.read_csv('./Data/Data_for_study.csv')\n",
    "\n",
    "\n",
    "Rawdata"
   ]
  },
  {
   "cell_type": "code",
   "execution_count": 15,
   "id": "476f692a",
   "metadata": {},
   "outputs": [
    {
     "data": {
      "image/png": "[encoded data removed]",
      "text/plain": [
       "<Figure size 432x288 with 1 Axes>"
      ]
     },
     "metadata": {
      "needs_background": "light"
     },
     "output_type": "display_data"
    }
   ],
   "source": [
    "# 히스토그램 그리기\n",
    "plt.hist(Rawdata.건강인지.to_numpy(), bins=9)\n",
    "# x축 ticks 지정\n",
    "\n",
    "plt.xticks(np.arange(1,6), labels=[\"매우 좋음\", \"좋음\", \"보통\", \"나쁨\", \"매우 나쁨\"])\n",
    "plt.tick_params(axis=\"x\", direction=\"in\", labelsize = 12, pad = 20)\n",
    "\n",
    "# title, xlabel, ylabel 지정\n",
    "plt.title(\"건강인지 히스토그램\", fontsize = 30, pad = 30)\n",
    "plt.xlabel('건강인지', fontsize = 20, loc = 'center', labelpad = 20)\n",
    "plt.ylabel('도수', fontsize = 20, rotation = 0, loc = 'center', labelpad = 20)\n",
    "plt.show()"
   ]
  },
  {
   "cell_type": "code",
   "execution_count": 16,
   "id": "8e142551",
   "metadata": {},
   "outputs": [
    {
     "data": {
      "image/png": "[encoded data removed]",
      "text/plain": [
       "<Figure size 432x288 with 1 Axes>"
      ]
     },
     "metadata": {
      "needs_background": "light"
     },
     "output_type": "display_data"
    }
   ],
   "source": [
    "# 히스토그램 그리기, 비율로 그리기\n",
    "plt.hist(Rawdata.건강인지.to_numpy(), bins=9, density = True)\n",
    "# x축 ticks 지정\n",
    "\n",
    "plt.xticks(np.arange(1,6), labels=[\"매우 좋음\", \"좋음\", \"보통\", \"나쁨\", \"매우 나쁨\"])\n",
    "plt.tick_params(axis=\"x\", direction=\"in\", labelsize = 12, pad = 20)\n",
    "\n",
    "# title, xlabel, ylabel 지정\n",
    "plt.title(\"건강인지 히스토그램\", fontsize = 30, pad = 30)\n",
    "plt.xlabel('건강인지', fontsize = 20, loc = 'center', labelpad = 20)\n",
    "plt.ylabel('도수', fontsize = 20, rotation = 0, loc = 'center', labelpad = 20)\n",
    "plt.show()"
   ]
  },
  {
   "cell_type": "code",
   "execution_count": 17,
   "id": "b0bf6cc7",
   "metadata": {},
   "outputs": [
    {
     "data": {
      "text/plain": [
       "array([2., 1., 2., ..., 4., 2., 2.])"
      ]
     },
     "execution_count": 17,
     "metadata": {},
     "output_type": "execute_result"
    }
   ],
   "source": [
    "Rawdata.건강인지.to_numpy()"
   ]
  },
  {
   "cell_type": "code",
   "execution_count": 25,
   "id": "321a3898",
   "metadata": {},
   "outputs": [
    {
     "data": {
      "image/png": "[encoded data removed]",
      "text/plain": [
       "<Figure size 432x288 with 1 Axes>"
      ]
     },
     "metadata": {
      "needs_background": "light"
     },
     "output_type": "display_data"
    }
   ],
   "source": [
    "#실제 정의에 맞게 그려보기\n",
    "건강인지 = Rawdata.건강인지.to_numpy()\n",
    "건강인지 = np.where(건강인지==1, \"매우좋음\",\n",
    "               np.where(건강인지==2,\"좋음\",\n",
    "               np.where(건강인지==3,\"보통\",\n",
    "               np.where(건강인지==4,\"나쁨\",\"매우 나쁨\"))))\n",
    "plt.hist(Rawdata.건강인지, bins = 9 , density = True)\n",
    "plt.show()"
   ]
  },
  {
   "cell_type": "code",
   "execution_count": null,
   "id": "213cf060",
   "metadata": {},
   "outputs": [],
   "source": []
  }
 ],
 "metadata": {
  "jupytext": {
   "formats": "ipynb,auto:light"
  },
  "kernelspec": {
   "display_name": "Python 3",
   "language": "python",
   "name": "python3"
  },
  "language_info": {
   "codemirror_mode": {
    "name": "ipython",
    "version": 3
   },
   "file_extension": ".py",
   "mimetype": "text/x-python",
   "name": "python",
   "nbconvert_exporter": "python",
   "pygments_lexer": "ipython3",
   "version": "3.9.4"
  }
 },
 "nbformat": 4,
 "nbformat_minor": 5
}
