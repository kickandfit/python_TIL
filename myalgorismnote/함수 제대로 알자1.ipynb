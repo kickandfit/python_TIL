{
 "cells": [
  {
   "cell_type": "markdown",
   "id": "26fb60b9",
   "metadata": {},
   "source": [
    "### 함수"
   ]
  },
  {
   "cell_type": "markdown",
   "id": "eed96a26",
   "metadata": {},
   "source": [
    "#### 함수는 객체다\n",
    "\n",
    "- 함수는 객체이기 때문에, 다른 변수에 호출이 아닌 할당할 수 있다"
   ]
  },
  {
   "cell_type": "markdown",
   "id": "08f2ab03",
   "metadata": {},
   "source": [
    "#### 함수 이름과 함수는 별개다\n",
    "\n",
    "- 즉, 함수 내용 자체를 메모리에 저장시키고, yell이라는 것으로 참조한다고 볼 수 있다.\n",
    "- 그리고 bark = yell 을 통해, bark 역시 함수를 가리키도록한다.\n",
    "- 이후, yell라는 변수를 메모리에서 지우더라도, bark가 함수를 참조하고 있기 때문에 함수는 살아있다.\n",
    "- 그리고 그 함수의 이름은 yell이다"
   ]
  },
  {
   "cell_type": "code",
   "execution_count": 14,
   "id": "038c9f34",
   "metadata": {},
   "outputs": [
    {
     "name": "stdout",
     "output_type": "stream",
     "text": [
      "WOLF!\n",
      "1601943263552\n",
      "1601943263552\n",
      "yell\n"
     ]
    }
   ],
   "source": [
    "# 메모리를 할당해 bark가 yell을 가리키도록 함\n",
    "#string.upper() : 모든 string을 대문자로 변환\n",
    "def yell(text):\n",
    "    return text.upper()+'!'\n",
    "yell('hello')\n",
    "bark = yell\n",
    "\n",
    "print(bark('wolf'))\n",
    "print(id(bark))\n",
    "print(id(yell))\n",
    "del yell\n",
    "bark('what')\n",
    "\n",
    "# 함수를 가르키는 변수와 함수 자체는 실제 별개의 대상이다\n",
    "\n",
    "# 즉 함수를 생성하면 yell이라는 함수가 생성되 그 함수를 가리키는 변수 역시 yell 이라 한 것\n",
    "print(bark.__name__)"
   ]
  },
  {
   "cell_type": "markdown",
   "id": "acacf13a",
   "metadata": {},
   "source": [
    "####  함수는 데이터 구조에 저장할 수 있다."
   ]
  },
  {
   "cell_type": "code",
   "execution_count": 20,
   "id": "4ec91296",
   "metadata": {},
   "outputs": [
    {
     "data": {
      "text/plain": [
       "[<function __main__.yell(text)>,\n",
       " <method 'lower' of 'str' objects>,\n",
       " <method 'capitalize' of 'str' objects>]"
      ]
     },
     "execution_count": 20,
     "metadata": {},
     "output_type": "execute_result"
    }
   ],
   "source": [
    "funcs = [bark, str.lower, str.capitalize]\n",
    "funcs"
   ]
  },
  {
   "cell_type": "code",
   "execution_count": 17,
   "id": "bf69b938",
   "metadata": {},
   "outputs": [
    {
     "name": "stdout",
     "output_type": "stream",
     "text": [
      "<function yell at 0x00000174FB425940> HEY THERE!\n",
      "<method 'lower' of 'str' objects> hey there\n",
      "<method 'capitalize' of 'str' objects> Hey there\n"
     ]
    }
   ],
   "source": [
    "for f in funcs:\n",
    "    print(f, f('hey there'))"
   ]
  },
  {
   "cell_type": "code",
   "execution_count": 22,
   "id": "b704ee65",
   "metadata": {},
   "outputs": [
    {
     "data": {
      "text/plain": [
       "'HEYHO!'"
      ]
     },
     "execution_count": 22,
     "metadata": {},
     "output_type": "execute_result"
    }
   ],
   "source": [
    "# 그러니까 이름을 불러오고, 그에 맞는 텍스트를 넣어주는 것.\n",
    "# 호출하는 방식이 함수 이름을 불러오고 그다음 함수 그 자체를 불러오는 방식\n",
    "funcs[0]('heyho')"
   ]
  },
  {
   "cell_type": "markdown",
   "id": "4852084f",
   "metadata": {},
   "source": [
    "#### 함수는 다른 함수로 전달할 수 있다\n",
    "\n",
    "- 이거 매우 중요한 것 같은데..\n",
    "- 함수를 다른 함수의 인자로 줄 수 있다는 건 진짜 재미있네\n",
    "- 함수를 인자로 받을 수 있는 함수를 고차 함수라고 하며 함수형 프로그래밍 스타일에서 필요\n"
   ]
  },
  {
   "cell_type": "code",
   "execution_count": 26,
   "id": "9edad43c",
   "metadata": {},
   "outputs": [
    {
     "name": "stdout",
     "output_type": "stream",
     "text": [
      "<function yell at 0x00000174FB425940> HI, I AM A PYTHON PROGRAM!\n",
      "<method 'lower' of 'str' objects> hi, i am a python program\n",
      "<method 'capitalize' of 'str' objects> Hi, i am a python program\n"
     ]
    }
   ],
   "source": [
    "def greet(func):\n",
    "    greeting = func('Hi, I am a Python program')\n",
    "    print(greeting)\n",
    "\n",
    "for i in funcs:\n",
    "    print(i, end = ' ')\n",
    "    greet(i)"
   ]
  },
  {
   "cell_type": "code",
   "execution_count": 27,
   "id": "4fb3285e",
   "metadata": {},
   "outputs": [
    {
     "name": "stdout",
     "output_type": "stream",
     "text": [
      "hi, i am a python program...\n"
     ]
    }
   ],
   "source": [
    "def whisper(text):\n",
    "    return text.lower() + '...'\n",
    "\n",
    "greet(whisper)"
   ]
  },
  {
   "cell_type": "code",
   "execution_count": 28,
   "id": "57794364",
   "metadata": {},
   "outputs": [
    {
     "data": {
      "text/plain": [
       "['HELLO!', 'HI!', 'HEY!']"
      ]
     },
     "execution_count": 28,
     "metadata": {},
     "output_type": "execute_result"
    }
   ],
   "source": [
    "list(map(funcs[0], ['hello', 'hi', 'hey']))"
   ]
  },
  {
   "cell_type": "markdown",
   "id": "ebfa8e80",
   "metadata": {},
   "source": [
    "#### 함수는 중첩될 수 있다\n",
    "- 중첩함수 내부함수 라고도 함\n",
    "- 함수 밖( 즉, speak 함수 밖) 에서 whisper() 은 존재하지 않음"
   ]
  },
  {
   "cell_type": "code",
   "execution_count": 29,
   "id": "a6311e14",
   "metadata": {},
   "outputs": [
    {
     "data": {
      "text/plain": [
       "'hello, world.....'"
      ]
     },
     "execution_count": 29,
     "metadata": {},
     "output_type": "execute_result"
    }
   ],
   "source": [
    "def speak(text):\n",
    "    def whisper(t):\n",
    "        return t.lower() + \".....\"\n",
    "    return whisper(text)\n",
    "speak('Hello, World')"
   ]
  },
  {
   "cell_type": "code",
   "execution_count": 30,
   "id": "4909d079",
   "metadata": {},
   "outputs": [
    {
     "ename": "NameError",
     "evalue": "name 'yo' is not defined",
     "output_type": "error",
     "traceback": [
      "\u001b[1;31m---------------------------------------------------------------------------\u001b[0m",
      "\u001b[1;31mNameError\u001b[0m                                 Traceback (most recent call last)",
      "\u001b[1;32m<ipython-input-30-09f54576e0ac>\u001b[0m in \u001b[0;36m<module>\u001b[1;34m\u001b[0m\n\u001b[0;32m      1\u001b[0m \u001b[1;31m# 함수가 내부에서만 존재함을 보여주는 예시\u001b[0m\u001b[1;33m\u001b[0m\u001b[1;33m\u001b[0m\u001b[1;33m\u001b[0m\u001b[0m\n\u001b[1;32m----> 2\u001b[1;33m \u001b[0mwhisper\u001b[0m\u001b[1;33m(\u001b[0m\u001b[0myo\u001b[0m\u001b[1;33m)\u001b[0m\u001b[1;33m\u001b[0m\u001b[1;33m\u001b[0m\u001b[0m\n\u001b[0m",
      "\u001b[1;31mNameError\u001b[0m: name 'yo' is not defined"
     ]
    }
   ],
   "source": [
    "# 함수가 내부에서만 존재함을 보여주는 예시1\n",
    "print(whisper(yo))"
   ]
  },
  {
   "cell_type": "code",
   "execution_count": 31,
   "id": "56a18faa",
   "metadata": {},
   "outputs": [
    {
     "ename": "AttributeError",
     "evalue": "'function' object has no attribute 'whisper'",
     "output_type": "error",
     "traceback": [
      "\u001b[1;31m---------------------------------------------------------------------------\u001b[0m",
      "\u001b[1;31mAttributeError\u001b[0m                            Traceback (most recent call last)",
      "\u001b[1;32m<ipython-input-31-6fa94e9bcfd8>\u001b[0m in \u001b[0;36m<module>\u001b[1;34m\u001b[0m\n\u001b[0;32m      1\u001b[0m \u001b[1;31m# 함수가 내부에서만 존재함을 보여주는 예시1\u001b[0m\u001b[1;33m\u001b[0m\u001b[1;33m\u001b[0m\u001b[1;33m\u001b[0m\u001b[0m\n\u001b[1;32m----> 2\u001b[1;33m \u001b[0mspeak\u001b[0m\u001b[1;33m.\u001b[0m\u001b[0mwhisper\u001b[0m\u001b[1;33m\u001b[0m\u001b[1;33m\u001b[0m\u001b[0m\n\u001b[0m",
      "\u001b[1;31mAttributeError\u001b[0m: 'function' object has no attribute 'whisper'"
     ]
    }
   ],
   "source": [
    "# 함수가 내부에서만 존재함을 보여주는 예시1\n",
    "speak.whisper"
   ]
  },
  {
   "cell_type": "markdown",
   "id": "1f2b4794",
   "metadata": {},
   "source": [
    "##### 함수 내부에 함수를 사용하고 호출 받는 방법\n",
    "\n",
    "- 함수 내부에 함수를 짬\n",
    "- return 받을 때 함수 name을 받고 yell()의 yell( return yell )\n",
    "- 외부에서 변수에 함수 이름을 통해 같은 메모리를 가르치게 만든 후\n",
    "- 참조하여 사용한다"
   ]
  },
  {
   "cell_type": "code",
   "execution_count": 36,
   "id": "353890bb",
   "metadata": {},
   "outputs": [
    {
     "name": "stdout",
     "output_type": "stream",
     "text": [
      "<function get_speak_fuc.<locals>.whisper at 0x00000174FB425310>\n",
      "\n",
      "<function get_speak_fuc.<locals>.yell at 0x00000174FB425AF0>\n",
      "\n",
      "HELLO!\n"
     ]
    }
   ],
   "source": [
    "def get_speak_fuc(volume):\n",
    "    def whisper(text):\n",
    "        return text.lower()+'......'\n",
    "    def yell(text):\n",
    "        return text.upper() + '!'\n",
    "    if volume > 0.5:\n",
    "        return yell\n",
    "    else : \n",
    "        return whisper\n",
    "print(get_speak_fuc(0.3))    \n",
    "print()\n",
    "print(get_speak_fuc(0.7))\n",
    "print()\n",
    "\n",
    "speak_fuc = get_speak_fuc(0.7)\n",
    "print(speak_fuc('hello'))\n"
   ]
  },
  {
   "cell_type": "markdown",
   "id": "b30479e9",
   "metadata": {},
   "source": [
    "##### lexical closure ( 렉시컬 클로저 혹은 클로저 )\n",
    "\n",
    "- text 라는 매가 변수가 없어졌음.\n",
    "- 그러나 부모 함수에서 정의된 text 매개 변수에 접근 할 수 있음\n",
    "- 클로저는 프로그램 흐름이 더 이상 해당 범위에 있지 않은 경우에도 둘러짠 어휘 범위 안의 값들을 기억함"
   ]
  },
  {
   "cell_type": "code",
   "execution_count": 43,
   "id": "5f152a10",
   "metadata": {},
   "outputs": [
    {
     "data": {
      "text/plain": [
       "'HELLO, WORLD!!'"
      ]
     },
     "execution_count": 43,
     "metadata": {},
     "output_type": "execute_result"
    }
   ],
   "source": [
    "# 예시 1\n",
    "def get_speak_fuc1(text, volume):\n",
    "    def whisper():\n",
    "        return text.lower() + '.......'\n",
    "    def yell ():\n",
    "        return text.upper() + '!!'\n",
    "    \n",
    "    if volume >0.5:\n",
    "        return yell\n",
    "    else:\n",
    "        return whisper\n",
    "    \n",
    "get_speak_fuc1('hello, world', 0.7)()"
   ]
  },
  {
   "cell_type": "code",
   "execution_count": 45,
   "id": "adbebc7b",
   "metadata": {},
   "outputs": [
    {
     "name": "stdout",
     "output_type": "stream",
     "text": [
      "7\n",
      "9\n"
     ]
    }
   ],
   "source": [
    "# 예시 2\n",
    "def make_adder(n):\n",
    "    def add(x):\n",
    "        return x + n\n",
    "    return add\n",
    "\n",
    "plus_3 = make_adder(3)\n",
    "plus_5 = make_adder(5)\n",
    "\n",
    "print(plus_3(4))\n",
    "print(plus_5(4))"
   ]
  },
  {
   "cell_type": "markdown",
   "id": "c7a89915",
   "metadata": {},
   "source": [
    "####  객체는 함수처럼 동작할 수 있다\n",
    "\n",
    "- 모든 함수는 파이썬에서 객체이다 그러나 모든 객체는 함수는 아니다\n",
    "- 그러나 모든 객체를 호출 가능하게 만들 수 있다\n",
    "- 따라서 객체를 '함수처럼 취급'할 수 있다\n",
    "\n",
    "==============================================\n",
    "\n",
    "- 객체가 호출 가능하다는 것의 의미\n",
    "    - 소 괄호 형식의 함수 호출 문법을 사용하고 인자를 전달할 수 있음을 의미\n",
    "    - 이 기능은 모두 __call__ 던더 메서드로 구동"
   ]
  },
  {
   "cell_type": "code",
   "execution_count": 47,
   "id": "d6edb29f",
   "metadata": {},
   "outputs": [
    {
     "data": {
      "text/plain": [
       "8"
      ]
     },
     "execution_count": 47,
     "metadata": {},
     "output_type": "execute_result"
    }
   ],
   "source": [
    "# 호출 가능한 객체를 정의하는 클래스\n",
    "\n",
    "class Adder:\n",
    "    def __init__ (self, n):\n",
    "        self.n = n\n",
    "    def __call__(self, x):\n",
    "        return self.n + x\n",
    "\n",
    "plus_3 = Adder(3) # n에 3을 주고 인스턴스 생성\n",
    "plus_3(5) # 객체를 함수처럼 호출하면 __call__메서드가 실행되고 ( 5 )를 x에 전달하게됨"
   ]
  },
  {
   "cell_type": "markdown",
   "id": "00bccb2e",
   "metadata": {},
   "source": [
    "#### keypoint( 함수는 객체 )\n",
    "\n",
    "    1. 파이썬에는 모든 게 객체이며 함수 역시 객체이다.\n",
    "        \n",
    "        일급 함수\n",
    "        \n",
    "        - 함수를 변수에 할당 가능\n",
    "        - 데이터 구조에 저장 가능 ( 리스트와 같은 구조 )\n",
    "        - 다른 함수로 전달 가능 ( 즉 함수를 인자로 받을 수 있음)\n",
    "        - 다른 함수로부터 반환 받는 것 가능\n",
    "        \n",
    "    2. 일급 함수를 사용하면 프로그램의 동작을 추상화해 전달 가능\n",
    "    \n",
    "    3. 함수는 중첩될 수 있으며, 부모 함수의 일부 상태를 포착하여 전달할 수 있음. 이를 클로저라함\n",
    "    \n",
    "    4. 객체를 호출 가능하게 만들 수 있음. 이 경우 객체를 함수처럼 취급할 수 있음\n",
    " \n"
   ]
  },
  {
   "cell_type": "markdown",
   "id": "c7048ad8",
   "metadata": {},
   "source": [
    "#### 람다는 단일 표현식 함수다\n",
    "\n",
    "- lambda 키워드는 작은 익명의 함수를 선언하기 위한 손쉬운 방법\n",
    "- 람다 함수는 def 키워드로 선언된 일반 함수처럼 작동하며 함수 객체가 필요할 때마다 사용 가능\n",
    "- 람다 함수는 명령문 이나 주석을 사용할 수 없으며 return 문도 사용할 수 없다"
   ]
  },
  {
   "cell_type": "code",
   "execution_count": 48,
   "id": "bca81446",
   "metadata": {},
   "outputs": [
    {
     "data": {
      "text/plain": [
       "8"
      ]
     },
     "execution_count": 48,
     "metadata": {},
     "output_type": "execute_result"
    }
   ],
   "source": [
    "#lambda 함수 활용 사례\n",
    "# 앞 인자 두개 받아서 x+y를 return 받아라\n",
    "add = lambda x,y : x+y\n",
    "add (5,3)\n",
    "\n",
    "# def add (x,y):\n",
    "#     return x+y # 위의 식과 같은 내용"
   ]
  },
  {
   "cell_type": "code",
   "execution_count": 50,
   "id": "18c05be9",
   "metadata": {},
   "outputs": [
    {
     "data": {
      "text/plain": [
       "8"
      ]
     },
     "execution_count": 50,
     "metadata": {},
     "output_type": "execute_result"
    }
   ],
   "source": [
    "# 함수 이름을 바인딩할 필요가 없음\n",
    "# 람다의 일부로 계산하고자 하는 표현을 말한 다음, 람다 표현식을 일반 함수처럼 호출하여 즉시 평가\n",
    "\n",
    "(lambda x,y:x+y)(3,5)"
   ]
  },
  {
   "cell_type": "markdown",
   "id": "7f6bc13b",
   "metadata": {},
   "source": [
    "#### 람다를 사용할 수 있는 경우\n",
    "\n",
    "\n",
    "- 기술적으로 함수 객체를 제공해야 할 때마다 람다 표현식을 사용할 수 있음.\n",
    "- 람다는 익명이기 때문에 제일 먼저 이름을 부여할 필요가 없음\n",
    "- 람다는 함수를 정의하는데 편리하고 '비격식적인' 지름길을 제공\n",
    "\n",
    "    - 대표적 사례로 대체 키로 리스트를 정렬하기 위한 짧고 간결한 key 함수를 작성하는 것\n",
    "    "
   ]
  },
  {
   "cell_type": "code",
   "execution_count": 51,
   "id": "381c6a30",
   "metadata": {},
   "outputs": [
    {
     "data": {
      "text/plain": [
       "[(4, 'a'), (2, 'b'), (3, 'c'), (1, 'd')]"
      ]
     },
     "execution_count": 51,
     "metadata": {},
     "output_type": "execute_result"
    }
   ],
   "source": [
    "# key 함수 작성\n",
    "tuples = [(1, 'd'), (2, 'b'), (4, 'a'),(3,'c')]\n",
    "sorted(tuples, key = lambda x : x[1])"
   ]
  },
  {
   "cell_type": "code",
   "execution_count": 52,
   "id": "de4b8458",
   "metadata": {},
   "outputs": [
    {
     "data": {
      "text/plain": [
       "[0, -1, 1, -2, 2, -3, 3, -4, 4, -5, 5]"
      ]
     },
     "execution_count": 52,
     "metadata": {},
     "output_type": "execute_result"
    }
   ],
   "source": [
    "# 너는 뭐냐 도대체\n",
    "# key 함수는 정렬의 기준을 제시해주는 함수구나!!\n",
    "\n",
    "sorted(range(-5,6), key= lambda x : x*x)"
   ]
  },
  {
   "cell_type": "code",
   "execution_count": 57,
   "id": "d69903f3",
   "metadata": {},
   "outputs": [
    {
     "name": "stdout",
     "output_type": "stream",
     "text": [
      "13 24 12 2\n"
     ]
    }
   ],
   "source": [
    "# 렉시컬 클로저 로써의 람다 함수 사용\n",
    "# 프로그램 흐름이 해당 범위를 벗어났을 때도 해당 어휘 범위의 값을 기억하는 함수를 칭함\n",
    "\n",
    "def make_adder(n):\n",
    "    return lambda x : x+n\n",
    "\n",
    "# 위를 풀어 쓰면 아래와 같음\n",
    "# 즉 람다 x에 인자를 주기 위해서는 ()에 값을 넣어줘야함\n",
    "def m(n):\n",
    "    def a(x):\n",
    "        return x+n\n",
    "    return a\n",
    "\n",
    "\n",
    "plus_3 = make_adder(3)\n",
    "plus_4 = make_adder(4)\n",
    "\n",
    "plus_2 = m(2)\n",
    "plus_1 = m(1)\n",
    "print(plus_3(10), plus_4(20), plus_2(10), plus_1(1))"
   ]
  },
  {
   "cell_type": "markdown",
   "id": "92d1ba49",
   "metadata": {},
   "source": [
    "#### 람다 함수를 자제해야 하는 경우\n",
    "\n",
    "- 람다 함수는 자주 사용하지 말아야하고 사용할 때 특별한 주의가 필요함\n",
    "- 람다를 사용한 복잡한 map() 이나 filter() 는 혼란 스러움을 가중시킬 수 있음\n",
    "- 리스트 컴프리핸션이나 제너레이터 표현식을 사용하는 것이 깔끔함"
   ]
  },
  {
   "cell_type": "code",
   "execution_count": 59,
   "id": "66a14ed2",
   "metadata": {
    "lines_to_next_cell": 2
   },
   "outputs": [
    {
     "name": "stdout",
     "output_type": "stream",
     "text": [
      "Boom!\n",
      "Wroom!\n",
      "None None\n"
     ]
    }
   ],
   "source": [
    "# 나쁜 코드\n",
    "class Car:\n",
    "    rev = lambda self : print('Wroom!')\n",
    "    crash = lambda self : print('Boom!')\n",
    "    \n",
    "my_car = Car()\n",
    "print(my_car.crash(), my_car.rev())\n"
   ]
  },
  {
   "cell_type": "code",
   "execution_count": 73,
   "id": "726c452c",
   "metadata": {},
   "outputs": [],
   "source": [
    "# 아직 클래스를 잘 모르겠당"
   ]
  },
  {
   "cell_type": "code",
   "execution_count": 60,
   "id": "8c47a6d6",
   "metadata": {},
   "outputs": [
    {
     "data": {
      "text/plain": [
       "[0, 2, 4, 6, 8, 10, 12, 14]"
      ]
     },
     "execution_count": 60,
     "metadata": {},
     "output_type": "execute_result"
    }
   ],
   "source": [
    "# 나쁜 코드\n",
    "\n",
    "list(filter(lambda x:x%2 == 0, range(16)))"
   ]
  },
  {
   "cell_type": "code",
   "execution_count": 61,
   "id": "6a26a2f1",
   "metadata": {},
   "outputs": [
    {
     "data": {
      "text/plain": [
       "[0, 2, 4, 6, 8, 10, 12, 14]"
      ]
     },
     "execution_count": 61,
     "metadata": {},
     "output_type": "execute_result"
    }
   ],
   "source": [
    "# 좋은 코드\n",
    "[x for x in range(16) if x % 2 == 0]"
   ]
  },
  {
   "cell_type": "markdown",
   "id": "64a27d5c",
   "metadata": {},
   "source": [
    "#### keypoint( 람다 함수 )\n",
    "\n",
    "    1. 람다 함수는 이름에 묶이지 않는(익명) 단일 표현식 함수\n",
    "    \n",
    "    2. 람다 함수는 일반적인 파이썬 문을 사용할 수 없고, 항상 암시적 return 문을 포함함\n",
    "    \n",
    "    3. 일반( 이름 지어진 ) 함수 또는 리스트 내포식을 사용하면 더 명확하게 되는가? 명확하게 표현 할 수 있다면,\n",
    "    람다 사용을 자제해라"
   ]
  },
  {
   "cell_type": "code",
   "execution_count": null,
   "id": "59be9d5b",
   "metadata": {},
   "outputs": [],
   "source": []
  }
 ],
 "metadata": {
  "jupytext": {
   "encoding": "# -*- coding: utf-8 -*-",
   "formats": "ipynb,py:light"
  },
  "kernelspec": {
   "display_name": "Python 3",
   "language": "python",
   "name": "python3"
  },
  "language_info": {
   "codemirror_mode": {
    "name": "ipython",
    "version": 3
   },
   "file_extension": ".py",
   "mimetype": "text/x-python",
   "name": "python",
   "nbconvert_exporter": "python",
   "pygments_lexer": "ipython3",
   "version": "3.8.10"
  }
 },
 "nbformat": 4,
 "nbformat_minor": 5
}
