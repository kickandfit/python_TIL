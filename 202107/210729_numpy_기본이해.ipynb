{
 "cells": [
  {
   "cell_type": "markdown",
   "id": "4c8ce13a",
   "metadata": {},
   "source": [
    "### NumPy 특징\n",
    "\n",
    "- 과학 기술 계산을 위한 라이브러리 제공\n",
    "- 백터/행렬/배열 처리 및 연산, 난수 발생\n",
    "- 파일관리(txt, csv 등 파일 읽기/쓰기)\n",
    "- 리스트(list) 형 데이터와 유사하지만 Numpy는 배열의 특징을 가짐\n",
    "- 모든 원소는 동일한 자료형이어야 한다.\n",
    "- 원소들 중 다른 자료형이 있다면 가장 큰 자료형으로 변경됨\n",
    "- 계산 속도가 빠르다\n",
    "- 벡터/연산, 배열 인덱싱 등을 통해 질의 가능"
   ]
  },
  {
   "cell_type": "code",
   "execution_count": 1,
   "id": "3e81d9a1",
   "metadata": {},
   "outputs": [],
   "source": [
    "import numpy as np"
   ]
  },
  {
   "cell_type": "code",
   "execution_count": 10,
   "id": "d352f865",
   "metadata": {},
   "outputs": [
    {
     "data": {
      "text/plain": [
       "[1, 2, 3, 4, 5, 1, 2, 3, 4, 5]"
      ]
     },
     "execution_count": 10,
     "metadata": {},
     "output_type": "execute_result"
    }
   ],
   "source": [
    "lst = [1, 2, 3, 4, 5]\n",
    "s = [i*2 for i in lst]"
   ]
  },
  {
   "cell_type": "code",
   "execution_count": 12,
   "id": "21b46ab5",
   "metadata": {},
   "outputs": [
    {
     "data": {
      "text/plain": [
       "array([ 2,  4,  6,  8, 10])"
      ]
     },
     "execution_count": 12,
     "metadata": {},
     "output_type": "execute_result"
    }
   ],
   "source": [
    "arr_lst = np.array(lst)\n",
    "arr_lst*2"
   ]
  },
  {
   "cell_type": "markdown",
   "id": "1ffd320d",
   "metadata": {},
   "source": [
    "#### numpy 연산\n",
    "- 행렬 연산이라고 생각해라\n",
    "     - 즉 데이터의 개수가 맞지 않으면 연산할 수 없다"
   ]
  },
  {
   "cell_type": "code",
   "execution_count": 14,
   "id": "e6b85898",
   "metadata": {},
   "outputs": [
    {
     "name": "stdout",
     "output_type": "stream",
     "text": [
      "[11 22 33]\n",
      "[False  True  True]\n"
     ]
    }
   ],
   "source": [
    "#1차원 배열 구조, 즉 벡터 구조\n",
    "arr1 = np.array([1,2,3])\n",
    "arr2 = np.array([10, 20, 30])\n",
    "print(arr1+arr2)\n",
    "print(arr2>=20)"
   ]
  },
  {
   "cell_type": "markdown",
   "id": "d049d152",
   "metadata": {},
   "source": [
    "#### 넘파이를 두 벡터 연산시자료의 갯수는 동일해야 한다"
   ]
  },
  {
   "cell_type": "code",
   "execution_count": null,
   "id": "492244c6",
   "metadata": {},
   "outputs": [],
   "source": [
    "arr1 = np.array([1,2,3,4])\n",
    "arr2 = np.array([10, 20, 30])\n",
    "\n",
    "arr1 + arr2\n",
    "#에러가 나온다 왜? 개수가 맞지 않으니까"
   ]
  },
  {
   "cell_type": "markdown",
   "id": "8d94623d",
   "metadata": {},
   "source": [
    "#### 2차원 배열 구조"
   ]
  },
  {
   "cell_type": "code",
   "execution_count": 23,
   "id": "dd1f44b7",
   "metadata": {},
   "outputs": [
    {
     "name": "stdout",
     "output_type": "stream",
     "text": [
      "[[0, 0, 1], [8, 12, 33]]\n",
      "[[ 0  0  1]\n",
      " [ 8 12 33]]\n"
     ]
    }
   ],
   "source": [
    "lst = [[0,0,1], [8, 12, 33]]\n",
    "arr = np.array(lst)\n",
    "print(lst)\n",
    "print(arr)"
   ]
  },
  {
   "cell_type": "code",
   "execution_count": 24,
   "id": "d9fe8d5f",
   "metadata": {},
   "outputs": [
    {
     "data": {
      "text/plain": [
       "array([[ 0,  0,  1],\n",
       "       [ 8, 12, 33]])"
      ]
     },
     "execution_count": 24,
     "metadata": {},
     "output_type": "execute_result"
    }
   ],
   "source": [
    "print(len(lst))  # lst의 전체 데이터 개수\n",
    "print(len(arr))  # arr의 행의 개수\n",
    "\n",
    "print(len(lst[0])) # lst의 첫번째 데이터의 갯수\n",
    "print(len(arr[0])) # arr의 열의 갯수"
   ]
  },
  {
   "cell_type": "markdown",
   "id": "6e5dce84",
   "metadata": {},
   "source": [
    "- numpy에서 움직이는 데이터는 갯수를 맞춰준다\n",
    "- 그렇지 않으면 object를 받아와 버린다. 즉 list면 array([],[])"
   ]
  },
  {
   "cell_type": "code",
   "execution_count": 25,
   "id": "d03f5848",
   "metadata": {},
   "outputs": [
    {
     "name": "stderr",
     "output_type": "stream",
     "text": [
      "<ipython-input-25-0d602e3c051b>:2: VisibleDeprecationWarning: Creating an ndarray from ragged nested sequences (which is a list-or-tuple of lists-or-tuples-or ndarrays with different lengths or shapes) is deprecated. If you meant to do this, you must specify 'dtype=object' when creating the ndarray.\n",
      "  arr = np.array(lst)\n"
     ]
    },
    {
     "data": {
      "text/plain": [
       "array([list([0, 0, 1, 1]), list([8, 12, 33])], dtype=object)"
      ]
     },
     "execution_count": 25,
     "metadata": {},
     "output_type": "execute_result"
    }
   ],
   "source": [
    "lst = [[0,0,1,1],[8, 12, 33]]\n",
    "arr = np.array(lst)\n",
    "arr"
   ]
  },
  {
   "cell_type": "markdown",
   "id": "4de10b98",
   "metadata": {},
   "source": [
    "#### 3차원 배열"
   ]
  },
  {
   "cell_type": "code",
   "execution_count": 32,
   "id": "9f2f96e1",
   "metadata": {},
   "outputs": [
    {
     "name": "stdout",
     "output_type": "stream",
     "text": [
      "(1, 1, 3)\n",
      "[[[10 20 30]]]\n"
     ]
    }
   ],
   "source": [
    "lst = [[[10, 20, 30]]]\n",
    "arr = np.array(lst)\n",
    "print(arr.shape) # arr의 모양을 보는 방법 (차원)\n",
    "#(면, 행, 열)\n",
    "print(arr)"
   ]
  },
  {
   "cell_type": "code",
   "execution_count": 36,
   "id": "5bc5619d",
   "metadata": {},
   "outputs": [
    {
     "name": "stdout",
     "output_type": "stream",
     "text": [
      "(1, 2, 3)\n",
      "[[[10 20 30]\n",
      "  [15 25 35]]]\n"
     ]
    }
   ],
   "source": [
    "lst = [[[10, 20, 30],[15, 25, 35]]]\n",
    "arr = np.array(lst)\n",
    "print(arr.shape) # arr의 모양을 보는 방법 (차원)\n",
    "#(면, 행, 열)\n",
    "print(arr)"
   ]
  },
  {
   "cell_type": "markdown",
   "id": "1fce8ada",
   "metadata": {},
   "source": [
    "- 배열을 만들려면 구조가 똑같아야한다"
   ]
  },
  {
   "cell_type": "code",
   "execution_count": 37,
   "id": "6f6bdf63",
   "metadata": {},
   "outputs": [
    {
     "name": "stdout",
     "output_type": "stream",
     "text": [
      "(2, 2, 3)\n",
      "[[[10. 20. 30.]\n",
      "  [15. 25. 35.]]\n",
      "\n",
      " [[ 1.  2.  3.]\n",
      "  [12. 13. 15.]]]\n"
     ]
    }
   ],
   "source": [
    "lst = [[[10, 20, 30], [15, 25, 35]],[[1.,2.,3.],[12, 13., 15]]]\n",
    "arr = np.array(lst)\n",
    "print(arr.shape) # arr의 모양을 보는 방법 (차원)\n",
    "#(면, 행, 열)\n",
    "print(arr)"
   ]
  },
  {
   "cell_type": "markdown",
   "id": "262f92bb",
   "metadata": {},
   "source": [
    "- 가장 큰 자료형으로 바꿔준다"
   ]
  },
  {
   "cell_type": "code",
   "execution_count": 38,
   "id": "ab22c9ae",
   "metadata": {},
   "outputs": [
    {
     "name": "stdout",
     "output_type": "stream",
     "text": [
      "(2, 2, 3)\n",
      "[[['10' '20' '30']\n",
      "  ['15' '25' '35']]\n",
      "\n",
      " [['1.0' '2.0' '3.0']\n",
      "  ['12' '13.0' '15']]]\n"
     ]
    }
   ],
   "source": [
    "lst = [[[10, 20, 30], [15, 25, 35]],[[1.,2.,3.],[12, 13., '15']]]\n",
    "arr = np.array(lst)\n",
    "print(arr.shape) # arr의 모양을 보는 방법 (차원)\n",
    "#(면, 행, 열)\n",
    "print(arr)"
   ]
  },
  {
   "cell_type": "markdown",
   "id": "ab7642ae",
   "metadata": {},
   "source": [
    "####  파이썬 자료형\n",
    "- NoneType / bool/ int / float / complex / str / tuple / list / dict/ fuction"
   ]
  },
  {
   "cell_type": "code",
   "execution_count": 39,
   "id": "9001edab",
   "metadata": {},
   "outputs": [
    {
     "name": "stdout",
     "output_type": "stream",
     "text": [
      "28\n",
      "24\n",
      "50\n"
     ]
    }
   ],
   "source": [
    "from sys import getsizeof\n",
    "\n",
    "a=1;b=1.;c='1'\n",
    "print(getsizeof(a))\n",
    "print(getsizeof(b))\n",
    "print(getsizeof(c))"
   ]
  },
  {
   "cell_type": "markdown",
   "id": "6fc65ce9",
   "metadata": {},
   "source": [
    "#### 배열 구조 데이터 인덱싱"
   ]
  },
  {
   "cell_type": "code",
   "execution_count": 40,
   "id": "04e635b0",
   "metadata": {},
   "outputs": [
    {
     "name": "stdout",
     "output_type": "stream",
     "text": [
      "10\n"
     ]
    }
   ],
   "source": [
    "arr = np.array([10, 20, 30, 40, 50])\n",
    "print(arr[0])"
   ]
  },
  {
   "cell_type": "code",
   "execution_count": 45,
   "id": "011aef67",
   "metadata": {},
   "outputs": [
    {
     "name": "stdout",
     "output_type": "stream",
     "text": [
      "[10 20 30 40 50]\n",
      "[15 25 35 45 55]\n",
      "10\n",
      "10\n"
     ]
    }
   ],
   "source": [
    "# 2차원 배열의 인덱싱\n",
    "\n",
    "arr = np.array([[10, 20, 30, 40, 50],[15, 25, 35, 45, 55]])\n",
    "print(arr[0])    # 첫번째 행 전체 출력해\n",
    "print(arr[-1])   # 마지막 행 전체 출력해\n",
    "print(arr[0][0]) #우리가 리스트에서 데이터 불러왔던 구조,\n",
    "                 #0번째 행가져오고 0번쨰 열 데이터 가져와\n",
    "print(arr[0, 0]) # 0번째 행 0번째 열 데이터 가져와"
   ]
  },
  {
   "cell_type": "code",
   "execution_count": 54,
   "id": "0816d6a9",
   "metadata": {},
   "outputs": [
    {
     "name": "stdout",
     "output_type": "stream",
     "text": [
      "(2, 2, 3)\n",
      "[[[10. 20. 30.]\n",
      "  [15. 25. 35.]]\n",
      "\n",
      " [[ 1.  2.  3.]\n",
      "  [12. 13. 15.]]]\n"
     ]
    }
   ],
   "source": [
    "# 3차원 배열의 인덱싱\n",
    "\n",
    "lst = [[[10, 20, 30], [15, 25, 35]],[[1.,2.,3.],[12, 13., 15]]]\n",
    "arr = np.array(lst)\n",
    "print(arr.shape)\n",
    "print(arr)"
   ]
  },
  {
   "cell_type": "markdown",
   "id": "c4d78a1d",
   "metadata": {},
   "source": [
    "####  불리언(Boolean) 배열 방식을 이용한 인덱싱"
   ]
  },
  {
   "cell_type": "code",
   "execution_count": 64,
   "id": "a5c64e1f",
   "metadata": {},
   "outputs": [
    {
     "data": {
      "text/plain": [
       "array([ 1,  2,  3,  4,  5,  6,  7,  8,  9, 10])"
      ]
     },
     "execution_count": 64,
     "metadata": {},
     "output_type": "execute_result"
    }
   ],
   "source": [
    "arr = np.arange(1, 11)\n",
    "arr"
   ]
  },
  {
   "cell_type": "code",
   "execution_count": 66,
   "id": "6468ce69",
   "metadata": {},
   "outputs": [
    {
     "name": "stdout",
     "output_type": "stream",
     "text": [
      "[ 2  4  6  8 10]\n",
      "[1 3 5 7 9]\n"
     ]
    }
   ],
   "source": [
    "atf = np.array([False, True, False, True, False, True, False, True,False, True])\n",
    "print(arr[atf]) # Ture인 값만 매칭해서 출력\n",
    "anum = np.array([0,2,4,6,8])\n",
    "print(arr[anum]) # anum을 위치값으로 사용해 출력"
   ]
  },
  {
   "cell_type": "code",
   "execution_count": 67,
   "id": "2470579c",
   "metadata": {},
   "outputs": [
    {
     "name": "stdout",
     "output_type": "stream",
     "text": [
      "[1 3 5 7 9]\n",
      "[ 2  4  6  8 10]\n"
     ]
    }
   ],
   "source": [
    "print(arr[arr%2==1])\n",
    "print(arr[arr%2==0])"
   ]
  },
  {
   "cell_type": "code",
   "execution_count": 69,
   "id": "5c64296a",
   "metadata": {},
   "outputs": [
    {
     "data": {
      "text/plain": [
       "array([[10., 20., 30.],\n",
       "       [15., 25., 35.],\n",
       "       [ 1.,  2.,  3.],\n",
       "       [12., 13., 15.]])"
      ]
     },
     "execution_count": 69,
     "metadata": {},
     "output_type": "execute_result"
    }
   ],
   "source": [
    "arr = np.array([[10, 20, 30],[15, 25, 35],[1.,2.,3.],[12, 13., 15]])\n",
    "arr"
   ]
  },
  {
   "cell_type": "code",
   "execution_count": 77,
   "id": "b8a331a7",
   "metadata": {},
   "outputs": [
    {
     "data": {
      "text/plain": [
       "array([[15., 25., 35.],\n",
       "       [12., 13., 15.]])"
      ]
     },
     "execution_count": 77,
     "metadata": {},
     "output_type": "execute_result"
    }
   ],
   "source": [
    "arr[[1,3], :] # 1행이랑 3행 가져오고 열은 다가져와"
   ]
  },
  {
   "cell_type": "markdown",
   "id": "edc70e15",
   "metadata": {},
   "source": [
    "#### 배열 생성/구조 변경"
   ]
  },
  {
   "cell_type": "code",
   "execution_count": 78,
   "id": "fcce83be",
   "metadata": {},
   "outputs": [
    {
     "data": {
      "text/plain": [
       "dtype('int32')"
      ]
     },
     "execution_count": 78,
     "metadata": {},
     "output_type": "execute_result"
    }
   ],
   "source": [
    "arr = np.array([15, 25, 35 ,45])\n",
    "arr.dtype"
   ]
  },
  {
   "cell_type": "code",
   "execution_count": 84,
   "id": "557b5c49",
   "metadata": {},
   "outputs": [
    {
     "data": {
      "text/plain": [
       "dtype('float64')"
      ]
     },
     "execution_count": 84,
     "metadata": {},
     "output_type": "execute_result"
    }
   ],
   "source": [
    "arr = np.array([15, 25, 35 ,45], dtype = 'd')\n",
    "arr.dtype"
   ]
  },
  {
   "cell_type": "code",
   "execution_count": 88,
   "id": "cbe8bb25",
   "metadata": {
    "scrolled": true
   },
   "outputs": [
    {
     "data": {
      "text/plain": [
       "array([15., 28., 35., 45.])"
      ]
     },
     "execution_count": 88,
     "metadata": {},
     "output_type": "execute_result"
    }
   ],
   "source": [
    "arr[1] = 28\n",
    "arr"
   ]
  },
  {
   "cell_type": "code",
   "execution_count": 92,
   "id": "8eb42dac",
   "metadata": {},
   "outputs": [
    {
     "data": {
      "text/plain": [
       "array([2, 4, 6, 8])"
      ]
     },
     "execution_count": 92,
     "metadata": {},
     "output_type": "execute_result"
    }
   ],
   "source": [
    "arr = np.arange(1, 10 ,2)\n",
    "arr"
   ]
  },
  {
   "cell_type": "code",
   "execution_count": 98,
   "id": "95d18bcd",
   "metadata": {},
   "outputs": [
    {
     "data": {
      "text/plain": [
       "array([10,  9,  8,  7,  6,  5,  4,  3,  2])"
      ]
     },
     "execution_count": 98,
     "metadata": {},
     "output_type": "execute_result"
    }
   ],
   "source": [
    "arr = np.arange(10,1, -1)\n",
    "arr"
   ]
  },
  {
   "cell_type": "code",
   "execution_count": 111,
   "id": "771ceb1e",
   "metadata": {},
   "outputs": [
    {
     "data": {
      "text/plain": [
       "array([ 1.        ,  1.29154967,  1.66810054,  2.15443469,  2.7825594 ,\n",
       "        3.59381366,  4.64158883,  5.9948425 ,  7.74263683, 10.        ])"
      ]
     },
     "execution_count": 111,
     "metadata": {},
     "output_type": "execute_result"
    }
   ],
   "source": [
    "arr = np.logspace(0,1, 10) #10^0승부터 10^1승까지 10개 구간으로 나눈다\n",
    "# np.logspace(a,b, c) 10^a부터 10^b 승까지 c 개의 구간으로 나눠라\n",
    "arr"
   ]
  },
  {
   "cell_type": "code",
   "execution_count": 114,
   "id": "5e343cef",
   "metadata": {},
   "outputs": [
    {
     "data": {
      "text/plain": [
       "array([ 0., 20., 40., 60., 80.])"
      ]
     },
     "execution_count": 114,
     "metadata": {},
     "output_type": "execute_result"
    }
   ],
   "source": [
    "arr = np.linspace(0, 100, 5, endpoint = False) # 0 부터 100까지 실수범위 5구간으로 나눠라 마지막 값은 제거한다\n",
    "arr"
   ]
  },
  {
   "cell_type": "markdown",
   "id": "50fb18ca",
   "metadata": {},
   "source": [
    "#### 배열 데이터 변경"
   ]
  },
  {
   "cell_type": "code",
   "execution_count": 116,
   "id": "3bbd4aba",
   "metadata": {},
   "outputs": [
    {
     "data": {
      "text/plain": [
       "array([[ 1,  2],\n",
       "       [ 3,  4],\n",
       "       [ 5,  6],\n",
       "       [ 7,  8],\n",
       "       [ 9, 10]])"
      ]
     },
     "execution_count": 116,
     "metadata": {},
     "output_type": "execute_result"
    }
   ],
   "source": [
    "arr = np.array([1,2,3,4,5,6,7,8,9,10])\n",
    "arr_res = arr.reshape(5, 2)\n",
    "arr_res\n"
   ]
  },
  {
   "cell_type": "code",
   "execution_count": 136,
   "id": "fe1f08f4",
   "metadata": {},
   "outputs": [
    {
     "data": {
      "text/plain": [
       "array([[0., 0., 0., 0., 0.],\n",
       "       [0., 0., 0., 0., 0.],\n",
       "       [0., 0., 0., 0., 0.],\n",
       "       [0., 0., 0., 0., 0.],\n",
       "       [0., 0., 0., 0., 0.],\n",
       "       [0., 0., 0., 0., 0.],\n",
       "       [0., 0., 0., 0., 0.],\n",
       "       [0., 0., 0., 0., 0.],\n",
       "       [0., 0., 0., 0., 0.],\n",
       "       [0., 0., 0., 0., 0.]])"
      ]
     },
     "execution_count": 136,
     "metadata": {},
     "output_type": "execute_result"
    }
   ],
   "source": [
    "arr = np.ones(50) # 50개의 데이터를 다 0로\n",
    "len(arr)\n",
    "arr = np.zeros(50) # 50개의 데이터를 다 0 으로\n",
    "arr_res = arr.reshape(10, -1)\n",
    "# 행또는 열 위치에 -1를 넣으면 자동 생성\n",
    "# 다만 arr.reshape(-1,-1)은 에러\n",
    "arr_res"
   ]
  },
  {
   "cell_type": "code",
   "execution_count": 146,
   "id": "6aaa391e",
   "metadata": {},
   "outputs": [
    {
     "data": {
      "text/plain": [
       "array([[[0., 0.],\n",
       "        [0., 0.],\n",
       "        [0., 0.],\n",
       "        [0., 0.],\n",
       "        [0., 0.]],\n",
       "\n",
       "       [[0., 0.],\n",
       "        [0., 0.],\n",
       "        [0., 0.],\n",
       "        [0., 0.],\n",
       "        [0., 0.]],\n",
       "\n",
       "       [[0., 0.],\n",
       "        [0., 0.],\n",
       "        [0., 0.],\n",
       "        [0., 0.],\n",
       "        [0., 0.]],\n",
       "\n",
       "       [[0., 0.],\n",
       "        [0., 0.],\n",
       "        [0., 0.],\n",
       "        [0., 0.],\n",
       "        [0., 0.]],\n",
       "\n",
       "       [[0., 0.],\n",
       "        [0., 0.],\n",
       "        [0., 0.],\n",
       "        [0., 0.],\n",
       "        [0., 0.]]])"
      ]
     },
     "execution_count": 146,
     "metadata": {},
     "output_type": "execute_result"
    }
   ],
   "source": [
    "arr_res.reshape(-1,5,2) # 3차원 구조로도 변경가능\n",
    "# 즉 차원도 마음데로 바꿀수 있음"
   ]
  },
  {
   "cell_type": "code",
   "execution_count": 147,
   "id": "6813258c",
   "metadata": {},
   "outputs": [
    {
     "data": {
      "text/plain": [
       "array([0., 0., 0., 0., 0., 0., 0., 0., 0., 0., 0., 0., 0., 0., 0., 0., 0.,\n",
       "       0., 0., 0., 0., 0., 0., 0., 0., 0., 0., 0., 0., 0., 0., 0., 0., 0.,\n",
       "       0., 0., 0., 0., 0., 0., 0., 0., 0., 0., 0., 0., 0., 0., 0., 0.])"
      ]
     },
     "execution_count": 147,
     "metadata": {},
     "output_type": "execute_result"
    }
   ],
   "source": [
    "arr_res.reshape(-1) # 즉 1차원으로도 다시변경 가능"
   ]
  },
  {
   "cell_type": "code",
   "execution_count": 159,
   "id": "0edf164d",
   "metadata": {},
   "outputs": [
    {
     "data": {
      "text/plain": [
       "array([[ 1,  2,  3,  4,  5,  6],\n",
       "       [ 7,  8,  9, 10, 11, 12],\n",
       "       [13, 14, 15, 16, 17, 18],\n",
       "       [19, 20, 21, 22, 23, 24],\n",
       "       [25, 26, 27, 28, 29, 30],\n",
       "       [31, 32, 33, 34, 35, 36],\n",
       "       [37, 38, 39, 40, 41, 42],\n",
       "       [43, 44, 45, 46, 47, 48],\n",
       "       [49, 50, 51, 52, 53, 54],\n",
       "       [55, 56, 57, 58, 59, 60]])"
      ]
     },
     "execution_count": 159,
     "metadata": {},
     "output_type": "execute_result"
    }
   ],
   "source": [
    "arr = np.arange(1, 61)\n",
    "arr_res = arr.reshape(-1, 6)\n",
    "arr_res"
   ]
  },
  {
   "cell_type": "code",
   "execution_count": 167,
   "id": "8a0b716c",
   "metadata": {},
   "outputs": [
    {
     "data": {
      "text/plain": [
       "array([[ 0,  0,  0,  0,  0,  0],\n",
       "       [ 7,  8,  9, 10, 11, 12],\n",
       "       [ 1,  1,  1,  1,  1,  1],\n",
       "       [19, 20, 21, 22, 23, 24],\n",
       "       [25, 26, 27, 28, 29, 30],\n",
       "       [31, 32, 33, 34, 35, 36],\n",
       "       [37, 38, 39, 40, 41, 42],\n",
       "       [43, 44, 45, 46, 47, 48],\n",
       "       [49, 50, 51, 52, 53, 54],\n",
       "       [55, 56, 57, 58, 59, 60]])"
      ]
     },
     "execution_count": 167,
     "metadata": {},
     "output_type": "execute_result"
    }
   ],
   "source": [
    "arr_res[0] = 0\n",
    "arr_res"
   ]
  },
  {
   "cell_type": "code",
   "execution_count": 168,
   "id": "6ab44367",
   "metadata": {},
   "outputs": [
    {
     "data": {
      "text/plain": [
       "array([[ 0,  0, 10,  0,  0,  0],\n",
       "       [ 7,  8,  9, 10, 11, 12],\n",
       "       [ 1,  1,  1,  1,  1,  1],\n",
       "       [19, 20, 21, 22, 23, 24],\n",
       "       [25, 26, 27, 28, 29, 30],\n",
       "       [31, 32, 33, 34, 35, 36],\n",
       "       [37, 38, 39, 40, 41, 42],\n",
       "       [43, 44, 45, 46, 47, 48],\n",
       "       [49, 50, 51, 52, 53, 54],\n",
       "       [55, 56, 57, 58, 59, 60]])"
      ]
     },
     "execution_count": 168,
     "metadata": {},
     "output_type": "execute_result"
    }
   ],
   "source": [
    "arr_res[0,2] = 10\n",
    "arr_res"
   ]
  },
  {
   "cell_type": "markdown",
   "id": "48138c3a",
   "metadata": {},
   "source": [
    "####  브로드캐스팅(broad casting) & 마스킹(masking)\n",
    " - 하나의 배열 or 요소가 어떤 특정 배열에 영향을 미칠때 배열간의 형상을 맞추는 것을 브로드 캐스팅이라고함"
   ]
  },
  {
   "cell_type": "code",
   "execution_count": 169,
   "id": "8d5e954c",
   "metadata": {},
   "outputs": [
    {
     "data": {
      "text/plain": [
       "array([[ True,  True,  True,  True,  True,  True],\n",
       "       [False,  True, False,  True, False,  True],\n",
       "       [False, False, False, False, False, False],\n",
       "       [False,  True, False,  True, False,  True],\n",
       "       [False,  True, False,  True, False,  True],\n",
       "       [False,  True, False,  True, False,  True],\n",
       "       [False,  True, False,  True, False,  True],\n",
       "       [False,  True, False,  True, False,  True],\n",
       "       [False,  True, False,  True, False,  True],\n",
       "       [False,  True, False,  True, False,  True]])"
      ]
     },
     "execution_count": 169,
     "metadata": {},
     "output_type": "execute_result"
    }
   ],
   "source": [
    "#arr_res 배열에서 값을 나누고 남은 나머지가 0이면 True 반환\n",
    "#idx 변수를 만들어(=masking을 만듬) True/False로 변환된 데이터 저장\n",
    "idx = arr_res%2==0\n",
    "idx"
   ]
  },
  {
   "cell_type": "code",
   "execution_count": 171,
   "id": "304deb48",
   "metadata": {},
   "outputs": [
    {
     "data": {
      "text/plain": [
       "array([[100, 100, 100, 100, 100, 100],\n",
       "       [  7, 100,   9, 100,  11, 100],\n",
       "       [  1,   1,   1,   1,   1,   1],\n",
       "       [ 19, 100,  21, 100,  23, 100],\n",
       "       [ 25, 100,  27, 100,  29, 100],\n",
       "       [ 31, 100,  33, 100,  35, 100],\n",
       "       [ 37, 100,  39, 100,  41, 100],\n",
       "       [ 43, 100,  45, 100,  47, 100],\n",
       "       [ 49, 100,  51, 100,  53, 100],\n",
       "       [ 55, 100,  57, 100,  59, 100]])"
      ]
     },
     "execution_count": 171,
     "metadata": {},
     "output_type": "execute_result"
    }
   ],
   "source": [
    "# 만들어진 idx의 마스킹 값을 기준으로 True인 값만 출력\n",
    "arr_res[idx] = 100\n",
    "arr_res\n",
    "#True 값만 뽑아서 100으로 바꿔라"
   ]
  },
  {
   "cell_type": "code",
   "execution_count": null,
   "id": "1e3eed27",
   "metadata": {},
   "outputs": [],
   "source": []
  },
  {
   "cell_type": "code",
   "execution_count": null,
   "id": "3f6f49cc",
   "metadata": {},
   "outputs": [],
   "source": []
  },
  {
   "cell_type": "code",
   "execution_count": null,
   "id": "42fa8822",
   "metadata": {},
   "outputs": [],
   "source": []
  },
  {
   "cell_type": "markdown",
   "id": "163e5334",
   "metadata": {},
   "source": [
    "#### NumPy에서 파일 읽고/쓰기"
   ]
  },
  {
   "cell_type": "code",
   "execution_count": null,
   "id": "55f66ddd",
   "metadata": {},
   "outputs": [],
   "source": []
  },
  {
   "cell_type": "code",
   "execution_count": null,
   "id": "355adfc9",
   "metadata": {},
   "outputs": [],
   "source": []
  },
  {
   "cell_type": "code",
   "execution_count": null,
   "id": "2121834b",
   "metadata": {},
   "outputs": [],
   "source": []
  },
  {
   "cell_type": "code",
   "execution_count": null,
   "id": "2699ec4a",
   "metadata": {},
   "outputs": [],
   "source": []
  },
  {
   "cell_type": "code",
   "execution_count": null,
   "id": "c626e537",
   "metadata": {},
   "outputs": [],
   "source": []
  }
 ],
 "metadata": {
  "kernelspec": {
   "display_name": "Python 3",
   "language": "python",
   "name": "python3"
  },
  "language_info": {
   "codemirror_mode": {
    "name": "ipython",
    "version": 3
   },
   "file_extension": ".py",
   "mimetype": "text/x-python",
   "name": "python",
   "nbconvert_exporter": "python",
   "pygments_lexer": "ipython3",
   "version": "3.8.10"
  }
 },
 "nbformat": 4,
 "nbformat_minor": 5
}
