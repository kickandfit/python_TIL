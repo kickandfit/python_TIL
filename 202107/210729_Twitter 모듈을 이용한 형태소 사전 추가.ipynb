{
 "cells": [
  {
   "cell_type": "markdown",
   "id": "f75e3a6e",
   "metadata": {},
   "source": [
    "### 기존 형태소 분석\n",
    "- konlpy.tag 모듈에서 Okt, Kkma, ~~ 이용\n",
    "- konlpy에서 제공하는 토픽를 기준으로 형태소 구분"
   ]
  },
  {
   "cell_type": "code",
   "execution_count": 4,
   "id": "c99d5a4e",
   "metadata": {},
   "outputs": [
    {
     "data": {
      "text/plain": [
       "[('산', 'Noun'),\n",
       " ('에', 'Josa'),\n",
       " ('가서', 'Verb'),\n",
       " ('스마트폰', 'Noun'),\n",
       " ('을', 'Josa'),\n",
       " ('이용', 'Noun'),\n",
       " ('해', 'Verb'),\n",
       " ('스타', 'Noun'),\n",
       " ('그램', 'Noun'),\n",
       " ('에', 'Josa'),\n",
       " ('올렸습니다', 'Verb'),\n",
       " ('.', 'Punctuation')]"
      ]
     },
     "execution_count": 4,
     "metadata": {},
     "output_type": "execute_result"
    }
   ],
   "source": [
    "from konlpy.tag import Okt\n",
    "\n",
    "okt=Okt()\n",
    "okt.pos(\"산에 가서 스마트폰을 이용해 스타그램에 올렸습니다.\")"
   ]
  },
  {
   "cell_type": "code",
   "execution_count": 15,
   "id": "563c06ad",
   "metadata": {},
   "outputs": [],
   "source": [
    "# ckonlpuy 참조: https://github.com/lovit/customized_konlpy\n",
    "\n",
    "#!pip install customized_konlpy"
   ]
  },
  {
   "cell_type": "code",
   "execution_count": 12,
   "id": "30651a07",
   "metadata": {},
   "outputs": [
    {
     "name": "stderr",
     "output_type": "stream",
     "text": [
      "C:\\ProgramData\\Miniconda3\\envs\\multi\\lib\\site-packages\\konlpy\\tag\\_okt.py:16: UserWarning: \"Twitter\" has changed to \"Okt\" since KoNLPy v0.4.5.\n",
      "  warn('\"Twitter\" has changed to \"Okt\" since KoNLPy v0.4.5.')\n"
     ]
    },
    {
     "data": {
      "text/plain": [
       "[('산', 'Noun'),\n",
       " ('에', 'Josa'),\n",
       " ('가서', 'Verb'),\n",
       " ('스마트폰', 'Noun'),\n",
       " ('을', 'Josa'),\n",
       " ('이용', 'Noun'),\n",
       " ('해', 'Josa'),\n",
       " ('스타', 'Noun'),\n",
       " ('그램', 'Noun'),\n",
       " ('에', 'Josa'),\n",
       " ('올렸습니다', 'Verb'),\n",
       " ('.', 'Punctuation')]"
      ]
     },
     "execution_count": 12,
     "metadata": {},
     "output_type": "execute_result"
    }
   ],
   "source": [
    "from ckonlpy.tag import Twitter\n",
    "\n",
    "twitter=Twitter()\n",
    "twitter.pos(\"산에 가서 스마트폰을 이용해 스타그램에 올렸습니다.\")"
   ]
  },
  {
   "cell_type": "markdown",
   "id": "0e71a237",
   "metadata": {},
   "source": [
    "Twitter 사전에 단어추가"
   ]
  },
  {
   "cell_type": "code",
   "execution_count": 13,
   "id": "a8a25f6c",
   "metadata": {},
   "outputs": [],
   "source": [
    "twitter.add_dictionary(\"스타그램\", 'Noun')"
   ]
  },
  {
   "cell_type": "code",
   "execution_count": 14,
   "id": "64dcec64",
   "metadata": {},
   "outputs": [
    {
     "data": {
      "text/plain": [
       "[('산', 'Noun'),\n",
       " ('에', 'Josa'),\n",
       " ('가서', 'Verb'),\n",
       " ('스마트폰', 'Noun'),\n",
       " ('을', 'Josa'),\n",
       " ('이용', 'Noun'),\n",
       " ('해', 'Josa'),\n",
       " ('스타그램', 'Noun'),\n",
       " ('에', 'Josa'),\n",
       " ('올렸습니다', 'Verb'),\n",
       " ('.', 'Punctuation')]"
      ]
     },
     "execution_count": 14,
     "metadata": {},
     "output_type": "execute_result"
    }
   ],
   "source": [
    "twitter.pos(\"산에 가서 스마트폰을 이용해 스타그램에 올렸습니다.\")"
   ]
  },
  {
   "cell_type": "code",
   "execution_count": 16,
   "id": "2dc6057a",
   "metadata": {},
   "outputs": [
    {
     "data": {
      "text/plain": [
       "['산', '스마트폰', '이용', '스타그램']"
      ]
     },
     "execution_count": 16,
     "metadata": {},
     "output_type": "execute_result"
    }
   ],
   "source": [
    "twitter.nouns(\"산에 가서 스마트폰을 이용해 스타그램에 올렸습니다.\")"
   ]
  },
  {
   "cell_type": "code",
   "execution_count": null,
   "id": "6a24dbb9",
   "metadata": {},
   "outputs": [],
   "source": []
  }
 ],
 "metadata": {
  "kernelspec": {
   "display_name": "Python 3",
   "language": "python",
   "name": "python3"
  },
  "language_info": {
   "codemirror_mode": {
    "name": "ipython",
    "version": 3
   },
   "file_extension": ".py",
   "mimetype": "text/x-python",
   "name": "python",
   "nbconvert_exporter": "python",
   "pygments_lexer": "ipython3",
   "version": "3.8.10"
  }
 },
 "nbformat": 4,
 "nbformat_minor": 5
}
