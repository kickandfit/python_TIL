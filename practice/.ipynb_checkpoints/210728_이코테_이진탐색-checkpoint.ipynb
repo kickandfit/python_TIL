{
 "cells": [
  {
   "cell_type": "code",
   "execution_count": null,
   "id": "843f11cc",
   "metadata": {},
   "outputs": [],
   "source": [
    "#순차탐색\n",
    "\n",
    "def sequential_search(n, target, array):\n",
    "    for i in range(n):\n",
    "        \n",
    "        if array[i]==target:\n",
    "            return i + 1# 인덱스가 0부터 시작함으로 +1\n",
    "print('생성할 원소 개수를 입력한 뒤 한칸 띄고 찾을 문자 입력')\n",
    "input_data = input().split()\n",
    "n = int(input_data[0])\n",
    "target = input_data[1]\n",
    "\n",
    "print('생성할 개수만큼 문자열 입력. 구분은 띄어쓰기')\n",
    "array = input().split()\n",
    "\n",
    "print(sequential_search(n, target, array))"
   ]
  },
  {
   "cell_type": "code",
   "execution_count": null,
   "id": "d0d501b9",
   "metadata": {},
   "outputs": [],
   "source": [
    "# 재귀함수로 구현한 이진탐색\n",
    "\n",
    "def binary_search(array, target, start, end):\n",
    "    if start > end:\n",
    "        return None\n",
    "    mid = (start + end) // 2\n",
    "    if array[mid] == target:\n",
    "        return mid\n",
    "    \n",
    "    elif array[mid] > target:\n",
    "        return binary_search(array, target, start, mid-1)\n",
    "    else:\n",
    "        return binary_search(array, target, mid+1, end)\n",
    "\n",
    "n, target = list(map(int, input().split()))\n",
    "array = list(map(int, input().split()))\n",
    "\n",
    "result = binary_search(array, target, 0, n -1 )\n",
    "if result == None:\n",
    "    print('원소가 존재하지 않습니다')\n",
    "else:\n",
    "    print(result + 1)"
   ]
  },
  {
   "cell_type": "code",
   "execution_count": 4,
   "id": "8cb22a95",
   "metadata": {},
   "outputs": [
    {
     "name": "stdout",
     "output_type": "stream",
     "text": [
      "10 7\n",
      "1 3 5 7 9 11 13 15 17 19\n",
      "4\n",
      "1\n",
      "2\n",
      "3\n",
      "3\n",
      "4\n"
     ]
    }
   ],
   "source": [
    "# 반복문을 이용한 이진탐색 구현\n",
    "def binary_search(array, target, start, end):\n",
    "    while start <= end:\n",
    "    \n",
    "        mid = (start + end)//2\n",
    "        if array[mid] == target:\n",
    "            return mid\n",
    "        \n",
    "        elif array[mid]> target:\n",
    "            end = mid -1\n",
    "        else:\n",
    "            start = mid + 1\n",
    "    return None\n",
    "\n",
    "n, target = list(map(int, input().split()))\n",
    "array = list(map(int, input().split()))\n",
    "\n",
    "result = binary_search(array, target, 0, n -1 )\n",
    "print(result)\n",
    "if result == None:\n",
    "    print('원소가 존재하지 않습니다')\n",
    "else:\n",
    "    print(result + 1)"
   ]
  },
  {
   "cell_type": "code",
   "execution_count": null,
   "id": "f9659812",
   "metadata": {},
   "outputs": [],
   "source": []
  }
 ],
 "metadata": {
  "jupytext": {
   "formats": "ipynb,auto:light"
  },
  "kernelspec": {
   "display_name": "Python 3",
   "language": "python",
   "name": "python3"
  },
  "language_info": {
   "codemirror_mode": {
    "name": "ipython",
    "version": 3
   },
   "file_extension": ".py",
   "mimetype": "text/x-python",
   "name": "python",
   "nbconvert_exporter": "python",
   "pygments_lexer": "ipython3",
   "version": "3.8.10"
  }
 },
 "nbformat": 4,
 "nbformat_minor": 5
}
