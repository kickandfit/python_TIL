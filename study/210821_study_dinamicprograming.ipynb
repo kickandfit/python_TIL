{
 "cells": [
  {
   "cell_type": "markdown",
   "id": "9abbda05",
   "metadata": {},
   "source": [
    "#####  call by assignment\n",
    "\n",
    "- int, str, boolen, tuple 등은 call by value 형식으로 받아옴\n",
    "- list, dict 등은 call by referece 형식으로 받아옴\n",
    "- 즉 Mutable 갑과 immutable 값이 존재하는데, mutable은 copy를 해줘야만, 따로 메모리에 저장 되기 때문에 서로의 간섭에서 벗어날 수 있음\n",
    "- immutable은 서로 간섭하지 않음\n",
    "- 사용자가 만든 class는 기본적으로 mutable임\n",
    "- 때문에 판다스, 넘파이 등의 형식은 mutable 이라 똑같은 데이터셋, 배열 등을 활용하고 싶을 때는 copy해줘야함\n",
    "- 또한 mutable의 mutable이 있을 경우, deep copy를 해줘야함"
   ]
  },
  {
   "cell_type": "markdown",
   "id": "ba5d7a2b",
   "metadata": {},
   "source": [
    "#### 오늘!\n",
    "- 재귀 확실 복습하셔야되요\n",
    "- 탑다운 : 메모이제션 , 바텀업 : DP 테이블\n",
    "- 다이나믹 프로그래밍의 목적 : 중복된 계산을 줄이기 위함\n",
    "    - 사용하는 경우 : 큰 쿤제를 작은 문제로 나누고, 작은 문제로 푼 답이 큰 문제로 풀 떄 변하지 않는 경우"
   ]
  },
  {
   "cell_type": "code",
   "execution_count": 15,
   "id": "32aeaeac",
   "metadata": {},
   "outputs": [
    {
     "name": "stdout",
     "output_type": "stream",
     "text": [
      "8 7 6 5 4 3 3 4 3 5 4 3 3 6 5 4 3 3 4 3 21\n"
     ]
    }
   ],
   "source": [
    "# 피보나치수열\n",
    "#      1, 1, 2, 3, 5, 8 ,13 , 21  --> a(n-2) + a(n-1) = a(n)\n",
    "                                #  --> b[] 리스트에 저장을 하는거요\n",
    "\n",
    "def fibo(n):\n",
    "    if n == 1 or n == 2:\n",
    "        return 1\n",
    "    print(n, end = ' ')\n",
    "    return fibo(n-1)+fibo(n-2)\n",
    "print(fibo(8))\n",
    "\n",
    "# 반복이 많은데, 같은 값에 대해서 반복을 하고 있는거에요\n",
    "# 굉장히 비효율적이고 메모리도 많이 쓰고 시간도 오래걸려\n",
    "# 21을 구하는데 원래는 6번에 구할수 있는데 위 처럼 짜면 기하급수적으로 늘어나요\n",
    "# n = 100 만되도 못구해"
   ]
  },
  {
   "cell_type": "code",
   "execution_count": 12,
   "id": "f5f77a90",
   "metadata": {},
   "outputs": [
    {
     "name": "stdout",
     "output_type": "stream",
     "text": [
      "3 2 1 1 2 1 1 "
     ]
    }
   ],
   "source": [
    "def a(n):\n",
    "    if n< 1:\n",
    "        return\n",
    "    print(n, end = ' ')\n",
    "    a(n-1)\n",
    "    a(n-1)\n",
    "a(3)"
   ]
  },
  {
   "cell_type": "code",
   "execution_count": 18,
   "id": "aea56ce4",
   "metadata": {},
   "outputs": [
    {
     "name": "stdout",
     "output_type": "stream",
     "text": [
      "8 6 4 3 5 7 "
     ]
    },
    {
     "data": {
      "text/plain": [
       "21"
      ]
     },
     "execution_count": 18,
     "metadata": {},
     "output_type": "execute_result"
    }
   ],
   "source": [
    "#아이디어 -> 같은 값들을 계속구하는 게 문제\n",
    "#a(n-2) + a(n-1) = a(n) 한번만 구하고 싶은거에요\n",
    "                                #  --> b[] 리스트에 저장을 하는거요\n",
    "\n",
    "#한번 구하잖아요? 그거를 다른데다가 저장을해\n",
    "#저장 후에 다음번에 그값을 토대로 계산을해\n",
    "\n",
    "# 5*5*5,5*5*5,5*5*5\n",
    "# b[5] = 5, b[25]=25 , b[25]*5 = > b[125]=125\n",
    "# b[1---->100] b[23]-->23 --> dp 테이블이라고 일컬음\n",
    "# 탑다운 , 바텁업 ---> 재귀로 구현하면 보통 탑다운(dp->메모이제이션), 바텀은 아래서 위로 올라가(dp테이블)\n",
    "\n",
    "# 피보나치 수열을 저장하는 테이블\n",
    "d = [0] * 101\n",
    "\n",
    "def fibo(x):\n",
    "    if x == 1 or x ==2:\n",
    "        return 1\n",
    "    # dp테이블에 값이 있어?\n",
    "    if d[x] != 0:\n",
    "        return d[x]\n",
    "    \n",
    "    print(x, end = ' ')\n",
    "    d[x] = fibo(x-2) + fibo(x-1)\n",
    "    return d[x]\n",
    "\n",
    "fibo(8)\n"
   ]
  },
  {
   "cell_type": "code",
   "execution_count": 21,
   "id": "c250aede",
   "metadata": {},
   "outputs": [
    {
     "name": "stdout",
     "output_type": "stream",
     "text": [
      "125\n",
      "3\n"
     ]
    }
   ],
   "source": [
    "# dp테이블 이해\n",
    "# 1로 만들기\n",
    "# 5, 3, 2 ---> 어떤 수 5, 3, 2로 나눌 수 있으면 나눌거에요, \n",
    "# 못나누면 그수 -1을 하고 다시 2 ,3 ,5 중에 나눌수 있는지 볼거에요\n",
    "# 결과 적으로는 1로 만들거에요, 최소횟수를 구하고 싶어요\n",
    "\n",
    "# 26 -> 13 -> 12 ->6 ->3 ->1 (5번) ////////////// 26 ->25->5->1 (3번)\n",
    "\n",
    "# a(n) = max( 방법 1 a(n-1),방법 2 a(n-1)) /////힌트\n",
    "# a(n) = min(a(n//5),a(n//3),a(n//2),a(n)-1) +1\n",
    "\n",
    "# 바텁 업\n",
    "x = int(input())\n",
    "d = [0] *(x+1)\n",
    "\n",
    "# 1--->2 ,1--->3,1---5\n",
    "for i in range(2, x+1):\n",
    "    d[i] = d[i-1] + 1\n",
    "    if i % 2 == 0:\n",
    "        d[i] = min(d[i],d[i//2]+1) # 오른쪽 항 d[i]는 i-1에서 +1 해준거에요\n",
    "    if i % 3 == 0:\n",
    "        d[i] = min(d[i],d[i//3]+1)\n",
    "    if i % 5 == 0:\n",
    "        d[i] = min(d[i],d[i//5]+1)\n",
    "        \n",
    "print(d[x])"
   ]
  },
  {
   "cell_type": "markdown",
   "id": "aa59693c",
   "metadata": {},
   "source": [
    "#### 바닥 공사\n",
    "가로 길이가 N, 세로 길이가 2인 직사각형 형태의 얇은 바닥이 있다. 태일이는 이 얇은 바닥을 1 X 2의 덮개, 2 X 1의 덮개, 2 X 2의 겊개를 이용해 채우고자 한다. 이 때 바닥을 채우는 모든 경우의 수를 구하는 프로그램을 작성하시오. 예를 들어 2 X 3 크기의 바닥을 채우는 경우의 수는 5 가지다"
   ]
  },
  {
   "cell_type": "code",
   "execution_count": 22,
   "id": "3b987be1",
   "metadata": {},
   "outputs": [
    {
     "name": "stdout",
     "output_type": "stream",
     "text": [
      "5\n",
      "21\n"
     ]
    }
   ],
   "source": [
    "# a(n) = a(n-1) + a(n-2)*2\n",
    "\n",
    "n = int(input())\n",
    "d = [0]*(n+1)\n",
    "\n",
    "d[1] = 1\n",
    "d[2] = 3\n",
    "\n",
    "for i in range(3,n+1):\n",
    "    d[i] = d[i-1] +2*d[i-2]\n",
    "    \n",
    "print(d[n])"
   ]
  },
  {
   "cell_type": "markdown",
   "id": "2022597a",
   "metadata": {},
   "source": [
    "# 개미 전사\n",
    "- 개미 저사는 부족한 식량을 충당하고자 메뚜기 마을의 식량 창고를 몰래 공격하려고 한다. 메뚜기 마을에는 여러 개의 식량창고가 있는데, 식량창고는 일직선으로 이어져 있다. 각 식량 창고에는 정해진 수의 식량을 저장하고 있으며 개미 전사는 식량창고를 선택적으로 약탈하여 식량을 빼앗을 예정이다. 이때 메뚜기 정찰병들은 일직선상에 존재하는 식량 창고 중에서 서로 인접한 식량 창고가 공격받으면 바로 알아챌 수 있다. 따라서 개미 전사가 정찰병에게 들키지 않고 식량 창고를 약탈하기 위해서는 최소한 한 칸 이상 떨어진 식량 창고를 약탈해야 한다. 예를 들어 시걍 창고가 4개가 다음과 같이 존재한다고 가정하자 [1, 3, 1, 5] 이때 개미전사는 두 번째 식량창고와 네 번째 식량창고를 선택 했을 때 최댓값인 총 8개의 식량을 빼앗을 수 있다. 개미 전사는 식량창고가 이러헥 일직선상일 때 최대한 맣은 식량을 얻기를 원한다. 개미 전사를 위해 식량 창고 N개에 대한 정보가 주어 졌을때 얻을 수 있는 식량의 최대값을 구하느 프로그램을 작성하라\n",
    "\n",
    "입력 조건 : 첫째 줄에 식량 창고의 개수 N이 주어진다\n",
    "둘째 줄에 공백으로 구분되어 각 식량 창고에 저장된 식량의 개수 k가 주어진다.\n",
    "\n",
    "첫째 줄에 개미 전사가 얻을 수 있는 식량의 최댓값을 출력해라"
   ]
  },
  {
   "cell_type": "code",
   "execution_count": 24,
   "id": "551354ce",
   "metadata": {},
   "outputs": [
    {
     "name": "stdout",
     "output_type": "stream",
     "text": [
      "4\n",
      "1 3 1 5\n",
      "8\n"
     ]
    }
   ],
   "source": [
    "# a(n) = max(a(n-1),a(n-2)+k(n))\n",
    "\n",
    "n = int(input())\n",
    "array = list(map(int, input().split())) # 1 2 3 4 5 6 7 , 공백으로 구분해서 1,2,3,4,5 를 리스트에 넣어 뭘로? int로\n",
    "d = [0]*(n+1)\n",
    "\n",
    "# 식량의 최대개수를 담는 배열 -> d 가 되는 거에요\n",
    "\n",
    "d[0] = array[0]\n",
    "d[1] = max(array[0],array[1])\n",
    "for i in range(2, n):\n",
    "    d[i] = max(d[i-1],d[i-2]+array[i])\n",
    "    \n",
    "print(d[n-1])"
   ]
  },
  {
   "cell_type": "code",
   "execution_count": null,
   "id": "a8014eb2",
   "metadata": {},
   "outputs": [],
   "source": []
  }
 ],
 "metadata": {
  "jupytext": {
   "formats": "ipynb,auto:light"
  },
  "kernelspec": {
   "display_name": "Python 3",
   "language": "python",
   "name": "python3"
  },
  "language_info": {
   "codemirror_mode": {
    "name": "ipython",
    "version": 3
   },
   "file_extension": ".py",
   "mimetype": "text/x-python",
   "name": "python",
   "nbconvert_exporter": "python",
   "pygments_lexer": "ipython3",
   "version": "3.8.10"
  }
 },
 "nbformat": 4,
 "nbformat_minor": 5
}
