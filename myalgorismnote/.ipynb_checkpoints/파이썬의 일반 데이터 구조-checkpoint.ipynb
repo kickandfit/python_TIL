{
 "cells": [
  {
   "cell_type": "markdown",
   "id": "95d5fe42",
   "metadata": {},
   "source": [
    "# 파이썬 개발자라면\n",
    "\n",
    "- 데이터 구조를 알아야함\n",
    "    - 데이터 구조는 프로그램을 구축하는 근본적인 구조물\n",
    "    - 각각의 데이터 구조는 고유한 방식으로 구성\n",
    "    - 쓰임새에 따라 효율적인 데이터 구조가 다름\n",
    "- 데이터 구조와 알고리즘 지식을 쌓는 것은 필수\n"
   ]
  },
  {
   "cell_type": "markdown",
   "id": "23edac6c",
   "metadata": {},
   "source": [
    "# 딕셔너리, 맵, 해시테이블\n",
    "\n",
    "- 딕셔너리(dict)는 중심이 되는 데이터 구조\n",
    "- 딕셔너리는 임의의 수의 객체를 저장하고 각각은 고유의 키(key)로 식별\n",
    "- 딕셔너리는 'map, hashmap, lookup table, associative array'라고도 함\n",
    "- key와 연관련 모든 객체의 검색, 삽입, 삭제를 효율적으로 수행\n",
    "- 딕셔너리를 사용하면 주어진 키와 관련된 정보를 빠르게 찾을 수 있음\n",
    "- 딕셔너리는 컴퓨터 과학에서 자주 사용되는 데이터구조\n"
   ]
  },
  {
   "cell_type": "markdown",
   "id": "568d44e9",
   "metadata": {},
   "source": [
    "# dict : 믿음직한 딕셔너리\n",
    "\n",
    "- 딕셔너리를 활용할 수 있도록 '간편 문법'을 제공"
   ]
  },
  {
   "cell_type": "code",
   "execution_count": null,
   "id": "592a3de4",
   "metadata": {},
   "outputs": [],
   "source": [
    "phonebook = { 'bob' : 7387, 'alice' : 3719, 'jack' : 7052}\n",
    "\n",
    "# 재밌네 이거\n",
    "squares = {x : x*x for x in range(6)}\n"
   ]
  },
  {
   "cell_type": "code",
   "execution_count": null,
   "id": "995af733",
   "metadata": {},
   "outputs": [],
   "source": [
    "phonebook['alice']"
   ]
  },
  {
   "cell_type": "code",
   "execution_count": null,
   "id": "6751fcb8",
   "metadata": {},
   "outputs": [],
   "source": [
    "squares"
   ]
  },
  {
   "cell_type": "markdown",
   "id": "e7682896",
   "metadata": {},
   "source": [
    "#### 객체를 key로 사용하려면\n",
    "\n",
    "- 임의의 해시 가능 타입인 키를 사용해 색인\n",
    "\n",
    "---------------------------------------------\n",
    "-내용 추가해야함\n"
   ]
  },
  {
   "cell_type": "markdown",
   "id": "18ad86b1",
   "metadata": {},
   "source": [
    "#### collections.OrderedDict: 키 삽입 순서 기억\n",
    "\n",
    "- 키의 삽입 순서를 기억하는 특수한 dict 서브클래스인 collections.OrderedDict를 제공\n",
    "- 알고리즘이 작동하는 데 키 순서가 중요하면 OrderedDict 클래스 명시\n",
    "- OrderedDict는 핵심 언어에 내장된 것이 아니므로 collections 사용"
   ]
  },
  {
   "cell_type": "code",
   "execution_count": null,
   "id": "0b1d59af",
   "metadata": {},
   "outputs": [],
   "source": [
    "import collections\n",
    "\n",
    "d = collections.OrderedDict(one=1, two=2, three=3)\n",
    "d"
   ]
  },
  {
   "cell_type": "code",
   "execution_count": null,
   "id": "a2918f44",
   "metadata": {},
   "outputs": [],
   "source": [
    "d['four'] = 4\n",
    "d"
   ]
  },
  {
   "cell_type": "code",
   "execution_count": null,
   "id": "49a7037a",
   "metadata": {},
   "outputs": [],
   "source": [
    "d.keys()"
   ]
  },
  {
   "cell_type": "markdown",
   "id": "898ef2ad",
   "metadata": {},
   "source": [
    "#### collections.defaultdict: 누락된 키의 기본값 반환\n",
    "\n",
    "- defaultdict 클래스는 또 다른 딕셔너리 서브클래스\n",
    "- 생성자에서 호출 가능한 함수를 입력받고, 용청된 키를 찾을 수 없는 경우 이 함수의 반환값을 반환함\n",
    "    - 이렇게 하면 get() 메서드를 사용하거나 일반 딕셔너리에서 KeyError 예외를 잡아내는 것과 비교하여 타이핑을 다소 줄이고 프로그래머의 의도를 좀 더 명확하게 만들 수 있음\n",
    "    "
   ]
  },
  {
   "cell_type": "code",
   "execution_count": null,
   "id": "df5d21d5",
   "metadata": {},
   "outputs": [],
   "source": [
    "from collections import defaultdict\n",
    "\n",
    "dd= defaultdict(list)\n"
   ]
  },
  {
   "cell_type": "code",
   "execution_count": null,
   "id": "40bd23e4",
   "metadata": {},
   "outputs": [],
   "source": [
    "# 없는 키에 접근하려고 하면 기본 팩터리를\n",
    "# 사용해 키를 마들고 초기화한다\n",
    "# 예> 이 예에서 list():\n",
    "dd['dogs'].append('Rufus')\n",
    "dd['dogs'].append('Kathrin')\n",
    "dd['dogs'].append('Mr Sniffles')\n",
    "dd['dogs']"
   ]
  },
  {
   "cell_type": "markdown",
   "id": "d24418ca",
   "metadata": {},
   "source": [
    "#### collections.ChainMap: 여러 딕셔너리를 단일 매핑으로 검색\n",
    "\n",
    "- collections.ChainMap 데이터 구조는 여러 개의 딕셔너리를 하나의 매핑으로 그룹화\n",
    "- 조회할 때는 키가 발견될 때까지 내부의 딕셔너리들을 하나씩 검사\n",
    "- 삽입, 갱신, 삭제는 체인에 추가된 첫 번째 딕셔너리에만 영향"
   ]
  },
  {
   "cell_type": "code",
   "execution_count": null,
   "id": "32e532f1",
   "metadata": {},
   "outputs": [],
   "source": [
    "from collections import ChainMap\n",
    "\n",
    "dict1 = {'one' : 1, 'two' : 2}\n",
    "dict2 = {'three' : 3, 'four' : 4}\n",
    "chain = ChainMap(dict1, dict2)\n",
    "chain"
   ]
  },
  {
   "cell_type": "code",
   "execution_count": null,
   "id": "63bfbbc4",
   "metadata": {},
   "outputs": [],
   "source": [
    "# ChainMap은 키를 찾거나 못 찾을 때까지 왼쪽에서\n",
    "# 오른쪽으로 체인에 있는 컬렉션을 검색\n",
    "\n",
    "chain['three']"
   ]
  },
  {
   "cell_type": "code",
   "execution_count": null,
   "id": "7b4e619f",
   "metadata": {},
   "outputs": [],
   "source": [
    "chain['one']"
   ]
  },
  {
   "cell_type": "code",
   "execution_count": null,
   "id": "84e56f44",
   "metadata": {},
   "outputs": [],
   "source": [
    "chain['missing']"
   ]
  },
  {
   "cell_type": "markdown",
   "id": "d000d38e",
   "metadata": {},
   "source": [
    "#### types.MappingProxyType: 읽기 전용 딕셔너리를 만들기 위한 래퍼\n",
    "\n",
    "- MappingProxyType은 표준 딕셔너리르 감싼 래퍼\n",
    "- 감싸진 딕셔너리의 데이터에 대한 읽기 전용 인터페이스 제공\n",
    "- 변경 불가능한 프락시 버전의 딕셔너리를 만드는 데 사용\n",
    "    - 예> 클래스나 모듈의 내부 상태를 가져올 수 있으나 쓰기는 제한하고자 할 때 유용\n",
    "    - MappingProxyType을 사용하면 딕셔너리의 전체 사본을 만들 필요 없이 제약 적용 가능"
   ]
  },
  {
   "cell_type": "code",
   "execution_count": null,
   "id": "e8aeca2e",
   "metadata": {},
   "outputs": [],
   "source": [
    "from types import MappingProxyType\n",
    "\n",
    "writable = {'one' : 1, 'two' : 2}\n",
    "read_only = MappingProxyType(writable)\n",
    "read_only"
   ]
  },
  {
   "cell_type": "code",
   "execution_count": null,
   "id": "2b621bce",
   "metadata": {},
   "outputs": [],
   "source": [
    "# 프락시는 읽기 전용\n",
    "read_only['one']"
   ]
  },
  {
   "cell_type": "code",
   "execution_count": null,
   "id": "cd42194e",
   "metadata": {},
   "outputs": [],
   "source": [
    "# 에러 발생 : 읽기 전용이니까\n",
    "read_only['one'] = 23"
   ]
  },
  {
   "cell_type": "code",
   "execution_count": null,
   "id": "e6cd3a71",
   "metadata": {},
   "outputs": [],
   "source": [
    "# 원본 업데이트가 프락시에 반영됨\n",
    "writable['one'] = 42\n",
    "read_only"
   ]
  },
  {
   "cell_type": "markdown",
   "id": "23b6a924",
   "metadata": {},
   "source": [
    "#### keypoint( 딕셔너리 )\n",
    "\n",
    "- 딕셔너리는 파이썬의 중심 데이터 구조\n",
    "- 내장된 dict 타입은 대부분의 상황에서 '충분이 좋음'\n",
    "- 읽기 전용이거나 정렬된 딕셔너리와 같은 특수한 구현도 파이썬 표준 라이브러리에서 이용 가능"
   ]
  },
  {
   "cell_type": "markdown",
   "id": "81916554",
   "metadata": {},
   "source": [
    "# 배열 데이터 구조\n",
    "\n",
    "- 배열은 대부분 프로그래밍 언어에서 사용할 수 있는 기본 구조\n",
    "- 배열은 어떻게 작동하며 용도는 무엇인가\n",
    "    - 인덱스를 기반으로 각 요소를 효율적으로 배치할 수 있는 고정 크기 데이터 레코드\n",
    "    - 인접한 메모리 블록에 정보를 저장하기 때문에 '연속적인' 데이터 구조로 간주\n",
    "    - 인덱스가 부여된 배열에서 요소를 찾기란 매우 빠름\n",
    "    - 접근 시간 O(1)을 보장"
   ]
  },
  {
   "cell_type": "markdown",
   "id": "c6c5f870",
   "metadata": {},
   "source": [
    "#### list : 가변 동적 배열\n",
    "\n",
    "- 이름은 리스트지만 내부에서 '동적 배열'로 구현\n",
    "- 요소를 추가하거나 제거할 수 있음\n",
    "- 리시트는 메모리를 할당하거나 해제함으로써 요소를 담는 저장소 크기를 자동으로 조정\n",
    "- 리스트 역시 객체\n",
    "- 파이썬은 모든 것이 객체 임으로 서로 다른 종류의 데이터 타입을 뒤섞어서 단일 리스트에 저장가능\n",
    "- 그러나 전체 구조에 더 맣은 공간이 소비됨"
   ]
  },
  {
   "cell_type": "code",
   "execution_count": null,
   "id": "03a33ad5",
   "metadata": {},
   "outputs": [],
   "source": [
    "arr = ['one' , 'two', 'three']\n",
    "arr[0]"
   ]
  },
  {
   "cell_type": "code",
   "execution_count": null,
   "id": "e2608369",
   "metadata": {},
   "outputs": [],
   "source": [
    "# 리스트에는 repr이 있음\n",
    "arr"
   ]
  },
  {
   "cell_type": "code",
   "execution_count": null,
   "id": "9f7f8990",
   "metadata": {},
   "outputs": [],
   "source": [
    "# 리스트는 변경할 수 있음\n",
    "arr[1] = 'hello'\n",
    "arr"
   ]
  },
  {
   "cell_type": "code",
   "execution_count": null,
   "id": "5ec2a30c",
   "metadata": {},
   "outputs": [],
   "source": [
    "del arr[1]\n",
    "arr"
   ]
  },
  {
   "cell_type": "code",
   "execution_count": null,
   "id": "7a0ffa58",
   "metadata": {},
   "outputs": [],
   "source": [
    "# 리스트에는 임의의 데이터 타입을 담을 수 있음\n",
    "arr.append(23)\n",
    "arr"
   ]
  },
  {
   "cell_type": "markdown",
   "id": "7ee40342",
   "metadata": {},
   "source": [
    "#### tuple : 불변 컨테이너\n",
    "\n",
    "- tuple 객체는 변경 불가능\n",
    "- 요소를 동적으로 추가하거나 제거할 수 없음\n",
    "- 생성할 튜플의 모든 요소를 정의해야 함\n",
    "- 임의의 데이터 타입의 요소를 담을 수 있음\n",
    "- 데이터 타입 지정 배열보다 메모리 공간을 더 차지함"
   ]
  },
  {
   "cell_type": "code",
   "execution_count": null,
   "id": "93474400",
   "metadata": {},
   "outputs": [],
   "source": [
    "# 소괄호로 묶지 않으면 tuple로 들어감\n",
    "arr= 'one', 'two', 'three'\n",
    "\n",
    "arr[0]"
   ]
  },
  {
   "cell_type": "code",
   "execution_count": null,
   "id": "97c506b6",
   "metadata": {},
   "outputs": [],
   "source": [
    "arr"
   ]
  },
  {
   "cell_type": "code",
   "execution_count": null,
   "id": "0bfb7447",
   "metadata": {},
   "outputs": [],
   "source": [
    "#튜프은 변경 불가\n",
    "arr[1] = 23"
   ]
  },
  {
   "cell_type": "code",
   "execution_count": null,
   "id": "a85b57d7",
   "metadata": {},
   "outputs": [],
   "source": [
    "del arr[1]"
   ]
  },
  {
   "cell_type": "code",
   "execution_count": null,
   "id": "b7a7be7c",
   "metadata": {},
   "outputs": [],
   "source": [
    "# 튜플에는 임의의 데이터 타입을 담을 수 있음\n",
    "# 요소를 추가하면 튜플의 복사본을 만듬\n",
    "\n",
    "arr + (23, )\n"
   ]
  },
  {
   "cell_type": "markdown",
   "id": "24aff0c2",
   "metadata": {},
   "source": [
    "#### array.array: 기본적인 타입 지정 배열\n",
    "\n",
    "- 파이썬의 array 모듈은 바이트, 32비트 정수, 부동소수점 숫자 등과 같은 기본 C 스타일 데이터 타입을 담을 수 있는 메모리 효율적인 저장 공간을 제공\n",
    "- array.array 클래스로 작성된 배열은 리스트와 비슷하게 변경 가능\n",
    "    - 차이점은 단일 데ㅣ터 타입으로 제한된 '타입 지정 배열'\n",
    "    - 그러나 이런 제약 덕분에 공간 효율적\n",
    "    - 메모리에 빡빡하게 채워넣어져 같은 타입의 요소를 저장해야할 때\n",
    "    "
   ]
  },
  {
   "cell_type": "code",
   "execution_count": null,
   "id": "cb7e4f7a",
   "metadata": {},
   "outputs": [],
   "source": [
    "import array\n",
    "arr = array.array('f',[1.0, 1.5, 2.0, 2.5])\n",
    "arr[1]"
   ]
  },
  {
   "cell_type": "code",
   "execution_count": null,
   "id": "25805e7c",
   "metadata": {},
   "outputs": [],
   "source": [
    "# repr 있음\n",
    "arr"
   ]
  },
  {
   "cell_type": "code",
   "execution_count": null,
   "id": "38e52fe5",
   "metadata": {},
   "outputs": [],
   "source": [
    "del arr[1]\n",
    "arr"
   ]
  },
  {
   "cell_type": "code",
   "execution_count": null,
   "id": "e7793ef5",
   "metadata": {},
   "outputs": [],
   "source": [
    "arr.append(42.0)"
   ]
  },
  {
   "cell_type": "code",
   "execution_count": null,
   "id": "4f13861d",
   "metadata": {},
   "outputs": [],
   "source": [
    "arr"
   ]
  },
  {
   "cell_type": "code",
   "execution_count": null,
   "id": "0f91ea9b",
   "metadata": {},
   "outputs": [],
   "source": [
    "# 배열은 '타입이 지정' 되어 있음\n",
    "arr[1] = 'hello'"
   ]
  },
  {
   "cell_type": "markdown",
   "id": "48da6e45",
   "metadata": {},
   "source": [
    "#### str : 유니코드 문자의 불변 배열\n",
    "\n",
    "- str 객체를 사용하여 텍스트 데이터를 유니코드 문자의 불변이며 연속적 데이터로 저장\n",
    "- str은 불변의 문자 배열\n",
    "- str은 재귀적 데이터 구조\n",
    "    - 즉, str의 각 문자의 길이가 1인 str 객체\n",
    "- 문자열 객체는 단일 데이터 타입에 특화/ 밀집되어 있어 공간 효율적\n",
    "- 유니코드 텍스트를 저장하는 경우 사용해야함\n",
    "\n",
    "- 문자열은 파이썬에서 불변이므로 문자열을 수정하려고 하면 수정된 복사본이 만들어짐.\n",
    "    - 가변 문자열과 가장 비슷한 것은 개별 문자를 리스트에 저장하는 것\n",
    "   "
   ]
  },
  {
   "cell_type": "code",
   "execution_count": null,
   "id": "ee6f2bd0",
   "metadata": {},
   "outputs": [],
   "source": [
    "arr = 'abcd'\n",
    "arr[1]"
   ]
  },
  {
   "cell_type": "code",
   "execution_count": null,
   "id": "1bbe3aa5",
   "metadata": {},
   "outputs": [],
   "source": [
    "arr"
   ]
  },
  {
   "cell_type": "code",
   "execution_count": null,
   "id": "dc8bf22b",
   "metadata": {},
   "outputs": [],
   "source": [
    "# 문자열은 변경할 수 없음\n",
    "\n",
    "arr[1] = 'e'"
   ]
  },
  {
   "cell_type": "code",
   "execution_count": null,
   "id": "62ebe6ee",
   "metadata": {},
   "outputs": [],
   "source": [
    "del arr[1]"
   ]
  },
  {
   "cell_type": "code",
   "execution_count": null,
   "id": "7a3d6a76",
   "metadata": {},
   "outputs": [],
   "source": [
    "# 문자열을 풀어서(unpack) 리스트로 만들어\n",
    "# 변경 가능한 표현을 얻을 수 있음\n",
    "\n",
    "list('abcd')"
   ]
  },
  {
   "cell_type": "code",
   "execution_count": null,
   "id": "91e0cd8f",
   "metadata": {},
   "outputs": [],
   "source": [
    "''.join(list('abcd'))\n",
    "# '구분자'.join(list) : 리스트 내의 문자열을\n",
    "#  구분지로 구분하여 연결함"
   ]
  },
  {
   "cell_type": "code",
   "execution_count": null,
   "id": "f0725c7b",
   "metadata": {},
   "outputs": [],
   "source": [
    "# 문자열은 재귀적 데이터 구조\n",
    "# 재귀적 : 재귀란? 어떤 사건이 자기 자신을 포함하고 \n",
    "# 다시 자기 자신을 사용하여 정의될 때 재귀적(recursive)라고 한다\n",
    "type('abc'[0])"
   ]
  },
  {
   "cell_type": "markdown",
   "id": "83cfb114",
   "metadata": {},
   "source": [
    "#### bytes: 단일 바이트의 불변 배열\n",
    "- 바이트 객체는 (0<= x <=255 범위의 정수)의 불변이며 연속된 데이터\n",
    "- 개념적으로는 str 객체와 비슷하지만 불변의 바이트 배열로 생각\n",
    "- 문자열과 마찬가지로 bytes는 객체 생성을 위한 리터럴 문법을 제공\n",
    "- 바이트 객체는 불변 문자열과 달리 bytearray라는 전용 '가변 바이트 배열' 데이터 타입이 있음"
   ]
  },
  {
   "cell_type": "code",
   "execution_count": null,
   "id": "66101901",
   "metadata": {},
   "outputs": [],
   "source": [
    "arr = bytes((0,1,2,3))\n",
    "arr[1]"
   ]
  },
  {
   "cell_type": "code",
   "execution_count": null,
   "id": "2081198f",
   "metadata": {},
   "outputs": [],
   "source": [
    "#바이트 리터럴은 자체 문법이 있음\n",
    "arr"
   ]
  },
  {
   "cell_type": "code",
   "execution_count": null,
   "id": "e3d139e3",
   "metadata": {},
   "outputs": [],
   "source": [
    "arr = b'\\x00\\x01\\x02\\x03'\n",
    "arr[2]"
   ]
  },
  {
   "cell_type": "code",
   "execution_count": null,
   "id": "d5491674",
   "metadata": {},
   "outputs": [],
   "source": [
    "# 유효한 '바이트'만 허용됨\n",
    "bytes((0, 300))"
   ]
  },
  {
   "cell_type": "code",
   "execution_count": null,
   "id": "2c01ab12",
   "metadata": {},
   "outputs": [],
   "source": [
    "# 바이트는 변경 불가\n",
    "arr[1] = 2"
   ]
  },
  {
   "cell_type": "code",
   "execution_count": null,
   "id": "2ff5bded",
   "metadata": {},
   "outputs": [],
   "source": [
    "del arr[1]"
   ]
  },
  {
   "cell_type": "markdown",
   "id": "4d9d1eaa",
   "metadata": {},
   "source": [
    "#### bytearray: 단일 바이트의 가변 배열\n",
    "- bytearray 타입은 (0<= x<= 255) 범위의 정수로 이뤄진 변경 가능한 연속 데이터\n",
    "- bytes 객체와 밀접한 연관이 있으며 주요한 차이점은 바이트 배열은 자유롭게 수정 가능\n",
    "- 요소를 덮어쓰거나 기존 요소를 제거하고 새로 추가 가능\n",
    "- bytearray 객체의 크기는 그에 따라 증가되거나 축소\n",
    "- bytearray는 불변의 byte로 변환 가능\n",
    "    - 그러나 시간 복잡도 O(N)"
   ]
  },
  {
   "cell_type": "code",
   "execution_count": null,
   "id": "49d00f78",
   "metadata": {},
   "outputs": [],
   "source": [
    "arr = bytearray((0, 1, 2, 3))\n",
    "arr[1]"
   ]
  },
  {
   "cell_type": "code",
   "execution_count": null,
   "id": "661e941e",
   "metadata": {},
   "outputs": [],
   "source": [
    "# 바이트 배열 repr:\n",
    "arr"
   ]
  },
  {
   "cell_type": "code",
   "execution_count": null,
   "id": "81293c8d",
   "metadata": {},
   "outputs": [],
   "source": [
    "# 바이트 배열은 변경 가능\n",
    "arr[1]= 23\n",
    "arr[1]"
   ]
  },
  {
   "cell_type": "code",
   "execution_count": null,
   "id": "bc6d7d4d",
   "metadata": {},
   "outputs": [],
   "source": [
    "arr"
   ]
  },
  {
   "cell_type": "code",
   "execution_count": null,
   "id": "47a13e93",
   "metadata": {},
   "outputs": [],
   "source": [
    "# 바이트 배열 크기는 늘어나거나 줄어들 수 있음\n",
    "del arr[1]\n",
    "arr"
   ]
  },
  {
   "cell_type": "code",
   "execution_count": null,
   "id": "a07afd20",
   "metadata": {},
   "outputs": [],
   "source": [
    "arr.append(42)\n",
    "arr"
   ]
  },
  {
   "cell_type": "code",
   "execution_count": null,
   "id": "c2b8e4a9",
   "metadata": {},
   "outputs": [],
   "source": [
    "# 바이트 배열에는 '바이트만' 담을 수 있음\n",
    "# 0<=x <= 255\n",
    "\n",
    "arr[1] = 'hello'"
   ]
  },
  {
   "cell_type": "code",
   "execution_count": null,
   "id": "39ff95a3",
   "metadata": {},
   "outputs": [],
   "source": [
    "arr[1] = 300"
   ]
  },
  {
   "cell_type": "code",
   "execution_count": null,
   "id": "8da14229",
   "metadata": {},
   "outputs": [],
   "source": [
    "# 바이트 배열은 바이트 객체로 다시 변환될 수 있음\n",
    "# ( 이렇게 하면 데이터가 복사됨)\n",
    "bytes(arr)"
   ]
  },
  {
   "cell_type": "markdown",
   "id": "f738d08b",
   "metadata": {},
   "source": [
    "#### keypoint ( 배열 데이터 구조 )\n",
    "\n",
    "- 내장 데이터 구조에 중점\n",
    "- Numpy와 같은 서드 파티 패키지가 빠른 배열 구현 제공\n",
    "- 질문 list\n",
    "    - 잠재적으로 여러 가지 데이터 타입의 임의 객체를 저장?\n",
    "        - 가변 : list, 불변 : tuple\n",
    "    - 숫자( 정수 또는 부동소수점 ) 데이터가 있고 메모리 효율과 성능이 중요한가?\n",
    "        - array.array 사용\n",
    "        - Numpy와 pandas를 사용해라\n",
    "        \n",
    "    - 유니코드 문자로 표시된 텍스트 데이터가 있나?\n",
    "        - 내장 str을 사용\n",
    "        - 가변 문자열이 필요하면 문자열로 구성된 list 사용\n",
    "    - 연속적인 바이트 블록을 저장하고 싶나?\n",
    "        - 변경 불가능한 bytes\n",
    "        - 변경 가능한 bytearray\n",
    "        \n",
    "- 우선은 list로 접근\n",
    "    - 성능이나 메모리 효율이 문제가 되는 경우, 교체"
   ]
  },
  {
   "cell_type": "markdown",
   "id": "f993e615",
   "metadata": {},
   "source": [
    "####  cf) 유니코드란 무엇인가?\n",
    "\n",
    "- 유니코드란, 숫자와 글자, 즉 키와 값이 1:1 매핑된 형태의 코드\n",
    "    - 아스키코드로 0x41 = A로 매핑된 것처럼, 아스키코드로 표현할 수 없는 문자들을 유니 코드라는 이름 아래 전 세계의 모든 문자를 특정 숫자(키)와 1:1 매핑한 것\n",
    "\n",
    "    - 유니코드는 블록으로만 나누어놓은 테이블도 많음\n",
    "    - 아스키코드표 처럼 한 눈에 들어오는 테이블로 표시 불가\n",
    "\n",
    "- U+ 라는 접두어가 붙어 있으면 유니코드  \n",
    "    - utf-8,utf-16같은 인코딩 방식은 이 유니코드표의 숫자 키들을 어떻게 표현하느냐에 따른 것\n",
    "    - utf-8은 가변바이트 사용, 1바이트로 표현이 충분한 경우 0x41=A로 표현\n",
    "    - utf-16은 16비트, 즉 2바이트로 표현하기 때문에 0x0041로 표현\n",
    "    - utf-8의 표현 방식이 대체로 효율적\n",
    "    - EUC-KR, CP949 2바이트로 한글을 표현할 수 있게 만든 방식\n",
    "    \n",
    " "
   ]
  },
  {
   "cell_type": "markdown",
   "id": "845ab923",
   "metadata": {},
   "source": [
    "# 레코드, 구조체, 데이터 전송 객체\n",
    "- 배열과 비교하여 레코드 데이터 구조는 고정된 수의 필드를 제공하며 각필드는 이름을 가질 수 있고 서로 다른 타입을 담을 수 있음\n",
    "- 레코드, 구조체 및 'POD(plain old data) 객체'를 구현하는 법을 공부\n"
   ]
  },
  {
   "cell_type": "markdown",
   "id": "1178c7b6",
   "metadata": {},
   "source": [
    "#### dict: 간단한 데이터 객체\n",
    "\n",
    "- 레코드 데이터 타입 또는 데이터 객체로 사용하는 것이 가능\n",
    "- 딕셔너리를 사용한 데이터 객체는 변경 가능하며 필드는 언제든지 추가, 제거 할 수 있음"
   ]
  },
  {
   "cell_type": "code",
   "execution_count": null,
   "id": "64bc6229",
   "metadata": {
    "lines_to_next_cell": 2
   },
   "outputs": [],
   "source": [
    "car1 = { 'color' : 'red', 'mileage' : 3812.4 , 'automatic' : True, }\n",
    "car2 = { 'color' : 'blue', 'mileage' : 4023.1 , 'automatic' : False, }"
   ]
  },
  {
   "cell_type": "code",
   "execution_count": null,
   "id": "0b975d78",
   "metadata": {},
   "outputs": [],
   "source": [
    "# clear한 repr\n",
    "car2"
   ]
  },
  {
   "cell_type": "code",
   "execution_count": null,
   "id": "bbec46e6",
   "metadata": {},
   "outputs": [],
   "source": [
    "# 딕셔너리는 변경 가능\n",
    "car2['mileage'] = 12\n",
    "car2"
   ]
  },
  {
   "cell_type": "code",
   "execution_count": null,
   "id": "544a6a55",
   "metadata": {},
   "outputs": [],
   "source": [
    "car2['windshield'] = 'broken'\n",
    "car2\n",
    "# 잘못되거나 빠지거나 추가된 필드명은\n",
    "# 보호되지 않음"
   ]
  },
  {
   "cell_type": "code",
   "execution_count": null,
   "id": "f5853578",
   "metadata": {},
   "outputs": [],
   "source": [
    "car3 = { 'color' : 'green',  'automatic' : True, 'windshield' : 'broken', }\n",
    "\n",
    "car3"
   ]
  },
  {
   "cell_type": "markdown",
   "id": "e7c8066a",
   "metadata": {},
   "source": [
    "#### tuple: 불변 객체 그룹\n",
    "\n",
    "- 임의의 객체를 그룹화하는 간단한 데이터 구조\n",
    "- 변경 불가능, 생성후 수정 불가\n",
    "- 바이트고드 디스어셈블리에서 보면\n",
    "    - 튜플 상수를 생성하는 데는 하나의 LOAD_CONST 연산 코드\n",
    "    - 리스트 객체는 몇 가지 연산이 더 필요함"
   ]
  },
  {
   "cell_type": "code",
   "execution_count": null,
   "id": "9f80aa8d",
   "metadata": {},
   "outputs": [],
   "source": [
    "import dis\n",
    "dis.dis(compile(\"(23, 'a', 'b','c')\", '','eval'))"
   ]
  },
  {
   "cell_type": "code",
   "execution_count": null,
   "id": "ef32ee4b",
   "metadata": {},
   "outputs": [],
   "source": [
    "dis.dis(compile(\"[23, 'a', 'b','c']\", '','eval'))"
   ]
  },
  {
   "cell_type": "markdown",
   "id": "a335bca4",
   "metadata": {},
   "source": [
    "#### 중요한 것은 차이가 아니다\n",
    "- tuple의 잠재적인 단점은 저장된 데이터를 가져오는 방법이 정수 인덱스라는 것\n",
    "- 튜플에 저장된 개별 속성에는 이름을 지정할 수 없음\n",
    "- 코드 가독성에 영향을 미침\n",
    "- 튜플은 ad-hoc 구조\n",
    "    - 두 개의 튜플에 같은 수의 필드와 동일한 속성이 저장되어 있는지 확인하기가 어려움\n",
    "    - 필드 순서를 뒤섞는 것과 같은 실수를 발생 시킬 수 있음\n",
    "    - 튜플에 저장된 필드 수를 가능한 적게 유지하는 것이 좋음\n",
    "    "
   ]
  },
  {
   "cell_type": "code",
   "execution_count": null,
   "id": "f63aa6e3",
   "metadata": {},
   "outputs": [],
   "source": [
    "# 필드 : 색상, 주행거리, 자동 여부\n",
    "\n",
    "car1 = ('red', 3812.4, True)\n",
    "car2 = ('blue', 40231.0, False)\n"
   ]
  },
  {
   "cell_type": "code",
   "execution_count": null,
   "id": "ef3e1158",
   "metadata": {},
   "outputs": [],
   "source": [
    "# 튜플 인스턴스에는 clear한 repr\n",
    "car1, car2"
   ]
  },
  {
   "cell_type": "code",
   "execution_count": null,
   "id": "c51638c3",
   "metadata": {},
   "outputs": [],
   "source": [
    "# 주행거리\n",
    "car1[1]"
   ]
  },
  {
   "cell_type": "code",
   "execution_count": null,
   "id": "7ae853f2",
   "metadata": {},
   "outputs": [],
   "source": [
    "# 변경 불가\n",
    "car1[2] = False"
   ]
  },
  {
   "cell_type": "code",
   "execution_count": null,
   "id": "16e7a585",
   "metadata": {},
   "outputs": [],
   "source": [
    "# 잘못되거나 빠지거나 추가된 필드명은\n",
    "# 보호되지 않음\n",
    "\n",
    "car3 = (3431.5, 'green', True, 'silver')\n",
    "car3"
   ]
  },
  {
   "cell_type": "markdown",
   "id": "3ab085d2",
   "metadata": {},
   "source": [
    "#### 사용자 정의 클래스 작성: 코드가 늘어날 수록 제어할 것도 는다\n",
    "\n",
    "- 클래스를 사용하면 데이터 객체에 대한 재사용 가능한 '청사진'을 정의하여 모든 객체가 동일한 필드 집합을 제공하도록 할 수 있음\n",
    "- 일반적인 파이썬 클래스를 레코드 데이터 타입으로 사용할 수도 있음, 다른 내장 타입들이 제공하는 편의 기능들을 사용하고 싶다면 추가 작업이 필요\n",
    "    - __ init __ 생성자에 새로운 필드를 추가하려면 장황해지고 시간이 오래걸림\n",
    "- 또한 객체의 기본 문자열 표현은 사용자 정의 클래스에는 별로 도움이 되지 않음\n",
    "    - 자신만의 __ repr __ 메서드를 추가해야 함\n",
    "- 메서드는 매우 장황하며 새로운 필드를 추가할 때 마다 갱신해야 함\n",
    "- 클래스에 저장된 필드는 변경 가능하며 새로운 필드를 자유롭게 추가가능\n",
    "- 접근 제어를 세밀하게 할 수 있고 @property 데코레이터를 사용하여 읽기 전용 필드를 만들수 있지만 접착 코드를 만들어야함\n"
   ]
  },
  {
   "cell_type": "code",
   "execution_count": null,
   "id": "253c1351",
   "metadata": {},
   "outputs": [],
   "source": [
    "class Car:\n",
    "    def __init__(self, color, mileage, automatic):\n",
    "        self.color = color\n",
    "        self.mileage = mileage\n",
    "        self.automatic = automatic\n",
    "        \n",
    "    def __repr__(self):\n",
    "        return f'{__class__.__name__}({self.color}, ' f'{self.mileage}, {self.automatic})'\n",
    "car1 = Car('red', 3812.4, True)\n",
    "car2 = Car('blue', 40231.0, False)"
   ]
  },
  {
   "cell_type": "code",
   "execution_count": null,
   "id": "0639e070",
   "metadata": {},
   "outputs": [],
   "source": [
    "car2.mileage"
   ]
  },
  {
   "cell_type": "code",
   "execution_count": null,
   "id": "7d882221",
   "metadata": {},
   "outputs": [],
   "source": [
    "# 클래스는 변경가능\n",
    "car2.mileage = 12\n",
    "car2.windshield = 'broken'\n",
    "car2.windshield\n",
    "\n",
    "# 문자열 표현은 그다지 유용하지 않음\n",
    "# ( 손수 작성한 __repr __ 메서드를 추가해야함 )"
   ]
  },
  {
   "cell_type": "markdown",
   "id": "19d0340b",
   "metadata": {},
   "source": [
    "#### typing.NamedTuple: 개선된 네임트 튜플\n",
    "\n",
    "- collections.namedtuple 클래스와 비슷함\n",
    "- 주요한 차이점은 레코드 타입을 정의하고 타입 힌트를 지원함\n",
    "- 타입 주석은 mypy와 같은 별도의 타입 확이도구 없이 적용되지 않음\n"
   ]
  },
  {
   "cell_type": "code",
   "execution_count": 1,
   "id": "fcc3b026",
   "metadata": {},
   "outputs": [],
   "source": [
    "from typing import NamedTuple\n",
    "\n",
    "class Car(NamedTuple):\n",
    "    color : str\n",
    "    mileage : float\n",
    "    automatic : bool\n",
    "\n",
    "car1 = Car('red', 3812.4, True)\n"
   ]
  },
  {
   "cell_type": "code",
   "execution_count": 3,
   "id": "96f8611a",
   "metadata": {},
   "outputs": [
    {
     "data": {
      "text/plain": [
       "Car(color='red', mileage=3812.4, automatic=True)"
      ]
     },
     "execution_count": 3,
     "metadata": {},
     "output_type": "execute_result"
    }
   ],
   "source": [
    "# clear한 rper\n",
    "car1\n",
    "# 필드에 접근함"
   ]
  },
  {
   "cell_type": "code",
   "execution_count": 5,
   "id": "718503c3",
   "metadata": {},
   "outputs": [
    {
     "data": {
      "text/plain": [
       "3812.4"
      ]
     },
     "execution_count": 5,
     "metadata": {},
     "output_type": "execute_result"
    }
   ],
   "source": [
    "car1.mileage"
   ]
  },
  {
   "cell_type": "code",
   "execution_count": 6,
   "id": "c125e032",
   "metadata": {},
   "outputs": [
    {
     "ename": "AttributeError",
     "evalue": "can't set attribute",
     "output_type": "error",
     "traceback": [
      "\u001b[1;31m---------------------------------------------------------------------------\u001b[0m",
      "\u001b[1;31mAttributeError\u001b[0m                            Traceback (most recent call last)",
      "\u001b[1;32m<ipython-input-6-b06934adfb40>\u001b[0m in \u001b[0;36m<module>\u001b[1;34m\u001b[0m\n\u001b[0;32m      1\u001b[0m \u001b[1;31m#필드는 변경할 수 없음\u001b[0m\u001b[1;33m\u001b[0m\u001b[1;33m\u001b[0m\u001b[1;33m\u001b[0m\u001b[0m\n\u001b[1;32m----> 2\u001b[1;33m \u001b[0mcar1\u001b[0m\u001b[1;33m.\u001b[0m\u001b[0mmileage\u001b[0m \u001b[1;33m=\u001b[0m \u001b[1;36m12\u001b[0m\u001b[1;33m\u001b[0m\u001b[1;33m\u001b[0m\u001b[0m\n\u001b[0m",
      "\u001b[1;31mAttributeError\u001b[0m: can't set attribute"
     ]
    }
   ],
   "source": [
    "#필드는 변경할 수 없음\n",
    "car1.mileage = 12"
   ]
  },
  {
   "cell_type": "code",
   "execution_count": 7,
   "id": "e6f8da2c",
   "metadata": {},
   "outputs": [
    {
     "data": {
      "text/plain": [
       "Car(color='red', mileage='Not_A_FLOAT', automatic=99)"
      ]
     },
     "execution_count": 7,
     "metadata": {},
     "output_type": "execute_result"
    }
   ],
   "source": [
    "#mypy 같은 별도 타입 확인 도구 없이는\n",
    "# 타입 주석은 적용되지 않음\n",
    "Car('red', 'Not_A_FLOAT', 99)"
   ]
  },
  {
   "cell_type": "markdown",
   "id": "2510c3d3",
   "metadata": {},
   "source": [
    "#### struct.Struct: 직렬화된 C구조체\n",
    "\n",
    "- struct.Struct 클래스는 파이썬 bytes 객체로 직렬화된 C 구조체와 파이썬 값 사이의 변환을 수행\n",
    "    - 파일에 저장되거나 네트워크로부터 들어오는 이진 데이터처리에 사용\n",
    "    \n",
    "- 구조체는 char, int, long, unsigned 등 다양한 C 데이터 타입의 배열을 정의 할 수 있는 형식 문자열 같은 미니 언어를 사용해 정의\n",
    "- 직렬화된 구조체는 순수하게 파이썬 코드 내에서 처리되는 데이터 객체를 나타내는 데 사용되지 않음\n",
    "    - 파이썬 코드에서만 사용되는 데이터를 메모리에 저장하는 방법이라기보다 주로 데이터 교환형식으로 사용됨\n",
    "    - 경우에 따라 기본 데이터를 구조체에 담으려면 다른 데이터 타입으로 유지하는 것보다 메모리를 적게 사용할 수 있음\n",
    "    - 그러나 고급( 아마도 불필요한 ) 최적화"
   ]
  },
  {
   "cell_type": "code",
   "execution_count": 9,
   "id": "e944193e",
   "metadata": {},
   "outputs": [],
   "source": [
    "from struct import Struct\n",
    "\n",
    "MyStruct = Struct('i?f')\n",
    "data = MyStruct.pack(23, False, 42.0)"
   ]
  },
  {
   "cell_type": "code",
   "execution_count": 10,
   "id": "effc405e",
   "metadata": {},
   "outputs": [
    {
     "data": {
      "text/plain": [
       "b'\\x17\\x00\\x00\\x00\\x00\\x00\\x00\\x00\\x00\\x00(B'"
      ]
     },
     "execution_count": 10,
     "metadata": {},
     "output_type": "execute_result"
    }
   ],
   "source": [
    "# 데이터 블롭(blob)만 얻음\n",
    "data"
   ]
  },
  {
   "cell_type": "code",
   "execution_count": 11,
   "id": "6131d0b5",
   "metadata": {},
   "outputs": [
    {
     "data": {
      "text/plain": [
       "(23, False, 42.0)"
      ]
     },
     "execution_count": 11,
     "metadata": {},
     "output_type": "execute_result"
    }
   ],
   "source": [
    "# 데이터 블롭은 다시 풀(unpack) 수 있음\n",
    "MyStruct.unpack(data)"
   ]
  },
  {
   "cell_type": "markdown",
   "id": "e31d6182",
   "metadata": {},
   "source": [
    "#### types.SimpleNamespace: 세련된 속성 접근\n",
    "\n",
    "- 파이썬에는 데이터 객체를 구현하기 위한 또하나의 '난해한' 방법인 types.SimpleNamespace 가 있음\n",
    "- 네임스페이스의 속성에 접근할 수 있도록 해줌\n",
    "- SImpleNamespace 인스턴스는 모든 키를 클래스 속성으로 노출\n",
    "    - 즉, obj['key'] 대괄호 인덱스 문법 대신 obj.key '점' 속성 접근 사용 가능\n",
    "    - 모든 인스턴스는 기본적으로 유효한 __ repr __ 도 포함\n",
    "- SimpleNamesapce는 기본적으로 속성을 가져올 수 있고 출력 해줌\n",
    "- 속성은 자유롭게 추가, 수정, 삭제 가능"
   ]
  },
  {
   "cell_type": "code",
   "execution_count": 12,
   "id": "30dbd659",
   "metadata": {},
   "outputs": [],
   "source": [
    "from types import SimpleNamespace\n",
    "car1 = SimpleNamespace( color = 'red',\n",
    "                      mileage = 3812.4,\n",
    "                      automatic = True)"
   ]
  },
  {
   "cell_type": "code",
   "execution_count": 13,
   "id": "b709b0e6",
   "metadata": {},
   "outputs": [
    {
     "data": {
      "text/plain": [
       "namespace(color='red', mileage=3812.4, automatic=True)"
      ]
     },
     "execution_count": 13,
     "metadata": {},
     "output_type": "execute_result"
    }
   ],
   "source": [
    "# 기본 repr\n",
    "car1"
   ]
  },
  {
   "cell_type": "code",
   "execution_count": 14,
   "id": "23fab7fa",
   "metadata": {},
   "outputs": [
    {
     "data": {
      "text/plain": [
       "namespace(color='red', mileage=12, windshield='broken')"
      ]
     },
     "execution_count": 14,
     "metadata": {},
     "output_type": "execute_result"
    }
   ],
   "source": [
    "# 인스턴스 속성 접근을 지원하고 변경할 수 있음\n",
    "car1.mileage = 12\n",
    "car1.windshield = 'broken'\n",
    "del car1.automatic\n",
    "car1"
   ]
  },
  {
   "cell_type": "markdown",
   "id": "4cbed62f",
   "metadata": {},
   "source": [
    "#### keypoint ( 레코드, 구조체, 데이터 전송 객체 )\n",
    "\n",
    "- 레코드 또는 데이터 객체를 구현하는 데는 다양한 옵션이 존재\n",
    "\n",
    "    - 몇(2~3)개의 필드만 가지고 있다\n",
    "        - 필드 순서를기억하기 쉽거나 필드명이 불필요할 경우 튜플\n",
    "    - 불변 필드가 필요\n",
    "        - 일반 튜플, collections.namedtuple, typing.NamedTuple\n",
    "    - 오타가 발생하지 않도록 필드 이름을 고정할 필요가 있다\n",
    "        - collections.namedtuple, typing.NamedTuple\n",
    "    - 간단하게 유지하기를 원한다\n",
    "        - 딕셔너리\n",
    "    - 데이터 구조를 완전히 제어할 필요가 있다\n",
    "        - @property의 세터(setter)와 게터(getter)를 사용하여 사용자 정의 클래스\n",
    "    - 객체에 동작(메서드)를 추가해야 한다\n",
    "        - 사용자 정의 클래스를 처음부터 작성\n",
    "        - collections.namedtuple, typing.NameTuple\n",
    "    - 데이터 디스크에 저장하거나 네트워크로 전송해야 해서 데이터를 일렬로 빽빽하게 담아야 한다\n",
    "        - struct.Struct\n",
    "        \n",
    "    - 안전하고 기본적인 선택?\n",
    "        - typing.NamedTuple"
   ]
  },
  {
   "cell_type": "markdown",
   "id": "05b57022",
   "metadata": {},
   "source": [
    "# 세트와 멀티세트\n",
    "\n",
    "- 표준 라이브러리의 내장 데이터 타입과 클래스를 사용하여 변경 가능하거나 변경 불가능한 세트와 멀티세트 데이터 구조를 구현\n",
    "- '세트'는 중복 요소를 허용하지 않는 정렬되지 않은 컬렉션\n",
    "    - 일반적으로 세트는 특정 값이 세트에 포함되는지를 빠르게 테스트하고 새값을 삽입하거나 삭제하며 두 세트의 합집합 또는 교집합을 계산하는 데 사용\n",
    "- '제대로' 구현된 세트라면 구성둰 테스트가 O(1)이라는 시간 복잡도\n",
    "- 합집합, 교집합,차집합, 부분집합 작업은 평균 O(N) 시간 소요"
   ]
  },
  {
   "cell_type": "code",
   "execution_count": 15,
   "id": "f98163ab",
   "metadata": {},
   "outputs": [
    {
     "data": {
      "text/plain": [
       "({'a', 'e', 'i', 'o', 'u'}, {0, 1, 4, 9, 16, 25, 36, 49, 64, 81}, set())"
      ]
     },
     "execution_count": 15,
     "metadata": {},
     "output_type": "execute_result"
    }
   ],
   "source": [
    "vowels = {'a', 'e', 'i', 'o', 'u'}\n",
    "squares = {x*x for x in range(10)}\n",
    "non_set = set()\n",
    "\n",
    "# 빈 세트를 주려면 set()를 호출해야함\n",
    "vowels, squares, non_set"
   ]
  },
  {
   "cell_type": "markdown",
   "id": "96b46f1b",
   "metadata": {},
   "source": [
    "#### set: 나만의 믿음직한 세트\n",
    "\n",
    "- set은 파이썬의 내장 세트 구현\n",
    "- 변경 가능하며 요소를 동적으로 삽입하고 삭제할 수 있음\n",
    "- 파이썬의 세트는 dict 데이터 타입에 의해 뒷받침되며 동일한 성능 특성을 공유함\n",
    "- 해시 가능한 객체라면 모두 세트에 저장할 수 있음"
   ]
  },
  {
   "cell_type": "code",
   "execution_count": 16,
   "id": "7bc8b400",
   "metadata": {},
   "outputs": [
    {
     "data": {
      "text/plain": [
       "True"
      ]
     },
     "execution_count": 16,
     "metadata": {},
     "output_type": "execute_result"
    }
   ],
   "source": [
    "vowels = {'a', 'e', 'i', 'o', 'u'}\n",
    "'e' in vowels"
   ]
  },
  {
   "cell_type": "code",
   "execution_count": 18,
   "id": "96aa98d8",
   "metadata": {
    "lines_to_next_cell": 2
   },
   "outputs": [
    {
     "data": {
      "text/plain": [
       "{'a', 'e', 'i'}"
      ]
     },
     "execution_count": 18,
     "metadata": {},
     "output_type": "execute_result"
    }
   ],
   "source": [
    "# intersection 교집합\n",
    "letters = set('alice')\n",
    "letters.intersection(vowels)"
   ]
  },
  {
   "cell_type": "code",
   "execution_count": 19,
   "id": "fd50d038",
   "metadata": {},
   "outputs": [
    {
     "data": {
      "text/plain": [
       "{'a', 'e', 'i', 'o', 'u', 'x'}"
      ]
     },
     "execution_count": 19,
     "metadata": {},
     "output_type": "execute_result"
    }
   ],
   "source": [
    "# 추가하기\n",
    "vowels.add('x')\n",
    "vowels"
   ]
  },
  {
   "cell_type": "code",
   "execution_count": 20,
   "id": "9e32ffdf",
   "metadata": {},
   "outputs": [
    {
     "data": {
      "text/plain": [
       "6"
      ]
     },
     "execution_count": 20,
     "metadata": {},
     "output_type": "execute_result"
    }
   ],
   "source": [
    "len(vowels)"
   ]
  },
  {
   "cell_type": "markdown",
   "id": "24b90263",
   "metadata": {},
   "source": [
    "#### frozenset : 불변 세트\n",
    "\n",
    "- frozenset 클래스는 set의 '불변' 버전으로 생성된 후에는 변경 불가\n",
    "- 프로즌세트는 정적이며 요소에 대한 쿼리 작업만 허용\n",
    "    - 삽입이나, 삭제는 허용되지 않음\n",
    "    - cf> 쿼리란 : 데이터베이스에게 특정 데이터를 보여달라는 클라이언트의 요청\n",
    "- 프로즌세트는 정적이며 해시 가능하기 때문에 딕셔너리 키 또는 다른 세트의 요소로 사용할 수 있음"
   ]
  },
  {
   "cell_type": "code",
   "execution_count": 22,
   "id": "410f02ee",
   "metadata": {},
   "outputs": [
    {
     "ename": "AttributeError",
     "evalue": "'frozenset' object has no attribute 'add'",
     "output_type": "error",
     "traceback": [
      "\u001b[1;31m---------------------------------------------------------------------------\u001b[0m",
      "\u001b[1;31mAttributeError\u001b[0m                            Traceback (most recent call last)",
      "\u001b[1;32m<ipython-input-22-780fd7f338f5>\u001b[0m in \u001b[0;36m<module>\u001b[1;34m\u001b[0m\n\u001b[0;32m      1\u001b[0m \u001b[0mvowels\u001b[0m \u001b[1;33m=\u001b[0m \u001b[0mfrozenset\u001b[0m\u001b[1;33m(\u001b[0m\u001b[1;33m{\u001b[0m\u001b[1;34m'a'\u001b[0m\u001b[1;33m,\u001b[0m \u001b[1;34m'e'\u001b[0m\u001b[1;33m,\u001b[0m \u001b[1;34m'i'\u001b[0m\u001b[1;33m,\u001b[0m \u001b[1;34m'o'\u001b[0m\u001b[1;33m,\u001b[0m \u001b[1;34m'u'\u001b[0m\u001b[1;33m}\u001b[0m\u001b[1;33m)\u001b[0m\u001b[1;33m\u001b[0m\u001b[1;33m\u001b[0m\u001b[0m\n\u001b[1;32m----> 2\u001b[1;33m \u001b[0mvowels\u001b[0m\u001b[1;33m.\u001b[0m\u001b[0madd\u001b[0m\u001b[1;33m(\u001b[0m\u001b[1;34m'p'\u001b[0m\u001b[1;33m)\u001b[0m\u001b[1;33m\u001b[0m\u001b[1;33m\u001b[0m\u001b[0m\n\u001b[0m",
      "\u001b[1;31mAttributeError\u001b[0m: 'frozenset' object has no attribute 'add'"
     ]
    }
   ],
   "source": [
    "vowels = frozenset({'a', 'e', 'i', 'o', 'u'})\n",
    "vowels.add('p')"
   ]
  },
  {
   "cell_type": "markdown",
   "id": "a6a2f889",
   "metadata": {},
   "source": [
    "#### collections.Counter: 멀티세트\n",
    "\n",
    "- collections.Counter 클래스는 요소가 두 번 이상 나타날 수 있는 멀티 세트 타입을 구현함\n",
    "- 요소가 세트의 일부인지 아닌지 뿐만 아니라 세트에 포함된 '횟수'를 추적할 때 유용"
   ]
  },
  {
   "cell_type": "code",
   "execution_count": 25,
   "id": "3903ccea",
   "metadata": {},
   "outputs": [
    {
     "data": {
      "text/plain": [
       "Counter({'sword': 1, 'bread': 3})"
      ]
     },
     "execution_count": 25,
     "metadata": {},
     "output_type": "execute_result"
    }
   ],
   "source": [
    "from collections import Counter\n",
    "\n",
    "inventory = Counter()\n",
    "\n",
    "loot = {'sword' : 1, 'bread' : 3}\n",
    "inventory.update(loot)\n",
    "inventory"
   ]
  },
  {
   "cell_type": "code",
   "execution_count": 26,
   "id": "dc2e902a",
   "metadata": {},
   "outputs": [
    {
     "data": {
      "text/plain": [
       "Counter({'sword': 1, 'bread': 4, 'apple': 1})"
      ]
     },
     "execution_count": 26,
     "metadata": {},
     "output_type": "execute_result"
    }
   ],
   "source": [
    "more_loot = {'bread' :1, 'apple' : 1}\n",
    "inventory.update(more_loot)\n",
    "inventory"
   ]
  },
  {
   "cell_type": "markdown",
   "id": "323a6434",
   "metadata": {},
   "source": [
    "- Counter 객체의 요소 수를 셀 때는 주의\n",
    "    - len()을 호출하면 멀티세트의 고유 요소 수를 반환하는 반면, sum() 함수를 사용하면 총 요소수가 반환\n",
    "    "
   ]
  },
  {
   "cell_type": "code",
   "execution_count": 27,
   "id": "bf6de216",
   "metadata": {},
   "outputs": [
    {
     "data": {
      "text/plain": [
       "3"
      ]
     },
     "execution_count": 27,
     "metadata": {},
     "output_type": "execute_result"
    }
   ],
   "source": [
    "len(inventory) # 고유 요소"
   ]
  },
  {
   "cell_type": "code",
   "execution_count": 30,
   "id": "82693e4c",
   "metadata": {},
   "outputs": [
    {
     "data": {
      "text/plain": [
       "6"
      ]
     },
     "execution_count": 30,
     "metadata": {},
     "output_type": "execute_result"
    }
   ],
   "source": [
    "sum(inventory.values()) # 총 요소"
   ]
  },
  {
   "cell_type": "code",
   "execution_count": 31,
   "id": "10561c9a",
   "metadata": {},
   "outputs": [
    {
     "data": {
      "text/plain": [
       "dict_values([1, 4, 1])"
      ]
     },
     "execution_count": 31,
     "metadata": {},
     "output_type": "execute_result"
    }
   ],
   "source": [
    "inventory.values()"
   ]
  },
  {
   "cell_type": "code",
   "execution_count": 32,
   "id": "e18a939e",
   "metadata": {},
   "outputs": [
    {
     "data": {
      "text/plain": [
       "dict_keys(['sword', 'bread', 'apple'])"
      ]
     },
     "execution_count": 32,
     "metadata": {},
     "output_type": "execute_result"
    }
   ],
   "source": [
    "inventory.keys()"
   ]
  },
  {
   "cell_type": "markdown",
   "id": "9ebfe3cb",
   "metadata": {},
   "source": [
    "#### keypoint( 세트와 멀티세트 )\n",
    "\n",
    "- 세트는 파이썬과 파이썬 표준 라이브러리에 포함된 또 다른 유용하고 범용적으로 사양되는 데이터 구조\n",
    "- 변경 가능한 세트가 필요하면 내장 set 타입을 사용\n",
    "- frozenset 객체는 해시 가능하며 딕셔너리 또는 세트의 키로 사용할 수 있음\n",
    "- collections.Counter는 멀티세트 또는 '가방(bag)' 데이터 구조를 구현함"
   ]
  },
  {
   "cell_type": "markdown",
   "id": "145ba201",
   "metadata": {},
   "source": [
    "# 스택( LIFO )\n",
    "\n",
    "- 스택은 삽입과 삭제를 '후입선출(last-in, first-out)' 방식으로 빠르게 처리해 주는 객체 컬렉션\n",
    "- 리스트나 배열과 달리 스택은 일반적으로 요소 객체로의 임의 접근을 허용하지 않음\n",
    "- 삽입 및 삭제 작업은 '푸시'와 '팝'이라고 함\n",
    "- 스택과 큐는 비슷함\n",
    "    - 둘 다 순차적인 컬렉션이며, 원소에 접근하는 순서만 다름\n",
    "    - 큐에서는 가장 오래전에 추가된 요소를 제거(first-in, first-out), 스택을 사용하면 가장 최근 추가 항목 제거\n",
    "- 제대로 구현한 스택은 삽입 및 삭제 작업에 O(1) 시간이 걸림\n",
    "    - 알고리즘에서 광범위한 용도로 쓰임\n",
    "    - 언어 구문 분석 및 런타임 메모리 관리('호출 스택') 에 쓰임\n",
    "    - 트리 또는 그래프 데이터 구조에서 깊이 우선 탐색은 스택을 활용한 짧고 아름다운 알고리즘"
   ]
  },
  {
   "cell_type": "markdown",
   "id": "9ce9495d",
   "metadata": {},
   "source": [
    "#### list : 간단한 내장 스택\n",
    "- list 타입은 O(1) 시간에 푸쉬 및 팝 작업을 수행함으로 괜찮은 데이터 구조\n",
    "- 파이썬 내부적으로 동적 배열로 구현\n",
    "    - 항목이 추가되거나 제거될 때, 저장된 항목의 저장 공간 크기를 가끔식 조정해야 하는 경우가 있음\n",
    "    - 리스트는 저장소를 필요보다 많이 할당해 두므로 푸시 또는 팝을 수행할 때마다 크기를 조정해야 하는 건 아님\n",
    "- 단점은 연결 리스트 기반 구현(collections.deque)에서 제공하는 안정적인 삽입과 삭제보다 성능에서 일관성이 떨어짐\n",
    "- 반면, 리스트는 요소로의 무작의 접근을 빠른 시간에 수행할 수 있다는 이점을 추가로 제공\n",
    "    - 리스트를 스택으로 사용할 때 인지해야할 중요한 성능상의 주의점\n",
    "        - 삽입, 삭제 시 O(1) 성능을 얻으려면 새항목은 append()를 사용하여 추가\n",
    "        - 제거할 때는 pop() 메서드를 사용하여 끝에 있는 항목부터 제거\n",
    "            - 최적의 성능을 위해 리스트 기반 스택은 더 높은 인덱스 쪽으로 커지고 더 낮은 인덱스 쪽으로 줄어들어야 함\n",
    "            "
   ]
  },
  {
   "cell_type": "code",
   "execution_count": 33,
   "id": "10911991",
   "metadata": {},
   "outputs": [
    {
     "data": {
      "text/plain": [
       "['eat', 'sleep', 'code']"
      ]
     },
     "execution_count": 33,
     "metadata": {},
     "output_type": "execute_result"
    }
   ],
   "source": [
    "s = []\n",
    "s.append('eat')\n",
    "s.append('sleep')\n",
    "s.append('code')\n",
    "s"
   ]
  },
  {
   "cell_type": "code",
   "execution_count": 34,
   "id": "a841cd50",
   "metadata": {},
   "outputs": [
    {
     "data": {
      "text/plain": [
       "'code'"
      ]
     },
     "execution_count": 34,
     "metadata": {},
     "output_type": "execute_result"
    }
   ],
   "source": [
    "s.pop()"
   ]
  },
  {
   "cell_type": "markdown",
   "id": "144eb43a",
   "metadata": {},
   "source": [
    "#### collections.deque: 빠르고 강력한 스택\n",
    "\n",
    "- deque 클래스는 O(1) 시간에 어느 쪽에서든 요소를 추가, 삭제할 수 있는 양단 큐\n",
    "- deque는 양쪽 끝에서 요소를 동일하게 추가, 제거해도 되기 때문에 큐와 스택으로 모두 사용가능\n",
    "- deque 객체는 이중 연결 리스트로 구현되어 요소를 삽입하고 삭제하는데 탁월하고 일관된 성능 제공\n",
    "    - 스택 중간의 임의 원소에 접근하려 할때 O(N) 성능을 갖음\n"
   ]
  },
  {
   "cell_type": "code",
   "execution_count": 35,
   "id": "c90f5895",
   "metadata": {},
   "outputs": [
    {
     "data": {
      "text/plain": [
       "deque(['eat', 'sleep', 'code'])"
      ]
     },
     "execution_count": 35,
     "metadata": {},
     "output_type": "execute_result"
    }
   ],
   "source": [
    "from collections import deque\n",
    "\n",
    "s = deque()\n",
    "s.append('eat')\n",
    "s.append('sleep')\n",
    "s.append('code')\n",
    "s"
   ]
  },
  {
   "cell_type": "code",
   "execution_count": 36,
   "id": "8d1c876d",
   "metadata": {},
   "outputs": [
    {
     "data": {
      "text/plain": [
       "'code'"
      ]
     },
     "execution_count": 36,
     "metadata": {},
     "output_type": "execute_result"
    }
   ],
   "source": [
    "s.pop()"
   ]
  },
  {
   "cell_type": "markdown",
   "id": "4ed87a0c",
   "metadata": {},
   "source": [
    "#### queue.LifeQueue: 병렬 컴퓨팅을 위한 잠금 체계\n",
    "- LifeQueue 스택 구현은 동기 방식이며 동시에 여러 생산자와 소비자를 지원하는 잠금 체계를 제공\n",
    "- LifeQueue 외에도 queue 모듈에는 병렬 컴퓨팅에 유용한 다중 생산자/다중 소비자 큐를 구현하는 클래스 포함\n",
    "- 잠금 체계가 필요없다면 list나 deque를 사용하는 것이 좋음"
   ]
  },
  {
   "cell_type": "code",
   "execution_count": 38,
   "id": "81d26d69",
   "metadata": {},
   "outputs": [
    {
     "data": {
      "text/plain": [
       "<queue.LifoQueue at 0x1ac1cc38550>"
      ]
     },
     "execution_count": 38,
     "metadata": {},
     "output_type": "execute_result"
    }
   ],
   "source": [
    "from queue import LifoQueue\n",
    "s = LifoQueue()\n",
    "s.put('eat')\n",
    "s.put('sleep')\n",
    "s.put('code')\n",
    "s"
   ]
  },
  {
   "cell_type": "code",
   "execution_count": 39,
   "id": "bc4fd419",
   "metadata": {},
   "outputs": [
    {
     "data": {
      "text/plain": [
       "'code'"
      ]
     },
     "execution_count": 39,
     "metadata": {},
     "output_type": "execute_result"
    }
   ],
   "source": [
    "s.get()"
   ]
  },
  {
   "cell_type": "code",
   "execution_count": 40,
   "id": "27cc7b30",
   "metadata": {},
   "outputs": [
    {
     "data": {
      "text/plain": [
       "'sleep'"
      ]
     },
     "execution_count": 40,
     "metadata": {},
     "output_type": "execute_result"
    }
   ],
   "source": [
    "s.get_nowait()\n",
    "# 큐가 비어있다면 get()은 영원히 기다림"
   ]
  },
  {
   "cell_type": "markdown",
   "id": "6839f5db",
   "metadata": {},
   "source": [
    "#### 파이썬의 스택 구현 비교\n",
    "- 병렬 처리 지원하지 않아도 된다면, list or collections.deque 선택\n",
    "    - list는 동적 배열로 구성\n",
    "        - 동적 배열은 빠른 임의 접근 가능\n",
    "        - 항목이 추가되거나 삭제될 때 가끔 크기를 조정해야함\n",
    "        - 리스트는 저장 공간을 여유 있게 할당하므로 시간 복잡도 O(1)\n",
    "        - append(), pop()을 사용하여, '오른쪽'부터 제거하지 않으면 O(N)\n",
    "    - collections.deque\n",
    "        - 양쪽 끝에서 추가 및 삭제를 최적화하는 이중 연결 리스트\n",
    "        - 성능이 안정적이고 '잘못된 끝'에서 항목을 추가하거나 제거하는 것을 고려하지 않아도됨\n",
    "        \n",
    "    - collections.deque는 파이썬에서 스택을 구현할 때 탁월한 선택"
   ]
  },
  {
   "cell_type": "markdown",
   "id": "5f2d239f",
   "metadata": {},
   "source": [
    "#### keypoint( 스택 )\n",
    "- 여러가지 스택 구현을 제공함\n",
    "- collections.deque는 안전하고 빠른 범용 스택 구현을 제공함\n",
    "- 내장된 list 타입은 스택으로 사용할 수 있지만, append(), pop()을 사용 권장( 삽입, 제거 )"
   ]
  },
  {
   "cell_type": "markdown",
   "id": "ce61e9d4",
   "metadata": {},
   "source": [
    "# 큐 ( FIFO )\n",
    "\n",
    "- 선입선출 방식의 삽입과 삭제를 지원하는 객체 컬렉션\n",
    "- 삽입, 삭제는 'enqueue', 'dequeue'로 불림\n",
    "- 리스트나 배열과 달리 큐는 내부 객체에 대한 임의 접근을 허용하지 않는 것이 일반적\n",
    "    - 트리나 그래프 데이터 구조에서 너비 우선 탐색은 큐를 활용한 알고리즘\n",
    "- 스케줄링 알고리즘은 우선순위큐를 내부적으로 사용"
   ]
  },
  {
   "cell_type": "markdown",
   "id": "440db210",
   "metadata": {},
   "source": [
    "#### list : 끔직하게 느린 큐\n",
    "- O(N) 시간을 요구하므로 큐로 사용하기에 느림"
   ]
  },
  {
   "cell_type": "code",
   "execution_count": 41,
   "id": "b71e5ce0",
   "metadata": {},
   "outputs": [
    {
     "data": {
      "text/plain": [
       "['eat', 'sleep', 'code']"
      ]
     },
     "execution_count": 41,
     "metadata": {},
     "output_type": "execute_result"
    }
   ],
   "source": [
    "q= []\n",
    "q.append('eat')\n",
    "q.append('sleep')\n",
    "q.append('code')\n",
    "q"
   ]
  },
  {
   "cell_type": "code",
   "execution_count": 42,
   "id": "028dd44a",
   "metadata": {},
   "outputs": [
    {
     "data": {
      "text/plain": [
       "'eat'"
      ]
     },
     "execution_count": 42,
     "metadata": {},
     "output_type": "execute_result"
    }
   ],
   "source": [
    "# Careful : Too slow!\n",
    "q.pop(0)"
   ]
  },
  {
   "cell_type": "markdown",
   "id": "e7040bc3",
   "metadata": {},
   "source": [
    "#### collections.deque: 빠르고 강력한 큐\n",
    "\n",
    "- 임의 요소로 접근하는 경우만 아니면 탁월한 성능\n",
    "- 큐 데이터 구조를 찾는 다면 가장 좋은 선택"
   ]
  },
  {
   "cell_type": "code",
   "execution_count": 43,
   "id": "7c62d5a9",
   "metadata": {},
   "outputs": [
    {
     "data": {
      "text/plain": [
       "deque(['eat', 'sleep', 'code'])"
      ]
     },
     "execution_count": 43,
     "metadata": {},
     "output_type": "execute_result"
    }
   ],
   "source": [
    "from collections import deque\n",
    "q = deque()\n",
    "q.append('eat')\n",
    "q.append('sleep')\n",
    "q.append('code')\n",
    "q"
   ]
  },
  {
   "cell_type": "code",
   "execution_count": 44,
   "id": "7e56c407",
   "metadata": {},
   "outputs": [
    {
     "data": {
      "text/plain": [
       "'eat'"
      ]
     },
     "execution_count": 44,
     "metadata": {},
     "output_type": "execute_result"
    }
   ],
   "source": [
    "q.popleft()"
   ]
  },
  {
   "cell_type": "markdown",
   "id": "ce4d9e37",
   "metadata": {},
   "source": [
    "#### queue.Queue: 병렬 컴퓨팅을 위한 잠금 체계\n",
    "\n",
    "- queue.Queue는 동기 방식으로 구현되었으며 동시에 여러 생산자와 소비자에게 잠금체계 제공\n",
    "- 다중 생산자/다중 소비자 큐를 구현하는 클래스 포함\n",
    "- 불필요한 부하 발생 가능성\n",
    "- 잠금 체계가 필요할 때에만 선택"
   ]
  },
  {
   "cell_type": "code",
   "execution_count": 1,
   "id": "6e0213b3",
   "metadata": {},
   "outputs": [
    {
     "data": {
      "text/plain": [
       "<queue.Queue at 0x1ad12ea04f0>"
      ]
     },
     "execution_count": 1,
     "metadata": {},
     "output_type": "execute_result"
    }
   ],
   "source": [
    "from queue import Queue\n",
    "\n",
    "q = Queue()\n",
    "q.put = 'eat'\n",
    "q.put = 'sleep'\n",
    "q.put = 'code'\n",
    "q"
   ]
  },
  {
   "cell_type": "code",
   "execution_count": null,
   "id": "b8d510d3",
   "metadata": {},
   "outputs": [],
   "source": [
    "q.get()"
   ]
  },
  {
   "cell_type": "markdown",
   "id": "a316710b",
   "metadata": {},
   "source": [
    "#### multiprocessing.Queue: 공유 작업 큐\n",
    "\n",
    "- 작업자가 동시에 처리할 수 있게 해 주는 공유 작업 큐\n",
    "- 단일 인터프리터 프로세스에서 일부 병렬 실행을 못하게 제한하는 전역 인터프리터 잠금(GIL) 때문에 CPython에서는 프로세스 기반 병렬화가 널리 사용\n",
    "- 프로세스 간에 데이터를 공유하기 위한 특별한 큐 구현인 multiprocessing.Queue를 사용하면 GIL 제한을 해결하고 여러 프로세스 간에 작업을 쉽게 배포 가능\n",
    "- 이런 타입의 큐는 프로세스 경계를 넘어서 피클(pickle) 가능한 객체를 저장하고 전송가능"
   ]
  },
  {
   "cell_type": "code",
   "execution_count": 1,
   "id": "0683b7f8",
   "metadata": {},
   "outputs": [
    {
     "data": {
      "text/plain": [
       "<multiprocessing.queues.Queue at 0x19313c75b50>"
      ]
     },
     "execution_count": 1,
     "metadata": {},
     "output_type": "execute_result"
    }
   ],
   "source": [
    "from multiprocessing import Queue\n",
    "\n",
    "q= Queue()\n",
    "q.put('eat')\n",
    "q.put('sleep')\n",
    "q"
   ]
  },
  {
   "cell_type": "code",
   "execution_count": 2,
   "id": "55a5b8ca",
   "metadata": {},
   "outputs": [
    {
     "data": {
      "text/plain": [
       "'eat'"
      ]
     },
     "execution_count": 2,
     "metadata": {},
     "output_type": "execute_result"
    }
   ],
   "source": [
    "q.get()"
   ]
  },
  {
   "cell_type": "markdown",
   "id": "7f3375bb",
   "metadata": {},
   "source": [
    "#### keypoint ( 큐 )\n",
    "\n",
    "- 파이썬의 핵심 언어 및 표준 라이브러리는 여러 가지 큐 구현을 가짐\n",
    "- list 객체는 큐로 사용할 수 있음 성능이 좋지 않음\n",
    "- 병렬 처리 지원을 찾고 있지 않다면, collections.deque"
   ]
  },
  {
   "cell_type": "markdown",
   "id": "44c665bb",
   "metadata": {},
   "source": [
    "# 우선 순위 큐\n",
    "\n",
    "- totally ordered set 으로 된 키(가중치가 있는)가 있는 레코드 집합을 관리하는 컨테이너 데이터 구조\n",
    "- 레코드 집합에서 '가장 작은' 키 또는 '가장 큰' 키를 사용하여 레코드에 빠르게 접근가능\n",
    "- 우선 순위 큐는 큐의 변형"
   ]
  },
  {
   "cell_type": "markdown",
   "id": "b16fd7e7",
   "metadata": {},
   "source": [
    "#### list: 수동으로 정렬된 큐 유지하기\n",
    "\n",
    "- 정렬된 list를 사용하면 가장 작은 항목 또는 가장 큰 항목을 신속하게 찾아서 삭제 가능, but 새 항목을 삽입하는 데 느림\n",
    "- 삽입 지점은 표준 라이브러리의 bisect.insort를 사용하여 찾을 수 있음\n",
    "- 순서를 유지하려면 O(nlogn) 시간이 걸림\n",
    "- 새 항목이 삽입될 때 수동으로 리스트를 다시 정렬 해야함\n"
   ]
  },
  {
   "cell_type": "code",
   "execution_count": 4,
   "id": "dfdd9d2e",
   "metadata": {},
   "outputs": [
    {
     "name": "stdout",
     "output_type": "stream",
     "text": [
      "(1, 'eat')\n",
      "(2, 'code')\n",
      "(3, 'sleep')\n"
     ]
    }
   ],
   "source": [
    "q = []\n",
    "q.append((2, 'code'))\n",
    "q.append((1, 'eat'))\n",
    "q.append((3, 'sleep'))\n",
    "\n",
    "# careful : 재정렬할 때마다\n",
    "# 새소요가 삽입된다.\n",
    "# bisect.insort()를 사용해 볼 것\n",
    "\n",
    "q.sort(reverse = True)\n",
    "\n",
    "while q:\n",
    "    next_item = q.pop()\n",
    "    print(next_item)\n",
    "    "
   ]
  },
  {
   "cell_type": "markdown",
   "id": "bfb661db",
   "metadata": {},
   "source": [
    "#### heapq: 리스트 기반 이진 힙\n",
    "\n",
    "- 일반 list에 의해 구현된 이진 힙\n",
    "- 가장 작은 항목의 삽입과 추출을 O(logn) 시간에 해냄\n",
    "- 우선 순위 큐를 구현하기에 좋은 선택\n",
    "- 최소 (min) 힙 구현만 제공"
   ]
  },
  {
   "cell_type": "code",
   "execution_count": 5,
   "id": "07e78576",
   "metadata": {},
   "outputs": [
    {
     "name": "stdout",
     "output_type": "stream",
     "text": [
      "(1, 'eat')\n",
      "(2, 'code')\n"
     ]
    }
   ],
   "source": [
    "import heapq\n",
    "\n",
    "q= []\n",
    "heapq.heappush(q, (2, 'code'))\n",
    "heapq.heappush(q, (1, 'eat'))\n",
    "\n",
    "while q:\n",
    "    next_item = heapq.heappop(q)\n",
    "    print(next_item)"
   ]
  },
  {
   "cell_type": "markdown",
   "id": "115aca18",
   "metadata": {},
   "source": [
    "#### queue.PriorityQueue: 아름다운 우선순위큐\n",
    "\n",
    "- 내부적으로 heapq를 사용하고 동일한 시간과 공간 복잡성을 공유\n",
    "- 다른 점은 PriorityQueue는 동기 방식이며 동시에 여러 생산자와 소비자를 지원하는 잠금 체계를 제공\n",
    "- 용도에 따라 도움이 될 수 있고 프로그램을 느리게 할 수 있음"
   ]
  },
  {
   "cell_type": "code",
   "execution_count": 6,
   "id": "eddeb8dd",
   "metadata": {},
   "outputs": [
    {
     "name": "stdout",
     "output_type": "stream",
     "text": [
      "(1, 'eat')\n",
      "(2, 'code')\n"
     ]
    }
   ],
   "source": [
    "from queue import PriorityQueue\n",
    "\n",
    "q = PriorityQueue()\n",
    "q.put((2, 'code'))\n",
    "q.put((1, 'eat'))\n",
    "\n",
    "while not q.empty():\n",
    "    next_item = q.get()\n",
    "    print(next_item)"
   ]
  },
  {
   "cell_type": "markdown",
   "id": "ed938cd5",
   "metadata": {},
   "source": [
    "#### keypoint ( 우선 순위 큐 )\n",
    "\n",
    "- queue.PriorityQueue는 객체 지향 인터페이스와 그 의도를 명확하게 나타내는 이름 덕분에 돋보임\n",
    "- 잠금 부하를 피하려면 heapq 모듈을 사용하는 것도 좋음"
   ]
  },
  {
   "cell_type": "code",
   "execution_count": null,
   "id": "b70a1e4b",
   "metadata": {},
   "outputs": [],
   "source": []
  }
 ],
 "metadata": {
  "jupytext": {
   "encoding": "# -*- coding: utf-8 -*-",
   "formats": "ipynb,py:light"
  },
  "kernelspec": {
   "display_name": "Python 3",
   "language": "python",
   "name": "python3"
  },
  "language_info": {
   "codemirror_mode": {
    "name": "ipython",
    "version": 3
   },
   "file_extension": ".py",
   "mimetype": "text/x-python",
   "name": "python",
   "nbconvert_exporter": "python",
   "pygments_lexer": "ipython3",
   "version": "3.8.10"
  }
 },
 "nbformat": 4,
 "nbformat_minor": 5
}
