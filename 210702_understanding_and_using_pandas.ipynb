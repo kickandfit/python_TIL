{
 "cells": [
  {
   "cell_type": "code",
   "execution_count": 3,
   "id": "b8448a4a",
   "metadata": {},
   "outputs": [],
   "source": [
    "import pandas as pd\n",
    "from numpy import random as rd\n",
    "import matplotlib.pyplot as plt"
   ]
  },
  {
   "cell_type": "markdown",
   "id": "700ef294",
   "metadata": {},
   "source": [
    "#### pandas.Series 구조\n",
    "\n",
    "- 1차원(1D) 구조를 가지고 있음"
   ]
  },
  {
   "cell_type": "code",
   "execution_count": 8,
   "id": "a8a50af6",
   "metadata": {},
   "outputs": [
    {
     "name": "stdout",
     "output_type": "stream",
     "text": [
      "0    aaa\n",
      "1    bbb\n",
      "2    ccc\n",
      "3    ddd\n",
      "Name: Name, dtype: object\n",
      "<class 'pandas.core.series.Series'>\n"
     ]
    }
   ],
   "source": [
    "# Series 구조로 생성하는 경우는 아주 드물다\n",
    "df1 = pd.Series(['aaa', 'bbb', 'ccc', 'ddd'], name = \"Name\")\n",
    "print(df1)\n",
    "print(type(df1))"
   ]
  },
  {
   "cell_type": "code",
   "execution_count": 12,
   "id": "9a3c6c2e",
   "metadata": {},
   "outputs": [
    {
     "name": "stdout",
     "output_type": "stream",
     "text": [
      "   Age\n",
      "0   13\n",
      "1   24\n",
      "2   31\n",
      "3   29\n",
      "\n",
      "0    13\n",
      "1    24\n",
      "2    31\n",
      "3    29\n",
      "Name: Age, dtype: int64\n"
     ]
    }
   ],
   "source": [
    "df2 = pd.Series([13, 24, 31, 29], name = \"Age\")\n",
    "print(pd.DataFrame(df2))\n",
    "print()\n",
    "print(df2)\n"
   ]
  },
  {
   "cell_type": "code",
   "execution_count": 19,
   "id": "4d58d78f",
   "metadata": {},
   "outputs": [
    {
     "name": "stdout",
     "output_type": "stream",
     "text": [
      "  Name  Age\n",
      "0  aaa   13\n",
      "1  bbb   24\n",
      "2  ccc   31\n",
      "3  ddd   29\n",
      "<class 'pandas.core.frame.DataFrame'>\n"
     ]
    }
   ],
   "source": [
    "# 시리즈로 만들어진 데이터 하나로 합치기\n",
    "# 단 데이터 프레임 구조라도 데이터 개수만 같으면 사용할 수 있다\n",
    "# 두 개 이상의 데이터프레임 또는 시리즈 구조의 데이터를 병합할 때 사용\n",
    "# 병합방법 : 행병합(행추가) -> axis = 0, 열병합(열추가) -> axis = 1\n",
    "\n",
    "\n",
    "df0 = pd.concat([ df1, df2 ], axis = 1)\n",
    "print(df0)\n",
    "print(type(df0))"
   ]
  },
  {
   "cell_type": "markdown",
   "id": "1f0a453d",
   "metadata": {},
   "source": [
    "### pandas.DataFrame 구조"
   ]
  },
  {
   "cell_type": "code",
   "execution_count": 21,
   "id": "80cac598",
   "metadata": {},
   "outputs": [
    {
     "data": {
      "text/html": [
       "<div>\n",
       "<style scoped>\n",
       "    .dataframe tbody tr th:only-of-type {\n",
       "        vertical-align: middle;\n",
       "    }\n",
       "\n",
       "    .dataframe tbody tr th {\n",
       "        vertical-align: top;\n",
       "    }\n",
       "\n",
       "    .dataframe thead th {\n",
       "        text-align: right;\n",
       "    }\n",
       "</style>\n",
       "<table border=\"1\" class=\"dataframe\">\n",
       "  <thead>\n",
       "    <tr style=\"text-align: right;\">\n",
       "      <th></th>\n",
       "      <th>Name</th>\n",
       "      <th>Age</th>\n",
       "      <th>Sex</th>\n",
       "    </tr>\n",
       "  </thead>\n",
       "  <tbody>\n",
       "    <tr>\n",
       "      <th>0</th>\n",
       "      <td>aaa</td>\n",
       "      <td>33</td>\n",
       "      <td>male</td>\n",
       "    </tr>\n",
       "    <tr>\n",
       "      <th>1</th>\n",
       "      <td>bbb</td>\n",
       "      <td>28</td>\n",
       "      <td>female</td>\n",
       "    </tr>\n",
       "    <tr>\n",
       "      <th>2</th>\n",
       "      <td>ccc</td>\n",
       "      <td>45</td>\n",
       "      <td>male</td>\n",
       "    </tr>\n",
       "    <tr>\n",
       "      <th>3</th>\n",
       "      <td>ddd</td>\n",
       "      <td>41</td>\n",
       "      <td>female</td>\n",
       "    </tr>\n",
       "  </tbody>\n",
       "</table>\n",
       "</div>"
      ],
      "text/plain": [
       "  Name  Age     Sex\n",
       "0  aaa   33    male\n",
       "1  bbb   28  female\n",
       "2  ccc   45    male\n",
       "3  ddd   41  female"
      ]
     },
     "execution_count": 21,
     "metadata": {},
     "output_type": "execute_result"
    }
   ],
   "source": [
    "# pandas.DataFrame 생성 : 딕셔너리 구조 이용\n",
    "\n",
    "df1 = pd.DataFrame({'Name' : ['aaa', 'bbb', 'ccc', 'ddd'],\n",
    "                   'Age' : [33, 28, 45, 41],\n",
    "                   'Sex' : ['male', 'female', 'male', 'female']})\n",
    "df1"
   ]
  },
  {
   "cell_type": "code",
   "execution_count": 29,
   "id": "33d6530c",
   "metadata": {},
   "outputs": [
    {
     "name": "stdout",
     "output_type": "stream",
     "text": [
      "  Name  Age     sex\n",
      "0  AAA   33    male\n",
      "1  BBB   28  female\n",
      "2  CCC   45    male\n",
      "3  DDD   41  female\n"
     ]
    }
   ],
   "source": [
    "# pandas.DataFrame 생성 : 리스트 구조 이용\n",
    "# pandas.DataFrame([리스트 값], columns = [열이름 정의])\n",
    "\n",
    "\n",
    "df1 = pd.DataFrame([['AAA', 33, 'male'], \n",
    "                   ['BBB', 28, 'female'], \n",
    "                   ['CCC', 45, 'male'], \n",
    "                   ['DDD', 41, 'female']], columns = [\"Name\" , 'Age', 'sex'])\n",
    "print(df1)\n"
   ]
  },
  {
   "cell_type": "code",
   "execution_count": 31,
   "id": "c055050f",
   "metadata": {},
   "outputs": [
    {
     "data": {
      "text/html": [
       "<div>\n",
       "<style scoped>\n",
       "    .dataframe tbody tr th:only-of-type {\n",
       "        vertical-align: middle;\n",
       "    }\n",
       "\n",
       "    .dataframe tbody tr th {\n",
       "        vertical-align: top;\n",
       "    }\n",
       "\n",
       "    .dataframe thead th {\n",
       "        text-align: right;\n",
       "    }\n",
       "</style>\n",
       "<table border=\"1\" class=\"dataframe\">\n",
       "  <thead>\n",
       "    <tr style=\"text-align: right;\">\n",
       "      <th></th>\n",
       "      <th>Name</th>\n",
       "      <th>Agee</th>\n",
       "      <th>sex</th>\n",
       "    </tr>\n",
       "  </thead>\n",
       "  <tbody>\n",
       "    <tr>\n",
       "      <th>0</th>\n",
       "      <td>aaa</td>\n",
       "      <td>33</td>\n",
       "      <td>male</td>\n",
       "    </tr>\n",
       "    <tr>\n",
       "      <th>1</th>\n",
       "      <td>bbb</td>\n",
       "      <td>28</td>\n",
       "      <td>female</td>\n",
       "    </tr>\n",
       "    <tr>\n",
       "      <th>2</th>\n",
       "      <td>ccc</td>\n",
       "      <td>45</td>\n",
       "      <td>male</td>\n",
       "    </tr>\n",
       "    <tr>\n",
       "      <th>3</th>\n",
       "      <td>ddd</td>\n",
       "      <td>41</td>\n",
       "      <td>female</td>\n",
       "    </tr>\n",
       "  </tbody>\n",
       "</table>\n",
       "</div>"
      ],
      "text/plain": [
       "  Name  Agee     sex\n",
       "0  aaa    33    male\n",
       "1  bbb    28  female\n",
       "2  ccc    45    male\n",
       "3  ddd    41  female"
      ]
     },
     "execution_count": 31,
     "metadata": {},
     "output_type": "execute_result"
    }
   ],
   "source": [
    "# pandas.DataFrame 생성 : 리스트와 딕셔너리가 같이 있는 경우\n",
    "#pandas.DataFrame( [ {딕셔너리1}, {딕셔너리2}, {딕셔너리3}, {딕셔너리4} )\n",
    "\n",
    "df1 = pd.DataFrame( [{'Name' : 'aaa', 'Agee' : 33, 'sex' : 'male'},\n",
    "                    {'Name' : 'bbb', 'Agee' : 28, 'sex' : 'female'},\n",
    "                    {'Name' : 'ccc', 'Agee' : 45, 'sex' : 'male'},\n",
    "                    {'Name' : 'ddd', 'Agee' : 41, 'sex' : 'female'},])\n",
    "df1"
   ]
  },
  {
   "cell_type": "markdown",
   "id": "462b85e7",
   "metadata": {},
   "source": [
    "### 성적표.csv 파일을 이용한 데이터 추가/수정/삭제 등 관리"
   ]
  },
  {
   "cell_type": "code",
   "execution_count": 35,
   "id": "51200401",
   "metadata": {},
   "outputs": [
    {
     "name": "stdout",
     "output_type": "stream",
     "text": [
      "    순번   이름         학과 남/여  학년  이론  실기\n",
      "0    1  송윤재  환경디자인원예학과  여자   2 NaN NaN\n",
      "1    2  강민형     사회복지학과  여자   3 NaN NaN\n",
      "2    3  강예린  환경디자인원예학과  여자   3 NaN NaN\n",
      "3    4  고보빈       경영학과  여자   4 NaN NaN\n",
      "4    5  김다정     보건관리학과  여자   3 NaN NaN\n",
      "5    6  김두언     상담심리학과  남자   2 NaN NaN\n",
      "6    7  김민지       중국어과  여자   3 NaN NaN\n",
      "7    8  김수현    화학생명과학과  여자   3 NaN NaN\n",
      "8    9  김영서       중국어과  여자   4 NaN NaN\n",
      "9   10  김예은     사회복지학과  여자   2 NaN NaN\n",
      "10  11  김태우     식품영양학과  남자   3 NaN NaN\n",
      "11  12  노예빈     경영정보학과  여자   3 NaN NaN\n",
      "12  13  류원선       경영학과  남자   3 NaN NaN\n",
      "13  14  박규리    화학생명과학과  여자   3 NaN NaN\n",
      "14  15  박영수       경영학과  남자   4 NaN NaN\n",
      "15  16  박진아       건축학과  여자   3 NaN NaN\n",
      "16  17  박현경       경영학과  여자   2 NaN NaN\n",
      "17  18  백주연       중국어과  여자   4 NaN NaN\n",
      "18  19  서예선    IT융합공학과  여자   2 NaN NaN\n",
      "19  20  송수빈       음악학과  여자   4 NaN NaN\n",
      "20  21  안연주    영어영문학전공  여자   4 NaN NaN\n",
      "21  22  양정원    영어영문학전공  여자   3 NaN NaN\n",
      "22  23  염효석     보건관리학과  남자   3 NaN NaN\n",
      "23  24  윤예지       일본어과  여자   3 NaN NaN\n",
      "24  25  윤채린     경영정보학과  여자   3 NaN NaN\n",
      "25  26  이기상       일본어과  남자   4 NaN NaN\n",
      "26  27  이민영       경영학과  여자   3 NaN NaN\n",
      "27  28  이아람   동물생명자원학과  여자   4 NaN NaN\n",
      "28  29  이여경       음악학과  여자   4 NaN NaN\n",
      "29  30  이정현  환경디자인원예학과  여자   1 NaN NaN\n",
      "30  31  이주연     경영정보학과  여자   2 NaN NaN\n",
      "31  32  장채연       간호학과  여자   3 NaN NaN\n",
      "32  33  정민주       음악학과  여자   3 NaN NaN\n",
      "33  34  정예슬       간호학과  여자   1 NaN NaN\n",
      "34  35  홍지호    영어통번역전공  남자   4 NaN NaN\n"
     ]
    }
   ],
   "source": [
    "#csv 파일 가져오기 : pd.read_csv('디렉토리 경로 및 파일명' , encoding='형태에 맞춰서')\n",
    "# encoding 옵션 : 기본 utf-8, 상황에 따라, cp949, ansi, utf-16\n",
    "df1=pd.read_csv('./Data/성적표.csv', encoding = 'cp949')\n",
    "print(df1)"
   ]
  },
  {
   "cell_type": "code",
   "execution_count": null,
   "id": "b6be1b7c",
   "metadata": {},
   "outputs": [],
   "source": []
  }
 ],
 "metadata": {
  "jupytext": {
   "formats": "ipynb,auto:light"
  },
  "kernelspec": {
   "display_name": "Python 3",
   "language": "python",
   "name": "python3"
  },
  "language_info": {
   "codemirror_mode": {
    "name": "ipython",
    "version": 3
   },
   "file_extension": ".py",
   "mimetype": "text/x-python",
   "name": "python",
   "nbconvert_exporter": "python",
   "pygments_lexer": "ipython3",
   "version": "3.9.4"
  }
 },
 "nbformat": 4,
 "nbformat_minor": 5
}
