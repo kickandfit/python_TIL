{
 "cells": [
  {
   "cell_type": "markdown",
   "id": "540ea8ad",
   "metadata": {},
   "source": [
    "### NumPy 특징\n",
    "\n",
    "- 과학 기술 계산을 위한 라이브러리 제공\n",
    "- 백터/행렬/배열 처리 및 연산, 난수 발생\n",
    "- 파일관리(txt, csv 등 파일 읽기/쓰기)\n",
    "- 리스트(list) 형 데이터와 유사하지만 Numpy는 배열의 특징을 가짐\n",
    "- 모든 원소는 동일한 자료형이어야 한다.\n",
    "- 원소들 중 다른 자료형이 있다면 가장 큰 자료형으로 변경됨\n",
    "- 계산 속도가 빠르다\n",
    "- 벡터/연산, 배열 인덱싱 등을 통해 질의 가능"
   ]
  },
  {
   "cell_type": "code",
   "execution_count": 1,
   "id": "a4760a70",
   "metadata": {},
   "outputs": [],
   "source": [
    "import numpy as np"
   ]
  },
  {
   "cell_type": "code",
   "execution_count": 10,
   "id": "7be134d6",
   "metadata": {},
   "outputs": [
    {
     "data": {
      "text/plain": [
       "[1, 2, 3, 4, 5, 1, 2, 3, 4, 5]"
      ]
     },
     "execution_count": 10,
     "metadata": {},
     "output_type": "execute_result"
    }
   ],
   "source": [
    "lst = [1, 2, 3, 4, 5]\n",
    "s = [i*2 for i in lst]"
   ]
  },
  {
   "cell_type": "code",
   "execution_count": 12,
   "id": "ab2c4a98",
   "metadata": {},
   "outputs": [
    {
     "data": {
      "text/plain": [
       "array([ 2,  4,  6,  8, 10])"
      ]
     },
     "execution_count": 12,
     "metadata": {},
     "output_type": "execute_result"
    }
   ],
   "source": [
    "arr_lst = np.array(lst)\n",
    "arr_lst*2"
   ]
  },
  {
   "cell_type": "markdown",
   "id": "1fdf9e17",
   "metadata": {},
   "source": [
    "#### numpy 연산\n",
    "- 행렬 연산이라고 생각해라\n",
    "     - 즉 데이터의 개수가 맞지 않으면 연산할 수 없다"
   ]
  },
  {
   "cell_type": "code",
   "execution_count": 14,
   "id": "66ec681e",
   "metadata": {},
   "outputs": [
    {
     "name": "stdout",
     "output_type": "stream",
     "text": [
      "[11 22 33]\n",
      "[False  True  True]\n"
     ]
    }
   ],
   "source": [
    "#1차원 배열 구조, 즉 벡터 구조\n",
    "arr1 = np.array([1,2,3])\n",
    "arr2 = np.array([10, 20, 30])\n",
    "print(arr1+arr2)\n",
    "print(arr2>=20)"
   ]
  },
  {
   "cell_type": "markdown",
   "id": "1edeab5f",
   "metadata": {},
   "source": [
    "#### 넘파이를 두 벡터 연산시자료의 갯수는 동일해야 한다"
   ]
  },
  {
   "cell_type": "code",
   "execution_count": null,
   "id": "1f4fd51d",
   "metadata": {},
   "outputs": [],
   "source": [
    "arr1 = np.array([1,2,3,4])\n",
    "arr2 = np.array([10, 20, 30])\n",
    "\n",
    "arr1 + arr2\n",
    "#에러가 나온다 왜? 개수가 맞지 않으니까"
   ]
  },
  {
   "cell_type": "markdown",
   "id": "b5bc9232",
   "metadata": {},
   "source": [
    "#### 2차원 배열 구조"
   ]
  },
  {
   "cell_type": "code",
   "execution_count": 23,
   "id": "1db52e98",
   "metadata": {},
   "outputs": [
    {
     "name": "stdout",
     "output_type": "stream",
     "text": [
      "[[0, 0, 1], [8, 12, 33]]\n",
      "[[ 0  0  1]\n",
      " [ 8 12 33]]\n"
     ]
    }
   ],
   "source": [
    "lst = [[0,0,1], [8, 12, 33]]\n",
    "arr = np.array(lst)\n",
    "print(lst)\n",
    "print(arr)"
   ]
  },
  {
   "cell_type": "code",
   "execution_count": 24,
   "id": "af2b074a",
   "metadata": {},
   "outputs": [
    {
     "data": {
      "text/plain": [
       "array([[ 0,  0,  1],\n",
       "       [ 8, 12, 33]])"
      ]
     },
     "execution_count": 24,
     "metadata": {},
     "output_type": "execute_result"
    }
   ],
   "source": [
    "print(len(lst))  # lst의 전체 데이터 개수\n",
    "print(len(arr))  # arr의 행의 개수\n",
    "\n",
    "print(len(lst[0])) # lst의 첫번째 데이터의 갯수\n",
    "print(len(arr[0])) # arr의 열의 갯수"
   ]
  },
  {
   "cell_type": "markdown",
   "id": "ec33aa0e",
   "metadata": {},
   "source": [
    "- numpy에서 움직이는 데이터는 갯수를 맞춰준다\n",
    "- 그렇지 않으면 object를 받아와 버린다. 즉 list면 array([],[])"
   ]
  },
  {
   "cell_type": "code",
   "execution_count": 25,
   "id": "ebb00776",
   "metadata": {},
   "outputs": [
    {
     "name": "stderr",
     "output_type": "stream",
     "text": [
      "<ipython-input-25-0d602e3c051b>:2: VisibleDeprecationWarning: Creating an ndarray from ragged nested sequences (which is a list-or-tuple of lists-or-tuples-or ndarrays with different lengths or shapes) is deprecated. If you meant to do this, you must specify 'dtype=object' when creating the ndarray.\n",
      "  arr = np.array(lst)\n"
     ]
    },
    {
     "data": {
      "text/plain": [
       "array([list([0, 0, 1, 1]), list([8, 12, 33])], dtype=object)"
      ]
     },
     "execution_count": 25,
     "metadata": {},
     "output_type": "execute_result"
    }
   ],
   "source": [
    "lst = [[0,0,1,1],[8, 12, 33]]\n",
    "arr = np.array(lst)\n",
    "arr"
   ]
  },
  {
   "cell_type": "markdown",
   "id": "91dd1aab",
   "metadata": {},
   "source": [
    "#### 3차원 배열"
   ]
  },
  {
   "cell_type": "code",
   "execution_count": 32,
   "id": "8b0e7d1d",
   "metadata": {},
   "outputs": [
    {
     "name": "stdout",
     "output_type": "stream",
     "text": [
      "(1, 1, 3)\n",
      "[[[10 20 30]]]\n"
     ]
    }
   ],
   "source": [
    "lst = [[[10, 20, 30]]]\n",
    "arr = np.array(lst)\n",
    "print(arr.shape) # arr의 모양을 보는 방법 (차원)\n",
    "#(면, 행, 열)\n",
    "print(arr)"
   ]
  },
  {
   "cell_type": "code",
   "execution_count": 36,
   "id": "02bd2663",
   "metadata": {},
   "outputs": [
    {
     "name": "stdout",
     "output_type": "stream",
     "text": [
      "(1, 2, 3)\n",
      "[[[10 20 30]\n",
      "  [15 25 35]]]\n"
     ]
    }
   ],
   "source": [
    "lst = [[[10, 20, 30],[15, 25, 35]]]\n",
    "arr = np.array(lst)\n",
    "print(arr.shape) # arr의 모양을 보는 방법 (차원)\n",
    "#(면, 행, 열)\n",
    "print(arr)"
   ]
  },
  {
   "cell_type": "markdown",
   "id": "5d30dbcb",
   "metadata": {},
   "source": [
    "- 배열을 만들려면 구조가 똑같아야한다"
   ]
  },
  {
   "cell_type": "code",
   "execution_count": 37,
   "id": "97d4b005",
   "metadata": {},
   "outputs": [
    {
     "name": "stdout",
     "output_type": "stream",
     "text": [
      "(2, 2, 3)\n",
      "[[[10. 20. 30.]\n",
      "  [15. 25. 35.]]\n",
      "\n",
      " [[ 1.  2.  3.]\n",
      "  [12. 13. 15.]]]\n"
     ]
    }
   ],
   "source": [
    "lst = [[[10, 20, 30], [15, 25, 35]],[[1.,2.,3.],[12, 13., 15]]]\n",
    "arr = np.array(lst)\n",
    "print(arr.shape) # arr의 모양을 보는 방법 (차원)\n",
    "#(면, 행, 열)\n",
    "print(arr)"
   ]
  },
  {
   "cell_type": "markdown",
   "id": "68a8ad85",
   "metadata": {},
   "source": [
    "- 가장 큰 자료형으로 바꿔준다"
   ]
  },
  {
   "cell_type": "code",
   "execution_count": 38,
   "id": "d9778d0c",
   "metadata": {},
   "outputs": [
    {
     "name": "stdout",
     "output_type": "stream",
     "text": [
      "(2, 2, 3)\n",
      "[[['10' '20' '30']\n",
      "  ['15' '25' '35']]\n",
      "\n",
      " [['1.0' '2.0' '3.0']\n",
      "  ['12' '13.0' '15']]]\n"
     ]
    }
   ],
   "source": [
    "lst = [[[10, 20, 30], [15, 25, 35]],[[1.,2.,3.],[12, 13., '15']]]\n",
    "arr = np.array(lst)\n",
    "print(arr.shape) # arr의 모양을 보는 방법 (차원)\n",
    "#(면, 행, 열)\n",
    "print(arr)"
   ]
  },
  {
   "cell_type": "markdown",
   "id": "7beca2e5",
   "metadata": {},
   "source": [
    "####  파이썬 자료형\n",
    "- NoneType / bool/ int / float / complex / str / tuple / list / dict/ fuction"
   ]
  },
  {
   "cell_type": "code",
   "execution_count": 39,
   "id": "4714d4ac",
   "metadata": {},
   "outputs": [
    {
     "name": "stdout",
     "output_type": "stream",
     "text": [
      "28\n",
      "24\n",
      "50\n"
     ]
    }
   ],
   "source": [
    "from sys import getsizeof\n",
    "\n",
    "a=1;b=1.;c='1'\n",
    "print(getsizeof(a))\n",
    "print(getsizeof(b))\n",
    "print(getsizeof(c))"
   ]
  },
  {
   "cell_type": "markdown",
   "id": "c041f39c",
   "metadata": {},
   "source": [
    "#### 배열 구조 데이터 인덱싱"
   ]
  },
  {
   "cell_type": "code",
   "execution_count": 40,
   "id": "5dd6a5b5",
   "metadata": {},
   "outputs": [
    {
     "name": "stdout",
     "output_type": "stream",
     "text": [
      "10\n"
     ]
    }
   ],
   "source": [
    "arr = np.array([10, 20, 30, 40, 50])\n",
    "print(arr[0])"
   ]
  },
  {
   "cell_type": "code",
   "execution_count": 45,
   "id": "291e56c6",
   "metadata": {},
   "outputs": [
    {
     "name": "stdout",
     "output_type": "stream",
     "text": [
      "[10 20 30 40 50]\n",
      "[15 25 35 45 55]\n",
      "10\n",
      "10\n"
     ]
    }
   ],
   "source": [
    "# 2차원 배열의 인덱싱\n",
    "\n",
    "arr = np.array([[10, 20, 30, 40, 50],[15, 25, 35, 45, 55]])\n",
    "print(arr[0])    # 첫번째 행 전체 출력해\n",
    "print(arr[-1])   # 마지막 행 전체 출력해\n",
    "print(arr[0][0]) #우리가 리스트에서 데이터 불러왔던 구조,\n",
    "                 #0번째 행가져오고 0번쨰 열 데이터 가져와\n",
    "print(arr[0, 0]) # 0번째 행 0번째 열 데이터 가져와"
   ]
  },
  {
   "cell_type": "code",
   "execution_count": 54,
   "id": "668f81ac",
   "metadata": {},
   "outputs": [
    {
     "name": "stdout",
     "output_type": "stream",
     "text": [
      "(2, 2, 3)\n",
      "[[[10. 20. 30.]\n",
      "  [15. 25. 35.]]\n",
      "\n",
      " [[ 1.  2.  3.]\n",
      "  [12. 13. 15.]]]\n"
     ]
    }
   ],
   "source": [
    "# 3차원 배열의 인덱싱\n",
    "\n",
    "lst = [[[10, 20, 30], [15, 25, 35]],[[1.,2.,3.],[12, 13., 15]]]\n",
    "arr = np.array(lst)\n",
    "print(arr.shape)\n",
    "print(arr)"
   ]
  },
  {
   "cell_type": "markdown",
   "id": "627b39de",
   "metadata": {},
   "source": [
    "####  불리언(Boolean) 배열 방식을 이용한 인덱싱"
   ]
  },
  {
   "cell_type": "code",
   "execution_count": 64,
   "id": "b25dd201",
   "metadata": {},
   "outputs": [
    {
     "data": {
      "text/plain": [
       "array([ 1,  2,  3,  4,  5,  6,  7,  8,  9, 10])"
      ]
     },
     "execution_count": 64,
     "metadata": {},
     "output_type": "execute_result"
    }
   ],
   "source": [
    "arr = np.arange(1, 11)\n",
    "arr"
   ]
  },
  {
   "cell_type": "code",
   "execution_count": 66,
   "id": "0fc57f0d",
   "metadata": {},
   "outputs": [
    {
     "name": "stdout",
     "output_type": "stream",
     "text": [
      "[ 2  4  6  8 10]\n",
      "[1 3 5 7 9]\n"
     ]
    }
   ],
   "source": [
    "atf = np.array([False, True, False, True, False, True, False, True,False, True])\n",
    "print(arr[atf]) # Ture인 값만 매칭해서 출력\n",
    "anum = np.array([0,2,4,6,8])\n",
    "print(arr[anum]) # anum을 위치값으로 사용해 출력"
   ]
  },
  {
   "cell_type": "code",
   "execution_count": 67,
   "id": "5b0be7fb",
   "metadata": {},
   "outputs": [
    {
     "name": "stdout",
     "output_type": "stream",
     "text": [
      "[1 3 5 7 9]\n",
      "[ 2  4  6  8 10]\n"
     ]
    }
   ],
   "source": [
    "print(arr[arr%2==1])\n",
    "print(arr[arr%2==0])"
   ]
  },
  {
   "cell_type": "code",
   "execution_count": 69,
   "id": "c724b3cb",
   "metadata": {},
   "outputs": [
    {
     "data": {
      "text/plain": [
       "array([[10., 20., 30.],\n",
       "       [15., 25., 35.],\n",
       "       [ 1.,  2.,  3.],\n",
       "       [12., 13., 15.]])"
      ]
     },
     "execution_count": 69,
     "metadata": {},
     "output_type": "execute_result"
    }
   ],
   "source": [
    "arr = np.array([[10, 20, 30],[15, 25, 35],[1.,2.,3.],[12, 13., 15]])\n",
    "arr"
   ]
  },
  {
   "cell_type": "code",
   "execution_count": 77,
   "id": "762b2c03",
   "metadata": {},
   "outputs": [
    {
     "data": {
      "text/plain": [
       "array([[15., 25., 35.],\n",
       "       [12., 13., 15.]])"
      ]
     },
     "execution_count": 77,
     "metadata": {},
     "output_type": "execute_result"
    }
   ],
   "source": [
    "arr[[1,3], :] # 1행이랑 3행 가져오고 열은 다가져와"
   ]
  },
  {
   "cell_type": "markdown",
   "id": "0a3f3267",
   "metadata": {},
   "source": [
    "#### 배열 생성/구조 변경"
   ]
  },
  {
   "cell_type": "code",
   "execution_count": 78,
   "id": "730c3fbc",
   "metadata": {},
   "outputs": [
    {
     "data": {
      "text/plain": [
       "dtype('int32')"
      ]
     },
     "execution_count": 78,
     "metadata": {},
     "output_type": "execute_result"
    }
   ],
   "source": [
    "arr = np.array([15, 25, 35 ,45])\n",
    "arr.dtype"
   ]
  },
  {
   "cell_type": "code",
   "execution_count": 84,
   "id": "efd36913",
   "metadata": {},
   "outputs": [
    {
     "data": {
      "text/plain": [
       "dtype('float64')"
      ]
     },
     "execution_count": 84,
     "metadata": {},
     "output_type": "execute_result"
    }
   ],
   "source": [
    "arr = np.array([15, 25, 35 ,45], dtype = 'd')\n",
    "arr.dtype"
   ]
  },
  {
   "cell_type": "code",
   "execution_count": 88,
   "id": "288d6552",
   "metadata": {
    "scrolled": true
   },
   "outputs": [
    {
     "data": {
      "text/plain": [
       "array([15., 28., 35., 45.])"
      ]
     },
     "execution_count": 88,
     "metadata": {},
     "output_type": "execute_result"
    }
   ],
   "source": [
    "arr[1] = 28\n",
    "arr"
   ]
  },
  {
   "cell_type": "code",
   "execution_count": 92,
   "id": "3d0fb875",
   "metadata": {},
   "outputs": [
    {
     "data": {
      "text/plain": [
       "array([2, 4, 6, 8])"
      ]
     },
     "execution_count": 92,
     "metadata": {},
     "output_type": "execute_result"
    }
   ],
   "source": [
    "arr = np.arange(1, 10 ,2)\n",
    "arr"
   ]
  },
  {
   "cell_type": "code",
   "execution_count": 98,
   "id": "f7e2088e",
   "metadata": {},
   "outputs": [
    {
     "data": {
      "text/plain": [
       "array([10,  9,  8,  7,  6,  5,  4,  3,  2])"
      ]
     },
     "execution_count": 98,
     "metadata": {},
     "output_type": "execute_result"
    }
   ],
   "source": [
    "arr = np.arange(10,1, -1)\n",
    "arr"
   ]
  },
  {
   "cell_type": "code",
   "execution_count": 111,
   "id": "f478109c",
   "metadata": {},
   "outputs": [
    {
     "data": {
      "text/plain": [
       "array([ 1.        ,  1.29154967,  1.66810054,  2.15443469,  2.7825594 ,\n",
       "        3.59381366,  4.64158883,  5.9948425 ,  7.74263683, 10.        ])"
      ]
     },
     "execution_count": 111,
     "metadata": {},
     "output_type": "execute_result"
    }
   ],
   "source": [
    "arr = np.logspace(0,1, 10) #10^0승부터 10^1승까지 10개 구간으로 나눈다\n",
    "# np.logspace(a,b, c) 10^a부터 10^b 승까지 c 개의 구간으로 나눠라\n",
    "arr"
   ]
  },
  {
   "cell_type": "code",
   "execution_count": 114,
   "id": "522c99cb",
   "metadata": {},
   "outputs": [
    {
     "data": {
      "text/plain": [
       "array([ 0., 20., 40., 60., 80.])"
      ]
     },
     "execution_count": 114,
     "metadata": {},
     "output_type": "execute_result"
    }
   ],
   "source": [
    "arr = np.linspace(0, 100, 5, endpoint = False) # 0 부터 100까지 실수범위 5구간으로 나눠라 마지막 값은 제거한다\n",
    "arr"
   ]
  },
  {
   "cell_type": "markdown",
   "id": "e7098fb9",
   "metadata": {},
   "source": [
    "#### 배열 데이터 변경"
   ]
  },
  {
   "cell_type": "code",
   "execution_count": 116,
   "id": "18d36fd5",
   "metadata": {},
   "outputs": [
    {
     "data": {
      "text/plain": [
       "array([[ 1,  2],\n",
       "       [ 3,  4],\n",
       "       [ 5,  6],\n",
       "       [ 7,  8],\n",
       "       [ 9, 10]])"
      ]
     },
     "execution_count": 116,
     "metadata": {},
     "output_type": "execute_result"
    }
   ],
   "source": [
    "arr = np.array([1,2,3,4,5,6,7,8,9,10])\n",
    "arr_res = arr.reshape(5, 2)\n",
    "arr_res\n"
   ]
  },
  {
   "cell_type": "code",
   "execution_count": 136,
   "id": "0f3caaca",
   "metadata": {},
   "outputs": [
    {
     "data": {
      "text/plain": [
       "array([[0., 0., 0., 0., 0.],\n",
       "       [0., 0., 0., 0., 0.],\n",
       "       [0., 0., 0., 0., 0.],\n",
       "       [0., 0., 0., 0., 0.],\n",
       "       [0., 0., 0., 0., 0.],\n",
       "       [0., 0., 0., 0., 0.],\n",
       "       [0., 0., 0., 0., 0.],\n",
       "       [0., 0., 0., 0., 0.],\n",
       "       [0., 0., 0., 0., 0.],\n",
       "       [0., 0., 0., 0., 0.]])"
      ]
     },
     "execution_count": 136,
     "metadata": {},
     "output_type": "execute_result"
    }
   ],
   "source": [
    "arr = np.ones(50) # 50개의 데이터를 다 0로\n",
    "len(arr)\n",
    "arr = np.zeros(50) # 50개의 데이터를 다 0 으로\n",
    "arr_res = arr.reshape(10, -1)\n",
    "# 행또는 열 위치에 -1를 넣으면 자동 생성\n",
    "# 다만 arr.reshape(-1,-1)은 에러\n",
    "arr_res"
   ]
  },
  {
   "cell_type": "code",
   "execution_count": 146,
   "id": "2eea10ae",
   "metadata": {},
   "outputs": [
    {
     "data": {
      "text/plain": [
       "array([[[0., 0.],\n",
       "        [0., 0.],\n",
       "        [0., 0.],\n",
       "        [0., 0.],\n",
       "        [0., 0.]],\n",
       "\n",
       "       [[0., 0.],\n",
       "        [0., 0.],\n",
       "        [0., 0.],\n",
       "        [0., 0.],\n",
       "        [0., 0.]],\n",
       "\n",
       "       [[0., 0.],\n",
       "        [0., 0.],\n",
       "        [0., 0.],\n",
       "        [0., 0.],\n",
       "        [0., 0.]],\n",
       "\n",
       "       [[0., 0.],\n",
       "        [0., 0.],\n",
       "        [0., 0.],\n",
       "        [0., 0.],\n",
       "        [0., 0.]],\n",
       "\n",
       "       [[0., 0.],\n",
       "        [0., 0.],\n",
       "        [0., 0.],\n",
       "        [0., 0.],\n",
       "        [0., 0.]]])"
      ]
     },
     "execution_count": 146,
     "metadata": {},
     "output_type": "execute_result"
    }
   ],
   "source": [
    "arr_res.reshape(-1,5,2) # 3차원 구조로도 변경가능\n",
    "# 즉 차원도 마음데로 바꿀수 있음"
   ]
  },
  {
   "cell_type": "code",
   "execution_count": 147,
   "id": "878f8b0c",
   "metadata": {},
   "outputs": [
    {
     "data": {
      "text/plain": [
       "array([0., 0., 0., 0., 0., 0., 0., 0., 0., 0., 0., 0., 0., 0., 0., 0., 0.,\n",
       "       0., 0., 0., 0., 0., 0., 0., 0., 0., 0., 0., 0., 0., 0., 0., 0., 0.,\n",
       "       0., 0., 0., 0., 0., 0., 0., 0., 0., 0., 0., 0., 0., 0., 0., 0.])"
      ]
     },
     "execution_count": 147,
     "metadata": {},
     "output_type": "execute_result"
    }
   ],
   "source": [
    "arr_res.reshape(-1) # 즉 1차원으로도 다시변경 가능"
   ]
  },
  {
   "cell_type": "code",
   "execution_count": 159,
   "id": "92246fa1",
   "metadata": {},
   "outputs": [
    {
     "data": {
      "text/plain": [
       "array([[ 1,  2,  3,  4,  5,  6],\n",
       "       [ 7,  8,  9, 10, 11, 12],\n",
       "       [13, 14, 15, 16, 17, 18],\n",
       "       [19, 20, 21, 22, 23, 24],\n",
       "       [25, 26, 27, 28, 29, 30],\n",
       "       [31, 32, 33, 34, 35, 36],\n",
       "       [37, 38, 39, 40, 41, 42],\n",
       "       [43, 44, 45, 46, 47, 48],\n",
       "       [49, 50, 51, 52, 53, 54],\n",
       "       [55, 56, 57, 58, 59, 60]])"
      ]
     },
     "execution_count": 159,
     "metadata": {},
     "output_type": "execute_result"
    }
   ],
   "source": [
    "arr = np.arange(1, 61)\n",
    "arr_res = arr.reshape(-1, 6)\n",
    "arr_res"
   ]
  },
  {
   "cell_type": "code",
   "execution_count": 167,
   "id": "4171288b",
   "metadata": {},
   "outputs": [
    {
     "data": {
      "text/plain": [
       "array([[ 0,  0,  0,  0,  0,  0],\n",
       "       [ 7,  8,  9, 10, 11, 12],\n",
       "       [ 1,  1,  1,  1,  1,  1],\n",
       "       [19, 20, 21, 22, 23, 24],\n",
       "       [25, 26, 27, 28, 29, 30],\n",
       "       [31, 32, 33, 34, 35, 36],\n",
       "       [37, 38, 39, 40, 41, 42],\n",
       "       [43, 44, 45, 46, 47, 48],\n",
       "       [49, 50, 51, 52, 53, 54],\n",
       "       [55, 56, 57, 58, 59, 60]])"
      ]
     },
     "execution_count": 167,
     "metadata": {},
     "output_type": "execute_result"
    }
   ],
   "source": [
    "arr_res[0] = 0\n",
    "arr_res"
   ]
  },
  {
   "cell_type": "code",
   "execution_count": 168,
   "id": "eb639194",
   "metadata": {},
   "outputs": [
    {
     "data": {
      "text/plain": [
       "array([[ 0,  0, 10,  0,  0,  0],\n",
       "       [ 7,  8,  9, 10, 11, 12],\n",
       "       [ 1,  1,  1,  1,  1,  1],\n",
       "       [19, 20, 21, 22, 23, 24],\n",
       "       [25, 26, 27, 28, 29, 30],\n",
       "       [31, 32, 33, 34, 35, 36],\n",
       "       [37, 38, 39, 40, 41, 42],\n",
       "       [43, 44, 45, 46, 47, 48],\n",
       "       [49, 50, 51, 52, 53, 54],\n",
       "       [55, 56, 57, 58, 59, 60]])"
      ]
     },
     "execution_count": 168,
     "metadata": {},
     "output_type": "execute_result"
    }
   ],
   "source": [
    "arr_res[0,2] = 10\n",
    "arr_res"
   ]
  },
  {
   "cell_type": "markdown",
   "id": "6c36ba0e",
   "metadata": {},
   "source": [
    "####  브로드캐스팅(broad casting) & 마스킹(masking)\n",
    " - 하나의 배열 or 요소가 어떤 특정 배열에 영향을 미칠때 배열간의 형상을 맞추는 것을 브로드 캐스팅이라고함"
   ]
  },
  {
   "cell_type": "code",
   "execution_count": 169,
   "id": "0fd9cbcd",
   "metadata": {},
   "outputs": [
    {
     "data": {
      "text/plain": [
       "array([[ True,  True,  True,  True,  True,  True],\n",
       "       [False,  True, False,  True, False,  True],\n",
       "       [False, False, False, False, False, False],\n",
       "       [False,  True, False,  True, False,  True],\n",
       "       [False,  True, False,  True, False,  True],\n",
       "       [False,  True, False,  True, False,  True],\n",
       "       [False,  True, False,  True, False,  True],\n",
       "       [False,  True, False,  True, False,  True],\n",
       "       [False,  True, False,  True, False,  True],\n",
       "       [False,  True, False,  True, False,  True]])"
      ]
     },
     "execution_count": 169,
     "metadata": {},
     "output_type": "execute_result"
    }
   ],
   "source": [
    "#arr_res 배열에서 값을 나누고 남은 나머지가 0이면 True 반환\n",
    "#idx 변수를 만들어(=masking을 만듬) True/False로 변환된 데이터 저장\n",
    "idx = arr_res%2==0\n",
    "idx"
   ]
  },
  {
   "cell_type": "code",
   "execution_count": 171,
   "id": "e1d149b6",
   "metadata": {},
   "outputs": [
    {
     "data": {
      "text/plain": [
       "array([[100, 100, 100, 100, 100, 100],\n",
       "       [  7, 100,   9, 100,  11, 100],\n",
       "       [  1,   1,   1,   1,   1,   1],\n",
       "       [ 19, 100,  21, 100,  23, 100],\n",
       "       [ 25, 100,  27, 100,  29, 100],\n",
       "       [ 31, 100,  33, 100,  35, 100],\n",
       "       [ 37, 100,  39, 100,  41, 100],\n",
       "       [ 43, 100,  45, 100,  47, 100],\n",
       "       [ 49, 100,  51, 100,  53, 100],\n",
       "       [ 55, 100,  57, 100,  59, 100]])"
      ]
     },
     "execution_count": 171,
     "metadata": {},
     "output_type": "execute_result"
    }
   ],
   "source": [
    "# 만들어진 idx의 마스킹 값을 기준으로 True인 값만 출력\n",
    "arr_res[idx] = 100\n",
    "arr_res\n",
    "#True 값만 뽑아서 100으로 바꿔라"
   ]
  },
  {
   "cell_type": "markdown",
   "id": "f0b5cb47",
   "metadata": {},
   "source": [
    "#### NumPy에서 파일 읽고/쓰기"
   ]
  },
  {
   "cell_type": "code",
   "execution_count": 193,
   "id": "427be44a",
   "metadata": {},
   "outputs": [
    {
     "name": "stdout",
     "output_type": "stream",
     "text": [
      "csv_data \n",
      " [['a', '10'], ['b', '25'], ['c', '48'], ['d', '55'], ['e', '84'], ['f', '75'], ['g', '88']]\n",
      "<class 'str'>\n"
     ]
    }
   ],
   "source": [
    "with open('c:/pydata/test.csv', encoding='utf-8') as f:\n",
    "    csv_data = []\n",
    "    for line in f.readlines():\n",
    "        line = line.replace('\\n',\"\")\n",
    "        csv_data.append(line.split(','))\n",
    "print('csv_data','\\n',csv_data)\n",
    "print(type(csv_data[0][1]))"
   ]
  },
  {
   "cell_type": "code",
   "execution_count": 181,
   "id": "1c651676",
   "metadata": {},
   "outputs": [
    {
     "name": "stdout",
     "output_type": "stream",
     "text": [
      "<class 'pandas.core.frame.DataFrame'>\n",
      "RangeIndex: 7 entries, 0 to 6\n",
      "Data columns (total 2 columns):\n",
      " #   Column  Non-Null Count  Dtype \n",
      "---  ------  --------------  ----- \n",
      " 0   이름      7 non-null      object\n",
      " 1   값       7 non-null      int64 \n",
      "dtypes: int64(1), object(1)\n",
      "memory usage: 240.0+ bytes\n"
     ]
    }
   ],
   "source": [
    "import pandas as pd\n",
    "df = pd.read_csv('c:/pydata/test.csv', encoding='utf-8', names=['이름','값'])\n",
    "#제목이 없을때는 names를 줘서 columns를 넣어주면 된다\n",
    "df.info()"
   ]
  },
  {
   "cell_type": "code",
   "execution_count": 223,
   "id": "ca0cf84b",
   "metadata": {},
   "outputs": [
    {
     "data": {
      "text/plain": [
       "array([['a', ' 10', ''],\n",
       "       ['b', ' 25', ''],\n",
       "       ['c', ' 48', 'y'],\n",
       "       ['d', ' 55', ''],\n",
       "       ['e', ' 84', 'y'],\n",
       "       ['f', ' 75', ''],\n",
       "       ['g', ' 88', '']], dtype='<U3')"
      ]
     },
     "execution_count": 223,
     "metadata": {},
     "output_type": "execute_result"
    }
   ],
   "source": [
    "np_data=np.loadtxt('c:/pydata/test.csv', encoding='utf-8', \n",
    "                   delimiter = ',', dtype = str)\n",
    "np_data\n",
    "# delimiter : 구분자 입력, dtype : 데이터 타입 설정"
   ]
  },
  {
   "cell_type": "code",
   "execution_count": 224,
   "id": "eb8aefb3",
   "metadata": {},
   "outputs": [],
   "source": [
    "# idx= []\n",
    "# for i in np_data:\n",
    "#     i[1]=i[1].replace(\" \",\"\")\n",
    "#     idx.append(int(i[1]))\n",
    "# arr_res = np.array(idx)\n",
    "# arr_res"
   ]
  },
  {
   "cell_type": "code",
   "execution_count": 229,
   "id": "e22c9c92",
   "metadata": {},
   "outputs": [
    {
     "data": {
      "text/plain": [
       "array([['a', ' 10', '0'],\n",
       "       ['b', ' 25', '0'],\n",
       "       ['c', ' 48', 'y'],\n",
       "       ['d', ' 55', '0'],\n",
       "       ['e', ' 84', 'y'],\n",
       "       ['f', ' 75', '0'],\n",
       "       ['g', ' 88', '0']], dtype='<U3')"
      ]
     },
     "execution_count": 229,
     "metadata": {},
     "output_type": "execute_result"
    }
   ],
   "source": [
    "idx = np_data==\"\"\n",
    "np_data[idx] = 0\n",
    "np_data"
   ]
  },
  {
   "cell_type": "markdown",
   "id": "15c81aba",
   "metadata": {},
   "source": [
    "#### NaN 변경하기"
   ]
  },
  {
   "cell_type": "code",
   "execution_count": 252,
   "id": "f024417f",
   "metadata": {},
   "outputs": [
    {
     "data": {
      "text/plain": [
       "array([ 5.,  6., nan])"
      ]
     },
     "execution_count": 252,
     "metadata": {},
     "output_type": "execute_result"
    }
   ],
   "source": [
    "arr = np.array([5, 6, np.NaN])\n",
    "arr"
   ]
  },
  {
   "cell_type": "code",
   "execution_count": 237,
   "id": "d02e174d",
   "metadata": {},
   "outputs": [
    {
     "data": {
      "text/plain": [
       "array([False, False,  True])"
      ]
     },
     "execution_count": 237,
     "metadata": {},
     "output_type": "execute_result"
    }
   ],
   "source": [
    "np.isnan(arr) # pandas.isna"
   ]
  },
  {
   "cell_type": "code",
   "execution_count": 238,
   "id": "176e3cc5",
   "metadata": {},
   "outputs": [
    {
     "data": {
      "text/plain": [
       "array([5., 6., 0.])"
      ]
     },
     "execution_count": 238,
     "metadata": {},
     "output_type": "execute_result"
    }
   ],
   "source": [
    "np.nan_to_num(arr)"
   ]
  },
  {
   "cell_type": "code",
   "execution_count": 244,
   "id": "31d39a4d",
   "metadata": {},
   "outputs": [
    {
     "data": {
      "text/plain": [
       "array([5. , 6. , 5.5])"
      ]
     },
     "execution_count": 244,
     "metadata": {},
     "output_type": "execute_result"
    }
   ],
   "source": [
    "arr[np.isnan(arr)] = 5.5\n"
   ]
  },
  {
   "cell_type": "code",
   "execution_count": 255,
   "id": "e2c23708",
   "metadata": {},
   "outputs": [
    {
     "data": {
      "text/plain": [
       "array([5.        , 6.        , 3.66666667])"
      ]
     },
     "execution_count": 255,
     "metadata": {},
     "output_type": "execute_result"
    }
   ],
   "source": [
    "arr = np.array([5, 6, np.NaN])\n",
    "arr[np.isnan(arr)]=np.mean(np.nan_to_num(arr))\n",
    "arr"
   ]
  },
  {
   "cell_type": "code",
   "execution_count": 257,
   "id": "423c3a64",
   "metadata": {},
   "outputs": [
    {
     "data": {
      "text/plain": [
       "array([5. , 6. , 5.5])"
      ]
     },
     "execution_count": 257,
     "metadata": {},
     "output_type": "execute_result"
    }
   ],
   "source": [
    "arr = np.array([5, 6, np.NaN])\n",
    "arr[np.isnan(arr)]=sum(np.nan_to_num(arr))/sum(np.isnan(arr)==False)\n",
    "arr\n"
   ]
  },
  {
   "cell_type": "code",
   "execution_count": 258,
   "id": "aae3dc6d",
   "metadata": {},
   "outputs": [
    {
     "name": "stdout",
     "output_type": "stream",
     "text": [
      "nan\n",
      "nan\n"
     ]
    }
   ],
   "source": [
    "arr = np.array([5, 6, np.NaN])\n",
    "print(np.max(arr))\n",
    "print(np.min(arr))"
   ]
  },
  {
   "cell_type": "code",
   "execution_count": 259,
   "id": "60b54f48",
   "metadata": {},
   "outputs": [
    {
     "data": {
      "text/plain": [
       "array([5., 6., 6.])"
      ]
     },
     "execution_count": 259,
     "metadata": {},
     "output_type": "execute_result"
    }
   ],
   "source": [
    "arr = np.array([5, 6, np.NaN])\n",
    "arr[np.isnan(arr)]=np.max(arr[np.isnan(arr)==False])\n",
    "arr"
   ]
  },
  {
   "cell_type": "code",
   "execution_count": 265,
   "id": "ffadaf66",
   "metadata": {},
   "outputs": [
    {
     "data": {
      "text/plain": [
       "array([5., 6.])"
      ]
     },
     "execution_count": 265,
     "metadata": {},
     "output_type": "execute_result"
    }
   ],
   "source": [
    "arr = np.array([5, 6, np.NaN])\n",
    "( arr[np.isnan(arr) == False] )\n"
   ]
  },
  {
   "cell_type": "markdown",
   "id": "24c1dd96",
   "metadata": {},
   "source": [
    "#### 행렬 데이터 결합, concatenate 함수"
   ]
  },
  {
   "cell_type": "code",
   "execution_count": 267,
   "id": "0b33a9e3",
   "metadata": {},
   "outputs": [
    {
     "name": "stdout",
     "output_type": "stream",
     "text": [
      "[[1 6 8]\n",
      " [7 5 9]]\n",
      "[[1 9 9]\n",
      " [6 3 5]]\n",
      "[[8 1 4]\n",
      " [5 2 3]]\n"
     ]
    }
   ],
   "source": [
    "arr1 = np.random.randint(10, size=(2, 3)) # 0-9 사이의 정수를 이용해 2행 3열 구조 데이터 생성\n",
    "arr2 = np.random.randint(10, size=(2, 3))\n",
    "arr3 = np.random.randint(10, size=(2, 3))\n",
    "print(arr1)\n",
    "print(arr2)\n",
    "print(arr3)"
   ]
  },
  {
   "cell_type": "markdown",
   "id": "1b0d5529",
   "metadata": {},
   "source": [
    "#### concatenate : 기본 세로결합\n",
    "- np.concatenate"
   ]
  },
  {
   "cell_type": "code",
   "execution_count": 268,
   "id": "1da2011c",
   "metadata": {},
   "outputs": [
    {
     "data": {
      "text/plain": [
       "array([[1, 6, 8],\n",
       "       [7, 5, 9],\n",
       "       [8, 1, 4],\n",
       "       [5, 2, 3]])"
      ]
     },
     "execution_count": 268,
     "metadata": {},
     "output_type": "execute_result"
    }
   ],
   "source": [
    "np.concatenate((arr1, arr3))"
   ]
  },
  {
   "cell_type": "markdown",
   "id": "3dafeda2",
   "metadata": {},
   "source": [
    "#### 가로결합\n",
    "- 옵션에 axis = 1 추가"
   ]
  },
  {
   "cell_type": "code",
   "execution_count": 269,
   "id": "9154922f",
   "metadata": {},
   "outputs": [
    {
     "data": {
      "text/plain": [
       "array([[1, 9, 9, 8, 1, 4],\n",
       "       [6, 3, 5, 5, 2, 3]])"
      ]
     },
     "execution_count": 269,
     "metadata": {},
     "output_type": "execute_result"
    }
   ],
   "source": [
    "np.concatenate((arr2, arr3), axis = 1)"
   ]
  },
  {
   "cell_type": "code",
   "execution_count": null,
   "id": "ad2ac75b",
   "metadata": {},
   "outputs": [],
   "source": []
  }
 ],
 "metadata": {
  "jupytext": {
   "formats": "ipynb,auto:light"
  },
  "kernelspec": {
   "display_name": "Python 3",
   "language": "python",
   "name": "python3"
  },
  "language_info": {
   "codemirror_mode": {
    "name": "ipython",
    "version": 3
   },
   "file_extension": ".py",
   "mimetype": "text/x-python",
   "name": "python",
   "nbconvert_exporter": "python",
   "pygments_lexer": "ipython3",
   "version": "3.8.10"
  }
 },
 "nbformat": 4,
 "nbformat_minor": 5
}
