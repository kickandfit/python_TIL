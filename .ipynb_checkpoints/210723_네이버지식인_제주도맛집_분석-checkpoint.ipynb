{
 "cells": [
  {
   "cell_type": "code",
   "execution_count": 4,
   "id": "bdd9ddd8",
   "metadata": {},
   "outputs": [],
   "source": [
    "import sys\n",
    "import requests\n",
    "from bs4 import BeautifulSoup as bs\n",
    "import matplotlib.pyplot as plt\n",
    "from wordcloud import WordCloud\n",
    "from collections import Counter\n",
    "from nltk import Text\n",
    "import pandas as pd\n",
    "import re\n",
    "from urllib.parse import quote   # 입력한 값을 바이너리 형식으로 변경\n",
    "import json\n",
    "from konlpy.tag import Okt\n",
    "from tqdm import tqdm"
   ]
  },
  {
   "cell_type": "markdown",
   "id": "3e67e2c9",
   "metadata": {},
   "source": [
    "### requests 모듈을 이용한 데이터 요청"
   ]
  },
  {
   "cell_type": "code",
   "execution_count": 5,
   "id": "47718e74",
   "metadata": {},
   "outputs": [],
   "source": [
    "def kin_request(encText, staPage=1):\n",
    "    # url = \"https://openapi.naver.com/v1/search/blog.xml?query=\" + encText # xml 결과\n",
    "    url = \"https://openapi.naver.com/v1/search/kin?query=\" + quote(encText) # json 결과\n",
    "    url = url + \"&start=\" + str(staPage) + \"&display=100\" \n",
    "\n",
    "    headers={\"X-Naver-Client-Id\": \"lcoe8JHxFJLWXqdJjZsc\",\n",
    "             \"X-Naver-Client-Secret\":\"wwrQCVxupt\"}\n",
    "\n",
    "    res_json =requests.get(url, headers=headers)\n",
    "\n",
    "    if res_json.status_code==200:\n",
    "        res_body = res_json.json()\n",
    "    else:\n",
    "        print(\"Error Code:\" + str(res_json.status_code))\n",
    "        sys.exit(0)\n",
    "\n",
    "    res_body['items']\n",
    "    res_df=pd.DataFrame(res_body['items'])  # items 키의 값들을 이용한 DataFrame 생성\n",
    "    \n",
    "    return list(res_df['link'])"
   ]
  },
  {
   "cell_type": "markdown",
   "id": "12f189a2",
   "metadata": {},
   "source": [
    "### 세부 정보 가저오기\n",
    "- res_df의 link 정보를 이용해 세부 내용 가져오기\n",
    "- 질문 정보 => 키워드_질문.txt에 저장\n",
    "- 답변 정보 => 키워드_답변.txt에 저장"
   ]
  },
  {
   "cell_type": "markdown",
   "id": "5bac2089",
   "metadata": {},
   "source": [
    "#### 세부정보에서 질문 및 답변 추출후 텍스트로 저장 "
   ]
  },
  {
   "cell_type": "code",
   "execution_count": 6,
   "id": "ffcccbb3",
   "metadata": {},
   "outputs": [],
   "source": [
    "def req_title(encText, staPage):\n",
    "    \n",
    "    link_list=kin_request(encText, staPage)\n",
    "    \n",
    "    fq=open('c:/pydata/'+encText+\"_질문.txt\", \"a\")\n",
    "    fa=open('c:/pydata/'+encText+\"_답변.txt\", \"a\")\n",
    "    \n",
    "    for link in tqdm(link_list):\n",
    "        kin_html=requests.get(link)\n",
    "        if kin_html.status_code==200:\n",
    "            kin_soup=bs(kin_html.text, \"html.parser\")\n",
    "        else:\n",
    "            sys.exit(kin_html.status_code)\n",
    "        \n",
    "        ### 제목 추출\n",
    "        try:\n",
    "            kin_txt=kin_soup.find('div', class_=\"title\").text.replace(\"\\n\",\"\").replace(\"\\t\",\"\")\n",
    "            fq.write(kin_txt+\"\\n\")\n",
    "        except:\n",
    "            #print(link)\n",
    "            fq.write(\"\\n\")\n",
    "        \n",
    "        for txt in kin_soup.find_all('div', class_=\"se-component se-text se-l-default\"):\n",
    "            # 정규 표현식을 이용해 한글, 영문등 필요한 내용만 가져오기: https://wikidocs.net/4308#_2 참조\n",
    "            #fa.write(txt.text.replace(\"\\u200b\",\"\").replace(\"\\u2714\",\"\"))\n",
    "            fa.write(re.sub(\"[^ ㄱ-ㅣ가-힣]\",\"\",txt.text))\n",
    "        fa.write('\\n')\n",
    "        \n",
    "    fq.close()\n",
    "    fa.close()"
   ]
  },
  {
   "cell_type": "code",
   "execution_count": 7,
   "id": "4bf402fb",
   "metadata": {},
   "outputs": [],
   "source": [
    "### 질문 제목 가져와 키워드 추출하기\n",
    "def title_counter():\n",
    "    f=open('c:/pydata/'+encText+\"_질문.txt\", \"r\")\n",
    "    title_txt=f.read()\n",
    "    f.close()\n",
    "\n",
    "    ### 가져온 데이터를 konlpy의 Okt를 이용해 품사 확인\n",
    "    okt=Okt()    # okt 객체 생성\n",
    "    pos_title=okt.pos(title_txt)\n",
    "    #print(pos_title)\n",
    "\n",
    "    noun_text=[ txt[0] for txt in pos_title if txt[1]=='Noun' ]\n",
    "    adje_text=[ txt for txt, pos in pos_title if pos=='Adjective' ]\n",
    "\n",
    "    most_text=noun_text+adje_text\n",
    "    #print(most_text)\n",
    "\n",
    "    stop_words=\"제주도 여행 중 부탁드립니다 데 부탁드려요\"\n",
    "    stop_words=stop_words.split(\" \")\n",
    "    #print(stop_words)\n",
    "\n",
    "    most_stop=[txt for txt in most_text if txt not in stop_words]\n",
    "    #print(most_stop)\n",
    "\n",
    "    return Counter(most_stop)\n",
    "    "
   ]
  },
  {
   "cell_type": "code",
   "execution_count": 8,
   "id": "a7096b81",
   "metadata": {
    "scrolled": false
   },
   "outputs": [],
   "source": [
    "def most_wordcloud(most_count):\n",
    "    #### 워드 클라우드 제작\n",
    "    wordcloud = WordCloud(font_path=\"c:/Windows/Fonts/malgun.ttf\",\n",
    "                          background_color=\"white\", width=1000, height=1000,\n",
    "                          max_words=100, max_font_size=300)\n",
    "\n",
    "    wc = wordcloud.generate_from_frequencies(most_count)\n",
    "    plt.figure(figsize=(8,15))\n",
    "    plt.imshow(wc)\n",
    "    plt.imshow(wc, interpolation='bilinear')\n",
    "    plt.axis(\"off\")\n",
    "    plt.show()\n",
    "\n",
    "    import matplotlib.font_manager as fm\n",
    "    font_name=fm.FontProperties(fname=\"C:/Windows/Fonts/malgun.ttf\").get_name()\n",
    "    plt.rc('font', family=font_name)\n",
    "\n",
    "    ### 빈도수 DataFrame 생성\n",
    "    most_list=most_count.most_common()\n",
    "    most_df=pd.DataFrame(most_list, columns=[\"토픽(단어)\", \"빈도수\"])\n",
    "    plt_df=most_df[most_df['빈도수']>=10]\n",
    "\n",
    "    plt.style.use('ggplot') \n",
    "    plt_df.set_index(\"토픽(단어)\", inplace=True)\n",
    "    plt_df.plot.bar(figsize=(14, 5))\n",
    "    plt.show()\n",
    "\n",
    "    return most_df"
   ]
  },
  {
   "cell_type": "code",
   "execution_count": 9,
   "id": "5e6c1f39",
   "metadata": {},
   "outputs": [
    {
     "name": "stdout",
     "output_type": "stream",
     "text": [
      "검색어 입력:맛집\n",
      "시작 페이지:1\n"
     ]
    },
    {
     "name": "stderr",
     "output_type": "stream",
     "text": [
      "100%|████████████████████████████████████████████████████████████████████████████████| 100/100 [00:44<00:00,  2.24it/s]\n",
      "100%|████████████████████████████████████████████████████████████████████████████████| 100/100 [00:45<00:00,  2.18it/s]\n",
      "100%|████████████████████████████████████████████████████████████████████████████████| 100/100 [00:45<00:00,  2.19it/s]\n",
      "100%|████████████████████████████████████████████████████████████████████████████████| 100/100 [00:47<00:00,  2.10it/s]\n",
      "100%|████████████████████████████████████████████████████████████████████████████████| 100/100 [00:44<00:00,  2.25it/s]\n"
     ]
    },
    {
     "ename": "NameError",
     "evalue": "name 'fmost_wordcloud' is not defined",
     "output_type": "error",
     "traceback": [
      "\u001b[1;31m---------------------------------------------------------------------------\u001b[0m",
      "\u001b[1;31mNameError\u001b[0m                                 Traceback (most recent call last)",
      "\u001b[1;32m<ipython-input-9-3a753ff17cbd>\u001b[0m in \u001b[0;36m<module>\u001b[1;34m\u001b[0m\n\u001b[0;32m      9\u001b[0m \u001b[1;33m\u001b[0m\u001b[0m\n\u001b[0;32m     10\u001b[0m \u001b[0mmost_count\u001b[0m\u001b[1;33m=\u001b[0m\u001b[0mtitle_counter\u001b[0m\u001b[1;33m(\u001b[0m\u001b[1;33m)\u001b[0m\u001b[1;33m\u001b[0m\u001b[1;33m\u001b[0m\u001b[0m\n\u001b[1;32m---> 11\u001b[1;33m \u001b[0mmost_df\u001b[0m\u001b[1;33m=\u001b[0m\u001b[0mfmost_wordcloud\u001b[0m\u001b[1;33m(\u001b[0m\u001b[0mmost_count\u001b[0m\u001b[1;33m)\u001b[0m\u001b[1;33m\u001b[0m\u001b[1;33m\u001b[0m\u001b[0m\n\u001b[0m\u001b[0;32m     12\u001b[0m \u001b[0mmost_df\u001b[0m\u001b[1;33m\u001b[0m\u001b[1;33m\u001b[0m\u001b[0m\n",
      "\u001b[1;31mNameError\u001b[0m: name 'fmost_wordcloud' is not defined"
     ]
    }
   ],
   "source": [
    "encText=input('검색어 입력:')\n",
    "staPage=input('시작 페이지:')\n",
    "\n",
    "fq=open('c:/pydata/'+encText+\"_질문.txt\", \"w\");fq.close()\n",
    "fa=open('c:/pydata/'+encText+\"_답변.txt\", \"w\");fa.close()\n",
    "\n",
    "for stapg in range(int(staPage), 500, 100):\n",
    "    req_title(encText, stapg)\n",
    "\n",
    "most_count=title_counter()\n",
    "most_df=most_wordcloud(most_count)\n",
    "most_df"
   ]
  },
  {
   "cell_type": "code",
   "execution_count": 10,
   "id": "13f7b482",
   "metadata": {
    "scrolled": true
   },
   "outputs": [
    {
     "name": "stdout",
     "output_type": "stream",
     "text": [
      "Collecting jupytext\n",
      "  Downloading jupytext-1.11.4-py3-none-any.whl (292 kB)\n",
      "Collecting toml\n",
      "  Downloading toml-0.10.2-py2.py3-none-any.whl (16 kB)\n",
      "Requirement already satisfied: nbformat in c:\\users\\moh12\\anaconda3\\envs\\multi\\lib\\site-packages (from jupytext) (5.1.3)\n",
      "Collecting pyyaml\n",
      "  Downloading PyYAML-5.4.1-cp38-cp38-win_amd64.whl (213 kB)\n",
      "Collecting markdown-it-py~=1.0\n",
      "  Using cached markdown_it_py-1.1.0-py3-none-any.whl (83 kB)\n",
      "Collecting mdit-py-plugins\n",
      "  Using cached mdit_py_plugins-0.2.8-py3-none-any.whl (41 kB)\n",
      "Requirement already satisfied: attrs<22,>=19 in c:\\users\\moh12\\anaconda3\\envs\\multi\\lib\\site-packages (from markdown-it-py~=1.0->jupytext) (21.2.0)\n",
      "Requirement already satisfied: ipython-genutils in c:\\users\\moh12\\anaconda3\\envs\\multi\\lib\\site-packages (from nbformat->jupytext) (0.2.0)\n",
      "Requirement already satisfied: jsonschema!=2.5.0,>=2.4 in c:\\users\\moh12\\anaconda3\\envs\\multi\\lib\\site-packages (from nbformat->jupytext) (3.2.0)\n",
      "Requirement already satisfied: jupyter-core in c:\\users\\moh12\\anaconda3\\envs\\multi\\lib\\site-packages (from nbformat->jupytext) (4.7.1)\n",
      "Requirement already satisfied: traitlets>=4.1 in c:\\users\\moh12\\anaconda3\\envs\\multi\\lib\\site-packages (from nbformat->jupytext) (5.0.5)\n",
      "Requirement already satisfied: pyrsistent>=0.14.0 in c:\\users\\moh12\\anaconda3\\envs\\multi\\lib\\site-packages (from jsonschema!=2.5.0,>=2.4->nbformat->jupytext) (0.17.3)\n",
      "Requirement already satisfied: six>=1.11.0 in c:\\users\\moh12\\anaconda3\\envs\\multi\\lib\\site-packages (from jsonschema!=2.5.0,>=2.4->nbformat->jupytext) (1.16.0)\n",
      "Requirement already satisfied: setuptools in c:\\users\\moh12\\anaconda3\\envs\\multi\\lib\\site-packages (from jsonschema!=2.5.0,>=2.4->nbformat->jupytext) (52.0.0.post20210125)\n",
      "Requirement already satisfied: pywin32>=1.0 in c:\\users\\moh12\\anaconda3\\envs\\multi\\lib\\site-packages (from jupyter-core->nbformat->jupytext) (227)\n",
      "Installing collected packages: markdown-it-py, toml, pyyaml, mdit-py-plugins, jupytext\n",
      "Successfully installed jupytext-1.11.4 markdown-it-py-1.1.0 mdit-py-plugins-0.2.8 pyyaml-5.4.1 toml-0.10.2\n"
     ]
    }
   ],
   "source": [
    "!pip install jupytext"
   ]
  },
  {
   "cell_type": "code",
   "execution_count": null,
   "id": "bf29e925",
   "metadata": {},
   "outputs": [],
   "source": []
  }
 ],
 "metadata": {
  "jupytext": {
   "formats": "ipynb,auto:light"
  },
  "kernelspec": {
   "display_name": "Python 3",
   "language": "python",
   "name": "python3"
  },
  "language_info": {
   "codemirror_mode": {
    "name": "ipython",
    "version": 3
   },
   "file_extension": ".py",
   "mimetype": "text/x-python",
   "name": "python",
   "nbconvert_exporter": "python",
   "pygments_lexer": "ipython3",
   "version": "3.8.10"
  }
 },
 "nbformat": 4,
 "nbformat_minor": 5
}
