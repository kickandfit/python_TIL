{
 "cells": [
  {
   "cell_type": "markdown",
   "id": "df38a572",
   "metadata": {},
   "source": [
    "### 투포인터\n",
    "- 리스트에 순차적으로 접근해야할 때 2개의 점 위치를 기록하면서 처리\n",
    "- 특정한 합을 가지는 부분 연속 수열 찾기, 특정한 합을 가지는 부분 연속 수열 찾기 문제\n",
    "- 리스트 내에 음수가 있을경우 해결하기 어려움\n",
    "    - 이 밖에도 정렬되어 있는 두 리스트의 합집합 같은 문제에 효과적"
   ]
  },
  {
   "cell_type": "markdown",
   "id": "1b595389",
   "metadata": {},
   "source": [
    "#### key idea (특정한 합을 가지는 부분 연속 수열 찾기)\n",
    "\n",
    "    1. 시작점과 끝점이 첫 번째 원소의 인덱스(0)을 가리키도록 한다\n",
    "    2. 현재 부분합이 M과 같다면 카운트\n",
    "    3. 현재 부분합이 M보다 작다면, end를 1 증가 시킴\n",
    "    4. 현재 부분합이 M보다 크거나 같으면 start를 1 증가시킴\n",
    "    5. 모든 경우를 확인할 때까지 2-4과정 반복"
   ]
  },
  {
   "cell_type": "code",
   "execution_count": 1,
   "id": "856a1cac",
   "metadata": {},
   "outputs": [
    {
     "name": "stdout",
     "output_type": "stream",
     "text": [
      "3\n"
     ]
    }
   ],
   "source": [
    "# 부분합이 5인 경우 찾기(모든 리스트내 함수 양)\n",
    "\n",
    "n, m = 5, 5 # m은 찾고자하는 부분합 데이터 개수 n\n",
    "data=[1, 2, 3, 2, 5]\n",
    "\n",
    "count = 0\n",
    "interval_sum = 0\n",
    "end = 0\n",
    "\n",
    "for start in range(n):\n",
    "    #end를 가능한 만큼 이동 시키기\n",
    "    while interval_sum < m and end < n:\n",
    "        interval_sum += data[end]\n",
    "        end += 1\n",
    "    # 부분합이 m일 때 카운트 증가\n",
    "    if interval_sum ==m :\n",
    "        count += 1\n",
    "    interval_sum -= data[start]\n",
    "print(count)"
   ]
  },
  {
   "cell_type": "markdown",
   "id": "f15b2508",
   "metadata": {},
   "source": [
    "#### keyidea(정렬되어 있는 두 리스트의 합집합)\n",
    "\n",
    "    1. 정렬된 리스트 a와 b 입력받기\n",
    "    2. 리스트 a 에서 처리되지 않은 원소 중 가장 작은 원소를 i를 가리키도록한다\n",
    "    3. 리스트 b 에서 처리되지 않은 원소 중 가장 작은 원소를 j를 가리키도록 한다\n",
    "    4. a[i]와 b[j] 중에서 더 작은 원소를 결과 리스트에 담는다\n",
    "    4. 리스트 a, b에서 더이상 처리할 원소가 없을 때 까지 2-4를 반복한다"
   ]
  },
  {
   "cell_type": "code",
   "execution_count": 4,
   "id": "e8494978",
   "metadata": {},
   "outputs": [
    {
     "name": "stdout",
     "output_type": "stream",
     "text": [
      "1 2 3 4 5 6 8 "
     ]
    }
   ],
   "source": [
    "# 정렬되어 있는 두 리스트의 합집합\n",
    "\n",
    "n, m = 3 , 4\n",
    "a = [1, 3, 5]\n",
    "b = [2, 4, 6, 8]\n",
    "result = [0]*(n+m)\n",
    "i, j , k = 0, 0, 0\n",
    "\n",
    "while i < n or j < m :\n",
    "    # 리스트 b의 모든 원소가 처리되었거나, 리스트 a의 원소가 더 작을 때\n",
    "    \n",
    "    if j >= m or (i<n and a[i] <= b[j]):\n",
    "        \n",
    "        #리스트 A의 원소를 결과 리스트로 옮기기\n",
    "        result[k] = a[i]\n",
    "        i += 1\n",
    "    \n",
    "    # 리스트 a의 모든 원소가 처리되었거나, 리스트 b의 원소가 더 작을 때\n",
    "    else:\n",
    "        \n",
    "        result[k] = b[j]\n",
    "        j += 1\n",
    "    k += 1\n",
    "\n",
    "for i in result:\n",
    "    print(i, end = ' ')"
   ]
  },
  {
   "cell_type": "markdown",
   "id": "b4c88685",
   "metadata": {},
   "source": [
    "### 구간 합 계산\n",
    "\n",
    "- 구간 합을 구해야하는 문제에서 사용된, 구간 합이란 연속적으로 나열된 N개의 수가 있을 때, 특정 구간의 모든 수를 합한 값을 말함\n",
    "- 이런 구간 합 계산 문제는 여러개의 쿼리(query)로 구성되는 문제 형태로 출제\n",
    "- ex) M 개의 쿼리가 존재한다면, 각쿼리는 left와 right로 구성되어 있으며 [left, right]는 구간을 의미함\n",
    "- 즉 모든 쿼리에 대하여 구간의 합을 출력하는 문제에서 사용됨 (시간 복잡도 O(NM))\n",
    "- 이 때 가장 많이 사용되는 기법이 접두사 합(prefix Sum) N개의 수의 위치에서 각각에 대하여 접두사 합을 미리 구해놓으면 됨\n",
    "- 접두사 합이란, 리스트의 맨 앞부터 특정 위치까지의 합을 구해놓을 것을 말함"
   ]
  },
  {
   "cell_type": "markdown",
   "id": "f4cd9e3b",
   "metadata": {},
   "source": [
    "#### keyidea( 구간 합을 빠르게 계산하기 알고리즘)\n",
    "\n",
    "    1. N개의 수에 대하여 접두사 합(Prefix Sum)을 계산하여 배열 p에 저장한다.\n",
    "    2. 매 M개의 쿼리 정보 [l , r]을 확인할 때, 구간 합은 p[r] -p[l-1] 이다."
   ]
  },
  {
   "cell_type": "code",
   "execution_count": 5,
   "id": "47d79710",
   "metadata": {},
   "outputs": [
    {
     "name": "stdout",
     "output_type": "stream",
     "text": [
      "70\n"
     ]
    }
   ],
   "source": [
    "# 접두사 합을 활용한 구간 합\n",
    "\n",
    "n = 5\n",
    "data = [10, 20, 30, 40, 50]\n",
    "\n",
    "# 접두사 합(prefix sum) 배열 계산\n",
    "sum_value = 0\n",
    "prefix_sum = [0]\n",
    "for i in data:\n",
    "    sum_value += i\n",
    "    prefix_sum.append(sum_value)\n",
    "\n",
    "left = 3\n",
    "right = 4\n",
    "print(prefix_sum[right] - prefix_sum[left - 1])"
   ]
  },
  {
   "cell_type": "code",
   "execution_count": null,
   "id": "ff1d2d3a",
   "metadata": {},
   "outputs": [],
   "source": []
  },
  {
   "cell_type": "code",
   "execution_count": null,
   "id": "642713b2",
   "metadata": {},
   "outputs": [],
   "source": []
  },
  {
   "cell_type": "code",
   "execution_count": null,
   "id": "e3cd87dd",
   "metadata": {},
   "outputs": [],
   "source": []
  }
 ],
 "metadata": {
  "jupytext": {
   "formats": "ipynb,auto:light"
  },
  "kernelspec": {
   "display_name": "Python 3",
   "language": "python",
   "name": "python3"
  },
  "language_info": {
   "codemirror_mode": {
    "name": "ipython",
    "version": 3
   },
   "file_extension": ".py",
   "mimetype": "text/x-python",
   "name": "python",
   "nbconvert_exporter": "python",
   "pygments_lexer": "ipython3",
   "version": "3.8.10"
  }
 },
 "nbformat": 4,
 "nbformat_minor": 5
}
