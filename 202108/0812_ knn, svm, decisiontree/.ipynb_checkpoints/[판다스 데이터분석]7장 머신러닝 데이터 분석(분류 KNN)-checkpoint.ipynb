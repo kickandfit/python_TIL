{
 "cells": [
  {
   "cell_type": "code",
   "execution_count": 1,
   "metadata": {
    "executionInfo": {
     "elapsed": 1446,
     "status": "ok",
     "timestamp": 1628729159598,
     "user": {
      "displayName": "두드림",
      "photoUrl": "https://lh3.googleusercontent.com/a-/AOh14GjzXad5nuvxpsURPSSa0wwNUQw7ZxAVNBPF9kyp=s64",
      "userId": "16001116907625236704"
     },
     "user_tz": -540
    },
    "id": "OTVLiBNCz3r0"
   },
   "outputs": [],
   "source": [
    "### 기본 라이브러리 불러오기\n",
    "import pandas as pd\n",
    "import seaborn as sns\n",
    "\n",
    "# load_dataset 함수를 사용하여 데이터프레임으로 변환\n",
    "df= sns.load_dataset('titanic')"
   ]
  },
  {
   "cell_type": "code",
   "execution_count": 2,
   "metadata": {
    "colab": {
     "base_uri": "https://localhost:8080/",
     "height": 223
    },
    "executionInfo": {
     "elapsed": 861,
     "status": "ok",
     "timestamp": 1628729169669,
     "user": {
      "displayName": "두드림",
      "photoUrl": "https://lh3.googleusercontent.com/a-/AOh14GjzXad5nuvxpsURPSSa0wwNUQw7ZxAVNBPF9kyp=s64",
      "userId": "16001116907625236704"
     },
     "user_tz": -540
    },
    "id": "BkHT024U0oAV",
    "outputId": "65d3e30c-70ca-4114-de81-5f243f105e65"
   },
   "outputs": [
    {
     "data": {
      "text/html": [
       "<div>\n",
       "<style scoped>\n",
       "    .dataframe tbody tr th:only-of-type {\n",
       "        vertical-align: middle;\n",
       "    }\n",
       "\n",
       "    .dataframe tbody tr th {\n",
       "        vertical-align: top;\n",
       "    }\n",
       "\n",
       "    .dataframe thead th {\n",
       "        text-align: right;\n",
       "    }\n",
       "</style>\n",
       "<table border=\"1\" class=\"dataframe\">\n",
       "  <thead>\n",
       "    <tr style=\"text-align: right;\">\n",
       "      <th></th>\n",
       "      <th>survived</th>\n",
       "      <th>pclass</th>\n",
       "      <th>sex</th>\n",
       "      <th>age</th>\n",
       "      <th>sibsp</th>\n",
       "      <th>parch</th>\n",
       "      <th>fare</th>\n",
       "      <th>embarked</th>\n",
       "      <th>class</th>\n",
       "      <th>who</th>\n",
       "      <th>adult_male</th>\n",
       "      <th>deck</th>\n",
       "      <th>embark_town</th>\n",
       "      <th>alive</th>\n",
       "      <th>alone</th>\n",
       "    </tr>\n",
       "  </thead>\n",
       "  <tbody>\n",
       "    <tr>\n",
       "      <th>0</th>\n",
       "      <td>0</td>\n",
       "      <td>3</td>\n",
       "      <td>male</td>\n",
       "      <td>22.0</td>\n",
       "      <td>1</td>\n",
       "      <td>0</td>\n",
       "      <td>7.2500</td>\n",
       "      <td>S</td>\n",
       "      <td>Third</td>\n",
       "      <td>man</td>\n",
       "      <td>True</td>\n",
       "      <td>NaN</td>\n",
       "      <td>Southampton</td>\n",
       "      <td>no</td>\n",
       "      <td>False</td>\n",
       "    </tr>\n",
       "    <tr>\n",
       "      <th>1</th>\n",
       "      <td>1</td>\n",
       "      <td>1</td>\n",
       "      <td>female</td>\n",
       "      <td>38.0</td>\n",
       "      <td>1</td>\n",
       "      <td>0</td>\n",
       "      <td>71.2833</td>\n",
       "      <td>C</td>\n",
       "      <td>First</td>\n",
       "      <td>woman</td>\n",
       "      <td>False</td>\n",
       "      <td>C</td>\n",
       "      <td>Cherbourg</td>\n",
       "      <td>yes</td>\n",
       "      <td>False</td>\n",
       "    </tr>\n",
       "    <tr>\n",
       "      <th>2</th>\n",
       "      <td>1</td>\n",
       "      <td>3</td>\n",
       "      <td>female</td>\n",
       "      <td>26.0</td>\n",
       "      <td>0</td>\n",
       "      <td>0</td>\n",
       "      <td>7.9250</td>\n",
       "      <td>S</td>\n",
       "      <td>Third</td>\n",
       "      <td>woman</td>\n",
       "      <td>False</td>\n",
       "      <td>NaN</td>\n",
       "      <td>Southampton</td>\n",
       "      <td>yes</td>\n",
       "      <td>True</td>\n",
       "    </tr>\n",
       "    <tr>\n",
       "      <th>3</th>\n",
       "      <td>1</td>\n",
       "      <td>1</td>\n",
       "      <td>female</td>\n",
       "      <td>35.0</td>\n",
       "      <td>1</td>\n",
       "      <td>0</td>\n",
       "      <td>53.1000</td>\n",
       "      <td>S</td>\n",
       "      <td>First</td>\n",
       "      <td>woman</td>\n",
       "      <td>False</td>\n",
       "      <td>C</td>\n",
       "      <td>Southampton</td>\n",
       "      <td>yes</td>\n",
       "      <td>False</td>\n",
       "    </tr>\n",
       "    <tr>\n",
       "      <th>4</th>\n",
       "      <td>0</td>\n",
       "      <td>3</td>\n",
       "      <td>male</td>\n",
       "      <td>35.0</td>\n",
       "      <td>0</td>\n",
       "      <td>0</td>\n",
       "      <td>8.0500</td>\n",
       "      <td>S</td>\n",
       "      <td>Third</td>\n",
       "      <td>man</td>\n",
       "      <td>True</td>\n",
       "      <td>NaN</td>\n",
       "      <td>Southampton</td>\n",
       "      <td>no</td>\n",
       "      <td>True</td>\n",
       "    </tr>\n",
       "  </tbody>\n",
       "</table>\n",
       "</div>"
      ],
      "text/plain": [
       "   survived  pclass     sex   age  ...  deck  embark_town  alive  alone\n",
       "0         0       3    male  22.0  ...   NaN  Southampton     no  False\n",
       "1         1       1  female  38.0  ...     C    Cherbourg    yes  False\n",
       "2         1       3  female  26.0  ...   NaN  Southampton    yes   True\n",
       "3         1       1  female  35.0  ...     C  Southampton    yes  False\n",
       "4         0       3    male  35.0  ...   NaN  Southampton     no   True\n",
       "\n",
       "[5 rows x 15 columns]"
      ]
     },
     "execution_count": 2,
     "metadata": {
      "tags": []
     },
     "output_type": "execute_result"
    }
   ],
   "source": [
    "# 데이터 살펴보기\n",
    "df.head()"
   ]
  },
  {
   "cell_type": "code",
   "execution_count": 3,
   "metadata": {
    "colab": {
     "base_uri": "https://localhost:8080/"
    },
    "executionInfo": {
     "elapsed": 236,
     "status": "ok",
     "timestamp": 1628730220375,
     "user": {
      "displayName": "두드림",
      "photoUrl": "https://lh3.googleusercontent.com/a-/AOh14GjzXad5nuvxpsURPSSa0wwNUQw7ZxAVNBPF9kyp=s64",
      "userId": "16001116907625236704"
     },
     "user_tz": -540
    },
    "id": "k6GSGu0T0tAu",
    "outputId": "d9f76554-10cc-4d1f-ad13-3f7d13abba2f"
   },
   "outputs": [
    {
     "name": "stdout",
     "output_type": "stream",
     "text": [
      "<class 'pandas.core.frame.DataFrame'>\n",
      "RangeIndex: 891 entries, 0 to 890\n",
      "Data columns (total 15 columns):\n",
      " #   Column       Non-Null Count  Dtype   \n",
      "---  ------       --------------  -----   \n",
      " 0   survived     891 non-null    int64   \n",
      " 1   pclass       891 non-null    int64   \n",
      " 2   sex          891 non-null    object  \n",
      " 3   age          714 non-null    float64 \n",
      " 4   sibsp        891 non-null    int64   \n",
      " 5   parch        891 non-null    int64   \n",
      " 6   fare         891 non-null    float64 \n",
      " 7   embarked     889 non-null    object  \n",
      " 8   class        891 non-null    category\n",
      " 9   who          891 non-null    object  \n",
      " 10  adult_male   891 non-null    bool    \n",
      " 11  deck         203 non-null    category\n",
      " 12  embark_town  889 non-null    object  \n",
      " 13  alive        891 non-null    object  \n",
      " 14  alone        891 non-null    bool    \n",
      "dtypes: bool(2), category(2), float64(2), int64(4), object(5)\n",
      "memory usage: 80.6+ KB\n"
     ]
    }
   ],
   "source": [
    "df.info()"
   ]
  },
  {
   "cell_type": "markdown",
   "metadata": {
    "id": "pbsE75WJ4mJp"
   },
   "source": [
    "0: survived: 생존 여부 => 0 = No, 1 = Yes\n",
    "1: pclass: 티켓 등급 => 1 = 1st, 2 = 2nd, 3 = 3rd\n",
    "2: sex: 성별\n",
    "3: age: 나이\n",
    "4: sibsp: 함께 탑승한 형제자매, 배우자의 수\n",
    "5: parch: 함께 탑승한 부모, 자식의 수\n",
    "6: fare: 운임\n",
    "7: embarked: 탑승 항구 => C = Cherbourg, Q = Queenstown, S = Southampton\n",
    "8: class: 객실 등급\n",
    "9: who: 남자/여자/아이\n",
    "10: adult_male: 성인 남성\n",
    "11: deck: 객실 데크 위치\n",
    "12: embark_town: 승선 도시\n",
    "13: alive: 생존 여부\n",
    "14: alone: 동행자 여부\n"
   ]
  },
  {
   "cell_type": "code",
   "execution_count": 4,
   "metadata": {
    "colab": {
     "base_uri": "https://localhost:8080/"
    },
    "executionInfo": {
     "elapsed": 244,
     "status": "ok",
     "timestamp": 1628730482651,
     "user": {
      "displayName": "두드림",
      "photoUrl": "https://lh3.googleusercontent.com/a-/AOh14GjzXad5nuvxpsURPSSa0wwNUQw7ZxAVNBPF9kyp=s64",
      "userId": "16001116907625236704"
     },
     "user_tz": -540
    },
    "id": "CV-E5izB4nDB",
    "outputId": "9c6f79ad-67f0-4a88-fbb6-0ecee9466e7a"
   },
   "outputs": [
    {
     "data": {
      "text/plain": [
       "array(['survived', 'pclass', 'sex', 'age', 'sibsp', 'parch', 'fare',\n",
       "       'embarked', 'class', 'who', 'adult_male', 'alive', 'alone'],\n",
       "      dtype=object)"
      ]
     },
     "execution_count": 4,
     "metadata": {
      "tags": []
     },
     "output_type": "execute_result"
    }
   ],
   "source": [
    "# Nan 값이 많은 deck 열 삭제 , mebarked와 내용이 겹치는 embark_town 열을 삭제\n",
    "\n",
    "rdf = df.drop(['deck', 'embark_town'], axis=1)\n",
    "rdf.columns.values"
   ]
  },
  {
   "cell_type": "code",
   "execution_count": 5,
   "metadata": {
    "colab": {
     "base_uri": "https://localhost:8080/"
    },
    "executionInfo": {
     "elapsed": 265,
     "status": "ok",
     "timestamp": 1628730536618,
     "user": {
      "displayName": "두드림",
      "photoUrl": "https://lh3.googleusercontent.com/a-/AOh14GjzXad5nuvxpsURPSSa0wwNUQw7ZxAVNBPF9kyp=s64",
      "userId": "16001116907625236704"
     },
     "user_tz": -540
    },
    "id": "5SgDdr6z5t1t",
    "outputId": "61b11483-f5a8-494c-ea38-2200d9dd2c04"
   },
   "outputs": [
    {
     "name": "stdout",
     "output_type": "stream",
     "text": [
      "<class 'pandas.core.frame.DataFrame'>\n",
      "Int64Index: 714 entries, 0 to 890\n",
      "Data columns (total 13 columns):\n",
      " #   Column      Non-Null Count  Dtype   \n",
      "---  ------      --------------  -----   \n",
      " 0   survived    714 non-null    int64   \n",
      " 1   pclass      714 non-null    int64   \n",
      " 2   sex         714 non-null    object  \n",
      " 3   age         714 non-null    float64 \n",
      " 4   sibsp       714 non-null    int64   \n",
      " 5   parch       714 non-null    int64   \n",
      " 6   fare        714 non-null    float64 \n",
      " 7   embarked    712 non-null    object  \n",
      " 8   class       714 non-null    category\n",
      " 9   who         714 non-null    object  \n",
      " 10  adult_male  714 non-null    bool    \n",
      " 11  alive       714 non-null    object  \n",
      " 12  alone       714 non-null    bool    \n",
      "dtypes: bool(2), category(1), float64(2), int64(4), object(4)\n",
      "memory usage: 63.6+ KB\n"
     ]
    }
   ],
   "source": [
    "# age 열에 나이 데이터가 없는 모든 행을 삭제 - age 177개의 NaN 값\n",
    "rdf = rdf.dropna(subset = ['age'], how = 'any', axis = 0)\n",
    "rdf.info()"
   ]
  },
  {
   "cell_type": "code",
   "execution_count": 6,
   "metadata": {
    "colab": {
     "base_uri": "https://localhost:8080/"
    },
    "executionInfo": {
     "elapsed": 260,
     "status": "ok",
     "timestamp": 1628730862631,
     "user": {
      "displayName": "두드림",
      "photoUrl": "https://lh3.googleusercontent.com/a-/AOh14GjzXad5nuvxpsURPSSa0wwNUQw7ZxAVNBPF9kyp=s64",
      "userId": "16001116907625236704"
     },
     "user_tz": -540
    },
    "id": "_X7f5Mqs57Ao",
    "outputId": "1254b7a1-cf7e-4028-b7cc-b9d0cd7a0724"
   },
   "outputs": [
    {
     "data": {
      "text/plain": [
       "array(['S', 'C', 'Q', nan], dtype=object)"
      ]
     },
     "execution_count": 6,
     "metadata": {
      "tags": []
     },
     "output_type": "execute_result"
    }
   ],
   "source": [
    "rdf['embarked'].unique()"
   ]
  },
  {
   "cell_type": "code",
   "execution_count": 7,
   "metadata": {
    "colab": {
     "base_uri": "https://localhost:8080/",
     "height": 35
    },
    "executionInfo": {
     "elapsed": 262,
     "status": "ok",
     "timestamp": 1628731001471,
     "user": {
      "displayName": "두드림",
      "photoUrl": "https://lh3.googleusercontent.com/a-/AOh14GjzXad5nuvxpsURPSSa0wwNUQw7ZxAVNBPF9kyp=s64",
      "userId": "16001116907625236704"
     },
     "user_tz": -540
    },
    "id": "OTGMCOY27Kmi",
    "outputId": "2613586f-881c-4fe9-fcee-18c344f8ef15"
   },
   "outputs": [
    {
     "data": {
      "application/vnd.google.colaboratory.intrinsic+json": {
       "type": "string"
      },
      "text/plain": [
       "'S'"
      ]
     },
     "execution_count": 7,
     "metadata": {
      "tags": []
     },
     "output_type": "execute_result"
    }
   ],
   "source": [
    "# embarked 열의 NAN 값을 승선도시 중에서 가장 많이 출현한 값으로 치환하기\n",
    "\n",
    "most_freq = rdf['embarked'].value_counts(dropna = True).idxmax()\n",
    "most_freq"
   ]
  },
  {
   "cell_type": "code",
   "execution_count": 15,
   "metadata": {
    "executionInfo": {
     "elapsed": 253,
     "status": "ok",
     "timestamp": 1628731749699,
     "user": {
      "displayName": "두드림",
      "photoUrl": "https://lh3.googleusercontent.com/a-/AOh14GjzXad5nuvxpsURPSSa0wwNUQw7ZxAVNBPF9kyp=s64",
      "userId": "16001116907625236704"
     },
     "user_tz": -540
    },
    "id": "iQGdO2Qw7sfr"
   },
   "outputs": [],
   "source": [
    "rdf['embarked'].fillna(most_freq, inplace = True)"
   ]
  },
  {
   "cell_type": "code",
   "execution_count": 16,
   "metadata": {
    "colab": {
     "base_uri": "https://localhost:8080/",
     "height": 408
    },
    "executionInfo": {
     "elapsed": 9,
     "status": "ok",
     "timestamp": 1628731750684,
     "user": {
      "displayName": "두드림",
      "photoUrl": "https://lh3.googleusercontent.com/a-/AOh14GjzXad5nuvxpsURPSSa0wwNUQw7ZxAVNBPF9kyp=s64",
      "userId": "16001116907625236704"
     },
     "user_tz": -540
    },
    "id": "X7wchHF58Iad",
    "outputId": "d40449aa-5296-489d-d5ad-82db689079c1"
   },
   "outputs": [
    {
     "data": {
      "text/html": [
       "<div>\n",
       "<style scoped>\n",
       "    .dataframe tbody tr th:only-of-type {\n",
       "        vertical-align: middle;\n",
       "    }\n",
       "\n",
       "    .dataframe tbody tr th {\n",
       "        vertical-align: top;\n",
       "    }\n",
       "\n",
       "    .dataframe thead th {\n",
       "        text-align: right;\n",
       "    }\n",
       "</style>\n",
       "<table border=\"1\" class=\"dataframe\">\n",
       "  <thead>\n",
       "    <tr style=\"text-align: right;\">\n",
       "      <th></th>\n",
       "      <th>survived</th>\n",
       "      <th>pclass</th>\n",
       "      <th>sex</th>\n",
       "      <th>age</th>\n",
       "      <th>sibsp</th>\n",
       "      <th>parch</th>\n",
       "      <th>fare</th>\n",
       "      <th>embarked</th>\n",
       "      <th>class</th>\n",
       "      <th>who</th>\n",
       "      <th>adult_male</th>\n",
       "      <th>deck</th>\n",
       "      <th>embark_town</th>\n",
       "      <th>alive</th>\n",
       "      <th>alone</th>\n",
       "    </tr>\n",
       "  </thead>\n",
       "  <tbody>\n",
       "    <tr>\n",
       "      <th>count</th>\n",
       "      <td>891.000000</td>\n",
       "      <td>891.000000</td>\n",
       "      <td>891</td>\n",
       "      <td>714.000000</td>\n",
       "      <td>891.000000</td>\n",
       "      <td>891.000000</td>\n",
       "      <td>891.000000</td>\n",
       "      <td>891</td>\n",
       "      <td>891</td>\n",
       "      <td>891</td>\n",
       "      <td>891</td>\n",
       "      <td>203</td>\n",
       "      <td>889</td>\n",
       "      <td>891</td>\n",
       "      <td>891</td>\n",
       "    </tr>\n",
       "    <tr>\n",
       "      <th>unique</th>\n",
       "      <td>NaN</td>\n",
       "      <td>NaN</td>\n",
       "      <td>2</td>\n",
       "      <td>NaN</td>\n",
       "      <td>NaN</td>\n",
       "      <td>NaN</td>\n",
       "      <td>NaN</td>\n",
       "      <td>3</td>\n",
       "      <td>3</td>\n",
       "      <td>3</td>\n",
       "      <td>2</td>\n",
       "      <td>7</td>\n",
       "      <td>3</td>\n",
       "      <td>2</td>\n",
       "      <td>2</td>\n",
       "    </tr>\n",
       "    <tr>\n",
       "      <th>top</th>\n",
       "      <td>NaN</td>\n",
       "      <td>NaN</td>\n",
       "      <td>male</td>\n",
       "      <td>NaN</td>\n",
       "      <td>NaN</td>\n",
       "      <td>NaN</td>\n",
       "      <td>NaN</td>\n",
       "      <td>S</td>\n",
       "      <td>Third</td>\n",
       "      <td>man</td>\n",
       "      <td>True</td>\n",
       "      <td>C</td>\n",
       "      <td>Southampton</td>\n",
       "      <td>no</td>\n",
       "      <td>True</td>\n",
       "    </tr>\n",
       "    <tr>\n",
       "      <th>freq</th>\n",
       "      <td>NaN</td>\n",
       "      <td>NaN</td>\n",
       "      <td>577</td>\n",
       "      <td>NaN</td>\n",
       "      <td>NaN</td>\n",
       "      <td>NaN</td>\n",
       "      <td>NaN</td>\n",
       "      <td>646</td>\n",
       "      <td>491</td>\n",
       "      <td>537</td>\n",
       "      <td>537</td>\n",
       "      <td>59</td>\n",
       "      <td>644</td>\n",
       "      <td>549</td>\n",
       "      <td>537</td>\n",
       "    </tr>\n",
       "    <tr>\n",
       "      <th>mean</th>\n",
       "      <td>0.383838</td>\n",
       "      <td>2.308642</td>\n",
       "      <td>NaN</td>\n",
       "      <td>29.699118</td>\n",
       "      <td>0.523008</td>\n",
       "      <td>0.381594</td>\n",
       "      <td>32.204208</td>\n",
       "      <td>NaN</td>\n",
       "      <td>NaN</td>\n",
       "      <td>NaN</td>\n",
       "      <td>NaN</td>\n",
       "      <td>NaN</td>\n",
       "      <td>NaN</td>\n",
       "      <td>NaN</td>\n",
       "      <td>NaN</td>\n",
       "    </tr>\n",
       "    <tr>\n",
       "      <th>std</th>\n",
       "      <td>0.486592</td>\n",
       "      <td>0.836071</td>\n",
       "      <td>NaN</td>\n",
       "      <td>14.526497</td>\n",
       "      <td>1.102743</td>\n",
       "      <td>0.806057</td>\n",
       "      <td>49.693429</td>\n",
       "      <td>NaN</td>\n",
       "      <td>NaN</td>\n",
       "      <td>NaN</td>\n",
       "      <td>NaN</td>\n",
       "      <td>NaN</td>\n",
       "      <td>NaN</td>\n",
       "      <td>NaN</td>\n",
       "      <td>NaN</td>\n",
       "    </tr>\n",
       "    <tr>\n",
       "      <th>min</th>\n",
       "      <td>0.000000</td>\n",
       "      <td>1.000000</td>\n",
       "      <td>NaN</td>\n",
       "      <td>0.420000</td>\n",
       "      <td>0.000000</td>\n",
       "      <td>0.000000</td>\n",
       "      <td>0.000000</td>\n",
       "      <td>NaN</td>\n",
       "      <td>NaN</td>\n",
       "      <td>NaN</td>\n",
       "      <td>NaN</td>\n",
       "      <td>NaN</td>\n",
       "      <td>NaN</td>\n",
       "      <td>NaN</td>\n",
       "      <td>NaN</td>\n",
       "    </tr>\n",
       "    <tr>\n",
       "      <th>25%</th>\n",
       "      <td>0.000000</td>\n",
       "      <td>2.000000</td>\n",
       "      <td>NaN</td>\n",
       "      <td>20.125000</td>\n",
       "      <td>0.000000</td>\n",
       "      <td>0.000000</td>\n",
       "      <td>7.910400</td>\n",
       "      <td>NaN</td>\n",
       "      <td>NaN</td>\n",
       "      <td>NaN</td>\n",
       "      <td>NaN</td>\n",
       "      <td>NaN</td>\n",
       "      <td>NaN</td>\n",
       "      <td>NaN</td>\n",
       "      <td>NaN</td>\n",
       "    </tr>\n",
       "    <tr>\n",
       "      <th>50%</th>\n",
       "      <td>0.000000</td>\n",
       "      <td>3.000000</td>\n",
       "      <td>NaN</td>\n",
       "      <td>28.000000</td>\n",
       "      <td>0.000000</td>\n",
       "      <td>0.000000</td>\n",
       "      <td>14.454200</td>\n",
       "      <td>NaN</td>\n",
       "      <td>NaN</td>\n",
       "      <td>NaN</td>\n",
       "      <td>NaN</td>\n",
       "      <td>NaN</td>\n",
       "      <td>NaN</td>\n",
       "      <td>NaN</td>\n",
       "      <td>NaN</td>\n",
       "    </tr>\n",
       "    <tr>\n",
       "      <th>75%</th>\n",
       "      <td>1.000000</td>\n",
       "      <td>3.000000</td>\n",
       "      <td>NaN</td>\n",
       "      <td>38.000000</td>\n",
       "      <td>1.000000</td>\n",
       "      <td>0.000000</td>\n",
       "      <td>31.000000</td>\n",
       "      <td>NaN</td>\n",
       "      <td>NaN</td>\n",
       "      <td>NaN</td>\n",
       "      <td>NaN</td>\n",
       "      <td>NaN</td>\n",
       "      <td>NaN</td>\n",
       "      <td>NaN</td>\n",
       "      <td>NaN</td>\n",
       "    </tr>\n",
       "    <tr>\n",
       "      <th>max</th>\n",
       "      <td>1.000000</td>\n",
       "      <td>3.000000</td>\n",
       "      <td>NaN</td>\n",
       "      <td>80.000000</td>\n",
       "      <td>8.000000</td>\n",
       "      <td>6.000000</td>\n",
       "      <td>512.329200</td>\n",
       "      <td>NaN</td>\n",
       "      <td>NaN</td>\n",
       "      <td>NaN</td>\n",
       "      <td>NaN</td>\n",
       "      <td>NaN</td>\n",
       "      <td>NaN</td>\n",
       "      <td>NaN</td>\n",
       "      <td>NaN</td>\n",
       "    </tr>\n",
       "  </tbody>\n",
       "</table>\n",
       "</div>"
      ],
      "text/plain": [
       "          survived      pclass   sex         age  ...  deck  embark_town  alive alone\n",
       "count   891.000000  891.000000   891  714.000000  ...   203          889    891   891\n",
       "unique         NaN         NaN     2         NaN  ...     7            3      2     2\n",
       "top            NaN         NaN  male         NaN  ...     C  Southampton     no  True\n",
       "freq           NaN         NaN   577         NaN  ...    59          644    549   537\n",
       "mean      0.383838    2.308642   NaN   29.699118  ...   NaN          NaN    NaN   NaN\n",
       "std       0.486592    0.836071   NaN   14.526497  ...   NaN          NaN    NaN   NaN\n",
       "min       0.000000    1.000000   NaN    0.420000  ...   NaN          NaN    NaN   NaN\n",
       "25%       0.000000    2.000000   NaN   20.125000  ...   NaN          NaN    NaN   NaN\n",
       "50%       0.000000    3.000000   NaN   28.000000  ...   NaN          NaN    NaN   NaN\n",
       "75%       1.000000    3.000000   NaN   38.000000  ...   NaN          NaN    NaN   NaN\n",
       "max       1.000000    3.000000   NaN   80.000000  ...   NaN          NaN    NaN   NaN\n",
       "\n",
       "[11 rows x 15 columns]"
      ]
     },
     "execution_count": 16,
     "metadata": {
      "tags": []
     },
     "output_type": "execute_result"
    }
   ],
   "source": [
    "df.describe(include = 'all')"
   ]
  },
  {
   "cell_type": "code",
   "execution_count": 17,
   "metadata": {
    "colab": {
     "base_uri": "https://localhost:8080/",
     "height": 203
    },
    "executionInfo": {
     "elapsed": 371,
     "status": "ok",
     "timestamp": 1628731752017,
     "user": {
      "displayName": "두드림",
      "photoUrl": "https://lh3.googleusercontent.com/a-/AOh14GjzXad5nuvxpsURPSSa0wwNUQw7ZxAVNBPF9kyp=s64",
      "userId": "16001116907625236704"
     },
     "user_tz": -540
    },
    "id": "InBNTU5f8PoJ",
    "outputId": "be1c9d67-8cae-48da-d7a5-3fd07087f13d"
   },
   "outputs": [
    {
     "data": {
      "text/html": [
       "<div>\n",
       "<style scoped>\n",
       "    .dataframe tbody tr th:only-of-type {\n",
       "        vertical-align: middle;\n",
       "    }\n",
       "\n",
       "    .dataframe tbody tr th {\n",
       "        vertical-align: top;\n",
       "    }\n",
       "\n",
       "    .dataframe thead th {\n",
       "        text-align: right;\n",
       "    }\n",
       "</style>\n",
       "<table border=\"1\" class=\"dataframe\">\n",
       "  <thead>\n",
       "    <tr style=\"text-align: right;\">\n",
       "      <th></th>\n",
       "      <th>survived</th>\n",
       "      <th>pclass</th>\n",
       "      <th>sex</th>\n",
       "      <th>age</th>\n",
       "      <th>sibsp</th>\n",
       "      <th>parch</th>\n",
       "      <th>embarked</th>\n",
       "    </tr>\n",
       "  </thead>\n",
       "  <tbody>\n",
       "    <tr>\n",
       "      <th>0</th>\n",
       "      <td>0</td>\n",
       "      <td>3</td>\n",
       "      <td>male</td>\n",
       "      <td>22.0</td>\n",
       "      <td>1</td>\n",
       "      <td>0</td>\n",
       "      <td>S</td>\n",
       "    </tr>\n",
       "    <tr>\n",
       "      <th>1</th>\n",
       "      <td>1</td>\n",
       "      <td>1</td>\n",
       "      <td>female</td>\n",
       "      <td>38.0</td>\n",
       "      <td>1</td>\n",
       "      <td>0</td>\n",
       "      <td>C</td>\n",
       "    </tr>\n",
       "    <tr>\n",
       "      <th>2</th>\n",
       "      <td>1</td>\n",
       "      <td>3</td>\n",
       "      <td>female</td>\n",
       "      <td>26.0</td>\n",
       "      <td>0</td>\n",
       "      <td>0</td>\n",
       "      <td>S</td>\n",
       "    </tr>\n",
       "    <tr>\n",
       "      <th>3</th>\n",
       "      <td>1</td>\n",
       "      <td>1</td>\n",
       "      <td>female</td>\n",
       "      <td>35.0</td>\n",
       "      <td>1</td>\n",
       "      <td>0</td>\n",
       "      <td>S</td>\n",
       "    </tr>\n",
       "    <tr>\n",
       "      <th>4</th>\n",
       "      <td>0</td>\n",
       "      <td>3</td>\n",
       "      <td>male</td>\n",
       "      <td>35.0</td>\n",
       "      <td>0</td>\n",
       "      <td>0</td>\n",
       "      <td>S</td>\n",
       "    </tr>\n",
       "  </tbody>\n",
       "</table>\n",
       "</div>"
      ],
      "text/plain": [
       "   survived  pclass     sex   age  sibsp  parch embarked\n",
       "0         0       3    male  22.0      1      0        S\n",
       "1         1       1  female  38.0      1      0        C\n",
       "2         1       3  female  26.0      0      0        S\n",
       "3         1       1  female  35.0      1      0        S\n",
       "4         0       3    male  35.0      0      0        S"
      ]
     },
     "execution_count": 17,
     "metadata": {
      "tags": []
     },
     "output_type": "execute_result"
    }
   ],
   "source": [
    "# 분석에 활용할 열 (속성)을 선택\n",
    "ndf = rdf[['survived', 'pclass', 'sex', 'age', 'sibsp', 'parch', 'embarked']]\n",
    "ndf.head()"
   ]
  },
  {
   "cell_type": "code",
   "execution_count": 18,
   "metadata": {
    "colab": {
     "base_uri": "https://localhost:8080/"
    },
    "executionInfo": {
     "elapsed": 280,
     "status": "ok",
     "timestamp": 1628731754105,
     "user": {
      "displayName": "두드림",
      "photoUrl": "https://lh3.googleusercontent.com/a-/AOh14GjzXad5nuvxpsURPSSa0wwNUQw7ZxAVNBPF9kyp=s64",
      "userId": "16001116907625236704"
     },
     "user_tz": -540
    },
    "id": "yGQDREUv-RWR",
    "outputId": "48412565-8968-4a17-eb43-de22a5ffd196"
   },
   "outputs": [
    {
     "name": "stdout",
     "output_type": "stream",
     "text": [
      "<class 'pandas.core.frame.DataFrame'>\n",
      "Int64Index: 714 entries, 0 to 890\n",
      "Data columns (total 7 columns):\n",
      " #   Column    Non-Null Count  Dtype  \n",
      "---  ------    --------------  -----  \n",
      " 0   survived  714 non-null    int64  \n",
      " 1   pclass    714 non-null    int64  \n",
      " 2   sex       714 non-null    object \n",
      " 3   age       714 non-null    float64\n",
      " 4   sibsp     714 non-null    int64  \n",
      " 5   parch     714 non-null    int64  \n",
      " 6   embarked  714 non-null    object \n",
      "dtypes: float64(1), int64(4), object(2)\n",
      "memory usage: 44.6+ KB\n"
     ]
    }
   ],
   "source": [
    "ndf.info()"
   ]
  },
  {
   "cell_type": "code",
   "execution_count": 20,
   "metadata": {
    "colab": {
     "base_uri": "https://localhost:8080/",
     "height": 203
    },
    "executionInfo": {
     "elapsed": 397,
     "status": "ok",
     "timestamp": 1628731972197,
     "user": {
      "displayName": "두드림",
      "photoUrl": "https://lh3.googleusercontent.com/a-/AOh14GjzXad5nuvxpsURPSSa0wwNUQw7ZxAVNBPF9kyp=s64",
      "userId": "16001116907625236704"
     },
     "user_tz": -540
    },
    "id": "0Faz5Nur-cXG",
    "outputId": "58f2d3d1-6da9-47e3-da67-5af0f1f11278"
   },
   "outputs": [
    {
     "data": {
      "text/html": [
       "<div>\n",
       "<style scoped>\n",
       "    .dataframe tbody tr th:only-of-type {\n",
       "        vertical-align: middle;\n",
       "    }\n",
       "\n",
       "    .dataframe tbody tr th {\n",
       "        vertical-align: top;\n",
       "    }\n",
       "\n",
       "    .dataframe thead th {\n",
       "        text-align: right;\n",
       "    }\n",
       "</style>\n",
       "<table border=\"1\" class=\"dataframe\">\n",
       "  <thead>\n",
       "    <tr style=\"text-align: right;\">\n",
       "      <th></th>\n",
       "      <th>female</th>\n",
       "      <th>male</th>\n",
       "    </tr>\n",
       "  </thead>\n",
       "  <tbody>\n",
       "    <tr>\n",
       "      <th>0</th>\n",
       "      <td>0</td>\n",
       "      <td>1</td>\n",
       "    </tr>\n",
       "    <tr>\n",
       "      <th>1</th>\n",
       "      <td>1</td>\n",
       "      <td>0</td>\n",
       "    </tr>\n",
       "    <tr>\n",
       "      <th>2</th>\n",
       "      <td>1</td>\n",
       "      <td>0</td>\n",
       "    </tr>\n",
       "    <tr>\n",
       "      <th>3</th>\n",
       "      <td>1</td>\n",
       "      <td>0</td>\n",
       "    </tr>\n",
       "    <tr>\n",
       "      <th>4</th>\n",
       "      <td>0</td>\n",
       "      <td>1</td>\n",
       "    </tr>\n",
       "  </tbody>\n",
       "</table>\n",
       "</div>"
      ],
      "text/plain": [
       "   female  male\n",
       "0       0     1\n",
       "1       1     0\n",
       "2       1     0\n",
       "3       1     0\n",
       "4       0     1"
      ]
     },
     "execution_count": 20,
     "metadata": {
      "tags": []
     },
     "output_type": "execute_result"
    }
   ],
   "source": [
    "# 원핫인코딩 - 범주형 데이터를 모형에 인식할 수 있도록 숫자형으로 변환\n",
    "# get_dummies 를 활용하면 가능\n",
    "onehot_sex = pd.get_dummies(ndf['sex'])\n",
    "onehot_sex.head()"
   ]
  },
  {
   "cell_type": "code",
   "execution_count": 21,
   "metadata": {
    "colab": {
     "base_uri": "https://localhost:8080/",
     "height": 203
    },
    "executionInfo": {
     "elapsed": 262,
     "status": "ok",
     "timestamp": 1628732056825,
     "user": {
      "displayName": "두드림",
      "photoUrl": "https://lh3.googleusercontent.com/a-/AOh14GjzXad5nuvxpsURPSSa0wwNUQw7ZxAVNBPF9kyp=s64",
      "userId": "16001116907625236704"
     },
     "user_tz": -540
    },
    "id": "j_YZTptI-2TP",
    "outputId": "e0320f3f-41bd-4635-ceb2-91eeb4442621"
   },
   "outputs": [
    {
     "data": {
      "text/html": [
       "<div>\n",
       "<style scoped>\n",
       "    .dataframe tbody tr th:only-of-type {\n",
       "        vertical-align: middle;\n",
       "    }\n",
       "\n",
       "    .dataframe tbody tr th {\n",
       "        vertical-align: top;\n",
       "    }\n",
       "\n",
       "    .dataframe thead th {\n",
       "        text-align: right;\n",
       "    }\n",
       "</style>\n",
       "<table border=\"1\" class=\"dataframe\">\n",
       "  <thead>\n",
       "    <tr style=\"text-align: right;\">\n",
       "      <th></th>\n",
       "      <th>survived</th>\n",
       "      <th>pclass</th>\n",
       "      <th>sex</th>\n",
       "      <th>age</th>\n",
       "      <th>sibsp</th>\n",
       "      <th>parch</th>\n",
       "      <th>embarked</th>\n",
       "      <th>female</th>\n",
       "      <th>male</th>\n",
       "    </tr>\n",
       "  </thead>\n",
       "  <tbody>\n",
       "    <tr>\n",
       "      <th>0</th>\n",
       "      <td>0</td>\n",
       "      <td>3</td>\n",
       "      <td>male</td>\n",
       "      <td>22.0</td>\n",
       "      <td>1</td>\n",
       "      <td>0</td>\n",
       "      <td>S</td>\n",
       "      <td>0</td>\n",
       "      <td>1</td>\n",
       "    </tr>\n",
       "    <tr>\n",
       "      <th>1</th>\n",
       "      <td>1</td>\n",
       "      <td>1</td>\n",
       "      <td>female</td>\n",
       "      <td>38.0</td>\n",
       "      <td>1</td>\n",
       "      <td>0</td>\n",
       "      <td>C</td>\n",
       "      <td>1</td>\n",
       "      <td>0</td>\n",
       "    </tr>\n",
       "    <tr>\n",
       "      <th>2</th>\n",
       "      <td>1</td>\n",
       "      <td>3</td>\n",
       "      <td>female</td>\n",
       "      <td>26.0</td>\n",
       "      <td>0</td>\n",
       "      <td>0</td>\n",
       "      <td>S</td>\n",
       "      <td>1</td>\n",
       "      <td>0</td>\n",
       "    </tr>\n",
       "    <tr>\n",
       "      <th>3</th>\n",
       "      <td>1</td>\n",
       "      <td>1</td>\n",
       "      <td>female</td>\n",
       "      <td>35.0</td>\n",
       "      <td>1</td>\n",
       "      <td>0</td>\n",
       "      <td>S</td>\n",
       "      <td>1</td>\n",
       "      <td>0</td>\n",
       "    </tr>\n",
       "    <tr>\n",
       "      <th>4</th>\n",
       "      <td>0</td>\n",
       "      <td>3</td>\n",
       "      <td>male</td>\n",
       "      <td>35.0</td>\n",
       "      <td>0</td>\n",
       "      <td>0</td>\n",
       "      <td>S</td>\n",
       "      <td>0</td>\n",
       "      <td>1</td>\n",
       "    </tr>\n",
       "  </tbody>\n",
       "</table>\n",
       "</div>"
      ],
      "text/plain": [
       "   survived  pclass     sex   age  sibsp  parch embarked  female  male\n",
       "0         0       3    male  22.0      1      0        S       0     1\n",
       "1         1       1  female  38.0      1      0        C       1     0\n",
       "2         1       3  female  26.0      0      0        S       1     0\n",
       "3         1       1  female  35.0      1      0        S       1     0\n",
       "4         0       3    male  35.0      0      0        S       0     1"
      ]
     },
     "execution_count": 21,
     "metadata": {
      "tags": []
     },
     "output_type": "execute_result"
    }
   ],
   "source": [
    "ndf = pd.concat([ndf, onehot_sex], axis = 1)\n",
    "ndf.head()"
   ]
  },
  {
   "cell_type": "code",
   "execution_count": 22,
   "metadata": {
    "colab": {
     "base_uri": "https://localhost:8080/",
     "height": 203
    },
    "executionInfo": {
     "elapsed": 243,
     "status": "ok",
     "timestamp": 1628732211457,
     "user": {
      "displayName": "두드림",
      "photoUrl": "https://lh3.googleusercontent.com/a-/AOh14GjzXad5nuvxpsURPSSa0wwNUQw7ZxAVNBPF9kyp=s64",
      "userId": "16001116907625236704"
     },
     "user_tz": -540
    },
    "id": "JWj1HL8E_uEF",
    "outputId": "87ece07a-3a50-463b-e44f-dd54e4bb0715"
   },
   "outputs": [
    {
     "data": {
      "text/html": [
       "<div>\n",
       "<style scoped>\n",
       "    .dataframe tbody tr th:only-of-type {\n",
       "        vertical-align: middle;\n",
       "    }\n",
       "\n",
       "    .dataframe tbody tr th {\n",
       "        vertical-align: top;\n",
       "    }\n",
       "\n",
       "    .dataframe thead th {\n",
       "        text-align: right;\n",
       "    }\n",
       "</style>\n",
       "<table border=\"1\" class=\"dataframe\">\n",
       "  <thead>\n",
       "    <tr style=\"text-align: right;\">\n",
       "      <th></th>\n",
       "      <th>town_C</th>\n",
       "      <th>town_Q</th>\n",
       "      <th>town_S</th>\n",
       "    </tr>\n",
       "  </thead>\n",
       "  <tbody>\n",
       "    <tr>\n",
       "      <th>0</th>\n",
       "      <td>0</td>\n",
       "      <td>0</td>\n",
       "      <td>1</td>\n",
       "    </tr>\n",
       "    <tr>\n",
       "      <th>1</th>\n",
       "      <td>1</td>\n",
       "      <td>0</td>\n",
       "      <td>0</td>\n",
       "    </tr>\n",
       "    <tr>\n",
       "      <th>2</th>\n",
       "      <td>0</td>\n",
       "      <td>0</td>\n",
       "      <td>1</td>\n",
       "    </tr>\n",
       "    <tr>\n",
       "      <th>3</th>\n",
       "      <td>0</td>\n",
       "      <td>0</td>\n",
       "      <td>1</td>\n",
       "    </tr>\n",
       "    <tr>\n",
       "      <th>4</th>\n",
       "      <td>0</td>\n",
       "      <td>0</td>\n",
       "      <td>1</td>\n",
       "    </tr>\n",
       "  </tbody>\n",
       "</table>\n",
       "</div>"
      ],
      "text/plain": [
       "   town_C  town_Q  town_S\n",
       "0       0       0       1\n",
       "1       1       0       0\n",
       "2       0       0       1\n",
       "3       0       0       1\n",
       "4       0       0       1"
      ]
     },
     "execution_count": 22,
     "metadata": {
      "tags": []
     },
     "output_type": "execute_result"
    }
   ],
   "source": [
    "onehot_embarked = pd.get_dummies(ndf['embarked'], prefix = 'town')\n",
    "onehot_embarked.head()"
   ]
  },
  {
   "cell_type": "code",
   "execution_count": 23,
   "metadata": {
    "colab": {
     "base_uri": "https://localhost:8080/",
     "height": 223
    },
    "executionInfo": {
     "elapsed": 247,
     "status": "ok",
     "timestamp": 1628732250998,
     "user": {
      "displayName": "두드림",
      "photoUrl": "https://lh3.googleusercontent.com/a-/AOh14GjzXad5nuvxpsURPSSa0wwNUQw7ZxAVNBPF9kyp=s64",
      "userId": "16001116907625236704"
     },
     "user_tz": -540
    },
    "id": "Gg2t97sRAT0c",
    "outputId": "90cb893b-a992-45c3-82a0-2d3be532ab4c"
   },
   "outputs": [
    {
     "data": {
      "text/html": [
       "<div>\n",
       "<style scoped>\n",
       "    .dataframe tbody tr th:only-of-type {\n",
       "        vertical-align: middle;\n",
       "    }\n",
       "\n",
       "    .dataframe tbody tr th {\n",
       "        vertical-align: top;\n",
       "    }\n",
       "\n",
       "    .dataframe thead th {\n",
       "        text-align: right;\n",
       "    }\n",
       "</style>\n",
       "<table border=\"1\" class=\"dataframe\">\n",
       "  <thead>\n",
       "    <tr style=\"text-align: right;\">\n",
       "      <th></th>\n",
       "      <th>survived</th>\n",
       "      <th>pclass</th>\n",
       "      <th>sex</th>\n",
       "      <th>age</th>\n",
       "      <th>sibsp</th>\n",
       "      <th>parch</th>\n",
       "      <th>embarked</th>\n",
       "      <th>female</th>\n",
       "      <th>male</th>\n",
       "      <th>town_C</th>\n",
       "      <th>town_Q</th>\n",
       "      <th>town_S</th>\n",
       "    </tr>\n",
       "  </thead>\n",
       "  <tbody>\n",
       "    <tr>\n",
       "      <th>0</th>\n",
       "      <td>0</td>\n",
       "      <td>3</td>\n",
       "      <td>male</td>\n",
       "      <td>22.0</td>\n",
       "      <td>1</td>\n",
       "      <td>0</td>\n",
       "      <td>S</td>\n",
       "      <td>0</td>\n",
       "      <td>1</td>\n",
       "      <td>0</td>\n",
       "      <td>0</td>\n",
       "      <td>1</td>\n",
       "    </tr>\n",
       "    <tr>\n",
       "      <th>1</th>\n",
       "      <td>1</td>\n",
       "      <td>1</td>\n",
       "      <td>female</td>\n",
       "      <td>38.0</td>\n",
       "      <td>1</td>\n",
       "      <td>0</td>\n",
       "      <td>C</td>\n",
       "      <td>1</td>\n",
       "      <td>0</td>\n",
       "      <td>1</td>\n",
       "      <td>0</td>\n",
       "      <td>0</td>\n",
       "    </tr>\n",
       "    <tr>\n",
       "      <th>2</th>\n",
       "      <td>1</td>\n",
       "      <td>3</td>\n",
       "      <td>female</td>\n",
       "      <td>26.0</td>\n",
       "      <td>0</td>\n",
       "      <td>0</td>\n",
       "      <td>S</td>\n",
       "      <td>1</td>\n",
       "      <td>0</td>\n",
       "      <td>0</td>\n",
       "      <td>0</td>\n",
       "      <td>1</td>\n",
       "    </tr>\n",
       "    <tr>\n",
       "      <th>3</th>\n",
       "      <td>1</td>\n",
       "      <td>1</td>\n",
       "      <td>female</td>\n",
       "      <td>35.0</td>\n",
       "      <td>1</td>\n",
       "      <td>0</td>\n",
       "      <td>S</td>\n",
       "      <td>1</td>\n",
       "      <td>0</td>\n",
       "      <td>0</td>\n",
       "      <td>0</td>\n",
       "      <td>1</td>\n",
       "    </tr>\n",
       "    <tr>\n",
       "      <th>4</th>\n",
       "      <td>0</td>\n",
       "      <td>3</td>\n",
       "      <td>male</td>\n",
       "      <td>35.0</td>\n",
       "      <td>0</td>\n",
       "      <td>0</td>\n",
       "      <td>S</td>\n",
       "      <td>0</td>\n",
       "      <td>1</td>\n",
       "      <td>0</td>\n",
       "      <td>0</td>\n",
       "      <td>1</td>\n",
       "    </tr>\n",
       "  </tbody>\n",
       "</table>\n",
       "</div>"
      ],
      "text/plain": [
       "   survived  pclass     sex   age  sibsp  ...  female male  town_C  town_Q  town_S\n",
       "0         0       3    male  22.0      1  ...       0    1       0       0       1\n",
       "1         1       1  female  38.0      1  ...       1    0       1       0       0\n",
       "2         1       3  female  26.0      0  ...       1    0       0       0       1\n",
       "3         1       1  female  35.0      1  ...       1    0       0       0       1\n",
       "4         0       3    male  35.0      0  ...       0    1       0       0       1\n",
       "\n",
       "[5 rows x 12 columns]"
      ]
     },
     "execution_count": 23,
     "metadata": {
      "tags": []
     },
     "output_type": "execute_result"
    }
   ],
   "source": [
    "ndf = pd.concat([ndf, onehot_embarked], axis = 1)\n",
    "ndf.head()"
   ]
  },
  {
   "cell_type": "code",
   "execution_count": 25,
   "metadata": {
    "colab": {
     "base_uri": "https://localhost:8080/",
     "height": 203
    },
    "executionInfo": {
     "elapsed": 270,
     "status": "ok",
     "timestamp": 1628732668815,
     "user": {
      "displayName": "두드림",
      "photoUrl": "https://lh3.googleusercontent.com/a-/AOh14GjzXad5nuvxpsURPSSa0wwNUQw7ZxAVNBPF9kyp=s64",
      "userId": "16001116907625236704"
     },
     "user_tz": -540
    },
    "id": "ET4jH9N-AdkN",
    "outputId": "b601b0ef-e063-4ae3-bc9a-d842e1ec3af3"
   },
   "outputs": [
    {
     "data": {
      "text/html": [
       "<div>\n",
       "<style scoped>\n",
       "    .dataframe tbody tr th:only-of-type {\n",
       "        vertical-align: middle;\n",
       "    }\n",
       "\n",
       "    .dataframe tbody tr th {\n",
       "        vertical-align: top;\n",
       "    }\n",
       "\n",
       "    .dataframe thead th {\n",
       "        text-align: right;\n",
       "    }\n",
       "</style>\n",
       "<table border=\"1\" class=\"dataframe\">\n",
       "  <thead>\n",
       "    <tr style=\"text-align: right;\">\n",
       "      <th></th>\n",
       "      <th>survived</th>\n",
       "      <th>pclass</th>\n",
       "      <th>age</th>\n",
       "      <th>sibsp</th>\n",
       "      <th>parch</th>\n",
       "      <th>female</th>\n",
       "      <th>male</th>\n",
       "      <th>town_C</th>\n",
       "      <th>town_Q</th>\n",
       "      <th>town_S</th>\n",
       "    </tr>\n",
       "  </thead>\n",
       "  <tbody>\n",
       "    <tr>\n",
       "      <th>0</th>\n",
       "      <td>0</td>\n",
       "      <td>3</td>\n",
       "      <td>22.0</td>\n",
       "      <td>1</td>\n",
       "      <td>0</td>\n",
       "      <td>0</td>\n",
       "      <td>1</td>\n",
       "      <td>0</td>\n",
       "      <td>0</td>\n",
       "      <td>1</td>\n",
       "    </tr>\n",
       "    <tr>\n",
       "      <th>1</th>\n",
       "      <td>1</td>\n",
       "      <td>1</td>\n",
       "      <td>38.0</td>\n",
       "      <td>1</td>\n",
       "      <td>0</td>\n",
       "      <td>1</td>\n",
       "      <td>0</td>\n",
       "      <td>1</td>\n",
       "      <td>0</td>\n",
       "      <td>0</td>\n",
       "    </tr>\n",
       "    <tr>\n",
       "      <th>2</th>\n",
       "      <td>1</td>\n",
       "      <td>3</td>\n",
       "      <td>26.0</td>\n",
       "      <td>0</td>\n",
       "      <td>0</td>\n",
       "      <td>1</td>\n",
       "      <td>0</td>\n",
       "      <td>0</td>\n",
       "      <td>0</td>\n",
       "      <td>1</td>\n",
       "    </tr>\n",
       "    <tr>\n",
       "      <th>3</th>\n",
       "      <td>1</td>\n",
       "      <td>1</td>\n",
       "      <td>35.0</td>\n",
       "      <td>1</td>\n",
       "      <td>0</td>\n",
       "      <td>1</td>\n",
       "      <td>0</td>\n",
       "      <td>0</td>\n",
       "      <td>0</td>\n",
       "      <td>1</td>\n",
       "    </tr>\n",
       "    <tr>\n",
       "      <th>4</th>\n",
       "      <td>0</td>\n",
       "      <td>3</td>\n",
       "      <td>35.0</td>\n",
       "      <td>0</td>\n",
       "      <td>0</td>\n",
       "      <td>0</td>\n",
       "      <td>1</td>\n",
       "      <td>0</td>\n",
       "      <td>0</td>\n",
       "      <td>1</td>\n",
       "    </tr>\n",
       "  </tbody>\n",
       "</table>\n",
       "</div>"
      ],
      "text/plain": [
       "   survived  pclass   age  sibsp  parch  female  male  town_C  town_Q  town_S\n",
       "0         0       3  22.0      1      0       0     1       0       0       1\n",
       "1         1       1  38.0      1      0       1     0       1       0       0\n",
       "2         1       3  26.0      0      0       1     0       0       0       1\n",
       "3         1       1  35.0      1      0       1     0       0       0       1\n",
       "4         0       3  35.0      0      0       0     1       0       0       1"
      ]
     },
     "execution_count": 25,
     "metadata": {
      "tags": []
     },
     "output_type": "execute_result"
    }
   ],
   "source": [
    "ndf.drop(['sex','embarked'], axis = 1, inplace = True)\n",
    "ndf.head()"
   ]
  },
  {
   "cell_type": "code",
   "execution_count": 28,
   "metadata": {
    "colab": {
     "base_uri": "https://localhost:8080/"
    },
    "executionInfo": {
     "elapsed": 253,
     "status": "ok",
     "timestamp": 1628734244376,
     "user": {
      "displayName": "두드림",
      "photoUrl": "https://lh3.googleusercontent.com/a-/AOh14GjzXad5nuvxpsURPSSa0wwNUQw7ZxAVNBPF9kyp=s64",
      "userId": "16001116907625236704"
     },
     "user_tz": -540
    },
    "id": "TqNDqpqxCCpH",
    "outputId": "c32796a3-1038-401b-88f4-9112dc3478b3"
   },
   "outputs": [
    {
     "name": "stdout",
     "output_type": "stream",
     "text": [
      "(714, 9)\n",
      "(714,)\n"
     ]
    }
   ],
   "source": [
    "# 속성( 변수 ) 선택\n",
    "X = ndf[list(ndf.columns)[1:]]\n",
    "y = ndf[list(ndf.columns)[0]]\n",
    "print(X.shape)\n",
    "print(y.shape)"
   ]
  },
  {
   "cell_type": "code",
   "execution_count": 30,
   "metadata": {
    "executionInfo": {
     "elapsed": 250,
     "status": "ok",
     "timestamp": 1628734378143,
     "user": {
      "displayName": "두드림",
      "photoUrl": "https://lh3.googleusercontent.com/a-/AOh14GjzXad5nuvxpsURPSSa0wwNUQw7ZxAVNBPF9kyp=s64",
      "userId": "16001116907625236704"
     },
     "user_tz": -540
    },
    "id": "h2XTFkVWH2V4"
   },
   "outputs": [],
   "source": [
    "# 설명 변수 데이터를 정규화(normalization)\n",
    "from sklearn import preprocessing\n",
    "X = preprocessing.StandardScaler().fit(X).transform(X)"
   ]
  },
  {
   "cell_type": "code",
   "execution_count": 31,
   "metadata": {
    "executionInfo": {
     "elapsed": 254,
     "status": "ok",
     "timestamp": 1628734509837,
     "user": {
      "displayName": "두드림",
      "photoUrl": "https://lh3.googleusercontent.com/a-/AOh14GjzXad5nuvxpsURPSSa0wwNUQw7ZxAVNBPF9kyp=s64",
      "userId": "16001116907625236704"
     },
     "user_tz": -540
    },
    "id": "eH0pmDNlIk4s"
   },
   "outputs": [],
   "source": [
    "# train data 와 test data로 구분(7:3 비율)\n",
    "from sklearn.model_selection import train_test_split\n",
    "X_train, X_test, y_train, y_test = train_test_split(X, y, test_size = 0.3, random_state = 10)"
   ]
  },
  {
   "cell_type": "code",
   "execution_count": 32,
   "metadata": {
    "colab": {
     "base_uri": "https://localhost:8080/"
    },
    "executionInfo": {
     "elapsed": 257,
     "status": "ok",
     "timestamp": 1628734563956,
     "user": {
      "displayName": "두드림",
      "photoUrl": "https://lh3.googleusercontent.com/a-/AOh14GjzXad5nuvxpsURPSSa0wwNUQw7ZxAVNBPF9kyp=s64",
      "userId": "16001116907625236704"
     },
     "user_tz": -540
    },
    "id": "PIfkj_mNJFCQ",
    "outputId": "06c28649-7acb-493c-c764-f170bf9c550b"
   },
   "outputs": [
    {
     "name": "stdout",
     "output_type": "stream",
     "text": [
      "train data 개수:  (499, 9)\n",
      "test data 개수:  (215, 9)\n"
     ]
    }
   ],
   "source": [
    "print('train data 개수: ', X_train.shape)\n",
    "print('test data 개수: ', X_test.shape)"
   ]
  },
  {
   "cell_type": "code",
   "execution_count": 34,
   "metadata": {
    "colab": {
     "base_uri": "https://localhost:8080/"
    },
    "executionInfo": {
     "elapsed": 247,
     "status": "ok",
     "timestamp": 1628734735330,
     "user": {
      "displayName": "두드림",
      "photoUrl": "https://lh3.googleusercontent.com/a-/AOh14GjzXad5nuvxpsURPSSa0wwNUQw7ZxAVNBPF9kyp=s64",
      "userId": "16001116907625236704"
     },
     "user_tz": -540
    },
    "id": "jBiqmjOtJSPq",
    "outputId": "ff79b640-cc68-4e97-fdc3-4760fa5bc683"
   },
   "outputs": [
    {
     "data": {
      "text/plain": [
       "array([[-1.47636364,  2.3629184 ,  0.52457013, ..., -0.47180795,\n",
       "        -0.20203051,  0.53307848],\n",
       "       [ 0.91123237, -0.46148866, -0.55170307, ..., -0.47180795,\n",
       "        -0.20203051,  0.53307848],\n",
       "       [ 0.91123237, -0.73704057, -0.55170307, ..., -0.47180795,\n",
       "        -0.20203051,  0.53307848],\n",
       "       ...,\n",
       "       [-0.28256564, -0.32371271, -0.55170307, ..., -0.47180795,\n",
       "        -0.20203051,  0.53307848],\n",
       "       [-1.47636364,  1.4673747 , -0.55170307, ...,  2.11950647,\n",
       "        -0.20203051, -1.87589641],\n",
       "       [-1.47636364, -0.9437045 , -0.55170307, ...,  2.11950647,\n",
       "        -0.20203051, -1.87589641]])"
      ]
     },
     "execution_count": 34,
     "metadata": {
      "tags": []
     },
     "output_type": "execute_result"
    }
   ],
   "source": [
    "X_train"
   ]
  },
  {
   "cell_type": "code",
   "execution_count": 35,
   "metadata": {
    "colab": {
     "base_uri": "https://localhost:8080/"
    },
    "executionInfo": {
     "elapsed": 250,
     "status": "ok",
     "timestamp": 1628734986439,
     "user": {
      "displayName": "두드림",
      "photoUrl": "https://lh3.googleusercontent.com/a-/AOh14GjzXad5nuvxpsURPSSa0wwNUQw7ZxAVNBPF9kyp=s64",
      "userId": "16001116907625236704"
     },
     "user_tz": -540
    },
    "id": "CbKgBWp7J6Z7",
    "outputId": "d4e1c3f1-3c37-4b0a-cbe3-cde891546320"
   },
   "outputs": [
    {
     "data": {
      "text/plain": [
       "KNeighborsClassifier(algorithm='auto', leaf_size=30, metric='minkowski',\n",
       "                     metric_params=None, n_jobs=None, n_neighbors=5, p=2,\n",
       "                     weights='uniform')"
      ]
     },
     "execution_count": 35,
     "metadata": {
      "tags": []
     },
     "output_type": "execute_result"
    }
   ],
   "source": [
    "# sklearn 라이브러리에서 KNN 분류 모형 가져오기\n",
    "from sklearn.neighbors import KNeighborsClassifier\n",
    "\n",
    "# 모형 객체 생성 ( k = 5 설정 )\n",
    "knn = KNeighborsClassifier(n_neighbors = 5)\n",
    "\n",
    "# train data를 가지고 모형 학습\n",
    "\n",
    "knn.fit(X_train, y_train)"
   ]
  },
  {
   "cell_type": "code",
   "execution_count": 37,
   "metadata": {
    "colab": {
     "base_uri": "https://localhost:8080/"
    },
    "executionInfo": {
     "elapsed": 246,
     "status": "ok",
     "timestamp": 1628735095182,
     "user": {
      "displayName": "두드림",
      "photoUrl": "https://lh3.googleusercontent.com/a-/AOh14GjzXad5nuvxpsURPSSa0wwNUQw7ZxAVNBPF9kyp=s64",
      "userId": "16001116907625236704"
     },
     "user_tz": -540
    },
    "id": "Z0nKEBChK5ZR",
    "outputId": "81932575-a27b-4add-f186-e9a1ada3f531"
   },
   "outputs": [
    {
     "data": {
      "text/plain": [
       "array([0, 0, 1, 0, 0, 1, 1, 1, 0, 0, 1, 1, 0, 0, 0, 1, 0, 0, 1, 1, 1, 0,\n",
       "       0, 1, 0, 0, 1, 0, 0, 0, 0, 0, 0, 1, 0, 0, 1, 0, 1, 1, 0, 1, 1, 0,\n",
       "       0, 0, 0, 0, 1, 1, 1, 0, 1, 1, 1, 1, 0, 0, 0, 0, 1, 0, 1, 0, 0, 1,\n",
       "       1, 0, 0, 0, 0, 1, 1, 0, 0, 0, 0, 0, 0, 0, 1, 0, 0, 0, 0, 0, 0, 0,\n",
       "       1, 1, 1, 0, 0, 1, 1, 0, 0, 0, 0, 0, 1, 0, 1, 0, 0, 0, 0, 1, 1, 0,\n",
       "       0, 0, 1, 0, 0, 0, 1, 0, 1, 1, 1, 0, 0, 0, 0, 0, 0, 1, 0, 0, 0, 0,\n",
       "       1, 0, 1, 0, 0, 0, 1, 0, 1, 0, 1, 0, 0, 0, 1, 1, 0, 1, 0, 1, 0, 0,\n",
       "       0, 0, 1, 0, 0, 1, 0, 0, 0, 1, 0, 1, 0, 1, 0, 1, 0, 0, 0, 1, 1, 0,\n",
       "       1, 1, 1, 1, 0, 1, 0, 0, 1, 0, 1, 0, 0, 0, 1, 0, 0, 0, 1, 1, 0, 1,\n",
       "       1, 0, 0, 1, 0, 0, 0, 0, 1, 1, 1, 0, 0, 0, 0, 0, 1])"
      ]
     },
     "execution_count": 37,
     "metadata": {
      "tags": []
     },
     "output_type": "execute_result"
    }
   ],
   "source": [
    "# test data를 가지고 y_hat을 예측( 분류 )\n",
    "y_hat = knn.predict(X_test)\n",
    "y_hat"
   ]
  },
  {
   "cell_type": "code",
   "execution_count": 38,
   "metadata": {
    "executionInfo": {
     "elapsed": 252,
     "status": "ok",
     "timestamp": 1628735183276,
     "user": {
      "displayName": "두드림",
      "photoUrl": "https://lh3.googleusercontent.com/a-/AOh14GjzXad5nuvxpsURPSSa0wwNUQw7ZxAVNBPF9kyp=s64",
      "userId": "16001116907625236704"
     },
     "user_tz": -540
    },
    "id": "e-0LVNyALGL6"
   },
   "outputs": [],
   "source": [
    "import pandas as pd\n",
    "df = pd.DataFrame({'y_hat' : y_hat , 'y' : y_test})"
   ]
  },
  {
   "cell_type": "code",
   "execution_count": 39,
   "metadata": {
    "colab": {
     "base_uri": "https://localhost:8080/",
     "height": 203
    },
    "executionInfo": {
     "elapsed": 293,
     "status": "ok",
     "timestamp": 1628735188777,
     "user": {
      "displayName": "두드림",
      "photoUrl": "https://lh3.googleusercontent.com/a-/AOh14GjzXad5nuvxpsURPSSa0wwNUQw7ZxAVNBPF9kyp=s64",
      "userId": "16001116907625236704"
     },
     "user_tz": -540
    },
    "id": "VR6SqFIoLpcB",
    "outputId": "6d38eac0-bb24-4004-9360-6c8084cc5222"
   },
   "outputs": [
    {
     "data": {
      "text/html": [
       "<div>\n",
       "<style scoped>\n",
       "    .dataframe tbody tr th:only-of-type {\n",
       "        vertical-align: middle;\n",
       "    }\n",
       "\n",
       "    .dataframe tbody tr th {\n",
       "        vertical-align: top;\n",
       "    }\n",
       "\n",
       "    .dataframe thead th {\n",
       "        text-align: right;\n",
       "    }\n",
       "</style>\n",
       "<table border=\"1\" class=\"dataframe\">\n",
       "  <thead>\n",
       "    <tr style=\"text-align: right;\">\n",
       "      <th></th>\n",
       "      <th>y_hat</th>\n",
       "      <th>y</th>\n",
       "    </tr>\n",
       "  </thead>\n",
       "  <tbody>\n",
       "    <tr>\n",
       "      <th>728</th>\n",
       "      <td>0</td>\n",
       "      <td>0</td>\n",
       "    </tr>\n",
       "    <tr>\n",
       "      <th>555</th>\n",
       "      <td>0</td>\n",
       "      <td>0</td>\n",
       "    </tr>\n",
       "    <tr>\n",
       "      <th>426</th>\n",
       "      <td>1</td>\n",
       "      <td>1</td>\n",
       "    </tr>\n",
       "    <tr>\n",
       "      <th>278</th>\n",
       "      <td>0</td>\n",
       "      <td>0</td>\n",
       "    </tr>\n",
       "    <tr>\n",
       "      <th>617</th>\n",
       "      <td>0</td>\n",
       "      <td>0</td>\n",
       "    </tr>\n",
       "  </tbody>\n",
       "</table>\n",
       "</div>"
      ],
      "text/plain": [
       "     y_hat  y\n",
       "728      0  0\n",
       "555      0  0\n",
       "426      1  1\n",
       "278      0  0\n",
       "617      0  0"
      ]
     },
     "execution_count": 39,
     "metadata": {
      "tags": []
     },
     "output_type": "execute_result"
    }
   ],
   "source": [
    "df.head()"
   ]
  },
  {
   "cell_type": "code",
   "execution_count": 40,
   "metadata": {
    "colab": {
     "base_uri": "https://localhost:8080/",
     "height": 203
    },
    "executionInfo": {
     "elapsed": 249,
     "status": "ok",
     "timestamp": 1628735283047,
     "user": {
      "displayName": "두드림",
      "photoUrl": "https://lh3.googleusercontent.com/a-/AOh14GjzXad5nuvxpsURPSSa0wwNUQw7ZxAVNBPF9kyp=s64",
      "userId": "16001116907625236704"
     },
     "user_tz": -540
    },
    "id": "sYfd_nk1LqyP",
    "outputId": "66d20c9f-0a5f-441c-f67b-4b1ace069135"
   },
   "outputs": [
    {
     "data": {
      "text/html": [
       "<div>\n",
       "<style scoped>\n",
       "    .dataframe tbody tr th:only-of-type {\n",
       "        vertical-align: middle;\n",
       "    }\n",
       "\n",
       "    .dataframe tbody tr th {\n",
       "        vertical-align: top;\n",
       "    }\n",
       "\n",
       "    .dataframe thead th {\n",
       "        text-align: right;\n",
       "    }\n",
       "</style>\n",
       "<table border=\"1\" class=\"dataframe\">\n",
       "  <thead>\n",
       "    <tr style=\"text-align: right;\">\n",
       "      <th></th>\n",
       "      <th>y_hat</th>\n",
       "      <th>y</th>\n",
       "      <th>차이</th>\n",
       "    </tr>\n",
       "  </thead>\n",
       "  <tbody>\n",
       "    <tr>\n",
       "      <th>728</th>\n",
       "      <td>0</td>\n",
       "      <td>0</td>\n",
       "      <td>True</td>\n",
       "    </tr>\n",
       "    <tr>\n",
       "      <th>555</th>\n",
       "      <td>0</td>\n",
       "      <td>0</td>\n",
       "      <td>True</td>\n",
       "    </tr>\n",
       "    <tr>\n",
       "      <th>426</th>\n",
       "      <td>1</td>\n",
       "      <td>1</td>\n",
       "      <td>True</td>\n",
       "    </tr>\n",
       "    <tr>\n",
       "      <th>278</th>\n",
       "      <td>0</td>\n",
       "      <td>0</td>\n",
       "      <td>True</td>\n",
       "    </tr>\n",
       "    <tr>\n",
       "      <th>617</th>\n",
       "      <td>0</td>\n",
       "      <td>0</td>\n",
       "      <td>True</td>\n",
       "    </tr>\n",
       "  </tbody>\n",
       "</table>\n",
       "</div>"
      ],
      "text/plain": [
       "     y_hat  y    차이\n",
       "728      0  0  True\n",
       "555      0  0  True\n",
       "426      1  1  True\n",
       "278      0  0  True\n",
       "617      0  0  True"
      ]
     },
     "execution_count": 40,
     "metadata": {
      "tags": []
     },
     "output_type": "execute_result"
    }
   ],
   "source": [
    "# 평가 지표\n",
    "df['차이'] = df['y_hat'] == df['y']\n",
    "df.head()"
   ]
  },
  {
   "cell_type": "code",
   "execution_count": 41,
   "metadata": {
    "colab": {
     "base_uri": "https://localhost:8080/"
    },
    "executionInfo": {
     "elapsed": 250,
     "status": "ok",
     "timestamp": 1628735292270,
     "user": {
      "displayName": "두드림",
      "photoUrl": "https://lh3.googleusercontent.com/a-/AOh14GjzXad5nuvxpsURPSSa0wwNUQw7ZxAVNBPF9kyp=s64",
      "userId": "16001116907625236704"
     },
     "user_tz": -540
    },
    "id": "Ar5OVVfLMBzr",
    "outputId": "5a2786b3-1898-4261-bf03-cf9115508ced"
   },
   "outputs": [
    {
     "data": {
      "text/plain": [
       "215"
      ]
     },
     "execution_count": 41,
     "metadata": {
      "tags": []
     },
     "output_type": "execute_result"
    }
   ],
   "source": [
    "len(df)"
   ]
  },
  {
   "cell_type": "code",
   "execution_count": 43,
   "metadata": {
    "colab": {
     "base_uri": "https://localhost:8080/"
    },
    "executionInfo": {
     "elapsed": 256,
     "status": "ok",
     "timestamp": 1628735449694,
     "user": {
      "displayName": "두드림",
      "photoUrl": "https://lh3.googleusercontent.com/a-/AOh14GjzXad5nuvxpsURPSSa0wwNUQw7ZxAVNBPF9kyp=s64",
      "userId": "16001116907625236704"
     },
     "user_tz": -540
    },
    "id": "xxjxfqbxMEDp",
    "outputId": "fcb30b04-ecec-470e-803c-0508d435f1e5"
   },
   "outputs": [
    {
     "name": "stdout",
     "output_type": "stream",
     "text": [
      "오답 수:  41\n"
     ]
    }
   ],
   "source": [
    "print('오답 수: ', len(df)- sum(df['차이'])) # True 는 1 이니까"
   ]
  },
  {
   "cell_type": "code",
   "execution_count": 44,
   "metadata": {
    "colab": {
     "base_uri": "https://localhost:8080/"
    },
    "executionInfo": {
     "elapsed": 350,
     "status": "ok",
     "timestamp": 1628735816796,
     "user": {
      "displayName": "두드림",
      "photoUrl": "https://lh3.googleusercontent.com/a-/AOh14GjzXad5nuvxpsURPSSa0wwNUQw7ZxAVNBPF9kyp=s64",
      "userId": "16001116907625236704"
     },
     "user_tz": -540
    },
    "id": "ynz-zb3DMiOV",
    "outputId": "a40b5df2-f6a0-4392-b594-f0869f6d6f82"
   },
   "outputs": [
    {
     "data": {
      "text/plain": [
       "array([[109,  16],\n",
       "       [ 25,  65]])"
      ]
     },
     "execution_count": 44,
     "metadata": {
      "tags": []
     },
     "output_type": "execute_result"
    }
   ],
   "source": [
    "# 모형 성능 평가 - Confusion Matrix 계산\n",
    "from sklearn import metrics\n",
    "knn_matrix = metrics.confusion_matrix(y_test, y_hat)\n",
    "knn_matrix"
   ]
  },
  {
   "cell_type": "code",
   "execution_count": 45,
   "metadata": {
    "colab": {
     "base_uri": "https://localhost:8080/"
    },
    "executionInfo": {
     "elapsed": 240,
     "status": "ok",
     "timestamp": 1628735885301,
     "user": {
      "displayName": "두드림",
      "photoUrl": "https://lh3.googleusercontent.com/a-/AOh14GjzXad5nuvxpsURPSSa0wwNUQw7ZxAVNBPF9kyp=s64",
      "userId": "16001116907625236704"
     },
     "user_tz": -540
    },
    "id": "zjCJhu3xOEF_",
    "outputId": "204f4de5-075b-4128-986a-dbcde659c0b4"
   },
   "outputs": [
    {
     "name": "stdout",
     "output_type": "stream",
     "text": [
      "              precision    recall  f1-score   support\n",
      "\n",
      "           0       0.81      0.87      0.84       125\n",
      "           1       0.80      0.72      0.76        90\n",
      "\n",
      "    accuracy                           0.81       215\n",
      "   macro avg       0.81      0.80      0.80       215\n",
      "weighted avg       0.81      0.81      0.81       215\n",
      "\n"
     ]
    }
   ],
   "source": [
    "# 모형 성능 평가 - 평가지표 계산\n",
    "\n",
    "knn_report = metrics.classification_report(y_test, y_hat)\n",
    "print(knn_report)"
   ]
  },
  {
   "cell_type": "code",
   "execution_count": null,
   "metadata": {
    "id": "qRoMuFVbOU2H"
   },
   "outputs": [],
   "source": []
  }
 ],
 "metadata": {
  "colab": {
   "authorship_tag": "ABX9TyMdWT43NJo2cDlOGHBM3YOG",
   "mount_file_id": "1IEPndAM5TDMQux8lxHxyIHmvonuTWqFV",
   "name": "[판다스 데이터분석]7장 머신러닝 데이터 분석(분류 KNN).ipynb",
   "provenance": []
  },
  "kernelspec": {
   "display_name": "Python 3",
   "language": "python",
   "name": "python3"
  },
  "language_info": {
   "codemirror_mode": {
    "name": "ipython",
    "version": 3
   },
   "file_extension": ".py",
   "mimetype": "text/x-python",
   "name": "python",
   "nbconvert_exporter": "python",
   "pygments_lexer": "ipython3",
   "version": "3.8.10"
  }
 },
 "nbformat": 4,
 "nbformat_minor": 1
}
