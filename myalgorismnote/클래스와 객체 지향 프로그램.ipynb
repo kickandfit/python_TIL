{
 "cells": [
  {
   "cell_type": "markdown",
   "id": "385f04b1",
   "metadata": {},
   "source": [
    "# equal(동등한) 과 identical(동일한)\n",
    "\n",
    "- is 와 == 의 동작 차이 인지\n",
    "- == 동등 여부 확인, is 는 동일 여부 확인"
   ]
  },
  {
   "cell_type": "code",
   "execution_count": 2,
   "id": "20696f5c",
   "metadata": {},
   "outputs": [
    {
     "name": "stdout",
     "output_type": "stream",
     "text": [
      "[1, 2, 3]\n",
      "[1, 2, 3]\n",
      "\n",
      "True\n",
      "\n",
      "True\n"
     ]
    }
   ],
   "source": [
    "a = [1, 2, 3]\n",
    "b = a\n",
    "print(a)\n",
    "print(b)\n",
    "print()\n",
    "print(a==b) # 동등한 지를 확인\n",
    "print()\n",
    "# 두 변수가 하나의 리스트 객체를 가리키고 있음을 확인\n",
    "\n",
    "print(a is b) # 동일한 지를 확인\n"
   ]
  },
  {
   "cell_type": "code",
   "execution_count": 4,
   "id": "bf60153e",
   "metadata": {},
   "outputs": [
    {
     "name": "stdout",
     "output_type": "stream",
     "text": [
      "[1, 2, 3]\n",
      "\n",
      "True\n",
      "\n",
      "False\n"
     ]
    }
   ],
   "source": [
    "# a 리스트 객체를 복사해 c에 넣음\n",
    "# a와 c는 동등하지만 동일하지는 않다\n",
    "# 서로 다른 객체를 가리키고 있음\n",
    "\n",
    "c = list(a)\n",
    "print(c)\n",
    "print()\n",
    "print(a==c)\n",
    "print()\n",
    "print(a is c)"
   ]
  },
  {
   "cell_type": "markdown",
   "id": "d98adc26",
   "metadata": {},
   "source": [
    "#### keypoint( 동등 과 동일 )\n",
    "\n",
    "- 두 변수가 동일(identical)한 객체를 가리키는 경우 is 표현식은 True\n",
    "- == 표현식은 변수가 참조하는 객체가 동등한(equal: 내용이 같은) 경우 True로 평가\n"
   ]
  },
  {
   "cell_type": "markdown",
   "id": "c6bd4035",
   "metadata": {},
   "source": [
    "# 문자열 변환 ( 모든 클래스는 __repr__이 필요하다 )\n",
    "\n",
    "- 파이썬에서 사용자 정의 클래스를 만들고 그 인스턴스를 콘솔에 출력해 보면 ( 인터프리터 세션에서 보면 ) 결과가 비교적 만족스럽지 않음\n",
    "- '문자열로' 전환하는 기본 동작이 기초적이고 세부 내용이 부족하기 떄문"
   ]
  },
  {
   "cell_type": "markdown",
   "id": "12743ee8",
   "metadata": {},
   "source": [
    "## 클래스 사용 시\n",
    "\n",
    "- 기본적으로 얻을 수 있는 것은 클래스명과 객체 인스턴스의 id(Cpython에서는 객체의 메모리 주소)를 포함하는 문자열\n",
    "- 클래스의 속성을 직접 출력하거나 클래스에 사용자 정의 to_string() 메서드를 추가하여 문제 해결가능"
   ]
  },
  {
   "cell_type": "code",
   "execution_count": 5,
   "id": "0a5fb66c",
   "metadata": {},
   "outputs": [
    {
     "name": "stdout",
     "output_type": "stream",
     "text": [
      "<__main__.Car object at 0x0000012EBFC7FAC0>\n"
     ]
    }
   ],
   "source": [
    "class Car:\n",
    "    def __init__(self, color, mileage):\n",
    "        self.color = color\n",
    "        self.mileage = mileage\n",
    "\n",
    "my_car = Car('red', 37281)\n",
    "print(my_car)"
   ]
  },
  {
   "cell_type": "code",
   "execution_count": 6,
   "id": "407a2258",
   "metadata": {},
   "outputs": [
    {
     "name": "stdout",
     "output_type": "stream",
     "text": [
      "red 37281\n"
     ]
    }
   ],
   "source": [
    "# 문제 해결 1\n",
    "print( my_car.color, my_car.mileage)"
   ]
  },
  {
   "cell_type": "markdown",
   "id": "d76cf5e4",
   "metadata": {},
   "source": [
    "#### 이 방법의 문제점\n",
    "- 파이썬이 객체를 문자열로 표현하는 데 사용하는 규칙과 기본 제공 메커니즘을 무시함\n",
    "- 자신만의 문자열 변환 시스템을 만드는 대신 클래스에 __ str __ 과 __ repr __ (던더) 메서드를 추가하는 것이 좋음\n",
    "- 서로 다른 상황에서 객체가 문자열로 전환되는 방식은 제어하는 파이다운 방식\n",
    "- 아래 코드를 볼것"
   ]
  },
  {
   "cell_type": "markdown",
   "id": "bc8f492c",
   "metadata": {},
   "source": [
    "#### 이 방식은 인스턴스 출력이나 검사시 개선된 결과를 얻을 수 있음"
   ]
  },
  {
   "cell_type": "code",
   "execution_count": 9,
   "id": "1f6c127f",
   "metadata": {},
   "outputs": [
    {
     "name": "stdout",
     "output_type": "stream",
     "text": [
      " a red car \n"
     ]
    },
    {
     "data": {
      "text/plain": [
       "<__main__.Car at 0x12ebfcc45b0>"
      ]
     },
     "execution_count": 9,
     "metadata": {},
     "output_type": "execute_result"
    }
   ],
   "source": [
    "class Car:\n",
    "    def __init__(self, color, mileage):\n",
    "        self.color = color\n",
    "        self.mileage = mileage\n",
    "        \n",
    "    def __str__(self):\n",
    "        return f' a {self.color} car '\n",
    "    \n",
    "my_car = Car('red', 37281)\n",
    "print(my_car)\n",
    "my_car"
   ]
  },
  {
   "cell_type": "code",
   "execution_count": 11,
   "id": "7ee929ef",
   "metadata": {},
   "outputs": [
    {
     "name": "stdout",
     "output_type": "stream",
     "text": [
      " a red car \n",
      "<class '__main__.Car'>\n",
      " a red car \n",
      "<class 'str'>\n",
      " a red car \n",
      "<class 'str'>\n"
     ]
    }
   ],
   "source": [
    "print(my_car)\n",
    "print(type(my_car))\n",
    "print(str(my_car))\n",
    "print(type(str(my_car)))\n",
    "print(f'{my_car}')\n",
    "print(type(f'{my_car}'))"
   ]
  },
  {
   "cell_type": "markdown",
   "id": "686065eb",
   "metadata": {},
   "source": [
    "### 위의 예제가 던져주는 메세지\n",
    "    - __ str __ 구현을 사용하면 객체 속성을 직접 출력하거나, 별도의 to_string()함수를 작성할 필요 없음\n",
    "    - 문자열 전환을 제어하는 파이썬 다운 방식\n",
    "    - 사용자가 정의한 메서드나 속성과의 충돌을 피하는 데 도움이 됨\n",
    "    - 던더 메서드를 친숙히 할 것"
   ]
  },
  {
   "cell_type": "markdown",
   "id": "143d856a",
   "metadata": {},
   "source": [
    "#  __ str __ vs __ repr __\n",
    "\n",
    "- 그러나 여전히 my_car 를 인터프리터 세션에서 검사하면 주소가 나옴\n",
    "- 이는 파이썬에서 객체가 문자열로 변환되는 방법을 제어아는 던더 메서드가 '2 가지' 이기 때문\n",
    "- 첫 번째는, __ str __ 이고, 두번 째는 __ repr __ 임\n",
    "- __ repr __ 의 동작 방식은 __ str __ 과 유사하지만 다른 상황에서 사용됨"
   ]
  },
  {
   "cell_type": "code",
   "execution_count": 13,
   "id": "127d1a34",
   "metadata": {},
   "outputs": [
    {
     "name": "stdout",
     "output_type": "stream",
     "text": [
      " __str__ for Car\n",
      "\n",
      " __str__ for Car\n",
      "\n"
     ]
    },
    {
     "data": {
      "text/plain": [
       "__repr__ for Car"
      ]
     },
     "execution_count": 13,
     "metadata": {},
     "output_type": "execute_result"
    }
   ],
   "source": [
    "# 예시\n",
    "# 차이 알아보기\n",
    "\n",
    "class Car:\n",
    "    def __init__(self, color, mileage):\n",
    "        self.color = color\n",
    "        self.mileage = mileage\n",
    "    \n",
    "    def __str__(self):\n",
    "        return ' __str__ for Car'\n",
    "    \n",
    "    def __repr__(self):\n",
    "        return '__repr__ for Car'\n",
    "    \n",
    "my_car = Car('red', 37281)\n",
    "print(my_car)\n",
    "print()\n",
    "print(f'{my_car}')\n",
    "print()\n",
    "my_car"
   ]
  },
  {
   "cell_type": "code",
   "execution_count": 14,
   "id": "86b534a2",
   "metadata": {},
   "outputs": [
    {
     "data": {
      "text/plain": [
       "'[__repr__ for Car]'"
      ]
     },
     "execution_count": 14,
     "metadata": {},
     "output_type": "execute_result"
    }
   ],
   "source": [
    "# 리스트나 딕셔너리는 __repr__을 사용함\n",
    "str([my_car])"
   ]
  },
  {
   "cell_type": "code",
   "execution_count": 15,
   "id": "657f19f7",
   "metadata": {},
   "outputs": [
    {
     "data": {
      "text/plain": [
       "'{__repr__ for Car}'"
      ]
     },
     "execution_count": 15,
     "metadata": {},
     "output_type": "execute_result"
    }
   ],
   "source": [
    "str({my_car})"
   ]
  },
  {
   "cell_type": "markdown",
   "id": "f43f7135",
   "metadata": {},
   "source": [
    "#### 위의 예제가 던져주는 메세지\n",
    "- 코드의 의도를 좀 더 명확하게 표현하기 우해 문자열 전환 메서드를 직접 선택하고자 한다면 str(),rper() 함수를 사용하는 것이 좋음\n",
    "- 이 함수들이 사용하는 편이 보기 좋으면서 결과가 똑같기에 __ str __ 또는 __ rper __ 을 직접 호출하는 것보다 바람직"
   ]
  },
  {
   "cell_type": "code",
   "execution_count": 17,
   "id": "f5da8f6c",
   "metadata": {},
   "outputs": [
    {
     "name": "stdout",
     "output_type": "stream",
     "text": [
      " __str__ for Car\n",
      "__repr__ for Car\n"
     ]
    }
   ],
   "source": [
    "# 즉 아래처럼 호출하라는 의미\n",
    "print(str(my_car))\n",
    "print(repr(my_car))"
   ]
  },
  {
   "cell_type": "markdown",
   "id": "6aafee51",
   "metadata": {},
   "source": [
    "### __ repr __ 과 __ str __ 차이점 알아보기\n",
    "- datetime.date 객체를 만들고 문자열 변환을 제어하는 방법을 알아봄"
   ]
  },
  {
   "cell_type": "code",
   "execution_count": 18,
   "id": "1034de61",
   "metadata": {},
   "outputs": [
    {
     "data": {
      "text/plain": [
       "'2021-08-08 17:21:53.132381'"
      ]
     },
     "execution_count": 18,
     "metadata": {},
     "output_type": "execute_result"
    }
   ],
   "source": [
    "import datetime\n",
    "\n",
    "today = datetime.datetime.today()\n",
    "\n",
    "str(today)"
   ]
  },
  {
   "cell_type": "markdown",
   "id": "e3d73c7f",
   "metadata": {},
   "source": [
    "#### 위 코드의 의미\n",
    "- 날짜 객체의 __ str __ 함수 결과는 원래 '읽을 수' 있어야 함\n",
    "- 이 함수의 목적은 애플리케이션 사용자에게 보여 줘도 괜찮을 정도로 사람이 읽을 수 있는 간결한 텍스트 표현을 반환하는 것\n",
    "- 즉 str(today) 는 ISO 날짜 형식과 비슷한 것을 얻게 되는 것"
   ]
  },
  {
   "cell_type": "code",
   "execution_count": 19,
   "id": "0b518b72",
   "metadata": {},
   "outputs": [
    {
     "data": {
      "text/plain": [
       "'datetime.datetime(2021, 8, 8, 17, 21, 53, 132381)'"
      ]
     },
     "execution_count": 19,
     "metadata": {},
     "output_type": "execute_result"
    }
   ],
   "source": [
    "repr(today)"
   ]
  },
  {
   "cell_type": "markdown",
   "id": "861997b3",
   "metadata": {},
   "source": [
    "#### 위 코드의 의미\n",
    "\n",
    "- __ reper __ 을 사용하면 그 결과는 무엇보다 명확해야함\n",
    "- 이 메서드의 결과 문자열은 개발자의 디버깅을 도와주려는 의도를 강하게 반영\n",
    "- 그 대상이 무엇인지 가능한 명시적으로 밝혀야 함\n",
    "- repr()을 호출하면 더 정교한 결과를 얻게 됨\n",
    "- 즉 전체 모듈과 클래스 이름까지 포함됨"
   ]
  },
  {
   "cell_type": "markdown",
   "id": "15fd12c2",
   "metadata": {},
   "source": [
    "#### 모든 클래스에 __ repr __ 이 필요한 이유\n",
    "\n",
    "- __ str __ 메서드를 추가하지 않으면 파이썬을 __ str __ 을 사용해야 할 때도 __ repr __ 을 사용한다. 따라서 클래스에 적어도 __ repr __ 메서드는 항상 추가하는 것이 좋음\n",
    "- 최소한의 구현으로 거의 모든 경우에 유용한 문자열 변환 결과가 보장됨\n",
    "- 기본 문자열 변환 지원을 빠르고 효율적으로 클래스에 추가하는 방법은 다음과 같음\n",
    "    - def __ repr __ (self): return f'Car({self.color!r}, {self.mileage!r})'\n",
    "    - !r 변환 플래그를 사용하며 출력 문자열이 str(self.color)와 str(self.mileage) 대신 repr(self.color)와 repr(self.mileage)\n",
    "        - 다만, 형식 문자열 내에서 클래스명을 반복 사용한다는 것이 아쉬움\n",
    "        - 이 반복을 피하기 위해 __ class __ . __ namge __ 속성을 사용함\n",
    "            - 이 방식은 클래스 이름이 변경 될때, __ repr __ 구현을 수정하지 않아도 됨\n",
    "            - 중복 배체 원칙을 따르게 됨"
   ]
  },
  {
   "cell_type": "code",
   "execution_count": 20,
   "id": "73a8db68",
   "metadata": {},
   "outputs": [],
   "source": [
    "# 최종 __repr__ 사용\n",
    "\n",
    "def __repr__(self):\n",
    "    return ( f'{self.__class__.__name__}(' f'{self.color}, {self.mileage})')\n",
    "\n",
    "# 이 구현의 단점\n",
    "# 형식 문자열이 상당히 길어서 다루기 힘들다는 것\n",
    "# 그러나 신중하게 형식화하면 코드를 못지게 유지하고 PEP8을 준수 할 수 있음\n"
   ]
  },
  {
   "cell_type": "code",
   "execution_count": 28,
   "id": "62e5034f",
   "metadata": {},
   "outputs": [
    {
     "name": "stdout",
     "output_type": "stream",
     "text": [
      "Car(red, 37281)\n",
      "\n",
      "a red Car\n",
      "\n",
      "a red Car\n",
      "\n"
     ]
    }
   ],
   "source": [
    "# 최종코드\n",
    "class Car:\n",
    "    def __init__(self, color, mileage):\n",
    "        self.color = color\n",
    "        self.mileage = mileage\n",
    "    \n",
    "    def __str__(self):\n",
    "        return f'a {self.color} Car'\n",
    "    \n",
    "    def __repr__(self):\n",
    "        return (f'{self.__class__.__name__}('\n",
    "                f'{self.color}, {self.mileage})')\n",
    "  \n",
    "my_car = Car('red', 37281)\n",
    "print(repr(my_car))\n",
    "print()\n",
    "print(str(my_car))\n",
    "print()\n",
    "print(my_car)\n",
    "print()"
   ]
  },
  {
   "cell_type": "markdown",
   "id": "ee17387c",
   "metadata": {},
   "source": [
    "#### keypoint ( __ repr __ vs __ str __ )\n",
    "\n",
    "- str 및 repr 던더 메서드를 사용하여 자신의 클래스에서 문자열 변환을 제어 가능\n",
    "- __ str __ 의 결과는 읽을 수 있어야 함 . __ repr __ 의 결과는 모호하지 않아야 함\n",
    "- 항상 __ repr __ 을 추가하라. __ str __ 의 기본 구현은 __ repr __ 을 호출하기만 함\n"
   ]
  },
  {
   "cell_type": "markdown",
   "id": "4061d0c4",
   "metadata": {},
   "source": [
    "# 자신만의 예외 클래스 정의하기\n",
    "\n",
    "- 사용자 정의 예외 처리 클래스를 작성하는 것은 큰 가치가 있음\n",
    "- 잠재적인 에러 사례가 분명하게 드러나게 되므로 결과적으로 함수와 모듈을 유지 보수하기 더 쉬워짐\n",
    "- 사용자 정의 에러 타입을 사용하여 디버깅 정보를 추가 제공 가능\n"
   ]
  },
  {
   "cell_type": "markdown",
   "id": "fd425379",
   "metadata": {},
   "source": [
    "#### 아래 코드 설명\n",
    "- ValeError와 같은 '상위 수준' 일반 예외 클래스를 사용하는 데는 단점이 존재\n",
    "- 함수를 라이브러리로 제공했고 내부를 잘 알지 못하는 팀원이 호출한다면, 이 검사를 실패하면 디버그 스택 추적에서 도움이 되지 않음"
   ]
  },
  {
   "cell_type": "code",
   "execution_count": 29,
   "id": "063c16cc",
   "metadata": {},
   "outputs": [],
   "source": [
    "def validatae(name):\n",
    "    if len(name)<10:\n",
    "        raise ValueError"
   ]
  },
  {
   "cell_type": "markdown",
   "id": "86bb9400",
   "metadata": {},
   "source": [
    "#### 보완코드"
   ]
  },
  {
   "cell_type": "code",
   "execution_count": 31,
   "id": "505c2173",
   "metadata": {},
   "outputs": [],
   "source": [
    "class NameTooShortError(ValueError):\n",
    "    pass\n",
    "\n",
    "def validate(name):\n",
    "    if len(name)<10:\n",
    "        raise NameTooShortError(name)"
   ]
  },
  {
   "cell_type": "code",
   "execution_count": 32,
   "id": "d83a90cd",
   "metadata": {},
   "outputs": [
    {
     "ename": "NameTooShortError",
     "evalue": "jane",
     "output_type": "error",
     "traceback": [
      "\u001b[1;31m---------------------------------------------------------------------------\u001b[0m",
      "\u001b[1;31mNameTooShortError\u001b[0m                         Traceback (most recent call last)",
      "\u001b[1;32m<ipython-input-32-e12fe3239433>\u001b[0m in \u001b[0;36m<module>\u001b[1;34m\u001b[0m\n\u001b[1;32m----> 1\u001b[1;33m \u001b[0mvalidate\u001b[0m\u001b[1;33m(\u001b[0m\u001b[1;34m'jane'\u001b[0m\u001b[1;33m)\u001b[0m\u001b[1;33m\u001b[0m\u001b[1;33m\u001b[0m\u001b[0m\n\u001b[0m",
      "\u001b[1;32m<ipython-input-31-462d96425154>\u001b[0m in \u001b[0;36mvalidate\u001b[1;34m(name)\u001b[0m\n\u001b[0;32m      4\u001b[0m \u001b[1;32mdef\u001b[0m \u001b[0mvalidate\u001b[0m\u001b[1;33m(\u001b[0m\u001b[0mname\u001b[0m\u001b[1;33m)\u001b[0m\u001b[1;33m:\u001b[0m\u001b[1;33m\u001b[0m\u001b[1;33m\u001b[0m\u001b[0m\n\u001b[0;32m      5\u001b[0m     \u001b[1;32mif\u001b[0m \u001b[0mlen\u001b[0m\u001b[1;33m(\u001b[0m\u001b[0mname\u001b[0m\u001b[1;33m)\u001b[0m\u001b[1;33m<\u001b[0m\u001b[1;36m10\u001b[0m\u001b[1;33m:\u001b[0m\u001b[1;33m\u001b[0m\u001b[1;33m\u001b[0m\u001b[0m\n\u001b[1;32m----> 6\u001b[1;33m         \u001b[1;32mraise\u001b[0m \u001b[0mNameTooShortError\u001b[0m\u001b[1;33m(\u001b[0m\u001b[0mname\u001b[0m\u001b[1;33m)\u001b[0m\u001b[1;33m\u001b[0m\u001b[1;33m\u001b[0m\u001b[0m\n\u001b[0m",
      "\u001b[1;31mNameTooShortError\u001b[0m: jane"
     ]
    }
   ],
   "source": [
    "validate('jane')"
   ]
  },
  {
   "cell_type": "code",
   "execution_count": 33,
   "id": "31a6a7d8",
   "metadata": {},
   "outputs": [],
   "source": [
    "class BaseValidationError(ValueError):\n",
    "    pass\n",
    "class NameTooShortError(BaseValidationError):\n",
    "    pass\n",
    "class NameTooLongError(BaseValidationError):\n",
    "    pass\n",
    "class NameTooCuteError(BaseValidationError):\n",
    "    pass"
   ]
  },
  {
   "cell_type": "code",
   "execution_count": null,
   "id": "8f93e4a5",
   "metadata": {},
   "outputs": [],
   "source": [
    "try:\n",
    "    validate(name)\n",
    "except BaseValidationError as err :\n",
    "    handle_validation_error(err)"
   ]
  },
  {
   "cell_type": "markdown",
   "id": "5e175504",
   "metadata": {},
   "source": [
    "#### keypoint ( 자신 만의 예외 클래스 정의하기 )\n",
    "\n",
    "- 고유한 예외 타입을 정의하면 코드의 의도가 좀 더 명확하게 표시되고 디버그하기 쉬워짐\n",
    "- 파이썬 내장 Exeption 클래스 또는 ValueError나 KeyError 와 같은 구체적인 예외 클래스에서 사용자 정의 예외를 파생\n",
    "- 상송을 사용하여 논리적으로 그룹화된 예외 계층을 정의"
   ]
  },
  {
   "cell_type": "markdown",
   "id": "5324b92c",
   "metadata": {},
   "source": [
    "# 객체 복제하기\n",
    "\n",
    "- 파이썬의 할당문(assignment statement)은 객체의 사본을 만들지 않으며 이름만 연결\n",
    "- 변경할 수 없는 객체의 경우에는 일반적으로 차이가 없음\n",
    "- 변경 가능한 객체 또는 변경 가능한 객체의 컬렉션(collection)을 다룰 때면 이러한 객체의 '실체 사본' 또는 '복제본'을 만드는 방법이 필요"
   ]
  },
  {
   "cell_type": "markdown",
   "id": "41630a55",
   "metadata": {},
   "source": [
    "컬렉션 복사하는 방법\n",
    "\n",
    "- 리스트, 딕셔너리, 세트 같은 변경 가능한 내장 컬렉션은 기존 컬렉션을 팩터리 함수에 건에 복사함"
   ]
  },
  {
   "cell_type": "code",
   "execution_count": null,
   "id": "f22e3c0a",
   "metadata": {},
   "outputs": [],
   "source": [
    "new_list = list(original_list)\n",
    "new_dict = dict(original_dict)\n",
    "new_set = set(original_set)"
   ]
  },
  {
   "cell_type": "markdown",
   "id": "1a652862",
   "metadata": {},
   "source": [
    "#### 이 메서드의 문제\n",
    "\n",
    "- 사용자 정의 객체는 처리하지 못하며, 그보다 더 근본적으로 '얉은 복사본'을 만듬\n",
    "- '얕은 복사'와 '깊은 복사'의 차이\n",
    "    - '얕은 복사'\n",
    "        - 새 컬렉션 객체를 생성한 다음 원래 객체에서 찾은 자식 객체에 대한 참조로 채우는 것\n",
    "        - '얕은 복사'는 '한 단계 깊이'까지만 복사함\n",
    "        - 복사 프로세스가 재귀적으로 진행되지 않음으로 자식 객체 자체의 복사본을 만들지 않음\n",
    "        \n",
    "    - '깊은 복사'\n",
    "        - 복사 프로세스를 재귀적으로 처리\n",
    "        - 새 컬렉션 객체를 생성한 다음 원래 객체에서 찾은 자식 객체의 복사본을 재귀적으로 채우는 것을 의미함\n",
    "        - 객체의 전체 객체 트리를 따라 그 자식들까지 완전히 독립적으로 복사된 복제본을 만들 수 있음"
   ]
  },
  {
   "cell_type": "code",
   "execution_count": 35,
   "id": "f7c1d023",
   "metadata": {},
   "outputs": [],
   "source": [
    "# 얕은 복사 만들기\n",
    "xs = [[1,2,3],[4,5,6],[7,8,9]]\n",
    "ys = list(xs) # 얕은 복사 만들기\n"
   ]
  },
  {
   "cell_type": "code",
   "execution_count": 36,
   "id": "53422840",
   "metadata": {},
   "outputs": [
    {
     "data": {
      "text/plain": [
       "[[1, 2, 3], [4, 5, 6], [7, 8, 9]]"
      ]
     },
     "execution_count": 36,
     "metadata": {},
     "output_type": "execute_result"
    }
   ],
   "source": [
    "xs"
   ]
  },
  {
   "cell_type": "code",
   "execution_count": 39,
   "id": "69805729",
   "metadata": {},
   "outputs": [
    {
     "data": {
      "text/plain": [
       "[[1, 2, 3], [4, 5, 6], [7, 8, 9]]"
      ]
     },
     "execution_count": 39,
     "metadata": {},
     "output_type": "execute_result"
    }
   ],
   "source": [
    "ys"
   ]
  },
  {
   "cell_type": "code",
   "execution_count": 38,
   "id": "5c376dcf",
   "metadata": {},
   "outputs": [
    {
     "data": {
      "text/plain": [
       "[[1, 2, 3], [4, 5, 6], [7, 8, 9], ['new student']]"
      ]
     },
     "execution_count": 38,
     "metadata": {},
     "output_type": "execute_result"
    }
   ],
   "source": [
    "xs.append(['new student'])\n",
    "xs"
   ]
  },
  {
   "cell_type": "code",
   "execution_count": 40,
   "id": "1ce7b3d5",
   "metadata": {},
   "outputs": [
    {
     "data": {
      "text/plain": [
       "[[1, 2, 3], ['X', 5, 6], [7, 8, 9]]"
      ]
     },
     "execution_count": 40,
     "metadata": {},
     "output_type": "execute_result"
    }
   ],
   "source": [
    "xs[1][0] = 'X'\n",
    "ys"
   ]
  },
  {
   "cell_type": "code",
   "execution_count": 41,
   "id": "4e5b6d41",
   "metadata": {},
   "outputs": [],
   "source": [
    "# 깊은 복사본 만들기\n",
    "# copy.copy() 얇은 복사본 만들기\n",
    "import copy\n",
    "xs = [[1,2,3],[4,5,6],[7,8,9]]\n",
    "zs = copy.deepcopy(xs)"
   ]
  },
  {
   "cell_type": "markdown",
   "id": "7b775c85",
   "metadata": {},
   "source": [
    "#### 의미\n",
    "- 내장 컬렉션의 경우 간단히 리스트, 딕셔너리, 세트의 팩터리 함수를 이용하여 얕은 복사본을 사용하는 것이 더 파이썬다운것"
   ]
  },
  {
   "cell_type": "code",
   "execution_count": null,
   "id": "287fb782",
   "metadata": {},
   "outputs": [],
   "source": []
  }
 ],
 "metadata": {
  "jupytext": {
   "formats": "ipynb,auto:light"
  },
  "kernelspec": {
   "display_name": "Python 3",
   "language": "python",
   "name": "python3"
  },
  "language_info": {
   "codemirror_mode": {
    "name": "ipython",
    "version": 3
   },
   "file_extension": ".py",
   "mimetype": "text/x-python",
   "name": "python",
   "nbconvert_exporter": "python",
   "pygments_lexer": "ipython3",
   "version": "3.8.10"
  }
 },
 "nbformat": 4,
 "nbformat_minor": 5
}
