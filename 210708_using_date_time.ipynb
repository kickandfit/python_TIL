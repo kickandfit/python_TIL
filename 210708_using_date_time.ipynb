{
 "cells": [
  {
   "cell_type": "code",
   "execution_count": 1,
   "id": "4bdc0bad",
   "metadata": {},
   "outputs": [],
   "source": [
    "from tqdm import tqdm\n",
    "import pandas as pd\n",
    "from datetime import datetime # import datetime"
   ]
  },
  {
   "cell_type": "code",
   "execution_count": 12,
   "id": "0bd30ce5",
   "metadata": {},
   "outputs": [
    {
     "name": "stdout",
     "output_type": "stream",
     "text": [
      "조회 시작일 입력 (예 : 20210101) : 20210101\n",
      "2021-01-01 00:00:00\n",
      "20210101\n",
      "21-01-01\n",
      "<class 'datetime.datetime'>\n",
      "<class 'str'>\n"
     ]
    }
   ],
   "source": [
    "sDt = input('조회 시작일 입력 (예 : 20210101) : ')\n",
    "#eDt = input('조회 종료일 입력 (예 : 20210101) : ')\n",
    "\n",
    "dtime = datetime.strptime(sDt, \"%Y%m%d\") # import datetime 으로 하면 datetime.datetime 으로 써야함\n",
    "#Y는 2021 4자리 의미, y 21 두자리 의미, 날짜 2자리, 일도 2자리로 짤라와\n",
    "#입력 데이터를 날짜 데이터로 변경시키고 싶을때 사용\n",
    "#.strptime ('날짜문자열', \"포맷\") 날짜문자열을 날짜형 데이터로 바꿔줌\n",
    "# p - > 문자형 데이터를 가져와서 날짜형 데이터로 바꿔줘\n",
    "\n",
    "#strftime 출력모양을 선택해준다\n",
    "#f-> 날짜형 데이터를 가져와서 문자형 데이터 출력모양으로 바꿔서 출력해줘\n",
    "print(dtime)#결과는 (년, 월, 일, 시, 분, 초) -> 변수에 넣으면 제대로 나옴\n",
    "print(dtime.strftime(\"%Y%m%d\"))#.strftime :  str 형식을 f 포맷해서 time형 데이터로 바꿔준다\n",
    "print(dtime.strftime(\"%y-%m-%d\"))\n",
    "print(type(dtime))\n",
    "print(type(dtime.strftime(\"%Y%m%d\")))"
   ]
  },
  {
   "cell_type": "code",
   "execution_count": 24,
   "id": "b7cffdd0",
   "metadata": {},
   "outputs": [
    {
     "name": "stdout",
     "output_type": "stream",
     "text": [
      "2021-01-11 00:00:00\n",
      "2021-07-08 14:43:48.918117\n",
      "54\n"
     ]
    }
   ],
   "source": [
    "from datetime import timedelta\n",
    "\n",
    "ptime = dtime +timedelta(days=10)\n",
    "print(ptime)\n",
    "\n",
    "tday=datetime.now()-datetime.strptime(\"20210515\",\"%Y%m%d\")\n",
    "print(datetime.now()) # 오늘날짜 받아오기\n",
    "print(tday.days)"
   ]
  },
  {
   "cell_type": "code",
   "execution_count": 37,
   "id": "6062f681",
   "metadata": {},
   "outputs": [
    {
     "name": "stdout",
     "output_type": "stream",
     "text": [
      "<class 'datetime.timedelta'>\n",
      "<class 'int'>\n"
     ]
    }
   ],
   "source": [
    "sDt = '20210223'\n",
    "eDt = '20210312'\n",
    "\n",
    "stime = datetime.strptime(sDt, \"%Y%m%d\")\n",
    "etime = datetime.strptime(eDt, \"%Y%m%d\")\n",
    "\n",
    "rtime = etime - stime\n",
    "print(type(rtime))\n",
    "print(type(rtime.days))"
   ]
  },
  {
   "cell_type": "code",
   "execution_count": 49,
   "id": "5d3050cc",
   "metadata": {},
   "outputs": [
    {
     "name": "stdout",
     "output_type": "stream",
     "text": [
      "시작일 입력20210103\n",
      "종료일 입력20210321\n"
     ]
    },
    {
     "name": "stderr",
     "output_type": "stream",
     "text": [
      "진행률: 100%|███████████████████████████████████████████████████████████████████████| 78/78 [00:00<00:00, 26084.81it/s]"
     ]
    },
    {
     "name": "stdout",
     "output_type": "stream",
     "text": [
      "['20210103', '20210104', '20210105', '20210106', '20210107', '20210108', '20210109', '20210110', '20210111', '20210112', '20210113', '20210114', '20210115', '20210116', '20210117', '20210118', '20210119', '20210120', '20210121', '20210122', '20210123', '20210124', '20210125', '20210126', '20210127', '20210128', '20210129', '20210130', '20210131', '20210201', '20210202', '20210203', '20210204', '20210205', '20210206', '20210207', '20210208', '20210209', '20210210', '20210211', '20210212', '20210213', '20210214', '20210215', '20210216', '20210217', '20210218', '20210219', '20210220', '20210221', '20210222', '20210223', '20210224', '20210225', '20210226', '20210227', '20210228', '20210301', '20210302', '20210303', '20210304', '20210305', '20210306', '20210307', '20210308', '20210309', '20210310', '20210311', '20210312', '20210313', '20210314', '20210315', '20210316', '20210317', '20210318', '20210319', '20210320', '20210321']\n"
     ]
    },
    {
     "name": "stderr",
     "output_type": "stream",
     "text": [
      "\n"
     ]
    }
   ],
   "source": [
    "sDt = input('조회 시작일 입력 (예 : 20210101) : ')\n",
    "eDt = input('조회 종료일 입력 (예 : 20210101) : ')\n",
    "\n",
    "sday = datetime.strptime(sDt, \"%Y%m%d\")\n",
    "eday = datetime.strptime(eDt, \"%Y%m%d\")\n",
    "\n",
    "dt_range = eday -sday\n",
    "dt_range1= dt_range.days\n",
    "dt_lst = []\n",
    "\n",
    "\n",
    "for i in tqdm(range(dt_range1+1), desc='진행률'):\n",
    "    rday = sday + timedelta(days = i)\n",
    "    dt_lst.append(rday.strftime(\"%Y%m%d\"))\n",
    "\n",
    "print(dt_lst)\n"
   ]
  },
  {
   "cell_type": "code",
   "execution_count": 51,
   "id": "f56e3c9c",
   "metadata": {},
   "outputs": [
    {
     "name": "stdout",
     "output_type": "stream",
     "text": [
      "조회 시작일 입력 (예 : 20210101) : 20210101\n",
      "조회 종료일 입력 (예 : 20210101) : 20210301\n",
      "['20210101', '20210102', '20210103', '20210104', '20210105', '20210106', '20210107', '20210108', '20210109', '20210110', '20210111', '20210112', '20210113', '20210114', '20210115', '20210116', '20210117', '20210118', '20210119', '20210120', '20210121', '20210122', '20210123', '20210124', '20210125', '20210126', '20210127', '20210128', '20210129', '20210130', '20210131', '20210201', '20210202', '20210203', '20210204', '20210205', '20210206', '20210207', '20210208', '20210209', '20210210', '20210211', '20210212', '20210213', '20210214', '20210215', '20210216', '20210217', '20210218', '20210219', '20210220', '20210221', '20210222', '20210223', '20210224', '20210225', '20210226', '20210227', '20210228', '20210301']\n"
     ]
    }
   ],
   "source": [
    "sDt = input('조회 시작일 입력 (예 : 20210101) : ')\n",
    "eDt = input('조회 종료일 입력 (예 : 20210101) : ')\n",
    "\n",
    "#pd.date_range(start = staDate, end = endDate)\n",
    "dt_index=pd.date_range(start=sDt, end=eDt)\n",
    "dt_lst = dt_index.strftime(\"%Y%m%d\").tolist() # 날짜형을 문자형으로 변경후 리스트형으로 저장\n",
    "print(dt_lst)"
   ]
  },
  {
   "cell_type": "code",
   "execution_count": null,
   "id": "40647453",
   "metadata": {},
   "outputs": [],
   "source": []
  }
 ],
 "metadata": {
  "kernelspec": {
   "display_name": "Python 3",
   "language": "python",
   "name": "python3"
  },
  "language_info": {
   "codemirror_mode": {
    "name": "ipython",
    "version": 3
   },
   "file_extension": ".py",
   "mimetype": "text/x-python",
   "name": "python",
   "nbconvert_exporter": "python",
   "pygments_lexer": "ipython3",
   "version": "3.9.4"
  }
 },
 "nbformat": 4,
 "nbformat_minor": 5
}
