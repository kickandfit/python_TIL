{
 "cells": [
  {
   "cell_type": "code",
   "execution_count": 8,
   "id": "fea85ea8",
   "metadata": {},
   "outputs": [
    {
     "data": {
      "text/plain": [
       "2"
      ]
     },
     "execution_count": 8,
     "metadata": {},
     "output_type": "execute_result"
    }
   ],
   "source": [
    "#다이나믹 프로그래밍 예시)\n",
    "def pibo(x):\n",
    "    \n",
    "    if x == 2 or x == 1:\n",
    "        return 1\n",
    "    if d[x] != 0 :\n",
    "        return d[x]\n",
    "    d[x] = pibo(x-1)+pibo(x-2)\n",
    "  \n",
    "    return d[x]\n",
    "  \n",
    "pibo(9)"
   ]
  },
  {
   "cell_type": "markdown",
   "id": "82cfff5e",
   "metadata": {},
   "source": [
    "####  다이나믹 프로그래밍 문제 1.\n",
    "\n",
    "정수 x가 주어질 떄 정수 x 에 사용할 수 있는 연산은 다음과 같이 4가지다. x가 5로 나누어 떨어지면, 5로 나눈다. x가 3으로 나누어 떨어지면 3으로 나눈다 2로 나누어 떨어지면 2로 나눈다. x 에서 1을 뺀다.\n",
    "\n",
    "정수 x가 주어졌을때, 4개의 연산을 적절히 사용해서 1로 만들려고 한다. 연산을 사용하는 최솟값을 출력해라"
   ]
  },
  {
   "cell_type": "code",
   "execution_count": 7,
   "id": "e6a95ba7",
   "metadata": {},
   "outputs": [
    {
     "name": "stdout",
     "output_type": "stream",
     "text": [
      "132\n",
      "6\n"
     ]
    }
   ],
   "source": [
    "n = int(input())\n",
    "d = [0]*(n+1)\n",
    "for i in range(2, n+1):\n",
    "    d[i] = d[i-1] + 1\n",
    "    \n",
    "    if i % 2== 0 :\n",
    "        d[i] = min(d[i],d[i//2]+1)\n",
    "    if i % 3== 0 :\n",
    "        d[i] = min(d[i],d[i//3]+1)\n",
    "    if i % 5== 0 :\n",
    "        d[i] = min(d[i],d[i//5]+1)\n",
    "print(d[n])\n"
   ]
  },
  {
   "cell_type": "markdown",
   "id": "10756c11",
   "metadata": {},
   "source": [
    "# 개미 전사\n",
    "- 개미 저사는 부족한 식량을 충당하고자 메뚜기 마을의 식량 창고를 몰래 공격하려고 한다. 메뚜기 마을에는 여러 개의 식량창고가 있는데, 식량창고는 일직선으로 이어져 있다. 각 식량 창고에는 정해진 수의 식량을 저장하고 있으며 개미 전사는 식량창고를 선택적으로 약탈하여 식량을 빼앗을 예정이다. 이때 메뚜기 정찰병들은 일직선상에 존재하는 식량 창고 중에서 서로 인접한 식량 창고가 공격받으면 바로 알아챌 수 있다. 따라서 개미 전사가 정찰병에게 들키지 않고 식량 창고를 약탈하기 위해서는 최소한 한 칸 이상 떨어진 식량 창고를 약탈해야 한다. 예를 들어 시걍 창고가 4개가 다음과 같이 존재한다고 가정하자 [1, 3, 1, 5] 이때 개미전사는 두 번째 식량창고와 네 번째 식량창고를 선택 했을 때 최댓값인 총 8개의 식량을 빼앗을 수 있다. 개미 전사는 식량창고가 이러헥 일직선상일 때 최대한 맣은 식량을 얻기를 원한다. 개미 전사를 위해 식량 창고 N개에 대한 정보가 주어 졌을때 얻을 수 있는 식량의 최대값을 구하느 프로그램을 작성하라\n",
    "\n",
    "입력 조건 : 첫째 줄에 식량 창고의 개수 N이 주어진다\n",
    "둘째 줄에 공백으로 구분되어 각 식량 창고에 저장된 식량의 개수 k가 주어진다.\n",
    "\n",
    "첫째 줄에 개미 전사가 얻을 수 있는 식량의 최댓값을 출력해라"
   ]
  },
  {
   "cell_type": "markdown",
   "id": "f2fc917f",
   "metadata": {},
   "source": [
    "#### 핵심 idea\n",
    "1. 개미 전사가 약탈하고 있는 창고를 i라 하면, max( d[i-1], d[i])를 선택하자\n",
    "2. d[i] = 현재식량의 양 + d[i-2]이다"
   ]
  },
  {
   "cell_type": "code",
   "execution_count": 10,
   "id": "9b745179",
   "metadata": {},
   "outputs": [
    {
     "name": "stdout",
     "output_type": "stream",
     "text": [
      "4\n",
      "1 3 1 5\n",
      "8\n"
     ]
    }
   ],
   "source": [
    "#### solution\n",
    "n = int(input())\n",
    "array = list(map(int, input().split()))\n",
    "d = [0]*100\n",
    "d[0] = array[0]\n",
    "d[1] = max(array[0],array[1])\n",
    "for i in range(2,n):\n",
    "    d[i] = max(d[i-1],d[i-2]+array[i])\n",
    "    \n",
    "print(d[n-1])"
   ]
  },
  {
   "cell_type": "markdown",
   "id": "b6a48053",
   "metadata": {},
   "source": [
    "#### 바닥 공사\n",
    "가로 길이가 N, 세로 길이가 2인 직사각형 형태의 얇은 바닥이 있다. 태일이는 이 얇은 바닥을 1 X 2의 덮개, 2 X 1의 덮개, 2 X 2의 겊개를 이용해 채우고자 한다. 이 때 바닥을 채우는 모든 경우의 수를 구하는 프로그램을 작성하시오. 예를 들어 2 X 3 크기의 바닥을 채우는 경우의 수는 5 가지다"
   ]
  },
  {
   "cell_type": "markdown",
   "id": "f9fa47f1",
   "metadata": {},
   "source": [
    "#### keyidea( i번째를 생각해라)\n",
    "- i 번째를 채울 수 있는 경우는 a[i] = a[i-1] + 2*a[i-2]"
   ]
  },
  {
   "cell_type": "code",
   "execution_count": 13,
   "id": "38ab6b45",
   "metadata": {},
   "outputs": [
    {
     "name": "stdout",
     "output_type": "stream",
     "text": [
      "3\n",
      "5\n"
     ]
    }
   ],
   "source": [
    "n = int(input())\n",
    "\n",
    "d = [0]*1001\n",
    "d[1] = 1\n",
    "d[2] = 3\n",
    "for i in range(3, n+1):\n",
    "    d[i] = (d[i-1] + 2*d[i-2])%796796\n",
    "\n",
    "print( d[i] )"
   ]
  },
  {
   "cell_type": "markdown",
   "id": "7a966dbf",
   "metadata": {},
   "source": [
    "#### 효율적인 화폐구성\n",
    "\n",
    "- N 종류의 화폐가 있다. 이 화폐들의 개수를 최소한으로 이용해서 그 가치의 합이 M원이 되도록 하려고 한다. 이 때 각 화폐는 몇 개라도 사용할 수 있으며, 사용한 화폐의 구성은 같지만 순서만 다른 것은 같은 경우로 구분한다. 예를 들어, 2원, 3원 단위의 화폐가 있을 때는 15원을 만들기 위해 3원 5개를 사용하는 것이 가장 최소한의 화폐 개수이다.\n",
    "\n",
    "입력 조건 : 첫째 줄에 N,M이 주어진다\n",
    "이후 N개의 줄에는 각 화폐의 가치가 주어진다. 화폐 가치는 10000보다 작거나 같은 자연수 이다.\n",
    "\n",
    "출력 조건 : 첫째 줄에 M원을 만들기 위해 최소한의 화폐 개수를 출력한다\n",
    "불가능할 때는 -1을 출력한다"
   ]
  },
  {
   "cell_type": "code",
   "execution_count": null,
   "id": "3f442f25",
   "metadata": {},
   "outputs": [],
   "source": [
    "n , m = map(int, input().split())\n",
    "array = []\n",
    "for i in range(n):\n",
    "    array.append(int(input()))\n",
    "\n",
    "d = [10001]*(m+1)\n",
    "\n",
    "d[0] = 0\n",
    "for i in range(n):\n",
    "    for j in range(array[i], m+1):\n",
    "        if d[j - array[i]] != 10001:\n",
    "            d[j] = min(d[j],d[j-array[i]]+1)\n",
    "if d[m] == 10001:\n",
    "    print(-1)\n",
    "else:\n",
    "    print(d[m])"
   ]
  },
  {
   "cell_type": "code",
   "execution_count": null,
   "id": "8a515805",
   "metadata": {},
   "outputs": [],
   "source": []
  }
 ],
 "metadata": {
  "jupytext": {
   "encoding": "# -*- coding: utf-8 -*-",
   "formats": "ipynb,py:light"
  },
  "kernelspec": {
   "display_name": "Python 3",
   "language": "python",
   "name": "python3"
  },
  "language_info": {
   "codemirror_mode": {
    "name": "ipython",
    "version": 3
   },
   "file_extension": ".py",
   "mimetype": "text/x-python",
   "name": "python",
   "nbconvert_exporter": "python",
   "pygments_lexer": "ipython3",
   "version": "3.8.10"
  }
 },
 "nbformat": 4,
 "nbformat_minor": 5
}
