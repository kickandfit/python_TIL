{
 "cells": [
  {
   "cell_type": "code",
   "execution_count": 93,
   "id": "66af3ee3",
   "metadata": {},
   "outputs": [
    {
     "name": "stdout",
     "output_type": "stream",
     "text": [
      "2\n"
     ]
    }
   ],
   "source": [
    "#모험가: 애썼는데 답은 참...갈길이 멀다\n",
    "from collections import deque\n",
    "#que = deque(map(int, input().split()))\n",
    "N = 5\n",
    "fear =[2, 3, 1, 2, 2]\n",
    "\n",
    "que = deque(fear)\n",
    "cnt = 0\n",
    "travel_g, result = [], []\n",
    "\n",
    "while que != deque([]) :\n",
    "    num = que.popleft()\n",
    "    for i in range(num):\n",
    "        if i ==0:\n",
    "            travel_g.append(num)\n",
    "\n",
    "        else:\n",
    "            travel_g.append(que.popleft())\n",
    "\n",
    "    if max(travel_g)>len(travel_g):\n",
    "        for i in range((max(travel_g)-len(travel_g))):\n",
    "            travel_g.append(que.popleft())\n",
    "            \n",
    "    result.append(travel_g)\n",
    "    num = 0\n",
    "    travel_g = []\n",
    "    \n",
    "    if que != deque([]):\n",
    "        if max(que)>len(que):\n",
    "            break\n",
    "print(len(result))"
   ]
  },
  {
   "cell_type": "code",
   "execution_count": 95,
   "id": "d61e3df1",
   "metadata": {},
   "outputs": [
    {
     "name": "stdout",
     "output_type": "stream",
     "text": [
      "2\n"
     ]
    }
   ],
   "source": [
    "#답안 예시: ㅋㅋㅋㅋㅋㅋㅋㅋㅋㅋㅋㅋㅋㅋㅋㅋㅋㅋㅋㅋㅋㅋㅋ\n",
    "N = 5\n",
    "fear =[2, 3, 1, 2, 2]\n",
    "fear.sort()\n",
    "count = 0\n",
    "result = 0\n",
    "for i in fear:\n",
    "    count += 1\n",
    "    if count >= i:\n",
    "        result += 1\n",
    "        count = 0\n",
    "print(result)"
   ]
  },
  {
   "cell_type": "code",
   "execution_count": 106,
   "id": "d535bd8c",
   "metadata": {},
   "outputs": [
    {
     "name": "stdout",
     "output_type": "stream",
     "text": [
      "0\n",
      "1\n",
      "1\n"
     ]
    }
   ],
   "source": [
    "#더하기 혹은 곱하기\n",
    "data = '123121'\n",
    "res = 0\n",
    "for i in range(len(data)):\n",
    "    if int(i) == 0 or int(i)==1 :\n",
    "        res += int(i)\n",
    "        print(i)\n",
    "        continue\n",
    "        \n",
    "    if int(i) !=0 & res!=0 :\n",
    "        if res*int(i) > 2e9:\n",
    "            res = res + int(i)\n",
    "        else:\n",
    "            res = res*int(i)\n",
    "print(res)"
   ]
  },
  {
   "cell_type": "code",
   "execution_count": 100,
   "id": "3abb314b",
   "metadata": {},
   "outputs": [
    {
     "data": {
      "text/plain": [
       "6"
      ]
     },
     "execution_count": 100,
     "metadata": {},
     "output_type": "execute_result"
    }
   ],
   "source": [
    "len(data)"
   ]
  },
  {
   "cell_type": "code",
   "execution_count": 102,
   "id": "8e8ca9ff",
   "metadata": {},
   "outputs": [
    {
     "data": {
      "text/plain": [
       "2000000000.0"
      ]
     },
     "execution_count": 102,
     "metadata": {},
     "output_type": "execute_result"
    }
   ],
   "source": [
    "2e9"
   ]
  },
  {
   "cell_type": "code",
   "execution_count": null,
   "id": "50edd2b5",
   "metadata": {},
   "outputs": [],
   "source": []
  },
  {
   "cell_type": "code",
   "execution_count": null,
   "id": "d2ded303",
   "metadata": {},
   "outputs": [],
   "source": []
  },
  {
   "cell_type": "code",
   "execution_count": null,
   "id": "32db9ccc",
   "metadata": {},
   "outputs": [],
   "source": []
  },
  {
   "cell_type": "code",
   "execution_count": null,
   "id": "bdcb5a48",
   "metadata": {},
   "outputs": [],
   "source": []
  }
 ],
 "metadata": {
  "kernelspec": {
   "display_name": "Python 3",
   "language": "python",
   "name": "python3"
  },
  "language_info": {
   "codemirror_mode": {
    "name": "ipython",
    "version": 3
   },
   "file_extension": ".py",
   "mimetype": "text/x-python",
   "name": "python",
   "nbconvert_exporter": "python",
   "pygments_lexer": "ipython3",
   "version": "3.8.10"
  }
 },
 "nbformat": 4,
 "nbformat_minor": 5
}
