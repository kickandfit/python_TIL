{
 "cells": [
  {
   "cell_type": "markdown",
   "id": "fc4c98c9",
   "metadata": {},
   "source": [
    "### Open CV\n",
    "- OpenCV(Open Source Computer Vision)은 오픈소스 컴퓨터 비전 라이브러리\n",
    "- OpenCV는 단일 이미지나 동영상의 이미지를 원하는 결과를 분석 및 추출하기위한 API\n",
    "- 객체, 얼굴, 행동, 인식, 독순, 모션 추척 등의 응용 프로그램에서 사용\n",
    "- 사이트: https://docs.opencv.org/4.2.0/d1/dfb/intro.html\n"
   ]
  },
  {
   "cell_type": "code",
   "execution_count": null,
   "id": "22459ce1",
   "metadata": {},
   "outputs": [],
   "source": [
    "import cv2\n",
    "cv2.__version__"
   ]
  },
  {
   "cell_type": "code",
   "execution_count": null,
   "id": "df0c6991",
   "metadata": {},
   "outputs": [],
   "source": [
    "cap_img=cv2.VideoCapture(0) # 사용중인 PC에 연결된 웹캠 또는 카메라 영상 연결\n",
    "cap_img.set(cv2.CAP_PROP_FRAME_WIDTH, 640) # capture.set(option, n), 카메라 속성을 설정\n",
    "cap_img.set(cv2.CAP_PROP_FRAME_HEIGHT, 480) # option: 프레임의 너비와 높이등의 속성을 설정\n",
    "\n",
    "# 영상 출력을 위한 캡처 화면 반복\n",
    "while True:\n",
    "    ret, frame = cap_img.read() #카메라의 상태 및 프레이,ret은 카메라 상태 저장(정상작동 True)\n",
    "    cv2.imshow('VideoFrame', frame) #cv2.imshow('윈도우 창 제목', 이미지)\n",
    "    if cv2.waitKey(1)>0: # 키보드의 아무키나 누르면 종료시켜라\n",
    "        break\n",
    "cap_img.release() #카메라 장치에서 받아온 메모리 해제\n",
    "cv2.destroyAllWindows()#cv2.destroyAllWindows('윈도우 창 제목') 특정 윈도우 창만 닫을 수 있음"
   ]
  },
  {
   "cell_type": "markdown",
   "id": "ea7b6454",
   "metadata": {},
   "source": [
    "#### 카메라 영상을 파일로 저장\n",
    "\n",
    "- XVID 코덱 사용()\n",
    "- 파일의 확장자 mp4, avi 등"
   ]
  },
  {
   "cell_type": "code",
   "execution_count": null,
   "id": "1c39991e",
   "metadata": {},
   "outputs": [],
   "source": [
    "import numpy as np\n",
    "\n",
    "cap = cv2.VideoCapture(0)\n",
    "fourcc = cv2.VideoWriter_fourcc(*'XVID')\n",
    "out_cap=cv2.VideoWriter(\"./data/out_video_1.mp4\", fourcc, 20.0, (640,480))\n",
    "\n",
    "while cap.isOpened():\n",
    "    ret, frame = cap.read()\n",
    "    if ret == True:\n",
    "        frame = cv2.flip(frame, 1 ) # 1은 좌우반전, 0은 상하반전\n",
    "        out_cap.write(frame)\n",
    "        \n",
    "        cv2.imshow('Save_Frame', frame)\n",
    "        if cv2.waitKey>0:break\n",
    "        else:braek\n",
    "\n",
    "cap.release()\n",
    "out_cap.release()\n",
    "cv2.destroyAllWindows()"
   ]
  },
  {
   "cell_type": "markdown",
   "id": "b9f720cd",
   "metadata": {},
   "source": [
    "#### OpenCV를 이용한 동영상 캡처 및 녹화\n",
    "- 키값별 숫자: ESC(27), Ctrl+Z(26), Ctrl+C(3), Ctrl+X(24)\n"
   ]
  },
  {
   "cell_type": "code",
   "execution_count": 2,
   "id": "33faa097",
   "metadata": {},
   "outputs": [],
   "source": [
    "import datetime\n",
    "import cv2\n",
    "\n",
    "cap = cv2.VideoCapture(\"./data/backkpink.mp4\")\n",
    "fourcc = cv2.VideoWriter_fourcc(*'XVID')\n",
    "record = False #녹화 유/무 설정\n",
    "\n",
    "while True:\n",
    "    if (cap.get(cv2.CAP_PROP_POS_FRAMES)==cap.get(cv2.CAP_PROP_FRAME_COUNT)):\n",
    "        cap.open(\"./data/backkpink.mp4\")\n",
    "    \n",
    "    ret, frame = cap.read()\n",
    "    cv2.imshow('Backkpink', frame)\n",
    "    \n",
    "    now = datetime.datetime.now().strftime('%d_%H-%M-%S')\n",
    "    key = cv2.waitKey(24) #33ms마다 갱신\n",
    "    \n",
    "    if key == 27:\n",
    "        break\n",
    "    elif key ==26:\n",
    "        \n",
    "        cv2.imwrite('./data/backkpink_'+now+'.png',frame)\n",
    "        print(\"캡처완료\")\n",
    "        \n",
    "    elif key == 18:\n",
    "        print('녹화시작')\n",
    "        record = True # 녹화 중으로 변경\n",
    "        video=cv2.VideoWriter(\"./data/backkpink_\"+str(now)+\".mp4\", fourcc, 20.0, frame.shape[0])\n",
    "    elif key == 24:\n",
    "        print('녹화 중지')\n",
    "        record = False # 녹화 중지로 변경\n",
    "        video.release()\n",
    "        \n",
    "        \n",
    "    if record ==True:\n",
    "        print('녹화중')\n",
    "        video.write(frame)\n",
    "        \n",
    "cap.release()\n",
    "cv2.destroyAllWindows()\n",
    "\n",
    "        "
   ]
  },
  {
   "cell_type": "markdown",
   "id": "d56a2620",
   "metadata": {},
   "source": [
    "####  웹캠에서 사람 얼굴 인지하기\n",
    "- 다운로드 링크\n",
    "https://github.com/opencv/opencv/tree/master/data/haarcascades\n"
   ]
  },
  {
   "cell_type": "code",
   "execution_count": 8,
   "id": "f3baac36",
   "metadata": {},
   "outputs": [],
   "source": [
    "import numpy as np\n",
    "import cv2\n",
    "face_case = cv2.CascadeClassifier('./data/haarcascade_frontalface_default.xml')\n",
    "\n",
    "cap = cv2.VideoCapture(0)\n",
    "cap.set(3, 640)\n",
    "cap.set(4, 480)\n",
    "\n",
    "while True:\n",
    "    ret, frame = cap.read()\n",
    "    frame = cv2.flip(frame, 1) # 좌우 대칭\n",
    "    faces = face_case.detectMultiScale(frame, #대상 이미지\n",
    "                                       scaleFactor = 1.05,#이미지에서 얼굴 크기가 서로 다른 것을 보상해주는 값\n",
    "                                       minNeighbors = 5) # 얼굴 사이에 있는 픽셀 수\n",
    "    \n",
    "    if len(faces):\n",
    "        for (x,y,w,h) in faces:\n",
    "            cv2.rectangle(frame,(x,y),(x+w,y+h),(255,0,0),2)\n",
    "    cv2.imshow('faces', frame)\n",
    "    if cv2.waitKey(24)==27:break\n",
    "    \n",
    "\n",
    "cap.release()\n",
    "cv2.destroyAllWindows()"
   ]
  },
  {
   "cell_type": "code",
   "execution_count": null,
   "id": "20f44a94",
   "metadata": {},
   "outputs": [],
   "source": []
  },
  {
   "cell_type": "code",
   "execution_count": null,
   "id": "b7ea391c",
   "metadata": {},
   "outputs": [],
   "source": []
  },
  {
   "cell_type": "code",
   "execution_count": null,
   "id": "c9dd1840",
   "metadata": {},
   "outputs": [],
   "source": []
  },
  {
   "cell_type": "code",
   "execution_count": null,
   "id": "570499af",
   "metadata": {},
   "outputs": [],
   "source": []
  },
  {
   "cell_type": "code",
   "execution_count": null,
   "id": "21d858ce",
   "metadata": {},
   "outputs": [],
   "source": []
  }
 ],
 "metadata": {
  "jupytext": {
   "formats": "ipynb,auto:light"
  },
  "kernelspec": {
   "display_name": "Python 3",
   "language": "python",
   "name": "python3"
  },
  "language_info": {
   "codemirror_mode": {
    "name": "ipython",
    "version": 3
   },
   "file_extension": ".py",
   "mimetype": "text/x-python",
   "name": "python",
   "nbconvert_exporter": "python",
   "pygments_lexer": "ipython3",
   "version": "3.8.10"
  }
 },
 "nbformat": 4,
 "nbformat_minor": 5
}
