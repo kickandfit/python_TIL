{
 "cells": [
  {
   "cell_type": "code",
   "execution_count": 50,
   "id": "19f7603e",
   "metadata": {},
   "outputs": [],
   "source": [
    "import os # 현재 쓰고 있는 운영체제 자체를 의미한다\n",
    "import pandas as pd\n",
    "import matplotlib.font_manager as fm\n",
    "import matplotlib.pyplot as plt\n",
    "\n",
    "font_path = \"C:/Windows/Fonts/malgun.ttf\" \n",
    "font_name = fm.FontProperties(fname=font_path).get_name()\n",
    "plt.rc('font', family=font_name)"
   ]
  },
  {
   "cell_type": "code",
   "execution_count": 51,
   "id": "6115e4cd",
   "metadata": {},
   "outputs": [
    {
     "name": "stdout",
     "output_type": "stream",
     "text": [
      "['CARD_SUBWAY_MONTH_201901.csv', 'CARD_SUBWAY_MONTH_201902.csv', 'CARD_SUBWAY_MONTH_201903.csv', 'CARD_SUBWAY_MONTH_201904.csv', 'CARD_SUBWAY_MONTH_201905.csv', 'CARD_SUBWAY_MONTH_201906.csv', 'CARD_SUBWAY_MONTH_201907.csv', 'CARD_SUBWAY_MONTH_201908.csv', 'CARD_SUBWAY_MONTH_201909.csv', 'CARD_SUBWAY_MONTH_201910.csv', 'CARD_SUBWAY_MONTH_201911.csv', 'CARD_SUBWAY_MONTH_201912.csv', 'CARD_SUBWAY_MONTH_202001.csv', 'CARD_SUBWAY_MONTH_202002.csv', 'CARD_SUBWAY_MONTH_202003.csv', 'CARD_SUBWAY_MONTH_202004.csv', 'CARD_SUBWAY_MONTH_202005.csv', 'CARD_SUBWAY_MONTH_202006.csv', 'CARD_SUBWAY_MONTH_202007.csv', 'CARD_SUBWAY_MONTH_202008.csv', 'CARD_SUBWAY_MONTH_202009.csv', 'CARD_SUBWAY_MONTH_202010.csv', 'CARD_SUBWAY_MONTH_202011.csv', 'CARD_SUBWAY_MONTH_202012.csv', 'CARD_SUBWAY_MONTH_202101.csv', 'CARD_SUBWAY_MONTH_202102.csv', 'CARD_SUBWAY_MONTH_202103.csv', 'CARD_SUBWAY_MONTH_202104.csv', 'CARD_SUBWAY_MONTH_202105.csv']\n"
     ]
    }
   ],
   "source": [
    "filePath='./subway/'\n",
    "fileName=os.listdir(filePath) # subway 폴더와 모든 파일 및 하위 폴더 정보를 리스트 형으로 가져와 저장\n",
    "\n",
    "print(fileName)"
   ]
  },
  {
   "cell_type": "code",
   "execution_count": 52,
   "id": "652585e1",
   "metadata": {},
   "outputs": [],
   "source": [
    "def Csv_reset(fn):\n",
    "    import pandas as pd\n",
    "    import csv\n",
    "\n",
    "    f = open('c:/pydata/Data/subway/'+fn, encoding = 'utf-8')\n",
    "    data = csv.reader(f)\n",
    "\n",
    "    # '\\ufeff\"사용일자\"', '노선명', '역명', \n",
    "    # '승차총승객수', '하차총승객수', '등록일자'\n",
    "    next(data)\n",
    "    data_lst=[]\n",
    "\n",
    "    for row in data:\n",
    "        data_lst.append(row[0:6])\n",
    "\n",
    "    df = pd.DataFrame(data_lst, columns= ['사용일자', '노선명', '역명', '승차총승객수', '하차총승객수', '등록일자'])\n",
    "    df.to_csv('c:/pydata/Data/subway/'+fn, encoding = 'cp949', index = False)\n",
    "    f.close()\n",
    "    \n",
    "def file_read():\n",
    "    filePath='c:/pydata/Data/subway/'\n",
    "    fileName=os.listdir(filePath) # subway 폴더와 모든 파일 및 하위 폴더 정보를 리스트 형으로 가져와 저장\n",
    "\n",
    "    df1 = pd.DataFrame()\n",
    "    df2 = pd.DataFrame()\n",
    "\n",
    "    for fn in fileName:\n",
    "        # try/except 예외처리 try에서 error가 발생하면 except 에서 수행해\n",
    "\n",
    "        try: # 정상코드, 수행\n",
    "            df2 = pd.read_csv(filePath+fn, encoding = 'cp949')\n",
    "\n",
    "        except: #try구문에서 에러 발생시, 처리하기 위한 구문\n",
    "            Csv_reset(fn)\n",
    "            df2 = pd.read_csv(filePath+fn, encoding = 'cp949')\n",
    "            \n",
    "        df1 = pd.concat([df1, df2])\n",
    "    df1=df1.reset_index(drop=False)\n",
    "    return df1"
   ]
  },
  {
   "cell_type": "code",
   "execution_count": 46,
   "id": "09b16e1b",
   "metadata": {},
   "outputs": [
    {
     "name": "stdout",
     "output_type": "stream",
     "text": [
      "        index      사용일자  노선명     역명   승차총승객수   하차총승객수        등록일자\n",
      "0           0  20190101  2호선  을지로4가   3862.0   3728.0  20190104.0\n",
      "1           1  20190101  2호선  을지로3가   8104.0   7554.0  20190104.0\n",
      "2           2  20190101  2호선  을지로입구  22478.0  21330.0  20190104.0\n",
      "3           3  20190101  2호선     시청   8381.0   6049.0  20190104.0\n",
      "4           4  20190101  1호선    동묘앞   8045.0   8504.0  20190104.0\n",
      "...       ...       ...  ...    ...      ...      ...         ...\n",
      "523336  18627  20210531  안산선     반월   4361.0   4161.0  20210603.0\n",
      "523337  18628  20210531  안산선    대야미   4898.0   4540.0  20210603.0\n",
      "523338  18629  20210531  안산선     산본  15489.0  16517.0  20210603.0\n",
      "523339  18630  20210531  수인선     인천    945.0   1500.0  20210603.0\n",
      "523340  18631  20210531  분당선     수서  13158.0  13246.0  20210603.0\n",
      "\n",
      "[523341 rows x 7 columns]\n"
     ]
    }
   ],
   "source": [
    "df3 = file_read()\n",
    "print(df3)"
   ]
  },
  {
   "cell_type": "code",
   "execution_count": 53,
   "id": "25dd75b3",
   "metadata": {},
   "outputs": [],
   "source": [
    "def subway_sch(dfdata, subway_name):\n",
    "    df2=dfdata[dfdata['역명']==subway_name]\n",
    "    df2 = df2.astype({'승차총승객수': 'int64','사용일자':'str'})\n",
    "    df2.plot(x='사용일자', y='승차총승객수')\n",
    "    plt.show()\n",
    "\n",
    "# def subway_sch(dfdata, subway_name):\n",
    "#     df2=dfdata[dfdata['역명']==subway_name]\n",
    "#     df2 = df2.astype({'승차총승객수': 'int64','사용일자':'str'})\n",
    "#     df2 = df2.groupby('사용일자')['승차총승객수','하차총승객수'].sum()\n",
    "#     df2.plot()\n",
    "#     plt.show()"
   ]
  },
  {
   "cell_type": "code",
   "execution_count": 48,
   "id": "f28bae09",
   "metadata": {},
   "outputs": [
    {
     "name": "stdout",
     "output_type": "stream",
     "text": [
      "조회할 역 입력:시청\n"
     ]
    },
    {
     "data": {
      "image/png": "[encoded data removed]",
      "text/plain": [
       "<Figure size 432x288 with 1 Axes>"
      ]
     },
     "metadata": {
      "needs_background": "light"
     },
     "output_type": "display_data"
    }
   ],
   "source": [
    "subway_name = input('조회할 역 입력:')\n",
    "df2 = subway_sch(df3, subway_name)"
   ]
  },
  {
   "cell_type": "code",
   "execution_count": 10,
   "id": "baf0a2ed",
   "metadata": {},
   "outputs": [],
   "source": []
  },
  {
   "cell_type": "code",
   "execution_count": null,
   "id": "0a6963a4",
   "metadata": {},
   "outputs": [],
   "source": []
  },
  {
   "cell_type": "markdown",
   "id": "422449eb",
   "metadata": {
    "lines_to_end_of_cell_marker": 2,
    "lines_to_next_cell": 0
   },
   "source": []
  },
  {
   "cell_type": "markdown",
   "id": "03f43b99",
   "metadata": {
    "lines_to_next_cell": 2
   },
   "source": []
  },
  {
   "cell_type": "markdown",
   "id": "2aa7de4c",
   "metadata": {},
   "source": []
  },
  {
   "cell_type": "code",
   "execution_count": null,
   "id": "47afb8e7",
   "metadata": {},
   "outputs": [],
   "source": []
  },
  {
   "cell_type": "code",
   "execution_count": 34,
   "id": "fec97964",
   "metadata": {},
   "outputs": [],
   "source": []
  }
 ],
 "metadata": {
  "jupytext": {
   "encoding": "# -*- coding: utf-8 -*-",
   "formats": "ipynb,py:light"
  },
  "kernelspec": {
   "display_name": "Python 3",
   "language": "python",
   "name": "python3"
  },
  "language_info": {
   "codemirror_mode": {
    "name": "ipython",
    "version": 3
   },
   "file_extension": ".py",
   "mimetype": "text/x-python",
   "name": "python",
   "nbconvert_exporter": "python",
   "pygments_lexer": "ipython3",
   "version": "3.9.4"
  }
 },
 "nbformat": 4,
 "nbformat_minor": 5
}
