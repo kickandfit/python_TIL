{
 "cells": [
  {
   "cell_type": "code",
   "execution_count": 14,
   "id": "9bc21c91",
   "metadata": {},
   "outputs": [],
   "source": []
  },
  {
   "cell_type": "code",
   "execution_count": 21,
   "id": "bc8ac665",
   "metadata": {},
   "outputs": [
    {
     "name": "stdout",
     "output_type": "stream",
     "text": [
      "3 4\n"
     ]
    }
   ],
   "source": [
    "U , D , R , L = 1, -1, 1, -1\n",
    "size = 5\n",
    "\n",
    "indata = \"R, R, R, U, D, D\"\n",
    "rcnt = 0\n",
    "ucnt = 0\n",
    "\n",
    "for i in indata:\n",
    "\n",
    "    if i == 'R':\n",
    "        rcnt += 1\n",
    "        if rcnt> size-1:\n",
    "            rcnt = size\n",
    "            continue\n",
    "    elif i == 'L':\n",
    "        rcnt -= 1\n",
    "        if rcnt<0:\n",
    "            rcnt = 0\n",
    "            continue\n",
    "        \n",
    "    elif i == 'U':\n",
    "        ucnt -= 1\n",
    "        if ucnt<0:\n",
    "            ucnt = 0\n",
    "            continue\n",
    "    elif i == \"D\":\n",
    "        ucnt += 1\n",
    "        if ucnt> size-1:\n",
    "            ucnt = size\n",
    "            continue\n",
    "\n",
    "print(ucnt+1,rcnt+1)"
   ]
  },
  {
   "cell_type": "code",
   "execution_count": 23,
   "id": "87c44f77",
   "metadata": {},
   "outputs": [
    {
     "data": {
      "text/plain": [
       "1575"
      ]
     },
     "execution_count": 23,
     "metadata": {},
     "output_type": "execute_result"
    }
   ],
   "source": [
    "intime = 1\n",
    "count = 0\n",
    "for k in range(intime):\n",
    "    for i in range(60):\n",
    "        for j in range(60):\n",
    "            if '3' in str(k) + str(i) + str(j):\n",
    "                count += 1\n",
    "count\n",
    "            \n",
    "\n",
    "        "
   ]
  },
  {
   "cell_type": "code",
   "execution_count": 28,
   "id": "07a6bedf",
   "metadata": {},
   "outputs": [
    {
     "name": "stdout",
     "output_type": "stream",
     "text": [
      "1 2 7 6 8 3 4 5 "
     ]
    }
   ],
   "source": [
    "def dfs (graph , v , visited):\n",
    "    visited[v] = True\n",
    "    print(v, end = \" \")\n",
    "    for i in graph[v]:\n",
    "        if not visited[i]:\n",
    "            dfs( graph, i , visited)\n",
    "\n",
    "graph = [\n",
    "    [],\n",
    "    [2, 3, 8],\n",
    "    [1, 7],\n",
    "    [1, 4, 5],\n",
    "    [3, 5],\n",
    "    [3, 4],\n",
    "    [7],\n",
    "    [2, 6, 8],\n",
    "    [1,7]\n",
    "]\n",
    "\n",
    "visited = [False]*9\n",
    "\n",
    "dfs_1(graph , 1, visited)"
   ]
  },
  {
   "cell_type": "code",
   "execution_count": 20,
   "id": "3fe1cf48",
   "metadata": {},
   "outputs": [
    {
     "name": "stdout",
     "output_type": "stream",
     "text": [
      "1 2 3 8 7 4 5 6 "
     ]
    }
   ],
   "source": [
    "from collections import deque\n",
    "\n",
    "def bfs(graph, start, visited):\n",
    "    queue = deque([start])\n",
    "    visited[start] = True\n",
    "    \n",
    "    while queue:\n",
    "        v= queue.popleft()\n",
    "        print(v, end=\" \")\n",
    "        \n",
    "        for i in graph[v]:\n",
    "            if not visited[i]:\n",
    "                queue.append(i)\n",
    "                visited[i] = True\n",
    "graph = [\n",
    "    [],\n",
    "    [2, 3, 8],\n",
    "    [1, 7],\n",
    "    [1, 4, 5],\n",
    "    [3, 5],\n",
    "    [3, 4],\n",
    "    [7],\n",
    "    [2, 6, 8],\n",
    "    [1,7]\n",
    "]\n",
    "visited=[False]*9\n",
    "bfs(graph , 1, visited)"
   ]
  },
  {
   "cell_type": "code",
   "execution_count": 27,
   "id": "c4292be9",
   "metadata": {},
   "outputs": [
    {
     "name": "stdout",
     "output_type": "stream",
     "text": [
      "1 2 7 6 8 3 4 5 "
     ]
    }
   ],
   "source": [
    "def dfs_1(graph, start, visited):\n",
    "    visited[start] = True\n",
    "    queue = deque([start])\n",
    "\n",
    "    v = queue.popleft()\n",
    "    print (v, end = ' ')\n",
    "\n",
    "    for i in graph[v]:\n",
    "        if not visited[i]:\n",
    "            queue.append(i)\n",
    "            dfs_1(graph, i, visited)\n",
    "\n",
    "graph = [\n",
    "    [],\n",
    "    [2, 3, 8],\n",
    "    [1, 7],\n",
    "    [1, 4, 5],\n",
    "    [3, 5],\n",
    "    [3, 4],\n",
    "    [7],\n",
    "    [2, 6, 8],\n",
    "    [1,7]\n",
    "]\n",
    "\n",
    "visited = [False]*9\n",
    "\n",
    "dfs_1(graph , 1, visited)"
   ]
  },
  {
   "cell_type": "code",
   "execution_count": null,
   "id": "1a6e9a3e",
   "metadata": {},
   "outputs": [],
   "source": []
  }
 ],
 "metadata": {
  "kernelspec": {
   "display_name": "Python 3",
   "language": "python",
   "name": "python3"
  },
  "language_info": {
   "codemirror_mode": {
    "name": "ipython",
    "version": 3
   },
   "file_extension": ".py",
   "mimetype": "text/x-python",
   "name": "python",
   "nbconvert_exporter": "python",
   "pygments_lexer": "ipython3",
   "version": "3.8.10"
  }
 },
 "nbformat": 4,
 "nbformat_minor": 5
}
