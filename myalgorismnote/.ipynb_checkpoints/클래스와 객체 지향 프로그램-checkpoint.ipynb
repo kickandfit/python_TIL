{
 "cells": [
  {
   "cell_type": "markdown",
   "id": "385f04b1",
   "metadata": {},
   "source": [
    "# equal(동등한) 과 identical(동일한)\n",
    "\n",
    "- is 와 == 의 동작 차이 인지\n",
    "- == 동등 여부 확인, is 는 동일 여부 확인"
   ]
  },
  {
   "cell_type": "code",
   "execution_count": 2,
   "id": "20696f5c",
   "metadata": {
    "lines_to_next_cell": 2
   },
   "outputs": [
    {
     "name": "stdout",
     "output_type": "stream",
     "text": [
      "[1, 2, 3]\n",
      "[1, 2, 3]\n",
      "\n",
      "True\n",
      "\n",
      "True\n"
     ]
    }
   ],
   "source": [
    "a = [1, 2, 3]\n",
    "b = a\n",
    "print(a)\n",
    "print(b)\n",
    "print()\n",
    "print(a==b) # 동등한 지를 확인\n",
    "print()\n",
    "# 두 변수가 하나의 리스트 객체를 가리키고 있음을 확인\n",
    "\n",
    "print(a is b) # 동일한 지를 확인"
   ]
  },
  {
   "cell_type": "code",
   "execution_count": 4,
   "id": "bf60153e",
   "metadata": {},
   "outputs": [
    {
     "name": "stdout",
     "output_type": "stream",
     "text": [
      "[1, 2, 3]\n",
      "\n",
      "True\n",
      "\n",
      "False\n"
     ]
    }
   ],
   "source": [
    "# a 리스트 객체를 복사해 c에 넣음\n",
    "# a와 c는 동등하지만 동일하지는 않다\n",
    "# 서로 다른 객체를 가리키고 있음\n",
    "\n",
    "c = list(a)\n",
    "print(c)\n",
    "print()\n",
    "print(a==c)\n",
    "print()\n",
    "print(a is c)"
   ]
  },
  {
   "cell_type": "markdown",
   "id": "d98adc26",
   "metadata": {},
   "source": [
    "#### keypoint( 동등 과 동일 )\n",
    "\n",
    "- 두 변수가 동일(identical)한 객체를 가리키는 경우 is 표현식은 True\n",
    "- == 표현식은 변수가 참조하는 객체가 동등한(equal: 내용이 같은) 경우 True로 평가\n"
   ]
  },
  {
   "cell_type": "markdown",
   "id": "c6bd4035",
   "metadata": {},
   "source": [
    "# 문자열 변환 ( 모든 클래스는 __repr__이 필요하다 )\n",
    "\n",
    "- 파이썬에서 사용자 정의 클래스를 만들고 그 인스턴스를 콘솔에 출력해 보면 ( 인터프리터 세션에서 보면 ) 결과가 비교적 만족스럽지 않음\n",
    "- '문자열로' 전환하는 기본 동작이 기초적이고 세부 내용이 부족하기 떄문"
   ]
  },
  {
   "cell_type": "markdown",
   "id": "12743ee8",
   "metadata": {},
   "source": [
    "## 클래스 사용 시\n",
    "\n",
    "- 기본적으로 얻을 수 있는 것은 클래스명과 객체 인스턴스의 id(Cpython에서는 객체의 메모리 주소)를 포함하는 문자열\n",
    "- 클래스의 속성을 직접 출력하거나 클래스에 사용자 정의 to_string() 메서드를 추가하여 문제 해결가능"
   ]
  },
  {
   "cell_type": "code",
   "execution_count": 5,
   "id": "0a5fb66c",
   "metadata": {},
   "outputs": [
    {
     "name": "stdout",
     "output_type": "stream",
     "text": [
      "<__main__.Car object at 0x0000012EBFC7FAC0>\n"
     ]
    }
   ],
   "source": [
    "class Car:\n",
    "    def __init__(self, color, mileage):\n",
    "        self.color = color\n",
    "        self.mileage = mileage\n",
    "\n",
    "my_car = Car('red', 37281)\n",
    "print(my_car)"
   ]
  },
  {
   "cell_type": "code",
   "execution_count": 6,
   "id": "407a2258",
   "metadata": {},
   "outputs": [
    {
     "name": "stdout",
     "output_type": "stream",
     "text": [
      "red 37281\n"
     ]
    }
   ],
   "source": [
    "# 문제 해결 1\n",
    "print( my_car.color, my_car.mileage)"
   ]
  },
  {
   "cell_type": "markdown",
   "id": "d76cf5e4",
   "metadata": {},
   "source": [
    "#### 이 방법의 문제점\n",
    "- 파이썬이 객체를 문자열로 표현하는 데 사용하는 규칙과 기본 제공 메커니즘을 무시함\n",
    "- 자신만의 문자열 변환 시스템을 만드는 대신 클래스에 __ str __ 과 __ repr __ (던더) 메서드를 추가하는 것이 좋음\n",
    "- 서로 다른 상황에서 객체가 문자열로 전환되는 방식은 제어하는 파이다운 방식\n",
    "- 아래 코드를 볼것"
   ]
  },
  {
   "cell_type": "markdown",
   "id": "bc8f492c",
   "metadata": {},
   "source": [
    "#### 이 방식은 인스턴스 출력이나 검사시 개선된 결과를 얻을 수 있음"
   ]
  },
  {
   "cell_type": "code",
   "execution_count": 9,
   "id": "1f6c127f",
   "metadata": {},
   "outputs": [
    {
     "name": "stdout",
     "output_type": "stream",
     "text": [
      " a red car \n"
     ]
    },
    {
     "data": {
      "text/plain": [
       "<__main__.Car at 0x12ebfcc45b0>"
      ]
     },
     "execution_count": 9,
     "metadata": {},
     "output_type": "execute_result"
    }
   ],
   "source": [
    "class Car:\n",
    "    def __init__(self, color, mileage):\n",
    "        self.color = color\n",
    "        self.mileage = mileage\n",
    "        \n",
    "    def __str__(self):\n",
    "        return f' a {self.color} car '\n",
    "    \n",
    "my_car = Car('red', 37281)\n",
    "print(my_car)\n",
    "my_car"
   ]
  },
  {
   "cell_type": "code",
   "execution_count": 11,
   "id": "7ee929ef",
   "metadata": {},
   "outputs": [
    {
     "name": "stdout",
     "output_type": "stream",
     "text": [
      " a red car \n",
      "<class '__main__.Car'>\n",
      " a red car \n",
      "<class 'str'>\n",
      " a red car \n",
      "<class 'str'>\n"
     ]
    }
   ],
   "source": [
    "print(my_car)\n",
    "print(type(my_car))\n",
    "print(str(my_car))\n",
    "print(type(str(my_car)))\n",
    "print(f'{my_car}')\n",
    "print(type(f'{my_car}'))"
   ]
  },
  {
   "cell_type": "markdown",
   "id": "686065eb",
   "metadata": {},
   "source": [
    "### 위의 예제가 던져주는 메세지\n",
    "    - __ str __ 구현을 사용하면 객체 속성을 직접 출력하거나, 별도의 to_string()함수를 작성할 필요 없음\n",
    "    - 문자열 전환을 제어하는 파이썬 다운 방식\n",
    "    - 사용자가 정의한 메서드나 속성과의 충돌을 피하는 데 도움이 됨\n",
    "    - 던더 메서드를 친숙히 할 것"
   ]
  },
  {
   "cell_type": "markdown",
   "id": "143d856a",
   "metadata": {},
   "source": [
    "#  __ str __ vs __ repr __\n",
    "\n",
    "- 그러나 여전히 my_car 를 인터프리터 세션에서 검사하면 주소가 나옴\n",
    "- 이는 파이썬에서 객체가 문자열로 변환되는 방법을 제어아는 던더 메서드가 '2 가지' 이기 때문\n",
    "- 첫 번째는, __ str __ 이고, 두번 째는 __ repr __ 임\n",
    "- __ repr __ 의 동작 방식은 __ str __ 과 유사하지만 다른 상황에서 사용됨"
   ]
  },
  {
   "cell_type": "code",
   "execution_count": 13,
   "id": "127d1a34",
   "metadata": {},
   "outputs": [
    {
     "name": "stdout",
     "output_type": "stream",
     "text": [
      " __str__ for Car\n",
      "\n",
      " __str__ for Car\n",
      "\n"
     ]
    },
    {
     "data": {
      "text/plain": [
       "__repr__ for Car"
      ]
     },
     "execution_count": 13,
     "metadata": {},
     "output_type": "execute_result"
    }
   ],
   "source": [
    "# 예시\n",
    "# 차이 알아보기\n",
    "\n",
    "class Car:\n",
    "    def __init__(self, color, mileage):\n",
    "        self.color = color\n",
    "        self.mileage = mileage\n",
    "    \n",
    "    def __str__(self):\n",
    "        return ' __str__ for Car'\n",
    "    \n",
    "    def __repr__(self):\n",
    "        return '__repr__ for Car'\n",
    "    \n",
    "my_car = Car('red', 37281)\n",
    "print(my_car)\n",
    "print()\n",
    "print(f'{my_car}')\n",
    "print()\n",
    "my_car"
   ]
  },
  {
   "cell_type": "code",
   "execution_count": 14,
   "id": "86b534a2",
   "metadata": {},
   "outputs": [
    {
     "data": {
      "text/plain": [
       "'[__repr__ for Car]'"
      ]
     },
     "execution_count": 14,
     "metadata": {},
     "output_type": "execute_result"
    }
   ],
   "source": [
    "# 리스트나 딕셔너리는 __repr__을 사용함\n",
    "str([my_car])"
   ]
  },
  {
   "cell_type": "code",
   "execution_count": 15,
   "id": "657f19f7",
   "metadata": {},
   "outputs": [
    {
     "data": {
      "text/plain": [
       "'{__repr__ for Car}'"
      ]
     },
     "execution_count": 15,
     "metadata": {},
     "output_type": "execute_result"
    }
   ],
   "source": [
    "str({my_car})"
   ]
  },
  {
   "cell_type": "markdown",
   "id": "f43f7135",
   "metadata": {},
   "source": [
    "#### 위의 예제가 던져주는 메세지\n",
    "- 코드의 의도를 좀 더 명확하게 표현하기 우해 문자열 전환 메서드를 직접 선택하고자 한다면 str(),rper() 함수를 사용하는 것이 좋음\n",
    "- 이 함수들이 사용하는 편이 보기 좋으면서 결과가 똑같기에 __ str __ 또는 __ rper __ 을 직접 호출하는 것보다 바람직"
   ]
  },
  {
   "cell_type": "code",
   "execution_count": 17,
   "id": "f5da8f6c",
   "metadata": {},
   "outputs": [
    {
     "name": "stdout",
     "output_type": "stream",
     "text": [
      " __str__ for Car\n",
      "__repr__ for Car\n"
     ]
    }
   ],
   "source": [
    "# 즉 아래처럼 호출하라는 의미\n",
    "print(str(my_car))\n",
    "print(repr(my_car))"
   ]
  },
  {
   "cell_type": "markdown",
   "id": "6aafee51",
   "metadata": {},
   "source": [
    "### __ repr __ 과 __ str __ 차이점 알아보기\n",
    "- datetime.date 객체를 만들고 문자열 변환을 제어하는 방법을 알아봄"
   ]
  },
  {
   "cell_type": "code",
   "execution_count": 18,
   "id": "1034de61",
   "metadata": {},
   "outputs": [
    {
     "data": {
      "text/plain": [
       "'2021-08-08 17:21:53.132381'"
      ]
     },
     "execution_count": 18,
     "metadata": {},
     "output_type": "execute_result"
    }
   ],
   "source": [
    "import datetime\n",
    "\n",
    "today = datetime.datetime.today()\n",
    "\n",
    "str(today)"
   ]
  },
  {
   "cell_type": "markdown",
   "id": "e3d73c7f",
   "metadata": {},
   "source": [
    "#### 위 코드의 의미\n",
    "- 날짜 객체의 __ str __ 함수 결과는 원래 '읽을 수' 있어야 함\n",
    "- 이 함수의 목적은 애플리케이션 사용자에게 보여 줘도 괜찮을 정도로 사람이 읽을 수 있는 간결한 텍스트 표현을 반환하는 것\n",
    "- 즉 str(today) 는 ISO 날짜 형식과 비슷한 것을 얻게 되는 것"
   ]
  },
  {
   "cell_type": "code",
   "execution_count": 19,
   "id": "0b518b72",
   "metadata": {},
   "outputs": [
    {
     "data": {
      "text/plain": [
       "'datetime.datetime(2021, 8, 8, 17, 21, 53, 132381)'"
      ]
     },
     "execution_count": 19,
     "metadata": {},
     "output_type": "execute_result"
    }
   ],
   "source": [
    "repr(today)"
   ]
  },
  {
   "cell_type": "markdown",
   "id": "861997b3",
   "metadata": {},
   "source": [
    "#### 위 코드의 의미\n",
    "\n",
    "- __ reper __ 을 사용하면 그 결과는 무엇보다 명확해야함\n",
    "- 이 메서드의 결과 문자열은 개발자의 디버깅을 도와주려는 의도를 강하게 반영\n",
    "- 그 대상이 무엇인지 가능한 명시적으로 밝혀야 함\n",
    "- repr()을 호출하면 더 정교한 결과를 얻게 됨\n",
    "- 즉 전체 모듈과 클래스 이름까지 포함됨"
   ]
  },
  {
   "cell_type": "markdown",
   "id": "15fd12c2",
   "metadata": {},
   "source": [
    "#### 모든 클래스에 __ repr __ 이 필요한 이유\n",
    "\n",
    "- __ str __ 메서드를 추가하지 않으면 파이썬을 __ str __ 을 사용해야 할 때도 __ repr __ 을 사용한다. 따라서 클래스에 적어도 __ repr __ 메서드는 항상 추가하는 것이 좋음\n",
    "- 최소한의 구현으로 거의 모든 경우에 유용한 문자열 변환 결과가 보장됨\n",
    "- 기본 문자열 변환 지원을 빠르고 효율적으로 클래스에 추가하는 방법은 다음과 같음\n",
    "    - def __ repr __ (self): return f'Car({self.color!r}, {self.mileage!r})'\n",
    "    - !r 변환 플래그를 사용하며 출력 문자열이 str(self.color)와 str(self.mileage) 대신 repr(self.color)와 repr(self.mileage)\n",
    "        - 다만, 형식 문자열 내에서 클래스명을 반복 사용한다는 것이 아쉬움\n",
    "        - 이 반복을 피하기 위해 __ class __ . __ namge __ 속성을 사용함\n",
    "            - 이 방식은 클래스 이름이 변경 될때, __ repr __ 구현을 수정하지 않아도 됨\n",
    "            - 중복 배체 원칙을 따르게 됨"
   ]
  },
  {
   "cell_type": "code",
   "execution_count": 20,
   "id": "73a8db68",
   "metadata": {},
   "outputs": [],
   "source": [
    "# 최종 __repr__ 사용\n",
    "\n",
    "def __repr__(self):\n",
    "    return ( f'{self.__class__.__name__}(' f'{self.color}, {self.mileage})')\n",
    "\n",
    "# 이 구현의 단점\n",
    "# 형식 문자열이 상당히 길어서 다루기 힘들다는 것\n",
    "# 그러나 신중하게 형식화하면 코드를 못지게 유지하고 PEP8을 준수 할 수 있음\n"
   ]
  },
  {
   "cell_type": "code",
   "execution_count": 28,
   "id": "62e5034f",
   "metadata": {},
   "outputs": [
    {
     "name": "stdout",
     "output_type": "stream",
     "text": [
      "Car(red, 37281)\n",
      "\n",
      "a red Car\n",
      "\n",
      "a red Car\n",
      "\n"
     ]
    }
   ],
   "source": [
    "# 최종코드\n",
    "class Car:\n",
    "    def __init__(self, color, mileage):\n",
    "        self.color = color\n",
    "        self.mileage = mileage\n",
    "    \n",
    "    def __str__(self):\n",
    "        return f'a {self.color} Car'\n",
    "    \n",
    "    def __repr__(self):\n",
    "        return (f'{self.__class__.__name__}('\n",
    "                f'{self.color}, {self.mileage})')\n",
    "  \n",
    "my_car = Car('red', 37281)\n",
    "print(repr(my_car))\n",
    "print()\n",
    "print(str(my_car))\n",
    "print()\n",
    "print(my_car)\n",
    "print()"
   ]
  },
  {
   "cell_type": "markdown",
   "id": "ee17387c",
   "metadata": {},
   "source": [
    "#### keypoint ( __ repr __ vs __ str __ )\n",
    "\n",
    "- str 및 repr 던더 메서드를 사용하여 자신의 클래스에서 문자열 변환을 제어 가능\n",
    "- __ str __ 의 결과는 읽을 수 있어야 함 . __ repr __ 의 결과는 모호하지 않아야 함\n",
    "- 항상 __ repr __ 을 추가하라. __ str __ 의 기본 구현은 __ repr __ 을 호출하기만 함\n"
   ]
  },
  {
   "cell_type": "markdown",
   "id": "4061d0c4",
   "metadata": {},
   "source": [
    "# 자신만의 예외 클래스 정의하기\n",
    "\n",
    "- 사용자 정의 예외 처리 클래스를 작성하는 것은 큰 가치가 있음\n",
    "- 잠재적인 에러 사례가 분명하게 드러나게 되므로 결과적으로 함수와 모듈을 유지 보수하기 더 쉬워짐\n",
    "- 사용자 정의 에러 타입을 사용하여 디버깅 정보를 추가 제공 가능\n"
   ]
  },
  {
   "cell_type": "markdown",
   "id": "fd425379",
   "metadata": {},
   "source": [
    "#### 아래 코드 설명\n",
    "- ValeError와 같은 '상위 수준' 일반 예외 클래스를 사용하는 데는 단점이 존재\n",
    "- 함수를 라이브러리로 제공했고 내부를 잘 알지 못하는 팀원이 호출한다면, 이 검사를 실패하면 디버그 스택 추적에서 도움이 되지 않음"
   ]
  },
  {
   "cell_type": "code",
   "execution_count": 29,
   "id": "063c16cc",
   "metadata": {},
   "outputs": [],
   "source": [
    "def validatae(name):\n",
    "    if len(name)<10:\n",
    "        raise ValueError"
   ]
  },
  {
   "cell_type": "markdown",
   "id": "86bb9400",
   "metadata": {},
   "source": [
    "#### 보완코드"
   ]
  },
  {
   "cell_type": "code",
   "execution_count": 31,
   "id": "505c2173",
   "metadata": {},
   "outputs": [],
   "source": [
    "class NameTooShortError(ValueError):\n",
    "    pass\n",
    "\n",
    "def validate(name):\n",
    "    if len(name)<10:\n",
    "        raise NameTooShortError(name)"
   ]
  },
  {
   "cell_type": "code",
   "execution_count": 32,
   "id": "d83a90cd",
   "metadata": {},
   "outputs": [
    {
     "ename": "NameTooShortError",
     "evalue": "jane",
     "output_type": "error",
     "traceback": [
      "\u001b[1;31m---------------------------------------------------------------------------\u001b[0m",
      "\u001b[1;31mNameTooShortError\u001b[0m                         Traceback (most recent call last)",
      "\u001b[1;32m<ipython-input-32-e12fe3239433>\u001b[0m in \u001b[0;36m<module>\u001b[1;34m\u001b[0m\n\u001b[1;32m----> 1\u001b[1;33m \u001b[0mvalidate\u001b[0m\u001b[1;33m(\u001b[0m\u001b[1;34m'jane'\u001b[0m\u001b[1;33m)\u001b[0m\u001b[1;33m\u001b[0m\u001b[1;33m\u001b[0m\u001b[0m\n\u001b[0m",
      "\u001b[1;32m<ipython-input-31-462d96425154>\u001b[0m in \u001b[0;36mvalidate\u001b[1;34m(name)\u001b[0m\n\u001b[0;32m      4\u001b[0m \u001b[1;32mdef\u001b[0m \u001b[0mvalidate\u001b[0m\u001b[1;33m(\u001b[0m\u001b[0mname\u001b[0m\u001b[1;33m)\u001b[0m\u001b[1;33m:\u001b[0m\u001b[1;33m\u001b[0m\u001b[1;33m\u001b[0m\u001b[0m\n\u001b[0;32m      5\u001b[0m     \u001b[1;32mif\u001b[0m \u001b[0mlen\u001b[0m\u001b[1;33m(\u001b[0m\u001b[0mname\u001b[0m\u001b[1;33m)\u001b[0m\u001b[1;33m<\u001b[0m\u001b[1;36m10\u001b[0m\u001b[1;33m:\u001b[0m\u001b[1;33m\u001b[0m\u001b[1;33m\u001b[0m\u001b[0m\n\u001b[1;32m----> 6\u001b[1;33m         \u001b[1;32mraise\u001b[0m \u001b[0mNameTooShortError\u001b[0m\u001b[1;33m(\u001b[0m\u001b[0mname\u001b[0m\u001b[1;33m)\u001b[0m\u001b[1;33m\u001b[0m\u001b[1;33m\u001b[0m\u001b[0m\n\u001b[0m",
      "\u001b[1;31mNameTooShortError\u001b[0m: jane"
     ]
    }
   ],
   "source": [
    "validate('jane')"
   ]
  },
  {
   "cell_type": "code",
   "execution_count": 33,
   "id": "31a6a7d8",
   "metadata": {},
   "outputs": [],
   "source": [
    "class BaseValidationError(ValueError):\n",
    "    pass\n",
    "class NameTooShortError(BaseValidationError):\n",
    "    pass\n",
    "class NameTooLongError(BaseValidationError):\n",
    "    pass\n",
    "class NameTooCuteError(BaseValidationError):\n",
    "    pass"
   ]
  },
  {
   "cell_type": "code",
   "execution_count": null,
   "id": "8f93e4a5",
   "metadata": {},
   "outputs": [],
   "source": [
    "try:\n",
    "    validate(name)\n",
    "except BaseValidationError as err :\n",
    "    handle_validation_error(err)"
   ]
  },
  {
   "cell_type": "markdown",
   "id": "5e175504",
   "metadata": {},
   "source": [
    "#### keypoint ( 자신 만의 예외 클래스 정의하기 )\n",
    "\n",
    "- 고유한 예외 타입을 정의하면 코드의 의도가 좀 더 명확하게 표시되고 디버그하기 쉬워짐\n",
    "- 파이썬 내장 Exeption 클래스 또는 ValueError나 KeyError 와 같은 구체적인 예외 클래스에서 사용자 정의 예외를 파생\n",
    "- 상송을 사용하여 논리적으로 그룹화된 예외 계층을 정의"
   ]
  },
  {
   "cell_type": "markdown",
   "id": "5324b92c",
   "metadata": {},
   "source": [
    "# 객체 복제하기\n",
    "\n",
    "- 파이썬의 할당문(assignment statement)은 객체의 사본을 만들지 않으며 이름만 연결\n",
    "- 변경할 수 없는 객체의 경우에는 일반적으로 차이가 없음\n",
    "- 변경 가능한 객체 또는 변경 가능한 객체의 컬렉션(collection)을 다룰 때면 이러한 객체의 '실체 사본' 또는 '복제본'을 만드는 방법이 필요"
   ]
  },
  {
   "cell_type": "markdown",
   "id": "41630a55",
   "metadata": {},
   "source": [
    "컬렉션 복사하는 방법\n",
    "\n",
    "- 리스트, 딕셔너리, 세트 같은 변경 가능한 내장 컬렉션은 기존 컬렉션을 팩터리 함수에 건에 복사함"
   ]
  },
  {
   "cell_type": "code",
   "execution_count": null,
   "id": "f22e3c0a",
   "metadata": {},
   "outputs": [],
   "source": [
    "new_list = list(original_list)\n",
    "new_dict = dict(original_dict)\n",
    "new_set = set(original_set)"
   ]
  },
  {
   "cell_type": "markdown",
   "id": "1a652862",
   "metadata": {},
   "source": [
    "#### 이 메서드의 문제\n",
    "\n",
    "- 사용자 정의 객체는 처리하지 못하며, 그보다 더 근본적으로 '얉은 복사본'을 만듬\n",
    "- '얕은 복사'와 '깊은 복사'의 차이\n",
    "    - '얕은 복사'\n",
    "        - 새 컬렉션 객체를 생성한 다음 원래 객체에서 찾은 자식 객체에 대한 참조로 채우는 것\n",
    "        - '얕은 복사'는 '한 단계 깊이'까지만 복사함\n",
    "        - 복사 프로세스가 재귀적으로 진행되지 않음으로 자식 객체 자체의 복사본을 만들지 않음\n",
    "        \n",
    "    - '깊은 복사'\n",
    "        - 복사 프로세스를 재귀적으로 처리\n",
    "        - 새 컬렉션 객체를 생성한 다음 원래 객체에서 찾은 자식 객체의 복사본을 재귀적으로 채우는 것을 의미함\n",
    "        - 객체의 전체 객체 트리를 따라 그 자식들까지 완전히 독립적으로 복사된 복제본을 만들 수 있음"
   ]
  },
  {
   "cell_type": "code",
   "execution_count": 35,
   "id": "f7c1d023",
   "metadata": {
    "lines_to_next_cell": 2
   },
   "outputs": [],
   "source": [
    "# 얕은 복사 만들기\n",
    "xs = [[1,2,3],[4,5,6],[7,8,9]]\n",
    "ys = list(xs) # 얕은 복사 만들기"
   ]
  },
  {
   "cell_type": "code",
   "execution_count": 36,
   "id": "53422840",
   "metadata": {},
   "outputs": [
    {
     "data": {
      "text/plain": [
       "[[1, 2, 3], [4, 5, 6], [7, 8, 9]]"
      ]
     },
     "execution_count": 36,
     "metadata": {},
     "output_type": "execute_result"
    }
   ],
   "source": [
    "xs"
   ]
  },
  {
   "cell_type": "code",
   "execution_count": 39,
   "id": "69805729",
   "metadata": {},
   "outputs": [
    {
     "data": {
      "text/plain": [
       "[[1, 2, 3], [4, 5, 6], [7, 8, 9]]"
      ]
     },
     "execution_count": 39,
     "metadata": {},
     "output_type": "execute_result"
    }
   ],
   "source": [
    "ys"
   ]
  },
  {
   "cell_type": "code",
   "execution_count": 38,
   "id": "5c376dcf",
   "metadata": {},
   "outputs": [
    {
     "data": {
      "text/plain": [
       "[[1, 2, 3], [4, 5, 6], [7, 8, 9], ['new student']]"
      ]
     },
     "execution_count": 38,
     "metadata": {},
     "output_type": "execute_result"
    }
   ],
   "source": [
    "xs.append(['new student'])\n",
    "xs"
   ]
  },
  {
   "cell_type": "code",
   "execution_count": 40,
   "id": "1ce7b3d5",
   "metadata": {},
   "outputs": [
    {
     "data": {
      "text/plain": [
       "[[1, 2, 3], ['X', 5, 6], [7, 8, 9]]"
      ]
     },
     "execution_count": 40,
     "metadata": {},
     "output_type": "execute_result"
    }
   ],
   "source": [
    "xs[1][0] = 'X'\n",
    "ys"
   ]
  },
  {
   "cell_type": "code",
   "execution_count": 41,
   "id": "4e5b6d41",
   "metadata": {},
   "outputs": [],
   "source": [
    "# 깊은 복사본 만들기\n",
    "# copy.copy() 얇은 복사본 만들기\n",
    "import copy\n",
    "xs = [[1,2,3],[4,5,6],[7,8,9]]\n",
    "zs = copy.deepcopy(xs)"
   ]
  },
  {
   "cell_type": "markdown",
   "id": "7b775c85",
   "metadata": {},
   "source": [
    "#### 의미\n",
    "- 내장 컬렉션의 경우 간단히 리스트, 딕셔너리, 세트의 팩터리 함수를 이용하여 얕은 복사본을 사용하는 것이 더 파이썬다운것"
   ]
  },
  {
   "cell_type": "markdown",
   "id": "4d104e7a",
   "metadata": {},
   "source": [
    "#### 임의의 객체 복사하기\n",
    "\n",
    "\n",
    "- copy.copy() : 얕은 복사\n",
    "- copy.deepcopy() : 깊은 복사\n"
   ]
  },
  {
   "cell_type": "code",
   "execution_count": 6,
   "id": "162b2851",
   "metadata": {},
   "outputs": [],
   "source": [
    "# !r은 repr에 적용할때 사용함\n",
    "class Point:\n",
    "    def __init__(self, x, y):\n",
    "        self.x = x\n",
    "        self.y = y\n",
    "    \n",
    "    def __repr__ (self):\n",
    "        return f'Point({self.x!r}, {self.y!r})'"
   ]
  },
  {
   "cell_type": "code",
   "execution_count": null,
   "id": "d1ef795e",
   "metadata": {},
   "outputs": [],
   "source": []
  },
  {
   "cell_type": "code",
   "execution_count": 3,
   "id": "26f94266",
   "metadata": {},
   "outputs": [
    {
     "data": {
      "text/plain": [
       "Point(23, 42)"
      ]
     },
     "execution_count": 3,
     "metadata": {},
     "output_type": "execute_result"
    }
   ],
   "source": [
    "import copy\n",
    "\n",
    "a = Point(23, 42)\n",
    "b = copy.copy(a)\n",
    "\n",
    "b"
   ]
  },
  {
   "cell_type": "code",
   "execution_count": 4,
   "id": "f8a18134",
   "metadata": {},
   "outputs": [
    {
     "data": {
      "text/plain": [
       "False"
      ]
     },
     "execution_count": 4,
     "metadata": {},
     "output_type": "execute_result"
    }
   ],
   "source": [
    "a is b"
   ]
  },
  {
   "cell_type": "markdown",
   "id": "70ce8250",
   "metadata": {},
   "source": [
    "#### 이 부분에서의 핵심\n",
    "- 점(point) 객체는 좌표에 원시 타입(정수형)을 사용하기 때문에 이 경우 얕은 복사와 깊은 복사에는 차이가 없음"
   ]
  },
  {
   "cell_type": "code",
   "execution_count": 15,
   "id": "989feae6",
   "metadata": {},
   "outputs": [
    {
     "data": {
      "text/plain": [
       "Rectangle(Point(0, 1),Point(5, 6))"
      ]
     },
     "execution_count": 15,
     "metadata": {},
     "output_type": "execute_result"
    }
   ],
   "source": [
    "class Point:\n",
    "    def __init__(self, x, y):\n",
    "        self.x = x\n",
    "        self.y = y\n",
    "    \n",
    "    def __repr__ (self):\n",
    "        return f'Point({self.x!r}, {self.y!r})'\n",
    "    \n",
    "class Rectangle:\n",
    "    def __init__(self, topleft, bottomright):\n",
    "        self.topleft = topleft\n",
    "        self.bottomright = bottomright\n",
    "        \n",
    "    def __repr__(self):\n",
    "        return (f'Rectangle({self.topleft!r},' f'{self.bottomright!r})')\n",
    "    \n",
    "rect = Rectangle(Point(0,1), Point(5,6))\n",
    "srect = copy.copy(rect)\n",
    "\n",
    "rect"
   ]
  },
  {
   "cell_type": "code",
   "execution_count": 11,
   "id": "fe1e63cb",
   "metadata": {},
   "outputs": [
    {
     "data": {
      "text/plain": [
       "Rectangle(Point(0, 1),Point(5, 6))"
      ]
     },
     "execution_count": 11,
     "metadata": {},
     "output_type": "execute_result"
    }
   ],
   "source": [
    "srect"
   ]
  },
  {
   "cell_type": "code",
   "execution_count": 12,
   "id": "71798a66",
   "metadata": {},
   "outputs": [
    {
     "data": {
      "text/plain": [
       "False"
      ]
     },
     "execution_count": 12,
     "metadata": {},
     "output_type": "execute_result"
    }
   ],
   "source": [
    "rect is srect"
   ]
  },
  {
   "cell_type": "code",
   "execution_count": 16,
   "id": "cd9c86d9",
   "metadata": {},
   "outputs": [
    {
     "data": {
      "text/plain": [
       "Rectangle(Point(999, 1),Point(5, 6))"
      ]
     },
     "execution_count": 16,
     "metadata": {},
     "output_type": "execute_result"
    }
   ],
   "source": [
    "rect.topleft.x = 999\n",
    "srect"
   ]
  },
  {
   "cell_type": "code",
   "execution_count": 19,
   "id": "53380080",
   "metadata": {},
   "outputs": [
    {
     "data": {
      "text/plain": [
       "Rectangle(Point(222, 1),Point(5, 6))"
      ]
     },
     "execution_count": 19,
     "metadata": {},
     "output_type": "execute_result"
    }
   ],
   "source": [
    "drect = copy.deepcopy(rect)\n",
    "drect.topleft.x =222\n",
    "drect"
   ]
  },
  {
   "cell_type": "code",
   "execution_count": 20,
   "id": "f5bb17e1",
   "metadata": {},
   "outputs": [
    {
     "data": {
      "text/plain": [
       "Rectangle(Point(999, 1),Point(5, 6))"
      ]
     },
     "execution_count": 20,
     "metadata": {},
     "output_type": "execute_result"
    }
   ],
   "source": [
    "srect"
   ]
  },
  {
   "cell_type": "code",
   "execution_count": 21,
   "id": "2cef431f",
   "metadata": {},
   "outputs": [
    {
     "data": {
      "text/plain": [
       "Rectangle(Point(999, 1),Point(5, 6))"
      ]
     },
     "execution_count": 21,
     "metadata": {},
     "output_type": "execute_result"
    }
   ],
   "source": [
    "rect"
   ]
  },
  {
   "cell_type": "markdown",
   "id": "1f10c637",
   "metadata": {},
   "source": [
    "#### keypoint ( 객체 복사하기 )\n",
    "\n",
    "- 객체의 얕은 복사본을 만들면 자식 객체가 복제되지 않는다. 따라서 사본은 원본과 완전히 독립적이지 않다\n",
    "- 깊은 복사는 객체의 자식 객체를 재귀적으로 복사한다. 복사본과 원본은 완전히 독립적이지만 시간이 더 걸린다\n",
    "- copy 모듈을 사용하여 임의의 객체를 복사할 수 있다"
   ]
  },
  {
   "cell_type": "markdown",
   "id": "723384e6",
   "metadata": {},
   "source": [
    "# 추상화 클래스는 상속을 확인한다\n",
    "\n",
    "- 추상화 클래스는 파생 클래스가 기반 클래스의 특정 메서드를 구현함을 보장함\n",
    "- 추상화 클래스의 이점과 파이썬에 내장된 abc 모듈로 추상화 클래스를 정의하는 방법\n"
   ]
  },
  {
   "cell_type": "markdown",
   "id": "dbef78f5",
   "metadata": {},
   "source": [
    "#### 유지 보수하기 좋도록 확인 사항\n",
    "- 기본 클래스를 인스턴스화하는 것은 불가능\n",
    "- 서브클래스에서 인터페이스 메서드를 구현하는 것을 잊어버리면 가능한 빨리 에러를 발생시킴"
   ]
  },
  {
   "cell_type": "code",
   "execution_count": 24,
   "id": "1d8a2813",
   "metadata": {},
   "outputs": [],
   "source": [
    "class Base:\n",
    "    def foo(self):\n",
    "        raise NotImplementedError()\n",
    "    def bar(self):\n",
    "        raise NotImplementedError()\n",
    "\n",
    "class Concrete(Base):\n",
    "    def foo(self):\n",
    "        return 'foo() called'\n",
    "    \n",
    "    # 이런, bar()를 재정의하는 걸 잊어버렸네\n",
    "    # def bar(self):\n",
    "    #     return \"bar() called\""
   ]
  },
  {
   "cell_type": "markdown",
   "id": "3ed4a949",
   "metadata": {},
   "source": [
    "#### 방금 코드가 던져주는 의미\n",
    "\n",
    "- Base의 인스턴스에서 메서드를 호출하면 NotImplementedError 가 올바르게 발생함"
   ]
  },
  {
   "cell_type": "code",
   "execution_count": 26,
   "id": "39cfab66",
   "metadata": {},
   "outputs": [
    {
     "ename": "NotImplementedError",
     "evalue": "",
     "output_type": "error",
     "traceback": [
      "\u001b[1;31m---------------------------------------------------------------------------\u001b[0m",
      "\u001b[1;31mNotImplementedError\u001b[0m                       Traceback (most recent call last)",
      "\u001b[1;32m<ipython-input-26-63ceaf52023e>\u001b[0m in \u001b[0;36m<module>\u001b[1;34m\u001b[0m\n\u001b[0;32m      1\u001b[0m \u001b[0mb\u001b[0m \u001b[1;33m=\u001b[0m \u001b[0mBase\u001b[0m\u001b[1;33m(\u001b[0m\u001b[1;33m)\u001b[0m\u001b[1;33m\u001b[0m\u001b[1;33m\u001b[0m\u001b[0m\n\u001b[1;32m----> 2\u001b[1;33m \u001b[0mb\u001b[0m\u001b[1;33m.\u001b[0m\u001b[0mfoo\u001b[0m\u001b[1;33m(\u001b[0m\u001b[1;33m)\u001b[0m\u001b[1;33m\u001b[0m\u001b[1;33m\u001b[0m\u001b[0m\n\u001b[0m",
      "\u001b[1;32m<ipython-input-24-d0f702787ed2>\u001b[0m in \u001b[0;36mfoo\u001b[1;34m(self)\u001b[0m\n\u001b[0;32m      1\u001b[0m \u001b[1;32mclass\u001b[0m \u001b[0mBase\u001b[0m\u001b[1;33m:\u001b[0m\u001b[1;33m\u001b[0m\u001b[1;33m\u001b[0m\u001b[0m\n\u001b[0;32m      2\u001b[0m     \u001b[1;32mdef\u001b[0m \u001b[0mfoo\u001b[0m\u001b[1;33m(\u001b[0m\u001b[0mself\u001b[0m\u001b[1;33m)\u001b[0m\u001b[1;33m:\u001b[0m\u001b[1;33m\u001b[0m\u001b[1;33m\u001b[0m\u001b[0m\n\u001b[1;32m----> 3\u001b[1;33m         \u001b[1;32mraise\u001b[0m \u001b[0mNotImplementedError\u001b[0m\u001b[1;33m(\u001b[0m\u001b[1;33m)\u001b[0m\u001b[1;33m\u001b[0m\u001b[1;33m\u001b[0m\u001b[0m\n\u001b[0m\u001b[0;32m      4\u001b[0m     \u001b[1;32mdef\u001b[0m \u001b[0mbar\u001b[0m\u001b[1;33m(\u001b[0m\u001b[0mself\u001b[0m\u001b[1;33m)\u001b[0m\u001b[1;33m:\u001b[0m\u001b[1;33m\u001b[0m\u001b[1;33m\u001b[0m\u001b[0m\n\u001b[0;32m      5\u001b[0m         \u001b[1;32mraise\u001b[0m \u001b[0mNotImplementedError\u001b[0m\u001b[1;33m(\u001b[0m\u001b[1;33m)\u001b[0m\u001b[1;33m\u001b[0m\u001b[1;33m\u001b[0m\u001b[0m\n",
      "\u001b[1;31mNotImplementedError\u001b[0m: "
     ]
    }
   ],
   "source": [
    "b = Base()\n",
    "b.foo()"
   ]
  },
  {
   "cell_type": "code",
   "execution_count": 27,
   "id": "5613cde7",
   "metadata": {},
   "outputs": [
    {
     "data": {
      "text/plain": [
       "'foo() called'"
      ]
     },
     "execution_count": 27,
     "metadata": {},
     "output_type": "execute_result"
    }
   ],
   "source": [
    "c = Concrete()\n",
    "c.foo()"
   ]
  },
  {
   "cell_type": "code",
   "execution_count": 28,
   "id": "b054c0f5",
   "metadata": {},
   "outputs": [
    {
     "ename": "NotImplementedError",
     "evalue": "",
     "output_type": "error",
     "traceback": [
      "\u001b[1;31m---------------------------------------------------------------------------\u001b[0m",
      "\u001b[1;31mNotImplementedError\u001b[0m                       Traceback (most recent call last)",
      "\u001b[1;32m<ipython-input-28-e96fccd89134>\u001b[0m in \u001b[0;36m<module>\u001b[1;34m\u001b[0m\n\u001b[1;32m----> 1\u001b[1;33m \u001b[0mc\u001b[0m\u001b[1;33m.\u001b[0m\u001b[0mbar\u001b[0m\u001b[1;33m(\u001b[0m\u001b[1;33m)\u001b[0m\u001b[1;33m\u001b[0m\u001b[1;33m\u001b[0m\u001b[0m\n\u001b[0m",
      "\u001b[1;32m<ipython-input-24-d0f702787ed2>\u001b[0m in \u001b[0;36mbar\u001b[1;34m(self)\u001b[0m\n\u001b[0;32m      3\u001b[0m         \u001b[1;32mraise\u001b[0m \u001b[0mNotImplementedError\u001b[0m\u001b[1;33m(\u001b[0m\u001b[1;33m)\u001b[0m\u001b[1;33m\u001b[0m\u001b[1;33m\u001b[0m\u001b[0m\n\u001b[0;32m      4\u001b[0m     \u001b[1;32mdef\u001b[0m \u001b[0mbar\u001b[0m\u001b[1;33m(\u001b[0m\u001b[0mself\u001b[0m\u001b[1;33m)\u001b[0m\u001b[1;33m:\u001b[0m\u001b[1;33m\u001b[0m\u001b[1;33m\u001b[0m\u001b[0m\n\u001b[1;32m----> 5\u001b[1;33m         \u001b[1;32mraise\u001b[0m \u001b[0mNotImplementedError\u001b[0m\u001b[1;33m(\u001b[0m\u001b[1;33m)\u001b[0m\u001b[1;33m\u001b[0m\u001b[1;33m\u001b[0m\u001b[0m\n\u001b[0m\u001b[0;32m      6\u001b[0m \u001b[1;33m\u001b[0m\u001b[0m\n\u001b[0;32m      7\u001b[0m \u001b[1;32mclass\u001b[0m \u001b[0mConcrete\u001b[0m\u001b[1;33m(\u001b[0m\u001b[0mBase\u001b[0m\u001b[1;33m)\u001b[0m\u001b[1;33m:\u001b[0m\u001b[1;33m\u001b[0m\u001b[1;33m\u001b[0m\u001b[0m\n",
      "\u001b[1;31mNotImplementedError\u001b[0m: "
     ]
    }
   ],
   "source": [
    "c.bar()"
   ]
  },
  {
   "cell_type": "markdown",
   "id": "62b16e25",
   "metadata": {},
   "source": [
    "#### 첫 번째 구현은 좋지만 완벽하지 않음\n",
    "\n",
    "- Base를 인스턴스화해도 에러가 나지 않는다.\n",
    "- 불완전한 서브클래스를 제공한다. Concrete를 인스턴스화해도 누락된 bar() 메서드를 호출하기 전에는 에러를 발생시키지 않음"
   ]
  },
  {
   "cell_type": "code",
   "execution_count": 34,
   "id": "3b07020f",
   "metadata": {},
   "outputs": [
    {
     "ename": "TypeError",
     "evalue": "Can't instantiate abstract class Concrete with abstract methods bar",
     "output_type": "error",
     "traceback": [
      "\u001b[1;31m---------------------------------------------------------------------------\u001b[0m",
      "\u001b[1;31mTypeError\u001b[0m                                 Traceback (most recent call last)",
      "\u001b[1;32m<ipython-input-34-be52fda03f9d>\u001b[0m in \u001b[0;36m<module>\u001b[1;34m\u001b[0m\n\u001b[0;32m     18\u001b[0m \u001b[1;32massert\u001b[0m \u001b[0missubclass\u001b[0m\u001b[1;33m(\u001b[0m\u001b[0mConcrete\u001b[0m\u001b[1;33m,\u001b[0m \u001b[0mBase\u001b[0m\u001b[1;33m)\u001b[0m\u001b[1;33m\u001b[0m\u001b[1;33m\u001b[0m\u001b[0m\n\u001b[0;32m     19\u001b[0m \u001b[1;33m\u001b[0m\u001b[0m\n\u001b[1;32m---> 20\u001b[1;33m \u001b[0mc\u001b[0m \u001b[1;33m=\u001b[0m \u001b[0mConcrete\u001b[0m\u001b[1;33m(\u001b[0m\u001b[1;33m)\u001b[0m\u001b[1;33m\u001b[0m\u001b[1;33m\u001b[0m\u001b[0m\n\u001b[0m",
      "\u001b[1;31mTypeError\u001b[0m: Can't instantiate abstract class Concrete with abstract methods bar"
     ]
    }
   ],
   "source": [
    "from abc import ABCMeta, abstractmethod\n",
    "\n",
    "class Base(metaclass = ABCMeta):\n",
    "    @abstractmethod\n",
    "    def foo(self):\n",
    "        pass\n",
    "    \n",
    "    @abstractmethod\n",
    "    def bar(self):\n",
    "        pass\n",
    "    \n",
    "class Concrete(Base):\n",
    "    def foo(self):\n",
    "        pass\n",
    "    \n",
    "    # bar()를 선언하는 걸 또 잊어버렸다.\n",
    "    \n",
    "assert issubclass(Concrete, Base)\n",
    "\n",
    "c = Concrete()"
   ]
  },
  {
   "cell_type": "markdown",
   "id": "f9fe41b9",
   "metadata": {},
   "source": [
    "####  이렇게 작성하면 유용한 점 ( 위의 코드 )\n",
    "- Base의 서브클래스에서 추상 메서드 구현을 깜박했다면\n",
    "- '인스턴스화할 때' TypeError를 발생시김\n",
    "- 또한 발생한 예외는 누락된 메서드가 무엇인지 알려줌\n",
    "- abc 없이는 누락된 메서드가 실제로 호출된 경우에만 NotImplementedError를 발생"
   ]
  },
  {
   "cell_type": "markdown",
   "id": "49e7d9ed",
   "metadata": {},
   "source": [
    "#### keypoint( 추상화 클래스 ABC ( Abstract Base Class))\n",
    "\n",
    "- 추상화 클래스는 파생 클래스가 인스턴스화될 때 기반 클래스의 추상 메서드를 모두 구현하였는지 확인한다.\n",
    "- 추상화 클래스를 사용하면 버그를 방지하고 클래스 계층을 쉽게 유지 관리 할 수 있다."
   ]
  },
  {
   "cell_type": "markdown",
   "id": "a823a404",
   "metadata": {},
   "source": [
    "# 네임드튜플은 어디에 적합한가\n",
    "- 네임드튜플 컨테이너 타입이 있음\n",
    "- 네임드튜플은 클래스를 수동으로 정의하는 데 대한 훌륭한 대안\n",
    "- 기본 tuple 데이터 타입의 확장\n",
    "    - tuple 은 임의의 객체를 그룹화하기 위한 간단한 데이터 구조\n",
    "    - 불변이기에 생성되면 수정할 수 없음\n",
    "    - 튜플에 저장된 개별 속성에는 이름을 지정할 수 없음\n",
    "    - 튜플에는 같은 수의 필드와 같은 속성이 담겨 있다고 보장하지 못함\n",
    "    - 필드 순서를 혼동해서 '실수로 인한 버그'가 자주 발생"
   ]
  },
  {
   "cell_type": "code",
   "execution_count": 35,
   "id": "680a6d87",
   "metadata": {},
   "outputs": [
    {
     "data": {
      "text/plain": [
       "('hello', <object at 0x213cacb9ef0>, 42)"
      ]
     },
     "execution_count": 35,
     "metadata": {},
     "output_type": "execute_result"
    }
   ],
   "source": [
    "tup = ('hello', object(), 42)\n",
    "tup"
   ]
  },
  {
   "cell_type": "code",
   "execution_count": 36,
   "id": "102bb7d4",
   "metadata": {},
   "outputs": [
    {
     "ename": "TypeError",
     "evalue": "'tuple' object does not support item assignment",
     "output_type": "error",
     "traceback": [
      "\u001b[1;31m---------------------------------------------------------------------------\u001b[0m",
      "\u001b[1;31mTypeError\u001b[0m                                 Traceback (most recent call last)",
      "\u001b[1;32m<ipython-input-36-0bbb7d46192a>\u001b[0m in \u001b[0;36m<module>\u001b[1;34m\u001b[0m\n\u001b[1;32m----> 1\u001b[1;33m \u001b[0mtup\u001b[0m\u001b[1;33m[\u001b[0m\u001b[1;36m2\u001b[0m\u001b[1;33m]\u001b[0m \u001b[1;33m=\u001b[0m \u001b[1;36m23\u001b[0m\u001b[1;33m\u001b[0m\u001b[1;33m\u001b[0m\u001b[0m\n\u001b[0m",
      "\u001b[1;31mTypeError\u001b[0m: 'tuple' object does not support item assignment"
     ]
    }
   ],
   "source": [
    "tup[2] = 23"
   ]
  },
  {
   "cell_type": "markdown",
   "id": "560efe3c",
   "metadata": {},
   "source": [
    "#### 해결사 네임트 튜플\n",
    "- 변경 불가능한 컨테이너\n",
    "- 최상위 속성에 데이터를 저장한 후 속성을 업데이트하여 데이터를 수정할 수 없음\n",
    "- 한 번만 쓰고 여러번 읽음의 원칙을 따름\n",
    "- 말 그대로 이름 지어진 튜플"
   ]
  },
  {
   "cell_type": "markdown",
   "id": "d978aecf",
   "metadata": {},
   "source": [
    "- 첫 번째 인자 매개 변수는 타입명이라고 하며 namedtuple 함수를 호출하여 생성되는 새 클래스의 이름\n",
    "- namedtuple은 우리가 결과 클래스를 할당할 변수명을 알 수 없기 때문에 사용할 클래스 이름을 명시적으로 알려 줘야함\n",
    "- 이 클래스명은 namedtuple이 개발자를 위해 자동으로 생성하는 독스트링과 __ repr __ 구현에 사용됨\n"
   ]
  },
  {
   "cell_type": "code",
   "execution_count": 8,
   "id": "a13aa22e",
   "metadata": {},
   "outputs": [],
   "source": [
    "from collections import namedtuple\n",
    "\n",
    "Car1 = namedtuple('Car', 'color mileage')\n"
   ]
  },
  {
   "cell_type": "code",
   "execution_count": 9,
   "id": "edcb582d",
   "metadata": {},
   "outputs": [
    {
     "data": {
      "text/plain": [
       "3812.4"
      ]
     },
     "execution_count": 9,
     "metadata": {},
     "output_type": "execute_result"
    }
   ],
   "source": [
    "'color mileage'.split()\n",
    "Car2 = namedtuple('Car1323', ['color', 'mileage'])\n",
    "my_car = Car2('red', 3812.4)\n",
    "my_car.mileage"
   ]
  },
  {
   "cell_type": "code",
   "execution_count": 53,
   "id": "6e005d30",
   "metadata": {},
   "outputs": [
    {
     "data": {
      "text/plain": [
       "'red'"
      ]
     },
     "execution_count": 53,
     "metadata": {},
     "output_type": "execute_result"
    }
   ],
   "source": [
    "my_car[0]"
   ]
  },
  {
   "cell_type": "code",
   "execution_count": 54,
   "id": "fb80a8a3",
   "metadata": {},
   "outputs": [
    {
     "data": {
      "text/plain": [
       "('red', 3812.4)"
      ]
     },
     "execution_count": 54,
     "metadata": {},
     "output_type": "execute_result"
    }
   ],
   "source": [
    "tuple(my_car)"
   ]
  },
  {
   "cell_type": "code",
   "execution_count": 67,
   "id": "addaac47",
   "metadata": {},
   "outputs": [
    {
     "name": "stdout",
     "output_type": "stream",
     "text": [
      "red 3812.4\n",
      "red 3812.4\n",
      "Car1323(color='red', mileage=3812.4)\n"
     ]
    }
   ],
   "source": [
    "color, mileage = my_car\n",
    "print( color, mileage)\n",
    "\n",
    "print(*my_car)\n",
    "print(str(my_car))"
   ]
  },
  {
   "cell_type": "code",
   "execution_count": 58,
   "id": "593a8b55",
   "metadata": {},
   "outputs": [
    {
     "data": {
      "text/plain": [
       "Car(color='red', mileage=3812.4)"
      ]
     },
     "execution_count": 58,
     "metadata": {},
     "output_type": "execute_result"
    }
   ],
   "source": [
    "my_car"
   ]
  },
  {
   "cell_type": "code",
   "execution_count": 60,
   "id": "84d30734",
   "metadata": {},
   "outputs": [
    {
     "ename": "AttributeError",
     "evalue": "can't set attribute",
     "output_type": "error",
     "traceback": [
      "\u001b[1;31m---------------------------------------------------------------------------\u001b[0m",
      "\u001b[1;31mAttributeError\u001b[0m                            Traceback (most recent call last)",
      "\u001b[1;32m<ipython-input-60-e7708201268d>\u001b[0m in \u001b[0;36m<module>\u001b[1;34m\u001b[0m\n\u001b[1;32m----> 1\u001b[1;33m \u001b[0mmy_car\u001b[0m\u001b[1;33m.\u001b[0m\u001b[0mcolor\u001b[0m \u001b[1;33m=\u001b[0m \u001b[1;34m'blue'\u001b[0m\u001b[1;33m\u001b[0m\u001b[1;33m\u001b[0m\u001b[0m\n\u001b[0m",
      "\u001b[1;31mAttributeError\u001b[0m: can't set attribute"
     ]
    }
   ],
   "source": [
    "my_car.color = 'blue'"
   ]
  },
  {
   "cell_type": "markdown",
   "id": "027c4ffe",
   "metadata": {},
   "source": [
    "#### 네임드튜플 정리\n",
    "- 내부적으로 일반 파이썬 클래스로 구현\n",
    "- 메모리 사용량도 일반 클래스보다 '좋음'\n",
    "- \"네임드튜플은 파이썬에서 불변 클래스를 수동으로 정의할 때 사용할 수 있는 메모리 활용의 효율적인 지름길\""
   ]
  },
  {
   "cell_type": "markdown",
   "id": "88ca3466",
   "metadata": {},
   "source": [
    "### 네임드튜플 상속하기\n",
    "\n",
    "- 네임드튜플은 일반 파이썬 클래스 위에서 만들어지기 때문에 네임드튜플 객체에 메서드 추가 가능"
   ]
  },
  {
   "cell_type": "code",
   "execution_count": 3,
   "id": "dd10a176",
   "metadata": {},
   "outputs": [
    {
     "data": {
      "text/plain": [
       "'#ff0000'"
      ]
     },
     "execution_count": 3,
     "metadata": {},
     "output_type": "execute_result"
    }
   ],
   "source": [
    "from collections import namedtuple\n",
    "\n",
    "Car = namedtuple('Car', 'color mileage')\n",
    "\n",
    "class MyCarWithMethods(Car):\n",
    "    def hexcolor(self):\n",
    "        if self.color =='red':\n",
    "            return '#ff0000'\n",
    "        else:\n",
    "            return '#000000'\n",
    "        \n",
    "c = MyCarWithMethods('red', 1234)\n",
    "c.hexcolor()"
   ]
  },
  {
   "cell_type": "markdown",
   "id": "5e9b37bb",
   "metadata": {},
   "source": [
    "#### 위 코드의 문제점\n",
    "- 다소 거추장 스러움\n",
    "- 불변 속성들로 구성된 클래스를 원한다면 할 만한 가치가 있을지도 모름\n",
    "- 새로운 '불변' 필드를 추가하기가 까다로움\n",
    "- 네임드튜플 계층을 만드는 가장 쉬운 방법은 기본 튜플의_fields 속성을 사용하는 것"
   ]
  },
  {
   "cell_type": "code",
   "execution_count": 4,
   "id": "b1795d57",
   "metadata": {},
   "outputs": [],
   "source": [
    "Car = namedtuple('Car', 'color mileage')\n",
    "ElectricCar = namedtuple('ElectricCar', Car._fields + ('charge', ))"
   ]
  },
  {
   "cell_type": "code",
   "execution_count": 6,
   "id": "24c44e1b",
   "metadata": {},
   "outputs": [
    {
     "data": {
      "text/plain": [
       "ElectricCar(color='red', mileage=1234, charge=45.0)"
      ]
     },
     "execution_count": 6,
     "metadata": {},
     "output_type": "execute_result"
    }
   ],
   "source": [
    "ElectricCar('red', 1234, 45.0)"
   ]
  },
  {
   "cell_type": "markdown",
   "id": "9c7676ad",
   "metadata": {},
   "source": [
    "#### 내장 도우미 메서드\n",
    "\n",
    "- _ fields 속성 외에도 각 네임드튜플 인스턴스는 유용한 몇 가지 도우미 메서드를 제공함\n",
    "- _ 로 시작함\n",
    "- 이 문자는 보통 해당 메서드나 속성이 클래스 또는 모듈의 안정된 공개 인터페이스의 일부가 아니라 '프라이빗'임을 뜻함\n",
    "- 네임드튜플의 경우 밑줄 명명 규칙은 다른 의미를 가짐\n",
    "- 네임드튜플에서는 밑줄로 시작하는 도우미 메서드 및 속성은 네임드튜플의 공개 인터페이스에 포함됨\n",
    "- 사용자 정의 튜플 필드와의 충돌을 피하기 위해 밑줄을 사용했을 뿐\n"
   ]
  },
  {
   "cell_type": "markdown",
   "id": "c9324f6e",
   "metadata": {},
   "source": [
    "####  네임드 튜플 딕셔너리로 변경하기"
   ]
  },
  {
   "cell_type": "code",
   "execution_count": 11,
   "id": "749d425f",
   "metadata": {},
   "outputs": [
    {
     "data": {
      "text/plain": [
       "{'color': 'red', 'mileage': 3812.4}"
      ]
     },
     "execution_count": 11,
     "metadata": {},
     "output_type": "execute_result"
    }
   ],
   "source": [
    "my_car._asdict()"
   ]
  },
  {
   "cell_type": "code",
   "execution_count": 13,
   "id": "cac0b9d0",
   "metadata": {},
   "outputs": [
    {
     "data": {
      "text/plain": [
       "'{\"color\": \"red\", \"mileage\": 3812.4}'"
      ]
     },
     "execution_count": 13,
     "metadata": {},
     "output_type": "execute_result"
    }
   ],
   "source": [
    "import json\n",
    "json.dumps(my_car._asdict())"
   ]
  },
  {
   "cell_type": "markdown",
   "id": "6bfd6be6",
   "metadata": {},
   "source": [
    "#### 네임드 튜플 (얕은) 복사본을 생성하고 필드의 일부 선택적 대체"
   ]
  },
  {
   "cell_type": "code",
   "execution_count": 14,
   "id": "b2e58831",
   "metadata": {},
   "outputs": [
    {
     "data": {
      "text/plain": [
       "Car1323(color='blue', mileage=3812.4)"
      ]
     },
     "execution_count": 14,
     "metadata": {},
     "output_type": "execute_result"
    }
   ],
   "source": [
    "my_car._replace(color='blue')"
   ]
  },
  {
   "cell_type": "markdown",
   "id": "f38f0d14",
   "metadata": {},
   "source": [
    "#### 네임드 튜플 객체 시퀀스나 반복 가능 객체로부터 새로운 네임드튜플 인스턴스 생성"
   ]
  },
  {
   "cell_type": "code",
   "execution_count": 19,
   "id": "513651e7",
   "metadata": {},
   "outputs": [
    {
     "data": {
      "text/plain": [
       "Car(color='red', mileage=999)"
      ]
     },
     "execution_count": 19,
     "metadata": {},
     "output_type": "execute_result"
    }
   ],
   "source": [
    "Car._make(['red',999])"
   ]
  },
  {
   "cell_type": "markdown",
   "id": "b43a05c2",
   "metadata": {},
   "source": [
    "#### 네임드튜플을 사용하면 좋은 경우\n",
    "\n",
    "- 데이터를 잘 구조화하여 코드를 정돈하고 가독성이 더 좋게함\n",
    "- 딕셔너리처럼 형식이 고정된 임시 데이터 타입에서 네임드튜프로 바꾸면 개발자의 의도를 좀더 명확하게 표현 가능\n",
    "- 리팩터링을 시도하다 보면 자신이 직면한 문제에 대해 고민해볼 수있음\n",
    "- 구조화되지 않은 튜플과 딕셔너리 대신 네임드튜플을 사용하면 동료가 작업을 더 쉽게 수행할 수 있게 함\n",
    "- '더 깔끔하고' 유지 보수가 쉬운 코드를 작성하는 데 도움이 되지 않는 경우에는 네임드튜플 사용을 자제"
   ]
  },
  {
   "cell_type": "markdown",
   "id": "c8c3ffc6",
   "metadata": {},
   "source": [
    "#### keypoint( 네임드튜플 )\n",
    "\n",
    "- collections.namedtuple은 불변 클래스를 수동으로 정의하는 메모리 효율적 지름길\n",
    "- 네임드 튜플은 데이터를 이해하기 쉬운 구조로 만들어 코드를 정리하는 데 도움을 줌\n",
    "- 네임트튜플은 유용한 도우미 메서드를 제공\n",
    "    - _ make, _ replace, _ asdict()"
   ]
  },
  {
   "cell_type": "markdown",
   "id": "185109d2",
   "metadata": {},
   "source": [
    "# 클래스 변수 대 인스턴스 변수의 함정\n",
    "\n",
    "- 클래스 메서드와 인스턴스 메서드를 구별하는 것 외에도 파이썬의 객체 모델은 클래스아 인스턴스의 '변수'를 구별함\n",
    "- 파이썬 객체, '클래스 변수'와 '인스턴스 변수'라는 두가지 데이터 속성이 존재\n",
    "- 클래스 변수\n",
    "    - 클래스 정의 안에(그러나 인스턴스 메스드 밖에) 선언\n",
    "    - 특정 클래스 인스턴스에 묶여 있지 않음\n",
    "    - 클래스 자체에 내용을 저장, 같은 클래스에서 생성된 모든 객체는 동일한 클래스 변수 집합을 공유함\n",
    "    - 클래스변수를 수정하면 동시에 모든 객체 인스턴스에 영향을 미침\n",
    "\n",
    "- 인스턴스 변수\n",
    "    - 항상 특정 객체 인스턴스에 묶여 있음\n",
    "    - 그 내용은 클래스에 저장되지 않음 클래스에서 생성된 개별 객체에 저장됨\n",
    "    - 인스턴스 변수의 내용은 객체 인스턴스마다 완전히 독립적\n",
    "    - 해당 객체에만 영향을 미침"
   ]
  },
  {
   "cell_type": "code",
   "execution_count": 20,
   "id": "37e17398",
   "metadata": {},
   "outputs": [],
   "source": [
    "class Dog:\n",
    "    num_legs = 4 # <-클래스 변수\n",
    "    \n",
    "    def __init__(self, name):\n",
    "        self.name = name # <- 인스턴스 변수"
   ]
  },
  {
   "cell_type": "code",
   "execution_count": null,
   "id": "0bf0be29",
   "metadata": {},
   "outputs": [],
   "source": []
  },
  {
   "cell_type": "markdown",
   "id": "89eedb02",
   "metadata": {},
   "source": [
    "#### 새 Dog 인스턴스를 만들면 각 인스턴스는 name이라는 인스턴스 변수를 얻음"
   ]
  },
  {
   "cell_type": "code",
   "execution_count": 21,
   "id": "818adfb5",
   "metadata": {},
   "outputs": [
    {
     "name": "stdout",
     "output_type": "stream",
     "text": [
      "jack jill\n"
     ]
    }
   ],
   "source": [
    "jack = Dog('jack')\n",
    "jill = Dog('jill')\n",
    "print( jack.name, jill.name)"
   ]
  },
  {
   "cell_type": "code",
   "execution_count": 22,
   "id": "8b373df2",
   "metadata": {},
   "outputs": [
    {
     "name": "stdout",
     "output_type": "stream",
     "text": [
      "4 4\n"
     ]
    }
   ],
   "source": [
    "print(jack.num_legs, jill.num_legs)"
   ]
  },
  {
   "cell_type": "markdown",
   "id": "a9f75542",
   "metadata": {},
   "source": [
    "#### 각 Dog 인스턴스 또는 '클래스 자체에서' num_legs에 접근 가능"
   ]
  },
  {
   "cell_type": "code",
   "execution_count": 24,
   "id": "713264f5",
   "metadata": {},
   "outputs": [
    {
     "data": {
      "text/plain": [
       "(4, 4)"
      ]
     },
     "execution_count": 24,
     "metadata": {},
     "output_type": "execute_result"
    }
   ],
   "source": [
    "jack.num_legs, jill.num_legs"
   ]
  },
  {
   "cell_type": "code",
   "execution_count": 25,
   "id": "b10fde37",
   "metadata": {},
   "outputs": [
    {
     "data": {
      "text/plain": [
       "4"
      ]
     },
     "execution_count": 25,
     "metadata": {},
     "output_type": "execute_result"
    }
   ],
   "source": [
    "Dog.num_legs"
   ]
  },
  {
   "cell_type": "markdown",
   "id": "9aa3f53b",
   "metadata": {},
   "source": [
    "#### 클래스르 통해 인스턴스 변수에 접근하려고 하면 에러 (Attribute Error)\n",
    "\n",
    "- 인스턴스 변수는 각 객체에 특정되고 __ init __ 생성자가 실행될 때 마다 생성\n",
    "- 클래스 자체에는 존재하지 않음\n",
    "\n",
    "    - 이것이 클래스 변수와 인스턴스 변수의 주요 차이점"
   ]
  },
  {
   "cell_type": "code",
   "execution_count": 26,
   "id": "9430fa79",
   "metadata": {},
   "outputs": [
    {
     "ename": "AttributeError",
     "evalue": "type object 'Dog' has no attribute 'name'",
     "output_type": "error",
     "traceback": [
      "\u001b[1;31m---------------------------------------------------------------------------\u001b[0m",
      "\u001b[1;31mAttributeError\u001b[0m                            Traceback (most recent call last)",
      "\u001b[1;32m<ipython-input-26-629675d46941>\u001b[0m in \u001b[0;36m<module>\u001b[1;34m\u001b[0m\n\u001b[1;32m----> 1\u001b[1;33m \u001b[0mDog\u001b[0m\u001b[1;33m.\u001b[0m\u001b[0mname\u001b[0m\u001b[1;33m\u001b[0m\u001b[1;33m\u001b[0m\u001b[0m\n\u001b[0m",
      "\u001b[1;31mAttributeError\u001b[0m: type object 'Dog' has no attribute 'name'"
     ]
    }
   ],
   "source": [
    "Dog.name"
   ]
  },
  {
   "cell_type": "markdown",
   "id": "5b27c304",
   "metadata": {},
   "source": [
    "#### 클래스 변수를 바꾸면 모든 인스터스에 영향을 미침"
   ]
  },
  {
   "cell_type": "code",
   "execution_count": 27,
   "id": "83127f91",
   "metadata": {},
   "outputs": [],
   "source": [
    "# 클래스 변수 바꾸기\n",
    "\n",
    "Dog.num_legs = 6"
   ]
  },
  {
   "cell_type": "code",
   "execution_count": 29,
   "id": "36b4a5c3",
   "metadata": {},
   "outputs": [
    {
     "data": {
      "text/plain": [
       "(6, 6)"
      ]
     },
     "execution_count": 29,
     "metadata": {},
     "output_type": "execute_result"
    }
   ],
   "source": [
    "jack.num_legs, jill.num_legs"
   ]
  },
  {
   "cell_type": "code",
   "execution_count": 31,
   "id": "9bdd3797",
   "metadata": {},
   "outputs": [
    {
     "data": {
      "text/plain": [
       "(6, 4, 4)"
      ]
     },
     "execution_count": 31,
     "metadata": {},
     "output_type": "execute_result"
    }
   ],
   "source": [
    "# 인스턴스에서 클래스 변수에 해당하는 값 바꿔보기\n",
    "Dog.num_legs=4\n",
    "jack.num_legs= 6\n",
    "\n",
    "jack.num_legs, jill.num_legs, Dog.num_legs"
   ]
  },
  {
   "cell_type": "markdown",
   "id": "fa98a65c",
   "metadata": {},
   "source": [
    "#### 위의 코드\n",
    "\n",
    "- 원하는 결과를 얻은 것 같이 보임\n",
    "- 문제는 잭 인스턴스에 num_legs 인스턴스 변수를 도입했다는 점\n",
    "- 새로운 num_legs 인스턴스 변수는 동일한 이름의 클래스 변수를 '가려' 객체 인스턴스 범위에 접글할 때 이를 무시하고 숨김"
   ]
  },
  {
   "cell_type": "code",
   "execution_count": 33,
   "id": "fae63696",
   "metadata": {},
   "outputs": [
    {
     "data": {
      "text/plain": [
       "(6, 4)"
      ]
     },
     "execution_count": 33,
     "metadata": {},
     "output_type": "execute_result"
    }
   ],
   "source": [
    "# 마지막 말 설명 예제 코드\n",
    "jack.num_legs, jack.__class__.num_legs"
   ]
  },
  {
   "cell_type": "markdown",
   "id": "b8f437aa",
   "metadata": {},
   "source": [
    "- 즉 이 클래스 변수는 '동기화 되지 않는' 것처럼 보임\n",
    "- 그 이유는 jack.num_legs에 값을 써서 클래스 변수와 똑같은 이름의 인스턴스 변수가 만들어졌기 때문\n",
    "- 나쁜 것은 아니지만 이 뒤에서 무슨 일이 일어나는 것인지는 인지해야함\n",
    "    - 사실은, 객체 인스턴스를 통해 클래스 변수를 수정하려고 시도하는 것, 즉 실수로 이름이 같은 인스턴스 변수를 만들어 원래 클래스 변수를 가리는 것은 객체 지향프로그래밍의 함정"
   ]
  },
  {
   "cell_type": "markdown",
   "id": "f63f664a",
   "metadata": {},
   "source": [
    "#### 개가 없는 예제\n"
   ]
  },
  {
   "cell_type": "markdown",
   "id": "61a9880f",
   "metadata": {},
   "source": [
    "- CountedObject는 공유 카운터 역할을 하는 num_instances 를 클래스 변수를 갖고, 클래스가 선언되면 카운터가 0으로 초기화된 채로 있음"
   ]
  },
  {
   "cell_type": "code",
   "execution_count": 1,
   "id": "f8730452",
   "metadata": {},
   "outputs": [
    {
     "data": {
      "text/plain": [
       "0"
      ]
     },
     "execution_count": 1,
     "metadata": {},
     "output_type": "execute_result"
    }
   ],
   "source": [
    "class CountedObject:\n",
    "    num_instances = 0\n",
    "    \n",
    "    def __init__(self):\n",
    "        self.__class__.num_instances += 1\n",
    "    \n",
    "CountedObject.num_instances"
   ]
  },
  {
   "cell_type": "code",
   "execution_count": 3,
   "id": "3270dab6",
   "metadata": {},
   "outputs": [],
   "source": [
    "# 주의 잘못 짠 코드\n",
    "\n",
    "class countedobject:\n",
    "    num_instances =0 \n",
    "    \n",
    "    def __init__(self):\n",
    "        self.num_instances +=1 #!!! 오류\n",
    "        \n",
    "# 이건 인스턴스 변수가 클래스 변수를 가릴뿐\n",
    "# 클래스변수를 업데이트하지 못함"
   ]
  },
  {
   "cell_type": "markdown",
   "id": "6f6624b5",
   "metadata": {},
   "source": [
    "#### keypoint( 클래스 변수 vs 인스턴스 변수 )\n",
    "\n",
    "- 클래스 변수는 모든 클래스 인스턴스에서 공윻는 데이터를 위한 변수\n",
    "    - 특정 인스턴스가 아닌 클래스에 속하며 클래스의 모든 인스턴스 간의 공유\n",
    "- 인스턴스 변수는 각 인스턴스에 고유한 데이터를 위한 것\n",
    "    - 개별 객체 인스턴스에 속하며 클래스의 다른 인스턴스와 공유X\n",
    "    - 각 인스턴스 변수는 각 인스턴스에 배정된 고유한 저장소를 갖음\n",
    "    \n",
    "- 클래스 변수는 동일한 이름의 인스턴수 변수에 의해 '가려질' 수 있기 때문에 (우연히) 덮어써서 버그나 이상한 동작을 유발할 수 있음"
   ]
  },
  {
   "cell_type": "markdown",
   "id": "6a999c9d",
   "metadata": {},
   "source": [
    "#### 인스턴스 메서드, 클래스 메스드, 정적 메서드"
   ]
  },
  {
   "cell_type": "code",
   "execution_count": 12,
   "id": "750dc397",
   "metadata": {},
   "outputs": [],
   "source": [
    "class Myclass:\n",
    "    def method(self):\n",
    "        return 'instance method called', self\n",
    "    \n",
    "    @classmethod\n",
    "    def classmethod(cls):\n",
    "        return 'class method called', cls\n",
    "    \n",
    "    @staticmethod\n",
    "    def staticmethod():\n",
    "        return 'static method called'"
   ]
  },
  {
   "cell_type": "markdown",
   "id": "28b5f617",
   "metadata": {},
   "source": [
    "# 인스턴스 메스드\n",
    "\n",
    "- Myclass의 첫 번째 메서드인 method는 일반 인스턴스 메스드\n",
    "- self라는 단 하나의 매개 변수를 받음.\n",
    "    - 이 변수는 method가 호출될 때의 Myclass 인스턴스를 가리킴\n",
    "    - 인스턴스 메서드는 하나이상의 매개 변수를 받아드릴 수 있음\n",
    "- self 매개 변수르 통해 인스턴스 메서드는 동일한 객체에 정의된 속성 및 다른 메서드에 자유롭게 접근 가능\n",
    "    - 객체의 상태를 수정할 수 있도록 해주는 강력한 기능\n",
    "- 객체 상태를 수정할 수 있을 뿐 아니라 인스턴스 메서드는 self.__ class __ 속성을 통해 클래스 자체에 접근할 수 있음\n",
    "    - 인스턴스 메서드가 클래스 상태를 수정할 수도 있음\n",
    "   "
   ]
  },
  {
   "cell_type": "markdown",
   "id": "f74a52a9",
   "metadata": {},
   "source": [
    "# 클래스 메서드\n",
    "\n",
    "- Myclass.classmethod와 비교\n",
    "    - @classmethod 데코레이터는 해당 메서드가 클래스 메서드임을 표시하는 역할\n",
    "    - @classmethod는 클래스 메서드를 선언하기 위해 써야함\n",
    "- 객체 인스턴스를 가리키는 self 매개 변수 대신, 클래스 메서드는 클래스를 가리키는 cls 매개 변수를 받음\n",
    "- 클래스 메서드는 이 cls 인자에만 접근할 수 있기 때문에 객체 인스턴스 상태를 수정할 수 없음\n",
    "    - 객체 인스턴스를 수정하려면 self에 접근할 수 있어야함\n",
    "    - 클래스 메서드는 여전히 클래스의 모든 인스턴스에 적용되는 클래스 상태를 수정 가능\n",
    "    "
   ]
  },
  {
   "cell_type": "markdown",
   "id": "4b421c19",
   "metadata": {},
   "source": [
    "# 정적 메서드\n",
    "\n",
    "- Myclass.staticmethod는 @staticmethod 데코레이터를 달아 지정\n",
    "    - @staticmethod는 정적 메서드를 선언하기 위해 써야함\n",
    "- 정적 메서드도 임의 개수의 매개 변수를 받아드릴 수 있지만, self, cls 매개 변수를 사용하지 않음\n",
    "- 정적 메서드는 객체 상태나 클래스 상태를 수정할 수 없음\n",
    "     - 정적 메서드는 접근할 수 있는 데이터가 제한됨\n",
    "     - 주로 메서드의 네임스페이스를 해당 클래스로 한정하는 용도"
   ]
  },
  {
   "cell_type": "markdown",
   "id": "d294d577",
   "metadata": {},
   "source": [
    "#### 클래스의 인스턴스 만들기\n",
    "- 각각의 메서드 호출하기\n",
    "- Myclass의 각 메서드는 해당 메서드가 클래스 또는 객체의 어느 부분에 접근할 수 있는지, 그리고 무슨 일이 벌어지는지 추적하는 데 사용할 수 있는 정보를 담고 있는 튜플을 반환하는 방식으로 구현"
   ]
  },
  {
   "cell_type": "markdown",
   "id": "d3e7bd7d",
   "metadata": {},
   "source": [
    "#### 인스턴스 메서드"
   ]
  },
  {
   "cell_type": "markdown",
   "id": "3fd71d00",
   "metadata": {},
   "source": [
    "- 이 경우 method라는 인스턴스 메서드는 self 인자를 통해 객체 인스턴스 Myclass instance로 출력됨에 접근했음을 알 수 있음\n",
    "\n",
    "- 메서드가 호출되면 self 인자를 인스턴스 객체 obj로 바꿈\n",
    "- 간편 문법인 dot-call 문법 대신 인스턴스 객체를 '직접' 전달해도 같은 결과\n",
    "- 즉 obj.method() 대신 Myclass.method(obj) 를 해도 똑같음"
   ]
  },
  {
   "cell_type": "code",
   "execution_count": 13,
   "id": "b00ac41d",
   "metadata": {},
   "outputs": [
    {
     "data": {
      "text/plain": [
       "('instance method called', <__main__.Myclass at 0x124e77106a0>)"
      ]
     },
     "execution_count": 13,
     "metadata": {},
     "output_type": "execute_result"
    }
   ],
   "source": [
    "obj = Myclass()\n",
    "obj.method()"
   ]
  },
  {
   "cell_type": "markdown",
   "id": "50f36a0e",
   "metadata": {},
   "source": [
    "- 인스턴스 메서드는 self.__ class __ 속성을 통해 '클래스 자체'에 접근 할 수 있음\n",
    "- 접근 제한 측면에서 인스턴스 메서드를 강력하게 함\n",
    "- 객체 인스턴스 및 클래스 자체의 상태를 자유롭게 수정 가능\n"
   ]
  },
  {
   "cell_type": "markdown",
   "id": "495cff7b",
   "metadata": {},
   "source": [
    "#### 클래스 메서드"
   ]
  },
  {
   "cell_type": "markdown",
   "id": "b3bc27a0",
   "metadata": {},
   "source": [
    "- classmethod()를 호출하면 <Myclass instance> 객체에는 접근할 수 없으며 클래스 자체를 나타내는 __ main __ .Myclass 객체에만 접근할 수 있음을 보여줌 ( 클래스 자신까지도 객체 )\n",
    "- Myclass.classmethod()를 호출할 때 파이썬이 클래스 함수의 첫 번째 인자로 자동 전달하는 방법에 주목\n",
    "- 점 문법을 사용해 메서드 호출시 아래 동작 개시\n",
    "    - 인스턴스 메서드의 self 매개 변수도 동일한 방식으로 작동\n",
    "- 이러한 매개 변수를 self 및 cls라고 이름 지은 것은 단지 관례일 뿐\n",
    "    - the_object와 the_class라는 이름을 붙여도 상관 없음\n",
    "- 중요한 것은 해당 메서드의 매개 변수 목록에서 첫 번째로 위치한다는 점"
   ]
  },
  {
   "cell_type": "code",
   "execution_count": 14,
   "id": "1dab789d",
   "metadata": {},
   "outputs": [
    {
     "data": {
      "text/plain": [
       "('class method called', __main__.Myclass)"
      ]
     },
     "execution_count": 14,
     "metadata": {},
     "output_type": "execute_result"
    }
   ],
   "source": [
    "obj.classmethod()"
   ]
  },
  {
   "cell_type": "markdown",
   "id": "67526bac",
   "metadata": {},
   "source": [
    "#### 정적 메서드"
   ]
  },
  {
   "cell_type": "markdown",
   "id": "a69f1c65",
   "metadata": {},
   "source": [
    "- 객체 인스턴스에서 정적 메서드 호출 가능\n",
    "- 파이썬이 정적 메서드의 접근 제한을 강제하는 방법은 단순\n",
    "    - 점 문법 호출 시 self나 cls 인자를 전달하지 않는 것\n",
    "    - 정적 메서드가 객체인스턴스 상태 또는 클래스 상태에 접근할 수 없음을 보장\n",
    "- 정적 함수는 일반 함수처럼 작동하지만 클래스(그리고 모든 인스턴스)의 네임스페이스에 귀속"
   ]
  },
  {
   "cell_type": "code",
   "execution_count": 15,
   "id": "6bd00112",
   "metadata": {},
   "outputs": [
    {
     "data": {
      "text/plain": [
       "'static method called'"
      ]
     },
     "execution_count": 15,
     "metadata": {},
     "output_type": "execute_result"
    }
   ],
   "source": [
    "obj.staticmethod()"
   ]
  },
  {
   "cell_type": "markdown",
   "id": "5fd8806f",
   "metadata": {},
   "source": [
    "#### 객체 인스턴스 없이 클래스 자체에서 각 타입 메서드 호출하기"
   ]
  },
  {
   "cell_type": "markdown",
   "id": "d887d8d3",
   "metadata": {},
   "source": [
    "- classmethod()나 staticmethod()는 호출가능\n",
    "- 인스턴스 메서드 method()를 호출하려고 하면 TypeError\n",
    "    - 객체 인스턴스를 만들지 않았고 클래스 자체에서 직접 인스턴스 메서드를 호출하려 했기 때문\n",
    "    - 즉 self 인자를 채울 수 있는 방법이 없음으로 호출이 TypeError 예외로 실패하는 것\n",
    "    "
   ]
  },
  {
   "cell_type": "code",
   "execution_count": 17,
   "id": "ad8571b9",
   "metadata": {},
   "outputs": [
    {
     "data": {
      "text/plain": [
       "('class method called', __main__.Myclass)"
      ]
     },
     "execution_count": 17,
     "metadata": {},
     "output_type": "execute_result"
    }
   ],
   "source": [
    "Myclass.classmethod()"
   ]
  },
  {
   "cell_type": "code",
   "execution_count": 18,
   "id": "601e8f3c",
   "metadata": {},
   "outputs": [
    {
     "data": {
      "text/plain": [
       "'static method called'"
      ]
     },
     "execution_count": 18,
     "metadata": {},
     "output_type": "execute_result"
    }
   ],
   "source": [
    "Myclass.staticmethod()"
   ]
  },
  {
   "cell_type": "code",
   "execution_count": 16,
   "id": "690a718a",
   "metadata": {
    "scrolled": true
   },
   "outputs": [
    {
     "ename": "TypeError",
     "evalue": "method() missing 1 required positional argument: 'self'",
     "output_type": "error",
     "traceback": [
      "\u001b[1;31m---------------------------------------------------------------------------\u001b[0m",
      "\u001b[1;31mTypeError\u001b[0m                                 Traceback (most recent call last)",
      "\u001b[1;32m<ipython-input-16-ca325b72f8a1>\u001b[0m in \u001b[0;36m<module>\u001b[1;34m\u001b[0m\n\u001b[1;32m----> 1\u001b[1;33m \u001b[0mMyclass\u001b[0m\u001b[1;33m.\u001b[0m\u001b[0mmethod\u001b[0m\u001b[1;33m(\u001b[0m\u001b[1;33m)\u001b[0m\u001b[1;33m\u001b[0m\u001b[1;33m\u001b[0m\u001b[0m\n\u001b[0m",
      "\u001b[1;31mTypeError\u001b[0m: method() missing 1 required positional argument: 'self'"
     ]
    }
   ],
   "source": [
    "Myclass.method()"
   ]
  },
  {
   "cell_type": "markdown",
   "id": "9597fc76",
   "metadata": {},
   "source": [
    "#### classmethod로 맛있는 피자 만들기"
   ]
  },
  {
   "cell_type": "code",
   "execution_count": 30,
   "id": "ceaa086e",
   "metadata": {},
   "outputs": [],
   "source": [
    "class Pizza:\n",
    "    def __init__(self, ingredients):\n",
    "        self.ingredients = ingredients\n",
    "    \n",
    "    def __repr__(self):\n",
    "        return f'Pizza({self.ingredients!r})'\n",
    "    @classmethod\n",
    "    def margherita(cls):\n",
    "        return cls(['mozzarella','tomatoes'])\n",
    "    \n",
    "    @classmethod\n",
    "    def prosciutto(cls):\n",
    "        return cls(['mozzarella', 'tomatoes', 'ham'])"
   ]
  },
  {
   "cell_type": "code",
   "execution_count": 31,
   "id": "27e9e6f3",
   "metadata": {},
   "outputs": [
    {
     "data": {
      "text/plain": [
       "Pizza(['cheese', 'tomatoes'])"
      ]
     },
     "execution_count": 31,
     "metadata": {},
     "output_type": "execute_result"
    }
   ],
   "source": [
    "Pizza(['cheese', 'tomatoes'])"
   ]
  },
  {
   "cell_type": "markdown",
   "id": "38e4e2c7",
   "metadata": {},
   "source": [
    "- 주목 해야할 부분\n",
    "    - 팩터리 메서드인 margherita와 prosciutto에서 Pizza의 생성자를 직접 호출하는 대신 cls 인자를 활용\n",
    "    - 중복 배제 원칙을 따르기 위한 트릭\n",
    "    - 이 클래스의 이름을 변경하고 싶더라도 모든 팩터리 메서드에서 일일히 생성자 이름을 수정하지 않아도 됨\n",
    "    "
   ]
  },
  {
   "cell_type": "markdown",
   "id": "3fbc5754",
   "metadata": {},
   "source": [
    "#### 팩터리 메서드를 사용하여 원하는 데로 구성한 새로운 Pizza 객체 만들 수 있음\n",
    "\n",
    "- 내부적으로 동일한 __ init __ 생성자를 사용하며 다양한 재료를 기억하기 위한 손쉬운 방법\n",
    "- 실질적인 클래스 생성자를 정의할 수 있음\n",
    "- 클래스당 하나의 __ init __ 메서드만을 허용\n",
    "    - 클래스 메서드를 사용하면 필요한 만큼 많은 대체 생성자 추가가능\n",
    "    "
   ]
  },
  {
   "cell_type": "code",
   "execution_count": 32,
   "id": "db87b5d8",
   "metadata": {},
   "outputs": [
    {
     "data": {
      "text/plain": [
       "Pizza(['mozzarella', 'tomatoes'])"
      ]
     },
     "execution_count": 32,
     "metadata": {},
     "output_type": "execute_result"
    }
   ],
   "source": [
    "Pizza.margherita()"
   ]
  },
  {
   "cell_type": "code",
   "execution_count": 33,
   "id": "2ec3dc95",
   "metadata": {},
   "outputs": [
    {
     "data": {
      "text/plain": [
       "Pizza(['mozzarella', 'tomatoes', 'ham'])"
      ]
     },
     "execution_count": 33,
     "metadata": {},
     "output_type": "execute_result"
    }
   ],
   "source": [
    "Pizza.prosciutto()"
   ]
  },
  {
   "cell_type": "markdown",
   "id": "ec0ebd14",
   "metadata": {},
   "source": [
    "### 정적 메서드 사용법"
   ]
  },
  {
   "cell_type": "markdown",
   "id": "f29a1fdd",
   "metadata": {},
   "source": [
    "- radius 인자를 허용하도록 생성자와 __ repr __ 을 수정\n",
    "- 피자 크기를 계산하고 반환하는 area() 인스턴스 메서드 추가\n",
    "    - @property를 사용해 속성으로 만들기에 좋은 후보임은 맞음\n",
    "- area() 메서드는 잘 알려진 공식을 사용하여 원 면적을 직접 계산하는 대신 별도의 circle_area() 메서드를 사용하여 계산\n"
   ]
  },
  {
   "cell_type": "code",
   "execution_count": 43,
   "id": "dd371f1e",
   "metadata": {},
   "outputs": [],
   "source": [
    "import math\n",
    "\n",
    "class Pizza:\n",
    "    def __init__(self, ingredients, radius):\n",
    "        self.ingredients = ingredients\n",
    "        self.radius = radius\n",
    "    \n",
    "    def __repr__(self):\n",
    "        return (f'Pizza({self.ingredients},' \n",
    "                f'{self.radius})')\n",
    "    \n",
    "    def area(self):\n",
    "        return self.circle_area(self.radius)\n",
    "    \n",
    "    @staticmethod\n",
    "    def circle_area(r):\n",
    "        return r**2*math.pi\n",
    "    "
   ]
  },
  {
   "cell_type": "code",
   "execution_count": 44,
   "id": "de865870",
   "metadata": {},
   "outputs": [
    {
     "data": {
      "text/plain": [
       "Pizza(['mozzarella', 'tomatoes'],4)"
      ]
     },
     "execution_count": 44,
     "metadata": {},
     "output_type": "execute_result"
    }
   ],
   "source": [
    "p = Pizza(['mozzarella', 'tomatoes'], 4)\n",
    "p"
   ]
  },
  {
   "cell_type": "code",
   "execution_count": 45,
   "id": "aad29042",
   "metadata": {},
   "outputs": [
    {
     "data": {
      "text/plain": [
       "50.26548245743669"
      ]
     },
     "execution_count": 45,
     "metadata": {},
     "output_type": "execute_result"
    }
   ],
   "source": [
    "p.area()"
   ]
  },
  {
   "cell_type": "code",
   "execution_count": 48,
   "id": "8482957e",
   "metadata": {},
   "outputs": [
    {
     "data": {
      "text/plain": [
       "50.26548245743669"
      ]
     },
     "execution_count": 48,
     "metadata": {},
     "output_type": "execute_result"
    }
   ],
   "source": [
    "p.circle_area(4) # 4를 빼면 오류"
   ]
  },
  {
   "cell_type": "markdown",
   "id": "72a94b3f",
   "metadata": {},
   "source": [
    "- 정적 메서드가 제공하는 몇 가지 장점을 설명\n",
    "    - 정적 메서드는 클래스 또는 인스턴스 상태에 접근 불가\n",
    "    - 정적 메서드가 cls, self 인자를 취하지 않기 때문\n",
    "    - 특정한 메서드가 주변의 다른 모든 것과 독립적일 수 있음\n",
    "    \n",
    "- 앞의 circle_area()가 클래스 또는 클래스 인스턴스를 어떤 식으로든 수정할 수 없음\n",
    "( 물론 전역 변수를 사용하여 이 한계를 해결 가능 _\n",
    "\n",
    "- 이 특성이 유용한 이유\n",
    "    - 정적 메서드라고 표시하는 것이 해당 메서드가 클래스 또는 인스턴스 상태를 수정하지 않음\n",
    "    - 파이썬 런타임에 의해 강제됨\n",
    "    - 클래스 아키텍처의 해당 부분에 관한 의사소통을 명확하게 해줌\n",
    "    - 즉 정적 메서드와 클래스 메서드를 사용하는 것은 개발자의 의도를 전달하는 동시에 개발자가 자신의 의도를 강제해 대부분의 실수나 버그로 인한 설계를 깨뜨리지 않도록함"
   ]
  },
  {
   "cell_type": "markdown",
   "id": "bf24e1ff",
   "metadata": {},
   "source": [
    "#### keypoint( 요점 정리 )\n",
    "- 인스턴스 메서드는 클래스 인스턴스가 필요하며 self를 통해 인스턴스에 접근할 수 있음\n",
    "- 클래스 메서드는 클래스 인스턴스가 필요하지 않음.\n",
    "    - 인스턴스( self ) 에는 접근 불가, but cls를 통해 클래스 자체에 접근 가능\n",
    "- 정적 메서드는 cls 또는 self에 접근할 수 없음\n",
    "    - 일반 함수처럼 작동하지만 자신을 정의한 클래스의 네임스페이스에 속함\n",
    "- 정적 및 클래스 메서드는 ( 어느 정도까지는 ) 클래스 설계에 대한 개발자의 의도를 전달하고 강제함."
   ]
  },
  {
   "cell_type": "code",
   "execution_count": null,
   "id": "820be3dc",
   "metadata": {},
   "outputs": [],
   "source": []
  }
 ],
 "metadata": {
  "jupytext": {
   "encoding": "# -*- coding: utf-8 -*-",
   "formats": "ipynb,py:light"
  },
  "kernelspec": {
   "display_name": "Python 3",
   "language": "python",
   "name": "python3"
  },
  "language_info": {
   "codemirror_mode": {
    "name": "ipython",
    "version": 3
   },
   "file_extension": ".py",
   "mimetype": "text/x-python",
   "name": "python",
   "nbconvert_exporter": "python",
   "pygments_lexer": "ipython3",
   "version": "3.8.10"
  }
 },
 "nbformat": 4,
 "nbformat_minor": 5
}
