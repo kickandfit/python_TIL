{
 "cells": [
  {
   "cell_type": "markdown",
   "id": "b4300ad9",
   "metadata": {},
   "source": [
    "#### itertools\n",
    "\n",
    "- permutations, combinations를 많이 사용함\n",
    "- permutations, combinations 등을 사용하게 되면, 그 내용이 그대로 저장은 되지만 특정 형식을 가지고 있지 않음\n",
    "- 즉 순열, 조합의 전체 내용이 하나의 메모리에 저장됨\n",
    "- list와 같은 새로운 데이터 구조를 활용해 각각의 요소에 인덱스를 부여해야만 하나하나 값을 활용할 수 있음\n",
    "- 그러나, 메모리 자체에 저장되어 있다고 하더라도, 그 데이터 자체는 iterable한 데이터임"
   ]
  },
  {
   "cell_type": "code",
   "execution_count": 14,
   "id": "200bde23",
   "metadata": {},
   "outputs": [
    {
     "name": "stdout",
     "output_type": "stream",
     "text": [
      "[('a', 'b', 'c'), ('a', 'c', 'b'), ('b', 'a', 'c'), ('b', 'c', 'a'), ('c', 'a', 'b'), ('c', 'b', 'a')]\n",
      "<class 'tuple'>\n",
      "<itertools.permutations object at 0x0000015C511640E0>\n",
      "('a', 'b', 'c')\n",
      "('a', 'c', 'b')\n",
      "('b', 'a', 'c')\n",
      "('b', 'c', 'a')\n",
      "('c', 'a', 'b')\n",
      "('c', 'b', 'a')\n"
     ]
    }
   ],
   "source": [
    "# permutations : iterable한 객체에서 r개의 데이터를 뽑아 순서를 고려하여 나열\n",
    "from itertools import permutations\n",
    "\n",
    "data = ['a', 'b', 'c']\n",
    "result = list(permutations(data, 3))\n",
    "print(result)\n",
    "print(type(result[0]))\n",
    "\n",
    "result = permutations(data, 3)\n",
    "print(result)\n",
    "for i in result:\n",
    "    print (i)"
   ]
  },
  {
   "cell_type": "code",
   "execution_count": 15,
   "id": "75a50327",
   "metadata": {},
   "outputs": [
    {
     "name": "stdout",
     "output_type": "stream",
     "text": [
      "[('a', 'b'), ('a', 'c'), ('b', 'c')]\n",
      "<itertools.combinations object at 0x0000015C511640E0>\n"
     ]
    }
   ],
   "source": [
    "# combinations : iterable 객체에서 r개의 데이터를 뽑아 순서를 고려하지 않고 나열하는 경우\n",
    "from itertools import combinations\n",
    "\n",
    "data = ['a', 'b', 'c']\n",
    "result = list(combinations(data ,2))\n",
    "print(result)\n",
    "\n",
    "result = combinations(data, 2)\n",
    "print(result)"
   ]
  },
  {
   "cell_type": "code",
   "execution_count": 19,
   "id": "8e5b0f57",
   "metadata": {},
   "outputs": [
    {
     "name": "stdout",
     "output_type": "stream",
     "text": [
      "[('a', 'a', 'a'), ('a', 'a', 'b'), ('a', 'a', 'c'), ('a', 'b', 'a'), ('a', 'b', 'b'), ('a', 'b', 'c'), ('a', 'c', 'a'), ('a', 'c', 'b'), ('a', 'c', 'c'), ('b', 'a', 'a'), ('b', 'a', 'b'), ('b', 'a', 'c'), ('b', 'b', 'a'), ('b', 'b', 'b'), ('b', 'b', 'c'), ('b', 'c', 'a'), ('b', 'c', 'b'), ('b', 'c', 'c'), ('c', 'a', 'a'), ('c', 'a', 'b'), ('c', 'a', 'c'), ('c', 'b', 'a'), ('c', 'b', 'b'), ('c', 'b', 'c'), ('c', 'c', 'a'), ('c', 'c', 'b'), ('c', 'c', 'c')]\n"
     ]
    }
   ],
   "source": [
    "#product : iterable한 객체에서 r개의 데이터를 뽑아 일렬로 순서를 고려하여 나열하는 경우(중복을 포함)\n",
    "from itertools import product\n",
    "data = ['a', 'b', 'c']\n",
    "result = list(product(data, repeat = 3)) # repaet = 3, 뽑고자하는 데이터수 3개\n",
    "print(result)"
   ]
  },
  {
   "cell_type": "code",
   "execution_count": 21,
   "id": "80464daf",
   "metadata": {},
   "outputs": [
    {
     "name": "stdout",
     "output_type": "stream",
     "text": [
      "[('a', 'a', 'a'), ('a', 'a', 'b'), ('a', 'a', 'c'), ('a', 'b', 'b'), ('a', 'b', 'c'), ('a', 'c', 'c'), ('b', 'b', 'b'), ('b', 'b', 'c'), ('b', 'c', 'c'), ('c', 'c', 'c')]\n"
     ]
    }
   ],
   "source": [
    "#combinations_with_replacement : iterable한 객체에서 데이터를 뽑아 일렬로 순서를 고려하지 않고 나열하는 경우(중복포함)\n",
    "from itertools import combinations_with_replacement\n",
    "data = ['a', 'b', 'c']\n",
    "result = list(combinations_with_replacement(data, 3))\n",
    "print(result)"
   ]
  },
  {
   "cell_type": "markdown",
   "id": "f3112ae8",
   "metadata": {},
   "source": [
    "### heapq\n",
    "- 우선 순위큐를 구현하고자 할때 사용하는 라이브러리\n",
    "- 파이썬에서는 최소 힙으로 구성되어있음\n",
    "- 시간복잡도 O(NlogN)\n",
    "- 삽입 heaqp.heappush(), 추출 heapq.heappop()"
   ]
  },
  {
   "cell_type": "code",
   "execution_count": 25,
   "id": "4350b823",
   "metadata": {},
   "outputs": [
    {
     "name": "stdout",
     "output_type": "stream",
     "text": [
      "[0, 1, 2, 3, 3, 4, 5, 6, 7, 8, 9]\n"
     ]
    }
   ],
   "source": [
    "import heapq\n",
    "\n",
    "def heapsort(iterable):\n",
    "    h = []\n",
    "    result = []\n",
    "    for value in iterable:\n",
    "        heapq.heappush(h, value)\n",
    "    \n",
    "    for i in range(len(h)):\n",
    "        result.append(heapq.heappop(h))\n",
    "        \n",
    "    return result\n",
    "\n",
    "result = heapsort([9,2,4,1,3,5,7,3,6,8,0])\n",
    "print(result)"
   ]
  },
  {
   "cell_type": "code",
   "execution_count": 30,
   "id": "32c150a1",
   "metadata": {},
   "outputs": [
    {
     "name": "stdout",
     "output_type": "stream",
     "text": [
      "[9, 8, 7, 6, 5, 4, 3, 3, 2, 1, 0]\n"
     ]
    }
   ],
   "source": [
    "# 최대 heapq 구현방법\n",
    "\n",
    "def max_heapsort(iterable):\n",
    "    h = []\n",
    "    result = []\n",
    "    for value in iterable:\n",
    "        heapq.heappush(h, -value)\n",
    "    for i in range(len(h)):\n",
    "        result.append(-heapq.heappop(h))\n",
    "    return result\n",
    "result = max_heapsort([9,2,4,1,3,5,7,3,6,8,0])\n",
    "print(result)"
   ]
  },
  {
   "cell_type": "markdown",
   "id": "c28e73ad",
   "metadata": {},
   "source": [
    "### bisect\n",
    "\n",
    "- 이진 탐색을 쉽게 구현할 수 있도록하는 라이브러리\n",
    "- 정렬된 배열 에서 특정한 원소를 찾아야하는 경우 매우 효과적\n",
    "- bisect_left()와 bisect_right() 함수가 가장 중요하게 사용됨\n",
    "- 시간 복잡도 O(logN)\n",
    "    - bisect_left(a, x) : 정렬된 순서를 유지하면서 리스트 a에 데이터 x를 삽입할 가장 왼쪽 인덱스를 찾는 매서드\n",
    "    - bisect_right(a, x) : 정렬된 순서를 유지하면서 리스트 a에 데이터 x를 삽입할 가장 오른쪽 인덱스를 찾는 매서드\n",
    "- bisect_left(), bisect_right() 함수는 '정렬된 리스트'에서 '값이 특정 범위에 속하는 원소의 개수'를 구하고자 할때 효과적"
   ]
  },
  {
   "cell_type": "code",
   "execution_count": 33,
   "id": "b13de90c",
   "metadata": {},
   "outputs": [
    {
     "name": "stdout",
     "output_type": "stream",
     "text": [
      "2\n",
      "4\n"
     ]
    }
   ],
   "source": [
    "# bisect_left(), bisect_right() 활용\n",
    "from bisect import bisect_left, bisect_right\n",
    "\n",
    "a = [1, 2, 4, 4, 8]\n",
    "\n",
    "x = 4\n",
    "\n",
    "print(bisect_left(a, x)) # 2다음 위치에 4를 삽입 따라서 인덱스는 2\n",
    "print(bisect_right(a, x)) # 오른쪽 4 다음 위치에 삽입 따라서 인덱스는 4\n"
   ]
  },
  {
   "cell_type": "code",
   "execution_count": 37,
   "id": "12a523aa",
   "metadata": {},
   "outputs": [
    {
     "name": "stdout",
     "output_type": "stream",
     "text": [
      "6\n",
      "2\n"
     ]
    }
   ],
   "source": [
    "# bisect_left(), bisect_right() 활용 특정 원소 개수찾기\n",
    "\n",
    "from bisect import bisect_left, bisect_right\n",
    "\n",
    "# 값이 [left_value, right_value]인 데이터의 개수를 반환하는 함수\n",
    "def count_by_range(a, left_value, right_value):\n",
    "    \n",
    "    right_index = bisect_right(a, right_value)\n",
    "    left_index = bisect_left(a, left_value)\n",
    "    return right_index - left_index\n",
    "\n",
    "a = [1, 2, 3, 3, 3, 3, 4, 4, 8, 8]\n",
    "\n",
    "# 값이 [-1, 3] 범위에 있는 데이터 개수 출력\n",
    "print(count_by_range(a, -1, 3))\n",
    "\n",
    "# 값이 4인 데이터 개수 출력\n",
    "print(count_by_range(a, 4, 4))"
   ]
  },
  {
   "cell_type": "markdown",
   "id": "83656091",
   "metadata": {},
   "source": [
    "### collections\n",
    "\n",
    "##### deque\n",
    "\n",
    "- 유용한 자료 구조를 제공하는 표준 라이브러리, 특히 deque 와 counter는 알고가야함\n",
    "- deque는 큐를 구현 할때 사용됨, deque 는 인덱싱을 사용 할 수 없음\n",
    "- 다만, 시작과 마지막에 데이터를 추가할 경우 매우 효과적으로 사용됨(시간복잡도 O(1))\n",
    "- 왼쪽에 추가 할때 appendleft(), 마지막에 추가할때 append(), 왼쪽(첫번째 원소제거) popleft(), 마지막 원소를 제거할 때 pop()"
   ]
  },
  {
   "cell_type": "code",
   "execution_count": 39,
   "id": "970abea0",
   "metadata": {},
   "outputs": [
    {
     "name": "stdout",
     "output_type": "stream",
     "text": [
      "deque([1, 2, 3, 4])\n",
      "deque([0, 1, 2, 3, 4, 5])\n"
     ]
    }
   ],
   "source": [
    "from collections import deque\n",
    "\n",
    "data = deque([1, 2, 3, 4])\n",
    "print(data)\n",
    "data.appendleft(0)\n",
    "data.append(5)\n",
    "print(data)"
   ]
  },
  {
   "cell_type": "markdown",
   "id": "1e4841fe",
   "metadata": {},
   "source": [
    "#### counter\n",
    "\n",
    "- 등장 횟수를 세는 기능을 제공\n",
    "- iterable한 객체가 주어졌을 때, 해당 객체 내부의 원소가 몇 번씩 등장했는지 열려줌\n",
    "- dictionary 구조로 들어감"
   ]
  },
  {
   "cell_type": "code",
   "execution_count": 40,
   "id": "ff8f3e00",
   "metadata": {},
   "outputs": [
    {
     "name": "stdout",
     "output_type": "stream",
     "text": [
      "Counter({'red': 3, 'blue': 3, 'green': 1})\n",
      "3\n",
      "3\n",
      "1\n"
     ]
    }
   ],
   "source": [
    "# 원소별 등장 횟수 세기\n",
    "\n",
    "from collections import Counter\n",
    "\n",
    "counter = Counter(['red', 'blue', 'green','red', 'red', 'blue', 'blue'])\n",
    "\n",
    "print(counter)\n",
    "print(counter['red'])\n",
    "print(counter['blue'])\n",
    "print(counter['green'])"
   ]
  },
  {
   "cell_type": "markdown",
   "id": "2aee06cc",
   "metadata": {},
   "source": [
    "###  math\n",
    "\n",
    "- 팩토리얼, 최대공약수, 최소공배수 등을 계산해주는 기능을 포함하고 있음"
   ]
  },
  {
   "cell_type": "code",
   "execution_count": 53,
   "id": "e9917b96",
   "metadata": {},
   "outputs": [
    {
     "name": "stdout",
     "output_type": "stream",
     "text": [
      "24\n",
      "4.0\n",
      "7\n",
      "3.141592653589793\n",
      "2.718281828459045\n"
     ]
    }
   ],
   "source": [
    "import math\n",
    "# math.lcm은 3.9 부터 사용가능\n",
    "\n",
    "print(math.factorial(4))\n",
    "print(math.sqrt(16))\n",
    "print(math.gcd(21, 14))\n",
    "print(math.pi)\n",
    "print(math.e)"
   ]
  },
  {
   "cell_type": "code",
   "execution_count": null,
   "id": "bc0c291f",
   "metadata": {},
   "outputs": [],
   "source": []
  },
  {
   "cell_type": "code",
   "execution_count": null,
   "id": "3ddf59b3",
   "metadata": {},
   "outputs": [],
   "source": []
  }
 ],
 "metadata": {
  "jupytext": {
   "formats": "ipynb,auto:light"
  },
  "kernelspec": {
   "display_name": "Python 3",
   "language": "python",
   "name": "python3"
  },
  "language_info": {
   "codemirror_mode": {
    "name": "ipython",
    "version": 3
   },
   "file_extension": ".py",
   "mimetype": "text/x-python",
   "name": "python",
   "nbconvert_exporter": "python",
   "pygments_lexer": "ipython3",
   "version": "3.8.10"
  }
 },
 "nbformat": 4,
 "nbformat_minor": 5
}
