{
 "cells": [
  {
   "cell_type": "markdown",
   "id": "21386186",
   "metadata": {},
   "source": [
    "### TextBlob\n",
    "- 익숙한 인터페이스를 통해 일반적인 테스트 처리 작업에 대한 엑세스를 제공\n",
    "- TextBlob 객체를 자연어 처리를 수행하는 방법을 학습 한 Python 문자열 인 것처럼 볼 수 있다"
   ]
  },
  {
   "cell_type": "code",
   "execution_count": 3,
   "id": "bf166d4f",
   "metadata": {},
   "outputs": [],
   "source": [
    "from textblob import TextBlob as tb\n",
    "import nltk\n",
    "import pandas as pd\n"
   ]
  },
  {
   "cell_type": "code",
   "execution_count": 4,
   "id": "f619762d",
   "metadata": {},
   "outputs": [],
   "source": [
    "txt1=tb('맥주가 좋았습니다.')\n",
    "txt2=tb('Beer was good.')\n"
   ]
  },
  {
   "cell_type": "code",
   "execution_count": 5,
   "id": "f68f1a60",
   "metadata": {},
   "outputs": [
    {
     "name": "stdout",
     "output_type": "stream",
     "text": [
      "txt1 :  ko\n",
      "txt2 :  en\n"
     ]
    }
   ],
   "source": [
    "#### TextBlob를 이용한 언어 확인\n",
    "print('txt1 : ', txt1.detect_language())\n",
    "print('txt2 : ', txt2.detect_language())\n"
   ]
  },
  {
   "cell_type": "code",
   "execution_count": 7,
   "id": "3ba8bbc1",
   "metadata": {},
   "outputs": [
    {
     "name": "stdout",
     "output_type": "stream",
     "text": [
      "Beer was good.\n",
      "ビールは良かった。\n"
     ]
    }
   ],
   "source": [
    "#### TextBlob를 이용한 언어 번역\n",
    "print(txt1.translate(to='en'))\n",
    "print(txt2.translate(to='ja'))\n"
   ]
  },
  {
   "cell_type": "markdown",
   "id": "71ba7398",
   "metadata": {},
   "source": [
    "### 영어 문자 감정(긍부정) 분류\n",
    "- 긍정 및 부정 문장을 먼저 학습하고 이후 데이터에 대하여 긍부정 분석\n",
    "- 학습 세트/ 테스트 세트"
   ]
  },
  {
   "cell_type": "code",
   "execution_count": 8,
   "id": "c86ceaa2",
   "metadata": {},
   "outputs": [],
   "source": [
    "from textblob.classifiers import NaiveBayesClassifier"
   ]
  },
  {
   "cell_type": "code",
   "execution_count": 9,
   "id": "313e6c01",
   "metadata": {},
   "outputs": [],
   "source": [
    "## 학습세트 제작\n",
    "train = [('I love this sandwich.', 'pos'),\n",
    "         ('This is an amazing place!', 'pos'),\n",
    "         ('I feel very good about these beers.', 'pos'),\n",
    "         ('This is my best work.', 'pos'),\n",
    "         (\"What an awesome view\", 'pos'),\n",
    "         ('I do not like this restaurant', 'neg'),\n",
    "         ('I am tired of this stuff.', 'neg'),\n",
    "         (\"I can't deal with this\", 'neg'),\n",
    "         ('He is my sworn enemy!', 'neg'),\n",
    "         ('My boss is horrible.', 'neg')]\n"
   ]
  },
  {
   "cell_type": "code",
   "execution_count": 10,
   "id": "93677757",
   "metadata": {},
   "outputs": [],
   "source": [
    "## 테스트 세트\n",
    "test = [('The beer was good.', 'pos'),\n",
    "        ('I do not enjoy my job', 'neg'),\n",
    "        (\"I ain't feeling dandy today.\", 'neg'),\n",
    "        (\"I feel amazing!\", 'pos'),\n",
    "        ('Gary is a friend of mine.', 'pos'),\n",
    "        (\"I can't believe I'm doing this.\", 'neg')]\n"
   ]
  },
  {
   "cell_type": "code",
   "execution_count": 14,
   "id": "41ce442e",
   "metadata": {},
   "outputs": [
    {
     "data": {
      "text/plain": [
       "<NaiveBayesClassifier trained on 10 instances>"
      ]
     },
     "execution_count": 14,
     "metadata": {},
     "output_type": "execute_result"
    }
   ],
   "source": [
    "### NaiveBayesClassifier 개체에 학습 데이트럴 입력하고 긍정/부정 모델 생성\n",
    "\n",
    "pos_neg = NaiveBayesClassifier(train)\n",
    "pos_neg"
   ]
  },
  {
   "cell_type": "code",
   "execution_count": 15,
   "id": "d934e46b",
   "metadata": {},
   "outputs": [
    {
     "name": "stdout",
     "output_type": "stream",
     "text": [
      "pos\n",
      "neg\n"
     ]
    }
   ],
   "source": [
    "print(pos_neg.classify(\"Their burgers are amazing\"))\n",
    "print(pos_neg.classify(\"I don't like their pizza.\"))"
   ]
  },
  {
   "cell_type": "code",
   "execution_count": 19,
   "id": "a68744c0",
   "metadata": {},
   "outputs": [
    {
     "name": "stdout",
     "output_type": "stream",
     "text": [
      "neg\n"
     ]
    }
   ],
   "source": [
    "# TextBlob 객체를 사용하여 여러 문장을 입력후 문장 전체 긍부정 확인\n",
    "tag2 = tb(\"The beer was amazing. But the hangover was horrible. My boss was not happy.\",\n",
    "         classifier=pos_neg)\n",
    "print(tag2.classify())"
   ]
  },
  {
   "cell_type": "code",
   "execution_count": 20,
   "id": "3fb72230",
   "metadata": {},
   "outputs": [
    {
     "name": "stdout",
     "output_type": "stream",
     "text": [
      "The beer was amazing. , pos\n",
      "But the hangover was horrible. , neg\n",
      "My boss was not happy. , neg\n"
     ]
    }
   ],
   "source": [
    "### tag2 입력한 문장을 분리해 긍정/부정 확인\n",
    "for sen in tag2.sentences:\n",
    "    print(sen,',',sen.classify())"
   ]
  },
  {
   "cell_type": "code",
   "execution_count": 22,
   "id": "2df564b5",
   "metadata": {},
   "outputs": [
    {
     "name": "stdout",
     "output_type": "stream",
     "text": [
      "0.8333333333333334\n"
     ]
    }
   ],
   "source": [
    "# 테스트 데이터를 이용해 전체 긍정/부정 테스트해 결과 확인\n",
    "test_acc=pos_neg.accuracy(test)\n",
    "print(test_acc)\n"
   ]
  },
  {
   "cell_type": "code",
   "execution_count": 23,
   "id": "e2205ce9",
   "metadata": {},
   "outputs": [
    {
     "name": "stdout",
     "output_type": "stream",
     "text": [
      "Most Informative Features\n",
      "          contains(this) = True              neg : pos    =      2.3 : 1.0\n",
      "          contains(this) = False             pos : neg    =      1.8 : 1.0\n",
      "          contains(This) = False             neg : pos    =      1.6 : 1.0\n",
      "            contains(an) = False             neg : pos    =      1.6 : 1.0\n",
      "             contains(I) = False             pos : neg    =      1.4 : 1.0\n",
      "             contains(I) = True              neg : pos    =      1.4 : 1.0\n",
      "            contains(He) = False             pos : neg    =      1.2 : 1.0\n",
      "            contains(My) = False             pos : neg    =      1.2 : 1.0\n",
      "          contains(What) = False             neg : pos    =      1.2 : 1.0\n",
      "         contains(about) = False             neg : pos    =      1.2 : 1.0\n",
      "None\n"
     ]
    }
   ],
   "source": [
    "# show_informative_features를 실행하여 분류기가 어떤 기준으로 분류하는지 확인\n",
    "print(pos_neg.show_informative_features(10))\n"
   ]
  },
  {
   "cell_type": "code",
   "execution_count": null,
   "id": "37220bfa",
   "metadata": {},
   "outputs": [],
   "source": []
  },
  {
   "cell_type": "code",
   "execution_count": null,
   "id": "1416c6f2",
   "metadata": {},
   "outputs": [],
   "source": []
  },
  {
   "cell_type": "code",
   "execution_count": null,
   "id": "5fad2e3c",
   "metadata": {},
   "outputs": [],
   "source": []
  },
  {
   "cell_type": "code",
   "execution_count": null,
   "id": "534725bf",
   "metadata": {},
   "outputs": [],
   "source": []
  },
  {
   "cell_type": "code",
   "execution_count": null,
   "id": "be1c5925",
   "metadata": {},
   "outputs": [],
   "source": []
  }
 ],
 "metadata": {
  "kernelspec": {
   "display_name": "Python 3",
   "language": "python",
   "name": "python3"
  },
  "language_info": {
   "codemirror_mode": {
    "name": "ipython",
    "version": 3
   },
   "file_extension": ".py",
   "mimetype": "text/x-python",
   "name": "python",
   "nbconvert_exporter": "python",
   "pygments_lexer": "ipython3",
   "version": "3.8.10"
  }
 },
 "nbformat": 4,
 "nbformat_minor": 5
}
