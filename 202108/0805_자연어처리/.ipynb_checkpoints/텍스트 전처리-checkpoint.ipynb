{
 "cells": [
  {
   "cell_type": "markdown",
   "id": "75bdb0f3",
   "metadata": {},
   "source": [
    "####  딥러닝을 위한 텍스트 전처리\n",
    ": 용도에 맞게 텍스트를 사전에 처리하는 작업\n",
    "\n",
    "\n",
    "- 토큰화(Tokenization)\n",
    "- 정제(Cleaning) and 정규화(Normalization)\n",
    "    - 정제(cleaning) : 갖고 있는 코퍼스로부터 노이즈 데이터를 제거\n",
    "    - 정규화(Normalization) : 표현 방법이 다른 단어들을 통합시켜서 같은 단어로 만듬\n",
    "- 표제어 추출(lemmatization)과 어간 추출(stemming)\n",
    "    - 어간(stem) : 단어의 의미를 담고 있는 단어의 핵심 부분\n",
    "    - 접사(affix) : 단어에 추가적인 의미를 주는 부분\n",
    "- 불용어(stopword)\n",
    "- 정규 표현식(Regular Expresiion)\n",
    "- 정수 인코딩(Integer Encoding): 텍스트를 숫자로 바꾸는 여러가지 기법(각 단어를 고유한 정수에 맵핑(mapping))\n",
    "- 패딩(Padding) : 병렬 연산을 위해서 여러 문장의 길이를 임의로 동일하게 맞춰주는 작업\n",
    "- 원-핫 인코딩(One-Hot Encoding) : 자연어 처리에서는 문자를 숫자로 바꾸는 여러가지 기법\n",
    "- 데이터의 분리(Splitting Data): 머신 러닝(딥러닝) 모델에 데이터를 훈련시키기 위해서 데이터를 적절히 분리하는 작업"
   ]
  },
  {
   "cell_type": "markdown",
   "id": "f6f2e961",
   "metadata": {},
   "source": [
    "### 영어 문장\n",
    "\n",
    "#### 토큰화(Tokenization)\n",
    "- 규칙 1. 하이픈으로 구성된 단어는 하나로 유지한다\n",
    "- 규칙 2. doesn't와 같이 어퍼스트로피로 '접어'가 함께하는 단어는 분리해준다"
   ]
  },
  {
   "cell_type": "code",
   "execution_count": 1,
   "id": "e0fc3bb6",
   "metadata": {},
   "outputs": [
    {
     "name": "stdout",
     "output_type": "stream",
     "text": [
      "['Starting', 'a', 'home-based', 'restaurant', 'may', 'be', 'an', 'ideal.', 'it', 'does', \"n't\", 'have', 'a', 'food', 'chain', 'or', 'restaurant', 'of', 'their', 'own', '.']\n"
     ]
    }
   ],
   "source": [
    "from nltk.tokenize import TreebankWordTokenizer\n",
    "\n",
    "tokenizer=TreebankWordTokenizer()\n",
    "text=\"Starting a home-based restaurant may be an ideal. it doesn't have a food chain or restaurant of their own.\"\n",
    "print(tokenizer.tokenize(text))\n"
   ]
  },
  {
   "cell_type": "markdown",
   "id": "adf9ebd7",
   "metadata": {},
   "source": [
    "#### 문장 토큰화"
   ]
  },
  {
   "cell_type": "code",
   "execution_count": 2,
   "id": "a382e066",
   "metadata": {},
   "outputs": [
    {
     "name": "stdout",
     "output_type": "stream",
     "text": [
      "['His barber kept his word.', 'But keeping such a huge secret to himself was driving him crazy.', 'Finally, the barber went up a mountain and almost to the edge of a cliff.', 'He dug a hole in the midst of some reeds.', 'He looked about, to make sure no one was near.']\n"
     ]
    }
   ],
   "source": [
    "from nltk.tokenize import sent_tokenize\n",
    "text=\"His barber kept his word. But keeping such a huge secret to himself was driving him crazy. Finally, the barber went up a mountain and almost to the edge of a cliff. He dug a hole in the midst of some reeds. He looked about, to make sure no one was near.\"\n",
    "print(sent_tokenize(text))\n"
   ]
  },
  {
   "cell_type": "code",
   "execution_count": 3,
   "id": "4c6abfbb",
   "metadata": {},
   "outputs": [
    {
     "name": "stdout",
     "output_type": "stream",
     "text": [
      "['I am actively looking for Ph.D. students.', 'and you are a Ph.D student.']\n"
     ]
    }
   ],
   "source": [
    "from nltk.tokenize import sent_tokenize\n",
    "text=\"I am actively looking for Ph.D. students. and you are a Ph.D student.\"\n",
    "print(sent_tokenize(text))\n"
   ]
  },
  {
   "cell_type": "markdown",
   "id": "57dfdce0",
   "metadata": {},
   "source": [
    "### 한글 문장 토큰화\n",
    "#### 한글 토큰화\n",
    "- konlpy 모듈 # https://iostream.tistory.com/144 성능비교\n",
    "\n",
    "    - Kkma, Hannannum, KOMORAN, mecab\n",
    "    - morphs : 형태소 추출/ pos : 품사 태킹(Part-of speech tagging) / nouns : 명사추출\n",
    "- ckonlpy.Twitter( konlpy는 아님 사전추가)\n"
   ]
  },
  {
   "cell_type": "code",
   "execution_count": 4,
   "id": "75b32a3a",
   "metadata": {},
   "outputs": [
    {
     "data": {
      "text/plain": [
       "[('딥', 'Noun'),\n",
       " ('러닝', 'Noun'),\n",
       " ('자연어', 'Noun'),\n",
       " ('처리', 'Noun'),\n",
       " ('가', 'Josa'),\n",
       " ('재미있기는', 'Adjective'),\n",
       " ('합니다', 'Verb'),\n",
       " ('.', 'Punctuation'),\n",
       " ('그런데', 'Conjunction'),\n",
       " ('문제', 'Noun'),\n",
       " ('는', 'Josa'),\n",
       " ('영어', 'Noun'),\n",
       " ('보다', 'Josa'),\n",
       " ('한국어', 'Noun'),\n",
       " ('로', 'Josa'),\n",
       " ('할', 'Verb'),\n",
       " ('때', 'Noun'),\n",
       " ('너무', 'Adverb'),\n",
       " ('어려워요', 'Adjective'),\n",
       " ('.', 'Punctuation'),\n",
       " ('농담', 'Noun'),\n",
       " ('아니에요', 'Adjective'),\n",
       " ('.', 'Punctuation'),\n",
       " ('이제', 'Noun'),\n",
       " ('해보면', 'Verb'),\n",
       " ('알걸', 'Noun'),\n",
       " ('요', 'Josa'),\n",
       " ('?', 'Punctuation')]"
      ]
     },
     "execution_count": 4,
     "metadata": {},
     "output_type": "execute_result"
    }
   ],
   "source": [
    "from konlpy.tag import Okt\n",
    "text = '딥 러닝 자연어 처리가 재미있기는 합니다. 그런데 문제는 영어보다 한국어로 할 때 너무 어려워요. 농담아니에요. 이제 해보면 알걸요?'\n",
    "\n",
    "okt = Okt()\n",
    "okt.pos(text)"
   ]
  },
  {
   "cell_type": "code",
   "execution_count": 9,
   "id": "a41430dc",
   "metadata": {},
   "outputs": [
    {
     "name": "stdout",
     "output_type": "stream",
     "text": [
      "['딥', '러닝', '자연어', '처리', '가', '재미있기는', '합니다', '.', '그런데', '문제', '는', '영어', '보다', '한국어', '로', '할', '때', '너무', '어려워요', '.', '농담', '아니에요', '.', '이제', '해보면', '알걸', '요', '?']\n",
      "\n",
      "[('딥', 'Noun'), ('러닝', 'Noun'), ('자연어', 'Noun'), ('처리', 'Noun'), ('가', 'Josa'), ('재미있기는', 'Adjective'), ('합니다', 'Verb'), ('.', 'Punctuation'), ('그런데', 'Conjunction'), ('문제', 'Noun'), ('는', 'Josa'), ('영어', 'Noun'), ('보다', 'Josa'), ('한국어', 'Noun'), ('로', 'Josa'), ('할', 'Verb'), ('때', 'Noun'), ('너무', 'Adverb'), ('어려워요', 'Adjective'), ('.', 'Punctuation'), ('농담', 'Noun'), ('아니에요', 'Adjective'), ('.', 'Punctuation'), ('이제', 'Noun'), ('해보면', 'Verb'), ('알걸', 'Noun'), ('요', 'Josa'), ('?', 'Punctuation')]\n",
      "\n",
      "['딥', '러닝', '자연어', '처리', '문제', '영어', '한국어', '때', '농담', '이제', '알걸']\n"
     ]
    }
   ],
   "source": [
    "print(okt.morphs(text))\n",
    "print()\n",
    "print(okt.pos(text))\n",
    "print()\n",
    "print(okt.nouns(text))"
   ]
  },
  {
   "cell_type": "code",
   "execution_count": 10,
   "id": "fe397250",
   "metadata": {},
   "outputs": [
    {
     "name": "stdout",
     "output_type": "stream",
     "text": [
      "Collecting kss\n",
      "  Downloading kss-2.5.1-py3-none-any.whl (65 kB)\n",
      "Installing collected packages: kss\n",
      "Successfully installed kss-2.5.1\n"
     ]
    }
   ],
   "source": [
    "#!pip install kss "
   ]
  },
  {
   "cell_type": "markdown",
   "id": "208251ac",
   "metadata": {},
   "source": [
    "### 한글 문장 단위로 보기\n",
    "\n",
    "#### KSS(Korean Sentence Splitter) : 한글 문장 토큰화 도구"
   ]
  },
  {
   "cell_type": "code",
   "execution_count": 11,
   "id": "5414114b",
   "metadata": {},
   "outputs": [
    {
     "name": "stdout",
     "output_type": "stream",
     "text": [
      "['딥 러닝 자연어 처리가 재미있기는 합니다.', '그런데 문제는 영어보다 한국어로 할 때 너무 어려워요.', '농담아니에요.', '이제 해보면 알걸요?']\n"
     ]
    }
   ],
   "source": [
    "import kss\n",
    "\n",
    "text='딥 러닝 자연어 처리가 재미있기는 합니다. 그런데 문제는 영어보다 한국어로 할 때 너무 어려워요. 농담아니에요. 이제 해보면 알걸요?'\n",
    "\n",
    "print(kss.split_sentences(text))\n"
   ]
  },
  {
   "cell_type": "markdown",
   "id": "9f559e1a",
   "metadata": {},
   "source": [
    "####  한국어 어간 추출\n",
    "\n",
    "- 언 -----------품사\n",
    "- 체언----------명사, 대명사,수사\n",
    "- 수식언--------관형사, 부사\n",
    "- 관계언--------조사\n",
    "- 독립언--------감탄사\n",
    "- 용언----------동사, 형용사"
   ]
  },
  {
   "cell_type": "markdown",
   "id": "5a05b8a8",
   "metadata": {},
   "source": [
    "#### 불용어(Stopword) 처리\n",
    "\n",
    "- 유의미한 단어 토큰만을 선별하기 위해서는 큰 의마가 없는 단어 토큰을 제거하는 작업\n",
    "- 한국어 불용어 리스트: https://bab2min.tistory.com/544\n"
   ]
  },
  {
   "cell_type": "code",
   "execution_count": 13,
   "id": "38ba69fa",
   "metadata": {},
   "outputs": [
    {
     "data": {
      "text/plain": [
       "['i', 'me', 'my', 'myself', 'we', 'our', 'ours', 'ourselves', 'you', \"you're\"]"
      ]
     },
     "execution_count": 13,
     "metadata": {},
     "output_type": "execute_result"
    }
   ],
   "source": [
    "from nltk.corpus import stopwords  \n",
    "stopwords.words('english')[:10]\n",
    "# 영어는 nltk 에서 제공해줌"
   ]
  },
  {
   "cell_type": "code",
   "execution_count": 15,
   "id": "b4ea4871",
   "metadata": {},
   "outputs": [
    {
     "name": "stdout",
     "output_type": "stream",
     "text": [
      "['Family', 'is', 'not', 'an', 'important', 'thing', '.', 'It', \"'s\", 'everything', '.']\n",
      "['Family', 'important', 'thing', '.', 'It', \"'s\", 'everything', '.']\n"
     ]
    }
   ],
   "source": [
    "# 영어 불용어 처리하기\n",
    "from nltk.corpus import stopwords \n",
    "from nltk.tokenize import word_tokenize \n",
    "\n",
    "example = \"Family is not an important thing. It's everything.\"\n",
    "stop_words = set(stopwords.words('english')) \n",
    "\n",
    "word_tokens = word_tokenize(example)\n",
    "\n",
    "result = [w for w in word_tokens if w not in stop_words] \n",
    "\n",
    "print(word_tokens) \n",
    "print(result)\n"
   ]
  },
  {
   "cell_type": "code",
   "execution_count": 17,
   "id": "9bd1a096",
   "metadata": {},
   "outputs": [
    {
     "name": "stdout",
     "output_type": "stream",
     "text": [
      "['고기를', '아무렇게나', '구우려고', '하면', '안', '돼', '.', '고기라고', '다', '같은', '게', '아니거든', '.', '예컨대', '삼겹살을', '구울', '때는', '중요한', '게', '있지', '.']\n",
      "['고기를', '구우려고', '안', '돼', '.', '고기라고', '다', '같은', '게', '.', '삼겹살을', '구울', '때는', '중요한', '게', '있지', '.']\n"
     ]
    }
   ],
   "source": [
    "# 한국어 불용어 리스트: https://bab2min.tistory.com/544\n",
    "\n",
    "from nltk.corpus import stopwords \n",
    "from nltk.tokenize import word_tokenize \n",
    "\n",
    "example = \"고기를 아무렇게나 구우려고 하면 안 돼. 고기라고 다 같은 게 아니거든. 예컨대 삼겹살을 구울 때는 중요한 게 있지.\"\n",
    "stop_words = \"아무거나 아무렇게나 어찌하든지 같다 비슷하다 예컨대 이럴정도로 하면 아니거든\"\n",
    "# 위의 불용어는 명사가 아닌 단어 중에서 저자가 임의로 선정한 것으로 실제 의미있는 선정 기준이 아님\n",
    "stop_words=stop_words.split(' ')\n",
    "word_tokens = word_tokenize(example)\n",
    "\n",
    "result = [w for w in word_tokens if w not in stop_words] \n",
    "\n",
    "print(word_tokens) \n",
    "print(result)"
   ]
  },
  {
   "cell_type": "code",
   "execution_count": null,
   "id": "214c45fb",
   "metadata": {},
   "outputs": [],
   "source": []
  }
 ],
 "metadata": {
  "jupytext": {
   "formats": "ipynb,auto:light"
  },
  "kernelspec": {
   "display_name": "Python 3",
   "language": "python",
   "name": "python3"
  },
  "language_info": {
   "codemirror_mode": {
    "name": "ipython",
    "version": 3
   },
   "file_extension": ".py",
   "mimetype": "text/x-python",
   "name": "python",
   "nbconvert_exporter": "python",
   "pygments_lexer": "ipython3",
   "version": "3.8.10"
  }
 },
 "nbformat": 4,
 "nbformat_minor": 5
}
