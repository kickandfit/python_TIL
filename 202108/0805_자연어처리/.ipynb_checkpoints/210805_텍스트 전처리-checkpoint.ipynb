{
 "cells": [
  {
   "cell_type": "markdown",
   "id": "75bdb0f3",
   "metadata": {},
   "source": [
    "####  딥러닝을 위한 텍스트 전처리\n",
    ": 용도에 맞게 텍스트를 사전에 처리하는 작업\n",
    "\n",
    "\n",
    "- 토큰화(Tokenization)\n",
    "- 정제(Cleaning) and 정규화(Normalization)\n",
    "    - 정제(cleaning) : 갖고 있는 코퍼스로부터 노이즈 데이터를 제거\n",
    "    - 정규화(Normalization) : 표현 방법이 다른 단어들을 통합시켜서 같은 단어로 만듬\n",
    "- 표제어 추출(lemmatization)과 어간 추출(stemming)\n",
    "    - 어간(stem) : 단어의 의미를 담고 있는 단어의 핵심 부분\n",
    "    - 접사(affix) : 단어에 추가적인 의미를 주는 부분\n",
    "- 불용어(stopword)\n",
    "- 정규 표현식(Regular Expresiion)\n",
    "- 정수 인코딩(Integer Encoding): 텍스트를 숫자로 바꾸는 여러가지 기법(각 단어를 고유한 정수에 맵핑(mapping))\n",
    "- 패딩(Padding) : 병렬 연산을 위해서 여러 문장의 길이를 임의로 동일하게 맞춰주는 작업\n",
    "- 원-핫 인코딩(One-Hot Encoding) : 자연어 처리에서는 문자를 숫자로 바꾸는 여러가지 기법\n",
    "- 데이터의 분리(Splitting Data): 머신 러닝(딥러닝) 모델에 데이터를 훈련시키기 위해서 데이터를 적절히 분리하는 작업"
   ]
  },
  {
   "cell_type": "markdown",
   "id": "f6f2e961",
   "metadata": {},
   "source": [
    "### 영어 문장\n",
    "\n",
    "#### 토큰화(Tokenization)\n",
    "- 규칙 1. 하이픈으로 구성된 단어는 하나로 유지한다\n",
    "- 규칙 2. doesn't와 같이 어퍼스트로피로 '접어'가 함께하는 단어는 분리해준다"
   ]
  },
  {
   "cell_type": "code",
   "execution_count": 1,
   "id": "e0fc3bb6",
   "metadata": {},
   "outputs": [
    {
     "name": "stdout",
     "output_type": "stream",
     "text": [
      "['Starting', 'a', 'home-based', 'restaurant', 'may', 'be', 'an', 'ideal.', 'it', 'does', \"n't\", 'have', 'a', 'food', 'chain', 'or', 'restaurant', 'of', 'their', 'own', '.']\n"
     ]
    }
   ],
   "source": [
    "from nltk.tokenize import TreebankWordTokenizer\n",
    "\n",
    "tokenizer=TreebankWordTokenizer()\n",
    "text=\"Starting a home-based restaurant may be an ideal. it doesn't have a food chain or restaurant of their own.\"\n",
    "print(tokenizer.tokenize(text))\n"
   ]
  },
  {
   "cell_type": "markdown",
   "id": "adf9ebd7",
   "metadata": {},
   "source": [
    "#### 문장 토큰화"
   ]
  },
  {
   "cell_type": "code",
   "execution_count": 2,
   "id": "a382e066",
   "metadata": {},
   "outputs": [
    {
     "name": "stdout",
     "output_type": "stream",
     "text": [
      "['His barber kept his word.', 'But keeping such a huge secret to himself was driving him crazy.', 'Finally, the barber went up a mountain and almost to the edge of a cliff.', 'He dug a hole in the midst of some reeds.', 'He looked about, to make sure no one was near.']\n"
     ]
    }
   ],
   "source": [
    "from nltk.tokenize import sent_tokenize\n",
    "text=\"His barber kept his word. But keeping such a huge secret to himself was driving him crazy. Finally, the barber went up a mountain and almost to the edge of a cliff. He dug a hole in the midst of some reeds. He looked about, to make sure no one was near.\"\n",
    "print(sent_tokenize(text))\n"
   ]
  },
  {
   "cell_type": "code",
   "execution_count": 3,
   "id": "4c6abfbb",
   "metadata": {},
   "outputs": [
    {
     "name": "stdout",
     "output_type": "stream",
     "text": [
      "['I am actively looking for Ph.D. students.', 'and you are a Ph.D student.']\n"
     ]
    }
   ],
   "source": [
    "from nltk.tokenize import sent_tokenize\n",
    "text=\"I am actively looking for Ph.D. students. and you are a Ph.D student.\"\n",
    "print(sent_tokenize(text))\n"
   ]
  },
  {
   "cell_type": "markdown",
   "id": "57dfdce0",
   "metadata": {},
   "source": [
    "### 한글 문장 토큰화\n",
    "#### 한글 토큰화\n",
    "- konlpy 모듈 # https://iostream.tistory.com/144 성능비교\n",
    "\n",
    "    - Kkma, Hannannum, KOMORAN, mecab\n",
    "    - morphs : 형태소 추출/ pos : 품사 태킹(Part-of speech tagging) / nouns : 명사추출\n",
    "- ckonlpy.Twitter( konlpy는 아님 사전추가)\n"
   ]
  },
  {
   "cell_type": "code",
   "execution_count": 4,
   "id": "75b32a3a",
   "metadata": {},
   "outputs": [
    {
     "data": {
      "text/plain": [
       "[('딥', 'Noun'),\n",
       " ('러닝', 'Noun'),\n",
       " ('자연어', 'Noun'),\n",
       " ('처리', 'Noun'),\n",
       " ('가', 'Josa'),\n",
       " ('재미있기는', 'Adjective'),\n",
       " ('합니다', 'Verb'),\n",
       " ('.', 'Punctuation'),\n",
       " ('그런데', 'Conjunction'),\n",
       " ('문제', 'Noun'),\n",
       " ('는', 'Josa'),\n",
       " ('영어', 'Noun'),\n",
       " ('보다', 'Josa'),\n",
       " ('한국어', 'Noun'),\n",
       " ('로', 'Josa'),\n",
       " ('할', 'Verb'),\n",
       " ('때', 'Noun'),\n",
       " ('너무', 'Adverb'),\n",
       " ('어려워요', 'Adjective'),\n",
       " ('.', 'Punctuation'),\n",
       " ('농담', 'Noun'),\n",
       " ('아니에요', 'Adjective'),\n",
       " ('.', 'Punctuation'),\n",
       " ('이제', 'Noun'),\n",
       " ('해보면', 'Verb'),\n",
       " ('알걸', 'Noun'),\n",
       " ('요', 'Josa'),\n",
       " ('?', 'Punctuation')]"
      ]
     },
     "execution_count": 4,
     "metadata": {},
     "output_type": "execute_result"
    }
   ],
   "source": [
    "from konlpy.tag import Okt\n",
    "text = '딥 러닝 자연어 처리가 재미있기는 합니다. 그런데 문제는 영어보다 한국어로 할 때 너무 어려워요. 농담아니에요. 이제 해보면 알걸요?'\n",
    "\n",
    "okt = Okt()\n",
    "okt.pos(text)"
   ]
  },
  {
   "cell_type": "code",
   "execution_count": 9,
   "id": "a41430dc",
   "metadata": {},
   "outputs": [
    {
     "name": "stdout",
     "output_type": "stream",
     "text": [
      "['딥', '러닝', '자연어', '처리', '가', '재미있기는', '합니다', '.', '그런데', '문제', '는', '영어', '보다', '한국어', '로', '할', '때', '너무', '어려워요', '.', '농담', '아니에요', '.', '이제', '해보면', '알걸', '요', '?']\n",
      "\n",
      "[('딥', 'Noun'), ('러닝', 'Noun'), ('자연어', 'Noun'), ('처리', 'Noun'), ('가', 'Josa'), ('재미있기는', 'Adjective'), ('합니다', 'Verb'), ('.', 'Punctuation'), ('그런데', 'Conjunction'), ('문제', 'Noun'), ('는', 'Josa'), ('영어', 'Noun'), ('보다', 'Josa'), ('한국어', 'Noun'), ('로', 'Josa'), ('할', 'Verb'), ('때', 'Noun'), ('너무', 'Adverb'), ('어려워요', 'Adjective'), ('.', 'Punctuation'), ('농담', 'Noun'), ('아니에요', 'Adjective'), ('.', 'Punctuation'), ('이제', 'Noun'), ('해보면', 'Verb'), ('알걸', 'Noun'), ('요', 'Josa'), ('?', 'Punctuation')]\n",
      "\n",
      "['딥', '러닝', '자연어', '처리', '문제', '영어', '한국어', '때', '농담', '이제', '알걸']\n"
     ]
    }
   ],
   "source": [
    "print(okt.morphs(text))\n",
    "print()\n",
    "print(okt.pos(text))\n",
    "print()\n",
    "print(okt.nouns(text))"
   ]
  },
  {
   "cell_type": "code",
   "execution_count": 10,
   "id": "fe397250",
   "metadata": {},
   "outputs": [
    {
     "name": "stdout",
     "output_type": "stream",
     "text": [
      "Collecting kss\n",
      "  Downloading kss-2.5.1-py3-none-any.whl (65 kB)\n",
      "Installing collected packages: kss\n",
      "Successfully installed kss-2.5.1\n"
     ]
    }
   ],
   "source": [
    "#!pip install kss "
   ]
  },
  {
   "cell_type": "markdown",
   "id": "208251ac",
   "metadata": {},
   "source": [
    "### 한글 문장 단위로 보기\n",
    "\n",
    "#### KSS(Korean Sentence Splitter) : 한글 문장 토큰화 도구"
   ]
  },
  {
   "cell_type": "code",
   "execution_count": 11,
   "id": "5414114b",
   "metadata": {},
   "outputs": [
    {
     "name": "stdout",
     "output_type": "stream",
     "text": [
      "['딥 러닝 자연어 처리가 재미있기는 합니다.', '그런데 문제는 영어보다 한국어로 할 때 너무 어려워요.', '농담아니에요.', '이제 해보면 알걸요?']\n"
     ]
    }
   ],
   "source": [
    "import kss\n",
    "\n",
    "text='딥 러닝 자연어 처리가 재미있기는 합니다. 그런데 문제는 영어보다 한국어로 할 때 너무 어려워요. 농담아니에요. 이제 해보면 알걸요?'\n",
    "\n",
    "print(kss.split_sentences(text))\n"
   ]
  },
  {
   "cell_type": "markdown",
   "id": "9f559e1a",
   "metadata": {},
   "source": [
    "####  한국어 어간 추출\n",
    "\n",
    "- 언 -----------품사\n",
    "- 체언----------명사, 대명사,수사\n",
    "- 수식언--------관형사, 부사\n",
    "- 관계언--------조사\n",
    "- 독립언--------감탄사\n",
    "- 용언----------동사, 형용사"
   ]
  },
  {
   "cell_type": "markdown",
   "id": "5a05b8a8",
   "metadata": {},
   "source": [
    "#### 불용어(Stopword) 처리\n",
    "\n",
    "- 유의미한 단어 토큰만을 선별하기 위해서는 큰 의마가 없는 단어 토큰을 제거하는 작업\n",
    "- 한국어 불용어 리스트: https://bab2min.tistory.com/544\n"
   ]
  },
  {
   "cell_type": "code",
   "execution_count": 13,
   "id": "38ba69fa",
   "metadata": {},
   "outputs": [
    {
     "data": {
      "text/plain": [
       "['i', 'me', 'my', 'myself', 'we', 'our', 'ours', 'ourselves', 'you', \"you're\"]"
      ]
     },
     "execution_count": 13,
     "metadata": {},
     "output_type": "execute_result"
    }
   ],
   "source": [
    "from nltk.corpus import stopwords  \n",
    "stopwords.words('english')[:10]\n",
    "# 영어는 nltk 에서 제공해줌"
   ]
  },
  {
   "cell_type": "code",
   "execution_count": 15,
   "id": "b4ea4871",
   "metadata": {},
   "outputs": [
    {
     "name": "stdout",
     "output_type": "stream",
     "text": [
      "['Family', 'is', 'not', 'an', 'important', 'thing', '.', 'It', \"'s\", 'everything', '.']\n",
      "['Family', 'important', 'thing', '.', 'It', \"'s\", 'everything', '.']\n"
     ]
    }
   ],
   "source": [
    "# 영어 불용어 처리하기\n",
    "from nltk.corpus import stopwords \n",
    "from nltk.tokenize import word_tokenize \n",
    "\n",
    "example = \"Family is not an important thing. It's everything.\"\n",
    "stop_words = set(stopwords.words('english')) \n",
    "\n",
    "word_tokens = word_tokenize(example)\n",
    "\n",
    "result = [w for w in word_tokens if w not in stop_words] \n",
    "\n",
    "print(word_tokens) \n",
    "print(result)\n"
   ]
  },
  {
   "cell_type": "code",
   "execution_count": 17,
   "id": "9bd1a096",
   "metadata": {},
   "outputs": [
    {
     "name": "stdout",
     "output_type": "stream",
     "text": [
      "['고기를', '아무렇게나', '구우려고', '하면', '안', '돼', '.', '고기라고', '다', '같은', '게', '아니거든', '.', '예컨대', '삼겹살을', '구울', '때는', '중요한', '게', '있지', '.']\n",
      "['고기를', '구우려고', '안', '돼', '.', '고기라고', '다', '같은', '게', '.', '삼겹살을', '구울', '때는', '중요한', '게', '있지', '.']\n"
     ]
    }
   ],
   "source": [
    "# 한국어 불용어 리스트: https://bab2min.tistory.com/544\n",
    "\n",
    "from nltk.corpus import stopwords \n",
    "from nltk.tokenize import word_tokenize \n",
    "\n",
    "example = \"고기를 아무렇게나 구우려고 하면 안 돼. 고기라고 다 같은 게 아니거든. 예컨대 삼겹살을 구울 때는 중요한 게 있지.\"\n",
    "stop_words = \"아무거나 아무렇게나 어찌하든지 같다 비슷하다 예컨대 이럴정도로 하면 아니거든\"\n",
    "# 위의 불용어는 명사가 아닌 단어 중에서 저자가 임의로 선정한 것으로 실제 의미있는 선정 기준이 아님\n",
    "stop_words=stop_words.split(' ')\n",
    "word_tokens = word_tokenize(example)\n",
    "\n",
    "result = [w for w in word_tokens if w not in stop_words] \n",
    "\n",
    "print(word_tokens) \n",
    "print(result)"
   ]
  },
  {
   "cell_type": "markdown",
   "id": "10759605",
   "metadata": {},
   "source": [
    "####  정규 표현식(Regular Expression)\n",
    "\n",
    "- re 모듈\n",
    "- [문자] : 대괄호 안의 문자들 중 한 개의 문자와 매치, 예 -> [a-zA-Z가-힣0-9]/ [가나다]\n",
    "- [^문자] : 해당 문자를 제외한 문자를 매치\n"
   ]
  },
  {
   "cell_type": "markdown",
   "id": "9957fa7f",
   "metadata": {},
   "source": [
    "####  re 모듈에서 지원하는 함수\n",
    "- re.sub(정규식, 대체문자, 대상) : 문자열에서 정규 표현식과 일치하는 부분에 대해서 다른 문자열로 대체\n",
    "- re.split(정규식, 대상) : 입력된 정규 표현식을 기준으로 문자열들을 분리하여 리스트로 리턴\n",
    "- re.findall(정규식, 대상) : 정규 표현식과 매치되는 모든 문자열들을 리스트로 리턴"
   ]
  },
  {
   "cell_type": "code",
   "execution_count": 18,
   "id": "e654b3e1",
   "metadata": {},
   "outputs": [
    {
     "data": {
      "text/plain": [
       "['사과', '딸기', '수박', '메론', '바나나']"
      ]
     },
     "execution_count": 18,
     "metadata": {},
     "output_type": "execute_result"
    }
   ],
   "source": [
    "import re\n",
    "text=\"사과 딸기 수박 메론 바나나\"\n",
    "re.split(\" \",text)\n",
    "# text.split(\" \") 과 같음\n"
   ]
  },
  {
   "cell_type": "code",
   "execution_count": 19,
   "id": "7a50589c",
   "metadata": {},
   "outputs": [
    {
     "data": {
      "text/plain": [
       "['사과', '딸기', '수박', '메론', '바나나']"
      ]
     },
     "execution_count": 19,
     "metadata": {},
     "output_type": "execute_result"
    }
   ],
   "source": [
    "text=\"\"\"사과\n",
    "딸기\n",
    "수박\n",
    "메론\n",
    "바나나\"\"\"\n",
    "re.split(\"\\n\",text)\n"
   ]
  },
  {
   "cell_type": "code",
   "execution_count": 26,
   "id": "0f287678",
   "metadata": {},
   "outputs": [
    {
     "name": "stdout",
     "output_type": "stream",
     "text": [
      "['010', '1234', '1234', '30']\n",
      "\n",
      "['0', '1', '0', '1', '2', '3', '4', '1', '2', '3', '4', '3', '0']\n",
      "\n",
      "['이름', '김철수', '전화번호', '010', '1234', '1234', '나이', '30', '성별', '남']\n",
      "\n",
      "[]\n"
     ]
    }
   ],
   "source": [
    "text=\"\"\"이름 : 김철수\n",
    "전화번호 : 010 - 1234 - 1234\n",
    "나이 : 30\n",
    "성별 : 남\"\"\"  \n",
    "# \\d 모든 숫자를 의마 0-9\n",
    "print(re.findall(\"\\d+\",text))\n",
    "# + 가 붙었을때 연속성을 가지는 숫자를 한번에 찾아냄\n",
    "print()\n",
    "\n",
    "#숫자 한개한개를 다 뽑아내\n",
    "print(re.findall('\\d',text)) \n",
    "print()\n",
    "\n",
    "# 기호를 제외한 숫자와 문자를 뽑아내\n",
    "print(re.findall('\\w+', text))\n",
    "print()\n",
    "\n",
    "# 찾고자 하는 대상에 정규식 표현에 해당하는 데이터가 없다면\n",
    "# 비어 있는 데이터 출력\n",
    "print(re.findall('\\d+','안녕하세요'))\n"
   ]
  },
  {
   "cell_type": "code",
   "execution_count": 32,
   "id": "f7d788ad",
   "metadata": {},
   "outputs": [
    {
     "name": "stdout",
     "output_type": "stream",
     "text": [
      " 정규 표현식 패턴과 일치하는 문자열을 찾아 다른 문자열로 대체   Regular expression   A regular expression  regex or regexp 1    sometimes called a rational expression  2  3  is   in theoretical computer science and formal language theory   a sequence of characters that define a search pattern   \n",
      "\n",
      "정규 표현식 패턴과 일치하는 문자열을 찾아 다른 문자열로 대체 Regular expression  A regular expression regex or regexp1 sometimes called a rational expression23 is in theoretical computer science and formal language theory a sequence of characters that define a search pattern \n",
      "\n",
      "정규표현식패턴과일치하는문자열을찾아다른문자열로대체RegularexpressionAregularexpressionregexorregexp1sometimescalledarationalexpression23isintheoreticalcomputerscienceandformallanguagetheoryasequenceofcharactersthatdefineasearchpattern\n",
      "\n",
      ".:,[]()[][],,.\n",
      "\n"
     ]
    }
   ],
   "source": [
    "text='''\n",
    "정규 표현식 패턴과 일치하는 문자열을 찾아 다른 문자열로 대체. \n",
    "Regular expression : A regular expression, regex or regexp[1] \n",
    "(sometimes called a rational expression)[2][3] is, \n",
    "in theoretical computer science and formal language theory, \n",
    "a sequence of characters that define a search pattern. \n",
    "'''\n",
    "\n",
    "#한글 영어 숫자를 남겨 그런데 \" \"으로 띄어서 남겨 떨어졌으면\n",
    "print(re.sub('[^가-힣a-zA-Z0-9]',\" \", text))\n",
    "print()\n",
    "\n",
    "#공백까지 보여줘\n",
    "print(re.sub('[^가-힣a-zA-Z0-9 ]',\"\", text))\n",
    "print()\n",
    "\n",
    "#그냥 다붙여서 기호빼고 보여줘\n",
    "print(re.sub('[^가-힣a-zA-Z0-9]',\"\", text))\n",
    "print()\n",
    "\n",
    "#기호만 남겨줘\n",
    "print(re.sub('[가-힣a-zA-Z0-9 \\n\\t]',\"\", text))\n",
    "print()"
   ]
  },
  {
   "cell_type": "code",
   "execution_count": 33,
   "id": "f96b3db3",
   "metadata": {},
   "outputs": [
    {
     "data": {
      "text/plain": [
       "['R', 'A']"
      ]
     },
     "execution_count": 33,
     "metadata": {},
     "output_type": "execute_result"
    }
   ],
   "source": [
    "# 대문자만 보여줘\n",
    "re.findall('[A-Z]',text)"
   ]
  },
  {
   "cell_type": "code",
   "execution_count": 38,
   "id": "969b713d",
   "metadata": {},
   "outputs": [
    {
     "name": "stdout",
     "output_type": "stream",
     "text": [
      "['e', 'g', 'u', 'l', 'a', 'r', 'e', 'x', 'p', 'r', 'e', 's', 's', 'i', 'o', 'n', 'r', 'e', 'g', 'u', 'l', 'a', 'r', 'e', 'x', 'p', 'r', 'e', 's', 's', 'i', 'o', 'n', 'r', 'e', 'g', 'e', 'x', 'o', 'r', 'r', 'e', 'g', 'e', 'x', 'p', 's', 'o', 'm', 'e', 't', 'i', 'm', 'e', 's', 'c', 'a', 'l', 'l', 'e', 'd', 'a', 'r', 'a', 't', 'i', 'o', 'n', 'a', 'l', 'e', 'x', 'p', 'r', 'e', 's', 's', 'i', 'o', 'n', 'i', 's', 'i', 'n', 't', 'h', 'e', 'o', 'r', 'e', 't', 'i', 'c', 'a', 'l', 'c', 'o', 'm', 'p', 'u', 't', 'e', 'r', 's', 'c', 'i', 'e', 'n', 'c', 'e', 'a', 'n', 'd', 'f', 'o', 'r', 'm', 'a', 'l', 'l', 'a', 'n', 'g', 'u', 'a', 'g', 'e', 't', 'h', 'e', 'o', 'r', 'y', 'a', 's', 'e', 'q', 'u', 'e', 'n', 'c', 'e', 'o', 'f', 'c', 'h', 'a', 'r', 'a', 'c', 't', 'e', 'r', 's', 't', 'h', 'a', 't', 'd', 'e', 'f', 'i', 'n', 'e', 'a', 's', 'e', 'a', 'r', 'c', 'h', 'p', 'a', 't', 't', 'e', 'r', 'n']\n"
     ]
    }
   ],
   "source": [
    "# 소문자만 보여줘(하나씩 가져와)\n",
    "print(re.findall('[a-z]',text))"
   ]
  },
  {
   "cell_type": "code",
   "execution_count": 35,
   "id": "1f1bb61d",
   "metadata": {},
   "outputs": [
    {
     "data": {
      "text/plain": [
       "['일치하는', '문자열을', '문자열로']"
      ]
     },
     "execution_count": 35,
     "metadata": {},
     "output_type": "execute_result"
    }
   ],
   "source": [
    "# 4글자만 뽑아와\n",
    "re.findall('[가-힣]{4}', text)"
   ]
  },
  {
   "cell_type": "code",
   "execution_count": 37,
   "id": "7733f502",
   "metadata": {},
   "outputs": [
    {
     "name": "stdout",
     "output_type": "stream",
     "text": [
      "['egular', 'expression', 'regular', 'expression', 'regex', 'or', 'regexp', 'sometimes', 'called', 'a', 'rational', 'expression', 'is', 'in', 'theoretical', 'computer', 'science', 'and', 'formal', 'language', 'theory', 'a', 'sequence', 'of', 'characters', 'that', 'define', 'a', 'search', 'pattern']\n"
     ]
    }
   ],
   "source": [
    "#띄어쓰기 전까지 가져와\n",
    "print(re.findall('[a-z]+', text))"
   ]
  },
  {
   "cell_type": "markdown",
   "id": "9b5eddfb",
   "metadata": {},
   "source": [
    "#### 단어의 빈도수 계산하기\n",
    "\n",
    "- counter 사용\n",
    "- 계수 정렬과 같은 메모리 비효율성을 초래할 수  있음\n",
    "( 희소 행렬 문제 )\n",
    "- 단어 별로 체킹함으로 문장 단위에서 의미가 무시되는 단점"
   ]
  },
  {
   "cell_type": "markdown",
   "id": "953e448b",
   "metadata": {},
   "source": [
    "####  정수 인코딩(integer Encoding)\n",
    "\n",
    "- Bag of Word(BOW)\n"
   ]
  },
  {
   "cell_type": "markdown",
   "id": "08737783",
   "metadata": {},
   "source": [
    "#### 람다(lambda)식\n",
    "\n",
    "\n",
    "lambda 인자 : 표현식\n",
    "\n",
    "- def aa(x,y) : return x + y\n",
    "    - aa(10,20)\n",
    "\n",
    "- 람다로 표현하기\n",
    "    - (lambda x, y : x+y)(10,20)"
   ]
  },
  {
   "cell_type": "markdown",
   "id": "b0a173fe",
   "metadata": {},
   "source": [
    "#### Out -of -Vocabulary(단어 집합에 없는 단어) -> OOV : 6\n",
    "\n",
    "- 즉 word_to_index에 포함되지 않은 원본의 모든 단어들을 처리\n",
    "- index 맵핑 -> [1,5] , [1, ??, 5], [1, 3, 5]\n",
    "- ?? -> Out-Of-Vocabulary(단어 집합에 없는 단어) -> OOV : 6"
   ]
  },
  {
   "cell_type": "code",
   "execution_count": 39,
   "id": "f7002b1f",
   "metadata": {},
   "outputs": [],
   "source": [
    "from nltk.tokenize import sent_tokenize\n",
    "from nltk.tokenize import word_tokenize\n",
    "from nltk.corpus import stopwords\n",
    "text = \"A barber is a person. a barber is good person. a barber is huge person. he Knew A Secret! The Secret He Kept is huge secret. Huge secret. His barber kept his word. a barber kept his word. His barber kept his secret. But keeping and keeping such a huge secret to himself was driving the barber crazy. the barber went up a huge mountain.\"\n",
    "\n",
    "# 문장 토큰화\n",
    "text = sent_tokenize(text)\n",
    "print(text)\n",
    "\n",
    "vocab = {} # 파이썬의 dictionary 자료형\n",
    "sentences = []\n",
    "stop_words = set(stopwords.words('english'))\n",
    "\n",
    "for i in text:\n",
    "    sentence = word_tokenize(i) # 단어 토큰화를 수행합니다.\n",
    "    result = []\n",
    "\n",
    "    for word in sentence: \n",
    "        word = word.lower() # 모든 단어를 소문자화하여 단어의 개수를 줄입니다.\n",
    "        if word not in stop_words: # 단어 토큰화 된 결과에 대해서 불용어를 제거합니다.\n",
    "            if len(word) > 2: # 단어 길이가 2이하인 경우에 대하여 추가로 단어를 제거합니다.\n",
    "                result.append(word)\n",
    "                if word not in vocab:\n",
    "                    vocab[word] = 0  # 단어가 vocab에 없으면 추가 단어(keys) 추가\n",
    "                vocab[word] += 1\n",
    "    sentences.append(result) \n",
    "\n",
    "print(sentences) # 3글자 이상의 단어\n",
    "print()\n",
    "print(vocab) # 단어의 빈도수\n",
    "\n",
    "\n",
    "# 빈도수가 높은 순서대로 정렬\n",
    "# 딕셔너리.items()는 key,value를 튜플로 묶고 리스트로 바꿔주는 함수다\n",
    "\n",
    "vocab_sorted = sorted(vocab.items(), key = lambda x:x[1], reverse = True)\n",
    "print(vocab_sorted)\n",
    "\n",
    "# 높은 빈도수를 가진 단어일수록 낮은 정수 인덱스 부여\n",
    "word_to_index = {}\n",
    "i=0\n",
    "for (word, frequency) in vocab_sorted :\n",
    "    if frequency > 1 : # 정제(Cleaning) 챕터에서 언급했듯이 빈도수가 적은 단어는 제외한다.\n",
    "        i=i+1\n",
    "        word_to_index[word] = i\n",
    "print(word_to_index)\n",
    "\n",
    "vocab_size = 5\n",
    "words_frequency = [w for w,c in word_to_index.items() if c >= vocab_size + 1] # 인덱스가 5 초과인 단어 제거\n",
    "for w in words_frequency:\n",
    "    del word_to_index[w] # 해당 단어에 대한 인덱스 정보를 삭제\n",
    "print(word_to_index)\n",
    "\n",
    "word_to_index['OOV'] = len(word_to_index) +1\n",
    "\n",
    "encoded = []\n",
    "\n",
    "for s in sentences:\n",
    "    temp = []\n",
    "    for w in s:\n",
    "        try:\n",
    "            temp.append(word_to_index[w])\n",
    "        except KeyError:\n",
    "            temp.append(word_to_index['OOV'])\n",
    "    encoded.append(temp)\n",
    "print(encoded)"
   ]
  },
  {
   "cell_type": "markdown",
   "id": "6ef88bb9",
   "metadata": {},
   "source": [
    "####  Collections.counter 사용하기"
   ]
  },
  {
   "cell_type": "code",
   "execution_count": 60,
   "id": "7c38d6ff",
   "metadata": {},
   "outputs": [
    {
     "name": "stdout",
     "output_type": "stream",
     "text": [
      "[['barber', 'person'], ['barber', 'good', 'person'], ['barber', 'huge', 'person'], ['knew', 'secret'], ['secret', 'kept', 'huge', 'secret'], ['huge', 'secret'], ['barber', 'kept', 'word'], ['barber', 'kept', 'word'], ['barber', 'kept', 'secret'], ['keeping', 'keeping', 'huge', 'secret', 'driving', 'barber', 'crazy'], ['barber', 'went', 'huge', 'mountain']]\n"
     ]
    }
   ],
   "source": [
    "from collections import Counter\n",
    "print(sentences)\n"
   ]
  },
  {
   "cell_type": "code",
   "execution_count": 64,
   "id": "95d7125c",
   "metadata": {},
   "outputs": [
    {
     "name": "stdout",
     "output_type": "stream",
     "text": [
      "['barber', 'person', 'barber', 'good', 'person', 'barber', 'huge', 'person', 'knew', 'secret', 'secret', 'kept', 'huge', 'secret', 'huge', 'secret', 'barber', 'kept', 'word', 'barber', 'kept', 'word', 'barber', 'kept', 'secret', 'keeping', 'keeping', 'huge', 'secret', 'driving', 'barber', 'crazy', 'barber', 'went', 'huge', 'mountain']\n"
     ]
    }
   ],
   "source": [
    "words = sum(sentences, [])\n",
    "print(words)\n"
   ]
  },
  {
   "cell_type": "code",
   "execution_count": 66,
   "id": "6ee725cf",
   "metadata": {},
   "outputs": [
    {
     "name": "stdout",
     "output_type": "stream",
     "text": [
      "Counter({'barber': 8, 'secret': 6, 'huge': 5, 'kept': 4, 'person': 3, 'word': 2, 'keeping': 2, 'good': 1, 'knew': 1, 'driving': 1, 'crazy': 1, 'went': 1, 'mountain': 1})\n"
     ]
    }
   ],
   "source": [
    "vocab = Counter(words)\n",
    "print(vocab)"
   ]
  },
  {
   "cell_type": "code",
   "execution_count": 67,
   "id": "32bad3ae",
   "metadata": {},
   "outputs": [
    {
     "data": {
      "text/plain": [
       "[('barber', 8), ('secret', 6), ('huge', 5), ('kept', 4), ('person', 3)]"
      ]
     },
     "execution_count": 67,
     "metadata": {},
     "output_type": "execute_result"
    }
   ],
   "source": [
    "vocab_size = 5\n",
    "vocab = vocab.most_common(vocab_size) # 등장 빈도수가 높은 상위 5개의 단어만 저장\n",
    "vocab\n"
   ]
  },
  {
   "cell_type": "code",
   "execution_count": 68,
   "id": "ff4b667a",
   "metadata": {},
   "outputs": [
    {
     "name": "stdout",
     "output_type": "stream",
     "text": [
      "{'barber': 1, 'secret': 2, 'huge': 3, 'kept': 4, 'person': 5, 'word': 6, 'keeping': 7}\n"
     ]
    }
   ],
   "source": [
    "# 높은 빈도수를 가진 단어일수록 낮은 정수 인덱스 부여\n",
    "word_to_index = {}\n",
    "i=0\n",
    "for (word, frequency) in vocab_sorted :\n",
    "    if frequency > 1 : # 정제(Cleaning) 챕터에서 언급했듯이 빈도수가 적은 단어는 제외한다.\n",
    "        i=i+1\n",
    "        word_to_index[word] = i\n",
    "print(word_to_index)"
   ]
  },
  {
   "cell_type": "code",
   "execution_count": 69,
   "id": "40a52ebd",
   "metadata": {},
   "outputs": [
    {
     "name": "stdout",
     "output_type": "stream",
     "text": [
      "[[1, 5], [1, 8, 5], [1, 3, 5], [8, 2], [2, 4, 3, 2], [3, 2], [1, 4, 6], [1, 4, 6], [1, 4, 2], [7, 7, 3, 2, 8, 1, 8], [1, 8, 3, 8]]\n"
     ]
    }
   ],
   "source": [
    "word_to_index['OOV'] = len(word_to_index) +1\n",
    "\n",
    "encoded = []\n",
    "\n",
    "for s in sentences:\n",
    "    temp = []\n",
    "    for w in s:\n",
    "        try:\n",
    "            temp.append(word_to_index[w])\n",
    "        except KeyError:\n",
    "            temp.append(word_to_index['OOV'])\n",
    "    encoded.append(temp)\n",
    "print(encoded)"
   ]
  },
  {
   "cell_type": "code",
   "execution_count": null,
   "id": "37007775",
   "metadata": {},
   "outputs": [],
   "source": [
    "from collections import Counter\n",
    "print(sentences)\n",
    "\n",
    "words = sum(sentences, [])\n",
    "print(words)\n",
    "\n",
    "vocab = Counter(words)\n",
    "print(vocab)\n",
    "\n",
    "vocab_size = 5\n",
    "vocab = vocab.most_common(vocab_size) # 등장 빈도수가 높은 상위 5개의 단어만 저장\n",
    "vocab\n",
    "\n",
    "# 높은 빈도수를 가진 단어일수록 낮은 정수 인덱스 부여\n",
    "word_to_index = {}\n",
    "i=0\n",
    "for (word, frequency) in vocab_sorted :\n",
    "    if frequency > 1 : # 정제(Cleaning) 챕터에서 언급했듯이 빈도수가 적은 단어는 제외한다.\n",
    "        i=i+1\n",
    "        word_to_index[word] = i\n",
    "print(word_to_index)\n",
    "\n",
    "word_to_index['OOV'] = len(word_to_index) +1\n",
    "\n",
    "encoded = []\n",
    "\n",
    "for s in sentences:\n",
    "    temp = []\n",
    "    for w in s:\n",
    "        try:\n",
    "            temp.append(word_to_index[w])\n",
    "        except KeyError:\n",
    "            temp.append(word_to_index['OOV'])\n",
    "    encoded.append(temp)\n",
    "print(encoded)"
   ]
  },
  {
   "cell_type": "markdown",
   "id": "94ca74e5",
   "metadata": {},
   "source": [
    "## 원-핫 인코딩(one-hot encoding)\n",
    "\n",
    "- 매우 중요\n",
    "- 단어 집합의 크기를 벡터의 차원으로 하고, 표현하고 싶은 단어의 인덱스에 1의 값을 부여하고, 다른 인덱스에 0을 부여하는 단어의 벡터 표현 방식\n",
    "    1. 각 단어에 고유한 인덱스를 부여합니다(cf. 정수 인코딩)\n",
    "    2. 표현하고 싶은 단어의 인덱스의 위치에 1을 부여하고, 다른 단어의 인덱스에 0 을 부여한다"
   ]
  },
  {
   "cell_type": "markdown",
   "id": "ee5d39fa",
   "metadata": {},
   "source": [
    "'barber' 'secret' 'hug' 'kept' 'person'\n",
    "   1        0       0     0       1  ----> 첫번째 문장\n",
    "   1        0       1     0       1  ----> 두번째 문장"
   ]
  },
  {
   "cell_type": "code",
   "execution_count": null,
   "id": "78f72480",
   "metadata": {},
   "outputs": [],
   "source": [
    "from konlpy.tag import Okt  \n",
    "okt=Okt()  \n",
    "token=okt.morphs(\"나는 자연어 처리를 배운다\")  \n",
    "print(token)\n",
    "\n",
    "word2index={}\n",
    "for voca in token:\n",
    "     if voca not in word2index.keys():\n",
    "            word2index[voca]=len(word2index)\n",
    "print(word2index)\n",
    "\n",
    "def one_hot_encoding(word, word2index):\n",
    "    one_hot_vector = [0]*(len(word2index))\n",
    "    index=word2index[word]\n",
    "    one_hot_vector[index]=1\n",
    "    return one_hot_vector"
   ]
  },
  {
   "cell_type": "code",
   "execution_count": 70,
   "id": "57ff4174",
   "metadata": {},
   "outputs": [
    {
     "name": "stdout",
     "output_type": "stream",
     "text": [
      "['나', '는', '자연어', '처리', '를', '배운다']\n"
     ]
    }
   ],
   "source": [
    "from konlpy.tag import Okt  \n",
    "okt=Okt()  \n",
    "token=okt.morphs(\"나는 자연어 처리를 배운다\")  \n",
    "print(token)\n"
   ]
  },
  {
   "cell_type": "code",
   "execution_count": 71,
   "id": "773343f5",
   "metadata": {},
   "outputs": [
    {
     "name": "stdout",
     "output_type": "stream",
     "text": [
      "{'나': 0, '는': 1, '자연어': 2, '처리': 3, '를': 4, '배운다': 5}\n"
     ]
    }
   ],
   "source": [
    "word2index={}\n",
    "for voca in token:\n",
    "     if voca not in word2index.keys():\n",
    "            word2index[voca]=len(word2index)\n",
    "print(word2index)\n"
   ]
  },
  {
   "cell_type": "code",
   "execution_count": 72,
   "id": "3745efb2",
   "metadata": {},
   "outputs": [],
   "source": [
    "def one_hot_encoding(word, word2index):\n",
    "    one_hot_vector = [0]*(len(word2index))\n",
    "    index=word2index[word]\n",
    "    one_hot_vector[index]=1\n",
    "    return one_hot_vector\n"
   ]
  },
  {
   "cell_type": "code",
   "execution_count": 73,
   "id": "561dc15a",
   "metadata": {},
   "outputs": [
    {
     "data": {
      "text/plain": [
       "[0, 0, 1, 0, 0, 0]"
      ]
     },
     "execution_count": 73,
     "metadata": {},
     "output_type": "execute_result"
    }
   ],
   "source": [
    "one_hot_encoding(\"자연어\",word2index)"
   ]
  },
  {
   "cell_type": "markdown",
   "id": "28ab094f",
   "metadata": {},
   "source": [
    "####  케라스(Keras)를 이용한 원-핫 인코딩(One-Hot Encoding)\n",
    "\n",
    "- to_categorical()을 지원\n",
    "- 정수 인코딩과 원-핫 인코딩을 순차적으로 진행"
   ]
  },
  {
   "cell_type": "code",
   "execution_count": 77,
   "id": "d20cc799",
   "metadata": {},
   "outputs": [],
   "source": [
    "from tensorflow.keras.preprocessing.text import Tokenizer\n",
    "from tensorflow.keras.utils import to_categorical"
   ]
  },
  {
   "cell_type": "code",
   "execution_count": 78,
   "id": "47fc197f",
   "metadata": {},
   "outputs": [
    {
     "name": "stdout",
     "output_type": "stream",
     "text": [
      "{'갈래': 1, '점심': 2, '햄버거': 3, '나랑': 4, '먹으러': 5, '메뉴는': 6, '최고야': 7}\n"
     ]
    }
   ],
   "source": [
    "text=\"나랑 점심 먹으러 갈래 점심 메뉴는 햄버거 갈래 갈래 햄버거 최고야\"\n",
    "\n",
    "t = Tokenizer()\n",
    "t.fit_on_texts([text])\n",
    "print(t.word_index) # 각 단어에 대한 인코딩 결과 출력\n",
    "# 갈래가 3개니까 맨앞 점심 2 햄버거 2 그러나 순서가 점심이 빠르니 2번\n",
    "# 이런식으로 다해줌"
   ]
  },
  {
   "cell_type": "code",
   "execution_count": 81,
   "id": "2daf82c6",
   "metadata": {},
   "outputs": [
    {
     "name": "stdout",
     "output_type": "stream",
     "text": [
      "[2, 5, 1, 6, 3, 7]\n"
     ]
    }
   ],
   "source": [
    "sub_text=\"점심 먹으러 갈래 메뉴는 햄버거 최고야\"\n",
    "encoded = t.texts_to_sequences([sub_text])[0]\n",
    "print(encoded)"
   ]
  },
  {
   "cell_type": "code",
   "execution_count": 82,
   "id": "6e44a3dc",
   "metadata": {},
   "outputs": [
    {
     "name": "stdout",
     "output_type": "stream",
     "text": [
      "[[0. 0. 1. 0. 0. 0. 0. 0.]\n",
      " [0. 0. 0. 0. 0. 1. 0. 0.]\n",
      " [0. 1. 0. 0. 0. 0. 0. 0.]\n",
      " [0. 0. 0. 0. 0. 0. 1. 0.]\n",
      " [0. 0. 0. 1. 0. 0. 0. 0.]\n",
      " [0. 0. 0. 0. 0. 0. 0. 1.]]\n"
     ]
    }
   ],
   "source": [
    "one_hot = to_categorical(encoded)\n",
    "print(one_hot)\n",
    "# 인덱스는 0부터 붙음\n",
    "# 따라서 처음 : 점심 인덱스 2번 벡터 1 나머지 0\n",
    "# 다음 : 먹으러 인덱스 5번 벡터 1 나머지 0"
   ]
  },
  {
   "cell_type": "code",
   "execution_count": null,
   "id": "68f945b4",
   "metadata": {},
   "outputs": [],
   "source": []
  }
 ],
 "metadata": {
  "jupytext": {
   "formats": "ipynb,auto:light"
  },
  "kernelspec": {
   "display_name": "Python 3",
   "language": "python",
   "name": "python3"
  },
  "language_info": {
   "codemirror_mode": {
    "name": "ipython",
    "version": 3
   },
   "file_extension": ".py",
   "mimetype": "text/x-python",
   "name": "python",
   "nbconvert_exporter": "python",
   "pygments_lexer": "ipython3",
   "version": "3.8.10"
  }
 },
 "nbformat": 4,
 "nbformat_minor": 5
}
