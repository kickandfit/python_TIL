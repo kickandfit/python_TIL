{
 "cells": [
  {
   "cell_type": "markdown",
   "id": "978ab70b",
   "metadata": {},
   "source": [
    "### 조회를 위한 시작/종료일 입력 및 확인"
   ]
  },
  {
   "cell_type": "code",
   "execution_count": 18,
   "id": "be27cfe8",
   "metadata": {},
   "outputs": [],
   "source": [
    "def main():\n",
    "    ### 시작일을 입력받음\n",
    "    while True:\n",
    "\n",
    "        sDate=input('시작일을 입력하세요.(예:20210401)')  #'20210301' \n",
    "        \n",
    "        if len(sDate)!=8:\n",
    "            print('\"20210401\"과 같이 8자리로 입력해주세요')\n",
    "            continue\n",
    "        try:\n",
    "            sd=int(sDate)\n",
    "            break\n",
    "        except:\n",
    "            print('문자가 포함되어 있습니다. 다시 입력해주세요.')\n",
    "            continue\n",
    "        \n",
    "    ###종요일을 받음\n",
    "    while True:\n",
    "        eDate=input('종료일을 입력하세요.(예:20210401)') # '20210331'\n",
    "        if len(eDate)!=8:\n",
    "            print('\"20210401\"과 같이 8자리로 입력해주세요')\n",
    "            continue          \n",
    "        try:\n",
    "            sd=int(eDate)\n",
    "            today=datetime.today()\n",
    "            newDate = today.strftime('%Y%m%d')\n",
    "            if sd > int(newDate):\n",
    "                print('종료일은 조회 당일을 넘을 수 없습니다.\\n다시 입력해주세요')\n",
    "                continue\n",
    "                \n",
    "            if int(sDate)> sd:\n",
    "                print('종료일이 시작일보다 이전 날짜입니다.\\n다시 입력해주세요')\n",
    "                continue\n",
    "            break\n",
    "        except:\n",
    "            print('문자가 포함되어 있습니다. 다시 입력해주세요.')\n",
    "            continue\n",
    "\n",
    "    regionName=input('검색할 지점명을 입력하세요.')\n",
    "    if regionName == \"\":\n",
    "        startWeatherData(sDate, eDate)\n",
    "    else:\n",
    "        startWeatherData(sDate, eDate, regionName)\n"
   ]
  },
  {
   "cell_type": "markdown",
   "id": "d9addb41",
   "metadata": {},
   "source": [
    "### 요청지역 날씨 데이터"
   ]
  },
  {
   "cell_type": "code",
   "execution_count": 19,
   "id": "b86fb429",
   "metadata": {},
   "outputs": [],
   "source": [
    "def startWeatherData(sDate, eDate, regionName='서울'):   # 데이터 처리\n",
    "    pointID=getRegionalCode(regionName)        # 지점코드 \n",
    "    \n",
    "    url=getRegionalUrl(sDate, eDate, pointID)  # 기본 url 생성\n",
    "    response = urllib.request.urlopen(url)     # url을 이용한 정보 요청\n",
    "    rescode = response.getcode()               # 요청값 가져오기\n",
    "    if(rescode!=200):                          # 요청값 정상 여부 확인\n",
    "        raise Exception(\"Error Code:\" + rescode)\n",
    "        \n",
    "    numRows = int(json.loads(response.read())['response']['body']['totalCount']) # 전체 조회 데이터 개수 추출\n",
    "    urlNew=getRegionalUrl(sDate, eDate, pointID, numRows)  # 전체 조회데이터 개수를 이용한 새로운 url 생성\n",
    "    items=getJson(urlNew)      # 전체 데이터 url을 이용한 데이터 추출\n",
    "    # print(items)\n",
    "    return_df=getWeatherData(items)   # 가져온 데이터를 이용한 원하는 값 DataFrame 형식으로 출력\n",
    "    \n",
    "    saveWeatherData(sDate, eDate, regionName, return_df) # 데이터 저장\n",
    "    print('저장되었습니다.')\n"
   ]
  },
  {
   "cell_type": "markdown",
   "id": "b59522f2",
   "metadata": {},
   "source": [
    "### 데이터 저장"
   ]
  },
  {
   "cell_type": "code",
   "execution_count": 20,
   "id": "0dc78716",
   "metadata": {},
   "outputs": [],
   "source": [
    "def saveWeatherData(sDate, eDate, regionName, return_df):  \n",
    "    filename = \"\"\n",
    "    if sDate == eDate:\n",
    "        filename = f\"{regionName}_일별기상정보_{sDate}.csv\"   # 시작일과 종료일이 같은 경우\n",
    "    else:\n",
    "        filename = f\"{regionName}_일별기상정보_{sDate}_{eDate}.csv\"  # 시작일과 종료일이 다른 경우\n",
    "        \n",
    "    return_df.to_csv('c:/pydata/' + filename, encoding='cp949', index=False)\n"
   ]
  },
  {
   "cell_type": "markdown",
   "id": "75cec2e7",
   "metadata": {},
   "source": [
    "### 연결 데이터에서 원하는 데이터 가져오기"
   ]
  },
  {
   "cell_type": "code",
   "execution_count": 21,
   "id": "5b6f3ccf",
   "metadata": {},
   "outputs": [],
   "source": [
    "def getWeatherData(items):\n",
    "    tmpList = []\n",
    "    for item in items:\n",
    "        tmpList.append([item['stnNm'], item['tm'], item['avgTa'], item['minTa'], item['maxTa'], item['sumRn']])\n",
    "    return pd.DataFrame(tmpList, columns=['지점명', '날짜', '평균기온', '최저기온', '최고기온', '일강수량'])\n"
   ]
  },
  {
   "cell_type": "markdown",
   "id": "5fe5fbff",
   "metadata": {},
   "source": [
    "### Jason 파일 가져오기"
   ]
  },
  {
   "cell_type": "code",
   "execution_count": 22,
   "id": "c9fd6142",
   "metadata": {},
   "outputs": [],
   "source": [
    "def getJson(urlNew):\n",
    "    response = urllib.request.urlopen(urlNew)\n",
    "    rescode = response.getcode()\n",
    "    if(rescode==200):\n",
    "        return json.loads(response.read())['response']['body']['items']['item']\n",
    "    else:\n",
    "        raise Exception(\"Error Code:\" + rescode)\n"
   ]
  },
  {
   "cell_type": "markdown",
   "id": "a1c6ddf5",
   "metadata": {},
   "source": [
    "### url 생성하기"
   ]
  },
  {
   "cell_type": "code",
   "execution_count": 23,
   "id": "ae9a75f5",
   "metadata": {},
   "outputs": [],
   "source": [
    "def getRegionalUrl(sDate, eDate, pointID, numRow=10):  # url 생성\n",
    "    Key='개인키'\n",
    "    url='http://apis.data.go.kr/1360000/AsosDalyInfoService/getWthrDataList?serviceKey='\n",
    "    url=url+Key+'&dataType=JSON&numOfRows='+str(numRow)+'&pageNo=1&dataCd=ASOS&dateCd=DAY&startDt='+sDate+'&endDt='+eDate+'&stnIds='+str(pointID)\n",
    "    #print(url)\n",
    "    return url\n"
   ]
  },
  {
   "cell_type": "markdown",
   "id": "df49e9eb",
   "metadata": {},
   "source": [
    "### 지점코드 가져오기"
   ]
  },
  {
   "cell_type": "code",
   "execution_count": 24,
   "id": "aa87c435",
   "metadata": {},
   "outputs": [],
   "source": [
    "def getRegionalCode(inputRegName):  # 검측 지점코드 취득\n",
    "    \n",
    "    df_RegCode = pd.read_csv('c:/pydata/regionCode.csv')\n",
    "    regCode=df_RegCode[df_RegCode['지점명']==inputRegName]\n",
    "    \n",
    "    if len(regCode)== 1:\n",
    "        return int(regCode['지점'].values)\n",
    "    else:\n",
    "        raise Exception(f\"해당 지역명이 없습니다.\\n지역명을 확인하고 다시 입력해주세요\\n\\n{inputRegName}\")\n"
   ]
  },
  {
   "cell_type": "code",
   "execution_count": 26,
   "id": "01c8828f",
   "metadata": {},
   "outputs": [
    {
     "name": "stdout",
     "output_type": "stream",
     "text": [
      "시작일을 입력하세요.(예:20210401)20210101\n",
      "종료일을 입력하세요.(예:20210401)20210201\n",
      "검색할 지점명을 입력하세요.\n"
     ]
    },
    {
     "ename": "FileNotFoundError",
     "evalue": "[Errno 2] No such file or directory: 'c:/pydata/regionCode.csv'",
     "output_type": "error",
     "traceback": [
      "\u001b[1;31m---------------------------------------------------------------------------\u001b[0m",
      "\u001b[1;31mFileNotFoundError\u001b[0m                         Traceback (most recent call last)",
      "\u001b[1;32m<ipython-input-26-dd6d4ebdae16>\u001b[0m in \u001b[0;36m<module>\u001b[1;34m\u001b[0m\n\u001b[0;32m      6\u001b[0m \u001b[1;33m\u001b[0m\u001b[0m\n\u001b[0;32m      7\u001b[0m \u001b[1;32mif\u001b[0m \u001b[0m__name__\u001b[0m \u001b[1;33m==\u001b[0m\u001b[1;34m'__main__'\u001b[0m\u001b[1;33m:\u001b[0m\u001b[1;33m\u001b[0m\u001b[1;33m\u001b[0m\u001b[0m\n\u001b[1;32m----> 8\u001b[1;33m     \u001b[0mmain\u001b[0m\u001b[1;33m(\u001b[0m\u001b[1;33m)\u001b[0m\u001b[1;33m\u001b[0m\u001b[1;33m\u001b[0m\u001b[0m\n\u001b[0m",
      "\u001b[1;32m<ipython-input-18-a5af1e67770e>\u001b[0m in \u001b[0;36mmain\u001b[1;34m()\u001b[0m\n\u001b[0;32m     39\u001b[0m     \u001b[0mregionName\u001b[0m\u001b[1;33m=\u001b[0m\u001b[0minput\u001b[0m\u001b[1;33m(\u001b[0m\u001b[1;34m'검색할 지점명을 입력하세요.'\u001b[0m\u001b[1;33m)\u001b[0m\u001b[1;33m\u001b[0m\u001b[1;33m\u001b[0m\u001b[0m\n\u001b[0;32m     40\u001b[0m     \u001b[1;32mif\u001b[0m \u001b[0mregionName\u001b[0m \u001b[1;33m==\u001b[0m \u001b[1;34m\"\"\u001b[0m\u001b[1;33m:\u001b[0m\u001b[1;33m\u001b[0m\u001b[1;33m\u001b[0m\u001b[0m\n\u001b[1;32m---> 41\u001b[1;33m         \u001b[0mstartWeatherData\u001b[0m\u001b[1;33m(\u001b[0m\u001b[0msDate\u001b[0m\u001b[1;33m,\u001b[0m \u001b[0meDate\u001b[0m\u001b[1;33m)\u001b[0m\u001b[1;33m\u001b[0m\u001b[1;33m\u001b[0m\u001b[0m\n\u001b[0m\u001b[0;32m     42\u001b[0m     \u001b[1;32melse\u001b[0m\u001b[1;33m:\u001b[0m\u001b[1;33m\u001b[0m\u001b[1;33m\u001b[0m\u001b[0m\n\u001b[0;32m     43\u001b[0m         \u001b[0mstartWeatherData\u001b[0m\u001b[1;33m(\u001b[0m\u001b[0msDate\u001b[0m\u001b[1;33m,\u001b[0m \u001b[0meDate\u001b[0m\u001b[1;33m,\u001b[0m \u001b[0mregionName\u001b[0m\u001b[1;33m)\u001b[0m\u001b[1;33m\u001b[0m\u001b[1;33m\u001b[0m\u001b[0m\n",
      "\u001b[1;32m<ipython-input-19-552515a57e8c>\u001b[0m in \u001b[0;36mstartWeatherData\u001b[1;34m(sDate, eDate, regionName)\u001b[0m\n\u001b[0;32m      1\u001b[0m \u001b[1;32mdef\u001b[0m \u001b[0mstartWeatherData\u001b[0m\u001b[1;33m(\u001b[0m\u001b[0msDate\u001b[0m\u001b[1;33m,\u001b[0m \u001b[0meDate\u001b[0m\u001b[1;33m,\u001b[0m \u001b[0mregionName\u001b[0m\u001b[1;33m=\u001b[0m\u001b[1;34m'서울'\u001b[0m\u001b[1;33m)\u001b[0m\u001b[1;33m:\u001b[0m   \u001b[1;31m# 데이터 처리\u001b[0m\u001b[1;33m\u001b[0m\u001b[1;33m\u001b[0m\u001b[0m\n\u001b[1;32m----> 2\u001b[1;33m     \u001b[0mpointID\u001b[0m\u001b[1;33m=\u001b[0m\u001b[0mgetRegionalCode\u001b[0m\u001b[1;33m(\u001b[0m\u001b[0mregionName\u001b[0m\u001b[1;33m)\u001b[0m        \u001b[1;31m# 지점코드\u001b[0m\u001b[1;33m\u001b[0m\u001b[1;33m\u001b[0m\u001b[0m\n\u001b[0m\u001b[0;32m      3\u001b[0m \u001b[1;33m\u001b[0m\u001b[0m\n\u001b[0;32m      4\u001b[0m     \u001b[0murl\u001b[0m\u001b[1;33m=\u001b[0m\u001b[0mgetRegionalUrl\u001b[0m\u001b[1;33m(\u001b[0m\u001b[0msDate\u001b[0m\u001b[1;33m,\u001b[0m \u001b[0meDate\u001b[0m\u001b[1;33m,\u001b[0m \u001b[0mpointID\u001b[0m\u001b[1;33m)\u001b[0m  \u001b[1;31m# 기본 url 생성\u001b[0m\u001b[1;33m\u001b[0m\u001b[1;33m\u001b[0m\u001b[0m\n\u001b[0;32m      5\u001b[0m     \u001b[0mresponse\u001b[0m \u001b[1;33m=\u001b[0m \u001b[0murllib\u001b[0m\u001b[1;33m.\u001b[0m\u001b[0mrequest\u001b[0m\u001b[1;33m.\u001b[0m\u001b[0murlopen\u001b[0m\u001b[1;33m(\u001b[0m\u001b[0murl\u001b[0m\u001b[1;33m)\u001b[0m     \u001b[1;31m# url을 이용한 정보 요청\u001b[0m\u001b[1;33m\u001b[0m\u001b[1;33m\u001b[0m\u001b[0m\n",
      "\u001b[1;32m<ipython-input-24-22e1356b45bf>\u001b[0m in \u001b[0;36mgetRegionalCode\u001b[1;34m(inputRegName)\u001b[0m\n\u001b[0;32m      1\u001b[0m \u001b[1;32mdef\u001b[0m \u001b[0mgetRegionalCode\u001b[0m\u001b[1;33m(\u001b[0m\u001b[0minputRegName\u001b[0m\u001b[1;33m)\u001b[0m\u001b[1;33m:\u001b[0m  \u001b[1;31m# 검측 지점코드 취득\u001b[0m\u001b[1;33m\u001b[0m\u001b[1;33m\u001b[0m\u001b[0m\n\u001b[0;32m      2\u001b[0m \u001b[1;33m\u001b[0m\u001b[0m\n\u001b[1;32m----> 3\u001b[1;33m     \u001b[0mdf_RegCode\u001b[0m \u001b[1;33m=\u001b[0m \u001b[0mpd\u001b[0m\u001b[1;33m.\u001b[0m\u001b[0mread_csv\u001b[0m\u001b[1;33m(\u001b[0m\u001b[1;34m'c:/pydata/regionCode.csv'\u001b[0m\u001b[1;33m)\u001b[0m\u001b[1;33m\u001b[0m\u001b[1;33m\u001b[0m\u001b[0m\n\u001b[0m\u001b[0;32m      4\u001b[0m     \u001b[0mregCode\u001b[0m\u001b[1;33m=\u001b[0m\u001b[0mdf_RegCode\u001b[0m\u001b[1;33m[\u001b[0m\u001b[0mdf_RegCode\u001b[0m\u001b[1;33m[\u001b[0m\u001b[1;34m'지점명'\u001b[0m\u001b[1;33m]\u001b[0m\u001b[1;33m==\u001b[0m\u001b[0minputRegName\u001b[0m\u001b[1;33m]\u001b[0m\u001b[1;33m\u001b[0m\u001b[1;33m\u001b[0m\u001b[0m\n\u001b[0;32m      5\u001b[0m \u001b[1;33m\u001b[0m\u001b[0m\n",
      "\u001b[1;32m~\\Anaconda3\\envs\\big_data_Intelligence_system\\lib\\site-packages\\pandas\\io\\parsers.py\u001b[0m in \u001b[0;36mread_csv\u001b[1;34m(filepath_or_buffer, sep, delimiter, header, names, index_col, usecols, squeeze, prefix, mangle_dupe_cols, dtype, engine, converters, true_values, false_values, skipinitialspace, skiprows, skipfooter, nrows, na_values, keep_default_na, na_filter, verbose, skip_blank_lines, parse_dates, infer_datetime_format, keep_date_col, date_parser, dayfirst, cache_dates, iterator, chunksize, compression, thousands, decimal, lineterminator, quotechar, quoting, doublequote, escapechar, comment, encoding, dialect, error_bad_lines, warn_bad_lines, delim_whitespace, low_memory, memory_map, float_precision, storage_options)\u001b[0m\n\u001b[0;32m    608\u001b[0m     \u001b[0mkwds\u001b[0m\u001b[1;33m.\u001b[0m\u001b[0mupdate\u001b[0m\u001b[1;33m(\u001b[0m\u001b[0mkwds_defaults\u001b[0m\u001b[1;33m)\u001b[0m\u001b[1;33m\u001b[0m\u001b[1;33m\u001b[0m\u001b[0m\n\u001b[0;32m    609\u001b[0m \u001b[1;33m\u001b[0m\u001b[0m\n\u001b[1;32m--> 610\u001b[1;33m     \u001b[1;32mreturn\u001b[0m \u001b[0m_read\u001b[0m\u001b[1;33m(\u001b[0m\u001b[0mfilepath_or_buffer\u001b[0m\u001b[1;33m,\u001b[0m \u001b[0mkwds\u001b[0m\u001b[1;33m)\u001b[0m\u001b[1;33m\u001b[0m\u001b[1;33m\u001b[0m\u001b[0m\n\u001b[0m\u001b[0;32m    611\u001b[0m \u001b[1;33m\u001b[0m\u001b[0m\n\u001b[0;32m    612\u001b[0m \u001b[1;33m\u001b[0m\u001b[0m\n",
      "\u001b[1;32m~\\Anaconda3\\envs\\big_data_Intelligence_system\\lib\\site-packages\\pandas\\io\\parsers.py\u001b[0m in \u001b[0;36m_read\u001b[1;34m(filepath_or_buffer, kwds)\u001b[0m\n\u001b[0;32m    460\u001b[0m \u001b[1;33m\u001b[0m\u001b[0m\n\u001b[0;32m    461\u001b[0m     \u001b[1;31m# Create the parser.\u001b[0m\u001b[1;33m\u001b[0m\u001b[1;33m\u001b[0m\u001b[1;33m\u001b[0m\u001b[0m\n\u001b[1;32m--> 462\u001b[1;33m     \u001b[0mparser\u001b[0m \u001b[1;33m=\u001b[0m \u001b[0mTextFileReader\u001b[0m\u001b[1;33m(\u001b[0m\u001b[0mfilepath_or_buffer\u001b[0m\u001b[1;33m,\u001b[0m \u001b[1;33m**\u001b[0m\u001b[0mkwds\u001b[0m\u001b[1;33m)\u001b[0m\u001b[1;33m\u001b[0m\u001b[1;33m\u001b[0m\u001b[0m\n\u001b[0m\u001b[0;32m    463\u001b[0m \u001b[1;33m\u001b[0m\u001b[0m\n\u001b[0;32m    464\u001b[0m     \u001b[1;32mif\u001b[0m \u001b[0mchunksize\u001b[0m \u001b[1;32mor\u001b[0m \u001b[0miterator\u001b[0m\u001b[1;33m:\u001b[0m\u001b[1;33m\u001b[0m\u001b[1;33m\u001b[0m\u001b[0m\n",
      "\u001b[1;32m~\\Anaconda3\\envs\\big_data_Intelligence_system\\lib\\site-packages\\pandas\\io\\parsers.py\u001b[0m in \u001b[0;36m__init__\u001b[1;34m(self, f, engine, **kwds)\u001b[0m\n\u001b[0;32m    817\u001b[0m             \u001b[0mself\u001b[0m\u001b[1;33m.\u001b[0m\u001b[0moptions\u001b[0m\u001b[1;33m[\u001b[0m\u001b[1;34m\"has_index_names\"\u001b[0m\u001b[1;33m]\u001b[0m \u001b[1;33m=\u001b[0m \u001b[0mkwds\u001b[0m\u001b[1;33m[\u001b[0m\u001b[1;34m\"has_index_names\"\u001b[0m\u001b[1;33m]\u001b[0m\u001b[1;33m\u001b[0m\u001b[1;33m\u001b[0m\u001b[0m\n\u001b[0;32m    818\u001b[0m \u001b[1;33m\u001b[0m\u001b[0m\n\u001b[1;32m--> 819\u001b[1;33m         \u001b[0mself\u001b[0m\u001b[1;33m.\u001b[0m\u001b[0m_engine\u001b[0m \u001b[1;33m=\u001b[0m \u001b[0mself\u001b[0m\u001b[1;33m.\u001b[0m\u001b[0m_make_engine\u001b[0m\u001b[1;33m(\u001b[0m\u001b[0mself\u001b[0m\u001b[1;33m.\u001b[0m\u001b[0mengine\u001b[0m\u001b[1;33m)\u001b[0m\u001b[1;33m\u001b[0m\u001b[1;33m\u001b[0m\u001b[0m\n\u001b[0m\u001b[0;32m    820\u001b[0m \u001b[1;33m\u001b[0m\u001b[0m\n\u001b[0;32m    821\u001b[0m     \u001b[1;32mdef\u001b[0m \u001b[0mclose\u001b[0m\u001b[1;33m(\u001b[0m\u001b[0mself\u001b[0m\u001b[1;33m)\u001b[0m\u001b[1;33m:\u001b[0m\u001b[1;33m\u001b[0m\u001b[1;33m\u001b[0m\u001b[0m\n",
      "\u001b[1;32m~\\Anaconda3\\envs\\big_data_Intelligence_system\\lib\\site-packages\\pandas\\io\\parsers.py\u001b[0m in \u001b[0;36m_make_engine\u001b[1;34m(self, engine)\u001b[0m\n\u001b[0;32m   1048\u001b[0m             )\n\u001b[0;32m   1049\u001b[0m         \u001b[1;31m# error: Too many arguments for \"ParserBase\"\u001b[0m\u001b[1;33m\u001b[0m\u001b[1;33m\u001b[0m\u001b[1;33m\u001b[0m\u001b[0m\n\u001b[1;32m-> 1050\u001b[1;33m         \u001b[1;32mreturn\u001b[0m \u001b[0mmapping\u001b[0m\u001b[1;33m[\u001b[0m\u001b[0mengine\u001b[0m\u001b[1;33m]\u001b[0m\u001b[1;33m(\u001b[0m\u001b[0mself\u001b[0m\u001b[1;33m.\u001b[0m\u001b[0mf\u001b[0m\u001b[1;33m,\u001b[0m \u001b[1;33m**\u001b[0m\u001b[0mself\u001b[0m\u001b[1;33m.\u001b[0m\u001b[0moptions\u001b[0m\u001b[1;33m)\u001b[0m  \u001b[1;31m# type: ignore[call-arg]\u001b[0m\u001b[1;33m\u001b[0m\u001b[1;33m\u001b[0m\u001b[0m\n\u001b[0m\u001b[0;32m   1051\u001b[0m \u001b[1;33m\u001b[0m\u001b[0m\n\u001b[0;32m   1052\u001b[0m     \u001b[1;32mdef\u001b[0m \u001b[0m_failover_to_python\u001b[0m\u001b[1;33m(\u001b[0m\u001b[0mself\u001b[0m\u001b[1;33m)\u001b[0m\u001b[1;33m:\u001b[0m\u001b[1;33m\u001b[0m\u001b[1;33m\u001b[0m\u001b[0m\n",
      "\u001b[1;32m~\\Anaconda3\\envs\\big_data_Intelligence_system\\lib\\site-packages\\pandas\\io\\parsers.py\u001b[0m in \u001b[0;36m__init__\u001b[1;34m(self, src, **kwds)\u001b[0m\n\u001b[0;32m   1865\u001b[0m \u001b[1;33m\u001b[0m\u001b[0m\n\u001b[0;32m   1866\u001b[0m         \u001b[1;31m# open handles\u001b[0m\u001b[1;33m\u001b[0m\u001b[1;33m\u001b[0m\u001b[1;33m\u001b[0m\u001b[0m\n\u001b[1;32m-> 1867\u001b[1;33m         \u001b[0mself\u001b[0m\u001b[1;33m.\u001b[0m\u001b[0m_open_handles\u001b[0m\u001b[1;33m(\u001b[0m\u001b[0msrc\u001b[0m\u001b[1;33m,\u001b[0m \u001b[0mkwds\u001b[0m\u001b[1;33m)\u001b[0m\u001b[1;33m\u001b[0m\u001b[1;33m\u001b[0m\u001b[0m\n\u001b[0m\u001b[0;32m   1868\u001b[0m         \u001b[1;32massert\u001b[0m \u001b[0mself\u001b[0m\u001b[1;33m.\u001b[0m\u001b[0mhandles\u001b[0m \u001b[1;32mis\u001b[0m \u001b[1;32mnot\u001b[0m \u001b[1;32mNone\u001b[0m\u001b[1;33m\u001b[0m\u001b[1;33m\u001b[0m\u001b[0m\n\u001b[0;32m   1869\u001b[0m         \u001b[1;32mfor\u001b[0m \u001b[0mkey\u001b[0m \u001b[1;32min\u001b[0m \u001b[1;33m(\u001b[0m\u001b[1;34m\"storage_options\"\u001b[0m\u001b[1;33m,\u001b[0m \u001b[1;34m\"encoding\"\u001b[0m\u001b[1;33m,\u001b[0m \u001b[1;34m\"memory_map\"\u001b[0m\u001b[1;33m,\u001b[0m \u001b[1;34m\"compression\"\u001b[0m\u001b[1;33m)\u001b[0m\u001b[1;33m:\u001b[0m\u001b[1;33m\u001b[0m\u001b[1;33m\u001b[0m\u001b[0m\n",
      "\u001b[1;32m~\\Anaconda3\\envs\\big_data_Intelligence_system\\lib\\site-packages\\pandas\\io\\parsers.py\u001b[0m in \u001b[0;36m_open_handles\u001b[1;34m(self, src, kwds)\u001b[0m\n\u001b[0;32m   1360\u001b[0m         \u001b[0mLet\u001b[0m \u001b[0mthe\u001b[0m \u001b[0mreaders\u001b[0m \u001b[0mopen\u001b[0m \u001b[0mIOHanldes\u001b[0m \u001b[0mafter\u001b[0m \u001b[0mthey\u001b[0m \u001b[0mare\u001b[0m \u001b[0mdone\u001b[0m \u001b[1;32mwith\u001b[0m \u001b[0mtheir\u001b[0m \u001b[0mpotential\u001b[0m \u001b[0mraises\u001b[0m\u001b[1;33m.\u001b[0m\u001b[1;33m\u001b[0m\u001b[1;33m\u001b[0m\u001b[0m\n\u001b[0;32m   1361\u001b[0m         \"\"\"\n\u001b[1;32m-> 1362\u001b[1;33m         self.handles = get_handle(\n\u001b[0m\u001b[0;32m   1363\u001b[0m             \u001b[0msrc\u001b[0m\u001b[1;33m,\u001b[0m\u001b[1;33m\u001b[0m\u001b[1;33m\u001b[0m\u001b[0m\n\u001b[0;32m   1364\u001b[0m             \u001b[1;34m\"r\"\u001b[0m\u001b[1;33m,\u001b[0m\u001b[1;33m\u001b[0m\u001b[1;33m\u001b[0m\u001b[0m\n",
      "\u001b[1;32m~\\Anaconda3\\envs\\big_data_Intelligence_system\\lib\\site-packages\\pandas\\io\\common.py\u001b[0m in \u001b[0;36mget_handle\u001b[1;34m(path_or_buf, mode, encoding, compression, memory_map, is_text, errors, storage_options)\u001b[0m\n\u001b[0;32m    640\u001b[0m                 \u001b[0merrors\u001b[0m \u001b[1;33m=\u001b[0m \u001b[1;34m\"replace\"\u001b[0m\u001b[1;33m\u001b[0m\u001b[1;33m\u001b[0m\u001b[0m\n\u001b[0;32m    641\u001b[0m             \u001b[1;31m# Encoding\u001b[0m\u001b[1;33m\u001b[0m\u001b[1;33m\u001b[0m\u001b[1;33m\u001b[0m\u001b[0m\n\u001b[1;32m--> 642\u001b[1;33m             handle = open(\n\u001b[0m\u001b[0;32m    643\u001b[0m                 \u001b[0mhandle\u001b[0m\u001b[1;33m,\u001b[0m\u001b[1;33m\u001b[0m\u001b[1;33m\u001b[0m\u001b[0m\n\u001b[0;32m    644\u001b[0m                 \u001b[0mioargs\u001b[0m\u001b[1;33m.\u001b[0m\u001b[0mmode\u001b[0m\u001b[1;33m,\u001b[0m\u001b[1;33m\u001b[0m\u001b[1;33m\u001b[0m\u001b[0m\n",
      "\u001b[1;31mFileNotFoundError\u001b[0m: [Errno 2] No such file or directory: 'c:/pydata/regionCode.csv'"
     ]
    }
   ],
   "source": [
    "import pandas as pd\n",
    "import os\n",
    "from datetime import datetime, timedelta\n",
    "import urllib.request\n",
    "import json\n",
    "\n",
    "if __name__ =='__main__':\n",
    "    main()"
   ]
  },
  {
   "cell_type": "code",
   "execution_count": null,
   "id": "a5a8d073",
   "metadata": {},
   "outputs": [],
   "source": []
  },
  {
   "cell_type": "code",
   "execution_count": null,
   "id": "6e132149",
   "metadata": {},
   "outputs": [],
   "source": []
  }
 ],
 "metadata": {
  "kernelspec": {
   "display_name": "Python 3",
   "language": "python",
   "name": "python3"
  },
  "language_info": {
   "codemirror_mode": {
    "name": "ipython",
    "version": 3
   },
   "file_extension": ".py",
   "mimetype": "text/x-python",
   "name": "python",
   "nbconvert_exporter": "python",
   "pygments_lexer": "ipython3",
   "version": "3.9.4"
  }
 },
 "nbformat": 4,
 "nbformat_minor": 5
}
