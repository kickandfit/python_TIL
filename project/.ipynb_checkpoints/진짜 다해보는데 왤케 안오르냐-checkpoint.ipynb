{
 "cells": [
  {
   "cell_type": "code",
   "execution_count": 65,
   "id": "7f9626da",
   "metadata": {
    "scrolled": true
   },
   "outputs": [
    {
     "name": "stdout",
     "output_type": "stream",
     "text": [
      "(1589, 8)\n"
     ]
    }
   ],
   "source": [
    "# 평가 지표 평균 90 이상\n",
    "import pandas as pd\n",
    "from numpy import mean, std\n",
    "from sklearn import preprocessing\n",
    "from sklearn.model_selection import train_test_split, cross_val_score\n",
    "from sklearn import metrics\n",
    "from imblearn.under_sampling import TomekLinks\n",
    "from sklearn.ensemble import RandomForestClassifier\n",
    "import numpy as np\n",
    "from imblearn.under_sampling import *\n",
    "\n",
    "df = pd.read_csv('./TravelInsurancePrediction.csv')\n",
    "df['FrequentFlyer'] = df['FrequentFlyer'].map({'Yes': 1, 'No': 0})\n",
    "df['EverTravelledAbroad'] = df['EverTravelledAbroad'].map({'Yes': 1, 'No': 0})\n",
    "df[\"Employment Type\"] = df[\"Employment Type\"].map({\"Government Sector\" : 1, \"Private Sector/Self Employed\" : 0})\n",
    "df['GraduateOrNot'] = df['GraduateOrNot'].map({'Yes': 1, 'No': 0})\n",
    "\n",
    "# df = df.drop([\"GraduateOrNot\"] , axis=1)\n",
    "df_index = ['Age', 'AnnualIncome', 'ChronicDiseases',\"GraduateOrNot\", \n",
    "          'FrequentFlyer', 'FamilyMembers', 'Employment Type',\n",
    "          'EverTravelledAbroad']\n",
    "ndf = df[['Age', 'AnnualIncome', 'ChronicDiseases', 'GraduateOrNot',\n",
    "          'FrequentFlyer', 'FamilyMembers', 'Employment Type',\n",
    "          'EverTravelledAbroad', 'TravelInsurance']]\n",
    "X = ndf[list(ndf.columns)[:-1]]\n",
    "y = ndf[list(ndf.columns)[-1]]\n",
    "X = preprocessing.StandardScaler().fit(X).transform(X)\n",
    "\n",
    "X_train, X_test, y_train, y_test = train_test_split(X, y, test_size=0.2, \n",
    "                                                    random_state=10)\n",
    "print(X_train.shape)"
   ]
  },
  {
   "cell_type": "markdown",
   "id": "62692bb0",
   "metadata": {},
   "source": [
    "#### 언더샘플링"
   ]
  },
  {
   "cell_type": "code",
   "execution_count": 66,
   "id": "6704cb3c",
   "metadata": {},
   "outputs": [
    {
     "name": "stdout",
     "output_type": "stream",
     "text": [
      "<class 'pandas.core.frame.DataFrame'>\n",
      "RangeIndex: 1589 entries, 0 to 1588\n",
      "Data columns (total 9 columns):\n",
      " #   Column               Non-Null Count  Dtype  \n",
      "---  ------               --------------  -----  \n",
      " 0   Age                  1589 non-null   float64\n",
      " 1   AnnualIncome         1589 non-null   float64\n",
      " 2   ChronicDiseases      1589 non-null   float64\n",
      " 3   GraduateOrNot        1589 non-null   float64\n",
      " 4   FrequentFlyer        1589 non-null   float64\n",
      " 5   FamilyMembers        1589 non-null   float64\n",
      " 6   Employment Type      1589 non-null   float64\n",
      " 7   EverTravelledAbroad  1589 non-null   float64\n",
      " 8   TravelInsurance      1589 non-null   int64  \n",
      "dtypes: float64(8), int64(1)\n",
      "memory usage: 111.9 KB\n"
     ]
    }
   ],
   "source": [
    "df_Xnew = pd.DataFrame(X_train, columns = df_index)\n",
    "df_ynew = pd.DataFrame(y_train, columns = ['TravelInsurance'])\n",
    "\n",
    "df_ynew.reset_index(drop=True,inplace = True)\n",
    "df_new = pd.concat([df_Xnew, df_ynew], axis = 1)\n",
    "df_new.info()\n",
    "ndf1 = df_new[['Age', 'AnnualIncome', 'ChronicDiseases', 'GraduateOrNot',\n",
    "          'FrequentFlyer', 'FamilyMembers', 'Employment Type',\n",
    "          'EverTravelledAbroad', 'TravelInsurance']]\n",
    "\n",
    "X  = ndf1[list(ndf1.columns)[:-1]]\n",
    "y  = ndf1[list(ndf1.columns)[-1]]"
   ]
  },
  {
   "cell_type": "code",
   "execution_count": 67,
   "id": "d9441de9",
   "metadata": {},
   "outputs": [
    {
     "name": "stdout",
     "output_type": "stream",
     "text": [
      "(1130, 8)\n"
     ]
    }
   ],
   "source": [
    "# 평균 73, 재현율 70( 1) 그러나 (0 )이 70 대로 떨어짐\n",
    "enn = EditedNearestNeighbours()\n",
    "X_resampled, y_resampled  = enn.fit_resample(X, y)\n",
    "print(X_resampled.shape)"
   ]
  },
  {
   "cell_type": "code",
   "execution_count": 41,
   "id": "8f10a297",
   "metadata": {},
   "outputs": [
    {
     "name": "stdout",
     "output_type": "stream",
     "text": [
      "(1138, 7)\n"
     ]
    }
   ],
   "source": [
    "# 재현율 57 \n",
    "from imblearn.under_sampling import RandomUnderSampler\n",
    "rus = RandomUnderSampler(random_state=0)\n",
    "X_resampled, y_resampled = rus.fit_resample(X, y)\n",
    "print(X_resampled.shape)"
   ]
  },
  {
   "cell_type": "code",
   "execution_count": 43,
   "id": "e50e353e",
   "metadata": {},
   "outputs": [
    {
     "name": "stdout",
     "output_type": "stream",
     "text": [
      "(1138, 7)\n"
     ]
    }
   ],
   "source": [
    "from imblearn.under_sampling import NearMiss\n",
    "nm1 = NearMiss(version=1)\n",
    "X_resampled, y_resampled = nm1.fit_resample(X, y)\n",
    "print(X_resampled.shape)"
   ]
  },
  {
   "cell_type": "code",
   "execution_count": 47,
   "id": "3ada3aca",
   "metadata": {},
   "outputs": [
    {
     "name": "stdout",
     "output_type": "stream",
     "text": [
      "(1114, 7)\n"
     ]
    }
   ],
   "source": [
    "renn = RepeatedEditedNearestNeighbours()\n",
    "X_resampled, y_resampled = renn.fit_resample(X, y)\n",
    "print(X_resampled.shape)"
   ]
  },
  {
   "cell_type": "code",
   "execution_count": 45,
   "id": "787ab78d",
   "metadata": {},
   "outputs": [
    {
     "name": "stdout",
     "output_type": "stream",
     "text": [
      "(1029, 7)\n"
     ]
    }
   ],
   "source": [
    "allknn = AllKNN()\n",
    "X_resampled, y_resampled = allknn.fit_resample(X, y)\n",
    "print(X_resampled.shape)"
   ]
  },
  {
   "cell_type": "code",
   "execution_count": 49,
   "id": "8d92c21f",
   "metadata": {},
   "outputs": [
    {
     "name": "stdout",
     "output_type": "stream",
     "text": [
      "(960, 7)\n"
     ]
    }
   ],
   "source": [
    "#언더 샘플링 중에는 제일 좋네 그나마\n",
    "cnn = CondensedNearestNeighbour(random_state=0)\n",
    "X_resampled, y_resampled = cnn.fit_resample(X, y)\n",
    "print(X_resampled.shape)"
   ]
  },
  {
   "cell_type": "code",
   "execution_count": 51,
   "id": "fecc0603",
   "metadata": {},
   "outputs": [
    {
     "name": "stdout",
     "output_type": "stream",
     "text": [
      "(1544, 7)\n"
     ]
    }
   ],
   "source": [
    "# 니가 일등이네\n",
    "oss = OneSidedSelection(random_state=0)\n",
    "X_resampled, y_resampled = oss.fit_resample(X, y)\n",
    "print(X_resampled.shape)"
   ]
  },
  {
   "cell_type": "code",
   "execution_count": 53,
   "id": "253e48a6",
   "metadata": {},
   "outputs": [
    {
     "name": "stdout",
     "output_type": "stream",
     "text": [
      "(1109, 7)\n"
     ]
    }
   ],
   "source": [
    "ncr = NeighbourhoodCleaningRule()\n",
    "X_resampled, y_resampled = ncr.fit_resample(X, y)\n",
    "print(X_resampled.shape)"
   ]
  },
  {
   "cell_type": "code",
   "execution_count": null,
   "id": "0e4309eb",
   "metadata": {},
   "outputs": [],
   "source": [
    "from sklearn.linear_model import LogisticRegression\n",
    "iht = InstanceHardnessThreshold(random_state=0,                                 estimator=LogisticRegression(\n",
    "                                    solver='lbfgs', multi_class='auto'))\n",
    "X_resampled, y_resampled = iht.fit_resample(X_train, y_train)\n",
    "print(X_resampled.shape)"
   ]
  },
  {
   "cell_type": "markdown",
   "id": "39c15a81",
   "metadata": {},
   "source": []
  },
  {
   "cell_type": "code",
   "execution_count": 21,
   "id": "f738efbd",
   "metadata": {},
   "outputs": [],
   "source": []
  },
  {
   "cell_type": "code",
   "execution_count": null,
   "id": "f0a11655",
   "metadata": {},
   "outputs": [],
   "source": []
  },
  {
   "cell_type": "code",
   "execution_count": null,
   "id": "0cd1737f",
   "metadata": {},
   "outputs": [],
   "source": []
  },
  {
   "cell_type": "code",
   "execution_count": null,
   "id": "cba83f85",
   "metadata": {},
   "outputs": [],
   "source": []
  },
  {
   "cell_type": "code",
   "execution_count": null,
   "id": "a8a6cb63",
   "metadata": {},
   "outputs": [],
   "source": []
  },
  {
   "cell_type": "code",
   "execution_count": null,
   "id": "1fb8aeee",
   "metadata": {},
   "outputs": [],
   "source": []
  },
  {
   "cell_type": "markdown",
   "id": "caae6267",
   "metadata": {},
   "source": [
    "#### 오버샘플링 smotenc / smoten"
   ]
  },
  {
   "cell_type": "code",
   "execution_count": 73,
   "id": "1b08c4e1",
   "metadata": {},
   "outputs": [
    {
     "name": "stdout",
     "output_type": "stream",
     "text": [
      "(2040, 8)\n"
     ]
    }
   ],
   "source": [
    "# 재현율 57 프로 나머지, 평균 80\n",
    "from imblearn.over_sampling import SMOTENC\n",
    "smote_nc = SMOTENC(categorical_features=[0, 2], random_state=0)\n",
    "X_resampled, y_resampled = smote_nc.fit_resample(X, y)\n",
    "print(X_resampled.shape)"
   ]
  },
  {
   "cell_type": "code",
   "execution_count": 57,
   "id": "60d870eb",
   "metadata": {},
   "outputs": [
    {
     "name": "stdout",
     "output_type": "stream",
     "text": [
      "(2040, 7)\n"
     ]
    }
   ],
   "source": [
    "from imblearn.over_sampling import SMOTEN\n",
    "sampler = SMOTEN(random_state=0)\n",
    "X_resampled, y_resampled = sampler.fit_resample(X, y)\n",
    "print(X_resampled.shape)"
   ]
  },
  {
   "cell_type": "markdown",
   "id": "b4734883",
   "metadata": {},
   "source": [
    "#### 오버와 언더 조합"
   ]
  },
  {
   "cell_type": "code",
   "execution_count": 59,
   "id": "e73d614b",
   "metadata": {},
   "outputs": [
    {
     "name": "stdout",
     "output_type": "stream",
     "text": [
      "(1078, 7)\n"
     ]
    }
   ],
   "source": [
    "from imblearn.combine import *\n",
    "smote_enn = SMOTEENN(random_state=0)\n",
    "X_resampled, y_resampled = smote_enn.fit_resample(X, y)\n",
    "print(X_resampled.shape)"
   ]
  },
  {
   "cell_type": "code",
   "execution_count": 70,
   "id": "16e7e410",
   "metadata": {},
   "outputs": [
    {
     "name": "stdout",
     "output_type": "stream",
     "text": [
      "(1978, 8)\n"
     ]
    }
   ],
   "source": [
    "smote_tomek = SMOTETomek(random_state=0)\n",
    "X_resampled, y_resampled = smote_tomek.fit_resample(X, y)\n",
    "print(X_resampled.shape)"
   ]
  },
  {
   "cell_type": "markdown",
   "id": "bc4b3320",
   "metadata": {},
   "source": [
    "#### 분류 모델"
   ]
  },
  {
   "cell_type": "code",
   "execution_count": 71,
   "id": "85bd8a69",
   "metadata": {},
   "outputs": [
    {
     "name": "stdout",
     "output_type": "stream",
     "text": [
      "[[249   8]\n",
      " [ 59  82]]\n",
      "              precision    recall  f1-score   support\n",
      "\n",
      "           0       0.81      0.97      0.88       257\n",
      "           1       0.91      0.58      0.71       141\n",
      "\n",
      "    accuracy                           0.83       398\n",
      "   macro avg       0.86      0.78      0.80       398\n",
      "weighted avg       0.84      0.83      0.82       398\n",
      "\n"
     ]
    }
   ],
   "source": [
    "from sklearn import tree\n",
    "# sklearn 라이브러리에서 Decision Tree 분류 모형 가져오기\n",
    "\n",
    "# 모형 객체 생성 (criterion='entropy' 적용)\n",
    "tree_model = tree.DecisionTreeClassifier(criterion='entropy', max_depth=3)\n",
    "\n",
    "tree_model.fit(X_resampled, y_resampled)\n",
    "y_hat = tree_model.predict(X_test)\n",
    "tree_matrix = metrics.confusion_matrix(y_test, y_hat)\n",
    "print(tree_matrix)\n",
    "tree_report = metrics.classification_report(y_test, y_hat)\n",
    "print(tree_report)\n"
   ]
  },
  {
   "cell_type": "code",
   "execution_count": 27,
   "id": "f8adc542",
   "metadata": {},
   "outputs": [
    {
     "name": "stdout",
     "output_type": "stream",
     "text": [
      "[[225  32]\n",
      " [ 55  86]]\n",
      "              precision    recall  f1-score   support\n",
      "\n",
      "           0       0.80      0.88      0.84       257\n",
      "           1       0.73      0.61      0.66       141\n",
      "\n",
      "    accuracy                           0.78       398\n",
      "   macro avg       0.77      0.74      0.75       398\n",
      "weighted avg       0.78      0.78      0.78       398\n",
      "\n"
     ]
    }
   ],
   "source": [
    "from sklearn.tree import DecisionTreeClassifier\n",
    "from imblearn.ensemble import BalancedBaggingClassifier\n",
    "bbc = BalancedBaggingClassifier(base_estimator=DecisionTreeClassifier(),\n",
    "                                sampling_strategy='auto',\n",
    "                                replacement=False,\n",
    "                                random_state=0)\n",
    "bbc.fit(X_resampled, y_resampled) \n",
    "y_hat = bbc.predict(X_test)\n",
    "bbc_matrix = metrics.confusion_matrix(y_test, y_hat)\n",
    "print(bbc_matrix)\n",
    "bbc_report = metrics.classification_report(y_test, y_hat)\n",
    "print(bbc_report)"
   ]
  },
  {
   "cell_type": "code",
   "execution_count": 28,
   "id": "bb9feb95",
   "metadata": {},
   "outputs": [
    {
     "name": "stdout",
     "output_type": "stream",
     "text": [
      "[[227  30]\n",
      " [ 54  87]]\n",
      "              precision    recall  f1-score   support\n",
      "\n",
      "           0       0.81      0.88      0.84       257\n",
      "           1       0.74      0.62      0.67       141\n",
      "\n",
      "    accuracy                           0.79       398\n",
      "   macro avg       0.78      0.75      0.76       398\n",
      "weighted avg       0.79      0.79      0.78       398\n",
      "\n"
     ]
    }
   ],
   "source": [
    "from imblearn.ensemble import BalancedRandomForestClassifier\n",
    "brf = BalancedRandomForestClassifier(n_estimators=100, random_state=0)\n",
    "brf.fit(X_resampled, y_resampled) \n",
    "y_hat = brf.predict(X_test)\n",
    "brf_matrix = metrics.confusion_matrix(y_test, y_hat)\n",
    "print(brf_matrix)\n",
    "brf_report = metrics.classification_report(y_test, y_hat)\n",
    "print(brf_report)"
   ]
  },
  {
   "cell_type": "code",
   "execution_count": 29,
   "id": "296b2c20",
   "metadata": {},
   "outputs": [
    {
     "name": "stdout",
     "output_type": "stream",
     "text": [
      "[[236  21]\n",
      " [ 58  83]]\n",
      "              precision    recall  f1-score   support\n",
      "\n",
      "           0       0.80      0.92      0.86       257\n",
      "           1       0.80      0.59      0.68       141\n",
      "\n",
      "    accuracy                           0.80       398\n",
      "   macro avg       0.80      0.75      0.77       398\n",
      "weighted avg       0.80      0.80      0.79       398\n",
      "\n"
     ]
    }
   ],
   "source": [
    "from imblearn.ensemble import EasyEnsembleClassifier\n",
    "eec = EasyEnsembleClassifier(random_state=0)\n",
    "eec.fit(X_resampled, y_resampled)\n",
    "y_hat = eec.predict(X_test)\n",
    "eec_matrix = metrics.confusion_matrix(y_test, y_hat)\n",
    "print(eec_matrix)\n",
    "eec_report = metrics.classification_report(y_test, y_hat)\n",
    "print(eec_report)"
   ]
  },
  {
   "cell_type": "markdown",
   "id": "8cce1eeb",
   "metadata": {},
   "source": [
    "#### 랜덤포레스트"
   ]
  },
  {
   "cell_type": "code",
   "execution_count": 72,
   "id": "2ce10410",
   "metadata": {},
   "outputs": [
    {
     "name": "stdout",
     "output_type": "stream",
     "text": [
      "[[229  28]\n",
      " [ 53  88]]\n",
      "              precision    recall  f1-score   support\n",
      "\n",
      "           0       0.81      0.89      0.85       257\n",
      "           1       0.76      0.62      0.68       141\n",
      "\n",
      "    accuracy                           0.80       398\n",
      "   macro avg       0.79      0.76      0.77       398\n",
      "weighted avg       0.79      0.80      0.79       398\n",
      "\n"
     ]
    }
   ],
   "source": [
    "#랜덤 포레스트는 오버샘플링이 좋음\n",
    "# 오버 언더 조합도 낫베드( 데이터 개수가 늘어날 수록 좋음)\n",
    "from sklearn.ensemble import RandomForestClassifier\n",
    "rf_clf = RandomForestClassifier(random_state=0)\n",
    "rf_clf.fit(X_resampled , y_resampled)\n",
    "y_hat = rf_clf.predict(X_test)\n",
    "rf_clf_matrix = metrics.confusion_matrix(y_test, y_hat)\n",
    "print(rf_clf_matrix)\n",
    "rf_clf_report = metrics.classification_report(y_test, y_hat)\n",
    "print(rf_clf_report)"
   ]
  },
  {
   "cell_type": "code",
   "execution_count": null,
   "id": "37ab7242",
   "metadata": {},
   "outputs": [],
   "source": []
  },
  {
   "cell_type": "code",
   "execution_count": null,
   "id": "d5d90f21",
   "metadata": {},
   "outputs": [],
   "source": []
  },
  {
   "cell_type": "code",
   "execution_count": null,
   "id": "e4bbbc18",
   "metadata": {},
   "outputs": [],
   "source": [
    "from sklearn.model_selection import train_test_split\n",
    "from sklearn import metrics\n",
    "\n",
    "X_train, X_test, y_train, y_test = train_test_split(X, y, test_size=0.3, \n",
    "                                                    random_state=10)\n",
    "from sklearn import tree\n",
    "# sklearn 라이브러리에서 Decision Tree 분류 모형 가져오기\n",
    "\n",
    "# 모형 객체 생성 (criterion='entropy' 적용)\n",
    "tree_model = tree.DecisionTreeClassifier(criterion='entropy', max_depth=3)\n",
    "\n",
    "# train data를 가지고 모형 학습m\n",
    "tree_model.fit(X_train, y_train)\n",
    "y_hat = tree_model.predict(X_test)\n",
    "tree_matrix = metrics.confusion_matrix(y_test, y_hat)\n",
    "print(tree_matrix)\n",
    "tree_report = metrics.classification_report(y_test, y_hat)\n",
    "print(tree_report)"
   ]
  },
  {
   "cell_type": "code",
   "execution_count": null,
   "id": "41ec243f",
   "metadata": {},
   "outputs": [],
   "source": []
  },
  {
   "cell_type": "code",
   "execution_count": null,
   "id": "0e5ac4c6",
   "metadata": {},
   "outputs": [],
   "source": [
    "df_Xtrain = pd.DataFrame(X_train)\n",
    "df_ytrain = pd.DataFrame(y_train)\n",
    "df_Xtrain = pd.concat([df_Xtrain, df_ytrain], axis = 1)\n",
    "is_zero = (df_Xtrain[\"FrequentFlyer\"]==0)&(df_Xtrain[\"EverTravelledAbroad\"]==0)&(df_Xtrain[\"TravelInsurance\"]==1)\n",
    "df_Xtrain['is_zero'] = is_zero\n",
    "df_Xtrain[\"is_zero\"] = df_Xtrain[\"is_zero\"].map({False : 0, True : 1})\n",
    "df_Xtrain = df_Xtrain[df_Xtrain['is_zero'] != 1]\n",
    "df_Xtrain = df_Xtrain.drop(\"is_zero\" , axis=1)\n",
    "ndf1 = df_Xtrain[['Age', 'AnnualIncome', 'ChronicDiseases', \n",
    "          'FrequentFlyer', 'FamilyMembers', 'Employment Type',\n",
    "          'EverTravelledAbroad', 'TravelInsurance']]\n",
    "\n",
    "X_resampled  = ndf1[list(ndf1.columns)[:-1]]\n",
    "y_resampled  = ndf1[list(ndf1.columns)[-1]]\n",
    "\n",
    "df_Xtrain.info()"
   ]
  }
 ],
 "metadata": {
  "kernelspec": {
   "display_name": "Python 3",
   "language": "python",
   "name": "python3"
  },
  "language_info": {
   "codemirror_mode": {
    "name": "ipython",
    "version": 3
   },
   "file_extension": ".py",
   "mimetype": "text/x-python",
   "name": "python",
   "nbconvert_exporter": "python",
   "pygments_lexer": "ipython3",
   "version": "3.8.10"
  }
 },
 "nbformat": 4,
 "nbformat_minor": 5
}
