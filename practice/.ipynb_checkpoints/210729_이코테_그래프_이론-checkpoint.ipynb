{
 "cells": [
  {
   "cell_type": "code",
   "execution_count": 1,
   "id": "8407ece3",
   "metadata": {
    "lines_to_next_cell": 2
   },
   "outputs": [
    {
     "name": "stdout",
     "output_type": "stream",
     "text": [
      "6 4\n",
      "1 4\n",
      "2 3\n",
      "2 4\n",
      "5 6\n",
      "각 원소가 속한 집합:  1 1 1 1 5 5 \n",
      "부모 테이블:  1 1 2 1 5 5 "
     ]
    }
   ],
   "source": [
    "#기본적인 서로소 집합 알고리즘 구현\n",
    "\n",
    "def find_parent(parent, x):\n",
    "    #루트 노드가 아니라면, 루트 노드를 찾을때 까지 재귀적으로 호출\n",
    "    if parent[x] != x:\n",
    "        return find_parent(parent, parent[x])\n",
    "    return x\n",
    "\n",
    "def union_parent(parent, a, b):\n",
    "    a = find_parent(parent, a)\n",
    "    b = find_parent(parent, b)\n",
    "    if a<b:\n",
    "        parent[b] = a\n",
    "    else:\n",
    "        parent[a] = b\n",
    "\n",
    "#노드의 개수와 간선(union 연산)의 개수 입력받기\n",
    "v, e = map(int, input().split())\n",
    "parent = [0]*(v+1)\n",
    "\n",
    "# 부모 테이블상에서, 부모를 자기 자신으로 초기화\n",
    "for i in range(1, v+1):\n",
    "    parent[i] = i\n",
    "    \n",
    "#union 연산을 각각 수행\n",
    "for i in range(e):\n",
    "    a, b = map(int, input().split())\n",
    "    union_parent(parent, a, b)\n",
    "    \n",
    "#각 원소가 속한 집합 출력\n",
    "print('각 원소가 속한 집합: ', end = ' ')\n",
    "for i in range(1, v+1):\n",
    "    print(find_parent(parent, i), end= ' ')\n",
    "print()\n",
    "\n",
    "#부모 테이블 내용 출력\n",
    "print('부모 테이블: ', end = ' ')\n",
    "for i in range(1, v+1):\n",
    "    print(parent[i], end = ' ')\n",
    "    "
   ]
  },
  {
   "cell_type": "code",
   "execution_count": 2,
   "id": "4cf95c7f",
   "metadata": {},
   "outputs": [],
   "source": [
    "# 고찰\n",
    "def find_parent(parent, x):\n",
    "    # 야, parent table 불러오고 x가져와봐\n",
    "    if parent[x] != x : # parent 테이블에 표시된 값이 x야?\n",
    "        # 그럼 parent테이블 블러오는데, x 값을 업데이트시켜\n",
    "        # parent[x]는 연결된 놈을 뜻하니까  그 놈이 끝까지 가서\n",
    "        # 만날때까지 불러오고 불러옴과 동시에 넌 종료해\n",
    "        return find_parent(parent, parent[x])\n",
    "    #같어? 그러면 그 비교한 값이 니 루트노드 값이야\n",
    "    return x\n",
    "\n",
    "def union_parent(parent, a, b):\n",
    "    # 야 a,b 부모가 누구야?\n",
    "    a = find_parent(parent, a)\n",
    "    b = find_parent(parent, b)\n",
    "    #합칠꺼라며, 그럼 부모끼리 비교해\n",
    "    # 큰놈의 부모가 작은놈이야 알겠어?\n",
    "    if a>b:\n",
    "        parent[a] = b\n",
    "    else:\n",
    "        parent[b] = a"
   ]
  },
  {
   "cell_type": "code",
   "execution_count": 3,
   "id": "a51d6aa3",
   "metadata": {},
   "outputs": [],
   "source": [
    "# 경로압축\n",
    "def find_parent(parent,x):\n",
    "    if parent[x] != x:\n",
    "        # 아 일일이 경로 찾기 귀찮어\n",
    "        # 그냥 루트 노드만 데리구와 그냥 경로 필요없이\n",
    "        # 다 그냥 루트노드 가리켜 알겠어?\n",
    "        # if 종료 조건 만족할라면 , 부모까지 올라가야되자너?\n",
    "        # 올라가서 그넘을 그냥 처음 parent[x]에 넣어\n",
    "        parent[x] = find_parent(parent, parent[x])\n",
    "    return parent[x]"
   ]
  },
  {
   "cell_type": "code",
   "execution_count": 10,
   "id": "11a180e2",
   "metadata": {
    "lines_to_next_cell": 0
   },
   "outputs": [
    {
     "name": "stdout",
     "output_type": "stream",
     "text": [
      "1 2 7 6 8 3 4 5 "
     ]
    }
   ],
   "source": [
    "#review dfs\n",
    "def dfs(graph, v, visited):\n",
    "    visited[v]= True\n",
    "    print(v, end = ' ')\n",
    "    for i in graph[v]:\n",
    "        if not visited[i]:\n",
    "#             return dfs(graph, i, visited) # 깊이로 하나의 경로 탐색\n",
    "            dfs(graph, i, visited) # 깊이로 다 탐색\n",
    "        \n",
    "graph = [\n",
    "    [],\n",
    "    [2, 3, 8],\n",
    "    [1, 7],\n",
    "    [1, 4, 5],\n",
    "    [3, 5],\n",
    "    [3, 4],\n",
    "    [7],\n",
    "    [2, 6, 8],\n",
    "    [1, 7]\n",
    "]  \n",
    "visited = [False]*9\n",
    "dfs(graph, 1, visited)"
   ]
  },
  {
   "cell_type": "markdown",
   "id": "dd5a993b",
   "metadata": {
    "lines_to_next_cell": 2
   },
   "source": [
    "#### 신장트리\n",
    "- 하나의 그래프가 있을 때 모든 노드를 포함하면서 사이클이 존재하지 않는 부분 그래프\n",
    "\n",
    "##### 크루스칼 알고리즘(최소 신장트리 알고리즘)\n",
    "- 다양한 문제 상황에서 가능한 최소한의 비용으로 신장 트리를 찾아야할때\n",
    "\n",
    "- keyidea(크루스칼 알고리즘 - 그리디의 일종)\n",
    "    1. 간선 데이터를 비용에 따라 오름차순으로 정렬\n",
    "    2. 간선을 하나씩 확인하며 현재의 간선이 사이클을 발생시키는지 확인한다.\n",
    "        - 사이클이 발생하지 않는 경우 최소 신장 트리에 포함시킨다\n",
    "        - 사이클이 발생하는 경우 최소 신장트리에 포함시키지 않는다\n",
    "    3. 모든 간선에 대하여 2번의 과정을 반복한다"
   ]
  },
  {
   "cell_type": "code",
   "execution_count": null,
   "id": "3d15d61d",
   "metadata": {},
   "outputs": [],
   "source": [
    "# 크루스칼 알고리즘\n",
    "\n",
    "# 특정 원소 집합 찾기\n",
    "def find_parent(parent, x):\n",
    "    if parent[x] != x:\n",
    "        parent[x] = find_parent(parent, parent[x])\n",
    "    return parent[x]\n",
    "\n",
    "# 두 원소가 속한 집합 합치기\n",
    "def union_parent(a, b):\n",
    "    a = find_parent(parent, a)\n",
    "    b = find_parent(parent, b)\n",
    "    if a>b:\n",
    "        parent[a] = b\n",
    "    else b>a:\n",
    "        parent[b] = a\n",
    "#노드의 개수와 간선의 개수 입력받기\n",
    "v, e = map(int, input().split())\n",
    "parent = [0]*(v+1)\n",
    "\n",
    "#모든 간선을 담을 리스트와 최종 비용을 담을 변수\n",
    "edges = []\n",
    "result = 0\n",
    "\n",
    "# 부모 테이상에서, 부모를 자기 자신으로 초기화\n",
    "for i in ragne(1, v+1):\n",
    "    parent[i] = i\n",
    "# 모든 간선에 대한 정보 입력받기\n",
    "\n",
    "for _ in range(e):\n",
    "    a, b, cost = map(int, input().split())\n",
    "    edges.append((cost,a,b))\n",
    "\n",
    "#간선을 비용순으로 정렬\n",
    "edges.sort()\n",
    "\n",
    "# 간선을 하나씩 확인하며\n",
    "for edge in edges:\n",
    "    cost, a, b = edge\n",
    "    # 사이클이 발생하지 않는 경우에만 집합에 포함\n",
    "    if find_parent(parent, a) != find_parent(parent,b):\n",
    "        union_parent(parent, a, b)\n",
    "        result += cost"
   ]
  },
  {
   "cell_type": "markdown",
   "id": "3031e904",
   "metadata": {},
   "source": [
    "#### 서로소 집합을 활용한 사이클 판별\n",
    "\n",
    "- 간선에 방향성이 없는 무향 그래프에 대해서만 적용가능\n",
    "    1. 각 간선을 확인하며 두 노드의 루투 노드를 확인한다.\n",
    "        - 루트 노드가 서로 다르다면 두 노드에 대하여 union 연산\n",
    "        - 루트노드가 서로 같다면 사이클이 발생\n",
    "    2. 그래프에 포함되어 있는 모든 간선에 대하여 반복"
   ]
  },
  {
   "cell_type": "code",
   "execution_count": null,
   "id": "7301294a",
   "metadata": {},
   "outputs": [],
   "source": [
    "# 서로소 집합을 활용한 사이클 판별 소스코드\n",
    "\n",
    "def find_parent(parent , x):\n",
    "    if parent[x] != x:\n",
    "        parent[x] = find_parent(parent, parent[x])\n",
    "        \n",
    "    return parent[x]\n",
    "\n",
    "\n",
    "def union_parent(a, b):\n",
    "    a = find_parent(parent, a)\n",
    "    b = find_parent(parent, b)\n",
    "    if a>b:\n",
    "        parent[a] = b\n",
    "    else b>a:\n",
    "        parent[b] = a\n",
    "#노드의 개수와 간선의 개수 입력받기\n",
    "v, e = map(int, input().split())\n",
    "parent = [0]*(v+1)\n",
    "\n",
    "# 부모 테이상에서, 부모를 자기 자신으로 초기화\n",
    "for i in ragne(1, v+1):\n",
    "    parent[i] = i\n",
    "\n",
    "cycle = False\n",
    "\n",
    "for i in range(e):\n",
    "    a, b = map(int, input().split())\n",
    "    #사이클이 발생한 경우 종료\n",
    "    if find_parent(parent,a)  == find_parent(parent,b):\n",
    "        cycle = True\n",
    "        break\n",
    "    else:\n",
    "        union_parent(parent,a,b)"
   ]
  },
  {
   "cell_type": "markdown",
   "id": "2d67e0fe",
   "metadata": {},
   "source": [
    "#### 위상 정렬\n",
    "\n",
    "- 방향 그래프의 모든 노드를 '방향성에 거스르지 않도록 순서대로 나열하는 고자할때 사용\n",
    "    ex) 선수 과목을 고려한 학습 순서 설정\n",
    "- 진입 차수 : 들어오는 간선의 개수\n",
    "\n",
    "keyidea(위상 정렬)\n",
    "\n",
    "1. 진입 차수가 0인 노드를 큐에 넣는다\n",
    "2. 큐가 빌 때까지 다음의 과정을 반복한다\n",
    "\n",
    "- 큐에서 원소를 꺼내 해당 노드에서 출발하는 간선을 그래프에서 제거\n",
    "- 새롭게 진입차가 0이 된 노드를 큐에 넣는다\n",
    "\n",
    "\n",
    "참고 : 모든 원소를 방문하기 전에 큐가 빈다면 사이클이 존재한다고 판단"
   ]
  },
  {
   "cell_type": "code",
   "execution_count": 2,
   "id": "e35f75b4",
   "metadata": {},
   "outputs": [
    {
     "ename": "AttributeError",
     "evalue": "'function' object has no attribute 'split'",
     "output_type": "error",
     "traceback": [
      "\u001b[1;31m---------------------------------------------------------------------------\u001b[0m",
      "\u001b[1;31mAttributeError\u001b[0m                            Traceback (most recent call last)",
      "\u001b[1;32m<ipython-input-2-1dc132df176d>\u001b[0m in \u001b[0;36m<module>\u001b[1;34m\u001b[0m\n\u001b[0;32m      2\u001b[0m \u001b[1;33m\u001b[0m\u001b[0m\n\u001b[0;32m      3\u001b[0m \u001b[1;31m# 노드의 개수와 간선의 개수를 입력받기\u001b[0m\u001b[1;33m\u001b[0m\u001b[1;33m\u001b[0m\u001b[1;33m\u001b[0m\u001b[0m\n\u001b[1;32m----> 4\u001b[1;33m \u001b[0mv\u001b[0m\u001b[1;33m,\u001b[0m \u001b[0me\u001b[0m\u001b[1;33m=\u001b[0m \u001b[0mmap\u001b[0m\u001b[1;33m(\u001b[0m\u001b[0mint\u001b[0m\u001b[1;33m,\u001b[0m \u001b[0minput\u001b[0m\u001b[1;33m.\u001b[0m\u001b[0msplit\u001b[0m\u001b[1;33m(\u001b[0m\u001b[1;33m)\u001b[0m\u001b[1;33m)\u001b[0m\u001b[1;33m\u001b[0m\u001b[1;33m\u001b[0m\u001b[0m\n\u001b[0m\u001b[0;32m      5\u001b[0m \u001b[1;33m\u001b[0m\u001b[0m\n\u001b[0;32m      6\u001b[0m \u001b[1;31m# 모든 노드에 대한 진입차수는 0으로 초기화\u001b[0m\u001b[1;33m\u001b[0m\u001b[1;33m\u001b[0m\u001b[1;33m\u001b[0m\u001b[0m\n",
      "\u001b[1;31mAttributeError\u001b[0m: 'function' object has no attribute 'split'"
     ]
    }
   ],
   "source": [
    "from collections import deque\n",
    "\n",
    "# 노드의 개수와 간선의 개수를 입력받기\n",
    "v, e= map(int, input().split())\n",
    "\n",
    "# 모든 노드에 대한 진입차수는 0으로 초기화\n",
    "indegree = [0]*(v+1)\n",
    "\n",
    "# 각 노드에 연결된 간선 정보를 담기 위한 연결 리스트 초기화\n",
    "graph = [[] for i in range(v+1)]\n",
    "\n",
    "# 방향 그래프의 모든 간선 정보를 입력받기\n",
    "for _ in range(e):\n",
    "    a, b = map(int, input().split())\n",
    "    graph[a].append(b)\n",
    "    \n",
    "    # 진입차수 1 증가\n",
    "    indegree[b] += 1\n",
    "    \n",
    "# 위상 정렬 함수\n",
    "def topology_sort():\n",
    "    result = []\n",
    "    q = deque()\n",
    "    \n",
    "    # 처음 시작할 때는 진입차수가 0인 노드를 큐에 삽입\n",
    "    for i in range(1, v+1):\n",
    "        if indegree[i]==0:\n",
    "            q.append(i)\n",
    "    \n",
    "    # 큐가 빌때까지 반복\n",
    "    while q:\n",
    "        # 큐에서 원소 꺼내기\n",
    "        \n",
    "        now = q.popleft()\n",
    "        result.append(now)\n",
    "        \n",
    "        for i in graph[now]:\n",
    "            indegree[i] -= 1\n",
    "            \n",
    "            if indegree[i] ==0:\n",
    "                q.append(i)\n",
    "for i in result:\n",
    "    print(i, end = ' ')"
   ]
  },
  {
   "cell_type": "code",
   "execution_count": null,
   "id": "fd2fd55c",
   "metadata": {},
   "outputs": [],
   "source": []
  },
  {
   "cell_type": "code",
   "execution_count": null,
   "id": "2ee795e4",
   "metadata": {},
   "outputs": [],
   "source": []
  }
 ],
 "metadata": {
  "jupytext": {
   "encoding": "# -*- coding: utf-8 -*-",
   "formats": "ipynb,py:light"
  },
  "kernelspec": {
   "display_name": "Python 3",
   "language": "python",
   "name": "python3"
  },
  "language_info": {
   "codemirror_mode": {
    "name": "ipython",
    "version": 3
   },
   "file_extension": ".py",
   "mimetype": "text/x-python",
   "name": "python",
   "nbconvert_exporter": "python",
   "pygments_lexer": "ipython3",
   "version": "3.8.10"
  }
 },
 "nbformat": 4,
 "nbformat_minor": 5
}
