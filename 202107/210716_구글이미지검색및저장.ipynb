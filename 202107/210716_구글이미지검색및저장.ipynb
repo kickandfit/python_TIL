{
 "cells": [
  {
   "cell_type": "code",
   "execution_count": 1,
   "id": "978b1d80",
   "metadata": {},
   "outputs": [],
   "source": [
    "from selenium import webdriver\n",
    "from bs4 import BeautifulSoup as bs\n",
    "import urllib.request\n",
    "from tqdm import tqdm\n",
    "import os\n",
    "import time"
   ]
  },
  {
   "cell_type": "code",
   "execution_count": 2,
   "id": "cae1661e",
   "metadata": {},
   "outputs": [
    {
     "name": "stdout",
     "output_type": "stream",
     "text": [
      "검색 이미지 검색어를 입력하세요.people in construction\n"
     ]
    },
    {
     "name": "stderr",
     "output_type": "stream",
     "text": [
      "링크=: 100%|█████████████████████████████████████████████████████████████████████| 834/834 [00:00<00:00, 411003.35it/s]\n"
     ]
    },
    {
     "name": "stdout",
     "output_type": "stream",
     "text": [
      "중복 제거전 사진수: 834\n",
      "중복 제거후 사진수: 826\n",
      "people in construction0 로 폴더 생성\n"
     ]
    },
    {
     "name": "stderr",
     "output_type": "stream",
     "text": [
      "진행률=: 100%|███████████████████████████████████████████████████████████████████████| 826/826 [04:31<00:00,  3.04it/s]\n"
     ]
    },
    {
     "ename": "WebDriverException",
     "evalue": "Message: chrome not reachable\n  (Session info: chrome=94.0.4606.81)\n",
     "output_type": "error",
     "traceback": [
      "\u001b[1;31m---------------------------------------------------------------------------\u001b[0m",
      "\u001b[1;31mWebDriverException\u001b[0m                        Traceback (most recent call last)",
      "\u001b[1;32m<ipython-input-2-2a46214e9b8a>\u001b[0m in \u001b[0;36m<module>\u001b[1;34m\u001b[0m\n\u001b[0;32m     68\u001b[0m \u001b[1;33m\u001b[0m\u001b[0m\n\u001b[0;32m     69\u001b[0m \u001b[1;33m\u001b[0m\u001b[0m\n\u001b[1;32m---> 70\u001b[1;33m \u001b[0mdriver\u001b[0m\u001b[1;33m.\u001b[0m\u001b[0mclose\u001b[0m\u001b[1;33m(\u001b[0m\u001b[1;33m)\u001b[0m\u001b[1;33m\u001b[0m\u001b[1;33m\u001b[0m\u001b[0m\n\u001b[0m\u001b[0;32m     71\u001b[0m \u001b[0mprint\u001b[0m\u001b[1;33m(\u001b[0m\u001b[1;34m'검색 이미지 저장이 완료되었습니다.'\u001b[0m\u001b[1;33m)\u001b[0m\u001b[1;33m\u001b[0m\u001b[1;33m\u001b[0m\u001b[0m\n",
      "\u001b[1;32m~\\Anaconda3\\envs\\multi\\lib\\site-packages\\selenium\\webdriver\\remote\\webdriver.py\u001b[0m in \u001b[0;36mclose\u001b[1;34m(self)\u001b[0m\n\u001b[0;32m    686\u001b[0m             \u001b[0mdriver\u001b[0m\u001b[1;33m.\u001b[0m\u001b[0mclose\u001b[0m\u001b[1;33m(\u001b[0m\u001b[1;33m)\u001b[0m\u001b[1;33m\u001b[0m\u001b[1;33m\u001b[0m\u001b[0m\n\u001b[0;32m    687\u001b[0m         \"\"\"\n\u001b[1;32m--> 688\u001b[1;33m         \u001b[0mself\u001b[0m\u001b[1;33m.\u001b[0m\u001b[0mexecute\u001b[0m\u001b[1;33m(\u001b[0m\u001b[0mCommand\u001b[0m\u001b[1;33m.\u001b[0m\u001b[0mCLOSE\u001b[0m\u001b[1;33m)\u001b[0m\u001b[1;33m\u001b[0m\u001b[1;33m\u001b[0m\u001b[0m\n\u001b[0m\u001b[0;32m    689\u001b[0m \u001b[1;33m\u001b[0m\u001b[0m\n\u001b[0;32m    690\u001b[0m     \u001b[1;32mdef\u001b[0m \u001b[0mquit\u001b[0m\u001b[1;33m(\u001b[0m\u001b[0mself\u001b[0m\u001b[1;33m)\u001b[0m\u001b[1;33m:\u001b[0m\u001b[1;33m\u001b[0m\u001b[1;33m\u001b[0m\u001b[0m\n",
      "\u001b[1;32m~\\Anaconda3\\envs\\multi\\lib\\site-packages\\selenium\\webdriver\\remote\\webdriver.py\u001b[0m in \u001b[0;36mexecute\u001b[1;34m(self, driver_command, params)\u001b[0m\n\u001b[0;32m    319\u001b[0m         \u001b[0mresponse\u001b[0m \u001b[1;33m=\u001b[0m \u001b[0mself\u001b[0m\u001b[1;33m.\u001b[0m\u001b[0mcommand_executor\u001b[0m\u001b[1;33m.\u001b[0m\u001b[0mexecute\u001b[0m\u001b[1;33m(\u001b[0m\u001b[0mdriver_command\u001b[0m\u001b[1;33m,\u001b[0m \u001b[0mparams\u001b[0m\u001b[1;33m)\u001b[0m\u001b[1;33m\u001b[0m\u001b[1;33m\u001b[0m\u001b[0m\n\u001b[0;32m    320\u001b[0m         \u001b[1;32mif\u001b[0m \u001b[0mresponse\u001b[0m\u001b[1;33m:\u001b[0m\u001b[1;33m\u001b[0m\u001b[1;33m\u001b[0m\u001b[0m\n\u001b[1;32m--> 321\u001b[1;33m             \u001b[0mself\u001b[0m\u001b[1;33m.\u001b[0m\u001b[0merror_handler\u001b[0m\u001b[1;33m.\u001b[0m\u001b[0mcheck_response\u001b[0m\u001b[1;33m(\u001b[0m\u001b[0mresponse\u001b[0m\u001b[1;33m)\u001b[0m\u001b[1;33m\u001b[0m\u001b[1;33m\u001b[0m\u001b[0m\n\u001b[0m\u001b[0;32m    322\u001b[0m             response['value'] = self._unwrap_value(\n\u001b[0;32m    323\u001b[0m                 response.get('value', None))\n",
      "\u001b[1;32m~\\Anaconda3\\envs\\multi\\lib\\site-packages\\selenium\\webdriver\\remote\\errorhandler.py\u001b[0m in \u001b[0;36mcheck_response\u001b[1;34m(self, response)\u001b[0m\n\u001b[0;32m    240\u001b[0m                 \u001b[0malert_text\u001b[0m \u001b[1;33m=\u001b[0m \u001b[0mvalue\u001b[0m\u001b[1;33m[\u001b[0m\u001b[1;34m'alert'\u001b[0m\u001b[1;33m]\u001b[0m\u001b[1;33m.\u001b[0m\u001b[0mget\u001b[0m\u001b[1;33m(\u001b[0m\u001b[1;34m'text'\u001b[0m\u001b[1;33m)\u001b[0m\u001b[1;33m\u001b[0m\u001b[1;33m\u001b[0m\u001b[0m\n\u001b[0;32m    241\u001b[0m             \u001b[1;32mraise\u001b[0m \u001b[0mexception_class\u001b[0m\u001b[1;33m(\u001b[0m\u001b[0mmessage\u001b[0m\u001b[1;33m,\u001b[0m \u001b[0mscreen\u001b[0m\u001b[1;33m,\u001b[0m \u001b[0mstacktrace\u001b[0m\u001b[1;33m,\u001b[0m \u001b[0malert_text\u001b[0m\u001b[1;33m)\u001b[0m\u001b[1;33m\u001b[0m\u001b[1;33m\u001b[0m\u001b[0m\n\u001b[1;32m--> 242\u001b[1;33m         \u001b[1;32mraise\u001b[0m \u001b[0mexception_class\u001b[0m\u001b[1;33m(\u001b[0m\u001b[0mmessage\u001b[0m\u001b[1;33m,\u001b[0m \u001b[0mscreen\u001b[0m\u001b[1;33m,\u001b[0m \u001b[0mstacktrace\u001b[0m\u001b[1;33m)\u001b[0m\u001b[1;33m\u001b[0m\u001b[1;33m\u001b[0m\u001b[0m\n\u001b[0m\u001b[0;32m    243\u001b[0m \u001b[1;33m\u001b[0m\u001b[0m\n\u001b[0;32m    244\u001b[0m     \u001b[1;32mdef\u001b[0m \u001b[0m_value_or_default\u001b[0m\u001b[1;33m(\u001b[0m\u001b[0mself\u001b[0m\u001b[1;33m,\u001b[0m \u001b[0mobj\u001b[0m\u001b[1;33m,\u001b[0m \u001b[0mkey\u001b[0m\u001b[1;33m,\u001b[0m \u001b[0mdefault\u001b[0m\u001b[1;33m)\u001b[0m\u001b[1;33m:\u001b[0m\u001b[1;33m\u001b[0m\u001b[1;33m\u001b[0m\u001b[0m\n",
      "\u001b[1;31mWebDriverException\u001b[0m: Message: chrome not reachable\n  (Session info: chrome=94.0.4606.81)\n"
     ]
    }
   ],
   "source": [
    "#최종 코드\n",
    "from selenium import webdriver\n",
    "from bs4 import BeautifulSoup as bs\n",
    "import urllib.request\n",
    "from tqdm import tqdm\n",
    "import os\n",
    "import time\n",
    "keyword=input('검색 이미지 검색어를 입력하세요.')\n",
    "\n",
    "url = 'https://www.google.com/search?q=' + keyword\n",
    "url =  url + '&source=lnms&tbm=isch&sa=X&ved=2ahUKEwidk7S36ebxAhWkyosBHYD-Du4Q_AUoAXoECAEQAw&biw=768&bih=712'\n",
    "\n",
    "driver = webdriver.Chrome('c:/pydata/chromedriver.exe')\n",
    "driver.get(url)\n",
    "time.sleep(2)\n",
    "img_url_list=[]\n",
    "\n",
    "for i in range(12):\n",
    "    if i ==7:\n",
    "        # 더보기 버튼 클릭\n",
    "#         driver.find_element_by_css_selector('#islmp > div > div > div > div.WYR1I > span').click()\n",
    "        driver.find_element_by_css_selector('#islmp > div > div > div > div.gBPM8 > div.qvfT1 > div.YstHxe > input').click()\n",
    "        \n",
    "        time.sleep(2)\n",
    "        \n",
    "    #스크롤을 내려라라는 명령어\n",
    "    driver.execute_script(\"window.scrollTo(0, document.body.scrollHeight);\")\n",
    "    time.sleep(2)\n",
    "    \n",
    "html_source = driver.page_source\n",
    "soup = bs(html_source, 'html.parser')\n",
    "\n",
    "img_soup = soup.select('img.rg_i.Q4LuWd')\n",
    "\n",
    "img_list=[]\n",
    "for img in tqdm(img_soup, desc='링크='):\n",
    "    try:\n",
    "        img_list.append(img['src'])\n",
    "    except:\n",
    "        img_list.append(img['data-src'])\n",
    "\n",
    "print(\"중복 제거전 사진수:\", len(img_list))\n",
    "\n",
    "img_list = set(img_list) #중복 제거\n",
    "\n",
    "print(\"중복 제거후 사진수:\", len(img_list))\n",
    "\n",
    "fDir = \"c:/pydata/image/\"\n",
    "fName = os.listdir(fDir) # fDir 로 들어가서 거기 있는거 다가지구와\n",
    "\n",
    "### 저장할 폴더 존재여부 확인\n",
    "fName_dir = keyword+\"0\"\n",
    "cnt = 0\n",
    "while True:\n",
    "    if fName_dir not in fName:      # 새로 생성한 폴더가 현재 저장 위치에 있다/없다 결정\n",
    "        os.makedirs(fDir+fName_dir) # 없으면 현재 이름으로 폴더생성\n",
    "        break                      # 폴더 생성후 while문 나가기\n",
    "    cnt += 1\n",
    "    fName_dir = keyword + str(cnt)  # 새로운 폴더명 생성\n",
    "\n",
    "print(fName_dir,\"로 폴더 생성\")\n",
    "cnt=0\n",
    "for img in tqdm(img_list, desc='진행률='):\n",
    "    sfdir = fDir + fName_dir + '/'+ keyword + str(cnt) + '.jpg'\n",
    "    urllib.request.urlretrieve(img, sfdir)\n",
    "    \n",
    "    cnt+=1\n",
    "    \n",
    "\n",
    "driver.close()\n",
    "print('검색 이미지 저장이 완료되었습니다.')"
   ]
  },
  {
   "cell_type": "code",
   "execution_count": null,
   "id": "2174947c",
   "metadata": {},
   "outputs": [],
   "source": [
    "##islmp > div > div > div > div.gBPM8 > div.qvfT1 > div.YstHxe > input\n",
    "#결과더보기 copy>selector"
   ]
  },
  {
   "cell_type": "code",
   "execution_count": null,
   "id": "daffbdd5",
   "metadata": {},
   "outputs": [],
   "source": [
    "html_source = driver.page_source\n",
    "soup = bs(html_source, 'html.parser')\n",
    "\n",
    "img_soup = soup.select('img.rg_i.Q4LuWd')\n",
    "img_url = img_soup[0]['src']\n",
    "\n",
    "srcf = 'c:/pydata/'+keyword + \"_1.jpg\"\n",
    "urllib.request.urlretrieve(img_url, srcf)"
   ]
  },
  {
   "cell_type": "code",
   "execution_count": null,
   "id": "1e13afb0",
   "metadata": {},
   "outputs": [],
   "source": [
    "html_source = driver.page_source\n",
    "soup = bs(html_source, 'html.parser')\n",
    "\n",
    "img_soup = soup.select('img.rg_i.Q4LuWd')\n",
    "\n",
    "img_list=[]\n",
    "for img in tqdm(img_soup, desc='링크='):\n",
    "    try:\n",
    "        img_list.append(img['src'])\n",
    "    except:\n",
    "        img_list.append(img['data-src'])\n"
   ]
  },
  {
   "cell_type": "code",
   "execution_count": null,
   "id": "e87c533f",
   "metadata": {},
   "outputs": [],
   "source": [
    "print(\"중복 제거전 사진수:\", len(img_list))\n",
    "\n",
    "img_list = set(img_list) #중복 제거\n",
    "\n",
    "print(\"중복 제거후 사진수:\", len(img_list))"
   ]
  },
  {
   "cell_type": "code",
   "execution_count": null,
   "id": "0488feb2",
   "metadata": {},
   "outputs": [],
   "source": [
    "fDir = \"c:/pydata/image/\"\n",
    "fName = os.listdir(fDir) # fDir 로 들어가서 거기 있는거 다가지구와\n",
    "print()"
   ]
  },
  {
   "cell_type": "code",
   "execution_count": null,
   "id": "d66fb389",
   "metadata": {},
   "outputs": [],
   "source": [
    "fDir = \"c:/pydata/image/\"\n",
    "fName = os.listdir(fDir) # fDir 로 들어가서 거기 있는거 다가지구와\n",
    "\n",
    "### 저장할 폴더 존재여부 확인\n",
    "fName_dir = keyword+\"0\"\n",
    "cnt = 0\n",
    "while True:\n",
    "    if fName_dir not in fName:      # 새로 생성한 폴더가 현재 저장 위치에 있다/없다 결정\n",
    "        os.makedirs(fDir+fName_dir) # 없으면 현재 이름으로 폴더생성\n",
    "        break                      # 폴더 생성후 while문 나가기\n",
    "    cnt += 1\n",
    "    fName_dir = keyword + str(cnt)  # 새로운 폴더명 생성\n",
    "\n",
    "print(fName_dir,\"로 폴더 생성\")"
   ]
  },
  {
   "cell_type": "markdown",
   "id": "7ab2de5a",
   "metadata": {},
   "source": [
    "### 생성 폴더에 검색 이미지 저장"
   ]
  },
  {
   "cell_type": "code",
   "execution_count": null,
   "id": "e8b9b4b2",
   "metadata": {},
   "outputs": [],
   "source": [
    "cnt=0\n",
    "for img in tqdm(img_list, desc='진행률='):\n",
    "    sfdir = fDir + fName_dir + '/'+ keyword + str(cnt) + '.jpg'\n",
    "    urllib.request.urlretrieve(img, sfdir)\n",
    "    \n",
    "    cnt+=1\n",
    "    \n",
    "\n",
    "driver.close()\n",
    "print('검색 이미지 저장이 완료되었습니다.')"
   ]
  },
  {
   "cell_type": "code",
   "execution_count": null,
   "id": "6fab92d7",
   "metadata": {},
   "outputs": [],
   "source": [
    "# 한글이 먹히지 않을때 디코딩 값 찾기\n",
    "from urllib.parse import quote , unquote\n",
    "print(quote('코로나')) # 한글이나 영어를 % 인코딩으로 바꾸는 것"
   ]
  },
  {
   "cell_type": "code",
   "execution_count": null,
   "id": "c40aeecc",
   "metadata": {},
   "outputs": [],
   "source": [
    "# 퍼센트 인코딩을 한글이나 영어로 인식\n",
    "print(unquote('%EC%BD%94%EB%A1%9C%EB%82%98')) "
   ]
  },
  {
   "cell_type": "code",
   "execution_count": null,
   "id": "ca8d11d1",
   "metadata": {},
   "outputs": [],
   "source": [
    "img_soup"
   ]
  }
 ],
 "metadata": {
  "kernelspec": {
   "display_name": "Python 3",
   "language": "python",
   "name": "python3"
  }
 },
 "nbformat": 4,
 "nbformat_minor": 5
}
