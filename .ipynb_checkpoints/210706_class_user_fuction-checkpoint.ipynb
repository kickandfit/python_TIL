{
 "cells": [
  {
   "cell_type": "code",
   "execution_count": 1,
   "id": "59fde9a0",
   "metadata": {},
   "outputs": [],
   "source": [
    "#사용자 정의함수 생성\n",
    "def usr_fun1(x, y, z = 10):\n",
    "    tot = x + y + z\n",
    "    print(f'x={x}, y={y}, z={z}, 합계={tot}')"
   ]
  },
  {
   "cell_type": "code",
   "execution_count": 2,
   "id": "e1d98044",
   "metadata": {},
   "outputs": [
    {
     "name": "stdout",
     "output_type": "stream",
     "text": [
      "x=10, y=10, z=10, 합계=30\n"
     ]
    }
   ],
   "source": [
    "usr_fun(10, 10) #def 정의된 함수를 호출하는 방법"
   ]
  },
  {
   "cell_type": "code",
   "execution_count": 4,
   "id": "d918ee4f",
   "metadata": {},
   "outputs": [
    {
     "name": "stdout",
     "output_type": "stream",
     "text": [
      "x=20, y=20, z=20, 합계=60\n"
     ]
    }
   ],
   "source": [
    "usr_fun(20, 20, 20)"
   ]
  },
  {
   "cell_type": "code",
   "execution_count": 17,
   "id": "af4ff7d5",
   "metadata": {},
   "outputs": [],
   "source": [
    "# 생략해도 되는 데이터는 끝에다 넣는다\n",
    "# 사용자 정의 함수 생성(계산 결과를 돌려주는 함수)\n",
    "def usr_fun2(x, y, z):\n",
    "#     global tot #global은 잘 쓰지 않어 왜냐면 주소값이 헷갈림\n",
    "    tot = x + y + z\n",
    "    return tot"
   ]
  },
  {
   "cell_type": "code",
   "execution_count": 21,
   "id": "f2055cfc",
   "metadata": {},
   "outputs": [
    {
     "name": "stdout",
     "output_type": "stream",
     "text": [
      "tot=30,p_tot = 30\n"
     ]
    }
   ],
   "source": [
    "#tot = 10\n",
    "p_tot = usr_fun2(10, 10, 10)\n",
    "#tot = 10\n",
    "print(f'tot={tot},p_tot = {p_tot}')"
   ]
  },
  {
   "cell_type": "code",
   "execution_count": 22,
   "id": "b0fe95c3",
   "metadata": {},
   "outputs": [
    {
     "name": "stdout",
     "output_type": "stream",
     "text": [
      "tot=30,p_tot = 300\n"
     ]
    }
   ],
   "source": [
    "def usr_fun3(x, y, z):\n",
    "    tot = x + y + z\n",
    "    p_tot = tot*10\n",
    "    return tot, p_tot # 두개씩 받을 수 있어\n",
    "\n",
    "\n",
    "tot, p_tot = usr_fun3(10, 10, 10)\n",
    "print(f'tot={tot},p_tot = {p_tot}')"
   ]
  },
  {
   "cell_type": "markdown",
   "id": "3e69a304",
   "metadata": {},
   "source": [
    "### 객체\n",
    "- 속성과 메서드로 나눠진다\n",
    "- 속성 : 고유값 메서드 : 명령어,대게 함수\n",
    "\n",
    "- a= 클래스_1\n",
    "- b= 클래스_1 # a, b는 클래스_1에 의해 만들어진 객체\n"
   ]
  },
  {
   "cell_type": "code",
   "execution_count": 34,
   "id": "c9a67506",
   "metadata": {},
   "outputs": [],
   "source": [
    "class Fun_cls: # 클래스 첫 글자는 대문자로 많이 적음\n",
    "    \n",
    "    # 클래스 기준 인스턴스 속성에 해당됨\n",
    "    def usr_fun1(x, y, z = 10):\n",
    "\n",
    "        tot = x + y + z\n",
    "        print(f'x={x}, y={y}, z={z}, 합계={tot}')\n",
    "\n",
    "    def usr_fun2(x, y, z):\n",
    "\n",
    "        tot = x + y + z\n",
    "        p_tot = tot *10\n",
    "        return tot , p_tot"
   ]
  },
  {
   "cell_type": "code",
   "execution_count": 35,
   "id": "82292dd6",
   "metadata": {},
   "outputs": [
    {
     "data": {
      "text/plain": [
       "(60, 600)"
      ]
     },
     "execution_count": 35,
     "metadata": {},
     "output_type": "execute_result"
    }
   ],
   "source": [
    "# 클래스 이용하여 호출하기\n",
    "\n",
    "Fun_cls.usr_fun2( 10, 30, 20)"
   ]
  },
  {
   "cell_type": "code",
   "execution_count": 36,
   "id": "09c166a3",
   "metadata": {},
   "outputs": [
    {
     "name": "stdout",
     "output_type": "stream",
     "text": [
      "tot=30,p_tot = 300\n"
     ]
    }
   ],
   "source": [
    "# 클래스 입장에서 바라보면 인스턴스 객체 객체 입장에서는 객체\n",
    "\n",
    "fl = Fun_cls\n",
    "\n",
    "# fl.usr_fun2(1, 1, 1)\n",
    "tot, p_tot = fl.usr_fun2(10,10,10)\n",
    "print(f'tot={tot},p_tot = {p_tot}')"
   ]
  },
  {
   "cell_type": "code",
   "execution_count": null,
   "id": "36c25c2a",
   "metadata": {},
   "outputs": [],
   "source": []
  }
 ],
 "metadata": {
  "kernelspec": {
   "display_name": "Python 3",
   "language": "python",
   "name": "python3"
  },
  "language_info": {
   "codemirror_mode": {
    "name": "ipython",
    "version": 3
   },
   "file_extension": ".py",
   "mimetype": "text/x-python",
   "name": "python",
   "nbconvert_exporter": "python",
   "pygments_lexer": "ipython3",
   "version": "3.9.4"
  }
 },
 "nbformat": 4,
 "nbformat_minor": 5
}
