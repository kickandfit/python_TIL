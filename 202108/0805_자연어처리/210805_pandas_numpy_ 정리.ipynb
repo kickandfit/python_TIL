{
 "cells": [
  {
   "cell_type": "markdown",
   "id": "b0796016",
   "metadata": {},
   "source": [
    "## pandas\n",
    "\n",
    "- 일반적으로 세가지 구조\n",
    "    - 시리즈(Series) ( 1차원 배열에 대응 되는 구조 )\n",
    "    - 데이터 프레임)DataFrame) ( 2차원 배열에 대응 되는 구조 )\n",
    "    - 패널(Panel)"
   ]
  },
  {
   "cell_type": "code",
   "execution_count": null,
   "id": "7569c255",
   "metadata": {},
   "outputs": [],
   "source": [
    "import pandas as pd"
   ]
  },
  {
   "cell_type": "markdown",
   "id": "80fa1573",
   "metadata": {},
   "source": [
    "시리즈(Series)\n",
    "- 시리즈 클래스는 1차원 배열의 값(values)에 값에 대응되는 인덱스(index)를 부여할 수 있는 구조\n",
    "- index와 value"
   ]
  },
  {
   "cell_type": "code",
   "execution_count": null,
   "id": "077cbfb3",
   "metadata": {},
   "outputs": [],
   "source": [
    "sr = pd.Series([17000, 18000, 1000, 5000],\n",
    "       index=[\"피자\", \"치킨\", \"콜라\", \"맥주\"])\n",
    "print(sr)\n"
   ]
  },
  {
   "cell_type": "code",
   "execution_count": null,
   "id": "baff4a8d",
   "metadata": {},
   "outputs": [],
   "source": [
    "sr.values #시리즈는 값만 출력할 때 배열 구조로 나옴"
   ]
  },
  {
   "cell_type": "code",
   "execution_count": null,
   "id": "34d01fc2",
   "metadata": {},
   "outputs": [],
   "source": [
    "sr.index"
   ]
  },
  {
   "cell_type": "code",
   "execution_count": null,
   "id": "4c44a0bb",
   "metadata": {},
   "outputs": [],
   "source": [
    "sr[0] #sr.iloc[0]"
   ]
  },
  {
   "cell_type": "code",
   "execution_count": null,
   "id": "77afe11b",
   "metadata": {},
   "outputs": [],
   "source": [
    "sr['피자'] #sr.loc['피자']"
   ]
  },
  {
   "cell_type": "markdown",
   "id": "cb59e860",
   "metadata": {},
   "source": [
    "데이터프레임(DataFrame)\n",
    "- 2차원 리스트를 매개변수로 전달\n",
    "- 2차원이므로 행방향 인덱스(index)와 열방향(columns)가 존재하는 자료구조\n",
    "- 열(columns), 인덱스(index), 값(values)으로 구성"
   ]
  },
  {
   "cell_type": "code",
   "execution_count": null,
   "id": "38b104e8",
   "metadata": {},
   "outputs": [],
   "source": [
    "# index와 columns 를 넣어주지 않으면 숫자로 들어감\n",
    "\n",
    "values = [[1, 2, 3], [4, 5, 6], [7, 8, 9]]\n",
    "index = ['one', 'two', 'three']\n",
    "columns = ['A', 'B', 'C']\n",
    "\n",
    "df = pd.DataFrame(values)\n",
    "print(df)\n"
   ]
  },
  {
   "cell_type": "code",
   "execution_count": null,
   "id": "89a81b3b",
   "metadata": {},
   "outputs": [],
   "source": [
    "# index와 column를 넣어준다면 정해준 값을 기준으로 들어감\n",
    "\n",
    "values = [[1, 2, 3], [4, 5, 6], [7, 8, 9]]\n",
    "index = ['one', 'two', 'three']\n",
    "columns = ['A', 'B', 'C']\n",
    "\n",
    "df = pd.DataFrame(values, index=index, columns=columns)\n",
    "print(df)"
   ]
  },
  {
   "cell_type": "code",
   "execution_count": null,
   "id": "ace3671d",
   "metadata": {},
   "outputs": [],
   "source": [
    "import numpy as np\n",
    "\n",
    "# 데이터 프레임을 np로 넘기는 부분\n",
    "# tensorflow 와 keras 에서 기본적으로 배열을 가지고 들어감"
   ]
  },
  {
   "cell_type": "code",
   "execution_count": null,
   "id": "b161c189",
   "metadata": {},
   "outputs": [],
   "source": [
    "# 방법 1\n",
    "# np.array에 데이터 프레임을 넣으면 기본적으로 value만 가져감\n",
    "\n",
    "np.array(df)"
   ]
  },
  {
   "cell_type": "code",
   "execution_count": null,
   "id": "5e93a7a0",
   "metadata": {},
   "outputs": [],
   "source": [
    "# 방법 2\n",
    "# 마찬가지로 index와 columns를 제외시킴\n",
    "\n",
    "df.to_numpy()"
   ]
  },
  {
   "cell_type": "code",
   "execution_count": null,
   "id": "75471c2f",
   "metadata": {},
   "outputs": [],
   "source": [
    "print(df.index) \n",
    "print(df.columns) # columns is index of axis\n",
    "print(df.values) # values is array like np.array"
   ]
  },
  {
   "cell_type": "code",
   "execution_count": null,
   "id": "a3461b0f",
   "metadata": {},
   "outputs": [],
   "source": [
    "# 리스트로 생성하기\n",
    "data = [\n",
    "    ['1000', 'Steve', 90.72], \n",
    "    ['1001', 'James', 78.09], \n",
    "    ['1002', 'Doyeon', 98.43], \n",
    "    ['1003', 'Jane', 64.19], \n",
    "    ['1004', 'Pilwoong', 81.30],\n",
    "    ['1005', 'Tony', 99.14],\n",
    "]\n",
    "df = pd.DataFrame(data)\n",
    "print(df)\n",
    "print(df.info())"
   ]
  },
  {
   "cell_type": "code",
   "execution_count": null,
   "id": "f9c092dc",
   "metadata": {},
   "outputs": [],
   "source": [
    "# 딕셔너리로 생성하기\n",
    "\n",
    "# dictionary의 key가 columns로 간다\n",
    "\n",
    "data = { '학번' : ['1000', '1001', '1002', '1003', '1004', '1005'],\n",
    "'이름' : [ 'Steve', 'James', 'Doyeon', 'Jane', 'Pilwoong', 'Tony'],\n",
    "         '점수': [90.72, 78.09, 98.43, 64.19, 81.30, 99.14]}\n",
    "\n",
    "df = pd.DataFrame(data)\n",
    "print(df)\n"
   ]
  },
  {
   "cell_type": "code",
   "execution_count": null,
   "id": "223f5f83",
   "metadata": {},
   "outputs": [],
   "source": [
    "data = [{'학번' : '1000', '이름' : 'Steve', \"점수\" : 90.72},\n",
    "       {'학번' : '1001', '이름' : 'Jamees', \"점수\" : 78.09},\n",
    "       {'학번' : '1002', '이름' : 'Doyeon', \"점수\" : 98.43},]\n",
    "df = pd.DataFrame(data)\n",
    "print(df)\n",
    "print()\n",
    "print(np.array(data))#data를 넘파이로 가져오면 딕셔너리 자체로 들어감\n",
    "print()\n",
    "print(np.array(df))"
   ]
  },
  {
   "cell_type": "code",
   "execution_count": null,
   "id": "d5a21c15",
   "metadata": {},
   "outputs": [],
   "source": [
    "np.array(df[['학번']]) # 판다스와 넘파이 변형 후 응용 열떼내기"
   ]
  },
  {
   "cell_type": "code",
   "execution_count": null,
   "id": "4c27a4cf",
   "metadata": {},
   "outputs": [],
   "source": [
    "np.array(df[['학번', '점수']]) # 판다스 넘파이 응용2"
   ]
  },
  {
   "cell_type": "markdown",
   "id": "e1be5726",
   "metadata": {},
   "source": [
    "#### 외부데이터 읽기\n",
    "\n",
    "- Pandas는 CSV, 텍스트, Excel, SQL, HTML, JSON 등 다양한 데이터 파일을 읽고 데이터 프레임 생성\n",
    "- df = pd.read_csv()(csv 또는 txt), df=pd.read_excel(엑셀파일), df=pd.read_html(url), df=pd.read_json(json파일)"
   ]
  },
  {
   "cell_type": "markdown",
   "id": "842f7502",
   "metadata": {},
   "source": [
    "## Numpy\n",
    "\n",
    "- 수치 데이터를 다루는 파이썬 패키지\n",
    "- 핵심 : 다차원 행렬 자료구조인 ndarray를 통해 벡터 및 행렬을 사용하는 선형 대수 계산에서 주로 사용"
   ]
  },
  {
   "cell_type": "code",
   "execution_count": null,
   "id": "596aa2c9",
   "metadata": {},
   "outputs": [],
   "source": [
    "import numpy as np"
   ]
  },
  {
   "cell_type": "markdown",
   "id": "a000cd88",
   "metadata": {},
   "source": [
    "#### numpy의 주요 모듈\n",
    "1. np.array() # 리스트, 튜플, 배열로 부터 ndarray를 생성\n",
    "2. np.asarray() # 기존의 array로 부터 ndarray를 생성\n",
    "3. np.arange() # range와 비슷\n",
    "4. np.linspace(start, end, num) # [start, end] 균일한 간격으로 num개 생성\n",
    "5. np.logspace(start, end, num) # [start, end] log scale 간격으로 num개 생성\n"
   ]
  },
  {
   "cell_type": "code",
   "execution_count": null,
   "id": "c96ac8c3",
   "metadata": {},
   "outputs": [],
   "source": [
    "a = np.array([1, 2, 3, 4, 5]) #리스트를 가지고 1차원 배열 생성\n",
    "print(type(a))\n",
    "print(a)\n"
   ]
  },
  {
   "cell_type": "code",
   "execution_count": null,
   "id": "66dfd509",
   "metadata": {},
   "outputs": [],
   "source": [
    "b = np.array([[10, 20, 30], [ 60, 70, 80]]) \n",
    "print(type(b))\n",
    "print(b) #출력\n"
   ]
  },
  {
   "cell_type": "code",
   "execution_count": null,
   "id": "c3ad65a4",
   "metadata": {},
   "outputs": [],
   "source": [
    "print(b.ndim) #차원 출력 : ......면 행 열\n",
    "print(b.shape) #크기 출력 (구조) : 2행 3열\n"
   ]
  },
  {
   "cell_type": "markdown",
   "id": "80650e04",
   "metadata": {},
   "source": [
    "#### ndarray의 초기화\n",
    "- zero() : 해당 배열에 모두 0을 삽입\n",
    "- ones() : 해당 배열에 모두 1을 삽입\n",
    "- full() : 배열에 사용자가 지정한 값을 넣는데 사용\n",
    "- eye() : 대각선으로 1이고 나머지는 0인 2차원 배열을 생성"
   ]
  },
  {
   "cell_type": "code",
   "execution_count": null,
   "id": "652d546c",
   "metadata": {},
   "outputs": [],
   "source": [
    "a = np.zeros((2,3)) # 모든값이 0인 2x3 배열 생성.\n",
    "print(a)\n"
   ]
  },
  {
   "cell_type": "code",
   "execution_count": null,
   "id": "57311efe",
   "metadata": {},
   "outputs": [],
   "source": [
    "a = np.ones((2,3)) # 모든값이 1인 2x3 배열 생성.\n",
    "print(a)\n"
   ]
  },
  {
   "cell_type": "code",
   "execution_count": null,
   "id": "6a4a1dc5",
   "metadata": {},
   "outputs": [],
   "source": [
    "a = np.full((2,3), 7) # 모든 값이 특정 상수인 배열 생성\n",
    "print(a)"
   ]
  },
  {
   "cell_type": "code",
   "execution_count": null,
   "id": "81cf823f",
   "metadata": {},
   "outputs": [],
   "source": [
    "a = np.eye(3) # 대각선으로는 1이고 나머지는 0인 2차원 배열을 생성\n",
    "print(a)      # 숫자가 3 이면 3x3 행렬 , 5이면 5x5"
   ]
  },
  {
   "cell_type": "markdown",
   "id": "53fa121d",
   "metadata": {},
   "source": [
    "#### np.arange()\n",
    "- 지정해준 범위에 대해서 배열을 생성\n",
    "- numpy.arange(start, stop, step, dtype)\n",
    "- a = np.arange(n) # 0 , ....., n-1 까지 범위의 지정\n",
    "- a = np.arange(i, j, k, dtype = None) # i부터 j-1까지 k 만큼 증가하는배열 dtpye = None 생략(int 32/int64)\n",
    "- a = np.arange(i, j, k, dytpe = np.int32)# i부터 j-1까지 k 만큼 증가하는배열(int32)\n"
   ]
  },
  {
   "cell_type": "code",
   "execution_count": null,
   "id": "245b778a",
   "metadata": {},
   "outputs": [],
   "source": [
    "a = np.arange(5.0)\n",
    "print(a.dtype)\n",
    "a"
   ]
  },
  {
   "cell_type": "code",
   "execution_count": null,
   "id": "4900bbdf",
   "metadata": {},
   "outputs": [],
   "source": [
    "a = np.arange(5)\n",
    "print(a.dtype)\n",
    "a"
   ]
  },
  {
   "cell_type": "markdown",
   "id": "ef36b556",
   "metadata": {},
   "source": [
    "#### NumPy의 dtype\n",
    "\n",
    "unit : 0과 양수 int : 음수 0 정수\n",
    "- np.int8: 8-bit signed integer (from -128 to 127)\n",
    "- np.uint8: 8-bit unsigned integer (from 0 to 255)\n",
    "- np.int16: 16-bit signed integer (from -32768 to 32767)\n",
    "- np.uint16: 16-bit unsigned integer (from 0 to 65535)\n",
    "- np.int32: 32-bit signed integer (from -231 to 231-1)\n",
    "- np.uint32: 32-bit unsigned integer (from 0 to 2**32-1)\n",
    "- np.int64: 64-bit signed integer (from -263 to 263-1)\n",
    "- np.uint64: 64-bit unsigned integer (from 0 to 2**64-1)\n"
   ]
  },
  {
   "cell_type": "markdown",
   "id": "d93d6726",
   "metadata": {},
   "source": [
    "#### reshape()\n",
    "\n",
    "- 배열 구조 변경"
   ]
  },
  {
   "cell_type": "code",
   "execution_count": null,
   "id": "5963d831",
   "metadata": {},
   "outputs": [],
   "source": [
    "a = np.array(np.arange(30))\n",
    "print(a)\n",
    "print()\n",
    "print(a.reshape((5,6)))\n"
   ]
  },
  {
   "cell_type": "code",
   "execution_count": null,
   "id": "8d906b1c",
   "metadata": {},
   "outputs": [],
   "source": [
    "a = np.array(np.arange(30)).reshape((5,6))\n",
    "print(a)"
   ]
  },
  {
   "cell_type": "markdown",
   "id": "d6e481ac",
   "metadata": {},
   "source": [
    "#### Numpy 슬라이싱\n",
    "\n",
    "- ndarray를 통해 만든 다차원 배열은 파이썬의 리스트처럼 슬라이스(Slice) 기능을 지원\n",
    "- 원소들 중 복수 개에 접근할 수 있음\n"
   ]
  },
  {
   "cell_type": "code",
   "execution_count": null,
   "id": "6d9dc3ee",
   "metadata": {},
   "outputs": [],
   "source": [
    "a = np.array([[1, 2, 3], [4, 5, 6]])\n",
    "a"
   ]
  },
  {
   "cell_type": "code",
   "execution_count": null,
   "id": "5ec3dd52",
   "metadata": {},
   "outputs": [],
   "source": [
    "a[0:2, 1:2] # 행: 0부터 2전(0,1) 열 1부터 2전까지(1)"
   ]
  },
  {
   "cell_type": "code",
   "execution_count": null,
   "id": "eef7913c",
   "metadata": {},
   "outputs": [],
   "source": [
    "a.reshape(-1)"
   ]
  },
  {
   "cell_type": "code",
   "execution_count": null,
   "id": "b647790f",
   "metadata": {},
   "outputs": [],
   "source": [
    "# shwallow copy\n",
    "b = a[0, :] # 첫번째 행 출력\n",
    "print(b)\n",
    "print(b.shape)\n",
    "print(b.ndim)"
   ]
  },
  {
   "cell_type": "markdown",
   "id": "511dfb5b",
   "metadata": {},
   "source": [
    "#### Numpy 정수 인덱싱 (integer indxing)\n",
    "- 원본 배열로부터 부분 배열을 구함"
   ]
  },
  {
   "cell_type": "code",
   "execution_count": null,
   "id": "d1071928",
   "metadata": {},
   "outputs": [],
   "source": [
    "a = np.array([[1,2], [4,5], [7,8]])\n"
   ]
  },
  {
   "cell_type": "code",
   "execution_count": null,
   "id": "73703ec8",
   "metadata": {},
   "outputs": [],
   "source": [
    "b = a[[2, 1],[1, 0]] # a[[row2, row1],[col1, col0]]을 의미함.\n",
    "                     # a[[행1],[행2]], [열1,열2]]\n",
    "print(b)\n",
    "# b = [value1, value2] =[(row2, col1), (row1,col0)]\n",
    "# 뭐 이딴식으로 해놨지?"
   ]
  },
  {
   "cell_type": "markdown",
   "id": "94447531",
   "metadata": {},
   "source": [
    "#### Numpy 연산\n",
    "\n",
    "- Mumpy를 사용하면 배열간 연산을 손쉽게 수행\n",
    "- +,-, *, /의 연산자를 사용할 수 있음(산술연산)\n",
    "- add(), subtract(), multiply(), divide() 함수 사용 가능\n",
    "- 벡터와 행렬의 곱 또는 행렬곱을 위해서는 dot()을 사용"
   ]
  },
  {
   "cell_type": "code",
   "execution_count": null,
   "id": "e9ef18df",
   "metadata": {},
   "outputs": [],
   "source": [
    "x = np.array([1,2,3])\n",
    "y = np.array([4,5,6])\n",
    "\n",
    "print(x)\n",
    "print()\n",
    "print(y)\n"
   ]
  },
  {
   "cell_type": "code",
   "execution_count": null,
   "id": "88aff935",
   "metadata": {},
   "outputs": [],
   "source": [
    "b = x + y # 각 요소에 대해서 더함\n",
    "# b = np.add(x, y)와 동일함\n",
    "print(b)"
   ]
  },
  {
   "cell_type": "code",
   "execution_count": null,
   "id": "5f9001cd",
   "metadata": {},
   "outputs": [],
   "source": [
    "b = x - y # 각 요소에 대해서 빼기\n",
    "a= b\n",
    "# b = np.subtract(x, y)와 동일함\n",
    "print(b)\n"
   ]
  },
  {
   "cell_type": "code",
   "execution_count": null,
   "id": "f4bff236",
   "metadata": {},
   "outputs": [],
   "source": [
    "# 행렬자체가 들어가는 것은 재할당의 의미로 들어감\n",
    "# 주소가 바뀌지 않음\n",
    "b = y * x # 각 요소에 대해서 곱셈\n",
    "# b = np.multiply(y, x)와 동일함\n",
    "print(b)\n"
   ]
  },
  {
   "cell_type": "code",
   "execution_count": null,
   "id": "c91a734c",
   "metadata": {},
   "outputs": [],
   "source": [
    "b = y / x  # 각 요소에 대해서 나눗셈\n",
    "# b = np.divide(y, x)와 동일함\n",
    "print(b)\n"
   ]
  },
  {
   "cell_type": "code",
   "execution_count": null,
   "id": "e64df516",
   "metadata": {},
   "outputs": [],
   "source": [
    "a = np.array([[1,2],[3,4]])\n",
    "b = np.array([[5,6],[7,8]])\n",
    "print(a)\n",
    "print()\n",
    "print(b)"
   ]
  },
  {
   "cell_type": "code",
   "execution_count": null,
   "id": "2be52d0c",
   "metadata": {},
   "outputs": [],
   "source": [
    "c = np.dot(a, b)\n",
    "print(c)\n",
    "# a의 행과 b의 열\n",
    "# ([1*2 + 2+7, 1*4 + 2*8],\n",
    "#  [5*3 +4*7, 3*6+4*8])\n",
    "\n",
    "#([a행1*b열1, a행1*b열2],\n",
    "# [a행2*b열1, a행2*b열2])"
   ]
  },
  {
   "cell_type": "code",
   "execution_count": null,
   "id": "d803485d",
   "metadata": {},
   "outputs": [],
   "source": [
    "a = np.array([[1,2],[3,4],[5,6]])\n",
    "b = np.array([[5,6,7],[8,9,10]])\n",
    "c = np.array([[2,2],[3,3],[4,4]])\n",
    "print(a);print(b);print(c)\n",
    "print(a.shape);print(b.shape);print(c.shape)"
   ]
  },
  {
   "cell_type": "code",
   "execution_count": null,
   "id": "9f2a5a85",
   "metadata": {},
   "outputs": [],
   "source": [
    "d = np.dot(a,b)\n",
    "print(d)"
   ]
  },
  {
   "cell_type": "code",
   "execution_count": null,
   "id": "f76de262",
   "metadata": {},
   "outputs": [],
   "source": [
    "e = np.dot(d,c)\n",
    "print(e)"
   ]
  },
  {
   "cell_type": "code",
   "execution_count": 1,
   "id": "2c462b44",
   "metadata": {},
   "outputs": [
    {
     "name": "stdout",
     "output_type": "stream",
     "text": [
      "Collecting pandas_profiling\n",
      "  Using cached pandas_profiling-3.0.0-py2.py3-none-any.whl (248 kB)\n",
      "Collecting htmlmin>=0.1.12\n",
      "  Using cached htmlmin-0.1.12-py3-none-any.whl\n",
      "Collecting visions[type_image_path]==0.7.1\n",
      "  Using cached visions-0.7.1-py3-none-any.whl (102 kB)\n",
      "Collecting missingno>=0.4.2\n",
      "  Using cached missingno-0.5.0-py3-none-any.whl (8.8 kB)\n",
      "Requirement already satisfied: pandas!=1.0.0,!=1.0.1,!=1.0.2,!=1.1.0,>=0.25.3 in c:\\users\\moh12\\anaconda3\\envs\\multi\\lib\\site-packages (from pandas_profiling) (1.3.0)\n",
      "Requirement already satisfied: scipy>=1.4.1 in c:\\users\\moh12\\anaconda3\\envs\\multi\\lib\\site-packages (from pandas_profiling) (1.7.0)\n",
      "Requirement already satisfied: jinja2>=2.11.1 in c:\\users\\moh12\\anaconda3\\envs\\multi\\lib\\site-packages (from pandas_profiling) (3.0.1)\n",
      "Requirement already satisfied: tqdm>=4.48.2 in c:\\users\\moh12\\anaconda3\\envs\\multi\\lib\\site-packages (from pandas_profiling) (4.61.2)\n",
      "Collecting pydantic>=1.8.1\n",
      "  Using cached pydantic-1.8.2-cp38-cp38-win_amd64.whl (2.0 MB)\n",
      "Collecting tangled-up-in-unicode==0.1.0\n",
      "  Using cached tangled_up_in_unicode-0.1.0-py3-none-any.whl (3.1 MB)\n",
      "Collecting seaborn>=0.10.1\n",
      "  Using cached seaborn-0.11.1-py3-none-any.whl (285 kB)\n",
      "Requirement already satisfied: numpy>=1.16.0 in c:\\users\\moh12\\anaconda3\\envs\\multi\\lib\\site-packages (from pandas_profiling) (1.21.1)\n",
      "Requirement already satisfied: joblib in c:\\users\\moh12\\anaconda3\\envs\\multi\\lib\\site-packages (from pandas_profiling) (1.0.1)\n",
      "Requirement already satisfied: PyYAML>=5.0.0 in c:\\users\\moh12\\anaconda3\\envs\\multi\\lib\\site-packages (from pandas_profiling) (5.4.1)\n",
      "Requirement already satisfied: matplotlib>=3.2.0 in c:\\users\\moh12\\anaconda3\\envs\\multi\\lib\\site-packages (from pandas_profiling) (3.4.2)\n",
      "Collecting phik>=0.11.1\n",
      "  Using cached phik-0.12.0-cp38-cp38-win_amd64.whl (659 kB)\n",
      "Requirement already satisfied: requests>=2.24.0 in c:\\users\\moh12\\anaconda3\\envs\\multi\\lib\\site-packages (from pandas_profiling) (2.26.0)\n",
      "Collecting multimethod==1.4\n",
      "  Using cached multimethod-1.4-py2.py3-none-any.whl (7.3 kB)\n",
      "Requirement already satisfied: attrs>=19.3.0 in c:\\users\\moh12\\anaconda3\\envs\\multi\\lib\\site-packages (from visions[type_image_path]==0.7.1->pandas_profiling) (21.2.0)\n",
      "Requirement already satisfied: networkx>=2.4 in c:\\users\\moh12\\anaconda3\\envs\\multi\\lib\\site-packages (from visions[type_image_path]==0.7.1->pandas_profiling) (2.6.2)\n",
      "Collecting bottleneck\n",
      "  Using cached Bottleneck-1.3.2.tar.gz (88 kB)\n",
      "  Installing build dependencies: started\n",
      "  Installing build dependencies: finished with status 'done'\n",
      "  Getting requirements to build wheel: started\n",
      "  Getting requirements to build wheel: finished with status 'done'\n",
      "    Preparing wheel metadata: started\n",
      "    Preparing wheel metadata: finished with status 'done'\n",
      "Collecting imagehash\n",
      "  Using cached ImageHash-4.2.1-py2.py3-none-any.whl\n",
      "Requirement already satisfied: Pillow in c:\\users\\moh12\\anaconda3\\envs\\multi\\lib\\site-packages (from visions[type_image_path]==0.7.1->pandas_profiling) (8.3.1)\n",
      "Requirement already satisfied: MarkupSafe>=2.0 in c:\\users\\moh12\\anaconda3\\envs\\multi\\lib\\site-packages (from jinja2>=2.11.1->pandas_profiling) (2.0.1)\n",
      "Requirement already satisfied: python-dateutil>=2.7 in c:\\users\\moh12\\anaconda3\\envs\\multi\\lib\\site-packages (from matplotlib>=3.2.0->pandas_profiling) (2.8.2)\n",
      "Requirement already satisfied: cycler>=0.10 in c:\\users\\moh12\\anaconda3\\envs\\multi\\lib\\site-packages (from matplotlib>=3.2.0->pandas_profiling) (0.10.0)\n",
      "Requirement already satisfied: pyparsing>=2.2.1 in c:\\users\\moh12\\anaconda3\\envs\\multi\\lib\\site-packages (from matplotlib>=3.2.0->pandas_profiling) (2.4.7)\n",
      "Requirement already satisfied: kiwisolver>=1.0.1 in c:\\users\\moh12\\anaconda3\\envs\\multi\\lib\\site-packages (from matplotlib>=3.2.0->pandas_profiling) (1.3.1)\n",
      "Requirement already satisfied: six in c:\\users\\moh12\\anaconda3\\envs\\multi\\lib\\site-packages (from cycler>=0.10->matplotlib>=3.2.0->pandas_profiling) (1.16.0)\n",
      "Requirement already satisfied: pytz>=2017.3 in c:\\users\\moh12\\anaconda3\\envs\\multi\\lib\\site-packages (from pandas!=1.0.0,!=1.0.1,!=1.0.2,!=1.1.0,>=0.25.3->pandas_profiling) (2021.1)\n",
      "Collecting typing-extensions>=3.7.4.3\n",
      "  Using cached typing_extensions-3.10.0.0-py3-none-any.whl (26 kB)\n",
      "Requirement already satisfied: idna<4,>=2.5 in c:\\users\\moh12\\anaconda3\\envs\\multi\\lib\\site-packages (from requests>=2.24.0->pandas_profiling) (3.2)\n",
      "Requirement already satisfied: certifi>=2017.4.17 in c:\\users\\moh12\\anaconda3\\envs\\multi\\lib\\site-packages (from requests>=2.24.0->pandas_profiling) (2021.5.30)\n",
      "Requirement already satisfied: urllib3<1.27,>=1.21.1 in c:\\users\\moh12\\anaconda3\\envs\\multi\\lib\\site-packages (from requests>=2.24.0->pandas_profiling) (1.26.6)\n",
      "Requirement already satisfied: charset-normalizer~=2.0.0 in c:\\users\\moh12\\anaconda3\\envs\\multi\\lib\\site-packages (from requests>=2.24.0->pandas_profiling) (2.0.3)\n",
      "Requirement already satisfied: colorama in c:\\users\\moh12\\anaconda3\\envs\\multi\\lib\\site-packages (from tqdm>=4.48.2->pandas_profiling) (0.4.4)\n",
      "Collecting PyWavelets\n",
      "  Using cached PyWavelets-1.1.1-cp38-cp38-win_amd64.whl (4.3 MB)\n",
      "Building wheels for collected packages: bottleneck\n",
      "  Building wheel for bottleneck (PEP 517): started\n",
      "  Building wheel for bottleneck (PEP 517): finished with status 'error'\n",
      "Failed to build bottleneck\n"
     ]
    },
    {
     "name": "stderr",
     "output_type": "stream",
     "text": [
      "  ERROR: Command errored out with exit status 1:\n",
      "   command: 'C:\\Users\\moh12\\Anaconda3\\envs\\multi\\python.exe' 'C:\\Users\\moh12\\Anaconda3\\envs\\multi\\lib\\site-packages\\pip\\_vendor\\pep517\\in_process\\_in_process.py' build_wheel 'C:\\Users\\moh12\\AppData\\Local\\Temp\\tmpsjtvzgy6'\n",
      "       cwd: C:\\Users\\moh12\\AppData\\Local\\Temp\\pip-install-aegqx_v8\\bottleneck_ff72e1571dce488b97d55765144814b3\n",
      "  Complete output (51 lines):\n",
      "  running bdist_wheel\n",
      "  running build\n",
      "  running build_py\n",
      "  creating build\n",
      "  creating build\\lib.win-amd64-3.8\n",
      "  creating build\\lib.win-amd64-3.8\\bottleneck\n",
      "  copying bottleneck\\_pytesttester.py -> build\\lib.win-amd64-3.8\\bottleneck\n",
      "  copying bottleneck\\_version.py -> build\\lib.win-amd64-3.8\\bottleneck\n",
      "  copying bottleneck\\__init__.py -> build\\lib.win-amd64-3.8\\bottleneck\n",
      "  creating build\\lib.win-amd64-3.8\\bottleneck\\benchmark\n",
      "  copying bottleneck\\benchmark\\autotimeit.py -> build\\lib.win-amd64-3.8\\bottleneck\\benchmark\n",
      "  copying bottleneck\\benchmark\\bench.py -> build\\lib.win-amd64-3.8\\bottleneck\\benchmark\n",
      "  copying bottleneck\\benchmark\\bench_detailed.py -> build\\lib.win-amd64-3.8\\bottleneck\\benchmark\n",
      "  copying bottleneck\\benchmark\\__init__.py -> build\\lib.win-amd64-3.8\\bottleneck\\benchmark\n",
      "  creating build\\lib.win-amd64-3.8\\bottleneck\\slow\n",
      "  copying bottleneck\\slow\\move.py -> build\\lib.win-amd64-3.8\\bottleneck\\slow\n",
      "  copying bottleneck\\slow\\nonreduce.py -> build\\lib.win-amd64-3.8\\bottleneck\\slow\n",
      "  copying bottleneck\\slow\\nonreduce_axis.py -> build\\lib.win-amd64-3.8\\bottleneck\\slow\n",
      "  copying bottleneck\\slow\\reduce.py -> build\\lib.win-amd64-3.8\\bottleneck\\slow\n",
      "  copying bottleneck\\slow\\__init__.py -> build\\lib.win-amd64-3.8\\bottleneck\\slow\n",
      "  creating build\\lib.win-amd64-3.8\\bottleneck\\src\n",
      "  copying bottleneck\\src\\bn_config.py -> build\\lib.win-amd64-3.8\\bottleneck\\src\n",
      "  copying bottleneck\\src\\bn_template.py -> build\\lib.win-amd64-3.8\\bottleneck\\src\n",
      "  copying bottleneck\\src\\__init__.py -> build\\lib.win-amd64-3.8\\bottleneck\\src\n",
      "  creating build\\lib.win-amd64-3.8\\bottleneck\\tests\n",
      "  copying bottleneck\\tests\\input_modification_test.py -> build\\lib.win-amd64-3.8\\bottleneck\\tests\n",
      "  copying bottleneck\\tests\\list_input_test.py -> build\\lib.win-amd64-3.8\\bottleneck\\tests\n",
      "  copying bottleneck\\tests\\memory_test.py -> build\\lib.win-amd64-3.8\\bottleneck\\tests\n",
      "  copying bottleneck\\tests\\move_test.py -> build\\lib.win-amd64-3.8\\bottleneck\\tests\n",
      "  copying bottleneck\\tests\\nonreduce_axis_test.py -> build\\lib.win-amd64-3.8\\bottleneck\\tests\n",
      "  copying bottleneck\\tests\\nonreduce_test.py -> build\\lib.win-amd64-3.8\\bottleneck\\tests\n",
      "  copying bottleneck\\tests\\reduce_test.py -> build\\lib.win-amd64-3.8\\bottleneck\\tests\n",
      "  copying bottleneck\\tests\\scalar_input_test.py -> build\\lib.win-amd64-3.8\\bottleneck\\tests\n",
      "  copying bottleneck\\tests\\util.py -> build\\lib.win-amd64-3.8\\bottleneck\\tests\n",
      "  copying bottleneck\\tests\\__init__.py -> build\\lib.win-amd64-3.8\\bottleneck\\tests\n",
      "  UPDATING build\\lib.win-amd64-3.8\\bottleneck/_version.py\n",
      "  set build\\lib.win-amd64-3.8\\bottleneck/_version.py to '1.3.2'\n",
      "  running build_ext\n",
      "  running config\n",
      "  compiling '_configtest.c':\n",
      "  \n",
      "  \n",
      "  \n",
      "  int __attribute__((optimize(\"O3\"))) have_attribute_optimize_opt_3(void*);\n",
      "  \n",
      "  int main(void)\n",
      "  {\n",
      "      return 0;\n",
      "  }\n",
      "  \n",
      "  error: Microsoft Visual C++ 14.0 or greater is required. Get it with \"Microsoft C++ Build Tools\": https://visualstudio.microsoft.com/visual-cpp-build-tools/\n",
      "  ----------------------------------------\n",
      "  ERROR: Failed building wheel for bottleneck\n",
      "ERROR: Could not build wheels for bottleneck which use PEP 517 and cannot be installed directly\n"
     ]
    }
   ],
   "source": [
    "!pip install pandas_profiling"
   ]
  },
  {
   "cell_type": "code",
   "execution_count": 2,
   "id": "752b1bba",
   "metadata": {},
   "outputs": [
    {
     "ename": "ModuleNotFoundError",
     "evalue": "No module named 'pandas_profiling'",
     "output_type": "error",
     "traceback": [
      "\u001b[1;31m---------------------------------------------------------------------------\u001b[0m",
      "\u001b[1;31mModuleNotFoundError\u001b[0m                       Traceback (most recent call last)",
      "\u001b[1;32m<ipython-input-2-6a00893fb3e1>\u001b[0m in \u001b[0;36m<module>\u001b[1;34m\u001b[0m\n\u001b[1;32m----> 1\u001b[1;33m \u001b[1;32mimport\u001b[0m \u001b[0mpandas_profiling\u001b[0m\u001b[1;33m\u001b[0m\u001b[1;33m\u001b[0m\u001b[0m\n\u001b[0m",
      "\u001b[1;31mModuleNotFoundError\u001b[0m: No module named 'pandas_profiling'"
     ]
    }
   ],
   "source": [
    "import pandas_profiling"
   ]
  },
  {
   "cell_type": "code",
   "execution_count": null,
   "id": "e00c60a4",
   "metadata": {},
   "outputs": [],
   "source": []
  },
  {
   "cell_type": "code",
   "execution_count": null,
   "id": "98c28d25",
   "metadata": {},
   "outputs": [],
   "source": []
  }
 ],
 "metadata": {
  "jupytext": {
   "formats": "ipynb,auto:light"
  },
  "kernelspec": {
   "display_name": "Python 3",
   "language": "python",
   "name": "python3"
  },
  "language_info": {
   "codemirror_mode": {
    "name": "ipython",
    "version": 3
   },
   "file_extension": ".py",
   "mimetype": "text/x-python",
   "name": "python",
   "nbconvert_exporter": "python",
   "pygments_lexer": "ipython3",
   "version": "3.8.10"
  }
 },
 "nbformat": 4,
 "nbformat_minor": 5
}
