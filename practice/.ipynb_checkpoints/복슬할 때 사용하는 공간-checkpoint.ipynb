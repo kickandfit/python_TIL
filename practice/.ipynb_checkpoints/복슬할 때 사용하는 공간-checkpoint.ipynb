{
 "cells": [
  {
   "cell_type": "markdown",
   "id": "129fbe80",
   "metadata": {},
   "source": [
    "#### DFS"
   ]
  },
  {
   "cell_type": "code",
   "execution_count": null,
   "id": "090f00c2",
   "metadata": {
    "lines_to_next_cell": 2
   },
   "outputs": [],
   "source": [
    "graph = [\n",
    "    [],\n",
    "    [2, 3, 8],\n",
    "    [1, 7],\n",
    "    [1, 4, 5],\n",
    "    [3, 5],\n",
    "    [3, 4],\n",
    "    [7],\n",
    "    [2, 6, 8],\n",
    "    [1, 7]\n",
    "]  \n",
    "visited = [False]*9\n",
    "\n",
    "def dfs (graph, v, visited):\n",
    "    visited[v] = True\n",
    "    print(v , end = ' ')\n",
    "    for now in graph[v]:\n",
    "        if not visited[now]:\n",
    "            dfs(graph, now, visited) \n",
    "dfs(graph, 1, visited)"
   ]
  },
  {
   "cell_type": "code",
   "execution_count": null,
   "id": "0617cf30",
   "metadata": {},
   "outputs": [],
   "source": [
    "# 8/31\n",
    "graph = [\n",
    "    [],\n",
    "    [2, 3, 8],\n",
    "    [1, 7],\n",
    "    [1, 4, 5],\n",
    "    [3, 5],\n",
    "    [3, 4],\n",
    "    [7],\n",
    "    [2, 6, 8],\n",
    "    [1, 7]\n",
    "]  \n",
    "visited = [False]*9\n",
    "\n",
    "def dfs(graph, v, visited):\n",
    "    visited[v] = True\n",
    "    print(v, end = ' ')\n",
    "    for i in graph[v]:\n",
    "        if not visited[i]:\n",
    "            dfs(graph, i, visited) # 이 부분은 완전 탐색\n",
    "            # 9/1 만약 return dfs(graph, i, visited) 로 하게 되면 첫 번째, 끝까지 가는 경로에 대한 내용\n",
    "            \n",
    "dfs(graph, 1, visited)           \n"
   ]
  },
  {
   "cell_type": "markdown",
   "id": "878f1c2e",
   "metadata": {},
   "source": [
    "#### Bfs"
   ]
  },
  {
   "cell_type": "code",
   "execution_count": null,
   "id": "36c1faf6",
   "metadata": {},
   "outputs": [],
   "source": [
    "from collections import deque\n",
    "\n",
    "graph = [\n",
    "    [],\n",
    "    [2, 3, 8],\n",
    "    [1, 7],\n",
    "    [1, 4, 5],\n",
    "    [3, 5],\n",
    "    [3, 4],\n",
    "    [7],\n",
    "    [2, 6, 8],\n",
    "    [1, 7]\n",
    "]  \n",
    "def bfs(graph, start, visited):\n",
    "    queue = deque([start])\n",
    "    visited[start] = True\n",
    "    while queue:\n",
    "        v = queue.popleft()\n",
    "        \n",
    "        print(v, end = ' ')\n",
    "        for i in graph[v]:\n",
    "            if not visited[i]:\n",
    "                queue.append(i)\n",
    "                visited[i] = True\n",
    "        \n",
    "    \n",
    "visited = [False]*9\n",
    "bfs(graph, 1, visited)"
   ]
  },
  {
   "cell_type": "code",
   "execution_count": null,
   "id": "fc195170",
   "metadata": {},
   "outputs": [],
   "source": [
    "# 8 /31\n",
    "from collections import deque\n",
    "\n",
    "graph = [\n",
    "    [],\n",
    "    [2, 3, 8],\n",
    "    [1, 7],\n",
    "    [1, 4, 5],\n",
    "    [3, 5],\n",
    "    [3, 4],\n",
    "    [7],\n",
    "    [2, 6, 8],\n",
    "    [1, 7]\n",
    "]\n",
    "visited = [False]*9\n",
    "\n",
    "def bfs(graph, start, visited):\n",
    "    q = deque([start])\n",
    "    \n",
    "    while q:\n",
    "        v = q.popleft()\n",
    "        visited[v] = True # 9/1 이부분이 차이가 있는데\n",
    "        # 결과는 차이가 없지만 , 이렇게 되면 for 문에서 visited[]를 처리후에\n",
    "        # 한번더 처리함. 비효율 적이다 이거지\n",
    "        # 이 부분의 목적은 start의 방문 처리를 위함이잖아?\n",
    "        # 그니까 이 부분은 위에서 처리해 주는게 효과적이지\n",
    "        \n",
    "        print(v, end = ' ')\n",
    "        for i in graph[v]:\n",
    "            if not visited[i]:\n",
    "                q.append(i)\n",
    "                visited[i] = True\n",
    "bfs(graph, 1, visited)"
   ]
  },
  {
   "cell_type": "markdown",
   "id": "2ab9a2f8",
   "metadata": {},
   "source": [
    "#### 정렬 ( 선택정렬 )"
   ]
  },
  {
   "cell_type": "code",
   "execution_count": null,
   "id": "701c2eb9",
   "metadata": {},
   "outputs": [],
   "source": [
    "array = [7,5,9,0,3,1,6,2,4,8]\n",
    "\n",
    "for i in range(len(array)):\n",
    "    min_index = i\n",
    "    for j in range(i+1,len(array)):\n",
    "        if array[min_index] > array[j]:\n",
    "            array[min_index] , array[j] = array[j] , array[min_index]\n",
    "print(array)"
   ]
  },
  {
   "cell_type": "code",
   "execution_count": null,
   "id": "b33688a1",
   "metadata": {},
   "outputs": [],
   "source": [
    "# 8/31\n",
    "array = [7,5,9,0,3,1,6,2,4,8]\n",
    "\n",
    "for i in range(len(array)):\n",
    "    min_index = i # i번째 선택\n",
    "    for j in range(i+1, len(array)): # 가장 작은 데이터 선택후 i로 이동\n",
    "        if array[min_index] > array[j]:\n",
    "            array[min_index] , array[j] = array[j] , array[min_index]\n",
    "print(array)\n",
    "\n",
    "#9/1 그니까 앞에서 부터 정렬할껀데, 앞에서 min 값을 넣을거지\n",
    "# 그럼 앞 부분부터 인덱스 주고 다음 for문에서\n",
    "# 최소값을 찾고 그 값을 앞부분으로 swap 해주면 된다는 게 핵심이 잖아"
   ]
  },
  {
   "cell_type": "markdown",
   "id": "4f5b058f",
   "metadata": {},
   "source": [
    "#### 정렬( 삽입 정렬과 버블정렬)"
   ]
  },
  {
   "cell_type": "code",
   "execution_count": null,
   "id": "dd7ffb70",
   "metadata": {},
   "outputs": [],
   "source": [
    "array = [7,5,9,0,3,1,6,2,4,8]\n",
    "\n",
    "for i in range(1,len(array)):\n",
    "    for j in range(i, 0, -1):\n",
    "        if array[j] < array[j-1]:\n",
    "            array[j], array[j-1] = array[j-1], array[j]\n",
    "        else:\n",
    "            break\n",
    "\n",
    "# 선택 정렬과 완전 반대 로직 \n",
    "def bubble_sort(array):\n",
    "    for i in range(len(array) - 1, 0, -1):\n",
    "        for j in range(i):\n",
    "            if array[j] > array[j + 1]:\n",
    "                array[j], array[j + 1] = array[j + 1], array[j]\n",
    "print(array)\n",
    "\n",
    "# 9/1\n",
    "# 삽입 정렬은 처음 값을 일단 나둬, 2번 쨰 부터 비교하는데\n",
    "# 핵심은 for문을 거꾸로 뒤집고 값비교후에 작으면 앞으로 옮기고 앞 값이 크면\n",
    "# 그 자리에 두고 포문을 나가는게 핵심 총 2번위 for문이 있음\n",
    "# 버블 정렬은 값을 맨 뒤로 보내는 것임\n",
    "# 선택 정렬과 차이를 보면 뒤로 보낼 때는 for 문을 뒤집으면 되기 때문에\n",
    "# 앞에서 부터 하는 것이 아니기 때문에 max_index를 지정하지 않아도됨"
   ]
  },
  {
   "cell_type": "code",
   "execution_count": null,
   "id": "76c09079",
   "metadata": {},
   "outputs": [],
   "source": [
    "array = [7,5,9,0,3,1,6,2,4,8]\n",
    "\n",
    "for i in range(1,len(array)):\n",
    "    for j in range(i, 0, -1):\n",
    "        if array[j] < array[j-1]: # 작으면 왼쪽으로 이동하다가\n",
    "            array[j], array[j-1] = array[j-1], array[j]\n",
    "        else: # 크면 그대로 멈춰라\n",
    "            break\n",
    "array"
   ]
  },
  {
   "cell_type": "markdown",
   "id": "dbceb154",
   "metadata": {},
   "source": [
    "#### 정렬( 퀵 정렬 )"
   ]
  },
  {
   "cell_type": "code",
   "execution_count": null,
   "id": "90d99c0c",
   "metadata": {
    "lines_to_next_cell": 2
   },
   "outputs": [],
   "source": [
    "# 방법 1\n",
    "array = [7,5,9,0,3,1,6,2,4,8]\n",
    "\n",
    "def quick_sort(array, start, end):\n",
    "    if start >= end:\n",
    "        return\n",
    "    pivot = start\n",
    "    left = start + 1\n",
    "    right = end\n",
    "    while left <= right: \n",
    "        while left <= end and array[left] <= array[pivot]:\n",
    "            left += 1\n",
    "        while right > start and array[right] >= array[pivot]:\n",
    "            right -= 1\n",
    "        if left > right:\n",
    "            array[right], array[pivot] = array[pivot], array[right]\n",
    "        else:\n",
    "            array[left], array[right] = array[right], array[left]\n",
    "        quick_sort(array, start, right-1)\n",
    "        quick_sort(array, right+1 , end)\n",
    "\n",
    "quick_sort(array, 0, len(array) -1)\n",
    "print(array)\n",
    "\n",
    "# 9/1 퀵정렬의 핵심은 투 포인터를 사용한다는 점\n",
    "# 피봇을 정하고 투 포인터로 이동하면서 left에서는 큰 값을 right에서는 작은 값을 찾음\n",
    "# left와 right의 교차 여부에 따라 swap이 바뀜\n",
    "# 교차하지 않는 다면 left와 right를 swap\n",
    "# 교차한다면 pivot과 right를 swqp\n",
    "# 이 과정을 통해 pivot을 기준으로 left에는 작은 값이 right에는 큰 값이 쌓임\n",
    "# 재귀를 통해 left와 right 역시 정리해주면 정렬 완료"
   ]
  },
  {
   "cell_type": "code",
   "execution_count": null,
   "id": "ec74a903",
   "metadata": {},
   "outputs": [],
   "source": [
    "# 8/31\n",
    "array = [7,5,9,0,3,1,6,2,4,8]\n",
    "\n",
    "def quick_sort(array, start, end):\n",
    "    if start >= end:\n",
    "        return\n",
    "    pivot = start\n",
    "    left = start +1\n",
    "    right = end\n",
    "    while left <= right:\n",
    "        while left <= end and array[left] <= array[pivot]:\n",
    "            left += 1\n",
    "        while right > start and array[right] >= array[pivot]:\n",
    "            right -= 1\n",
    "        if left > right:\n",
    "            array[right], array[pivot] = array[pivot], array[right]\n",
    "        else:\n",
    "            array[right], array[left] = array[left], array[right]\n",
    "        quick_sort(array, right+1, end)\n",
    "        quick_sort(array, start, right -1 )\n",
    "\n",
    "def quick_sort1(array):\n",
    "    if len(array) <= 1:\n",
    "        return array\n",
    "    \n",
    "    pivot = array[0]\n",
    "    tail = array[1:]\n",
    "    left_side = [x for x in tail if x <= pivot]\n",
    "    right_side = [x for x in tail if x > pivot]\n",
    "    \n",
    "    return quick_sort1(left_side) + [pivot] + quick_sort1(right_side)\n",
    "\n",
    "quick_sort(array, 0, len(array) -1)\n",
    "print(array)\n",
    "print(quick_sort1(array))"
   ]
  },
  {
   "cell_type": "code",
   "execution_count": 1,
   "id": "dd713ff4",
   "metadata": {},
   "outputs": [
    {
     "name": "stdout",
     "output_type": "stream",
     "text": [
      "[0, 1, 2, 3, 4, 5, 6, 7, 8, 9]\n"
     ]
    }
   ],
   "source": [
    "# 방법 2 ( 그냥 감탄 밖에 안나오네 코드가 그냥 )\n",
    "array = [7,5,9,0,3,1,6,2,4,8]\n",
    "\n",
    "def quick_sort(array):\n",
    "    if len(array) <= 1:\n",
    "        return array\n",
    "    \n",
    "    pivot = array[0]\n",
    "    tail = array[1:]\n",
    "    left_side = [x for x in tail if x <= pivot]\n",
    "    right_side = [x for x in tail if x > pivot]\n",
    "    \n",
    "    return quick_sort(left_side) + [pivot] + quick_sort(right_side) # 9/1 이부분이 재귀를 통해 left랑 right를 정렬하는 부분\n",
    "\n",
    "print(quick_sort(array))"
   ]
  },
  {
   "cell_type": "markdown",
   "id": "bc04ab7a",
   "metadata": {},
   "source": [
    "#### 병합정렬(추가)"
   ]
  },
  {
   "cell_type": "code",
   "execution_count": 3,
   "id": "b0ba4c51",
   "metadata": {},
   "outputs": [
    {
     "name": "stdout",
     "output_type": "stream",
     "text": [
      "[5, 6] low :  [6] high :  [5]\n",
      "[1, 3] low :  [3] high :  [1]\n",
      "[1, 3, 5, 6] low :  [5, 6] high :  [1, 3]\n",
      "[7, 8] low :  [8] high :  [7]\n",
      "[2, 4] low :  [2] high :  [4]\n",
      "[2, 4, 7, 8] low :  [7, 8] high :  [2, 4]\n",
      "[1, 2, 3, 4, 5, 6, 7, 8] low :  [1, 3, 5, 6] high :  [2, 4, 7, 8]\n",
      "[6, 5, 3, 1, 8, 7, 2, 4]\n"
     ]
    }
   ],
   "source": [
    "# 8/31\n",
    "# 어렵넹 쉽지 않아\n",
    "def merge_sort(array):\n",
    "    if len(array) <= 1:\n",
    "        return array\n",
    "    \n",
    "    mid = len(array) // 2\n",
    "    low_arr = merge_sort(array[:mid])\n",
    "    high_arr = merge_sort(array[mid:])\n",
    "    merged_arr = []\n",
    "    l, h = 0 , 0\n",
    "    while l < len(low_arr) and h < len(high_arr):\n",
    "        if low_arr[l] < high_arr[h]:\n",
    "            merged_arr.append(low_arr[l])\n",
    "            l += 1\n",
    "            \n",
    "        else:\n",
    "            merged_arr.append(high_arr[h])\n",
    "            h += 1\n",
    "    \n",
    "    merged_arr += low_arr[l:]\n",
    "    merged_arr += high_arr[h:]\n",
    "    print(merged_arr, 'low : ',low_arr, 'high : ', high_arr)\n",
    "    \n",
    "    return merged_arr\n",
    "\n",
    "array = [6,5,3,1,8,7,2,4]\n",
    "merge_sort(array)\n",
    "\n",
    "# 9/1 이 병합 정렬이 이론은 쉬운데 구현이 꽤나 까다로움\n",
    "# 기본 아이디어는 배열을 나눠서 최소 단위로 나눈다음\n",
    "# 합칠 때 정렬을 해주며 합치는 것이 포인트\n",
    "# 우선 어려운 이유는 나눌 때 재귀적으로 나눠주기 때문에\n",
    "# 재귀에 대한 이해가 부족하면 코드의 작동 방식이 이해가지 않음\n",
    "# 처음 반으로 나누고 그다음 다시 반... 이런 식으로 최소 단위 까지 나눔\n",
    "# 그러면 초기 설정 한 2개의 값에는 최소 단위 2개가 남음\n",
    "# 이 두개를 합치는 데 이 때 변수 l,h를 설정 함 이유는 합쳐질 수록 포함되는 인자가 많아짐\n",
    "# 주의 점은 합치는 merge_list는 재귀가 끝나는 부분에서 초기화 해줘야하고\n",
    "# merge가 끝나는 부분에서 return을 merged_list로 해줘야함\n",
    "# 그래야 최소 단위에서 합쳐진 후 다음 재귀 함수의 값이 합쳐지고 정렬된 값을 부여받음\n",
    "# 또한 기억해야하는 것은 return 값이 merged_list임으로 실제 array는 영향을 받지 않음\n",
    "# 마지막으로 합칠 때 정렬되는 방식은\n",
    "# 두 개의 배열에서 각각 포인트가 이동하며, 비교된 값을 새로운 merged_list에 추가해주는 형태임\n",
    "# 따라서 배열 이후 두개의 배열에서 더이상 비교할 수 없다면 남은 값을 추가해 줘야함\n",
    "# 다만 기본 코드에서는 새로운 값을 나누고 추가할 때\n",
    "# 값이 메모리에 할당 됨으로 개선의 여지가 있음"
   ]
  },
  {
   "cell_type": "code",
   "execution_count": null,
   "id": "c7e6d4b8",
   "metadata": {},
   "outputs": [],
   "source": [
    "# 8/31\n",
    "# 최적화 코든데 이해가 안가네\n",
    "# 이해가 안갈 수 밖에 시작이 마지막 return이니까\n",
    "def merge_sort(arr):\n",
    "    def sort(low, high): # 이건 sort라기 보다 나누는 거고\n",
    "        if high - low < 2:\n",
    "            return\n",
    "        mid = (low + high) // 2\n",
    "        sort(low, mid)\n",
    "        sort(mid, high)\n",
    "        merge(low, mid, high)\n",
    "\n",
    "    def merge(low, mid, high):\n",
    "        temp = []\n",
    "        l, h = low, mid\n",
    "\n",
    "        while l < mid and h < high: # 이부분 부터가 temp에 정렬해서 넣는 코드고\n",
    "            if arr[l] < arr[h]:\n",
    "                temp.append(arr[l])\n",
    "                l += 1\n",
    "            else:\n",
    "                temp.append(arr[h])\n",
    "                h += 1\n",
    "\n",
    "        while l < mid:\n",
    "            temp.append(arr[l])\n",
    "            l += 1\n",
    "        while h < high:\n",
    "            temp.append(arr[h])\n",
    "            h += 1\n",
    "\n",
    "        for i in range(low, high): # 정렬된 값을 arr에 넣는 과정이네\n",
    "            arr[i] = temp[i - low]\n",
    "\n",
    "    return sort(0, len(arr))\n",
    "array = [6,5,3,1,8,7,2,4]\n",
    "merge_sort(array)\n",
    "array"
   ]
  },
  {
   "cell_type": "markdown",
   "id": "9bc8bde2",
   "metadata": {},
   "source": [
    "#### 계수 정렬"
   ]
  },
  {
   "cell_type": "code",
   "execution_count": null,
   "id": "fac2ee8d",
   "metadata": {},
   "outputs": [],
   "source": [
    "array = [7, 5, 9, 0, 3, 1, 6, 2, 9, 1, 4, 8, 0, 5, 2]\n",
    "\n",
    "count = [0] * ( max(array) + 1 )\n",
    "\n",
    "for i in range(len(array)):\n",
    "    count[array[i]] += 1\n",
    "\n",
    "for i in range(len(count)):\n",
    "    for j in range(count[i]):\n",
    "        print( i , end = ' ')\n",
    "\n",
    "# 9/1 계수 정렬의 핵심은 테이블을 만들고 그 테이블에 해당 값의 개수를 카운드해서 넣어준다는 점\n",
    "# 동작 원리를 보면 전체 data를 한번은 순차탐색해야함\n",
    "# 해당 인덱스에 값을 넣기 위한 테이블을 max(array) + 1개 만큼 생성해 줌으로\n",
    "# 경우에 따라 메모리에 심각한 비효율을 초래할 수 있음\n",
    "# 정렬 후 보여주는 방식은 테이블 인덱스를 해당 테이블 값 만큼 출력해서 보여주는 것임\n",
    "# 물론 새로운 list에 저장해서 그 리스트를 보여줄 수 있음\n",
    "# 중요한 사실은 원래 array에는 영향을 끼치지 않는 다는 점임"
   ]
  },
  {
   "cell_type": "markdown",
   "id": "fe15c521",
   "metadata": {},
   "source": [
    "#### 파이썬 내장 함수\n"
   ]
  },
  {
   "cell_type": "code",
   "execution_count": null,
   "id": "bb342cc6",
   "metadata": {},
   "outputs": [],
   "source": [
    "array = [7,5,9,0,3,1,6,2,4,8]\n",
    "\n",
    "result = sorted(array)\n",
    "print(result)\n",
    "\n",
    "array.sort()\n",
    "print(array)"
   ]
  },
  {
   "cell_type": "markdown",
   "id": "175619b9",
   "metadata": {},
   "source": [
    "#### 순차탐색\n",
    "- 정렬되지 않은 리스트에서 무엇인가를 찾아야 할때"
   ]
  },
  {
   "cell_type": "code",
   "execution_count": null,
   "id": "cdf4ef75",
   "metadata": {},
   "outputs": [],
   "source": [
    "def sequential_search(n, target, array):\n",
    "    for i in range(n):\n",
    "        if array[i] == target:\n",
    "            return i + 1\n",
    "print('생성할 원소 갯수를 입력한 다음 한 칸 띄고 찾을 문자열을 입력하세요')        \n",
    "input_data = input().split()\n",
    "n = int(input_data[0])\n",
    "target = input_data[1]\n",
    "\n",
    "print('앞서 적은 원소 개수만큼 문자열을 입력하세요. 구분은 띄어쓰기 한 칸으로 합니다')\n",
    "array = input().split()\n",
    "print(sequential_search(n, target, array))\n",
    "\n",
    "# 순차 탐색의 장점은 정렬이 되어있든 되어있지 않든 값을 찾아낼 수 있다는 점임\n",
    "# 다만 리스트를 모두 봐야할 수 있다는 점에서 시간이 오래 걸릴 수 있음\n",
    "# 값의 존재 여부가 중요한 사항이라면 반드시 고려해야할 알고리즘임"
   ]
  },
  {
   "cell_type": "markdown",
   "id": "0f2d904d",
   "metadata": {},
   "source": [
    "#### 이진탐색\n",
    "- 데이터가 정렬되어 있어야만 사용할 수 있음\n",
    "- 데이터 양이 많고 정렬이 되어 있는 상태일 때면 고려"
   ]
  },
  {
   "cell_type": "code",
   "execution_count": null,
   "id": "47d0f734",
   "metadata": {},
   "outputs": [],
   "source": [
    "# 재귀로 구현한 이진 탐색\n",
    "def binary_search(array, target, start, end):\n",
    "    if start > end:\n",
    "        return None\n",
    "    mid = (start + end) // 2\n",
    "    if array[mid] == target:\n",
    "        return mid\n",
    "    elif array[mid] > target:\n",
    "        return binary_search(array, target, start, mid-1)\n",
    "    else:\n",
    "        return binary_search(array, target, mid + 1, end)\n",
    "    \n",
    "n , target = list(map(int, input().split()))\n",
    "array = list(map(int, input().split()))\n",
    "\n",
    "result = binary_search(array, target, 0, n -1 )\n",
    "if result == None:\n",
    "    print('원소가 존재하지 않습니다')\n",
    "else:\n",
    "    print(result + 1)\n",
    "\n",
    "\n",
    "# 9/1\n",
    "# 이진 탐색의 핵심 아이디어는 투 포인터(?)라고 하기도 애매한데 음\n",
    "# 반으로 나누고 그 반이 target과 일치하는지 확인하고\n",
    "# 일치하지 않는다면, mid와 target의 위치에 따라 재귀 함수 인자를 구성\n",
    "# target이 mid 보다 크다면 end 값을 mid -1 로 조정 (mid란 array[mid]의미)\n",
    "# target이 mid 보다 작다면 start 값을 mid + 1로 조정\n",
    "# 최소 단위 까지 탐색 최소 단위는 start>end 임"
   ]
  },
  {
   "cell_type": "code",
   "execution_count": null,
   "id": "aed98169",
   "metadata": {
    "lines_to_next_cell": 0
   },
   "outputs": [],
   "source": [
    "# 반복문으로 구현한 이진 탐색\n",
    "\n",
    "def binary_search(array, target, start, end):\n",
    "    while start <= end:\n",
    "        mid = (start + end) // 2\n",
    "        \n",
    "        if array[mid] == target:\n",
    "            return mid\n",
    "        \n",
    "        elif array[mid] > target:\n",
    "            end = mid -1\n",
    "            \n",
    "        else:\n",
    "            \n",
    "            start = mid + 1\n",
    "            \n",
    "    return None\n",
    "    \n",
    "n , target = list(map(int, input().split()))\n",
    "array = list(map(int, input().split()))\n",
    "\n",
    "result = binary_search(array, target, 0, n -1 )\n",
    "if result == None:\n",
    "    print('원소가 존재하지 않습니다')\n",
    "else:\n",
    "    print(result + 1)"
   ]
  },
  {
   "cell_type": "markdown",
   "id": "c6eae355",
   "metadata": {},
   "source": [
    "#### 재귀를 사용하는 이유는 뭘까(9/1)\n",
    "\n",
    "- 장단점\n",
    "    - 재귀함수를 사용하게 되면 코드가 간결해짐\n",
    "    - 그러나 속도가 느림, 메모리가 많이 사용됨\n",
    "    - 반복문을 사용하게 되면 상대적으로 코드가 어려워짐\n",
    "    - 그러나 속도가 빠름\n",
    "\n",
    "- 단점을 해결하기 위한방법\n",
    "    - 꼬리 재귀 : 컴파일러가 꼬리 재귀 코드를 보고, 적절한 반복문을 컴파일 해주어야 작동\n",
    "    - return 연산이 없는 경우에만 적용, return 문에 함수만 작성되어 있으면 꼬리재귀, 함수만 있는 경우가 아니면 컴파일 할 수 없음"
   ]
  },
  {
   "cell_type": "code",
   "execution_count": null,
   "id": "09f9259c",
   "metadata": {},
   "outputs": [],
   "source": [
    "#9/1\n",
    "def yes_tail(n, ans):\n",
    "  if n == 1:\n",
    "    return 1\n",
    "  return yes_tail(n-1, ans + n)\n",
    "\n",
    "def no_tail(n):\n",
    "  if n == 1:\n",
    "    return 1\n",
    "  return n + no_tail(n-1)"
   ]
  },
  {
   "cell_type": "markdown",
   "id": "09148f2f",
   "metadata": {},
   "source": [
    "- 두 코드 모두 같은 역할을 하지만, yes_tail 함수처럼 return 에 함수 호출 이외에 다른 연산자가 붙지 않는 경우 꼬리 재귀로 컴파일 가능\n",
    "\n"
   ]
  },
  {
   "cell_type": "markdown",
   "id": "2713f515",
   "metadata": {
    "lines_to_next_cell": 2
   },
   "source": [
    "# 문자열 관련 알고리즘"
   ]
  },
  {
   "cell_type": "markdown",
   "id": "a13efb75",
   "metadata": {},
   "source": [
    "#### 유형 1. 회문(palindrome)"
   ]
  },
  {
   "cell_type": "code",
   "execution_count": null,
   "id": "54bb2f68",
   "metadata": {},
   "outputs": [],
   "source": [
    "# 단순한 회문\n",
    "def isPalindrome(str):\n",
    "    for i in range(len(str)//2):\n",
    "        if str[i] == str[-i-1]: # -I-1 이부분이 재밌네\n",
    "            continue\n",
    "        else:\n",
    "            print('회문이 아닙니다.')\n",
    "    print('회문 입니다.')\n",
    "data = 'abcba'\n",
    "isPalindrome(data)\n",
    "#9/1 조금만 깊게 생각해보면 재밌어\n",
    "# 왜냐면 index는 0 부터 시작이고 마지막을 나타내는 값이 -1이니까\n",
    "# 0 일때 -1 이어야하는거지 당연히 그럼 -i-1이어야하는 것이고"
   ]
  },
  {
   "cell_type": "code",
   "execution_count": 9,
   "id": "05207df8",
   "metadata": {
    "lines_to_end_of_cell_marker": 2
   },
   "outputs": [
    {
     "name": "stdout",
     "output_type": "stream",
     "text": [
      "deque(['o', 'm', 'a', 'd', 'a', 'm', 'i', 'm', 'a', 'd', 'a', 'm', 'o'])\n",
      "회문 입니다.\n"
     ]
    }
   ],
   "source": [
    "# 전처리가 포함된 회문\n",
    "from collections import deque\n",
    "def isPalindrome(str):\n",
    "    # 전처리\n",
    "    list_str = deque()\n",
    "    for char in str:\n",
    "        if char.isalnum():\n",
    "            list_str.append(char.lower())\n",
    "    \n",
    "# 회문 판별\n",
    "    print(list_str)\n",
    "    while len(list_str)>1:\n",
    "        if list_str.popleft() != list_str.pop():\n",
    "            print(list_str.popleft(), list_str.pop())\n",
    "            print('회문이 아닙니다.')\n",
    "            return\n",
    "    print('회문 입니다.')\n",
    "data1 = 'OMadam, I\\'m AdamO'\n",
    "isPalindrome(data1)\n",
    "\n",
    "# 9/1 isalnum() : 문자열이 알파벳([a-zA-Z])과 숫자([0-9])로만 구성되었는지 확인하는 파이썬 문자열 메소드\n",
    "# 하나하나 뜯어보면 str을 받아, str 자체가 interable하잖아?\n",
    "# 그니까 하나씩 탐색해보는 거야, isalnum으로 그럼 한칸에 하나씩 append가 되겠지?\n",
    "# 그다음 하는 방식은 왼쪽에서 꺼내고 오른쪽에서 꺼내서 비교하는 거야\n",
    "# 문장 전체에서 회문을 찾는거지"
   ]
  },
  {
   "cell_type": "markdown",
   "id": "9b56db3f",
   "metadata": {},
   "source": [
    "- isalnum : 문자열이 알파벳([a-zA-Z])과 숫자([0-9])로만 구성되었는지 확인하는 파이썬 문자열 메소드"
   ]
  },
  {
   "cell_type": "code",
   "execution_count": 10,
   "id": "af6a3f9e",
   "metadata": {},
   "outputs": [
    {
     "name": "stdout",
     "output_type": "stream",
     "text": [
      "회문입니다\n"
     ]
    }
   ],
   "source": [
    "# 슬라이싱을 이용한 회문판별\n",
    "s= ['가나다다나가']\n",
    "if s == s[::-1]:\n",
    "    print('회문입니다')\n",
    "\n",
    "# 9/1 :: 에 대해 정리가 한번 필요하겠네\n",
    "# 그니까 슬라이싱의 기본은 a[start:end:step]\n",
    "# 그럼 [::-1]은 처음부터 끝까지 -1 스텝으로 라는 의미겠지? 시작은 뒤에서 부터가 되는거고"
   ]
  },
  {
   "cell_type": "code",
   "execution_count": 7,
   "id": "a71d7ab0",
   "metadata": {},
   "outputs": [
    {
     "ename": "ValueError",
     "evalue": "slice step cannot be zero",
     "output_type": "error",
     "traceback": [
      "\u001b[1;31m---------------------------------------------------------------------------\u001b[0m",
      "\u001b[1;31mValueError\u001b[0m                                Traceback (most recent call last)",
      "\u001b[1;32m<ipython-input-7-997c08b61433>\u001b[0m in \u001b[0;36m<module>\u001b[1;34m\u001b[0m\n\u001b[0;32m      1\u001b[0m \u001b[0ma\u001b[0m \u001b[1;33m=\u001b[0m \u001b[1;34m'abcdefgh'\u001b[0m\u001b[1;33m\u001b[0m\u001b[1;33m\u001b[0m\u001b[0m\n\u001b[1;32m----> 2\u001b[1;33m \u001b[0ma\u001b[0m\u001b[1;33m[\u001b[0m\u001b[1;33m:\u001b[0m\u001b[1;33m:\u001b[0m\u001b[1;36m0\u001b[0m\u001b[1;33m]\u001b[0m\u001b[1;33m\u001b[0m\u001b[1;33m\u001b[0m\u001b[0m\n\u001b[0m",
      "\u001b[1;31mValueError\u001b[0m: slice step cannot be zero"
     ]
    }
   ],
   "source": [
    "a = 'abcdefgh'\n",
    "a[::0] # 이건 오류가 나겠지 왜? 0 라는 스텝이 없으니까"
   ]
  },
  {
   "cell_type": "code",
   "execution_count": 9,
   "id": "c0304ae0",
   "metadata": {},
   "outputs": [
    {
     "name": "stdout",
     "output_type": "stream",
     "text": [
      "회문입니다\n"
     ]
    }
   ],
   "source": [
    "# 정규식을 이용한 전처리\n",
    "import re\n",
    "def inPalindrome(str):\n",
    "    # 대문자 소문자로 변경\n",
    "    str = str.lower()\n",
    "    \n",
    "    # 정규식 사용\n",
    "    str = re.sub('[^a-z0-9]', '', str) # 9/1 정규식 간단하게 복습함하자\n",
    "                                        # re.sub('패턴','바꿀문자열','적용할문자열')\n",
    "    \n",
    "    if str == str[::-1]:\n",
    "        print('회문입니다')\n",
    "    else:\n",
    "        print('회문이 아닙니다')\n",
    "data1 = 'OMadam, I\\'m AdamO'\n",
    "inPalindrome(data1) "
   ]
  },
  {
   "cell_type": "markdown",
   "id": "260c1a70",
   "metadata": {},
   "source": [
    "#### re.sub('패턴', '바꿀문자열', '적용할문자열')"
   ]
  },
  {
   "cell_type": "code",
   "execution_count": 10,
   "id": "f51345ce",
   "metadata": {},
   "outputs": [
    {
     "name": "stdout",
     "output_type": "stream",
     "text": [
      "n n Fizz n Buzz Fizz n n\n"
     ]
    }
   ],
   "source": [
    "print( re.sub('[0-9]+', 'n', '1 2 Fizz 4 Buzz Fizz 7 8') ) # 숫자만 찾아서 n으로 바꿈"
   ]
  },
  {
   "cell_type": "markdown",
   "id": "d3e1eecc",
   "metadata": {},
   "source": [
    "#### 회문정리\n",
    "- 슬라이싱을 활용하는 것이 시간이 제일 적게 걸림"
   ]
  },
  {
   "cell_type": "markdown",
   "id": "4bef639a",
   "metadata": {},
   "source": [
    "#### 유형 2. 문자열 뒤집기\n"
   ]
  },
  {
   "cell_type": "markdown",
   "id": "00bca904",
   "metadata": {},
   "source": [
    "#### 1단계"
   ]
  },
  {
   "cell_type": "code",
   "execution_count": 24,
   "id": "a857b072",
   "metadata": {},
   "outputs": [
    {
     "name": "stdout",
     "output_type": "stream",
     "text": [
      "['e', 'd', 'c', 'b', 'a']\n"
     ]
    }
   ],
   "source": [
    "# 1단계 reverse() 사용하기\n",
    "\n",
    "def reverseString(str):\n",
    "    str.reverse()\n",
    "    print(str)\n",
    "\n",
    "a = ['a','b','c','d','e']\n",
    "reverseString(a)\n",
    "\n",
    "# 9/1 최근 현대 엔지비에서 나왔던 문제에서 쓴것 같아\n",
    "# 문자열을 뒤집는 것은 아니었고 관측 대상이 오른쪽이라는 문제에서\n",
    "# 배열을 뒤집는데 사용했던것으로 기억하네 ( reverse() )\n"
   ]
  },
  {
   "cell_type": "markdown",
   "id": "1f5701ab",
   "metadata": {},
   "source": [
    "#### 2단계"
   ]
  },
  {
   "cell_type": "code",
   "execution_count": 11,
   "id": "a19e2cb9",
   "metadata": {},
   "outputs": [
    {
     "name": "stdout",
     "output_type": "stream",
     "text": [
      "edcba\n",
      "['e', 'd', 'c', 'b', 'a']\n"
     ]
    }
   ],
   "source": [
    "# 2단계 슬라이싱 활용하기\n",
    "\n",
    "a = 'abcde'\n",
    "a = a[::-1]\n",
    "print(a)\n",
    "\n",
    "b = ['a','b','c','d','e']\n",
    "b = b[::-1]\n",
    "print(b)\n",
    "# 오류가 발생한다면 할당에 제한이 걸린것이므로, b[:] = b[::-1] 을 사용하면 됨\n",
    "# 9/1 이게 재밌는게 뭐냐면 거꾸로 뒤집는 건 슬라이싱을 활용할 수 있다는 것이고\n",
    "# 더 다양한 케이스에 대해서 바꿀수 있다는 장점이 있지"
   ]
  },
  {
   "cell_type": "markdown",
   "id": "6b27b3c0",
   "metadata": {},
   "source": [
    "#### 3단계"
   ]
  },
  {
   "cell_type": "code",
   "execution_count": 12,
   "id": "e0f62b25",
   "metadata": {},
   "outputs": [
    {
     "name": "stdout",
     "output_type": "stream",
     "text": [
      "['e', 'd', 'c', 'b', 'a']\n"
     ]
    }
   ],
   "source": [
    "# 3단계 투포인터\n",
    "def reverseString(str):\n",
    "    left_idx, right_idx = 0, len(str)-1\n",
    "    while left_idx < right_idx:\n",
    "        str[left_idx], str[right_idx] = str[right_idx], str[left_idx]\n",
    "        left_idx += 1\n",
    "        right_idx -= 1\n",
    "    print(str)\n",
    "b = ['a','b','c','d','e']\n",
    "reverseString(b)\n",
    "\n",
    "# 9/1 투포인터가 정말 많이 사용되는 구나\n",
    "# 그럼 투포인터의 인덱싱을 lert는 시작 right는 마지막으로 주고\n",
    "# 서로 바꿔가면 되겠지 같아도 상관 없어 교차만 안되면"
   ]
  },
  {
   "cell_type": "markdown",
   "id": "05a9a6e1",
   "metadata": {},
   "source": [
    "#### 유형 3. 조건에 맞게 재정렬"
   ]
  },
  {
   "cell_type": "code",
   "execution_count": 13,
   "id": "d6bc008b",
   "metadata": {},
   "outputs": [],
   "source": [
    "data = ['1 A', '1 B', '6 A', '2 D', '4 B']\n",
    "# 문제 리스트 안의 요소를 번호 순 정렬이 아닌 그 뒤의 문자 순으로 졍렬"
   ]
  },
  {
   "cell_type": "markdown",
   "id": "2136a7af",
   "metadata": {},
   "source": [
    "#### 1 단계 sort의 key"
   ]
  },
  {
   "cell_type": "code",
   "execution_count": 16,
   "id": "6a353f2d",
   "metadata": {},
   "outputs": [
    {
     "name": "stdout",
     "output_type": "stream",
     "text": [
      "['1 A', '6 A', '1 B', '4 B', '2 D']\n",
      "('A', '1')\n"
     ]
    }
   ],
   "source": [
    "# 오호 신박한데?\n",
    "\n",
    "data = ['1 A', '1 B', '6 A', '2 D', '4 B']\n",
    "\n",
    "def func(x):\n",
    "    return x.split()[1], x.split()[0]\n",
    "data.sort(key=func)\n",
    "print(data)\n",
    "print(func(data[0])) # 9/1 재밌는 것은 바로 적용은 못해 왜? data는 리스트거든\n",
    "                     # 그말은 key를 위한 함수 값으로 쓰기 위해 func 을 만들었다는 의미거든\n",
    "                     # 이 역할을 하는게 lambda 니까 다음 단계에서 lambda를 쓰겠지?\n",
    "\n",
    "# 9/1 여기서 재밌는게 바로 key를 사용한다는 건데\n",
    "# 데이터가 공백으로 나눠져 있잖아?\n",
    "# 그니까 splict으로 다시 받는거지 그 뒤에 변환해서 받아주는 거고\n",
    "# 그니까 key 값이라는 것은 데이터의 정렬을 할 때 기준 값으로 생각하면 편하겠지?"
   ]
  },
  {
   "cell_type": "markdown",
   "id": "35a5bc09",
   "metadata": {},
   "source": [
    "#### 2 단계 lambda 사용하기"
   ]
  },
  {
   "cell_type": "code",
   "execution_count": 17,
   "id": "4db7269f",
   "metadata": {},
   "outputs": [
    {
     "name": "stdout",
     "output_type": "stream",
     "text": [
      "['1 A', '6 A', '1 B', '4 B', '2 D']\n"
     ]
    }
   ],
   "source": [
    "data = ['1 A', '1 B', '6 A', '2 D', '4 B']\n",
    "\n",
    "data.sort(key = lambda x : (x.split()[1], x.split()[0]))\n",
    "print(data)\n",
    "\n",
    "# 9/1 단순 return을 받는 것이니까 lambda를 써도 되긴하는데\n",
    "# 가독성이 좋지는 않다는 것\n",
    "# 내가 코드를 개발시에 협업에 소통에 문제가 되긴하겠네"
   ]
  },
  {
   "cell_type": "markdown",
   "id": "ea97a1bb",
   "metadata": {},
   "source": [
    "#### 3 단계"
   ]
  },
  {
   "cell_type": "code",
   "execution_count": 31,
   "id": "1edf45b1",
   "metadata": {},
   "outputs": [],
   "source": [
    "data = \"hanpy 20101213 재미없다 235 재미있다\"\n",
    "# 회원의 아이디, 회원가입날짜, 사용자가 쓴 댓글들\n",
    "# 문제는 이런식이다. 각각의 DB의 회원들을 댓글들 중에 숫자를 제거하고, \n",
    "# 댓글들을 정렬한 후에, 가입한 날짜 순으로 재정렬하라"
   ]
  },
  {
   "cell_type": "code",
   "execution_count": 34,
   "id": "a7d51831",
   "metadata": {},
   "outputs": [
    {
     "name": "stdout",
     "output_type": "stream",
     "text": [
      "[['hanpy', '20101215', '재미없다', '재미있다'], ['hanpya', '20101214', '재미없다', '재미있다']]\n",
      "[['hanpya', '20101214', '재미없다', '재미있다'], ['hanpy', '20101215', '재미없다', '재미있다']]\n"
     ]
    }
   ],
   "source": [
    "def divide_sentence(list_data):\n",
    "    str_l, int_l = [], []\n",
    "    list_datas = list_data.split()[2:]\n",
    "    for data in list_datas:\n",
    "        if data.isdigit():\n",
    "            int_l.append(data)\n",
    "        else:\n",
    "            str_l.append(data)\n",
    "    return str_l\n",
    "# 9/1 어제는 메인 핵심 idea만 코딩 해봤으니까 문제 풀어 볼까?\n",
    "# 메인 코드 복습먼저 해보면, 문자랑 숫자 리스트를 만들고\n",
    "# 댓글이 문자랑 숫자로만 이루어졌다는 조건이 있으니까\n",
    "# 문자인지만 확인하면 되겠지? isalnum은 문자, 숫자 다 판단이니까 기준을 잡고 넣어야겠네\n",
    "# isdigit()은 숫자만 이니까 숫자에 추가하고\n",
    "# 나머지는 문자에 추가하면 되겠네, isalpah() 문자인지를 판별하는 것있으니까 외워두고 문제 풀어볼까?\n",
    "\n",
    "data = \"hanpy 20101215 재미없다 235 재미있다\"\n",
    "data1 = \"hanpya 20101214 재미없다 235 재미있다\"\n",
    "\n",
    "divide_sentence(data)\n",
    "\n",
    "# 물론 이 부분 역시 커버 가능하긴 코드로 수정가능하지\n",
    "# 그건 다음 복습때 할래\n",
    "new_data = [data.split()[:2] + divide_sentence(data)] + [data1.split()[:2] + divide_sentence(data1)]\n",
    "\n",
    "\n",
    "print(new_data) # 잘 들어갔는지 확인해보면서 하는 습관 가지자\n",
    "# 그럼 정렬 하는 값을 만들어야 겠지?\n",
    "new_data.sort(key = lambda x : int(x[1])) # 사실 int의 유무는 중요하지 않아\n",
    "print(new_data)"
   ]
  },
  {
   "cell_type": "markdown",
   "id": "445c63ff",
   "metadata": {},
   "source": [
    "- isalpha() 문자열이 문자인지를 판별하여 True,Fasle\n",
    "- isdigit() 문자열이 숫자인지를 판별하여 True,False"
   ]
  },
  {
   "cell_type": "code",
   "execution_count": 35,
   "id": "3c0595e8",
   "metadata": {},
   "outputs": [
    {
     "data": {
      "text/plain": [
       "['1', '3', '3', '4', '52']"
      ]
     },
     "execution_count": 35,
     "metadata": {},
     "output_type": "execute_result"
    }
   ],
   "source": [
    "#9/1 확인해보고 싶었던 내용은 문자열로 숫자의 정렬이 될까였는데, 잘되네?\n",
    "# 그다음 int로 바뀌주면 숫자 사용가능 하긴한데\n",
    "# 바꿀 필요없다면 문자열에서 정렬을 비교하는 것도 나쁘진 않은 것 같어\n",
    "a = ['3','1','4','52','3']\n",
    "a.sort()\n",
    "a"
   ]
  },
  {
   "cell_type": "markdown",
   "id": "dd341fef",
   "metadata": {},
   "source": [
    "#### 유형4. 특정 단어 추출"
   ]
  },
  {
   "cell_type": "code",
   "execution_count": 37,
   "id": "4659dfcd",
   "metadata": {},
   "outputs": [],
   "source": [
    "paragraph = \"Bob hit a ball, the hit BALL flew far after it was hit\""
   ]
  },
  {
   "cell_type": "markdown",
   "id": "e9794a79",
   "metadata": {},
   "source": [
    "- 'hit'을 제외한 단어 중 가장 많이 등장하는 단어를 뽑는 코드"
   ]
  },
  {
   "cell_type": "markdown",
   "id": "5982a7bf",
   "metadata": {},
   "source": [
    "#### 1단계 정규식을 사용한 구두점 제거"
   ]
  },
  {
   "cell_type": "code",
   "execution_count": 38,
   "id": "f0e44a10",
   "metadata": {},
   "outputs": [
    {
     "data": {
      "text/plain": [
       "'Bob hit a ball  the hit BALL flew far after it was hit'"
      ]
     },
     "execution_count": 38,
     "metadata": {},
     "output_type": "execute_result"
    }
   ],
   "source": [
    "import re\n",
    "re.sub('[^\\w]', ' ', paragraph)\n",
    "#[^\\w]은 모든 문자와 숫자를 제외하고 공백으로 바꿈\n",
    "\n",
    "# 9/1 공백으로 바꾼이유가 어차피 split으로 아래서 지울거니까 그런건데\n",
    "# 처음붜터 지워도 될것 같네"
   ]
  },
  {
   "cell_type": "markdown",
   "id": "56a73aba",
   "metadata": {},
   "source": [
    "#### 2단계 정규식 추가 처리"
   ]
  },
  {
   "cell_type": "code",
   "execution_count": 39,
   "id": "86dedb95",
   "metadata": {},
   "outputs": [
    {
     "name": "stdout",
     "output_type": "stream",
     "text": [
      "['bob', 'a', 'ball', 'the', 'ball', 'flew', 'far', 'after', 'was']\n"
     ]
    }
   ],
   "source": [
    "banned = 'hit'\n",
    "word_list = re.sub('[^\\w]', ' ' , paragraph).lower().split()\n",
    "words = [word for word in word_list if word not in banned ]\n",
    "print(words)\n",
    "\n",
    "# 9/1 봐봐 결국에는 공백을 기준으로 지우잖어\n",
    "# 위에서 지워도 상관없다 이거지\n",
    "# 소문자로 바꿔준 것은 후에 판단때문이겠고"
   ]
  },
  {
   "cell_type": "markdown",
   "id": "ec7174a9",
   "metadata": {},
   "source": [
    "#### 3단계 counter()함수를 사용하여 빈도수 계산\n",
    "\n",
    "- counter 객체는 아이템에 대한 개수를 딕셔너리 형태로 리턴\n",
    "- 개수를 자동으로 계싼\n",
    "- most_common()을 사용하면 빈도수가 가장 높은 요소 추출 가능"
   ]
  },
  {
   "cell_type": "code",
   "execution_count": 40,
   "id": "2ece2941",
   "metadata": {},
   "outputs": [
    {
     "name": "stdout",
     "output_type": "stream",
     "text": [
      "Counter({'ball': 2, 'bob': 1, 'a': 1, 'the': 1, 'flew': 1, 'far': 1, 'after': 1, 'was': 1})\n"
     ]
    }
   ],
   "source": [
    "from collections import Counter\n",
    "\n",
    "counts = Counter(words)\n",
    "print(counts)"
   ]
  },
  {
   "cell_type": "code",
   "execution_count": 41,
   "id": "371a08d4",
   "metadata": {},
   "outputs": [
    {
     "name": "stdout",
     "output_type": "stream",
     "text": [
      "Counter({3: 3, 2: 2, 1: 1, 4: 1, 5: 1, 6: 1, 7: 1, 8: 1})\n",
      "[(3, 3), (2, 2), (1, 1), (4, 1), (5, 1), (6, 1), (7, 1), (8, 1)]\n",
      "[(3, 3), (2, 2)]\n"
     ]
    }
   ],
   "source": [
    "#most_common 예시\n",
    "\n",
    "data = [1, 2, 3, 4, 5, 6, 7, 8, 2, 3, 3]\n",
    "dic_data = Counter(data)\n",
    "print(dic_data)\n",
    "print(dic_data.most_common()) # 빈도수가 높은 수로 정렬 후 보여줌\n",
    "print(dic_data.most_common(2)) # ()의 int는 최빈수부터 몇개를 보여줄지"
   ]
  },
  {
   "cell_type": "markdown",
   "id": "66523033",
   "metadata": {},
   "source": [
    "#### 자연어 처리의 또 다른 스킬"
   ]
  },
  {
   "cell_type": "code",
   "execution_count": 42,
   "id": "2a2197ca",
   "metadata": {},
   "outputs": [
    {
     "name": "stdout",
     "output_type": "stream",
     "text": [
      "['barber', 'person', 'barber', 'good', 'person', 'barber', 'huge', 'person', 'knew', 'secret', 'secret', 'kept', 'huge', 'secret', 'huge', 'secret', 'barber', 'kept', 'word', 'barber', 'kept', 'word', 'barber', 'kept', 'secret', 'keeping', 'keeping', 'huge', 'secret', 'driving', 'barber', 'crazy', 'barber', 'went', 'huge', 'mountain']\n",
      "\n",
      "Counter({'barber': 8, 'secret': 6, 'huge': 5, 'kept': 4, 'person': 3, 'word': 2, 'keeping': 2, 'good': 1, 'knew': 1, 'driving': 1, 'crazy': 1, 'went': 1, 'mountain': 1})\n",
      "\n",
      "[('barber', 8), ('secret', 6), ('huge', 5), ('kept', 4), ('person', 3)]\n",
      "\n",
      "{'barber': 1, 'secret': 2, 'huge': 3, 'kept': 4, 'person': 5}\n"
     ]
    }
   ],
   "source": [
    "from collections import Counter\n",
    "sentences = [['barber', 'person'], ['barber', 'good', 'person'], ['barber', 'huge', 'person'], ['knew', 'secret'], ['secret', 'kept', 'huge', 'secret'], ['huge', 'secret'], ['barber', 'kept', 'word'], ['barber', 'kept', 'word'], ['barber', 'kept', 'secret'], \n",
    "             ['keeping', 'keeping', 'huge', 'secret', 'driving', 'barber', 'crazy'], \n",
    "             ['barber', 'went', 'huge', 'mountain']]\n",
    "\n",
    "# 단어들을 하나의 리스트로 만들기\n",
    "words = sum(sentences, []) # 넌 뭐냐 / sum( iterble, start)\n",
    "print(words)\n",
    "print()\n",
    "\n",
    "#중복을 제거하고 빈도수를 기록하자.\n",
    "vocab = Counter(words) # 파이썬의 Counter 모듈을 이용하면 단어의 모든 빈도를 쉽게 계산할 수 있다.\n",
    "print(vocab)\n",
    "print()\n",
    "\n",
    "# most_common()는 상위 빈도수를 가진 주어진 수의 단어만을 리턴\n",
    "vocab_size = 5\n",
    "vocab = vocab.most_common(vocab_size) # 등장 빈도수가 높은 상위 5개의 단어\n",
    "print(vocab)\n",
    "print()\n",
    "\n",
    "# 높은 빈도수 => 낮은 정수 인덱스\n",
    "word_to_index = {}\n",
    "i = 0\n",
    "for (word, frequency) in vocab :\n",
    "    i += 1\n",
    "    word_to_index[word] = i\n",
    "print(word_to_index)\n",
    "\n",
    "# 9/1 sum으로 데이터 합치고\n",
    "# counter로 중복 제거하면서 숫자 세고, 딕셔너리로 받고\n",
    "# 딕셔너리 구조로 most_common 활용해서 정렬 한뒤에\n",
    "# 인덱스를 새로 부여하는 거잖어?"
   ]
  },
  {
   "cell_type": "markdown",
   "id": "234fa58e",
   "metadata": {},
   "source": [
    "#### 유형 5. 애너그램\n",
    "\n",
    "- 애너그램이란 문자를 재배열하여 다른뜻을 가진 단어로 바꾸는 것을 말함"
   ]
  },
  {
   "cell_type": "code",
   "execution_count": 43,
   "id": "2dee584f",
   "metadata": {},
   "outputs": [
    {
     "name": "stdout",
     "output_type": "stream",
     "text": [
      "dict_values([['eat', 'tea', 'ate'], ['tan', 'nat'], ['bat']])\n"
     ]
    }
   ],
   "source": [
    "import collections\n",
    "data = [\"eat\",\"tea\",\"tan\",\"ate\",\"nat\",\"bat\"]\n",
    "sort_data = collections.defaultdict(list)\n",
    "for word in data:\n",
    "    sort_data[''.join(sorted(word))].append(word)\n",
    "print(sort_data.values())\n",
    "\n",
    "# 9/1 어제 defaultdict를 처음 써봤잖어?\n",
    "# 그니까 list로 받으면 없는 키가 들어오면 []를 넣어준다는거고\n",
    "# 문자를 정렬하면 list로 받아들여 (확인함 해봐야겠고), 그니까 구분자를 ''로 없애고 join으로 합쳐\n",
    "# 그 뒤에 생성된 key에 list로 들어오니까 append 해라 이거지"
   ]
  },
  {
   "cell_type": "code",
   "execution_count": 50,
   "id": "cf2d96ef",
   "metadata": {},
   "outputs": [
    {
     "name": "stdout",
     "output_type": "stream",
     "text": [
      "['a', 'd', 'd', 'e', 'e', 'f', 'f', 'r', 's', 's']\n",
      "addeeffrss <class 'str'>\n"
     ]
    }
   ],
   "source": [
    "# 9/1 확인하려고 해본건데 발견한 사실은\n",
    "a ='adsfersdfe'\n",
    "b = ''.join(sorted(a))\n",
    "# print(a.sort) # 오류나는 부분\n",
    "print(sorted(a))\n",
    "print(b, type(b))\n",
    "\n",
    "# sort는 str은 정렬해주지 못해\n",
    "# 그렇지만 sorted는 리스트에 하나씩 추가하고 정렬해 줄 수 있네\n",
    "# 그니까 작동 원리가 sort는 직접 바꾸고\n",
    "# sorted는 리스트에 각각 담고 정렬해서 다시 되돌려준다고 볼수있겠네"
   ]
  },
  {
   "cell_type": "markdown",
   "id": "5ef63890",
   "metadata": {},
   "source": [
    "- defaultdict\n",
    "    - 딕셔너리를 사용할 때, 지정되지 않는 키를 조회하면 에러메세지 출력\n",
    "    - 사용법 collections import 해야함\n",
    "- sort_data [''. join(sorted(word))]. append(word)\n",
    "    - word에 sorted하고 join을 해주는 이유 \n",
    "        - sorted()의 결과 값은 리스트가 됨\n",
    "        - ex) 'eat'가 sorted()를 만나면 ['a','e','t'] 가 출력됨\n",
    "        - 따라서 join을 활용하여 'aet'로 바꿔줌\n",
    "    - append를 한 이유\n",
    "        - sort_data[''.join(sorted(word))]의 결과 값이 리스트이기 때문\n",
    "        - 리스트에 넣어주기위해 append를 활용"
   ]
  },
  {
   "cell_type": "code",
   "execution_count": 48,
   "id": "e46ce5a6",
   "metadata": {},
   "outputs": [
    {
     "ename": "KeyError",
     "evalue": "'c'",
     "output_type": "error",
     "traceback": [
      "\u001b[1;31m---------------------------------------------------------------------------\u001b[0m",
      "\u001b[1;31mKeyError\u001b[0m                                  Traceback (most recent call last)",
      "\u001b[1;32m<ipython-input-48-0f445bc808aa>\u001b[0m in \u001b[0;36m<module>\u001b[1;34m\u001b[0m\n\u001b[0;32m      1\u001b[0m \u001b[1;31m# 예시\u001b[0m\u001b[1;33m\u001b[0m\u001b[1;33m\u001b[0m\u001b[1;33m\u001b[0m\u001b[0m\n\u001b[0;32m      2\u001b[0m \u001b[0ma\u001b[0m \u001b[1;33m=\u001b[0m \u001b[1;33m{\u001b[0m\u001b[1;34m'a'\u001b[0m \u001b[1;33m:\u001b[0m \u001b[1;36m1\u001b[0m\u001b[1;33m,\u001b[0m \u001b[1;34m'b'\u001b[0m \u001b[1;33m:\u001b[0m \u001b[1;36m2\u001b[0m\u001b[1;33m}\u001b[0m\u001b[1;33m\u001b[0m\u001b[1;33m\u001b[0m\u001b[0m\n\u001b[1;32m----> 3\u001b[1;33m \u001b[0mprint\u001b[0m\u001b[1;33m(\u001b[0m\u001b[0ma\u001b[0m\u001b[1;33m[\u001b[0m\u001b[1;34m'c'\u001b[0m\u001b[1;33m]\u001b[0m\u001b[1;33m)\u001b[0m\u001b[1;33m\u001b[0m\u001b[1;33m\u001b[0m\u001b[0m\n\u001b[0m",
      "\u001b[1;31mKeyError\u001b[0m: 'c'"
     ]
    }
   ],
   "source": [
    "# 예시\n",
    "a = {'a' : 1, 'b' : 2}\n",
    "print(a['c'])\n",
    "\n",
    "# 사용 방법\n",
    "# 방법 1\n",
    "import collections\n",
    "a = collections.defaultdict(int)\n",
    "\n",
    "# 방법 2\n",
    "from collections import defaultdict\n",
    "a = defaultdict(int)\n",
    "\n",
    "# 9/1 defaultdict() 내부에 사용될 수 있는 형태가\n",
    "# lst 되는건 아는데 str 도 되나?"
   ]
  },
  {
   "cell_type": "code",
   "execution_count": 55,
   "id": "9b87021a",
   "metadata": {},
   "outputs": [
    {
     "name": "stdout",
     "output_type": "stream",
     "text": [
      "\n"
     ]
    }
   ],
   "source": [
    "from collections import defaultdict\n",
    "\n",
    "\n",
    "a = defaultdict(str)\n",
    "a = {'a' : 1, 'b' : 2} # 이렇게 되면 재할당 되는 거라 오류나\n",
    "                       # 키 값에 추가 할 때 사용해야되는 거네\n",
    "print(a['c'])\n",
    "\n",
    "# str 도 되네? 근데 기본으로 나오는 게 없네 ( 9/1 )"
   ]
  },
  {
   "cell_type": "markdown",
   "id": "be3a6a35",
   "metadata": {},
   "source": [
    "- defaultdict()의 인자로 위의 예시에는 int가 들어갔음\n",
    "- int 외에도 list, set이 들어갈 수 있음.\n",
    "    - int가 들어간 경우에는 없는 key값을 넣었을 때, 자동으로 value에 0이 들어감. int 대신 list를 넣으면 빈 리스트가 들어가게 됨"
   ]
  },
  {
   "cell_type": "code",
   "execution_count": 56,
   "id": "dae53469",
   "metadata": {},
   "outputs": [
    {
     "name": "stdout",
     "output_type": "stream",
     "text": [
      "0\n",
      "defaultdict(<class 'int'>, {'b': 0})\n",
      "[]\n",
      "defaultdict(<class 'list'>, {'b': []})\n",
      "set()\n",
      "defaultdict(<class 'set'>, {'b': set()})\n",
      "defaultdict(<class 'int'>, {'H': 5, 'A': 3, 'N': 1})\n",
      "defaultdict(<class 'list'>, {'int_data': [123, 81811]})\n"
     ]
    }
   ],
   "source": [
    "# int를 인자로 넣은 경우\n",
    "import collections\n",
    "a = collections.defaultdict(int)\n",
    "print(a['b'])    #   0\n",
    "print(a)     #    defaultdict(<class 'int'>, {'b': 0})\n",
    "\n",
    "\n",
    "\n",
    "# list를 인자로 넣은 경우\n",
    "import collections\n",
    "a = collections.defaultdict(list)\n",
    "print(a['b'])     #    []\n",
    "print(a)       # defaultdict(<class 'list'>, {'b': []})\n",
    "\n",
    "\n",
    "\n",
    "# set을 인자로 넣은 경우\n",
    "import collections\n",
    "a = collections.defaultdict(set)\n",
    "print(a['b'])     #     set()\n",
    "print(a)        #  defaultdict(<class 'set'>, {'b': set()})\n",
    "\n",
    "# 응용\n",
    "import collections\n",
    "a = collections.defaultdict(int)\n",
    "a['H'] = 5\n",
    "a['A'] = 3\n",
    "a['N'] += 1\n",
    "print(a)\n",
    "\n",
    "# a['N'] += 1 부분을 보면, 우리는 a라는 딕셔너리에 'N' 값을 key로 지정하지 않음\n",
    "# 에러가 뜨지 않고 0을 기준으로 더하기 1을 해준 것을 알 수 있다.\n",
    "\n",
    "import collections\n",
    "a = collections.defaultdict(list)\n",
    "data = ['hanpy', 123, 'bbb', 81811]\n",
    "for i in data:\n",
    "    if type(i) == int:\n",
    "        a['int_data'].append(i)\n",
    "print(a)"
   ]
  },
  {
   "cell_type": "markdown",
   "id": "d66e5e81",
   "metadata": {},
   "source": [
    "#### 유형 6. 가장 긴 팰린드롬 찾기"
   ]
  },
  {
   "cell_type": "code",
   "execution_count": 59,
   "id": "47956707",
   "metadata": {
    "lines_to_end_of_cell_marker": 2
   },
   "outputs": [
    {
     "name": "stdout",
     "output_type": "stream",
     "text": [
      "abcdefedcba\n"
     ]
    }
   ],
   "source": [
    "def palindrome(n, left, right):\n",
    "    while right <= n and left >= 0 and data[left] == data[right-1]:\n",
    "        right += 1\n",
    "        left -= 1\n",
    "        \n",
    "    return data[left + 1: right -1]\n",
    "\n",
    "data = 'ewqpbewqbfjabcdefedcbaienqnfkndkl'\n",
    "\n",
    "res = ''\n",
    "if data == data[::-1] or len(data) < 2:\n",
    "    print(data)\n",
    "else:\n",
    "    for i in range(len(data)-1): # 9/1 근데 왜 반복문의 범위에 -1 을 하지?\n",
    "                                  # 아 간단한 이유네, 회문의 최소 단위가 2니까 확인할 필요가 없는거네\n",
    "                                  # 그래서 뺀거고\n",
    "        \n",
    "        # 이게 회문 판단이 2개 들어간 이유\n",
    "        # 하나는 문자열의 개수가 짝수 중 회문\n",
    "        # 다른 하나는 문자열 개수가 홀수 중 회문\n",
    "        # res 는 계산 중 가장 긴 회문( 반복문에서 지속적인 업데이트 )\n",
    "        res = max(res, palindrome(len(data), i, i+1), palindrome(len(data), i, i+2), key=len)\n",
    "        \n",
    "        # key 에 함수가 들어가 잖아? 근데 len 도 함수니까 들어 갈 수 있는 거지\n",
    "        \n",
    "    print(res)"
   ]
  },
  {
   "cell_type": "markdown",
   "id": "d42b068d",
   "metadata": {},
   "source": [
    "#### if data == data [::-1] or len(data) < 2:\n",
    "\n",
    "- 위에서 작성한 코드는 순차적으로 인덱스 0부터 팰린드롬을 검사함 .data==data [::-1]인 경우 굳이 처음부터 검사를 할 필요가 없기 때문에 제거함. 이렇게 불필요한 계산을 하지 않게 하는 것을 가지치기라 함. 코드가 뻗어나가기 전에 가지를 쳐서 잘라낸다고 생각을 하자.\n",
    "      - 완전 탐색에 활용된 가지치기 스킬 찾아보고 이해 및 활용하기\n",
    "\n",
    " \n",
    "\n",
    "#### res = max(res, palindrome(len(data), i, i+1), palindrome(len(data), i, i+2), key=len)\n",
    "\n",
    "- 이 부분을 보면, max안에 key인자가 들어있음. key=len의 의미는 내용 중에 길이가 가장 긴 값을 리턴한다는 의미.\n",
    "     - 즉, for문을 반복하면서, max를 활용하여 길이가 가장 긴 값을 res에 담은 후, 다시 res 변수를 max에 넣는 것을 반복하여 모든 팰린드롬의 경우 중에 가장 긴 팰린드롬을 찾는 것.\n",
    "\n",
    " "
   ]
  },
  {
   "cell_type": "markdown",
   "id": "1dfd4169",
   "metadata": {},
   "source": [
    "#### 백트래킹 ( 9/2 )\n",
    "\n",
    "- 재귀를 이용해 완전 탐색하고 가지치기를 추가하는 것\n",
    "    - 최적화문제와 결정문제를 해결 할 수 있음\n",
    "    - 결정 문제란 문제의 조건을 만족하는 해가 존재하는지에 따라 Yes/No 판별"
   ]
  },
  {
   "cell_type": "markdown",
   "id": "09e37fff",
   "metadata": {},
   "source": [
    "#### 백트래킹에서의 부분집합\n",
    "- 완전 탐색을 우선 코딩함"
   ]
  },
  {
   "cell_type": "code",
   "execution_count": null,
   "id": "b4a46e6f",
   "metadata": {},
   "outputs": [],
   "source": [
    "def prinSet(n):\n",
    "    for i in range(n):\n",
    "        if A[i] == 1:\n",
    "            print(data[i], end = ' ')\n",
    "    print()\n",
    "    \n",
    "def powerset(k, n):            # k는 A배열의 k인덱스의 포함 유무를 판별한다.\n",
    "    if n == k:\n",
    "        printSet(k)\n",
    "    else:\n",
    "        A[k] = 1\n",
    "        powerset(k+1, n)       # 배열 A에 체크하고 다음 인덱스로 넘어간다\n",
    "        A[k] = 0               # 재귀로 되돌아와서 체크 했던걸 다시 원상복귀시킨다\n",
    "        powerset(k+1, n)\n",
    "\n",
    "data = 구하려는 리스트\n",
    "n = len(data)                  # 부분집합을 구하는 리스트의 수\n",
    "A = [0]* n                     # 포함 유무를 체크할 리스트 (0이 미포함, 1이 포함)\n",
    " "
   ]
  },
  {
   "cell_type": "code",
   "execution_count": 1,
   "id": "b7a35f30",
   "metadata": {},
   "outputs": [],
   "source": [
    "# 부분집합의 합 ( 가지치기 추가 코드 )\n",
    "def powerset(k, n, sum):\n",
    "    if sum > 10:          # 부분집합의 합을 구하는 문제에서 구하고자하는 값인 10을 넘는다면 \n",
    "                          # 더 이상 계산할 필요가 없으므로 return해버린다.(가지치기)\n",
    "        return\n",
    "    if n == k:\n",
    "        printSet(k, sum)\n",
    "    else:\n",
    "        A[k] = 1\n",
    "        powerset(k+1, n, sum+data[k])       \n",
    "        A[k] = 0               \n",
    "        powerset(k+1, n, sum)"
   ]
  },
  {
   "cell_type": "markdown",
   "id": "50dadaed",
   "metadata": {},
   "source": [
    "#### 최단 경로 ( 9/2 )\n",
    "\n",
    "- 다익스트라, 플로이드 워셜, 벨만 포드\n",
    "- 그리디 or 다이나믹이 그대로 적용됨"
   ]
  },
  {
   "cell_type": "code",
   "execution_count": 5,
   "id": "65b9e474",
   "metadata": {},
   "outputs": [
    {
     "ename": "SyntaxError",
     "evalue": "invalid syntax (<ipython-input-5-ea8c5def25ca>, line 53)",
     "output_type": "error",
     "traceback": [
      "\u001b[1;36m  File \u001b[1;32m\"<ipython-input-5-ea8c5def25ca>\"\u001b[1;36m, line \u001b[1;32m53\u001b[0m\n\u001b[1;33m    cost = distance[now] + j[1]:\u001b[0m\n\u001b[1;37m                               ^\u001b[0m\n\u001b[1;31mSyntaxError\u001b[0m\u001b[1;31m:\u001b[0m invalid syntax\n"
     ]
    }
   ],
   "source": [
    "#9/2 다익스트라\n",
    "import sys\n",
    "input = sys.stdin.readline\n",
    "INF = int(1e9)\n",
    "\n",
    "n,m = map(int, input(),split())\n",
    "start = int(input())\n",
    "graph = [[] for i in range(n+1)]\n",
    "visited = [False] *(n+1)\n",
    "distance = [INF] * (n+1)\n",
    "\n",
    "for _ in range(m):\n",
    "    a, b, c = map(int, input().split())\n",
    "    graph[a].append((b,c))\n",
    "# 여기 까지는 input 값을 받는 과정\n",
    "# 기본 적인 과정이니까 심심할 때 복습하면되\n",
    "    \n",
    "    \n",
    "# 보면 참 신기하네, for 문을 n+1 즉 노드 개수 만큼 돌리는데\n",
    "# 들어가는 건 distance란 말이지\n",
    "# 근데 방문 하지 않은 노드를 방문하고, 가장 거리값이 짧은 노드의 인덱스 를 찾고\n",
    "# 인덱스를 리턴받아 뭐할라는거지?\n",
    "def get_smallest_node():\n",
    "    min_value = INF\n",
    "    index = 0\n",
    "    for i in range(1, n+1):\n",
    "        if distance[i] < min_value and not visited[i]:\n",
    "            min_value = distance[i]\n",
    "            index = i\n",
    "    return index\n",
    "\n",
    "\n",
    "def dijkstra(start):\n",
    "    \n",
    "    distance[start] = 0\n",
    "    visited[start] = True\n",
    "    for j in graph[start]:\n",
    "        distance[j[0]] = j[1] # 이건 start 에서 j[0]로 가는 비용이 j[1] 이니까 distance를 업데이트 해주는거고\n",
    "    \n",
    "    for i in range(n-1):\n",
    "        \n",
    "        now = get_smallest_node() # 여기서 쓰이는 구나\n",
    "        # start 노드는 당연히 제외 되지 왜냐면, 방문 처리됐거든\n",
    "        # 그럼 남은 노드가 n-1 개니까 for문도 n-1 만큼만 돌리면 되는 거거든\n",
    "        \n",
    "        visited[now] = True\n",
    "        \n",
    "        # 방문처리하고 난뒤에 하는 건\n",
    "        # 그 그래프에 대해서 확인하는 거지\n",
    "        # cost에 거리 값들을 더하고\n",
    "        # 비교해서 작으면 업데이트 하는 거지\n",
    "        for j in graph[now]:\n",
    "            cost = distance[now] + j[1]:\n",
    "            if cost < distance(j[0]):\n",
    "                distance[j[0]] = cost\n",
    "\n",
    "        "
   ]
  },
  {
   "cell_type": "code",
   "execution_count": 6,
   "id": "e890d3ad",
   "metadata": {},
   "outputs": [],
   "source": [
    "# 개선된 dijkstra\n",
    "import heapq\n",
    "\n",
    "def dijkstra(start):\n",
    "    q = []\n",
    "    # 주목 할 부분은 dist랑 위치가 바뀌어서 들어가\n",
    "    # 이 부분은 즉 우선순위를 dist에 주겠다는 의미잖아?\n",
    "    heapq.heappush(q, (0, start))\n",
    "    distance[start] = 0\n",
    "    \n",
    "    while q:\n",
    "        dist, now = heap.heappop(q)\n",
    "        \n",
    "        # 이 부분이 참 볼 때 마다 이해가 잘안가\n",
    "        # 그니까 distance[now] 는 아래서 업데이트가 될거란 말야\n",
    "        # dist가 크다는게 왜 방문 했던 적이 있는게 되는 거지?\n",
    "        # 아래 코드 보고 다시 돌아와보자\n",
    "        # 그럼 당연히 두번째 나오는 dist는 distance[now] 보다 클 수 밖에 없어\n",
    "        # 왜냐고? heap 들어갈 때 append 조건이\n",
    "        # cost = dist + i[1] 로 업데이트 된다음 들어간다는 거고\n",
    "        # 같은 i[0] 가 들어가도, 작은 값이 앞에나오니까\n",
    "        # 참 머리로 돌리기 쉽지가 않네\n",
    "        if distance[now] < dist:\n",
    "            continue\n",
    "        \n",
    "        # cost를 기준으로 distance 테이블에서 확인하는 것은 같은데\n",
    "        # heap에다가 우선순위를 줘서 cost 를 기준으로 넣었단 말이지?\n",
    "        # minheap 이니까 cost는 언제 들어가든 처음 나오는 게 제일 작을 거란거야\n",
    "        # 안에서 그렇게 돌아가니까\n",
    "        for i in graph[now]:\n",
    "            cost = dist + j[1]\n",
    "            if cost < distance[i[0]]:\n",
    "                distance[i[0]] = cost\n",
    "                heapq.heappush(q, (cost,i[0]))"
   ]
  },
  {
   "cell_type": "markdown",
   "id": "de56c5bc",
   "metadata": {},
   "source": [
    "#### 다익스트라 사용 경우 정리\n",
    "- 다익스트라 알고리즘은 한 단계당 하나의 노드에 대한 최단 거리를 확실히 찾는 것\n",
    "- 다익스트라는 ' 한 지점에서 다른 특정 지점까지의 최단 경로를 구해야 하는 경우' : 그러니까 start 노드를 설정하는 거잖아\n",
    "- 목적을 아니까 당연한 거지만 일차원 테이블로 최단 경로를 구할 수 있네 당연히 start는 정해지고 end만 정하면 되는 거니까"
   ]
  },
  {
   "cell_type": "markdown",
   "id": "6b5bb9b7",
   "metadata": {},
   "source": [
    "#### 플로이드 워셜 알고리즘\n",
    "- '모든 지점에서 다른 지점 모든 지점까지의 최단 경로를 구해야하는 경우' 에 사용\n",
    "- 그러니까 start에서 end가 모두 다르니까 이차원 테이블을 활용해야하는 거네 당연히"
   ]
  },
  {
   "cell_type": "code",
   "execution_count": 7,
   "id": "feb9e70e",
   "metadata": {},
   "outputs": [
    {
     "name": "stdout",
     "output_type": "stream",
     "text": [
      "\n"
     ]
    },
    {
     "ename": "ValueError",
     "evalue": "not enough values to unpack (expected 2, got 0)",
     "output_type": "error",
     "traceback": [
      "\u001b[1;31m---------------------------------------------------------------------------\u001b[0m",
      "\u001b[1;31mValueError\u001b[0m                                Traceback (most recent call last)",
      "\u001b[1;32m<ipython-input-7-4a137ab018fd>\u001b[0m in \u001b[0;36m<module>\u001b[1;34m\u001b[0m\n\u001b[0;32m      3\u001b[0m \u001b[0mINF\u001b[0m \u001b[1;33m=\u001b[0m \u001b[0mint\u001b[0m\u001b[1;33m(\u001b[0m\u001b[1;36m1e9\u001b[0m\u001b[1;33m)\u001b[0m\u001b[1;33m\u001b[0m\u001b[1;33m\u001b[0m\u001b[0m\n\u001b[0;32m      4\u001b[0m \u001b[1;33m\u001b[0m\u001b[0m\n\u001b[1;32m----> 5\u001b[1;33m \u001b[0mn\u001b[0m\u001b[1;33m,\u001b[0m\u001b[0mm\u001b[0m \u001b[1;33m=\u001b[0m \u001b[0mmap\u001b[0m\u001b[1;33m(\u001b[0m\u001b[0mint\u001b[0m\u001b[1;33m,\u001b[0m \u001b[0minput\u001b[0m\u001b[1;33m(\u001b[0m\u001b[1;33m)\u001b[0m\u001b[1;33m.\u001b[0m\u001b[0msplit\u001b[0m\u001b[1;33m(\u001b[0m\u001b[1;33m)\u001b[0m\u001b[1;33m)\u001b[0m\u001b[1;33m\u001b[0m\u001b[1;33m\u001b[0m\u001b[0m\n\u001b[0m\u001b[0;32m      6\u001b[0m \u001b[0mgraph\u001b[0m \u001b[1;33m=\u001b[0m \u001b[1;33m[\u001b[0m\u001b[1;33m[\u001b[0m\u001b[0mINF\u001b[0m\u001b[1;33m]\u001b[0m\u001b[1;33m*\u001b[0m\u001b[1;33m(\u001b[0m\u001b[0mn\u001b[0m\u001b[1;33m+\u001b[0m\u001b[1;36m1\u001b[0m\u001b[1;33m)\u001b[0m \u001b[1;32mfor\u001b[0m \u001b[0m_\u001b[0m \u001b[1;32min\u001b[0m \u001b[0mrange\u001b[0m\u001b[1;33m(\u001b[0m\u001b[0mn\u001b[0m\u001b[1;33m+\u001b[0m\u001b[1;36m1\u001b[0m\u001b[1;33m)\u001b[0m\u001b[1;33m]\u001b[0m \u001b[1;31m# 여기서 부터 차이가 나는거야\u001b[0m\u001b[1;33m\u001b[0m\u001b[1;33m\u001b[0m\u001b[0m\n\u001b[0;32m      7\u001b[0m                                            \u001b[1;31m# 모든 경로에 대해 찾아야 하니까 2차원 테이블로 구성할 필요가 있는거지\u001b[0m\u001b[1;33m\u001b[0m\u001b[1;33m\u001b[0m\u001b[1;33m\u001b[0m\u001b[0m\n",
      "\u001b[1;31mValueError\u001b[0m: not enough values to unpack (expected 2, got 0)"
     ]
    }
   ],
   "source": [
    "# 구현\n",
    "\n",
    "INF = int(1e9)\n",
    "\n",
    "n,m = map(int, input().split())\n",
    "graph = [[INF]*(n+1) for _ in range(n+1)] # 여기서 부터 차이가 나는거야\n",
    "                                           # 모든 경로에 대해 찾아야 하니까 2차원 테이블로 구성할 필요가 있는거지\n",
    "                                           # 다익스트라는 2차원이 필요하지 않아 그렇지만, 그래프에 해당하는 정보를 담기 위해서\n",
    "                                           # list로 2차원 처럼 받은 거고\n",
    "                                           # 여기서는 거리 테이블 대신 이 테이블을 쓰겠지\n",
    "# 대각 성분은 거리가 0으로 업데이트하고\n",
    "for a in range(1, n+1):\n",
    "    for b in range(1, n+1):\n",
    "        if a == b:\n",
    "            graph[a][b] = 0\n",
    "\n",
    "# 나머지 간선 정보를 입력받아 테이블에 채워야지\n",
    "for _ in range(m):\n",
    "    a, b, c = map(int, input().split())\n",
    "    graph[a][b] = c\n",
    "    \n",
    "# 자이제 거처갈때 어떻게 되는지에 대한 내용 나와야지\n",
    "# 그럼 생각해봐 a에서 b로 가는 것과 a에서 k를 거쳐 b로 갈때를 비교하잖아?\n",
    "# 그럼 최종 적으로 바뀌어야 되는 것은 k 가 되겠지 근데 사실 상관 없을 것 같긴해\n",
    "# 그치 상관이 없이 k의 위치는\n",
    "# 왜? 어차피 거처가는 거고 일일히 다 확인해야되는건 마찬가지거든\n",
    "for a in range(1, n+1):\n",
    "    for k in range(1, n+1):\n",
    "        for b in range( 1, n+1):\n",
    "            graph[a][b] = min(graph[a][b], graph[a][k] + graph[k][b])\n",
    "            \n",
    "for a in range( 1, n + 1):\n",
    "    for b in range(1, n+1):\n",
    "        if graph[a][b] == INF:\n",
    "            print('INF', end = ' ')\n",
    "        else:\n",
    "            print(graph[a][b], end = ' ')\n",
    "    print()"
   ]
  },
  {
   "cell_type": "markdown",
   "id": "ef2374cc",
   "metadata": {},
   "source": [
    "- 플로이드 워셜은 N^3 이잖아?\n",
    "    - 엄청나게 느릴 수 밖에 없어 2초 제한이면 계산 횟수가 5000만 건인데\n",
    "    - N 이 100 정도 까지 안에서만 계산할 수 있다는 거네"
   ]
  },
  {
   "cell_type": "markdown",
   "id": "547f29c0",
   "metadata": {},
   "source": [
    "#### 벨만 포드\n",
    "\n",
    "- 처음 다루는 것이니까 잘해보자\n",
    "    - ' 한 지점에서 다른 지점까지 최단 경로를 구하기 위함 '\n",
    "    - 단, 음의 가중치가 있어도 구할 수 있음\n",
    "    - 음수 사이클 여부를 알 수 있음\n",
    "        - 정점의 개수가 N 이라면 인접 간선을 검사하고 거리 값 갱신 과정을 N-1 로 제한하면 알 수 있음\n",
    "        - 시작 정점에서 도달 정점까지의 최대 간선의 개수는 N-1 개이기 때문"
   ]
  },
  {
   "cell_type": "markdown",
   "id": "f7da0856",
   "metadata": {},
   "source": [
    "#### 알고리즘 프로세스\n",
    "- 다익스트라와 비슷한데\n",
    "- 계산 과정이 N-1 번으로 제한되네 근데 다익스트라도 n-1 인데 차이가 뭘까 도대체\n",
    "- 모든 계산 과정 후에 갱신되는 경우가 생기면 사이클이 생긴것으로 판단\n",
    "- 크게 다른게 없네?"
   ]
  },
  {
   "cell_type": "code",
   "execution_count": 13,
   "id": "ceecc88a",
   "metadata": {},
   "outputs": [
    {
     "name": "stdout",
     "output_type": "stream",
     "text": [
      "({'A': 0, 'B': -1, 'C': 2, 'D': -2, 'E': 1}, {'A': None, 'B': 'A', 'C': 'B', 'D': 'E', 'E': 'B'})\n"
     ]
    }
   ],
   "source": [
    "# 구현\n",
    "graph = {\n",
    "    'A' : {'B' :-1, 'C':4},\n",
    "    'B' : {'C' :3, 'D':2, 'E':2},\n",
    "    'C' : {},\n",
    "    'D' : {'B' :1, 'C':5},\n",
    "    'E' : {'D' :-3},\n",
    "}\n",
    "\n",
    "def bellman_ford(graph, start):\n",
    "    distance, predecessor = dict(), dict() # 거리 값, 각 정점의 이전 정점을 저장할 딕셔너리\n",
    "    \n",
    "    # 거리 값을 모두 무한대로 초기화 / 이전 정점은 None으로 초기화\n",
    "    for node in graph:\n",
    "        distance[node] = float('inf')\n",
    "        predecessor[node] = None\n",
    "    distance[start] = 0\n",
    "    \n",
    "    for i in range(len(graph) -1):\n",
    "        \n",
    "        for node in graph:\n",
    "            \n",
    "            \n",
    "            # 각 정점마다 모든 인접 정점들을 탐색\n",
    "            # (기존 인접 정점까지의 거리 > 기존 현재 정점까지 거리 + 현재 정점부터 인접 정점까지 거리)\n",
    "            # 인 경우 갱신\n",
    "            \n",
    "            for neighbor in graph[node]:\n",
    "                \n",
    "                if distance[neighbor] > distance[node] + graph[node][neighbor]:\n",
    "                    distance[neighbor] = distance[node] + graph[node][neighbor]\n",
    "                    predecessor[neighbor] = node\n",
    "     \n",
    "    # 음수 사이클 존재 여부 검사 \n",
    "    # V-1번 반복 이후에도 갱신할 거리 값이 존재한다면 음수 사이클 존재\n",
    "    for node in graph:\n",
    "        for neighbor in graph[node]:\n",
    "            if distance[neighbor] > distance[node] + graph[node][neighbor]:\n",
    "                return -1,' 그래프에 음수 사이클이 존재합니다.'\n",
    "    return distance, predecessor\n",
    "\n",
    "print(bellman_ford(graph, \"A\"))"
   ]
  },
  {
   "cell_type": "code",
   "execution_count": null,
   "id": "682991aa",
   "metadata": {},
   "outputs": [],
   "source": []
  },
  {
   "cell_type": "code",
   "execution_count": null,
   "id": "0f817d14",
   "metadata": {},
   "outputs": [],
   "source": []
  },
  {
   "cell_type": "code",
   "execution_count": null,
   "id": "e3070e6f",
   "metadata": {},
   "outputs": [],
   "source": []
  },
  {
   "cell_type": "code",
   "execution_count": null,
   "id": "94b67c33",
   "metadata": {},
   "outputs": [],
   "source": []
  },
  {
   "cell_type": "code",
   "execution_count": null,
   "id": "69a777df",
   "metadata": {},
   "outputs": [],
   "source": []
  },
  {
   "cell_type": "code",
   "execution_count": null,
   "id": "aa0af4e4",
   "metadata": {},
   "outputs": [],
   "source": []
  },
  {
   "cell_type": "code",
   "execution_count": null,
   "id": "07d25c21",
   "metadata": {},
   "outputs": [],
   "source": []
  },
  {
   "cell_type": "code",
   "execution_count": null,
   "id": "b2deccb9",
   "metadata": {},
   "outputs": [],
   "source": []
  }
 ],
 "metadata": {
  "jupytext": {
   "encoding": "# -*- coding: utf-8 -*-",
   "formats": "ipynb,py:light"
  },
  "kernelspec": {
   "display_name": "Python 3",
   "language": "python",
   "name": "python3"
  },
  "language_info": {
   "codemirror_mode": {
    "name": "ipython",
    "version": 3
   },
   "file_extension": ".py",
   "mimetype": "text/x-python",
   "name": "python",
   "nbconvert_exporter": "python",
   "pygments_lexer": "ipython3",
   "version": "3.8.10"
  }
 },
 "nbformat": 4,
 "nbformat_minor": 5
}
