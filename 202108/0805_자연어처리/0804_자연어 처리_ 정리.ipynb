{
 "cells": [
  {
   "cell_type": "markdown",
   "id": "cdb4ce5e",
   "metadata": {},
   "source": [
    "## pandas\n",
    "\n",
    "- 일반적으로 세가지 구조\n",
    "    - 시리즈(Series) ( 1차원 배열에 대응 되는 구조 )\n",
    "    - 데이터 프레임)DataFrame) ( 2차원 배열에 대응 되는 구조 )\n",
    "    - 패널(Panel)"
   ]
  },
  {
   "cell_type": "code",
   "execution_count": 1,
   "id": "67bba396",
   "metadata": {},
   "outputs": [],
   "source": [
    "import pandas as pd"
   ]
  },
  {
   "cell_type": "markdown",
   "id": "00cae44b",
   "metadata": {},
   "source": [
    "시리즈(Series)\n",
    "- 시리즈 클래스는 1차원 배열의 값(values)에 값에 대응되는 인덱스(index)를 부여할 수 있는 구조\n",
    "- index와 value"
   ]
  },
  {
   "cell_type": "code",
   "execution_count": 2,
   "id": "f1058786",
   "metadata": {},
   "outputs": [
    {
     "name": "stdout",
     "output_type": "stream",
     "text": [
      "피자    17000\n",
      "치킨    18000\n",
      "콜라     1000\n",
      "맥주     5000\n",
      "dtype: int64\n"
     ]
    }
   ],
   "source": [
    "sr = pd.Series([17000, 18000, 1000, 5000],\n",
    "       index=[\"피자\", \"치킨\", \"콜라\", \"맥주\"])\n",
    "print(sr)\n"
   ]
  },
  {
   "cell_type": "code",
   "execution_count": 3,
   "id": "dd36d5b4",
   "metadata": {},
   "outputs": [
    {
     "data": {
      "text/plain": [
       "array([17000, 18000,  1000,  5000], dtype=int64)"
      ]
     },
     "execution_count": 3,
     "metadata": {},
     "output_type": "execute_result"
    }
   ],
   "source": [
    "sr.values #시리즈는 값만 출력할 때 배열 구조로 나옴"
   ]
  },
  {
   "cell_type": "code",
   "execution_count": 4,
   "id": "5d0742de",
   "metadata": {},
   "outputs": [
    {
     "data": {
      "text/plain": [
       "Index(['피자', '치킨', '콜라', '맥주'], dtype='object')"
      ]
     },
     "execution_count": 4,
     "metadata": {},
     "output_type": "execute_result"
    }
   ],
   "source": [
    "sr.index"
   ]
  },
  {
   "cell_type": "code",
   "execution_count": 7,
   "id": "25c135a9",
   "metadata": {},
   "outputs": [
    {
     "data": {
      "text/plain": [
       "17000"
      ]
     },
     "execution_count": 7,
     "metadata": {},
     "output_type": "execute_result"
    }
   ],
   "source": [
    "sr[0] #sr.iloc[0]"
   ]
  },
  {
   "cell_type": "code",
   "execution_count": 9,
   "id": "d4cb18d9",
   "metadata": {},
   "outputs": [
    {
     "data": {
      "text/plain": [
       "17000"
      ]
     },
     "execution_count": 9,
     "metadata": {},
     "output_type": "execute_result"
    }
   ],
   "source": [
    "sr['피자'] #sr.loc['피자']"
   ]
  },
  {
   "cell_type": "markdown",
   "id": "56ef7b88",
   "metadata": {},
   "source": [
    "데이터프레임(DataFrame)\n",
    "- 2차원 리스트를 매개변수로 전달\n",
    "- 2차원이므로 행방향 인덱스(index)와 열방향(columns)가 존재하는 자료구조\n",
    "- 열(columns), 인덱스(index), 값(values)으로 구성"
   ]
  },
  {
   "cell_type": "code",
   "execution_count": 11,
   "id": "ddf37a24",
   "metadata": {},
   "outputs": [
    {
     "name": "stdout",
     "output_type": "stream",
     "text": [
      "   0  1  2\n",
      "0  1  2  3\n",
      "1  4  5  6\n",
      "2  7  8  9\n"
     ]
    }
   ],
   "source": [
    "# index와 columns 를 넣어주지 않으면 숫자로 들어감\n",
    "\n",
    "values = [[1, 2, 3], [4, 5, 6], [7, 8, 9]]\n",
    "index = ['one', 'two', 'three']\n",
    "columns = ['A', 'B', 'C']\n",
    "\n",
    "df = pd.DataFrame(values)\n",
    "print(df)\n"
   ]
  },
  {
   "cell_type": "code",
   "execution_count": 12,
   "id": "4be48ae7",
   "metadata": {},
   "outputs": [
    {
     "name": "stdout",
     "output_type": "stream",
     "text": [
      "       A  B  C\n",
      "one    1  2  3\n",
      "two    4  5  6\n",
      "three  7  8  9\n"
     ]
    }
   ],
   "source": [
    "# index와 column를 넣어준다면 정해준 값을 기준으로 들어감\n",
    "\n",
    "values = [[1, 2, 3], [4, 5, 6], [7, 8, 9]]\n",
    "index = ['one', 'two', 'three']\n",
    "columns = ['A', 'B', 'C']\n",
    "\n",
    "df = pd.DataFrame(values, index=index, columns=columns)\n",
    "print(df)"
   ]
  },
  {
   "cell_type": "code",
   "execution_count": 13,
   "id": "e89d7562",
   "metadata": {},
   "outputs": [],
   "source": [
    "import numpy as np\n",
    "\n",
    "# 데이터 프레임을 np로 넘기는 부분\n",
    "# tensorflow 와 keras 에서 기본적으로 배열을 가지고 들어감"
   ]
  },
  {
   "cell_type": "code",
   "execution_count": 16,
   "id": "8a6a94cf",
   "metadata": {},
   "outputs": [
    {
     "data": {
      "text/plain": [
       "array([[1, 2, 3],\n",
       "       [4, 5, 6],\n",
       "       [7, 8, 9]], dtype=int64)"
      ]
     },
     "execution_count": 16,
     "metadata": {},
     "output_type": "execute_result"
    }
   ],
   "source": [
    "# 방법 1\n",
    "# np.array에 데이터 프레임을 넣으면 기본적으로 value만 가져감\n",
    "\n",
    "np.array(df)"
   ]
  },
  {
   "cell_type": "code",
   "execution_count": 17,
   "id": "60ba85d6",
   "metadata": {},
   "outputs": [
    {
     "data": {
      "text/plain": [
       "array([[1, 2, 3],\n",
       "       [4, 5, 6],\n",
       "       [7, 8, 9]], dtype=int64)"
      ]
     },
     "execution_count": 17,
     "metadata": {},
     "output_type": "execute_result"
    }
   ],
   "source": [
    "# 방법 2\n",
    "# 마찬가지로 index와 columns를 제외시킴\n",
    "\n",
    "df.to_numpy()"
   ]
  },
  {
   "cell_type": "code",
   "execution_count": 18,
   "id": "837871cc",
   "metadata": {},
   "outputs": [
    {
     "name": "stdout",
     "output_type": "stream",
     "text": [
      "Index(['one', 'two', 'three'], dtype='object')\n",
      "Index(['A', 'B', 'C'], dtype='object')\n",
      "[[1 2 3]\n",
      " [4 5 6]\n",
      " [7 8 9]]\n"
     ]
    }
   ],
   "source": [
    "print(df.index) \n",
    "print(df.columns) # columns is index of axis\n",
    "print(df.values) # values is array like np.array"
   ]
  },
  {
   "cell_type": "code",
   "execution_count": 24,
   "id": "0768b7a3",
   "metadata": {},
   "outputs": [
    {
     "name": "stdout",
     "output_type": "stream",
     "text": [
      "      0         1      2\n",
      "0  1000     Steve  90.72\n",
      "1  1001     James  78.09\n",
      "2  1002    Doyeon  98.43\n",
      "3  1003      Jane  64.19\n",
      "4  1004  Pilwoong  81.30\n",
      "5  1005      Tony  99.14\n",
      "<class 'pandas.core.frame.DataFrame'>\n",
      "RangeIndex: 6 entries, 0 to 5\n",
      "Data columns (total 3 columns):\n",
      " #   Column  Non-Null Count  Dtype  \n",
      "---  ------  --------------  -----  \n",
      " 0   0       6 non-null      object \n",
      " 1   1       6 non-null      object \n",
      " 2   2       6 non-null      float64\n",
      "dtypes: float64(1), object(2)\n",
      "memory usage: 272.0+ bytes\n",
      "None\n"
     ]
    }
   ],
   "source": [
    "# 리스트로 생성하기\n",
    "data = [\n",
    "    ['1000', 'Steve', 90.72], \n",
    "    ['1001', 'James', 78.09], \n",
    "    ['1002', 'Doyeon', 98.43], \n",
    "    ['1003', 'Jane', 64.19], \n",
    "    ['1004', 'Pilwoong', 81.30],\n",
    "    ['1005', 'Tony', 99.14],\n",
    "]\n",
    "df = pd.DataFrame(data)\n",
    "print(df)\n",
    "print(df.info())"
   ]
  },
  {
   "cell_type": "code",
   "execution_count": 25,
   "id": "1b8f3e02",
   "metadata": {},
   "outputs": [
    {
     "name": "stdout",
     "output_type": "stream",
     "text": [
      "     학번        이름     점수\n",
      "0  1000     Steve  90.72\n",
      "1  1001     James  78.09\n",
      "2  1002    Doyeon  98.43\n",
      "3  1003      Jane  64.19\n",
      "4  1004  Pilwoong  81.30\n",
      "5  1005      Tony  99.14\n"
     ]
    }
   ],
   "source": [
    "# 딕셔너리로 생성하기\n",
    "\n",
    "# dictionary의 key가 columns로 간다\n",
    "\n",
    "data = { '학번' : ['1000', '1001', '1002', '1003', '1004', '1005'],\n",
    "'이름' : [ 'Steve', 'James', 'Doyeon', 'Jane', 'Pilwoong', 'Tony'],\n",
    "         '점수': [90.72, 78.09, 98.43, 64.19, 81.30, 99.14]}\n",
    "\n",
    "df = pd.DataFrame(data)\n",
    "print(df)\n"
   ]
  },
  {
   "cell_type": "code",
   "execution_count": 30,
   "id": "eceb9dce",
   "metadata": {},
   "outputs": [
    {
     "name": "stdout",
     "output_type": "stream",
     "text": [
      "     학번      이름     점수\n",
      "0  1000   Steve  90.72\n",
      "1  1001  Jamees  78.09\n",
      "2  1002  Doyeon  98.43\n",
      "\n",
      "[{'학번': '1000', '이름': 'Steve', '점수': 90.72}\n",
      " {'학번': '1001', '이름': 'Jamees', '점수': 78.09}\n",
      " {'학번': '1002', '이름': 'Doyeon', '점수': 98.43}]\n",
      "\n",
      "[['1000' 'Steve' 90.72]\n",
      " ['1001' 'Jamees' 78.09]\n",
      " ['1002' 'Doyeon' 98.43]]\n"
     ]
    }
   ],
   "source": [
    "data = [{'학번' : '1000', '이름' : 'Steve', \"점수\" : 90.72},\n",
    "       {'학번' : '1001', '이름' : 'Jamees', \"점수\" : 78.09},\n",
    "       {'학번' : '1002', '이름' : 'Doyeon', \"점수\" : 98.43},]\n",
    "df = pd.DataFrame(data)\n",
    "print(df)\n",
    "print()\n",
    "print(np.array(data))#data를 넘파이로 가져오면 딕셔너리 자체로 들어감\n",
    "print()\n",
    "print(np.array(df))"
   ]
  },
  {
   "cell_type": "code",
   "execution_count": 33,
   "id": "76046a15",
   "metadata": {},
   "outputs": [
    {
     "data": {
      "text/plain": [
       "array([['1000'],\n",
       "       ['1001'],\n",
       "       ['1002']], dtype=object)"
      ]
     },
     "execution_count": 33,
     "metadata": {},
     "output_type": "execute_result"
    }
   ],
   "source": [
    "np.array(df[['학번']]) # 판다스와 넘파이 변형 후 응용 열떼내기"
   ]
  },
  {
   "cell_type": "code",
   "execution_count": 34,
   "id": "56921c9f",
   "metadata": {},
   "outputs": [
    {
     "data": {
      "text/plain": [
       "array([['1000', 90.72],\n",
       "       ['1001', 78.09],\n",
       "       ['1002', 98.43]], dtype=object)"
      ]
     },
     "execution_count": 34,
     "metadata": {},
     "output_type": "execute_result"
    }
   ],
   "source": [
    "np.array(df[['학번', '점수']]) # 판다스 넘파이 응용2"
   ]
  },
  {
   "cell_type": "markdown",
   "id": "bbc6f988",
   "metadata": {},
   "source": [
    "#### 외부데이터 읽기\n",
    "\n",
    "- Pandas는 CSV, 텍스트, Excel, SQL, HTML, JSON 등 다양한 데이터 파일을 읽고 데이터 프레임 생성\n",
    "- df = pd.read_csv()(csv 또는 txt), df=pd.read_excel(엑셀파일), df=pd.read_html(url), df=pd.read_json(json파일)"
   ]
  },
  {
   "cell_type": "markdown",
   "id": "b6750df1",
   "metadata": {},
   "source": [
    "## Numpy\n",
    "\n",
    "- 수치 데이터를 다루는 파이썬 패키지\n",
    "- 핵심 : 다차원 행렬 자료구조인 ndarray를 통해 벡터 및 행렬을 사용하는 선형 대수 계산에서 주로 사용"
   ]
  },
  {
   "cell_type": "code",
   "execution_count": 35,
   "id": "fa971ee3",
   "metadata": {},
   "outputs": [],
   "source": [
    "import numpy as np"
   ]
  },
  {
   "cell_type": "markdown",
   "id": "efe0fffb",
   "metadata": {},
   "source": [
    "#### numpy의 주요 모듈\n",
    "1. np.array() # 리스트, 튜플, 배열로 부터 ndarray를 생성\n",
    "2. np.asarray() # 기존의 array로 부터 ndarray를 생성\n",
    "3. np.arange() # range와 비슷\n",
    "4. np.linspace(start, end, num) # [start, end] 균일한 간격으로 num개 생성\n",
    "5. np.logspace(start, end, num) # [start, end] log scale 간격으로 num개 생성\n"
   ]
  },
  {
   "cell_type": "code",
   "execution_count": 36,
   "id": "6dd66356",
   "metadata": {},
   "outputs": [
    {
     "name": "stdout",
     "output_type": "stream",
     "text": [
      "<class 'numpy.ndarray'>\n",
      "[1 2 3 4 5]\n"
     ]
    }
   ],
   "source": [
    "a = np.array([1, 2, 3, 4, 5]) #리스트를 가지고 1차원 배열 생성\n",
    "print(type(a))\n",
    "print(a)\n"
   ]
  },
  {
   "cell_type": "code",
   "execution_count": 37,
   "id": "9381cad5",
   "metadata": {},
   "outputs": [
    {
     "name": "stdout",
     "output_type": "stream",
     "text": [
      "<class 'numpy.ndarray'>\n",
      "[[10 20 30]\n",
      " [60 70 80]]\n"
     ]
    }
   ],
   "source": [
    "b = np.array([[10, 20, 30], [ 60, 70, 80]]) \n",
    "print(type(b))\n",
    "print(b) #출력\n"
   ]
  },
  {
   "cell_type": "code",
   "execution_count": 39,
   "id": "7da8b731",
   "metadata": {},
   "outputs": [
    {
     "name": "stdout",
     "output_type": "stream",
     "text": [
      "2\n",
      "(2, 3)\n"
     ]
    }
   ],
   "source": [
    "print(b.ndim) #차원 출력 : ......면 행 열\n",
    "print(b.shape) #크기 출력 (구조) : 2행 3열\n"
   ]
  },
  {
   "cell_type": "markdown",
   "id": "079a3d4b",
   "metadata": {},
   "source": [
    "#### ndarray의 초기화\n",
    "- zero() : 해당 배열에 모두 0을 삽입\n",
    "- ones() : 해당 배열에 모두 1을 삽입\n",
    "- full() : 배열에 사용자가 지정한 값을 넣는데 사용\n",
    "- eye() : 대각선으로 1이고 나머지는 0인 2차원 배열을 생성"
   ]
  },
  {
   "cell_type": "code",
   "execution_count": 40,
   "id": "2a60e0dc",
   "metadata": {},
   "outputs": [
    {
     "name": "stdout",
     "output_type": "stream",
     "text": [
      "[[0. 0. 0.]\n",
      " [0. 0. 0.]]\n"
     ]
    }
   ],
   "source": [
    "a = np.zeros((2,3)) # 모든값이 0인 2x3 배열 생성.\n",
    "print(a)\n"
   ]
  },
  {
   "cell_type": "code",
   "execution_count": 41,
   "id": "eb1ac0f4",
   "metadata": {},
   "outputs": [
    {
     "name": "stdout",
     "output_type": "stream",
     "text": [
      "[[1. 1. 1.]\n",
      " [1. 1. 1.]]\n"
     ]
    }
   ],
   "source": [
    "a = np.ones((2,3)) # 모든값이 1인 2x3 배열 생성.\n",
    "print(a)\n"
   ]
  },
  {
   "cell_type": "code",
   "execution_count": 42,
   "id": "f1f014c4",
   "metadata": {},
   "outputs": [
    {
     "name": "stdout",
     "output_type": "stream",
     "text": [
      "[[7 7 7]\n",
      " [7 7 7]]\n"
     ]
    }
   ],
   "source": [
    "a = np.full((2,3), 7) # 모든 값이 특정 상수인 배열 생성\n",
    "print(a)"
   ]
  },
  {
   "cell_type": "code",
   "execution_count": 45,
   "id": "4ec5be6d",
   "metadata": {},
   "outputs": [
    {
     "name": "stdout",
     "output_type": "stream",
     "text": [
      "[[1. 0. 0.]\n",
      " [0. 1. 0.]\n",
      " [0. 0. 1.]]\n"
     ]
    }
   ],
   "source": [
    "a = np.eye(3) # 대각선으로는 1이고 나머지는 0인 2차원 배열을 생성\n",
    "print(a)      # 숫자가 3 이면 3x3 행렬 , 5이면 5x5"
   ]
  },
  {
   "cell_type": "markdown",
   "id": "b1bbb91f",
   "metadata": {},
   "source": [
    "#### np.arange()\n",
    "- 지정해준 범위에 대해서 배열을 생성\n",
    "- numpy.arange(start, stop, step, dtype)\n",
    "- a = np.arange(n) # 0 , ....., n-1 까지 범위의 지정\n",
    "- a = np.arange(i, j, k, dtype = None) # i부터 j-1까지 k 만큼 증가하는배열 dtpye = None 생략(int 32/int64)\n",
    "- a = np.arange(i, j, k, dytpe = np.int32)# i부터 j-1까지 k 만큼 증가하는배열(int32)\n"
   ]
  },
  {
   "cell_type": "code",
   "execution_count": 47,
   "id": "1900240b",
   "metadata": {},
   "outputs": [
    {
     "name": "stdout",
     "output_type": "stream",
     "text": [
      "float64\n"
     ]
    },
    {
     "data": {
      "text/plain": [
       "array([0., 1., 2., 3., 4.])"
      ]
     },
     "execution_count": 47,
     "metadata": {},
     "output_type": "execute_result"
    }
   ],
   "source": [
    "a = np.arange(5.0)\n",
    "print(a.dtype)\n",
    "a"
   ]
  },
  {
   "cell_type": "code",
   "execution_count": 48,
   "id": "facd1c81",
   "metadata": {},
   "outputs": [
    {
     "name": "stdout",
     "output_type": "stream",
     "text": [
      "int32\n"
     ]
    },
    {
     "data": {
      "text/plain": [
       "array([0, 1, 2, 3, 4])"
      ]
     },
     "execution_count": 48,
     "metadata": {},
     "output_type": "execute_result"
    }
   ],
   "source": [
    "a = np.arange(5)\n",
    "print(a.dtype)\n",
    "a"
   ]
  },
  {
   "cell_type": "markdown",
   "id": "41a526d5",
   "metadata": {},
   "source": [
    "#### NumPy의 dtype\n",
    "\n",
    "unit : 0과 양수 int : 음수 0 정수\n",
    "- np.int8: 8-bit signed integer (from -128 to 127)\n",
    "- np.uint8: 8-bit unsigned integer (from 0 to 255)\n",
    "- np.int16: 16-bit signed integer (from -32768 to 32767)\n",
    "- np.uint16: 16-bit unsigned integer (from 0 to 65535)\n",
    "- np.int32: 32-bit signed integer (from -231 to 231-1)\n",
    "- np.uint32: 32-bit unsigned integer (from 0 to 2**32-1)\n",
    "- np.int64: 64-bit signed integer (from -263 to 263-1)\n",
    "- np.uint64: 64-bit unsigned integer (from 0 to 2**64-1)\n"
   ]
  },
  {
   "cell_type": "markdown",
   "id": "598e2b96",
   "metadata": {},
   "source": [
    "#### reshape()\n",
    "\n",
    "- 배열 구조 변경"
   ]
  },
  {
   "cell_type": "code",
   "execution_count": 65,
   "id": "1d5dcbb2",
   "metadata": {},
   "outputs": [
    {
     "name": "stdout",
     "output_type": "stream",
     "text": [
      "[ 0  1  2  3  4  5  6  7  8  9 10 11 12 13 14 15 16 17 18 19 20 21 22 23\n",
      " 24 25 26 27 28 29]\n",
      "\n",
      "[[ 0  1  2  3  4  5]\n",
      " [ 6  7  8  9 10 11]\n",
      " [12 13 14 15 16 17]\n",
      " [18 19 20 21 22 23]\n",
      " [24 25 26 27 28 29]]\n"
     ]
    }
   ],
   "source": [
    "a = np.array(np.arange(30))\n",
    "print(a)\n",
    "print()\n",
    "print(a.reshape((5,6)))\n"
   ]
  },
  {
   "cell_type": "code",
   "execution_count": 64,
   "id": "d7691738",
   "metadata": {},
   "outputs": [
    {
     "name": "stdout",
     "output_type": "stream",
     "text": [
      "[[ 0  1  2  3  4  5]\n",
      " [ 6  7  8  9 10 11]\n",
      " [12 13 14 15 16 17]\n",
      " [18 19 20 21 22 23]\n",
      " [24 25 26 27 28 29]]\n"
     ]
    }
   ],
   "source": [
    "a = np.array(np.arange(30)).reshape((5,6))\n",
    "print(a)"
   ]
  },
  {
   "cell_type": "markdown",
   "id": "476da8ee",
   "metadata": {},
   "source": [
    "#### Numpy 슬라이싱\n",
    "\n",
    "- ndarray를 통해 만든 다차원 배열은 파이썬의 리스트처럼 슬라이스(Slice) 기능을 지원\n",
    "- 원소들 중 복수 개에 접근할 수 있음\n"
   ]
  },
  {
   "cell_type": "code",
   "execution_count": 66,
   "id": "ca2761bb",
   "metadata": {},
   "outputs": [
    {
     "data": {
      "text/plain": [
       "array([[1, 2, 3],\n",
       "       [4, 5, 6]])"
      ]
     },
     "execution_count": 66,
     "metadata": {},
     "output_type": "execute_result"
    }
   ],
   "source": [
    "a = np.array([[1, 2, 3], [4, 5, 6]])\n",
    "a"
   ]
  },
  {
   "cell_type": "code",
   "execution_count": 72,
   "id": "d4f9447c",
   "metadata": {},
   "outputs": [
    {
     "data": {
      "text/plain": [
       "array([[2],\n",
       "       [5]])"
      ]
     },
     "execution_count": 72,
     "metadata": {},
     "output_type": "execute_result"
    }
   ],
   "source": [
    "a[0:2, 1:2] # 행: 0부터 2전(0,1) 열 1부터 2전까지(1)"
   ]
  },
  {
   "cell_type": "code",
   "execution_count": 68,
   "id": "718de951",
   "metadata": {},
   "outputs": [
    {
     "data": {
      "text/plain": [
       "array([1, 2, 3, 4, 5, 6])"
      ]
     },
     "execution_count": 68,
     "metadata": {},
     "output_type": "execute_result"
    }
   ],
   "source": [
    "a.reshape(-1)"
   ]
  },
  {
   "cell_type": "code",
   "execution_count": 74,
   "id": "54fdc226",
   "metadata": {},
   "outputs": [
    {
     "name": "stdout",
     "output_type": "stream",
     "text": [
      "[0 2 3]\n",
      "(3,)\n",
      "1\n"
     ]
    }
   ],
   "source": [
    "# shwallow copy\n",
    "b = a[0, :] # 첫번째 행 출력\n",
    "print(b)\n",
    "print(b.shape)\n",
    "print(b.ndim)"
   ]
  },
  {
   "cell_type": "markdown",
   "id": "0ae8e8c4",
   "metadata": {},
   "source": [
    "#### Numpy 정수 인덱싱 (integer indxing)\n",
    "- 원본 배열로부터 부분 배열을 구함"
   ]
  },
  {
   "cell_type": "code",
   "execution_count": 75,
   "id": "811f3cac",
   "metadata": {},
   "outputs": [],
   "source": [
    "a = np.array([[1,2], [4,5], [7,8]])\n"
   ]
  },
  {
   "cell_type": "code",
   "execution_count": 78,
   "id": "0fe57312",
   "metadata": {},
   "outputs": [
    {
     "name": "stdout",
     "output_type": "stream",
     "text": [
      "[8 4]\n"
     ]
    }
   ],
   "source": [
    "b = a[[2, 1],[1, 0]] # a[[row2, row1],[col1, col0]]을 의미함.\n",
    "                     # a[[행1],[행2]], [열1,열2]]\n",
    "print(b)\n",
    "# b = [value1, value2] =[(row2, col1), (row1,col0)]\n",
    "# 뭐 이딴식으로 해놨지?"
   ]
  },
  {
   "cell_type": "markdown",
   "id": "4d0bf68a",
   "metadata": {},
   "source": [
    "#### Numpy 연산\n",
    "\n",
    "- Mumpy를 사용하면 배열간 연산을 손쉽게 수행\n",
    "- +,-, *, /의 연산자를 사용할 수 있음(산술연산)\n",
    "- add(), subtract(), multiply(), divide() 함수 사용 가능\n",
    "- 벡터와 행렬의 곱 또는 행렬곱을 위해서는 dot()을 사용"
   ]
  },
  {
   "cell_type": "code",
   "execution_count": 80,
   "id": "db5ba52b",
   "metadata": {},
   "outputs": [
    {
     "name": "stdout",
     "output_type": "stream",
     "text": [
      "[1 2 3]\n",
      "\n",
      "[4 5 6]\n"
     ]
    }
   ],
   "source": [
    "x = np.array([1,2,3])\n",
    "y = np.array([4,5,6])\n",
    "\n",
    "print(x)\n",
    "print()\n",
    "print(y)\n"
   ]
  },
  {
   "cell_type": "code",
   "execution_count": 81,
   "id": "ef634f03",
   "metadata": {},
   "outputs": [
    {
     "name": "stdout",
     "output_type": "stream",
     "text": [
      "[5 7 9]\n"
     ]
    }
   ],
   "source": [
    "b = x + y # 각 요소에 대해서 더함\n",
    "# b = np.add(x, y)와 동일함\n",
    "print(b)"
   ]
  },
  {
   "cell_type": "code",
   "execution_count": 84,
   "id": "9480f749",
   "metadata": {},
   "outputs": [
    {
     "name": "stdout",
     "output_type": "stream",
     "text": [
      "[-3 -3 -3]\n"
     ]
    }
   ],
   "source": [
    "b = x - y # 각 요소에 대해서 빼기\n",
    "a= b\n",
    "# b = np.subtract(x, y)와 동일함\n",
    "print(b)\n"
   ]
  },
  {
   "cell_type": "code",
   "execution_count": 85,
   "id": "49582f73",
   "metadata": {},
   "outputs": [
    {
     "name": "stdout",
     "output_type": "stream",
     "text": [
      "[ 4 10 18]\n"
     ]
    },
    {
     "data": {
      "text/plain": [
       "array([-3, -3, -3])"
      ]
     },
     "execution_count": 85,
     "metadata": {},
     "output_type": "execute_result"
    }
   ],
   "source": [
    "# 행렬자체가 들어가는 것은 재할당의 의미로 들어감\n",
    "# 주소가 바뀌지 않음\n",
    "b = y * x # 각 요소에 대해서 곱셈\n",
    "# b = np.multiply(y, x)와 동일함\n",
    "print(b)\n"
   ]
  },
  {
   "cell_type": "code",
   "execution_count": 86,
   "id": "f2e53fc0",
   "metadata": {},
   "outputs": [
    {
     "name": "stdout",
     "output_type": "stream",
     "text": [
      "[4.  2.5 2. ]\n"
     ]
    }
   ],
   "source": [
    "b = y / x  # 각 요소에 대해서 나눗셈\n",
    "# b = np.divide(y, x)와 동일함\n",
    "print(b)\n"
   ]
  },
  {
   "cell_type": "code",
   "execution_count": 89,
   "id": "fbf00804",
   "metadata": {},
   "outputs": [
    {
     "name": "stdout",
     "output_type": "stream",
     "text": [
      "[[1 2]\n",
      " [3 4]]\n",
      "\n",
      "[[5 6]\n",
      " [7 8]]\n"
     ]
    }
   ],
   "source": [
    "a = np.array([[1,2],[3,4]])\n",
    "b = np.array([[5,6],[7,8]])\n",
    "print(a)\n",
    "print()\n",
    "print(b)"
   ]
  },
  {
   "cell_type": "code",
   "execution_count": 90,
   "id": "16c04faf",
   "metadata": {},
   "outputs": [
    {
     "name": "stdout",
     "output_type": "stream",
     "text": [
      "[[19 22]\n",
      " [43 50]]\n"
     ]
    }
   ],
   "source": [
    "c = np.dot(a, b)\n",
    "print(c)\n",
    "# a의 행과 b의 열\n",
    "# ([1*2 + 2+7, 1*4 + 2*8],\n",
    "#  [5*3 +4*7, 3*6+4*8])\n",
    "\n",
    "#([a행1*b열1, a행1*b열2],\n",
    "# [a행2*b열1, a행2*b열2])"
   ]
  },
  {
   "cell_type": "code",
   "execution_count": 102,
   "id": "d963dbc9",
   "metadata": {},
   "outputs": [
    {
     "name": "stdout",
     "output_type": "stream",
     "text": [
      "[[1 2]\n",
      " [3 4]\n",
      " [5 6]]\n",
      "[[ 5  6  7]\n",
      " [ 8  9 10]]\n",
      "[[2 2]\n",
      " [3 3]\n",
      " [4 4]]\n",
      "(3, 2)\n",
      "(2, 3)\n",
      "(3, 2)\n"
     ]
    }
   ],
   "source": [
    "a = np.array([[1,2],[3,4],[5,6]])\n",
    "b = np.array([[5,6,7],[8,9,10]])\n",
    "c = np.array([[2,2],[3,3],[4,4]])\n",
    "print(a);print(b);print(c)\n",
    "print(a.shape);print(b.shape);print(c.shape)"
   ]
  },
  {
   "cell_type": "code",
   "execution_count": 100,
   "id": "d95eaea9",
   "metadata": {},
   "outputs": [
    {
     "name": "stdout",
     "output_type": "stream",
     "text": [
      "[[21 24 27]\n",
      " [47 54 61]\n",
      " [73 84 95]]\n"
     ]
    }
   ],
   "source": [
    "d = np.dot(a,b)\n",
    "print(d)"
   ]
  },
  {
   "cell_type": "code",
   "execution_count": 105,
   "id": "db50b6a0",
   "metadata": {},
   "outputs": [
    {
     "name": "stdout",
     "output_type": "stream",
     "text": [
      "[[222 222]\n",
      " [500 500]\n",
      " [778 778]]\n"
     ]
    }
   ],
   "source": [
    "e = np.dot(d,c)\n",
    "print(e)"
   ]
  },
  {
   "cell_type": "code",
   "execution_count": null,
   "id": "06be0a66",
   "metadata": {},
   "outputs": [],
   "source": []
  }
 ],
 "metadata": {
  "jupytext": {
   "formats": "ipynb,auto:light"
  },
  "kernelspec": {
   "display_name": "Python 3",
   "language": "python",
   "name": "python3"
  },
  "language_info": {
   "codemirror_mode": {
    "name": "ipython",
    "version": 3
   },
   "file_extension": ".py",
   "mimetype": "text/x-python",
   "name": "python",
   "nbconvert_exporter": "python",
   "pygments_lexer": "ipython3",
   "version": "3.8.10"
  }
 },
 "nbformat": 4,
 "nbformat_minor": 5
}
