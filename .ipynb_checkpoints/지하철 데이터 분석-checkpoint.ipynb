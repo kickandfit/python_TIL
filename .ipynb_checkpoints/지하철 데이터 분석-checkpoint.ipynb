{
 "cells": [
  {
   "cell_type": "code",
   "execution_count": 20,
   "id": "f42fe789",
   "metadata": {},
   "outputs": [],
   "source": [
    "import pandas as pd\n",
    "import matplotlib.pyplot as plt\n",
    "import os\n",
    "import matplotlib.font_manager as fm\n",
    "import csv\n",
    "\n",
    "### 한글 표기\n",
    "font_name=fm.FontProperties(fname=\"C:/Windows/Fonts/malgun.ttf\").get_name()\n",
    "plt.rc('font', family=font_name)\n",
    "\n",
    "def f_9(fn):\n",
    "    ### csv 파일 전처리 함수\n",
    "    f = open('c:/pydata/subway/CARD_SUBWAY_MONTH_202009.csv', encoding='cp949')\n",
    "    data = csv.reader(f)\n",
    "    # \"사용일자\"', '노선명', '역명', '승차총승객수', '하차총승객수', '등록일자'\n",
    "    next(data)\n",
    "    data_lst = []\n",
    "    for row in data:\n",
    "        data_lst.append(row[:6])\n",
    "        \n",
    "    df = pd.DataFrame(data_lst, columns=['사용일자', '노선명', '역명', '승차총승객수', '하차총승객수', '등록일자'])\n",
    "    df.to_csv('c:/pydata/subway/'+fn, encoding='cp949', index=False)\n",
    "    f.close()\n",
    "\n",
    "def Csv_reset(fn):\n",
    "    ### csv 파일 전처리 함수\n",
    "    f = open('c:/pydata/subway/'+fn, encoding='utf-8')\n",
    "            \n",
    "    data = csv.reader(f)\n",
    "    # \"사용일자\"', '노선명', '역명', '승차총승객수', '하차총승객수', '등록일자'\n",
    "\n",
    "    next(data)\n",
    "    data_lst = []\n",
    "    for row in data:\n",
    "        data_lst.append(row[:6])\n",
    "\n",
    "    df = pd.DataFrame(data_lst, columns=['사용일자', '노선명', '역명', '승차총승객수', '하차총승객수', '등록일자'])\n",
    "    df.to_csv('c:/pydata/subway/'+fn, encoding='cp949', index=False)\n",
    "    f.close()\n",
    "\n",
    "def file_read():\n",
    "    ### subway 폴더에 있는 모든 파일 하나로 만들기\n",
    "    filePath='c:/pydata/subway/'\n",
    "    fileName=os.listdir(filePath)  # subway 폴더의 모든 파일 및 하위 폴더 정보를 리스트형으로 가져와 저장\n",
    "\n",
    "    df1=pd.DataFrame()\n",
    "\n",
    "    for fn in fileName:\n",
    "        ### try ~ except : 예외처리 구문\n",
    "        #print(fn)\n",
    "        if fn == \"CARD_SUBWAY_MONTH_202009.csv\": f_9(fn)\n",
    "        \n",
    "        try:   # 정상코드 수행\n",
    "            df2=pd.read_csv(filePath+fn, encoding='cp949')\n",
    "        except: # try 구문에서 에러 발생시 처리하기 위한 구문\n",
    "            Csv_reset(fn)\n",
    "            df2 = pd.read_csv(filePath + fn, encoding='cp949')\n",
    "        # 데이터 한개의 파일로 만들기\n",
    "        df1=pd.concat([df1, df2])\n",
    "    \n",
    "    ## 데이터 전처리\n",
    "    df1=df1.reset_index(drop=True)\n",
    "    \n",
    "    \n",
    "\n",
    "    return df1\n",
    "\n",
    "def subway_sch1(dfdata, subway_name):\n",
    "    df2=dfdata[dfdata['역명']==subway_name]\n",
    "    #print(df2.info())\n",
    "    df2 = df2.astype({'승차총승객수': 'int64','사용일자':'str'})\n",
    "    df2.plot(x='사용일자', y='승차총승객수')\n",
    "    plt.show()\n",
    "\n",
    "def subway_sch2(dfdata, subway_name):\n",
    "    df2=dfdata[dfdata['역명']==subway_name]\n",
    "    #print(df2.info())\n",
    "    df2 = df2.astype({'승차총승객수': 'int64','사용일자':'str'})\n",
    "    df2=df2.groupby('사용일자')[['승차총승객수','하차총승객수']].sum()\n",
    "    df2.plot()\n",
    "    plt.show()\n",
    "\n",
    "\n",
    "### 사용자 함수 호출 부분\n",
    "df1=file_read()\n",
    "\n",
    "#subway_name=input('조회역 입력:')\n",
    "#subway_sch2(df1, subway_name)\n"
   ]
  },
  {
   "cell_type": "code",
   "execution_count": 21,
   "id": "e49f61b1",
   "metadata": {},
   "outputs": [],
   "source": [
    "## 데이터 타입 변경\n",
    "df1=df1.astype({'사용일자':str, \"승차총승객수\":\"int64\", \"하차총승객수\":\"int64\"})\n",
    "\n",
    "## 등록일자 삭제: df.drop( [ '삭제할 열 이름 1', '삭제할 열 이름 2',... ], axis = 1)\n",
    "df1.drop(['등록일자'], axis=1, inplace=True)"
   ]
  },
  {
   "cell_type": "code",
   "execution_count": 24,
   "id": "755306b1",
   "metadata": {},
   "outputs": [
    {
     "data": {
      "text/plain": [
       "0        2019-01-01\n",
       "1        2019-01-01\n",
       "2        2019-01-01\n",
       "3        2019-01-01\n",
       "4        2019-01-01\n",
       "            ...    \n",
       "505454   2021-05-31\n",
       "505455   2021-05-31\n",
       "505456   2021-05-31\n",
       "505457   2021-05-31\n",
       "505458   2021-05-31\n",
       "Name: 사용일자, Length: 505459, dtype: datetime64[ns]"
      ]
     },
     "execution_count": 24,
     "metadata": {},
     "output_type": "execute_result"
    }
   ],
   "source": [
    "## pandas를 이용한 날짜 변경: pandas.to_datetime(df['필드명'])\n",
    "pd.to_datetime(df1['사용일자'])"
   ]
  },
  {
   "cell_type": "code",
   "execution_count": null,
   "id": "34b6610b",
   "metadata": {},
   "outputs": [],
   "source": []
  },
  {
   "cell_type": "code",
   "execution_count": null,
   "id": "c8760c05",
   "metadata": {},
   "outputs": [],
   "source": []
  }
 ],
 "metadata": {
  "kernelspec": {
   "display_name": "Python 3",
   "language": "python",
   "name": "python3"
  },
  "language_info": {
   "codemirror_mode": {
    "name": "ipython",
    "version": 3
   },
   "file_extension": ".py",
   "mimetype": "text/x-python",
   "name": "python",
   "nbconvert_exporter": "python",
   "pygments_lexer": "ipython3",
   "version": "3.9.4"
  }
 },
 "nbformat": 4,
 "nbformat_minor": 5
}
