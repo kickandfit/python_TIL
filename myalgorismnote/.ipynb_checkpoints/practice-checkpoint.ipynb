{
 "cells": [
  {
   "cell_type": "code",
   "execution_count": 5,
   "id": "359e6cd1",
   "metadata": {},
   "outputs": [
    {
     "name": "stdout",
     "output_type": "stream",
     "text": [
      "5\n"
     ]
    },
    {
     "data": {
      "text/plain": [
       "(55, 15)"
      ]
     },
     "execution_count": 5,
     "metadata": {},
     "output_type": "execute_result"
    }
   ],
   "source": [
    "num = [1, 2, 3, 4, 5]\n",
    "sum1 = 0 \n",
    "\n",
    "result = 0\n",
    "for i in num:\n",
    "  sum1 += i*i\n",
    "\n",
    "  \n",
    "result = sum1 % 10\n",
    "print(result)\n",
    "sum1, sum2"
   ]
  },
  {
   "cell_type": "code",
   "execution_count": 4,
   "id": "b3750293",
   "metadata": {},
   "outputs": [
    {
     "name": "stdout",
     "output_type": "stream",
     "text": [
      "{1, 2, 3, 4}\n",
      "[1, 2, 3, 4]\n",
      "None\n"
     ]
    }
   ],
   "source": [
    "import sys\n",
    "\n",
    "def quick_sort(array):\n",
    "    if len(array) <= 1:\n",
    "        return array\n",
    "    \n",
    "    pivot = array[0]\n",
    "    tail = array[1:]\n",
    "    left_side = [x for x in tail if x <= pivot]\n",
    "    right_side = [x for x in tail if x > pivot]\n",
    "    \n",
    "    return quick_sort(left_side) + [pivot] + quick_sort(right_side) # 9/1 이부분이 재귀를 통해 left랑 right를 정렬하는 부분\n",
    "num = input()\n",
    "data = list(sys.stdin.readline().split())\n",
    "data1 = set(data)\n",
    "f_data = list(data1)\n",
    "array = []\n",
    "for i in f_data:\n",
    "  array.append(int(i))\n",
    "result = quick_sort(array)\n",
    "\n",
    "for i in result:\n",
    "  print(i, end = ' ')"
   ]
  },
  {
   "cell_type": "code",
   "execution_count": null,
   "id": "b651c42f",
   "metadata": {},
   "outputs": [],
   "source": [
    "\n",
    "def solution(n):\n",
    "    if n == 1:\n",
    "        return 1\n",
    "    if n == 2:\n",
    "        return 2\n",
    "    if n == 3:\n",
    "        return 4\n",
    "    else:\n",
    "        return solution(n-1) + solution(n-2) + solution(n-3)\n",
    "\n",
    "result = int(sys.stdin.readline())\n",
    "for _ in range(result):\n",
    "    print(solution(int(sys.stdin.readline())))"
   ]
  }
 ],
 "metadata": {
  "kernelspec": {
   "display_name": "Python 3",
   "language": "python",
   "name": "python3"
  },
  "language_info": {
   "codemirror_mode": {
    "name": "ipython",
    "version": 3
   },
   "file_extension": ".py",
   "mimetype": "text/x-python",
   "name": "python",
   "nbconvert_exporter": "python",
   "pygments_lexer": "ipython3",
   "version": "3.8.10"
  }
 },
 "nbformat": 4,
 "nbformat_minor": 5
}
