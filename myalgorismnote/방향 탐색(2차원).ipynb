{
 "cells": [
  {
   "cell_type": "markdown",
   "id": "be48e796",
   "metadata": {
    "lines_to_next_cell": 2
   },
   "source": [
    "#### 방향 탐색 설정시 중요한점\n",
    "- 여러방향 동시 탐색을 재귀로 하려고 한다면 추가 종료조건이 필요함\n",
    "- 그렇지 않으면 무한루프가됨\n",
    "- 종료 조건은 방문 처리를 해주면 됨\n",
    "- if move(x+1, y, 0), move(x-1,y,0)을 동시에 돌려주게되면 방문 처리해야함"
   ]
  },
  {
   "cell_type": "code",
   "execution_count": 2,
   "id": "ddb33c40",
   "metadata": {
    "lines_to_next_cell": 0
   },
   "outputs": [],
   "source": [
    "# 한 방향 탐색 알고리즘\n",
    "def move(x,y, i):\n",
    "    if x>10 or y>10 or x<=-1 or y<=-1:\n",
    "        return\n",
    "    print(x,y)\n",
    "    # 아래로 탐색\n",
    "    if i == 0:\n",
    "        return move(x+1,y , 0)\n",
    "    # 오른족 탐색\n",
    "    elif i == 1:\n",
    "        return move(x, y+1, 1)\n",
    "    # 위로 탐색\n",
    "    elif i == 2:\n",
    "        return move(x-1, y, 2)\n",
    "    # 왼쪽 탐색\n",
    "    elif i == 3:\n",
    "        return move(x, y-1, 3)\n",
    "    # 대각선 탐색(우상)\n",
    "    elif i == 4:\n",
    "        return move(x+1, y+1, 4)\n",
    "    # 대각선 탐색(좌하)\n",
    "    else:\n",
    "        return move(x-1, y-1, 5)\n",
    "\n",
    "# for dir in range(5):\n",
    "#     move(4,4,dir)"
   ]
  },
  {
   "cell_type": "code",
   "execution_count": null,
   "id": "f6516544",
   "metadata": {},
   "outputs": [],
   "source": [
    "graph = [[0, 0, 1], [0, 1, 0], [1, 0, 1]]\n",
    "n, m = 3,3\n",
    "\n",
    "def dfs(x, y):\n",
    "    \n",
    "    if x<= -1 or x>=n or y<=-1 or y>=m:\n",
    "        return False\n",
    "    \n",
    "    # 이부분이 방문 여부 묻고 처리하는 부분\n",
    "    if graph[x][y] ==0:\n",
    "        \n",
    "        #방문 처리 하고,\n",
    "        graph[x][y] = 1\n",
    "        \n",
    "        # 탐색해라\n",
    "        dfs(x-1, y)\n",
    "        dfs(x,y-1)\n",
    "        dfs(x+1,y)\n",
    "        dfs(x,y+1)\n",
    "        return True\n",
    "    return False"
   ]
  }
 ],
 "metadata": {
  "jupytext": {
   "encoding": "# -*- coding: utf-8 -*-",
   "formats": "ipynb,py:light"
  },
  "kernelspec": {
   "display_name": "Python 3",
   "language": "python",
   "name": "python3"
  },
  "language_info": {
   "codemirror_mode": {
    "name": "ipython",
    "version": 3
   },
   "file_extension": ".py",
   "mimetype": "text/x-python",
   "name": "python",
   "nbconvert_exporter": "python",
   "pygments_lexer": "ipython3",
   "version": "3.8.10"
  }
 },
 "nbformat": 4,
 "nbformat_minor": 5
}
