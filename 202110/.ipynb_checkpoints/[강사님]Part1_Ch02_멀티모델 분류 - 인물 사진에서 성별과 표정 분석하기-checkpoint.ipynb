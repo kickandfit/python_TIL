{
 "cells": [
  {
   "cell_type": "markdown",
   "metadata": {
    "id": "BDT9i8QLzfXg"
   },
   "source": [
    "# 주제 : 성별과 웃음 여부를 동시에 판단하는 모델을 만들어보자\n",
    "--------------\n",
    "## 실습 가이드\n",
    "    1. 데이터를 다운로드하여 Colab에 불러옵니다.\n",
    "    2. 필요한 라이브러리는 모두 코드로 작성되어 있습니다.\n",
    "    3. 코드는 위에서부터 아래로 순서대로 실행합니다.\n",
    "    4. 전체 문제 구성은 좌측 첫 번째 아이콘을 통해 확인할 수 있습니다.\n",
    "\n",
    "## 데이터 소개\n",
    "    - 이번 주제의 데이터는 얼굴 데이터로 유명한 celeba dataset을 이용합니다.\n",
    "  ![celeba dataset](https://storage.googleapis.com/tfds-data/visualization/fig/celeb_a-2.0.1.png)\n",
    "\n",
    "     위의 이미지는 다음과 같은 것을 보여줍니다.  \n",
    "    - 10,177 개의 신원 \n",
    "    - 얼굴 이미지 수 202,599 개\n",
    "    - 5 개의 랜드 마크 위치, 이미지 당 40 개의 바이너리 속성 주석\n",
    "      - 성별\n",
    "      - 큰 코\n",
    "      - 매력적\n",
    "      - 젊음\n",
    "      - 웃음 여부\n",
    "      - 모자 착용 여부\n",
    "      - 안경 착요 여부\n",
    "      - etc\n",
    "\n",
    "\n",
    "\n",
    "- 데이터 출처:\n",
    " - [celeba dataset](https://www.tensorflow.org/datasets/catalog/celeb_a)\n",
    " - [celeba small](https://drive.google.com/file/d/1t2qIgpWdWX_n5OC8P2ZiDfPIQ98NY_PB/view?usp=sharing)\n",
    "\n",
    "## 최종 목표\n",
    "\n",
    "    - 작게 줄인 celeba 데이터를 이용하여 웃음, 성별 동시 구분\n",
    "    - 한 모델에서 여러 결과에 대한 분석을 하는 방법\n",
    "    - 큰 사진을 작게 줄이기\n",
    "---------------\n"
   ]
  },
  {
   "cell_type": "code",
   "execution_count": null,
   "metadata": {
    "id": "mUteMBoWzfXn"
   },
   "outputs": [],
   "source": [
    "import tensorflow as tf\n",
    "from tensorflow import keras\n",
    "from keras.layers import Dense\n",
    "from keras.models import Sequential\n",
    "\n",
    "import pandas as pd\n",
    "import numpy as np\n",
    "import matplotlib.pyplot as plt\n",
    "import seaborn as sns\n",
    "import warnings \n",
    "from IPython.display import Image\n",
    "\n",
    "warnings.filterwarnings('ignore')\n",
    "%matplotlib inline\n",
    "\n",
    "SEED = 34\n"
   ]
  },
  {
   "cell_type": "markdown",
   "metadata": {
    "id": "A5NviQ1BzfXo"
   },
   "source": [
    "## Step 1. 도입전 기본 처리"
   ]
  },
  {
   "cell_type": "markdown",
   "metadata": {
    "id": "EmGJVKBrzfXo"
   },
   "source": [
    "### 문제 1. tfds를 이용하여 데이터셋 사용하기"
   ]
  },
  {
   "cell_type": "code",
   "execution_count": null,
   "metadata": {
    "id": "vgjOE7bMzfXo"
   },
   "outputs": [],
   "source": [
    "# tfds를 이용하여 데이터셋 사용하기\n",
    "import tensorflow_datasets as tfds\n",
    "tfds.list_builders()"
   ]
  },
  {
   "cell_type": "markdown",
   "metadata": {
    "id": "MrGNvmdSzfXp"
   },
   "source": [
    "### 문제 2. celeba의 정보중 이용할 데이터만 추출"
   ]
  },
  {
   "cell_type": "code",
   "execution_count": null,
   "metadata": {
    "colab": {
     "base_uri": "https://localhost:8080/",
     "height": 639,
     "referenced_widgets": [
      "34c51f10860646199c8129448f4f9202",
      "7ef9658a30db4372a77582c34d0bf13c",
      "407eb6041b2f47488e97133048add863",
      "fefba3afe3df407fab5ba3a35dfd3850",
      "94481629606c4c96a447e7fa3f24b0f6",
      "625457ec27d948369287beabb3607758",
      "b8f1ca18a5474f0db0e8cd9d60b6fc72",
      "d25441cf2b9e47d08d3b56707cb93519",
      "10ae754329b64e53b369ace1b8485719",
      "8458e0de0e4c4a3da2c487b4ca9306b1",
      "9ad79178e6024de49c83dbdfef2db412",
      "fe2d9c34a87b4533a7f410505e67421b",
      "621e1f00c6874569b54c806d7e6413f1",
      "277b5e1e12e4455dbc9a66444ef741b5",
      "4a18ce7841e24ed790a1c61c73128802",
      "c7a85623e0cd419ebb867a5c71af9ffc",
      "5b417263e50b483194245fe26e0a4cfa",
      "b5199584aeca46a2b487f0ae559b06df",
      "409cde2342104b459477e499308b7c2a",
      "064b48ff3d9544769a28ebaa9e72f215",
      "062396390df8409596aa2fef845e65c1",
      "3baf9be993424f1b81e2c85cbcd8ac85"
     ]
    },
    "executionInfo": {
     "elapsed": 2865,
     "status": "error",
     "timestamp": 1634110620174,
     "user": {
      "displayName": "서정동",
      "photoUrl": "https://lh3.googleusercontent.com/a/default-user=s64",
      "userId": "09574773154017110695"
     },
     "user_tz": -540
    },
    "id": "dBVjCFEXzfXp",
    "outputId": "6866f2f9-3f83-450f-9d6c-0ec6d76b4089"
   },
   "outputs": [
    {
     "name": "stdout",
     "output_type": "stream",
     "text": [
      "\u001b[1mDownloading and preparing dataset celeb_a/2.0.1 (download: 1.38 GiB, generated: 1.62 GiB, total: 3.00 GiB) to /root/tensorflow_datasets/celeb_a/2.0.1...\u001b[0m\n"
     ]
    },
    {
     "data": {
      "application/vnd.jupyter.widget-view+json": {
       "model_id": "34c51f10860646199c8129448f4f9202",
       "version_major": 2,
       "version_minor": 0
      },
      "text/plain": [
       "Dl Completed...: 0 url [00:00, ? url/s]"
      ]
     },
     "metadata": {},
     "output_type": "display_data"
    },
    {
     "data": {
      "application/vnd.jupyter.widget-view+json": {
       "model_id": "fe2d9c34a87b4533a7f410505e67421b",
       "version_major": 2,
       "version_minor": 0
      },
      "text/plain": [
       "Dl Size...: 0 MiB [00:00, ? MiB/s]"
      ]
     },
     "metadata": {},
     "output_type": "display_data"
    },
    {
     "ename": "NonMatchingChecksumError",
     "evalue": "ignored",
     "output_type": "error",
     "traceback": [
      "\u001b[0;31m---------------------------------------------------------------------------\u001b[0m",
      "\u001b[0;31mNonMatchingChecksumError\u001b[0m                  Traceback (most recent call last)",
      "\u001b[0;32m<ipython-input-3-906a8cda52a2>\u001b[0m in \u001b[0;36m<module>\u001b[0;34m()\u001b[0m\n\u001b[1;32m      1\u001b[0m \u001b[0;31m# celeba의 정보중 이용할 데이터만 추출\u001b[0m\u001b[0;34m\u001b[0m\u001b[0;34m\u001b[0m\u001b[0;34m\u001b[0m\u001b[0m\n\u001b[0;32m----> 2\u001b[0;31m \u001b[0mceleb_a\u001b[0m \u001b[0;34m=\u001b[0m \u001b[0mtfds\u001b[0m\u001b[0;34m.\u001b[0m\u001b[0mload\u001b[0m\u001b[0;34m(\u001b[0m\u001b[0;34m'celeb_a'\u001b[0m\u001b[0;34m)\u001b[0m\u001b[0;34m\u001b[0m\u001b[0;34m\u001b[0m\u001b[0m\n\u001b[0m",
      "\u001b[0;32m/usr/local/lib/python3.7/dist-packages/tensorflow_datasets/core/load.py\u001b[0m in \u001b[0;36mload\u001b[0;34m(name, split, data_dir, batch_size, shuffle_files, download, as_supervised, decoders, read_config, with_info, builder_kwargs, download_and_prepare_kwargs, as_dataset_kwargs, try_gcs)\u001b[0m\n\u001b[1;32m    342\u001b[0m   \u001b[0;32mif\u001b[0m \u001b[0mdownload\u001b[0m\u001b[0;34m:\u001b[0m\u001b[0;34m\u001b[0m\u001b[0;34m\u001b[0m\u001b[0m\n\u001b[1;32m    343\u001b[0m     \u001b[0mdownload_and_prepare_kwargs\u001b[0m \u001b[0;34m=\u001b[0m \u001b[0mdownload_and_prepare_kwargs\u001b[0m \u001b[0;32mor\u001b[0m \u001b[0;34m{\u001b[0m\u001b[0;34m}\u001b[0m\u001b[0;34m\u001b[0m\u001b[0;34m\u001b[0m\u001b[0m\n\u001b[0;32m--> 344\u001b[0;31m     \u001b[0mdbuilder\u001b[0m\u001b[0;34m.\u001b[0m\u001b[0mdownload_and_prepare\u001b[0m\u001b[0;34m(\u001b[0m\u001b[0;34m**\u001b[0m\u001b[0mdownload_and_prepare_kwargs\u001b[0m\u001b[0;34m)\u001b[0m\u001b[0;34m\u001b[0m\u001b[0;34m\u001b[0m\u001b[0m\n\u001b[0m\u001b[1;32m    345\u001b[0m \u001b[0;34m\u001b[0m\u001b[0m\n\u001b[1;32m    346\u001b[0m   \u001b[0;32mif\u001b[0m \u001b[0mas_dataset_kwargs\u001b[0m \u001b[0;32mis\u001b[0m \u001b[0;32mNone\u001b[0m\u001b[0;34m:\u001b[0m\u001b[0;34m\u001b[0m\u001b[0;34m\u001b[0m\u001b[0m\n",
      "\u001b[0;32m/usr/local/lib/python3.7/dist-packages/tensorflow_datasets/core/dataset_builder.py\u001b[0m in \u001b[0;36mdownload_and_prepare\u001b[0;34m(self, download_dir, download_config)\u001b[0m\n\u001b[1;32m    385\u001b[0m           self._download_and_prepare(\n\u001b[1;32m    386\u001b[0m               \u001b[0mdl_manager\u001b[0m\u001b[0;34m=\u001b[0m\u001b[0mdl_manager\u001b[0m\u001b[0;34m,\u001b[0m\u001b[0;34m\u001b[0m\u001b[0;34m\u001b[0m\u001b[0m\n\u001b[0;32m--> 387\u001b[0;31m               download_config=download_config)\n\u001b[0m\u001b[1;32m    388\u001b[0m \u001b[0;34m\u001b[0m\u001b[0m\n\u001b[1;32m    389\u001b[0m           \u001b[0;31m# NOTE: If modifying the lines below to put additional information in\u001b[0m\u001b[0;34m\u001b[0m\u001b[0;34m\u001b[0m\u001b[0;34m\u001b[0m\u001b[0m\n",
      "\u001b[0;32m/usr/local/lib/python3.7/dist-packages/tensorflow_datasets/core/dataset_builder.py\u001b[0m in \u001b[0;36m_download_and_prepare\u001b[0;34m(self, dl_manager, download_config)\u001b[0m\n\u001b[1;32m   1022\u001b[0m     super(GeneratorBasedBuilder, self)._download_and_prepare(\n\u001b[1;32m   1023\u001b[0m         \u001b[0mdl_manager\u001b[0m\u001b[0;34m=\u001b[0m\u001b[0mdl_manager\u001b[0m\u001b[0;34m,\u001b[0m\u001b[0;34m\u001b[0m\u001b[0;34m\u001b[0m\u001b[0m\n\u001b[0;32m-> 1024\u001b[0;31m         \u001b[0mmax_examples_per_split\u001b[0m\u001b[0;34m=\u001b[0m\u001b[0mdownload_config\u001b[0m\u001b[0;34m.\u001b[0m\u001b[0mmax_examples_per_split\u001b[0m\u001b[0;34m,\u001b[0m\u001b[0;34m\u001b[0m\u001b[0;34m\u001b[0m\u001b[0m\n\u001b[0m\u001b[1;32m   1025\u001b[0m     )\n\u001b[1;32m   1026\u001b[0m \u001b[0;34m\u001b[0m\u001b[0m\n",
      "\u001b[0;32m/usr/local/lib/python3.7/dist-packages/tensorflow_datasets/core/dataset_builder.py\u001b[0m in \u001b[0;36m_download_and_prepare\u001b[0;34m(self, dl_manager, **prepare_split_kwargs)\u001b[0m\n\u001b[1;32m    960\u001b[0m         prepare_split_kwargs)\n\u001b[1;32m    961\u001b[0m     for split_generator in self._split_generators(\n\u001b[0;32m--> 962\u001b[0;31m         dl_manager, **split_generators_kwargs):\n\u001b[0m\u001b[1;32m    963\u001b[0m       \u001b[0;32mif\u001b[0m \u001b[0mstr\u001b[0m\u001b[0;34m(\u001b[0m\u001b[0msplit_generator\u001b[0m\u001b[0;34m.\u001b[0m\u001b[0msplit_info\u001b[0m\u001b[0;34m.\u001b[0m\u001b[0mname\u001b[0m\u001b[0;34m)\u001b[0m\u001b[0;34m.\u001b[0m\u001b[0mlower\u001b[0m\u001b[0;34m(\u001b[0m\u001b[0;34m)\u001b[0m \u001b[0;34m==\u001b[0m \u001b[0;34m\"all\"\u001b[0m\u001b[0;34m:\u001b[0m\u001b[0;34m\u001b[0m\u001b[0;34m\u001b[0m\u001b[0m\n\u001b[1;32m    964\u001b[0m         raise ValueError(\n",
      "\u001b[0;32m/usr/local/lib/python3.7/dist-packages/tensorflow_datasets/image/celeba.py\u001b[0m in \u001b[0;36m_split_generators\u001b[0;34m(self, dl_manager)\u001b[0m\n\u001b[1;32m    130\u001b[0m         \u001b[0;34m\"list_eval_partition\"\u001b[0m\u001b[0;34m:\u001b[0m \u001b[0mEVAL_LIST\u001b[0m\u001b[0;34m,\u001b[0m\u001b[0;34m\u001b[0m\u001b[0;34m\u001b[0m\u001b[0m\n\u001b[1;32m    131\u001b[0m         \u001b[0;34m\"list_attr_celeba\"\u001b[0m\u001b[0;34m:\u001b[0m \u001b[0mATTR_DATA\u001b[0m\u001b[0;34m,\u001b[0m\u001b[0;34m\u001b[0m\u001b[0;34m\u001b[0m\u001b[0m\n\u001b[0;32m--> 132\u001b[0;31m         \u001b[0;34m\"landmarks_celeba\"\u001b[0m\u001b[0;34m:\u001b[0m \u001b[0mLANDMARKS_DATA\u001b[0m\u001b[0;34m,\u001b[0m\u001b[0;34m\u001b[0m\u001b[0;34m\u001b[0m\u001b[0m\n\u001b[0m\u001b[1;32m    133\u001b[0m     })\n\u001b[1;32m    134\u001b[0m \u001b[0;34m\u001b[0m\u001b[0m\n",
      "\u001b[0;32m/usr/local/lib/python3.7/dist-packages/tensorflow_datasets/core/download/download_manager.py\u001b[0m in \u001b[0;36mdownload\u001b[0;34m(self, url_or_urls)\u001b[0m\n\u001b[1;32m    543\u001b[0m     \u001b[0;31m# Add progress bar to follow the download state\u001b[0m\u001b[0;34m\u001b[0m\u001b[0;34m\u001b[0m\u001b[0;34m\u001b[0m\u001b[0m\n\u001b[1;32m    544\u001b[0m     \u001b[0;32mwith\u001b[0m \u001b[0mself\u001b[0m\u001b[0;34m.\u001b[0m\u001b[0m_downloader\u001b[0m\u001b[0;34m.\u001b[0m\u001b[0mtqdm\u001b[0m\u001b[0;34m(\u001b[0m\u001b[0;34m)\u001b[0m\u001b[0;34m:\u001b[0m\u001b[0;34m\u001b[0m\u001b[0;34m\u001b[0m\u001b[0m\n\u001b[0;32m--> 545\u001b[0;31m       \u001b[0;32mreturn\u001b[0m \u001b[0m_map_promise\u001b[0m\u001b[0;34m(\u001b[0m\u001b[0mself\u001b[0m\u001b[0;34m.\u001b[0m\u001b[0m_download\u001b[0m\u001b[0;34m,\u001b[0m \u001b[0murl_or_urls\u001b[0m\u001b[0;34m)\u001b[0m\u001b[0;34m\u001b[0m\u001b[0;34m\u001b[0m\u001b[0m\n\u001b[0m\u001b[1;32m    546\u001b[0m \u001b[0;34m\u001b[0m\u001b[0m\n\u001b[1;32m    547\u001b[0m   \u001b[0;32mdef\u001b[0m \u001b[0miter_archive\u001b[0m\u001b[0;34m(\u001b[0m\u001b[0mself\u001b[0m\u001b[0;34m,\u001b[0m \u001b[0mresource\u001b[0m\u001b[0;34m)\u001b[0m\u001b[0;34m:\u001b[0m\u001b[0;34m\u001b[0m\u001b[0;34m\u001b[0m\u001b[0m\n",
      "\u001b[0;32m/usr/local/lib/python3.7/dist-packages/tensorflow_datasets/core/download/download_manager.py\u001b[0m in \u001b[0;36m_map_promise\u001b[0;34m(map_fn, all_inputs)\u001b[0m\n\u001b[1;32m    634\u001b[0m   \u001b[0;34m\"\"\"Map the function into each element and resolve the promise.\"\"\"\u001b[0m\u001b[0;34m\u001b[0m\u001b[0;34m\u001b[0m\u001b[0m\n\u001b[1;32m    635\u001b[0m   \u001b[0mall_promises\u001b[0m \u001b[0;34m=\u001b[0m \u001b[0mtf\u001b[0m\u001b[0;34m.\u001b[0m\u001b[0mnest\u001b[0m\u001b[0;34m.\u001b[0m\u001b[0mmap_structure\u001b[0m\u001b[0;34m(\u001b[0m\u001b[0mmap_fn\u001b[0m\u001b[0;34m,\u001b[0m \u001b[0mall_inputs\u001b[0m\u001b[0;34m)\u001b[0m  \u001b[0;31m# Apply the function\u001b[0m\u001b[0;34m\u001b[0m\u001b[0;34m\u001b[0m\u001b[0m\n\u001b[0;32m--> 636\u001b[0;31m   \u001b[0mres\u001b[0m \u001b[0;34m=\u001b[0m \u001b[0mtf\u001b[0m\u001b[0;34m.\u001b[0m\u001b[0mnest\u001b[0m\u001b[0;34m.\u001b[0m\u001b[0mmap_structure\u001b[0m\u001b[0;34m(\u001b[0m\u001b[0;32mlambda\u001b[0m \u001b[0mp\u001b[0m\u001b[0;34m:\u001b[0m \u001b[0mp\u001b[0m\u001b[0;34m.\u001b[0m\u001b[0mget\u001b[0m\u001b[0;34m(\u001b[0m\u001b[0;34m)\u001b[0m\u001b[0;34m,\u001b[0m \u001b[0mall_promises\u001b[0m\u001b[0;34m)\u001b[0m  \u001b[0;31m# Wait promises\u001b[0m\u001b[0;34m\u001b[0m\u001b[0;34m\u001b[0m\u001b[0m\n\u001b[0m\u001b[1;32m    637\u001b[0m   \u001b[0;32mreturn\u001b[0m \u001b[0mres\u001b[0m\u001b[0;34m\u001b[0m\u001b[0;34m\u001b[0m\u001b[0m\n",
      "\u001b[0;32m/usr/local/lib/python3.7/dist-packages/tensorflow/python/util/nest.py\u001b[0m in \u001b[0;36mmap_structure\u001b[0;34m(func, *structure, **kwargs)\u001b[0m\n\u001b[1;32m    867\u001b[0m \u001b[0;34m\u001b[0m\u001b[0m\n\u001b[1;32m    868\u001b[0m   return pack_sequence_as(\n\u001b[0;32m--> 869\u001b[0;31m       \u001b[0mstructure\u001b[0m\u001b[0;34m[\u001b[0m\u001b[0;36m0\u001b[0m\u001b[0;34m]\u001b[0m\u001b[0;34m,\u001b[0m \u001b[0;34m[\u001b[0m\u001b[0mfunc\u001b[0m\u001b[0;34m(\u001b[0m\u001b[0;34m*\u001b[0m\u001b[0mx\u001b[0m\u001b[0;34m)\u001b[0m \u001b[0;32mfor\u001b[0m \u001b[0mx\u001b[0m \u001b[0;32min\u001b[0m \u001b[0mentries\u001b[0m\u001b[0;34m]\u001b[0m\u001b[0;34m,\u001b[0m\u001b[0;34m\u001b[0m\u001b[0;34m\u001b[0m\u001b[0m\n\u001b[0m\u001b[1;32m    870\u001b[0m       expand_composites=expand_composites)\n\u001b[1;32m    871\u001b[0m \u001b[0;34m\u001b[0m\u001b[0m\n",
      "\u001b[0;32m/usr/local/lib/python3.7/dist-packages/tensorflow/python/util/nest.py\u001b[0m in \u001b[0;36m<listcomp>\u001b[0;34m(.0)\u001b[0m\n\u001b[1;32m    867\u001b[0m \u001b[0;34m\u001b[0m\u001b[0m\n\u001b[1;32m    868\u001b[0m   return pack_sequence_as(\n\u001b[0;32m--> 869\u001b[0;31m       \u001b[0mstructure\u001b[0m\u001b[0;34m[\u001b[0m\u001b[0;36m0\u001b[0m\u001b[0;34m]\u001b[0m\u001b[0;34m,\u001b[0m \u001b[0;34m[\u001b[0m\u001b[0mfunc\u001b[0m\u001b[0;34m(\u001b[0m\u001b[0;34m*\u001b[0m\u001b[0mx\u001b[0m\u001b[0;34m)\u001b[0m \u001b[0;32mfor\u001b[0m \u001b[0mx\u001b[0m \u001b[0;32min\u001b[0m \u001b[0mentries\u001b[0m\u001b[0;34m]\u001b[0m\u001b[0;34m,\u001b[0m\u001b[0;34m\u001b[0m\u001b[0;34m\u001b[0m\u001b[0m\n\u001b[0m\u001b[1;32m    870\u001b[0m       expand_composites=expand_composites)\n\u001b[1;32m    871\u001b[0m \u001b[0;34m\u001b[0m\u001b[0m\n",
      "\u001b[0;32m/usr/local/lib/python3.7/dist-packages/tensorflow_datasets/core/download/download_manager.py\u001b[0m in \u001b[0;36m<lambda>\u001b[0;34m(p)\u001b[0m\n\u001b[1;32m    634\u001b[0m   \u001b[0;34m\"\"\"Map the function into each element and resolve the promise.\"\"\"\u001b[0m\u001b[0;34m\u001b[0m\u001b[0;34m\u001b[0m\u001b[0m\n\u001b[1;32m    635\u001b[0m   \u001b[0mall_promises\u001b[0m \u001b[0;34m=\u001b[0m \u001b[0mtf\u001b[0m\u001b[0;34m.\u001b[0m\u001b[0mnest\u001b[0m\u001b[0;34m.\u001b[0m\u001b[0mmap_structure\u001b[0m\u001b[0;34m(\u001b[0m\u001b[0mmap_fn\u001b[0m\u001b[0;34m,\u001b[0m \u001b[0mall_inputs\u001b[0m\u001b[0;34m)\u001b[0m  \u001b[0;31m# Apply the function\u001b[0m\u001b[0;34m\u001b[0m\u001b[0;34m\u001b[0m\u001b[0m\n\u001b[0;32m--> 636\u001b[0;31m   \u001b[0mres\u001b[0m \u001b[0;34m=\u001b[0m \u001b[0mtf\u001b[0m\u001b[0;34m.\u001b[0m\u001b[0mnest\u001b[0m\u001b[0;34m.\u001b[0m\u001b[0mmap_structure\u001b[0m\u001b[0;34m(\u001b[0m\u001b[0;32mlambda\u001b[0m \u001b[0mp\u001b[0m\u001b[0;34m:\u001b[0m \u001b[0mp\u001b[0m\u001b[0;34m.\u001b[0m\u001b[0mget\u001b[0m\u001b[0;34m(\u001b[0m\u001b[0;34m)\u001b[0m\u001b[0;34m,\u001b[0m \u001b[0mall_promises\u001b[0m\u001b[0;34m)\u001b[0m  \u001b[0;31m# Wait promises\u001b[0m\u001b[0;34m\u001b[0m\u001b[0;34m\u001b[0m\u001b[0m\n\u001b[0m\u001b[1;32m    637\u001b[0m   \u001b[0;32mreturn\u001b[0m \u001b[0mres\u001b[0m\u001b[0;34m\u001b[0m\u001b[0;34m\u001b[0m\u001b[0m\n",
      "\u001b[0;32m/usr/local/lib/python3.7/dist-packages/promise/promise.py\u001b[0m in \u001b[0;36mget\u001b[0;34m(self, timeout)\u001b[0m\n\u001b[1;32m    510\u001b[0m         \u001b[0mtarget\u001b[0m \u001b[0;34m=\u001b[0m \u001b[0mself\u001b[0m\u001b[0;34m.\u001b[0m\u001b[0m_target\u001b[0m\u001b[0;34m(\u001b[0m\u001b[0;34m)\u001b[0m\u001b[0;34m\u001b[0m\u001b[0;34m\u001b[0m\u001b[0m\n\u001b[1;32m    511\u001b[0m         \u001b[0mself\u001b[0m\u001b[0;34m.\u001b[0m\u001b[0m_wait\u001b[0m\u001b[0;34m(\u001b[0m\u001b[0mtimeout\u001b[0m \u001b[0;32mor\u001b[0m \u001b[0mDEFAULT_TIMEOUT\u001b[0m\u001b[0;34m)\u001b[0m\u001b[0;34m\u001b[0m\u001b[0;34m\u001b[0m\u001b[0m\n\u001b[0;32m--> 512\u001b[0;31m         \u001b[0;32mreturn\u001b[0m \u001b[0mself\u001b[0m\u001b[0;34m.\u001b[0m\u001b[0m_target_settled_value\u001b[0m\u001b[0;34m(\u001b[0m\u001b[0m_raise\u001b[0m\u001b[0;34m=\u001b[0m\u001b[0;32mTrue\u001b[0m\u001b[0;34m)\u001b[0m\u001b[0;34m\u001b[0m\u001b[0;34m\u001b[0m\u001b[0m\n\u001b[0m\u001b[1;32m    513\u001b[0m \u001b[0;34m\u001b[0m\u001b[0m\n\u001b[1;32m    514\u001b[0m     \u001b[0;32mdef\u001b[0m \u001b[0m_target_settled_value\u001b[0m\u001b[0;34m(\u001b[0m\u001b[0mself\u001b[0m\u001b[0;34m,\u001b[0m \u001b[0m_raise\u001b[0m\u001b[0;34m=\u001b[0m\u001b[0;32mFalse\u001b[0m\u001b[0;34m)\u001b[0m\u001b[0;34m:\u001b[0m\u001b[0;34m\u001b[0m\u001b[0;34m\u001b[0m\u001b[0m\n",
      "\u001b[0;32m/usr/local/lib/python3.7/dist-packages/promise/promise.py\u001b[0m in \u001b[0;36m_target_settled_value\u001b[0;34m(self, _raise)\u001b[0m\n\u001b[1;32m    514\u001b[0m     \u001b[0;32mdef\u001b[0m \u001b[0m_target_settled_value\u001b[0m\u001b[0;34m(\u001b[0m\u001b[0mself\u001b[0m\u001b[0;34m,\u001b[0m \u001b[0m_raise\u001b[0m\u001b[0;34m=\u001b[0m\u001b[0;32mFalse\u001b[0m\u001b[0;34m)\u001b[0m\u001b[0;34m:\u001b[0m\u001b[0;34m\u001b[0m\u001b[0;34m\u001b[0m\u001b[0m\n\u001b[1;32m    515\u001b[0m         \u001b[0;31m# type: (bool) -> Any\u001b[0m\u001b[0;34m\u001b[0m\u001b[0;34m\u001b[0m\u001b[0;34m\u001b[0m\u001b[0m\n\u001b[0;32m--> 516\u001b[0;31m         \u001b[0;32mreturn\u001b[0m \u001b[0mself\u001b[0m\u001b[0;34m.\u001b[0m\u001b[0m_target\u001b[0m\u001b[0;34m(\u001b[0m\u001b[0;34m)\u001b[0m\u001b[0;34m.\u001b[0m\u001b[0m_settled_value\u001b[0m\u001b[0;34m(\u001b[0m\u001b[0m_raise\u001b[0m\u001b[0;34m)\u001b[0m\u001b[0;34m\u001b[0m\u001b[0;34m\u001b[0m\u001b[0m\n\u001b[0m\u001b[1;32m    517\u001b[0m \u001b[0;34m\u001b[0m\u001b[0m\n\u001b[1;32m    518\u001b[0m     \u001b[0m_value\u001b[0m \u001b[0;34m=\u001b[0m \u001b[0m_reason\u001b[0m \u001b[0;34m=\u001b[0m \u001b[0m_target_settled_value\u001b[0m\u001b[0;34m\u001b[0m\u001b[0;34m\u001b[0m\u001b[0m\n",
      "\u001b[0;32m/usr/local/lib/python3.7/dist-packages/promise/promise.py\u001b[0m in \u001b[0;36m_settled_value\u001b[0;34m(self, _raise)\u001b[0m\n\u001b[1;32m    224\u001b[0m             \u001b[0;32mif\u001b[0m \u001b[0m_raise\u001b[0m\u001b[0;34m:\u001b[0m\u001b[0;34m\u001b[0m\u001b[0;34m\u001b[0m\u001b[0m\n\u001b[1;32m    225\u001b[0m                 \u001b[0mraise_val\u001b[0m \u001b[0;34m=\u001b[0m \u001b[0mself\u001b[0m\u001b[0;34m.\u001b[0m\u001b[0m_fulfillment_handler0\u001b[0m\u001b[0;34m\u001b[0m\u001b[0;34m\u001b[0m\u001b[0m\n\u001b[0;32m--> 226\u001b[0;31m                 \u001b[0mreraise\u001b[0m\u001b[0;34m(\u001b[0m\u001b[0mtype\u001b[0m\u001b[0;34m(\u001b[0m\u001b[0mraise_val\u001b[0m\u001b[0;34m)\u001b[0m\u001b[0;34m,\u001b[0m \u001b[0mraise_val\u001b[0m\u001b[0;34m,\u001b[0m \u001b[0mself\u001b[0m\u001b[0;34m.\u001b[0m\u001b[0m_traceback\u001b[0m\u001b[0;34m)\u001b[0m\u001b[0;34m\u001b[0m\u001b[0;34m\u001b[0m\u001b[0m\n\u001b[0m\u001b[1;32m    227\u001b[0m             \u001b[0;32mreturn\u001b[0m \u001b[0mself\u001b[0m\u001b[0;34m.\u001b[0m\u001b[0m_fulfillment_handler0\u001b[0m\u001b[0;34m\u001b[0m\u001b[0;34m\u001b[0m\u001b[0m\n\u001b[1;32m    228\u001b[0m \u001b[0;34m\u001b[0m\u001b[0m\n",
      "\u001b[0;32m/usr/local/lib/python3.7/dist-packages/six.py\u001b[0m in \u001b[0;36mreraise\u001b[0;34m(tp, value, tb)\u001b[0m\n\u001b[1;32m    701\u001b[0m             \u001b[0;32mif\u001b[0m \u001b[0mvalue\u001b[0m\u001b[0;34m.\u001b[0m\u001b[0m__traceback__\u001b[0m \u001b[0;32mis\u001b[0m \u001b[0;32mnot\u001b[0m \u001b[0mtb\u001b[0m\u001b[0;34m:\u001b[0m\u001b[0;34m\u001b[0m\u001b[0;34m\u001b[0m\u001b[0m\n\u001b[1;32m    702\u001b[0m                 \u001b[0;32mraise\u001b[0m \u001b[0mvalue\u001b[0m\u001b[0;34m.\u001b[0m\u001b[0mwith_traceback\u001b[0m\u001b[0;34m(\u001b[0m\u001b[0mtb\u001b[0m\u001b[0;34m)\u001b[0m\u001b[0;34m\u001b[0m\u001b[0;34m\u001b[0m\u001b[0m\n\u001b[0;32m--> 703\u001b[0;31m             \u001b[0;32mraise\u001b[0m \u001b[0mvalue\u001b[0m\u001b[0;34m\u001b[0m\u001b[0;34m\u001b[0m\u001b[0m\n\u001b[0m\u001b[1;32m    704\u001b[0m         \u001b[0;32mfinally\u001b[0m\u001b[0;34m:\u001b[0m\u001b[0;34m\u001b[0m\u001b[0;34m\u001b[0m\u001b[0m\n\u001b[1;32m    705\u001b[0m             \u001b[0mvalue\u001b[0m \u001b[0;34m=\u001b[0m \u001b[0;32mNone\u001b[0m\u001b[0;34m\u001b[0m\u001b[0;34m\u001b[0m\u001b[0m\n",
      "\u001b[0;32m/usr/local/lib/python3.7/dist-packages/promise/promise.py\u001b[0m in \u001b[0;36mtry_catch\u001b[0;34m(handler, *args, **kwargs)\u001b[0m\n\u001b[1;32m     85\u001b[0m     \u001b[0;31m# type: (Callable, Any, Any) -> Union[Tuple[Any, None], Tuple[None, Tuple[Exception, Optional[TracebackType]]]]\u001b[0m\u001b[0;34m\u001b[0m\u001b[0;34m\u001b[0m\u001b[0;34m\u001b[0m\u001b[0m\n\u001b[1;32m     86\u001b[0m     \u001b[0;32mtry\u001b[0m\u001b[0;34m:\u001b[0m\u001b[0;34m\u001b[0m\u001b[0;34m\u001b[0m\u001b[0m\n\u001b[0;32m---> 87\u001b[0;31m         \u001b[0;32mreturn\u001b[0m \u001b[0;34m(\u001b[0m\u001b[0mhandler\u001b[0m\u001b[0;34m(\u001b[0m\u001b[0;34m*\u001b[0m\u001b[0margs\u001b[0m\u001b[0;34m,\u001b[0m \u001b[0;34m**\u001b[0m\u001b[0mkwargs\u001b[0m\u001b[0;34m)\u001b[0m\u001b[0;34m,\u001b[0m \u001b[0;32mNone\u001b[0m\u001b[0;34m)\u001b[0m\u001b[0;34m\u001b[0m\u001b[0;34m\u001b[0m\u001b[0m\n\u001b[0m\u001b[1;32m     88\u001b[0m     \u001b[0;32mexcept\u001b[0m \u001b[0mException\u001b[0m \u001b[0;32mas\u001b[0m \u001b[0me\u001b[0m\u001b[0;34m:\u001b[0m\u001b[0;34m\u001b[0m\u001b[0;34m\u001b[0m\u001b[0m\n\u001b[1;32m     89\u001b[0m         \u001b[0mtb\u001b[0m \u001b[0;34m=\u001b[0m \u001b[0mexc_info\u001b[0m\u001b[0;34m(\u001b[0m\u001b[0;34m)\u001b[0m\u001b[0;34m[\u001b[0m\u001b[0;36m2\u001b[0m\u001b[0;34m]\u001b[0m\u001b[0;34m\u001b[0m\u001b[0;34m\u001b[0m\u001b[0m\n",
      "\u001b[0;32m/usr/local/lib/python3.7/dist-packages/tensorflow_datasets/core/download/download_manager.py\u001b[0m in \u001b[0;36mcallback\u001b[0;34m(url_info)\u001b[0m\n\u001b[1;32m    480\u001b[0m           \u001b[0mtmp_dir_path\u001b[0m\u001b[0;34m=\u001b[0m\u001b[0mdownload_dir_path\u001b[0m\u001b[0;34m,\u001b[0m\u001b[0;34m\u001b[0m\u001b[0;34m\u001b[0m\u001b[0m\n\u001b[1;32m    481\u001b[0m           \u001b[0murl_path\u001b[0m\u001b[0;34m=\u001b[0m\u001b[0murl_path\u001b[0m\u001b[0;34m,\u001b[0m\u001b[0;34m\u001b[0m\u001b[0;34m\u001b[0m\u001b[0m\n\u001b[0;32m--> 482\u001b[0;31m           \u001b[0murl_info\u001b[0m\u001b[0;34m=\u001b[0m\u001b[0murl_info\u001b[0m\u001b[0;34m,\u001b[0m\u001b[0;34m\u001b[0m\u001b[0;34m\u001b[0m\u001b[0m\n\u001b[0m\u001b[1;32m    483\u001b[0m       )\n\u001b[1;32m    484\u001b[0m     \u001b[0;32mreturn\u001b[0m \u001b[0mself\u001b[0m\u001b[0;34m.\u001b[0m\u001b[0m_downloader\u001b[0m\u001b[0;34m.\u001b[0m\u001b[0mdownload\u001b[0m\u001b[0;34m(\u001b[0m\u001b[0murl\u001b[0m\u001b[0;34m,\u001b[0m \u001b[0mdownload_dir_path\u001b[0m\u001b[0;34m)\u001b[0m\u001b[0;34m.\u001b[0m\u001b[0mthen\u001b[0m\u001b[0;34m(\u001b[0m\u001b[0mcallback\u001b[0m\u001b[0;34m)\u001b[0m\u001b[0;34m\u001b[0m\u001b[0;34m\u001b[0m\u001b[0m\n",
      "\u001b[0;32m/usr/local/lib/python3.7/dist-packages/tensorflow_datasets/core/download/download_manager.py\u001b[0m in \u001b[0;36m_handle_download_result\u001b[0;34m(self, resource, tmp_dir_path, url_path, url_info)\u001b[0m\n\u001b[1;32m    341\u001b[0m       \u001b[0;31m# Otherwise, missing checksums, do nothing\u001b[0m\u001b[0;34m\u001b[0m\u001b[0;34m\u001b[0m\u001b[0;34m\u001b[0m\u001b[0m\n\u001b[1;32m    342\u001b[0m     \u001b[0;32melif\u001b[0m \u001b[0murl_info\u001b[0m \u001b[0;34m!=\u001b[0m \u001b[0mself\u001b[0m\u001b[0;34m.\u001b[0m\u001b[0m_url_infos\u001b[0m\u001b[0;34m.\u001b[0m\u001b[0mget\u001b[0m\u001b[0;34m(\u001b[0m\u001b[0mresource\u001b[0m\u001b[0;34m.\u001b[0m\u001b[0murl\u001b[0m\u001b[0;34m,\u001b[0m \u001b[0;32mNone\u001b[0m\u001b[0;34m)\u001b[0m\u001b[0;34m:\u001b[0m\u001b[0;34m\u001b[0m\u001b[0;34m\u001b[0m\u001b[0m\n\u001b[0;32m--> 343\u001b[0;31m       \u001b[0;32mraise\u001b[0m \u001b[0mNonMatchingChecksumError\u001b[0m\u001b[0;34m(\u001b[0m\u001b[0mresource\u001b[0m\u001b[0;34m.\u001b[0m\u001b[0murl\u001b[0m\u001b[0;34m,\u001b[0m \u001b[0mtmp_path\u001b[0m\u001b[0;34m)\u001b[0m\u001b[0;34m\u001b[0m\u001b[0;34m\u001b[0m\u001b[0m\n\u001b[0m\u001b[1;32m    344\u001b[0m \u001b[0;34m\u001b[0m\u001b[0m\n\u001b[1;32m    345\u001b[0m     \u001b[0;32mreturn\u001b[0m \u001b[0mdst_path\u001b[0m\u001b[0;34m\u001b[0m\u001b[0;34m\u001b[0m\u001b[0m\n",
      "\u001b[0;31mNonMatchingChecksumError\u001b[0m: Artifact https://drive.google.com/uc?export=download&id=0B7EVK8r0v71pZjFTYXZWM3FlRnM, downloaded to /root/tensorflow_datasets/downloads/ucexport_download_id_0B7EVK8r0v71pZjFTYXZWM3FlDDaXUAQO8EGH_a7VqGNLRtW52mva1LzDrb-V723OQN8.tmp.ccf274f3c6194f73ace7cf90e7f452bb/ServiceLogin, has wrong checksum. This might indicate:\n * The website may be down (e.g. returned a 503 status code). Please check the url.\n * For Google Drive URLs, try again later as Drive sometimes rejects downloads when too many people access the same URL. See https://github.com/tensorflow/datasets/issues/1482\n * The original datasets files may have been updated. In this case the TFDS dataset builder should be updated to use the new files and checksums. Sorry about that. Please open an issue or send us a PR with a fix.\n * If you're adding a new dataset, don't forget to register the checksums as explained in: https://www.tensorflow.org/datasets/add_dataset#2_run_download_and_prepare_locally\n"
     ]
    }
   ],
   "source": [
    "# celeba의 정보중 이용할 데이터만 추출\n",
    "celeb_a = tfds.load('celeb_a')"
   ]
  },
  {
   "cell_type": "markdown",
   "metadata": {
    "id": "y2gc2vB8zfXp"
   },
   "source": [
    "### 문제 3. 데이터량 축소"
   ]
  },
  {
   "cell_type": "markdown",
   "metadata": {
    "id": "IL7e9wHjA7aT"
   },
   "source": []
  },
  {
   "cell_type": "code",
   "execution_count": null,
   "metadata": {
    "id": "CerWeQM1zfXp"
   },
   "outputs": [],
   "source": [
    "# 데이터량 축소\n",
    "import imageio\n",
    "from skimage.transform import resize\n",
    "\n",
    "celeb_a_train, celeb_a_test = celeb_a['validation'], celeb_a['test']\n",
    "\n",
    "train_images = []\n",
    "train_lables = []\n",
    "\n",
    "for tensor in tfds.as_numpy(celeb_a_train):     \n",
    "  isMale = tensor['attributes']['Male']         \n",
    "  isSmiling = tensor['attributes']['Smiling']\n",
    "\n",
    "  label = np.array([isMale, isSmiling]).astype(np.int8)   \n",
    "  img = resize(tensor['image'], (190//1.5, 89//1.5))      \n",
    "\n",
    "  train_images.append(img)         \n",
    "  train_lables.append(label)\n",
    "\n",
    "\n",
    "test_images = []\n",
    "test_lables = []\n",
    "for tensor in tfds.as_numpy(celeb_a_test):\n",
    "  isMale = tensor['attributes']['Male']\n",
    "  isSmiling = tensor['attributes']['Smiling']\n",
    "\n",
    "  label = np.array([isMale, isSmiling]).astype(np.int8)\n",
    "  img = resize(tensor['image'], (190//1.5, 89//1.5))\n",
    "\n",
    "  test_images.append(img)\n",
    "  test_lables.append(label)"
   ]
  },
  {
   "cell_type": "code",
   "execution_count": null,
   "metadata": {
    "colab": {
     "base_uri": "https://localhost:8080/"
    },
    "executionInfo": {
     "elapsed": 4,
     "status": "ok",
     "timestamp": 1634111064016,
     "user": {
      "displayName": "서정동",
      "photoUrl": "https://lh3.googleusercontent.com/a/default-user=s64",
      "userId": "09574773154017110695"
     },
     "user_tz": -540
    },
    "id": "IDfYubHkm-Vt",
    "outputId": "0f88a783-f265-423a-b8d1-300f8946110e"
   },
   "outputs": [
    {
     "data": {
      "text/plain": [
       "(126.0, 59.0)"
      ]
     },
     "execution_count": 4,
     "metadata": {},
     "output_type": "execute_result"
    }
   ],
   "source": [
    "190//1.5, 89//1.5"
   ]
  },
  {
   "cell_type": "code",
   "execution_count": null,
   "metadata": {
    "id": "qfa38hVagt-_"
   },
   "outputs": [],
   "source": [
    "len(test_images), len(train_images)"
   ]
  },
  {
   "cell_type": "code",
   "execution_count": null,
   "metadata": {
    "id": "I-1xsQIBg1qw"
   },
   "outputs": [],
   "source": [
    "# 데이터량 축소\n",
    "m_s = []\n",
    "f_s = []\n",
    "m_n = []\n",
    "f_n = []\n",
    "\n",
    "for a, b in zip(test_images, test_lables):  \n",
    "  if b[0] and b[1]:                         \n",
    "    m_s.append((a, b))\n",
    "  elif not b[0] and b[1]:\n",
    "    f_s.append((a, b))\n",
    "  elif b[0] and not b[1]:\n",
    "    m_n.append((a, b))\n",
    "  elif not b[0] and not b[1]:\n",
    "    f_n.append((a, b))"
   ]
  },
  {
   "cell_type": "code",
   "execution_count": null,
   "metadata": {
    "id": "rv1W66Hjg8xc"
   },
   "outputs": [],
   "source": [
    "len(m_s), len(f_s), len(m_n), len(f_n)                 # 각 데이터 개수 확인\n",
    "total = m_s[:550] + f_s[:550] + m_n[:550] + f_n[:550]  # 각각의 데이터응 550개씩 사용(정돈된 데이터)\n",
    "len(total)"
   ]
  },
  {
   "cell_type": "code",
   "execution_count": null,
   "metadata": {
    "id": "LgiHMwiRg881"
   },
   "outputs": [],
   "source": [
    "# 데이터 썩어주기\n",
    "import random               \n",
    "random.shuffle(total)\n",
    "trains = total[:2000]  # 2000개를 학습데이터로\n",
    "tests = total[2000:]   # 200개를 테스트 데이터로 \n",
    "len(trains), len(tests)"
   ]
  },
  {
   "cell_type": "code",
   "execution_count": null,
   "metadata": {
    "id": "I6BuI1ExhADY"
   },
   "outputs": [],
   "source": [
    "# 데이터 확인, 이미지 정보와 레이어 데이터 확인\n",
    "trains[0]"
   ]
  },
  {
   "cell_type": "code",
   "execution_count": null,
   "metadata": {
    "id": "AOVn1T8_hB8_"
   },
   "outputs": [],
   "source": [
    "# 각 데이터를 np.array 형식으로 변경\n",
    "train_images, train_labels = list(zip(*trains))  # 데이터 분해(이미지 정보, label 정보)\n",
    "test_images, test_labels = list(zip(*tests))\n",
    "\n",
    "train_images = np.array(train_images)\n",
    "train_labels = np.array(train_labels)\n",
    "test_images = np.array(test_images)\n",
    "test_labels = np.array(test_labels)"
   ]
  },
  {
   "cell_type": "markdown",
   "metadata": {
    "id": "6_IiB2H3zfXq"
   },
   "source": [
    "### 문제 4. 사전 저장된 celeba small 데이터 확인"
   ]
  },
  {
   "cell_type": "code",
   "execution_count": null,
   "metadata": {
    "id": "jeVP1QF4zfXq"
   },
   "outputs": [],
   "source": [
    "# 이미 저장된 celeba 데이터를 이용\n"
   ]
  },
  {
   "cell_type": "code",
   "execution_count": 1,
   "metadata": {
    "colab": {
     "base_uri": "https://localhost:8080/"
    },
    "executionInfo": {
     "elapsed": 50565,
     "status": "ok",
     "timestamp": 1634187900014,
     "user": {
      "displayName": "서정동",
      "photoUrl": "https://lh3.googleusercontent.com/a/default-user=s64",
      "userId": "09574773154017110695"
     },
     "user_tz": -540
    },
    "id": "uaNwwaoSq_9j",
    "outputId": "6884874b-1e4e-4f55-af97-b2442001a4ba"
   },
   "outputs": [
    {
     "name": "stdout",
     "output_type": "stream",
     "text": [
      "Mounted at /content/drive\n"
     ]
    }
   ],
   "source": [
    "from google.colab import drive\n",
    "drive.mount('/content/drive')"
   ]
  },
  {
   "cell_type": "code",
   "execution_count": null,
   "metadata": {
    "colab": {
     "base_uri": "https://localhost:8080/"
    },
    "executionInfo": {
     "elapsed": 516,
     "status": "ok",
     "timestamp": 1634112194848,
     "user": {
      "displayName": "서정동",
      "photoUrl": "https://lh3.googleusercontent.com/a/default-user=s64",
      "userId": "09574773154017110695"
     },
     "user_tz": -540
    },
    "id": "zrcxg9Etq2be",
    "outputId": "cfada429-84c8-47b0-d923-93e495463303"
   },
   "outputs": [
    {
     "name": "stdout",
     "output_type": "stream",
     "text": [
      "/content/drive/MyDrive/삼성멀티캠퍼스\n"
     ]
    }
   ],
   "source": [
    "cd /content/drive/MyDrive/삼성멀티캠퍼스"
   ]
  },
  {
   "cell_type": "code",
   "execution_count": null,
   "metadata": {
    "colab": {
     "base_uri": "https://localhost:8080/"
    },
    "executionInfo": {
     "elapsed": 6124,
     "status": "ok",
     "timestamp": 1634112228484,
     "user": {
      "displayName": "서정동",
      "photoUrl": "https://lh3.googleusercontent.com/a/default-user=s64",
      "userId": "09574773154017110695"
     },
     "user_tz": -540
    },
    "id": "vbICbiKPmKk2",
    "outputId": "929f59d6-d793-494f-b94e-4d166da9997a"
   },
   "outputs": [
    {
     "name": "stdout",
     "output_type": "stream",
     "text": [
      "Downloading...\n",
      "From: https://drive.google.com/uc?id=1t2qIgpWdWX_n5OC8P2ZiDfPIQ98NY_PB\n",
      "To: /content/drive/My Drive/삼성멀티캠퍼스/celeba_small.npz\n",
      "100% 174M/174M [00:01<00:00, 122MB/s]\n"
     ]
    }
   ],
   "source": [
    "#https://drive.google.com/file/d/1t2qIgpWdWX_n5OC8P2ZiDfPIQ98NY_PB/view?usp=sharing\n",
    "\n",
    "!gdown --id 1t2qIgpWdWX_n5OC8P2ZiDfPIQ98NY_PB "
   ]
  },
  {
   "cell_type": "code",
   "execution_count": null,
   "metadata": {
    "colab": {
     "base_uri": "https://localhost:8080/"
    },
    "executionInfo": {
     "elapsed": 392,
     "status": "ok",
     "timestamp": 1634112369005,
     "user": {
      "displayName": "서정동",
      "photoUrl": "https://lh3.googleusercontent.com/a/default-user=s64",
      "userId": "09574773154017110695"
     },
     "user_tz": -540
    },
    "id": "Ff-IZrWsrv_o",
    "outputId": "0d3b5021-a027-4caa-dc49-e2dacb4a89a2"
   },
   "outputs": [
    {
     "name": "stdout",
     "output_type": "stream",
     "text": [
      "./celeba_small.npz\n"
     ]
    }
   ],
   "source": [
    "!ls ./celeba_small.npz"
   ]
  },
  {
   "cell_type": "code",
   "execution_count": null,
   "metadata": {
    "colab": {
     "base_uri": "https://localhost:8080/"
    },
    "executionInfo": {
     "elapsed": 321,
     "status": "ok",
     "timestamp": 1634112400060,
     "user": {
      "displayName": "서정동",
      "photoUrl": "https://lh3.googleusercontent.com/a/default-user=s64",
      "userId": "09574773154017110695"
     },
     "user_tz": -540
    },
    "id": "Ibyow478sDse",
    "outputId": "39750287-c109-4926-ca68-ff743b266354"
   },
   "outputs": [
    {
     "name": "stdout",
     "output_type": "stream",
     "text": [
      "/content\n"
     ]
    }
   ],
   "source": [
    "cd /content"
   ]
  },
  {
   "cell_type": "code",
   "execution_count": null,
   "metadata": {
    "colab": {
     "base_uri": "https://localhost:8080/"
    },
    "executionInfo": {
     "elapsed": 508,
     "status": "ok",
     "timestamp": 1634112415210,
     "user": {
      "displayName": "서정동",
      "photoUrl": "https://lh3.googleusercontent.com/a/default-user=s64",
      "userId": "09574773154017110695"
     },
     "user_tz": -540
    },
    "id": "Hd-cJTyLsIP7",
    "outputId": "79289f31-3ae1-4618-a0fd-71ee29fa45e2"
   },
   "outputs": [
    {
     "name": "stdout",
     "output_type": "stream",
     "text": [
      "celeba_small.npz  drive  sample_data\n"
     ]
    }
   ],
   "source": [
    "!ls "
   ]
  },
  {
   "cell_type": "markdown",
   "metadata": {
    "id": "pFQzrtS9zfXr"
   },
   "source": [
    "### 문제 5. celeba_small 데이터 살펴보기"
   ]
  },
  {
   "cell_type": "code",
   "execution_count": null,
   "metadata": {
    "id": "il6cKcv4zfXr"
   },
   "outputs": [],
   "source": [
    "# 데이터를 train에서 사람 이미지 한장과 label 정보 한개를 불러오는 코드를 작성해주세요. (x, y로 변수 대입)\n",
    "celeba_small=np.load('/content/celeba_small.npz')\n",
    "x=celeba_small['train_images'][0]\n",
    "y=celeba_small['train_labels'][0]"
   ]
  },
  {
   "cell_type": "markdown",
   "metadata": {
    "id": "GCA5cjoczfXr"
   },
   "source": [
    "### 문제 6. x와 y의 shape을 출력해보세요."
   ]
  },
  {
   "cell_type": "code",
   "execution_count": null,
   "metadata": {
    "colab": {
     "base_uri": "https://localhost:8080/"
    },
    "executionInfo": {
     "elapsed": 329,
     "status": "ok",
     "timestamp": 1634112708185,
     "user": {
      "displayName": "서정동",
      "photoUrl": "https://lh3.googleusercontent.com/a/default-user=s64",
      "userId": "09574773154017110695"
     },
     "user_tz": -540
    },
    "id": "VID5ngH3zfXr",
    "outputId": "99ba468b-ad0c-472f-9b50-d68810b0b51c"
   },
   "outputs": [
    {
     "data": {
      "text/plain": [
       "((72, 59, 3), (2,))"
      ]
     },
     "execution_count": 14,
     "metadata": {},
     "output_type": "execute_result"
    }
   ],
   "source": [
    "# 데이터의 크기를 shape 함수를 통해 출력해주세요.\n",
    "x.shape, y.shape"
   ]
  },
  {
   "cell_type": "markdown",
   "metadata": {
    "id": "oWWZjiR5zfXs"
   },
   "source": [
    "### 문제 7. x를 각각 plt를 통하여 출력하세요."
   ]
  },
  {
   "cell_type": "code",
   "execution_count": null,
   "metadata": {
    "colab": {
     "base_uri": "https://localhost:8080/",
     "height": 287
    },
    "executionInfo": {
     "elapsed": 1370,
     "status": "ok",
     "timestamp": 1634112843288,
     "user": {
      "displayName": "서정동",
      "photoUrl": "https://lh3.googleusercontent.com/a/default-user=s64",
      "userId": "09574773154017110695"
     },
     "user_tz": -540
    },
    "id": "zCD8YxAFzfXs",
    "outputId": "8efbf603-cdca-4340-f362-08a08e77a46b"
   },
   "outputs": [
    {
     "data": {
      "image/png": "[encoded data removed]",
      "text/plain": [
       "<Figure size 432x288 with 2 Axes>"
      ]
     },
     "metadata": {
      "needs_background": "light"
     },
     "output_type": "display_data"
    },
    {
     "name": "stdout",
     "output_type": "stream",
     "text": [
      "[0 0]\n"
     ]
    }
   ],
   "source": [
    "# x를 plt를 이용하여 출력하는 코드를 작성해보세요\n",
    "plt.imshow(x)\n",
    "plt.colorbar()\n",
    "plt.show()\n",
    "print(y)"
   ]
  },
  {
   "cell_type": "code",
   "execution_count": null,
   "metadata": {
    "colab": {
     "base_uri": "https://localhost:8080/",
     "height": 288
    },
    "executionInfo": {
     "elapsed": 2121,
     "status": "ok",
     "timestamp": 1634112955645,
     "user": {
      "displayName": "서정동",
      "photoUrl": "https://lh3.googleusercontent.com/a/default-user=s64",
      "userId": "09574773154017110695"
     },
     "user_tz": -540
    },
    "id": "sbRBfuNluDeg",
    "outputId": "3338cd26-4d63-41b2-8960-ba043b499e6d"
   },
   "outputs": [
    {
     "data": {
      "image/png": "[encoded data removed]",
      "text/plain": [
       "<Figure size 432x288 with 2 Axes>"
      ]
     },
     "metadata": {
      "needs_background": "light"
     },
     "output_type": "display_data"
    },
    {
     "name": "stdout",
     "output_type": "stream",
     "text": [
      "[1 1]\n"
     ]
    }
   ],
   "source": [
    "x=celeba_small['train_images'][100]\n",
    "y=celeba_small['train_labels'][100]\n",
    "\n",
    "plt.imshow(x)\n",
    "plt.colorbar()\n",
    "plt.show()\n",
    "print(y)"
   ]
  },
  {
   "cell_type": "markdown",
   "metadata": {
    "id": "oblQdV_KzfXs"
   },
   "source": [
    "### 문제 8. celeba_small.npz 데이터에서 학습, 테스트 데이터를 로드하세요."
   ]
  },
  {
   "cell_type": "code",
   "execution_count": 2,
   "metadata": {
    "executionInfo": {
     "elapsed": 2353,
     "status": "ok",
     "timestamp": 1634187941200,
     "user": {
      "displayName": "서정동",
      "photoUrl": "https://lh3.googleusercontent.com/a/default-user=s64",
      "userId": "09574773154017110695"
     },
     "user_tz": -540
    },
    "id": "Cvd5J_lDMBGi"
   },
   "outputs": [],
   "source": [
    "import tensorflow as tf\n",
    "from tensorflow import keras\n",
    "from keras.layers import Dense\n",
    "from keras.models import Sequential\n",
    "\n",
    "import pandas as pd\n",
    "import numpy as np\n",
    "import matplotlib.pyplot as plt\n",
    "import seaborn as sns\n",
    "import warnings \n",
    "from IPython.display import Image\n",
    "\n",
    "warnings.filterwarnings('ignore')\n",
    "%matplotlib inline\n",
    "\n",
    "SEED = 34"
   ]
  },
  {
   "cell_type": "code",
   "execution_count": 3,
   "metadata": {
    "colab": {
     "base_uri": "https://localhost:8080/"
    },
    "executionInfo": {
     "elapsed": 4651,
     "status": "ok",
     "timestamp": 1634188044871,
     "user": {
      "displayName": "서정동",
      "photoUrl": "https://lh3.googleusercontent.com/a/default-user=s64",
      "userId": "09574773154017110695"
     },
     "user_tz": -540
    },
    "id": "CNO4VLPiMm9R",
    "outputId": "658c704a-b978-460f-fe8a-36534cebd465"
   },
   "outputs": [
    {
     "name": "stdout",
     "output_type": "stream",
     "text": [
      "Downloading...\n",
      "From: https://drive.google.com/uc?id=1t2qIgpWdWX_n5OC8P2ZiDfPIQ98NY_PB\n",
      "To: /content/celeba_small.npz\n",
      "100% 174M/174M [00:01<00:00, 92.6MB/s]\n"
     ]
    }
   ],
   "source": [
    "!gdown --id 1t2qIgpWdWX_n5OC8P2ZiDfPIQ98NY_PB "
   ]
  },
  {
   "cell_type": "code",
   "execution_count": 4,
   "metadata": {
    "executionInfo": {
     "elapsed": 1782,
     "status": "ok",
     "timestamp": 1634188079725,
     "user": {
      "displayName": "서정동",
      "photoUrl": "https://lh3.googleusercontent.com/a/default-user=s64",
      "userId": "09574773154017110695"
     },
     "user_tz": -540
    },
    "id": "UbqJxnEKzfXs"
   },
   "outputs": [],
   "source": [
    "# celeba_small.npz에서 train_images, test_images, train_labels, test_labels를 np array로 로드하세요.\n",
    "celeba_small=np.load('/content/celeba_small.npz')\n",
    "train_images=celeba_small['train_images']\n",
    "train_labels=celeba_small['train_labels']\n",
    "\n",
    "test_images=celeba_small['test_images']\n",
    "test_labels=celeba_small['test_labels']"
   ]
  },
  {
   "cell_type": "markdown",
   "metadata": {
    "id": "7KrxMSX1zfXs"
   },
   "source": [
    "### 문제 9. train_images에서 0이 아닌 값들을 출력해보세요."
   ]
  },
  {
   "cell_type": "code",
   "execution_count": null,
   "metadata": {
    "id": "q26Q0QL5u6uh"
   },
   "outputs": [],
   "source": [
    "train_images[:10]"
   ]
  },
  {
   "cell_type": "code",
   "execution_count": 6,
   "metadata": {
    "colab": {
     "base_uri": "https://localhost:8080/"
    },
    "executionInfo": {
     "elapsed": 1267,
     "status": "ok",
     "timestamp": 1634188163985,
     "user": {
      "displayName": "서정동",
      "photoUrl": "https://lh3.googleusercontent.com/a/default-user=s64",
      "userId": "09574773154017110695"
     },
     "user_tz": -540
    },
    "id": "gzVkaWY_zfXs",
    "outputId": "1336a929-c476-425f-ee10-57b3397559c7"
   },
   "outputs": [
    {
     "data": {
      "text/plain": [
       "array([0.02352941, 0.04313725, 0.05490196, 0.01960784, 0.03921569,\n",
       "       0.05490196, 0.01977401, 0.03921569, 0.05114656, 0.02352941])"
      ]
     },
     "execution_count": 6,
     "metadata": {},
     "output_type": "execute_result"
    }
   ],
   "source": [
    "# 하나의 이미지에 대한 모든 0이 아닌 값을 출력하는 코드를 작성하세요.\n",
    "train_images[train_images !=0 ][:10]"
   ]
  },
  {
   "cell_type": "markdown",
   "metadata": {
    "id": "ZHPt_38HzfXt"
   },
   "source": [
    "### 문제 10. train_images의 dtype을 출력해보세요."
   ]
  },
  {
   "cell_type": "code",
   "execution_count": 7,
   "metadata": {
    "colab": {
     "base_uri": "https://localhost:8080/"
    },
    "executionInfo": {
     "elapsed": 5,
     "status": "ok",
     "timestamp": 1634188165295,
     "user": {
      "displayName": "서정동",
      "photoUrl": "https://lh3.googleusercontent.com/a/default-user=s64",
      "userId": "09574773154017110695"
     },
     "user_tz": -540
    },
    "id": "U0CsxiLqzfXt",
    "outputId": "2a8f711a-6163-4c73-cae8-b1c4f03d33fd"
   },
   "outputs": [
    {
     "data": {
      "text/plain": [
       "dtype('float64')"
      ]
     },
     "execution_count": 7,
     "metadata": {},
     "output_type": "execute_result"
    }
   ],
   "source": [
    "# dtype을 이용하여 이미지의 np array type을 확인해보세요.\n",
    "train_images.dtype"
   ]
  },
  {
   "cell_type": "markdown",
   "metadata": {
    "id": "WTLJMKtgzfXt"
   },
   "source": [
    "## Step 2. 전처리"
   ]
  },
  {
   "cell_type": "markdown",
   "metadata": {
    "id": "RGSJWe6wzfXt"
   },
   "source": [
    "### 문제 11. 이미지 데이터의 범위 확인"
   ]
  },
  {
   "cell_type": "code",
   "execution_count": 8,
   "metadata": {
    "colab": {
     "base_uri": "https://localhost:8080/"
    },
    "executionInfo": {
     "elapsed": 331,
     "status": "ok",
     "timestamp": 1634188173408,
     "user": {
      "displayName": "서정동",
      "photoUrl": "https://lh3.googleusercontent.com/a/default-user=s64",
      "userId": "09574773154017110695"
     },
     "user_tz": -540
    },
    "id": "vmU5DLMWzfXt",
    "outputId": "13b2de15-95ff-49f0-fa81-aa10ce70e070"
   },
   "outputs": [
    {
     "name": "stdout",
     "output_type": "stream",
     "text": [
      "(2000, 72, 59, 3) (2000, 2)\n",
      "float64 int8\n",
      "==============================\n",
      "(200, 72, 59, 3) (200, 2)\n",
      "float64 int8\n",
      "==============================\n",
      "[0.02352941 0.04313725 0.05490196 0.01960784 0.03921569 0.05490196\n",
      " 0.01977401 0.03921569 0.05114656 0.02352941]\n",
      "[0.52571083 0.90221419 0.8707544  0.56460618 0.95304088 0.91372549\n",
      " 0.55277501 0.94885344 0.90571618 0.55756065]\n"
     ]
    }
   ],
   "source": [
    "# train_images, train_labels의 shape과 dtype, 0이 아닌 숫자를 출력하는 코드를 작성하세요.\n",
    "print(train_images.shape, train_labels.shape)\n",
    "print(train_images.dtype, train_labels.dtype)\n",
    "print(\"==============================\")\n",
    "print(test_images.shape, test_labels.shape)\n",
    "print(test_images.dtype, test_labels.dtype)\n",
    "print(\"==============================\")\n",
    "print(train_images[train_images !=0 ][:10])\n",
    "print(test_images[test_images !=0 ][:10])"
   ]
  },
  {
   "cell_type": "markdown",
   "metadata": {
    "id": "UqAC_4r5zfXu"
   },
   "source": [
    "### 문제 12. images/labels 이미지 데이터의 최소/최대값을 출력"
   ]
  },
  {
   "cell_type": "code",
   "execution_count": 9,
   "metadata": {
    "colab": {
     "base_uri": "https://localhost:8080/"
    },
    "executionInfo": {
     "elapsed": 340,
     "status": "ok",
     "timestamp": 1634188176214,
     "user": {
      "displayName": "서정동",
      "photoUrl": "https://lh3.googleusercontent.com/a/default-user=s64",
      "userId": "09574773154017110695"
     },
     "user_tz": -540
    },
    "id": "ZYyRj1TkzfXu",
    "outputId": "ed5f05e9-17e6-4ceb-c99d-c4d0816e4780"
   },
   "outputs": [
    {
     "name": "stdout",
     "output_type": "stream",
     "text": [
      "0.0 1.0\n",
      "0 1\n"
     ]
    }
   ],
   "source": [
    "# train/test 전체 데이터에서 각 images, labels의 min, max를 출력하는 코드를 작성하세요.\n",
    "print(train_images.min(), train_images.max())\n",
    "print(train_labels.min(), train_labels.max())"
   ]
  },
  {
   "cell_type": "markdown",
   "metadata": {
    "id": "IWWfvi8FzfXu"
   },
   "source": [
    "### 문제 13. labels의 shape을 (배치, 2)에서 (배치, 2), (배치, 2)으로 변경하세요. (배치, (성별,웃음)) => (배치, 남자, 여자), (배치, 웃음, 안웃음)"
   ]
  },
  {
   "cell_type": "code",
   "execution_count": 10,
   "metadata": {
    "colab": {
     "base_uri": "https://localhost:8080/"
    },
    "executionInfo": {
     "elapsed": 375,
     "status": "ok",
     "timestamp": 1634188190288,
     "user": {
      "displayName": "서정동",
      "photoUrl": "https://lh3.googleusercontent.com/a/default-user=s64",
      "userId": "09574773154017110695"
     },
     "user_tz": -540
    },
    "id": "wuSOXHEEzfXu",
    "outputId": "a00f3948-d776-4b35-a509-e02fb6f0aeae"
   },
   "outputs": [
    {
     "data": {
      "text/plain": [
       "array([1, 1], dtype=int8)"
      ]
     },
     "execution_count": 10,
     "metadata": {},
     "output_type": "execute_result"
    }
   ],
   "source": [
    "# (배치, 2)의 labels shape을 (배치, 1)의 shape의 2개의 array로 분리하는 코드를 추가하세요.\n",
    "train_labels[1]"
   ]
  },
  {
   "cell_type": "code",
   "execution_count": 11,
   "metadata": {
    "colab": {
     "base_uri": "https://localhost:8080/"
    },
    "executionInfo": {
     "elapsed": 320,
     "status": "ok",
     "timestamp": 1634188197917,
     "user": {
      "displayName": "서정동",
      "photoUrl": "https://lh3.googleusercontent.com/a/default-user=s64",
      "userId": "09574773154017110695"
     },
     "user_tz": -540
    },
    "id": "QmhDekl_yy5K",
    "outputId": "c6c0db0d-cfcc-456a-9d7d-878d0f1c7a11"
   },
   "outputs": [
    {
     "name": "stdout",
     "output_type": "stream",
     "text": [
      "(2000, 1) (2000, 1)\n",
      "[0] [0]\n"
     ]
    }
   ],
   "source": [
    "from tensorflow.keras.utils import to_categorical\n",
    "\n",
    "# train_labels 성별/웃음 나누기\n",
    "train_male_labels, train_smile_labels =np.split(train_labels, 2, axis=1)   # 남여/웃음(y/n) 나누기, 열 단위로 구분\n",
    "print(train_male_labels.shape, train_smile_labels.shape)\n",
    "print(train_male_labels[0], train_smile_labels[0])"
   ]
  },
  {
   "cell_type": "code",
   "execution_count": 12,
   "metadata": {
    "colab": {
     "base_uri": "https://localhost:8080/"
    },
    "executionInfo": {
     "elapsed": 546,
     "status": "ok",
     "timestamp": 1634188203873,
     "user": {
      "displayName": "서정동",
      "photoUrl": "https://lh3.googleusercontent.com/a/default-user=s64",
      "userId": "09574773154017110695"
     },
     "user_tz": -540
    },
    "id": "Pclrzckb0Set",
    "outputId": "a9a3bf8f-1b71-4615-d4d2-843a7187a313"
   },
   "outputs": [
    {
     "name": "stdout",
     "output_type": "stream",
     "text": [
      "(200, 1) (200, 1)\n",
      "[1] [1]\n"
     ]
    }
   ],
   "source": [
    "# test_labels 성별/웃음 나누기\n",
    "test_male_labels, test_smile_labels =np.split(test_labels, 2, axis=1) \n",
    "print(test_male_labels.shape, test_smile_labels.shape)\n",
    "print(test_male_labels[0], test_smile_labels[0])"
   ]
  },
  {
   "cell_type": "code",
   "execution_count": 13,
   "metadata": {
    "executionInfo": {
     "elapsed": 370,
     "status": "ok",
     "timestamp": 1634188211922,
     "user": {
      "displayName": "서정동",
      "photoUrl": "https://lh3.googleusercontent.com/a/default-user=s64",
      "userId": "09574773154017110695"
     },
     "user_tz": -540
    },
    "id": "eCuYgHjA0xgN"
   },
   "outputs": [],
   "source": [
    "train_male_labels=to_categorical(train_male_labels)\n",
    "train_smile_labels=to_categorical(train_smile_labels)\n",
    "test_male_labels=to_categorical(test_male_labels)\n",
    "test_smile_labels=to_categorical(test_smile_labels)"
   ]
  },
  {
   "cell_type": "code",
   "execution_count": 14,
   "metadata": {
    "colab": {
     "base_uri": "https://localhost:8080/"
    },
    "executionInfo": {
     "elapsed": 6,
     "status": "ok",
     "timestamp": 1634188214965,
     "user": {
      "displayName": "서정동",
      "photoUrl": "https://lh3.googleusercontent.com/a/default-user=s64",
      "userId": "09574773154017110695"
     },
     "user_tz": -540
    },
    "id": "qyDWIF2H1imP",
    "outputId": "296177db-9f7e-4011-ecb0-7525626a4b12"
   },
   "outputs": [
    {
     "name": "stdout",
     "output_type": "stream",
     "text": [
      "(2000, 2) (2000, 2)\n",
      "(200, 2) (200, 2)\n"
     ]
    }
   ],
   "source": [
    "print(train_male_labels.shape, train_smile_labels.shape)\n",
    "print(test_male_labels.shape, test_smile_labels.shape)"
   ]
  },
  {
   "cell_type": "markdown",
   "metadata": {
    "id": "8K0Z0kU8zfXu"
   },
   "source": [
    "### 문제 14. labels의 shape을 (배치, 2), (배치, 2)에서 (배치, 4)로 합쳐보세요."
   ]
  },
  {
   "cell_type": "code",
   "execution_count": 15,
   "metadata": {
    "colab": {
     "base_uri": "https://localhost:8080/"
    },
    "executionInfo": {
     "elapsed": 328,
     "status": "ok",
     "timestamp": 1634188243965,
     "user": {
      "displayName": "서정동",
      "photoUrl": "https://lh3.googleusercontent.com/a/default-user=s64",
      "userId": "09574773154017110695"
     },
     "user_tz": -540
    },
    "id": "b_fdgA-WzfXv",
    "outputId": "5de9370d-9e44-439d-ed3a-c8279a783a7d"
   },
   "outputs": [
    {
     "name": "stdout",
     "output_type": "stream",
     "text": [
      "[1. 0. 1. 0.] [0. 1. 0. 1.]\n",
      "(2000, 4) (200, 4)\n"
     ]
    }
   ],
   "source": [
    "# (배치, 2), (배치, 2)의 labels를 (배치, 4)로 합치는 코드를 작성하세요.\n",
    "# (배치, 남성여부, 웃음여부) => (배치, 남성여부), (배치, 웃음여부) => (배치, 여자여부, 남자여부), (배치, 안웃음여부, 웃음여부) => (배치, 여자여부, 남자여부, 안웃음여부, 웃음여부)\n",
    "\n",
    "train_labels2=np.concatenate([train_male_labels, train_smile_labels], axis=1)\n",
    "test_labels2=np.concatenate([test_male_labels, test_smile_labels], axis=1)\n",
    "\n",
    "print(train_labels2[0], test_labels2[0])\n",
    "print(train_labels2.shape, test_labels2.shape)"
   ]
  },
  {
   "cell_type": "markdown",
   "metadata": {
    "id": "3XcXNvJCzfXv"
   },
   "source": [
    "## Step 3. 시각화 방법"
   ]
  },
  {
   "cell_type": "markdown",
   "metadata": {
    "id": "E4-KNKc4zfXv"
   },
   "source": [
    "### 문제 15. train_image의 이미지를 5장 획득하여 (5, 세로, 가로, 3)의 shape을 출력하세요."
   ]
  },
  {
   "cell_type": "code",
   "execution_count": 18,
   "metadata": {
    "colab": {
     "base_uri": "https://localhost:8080/"
    },
    "executionInfo": {
     "elapsed": 332,
     "status": "ok",
     "timestamp": 1634188335356,
     "user": {
      "displayName": "서정동",
      "photoUrl": "https://lh3.googleusercontent.com/a/default-user=s64",
      "userId": "09574773154017110695"
     },
     "user_tz": -540
    },
    "id": "DNV-8ovuzfXv",
    "outputId": "a503800e-8a95-4898-d3c6-966ecfdf0868"
   },
   "outputs": [
    {
     "data": {
      "text/plain": [
       "(5, 72, 59, 3)"
      ]
     },
     "execution_count": 18,
     "metadata": {},
     "output_type": "execute_result"
    }
   ],
   "source": [
    "# (배치, 세로, 가로, 3)인 train_images에서 (5, 세로, 가로, 3)을 획득하는 코드를 작성하세요.\n",
    "# train_images[:5]\n",
    "train_images[:5].shape"
   ]
  },
  {
   "cell_type": "markdown",
   "metadata": {
    "id": "NEFpns-jzfXv"
   },
   "source": [
    "### 문제 16. 획득한 5장의 의미지를 (세로, 가로 * 5, 3)의 shape으로 변경해보세요."
   ]
  },
  {
   "cell_type": "code",
   "execution_count": 19,
   "metadata": {
    "colab": {
     "base_uri": "https://localhost:8080/",
     "height": 221
    },
    "executionInfo": {
     "elapsed": 930,
     "status": "ok",
     "timestamp": 1634188493294,
     "user": {
      "displayName": "서정동",
      "photoUrl": "https://lh3.googleusercontent.com/a/default-user=s64",
      "userId": "09574773154017110695"
     },
     "user_tz": -540
    },
    "id": "SpajpXewzfXv",
    "outputId": "c6310d40-50a5-4031-b57e-4051e4ff862e"
   },
   "outputs": [
    {
     "data": {
      "image/png": "[encoded data removed]",
      "text/plain": [
       "<Figure size 432x288 with 1 Axes>"
      ]
     },
     "metadata": {
      "needs_background": "light"
     },
     "output_type": "display_data"
    },
    {
     "name": "stdout",
     "output_type": "stream",
     "text": [
      "[[1. 0. 1. 0.]\n",
      " [0. 1. 0. 1.]\n",
      " [0. 1. 1. 0.]\n",
      " [0. 1. 0. 1.]\n",
      " [0. 1. 0. 1.]]\n"
     ]
    }
   ],
   "source": [
    "# np.hstack은 height 방향의 배열을 풀어서 width 방향으로 연결해줍니다.\n",
    "# 해당 기능을 쓰면 (height, image_height, image_width, color)의 shape을 (image_height, image_width * height, color)으로 바꿔 줄 수 있습니다.\n",
    "# 코드를 작성해보세요.\n",
    "plt.imshow(np.hstack(train_images[:5]))\n",
    "plt.show()\n",
    "print(train_labels2[:5])"
   ]
  },
  {
   "cell_type": "markdown",
   "metadata": {
    "id": "cFn1q_0jzfXw"
   },
   "source": [
    "### 문제 17. np.hstack은 tensorflow에서 제공하는 방법이 아니므로 transpose 함수를 이용하여 (세로, 가로 * 5, 3)로 shape을 변경해보세요."
   ]
  },
  {
   "cell_type": "code",
   "execution_count": 20,
   "metadata": {
    "colab": {
     "base_uri": "https://localhost:8080/"
    },
    "executionInfo": {
     "elapsed": 532,
     "status": "ok",
     "timestamp": 1634188778494,
     "user": {
      "displayName": "서정동",
      "photoUrl": "https://lh3.googleusercontent.com/a/default-user=s64",
      "userId": "09574773154017110695"
     },
     "user_tz": -540
    },
    "id": "22VKC444zfXw",
    "outputId": "0fd345d4-1176-49ba-c782-6962d3aa0e79"
   },
   "outputs": [
    {
     "data": {
      "text/plain": [
       "(72, 295, 3)"
      ]
     },
     "execution_count": 20,
     "metadata": {},
     "output_type": "execute_result"
    }
   ],
   "source": [
    "# transpose는 tensor의 axis를 섞는 기능을 합니다.\n",
    "# 해당 기능을 이용해서 (세로, 가로 * 5, 3)을 작성하는 코드를 작성해보세요.\n",
    "train_images[:5].transpose((1, 0, 2, 3)).reshape(72, -1, 3).shape"
   ]
  },
  {
   "cell_type": "markdown",
   "metadata": {
    "id": "M4VjTp8FzfXw"
   },
   "source": [
    "### 문제 18. (72, 295, 3)이 된 tensor를 plt로 출력해보세요."
   ]
  },
  {
   "cell_type": "code",
   "execution_count": 25,
   "metadata": {
    "colab": {
     "base_uri": "https://localhost:8080/",
     "height": 365
    },
    "executionInfo": {
     "elapsed": 1868,
     "status": "ok",
     "timestamp": 1634188947161,
     "user": {
      "displayName": "서정동",
      "photoUrl": "https://lh3.googleusercontent.com/a/default-user=s64",
      "userId": "09574773154017110695"
     },
     "user_tz": -540
    },
    "id": "gMgv1J0-zfXw",
    "outputId": "9ce820fd-bb2d-4729-b87a-03525873e0d5"
   },
   "outputs": [
    {
     "data": {
      "image/png": "[encoded data removed]",
      "text/plain": [
       "<Figure size 432x288 with 1 Axes>"
      ]
     },
     "metadata": {
      "needs_background": "light"
     },
     "output_type": "display_data"
    },
    {
     "data": {
      "image/png": "[encoded data removed]",
      "text/plain": [
       "<Figure size 432x288 with 1 Axes>"
      ]
     },
     "metadata": {
      "needs_background": "light"
     },
     "output_type": "display_data"
    },
    {
     "data": {
      "image/png": "[encoded data removed]",
      "text/plain": [
       "<Figure size 432x288 with 1 Axes>"
      ]
     },
     "metadata": {
      "needs_background": "light"
     },
     "output_type": "display_data"
    }
   ],
   "source": [
    "# (72, 295, 3)의 이미지를 plt로 출력해보세요.\n",
    "plt.imshow(train_images[:5].transpose((1, 0, 2, 3)).reshape(72, -1, 3))\n",
    "plt.show()\n",
    "\n",
    "plt.imshow(train_images[:5].transpose((1, 2, 0, 3)).reshape(72, -1, 3))\n",
    "plt.show()\n",
    "\n",
    "plt.imshow(train_images[:5].transpose((2, 0, 1, 3)).reshape(72, -1, 3))\n",
    "plt.show()"
   ]
  },
  {
   "cell_type": "markdown",
   "metadata": {
    "id": "aXxgfeGdzfXw"
   },
   "source": [
    "### 문제 19. smile, male label도 5개 출력해보세요."
   ]
  },
  {
   "cell_type": "code",
   "execution_count": 26,
   "metadata": {
    "colab": {
     "base_uri": "https://localhost:8080/"
    },
    "executionInfo": {
     "elapsed": 324,
     "status": "ok",
     "timestamp": 1634189096538,
     "user": {
      "displayName": "서정동",
      "photoUrl": "https://lh3.googleusercontent.com/a/default-user=s64",
      "userId": "09574773154017110695"
     },
     "user_tz": -540
    },
    "id": "cE5mCP_GzfXx",
    "outputId": "bfa9a547-2631-4fb6-e0c8-e35a13b5d0b0"
   },
   "outputs": [
    {
     "name": "stdout",
     "output_type": "stream",
     "text": [
      "[[1. 0.]\n",
      " [0. 1.]\n",
      " [0. 1.]\n",
      " [0. 1.]\n",
      " [0. 1.]]\n",
      "[[1. 0.]\n",
      " [0. 1.]\n",
      " [1. 0.]\n",
      " [0. 1.]\n",
      " [0. 1.]]\n"
     ]
    }
   ],
   "source": [
    "# smile, male label을 5개 출력하는 코드를 작성해보세요.\n",
    "print(train_male_labels[:5])\n",
    "print(train_smile_labels[:5])"
   ]
  },
  {
   "cell_type": "code",
   "execution_count": 27,
   "metadata": {
    "colab": {
     "base_uri": "https://localhost:8080/"
    },
    "executionInfo": {
     "elapsed": 540,
     "status": "ok",
     "timestamp": 1634189237073,
     "user": {
      "displayName": "서정동",
      "photoUrl": "https://lh3.googleusercontent.com/a/default-user=s64",
      "userId": "09574773154017110695"
     },
     "user_tz": -540
    },
    "id": "Mrj3s2NxQ_mv",
    "outputId": "a3e31a23-f239-442b-d6f3-7e156de3877c"
   },
   "outputs": [
    {
     "name": "stdout",
     "output_type": "stream",
     "text": [
      "[1. 0.] [1. 0.]\n",
      "[0. 1.] [0. 1.]\n",
      "[0. 1.] [1. 0.]\n",
      "[0. 1.] [0. 1.]\n",
      "[0. 1.] [0. 1.]\n"
     ]
    }
   ],
   "source": [
    "for male, smile in zip(train_male_labels[:5], train_smile_labels[:5]):\n",
    "    print(male, smile)"
   ]
  },
  {
   "cell_type": "markdown",
   "metadata": {
    "id": "4x0KU_BzzfXx"
   },
   "source": [
    "### 문제 20. smile, male이 각각 몇개 있는지 측정해보세요."
   ]
  },
  {
   "cell_type": "code",
   "execution_count": 29,
   "metadata": {
    "colab": {
     "base_uri": "https://localhost:8080/"
    },
    "executionInfo": {
     "elapsed": 333,
     "status": "ok",
     "timestamp": 1634189459499,
     "user": {
      "displayName": "서정동",
      "photoUrl": "https://lh3.googleusercontent.com/a/default-user=s64",
      "userId": "09574773154017110695"
     },
     "user_tz": -540
    },
    "id": "VDnSgzzKzfXx",
    "outputId": "11e93671-980d-4c99-d0f4-0bc14b9c1a02"
   },
   "outputs": [
    {
     "data": {
      "text/plain": [
       "gender  smile\n",
       "0       0        51\n",
       "        1        43\n",
       "1       0        46\n",
       "        1        60\n",
       "dtype: int64"
      ]
     },
     "execution_count": 29,
     "metadata": {},
     "output_type": "execute_result"
    }
   ],
   "source": [
    "# pandas를 smile, male이 각각 몇개 있는지 plt를 통하여 출력하는 코드를 작성하세요.\n",
    "df=pd.DataFrame(test_labels, columns=['gender', 'smile'])\n",
    "df.head(3)\n",
    "df.groupby(['gender', 'smile']).size()"
   ]
  },
  {
   "cell_type": "code",
   "execution_count": 30,
   "metadata": {
    "colab": {
     "base_uri": "https://localhost:8080/",
     "height": 294
    },
    "executionInfo": {
     "elapsed": 334,
     "status": "ok",
     "timestamp": 1634189624152,
     "user": {
      "displayName": "서정동",
      "photoUrl": "https://lh3.googleusercontent.com/a/default-user=s64",
      "userId": "09574773154017110695"
     },
     "user_tz": -540
    },
    "id": "NrcLSMZYSiaE",
    "outputId": "9fa95037-d2d2-4d2f-96a7-67b744de11d9"
   },
   "outputs": [
    {
     "data": {
      "text/plain": [
       "<matplotlib.axes._subplots.AxesSubplot at 0x7f23c0807ed0>"
      ]
     },
     "execution_count": 30,
     "metadata": {},
     "output_type": "execute_result"
    },
    {
     "data": {
      "image/png": "[encoded data removed]",
      "text/plain": [
       "<Figure size 432x288 with 1 Axes>"
      ]
     },
     "metadata": {
      "needs_background": "light"
     },
     "output_type": "display_data"
    }
   ],
   "source": [
    "df.groupby(['gender', 'smile']).size().unstack().plot(kind='bar', stacked='True')"
   ]
  },
  {
   "cell_type": "markdown",
   "metadata": {
    "id": "odqpEsI0iH1f"
   },
   "source": [
    "## Step 4. 각각 모델링"
   ]
  },
  {
   "cell_type": "markdown",
   "metadata": {
    "id": "VRJJjjSLiH1h"
   },
   "source": [
    "### 문제 21. smile과 gender 학습셋을 각 각 처리하는 이미지 classification 모델 2개를 작성하세요. (단 label을 각각 따로 처리)"
   ]
  },
  {
   "cell_type": "code",
   "execution_count": 33,
   "metadata": {
    "executionInfo": {
     "elapsed": 353,
     "status": "ok",
     "timestamp": 1634190453271,
     "user": {
      "displayName": "서정동",
      "photoUrl": "https://lh3.googleusercontent.com/a/default-user=s64",
      "userId": "09574773154017110695"
     },
     "user_tz": -540
    },
    "id": "-y-r6Wc0iH1h"
   },
   "outputs": [],
   "source": [
    "# input (배치, 72, 59, 3), output (배치, 2)을 처리할 수 있는 모양의 모델 2개를 작성하세요.\n",
    "from keras.models import Model\n",
    "from keras.layers import Conv2D, MaxPool2D, Input, Dense, Flatten"
   ]
  },
  {
   "cell_type": "code",
   "execution_count": 36,
   "metadata": {
    "executionInfo": {
     "elapsed": 522,
     "status": "ok",
     "timestamp": 1634191385082,
     "user": {
      "displayName": "서정동",
      "photoUrl": "https://lh3.googleusercontent.com/a/default-user=s64",
      "userId": "09574773154017110695"
     },
     "user_tz": -540
    },
    "id": "eloppZueV5tD"
   },
   "outputs": [],
   "source": [
    "def simple_model():\n",
    "    inputs=Input((72, 59, 3))\n",
    "\n",
    "    x = Conv2D(32, 3, activation='relu')(inputs)\n",
    "    x = MaxPool2D(2)(x)\n",
    "    x = Conv2D(64, 3, activation='relu')(x)\n",
    "    x = MaxPool2D(2)(x)\n",
    "    x = Conv2D(64, 3, activation='relu')(x)\n",
    "    x = MaxPool2D(2)(x)\n",
    "\n",
    "    x = Flatten()(x)\n",
    "    x = Dense(64, activation='relu')(x)\n",
    "\n",
    "    outputs = Dense(2, activation='softmax')(x)\n",
    "    model =Model(inputs, outputs)\n",
    "\n",
    "    return model\n"
   ]
  },
  {
   "cell_type": "markdown",
   "metadata": {
    "id": "wGQPwl5iiH1i"
   },
   "source": [
    "### 문제 22. 2개의 모델을 할당 받고 서머리를 출력해보세요."
   ]
  },
  {
   "cell_type": "code",
   "execution_count": 91,
   "metadata": {
    "executionInfo": {
     "elapsed": 462,
     "status": "ok",
     "timestamp": 1634194956937,
     "user": {
      "displayName": "서정동",
      "photoUrl": "https://lh3.googleusercontent.com/a/default-user=s64",
      "userId": "09574773154017110695"
     },
     "user_tz": -540
    },
    "id": "Fxc4Uu7viH1i"
   },
   "outputs": [],
   "source": [
    "# simple_model() 모델을 2번 할당 받고 서머리를 출력하는 코드를 작성하세요.\n",
    "gender_model=simple_model()\n",
    "smile_model=simple_model()"
   ]
  },
  {
   "cell_type": "code",
   "execution_count": 92,
   "metadata": {
    "colab": {
     "base_uri": "https://localhost:8080/"
    },
    "executionInfo": {
     "elapsed": 4,
     "status": "ok",
     "timestamp": 1634194958662,
     "user": {
      "displayName": "서정동",
      "photoUrl": "https://lh3.googleusercontent.com/a/default-user=s64",
      "userId": "09574773154017110695"
     },
     "user_tz": -540
    },
    "id": "1_PG92eTZhOc",
    "outputId": "dbaf0db8-df79-44d8-8b44-1e4c9f0e6937"
   },
   "outputs": [
    {
     "name": "stdout",
     "output_type": "stream",
     "text": [
      "Model: \"model_6\"\n",
      "_________________________________________________________________\n",
      "Layer (type)                 Output Shape              Param #   \n",
      "=================================================================\n",
      "input_7 (InputLayer)         [(None, 72, 59, 3)]       0         \n",
      "_________________________________________________________________\n",
      "conv2d_18 (Conv2D)           (None, 70, 57, 32)        896       \n",
      "_________________________________________________________________\n",
      "max_pooling2d_18 (MaxPooling (None, 35, 28, 32)        0         \n",
      "_________________________________________________________________\n",
      "conv2d_19 (Conv2D)           (None, 33, 26, 64)        18496     \n",
      "_________________________________________________________________\n",
      "max_pooling2d_19 (MaxPooling (None, 16, 13, 64)        0         \n",
      "_________________________________________________________________\n",
      "conv2d_20 (Conv2D)           (None, 14, 11, 64)        36928     \n",
      "_________________________________________________________________\n",
      "max_pooling2d_20 (MaxPooling (None, 7, 5, 64)          0         \n",
      "_________________________________________________________________\n",
      "flatten_6 (Flatten)          (None, 2240)              0         \n",
      "_________________________________________________________________\n",
      "dense_12 (Dense)             (None, 64)                143424    \n",
      "_________________________________________________________________\n",
      "dense_13 (Dense)             (None, 2)                 130       \n",
      "=================================================================\n",
      "Total params: 199,874\n",
      "Trainable params: 199,874\n",
      "Non-trainable params: 0\n",
      "_________________________________________________________________\n"
     ]
    }
   ],
   "source": [
    "gender_model.summary()"
   ]
  },
  {
   "cell_type": "code",
   "execution_count": 93,
   "metadata": {
    "colab": {
     "base_uri": "https://localhost:8080/"
    },
    "executionInfo": {
     "elapsed": 333,
     "status": "ok",
     "timestamp": 1634194960848,
     "user": {
      "displayName": "서정동",
      "photoUrl": "https://lh3.googleusercontent.com/a/default-user=s64",
      "userId": "09574773154017110695"
     },
     "user_tz": -540
    },
    "id": "2PwFVROWZx_c",
    "outputId": "082a6db6-55b7-4f3b-ae75-29364634fd0b"
   },
   "outputs": [
    {
     "name": "stdout",
     "output_type": "stream",
     "text": [
      "Model: \"model_7\"\n",
      "_________________________________________________________________\n",
      "Layer (type)                 Output Shape              Param #   \n",
      "=================================================================\n",
      "input_8 (InputLayer)         [(None, 72, 59, 3)]       0         \n",
      "_________________________________________________________________\n",
      "conv2d_21 (Conv2D)           (None, 70, 57, 32)        896       \n",
      "_________________________________________________________________\n",
      "max_pooling2d_21 (MaxPooling (None, 35, 28, 32)        0         \n",
      "_________________________________________________________________\n",
      "conv2d_22 (Conv2D)           (None, 33, 26, 64)        18496     \n",
      "_________________________________________________________________\n",
      "max_pooling2d_22 (MaxPooling (None, 16, 13, 64)        0         \n",
      "_________________________________________________________________\n",
      "conv2d_23 (Conv2D)           (None, 14, 11, 64)        36928     \n",
      "_________________________________________________________________\n",
      "max_pooling2d_23 (MaxPooling (None, 7, 5, 64)          0         \n",
      "_________________________________________________________________\n",
      "flatten_7 (Flatten)          (None, 2240)              0         \n",
      "_________________________________________________________________\n",
      "dense_14 (Dense)             (None, 64)                143424    \n",
      "_________________________________________________________________\n",
      "dense_15 (Dense)             (None, 2)                 130       \n",
      "=================================================================\n",
      "Total params: 199,874\n",
      "Trainable params: 199,874\n",
      "Non-trainable params: 0\n",
      "_________________________________________________________________\n"
     ]
    }
   ],
   "source": [
    "smile_model.summary()"
   ]
  },
  {
   "cell_type": "markdown",
   "metadata": {
    "id": "LVykKLdfiH1j"
   },
   "source": [
    "### 문제 23. 만든 모델에 로스와 옵티마이저, 메트릭을 설정하세요."
   ]
  },
  {
   "cell_type": "code",
   "execution_count": 94,
   "metadata": {
    "executionInfo": {
     "elapsed": 454,
     "status": "ok",
     "timestamp": 1634194963911,
     "user": {
      "displayName": "서정동",
      "photoUrl": "https://lh3.googleusercontent.com/a/default-user=s64",
      "userId": "09574773154017110695"
     },
     "user_tz": -540
    },
    "id": "IQU8Qq6iiH1j"
   },
   "outputs": [],
   "source": [
    "# 만든 모델에 loss는 categorical_crossentropy, optimizer는 adam 매트릭은 accuracy으로 설정하는 코드를 작성하세요.\n",
    "gender_model.compile(loss='categorical_crossentropy', optimizer='adam', metrics=['accuracy'])\n",
    "smile_model.compile(loss='categorical_crossentropy', optimizer='adam', metrics=['accuracy'])"
   ]
  },
  {
   "cell_type": "code",
   "execution_count": 61,
   "metadata": {
    "colab": {
     "base_uri": "https://localhost:8080/"
    },
    "executionInfo": {
     "elapsed": 5,
     "status": "ok",
     "timestamp": 1634193409229,
     "user": {
      "displayName": "서정동",
      "photoUrl": "https://lh3.googleusercontent.com/a/default-user=s64",
      "userId": "09574773154017110695"
     },
     "user_tz": -540
    },
    "id": "vl7XB7erep7s",
    "outputId": "17a70812-7e51-4a2b-8bbe-27d18f0af3e9"
   },
   "outputs": [
    {
     "data": {
      "text/plain": [
       "array([ 0.05422574, -0.10852352,  0.07585235,  0.1031561 , -0.05087955,\n",
       "        0.00619583,  0.00411387,  0.09708525,  0.00987281, -0.12822966,\n",
       "        0.03955145,  0.00579086,  0.05479905,  0.12797736, -0.09753496,\n",
       "        0.03775202, -0.02445064,  0.137112  , -0.0582124 ,  0.10236004,\n",
       "        0.0684603 , -0.03019004, -0.00130941,  0.04176532, -0.11992496,\n",
       "       -0.08462121, -0.09710835,  0.07005543,  0.05282965,  0.10609129,\n",
       "        0.13586576, -0.04365916], dtype=float32)"
      ]
     },
     "execution_count": 61,
     "metadata": {},
     "output_type": "execute_result"
    }
   ],
   "source": [
    "gender_model.get_weights()[0][0][0][0]"
   ]
  },
  {
   "cell_type": "code",
   "execution_count": 62,
   "metadata": {
    "colab": {
     "base_uri": "https://localhost:8080/"
    },
    "executionInfo": {
     "elapsed": 4,
     "status": "ok",
     "timestamp": 1634193410533,
     "user": {
      "displayName": "서정동",
      "photoUrl": "https://lh3.googleusercontent.com/a/default-user=s64",
      "userId": "09574773154017110695"
     },
     "user_tz": -540
    },
    "id": "xQLk5btggYEN",
    "outputId": "43ea3652-b4e7-4280-fae0-b2cec547287d"
   },
   "outputs": [
    {
     "data": {
      "text/plain": [
       "array([-0.0835927 ,  0.00122364,  0.02792783,  0.08447412,  0.00561857,\n",
       "       -0.00279629,  0.08784388,  0.13365738, -0.02114791, -0.09722599,\n",
       "       -0.08230586, -0.01867418, -0.03649307, -0.02842052, -0.02518297,\n",
       "       -0.05772745, -0.09205481,  0.02183157, -0.13463424,  0.10173498,\n",
       "        0.0878697 ,  0.11297123,  0.07438999, -0.09383093, -0.03560895,\n",
       "        0.00564039, -0.06235977, -0.10539719, -0.01781165, -0.13230774,\n",
       "       -0.10905671,  0.01683621], dtype=float32)"
      ]
     },
     "execution_count": 62,
     "metadata": {},
     "output_type": "execute_result"
    }
   ],
   "source": [
    "smile_model.get_weights()[0][0][0][0]"
   ]
  },
  {
   "cell_type": "markdown",
   "metadata": {
    "id": "vs4MHjKkiH1j"
   },
   "source": [
    "### 문제 24. 만든 모델에 train_images를 학습시켜 보세요."
   ]
  },
  {
   "cell_type": "code",
   "execution_count": 95,
   "metadata": {
    "colab": {
     "base_uri": "https://localhost:8080/"
    },
    "executionInfo": {
     "elapsed": 5715,
     "status": "ok",
     "timestamp": 1634194974736,
     "user": {
      "displayName": "서정동",
      "photoUrl": "https://lh3.googleusercontent.com/a/default-user=s64",
      "userId": "09574773154017110695"
     },
     "user_tz": -540
    },
    "id": "UiYocbdmiH1j",
    "outputId": "eeb787ec-b830-4660-e61d-b52dab43763a"
   },
   "outputs": [
    {
     "name": "stdout",
     "output_type": "stream",
     "text": [
      "Epoch 1/15\n",
      "63/63 [==============================] - 1s 8ms/step - loss: 0.6134 - accuracy: 0.6570 - val_loss: 0.5554 - val_accuracy: 0.7250\n",
      "Epoch 2/15\n",
      "63/63 [==============================] - 0s 5ms/step - loss: 0.4750 - accuracy: 0.7715 - val_loss: 0.5171 - val_accuracy: 0.7600\n",
      "Epoch 3/15\n",
      "63/63 [==============================] - 0s 5ms/step - loss: 0.3932 - accuracy: 0.8295 - val_loss: 0.4182 - val_accuracy: 0.8600\n",
      "Epoch 4/15\n",
      "63/63 [==============================] - 0s 5ms/step - loss: 0.2757 - accuracy: 0.8930 - val_loss: 0.3599 - val_accuracy: 0.8300\n",
      "Epoch 5/15\n",
      "63/63 [==============================] - 0s 5ms/step - loss: 0.2106 - accuracy: 0.9190 - val_loss: 0.3025 - val_accuracy: 0.9100\n",
      "Epoch 6/15\n",
      "63/63 [==============================] - 0s 5ms/step - loss: 0.1608 - accuracy: 0.9380 - val_loss: 0.2652 - val_accuracy: 0.8950\n",
      "Epoch 7/15\n",
      "63/63 [==============================] - 0s 5ms/step - loss: 0.1455 - accuracy: 0.9475 - val_loss: 0.2194 - val_accuracy: 0.9250\n",
      "Epoch 8/15\n",
      "63/63 [==============================] - 0s 5ms/step - loss: 0.0878 - accuracy: 0.9650 - val_loss: 0.2594 - val_accuracy: 0.9150\n",
      "Epoch 9/15\n",
      "63/63 [==============================] - 0s 5ms/step - loss: 0.0800 - accuracy: 0.9710 - val_loss: 0.2200 - val_accuracy: 0.9100\n",
      "Epoch 10/15\n",
      "63/63 [==============================] - 0s 5ms/step - loss: 0.0589 - accuracy: 0.9770 - val_loss: 0.2058 - val_accuracy: 0.9350\n",
      "Epoch 11/15\n",
      "63/63 [==============================] - 0s 5ms/step - loss: 0.0375 - accuracy: 0.9875 - val_loss: 0.2705 - val_accuracy: 0.9150\n",
      "Epoch 12/15\n",
      "63/63 [==============================] - 0s 5ms/step - loss: 0.0284 - accuracy: 0.9910 - val_loss: 0.3690 - val_accuracy: 0.9200\n",
      "Epoch 13/15\n",
      "63/63 [==============================] - 0s 5ms/step - loss: 0.0165 - accuracy: 0.9955 - val_loss: 0.2880 - val_accuracy: 0.8950\n",
      "Epoch 14/15\n",
      "63/63 [==============================] - 0s 5ms/step - loss: 0.0114 - accuracy: 0.9970 - val_loss: 0.2782 - val_accuracy: 0.9000\n",
      "Epoch 15/15\n",
      "63/63 [==============================] - 0s 5ms/step - loss: 0.0215 - accuracy: 0.9940 - val_loss: 0.2080 - val_accuracy: 0.9300\n"
     ]
    }
   ],
   "source": [
    "# train_images 학습시키고 15 epochs을 돌리고 그 진행 사항을 hist에 저장하는 코드를 작성하세요.\n",
    "gender_hist=gender_model.fit(train_images, train_male_labels, validation_data=(test_images, test_male_labels),\n",
    "                             epochs=15, verbose=1)"
   ]
  },
  {
   "cell_type": "code",
   "execution_count": 96,
   "metadata": {
    "colab": {
     "base_uri": "https://localhost:8080/"
    },
    "executionInfo": {
     "elapsed": 5680,
     "status": "ok",
     "timestamp": 1634194980723,
     "user": {
      "displayName": "서정동",
      "photoUrl": "https://lh3.googleusercontent.com/a/default-user=s64",
      "userId": "09574773154017110695"
     },
     "user_tz": -540
    },
    "id": "v_DGGRLqg0um",
    "outputId": "79ec41aa-1cb1-4642-950a-0417f98e6819"
   },
   "outputs": [
    {
     "name": "stdout",
     "output_type": "stream",
     "text": [
      "Epoch 1/15\n",
      "63/63 [==============================] - 1s 7ms/step - loss: 0.6925 - accuracy: 0.5310 - val_loss: 0.6569 - val_accuracy: 0.6200\n",
      "Epoch 2/15\n",
      "63/63 [==============================] - 0s 5ms/step - loss: 0.6360 - accuracy: 0.6330 - val_loss: 0.5643 - val_accuracy: 0.7200\n",
      "Epoch 3/15\n",
      "63/63 [==============================] - 0s 5ms/step - loss: 0.4569 - accuracy: 0.7920 - val_loss: 0.3498 - val_accuracy: 0.8300\n",
      "Epoch 4/15\n",
      "63/63 [==============================] - 0s 5ms/step - loss: 0.3488 - accuracy: 0.8410 - val_loss: 0.2894 - val_accuracy: 0.8850\n",
      "Epoch 5/15\n",
      "63/63 [==============================] - 0s 5ms/step - loss: 0.2791 - accuracy: 0.8840 - val_loss: 0.2607 - val_accuracy: 0.8950\n",
      "Epoch 6/15\n",
      "63/63 [==============================] - 0s 5ms/step - loss: 0.2517 - accuracy: 0.8950 - val_loss: 0.2452 - val_accuracy: 0.9000\n",
      "Epoch 7/15\n",
      "63/63 [==============================] - 0s 5ms/step - loss: 0.2216 - accuracy: 0.9030 - val_loss: 0.2785 - val_accuracy: 0.8750\n",
      "Epoch 8/15\n",
      "63/63 [==============================] - 0s 5ms/step - loss: 0.1983 - accuracy: 0.9230 - val_loss: 0.2731 - val_accuracy: 0.9050\n",
      "Epoch 9/15\n",
      "63/63 [==============================] - 0s 5ms/step - loss: 0.1669 - accuracy: 0.9290 - val_loss: 0.2245 - val_accuracy: 0.9050\n",
      "Epoch 10/15\n",
      "63/63 [==============================] - 0s 5ms/step - loss: 0.1342 - accuracy: 0.9505 - val_loss: 0.2180 - val_accuracy: 0.9000\n",
      "Epoch 11/15\n",
      "63/63 [==============================] - 0s 5ms/step - loss: 0.1307 - accuracy: 0.9525 - val_loss: 0.2552 - val_accuracy: 0.8900\n",
      "Epoch 12/15\n",
      "63/63 [==============================] - 0s 5ms/step - loss: 0.1097 - accuracy: 0.9525 - val_loss: 0.2569 - val_accuracy: 0.9000\n",
      "Epoch 13/15\n",
      "63/63 [==============================] - 0s 5ms/step - loss: 0.0803 - accuracy: 0.9725 - val_loss: 0.2554 - val_accuracy: 0.9050\n",
      "Epoch 14/15\n",
      "63/63 [==============================] - 0s 5ms/step - loss: 0.0400 - accuracy: 0.9880 - val_loss: 0.2985 - val_accuracy: 0.9050\n",
      "Epoch 15/15\n",
      "63/63 [==============================] - 0s 5ms/step - loss: 0.0330 - accuracy: 0.9930 - val_loss: 0.3115 - val_accuracy: 0.9050\n"
     ]
    }
   ],
   "source": [
    "smile_hist=smile_model.fit(train_images, train_smile_labels, validation_data=(test_images, test_smile_labels),\n",
    "                             epochs=15, verbose=1)"
   ]
  },
  {
   "cell_type": "code",
   "execution_count": 65,
   "metadata": {
    "colab": {
     "base_uri": "https://localhost:8080/"
    },
    "executionInfo": {
     "elapsed": 317,
     "status": "ok",
     "timestamp": 1634193446046,
     "user": {
      "displayName": "서정동",
      "photoUrl": "https://lh3.googleusercontent.com/a/default-user=s64",
      "userId": "09574773154017110695"
     },
     "user_tz": -540
    },
    "id": "FUHDTBb8gqlc",
    "outputId": "38c4c9d9-bbb4-4b16-c8ce-e15955557ae6"
   },
   "outputs": [
    {
     "data": {
      "text/plain": [
       "array([ 0.00742   , -0.16586386,  0.13906246,  0.1073351 , -0.09536797,\n",
       "        0.07763019, -0.0214495 ,  0.13908176,  0.00490057, -0.20903516,\n",
       "       -0.09631561,  0.04482782,  0.01423878,  0.13852498, -0.15287974,\n",
       "       -0.06438489, -0.04336635,  0.20778976, -0.02617119,  0.12894824,\n",
       "        0.13318226, -0.04464118,  0.02423302,  0.06888932, -0.08062018,\n",
       "       -0.01281492, -0.18133904,  0.08595727,  0.08691215,  0.14962737,\n",
       "        0.22936083, -0.03167285], dtype=float32)"
      ]
     },
     "execution_count": 65,
     "metadata": {},
     "output_type": "execute_result"
    }
   ],
   "source": [
    "gender_model.get_weights()[0][0][0][0]"
   ]
  },
  {
   "cell_type": "code",
   "execution_count": 66,
   "metadata": {
    "colab": {
     "base_uri": "https://localhost:8080/"
    },
    "executionInfo": {
     "elapsed": 330,
     "status": "ok",
     "timestamp": 1634193462663,
     "user": {
      "displayName": "서정동",
      "photoUrl": "https://lh3.googleusercontent.com/a/default-user=s64",
      "userId": "09574773154017110695"
     },
     "user_tz": -540
    },
    "id": "MgFV_K_zhSXW",
    "outputId": "ba1e62d7-7fd2-4bea-d313-2a36109e9264"
   },
   "outputs": [
    {
     "data": {
      "text/plain": [
       "array([-0.0835927 ,  0.00122364,  0.02792783,  0.08447412,  0.00561857,\n",
       "       -0.00279629,  0.08784388,  0.13365738, -0.02114791, -0.09722599,\n",
       "       -0.08230586, -0.01867418, -0.03649307, -0.02842052, -0.02518297,\n",
       "       -0.05772745, -0.09205481,  0.02183157, -0.13463424,  0.10173498,\n",
       "        0.0878697 ,  0.11297123,  0.07438999, -0.09383093, -0.03560895,\n",
       "        0.00564039, -0.06235977, -0.10539719, -0.01781165, -0.13230774,\n",
       "       -0.10905671,  0.01683621], dtype=float32)"
      ]
     },
     "execution_count": 66,
     "metadata": {},
     "output_type": "execute_result"
    }
   ],
   "source": [
    "smile_model.get_weights()[0][0][0][0]"
   ]
  },
  {
   "cell_type": "markdown",
   "metadata": {
    "id": "gPfI5Io9iH1k"
   },
   "source": [
    "### 문제 25. 학습 진행 사항을 plt으로 출력하세요."
   ]
  },
  {
   "cell_type": "code",
   "execution_count": null,
   "metadata": {
    "id": "kGTIMKGshwZ7"
   },
   "outputs": [],
   "source": [
    "smile_hist.history"
   ]
  },
  {
   "cell_type": "code",
   "execution_count": 97,
   "metadata": {
    "colab": {
     "base_uri": "https://localhost:8080/",
     "height": 265
    },
    "executionInfo": {
     "elapsed": 810,
     "status": "ok",
     "timestamp": 1634194990776,
     "user": {
      "displayName": "서정동",
      "photoUrl": "https://lh3.googleusercontent.com/a/default-user=s64",
      "userId": "09574773154017110695"
     },
     "user_tz": -540
    },
    "id": "tYG-XR-DiH1k",
    "outputId": "8774bb44-2a8e-49ad-de38-296591f44564"
   },
   "outputs": [
    {
     "data": {
      "image/png": "[encoded data removed]",
      "text/plain": [
       "<Figure size 432x288 with 1 Axes>"
      ]
     },
     "metadata": {
      "needs_background": "light"
     },
     "output_type": "display_data"
    }
   ],
   "source": [
    "# hist의 accuracy plt의 plot을 이용하여 출력하는 코드를 작성하세요.\n",
    "plt.plot(gender_hist.history['accuracy'], label='gender_accuracy')\n",
    "plt.plot(gender_hist.history['loss'], label='gender_losss')\n",
    "plt.plot(gender_hist.history['val_accuracy'], label='gender_val_accuracy')\n",
    "plt.plot(gender_hist.history['val_loss'], label='gender_val_loss')\n",
    "\n",
    "plt.plot(smile_hist.history['accuracy'], label='smile_accuracy')\n",
    "plt.plot(smile_hist.history['loss'], label='smile_losss')\n",
    "plt.plot(smile_hist.history['val_accuracy'], label='smile_val_accuracy')\n",
    "plt.plot(smile_hist.history['val_loss'], label='smile_val_loss')\n",
    "\n",
    "plt.legend(loc='uppder left')\n",
    "plt.show()"
   ]
  },
  {
   "cell_type": "markdown",
   "metadata": {
    "id": "HWwSu6rGiH1k"
   },
   "source": [
    "## Step 5. 결과 확인"
   ]
  },
  {
   "cell_type": "markdown",
   "metadata": {
    "id": "upv45GO-iH1k"
   },
   "source": [
    "### 문제 26. 완성된 모델에서 test_image를 1장 넣고 결과를 res 변수에 저정하세요."
   ]
  },
  {
   "cell_type": "code",
   "execution_count": 106,
   "metadata": {
    "colab": {
     "base_uri": "https://localhost:8080/"
    },
    "executionInfo": {
     "elapsed": 524,
     "status": "ok",
     "timestamp": 1634195064526,
     "user": {
      "displayName": "서정동",
      "photoUrl": "https://lh3.googleusercontent.com/a/default-user=s64",
      "userId": "09574773154017110695"
     },
     "user_tz": -540
    },
    "id": "JpeC60ONiH1l",
    "outputId": "ebc9d7d2-d801-42d2-c0a5-d0aa129c02f5"
   },
   "outputs": [
    {
     "name": "stdout",
     "output_type": "stream",
     "text": [
      "(1, 2)\n",
      "[[9.9997616e-01 2.3803759e-05]]\n"
     ]
    }
   ],
   "source": [
    "# 모델에 test_images 중 1장을 넣고 결과를 받는 코드를 작성하세요.\n",
    "gender_res=gender_model.predict(test_images[1:2])\n",
    "print(gender_res.shape)\n",
    "print(gender_res)"
   ]
  },
  {
   "cell_type": "code",
   "execution_count": 107,
   "metadata": {
    "colab": {
     "base_uri": "https://localhost:8080/"
    },
    "executionInfo": {
     "elapsed": 4,
     "status": "ok",
     "timestamp": 1634195064527,
     "user": {
      "displayName": "서정동",
      "photoUrl": "https://lh3.googleusercontent.com/a/default-user=s64",
      "userId": "09574773154017110695"
     },
     "user_tz": -540
    },
    "id": "U8OfwiRCkNft",
    "outputId": "b0216d3d-48e7-4bf6-dcc2-445b43b1fd60"
   },
   "outputs": [
    {
     "name": "stdout",
     "output_type": "stream",
     "text": [
      "(1, 2)\n",
      "[[0.9981785  0.00182148]]\n"
     ]
    }
   ],
   "source": [
    "smile_res=smile_model.predict(test_images[1:2])\n",
    "print(smile_res.shape)\n",
    "print(smile_res)"
   ]
  },
  {
   "cell_type": "markdown",
   "metadata": {
    "id": "j-YjXYk_iH1l"
   },
   "source": [
    "### 문제 27. res와 test_images[1]을 plt로 출력하세요"
   ]
  },
  {
   "cell_type": "code",
   "execution_count": 108,
   "metadata": {
    "colab": {
     "base_uri": "https://localhost:8080/",
     "height": 268
    },
    "executionInfo": {
     "elapsed": 680,
     "status": "ok",
     "timestamp": 1634195068590,
     "user": {
      "displayName": "서정동",
      "photoUrl": "https://lh3.googleusercontent.com/a/default-user=s64",
      "userId": "09574773154017110695"
     },
     "user_tz": -540
    },
    "id": "yo8smPFiiH1l",
    "outputId": "3648053e-9ccb-4003-eb56-48db29cadf17"
   },
   "outputs": [
    {
     "data": {
      "image/png": "[encoded data removed]",
      "text/plain": [
       "<Figure size 432x288 with 1 Axes>"
      ]
     },
     "metadata": {
      "needs_background": "light"
     },
     "output_type": "display_data"
    }
   ],
   "source": [
    "# res와 test_images[1]을 print와 plt로 출력하는 코드를 작성하세요.\n",
    "plt.imshow(test_images[1])\n",
    "plt.show()"
   ]
  },
  {
   "cell_type": "code",
   "execution_count": 109,
   "metadata": {
    "colab": {
     "base_uri": "https://localhost:8080/"
    },
    "executionInfo": {
     "elapsed": 533,
     "status": "ok",
     "timestamp": 1634195072520,
     "user": {
      "displayName": "서정동",
      "photoUrl": "https://lh3.googleusercontent.com/a/default-user=s64",
      "userId": "09574773154017110695"
     },
     "user_tz": -540
    },
    "id": "DzXj1FYElHHl",
    "outputId": "f55ed413-0e7a-4cfc-b882-f879af53aacc"
   },
   "outputs": [
    {
     "name": "stdout",
     "output_type": "stream",
     "text": [
      "[[9.9997616e-01 2.3803759e-05]]\n",
      "[[0.9981785  0.00182148]]\n"
     ]
    }
   ],
   "source": [
    "print(gender_res)\n",
    "print(smile_res)"
   ]
  },
  {
   "cell_type": "code",
   "execution_count": 110,
   "metadata": {
    "colab": {
     "base_uri": "https://localhost:8080/",
     "height": 282
    },
    "executionInfo": {
     "elapsed": 338,
     "status": "ok",
     "timestamp": 1634195103250,
     "user": {
      "displayName": "서정동",
      "photoUrl": "https://lh3.googleusercontent.com/a/default-user=s64",
      "userId": "09574773154017110695"
     },
     "user_tz": -540
    },
    "id": "4Nx1DZrMlHRk",
    "outputId": "e7b07650-ce5f-419f-ac5a-58e5be438ef4"
   },
   "outputs": [
    {
     "data": {
      "image/png": "[encoded data removed]",
      "text/plain": [
       "<Figure size 432x288 with 1 Axes>"
      ]
     },
     "metadata": {
      "needs_background": "light"
     },
     "output_type": "display_data"
    },
    {
     "name": "stdout",
     "output_type": "stream",
     "text": [
      "[[9.9997616e-01 2.3803759e-05]]\n"
     ]
    }
   ],
   "source": [
    "# 막대 차트로 시각화\n",
    "plt.bar(range(2), gender_res[0])    # 예측값\n",
    "plt.bar(np.array(range(2))+0.3, test_male_labels[1])  # 실제 정답 확인\n",
    "plt.show()\n",
    "print(gender_res)"
   ]
  },
  {
   "cell_type": "code",
   "execution_count": 111,
   "metadata": {
    "colab": {
     "base_uri": "https://localhost:8080/",
     "height": 282
    },
    "executionInfo": {
     "elapsed": 473,
     "status": "ok",
     "timestamp": 1634195109852,
     "user": {
      "displayName": "서정동",
      "photoUrl": "https://lh3.googleusercontent.com/a/default-user=s64",
      "userId": "09574773154017110695"
     },
     "user_tz": -540
    },
    "id": "yTxYoAfqlHYS",
    "outputId": "b87e64ef-9d67-4b47-f78a-44615cc1c0b8"
   },
   "outputs": [
    {
     "data": {
      "image/png": "[encoded data removed]",
      "text/plain": [
       "<Figure size 432x288 with 1 Axes>"
      ]
     },
     "metadata": {
      "needs_background": "light"
     },
     "output_type": "display_data"
    },
    {
     "name": "stdout",
     "output_type": "stream",
     "text": [
      "[[0.9981785  0.00182148]]\n"
     ]
    }
   ],
   "source": [
    "plt.bar(range(2), smile_res[0])    # 예측값\n",
    "plt.bar(np.array(range(2))+0.3, test_smile_labels[1])  # 실제 정답 확인\n",
    "plt.show()\n",
    "print(smile_res)"
   ]
  },
  {
   "cell_type": "markdown",
   "metadata": {
    "id": "eNkdDgr0zfX1"
   },
   "source": [
    "## Step 6. 멀티 아웃풋 모델링"
   ]
  },
  {
   "cell_type": "markdown",
   "metadata": {
    "id": "QG159d2rzfX1"
   },
   "source": [
    "### 문제 28. 해당 학습셋을 처리하는 이미지 classification 모델을 작성하세요. (단 label을 2개 동시에 처리)"
   ]
  },
  {
   "cell_type": "code",
   "execution_count": 136,
   "metadata": {
    "executionInfo": {
     "elapsed": 394,
     "status": "ok",
     "timestamp": 1634198383540,
     "user": {
      "displayName": "서정동",
      "photoUrl": "https://lh3.googleusercontent.com/a/default-user=s64",
      "userId": "09574773154017110695"
     },
     "user_tz": -540
    },
    "id": "9wZKFa_QzfX1"
   },
   "outputs": [],
   "source": [
    "# input (배치, 72, 59, 3), output (배치, 2)을 처리할 수 있는 모양의 모델을 작성하세요.\n",
    "from keras.models import Model\n",
    "from keras.layers import Conv2D, MaxPool2D, Input, Dense, Flatten, Concatenate\n",
    "\n",
    "def multi_model1():\n",
    "    inputs=Input((72, 59, 3))\n",
    "\n",
    "    l1 = Conv2D(32, 3, activation='relu')(inputs)\n",
    "    l2 = MaxPool2D(2)(l1)\n",
    "    l3 = Conv2D(64, 3, activation='relu')(l2)\n",
    "    l4 = MaxPool2D(2)(l3)\n",
    "    l5 = Conv2D(64, 3, activation='relu')(l4)\n",
    "    l6 = MaxPool2D(2)(l5)\n",
    "\n",
    "    l7 = Flatten()(l6)\n",
    "    latent_vactor = Dense(64, activation='relu')(l7)\n",
    "\n",
    "    gender_outputs = Dense(2, activation='softmax')(latent_vactor)\n",
    "    smile_outputs = Dense(2, activation='softmax')(latent_vactor)\n",
    "\n",
    "    # 멀티 모델 생성\n",
    "    outputs = Concatenate(axis=1)([gender_outputs, smile_outputs])\n",
    "    model = Model(inputs, outputs)    # model1에 적용\n",
    "    \n",
    "    return model"
   ]
  },
  {
   "cell_type": "code",
   "execution_count": 137,
   "metadata": {
    "executionInfo": {
     "elapsed": 2,
     "status": "ok",
     "timestamp": 1634198383963,
     "user": {
      "displayName": "서정동",
      "photoUrl": "https://lh3.googleusercontent.com/a/default-user=s64",
      "userId": "09574773154017110695"
     },
     "user_tz": -540
    },
    "id": "_d_hzqJ5zqZq"
   },
   "outputs": [],
   "source": [
    "def multi_model2():\n",
    "    inputs=Input((72, 59, 3))\n",
    "\n",
    "    l1 = Conv2D(32, 3, activation='relu')(inputs)\n",
    "    l2 = MaxPool2D(2)(l1)\n",
    "    l3 = Conv2D(64, 3, activation='relu')(l2)\n",
    "    l4 = MaxPool2D(2)(l3)\n",
    "    l5 = Conv2D(64, 3, activation='relu')(l4)\n",
    "    l6 = MaxPool2D(2)(l5)\n",
    "\n",
    "    l7 = Flatten()(l6)\n",
    "    latent_vactor = Dense(64, activation='relu')(l7)\n",
    "\n",
    "    gender_outputs = Dense(2, activation='softmax')(latent_vactor)\n",
    "    smile_outputs = Dense(2, activation='softmax')(latent_vactor)\n",
    "\n",
    "    # 멀티 모델 생성\n",
    "    model = Model(inputs, [gender_outputs, smile_outputs])   # model2에 적용\n",
    "\n",
    "    return model"
   ]
  },
  {
   "cell_type": "markdown",
   "metadata": {
    "id": "-caAUep7zfX2"
   },
   "source": [
    "### 문제 29. 모델을 할당 받고 서머리를 출력해보세요."
   ]
  },
  {
   "cell_type": "code",
   "execution_count": 138,
   "metadata": {
    "colab": {
     "base_uri": "https://localhost:8080/"
    },
    "executionInfo": {
     "elapsed": 400,
     "status": "ok",
     "timestamp": 1634198387217,
     "user": {
      "displayName": "서정동",
      "photoUrl": "https://lh3.googleusercontent.com/a/default-user=s64",
      "userId": "09574773154017110695"
     },
     "user_tz": -540
    },
    "id": "guruR7iezfX2",
    "outputId": "d564e99e-13c3-4f99-e47e-1a51f68ed0c5"
   },
   "outputs": [
    {
     "name": "stdout",
     "output_type": "stream",
     "text": [
      "Model: \"model_11\"\n",
      "__________________________________________________________________________________________________\n",
      "Layer (type)                    Output Shape         Param #     Connected to                     \n",
      "==================================================================================================\n",
      "input_12 (InputLayer)           [(None, 72, 59, 3)]  0                                            \n",
      "__________________________________________________________________________________________________\n",
      "conv2d_33 (Conv2D)              (None, 70, 57, 32)   896         input_12[0][0]                   \n",
      "__________________________________________________________________________________________________\n",
      "max_pooling2d_33 (MaxPooling2D) (None, 35, 28, 32)   0           conv2d_33[0][0]                  \n",
      "__________________________________________________________________________________________________\n",
      "conv2d_34 (Conv2D)              (None, 33, 26, 64)   18496       max_pooling2d_33[0][0]           \n",
      "__________________________________________________________________________________________________\n",
      "max_pooling2d_34 (MaxPooling2D) (None, 16, 13, 64)   0           conv2d_34[0][0]                  \n",
      "__________________________________________________________________________________________________\n",
      "conv2d_35 (Conv2D)              (None, 14, 11, 64)   36928       max_pooling2d_34[0][0]           \n",
      "__________________________________________________________________________________________________\n",
      "max_pooling2d_35 (MaxPooling2D) (None, 7, 5, 64)     0           conv2d_35[0][0]                  \n",
      "__________________________________________________________________________________________________\n",
      "flatten_11 (Flatten)            (None, 2240)         0           max_pooling2d_35[0][0]           \n",
      "__________________________________________________________________________________________________\n",
      "dense_25 (Dense)                (None, 64)           143424      flatten_11[0][0]                 \n",
      "__________________________________________________________________________________________________\n",
      "dense_26 (Dense)                (None, 2)            130         dense_25[0][0]                   \n",
      "__________________________________________________________________________________________________\n",
      "dense_27 (Dense)                (None, 2)            130         dense_25[0][0]                   \n",
      "__________________________________________________________________________________________________\n",
      "concatenate_1 (Concatenate)     (None, 4)            0           dense_26[0][0]                   \n",
      "                                                                 dense_27[0][0]                   \n",
      "==================================================================================================\n",
      "Total params: 200,004\n",
      "Trainable params: 200,004\n",
      "Non-trainable params: 0\n",
      "__________________________________________________________________________________________________\n"
     ]
    }
   ],
   "source": [
    "# multi_model() 모델을 할당 받고 서머리를 출력하는 코드를 작성하세요.\n",
    "model1=multi_model1()       # Concatenate 이용\n",
    "model1.summary()"
   ]
  },
  {
   "cell_type": "code",
   "execution_count": 139,
   "metadata": {
    "colab": {
     "base_uri": "https://localhost:8080/"
    },
    "executionInfo": {
     "elapsed": 317,
     "status": "ok",
     "timestamp": 1634198397665,
     "user": {
      "displayName": "서정동",
      "photoUrl": "https://lh3.googleusercontent.com/a/default-user=s64",
      "userId": "09574773154017110695"
     },
     "user_tz": -540
    },
    "id": "jTkNcJesuZfe",
    "outputId": "860b9a04-6397-46db-971d-e810950c031d"
   },
   "outputs": [
    {
     "name": "stdout",
     "output_type": "stream",
     "text": [
      "Model: \"model_12\"\n",
      "__________________________________________________________________________________________________\n",
      "Layer (type)                    Output Shape         Param #     Connected to                     \n",
      "==================================================================================================\n",
      "input_13 (InputLayer)           [(None, 72, 59, 3)]  0                                            \n",
      "__________________________________________________________________________________________________\n",
      "conv2d_36 (Conv2D)              (None, 70, 57, 32)   896         input_13[0][0]                   \n",
      "__________________________________________________________________________________________________\n",
      "max_pooling2d_36 (MaxPooling2D) (None, 35, 28, 32)   0           conv2d_36[0][0]                  \n",
      "__________________________________________________________________________________________________\n",
      "conv2d_37 (Conv2D)              (None, 33, 26, 64)   18496       max_pooling2d_36[0][0]           \n",
      "__________________________________________________________________________________________________\n",
      "max_pooling2d_37 (MaxPooling2D) (None, 16, 13, 64)   0           conv2d_37[0][0]                  \n",
      "__________________________________________________________________________________________________\n",
      "conv2d_38 (Conv2D)              (None, 14, 11, 64)   36928       max_pooling2d_37[0][0]           \n",
      "__________________________________________________________________________________________________\n",
      "max_pooling2d_38 (MaxPooling2D) (None, 7, 5, 64)     0           conv2d_38[0][0]                  \n",
      "__________________________________________________________________________________________________\n",
      "flatten_12 (Flatten)            (None, 2240)         0           max_pooling2d_38[0][0]           \n",
      "__________________________________________________________________________________________________\n",
      "dense_28 (Dense)                (None, 64)           143424      flatten_12[0][0]                 \n",
      "__________________________________________________________________________________________________\n",
      "dense_29 (Dense)                (None, 2)            130         dense_28[0][0]                   \n",
      "__________________________________________________________________________________________________\n",
      "dense_30 (Dense)                (None, 2)            130         dense_28[0][0]                   \n",
      "==================================================================================================\n",
      "Total params: 200,004\n",
      "Trainable params: 200,004\n",
      "Non-trainable params: 0\n",
      "__________________________________________________________________________________________________\n"
     ]
    }
   ],
   "source": [
    "model2=multi_model2()       # output을 리스트([])로 묶어서 출력\n",
    "model2.summary()"
   ]
  },
  {
   "cell_type": "markdown",
   "metadata": {
    "id": "lp8dbD_FzfX2"
   },
   "source": [
    "### 문제 30. 만든 모델에 로스와 옵티마이저, 메트릭을 설정하세요."
   ]
  },
  {
   "cell_type": "code",
   "execution_count": 140,
   "metadata": {
    "executionInfo": {
     "elapsed": 331,
     "status": "ok",
     "timestamp": 1634198407840,
     "user": {
      "displayName": "서정동",
      "photoUrl": "https://lh3.googleusercontent.com/a/default-user=s64",
      "userId": "09574773154017110695"
     },
     "user_tz": -540
    },
    "id": "jXJEdlQ6zfX2"
   },
   "outputs": [],
   "source": [
    "# 만든 모델에 loss는 categorical_crossentropy, optimizer는 adam 매트릭은 accuracy으로 설정하는 코드를 작성하세요.\n",
    "# output을 Concatenate 이용한 모델\n",
    "model1.compile(loss='categorical_crossentropy', optimizer='adam', metrics=['accuracy'])"
   ]
  },
  {
   "cell_type": "code",
   "execution_count": 141,
   "metadata": {
    "executionInfo": {
     "elapsed": 411,
     "status": "ok",
     "timestamp": 1634198409847,
     "user": {
      "displayName": "서정동",
      "photoUrl": "https://lh3.googleusercontent.com/a/default-user=s64",
      "userId": "09574773154017110695"
     },
     "user_tz": -540
    },
    "id": "kXKKqCydvyyP"
   },
   "outputs": [],
   "source": [
    "# output을 []로 묶어서 적용한 모델\n",
    "model2.compile(loss='categorical_crossentropy', optimizer='adam', metrics=['accuracy'])"
   ]
  },
  {
   "cell_type": "markdown",
   "metadata": {
    "id": "_C6Nk21yzfX3"
   },
   "source": [
    "### 문제 31. 만든 모델에 train_images를 학습시켜 보세요."
   ]
  },
  {
   "cell_type": "code",
   "execution_count": 142,
   "metadata": {
    "colab": {
     "base_uri": "https://localhost:8080/"
    },
    "executionInfo": {
     "elapsed": 6363,
     "status": "ok",
     "timestamp": 1634198455656,
     "user": {
      "displayName": "서정동",
      "photoUrl": "https://lh3.googleusercontent.com/a/default-user=s64",
      "userId": "09574773154017110695"
     },
     "user_tz": -540
    },
    "id": "kv4tEjc9zfX3",
    "outputId": "409b0bb2-db9d-4eba-96de-0925a920c9ae"
   },
   "outputs": [
    {
     "name": "stdout",
     "output_type": "stream",
     "text": [
      "Epoch 1/15\n",
      "63/63 [==============================] - 1s 9ms/step - loss: 2.7018 - accuracy: 0.4560 - val_loss: 2.6689 - val_accuracy: 0.5300\n",
      "Epoch 2/15\n",
      "63/63 [==============================] - 0s 6ms/step - loss: 2.5249 - accuracy: 0.6800 - val_loss: 2.5054 - val_accuracy: 0.6250\n",
      "Epoch 3/15\n",
      "63/63 [==============================] - 0s 5ms/step - loss: 2.3810 - accuracy: 0.6970 - val_loss: 2.3223 - val_accuracy: 0.6900\n",
      "Epoch 4/15\n",
      "63/63 [==============================] - 0s 5ms/step - loss: 2.1895 - accuracy: 0.7330 - val_loss: 2.1371 - val_accuracy: 0.6950\n",
      "Epoch 5/15\n",
      "63/63 [==============================] - 0s 6ms/step - loss: 2.0087 - accuracy: 0.7050 - val_loss: 2.0461 - val_accuracy: 0.6150\n",
      "Epoch 6/15\n",
      "63/63 [==============================] - 0s 5ms/step - loss: 1.8856 - accuracy: 0.7110 - val_loss: 1.9945 - val_accuracy: 0.6000\n",
      "Epoch 7/15\n",
      "63/63 [==============================] - 0s 5ms/step - loss: 1.8184 - accuracy: 0.6935 - val_loss: 2.2710 - val_accuracy: 0.5500\n",
      "Epoch 8/15\n",
      "63/63 [==============================] - 0s 5ms/step - loss: 1.7765 - accuracy: 0.6835 - val_loss: 1.9648 - val_accuracy: 0.6400\n",
      "Epoch 9/15\n",
      "63/63 [==============================] - 0s 5ms/step - loss: 1.6975 - accuracy: 0.6985 - val_loss: 1.9254 - val_accuracy: 0.5950\n",
      "Epoch 10/15\n",
      "63/63 [==============================] - 0s 5ms/step - loss: 1.6684 - accuracy: 0.7080 - val_loss: 1.9923 - val_accuracy: 0.6250\n",
      "Epoch 11/15\n",
      "63/63 [==============================] - 0s 5ms/step - loss: 1.6417 - accuracy: 0.6855 - val_loss: 2.1561 - val_accuracy: 0.6050\n",
      "Epoch 12/15\n",
      "63/63 [==============================] - 0s 5ms/step - loss: 1.6100 - accuracy: 0.6910 - val_loss: 2.0571 - val_accuracy: 0.6200\n",
      "Epoch 13/15\n",
      "63/63 [==============================] - 0s 6ms/step - loss: 1.5717 - accuracy: 0.7075 - val_loss: 2.1466 - val_accuracy: 0.5800\n",
      "Epoch 14/15\n",
      "63/63 [==============================] - 0s 5ms/step - loss: 1.5186 - accuracy: 0.7170 - val_loss: 2.0717 - val_accuracy: 0.5850\n",
      "Epoch 15/15\n",
      "63/63 [==============================] - 0s 5ms/step - loss: 1.4996 - accuracy: 0.7280 - val_loss: 2.1102 - val_accuracy: 0.5800\n"
     ]
    }
   ],
   "source": [
    "# train_images 학습시키고 15 epochs을 돌리고 그 진행 사항을 hist에 저장하는 코드를 작성하세요.\n",
    "# output을 Concatenate 이용한 모델\n",
    "hist1=model1.fit(train_images, train_labels2, validation_data=(test_images, test_labels2), epochs=15, verbose=1)"
   ]
  },
  {
   "cell_type": "code",
   "execution_count": 143,
   "metadata": {
    "colab": {
     "base_uri": "https://localhost:8080/"
    },
    "executionInfo": {
     "elapsed": 11705,
     "status": "ok",
     "timestamp": 1634198476051,
     "user": {
      "displayName": "서정동",
      "photoUrl": "https://lh3.googleusercontent.com/a/default-user=s64",
      "userId": "09574773154017110695"
     },
     "user_tz": -540
    },
    "id": "jNpCw12TxBG0",
    "outputId": "6088a78c-4af5-4801-9600-02b56d39e6b3"
   },
   "outputs": [
    {
     "name": "stdout",
     "output_type": "stream",
     "text": [
      "Epoch 1/15\n",
      "63/63 [==============================] - 1s 10ms/step - loss: 1.3153 - dense_29_loss: 0.6284 - dense_30_loss: 0.6869 - dense_29_accuracy: 0.6215 - dense_30_accuracy: 0.5155 - val_loss: 1.1573 - val_dense_29_loss: 0.5330 - val_dense_30_loss: 0.6242 - val_dense_29_accuracy: 0.7500 - val_dense_30_accuracy: 0.6900\n",
      "Epoch 2/15\n",
      "63/63 [==============================] - 0s 6ms/step - loss: 1.0649 - dense_29_loss: 0.4438 - dense_30_loss: 0.6211 - dense_29_accuracy: 0.7900 - dense_30_accuracy: 0.6630 - val_loss: 1.1022 - val_dense_29_loss: 0.5246 - val_dense_30_loss: 0.5776 - val_dense_29_accuracy: 0.7650 - val_dense_30_accuracy: 0.6850\n",
      "Epoch 3/15\n",
      "63/63 [==============================] - 0s 6ms/step - loss: 0.8119 - dense_29_loss: 0.3080 - dense_30_loss: 0.5039 - dense_29_accuracy: 0.8750 - dense_30_accuracy: 0.7595 - val_loss: 0.7841 - val_dense_29_loss: 0.3718 - val_dense_30_loss: 0.4123 - val_dense_29_accuracy: 0.8750 - val_dense_30_accuracy: 0.8300\n",
      "Epoch 4/15\n",
      "63/63 [==============================] - 0s 6ms/step - loss: 0.5861 - dense_29_loss: 0.2274 - dense_30_loss: 0.3588 - dense_29_accuracy: 0.9080 - dense_30_accuracy: 0.8510 - val_loss: 0.6099 - val_dense_29_loss: 0.2814 - val_dense_30_loss: 0.3285 - val_dense_29_accuracy: 0.9000 - val_dense_30_accuracy: 0.8700\n",
      "Epoch 5/15\n",
      "63/63 [==============================] - 0s 6ms/step - loss: 0.4633 - dense_29_loss: 0.1610 - dense_30_loss: 0.3023 - dense_29_accuracy: 0.9335 - dense_30_accuracy: 0.8785 - val_loss: 0.5437 - val_dense_29_loss: 0.2719 - val_dense_30_loss: 0.2719 - val_dense_29_accuracy: 0.9350 - val_dense_30_accuracy: 0.8850\n",
      "Epoch 6/15\n",
      "63/63 [==============================] - 0s 6ms/step - loss: 0.3797 - dense_29_loss: 0.1242 - dense_30_loss: 0.2555 - dense_29_accuracy: 0.9465 - dense_30_accuracy: 0.8915 - val_loss: 0.5800 - val_dense_29_loss: 0.2756 - val_dense_30_loss: 0.3043 - val_dense_29_accuracy: 0.9150 - val_dense_30_accuracy: 0.8950\n",
      "Epoch 7/15\n",
      "63/63 [==============================] - 0s 6ms/step - loss: 0.3372 - dense_29_loss: 0.1095 - dense_30_loss: 0.2277 - dense_29_accuracy: 0.9575 - dense_30_accuracy: 0.8965 - val_loss: 0.5638 - val_dense_29_loss: 0.2757 - val_dense_30_loss: 0.2880 - val_dense_29_accuracy: 0.9100 - val_dense_30_accuracy: 0.9000\n",
      "Epoch 8/15\n",
      "63/63 [==============================] - 0s 7ms/step - loss: 0.2785 - dense_29_loss: 0.0895 - dense_30_loss: 0.1889 - dense_29_accuracy: 0.9650 - dense_30_accuracy: 0.9235 - val_loss: 0.5896 - val_dense_29_loss: 0.2617 - val_dense_30_loss: 0.3280 - val_dense_29_accuracy: 0.9000 - val_dense_30_accuracy: 0.8450\n",
      "Epoch 9/15\n",
      "63/63 [==============================] - 0s 7ms/step - loss: 0.2582 - dense_29_loss: 0.0789 - dense_30_loss: 0.1793 - dense_29_accuracy: 0.9705 - dense_30_accuracy: 0.9265 - val_loss: 0.5411 - val_dense_29_loss: 0.2449 - val_dense_30_loss: 0.2962 - val_dense_29_accuracy: 0.9300 - val_dense_30_accuracy: 0.8700\n",
      "Epoch 10/15\n",
      "63/63 [==============================] - 0s 6ms/step - loss: 0.1930 - dense_29_loss: 0.0448 - dense_30_loss: 0.1482 - dense_29_accuracy: 0.9860 - dense_30_accuracy: 0.9405 - val_loss: 0.5904 - val_dense_29_loss: 0.2875 - val_dense_30_loss: 0.3028 - val_dense_29_accuracy: 0.9250 - val_dense_30_accuracy: 0.8900\n",
      "Epoch 11/15\n",
      "63/63 [==============================] - 0s 6ms/step - loss: 0.1519 - dense_29_loss: 0.0356 - dense_30_loss: 0.1163 - dense_29_accuracy: 0.9880 - dense_30_accuracy: 0.9590 - val_loss: 0.6559 - val_dense_29_loss: 0.3917 - val_dense_30_loss: 0.2643 - val_dense_29_accuracy: 0.9200 - val_dense_30_accuracy: 0.8900\n",
      "Epoch 12/15\n",
      "63/63 [==============================] - 0s 6ms/step - loss: 0.1448 - dense_29_loss: 0.0331 - dense_30_loss: 0.1117 - dense_29_accuracy: 0.9885 - dense_30_accuracy: 0.9590 - val_loss: 0.6337 - val_dense_29_loss: 0.3792 - val_dense_30_loss: 0.2545 - val_dense_29_accuracy: 0.9200 - val_dense_30_accuracy: 0.8950\n",
      "Epoch 13/15\n",
      "63/63 [==============================] - 0s 6ms/step - loss: 0.1199 - dense_29_loss: 0.0147 - dense_30_loss: 0.1052 - dense_29_accuracy: 0.9980 - dense_30_accuracy: 0.9640 - val_loss: 0.6881 - val_dense_29_loss: 0.3578 - val_dense_30_loss: 0.3303 - val_dense_29_accuracy: 0.9300 - val_dense_30_accuracy: 0.8900\n",
      "Epoch 14/15\n",
      "63/63 [==============================] - 0s 6ms/step - loss: 0.1003 - dense_29_loss: 0.0153 - dense_30_loss: 0.0850 - dense_29_accuracy: 0.9965 - dense_30_accuracy: 0.9705 - val_loss: 0.6790 - val_dense_29_loss: 0.3928 - val_dense_30_loss: 0.2861 - val_dense_29_accuracy: 0.9050 - val_dense_30_accuracy: 0.8900\n",
      "Epoch 15/15\n",
      "63/63 [==============================] - 0s 7ms/step - loss: 0.0650 - dense_29_loss: 0.0184 - dense_30_loss: 0.0465 - dense_29_accuracy: 0.9950 - dense_30_accuracy: 0.9875 - val_loss: 0.6488 - val_dense_29_loss: 0.3684 - val_dense_30_loss: 0.2804 - val_dense_29_accuracy: 0.9250 - val_dense_30_accuracy: 0.8900\n"
     ]
    }
   ],
   "source": [
    "# output을 []로 묶어서 적용한 모델\n",
    "hist2=model2.fit(train_images, [train_male_labels,train_smile_labels],validation_data=(test_images, [test_male_labels, test_smile_labels]), epochs=15, verbose=1)"
   ]
  },
  {
   "cell_type": "markdown",
   "metadata": {
    "id": "-gtWPhyAzfX3"
   },
   "source": [
    "### 문제 32. 학습 진행 사항을 plt으로 출력하세요."
   ]
  },
  {
   "cell_type": "code",
   "execution_count": 146,
   "metadata": {
    "colab": {
     "base_uri": "https://localhost:8080/",
     "height": 265
    },
    "executionInfo": {
     "elapsed": 671,
     "status": "ok",
     "timestamp": 1634198703211,
     "user": {
      "displayName": "서정동",
      "photoUrl": "https://lh3.googleusercontent.com/a/default-user=s64",
      "userId": "09574773154017110695"
     },
     "user_tz": -540
    },
    "id": "63QWAg0lzfX3",
    "outputId": "ba022bf8-444c-42aa-c0d2-15e08499df10"
   },
   "outputs": [
    {
     "data": {
      "image/png": "[encoded data removed]",
      "text/plain": [
       "<Figure size 432x288 with 1 Axes>"
      ]
     },
     "metadata": {
      "needs_background": "light"
     },
     "output_type": "display_data"
    }
   ],
   "source": [
    "# hist의 accuracy plt의 plot을 이용하여 출력하는 코드를 작성하세요.\n",
    "plt.plot(hist1.history['accuracy'], label='accuracy')\n",
    "plt.plot(hist1.history['loss'], label='loss')\n",
    "plt.plot(hist1.history['val_accuracy'], label='val_accuracy')\n",
    "plt.plot(hist1.history['val_loss'], label='val_loss')\n",
    "plt.legend(loc='uppder left')\n",
    "plt.show()"
   ]
  },
  {
   "cell_type": "code",
   "execution_count": 148,
   "metadata": {
    "colab": {
     "base_uri": "https://localhost:8080/",
     "height": 265
    },
    "executionInfo": {
     "elapsed": 591,
     "status": "ok",
     "timestamp": 1634198963551,
     "user": {
      "displayName": "서정동",
      "photoUrl": "https://lh3.googleusercontent.com/a/default-user=s64",
      "userId": "09574773154017110695"
     },
     "user_tz": -540
    },
    "id": "gp7BIkOM1V2S",
    "outputId": "f9a3dc30-9122-4e33-f133-6fed2df99dab"
   },
   "outputs": [
    {
     "data": {
      "image/png": "[encoded data removed]",
      "text/plain": [
       "<Figure size 432x288 with 1 Axes>"
      ]
     },
     "metadata": {
      "needs_background": "light"
     },
     "output_type": "display_data"
    }
   ],
   "source": [
    "plt.plot(hist2.history['dense_29_accuracy'], label='dense_29_accuracy')\n",
    "plt.plot(hist2.history['dense_29_loss'], label='dense_29_loss')\n",
    "plt.plot(hist2.history['dense_30_accuracy'], label='dense_30_accuracy')\n",
    "plt.plot(hist2.history['dense_30_loss'], label='dense_30_loss')\n",
    "\n",
    "plt.plot(hist2.history['val_dense_29_accuracy'], label='val_dense_29_accuracy')\n",
    "plt.plot(hist2.history['val_dense_29_loss'], label='val_dense_29_loss')\n",
    "plt.plot(hist2.history['val_dense_30_accuracy'], label='val_dense_30_accuracy')\n",
    "plt.plot(hist2.history['val_dense_30_loss'], label='val_dense_30_loss')\n",
    "\n",
    "plt.legend(loc='uppder left')\n",
    "plt.show()"
   ]
  },
  {
   "cell_type": "markdown",
   "metadata": {
    "id": "xQOMfXQOzfX4"
   },
   "source": [
    "## Step 7. 결과 확인"
   ]
  },
  {
   "cell_type": "markdown",
   "metadata": {
    "id": "yWMu-OUGzfX4"
   },
   "source": [
    "### 문제 33. 완성된 모델에서 test_image를 1장 넣고 결과를 res 변수에 저정하세요."
   ]
  },
  {
   "cell_type": "code",
   "execution_count": 165,
   "metadata": {
    "colab": {
     "base_uri": "https://localhost:8080/"
    },
    "executionInfo": {
     "elapsed": 323,
     "status": "ok",
     "timestamp": 1634199794676,
     "user": {
      "displayName": "서정동",
      "photoUrl": "https://lh3.googleusercontent.com/a/default-user=s64",
      "userId": "09574773154017110695"
     },
     "user_tz": -540
    },
    "id": "nvBz3eCEzfX4",
    "outputId": "d0e2b254-91cf-4696-ca1e-635946b43135"
   },
   "outputs": [
    {
     "name": "stdout",
     "output_type": "stream",
     "text": [
      "1\n",
      "(1, 4)\n",
      "[9.999622e-01 3.776458e-05 8.734636e-01 1.265364e-01]\n"
     ]
    }
   ],
   "source": [
    "# 모델에 test_images 중 1장을 넣고 결과를 받는 코드를 작성하세요.\n",
    "res1=model1.predict(test_images[1:2])     # 한번에 4개의 값을 출력\n",
    "print(len(res1))\n",
    "print(res1.shape)\n",
    "print(res1[0])"
   ]
  },
  {
   "cell_type": "code",
   "execution_count": 167,
   "metadata": {
    "colab": {
     "base_uri": "https://localhost:8080/"
    },
    "executionInfo": {
     "elapsed": 557,
     "status": "ok",
     "timestamp": 1634199805999,
     "user": {
      "displayName": "서정동",
      "photoUrl": "https://lh3.googleusercontent.com/a/default-user=s64",
      "userId": "09574773154017110695"
     },
     "user_tz": -540
    },
    "id": "uJBOWJ9p3hUn",
    "outputId": "6c42217b-24bf-4697-ec50-94035ef77830"
   },
   "outputs": [
    {
     "name": "stdout",
     "output_type": "stream",
     "text": [
      "2\n",
      "[array([[9.9998760e-01, 1.2442404e-05]], dtype=float32), array([[0.838248  , 0.16175194]], dtype=float32)]\n",
      "(1, 2) (1, 2)\n",
      "[9.9998760e-01 1.2442404e-05] [0.838248   0.16175194]\n"
     ]
    }
   ],
   "source": [
    "# 모델에 test_images 중 1장을 넣고 결과를 받는 코드를 작성하세요.\n",
    "res2=model2.predict(test_images[1:2])     # 각각 출력\n",
    "print(len(res2))\n",
    "print(res2)\n",
    "print(res2[0].shape, res2[1].shape)\n",
    "print(res2[0][0], res2[1][0])"
   ]
  },
  {
   "cell_type": "markdown",
   "metadata": {
    "id": "I5UrN6nizfX4"
   },
   "source": [
    "### 문제 34. res와 test_images[1]을 plt로 출력하세요"
   ]
  },
  {
   "cell_type": "code",
   "execution_count": 183,
   "metadata": {
    "colab": {
     "base_uri": "https://localhost:8080/",
     "height": 268
    },
    "executionInfo": {
     "elapsed": 679,
     "status": "ok",
     "timestamp": 1634200674560,
     "user": {
      "displayName": "서정동",
      "photoUrl": "https://lh3.googleusercontent.com/a/default-user=s64",
      "userId": "09574773154017110695"
     },
     "user_tz": -540
    },
    "id": "zvcDEcvJzfX5",
    "outputId": "22c5f842-1fb9-4073-dcac-a01c60a7ed5c"
   },
   "outputs": [
    {
     "data": {
      "image/png": "[encoded data removed]",
      "text/plain": [
       "<Figure size 432x288 with 1 Axes>"
      ]
     },
     "metadata": {
      "needs_background": "light"
     },
     "output_type": "display_data"
    }
   ],
   "source": [
    "# res와 test_images[1]을 print와 plt로 출력하는 코드를 작성하세요.\n",
    "plt.imshow(test_images[1])\n",
    "plt.show()"
   ]
  },
  {
   "cell_type": "code",
   "execution_count": null,
   "metadata": {
    "id": "GfMbyORw5OPf"
   },
   "outputs": [],
   "source": []
  },
  {
   "cell_type": "markdown",
   "metadata": {
    "id": "UiIBTxMizfX5"
   },
   "source": [
    "## Step 8. 모델 분리"
   ]
  },
  {
   "cell_type": "markdown",
   "metadata": {
    "id": "AXCh44v4zfX5"
   },
   "source": [
    "###문제 35. model의 뒷단을 수정하여 성별 모델을 분리해보세요."
   ]
  },
  {
   "cell_type": "code",
   "execution_count": 173,
   "metadata": {
    "colab": {
     "base_uri": "https://localhost:8080/"
    },
    "executionInfo": {
     "elapsed": 411,
     "status": "ok",
     "timestamp": 1634200191253,
     "user": {
      "displayName": "서정동",
      "photoUrl": "https://lh3.googleusercontent.com/a/default-user=s64",
      "userId": "09574773154017110695"
     },
     "user_tz": -540
    },
    "id": "uTZWyAQKzfX5",
    "outputId": "b9c6c2e7-b205-4006-dc19-d90607ebd491"
   },
   "outputs": [
    {
     "name": "stdout",
     "output_type": "stream",
     "text": [
      "Model: \"model_12\"\n",
      "__________________________________________________________________________________________________\n",
      "Layer (type)                    Output Shape         Param #     Connected to                     \n",
      "==================================================================================================\n",
      "input_13 (InputLayer)           [(None, 72, 59, 3)]  0                                            \n",
      "__________________________________________________________________________________________________\n",
      "conv2d_36 (Conv2D)              (None, 70, 57, 32)   896         input_13[0][0]                   \n",
      "__________________________________________________________________________________________________\n",
      "max_pooling2d_36 (MaxPooling2D) (None, 35, 28, 32)   0           conv2d_36[0][0]                  \n",
      "__________________________________________________________________________________________________\n",
      "conv2d_37 (Conv2D)              (None, 33, 26, 64)   18496       max_pooling2d_36[0][0]           \n",
      "__________________________________________________________________________________________________\n",
      "max_pooling2d_37 (MaxPooling2D) (None, 16, 13, 64)   0           conv2d_37[0][0]                  \n",
      "__________________________________________________________________________________________________\n",
      "conv2d_38 (Conv2D)              (None, 14, 11, 64)   36928       max_pooling2d_37[0][0]           \n",
      "__________________________________________________________________________________________________\n",
      "max_pooling2d_38 (MaxPooling2D) (None, 7, 5, 64)     0           conv2d_38[0][0]                  \n",
      "__________________________________________________________________________________________________\n",
      "flatten_12 (Flatten)            (None, 2240)         0           max_pooling2d_38[0][0]           \n",
      "__________________________________________________________________________________________________\n",
      "dense_28 (Dense)                (None, 64)           143424      flatten_12[0][0]                 \n",
      "__________________________________________________________________________________________________\n",
      "dense_29 (Dense)                (None, 2)            130         dense_28[0][0]                   \n",
      "__________________________________________________________________________________________________\n",
      "dense_30 (Dense)                (None, 2)            130         dense_28[0][0]                   \n",
      "==================================================================================================\n",
      "Total params: 200,004\n",
      "Trainable params: 200,004\n",
      "Non-trainable params: 0\n",
      "__________________________________________________________________________________________________\n"
     ]
    }
   ],
   "source": [
    "model2.summary()"
   ]
  },
  {
   "cell_type": "code",
   "execution_count": 174,
   "metadata": {
    "colab": {
     "base_uri": "https://localhost:8080/"
    },
    "executionInfo": {
     "elapsed": 481,
     "status": "ok",
     "timestamp": 1634200215442,
     "user": {
      "displayName": "서정동",
      "photoUrl": "https://lh3.googleusercontent.com/a/default-user=s64",
      "userId": "09574773154017110695"
     },
     "user_tz": -540
    },
    "id": "PxQbKKox6JkG",
    "outputId": "c623ee6b-f063-43e7-8272-de5f76cd5d35"
   },
   "outputs": [
    {
     "name": "stdout",
     "output_type": "stream",
     "text": [
      "Model: \"model_13\"\n",
      "_________________________________________________________________\n",
      "Layer (type)                 Output Shape              Param #   \n",
      "=================================================================\n",
      "input_13 (InputLayer)        [(None, 72, 59, 3)]       0         \n",
      "_________________________________________________________________\n",
      "conv2d_36 (Conv2D)           (None, 70, 57, 32)        896       \n",
      "_________________________________________________________________\n",
      "max_pooling2d_36 (MaxPooling (None, 35, 28, 32)        0         \n",
      "_________________________________________________________________\n",
      "conv2d_37 (Conv2D)           (None, 33, 26, 64)        18496     \n",
      "_________________________________________________________________\n",
      "max_pooling2d_37 (MaxPooling (None, 16, 13, 64)        0         \n",
      "_________________________________________________________________\n",
      "conv2d_38 (Conv2D)           (None, 14, 11, 64)        36928     \n",
      "_________________________________________________________________\n",
      "max_pooling2d_38 (MaxPooling (None, 7, 5, 64)          0         \n",
      "_________________________________________________________________\n",
      "flatten_12 (Flatten)         (None, 2240)              0         \n",
      "_________________________________________________________________\n",
      "dense_28 (Dense)             (None, 64)                143424    \n",
      "_________________________________________________________________\n",
      "dense_29 (Dense)             (None, 2)                 130       \n",
      "=================================================================\n",
      "Total params: 199,874\n",
      "Trainable params: 199,874\n",
      "Non-trainable params: 0\n",
      "_________________________________________________________________\n"
     ]
    }
   ],
   "source": [
    "# model의 뒷단을 수정하여 성별 모델을 분리하고 모델 정보를 확인하는 코드를 작성하세요.\n",
    "gender_model2=Model(inputs=model2.input, outputs=model2.get_layer('dense_29').output)\n",
    "gender_model2.summary()"
   ]
  },
  {
   "cell_type": "markdown",
   "metadata": {
    "id": "m_bmyR1FzfX6"
   },
   "source": [
    "### 문제 36. 성별모델에서 테스트 데이터 확인"
   ]
  },
  {
   "cell_type": "code",
   "execution_count": 177,
   "metadata": {
    "colab": {
     "base_uri": "https://localhost:8080/"
    },
    "executionInfo": {
     "elapsed": 523,
     "status": "ok",
     "timestamp": 1634200474485,
     "user": {
      "displayName": "서정동",
      "photoUrl": "https://lh3.googleusercontent.com/a/default-user=s64",
      "userId": "09574773154017110695"
     },
     "user_tz": -540
    },
    "id": "AHhv_4NDzfX6",
    "outputId": "54dc6961-7b6e-4f81-91f1-d7c9cee6c94f"
   },
   "outputs": [
    {
     "name": "stdout",
     "output_type": "stream",
     "text": [
      "(1, 2)\n",
      "[[1.9870435e-05 9.9998009e-01]]\n"
     ]
    }
   ],
   "source": [
    "# 성별모델에서 테스트 데이터 확인\n",
    "print(gender_model2.predict(test_images[0:1]).shape)\n",
    "print(gender_model2.predict(test_images[0:1]))"
   ]
  },
  {
   "cell_type": "code",
   "execution_count": 180,
   "metadata": {
    "colab": {
     "base_uri": "https://localhost:8080/"
    },
    "executionInfo": {
     "elapsed": 324,
     "status": "ok",
     "timestamp": 1634200564328,
     "user": {
      "displayName": "서정동",
      "photoUrl": "https://lh3.googleusercontent.com/a/default-user=s64",
      "userId": "09574773154017110695"
     },
     "user_tz": -540
    },
    "id": "Na-wCYmA8GaC",
    "outputId": "2ae23cae-a20b-46d5-ed6f-bce41de44f41"
   },
   "outputs": [
    {
     "data": {
      "text/plain": [
       "1"
      ]
     },
     "execution_count": 180,
     "metadata": {},
     "output_type": "execute_result"
    }
   ],
   "source": [
    "x=gender_model2.predict(test_images[0:1])\n",
    "x.argmax()      # 0: 여 / 0: 남"
   ]
  },
  {
   "cell_type": "markdown",
   "metadata": {
    "id": "agZArRLlzfX6"
   },
   "source": [
    "### 문제 37. 뒷단을 수정하여 smile 모델을 분리해보세요."
   ]
  },
  {
   "cell_type": "code",
   "execution_count": 175,
   "metadata": {
    "colab": {
     "base_uri": "https://localhost:8080/"
    },
    "executionInfo": {
     "elapsed": 548,
     "status": "ok",
     "timestamp": 1634200363040,
     "user": {
      "displayName": "서정동",
      "photoUrl": "https://lh3.googleusercontent.com/a/default-user=s64",
      "userId": "09574773154017110695"
     },
     "user_tz": -540
    },
    "id": "teSP_OdezfX7",
    "outputId": "1b5425a5-a38e-4c86-c26e-fda3e1db9596"
   },
   "outputs": [
    {
     "name": "stdout",
     "output_type": "stream",
     "text": [
      "Model: \"model_14\"\n",
      "_________________________________________________________________\n",
      "Layer (type)                 Output Shape              Param #   \n",
      "=================================================================\n",
      "input_13 (InputLayer)        [(None, 72, 59, 3)]       0         \n",
      "_________________________________________________________________\n",
      "conv2d_36 (Conv2D)           (None, 70, 57, 32)        896       \n",
      "_________________________________________________________________\n",
      "max_pooling2d_36 (MaxPooling (None, 35, 28, 32)        0         \n",
      "_________________________________________________________________\n",
      "conv2d_37 (Conv2D)           (None, 33, 26, 64)        18496     \n",
      "_________________________________________________________________\n",
      "max_pooling2d_37 (MaxPooling (None, 16, 13, 64)        0         \n",
      "_________________________________________________________________\n",
      "conv2d_38 (Conv2D)           (None, 14, 11, 64)        36928     \n",
      "_________________________________________________________________\n",
      "max_pooling2d_38 (MaxPooling (None, 7, 5, 64)          0         \n",
      "_________________________________________________________________\n",
      "flatten_12 (Flatten)         (None, 2240)              0         \n",
      "_________________________________________________________________\n",
      "dense_28 (Dense)             (None, 64)                143424    \n",
      "_________________________________________________________________\n",
      "dense_30 (Dense)             (None, 2)                 130       \n",
      "=================================================================\n",
      "Total params: 199,874\n",
      "Trainable params: 199,874\n",
      "Non-trainable params: 0\n",
      "_________________________________________________________________\n"
     ]
    }
   ],
   "source": [
    "# model의 뒷단을 수정하여 smile 모델을 분리하고 정보를 확인하는 코드를 작성하세요.\n",
    "smile_model2=Model(inputs=model2.input, outputs=model2.get_layer('dense_30').output)\n",
    "smile_model2.summary()"
   ]
  },
  {
   "cell_type": "markdown",
   "metadata": {
    "id": "JtnyEsMJzfX7"
   },
   "source": [
    "### 문제 38. 스마일 모델에서 테스트 데이터 확인"
   ]
  },
  {
   "cell_type": "code",
   "execution_count": 185,
   "metadata": {
    "colab": {
     "base_uri": "https://localhost:8080/"
    },
    "executionInfo": {
     "elapsed": 323,
     "status": "ok",
     "timestamp": 1634200705370,
     "user": {
      "displayName": "서정동",
      "photoUrl": "https://lh3.googleusercontent.com/a/default-user=s64",
      "userId": "09574773154017110695"
     },
     "user_tz": -540
    },
    "id": "g_n7kPKVzfX7",
    "outputId": "76b2daf0-ada8-460f-9ee0-87bed5e96aa3"
   },
   "outputs": [
    {
     "data": {
      "text/plain": [
       "0"
      ]
     },
     "execution_count": 185,
     "metadata": {},
     "output_type": "execute_result"
    }
   ],
   "source": [
    "# 스마일 모델에서 테스트 데이터 확인\n",
    "\n",
    "y=smile_model2.predict(test_images[1:2])\n",
    "y.argmax()    # 0: 웃지 않음 / 1: 웃고 있음"
   ]
  },
  {
   "cell_type": "markdown",
   "metadata": {
    "id": "TQqVbazVzfX7"
   },
   "source": [
    "## Step 9. 통합 모델 저장 및 로드, 다운"
   ]
  },
  {
   "cell_type": "markdown",
   "metadata": {
    "id": "o1xMDORMzfX7"
   },
   "source": [
    "### 문제 39. 모델을 저장하세요."
   ]
  },
  {
   "cell_type": "code",
   "execution_count": 186,
   "metadata": {
    "executionInfo": {
     "elapsed": 331,
     "status": "ok",
     "timestamp": 1634200811098,
     "user": {
      "displayName": "서정동",
      "photoUrl": "https://lh3.googleusercontent.com/a/default-user=s64",
      "userId": "09574773154017110695"
     },
     "user_tz": -540
    },
    "id": "8SHvKArNzfX8"
   },
   "outputs": [],
   "source": [
    "# 모델을 저장하는 코드를 작성하세요.\n",
    "model2.save('/content/model_multi01.h5')"
   ]
  },
  {
   "cell_type": "code",
   "execution_count": 187,
   "metadata": {
    "colab": {
     "base_uri": "https://localhost:8080/"
    },
    "executionInfo": {
     "elapsed": 552,
     "status": "ok",
     "timestamp": 1634200837135,
     "user": {
      "displayName": "서정동",
      "photoUrl": "https://lh3.googleusercontent.com/a/default-user=s64",
      "userId": "09574773154017110695"
     },
     "user_tz": -540
    },
    "id": "v-hN4py69XDd",
    "outputId": "8376a545-8975-4758-fe73-86df466dd941"
   },
   "outputs": [
    {
     "name": "stdout",
     "output_type": "stream",
     "text": [
      "total 172320\n",
      "drwxr-xr-x 1 root root      4096 Oct 14 08:40 .\n",
      "drwxr-xr-x 1 root root      4096 Oct 14 04:58 ..\n",
      "-rw-r--r-- 1 root root 173961605 Oct 14 05:07 celeba_small.npz\n",
      "drwxr-xr-x 4 root root      4096 Oct  8 13:44 .config\n",
      "drwx------ 6 root root      4096 Oct 14 05:04 drive\n",
      "-rw-r--r-- 1 root root   2461944 Oct 14 08:40 model_multi01.h5\n",
      "drwxr-xr-x 1 root root      4096 Oct  8 13:45 sample_data\n"
     ]
    }
   ],
   "source": [
    "!ls -al /content"
   ]
  },
  {
   "cell_type": "markdown",
   "metadata": {
    "id": "CaDQG8wwzfX8"
   },
   "source": [
    "### 문제 40. 모델 파일을 새로운 모델에 로드하세요."
   ]
  },
  {
   "cell_type": "code",
   "execution_count": 188,
   "metadata": {
    "executionInfo": {
     "elapsed": 479,
     "status": "ok",
     "timestamp": 1634200919886,
     "user": {
      "displayName": "서정동",
      "photoUrl": "https://lh3.googleusercontent.com/a/default-user=s64",
      "userId": "09574773154017110695"
     },
     "user_tz": -540
    },
    "id": "WjgDiXdPzfX8"
   },
   "outputs": [],
   "source": [
    "# 모델을 로드하는 코드를 작성하세요.\n",
    "model3=tf.keras.models.load_model('/content/model_multi01.h5')"
   ]
  },
  {
   "cell_type": "code",
   "execution_count": 189,
   "metadata": {
    "colab": {
     "base_uri": "https://localhost:8080/"
    },
    "executionInfo": {
     "elapsed": 2,
     "status": "ok",
     "timestamp": 1634200932257,
     "user": {
      "displayName": "서정동",
      "photoUrl": "https://lh3.googleusercontent.com/a/default-user=s64",
      "userId": "09574773154017110695"
     },
     "user_tz": -540
    },
    "id": "qRKwnydO9xup",
    "outputId": "a878dbce-b753-487b-c29e-9dccfb5b1f04"
   },
   "outputs": [
    {
     "name": "stdout",
     "output_type": "stream",
     "text": [
      "Model: \"model_12\"\n",
      "__________________________________________________________________________________________________\n",
      "Layer (type)                    Output Shape         Param #     Connected to                     \n",
      "==================================================================================================\n",
      "input_13 (InputLayer)           [(None, 72, 59, 3)]  0                                            \n",
      "__________________________________________________________________________________________________\n",
      "conv2d_36 (Conv2D)              (None, 70, 57, 32)   896         input_13[0][0]                   \n",
      "__________________________________________________________________________________________________\n",
      "max_pooling2d_36 (MaxPooling2D) (None, 35, 28, 32)   0           conv2d_36[0][0]                  \n",
      "__________________________________________________________________________________________________\n",
      "conv2d_37 (Conv2D)              (None, 33, 26, 64)   18496       max_pooling2d_36[0][0]           \n",
      "__________________________________________________________________________________________________\n",
      "max_pooling2d_37 (MaxPooling2D) (None, 16, 13, 64)   0           conv2d_37[0][0]                  \n",
      "__________________________________________________________________________________________________\n",
      "conv2d_38 (Conv2D)              (None, 14, 11, 64)   36928       max_pooling2d_37[0][0]           \n",
      "__________________________________________________________________________________________________\n",
      "max_pooling2d_38 (MaxPooling2D) (None, 7, 5, 64)     0           conv2d_38[0][0]                  \n",
      "__________________________________________________________________________________________________\n",
      "flatten_12 (Flatten)            (None, 2240)         0           max_pooling2d_38[0][0]           \n",
      "__________________________________________________________________________________________________\n",
      "dense_28 (Dense)                (None, 64)           143424      flatten_12[0][0]                 \n",
      "__________________________________________________________________________________________________\n",
      "dense_29 (Dense)                (None, 2)            130         dense_28[0][0]                   \n",
      "__________________________________________________________________________________________________\n",
      "dense_30 (Dense)                (None, 2)            130         dense_28[0][0]                   \n",
      "==================================================================================================\n",
      "Total params: 200,004\n",
      "Trainable params: 200,004\n",
      "Non-trainable params: 0\n",
      "__________________________________________________________________________________________________\n"
     ]
    }
   ],
   "source": [
    "model3.summary()"
   ]
  },
  {
   "cell_type": "code",
   "execution_count": 191,
   "metadata": {
    "colab": {
     "base_uri": "https://localhost:8080/"
    },
    "executionInfo": {
     "elapsed": 405,
     "status": "ok",
     "timestamp": 1634201047271,
     "user": {
      "displayName": "서정동",
      "photoUrl": "https://lh3.googleusercontent.com/a/default-user=s64",
      "userId": "09574773154017110695"
     },
     "user_tz": -540
    },
    "id": "6RIqBUp--Dls",
    "outputId": "42f20eeb-eb9b-4cfd-a2fe-662dc8c47610"
   },
   "outputs": [
    {
     "data": {
      "text/plain": [
       "array([ 0.11417571, -0.04044961,  0.14182894,  0.1331486 ,  0.10592645,\n",
       "       -0.00313284, -0.05628351,  0.12527636, -0.10732946,  0.17802864,\n",
       "        0.06804366, -0.08768906, -0.08779104, -0.0288209 , -0.10826039,\n",
       "       -0.10900641, -0.12078333, -0.05244548,  0.01780587, -0.11304259,\n",
       "        0.21320364,  0.11773974,  0.00825786,  0.05309737,  0.07473921,\n",
       "       -0.06843573,  0.10338061,  0.12825245,  0.17700277, -0.09259161,\n",
       "       -0.18273526,  0.00358448], dtype=float32)"
      ]
     },
     "execution_count": 191,
     "metadata": {},
     "output_type": "execute_result"
    }
   ],
   "source": [
    "model3.get_weights()[0][0][0][0]"
   ]
  },
  {
   "cell_type": "markdown",
   "metadata": {
    "id": "RxNAgeE-zfX8"
   },
   "source": [
    "### 문제 41. 로드한 모델을 test 데이터로 평가해보세요.\n"
   ]
  },
  {
   "cell_type": "code",
   "execution_count": 192,
   "metadata": {
    "colab": {
     "base_uri": "https://localhost:8080/"
    },
    "executionInfo": {
     "elapsed": 527,
     "status": "ok",
     "timestamp": 1634201204746,
     "user": {
      "displayName": "서정동",
      "photoUrl": "https://lh3.googleusercontent.com/a/default-user=s64",
      "userId": "09574773154017110695"
     },
     "user_tz": -540
    },
    "id": "wBerZi7HzfX8",
    "outputId": "e79709c9-2fad-47c5-f15a-85e6a8466081"
   },
   "outputs": [
    {
     "name": "stdout",
     "output_type": "stream",
     "text": [
      "7/7 [==============================] - 0s 4ms/step - loss: 0.6488 - dense_29_loss: 0.3684 - dense_30_loss: 0.2804 - dense_29_accuracy: 0.9250 - dense_30_accuracy: 0.8900\n"
     ]
    },
    {
     "data": {
      "text/plain": [
       "[0.648834764957428,\n",
       " 0.368427574634552,\n",
       " 0.28040722012519836,\n",
       " 0.925000011920929,\n",
       " 0.8899999856948853]"
      ]
     },
     "execution_count": 192,
     "metadata": {},
     "output_type": "execute_result"
    }
   ],
   "source": [
    "# 로드한 모델을 test 데이터로 평가해보세요.\n",
    "model3.evaluate(test_images, [test_male_labels, test_smile_labels])"
   ]
  },
  {
   "cell_type": "markdown",
   "metadata": {
    "id": "5Cn2goDdzfX8"
   },
   "source": [
    "### 문제 42. 모델을 내 컴퓨터에 저장해보세요"
   ]
  },
  {
   "cell_type": "code",
   "execution_count": 193,
   "metadata": {
    "colab": {
     "base_uri": "https://localhost:8080/",
     "height": 17
    },
    "executionInfo": {
     "elapsed": 538,
     "status": "ok",
     "timestamp": 1634201341015,
     "user": {
      "displayName": "서정동",
      "photoUrl": "https://lh3.googleusercontent.com/a/default-user=s64",
      "userId": "09574773154017110695"
     },
     "user_tz": -540
    },
    "id": "JJVvgXCZzfX8",
    "outputId": "522b4085-b2c8-4064-d58f-8a4e34f2c1f0"
   },
   "outputs": [
    {
     "data": {
      "application/javascript": [
       "\n",
       "    async function download(id, filename, size) {\n",
       "      if (!google.colab.kernel.accessAllowed) {\n",
       "        return;\n",
       "      }\n",
       "      const div = document.createElement('div');\n",
       "      const label = document.createElement('label');\n",
       "      label.textContent = `Downloading \"${filename}\": `;\n",
       "      div.appendChild(label);\n",
       "      const progress = document.createElement('progress');\n",
       "      progress.max = size;\n",
       "      div.appendChild(progress);\n",
       "      document.body.appendChild(div);\n",
       "\n",
       "      const buffers = [];\n",
       "      let downloaded = 0;\n",
       "\n",
       "      const channel = await google.colab.kernel.comms.open(id);\n",
       "      // Send a message to notify the kernel that we're ready.\n",
       "      channel.send({})\n",
       "\n",
       "      for await (const message of channel.messages) {\n",
       "        // Send a message to notify the kernel that we're ready.\n",
       "        channel.send({})\n",
       "        if (message.buffers) {\n",
       "          for (const buffer of message.buffers) {\n",
       "            buffers.push(buffer);\n",
       "            downloaded += buffer.byteLength;\n",
       "            progress.value = downloaded;\n",
       "          }\n",
       "        }\n",
       "      }\n",
       "      const blob = new Blob(buffers, {type: 'application/binary'});\n",
       "      const a = document.createElement('a');\n",
       "      a.href = window.URL.createObjectURL(blob);\n",
       "      a.download = filename;\n",
       "      div.appendChild(a);\n",
       "      a.click();\n",
       "      div.remove();\n",
       "    }\n",
       "  "
      ],
      "text/plain": [
       "<IPython.core.display.Javascript object>"
      ]
     },
     "metadata": {},
     "output_type": "display_data"
    },
    {
     "data": {
      "application/javascript": [
       "download(\"download_9ef7dac7-81ec-4a08-b4f5-89ed158cb521\", \"model_multi01.h5\", 2461944)"
      ],
      "text/plain": [
       "<IPython.core.display.Javascript object>"
      ]
     },
     "metadata": {},
     "output_type": "display_data"
    }
   ],
   "source": [
    "# 모델을 내 컴퓨터에 저장해보세요.\n",
    "from google.colab import files\n",
    "files.download('/content/model_multi01.h5')   # 내컴퓨터 다운로드 폴더에 저장"
   ]
  },
  {
   "cell_type": "code",
   "execution_count": null,
   "metadata": {
    "id": "k3y7lP30J6f1"
   },
   "outputs": [],
   "source": []
  }
 ],
 "metadata": {
  "accelerator": "GPU",
  "colab": {
   "collapsed_sections": [],
   "name": "[배포]Part1_Ch02_멀티모델 분류 - 인물 사진에서 성별과 표정 분석하기.ipynb",
   "provenance": [
    {
     "file_id": "1Io5tORQ26KAQRzEp0TG_cW06eYzEEj0r",
     "timestamp": 1608127785667
    },
    {
     "file_id": "1Hm44wAIpivC27nk4f6DG9oRUjlUMt-cI",
     "timestamp": 1605330830344
    },
    {
     "file_id": "1OevQ5s8yBDddaUMZX1rfZZYrnTT52RAO",
     "timestamp": 1605252106489
    }
   ]
  },
  "kernelspec": {
   "display_name": "Python 3",
   "language": "python",
   "name": "python3"
  },
  "language_info": {
   "codemirror_mode": {
    "name": "ipython",
    "version": 3
   },
   "file_extension": ".py",
   "mimetype": "text/x-python",
   "name": "python",
   "nbconvert_exporter": "python",
   "pygments_lexer": "ipython3",
   "version": "3.8.10"
  },
  "widgets": {
   "application/vnd.jupyter.widget-state+json": {
    "062396390df8409596aa2fef845e65c1": {
     "model_module": "@jupyter-widgets/controls",
     "model_module_version": "1.5.0",
     "model_name": "DescriptionStyleModel",
     "state": {
      "_model_module": "@jupyter-widgets/controls",
      "_model_module_version": "1.5.0",
      "_model_name": "DescriptionStyleModel",
      "_view_count": null,
      "_view_module": "@jupyter-widgets/base",
      "_view_module_version": "1.2.0",
      "_view_name": "StyleView",
      "description_width": ""
     }
    },
    "064b48ff3d9544769a28ebaa9e72f215": {
     "model_module": "@jupyter-widgets/base",
     "model_module_version": "1.2.0",
     "model_name": "LayoutModel",
     "state": {
      "_model_module": "@jupyter-widgets/base",
      "_model_module_version": "1.2.0",
      "_model_name": "LayoutModel",
      "_view_count": null,
      "_view_module": "@jupyter-widgets/base",
      "_view_module_version": "1.2.0",
      "_view_name": "LayoutView",
      "align_content": null,
      "align_items": null,
      "align_self": null,
      "border": null,
      "bottom": null,
      "display": null,
      "flex": null,
      "flex_flow": null,
      "grid_area": null,
      "grid_auto_columns": null,
      "grid_auto_flow": null,
      "grid_auto_rows": null,
      "grid_column": null,
      "grid_gap": null,
      "grid_row": null,
      "grid_template_areas": null,
      "grid_template_columns": null,
      "grid_template_rows": null,
      "height": null,
      "justify_content": null,
      "justify_items": null,
      "left": null,
      "margin": null,
      "max_height": null,
      "max_width": null,
      "min_height": null,
      "min_width": null,
      "object_fit": null,
      "object_position": null,
      "order": null,
      "overflow": null,
      "overflow_x": null,
      "overflow_y": null,
      "padding": null,
      "right": null,
      "top": null,
      "visibility": null,
      "width": "20px"
     }
    },
    "10ae754329b64e53b369ace1b8485719": {
     "model_module": "@jupyter-widgets/base",
     "model_module_version": "1.2.0",
     "model_name": "LayoutModel",
     "state": {
      "_model_module": "@jupyter-widgets/base",
      "_model_module_version": "1.2.0",
      "_model_name": "LayoutModel",
      "_view_count": null,
      "_view_module": "@jupyter-widgets/base",
      "_view_module_version": "1.2.0",
      "_view_name": "LayoutView",
      "align_content": null,
      "align_items": null,
      "align_self": null,
      "border": null,
      "bottom": null,
      "display": null,
      "flex": null,
      "flex_flow": null,
      "grid_area": null,
      "grid_auto_columns": null,
      "grid_auto_flow": null,
      "grid_auto_rows": null,
      "grid_column": null,
      "grid_gap": null,
      "grid_row": null,
      "grid_template_areas": null,
      "grid_template_columns": null,
      "grid_template_rows": null,
      "height": null,
      "justify_content": null,
      "justify_items": null,
      "left": null,
      "margin": null,
      "max_height": null,
      "max_width": null,
      "min_height": null,
      "min_width": null,
      "object_fit": null,
      "object_position": null,
      "order": null,
      "overflow": null,
      "overflow_x": null,
      "overflow_y": null,
      "padding": null,
      "right": null,
      "top": null,
      "visibility": null,
      "width": "20px"
     }
    },
    "277b5e1e12e4455dbc9a66444ef741b5": {
     "model_module": "@jupyter-widgets/controls",
     "model_module_version": "1.5.0",
     "model_name": "HTMLModel",
     "state": {
      "_dom_classes": [],
      "_model_module": "@jupyter-widgets/controls",
      "_model_module_version": "1.5.0",
      "_model_name": "HTMLModel",
      "_view_count": null,
      "_view_module": "@jupyter-widgets/controls",
      "_view_module_version": "1.5.0",
      "_view_name": "HTMLView",
      "description": "",
      "description_tooltip": null,
      "layout": "IPY_MODEL_b5199584aeca46a2b487f0ae559b06df",
      "placeholder": "​",
      "style": "IPY_MODEL_5b417263e50b483194245fe26e0a4cfa",
      "value": "Dl Size...: "
     }
    },
    "34c51f10860646199c8129448f4f9202": {
     "model_module": "@jupyter-widgets/controls",
     "model_module_version": "1.5.0",
     "model_name": "HBoxModel",
     "state": {
      "_dom_classes": [],
      "_model_module": "@jupyter-widgets/controls",
      "_model_module_version": "1.5.0",
      "_model_name": "HBoxModel",
      "_view_count": null,
      "_view_module": "@jupyter-widgets/controls",
      "_view_module_version": "1.5.0",
      "_view_name": "HBoxView",
      "box_style": "",
      "children": [
       "IPY_MODEL_407eb6041b2f47488e97133048add863",
       "IPY_MODEL_fefba3afe3df407fab5ba3a35dfd3850",
       "IPY_MODEL_94481629606c4c96a447e7fa3f24b0f6"
      ],
      "layout": "IPY_MODEL_7ef9658a30db4372a77582c34d0bf13c"
     }
    },
    "3baf9be993424f1b81e2c85cbcd8ac85": {
     "model_module": "@jupyter-widgets/base",
     "model_module_version": "1.2.0",
     "model_name": "LayoutModel",
     "state": {
      "_model_module": "@jupyter-widgets/base",
      "_model_module_version": "1.2.0",
      "_model_name": "LayoutModel",
      "_view_count": null,
      "_view_module": "@jupyter-widgets/base",
      "_view_module_version": "1.2.0",
      "_view_name": "LayoutView",
      "align_content": null,
      "align_items": null,
      "align_self": null,
      "border": null,
      "bottom": null,
      "display": null,
      "flex": null,
      "flex_flow": null,
      "grid_area": null,
      "grid_auto_columns": null,
      "grid_auto_flow": null,
      "grid_auto_rows": null,
      "grid_column": null,
      "grid_gap": null,
      "grid_row": null,
      "grid_template_areas": null,
      "grid_template_columns": null,
      "grid_template_rows": null,
      "height": null,
      "justify_content": null,
      "justify_items": null,
      "left": null,
      "margin": null,
      "max_height": null,
      "max_width": null,
      "min_height": null,
      "min_width": null,
      "object_fit": null,
      "object_position": null,
      "order": null,
      "overflow": null,
      "overflow_x": null,
      "overflow_y": null,
      "padding": null,
      "right": null,
      "top": null,
      "visibility": null,
      "width": null
     }
    },
    "407eb6041b2f47488e97133048add863": {
     "model_module": "@jupyter-widgets/controls",
     "model_module_version": "1.5.0",
     "model_name": "HTMLModel",
     "state": {
      "_dom_classes": [],
      "_model_module": "@jupyter-widgets/controls",
      "_model_module_version": "1.5.0",
      "_model_name": "HTMLModel",
      "_view_count": null,
      "_view_module": "@jupyter-widgets/controls",
      "_view_module_version": "1.5.0",
      "_view_name": "HTMLView",
      "description": "",
      "description_tooltip": null,
      "layout": "IPY_MODEL_b8f1ca18a5474f0db0e8cd9d60b6fc72",
      "placeholder": "​",
      "style": "IPY_MODEL_625457ec27d948369287beabb3607758",
      "value": "Dl Completed...: 100%"
     }
    },
    "409cde2342104b459477e499308b7c2a": {
     "model_module": "@jupyter-widgets/controls",
     "model_module_version": "1.5.0",
     "model_name": "ProgressStyleModel",
     "state": {
      "_model_module": "@jupyter-widgets/controls",
      "_model_module_version": "1.5.0",
      "_model_name": "ProgressStyleModel",
      "_view_count": null,
      "_view_module": "@jupyter-widgets/base",
      "_view_module_version": "1.2.0",
      "_view_name": "StyleView",
      "bar_color": null,
      "description_width": ""
     }
    },
    "4a18ce7841e24ed790a1c61c73128802": {
     "model_module": "@jupyter-widgets/controls",
     "model_module_version": "1.5.0",
     "model_name": "FloatProgressModel",
     "state": {
      "_dom_classes": [],
      "_model_module": "@jupyter-widgets/controls",
      "_model_module_version": "1.5.0",
      "_model_name": "FloatProgressModel",
      "_view_count": null,
      "_view_module": "@jupyter-widgets/controls",
      "_view_module_version": "1.5.0",
      "_view_name": "ProgressView",
      "bar_style": "success",
      "description": "",
      "description_tooltip": null,
      "layout": "IPY_MODEL_064b48ff3d9544769a28ebaa9e72f215",
      "max": 1,
      "min": 0,
      "orientation": "horizontal",
      "style": "IPY_MODEL_409cde2342104b459477e499308b7c2a",
      "value": 0
     }
    },
    "5b417263e50b483194245fe26e0a4cfa": {
     "model_module": "@jupyter-widgets/controls",
     "model_module_version": "1.5.0",
     "model_name": "DescriptionStyleModel",
     "state": {
      "_model_module": "@jupyter-widgets/controls",
      "_model_module_version": "1.5.0",
      "_model_name": "DescriptionStyleModel",
      "_view_count": null,
      "_view_module": "@jupyter-widgets/base",
      "_view_module_version": "1.2.0",
      "_view_name": "StyleView",
      "description_width": ""
     }
    },
    "621e1f00c6874569b54c806d7e6413f1": {
     "model_module": "@jupyter-widgets/base",
     "model_module_version": "1.2.0",
     "model_name": "LayoutModel",
     "state": {
      "_model_module": "@jupyter-widgets/base",
      "_model_module_version": "1.2.0",
      "_model_name": "LayoutModel",
      "_view_count": null,
      "_view_module": "@jupyter-widgets/base",
      "_view_module_version": "1.2.0",
      "_view_name": "LayoutView",
      "align_content": null,
      "align_items": null,
      "align_self": null,
      "border": null,
      "bottom": null,
      "display": null,
      "flex": null,
      "flex_flow": null,
      "grid_area": null,
      "grid_auto_columns": null,
      "grid_auto_flow": null,
      "grid_auto_rows": null,
      "grid_column": null,
      "grid_gap": null,
      "grid_row": null,
      "grid_template_areas": null,
      "grid_template_columns": null,
      "grid_template_rows": null,
      "height": null,
      "justify_content": null,
      "justify_items": null,
      "left": null,
      "margin": null,
      "max_height": null,
      "max_width": null,
      "min_height": null,
      "min_width": null,
      "object_fit": null,
      "object_position": null,
      "order": null,
      "overflow": null,
      "overflow_x": null,
      "overflow_y": null,
      "padding": null,
      "right": null,
      "top": null,
      "visibility": null,
      "width": null
     }
    },
    "625457ec27d948369287beabb3607758": {
     "model_module": "@jupyter-widgets/controls",
     "model_module_version": "1.5.0",
     "model_name": "DescriptionStyleModel",
     "state": {
      "_model_module": "@jupyter-widgets/controls",
      "_model_module_version": "1.5.0",
      "_model_name": "DescriptionStyleModel",
      "_view_count": null,
      "_view_module": "@jupyter-widgets/base",
      "_view_module_version": "1.2.0",
      "_view_name": "StyleView",
      "description_width": ""
     }
    },
    "7ef9658a30db4372a77582c34d0bf13c": {
     "model_module": "@jupyter-widgets/base",
     "model_module_version": "1.2.0",
     "model_name": "LayoutModel",
     "state": {
      "_model_module": "@jupyter-widgets/base",
      "_model_module_version": "1.2.0",
      "_model_name": "LayoutModel",
      "_view_count": null,
      "_view_module": "@jupyter-widgets/base",
      "_view_module_version": "1.2.0",
      "_view_name": "LayoutView",
      "align_content": null,
      "align_items": null,
      "align_self": null,
      "border": null,
      "bottom": null,
      "display": null,
      "flex": null,
      "flex_flow": null,
      "grid_area": null,
      "grid_auto_columns": null,
      "grid_auto_flow": null,
      "grid_auto_rows": null,
      "grid_column": null,
      "grid_gap": null,
      "grid_row": null,
      "grid_template_areas": null,
      "grid_template_columns": null,
      "grid_template_rows": null,
      "height": null,
      "justify_content": null,
      "justify_items": null,
      "left": null,
      "margin": null,
      "max_height": null,
      "max_width": null,
      "min_height": null,
      "min_width": null,
      "object_fit": null,
      "object_position": null,
      "order": null,
      "overflow": null,
      "overflow_x": null,
      "overflow_y": null,
      "padding": null,
      "right": null,
      "top": null,
      "visibility": null,
      "width": null
     }
    },
    "8458e0de0e4c4a3da2c487b4ca9306b1": {
     "model_module": "@jupyter-widgets/controls",
     "model_module_version": "1.5.0",
     "model_name": "DescriptionStyleModel",
     "state": {
      "_model_module": "@jupyter-widgets/controls",
      "_model_module_version": "1.5.0",
      "_model_name": "DescriptionStyleModel",
      "_view_count": null,
      "_view_module": "@jupyter-widgets/base",
      "_view_module_version": "1.2.0",
      "_view_name": "StyleView",
      "description_width": ""
     }
    },
    "94481629606c4c96a447e7fa3f24b0f6": {
     "model_module": "@jupyter-widgets/controls",
     "model_module_version": "1.5.0",
     "model_name": "HTMLModel",
     "state": {
      "_dom_classes": [],
      "_model_module": "@jupyter-widgets/controls",
      "_model_module_version": "1.5.0",
      "_model_name": "HTMLModel",
      "_view_count": null,
      "_view_module": "@jupyter-widgets/controls",
      "_view_module_version": "1.5.0",
      "_view_name": "HTMLView",
      "description": "",
      "description_tooltip": null,
      "layout": "IPY_MODEL_9ad79178e6024de49c83dbdfef2db412",
      "placeholder": "​",
      "style": "IPY_MODEL_8458e0de0e4c4a3da2c487b4ca9306b1",
      "value": " 4/4 [00:00&lt;00:00,  5.94 url/s]"
     }
    },
    "9ad79178e6024de49c83dbdfef2db412": {
     "model_module": "@jupyter-widgets/base",
     "model_module_version": "1.2.0",
     "model_name": "LayoutModel",
     "state": {
      "_model_module": "@jupyter-widgets/base",
      "_model_module_version": "1.2.0",
      "_model_name": "LayoutModel",
      "_view_count": null,
      "_view_module": "@jupyter-widgets/base",
      "_view_module_version": "1.2.0",
      "_view_name": "LayoutView",
      "align_content": null,
      "align_items": null,
      "align_self": null,
      "border": null,
      "bottom": null,
      "display": null,
      "flex": null,
      "flex_flow": null,
      "grid_area": null,
      "grid_auto_columns": null,
      "grid_auto_flow": null,
      "grid_auto_rows": null,
      "grid_column": null,
      "grid_gap": null,
      "grid_row": null,
      "grid_template_areas": null,
      "grid_template_columns": null,
      "grid_template_rows": null,
      "height": null,
      "justify_content": null,
      "justify_items": null,
      "left": null,
      "margin": null,
      "max_height": null,
      "max_width": null,
      "min_height": null,
      "min_width": null,
      "object_fit": null,
      "object_position": null,
      "order": null,
      "overflow": null,
      "overflow_x": null,
      "overflow_y": null,
      "padding": null,
      "right": null,
      "top": null,
      "visibility": null,
      "width": null
     }
    },
    "b5199584aeca46a2b487f0ae559b06df": {
     "model_module": "@jupyter-widgets/base",
     "model_module_version": "1.2.0",
     "model_name": "LayoutModel",
     "state": {
      "_model_module": "@jupyter-widgets/base",
      "_model_module_version": "1.2.0",
      "_model_name": "LayoutModel",
      "_view_count": null,
      "_view_module": "@jupyter-widgets/base",
      "_view_module_version": "1.2.0",
      "_view_name": "LayoutView",
      "align_content": null,
      "align_items": null,
      "align_self": null,
      "border": null,
      "bottom": null,
      "display": null,
      "flex": null,
      "flex_flow": null,
      "grid_area": null,
      "grid_auto_columns": null,
      "grid_auto_flow": null,
      "grid_auto_rows": null,
      "grid_column": null,
      "grid_gap": null,
      "grid_row": null,
      "grid_template_areas": null,
      "grid_template_columns": null,
      "grid_template_rows": null,
      "height": null,
      "justify_content": null,
      "justify_items": null,
      "left": null,
      "margin": null,
      "max_height": null,
      "max_width": null,
      "min_height": null,
      "min_width": null,
      "object_fit": null,
      "object_position": null,
      "order": null,
      "overflow": null,
      "overflow_x": null,
      "overflow_y": null,
      "padding": null,
      "right": null,
      "top": null,
      "visibility": null,
      "width": null
     }
    },
    "b8f1ca18a5474f0db0e8cd9d60b6fc72": {
     "model_module": "@jupyter-widgets/base",
     "model_module_version": "1.2.0",
     "model_name": "LayoutModel",
     "state": {
      "_model_module": "@jupyter-widgets/base",
      "_model_module_version": "1.2.0",
      "_model_name": "LayoutModel",
      "_view_count": null,
      "_view_module": "@jupyter-widgets/base",
      "_view_module_version": "1.2.0",
      "_view_name": "LayoutView",
      "align_content": null,
      "align_items": null,
      "align_self": null,
      "border": null,
      "bottom": null,
      "display": null,
      "flex": null,
      "flex_flow": null,
      "grid_area": null,
      "grid_auto_columns": null,
      "grid_auto_flow": null,
      "grid_auto_rows": null,
      "grid_column": null,
      "grid_gap": null,
      "grid_row": null,
      "grid_template_areas": null,
      "grid_template_columns": null,
      "grid_template_rows": null,
      "height": null,
      "justify_content": null,
      "justify_items": null,
      "left": null,
      "margin": null,
      "max_height": null,
      "max_width": null,
      "min_height": null,
      "min_width": null,
      "object_fit": null,
      "object_position": null,
      "order": null,
      "overflow": null,
      "overflow_x": null,
      "overflow_y": null,
      "padding": null,
      "right": null,
      "top": null,
      "visibility": null,
      "width": null
     }
    },
    "c7a85623e0cd419ebb867a5c71af9ffc": {
     "model_module": "@jupyter-widgets/controls",
     "model_module_version": "1.5.0",
     "model_name": "HTMLModel",
     "state": {
      "_dom_classes": [],
      "_model_module": "@jupyter-widgets/controls",
      "_model_module_version": "1.5.0",
      "_model_name": "HTMLModel",
      "_view_count": null,
      "_view_module": "@jupyter-widgets/controls",
      "_view_module_version": "1.5.0",
      "_view_name": "HTMLView",
      "description": "",
      "description_tooltip": null,
      "layout": "IPY_MODEL_3baf9be993424f1b81e2c85cbcd8ac85",
      "placeholder": "​",
      "style": "IPY_MODEL_062396390df8409596aa2fef845e65c1",
      "value": " 0/0 [00:00&lt;?, ? MiB/s]"
     }
    },
    "d25441cf2b9e47d08d3b56707cb93519": {
     "model_module": "@jupyter-widgets/controls",
     "model_module_version": "1.5.0",
     "model_name": "ProgressStyleModel",
     "state": {
      "_model_module": "@jupyter-widgets/controls",
      "_model_module_version": "1.5.0",
      "_model_name": "ProgressStyleModel",
      "_view_count": null,
      "_view_module": "@jupyter-widgets/base",
      "_view_module_version": "1.2.0",
      "_view_name": "StyleView",
      "bar_color": null,
      "description_width": ""
     }
    },
    "fe2d9c34a87b4533a7f410505e67421b": {
     "model_module": "@jupyter-widgets/controls",
     "model_module_version": "1.5.0",
     "model_name": "HBoxModel",
     "state": {
      "_dom_classes": [],
      "_model_module": "@jupyter-widgets/controls",
      "_model_module_version": "1.5.0",
      "_model_name": "HBoxModel",
      "_view_count": null,
      "_view_module": "@jupyter-widgets/controls",
      "_view_module_version": "1.5.0",
      "_view_name": "HBoxView",
      "box_style": "",
      "children": [
       "IPY_MODEL_277b5e1e12e4455dbc9a66444ef741b5",
       "IPY_MODEL_4a18ce7841e24ed790a1c61c73128802",
       "IPY_MODEL_c7a85623e0cd419ebb867a5c71af9ffc"
      ],
      "layout": "IPY_MODEL_621e1f00c6874569b54c806d7e6413f1"
     }
    },
    "fefba3afe3df407fab5ba3a35dfd3850": {
     "model_module": "@jupyter-widgets/controls",
     "model_module_version": "1.5.0",
     "model_name": "FloatProgressModel",
     "state": {
      "_dom_classes": [],
      "_model_module": "@jupyter-widgets/controls",
      "_model_module_version": "1.5.0",
      "_model_name": "FloatProgressModel",
      "_view_count": null,
      "_view_module": "@jupyter-widgets/controls",
      "_view_module_version": "1.5.0",
      "_view_name": "ProgressView",
      "bar_style": "success",
      "description": "",
      "description_tooltip": null,
      "layout": "IPY_MODEL_10ae754329b64e53b369ace1b8485719",
      "max": 1,
      "min": 0,
      "orientation": "horizontal",
      "style": "IPY_MODEL_d25441cf2b9e47d08d3b56707cb93519",
      "value": 1
     }
    }
   }
  }
 },
 "nbformat": 4,
 "nbformat_minor": 1
}
