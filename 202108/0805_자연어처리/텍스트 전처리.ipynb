{
 "cells": [
  {
   "cell_type": "markdown",
   "id": "75bdb0f3",
   "metadata": {},
   "source": [
    "####  딥러닝을 위한 텍스트 전처리\n",
    ": 용도에 맞게 텍스트를 사전에 처리하는 작업\n",
    "\n",
    "\n",
    "- 토큰화(Tokenization)\n",
    "- 정제(Cleaning) and 정규화(Normalization)\n",
    "    - 정제(cleaning) : 갖고 있는 코퍼스로부터 노이즈 데이터를 제거\n",
    "    - 정규화(Normalization) : 표현 방법이 다른 단어들을 통합시켜서 같은 단어로 만듬\n",
    "- 표제어 추출(lemmatization)과 어간 추출(stemming)\n",
    "    - 어간(stem) : 단어의 의미를 담고 있는 단어의 핵심 부분\n",
    "    - 접사(affix) : 단어에 추가적인 의미를 주는 부분\n",
    "- 불용어(stopword)\n",
    "- 정규 표현식(Regular Expresiion)\n",
    "- 정수 인코딩(Integer Encoding): 텍스트를 숫자로 바꾸는 여러가지 기법(각 단어를 고유한 정수에 맵핑(mapping))\n",
    "- 패딩(Padding) : 병렬 연산을 위해서 여러 문장의 길이를 임의로 동일하게 맞춰주는 작업\n",
    "- 원-핫 인코딩(One-Hot Encoding) : 자연어 처리에서는 문자를 숫자로 바꾸는 여러가지 기법\n",
    "- 데이터의 분리(Splitting Data): 머신 러닝(딥러닝) 모델에 데이터를 훈련시키기 위해서 데이터를 적절히 분리하는 작업"
   ]
  },
  {
   "cell_type": "markdown",
   "id": "f6f2e961",
   "metadata": {},
   "source": [
    "### 영어 문장\n",
    "\n",
    "#### 토큰화(Tokenization)\n",
    "- 규칙 1. 하이픈으로 구성된 단어는 하나로 유지한다\n",
    "- 규칙 2. doesn't와 같이 어퍼스트로피로 '접어'가 함께하는 단어는 분리해준다"
   ]
  },
  {
   "cell_type": "code",
   "execution_count": 1,
   "id": "e0fc3bb6",
   "metadata": {},
   "outputs": [
    {
     "name": "stdout",
     "output_type": "stream",
     "text": [
      "['Starting', 'a', 'home-based', 'restaurant', 'may', 'be', 'an', 'ideal.', 'it', 'does', \"n't\", 'have', 'a', 'food', 'chain', 'or', 'restaurant', 'of', 'their', 'own', '.']\n"
     ]
    }
   ],
   "source": [
    "from nltk.tokenize import TreebankWordTokenizer\n",
    "\n",
    "tokenizer=TreebankWordTokenizer()\n",
    "text=\"Starting a home-based restaurant may be an ideal. it doesn't have a food chain or restaurant of their own.\"\n",
    "print(tokenizer.tokenize(text))\n"
   ]
  },
  {
   "cell_type": "markdown",
   "id": "adf9ebd7",
   "metadata": {},
   "source": [
    "#### 문장 토큰화"
   ]
  },
  {
   "cell_type": "code",
   "execution_count": 2,
   "id": "a382e066",
   "metadata": {},
   "outputs": [
    {
     "name": "stdout",
     "output_type": "stream",
     "text": [
      "['His barber kept his word.', 'But keeping such a huge secret to himself was driving him crazy.', 'Finally, the barber went up a mountain and almost to the edge of a cliff.', 'He dug a hole in the midst of some reeds.', 'He looked about, to make sure no one was near.']\n"
     ]
    }
   ],
   "source": [
    "from nltk.tokenize import sent_tokenize\n",
    "text=\"His barber kept his word. But keeping such a huge secret to himself was driving him crazy. Finally, the barber went up a mountain and almost to the edge of a cliff. He dug a hole in the midst of some reeds. He looked about, to make sure no one was near.\"\n",
    "print(sent_tokenize(text))\n"
   ]
  },
  {
   "cell_type": "code",
   "execution_count": 3,
   "id": "4c6abfbb",
   "metadata": {},
   "outputs": [
    {
     "name": "stdout",
     "output_type": "stream",
     "text": [
      "['I am actively looking for Ph.D. students.', 'and you are a Ph.D student.']\n"
     ]
    }
   ],
   "source": [
    "from nltk.tokenize import sent_tokenize\n",
    "text=\"I am actively looking for Ph.D. students. and you are a Ph.D student.\"\n",
    "print(sent_tokenize(text))\n"
   ]
  },
  {
   "cell_type": "markdown",
   "id": "57dfdce0",
   "metadata": {},
   "source": [
    "### 한글 문장 토큰화\n",
    "#### 한글 토큰화\n",
    "- konlpy 모듈 # https://iostream.tistory.com/144 성능비교\n",
    "\n",
    "    - Kkma, Hannannum, KOMORAN, mecab\n",
    "    - morphs : 형태소 추출/ pos : 품사 태킹(Part-of speech tagging) / nouns : 명사추출\n",
    "- ckonlpy.Twitter( konlpy는 아님 사전추가)\n"
   ]
  },
  {
   "cell_type": "code",
   "execution_count": 4,
   "id": "75b32a3a",
   "metadata": {},
   "outputs": [
    {
     "data": {
      "text/plain": [
       "[('딥', 'Noun'),\n",
       " ('러닝', 'Noun'),\n",
       " ('자연어', 'Noun'),\n",
       " ('처리', 'Noun'),\n",
       " ('가', 'Josa'),\n",
       " ('재미있기는', 'Adjective'),\n",
       " ('합니다', 'Verb'),\n",
       " ('.', 'Punctuation'),\n",
       " ('그런데', 'Conjunction'),\n",
       " ('문제', 'Noun'),\n",
       " ('는', 'Josa'),\n",
       " ('영어', 'Noun'),\n",
       " ('보다', 'Josa'),\n",
       " ('한국어', 'Noun'),\n",
       " ('로', 'Josa'),\n",
       " ('할', 'Verb'),\n",
       " ('때', 'Noun'),\n",
       " ('너무', 'Adverb'),\n",
       " ('어려워요', 'Adjective'),\n",
       " ('.', 'Punctuation'),\n",
       " ('농담', 'Noun'),\n",
       " ('아니에요', 'Adjective'),\n",
       " ('.', 'Punctuation'),\n",
       " ('이제', 'Noun'),\n",
       " ('해보면', 'Verb'),\n",
       " ('알걸', 'Noun'),\n",
       " ('요', 'Josa'),\n",
       " ('?', 'Punctuation')]"
      ]
     },
     "execution_count": 4,
     "metadata": {},
     "output_type": "execute_result"
    }
   ],
   "source": [
    "from konlpy.tag import Okt\n",
    "text = '딥 러닝 자연어 처리가 재미있기는 합니다. 그런데 문제는 영어보다 한국어로 할 때 너무 어려워요. 농담아니에요. 이제 해보면 알걸요?'\n",
    "\n",
    "okt = Okt()\n",
    "okt.pos(text)"
   ]
  },
  {
   "cell_type": "code",
   "execution_count": 9,
   "id": "a41430dc",
   "metadata": {},
   "outputs": [
    {
     "name": "stdout",
     "output_type": "stream",
     "text": [
      "['딥', '러닝', '자연어', '처리', '가', '재미있기는', '합니다', '.', '그런데', '문제', '는', '영어', '보다', '한국어', '로', '할', '때', '너무', '어려워요', '.', '농담', '아니에요', '.', '이제', '해보면', '알걸', '요', '?']\n",
      "\n",
      "[('딥', 'Noun'), ('러닝', 'Noun'), ('자연어', 'Noun'), ('처리', 'Noun'), ('가', 'Josa'), ('재미있기는', 'Adjective'), ('합니다', 'Verb'), ('.', 'Punctuation'), ('그런데', 'Conjunction'), ('문제', 'Noun'), ('는', 'Josa'), ('영어', 'Noun'), ('보다', 'Josa'), ('한국어', 'Noun'), ('로', 'Josa'), ('할', 'Verb'), ('때', 'Noun'), ('너무', 'Adverb'), ('어려워요', 'Adjective'), ('.', 'Punctuation'), ('농담', 'Noun'), ('아니에요', 'Adjective'), ('.', 'Punctuation'), ('이제', 'Noun'), ('해보면', 'Verb'), ('알걸', 'Noun'), ('요', 'Josa'), ('?', 'Punctuation')]\n",
      "\n",
      "['딥', '러닝', '자연어', '처리', '문제', '영어', '한국어', '때', '농담', '이제', '알걸']\n"
     ]
    }
   ],
   "source": [
    "print(okt.morphs(text))\n",
    "print()\n",
    "print(okt.pos(text))\n",
    "print()\n",
    "print(okt.nouns(text))"
   ]
  },
  {
   "cell_type": "code",
   "execution_count": 10,
   "id": "fe397250",
   "metadata": {},
   "outputs": [
    {
     "name": "stdout",
     "output_type": "stream",
     "text": [
      "Collecting kss\n",
      "  Downloading kss-2.5.1-py3-none-any.whl (65 kB)\n",
      "Installing collected packages: kss\n",
      "Successfully installed kss-2.5.1\n"
     ]
    }
   ],
   "source": [
    "#!pip install kss "
   ]
  },
  {
   "cell_type": "markdown",
   "id": "208251ac",
   "metadata": {},
   "source": [
    "### 한글 문장 단위로 보기\n",
    "\n",
    "#### KSS(Korean Sentence Splitter) : 한글 문장 토큰화 도구"
   ]
  },
  {
   "cell_type": "code",
   "execution_count": 11,
   "id": "5414114b",
   "metadata": {},
   "outputs": [
    {
     "name": "stdout",
     "output_type": "stream",
     "text": [
      "['딥 러닝 자연어 처리가 재미있기는 합니다.', '그런데 문제는 영어보다 한국어로 할 때 너무 어려워요.', '농담아니에요.', '이제 해보면 알걸요?']\n"
     ]
    }
   ],
   "source": [
    "import kss\n",
    "\n",
    "text='딥 러닝 자연어 처리가 재미있기는 합니다. 그런데 문제는 영어보다 한국어로 할 때 너무 어려워요. 농담아니에요. 이제 해보면 알걸요?'\n",
    "\n",
    "print(kss.split_sentences(text))\n"
   ]
  },
  {
   "cell_type": "markdown",
   "id": "9f559e1a",
   "metadata": {},
   "source": [
    "####  한국어 어간 추출\n",
    "\n",
    "- 언 -----------품사\n",
    "- 체언----------명사, 대명사,수사\n",
    "- 수식언--------관형사, 부사\n",
    "- 관계언--------조사\n",
    "- 독립언--------감탄사\n",
    "- 용언----------동사, 형용사"
   ]
  },
  {
   "cell_type": "markdown",
   "id": "5a05b8a8",
   "metadata": {},
   "source": [
    "#### 불용어(Stopword) 처리\n",
    "\n",
    "- 유의미한 단어 토큰만을 선별하기 위해서는 큰 의마가 없는 단어 토큰을 제거하는 작업\n",
    "- 한국어 불용어 리스트: https://bab2min.tistory.com/544\n"
   ]
  },
  {
   "cell_type": "code",
   "execution_count": 13,
   "id": "38ba69fa",
   "metadata": {},
   "outputs": [
    {
     "data": {
      "text/plain": [
       "['i', 'me', 'my', 'myself', 'we', 'our', 'ours', 'ourselves', 'you', \"you're\"]"
      ]
     },
     "execution_count": 13,
     "metadata": {},
     "output_type": "execute_result"
    }
   ],
   "source": [
    "from nltk.corpus import stopwords  \n",
    "stopwords.words('english')[:10]\n",
    "# 영어는 nltk 에서 제공해줌"
   ]
  },
  {
   "cell_type": "code",
   "execution_count": 15,
   "id": "b4ea4871",
   "metadata": {},
   "outputs": [
    {
     "name": "stdout",
     "output_type": "stream",
     "text": [
      "['Family', 'is', 'not', 'an', 'important', 'thing', '.', 'It', \"'s\", 'everything', '.']\n",
      "['Family', 'important', 'thing', '.', 'It', \"'s\", 'everything', '.']\n"
     ]
    }
   ],
   "source": [
    "# 영어 불용어 처리하기\n",
    "from nltk.corpus import stopwords \n",
    "from nltk.tokenize import word_tokenize \n",
    "\n",
    "example = \"Family is not an important thing. It's everything.\"\n",
    "stop_words = set(stopwords.words('english')) \n",
    "\n",
    "word_tokens = word_tokenize(example)\n",
    "\n",
    "result = [w for w in word_tokens if w not in stop_words] \n",
    "\n",
    "print(word_tokens) \n",
    "print(result)\n"
   ]
  },
  {
   "cell_type": "code",
   "execution_count": 17,
   "id": "9bd1a096",
   "metadata": {},
   "outputs": [
    {
     "name": "stdout",
     "output_type": "stream",
     "text": [
      "['고기를', '아무렇게나', '구우려고', '하면', '안', '돼', '.', '고기라고', '다', '같은', '게', '아니거든', '.', '예컨대', '삼겹살을', '구울', '때는', '중요한', '게', '있지', '.']\n",
      "['고기를', '구우려고', '안', '돼', '.', '고기라고', '다', '같은', '게', '.', '삼겹살을', '구울', '때는', '중요한', '게', '있지', '.']\n"
     ]
    }
   ],
   "source": [
    "# 한국어 불용어 리스트: https://bab2min.tistory.com/544\n",
    "\n",
    "from nltk.corpus import stopwords \n",
    "from nltk.tokenize import word_tokenize \n",
    "\n",
    "example = \"고기를 아무렇게나 구우려고 하면 안 돼. 고기라고 다 같은 게 아니거든. 예컨대 삼겹살을 구울 때는 중요한 게 있지.\"\n",
    "stop_words = \"아무거나 아무렇게나 어찌하든지 같다 비슷하다 예컨대 이럴정도로 하면 아니거든\"\n",
    "# 위의 불용어는 명사가 아닌 단어 중에서 저자가 임의로 선정한 것으로 실제 의미있는 선정 기준이 아님\n",
    "stop_words=stop_words.split(' ')\n",
    "word_tokens = word_tokenize(example)\n",
    "\n",
    "result = [w for w in word_tokens if w not in stop_words] \n",
    "\n",
    "print(word_tokens) \n",
    "print(result)"
   ]
  },
  {
   "cell_type": "markdown",
   "id": "35cf03df",
   "metadata": {},
   "source": [
    "####  정규 표현식(Regular Expression)\n",
    "\n",
    "- re 모듈\n",
    "- [문자] : 대괄호 안의 문자들 중 한 개의 문자와 매치, 예 -> [a-zA-Z가-힣0-9]/ [가나다]\n",
    "- [^문자] : 해당 문자를 제외한 문자를 매치\n"
   ]
  },
  {
   "cell_type": "markdown",
   "id": "cc43e5dd",
   "metadata": {},
   "source": [
    "####  re 모듈에서 지원하는 함수\n",
    "- re.sub(정규식, 대체문자, 대상) : 문자열에서 정규 표현식과 일치하는 부분에 대해서 다른 문자열로 대체\n",
    "- re.split(정규식, 대상) : 입력된 정규 표현식을 기준으로 문자열들을 분리하여 리스트로 리턴\n",
    "- re.findall(정규식, 대상) : 정규 표현식과 매치되는 모든 문자열들을 리스트로 리턴"
   ]
  },
  {
   "cell_type": "code",
   "execution_count": 18,
   "id": "75afff96",
   "metadata": {},
   "outputs": [
    {
     "data": {
      "text/plain": [
       "['사과', '딸기', '수박', '메론', '바나나']"
      ]
     },
     "execution_count": 18,
     "metadata": {},
     "output_type": "execute_result"
    }
   ],
   "source": [
    "import re\n",
    "text=\"사과 딸기 수박 메론 바나나\"\n",
    "re.split(\" \",text)\n",
    "# text.split(\" \") 과 같음\n"
   ]
  },
  {
   "cell_type": "code",
   "execution_count": 19,
   "id": "de32e4df",
   "metadata": {},
   "outputs": [
    {
     "data": {
      "text/plain": [
       "['사과', '딸기', '수박', '메론', '바나나']"
      ]
     },
     "execution_count": 19,
     "metadata": {},
     "output_type": "execute_result"
    }
   ],
   "source": [
    "text=\"\"\"사과\n",
    "딸기\n",
    "수박\n",
    "메론\n",
    "바나나\"\"\"\n",
    "re.split(\"\\n\",text)\n"
   ]
  },
  {
   "cell_type": "code",
   "execution_count": 26,
   "id": "2f3dfd10",
   "metadata": {},
   "outputs": [
    {
     "name": "stdout",
     "output_type": "stream",
     "text": [
      "['010', '1234', '1234', '30']\n",
      "\n",
      "['0', '1', '0', '1', '2', '3', '4', '1', '2', '3', '4', '3', '0']\n",
      "\n",
      "['이름', '김철수', '전화번호', '010', '1234', '1234', '나이', '30', '성별', '남']\n",
      "\n",
      "[]\n"
     ]
    }
   ],
   "source": [
    "text=\"\"\"이름 : 김철수\n",
    "전화번호 : 010 - 1234 - 1234\n",
    "나이 : 30\n",
    "성별 : 남\"\"\"  \n",
    "# \\d 모든 숫자를 의마 0-9\n",
    "print(re.findall(\"\\d+\",text))\n",
    "# + 가 붙었을때 연속성을 가지는 숫자를 한번에 찾아냄\n",
    "print()\n",
    "\n",
    "#숫자 한개한개를 다 뽑아내\n",
    "print(re.findall('\\d',text)) \n",
    "print()\n",
    "\n",
    "# 기호를 제외한 숫자와 문자를 뽑아내\n",
    "print(re.findall('\\w+', text))\n",
    "print()\n",
    "\n",
    "# 찾고자 하는 대상에 정규식 표현에 해당하는 데이터가 없다면\n",
    "# 비어 있는 데이터 출력\n",
    "print(re.findall('\\d+','안녕하세요'))\n"
   ]
  },
  {
   "cell_type": "code",
   "execution_count": 32,
   "id": "7ae51808",
   "metadata": {},
   "outputs": [
    {
     "name": "stdout",
     "output_type": "stream",
     "text": [
      " 정규 표현식 패턴과 일치하는 문자열을 찾아 다른 문자열로 대체   Regular expression   A regular expression  regex or regexp 1    sometimes called a rational expression  2  3  is   in theoretical computer science and formal language theory   a sequence of characters that define a search pattern   \n",
      "\n",
      "정규 표현식 패턴과 일치하는 문자열을 찾아 다른 문자열로 대체 Regular expression  A regular expression regex or regexp1 sometimes called a rational expression23 is in theoretical computer science and formal language theory a sequence of characters that define a search pattern \n",
      "\n",
      "정규표현식패턴과일치하는문자열을찾아다른문자열로대체RegularexpressionAregularexpressionregexorregexp1sometimescalledarationalexpression23isintheoreticalcomputerscienceandformallanguagetheoryasequenceofcharactersthatdefineasearchpattern\n",
      "\n",
      ".:,[]()[][],,.\n",
      "\n"
     ]
    }
   ],
   "source": [
    "text='''\n",
    "정규 표현식 패턴과 일치하는 문자열을 찾아 다른 문자열로 대체. \n",
    "Regular expression : A regular expression, regex or regexp[1] \n",
    "(sometimes called a rational expression)[2][3] is, \n",
    "in theoretical computer science and formal language theory, \n",
    "a sequence of characters that define a search pattern. \n",
    "'''\n",
    "\n",
    "#한글 영어 숫자를 남겨 그런데 \" \"으로 띄어서 남겨 떨어졌으면\n",
    "print(re.sub('[^가-힣a-zA-Z0-9]',\" \", text))\n",
    "print()\n",
    "\n",
    "#공백까지 보여줘\n",
    "print(re.sub('[^가-힣a-zA-Z0-9 ]',\"\", text))\n",
    "print()\n",
    "\n",
    "#그냥 다붙여서 기호빼고 보여줘\n",
    "print(re.sub('[^가-힣a-zA-Z0-9]',\"\", text))\n",
    "print()\n",
    "\n",
    "#기호만 남겨줘\n",
    "print(re.sub('[가-힣a-zA-Z0-9 \\n\\t]',\"\", text))\n",
    "print()"
   ]
  },
  {
   "cell_type": "code",
   "execution_count": 33,
   "id": "ab450372",
   "metadata": {},
   "outputs": [
    {
     "data": {
      "text/plain": [
       "['R', 'A']"
      ]
     },
     "execution_count": 33,
     "metadata": {},
     "output_type": "execute_result"
    }
   ],
   "source": [
    "# 대문자만 보여줘\n",
    "re.findall('[A-Z]',text)"
   ]
  },
  {
   "cell_type": "code",
   "execution_count": 38,
   "id": "365b08cb",
   "metadata": {},
   "outputs": [
    {
     "name": "stdout",
     "output_type": "stream",
     "text": [
      "['e', 'g', 'u', 'l', 'a', 'r', 'e', 'x', 'p', 'r', 'e', 's', 's', 'i', 'o', 'n', 'r', 'e', 'g', 'u', 'l', 'a', 'r', 'e', 'x', 'p', 'r', 'e', 's', 's', 'i', 'o', 'n', 'r', 'e', 'g', 'e', 'x', 'o', 'r', 'r', 'e', 'g', 'e', 'x', 'p', 's', 'o', 'm', 'e', 't', 'i', 'm', 'e', 's', 'c', 'a', 'l', 'l', 'e', 'd', 'a', 'r', 'a', 't', 'i', 'o', 'n', 'a', 'l', 'e', 'x', 'p', 'r', 'e', 's', 's', 'i', 'o', 'n', 'i', 's', 'i', 'n', 't', 'h', 'e', 'o', 'r', 'e', 't', 'i', 'c', 'a', 'l', 'c', 'o', 'm', 'p', 'u', 't', 'e', 'r', 's', 'c', 'i', 'e', 'n', 'c', 'e', 'a', 'n', 'd', 'f', 'o', 'r', 'm', 'a', 'l', 'l', 'a', 'n', 'g', 'u', 'a', 'g', 'e', 't', 'h', 'e', 'o', 'r', 'y', 'a', 's', 'e', 'q', 'u', 'e', 'n', 'c', 'e', 'o', 'f', 'c', 'h', 'a', 'r', 'a', 'c', 't', 'e', 'r', 's', 't', 'h', 'a', 't', 'd', 'e', 'f', 'i', 'n', 'e', 'a', 's', 'e', 'a', 'r', 'c', 'h', 'p', 'a', 't', 't', 'e', 'r', 'n']\n"
     ]
    }
   ],
   "source": [
    "# 소문자만 보여줘(하나씩 가져와)\n",
    "print(re.findall('[a-z]',text))"
   ]
  },
  {
   "cell_type": "code",
   "execution_count": 35,
   "id": "111fb477",
   "metadata": {},
   "outputs": [
    {
     "data": {
      "text/plain": [
       "['일치하는', '문자열을', '문자열로']"
      ]
     },
     "execution_count": 35,
     "metadata": {},
     "output_type": "execute_result"
    }
   ],
   "source": [
    "# 4글자만 뽑아와\n",
    "re.findall('[가-힣]{4}', text)"
   ]
  },
  {
   "cell_type": "code",
   "execution_count": 37,
   "id": "170e281b",
   "metadata": {},
   "outputs": [
    {
     "name": "stdout",
     "output_type": "stream",
     "text": [
      "['egular', 'expression', 'regular', 'expression', 'regex', 'or', 'regexp', 'sometimes', 'called', 'a', 'rational', 'expression', 'is', 'in', 'theoretical', 'computer', 'science', 'and', 'formal', 'language', 'theory', 'a', 'sequence', 'of', 'characters', 'that', 'define', 'a', 'search', 'pattern']\n"
     ]
    }
   ],
   "source": [
    "#띄어쓰기 전까지 가져와\n",
    "print(re.findall('[a-z]+', text))"
   ]
  },
  {
   "cell_type": "code",
   "execution_count": null,
   "id": "859fa0dc",
   "metadata": {},
   "outputs": [],
   "source": []
  }
 ],
 "metadata": {
  "jupytext": {
   "formats": "ipynb,auto:light"
  },
  "kernelspec": {
   "display_name": "Python 3",
   "language": "python",
   "name": "python3"
  },
  "language_info": {
   "codemirror_mode": {
    "name": "ipython",
    "version": 3
   },
   "file_extension": ".py",
   "mimetype": "text/x-python",
   "name": "python",
   "nbconvert_exporter": "python",
   "pygments_lexer": "ipython3",
   "version": "3.8.10"
  }
 },
 "nbformat": 4,
 "nbformat_minor": 5
}
