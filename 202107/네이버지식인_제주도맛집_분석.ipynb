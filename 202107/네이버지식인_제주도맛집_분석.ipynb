{
 "cells": [
  {
   "cell_type": "code",
   "execution_count": 97,
   "id": "bdd9ddd8",
   "metadata": {},
   "outputs": [],
   "source": [
    "import sys\n",
    "import requests\n",
    "from bs4 import BeautifulSoup as bs\n",
    "import matplotlib.pyplot as plt\n",
    "from wordcloud import WordCloud\n",
    "from collections import Counter\n",
    "from nltk import Text\n",
    "import pandas as pd\n",
    "import re\n",
    "from urllib.parse import quote   # 입력한 값을 바이너리 형식으로 변경\n",
    "import json\n",
    "from konlpy.tag import Okt\n",
    "from tqdm import tqdm"
   ]
  },
  {
   "cell_type": "markdown",
   "id": "3e67e2c9",
   "metadata": {},
   "source": [
    "### requests 모듈을 이용한 데이터 요청"
   ]
  },
  {
   "cell_type": "code",
   "execution_count": 98,
   "id": "47718e74",
   "metadata": {},
   "outputs": [],
   "source": [
    "def kin_request(encText, staPage=1):\n",
    "    # url = \"https://openapi.naver.com/v1/search/blog.xml?query=\" + encText # xml 결과\n",
    "    url = \"https://openapi.naver.com/v1/search/kin?query=\" + quote(encText) # json 결과\n",
    "    url = url + \"&start=\" + str(staPage) + \"&display=100\" \n",
    "\n",
    "    headers={\"X-Naver-Client-Id\": \"lcoe8JHxFJLWXqdJjZsc\",\n",
    "             \"X-Naver-Client-Secret\":\"wwrQCVxupt\"}\n",
    "\n",
    "    res_json =requests.get(url, headers=headers)\n",
    "\n",
    "    if res_json.status_code==200:\n",
    "        res_body = res_json.json()\n",
    "    else:\n",
    "        print(\"Error Code:\" + str(res_json.status_code))\n",
    "        sys.exit(0)\n",
    "\n",
    "    res_body['items']\n",
    "    res_df=pd.DataFrame(res_body['items'])  # items 키의 값들을 이용한 DataFrame 생성\n",
    "    \n",
    "    return list(res_df['link'])"
   ]
  },
  {
   "cell_type": "markdown",
   "id": "12f189a2",
   "metadata": {},
   "source": [
    "### 세부 정보 가저오기\n",
    "- res_df의 link 정보를 이용해 세부 내용 가져오기\n",
    "- 질문 정보 => 키워드_질문.txt에 저장\n",
    "- 답변 정보 => 키워드_답변.txt에 저장"
   ]
  },
  {
   "cell_type": "markdown",
   "id": "5bac2089",
   "metadata": {},
   "source": [
    "#### 세부정보에서 질문 및 답변 추출후 텍스트로 저장 "
   ]
  },
  {
   "cell_type": "code",
   "execution_count": 99,
   "id": "ffcccbb3",
   "metadata": {},
   "outputs": [],
   "source": [
    "def req_title(encText, staPage):\n",
    "    \n",
    "    link_list=kin_request(encText, staPage)\n",
    "    \n",
    "    fq=open('c:/pydata/'+encText+\"_질문.txt\", \"a\")\n",
    "    fa=open('c:/pydata/'+encText+\"_답변.txt\", \"a\")\n",
    "    \n",
    "    for link in tqdm(link_list):\n",
    "        kin_html=requests.get(link)\n",
    "        if kin_html.status_code==200:\n",
    "            kin_soup=bs(kin_html.text, \"html.parser\")\n",
    "        else:\n",
    "            sys.exit(kin_html.status_code)\n",
    "        \n",
    "        ### 제목 추출\n",
    "        try:\n",
    "            kin_txt=kin_soup.find('div', class_=\"title\").text.replace(\"\\n\",\"\").replace(\"\\t\",\"\")\n",
    "            fq.write(kin_txt+\"\\n\")\n",
    "        except:\n",
    "            #print(link)\n",
    "            fq.write(\"\\n\")\n",
    "        \n",
    "        for txt in kin_soup.find_all('div', class_=\"se-component se-text se-l-default\"):\n",
    "            # 정규 표현식을 이용해 한글, 영문등 필요한 내용만 가져오기: https://wikidocs.net/4308#_2 참조\n",
    "            #fa.write(txt.text.replace(\"\\u200b\",\"\").replace(\"\\u2714\",\"\"))\n",
    "            fa.write(re.sub(\"[^ ㄱ-ㅣ가-힣]\",\"\",txt.text))\n",
    "        fa.write('\\n')\n",
    "        \n",
    "    fq.close()\n",
    "    fa.close()"
   ]
  },
  {
   "cell_type": "code",
   "execution_count": 116,
   "id": "4bf402fb",
   "metadata": {},
   "outputs": [],
   "source": [
    "### 질문 제목 가져와 키워드 추출하기\n",
    "def title_counter():\n",
    "    f=open('c:/pydata/'+encText+\"_질문.txt\", \"r\")\n",
    "    title_txt=f.read()\n",
    "    f.close()\n",
    "\n",
    "    ### 가져온 데이터를 konlpy의 Okt를 이용해 품사 확인\n",
    "    okt=Okt()    # okt 객체 생성\n",
    "    pos_title=okt.pos(title_txt)\n",
    "    #print(pos_title)\n",
    "\n",
    "    noun_text=[ txt[0] for txt in pos_title if txt[1]=='Noun' ]\n",
    "    adje_text=[ txt for txt, pos in pos_title if pos=='Adjective' ]\n",
    "\n",
    "    most_text=noun_text+adje_text\n",
    "    #print(most_text)\n",
    "\n",
    "    stop_words=\"제주도 여행 중 부탁드립니다 데 부탁드려요\"\n",
    "    stop_words=stop_words.split(\" \")\n",
    "    #print(stop_words)\n",
    "\n",
    "    most_stop=[txt for txt in most_text if txt not in stop_words]\n",
    "    #print(most_stop)\n",
    "\n",
    "    return Counter(most_stop)\n",
    "    "
   ]
  },
  {
   "cell_type": "code",
   "execution_count": 131,
   "id": "a7096b81",
   "metadata": {
    "scrolled": false
   },
   "outputs": [],
   "source": [
    "def most_wordcloud(most_count):\n",
    "    #### 워드 클라우드 제작\n",
    "    wordcloud = WordCloud(font_path=\"c:/Windows/Fonts/malgun.ttf\",\n",
    "                          background_color=\"white\", width=1000, height=1000,\n",
    "                          max_words=100, max_font_size=300)\n",
    "\n",
    "    wc = wordcloud.generate_from_frequencies(most_count)\n",
    "    plt.figure(figsize=(8,15))\n",
    "    plt.imshow(wc)\n",
    "    plt.imshow(wc, interpolation='bilinear')\n",
    "    plt.axis(\"off\")\n",
    "    plt.show()\n",
    "\n",
    "    import matplotlib.font_manager as fm\n",
    "    font_name=fm.FontProperties(fname=\"C:/Windows/Fonts/malgun.ttf\").get_name()\n",
    "    plt.rc('font', family=font_name)\n",
    "\n",
    "    ### 빈도수 DataFrame 생성\n",
    "    most_list=most_count.most_common()\n",
    "    most_df=pd.DataFrame(most_list, columns=[\"토픽(단어)\", \"빈도수\"])\n",
    "    plt_df=most_df[most_df['빈도수']>=10]\n",
    "\n",
    "    plt.style.use('ggplot') \n",
    "    plt_df.set_index(\"토픽(단어)\", inplace=True)\n",
    "    plt_df.plot.bar(figsize=(14, 5))\n",
    "    plt.show()\n",
    "\n",
    "    return most_df"
   ]
  },
  {
   "cell_type": "code",
   "execution_count": 101,
   "id": "5e6c1f39",
   "metadata": {},
   "outputs": [
    {
     "name": "stdout",
     "output_type": "stream",
     "text": [
      "검색어 입력:제주도\n",
      "시작 페이지:1\n"
     ]
    },
    {
     "name": "stderr",
     "output_type": "stream",
     "text": [
      "100%|████████████████████████████████████████████████████████████████████████████████| 100/100 [00:34<00:00,  2.89it/s]\n",
      "100%|████████████████████████████████████████████████████████████████████████████████| 100/100 [00:36<00:00,  2.73it/s]\n",
      "100%|████████████████████████████████████████████████████████████████████████████████| 100/100 [00:39<00:00,  2.56it/s]\n",
      "100%|████████████████████████████████████████████████████████████████████████████████| 100/100 [00:37<00:00,  2.67it/s]\n",
      "100%|████████████████████████████████████████████████████████████████████████████████| 100/100 [00:37<00:00,  2.64it/s]\n"
     ]
    }
   ],
   "source": [
    "encText=input('검색어 입력:')\n",
    "staPage=input('시작 페이지:')\n",
    "\n",
    "fq=open('c:/pydata/'+encText+\"_질문.txt\", \"w\");fq.close()\n",
    "fa=open('c:/pydata/'+encText+\"_답변.txt\", \"w\");fa.close()\n",
    "\n",
    "for stapg in range(int(staPage), 500, 100):\n",
    "    req_title(encText, stapg)\n",
    "\n",
    "most_count=title_counter()\n",
    "most_df=fmost_wordcloud(most_count)\n",
    "most_df"
   ]
  },
  {
   "cell_type": "code",
   "execution_count": 129,
   "id": "13f7b482",
   "metadata": {
    "scrolled": true
   },
   "outputs": [
    {
     "data": {
      "image/png": "[encoded data removed]",
      "text/plain": [
       "<Figure size 1008x360 with 1 Axes>"
      ]
     },
     "metadata": {},
     "output_type": "display_data"
    },
    {
     "data": {
      "text/html": [
       "<div>\n",
       "<style scoped>\n",
       "    .dataframe tbody tr th:only-of-type {\n",
       "        vertical-align: middle;\n",
       "    }\n",
       "\n",
       "    .dataframe tbody tr th {\n",
       "        vertical-align: top;\n",
       "    }\n",
       "\n",
       "    .dataframe thead th {\n",
       "        text-align: right;\n",
       "    }\n",
       "</style>\n",
       "<table border=\"1\" class=\"dataframe\">\n",
       "  <thead>\n",
       "    <tr style=\"text-align: right;\">\n",
       "      <th></th>\n",
       "      <th>빈도수</th>\n",
       "    </tr>\n",
       "    <tr>\n",
       "      <th>토픽(단어)</th>\n",
       "      <th></th>\n",
       "    </tr>\n",
       "  </thead>\n",
       "  <tbody>\n",
       "    <tr>\n",
       "      <th>추천</th>\n",
       "      <td>67</td>\n",
       "    </tr>\n",
       "    <tr>\n",
       "      <th>박</th>\n",
       "      <td>63</td>\n",
       "    </tr>\n",
       "    <tr>\n",
       "      <th>코스</th>\n",
       "      <td>46</td>\n",
       "    </tr>\n",
       "    <tr>\n",
       "      <th>곳</th>\n",
       "      <td>45</td>\n",
       "    </tr>\n",
       "    <tr>\n",
       "      <th>렌트카</th>\n",
       "      <td>33</td>\n",
       "    </tr>\n",
       "    <tr>\n",
       "      <th>코로나</th>\n",
       "      <td>24</td>\n",
       "    </tr>\n",
       "    <tr>\n",
       "      <th>질문</th>\n",
       "      <td>20</td>\n",
       "    </tr>\n",
       "    <tr>\n",
       "      <th>숙소</th>\n",
       "      <td>18</td>\n",
       "    </tr>\n",
       "    <tr>\n",
       "      <th>검사</th>\n",
       "      <td>17</td>\n",
       "    </tr>\n",
       "    <tr>\n",
       "      <th>가격</th>\n",
       "      <td>15</td>\n",
       "    </tr>\n",
       "    <tr>\n",
       "      <th>일정</th>\n",
       "      <td>12</td>\n",
       "    </tr>\n",
       "    <tr>\n",
       "      <th>좀</th>\n",
       "      <td>12</td>\n",
       "    </tr>\n",
       "    <tr>\n",
       "      <th>날씨</th>\n",
       "      <td>11</td>\n",
       "    </tr>\n",
       "    <tr>\n",
       "      <th>가족</th>\n",
       "      <td>10</td>\n",
       "    </tr>\n",
       "    <tr>\n",
       "      <th>맛집</th>\n",
       "      <td>10</td>\n",
       "    </tr>\n",
       "    <tr>\n",
       "      <th>렌트</th>\n",
       "      <td>10</td>\n",
       "    </tr>\n",
       "    <tr>\n",
       "      <th>신혼여행</th>\n",
       "      <td>10</td>\n",
       "    </tr>\n",
       "  </tbody>\n",
       "</table>\n",
       "</div>"
      ],
      "text/plain": [
       "        빈도수\n",
       "토픽(단어)     \n",
       "추천       67\n",
       "박        63\n",
       "코스       46\n",
       "곳        45\n",
       "렌트카      33\n",
       "코로나      24\n",
       "질문       20\n",
       "숙소       18\n",
       "검사       17\n",
       "가격       15\n",
       "일정       12\n",
       "좀        12\n",
       "날씨       11\n",
       "가족       10\n",
       "맛집       10\n",
       "렌트       10\n",
       "신혼여행     10"
      ]
     },
     "execution_count": 129,
     "metadata": {},
     "output_type": "execute_result"
    }
   ],
   "source": []
  },
  {
   "cell_type": "code",
   "execution_count": null,
   "id": "bf29e925",
   "metadata": {},
   "outputs": [],
   "source": []
  }
 ],
 "metadata": {
  "kernelspec": {
   "display_name": "Python 3",
   "language": "python",
   "name": "python3"
  },
  "language_info": {
   "codemirror_mode": {
    "name": "ipython",
    "version": 3
   },
   "file_extension": ".py",
   "mimetype": "text/x-python",
   "name": "python",
   "nbconvert_exporter": "python",
   "pygments_lexer": "ipython3",
   "version": "3.8.10"
  }
 },
 "nbformat": 4,
 "nbformat_minor": 5
}
