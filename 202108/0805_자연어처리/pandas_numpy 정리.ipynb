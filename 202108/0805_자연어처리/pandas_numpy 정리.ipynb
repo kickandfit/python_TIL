{
 "cells": [
  {
   "cell_type": "markdown",
   "id": "bed0e3cd",
   "metadata": {},
   "source": [
    "## Pandas 구조\n",
    "- 시리즈(Series)\n",
    "- 데이터프레임(DataFrame)\n",
    "- 패널(Panel)"
   ]
  },
  {
   "cell_type": "code",
   "execution_count": 104,
   "id": "4f1af7cb",
   "metadata": {},
   "outputs": [],
   "source": [
    "import pandas as pd"
   ]
  },
  {
   "cell_type": "markdown",
   "id": "4195dded",
   "metadata": {},
   "source": [
    "시리즈(Series)\n",
    "- 시리즈 클래스는 1차원 배열의 값(values)에 각 값에 대응되는 인덱스(index)를 부여할 수 있는 구조\n",
    "- 인덱스(index)와 값(values)으로 구성"
   ]
  },
  {
   "cell_type": "code",
   "execution_count": 105,
   "id": "c95f4578",
   "metadata": {},
   "outputs": [
    {
     "name": "stdout",
     "output_type": "stream",
     "text": [
      "피자    17000\n",
      "치킨    18000\n",
      "콜라     1000\n",
      "맥주     5000\n",
      "dtype: int64\n"
     ]
    }
   ],
   "source": [
    "sr = pd.Series([17000, 18000, 1000, 5000], index=[\"피자\", \"치킨\", \"콜라\", \"맥주\"])\n",
    "print(sr)"
   ]
  },
  {
   "cell_type": "code",
   "execution_count": 106,
   "id": "2b074d43",
   "metadata": {},
   "outputs": [
    {
     "data": {
      "text/plain": [
       "array([17000, 18000,  1000,  5000], dtype=int64)"
      ]
     },
     "execution_count": 106,
     "metadata": {},
     "output_type": "execute_result"
    }
   ],
   "source": [
    "sr.values"
   ]
  },
  {
   "cell_type": "code",
   "execution_count": 107,
   "id": "be455588",
   "metadata": {},
   "outputs": [
    {
     "data": {
      "text/plain": [
       "Index(['피자', '치킨', '콜라', '맥주'], dtype='object')"
      ]
     },
     "execution_count": 107,
     "metadata": {},
     "output_type": "execute_result"
    }
   ],
   "source": [
    "sr.index"
   ]
  },
  {
   "cell_type": "code",
   "execution_count": 108,
   "id": "71a0f12d",
   "metadata": {},
   "outputs": [
    {
     "data": {
      "text/plain": [
       "17000"
      ]
     },
     "execution_count": 108,
     "metadata": {},
     "output_type": "execute_result"
    }
   ],
   "source": [
    "sr[0]   # sr.iloc[0]"
   ]
  },
  {
   "cell_type": "code",
   "execution_count": 109,
   "id": "519d34c0",
   "metadata": {},
   "outputs": [
    {
     "data": {
      "text/plain": [
       "17000"
      ]
     },
     "execution_count": 109,
     "metadata": {},
     "output_type": "execute_result"
    }
   ],
   "source": [
    "sr['피자']  # sr.loc['피자']"
   ]
  },
  {
   "cell_type": "markdown",
   "id": "bc155536",
   "metadata": {},
   "source": [
    "데이터프레임(DataFrame)\n",
    "- 2차원 리스트를 매개변수로 전달\n",
    "- 2차원이므로 행방향 인덱스(index)와 열방향 인덱스(column)가 존재(행과 열을 가지는 자료구조)\n",
    "- 열(columns), 인덱스(index), 값(values)으로 구성"
   ]
  },
  {
   "cell_type": "code",
   "execution_count": 110,
   "id": "94b8b924",
   "metadata": {},
   "outputs": [
    {
     "name": "stdout",
     "output_type": "stream",
     "text": [
      "       A  B  C\n",
      "one    1  2  3\n",
      "two    4  5  6\n",
      "three  7  8  9\n"
     ]
    },
    {
     "data": {
      "text/plain": [
       "array([[1, 2, 3],\n",
       "       [4, 5, 6],\n",
       "       [7, 8, 9]], dtype=int64)"
      ]
     },
     "execution_count": 110,
     "metadata": {},
     "output_type": "execute_result"
    }
   ],
   "source": [
    "values = [[1, 2, 3], [4, 5, 6], [7, 8, 9]]\n",
    "index = ['one', 'two', 'three']\n",
    "columns = ['A', 'B', 'C']\n",
    "\n",
    "df = pd.DataFrame(values, index=index, columns=columns)\n",
    "print(df)\n",
    "df.to_numpy()"
   ]
  },
  {
   "cell_type": "code",
   "execution_count": 111,
   "id": "a913467e",
   "metadata": {},
   "outputs": [],
   "source": [
    "import numpy as np"
   ]
  },
  {
   "cell_type": "code",
   "execution_count": 112,
   "id": "70cd81d3",
   "metadata": {},
   "outputs": [
    {
     "data": {
      "text/plain": [
       "array([[1, 2, 3],\n",
       "       [4, 5, 6],\n",
       "       [7, 8, 9]], dtype=int64)"
      ]
     },
     "execution_count": 112,
     "metadata": {},
     "output_type": "execute_result"
    }
   ],
   "source": [
    "np.array(df)"
   ]
  },
  {
   "cell_type": "code",
   "execution_count": 113,
   "id": "b1b9f455",
   "metadata": {},
   "outputs": [
    {
     "name": "stdout",
     "output_type": "stream",
     "text": [
      "Index(['one', 'two', 'three'], dtype='object')\n",
      "Index(['A', 'B', 'C'], dtype='object')\n",
      "<class 'numpy.ndarray'>\n"
     ]
    },
    {
     "data": {
      "text/plain": [
       "array([[1, 2, 3],\n",
       "       [4, 5, 6],\n",
       "       [7, 8, 9]], dtype=int64)"
      ]
     },
     "execution_count": 113,
     "metadata": {},
     "output_type": "execute_result"
    }
   ],
   "source": [
    "print(df.index)\n",
    "print(df.columns)\n",
    "print(type(df.values))\n",
    "df.values"
   ]
  },
  {
   "cell_type": "code",
   "execution_count": 114,
   "id": "45301bcb",
   "metadata": {},
   "outputs": [
    {
     "name": "stdout",
     "output_type": "stream",
     "text": [
      "      0         1      2\n",
      "0  1000     Steve  90.72\n",
      "1  1001     James  78.09\n",
      "2  1002    Doyeon  98.43\n",
      "3  1003      Jane  64.19\n",
      "4  1004  Pilwoong  81.30\n",
      "5  1005      Tony  99.14\n"
     ]
    }
   ],
   "source": [
    "# 리스트로 생성하기\n",
    "data = [\n",
    "    ['1000', 'Steve', 90.72], \n",
    "    ['1001', 'James', 78.09], \n",
    "    ['1002', 'Doyeon', 98.43], \n",
    "    ['1003', 'Jane', 64.19], \n",
    "    ['1004', 'Pilwoong', 81.30],\n",
    "    ['1005', 'Tony', 99.14]\n",
    "]\n",
    "df = pd.DataFrame(data)\n",
    "print(df)"
   ]
  },
  {
   "cell_type": "code",
   "execution_count": 115,
   "id": "d7886106",
   "metadata": {},
   "outputs": [
    {
     "data": {
      "text/plain": [
       "array([['1000', 'Steve', '90.72'],\n",
       "       ['1001', 'James', '78.09'],\n",
       "       ['1002', 'Doyeon', '98.43'],\n",
       "       ['1003', 'Jane', '64.19'],\n",
       "       ['1004', 'Pilwoong', '81.3'],\n",
       "       ['1005', 'Tony', '99.14']], dtype='<U32')"
      ]
     },
     "execution_count": 115,
     "metadata": {},
     "output_type": "execute_result"
    }
   ],
   "source": [
    "np.array(data)"
   ]
  },
  {
   "cell_type": "code",
   "execution_count": 116,
   "id": "b3c13256",
   "metadata": {},
   "outputs": [
    {
     "name": "stdout",
     "output_type": "stream",
     "text": [
      "     학번        이름     점수\n",
      "0  1000     Steve  90.72\n",
      "1  1001     James  78.09\n",
      "2  1002    Doyeon  98.43\n",
      "3  1003      Jane  64.19\n",
      "4  1004  Pilwoong  81.30\n",
      "5  1005      Tony  99.14\n"
     ]
    }
   ],
   "source": [
    "df = pd.DataFrame(data, columns=['학번', '이름', '점수'])\n",
    "print(df)"
   ]
  },
  {
   "cell_type": "code",
   "execution_count": 117,
   "id": "6b970bf4",
   "metadata": {},
   "outputs": [
    {
     "name": "stdout",
     "output_type": "stream",
     "text": [
      "     학번        이름     점수\n",
      "0  1000     Steve  90.72\n",
      "1  1001     James  78.09\n",
      "2  1002    Doyeon  98.43\n",
      "3  1003      Jane  64.19\n",
      "4  1004  Pilwoong  81.30\n",
      "5  1005      Tony  99.14\n"
     ]
    }
   ],
   "source": [
    "# 딕셔너리로 생성하기\n",
    "data = { '학번' : ['1000', '1001', '1002', '1003', '1004', '1005'],\n",
    "         '이름' : [ 'Steve', 'James', 'Doyeon', 'Jane', 'Pilwoong', 'Tony'],\n",
    "         '점수': [90.72, 78.09, 98.43, 64.19, 81.30, 99.14]}\n",
    "\n",
    "df = pd.DataFrame(data)\n",
    "print(df)"
   ]
  },
  {
   "cell_type": "code",
   "execution_count": 118,
   "id": "906b6028",
   "metadata": {},
   "outputs": [
    {
     "data": {
      "text/plain": [
       "array({'학번': ['1000', '1001', '1002', '1003', '1004', '1005'], '이름': ['Steve', 'James', 'Doyeon', 'Jane', 'Pilwoong', 'Tony'], '점수': [90.72, 78.09, 98.43, 64.19, 81.3, 99.14]},\n",
       "      dtype=object)"
      ]
     },
     "execution_count": 118,
     "metadata": {},
     "output_type": "execute_result"
    }
   ],
   "source": [
    "np.array(data)"
   ]
  },
  {
   "cell_type": "code",
   "execution_count": 119,
   "id": "c9153231",
   "metadata": {},
   "outputs": [
    {
     "name": "stdout",
     "output_type": "stream",
     "text": [
      "     학번      이름     점수\n",
      "0  1000   Steve  90.72\n",
      "1  1001   James  78.09\n",
      "2  1002  Doyeon  98.43\n",
      "3  1003    Jane  64.19\n"
     ]
    }
   ],
   "source": [
    "data = [{ '학번' : '1000', '이름' :  'Steve', '점수': 90.72}, \n",
    "        { '학번' : '1001', '이름' :  'James', '점수': 78.09}, \n",
    "        { '학번' : '1002', '이름' :  'Doyeon', '점수': 98.43}, \n",
    "        { '학번' : '1003', '이름' :  'Jane', '점수': 64.19}]\n",
    "\n",
    "df = pd.DataFrame(data)\n",
    "print(df)"
   ]
  },
  {
   "cell_type": "code",
   "execution_count": 120,
   "id": "7ba3f90e",
   "metadata": {},
   "outputs": [
    {
     "name": "stdout",
     "output_type": "stream",
     "text": [
      "<class 'numpy.ndarray'>\n"
     ]
    },
    {
     "data": {
      "text/plain": [
       "array([{'학번': '1000', '이름': 'Steve', '점수': 90.72},\n",
       "       {'학번': '1001', '이름': 'James', '점수': 78.09},\n",
       "       {'학번': '1002', '이름': 'Doyeon', '점수': 98.43},\n",
       "       {'학번': '1003', '이름': 'Jane', '점수': 64.19}], dtype=object)"
      ]
     },
     "execution_count": 120,
     "metadata": {},
     "output_type": "execute_result"
    }
   ],
   "source": [
    "print(type(np.array(data)))\n",
    "np.array(data)"
   ]
  },
  {
   "cell_type": "code",
   "execution_count": 121,
   "id": "f30a3601",
   "metadata": {},
   "outputs": [
    {
     "data": {
      "text/plain": [
       "array([['1000', 90.72],\n",
       "       ['1001', 78.09],\n",
       "       ['1002', 98.43],\n",
       "       ['1003', 64.19]], dtype=object)"
      ]
     },
     "execution_count": 121,
     "metadata": {},
     "output_type": "execute_result"
    }
   ],
   "source": [
    "np.array(df[[\"학번\", \"점수\"]])"
   ]
  },
  {
   "cell_type": "markdown",
   "id": "0016908e",
   "metadata": {},
   "source": [
    "외부 데이터 읽기\n",
    "- Pandas는 CSV, 텍스트, Excel, SQL, HTML, JSON 등 다양한 데이터 파일을 읽고 데이터 프레임을 생성\n",
    "- df=pd.read_csv(csv 또는 text), df=pd.read_excel(엑셀파일), df=pd.read_html(url), df=pd.read_json(json파일)"
   ]
  },
  {
   "cell_type": "code",
   "execution_count": 153,
   "id": "6545402d",
   "metadata": {},
   "outputs": [],
   "source": [
    "# !pip install pandas_profiling"
   ]
  },
  {
   "cell_type": "code",
   "execution_count": 157,
   "id": "9721b62f",
   "metadata": {},
   "outputs": [
    {
     "data": {
      "text/html": [
       "<div>\n",
       "<style scoped>\n",
       "    .dataframe tbody tr th:only-of-type {\n",
       "        vertical-align: middle;\n",
       "    }\n",
       "\n",
       "    .dataframe tbody tr th {\n",
       "        vertical-align: top;\n",
       "    }\n",
       "\n",
       "    .dataframe thead th {\n",
       "        text-align: right;\n",
       "    }\n",
       "</style>\n",
       "<table border=\"1\" class=\"dataframe\">\n",
       "  <thead>\n",
       "    <tr style=\"text-align: right;\">\n",
       "      <th></th>\n",
       "      <th>v1</th>\n",
       "      <th>v2</th>\n",
       "      <th>Unnamed: 2</th>\n",
       "      <th>Unnamed: 3</th>\n",
       "      <th>Unnamed: 4</th>\n",
       "    </tr>\n",
       "  </thead>\n",
       "  <tbody>\n",
       "    <tr>\n",
       "      <th>0</th>\n",
       "      <td>ham</td>\n",
       "      <td>Go until jurong point, crazy.. Available only ...</td>\n",
       "      <td>NaN</td>\n",
       "      <td>NaN</td>\n",
       "      <td>NaN</td>\n",
       "    </tr>\n",
       "    <tr>\n",
       "      <th>1</th>\n",
       "      <td>ham</td>\n",
       "      <td>Ok lar... Joking wif u oni...</td>\n",
       "      <td>NaN</td>\n",
       "      <td>NaN</td>\n",
       "      <td>NaN</td>\n",
       "    </tr>\n",
       "    <tr>\n",
       "      <th>2</th>\n",
       "      <td>spam</td>\n",
       "      <td>Free entry in 2 a wkly comp to win FA Cup fina...</td>\n",
       "      <td>NaN</td>\n",
       "      <td>NaN</td>\n",
       "      <td>NaN</td>\n",
       "    </tr>\n",
       "    <tr>\n",
       "      <th>3</th>\n",
       "      <td>ham</td>\n",
       "      <td>U dun say so early hor... U c already then say...</td>\n",
       "      <td>NaN</td>\n",
       "      <td>NaN</td>\n",
       "      <td>NaN</td>\n",
       "    </tr>\n",
       "    <tr>\n",
       "      <th>4</th>\n",
       "      <td>ham</td>\n",
       "      <td>Nah I don't think he goes to usf, he lives aro...</td>\n",
       "      <td>NaN</td>\n",
       "      <td>NaN</td>\n",
       "      <td>NaN</td>\n",
       "    </tr>\n",
       "    <tr>\n",
       "      <th>...</th>\n",
       "      <td>...</td>\n",
       "      <td>...</td>\n",
       "      <td>...</td>\n",
       "      <td>...</td>\n",
       "      <td>...</td>\n",
       "    </tr>\n",
       "    <tr>\n",
       "      <th>5567</th>\n",
       "      <td>spam</td>\n",
       "      <td>This is the 2nd time we have tried 2 contact u...</td>\n",
       "      <td>NaN</td>\n",
       "      <td>NaN</td>\n",
       "      <td>NaN</td>\n",
       "    </tr>\n",
       "    <tr>\n",
       "      <th>5568</th>\n",
       "      <td>ham</td>\n",
       "      <td>Will Ì_ b going to esplanade fr home?</td>\n",
       "      <td>NaN</td>\n",
       "      <td>NaN</td>\n",
       "      <td>NaN</td>\n",
       "    </tr>\n",
       "    <tr>\n",
       "      <th>5569</th>\n",
       "      <td>ham</td>\n",
       "      <td>Pity, * was in mood for that. So...any other s...</td>\n",
       "      <td>NaN</td>\n",
       "      <td>NaN</td>\n",
       "      <td>NaN</td>\n",
       "    </tr>\n",
       "    <tr>\n",
       "      <th>5570</th>\n",
       "      <td>ham</td>\n",
       "      <td>The guy did some bitching but I acted like i'd...</td>\n",
       "      <td>NaN</td>\n",
       "      <td>NaN</td>\n",
       "      <td>NaN</td>\n",
       "    </tr>\n",
       "    <tr>\n",
       "      <th>5571</th>\n",
       "      <td>ham</td>\n",
       "      <td>Rofl. Its true to its name</td>\n",
       "      <td>NaN</td>\n",
       "      <td>NaN</td>\n",
       "      <td>NaN</td>\n",
       "    </tr>\n",
       "  </tbody>\n",
       "</table>\n",
       "<p>5572 rows × 5 columns</p>\n",
       "</div>"
      ],
      "text/plain": [
       "        v1                                                 v2 Unnamed: 2  \\\n",
       "0      ham  Go until jurong point, crazy.. Available only ...        NaN   \n",
       "1      ham                      Ok lar... Joking wif u oni...        NaN   \n",
       "2     spam  Free entry in 2 a wkly comp to win FA Cup fina...        NaN   \n",
       "3      ham  U dun say so early hor... U c already then say...        NaN   \n",
       "4      ham  Nah I don't think he goes to usf, he lives aro...        NaN   \n",
       "...    ...                                                ...        ...   \n",
       "5567  spam  This is the 2nd time we have tried 2 contact u...        NaN   \n",
       "5568   ham              Will Ì_ b going to esplanade fr home?        NaN   \n",
       "5569   ham  Pity, * was in mood for that. So...any other s...        NaN   \n",
       "5570   ham  The guy did some bitching but I acted like i'd...        NaN   \n",
       "5571   ham                         Rofl. Its true to its name        NaN   \n",
       "\n",
       "     Unnamed: 3 Unnamed: 4  \n",
       "0           NaN        NaN  \n",
       "1           NaN        NaN  \n",
       "2           NaN        NaN  \n",
       "3           NaN        NaN  \n",
       "4           NaN        NaN  \n",
       "...         ...        ...  \n",
       "5567        NaN        NaN  \n",
       "5568        NaN        NaN  \n",
       "5569        NaN        NaN  \n",
       "5570        NaN        NaN  \n",
       "5571        NaN        NaN  \n",
       "\n",
       "[5572 rows x 5 columns]"
      ]
     },
     "execution_count": 157,
     "metadata": {},
     "output_type": "execute_result"
    }
   ],
   "source": [
    "import pandas_profiling\n",
    "\n",
    "df=pd.read_csv(\"c:/pydata/spam.csv\", encoding=\"latin1\")\n",
    "df"
   ]
  },
  {
   "cell_type": "code",
   "execution_count": 159,
   "id": "9b707edc",
   "metadata": {},
   "outputs": [
    {
     "data": {
      "application/vnd.jupyter.widget-view+json": {
       "model_id": "0b8b84cd13d14be29ff25952393f76b8",
       "version_major": 2,
       "version_minor": 0
      },
      "text/plain": [
       "Summarize dataset:   0%|          | 0/18 [00:00<?, ?it/s]"
      ]
     },
     "metadata": {},
     "output_type": "display_data"
    },
    {
     "data": {
      "application/vnd.jupyter.widget-view+json": {
       "model_id": "4b4453f8b107484aa131431bc71ff8e9",
       "version_major": 2,
       "version_minor": 0
      },
      "text/plain": [
       "Generate report structure:   0%|          | 0/1 [00:00<?, ?it/s]"
      ]
     },
     "metadata": {},
     "output_type": "display_data"
    },
    {
     "data": {
      "application/vnd.jupyter.widget-view+json": {
       "model_id": "f4082f5df49a455face78274e0248d90",
       "version_major": 2,
       "version_minor": 0
      },
      "text/plain": [
       "Render HTML:   0%|          | 0/1 [00:00<?, ?it/s]"
      ]
     },
     "metadata": {},
     "output_type": "display_data"
    },
    {
     "data": {
      "application/vnd.jupyter.widget-view+json": {
       "model_id": "e86b0e90ccb746888602530b3c8aa897",
       "version_major": 2,
       "version_minor": 0
      },
      "text/plain": [
       "Export report to file:   0%|          | 0/1 [00:00<?, ?it/s]"
      ]
     },
     "metadata": {},
     "output_type": "display_data"
    }
   ],
   "source": [
    "pr=df.profile_report()\n",
    "pr.to_file('./pr_profile.html')"
   ]
  },
  {
   "cell_type": "markdown",
   "id": "72bd3e15",
   "metadata": {},
   "source": [
    "## Numpy\n",
    "- 수치 데이터를 다루는 파이썬 패키지\n",
    "- 핵심=>다차원 행렬 자료구조인 ndarray를 통해 벡터 및 행렬을 사용하는 선형 대수 계산에서 주로 사용"
   ]
  },
  {
   "cell_type": "code",
   "execution_count": 122,
   "id": "a459792d",
   "metadata": {},
   "outputs": [],
   "source": [
    "import numpy as np"
   ]
  },
  {
   "cell_type": "markdown",
   "id": "0f9928aa",
   "metadata": {},
   "source": [
    "Numpy의 주요 모듈\n",
    "- np.array() # 리스트, 튜플, 배열로 부터 ndarray를 생성\n",
    "- np.asarray() # 기존의 array로 부터 ndarray를 생성\n",
    "- np.arange() # range와 비슷\n",
    "- np.linspace(start, end, num) # [start, end] 균일한 간격으로 num개 생성\n",
    "- np.logspace(start, end, num) # [start, end] log scale 간격으로 num개 생성"
   ]
  },
  {
   "cell_type": "code",
   "execution_count": 123,
   "id": "b83e7452",
   "metadata": {},
   "outputs": [
    {
     "name": "stdout",
     "output_type": "stream",
     "text": [
      "<class 'numpy.ndarray'>\n",
      "[1 2 3 4 5]\n"
     ]
    }
   ],
   "source": [
    "a = np.array([1, 2, 3, 4, 5]) #리스트를 가지고 1차원 배열 생성\n",
    "print(type(a))\n",
    "print(a)"
   ]
  },
  {
   "cell_type": "code",
   "execution_count": 124,
   "id": "1484f632",
   "metadata": {},
   "outputs": [
    {
     "name": "stdout",
     "output_type": "stream",
     "text": [
      "<class 'numpy.ndarray'>\n",
      "[[10 20 30]\n",
      " [60 70 80]]\n"
     ]
    }
   ],
   "source": [
    "b = np.array([[10, 20, 30], [ 60, 70, 80]])  # 리스트로 2차원 배열 생성\n",
    "print(type(b))\n",
    "print(b) #출력"
   ]
  },
  {
   "cell_type": "code",
   "execution_count": 125,
   "id": "b3501fb4",
   "metadata": {},
   "outputs": [
    {
     "name": "stdout",
     "output_type": "stream",
     "text": [
      "2\n",
      "(2, 3)\n"
     ]
    }
   ],
   "source": [
    "print(b.ndim) #차원 출력\n",
    "print(b.shape) #크기 출력(구조)"
   ]
  },
  {
   "cell_type": "markdown",
   "id": "63ce0f7e",
   "metadata": {},
   "source": [
    "ndarray의 초기화\n",
    "- zeros(): 해당 배열에 모두 0을 삽입\n",
    "- ones(): 해당 배열에 모두 1을 삽입\n",
    "- full(): 배열에 사용자가 지정한 값을 넣는데 사용\n",
    "- eye(): 대각선으로는 1이고 나머지는 0인 2차원 배열을 생성"
   ]
  },
  {
   "cell_type": "code",
   "execution_count": 126,
   "id": "6e3449fb",
   "metadata": {},
   "outputs": [
    {
     "name": "stdout",
     "output_type": "stream",
     "text": [
      "[[0. 0. 0.]\n",
      " [0. 0. 0.]]\n"
     ]
    }
   ],
   "source": [
    "a = np.zeros((2,3)) # 모든값이 0인 2x3 배열 생성.\n",
    "print(a)"
   ]
  },
  {
   "cell_type": "code",
   "execution_count": 127,
   "id": "8c8e64b0",
   "metadata": {},
   "outputs": [
    {
     "name": "stdout",
     "output_type": "stream",
     "text": [
      "[[1. 1. 1.]\n",
      " [1. 1. 1.]]\n"
     ]
    }
   ],
   "source": [
    "a = np.ones((2,3)) # 모든값이 1인 2x3 배열 생성.\n",
    "print(a)"
   ]
  },
  {
   "cell_type": "code",
   "execution_count": 128,
   "id": "a7cb0bfa",
   "metadata": {},
   "outputs": [
    {
     "name": "stdout",
     "output_type": "stream",
     "text": [
      "[[7 7 7]\n",
      " [7 7 7]]\n"
     ]
    }
   ],
   "source": [
    "a = np.full((2,3), 7) # 모든 값이 특정 상수인 배열 생성. 이 경우에는 7.\n",
    "print(a)"
   ]
  },
  {
   "cell_type": "code",
   "execution_count": 129,
   "id": "5a7ff231",
   "metadata": {},
   "outputs": [
    {
     "name": "stdout",
     "output_type": "stream",
     "text": [
      "[[1. 0. 0.]\n",
      " [0. 1. 0.]\n",
      " [0. 0. 1.]]\n"
     ]
    }
   ],
   "source": [
    "a = np.eye(3) # 대각선으로는 1이고 나머지는 0인 2차원 배열을 생성.(3 => 3X3)\n",
    "print(a)"
   ]
  },
  {
   "cell_type": "markdown",
   "id": "fd30eafe",
   "metadata": {},
   "source": [
    "np.arange()\n",
    "- 지정해준 범위에 대해서 배열을 생성\n",
    "- numpy.arange(start, stop, step, dtype)\n",
    "- a = np.arange(n) # 0, ..., n-1까지 범위의 지정.\n",
    "- a = np.arange(i, j, k, dtype=None) # i부터 j-1까지 k씩 증가하는 배열. dtype=None 생략(int32/int64)\n",
    "- a = np.arange(i, j, k, dtype=np.int32) # i부터 j-1까지 k씩 증가하는 배열.(int32)"
   ]
  },
  {
   "cell_type": "code",
   "execution_count": 130,
   "id": "420aaaf2",
   "metadata": {},
   "outputs": [
    {
     "name": "stdout",
     "output_type": "stream",
     "text": [
      "int32\n"
     ]
    },
    {
     "data": {
      "text/plain": [
       "array([0, 1, 2, 3, 4])"
      ]
     },
     "execution_count": 130,
     "metadata": {},
     "output_type": "execute_result"
    }
   ],
   "source": [
    "a=np.arange(5)\n",
    "print(a.dtype)\n",
    "a"
   ]
  },
  {
   "cell_type": "code",
   "execution_count": 131,
   "id": "c9e04b62",
   "metadata": {},
   "outputs": [
    {
     "name": "stdout",
     "output_type": "stream",
     "text": [
      "float64\n"
     ]
    },
    {
     "data": {
      "text/plain": [
       "array([0., 1., 2., 3., 4.])"
      ]
     },
     "execution_count": 131,
     "metadata": {},
     "output_type": "execute_result"
    }
   ],
   "source": [
    "a=np.arange(5.0)\n",
    "print(a.dtype)\n",
    "a"
   ]
  },
  {
   "cell_type": "markdown",
   "id": "f5441949",
   "metadata": {},
   "source": [
    "NumPy의 dtype\n",
    "- np.int8: 8-bit signed integer (from -128 to 127)\n",
    "- np.uint8: 8-bit unsigned integer (from 0 to 255)\n",
    "- np.int16: 16-bit signed integer (from -32768 to 32767)\n",
    "- np.uint16: 16-bit unsigned integer (from 0 to 65535)\n",
    "- np.int32: 32-bit signed integer (from -2**31 to 2**31-1)\n",
    "- np.uint32: 32-bit unsigned integer (from 0 to 2**32-1)\n",
    "- np.int64: 64-bit signed integer (from -2**63 to 2**63-1)\n",
    "- np.uint64: 64-bit unsigned integer (from 0 to 2**64-1)"
   ]
  },
  {
   "cell_type": "markdown",
   "id": "a5d8ba17",
   "metadata": {},
   "source": [
    "reshape()\n",
    "- 배열 구조 변경"
   ]
  },
  {
   "cell_type": "code",
   "execution_count": 132,
   "id": "f022a657",
   "metadata": {},
   "outputs": [
    {
     "name": "stdout",
     "output_type": "stream",
     "text": [
      "[ 0  1  2  3  4  5  6  7  8  9 10 11 12 13 14 15 16 17 18 19 20 21 22 23\n",
      " 24 25 26 27 28 29]\n",
      "[[ 0  1  2  3  4  5]\n",
      " [ 6  7  8  9 10 11]\n",
      " [12 13 14 15 16 17]\n",
      " [18 19 20 21 22 23]\n",
      " [24 25 26 27 28 29]]\n"
     ]
    }
   ],
   "source": [
    "a = np.array(np.arange(30))\n",
    "print(a)\n",
    "\n",
    "print(a.reshape((5,6)))"
   ]
  },
  {
   "cell_type": "code",
   "execution_count": 133,
   "id": "57de7618",
   "metadata": {},
   "outputs": [
    {
     "name": "stdout",
     "output_type": "stream",
     "text": [
      "[[ 0  1  2  3  4  5]\n",
      " [ 6  7  8  9 10 11]\n",
      " [12 13 14 15 16 17]\n",
      " [18 19 20 21 22 23]\n",
      " [24 25 26 27 28 29]]\n"
     ]
    }
   ],
   "source": [
    "a = np.array(np.arange(30)).reshape((5,6))\n",
    "print(a)"
   ]
  },
  {
   "cell_type": "markdown",
   "id": "079f90a6",
   "metadata": {},
   "source": [
    "Numpy 슬라이싱\n",
    "- ndarray를 통해 만든 다차원 배열은 파이썬의 리스트처럼 슬라이스(Slice) 기능을 지원\n",
    "- 원소들 중 복수 개에 접근할 수 있음\n",
    "- 다차원 배열을 슬라이싱하기 위해서는 각 차원 별로 슬라이스 범위를 지정"
   ]
  },
  {
   "cell_type": "code",
   "execution_count": 134,
   "id": "b64ca33f",
   "metadata": {},
   "outputs": [
    {
     "data": {
      "text/plain": [
       "array([[1, 2, 3],\n",
       "       [4, 5, 6]])"
      ]
     },
     "execution_count": 134,
     "metadata": {},
     "output_type": "execute_result"
    }
   ],
   "source": [
    "a = np.array([[1, 2, 3], [4, 5, 6]])\n",
    "a"
   ]
  },
  {
   "cell_type": "code",
   "execution_count": 135,
   "id": "4b5d87de",
   "metadata": {},
   "outputs": [
    {
     "data": {
      "text/plain": [
       "array([[2],\n",
       "       [5]])"
      ]
     },
     "execution_count": 135,
     "metadata": {},
     "output_type": "execute_result"
    }
   ],
   "source": [
    "a[0:2, 1:2]  # 행: 0부터 2전(0, 1),  열: 1부터 2전까지(1) => (0, 1), (1, 1)"
   ]
  },
  {
   "cell_type": "code",
   "execution_count": 136,
   "id": "43df5f2d",
   "metadata": {},
   "outputs": [
    {
     "data": {
      "text/plain": [
       "array([1, 2, 3, 4, 5, 6])"
      ]
     },
     "execution_count": 136,
     "metadata": {},
     "output_type": "execute_result"
    }
   ],
   "source": [
    "a.reshape(-1)"
   ]
  },
  {
   "cell_type": "code",
   "execution_count": 137,
   "id": "1cf1a8f6",
   "metadata": {},
   "outputs": [
    {
     "name": "stdout",
     "output_type": "stream",
     "text": [
      "[1 2 3]\n"
     ]
    }
   ],
   "source": [
    "b=a[0, :] # 첫번째 행 출력\n",
    "print(b)"
   ]
  },
  {
   "cell_type": "code",
   "execution_count": 138,
   "id": "98e61a65",
   "metadata": {},
   "outputs": [
    {
     "name": "stdout",
     "output_type": "stream",
     "text": [
      "[2 5]\n",
      "(2,)\n",
      "1\n"
     ]
    }
   ],
   "source": [
    "b=a[:, 1] # 첫번째 행 출력\n",
    "print(b)\n",
    "print(b.shape)\n",
    "print(b.ndim)"
   ]
  },
  {
   "cell_type": "markdown",
   "id": "bcb4619d",
   "metadata": {},
   "source": [
    "Numpy 정수 인덱싱(integer indexing)\n",
    "- 원본 배열로부터 부분 배열을 구함"
   ]
  },
  {
   "cell_type": "code",
   "execution_count": 139,
   "id": "5f5aab41",
   "metadata": {},
   "outputs": [
    {
     "data": {
      "text/plain": [
       "array([[1, 2],\n",
       "       [4, 5],\n",
       "       [7, 8]])"
      ]
     },
     "execution_count": 139,
     "metadata": {},
     "output_type": "execute_result"
    }
   ],
   "source": [
    "a = np.array([[1,2], [4,5], [7,8]])\n",
    "a"
   ]
  },
  {
   "cell_type": "code",
   "execution_count": 140,
   "id": "ffe0668c",
   "metadata": {},
   "outputs": [
    {
     "data": {
      "text/plain": [
       "array([8, 4])"
      ]
     },
     "execution_count": 140,
     "metadata": {},
     "output_type": "execute_result"
    }
   ],
   "source": [
    "b = a[[2, 1], [1, 0]] # a[[row2, row1],[col1, col0]]을 의미함. => a[(row2, col1), (row1, col0)]==b\n",
    "b"
   ]
  },
  {
   "cell_type": "markdown",
   "id": "000a9bcb",
   "metadata": {},
   "source": [
    "Numpy 연산\n",
    "- Numpy를 사용하면 배열간 연산을 손쉽게 수행\n",
    "- +, -, *, /의 연산자를 사용할 수 있음(산술연산)\n",
    "- add(), subtract(), multiply(), divide() 함수\n",
    "- 벡터와 행렬의 곱 또는 행렬곱을 위해서는 dot()을 사용"
   ]
  },
  {
   "cell_type": "code",
   "execution_count": 141,
   "id": "e07d584b",
   "metadata": {},
   "outputs": [],
   "source": [
    "x = np.array([1,2,3])\n",
    "y = np.array([4,5,6])"
   ]
  },
  {
   "cell_type": "code",
   "execution_count": 142,
   "id": "b0f97ff1",
   "metadata": {},
   "outputs": [
    {
     "name": "stdout",
     "output_type": "stream",
     "text": [
      "[5 7 9]\n"
     ]
    }
   ],
   "source": [
    "b = x + y # 각 요소에 대해서 더함\n",
    "# b = np.add(x, y)와 동일함\n",
    "print(b)"
   ]
  },
  {
   "cell_type": "code",
   "execution_count": 143,
   "id": "d4577f24",
   "metadata": {},
   "outputs": [
    {
     "name": "stdout",
     "output_type": "stream",
     "text": [
      "[-3 -3 -3]\n"
     ]
    }
   ],
   "source": [
    "b = x - y # 각 요소에 대해서 빼기\n",
    "# b = np.subtract(x, y)와 동일함\n",
    "print(b)"
   ]
  },
  {
   "cell_type": "code",
   "execution_count": 144,
   "id": "c66df6ac",
   "metadata": {},
   "outputs": [
    {
     "name": "stdout",
     "output_type": "stream",
     "text": [
      "[ 4 10 18]\n"
     ]
    }
   ],
   "source": [
    "b = x * y # 각 요소에 대해서 곱셈\n",
    "# b = np.multiply(x, y)와 동일함\n",
    "print(b)"
   ]
  },
  {
   "cell_type": "code",
   "execution_count": 145,
   "id": "433993dc",
   "metadata": {},
   "outputs": [
    {
     "name": "stdout",
     "output_type": "stream",
     "text": [
      "[4.  2.5 2. ]\n"
     ]
    }
   ],
   "source": [
    "b = y / x  # 각 요소에 대해서 나눗셈\n",
    "# b = np.divide(y, x)와 동일함\n",
    "print(b)"
   ]
  },
  {
   "attachments": {
    "image.png": {
     "image/png": "[encoded data removed]"
    }
   },
   "cell_type": "markdown",
   "id": "19ba86c9",
   "metadata": {},
   "source": [
    "np.dot()\n",
    "- 행열곱\n",
    "- ![image.png](attachment:image.png)"
   ]
  },
  {
   "cell_type": "code",
   "execution_count": 146,
   "id": "477b594a",
   "metadata": {},
   "outputs": [
    {
     "name": "stdout",
     "output_type": "stream",
     "text": [
      "[[1 2]\n",
      " [3 4]]\n",
      "[[5 6]\n",
      " [7 8]]\n"
     ]
    }
   ],
   "source": [
    "a = np.array([[1,2],[3,4]])\n",
    "b = np.array([[5,6],[7,8]])\n",
    "print(a);print(b)"
   ]
  },
  {
   "cell_type": "code",
   "execution_count": 147,
   "id": "cf6a747c",
   "metadata": {},
   "outputs": [
    {
     "name": "stdout",
     "output_type": "stream",
     "text": [
      "[[19 22]\n",
      " [43 50]]\n"
     ]
    }
   ],
   "source": [
    "c = np.dot(a, b)\n",
    "print(c)"
   ]
  },
  {
   "cell_type": "code",
   "execution_count": 148,
   "id": "4f399065",
   "metadata": {},
   "outputs": [
    {
     "name": "stdout",
     "output_type": "stream",
     "text": [
      "[[1 2]\n",
      " [3 4]\n",
      " [5 6]]\n",
      "[[ 5  6  7]\n",
      " [ 8  9 10]]\n",
      "[[2 2]\n",
      " [3 3]\n",
      " [4 4]]\n",
      "(3, 2)\n",
      "(2, 3)\n",
      "(3, 2)\n"
     ]
    }
   ],
   "source": [
    "a = np.array([[1,2],[3,4], [5, 6]])\n",
    "b = np.array([[5,6,7],[8, 9, 10]])\n",
    "c = np.array([[2,2], [3,3], [4,4]])\n",
    "\n",
    "print(a);print(b);print(c)\n",
    "print(a.shape);print(b.shape);print(c.shape)"
   ]
  },
  {
   "cell_type": "code",
   "execution_count": 149,
   "id": "c2cbc488",
   "metadata": {},
   "outputs": [
    {
     "name": "stdout",
     "output_type": "stream",
     "text": [
      "(3, 3)\n",
      "[[21 24 27]\n",
      " [47 54 61]\n",
      " [73 84 95]]\n"
     ]
    }
   ],
   "source": [
    "d=np.dot(a, b)\n",
    "print(d.shape)\n",
    "print(d)"
   ]
  },
  {
   "cell_type": "code",
   "execution_count": 150,
   "id": "c02eb041",
   "metadata": {},
   "outputs": [
    {
     "name": "stdout",
     "output_type": "stream",
     "text": [
      "(3, 2)\n",
      "[[222 222]\n",
      " [500 500]\n",
      " [778 778]]\n"
     ]
    }
   ],
   "source": [
    "e=np.dot(d, c)\n",
    "print(e.shape)\n",
    "print(e)"
   ]
  },
  {
   "cell_type": "markdown",
   "id": "60d59a3c",
   "metadata": {},
   "source": [
    "(3, 2)x(2, 3)x(3, 2)x(2, 4)x(4, 6)x(6, 3)  = (3, 3)"
   ]
  },
  {
   "cell_type": "code",
   "execution_count": null,
   "id": "7aadd322",
   "metadata": {},
   "outputs": [],
   "source": [
    "(3, 2)x(6, 3)"
   ]
  },
  {
   "cell_type": "code",
   "execution_count": null,
   "id": "5fd2d9ac",
   "metadata": {},
   "outputs": [],
   "source": []
  }
 ],
 "metadata": {
  "kernelspec": {
   "display_name": "Python 3",
   "language": "python",
   "name": "python3"
  },
  "language_info": {
   "codemirror_mode": {
    "name": "ipython",
    "version": 3
   },
   "file_extension": ".py",
   "mimetype": "text/x-python",
   "name": "python",
   "nbconvert_exporter": "python",
   "pygments_lexer": "ipython3",
   "version": "3.8.10"
  }
 },
 "nbformat": 4,
 "nbformat_minor": 5
}
