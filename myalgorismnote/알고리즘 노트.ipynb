{
 "cells": [
  {
   "cell_type": "markdown",
   "id": "8f1dc694",
   "metadata": {},
   "source": [
    "#### 약수 관련 알고리즘 노트"
   ]
  },
  {
   "cell_type": "code",
   "execution_count": null,
   "id": "0adce3e6",
   "metadata": {},
   "outputs": [],
   "source": [
    "# 약수 관련 노트\n",
    "# % 를 사용한다\n",
    "# 개수를 셀 때는 conunt += 1을 이용한다\n",
    "def solution(left, right):\n",
    "    count = 0\n",
    "    answer = 0\n",
    "    for n in range(left, right+1):\n",
    "        for num in range(1, right+1):       \n",
    "            if n%num == 0:# 약수 판별\n",
    "                count += 1 # 개수 체크\n",
    "        if count%2 == 0: # 개수가 짝수냐\n",
    "            answer += n \n",
    "            count = 0 # 초기화\n",
    "        else:\n",
    "            answer -= n\n",
    "            count = 0\n",
    "    return answer"
   ]
  },
  {
   "cell_type": "markdown",
   "id": "8fb62ce2",
   "metadata": {},
   "source": [
    "#### 행렬곱"
   ]
  },
  {
   "cell_type": "code",
   "execution_count": 18,
   "id": "8a7dec9d",
   "metadata": {},
   "outputs": [
    {
     "data": {
      "text/plain": [
       "[[15, 15], [15, 15], [15, 15]]"
      ]
     },
     "execution_count": 18,
     "metadata": {},
     "output_type": "execute_result"
    }
   ],
   "source": [
    "\n",
    "arr1 = [[1, 4], \n",
    "        [3, 2], \n",
    "        [4, 1]]\n",
    "arr2 = [[3, 3], \n",
    "        [3, 3]]\n",
    "def solution(arr1, arr2):\n",
    "    answer = [[0 for _ in range(len(arr2[0]))]for _ in range(len(arr1)) ]\n",
    "    \n",
    "    # 이 삼중 for 문이 핵심 아이디어\n",
    "    for i in range(len(arr1)):\n",
    "        for j in range(len(arr2[0])): # 이부분\n",
    "            for k in range(len(arr1[0])): # 이부분\n",
    "                answer[i][j] += arr1[i][k] * arr2[k][j]\n",
    "\n",
    "    return answer"
   ]
  },
  {
   "cell_type": "code",
   "execution_count": 17,
   "id": "3f91bc21",
   "metadata": {},
   "outputs": [
    {
     "data": {
      "text/plain": [
       "array([[15, 15],\n",
       "       [15, 15],\n",
       "       [15, 15]])"
      ]
     },
     "execution_count": 17,
     "metadata": {},
     "output_type": "execute_result"
    }
   ],
   "source": [
    "# 넘파이 행렬 곱\n",
    "import numpy as np\n",
    "arr1 = [[1, 4], \n",
    "        [3, 2], \n",
    "        [4, 1]]\n",
    "arr2 = [[3, 3], \n",
    "        [3, 3]]\n",
    "arr1 = np.array(arr1)\n",
    "arr2 = np.array(arr2)\n",
    "arr1@arr2"
   ]
  },
  {
   "cell_type": "markdown",
   "id": "6d59c177",
   "metadata": {},
   "source": [
    "#### 방금그곡 ( 문자열 라이브러리 )"
   ]
  },
  {
   "cell_type": "code",
   "execution_count": null,
   "id": "36ff7771",
   "metadata": {},
   "outputs": [],
   "source": [
    "def changecode(music_): \n",
    "    music_ = music_.replace('C#', 'c')\n",
    "    music_ = music_.replace('D#', 'd')\n",
    "    music_ = music_.replace('F#', 'f')\n",
    "    music_ = music_.replace('G#', 'g')\n",
    "    music_ = music_.replace('A#', 'a')    \n",
    "    return music_ \n",
    "\n",
    "def caltime(musicinfo_): \n",
    "    starttime = musicinfo_[0]\n",
    "    endtime = musicinfo_[1]\n",
    "    hour = 1 * (int(endtime.split(':')[0]) - int(starttime.split(':')[0]))\n",
    "    if hour == 0: \n",
    "        total = int(endtime.split(':')[1]) - int(starttime.split(':')[1])\n",
    "    else: \n",
    "        total = 60 * hour + int(endtime.split(':')[1]) - int(starttime.split(':')[1])\n",
    "\n",
    "    return total\n",
    "\n",
    "def solution(m, musicinfos):\n",
    "    answer = []\n",
    "    m = changecode(m)\n",
    "    for idx, musicinfo in enumerate(musicinfos): \n",
    "        musicinfo = changecode(musicinfo)\n",
    "        musicinfo = musicinfo.split(',')\n",
    "        time = caltime(musicinfo)\n",
    "\n",
    "        # 길이가 시간보다 더 긴 경우 \n",
    "        if len(musicinfo[3]) >= time :\n",
    "            melody = musicinfo[3][0:time]\n",
    "        else:             \n",
    "            # 시간을 계산해서 몫과 나머지로 계산 \n",
    "            # 다른 사람 풀이 : q, r = divmod(time,len(musicinfo[3]))\n",
    "            a = time // len(musicinfo[3])\n",
    "            b = time % len(musicinfo[3])\n",
    "            melody = musicinfo[3] * a + musicinfo[3][0:b]\n",
    "        # 노래가 melody에 포함되면 정답후보에 저장 \n",
    "        if m in melody: \n",
    "            answer.append([idx, time, musicinfo[2]])\n",
    "    # 정답이 있는 경우 \n",
    "    if len(answer) != 0: \n",
    "        # time -> index 기준으로 정렬 \n",
    "        answer = sorted(answer, key = lambda x: (-x[1], x[0]))\n",
    "        return answer[0][2]\n",
    "    # 정답이 없는 경우\n",
    "    return \"(None)\""
   ]
  }
 ],
 "metadata": {
  "jupytext": {
   "formats": "ipynb,auto:light"
  },
  "kernelspec": {
   "display_name": "Python 3",
   "language": "python",
   "name": "python3"
  },
  "language_info": {
   "codemirror_mode": {
    "name": "ipython",
    "version": 3
   },
   "file_extension": ".py",
   "mimetype": "text/x-python",
   "name": "python",
   "nbconvert_exporter": "python",
   "pygments_lexer": "ipython3",
   "version": "3.8.10"
  }
 },
 "nbformat": 4,
 "nbformat_minor": 5
}
