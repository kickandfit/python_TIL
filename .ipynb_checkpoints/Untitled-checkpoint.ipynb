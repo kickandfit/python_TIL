{
 "cells": [
  {
   "cell_type": "code",
   "execution_count": 24,
   "id": "19f7603e",
   "metadata": {},
   "outputs": [],
   "source": [
    "import os # 현재 쓰고 있는 운영체제 자체를 의미한다\n",
    "import pandas as pd\n",
    "import matplotlib.font_manager as fm\n",
    "import matplotlib.pyplot as plt\n",
    "\n",
    "font_path = \"C:/Windows/Fonts/malgun.ttf\" \n",
    "font_name = fm.FontProperties(fname=font_path).get_name()\n",
    "plt.rc('font', family=font_name)"
   ]
  },
  {
   "cell_type": "code",
   "execution_count": 25,
   "id": "6115e4cd",
   "metadata": {},
   "outputs": [
    {
     "name": "stdout",
     "output_type": "stream",
     "text": [
      "['CARD_SUBWAY_MONTH_201901.csv', 'CARD_SUBWAY_MONTH_201902.csv', 'CARD_SUBWAY_MONTH_201903.csv', 'CARD_SUBWAY_MONTH_201904.csv', 'CARD_SUBWAY_MONTH_201905.csv', 'CARD_SUBWAY_MONTH_201906.csv', 'CARD_SUBWAY_MONTH_201907.csv', 'CARD_SUBWAY_MONTH_201908.csv', 'CARD_SUBWAY_MONTH_201909.csv', 'CARD_SUBWAY_MONTH_201910.csv', 'CARD_SUBWAY_MONTH_201911.csv', 'CARD_SUBWAY_MONTH_201912.csv', 'CARD_SUBWAY_MONTH_202001.csv', 'CARD_SUBWAY_MONTH_202002.csv', 'CARD_SUBWAY_MONTH_202003.csv', 'CARD_SUBWAY_MONTH_202004.csv', 'CARD_SUBWAY_MONTH_202005.csv', 'CARD_SUBWAY_MONTH_202006.csv', 'CARD_SUBWAY_MONTH_202007.csv', 'CARD_SUBWAY_MONTH_202008.csv', 'CARD_SUBWAY_MONTH_202009.csv', 'CARD_SUBWAY_MONTH_202010.csv', 'CARD_SUBWAY_MONTH_202011.csv', 'CARD_SUBWAY_MONTH_202012.csv', 'CARD_SUBWAY_MONTH_202101.csv', 'CARD_SUBWAY_MONTH_202102.csv', 'CARD_SUBWAY_MONTH_202103.csv', 'CARD_SUBWAY_MONTH_202104.csv', 'CARD_SUBWAY_MONTH_202105.csv']\n"
     ]
    }
   ],
   "source": [
    "filePath='./subway/'\n",
    "fileName=os.listdir(filePath) # subway 폴더와 모든 파일 및 하위 폴더 정보를 리스트 형으로 가져와 저장\n",
    "\n",
    "print(fileName)"
   ]
  },
  {
   "cell_type": "code",
   "execution_count": 33,
   "id": "fec97964",
   "metadata": {},
   "outputs": [],
   "source": [
    "df1 = pd.DataFrame()\n",
    "df2 = pd.DataFrame()"
   ]
  },
  {
   "cell_type": "code",
   "execution_count": 34,
   "id": "5ec45dcd",
   "metadata": {},
   "outputs": [],
   "source": [
    "for fn in fileName:\n",
    "    # try/except 예외처리 try에서 error가 발생하면 except 에서 수행해\n",
    "    \n",
    "    try: # 정상코드, 수행\n",
    "        df2 = pd.read_csv(filePath+fn, encoding = 'cp949')\n",
    "    \n",
    "    except: #try구문에서 에러 발생시, 처리하기 위한 구문\n",
    "        df2 = pd.read_csv(filePath+fn, encoding = 'utf-8')\n",
    "    df1 = pd.concat([df1, df2])\n",
    "    \n",
    "    "
   ]
  },
  {
   "cell_type": "code",
   "execution_count": 35,
   "id": "976985d7",
   "metadata": {},
   "outputs": [
    {
     "ename": "NameError",
     "evalue": "name 'file_read' is not defined",
     "output_type": "error",
     "traceback": [
      "\u001b[1;31m---------------------------------------------------------------------------\u001b[0m",
      "\u001b[1;31mNameError\u001b[0m                                 Traceback (most recent call last)",
      "\u001b[1;32m<ipython-input-35-e80e0ecc27ff>\u001b[0m in \u001b[0;36m<module>\u001b[1;34m\u001b[0m\n\u001b[1;32m----> 1\u001b[1;33m \u001b[0mdf1\u001b[0m\u001b[1;33m=\u001b[0m\u001b[0mfile_read\u001b[0m\u001b[1;33m(\u001b[0m\u001b[1;33m)\u001b[0m\u001b[1;33m\u001b[0m\u001b[1;33m\u001b[0m\u001b[0m\n\u001b[0m",
      "\u001b[1;31mNameError\u001b[0m: name 'file_read' is not defined"
     ]
    }
   ],
   "source": []
  },
  {
   "cell_type": "code",
   "execution_count": 36,
   "id": "93eb0714",
   "metadata": {},
   "outputs": [
    {
     "name": "stdout",
     "output_type": "stream",
     "text": [
      "<class 'pandas.core.frame.DataFrame'>\n",
      "Int64Index: 523341 entries, 0 to 20210531\n",
      "Data columns (total 6 columns):\n",
      " #   Column  Non-Null Count   Dtype  \n",
      "---  ------  --------------   -----  \n",
      " 0   사용일자    523341 non-null  object \n",
      " 1   노선명     523341 non-null  object \n",
      " 2   역명      523341 non-null  object \n",
      " 3   승차총승객수  523341 non-null  float64\n",
      " 4   하차총승객수  523341 non-null  float64\n",
      " 5   등록일자    287186 non-null  float64\n",
      "dtypes: float64(3), object(3)\n",
      "memory usage: 27.9+ MB\n"
     ]
    }
   ],
   "source": [
    "df1.info()"
   ]
  },
  {
   "cell_type": "code",
   "execution_count": 43,
   "id": "652585e1",
   "metadata": {},
   "outputs": [],
   "source": [
    "def file_read():\n",
    "    filePath='./subway/'\n",
    "    fileName=os.listdir(filePath) # subway 폴더와 모든 파일 및 하위 폴더 정보를 리스트 형으로 가져와 저장\n",
    "\n",
    "    df1 = pd.DataFrame()\n",
    "    df2 = pd.DataFrame()\n",
    "\n",
    "    for fn in fileName:\n",
    "        # try/except 예외처리 try에서 error가 발생하면 except 에서 수행해\n",
    "\n",
    "        try: # 정상코드, 수행\n",
    "            df2 = pd.read_csv(filePath+fn, encoding = 'cp949')\n",
    "\n",
    "        except: #try구문에서 에러 발생시, 처리하기 위한 구문\n",
    "            df2 = pd.read_csv(filePath+fn, encoding = 'utf-8')\n",
    "        df1 = pd.concat([df1, df2])\n",
    "    return df1"
   ]
  },
  {
   "cell_type": "code",
   "execution_count": 44,
   "id": "09b16e1b",
   "metadata": {},
   "outputs": [
    {
     "name": "stdout",
     "output_type": "stream",
     "text": [
      "<class 'pandas.core.frame.DataFrame'>\n",
      "Int64Index: 523341 entries, 0 to 20210531\n",
      "Data columns (total 6 columns):\n",
      " #   Column  Non-Null Count   Dtype  \n",
      "---  ------  --------------   -----  \n",
      " 0   사용일자    523341 non-null  object \n",
      " 1   노선명     523341 non-null  object \n",
      " 2   역명      523341 non-null  object \n",
      " 3   승차총승객수  523341 non-null  float64\n",
      " 4   하차총승객수  523341 non-null  float64\n",
      " 5   등록일자    287186 non-null  float64\n",
      "dtypes: float64(3), object(3)\n",
      "memory usage: 27.9+ MB\n",
      "None\n"
     ]
    }
   ],
   "source": [
    "df3 = file_read()\n",
    "print(df3.info())"
   ]
  },
  {
   "cell_type": "code",
   "execution_count": 57,
   "id": "25dd75b3",
   "metadata": {},
   "outputs": [],
   "source": [
    "def subway_sch(dfdata, subway_name):\n",
    "    df2 = dfdata[dfdata['역명']==subway_name]\n",
    "    df2.plot(x='사용일자', y = '승차총승객수')\n",
    "    plt.show()\n",
    "    \n"
   ]
  },
  {
   "cell_type": "code",
   "execution_count": 59,
   "id": "0a6963a4",
   "metadata": {},
   "outputs": [
    {
     "data": {
      "text/html": [
       "<div>\n",
       "<style scoped>\n",
       "    .dataframe tbody tr th:only-of-type {\n",
       "        vertical-align: middle;\n",
       "    }\n",
       "\n",
       "    .dataframe tbody tr th {\n",
       "        vertical-align: top;\n",
       "    }\n",
       "\n",
       "    .dataframe thead th {\n",
       "        text-align: right;\n",
       "    }\n",
       "</style>\n",
       "<table border=\"1\" class=\"dataframe\">\n",
       "  <thead>\n",
       "    <tr style=\"text-align: right;\">\n",
       "      <th></th>\n",
       "      <th>사용일자</th>\n",
       "      <th>노선명</th>\n",
       "      <th>역명</th>\n",
       "      <th>승차총승객수</th>\n",
       "      <th>하차총승객수</th>\n",
       "      <th>등록일자</th>\n",
       "    </tr>\n",
       "  </thead>\n",
       "  <tbody>\n",
       "    <tr>\n",
       "      <th>0</th>\n",
       "      <td>20190101</td>\n",
       "      <td>2호선</td>\n",
       "      <td>을지로4가</td>\n",
       "      <td>3862.0</td>\n",
       "      <td>3728.0</td>\n",
       "      <td>20190104.0</td>\n",
       "    </tr>\n",
       "    <tr>\n",
       "      <th>1</th>\n",
       "      <td>20190101</td>\n",
       "      <td>2호선</td>\n",
       "      <td>을지로3가</td>\n",
       "      <td>8104.0</td>\n",
       "      <td>7554.0</td>\n",
       "      <td>20190104.0</td>\n",
       "    </tr>\n",
       "    <tr>\n",
       "      <th>2</th>\n",
       "      <td>20190101</td>\n",
       "      <td>2호선</td>\n",
       "      <td>을지로입구</td>\n",
       "      <td>22478.0</td>\n",
       "      <td>21330.0</td>\n",
       "      <td>20190104.0</td>\n",
       "    </tr>\n",
       "    <tr>\n",
       "      <th>3</th>\n",
       "      <td>20190101</td>\n",
       "      <td>2호선</td>\n",
       "      <td>시청</td>\n",
       "      <td>8381.0</td>\n",
       "      <td>6049.0</td>\n",
       "      <td>20190104.0</td>\n",
       "    </tr>\n",
       "    <tr>\n",
       "      <th>4</th>\n",
       "      <td>20190101</td>\n",
       "      <td>1호선</td>\n",
       "      <td>동묘앞</td>\n",
       "      <td>8045.0</td>\n",
       "      <td>8504.0</td>\n",
       "      <td>20190104.0</td>\n",
       "    </tr>\n",
       "  </tbody>\n",
       "</table>\n",
       "</div>"
      ],
      "text/plain": [
       "       사용일자  노선명     역명   승차총승객수   하차총승객수        등록일자\n",
       "0  20190101  2호선  을지로4가   3862.0   3728.0  20190104.0\n",
       "1  20190101  2호선  을지로3가   8104.0   7554.0  20190104.0\n",
       "2  20190101  2호선  을지로입구  22478.0  21330.0  20190104.0\n",
       "3  20190101  2호선     시청   8381.0   6049.0  20190104.0\n",
       "4  20190101  1호선    동묘앞   8045.0   8504.0  20190104.0"
      ]
     },
     "execution_count": 59,
     "metadata": {},
     "output_type": "execute_result"
    }
   ],
   "source": [
    "df1.head()"
   ]
  },
  {
   "cell_type": "code",
   "execution_count": 56,
   "id": "f28bae09",
   "metadata": {},
   "outputs": [
    {
     "name": "stdout",
     "output_type": "stream",
     "text": [
      "조회할 역 입력:시청\n"
     ]
    },
    {
     "name": "stderr",
     "output_type": "stream",
     "text": [
      "C:\\Users\\moh12\\Anaconda3\\envs\\big_data_Intelligence_system\\lib\\site-packages\\matplotlib\\backends\\backend_agg.py:238: RuntimeWarning: Glyph 8722 missing from current font.\n",
      "  font.set_text(s, 0.0, flags=flags)\n",
      "C:\\Users\\moh12\\Anaconda3\\envs\\big_data_Intelligence_system\\lib\\site-packages\\matplotlib\\backends\\backend_agg.py:201: RuntimeWarning: Glyph 8722 missing from current font.\n",
      "  font.set_text(s, 0, flags=flags)\n"
     ]
    },
    {
     "data": {
      "image/png": "[encoded data removed]",
      "text/plain": [
       "<Figure size 432x288 with 1 Axes>"
      ]
     },
     "metadata": {
      "needs_background": "light"
     },
     "output_type": "display_data"
    }
   ],
   "source": [
    "subway_name = input('조회할 역 입력:')\n",
    "df2 = subway_sch(df1, subway_name)"
   ]
  },
  {
   "cell_type": "code",
   "execution_count": null,
   "id": "baf0a2ed",
   "metadata": {},
   "outputs": [],
   "source": []
  }
 ],
 "metadata": {
  "jupytext": {
   "formats": "ipynb,auto:light"
  },
  "kernelspec": {
   "display_name": "Python 3",
   "language": "python",
   "name": "python3"
  },
  "language_info": {
   "codemirror_mode": {
    "name": "ipython",
    "version": 3
   },
   "file_extension": ".py",
   "mimetype": "text/x-python",
   "name": "python",
   "nbconvert_exporter": "python",
   "pygments_lexer": "ipython3",
   "version": "3.9.4"
  }
 },
 "nbformat": 4,
 "nbformat_minor": 5
}
