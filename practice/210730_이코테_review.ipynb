{
 "cells": [
  {
   "cell_type": "code",
   "execution_count": null,
   "id": "fbd7e3ce",
   "metadata": {},
   "outputs": [],
   "source": [
    "# dfs 구현\n",
    "def dfs(graph, v, visited):\n",
    "    \n",
    "    visited[v] = True\n",
    "    print(v)\n",
    "    for i in graph[v]:\n",
    "        if not visited[i]:\n",
    "            dfs(graph, i ,visited)\n",
    "\n",
    "graph = [\n",
    "    [],\n",
    "    [2, 3, 8],\n",
    "    [1, 7],\n",
    "    [1, 4, 5],\n",
    "    [3, 5],\n",
    "    [3, 4],\n",
    "    [7],\n",
    "    [2, 6, 8],\n",
    "    [1, 7]\n",
    "]  \n",
    "visited = [False]*9\n",
    "dfs(graph, 1, visited)"
   ]
  },
  {
   "cell_type": "code",
   "execution_count": null,
   "id": "f665b1f4",
   "metadata": {},
   "outputs": [],
   "source": [
    "# bfs 구현\n",
    "from collections import deque\n",
    "\n",
    "def bfs(graph, start, visited):\n",
    "    visited[start] = True\n",
    "    queue = deque([start])\n",
    "    while queue:\n",
    "        v = queue.popleft()\n",
    "        print(v)\n",
    "        for i in graph[v]:\n",
    "            if not visited[i]:\n",
    "                visited[i] = True\n",
    "                queue.append(i)\n",
    "graph = [\n",
    "    [],\n",
    "    [2, 3, 8],\n",
    "    [1, 7],\n",
    "    [1, 4, 5],\n",
    "    [3, 5],\n",
    "    [3, 4],\n",
    "    [7],\n",
    "    [2, 6, 8],\n",
    "    [1, 7]\n",
    "]  \n",
    "visited = [False]*9\n",
    "bfs(graph, 1, visited)"
   ]
  },
  {
   "cell_type": "code",
   "execution_count": 83,
   "id": "b6c1d911",
   "metadata": {},
   "outputs": [
    {
     "name": "stdout",
     "output_type": "stream",
     "text": [
      "3 3\n",
      "001\n",
      "010\n",
      "101\n"
     ]
    },
    {
     "data": {
      "text/plain": [
       "[[0, 0, 1], [0, 1, 0], [1, 0, 1]]"
      ]
     },
     "execution_count": 83,
     "metadata": {},
     "output_type": "execute_result"
    }
   ],
   "source": [
    "n,m = map(int, input().split())\n",
    "graph = []\n",
    "for i in range(n):\n",
    "    graph.append(list(map(int, input())))\n",
    "graph"
   ]
  },
  {
   "cell_type": "code",
   "execution_count": 84,
   "id": "1c9d2fb5",
   "metadata": {
    "lines_to_next_cell": 2
   },
   "outputs": [
    {
     "name": "stdout",
     "output_type": "stream",
     "text": [
      "1 0 0\n",
      "2 1 2\n",
      "3 2 1\n",
      "3\n"
     ]
    }
   ],
   "source": [
    "# 모범 답안 dfs 구현\n",
    "graph = [[0, 0, 1], [0, 1, 0], [1, 0, 1]]\n",
    "n, m = 3,3\n",
    "\n",
    "def dfs(x, y):\n",
    "    \n",
    "    if x<= -1 or x>=n or y<=-1 or y>=m:\n",
    "        return False\n",
    "    if graph[x][y] ==0:\n",
    "        \n",
    "        graph[x][y] = 1\n",
    "        dfs(x-1, y)\n",
    "        dfs(x,y-1)\n",
    "        dfs(x+1,y)\n",
    "        dfs(x,y+1)\n",
    "        return True\n",
    "    return False\n",
    "\n",
    "result = 0\n",
    "for i in range(n):\n",
    "    for j in range(m):\n",
    "        if dfs(i,j) == True:\n",
    "            result +=1\n",
    "            print(result, i ,j)\n",
    "print(result)"
   ]
  },
  {
   "cell_type": "code",
   "execution_count": 90,
   "id": "fc89e481",
   "metadata": {
    "lines_to_next_cell": 2
   },
   "outputs": [
    {
     "name": "stdout",
     "output_type": "stream",
     "text": [
      "1 0 0\n",
      "2 1 2\n",
      "3 2 1\n",
      "3\n"
     ]
    }
   ],
   "source": [
    "from collections import deque\n",
    "\n",
    "graph = [[0, 0, 1], [0, 1, 0], [1, 0, 1]]\n",
    "n, m = 3,3\n",
    "\n",
    "result = 0\n",
    "\n",
    "def bfs(x,y):\n",
    "    if graph[x][y] == 1:\n",
    "        return False\n",
    "    # 방문하지 않은 상황이면 que에 넣어\n",
    "    que = deque([[x,y]])\n",
    "    while que:\n",
    "        x, y = que.popleft()\n",
    "        #방문 처리\n",
    "#         print(graph[x][y],'-------',x,y)\n",
    "        if graph[x][y] == 0:\n",
    "            graph[x][y] = 1\n",
    "            #연결된 다른 노드 확인\n",
    "            if x+1<n:\n",
    "                x = x+1\n",
    "                que.append([x,y])\n",
    "                x = x-1 #다시 제자리로 돌려야함\n",
    "                \n",
    "            if y+1<m:\n",
    "                y = y+1\n",
    "                que.append([x,y])\n",
    "                y = y-1 \n",
    "    return True\n",
    "\n",
    "for i in range(n):\n",
    "    for j in range(m):\n",
    "        if bfs(i,j) == True:\n",
    "            result +=1\n",
    "            print(result, i ,j)\n",
    "print(result)\n",
    "        \n",
    "    \n",
    "        "
   ]
  },
  {
   "cell_type": "code",
   "execution_count": 96,
   "id": "2d066d17",
   "metadata": {},
   "outputs": [
    {
     "name": "stdout",
     "output_type": "stream",
     "text": [
      "5 6\n",
      "101010\n",
      "111111\n",
      "000001\n",
      "111111\n",
      "111111\n",
      "10\n"
     ]
    }
   ],
   "source": [
    "from collections import deque\n",
    "\n",
    "n,m = map(int, input().split())\n",
    "graph = []\n",
    "for i in range(n):\n",
    "    graph.append(list(map(int,input())))\n",
    "\n",
    "dx = [-1, 1, 0, 0]\n",
    "dy = [0, 0, -1, 1]\n",
    "\n",
    "def bfs(x,y):\n",
    "    queue = deque()\n",
    "    queue.append((x,y))\n",
    "    \n",
    "    while queue:\n",
    "        x,y = queue.popleft()\n",
    "        for i in range(4):\n",
    "            nx = x + dx[i]\n",
    "            ny = y + dy[i]\n",
    "            \n",
    "            if nx<0 or ny< 0 or nx>=n or ny>=m:\n",
    "                continue\n",
    "                \n",
    "            if graph[nx][ny] == 0:\n",
    "                continue\n",
    "            \n",
    "            if graph[nx][ny] == 1:\n",
    "                graph[nx][ny] = graph[x][y] + 1\n",
    "                queue.append((nx,ny))\n",
    "    return graph[n-1][m-1]\n",
    "\n",
    "print(bfs(0,0))"
   ]
  },
  {
   "cell_type": "code",
   "execution_count": 95,
   "id": "16beab23",
   "metadata": {},
   "outputs": [
    {
     "data": {
      "text/plain": [
       "[[1, 0, 1, 0, 1, 0],\n",
       " [2, 1, 3, 1, 1, 1],\n",
       " [0, 0, 0, 0, 0, 1],\n",
       " [1, 1, 1, 1, 1, 1],\n",
       " [1, 1, 1, 1, 1, 1]]"
      ]
     },
     "execution_count": 95,
     "metadata": {},
     "output_type": "execute_result"
    }
   ],
   "source": [
    "graph"
   ]
  },
  {
   "cell_type": "markdown",
   "id": "277ce31d",
   "metadata": {},
   "source": [
    "#### 문제1\n",
    "n * m 크기의 얼음 틀이 있다. 구멍이 뚫려 있는 부분은 0, 칸막이가 존재하는 부분은 1로 표시된다. 구멍이 뚫려 있는 부분끼리, 상하좌우로 붙어 있는 경우 서로 연결되어 있는 것으로 간주한다. 이때얼음 틀의 모양이 주어졌을 떄 생성되는 총 아이스크림의 개수를 구하는 프로그램을 작성하시오. 다음의 4 *5 얼음 틀 예시에서는 아이스크림이 총 3개 생성된다.\n",
    "\n",
    "입력 조건 : 첫번째 줄에 얼음 틀의 세로길이 n과 가로 길이 m이 주어진다(1<=N , M<=1000)\n",
    "두번 째 줄부터 n + 1번째 줄까지 얼음 틀의 형태가 주어진다.\n",
    "이때 구멍이 뚫려있는 부분은 0, 그렇지않은 부분은 1이다\n",
    "\n",
    "출력 조건 : 한 번에 만들 수 있는 아이스크림의 개수를 출력한다\n",
    "- 입력\n",
    "- 00110\n",
    "- 00011\n",
    "- 11111\n",
    "- 00000\n",
    "- 출력 : 3\n",
    "#### 문제2\n",
    "동빈이는 N * M 크기의 직사각형 형태의 미로에 갇혀 있다. 미로에는 여러 마리의 괴물이 있어 이를 피해 탈출해야 한다. 동빈이의 위치는 (1,1) 이고 미로의 출구는 (N,M)의 위치에 존재하며 한번에 한 칸씩 이동할 수 있다. 이떄 괴물이 있는 부분은 0으로, 괴물이 없는 부분은 1로 표시되어 있다. 미로는 반드시 탈출할 수 있는 형태로 제시한다. 이때 동빈이가 탈출하기 위해 움직여야 하는 최소 칸의 개수를 구하시오. 칸을 셀때는 시작 칸과 마지막 칸을 모두 포함해서 계산한다.\n",
    "\n",
    "입력조건 : 첫째 줄에 N,M(4<=N, M<=200) 이 주어집니다. 다음 N개의 줄에는 각각 M개의 정수 (0 or 1)로 미로의 정보가 주어집니다. 각각의 수들은 공백 없이 붙어서 입력으로 제시됩니다. 또한 시작 칸과 마지막 칸은 항상 1이다.\n",
    "\n",
    "출력 조건 : 첫째 줄에 최소 이동 칸의 개수를 출력해라\n",
    "ex)\n",
    "- 입력\n",
    "- 5 6\n",
    "- 101010\n",
    "- 111111\n",
    "- 000001\n",
    "- 111111\n",
    "- 111111\n",
    "\n",
    "- 출력 = 10\n",
    "\n",
    "\n",
    "#### 문제3\n",
    "- https://www.acmicpc.net/problem/18428\n",
    "- 제한 시간 60분\n",
    "\n",
    "\n",
    "#### 문제4\n",
    "- https://programmers.co.kr/learn/courses/30/lessons/60063\n",
    "- 제한 시간 50분"
   ]
  },
  {
   "cell_type": "code",
   "execution_count": 4,
   "id": "7916b8ff",
   "metadata": {
    "lines_to_next_cell": 0
   },
   "outputs": [
    {
     "name": "stdout",
     "output_type": "stream",
     "text": [
      "\n"
     ]
    },
    {
     "ename": "ValueError",
     "evalue": "invalid literal for int() with base 10: ''",
     "output_type": "error",
     "traceback": [
      "\u001b[1;31m---------------------------------------------------------------------------\u001b[0m",
      "\u001b[1;31mValueError\u001b[0m                                Traceback (most recent call last)",
      "\u001b[1;32m<ipython-input-4-3b9910a2fcb4>\u001b[0m in \u001b[0;36m<module>\u001b[1;34m\u001b[0m\n\u001b[0;32m      1\u001b[0m \u001b[1;31m# 문제 3\u001b[0m\u001b[1;33m\u001b[0m\u001b[1;33m\u001b[0m\u001b[1;33m\u001b[0m\u001b[0m\n\u001b[0;32m      2\u001b[0m \u001b[1;32mfrom\u001b[0m \u001b[0mitertools\u001b[0m \u001b[1;32mimport\u001b[0m \u001b[0mcombinations\u001b[0m\u001b[1;33m\u001b[0m\u001b[1;33m\u001b[0m\u001b[0m\n\u001b[1;32m----> 3\u001b[1;33m \u001b[0mn\u001b[0m \u001b[1;33m=\u001b[0m \u001b[0mint\u001b[0m\u001b[1;33m(\u001b[0m\u001b[0minput\u001b[0m\u001b[1;33m(\u001b[0m\u001b[1;33m)\u001b[0m\u001b[1;33m)\u001b[0m\u001b[1;33m\u001b[0m\u001b[1;33m\u001b[0m\u001b[0m\n\u001b[0m\u001b[0;32m      4\u001b[0m \u001b[0mboard\u001b[0m \u001b[1;33m=\u001b[0m \u001b[1;33m[\u001b[0m\u001b[1;33m]\u001b[0m\u001b[1;33m\u001b[0m\u001b[1;33m\u001b[0m\u001b[0m\n\u001b[0;32m      5\u001b[0m \u001b[0mteachers\u001b[0m \u001b[1;33m=\u001b[0m \u001b[1;33m[\u001b[0m\u001b[1;33m]\u001b[0m\u001b[1;33m\u001b[0m\u001b[1;33m\u001b[0m\u001b[0m\n",
      "\u001b[1;31mValueError\u001b[0m: invalid literal for int() with base 10: ''"
     ]
    }
   ],
   "source": [
    "# 문제 3\n",
    "from itertools import combinations\n",
    "n = int(input())\n",
    "board = []\n",
    "teachers = []\n",
    "spaces = []\n",
    "for i in range(n):\n",
    "    board.append(list(map(str, input().split())))\n",
    "    for j in range(n):\n",
    "        if board[i][j] == 't':\n",
    "            teachers.append((i,j))\n",
    "        # obstacle을 설치할 수 있는 공간 저장\n",
    "        if board[i][j] == 'x':\n",
    "            spaces.append((i,j))\n",
    "\n",
    "        \n",
    "def look(board,x,y):\n",
    "    if board[x][y] == 't':\n",
    "        #왼쪽 탐색\n",
    "        if direction == 0:\n",
    "            while y >=0:\n",
    "                y -= 1\n",
    "\n",
    "                if board[x][y] == s:\n",
    "                    return True\n",
    "                if board[x][y] == o:\n",
    "                    return False\n",
    "            \n",
    "         #오른쪽 탐색\n",
    "        if direction == 1:\n",
    "            while y < n:\n",
    "                y +=1\n",
    "                if board[x][y] == 's':\n",
    "                    return True\n",
    "                if board[x][y] == 'o':\n",
    "                    return False\n",
    "        #위쪽탐색\n",
    "        if direction == 2:\n",
    "            while x>=0:\n",
    "                x -=1\n",
    "                if board[x][y] == 's':\n",
    "                    return True\n",
    "                if board[x][y] == 'o':\n",
    "                    return False\n",
    "        #아래 탐색\n",
    "        if direction == 3:\n",
    "            while x<n:\n",
    "                x +=1\n",
    "                if board[x][y] == 's':\n",
    "                    return True\n",
    "                if board[x][y] == 'o':\n",
    "                    return False\n",
    "\n",
    "def process():\n",
    "    \n",
    "    for x,y in teacher:\n",
    "        for i in range(4):\n",
    "            if look(x,y,i):\n",
    "                return True\n",
    "        return False\n",
    "    \n",
    "    find = False\n",
    "    \n",
    "    for data in combinations(spaces, 3):\n",
    "        \n",
    "        for x,y in data:\n",
    "            board[x][y] = 'o'\n",
    "        \n",
    "        if not process():\n",
    "            \n",
    "            find = True\n",
    "            break\n",
    "            \n",
    "        for x,y in data:\n",
    "            board[x][y] = 'x'\n",
    "            \n",
    "            \n",
    "if find:\n",
    "    print('YES')\n",
    "\n",
    "else:\n",
    "    print('NO')"
   ]
  },
  {
   "cell_type": "code",
   "execution_count": null,
   "id": "9b815d73",
   "metadata": {},
   "outputs": [],
   "source": []
  },
  {
   "cell_type": "code",
   "execution_count": null,
   "id": "5a3ce062",
   "metadata": {},
   "outputs": [],
   "source": []
  },
  {
   "cell_type": "code",
   "execution_count": null,
   "id": "473f6258",
   "metadata": {},
   "outputs": [],
   "source": []
  },
  {
   "cell_type": "code",
   "execution_count": null,
   "id": "1ec80c58",
   "metadata": {},
   "outputs": [],
   "source": []
  },
  {
   "cell_type": "code",
   "execution_count": null,
   "id": "cfd247a2",
   "metadata": {},
   "outputs": [],
   "source": []
  },
  {
   "cell_type": "code",
   "execution_count": null,
   "id": "bf713e06",
   "metadata": {
    "lines_to_next_cell": 2
   },
   "outputs": [],
   "source": []
  }
 ],
 "metadata": {
  "jupytext": {
   "encoding": "# -*- coding: utf-8 -*-",
   "formats": "ipynb,py:light"
  },
  "kernelspec": {
   "display_name": "Python 3",
   "language": "python",
   "name": "python3"
  },
  "language_info": {
   "codemirror_mode": {
    "name": "ipython",
    "version": 3
   },
   "file_extension": ".py",
   "mimetype": "text/x-python",
   "name": "python",
   "nbconvert_exporter": "python",
   "pygments_lexer": "ipython3",
   "version": "3.8.10"
  }
 },
 "nbformat": 4,
 "nbformat_minor": 5
}
