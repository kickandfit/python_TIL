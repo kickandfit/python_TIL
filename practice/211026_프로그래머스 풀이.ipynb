{
 "cells": [
  {
   "cell_type": "code",
   "execution_count": null,
   "id": "7083e7d8",
   "metadata": {},
   "outputs": [],
   "source": [
    "# 전화번호 목록 : 효용성 테스트 실패\n",
    "def solution(phone_book):\n",
    "    n_phone_book = sorted(phone_book)\n",
    "    num_list = defaultdict(str)\n",
    "    for i,k in enumerate(n_phone_book):\n",
    "        num_list[i] = k\n",
    "    for i in num_list:\n",
    "        if i < len(num_list):\n",
    "            for j in range(i+1,len(num_list)):\n",
    "                if num_list[i] == num_list[j][:len(num_list[i])]:\n",
    "                    answer = False\n",
    "                    break\n",
    "                else:\n",
    "                    answer = True\n",
    "                    continue\n",
    "        if answer == False:\n",
    "            break      \n",
    "        else:\n",
    "            continue\n",
    "    return answer\n",
    "\n",
    "# 문자열을 정렬하면 앞의 숫자 순서대로 나온다, 즉 숫자 크기가 아니라 맞춰서 정렬되기 때문에 뒤에 부분 생각할 필요가 없다"
   ]
  },
  {
   "cell_type": "code",
   "execution_count": null,
   "id": "a271cb55",
   "metadata": {},
   "outputs": [],
   "source": [
    "# 전화번호 목로 : 통과\n",
    "def solution(phone_book):\n",
    "    answer = True\n",
    "    phone_book.sort()\n",
    "    for i in range(len(phone_book)-1):\n",
    "        if len(phone_book[i]) < len(phone_book[i+1]):\n",
    "            if phone_book[i + 1][:len(phone_book[i])] == phone_book[i]:\n",
    "                answer = False\n",
    "                break\n",
    "    return answer"
   ]
  },
  {
   "cell_type": "code",
   "execution_count": 3,
   "id": "29226116",
   "metadata": {},
   "outputs": [
    {
     "name": "stdout",
     "output_type": "stream",
     "text": [
      "[(1, 2), (2, 3)]\n"
     ]
    }
   ],
   "source": [
    "# zip 과 , startswich를 활용한 풀이\n",
    "a = [1,2,3]\n",
    "b = (4,5,6)\n",
    "c = 'abce'\n",
    "print(list(zip(a,a[1:])))\n",
    "\n",
    "def solution(phoneBook):\n",
    "    phoneBook = sorted(phoneBook)\n",
    "\n",
    "    for p1, p2 in zip(phoneBook, phoneBook[1:]):\n",
    "        if p2.startswith(p1):\n",
    "            return False\n",
    "    return True"
   ]
  },
  {
   "cell_type": "code",
   "execution_count": null,
   "id": "e322cdf3",
   "metadata": {},
   "outputs": [],
   "source": [
    "# 파이썬 정렬 알고리즘 h-index\n",
    "def solution(citations):\n",
    "    citations = sorted(citations)\n",
    "    l = len(citations)\n",
    "    for i in range(l):\n",
    "        if citations[i] >= l-i:\n",
    "            return l-i\n",
    "    return 0"
   ]
  },
  {
   "cell_type": "code",
   "execution_count": null,
   "id": "4ea5d75f",
   "metadata": {},
   "outputs": [],
   "source": [
    "# N으로 표현하기\n",
    "def solution(N, number):\n",
    "    possible_set = [0,[N]] # 조합으로 나올수 있는 가능한 숫자들, 여기에 계속 append하며 이후에 사용함\n",
    "    if N == number: #주어진 숫자와 사용해야 하는 숫자가 같은 경우는 1개면 족하므로 1으로 놓는다. \n",
    "        return 1\n",
    "    for i in range(2, 9): # 2부터 8까지로 횟수를 늘려 간다. \n",
    "        case_set = [] # 임시로 사용할 케이스 셋, 각 I 별로 셋을 만들어 possible set에 붙인다.\n",
    "        basic_num = int(str(N)*i) # 같은 숫자 반복되는 거 하나를 추가한다.\n",
    "        case_set.append(basic_num)\n",
    "        for i_half in range(1, i//2+1): # 사용되는 숫자의 횟수를 구해야 하는데, \n",
    "                                         #절반 이상으로 넘어가면 같은 결과만 나올 뿐이므로 절반까지만을 사용한다. \n",
    "            for x in possible_set[i_half]:\n",
    "                for y in possible_set[i-i_half]: # x와 y를 더하면 i 가 되도록 만든 수다. \n",
    "                    print(possible_set)\n",
    "                    case_set.append(x+y)# 각 사칙연산 결과를 더한다.\n",
    "                    case_set.append(x-y)\n",
    "                    case_set.append(y-x)\n",
    "                    case_set.append(x*y)\n",
    "                    if y !=0:\n",
    "                        case_set.append(x/y)\n",
    "                    if x !=0:\n",
    "                        case_set.append(y/x)\n",
    "            if number in case_set:\n",
    "                return i\n",
    "            possible_set.append(case_set) # 최종 결과물 set에 사칙 연산 결과를 더한다.\n",
    "    return -1 #N 이 8까지 답이 없으면 -1을 출력한다."
   ]
  }
 ],
 "metadata": {
  "jupytext": {
   "formats": "ipynb,auto:light"
  },
  "kernelspec": {
   "display_name": "Python 3",
   "language": "python",
   "name": "python3"
  },
  "language_info": {
   "codemirror_mode": {
    "name": "ipython",
    "version": 3
   },
   "file_extension": ".py",
   "mimetype": "text/x-python",
   "name": "python",
   "nbconvert_exporter": "python",
   "pygments_lexer": "ipython3",
   "version": "3.8.10"
  }
 },
 "nbformat": 4,
 "nbformat_minor": 5
}
