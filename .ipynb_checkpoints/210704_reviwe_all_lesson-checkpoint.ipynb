{
 "cells": [
  {
   "cell_type": "code",
   "execution_count": 41,
   "id": "543f2add",
   "metadata": {},
   "outputs": [
    {
     "name": "stdout",
     "output_type": "stream",
     "text": [
      "로또 번호 : [18, 14, 29, 22, 25, 35] 보너스 번호 : 5\n"
     ]
    }
   ],
   "source": [
    "# 고유값찾기 : 로또 번호 생성기\n",
    "import numpy as np\n",
    "\n",
    "num_lst = []\n",
    "\n",
    "while len(num_lst) <= 6:\n",
    "    num = np.random.randint( 1, 46 )\n",
    "    \n",
    "    if num not in num_lst:\n",
    "        num_lst.append(num)\n",
    "\n",
    "print(f'로또 번호 : {num_lst[:-1]} 보너스 번호 : {num_lst[-1]}')"
   ]
  },
  {
   "cell_type": "code",
   "execution_count": 67,
   "id": "28422a33",
   "metadata": {},
   "outputs": [
    {
     "name": "stdout",
     "output_type": "stream",
     "text": [
      "[8, 3, 5, 1, 3, 5, 10, 8, 10, 10, 7]\n",
      "[8, 3, 5, 1, 10, 7]\n"
     ]
    }
   ],
   "source": [
    "# 문법 in에 대한 고찰( for과 if만을 활용하기 )\n",
    "\n",
    "import numpy as np\n",
    "\n",
    "num_lst = []\n",
    "eval_num = []\n",
    "\n",
    "while len(num_lst) <= 10:\n",
    "    num_lst.append( np.random.randint(1,11))\n",
    "\n",
    "print(num_lst)\n",
    "for i in num_lst:\n",
    "                \n",
    "    if len(eval_num) == 0:\n",
    "        eval_num.append(i)\n",
    "        continue\n",
    "    cnt = 0\n",
    "    for j in eval_num:\n",
    "\n",
    "        if i == j:\n",
    "            cnt +=1\n",
    "            break\n",
    "        \n",
    " \n",
    "    if cnt == 0:\n",
    "        eval_num.append(i)\n",
    "            \n",
    "            \n",
    "print(eval_num)"
   ]
  },
  {
   "cell_type": "code",
   "execution_count": 69,
   "id": "ce1fe230",
   "metadata": {},
   "outputs": [
    {
     "name": "stdout",
     "output_type": "stream",
     "text": [
      "[4, 5, 10, 1, 3, 8, 9, 6, 7, 2]\n"
     ]
    }
   ],
   "source": [
    "# cnt 쓰지 않고 해보기\n",
    "import numpy as np\n",
    "\n",
    "num_lst = []\n",
    "eval_num = []\n",
    "\n",
    "while len(num_lst) <= 100:\n",
    "    num_lst.append( np.random.randint(1,11))\n",
    "\n",
    "for i in num_lst:\n",
    "    if len(eval_num) == 0:\n",
    "        eval_num.append(i)\n",
    "        continue\n",
    "    \n",
    "    for j in range(len(eval_num)):\n",
    "        if i == eval_num[j]:\n",
    "            break\n",
    "        \n",
    "        if j == len(eval_num) - 1:\n",
    "            eval_num.append(i)\n",
    "\n",
    "print(eval_num)\n"
   ]
  },
  {
   "cell_type": "code",
   "execution_count": 97,
   "id": "930494ae",
   "metadata": {},
   "outputs": [
    {
     "name": "stdout",
     "output_type": "stream",
     "text": [
      "['동준이는', '원래', '스터디', '카페에', '같이', '등록하기로', '했다.', '그런데', '관장님의', '갑작스러운', '부탁으로', '동준이는', '내일', '단기', '알바를', '하러', '가기로', '했다.']\n"
     ]
    }
   ],
   "source": [
    "#split 함수 짜보기\n",
    "\n",
    "txt_lst = '''동준이는 원래 스터디 카페에 같이 등록하기로 했다.\n",
    "그런데 관장님의 갑작스러운 부탁으로 동준이는 내일 단기 알바를 하러 가기로 했다.'''\n",
    "txt = txt_lst.replace('\\n',' ')\n",
    "        \n",
    "나누는단어=\" \"\n",
    "리스트형_변수=[]\n",
    "단어_변수=\"\"\n",
    "글자수=len(나누는단어)\n",
    "\n",
    "txt=txt.replace('\\n', ',')\n",
    "\n",
    "for 순번 in range(len(txt)-(글자수-1)):\n",
    "    if txt[순번:순번+글자수] != 나누는단어:\n",
    "        단어_변수 = 단어_변수 + txt[순번]\n",
    "    else:\n",
    "        리스트형_변수.append(단어_변수)\n",
    "        단어_변수=\"\"\n",
    "\n",
    "if 단어_변수!=\"\":\n",
    "    리스트형_변수.append(단어_변수)\n",
    "\n",
    "print(리스트형_변수)"
   ]
  },
  {
   "cell_type": "code",
   "execution_count": 141,
   "id": "fd897786",
   "metadata": {},
   "outputs": [
    {
     "name": "stdout",
     "output_type": "stream",
     "text": [
      "['', '이는 원래 스터디 카페에 같이 등록하기로 했다. 그런데 관장님의 갑작스러운 부탁으로 ', '이는 내일 단기 알바를 하러 가기로 했다.']\n",
      "나눌 단어를 입력하세요동준\n",
      "['', '이는 원래 스터디 카페에 같이 등록하기로 했다. 그런데 관장님의 갑작스러운 부탁으로 ', '이는 내일 단기 알바를 하러 가기로 했다.']\n"
     ]
    }
   ],
   "source": [
    "txt_lst = '''동준이는 원래 스터디 카페에 같이 등록하기로 했다.\n",
    "그런데 관장님의 갑작스러운 부탁으로 동준이는 내일 단기 알바를 하러 가기로 했다.'''\n",
    "txt = txt_lst.replace('\\n',' ')\n",
    "\n",
    "spl = input(\"나눌 단어를 입력하세요\")\n",
    "word_lst = \"\"\n",
    "result = []\n",
    "len_word = len(spl)\n",
    "a= 0 \n",
    "\n",
    "for i in range(len(txt)):\n",
    "\n",
    "    \n",
    "    if txt[i:i+len_word] != spl:\n",
    "        if i >= a :\n",
    "            word_lst += txt[i]\n",
    "    else:\n",
    "        result.append(word_lst)\n",
    "        word_lst = \"\"\n",
    "        a = i+len_word\n",
    "    \n",
    "    if i == len(txt) -1:\n",
    "        result.append(word_lst)\n",
    "        \n",
    "print(result)"
   ]
  },
  {
   "cell_type": "code",
   "execution_count": 161,
   "id": "e50d7fb4",
   "metadata": {},
   "outputs": [
    {
     "name": "stdout",
     "output_type": "stream",
     "text": [
      "['\\t\\t지점번호', '지점명', '일시', '평균기온(℃)', '최고기온(℃)', '\\t최고기온시각', '최저기온(℃)', '최저기온시각일교차']\n",
      "\n",
      "최고기온 : 39.6, 최고기온 날짜 : 2018-08-01, 최저기온 : -23.1, 최저기온 날짜 : 1927-12-31\n"
     ]
    }
   ],
   "source": [
    "# CSV 파일 읽기 , max/ min 값 찾기\n",
    "import csv\n",
    "\n",
    "f = open('./Data/seoul.csv', encoding = 'cp949')\n",
    "data = csv.reader(f)\n",
    "header = next(data)\n",
    "print(header)\n",
    "print()\n",
    "\n",
    "max_tem = [\"\",0.0]\n",
    "min_tem = [\"\",100.0]\n",
    "\n",
    "\n",
    "for row in data:\n",
    "    if row[4] != \"\":\n",
    "        \n",
    "        if float(row[4]) > max_tem[1]:\n",
    "            max_tem[1] = float(row[4])\n",
    "            max_tem[0] = row[2]\n",
    "        \n",
    "        if float(row[-2]) < min_tem[1]:\n",
    "            min_tem[1] = float(row[-2])\n",
    "            min_tem[0] = row[2]\n",
    "\n",
    "print(f'최고기온 : {max_tem[1]}, 최고기온 날짜 : {max_tem[0]}, 최저기온 : {min_tem[1]}, 최저기온 날짜 : {min_tem[0]}')"
   ]
  },
  {
   "cell_type": "code",
   "execution_count": 179,
   "id": "9c7ac300",
   "metadata": {},
   "outputs": [
    {
     "name": "stdout",
     "output_type": "stream",
     "text": [
      "39.6\n",
      "-23.1\n"
     ]
    }
   ],
   "source": [
    "# pandas로 읽어오기\n",
    "import pandas as pd\n",
    "\n",
    "df = pd.read_csv('./Data/seoul.csv', encoding = 'cp949')\n",
    "\n",
    "print(df['최고기온(℃)'].max())\n",
    "print(df['최저기온(℃)'].min())\n"
   ]
  },
  {
   "cell_type": "code",
   "execution_count": 178,
   "id": "544cacb2",
   "metadata": {},
   "outputs": [
    {
     "data": {
      "text/plain": [
       "7396    1927-12-31\n",
       "Name: 일시, dtype: object"
      ]
     },
     "execution_count": 178,
     "metadata": {},
     "output_type": "execute_result"
    }
   ],
   "source": [
    "df[df['최저기온(℃)'] == df['최저기온(℃)'].min()][\"일시\"]"
   ]
  },
  {
   "cell_type": "markdown",
   "id": "81c29575",
   "metadata": {},
   "source": [
    "### 미션 : 연간_인구현황.csv 파일에서 2018~2020년 데이터 추출하기\n",
    "\n",
    "- 추출 데이터:0~9세 데이터(전체/남/여)\n",
    "- 차트 : 전체/남/여/지역별 그리기\n"
   ]
  },
  {
   "cell_type": "code",
   "execution_count": 215,
   "id": "82fad227",
   "metadata": {},
   "outputs": [
    {
     "name": "stdout",
     "output_type": "stream",
     "text": [
      "['행정구역', '2019년_계_총인구수', '2019년_계_연령구간인구수', '2019년_계_0~9세', '2019년_남_총인구수', '2019년_남_연령구간인구수', '2019년_남_0~9세', '2019년_여_총인구수', '2019년_여_연령구간인구수', '2019년_여_0~9세', '2020년_계_총인구수', '2020년_계_연령구간인구수', '2020년_계_0~9세', '2020년_남_총인구수', '2020년_남_연령구간인구수', '2020년_남_0~9세', '2020년_여_총인구수', '2020년_여_연령구간인구수', '2020년_여_0~9세']\n",
      "\n"
     ]
    },
    {
     "data": {
      "text/plain": [
       "<function matplotlib.pyplot.show(close=None, block=None)>"
      ]
     },
     "execution_count": 215,
     "metadata": {},
     "output_type": "execute_result"
    },
    {
     "data": {
      "image/png": "[encoded data removed]",
      "text/plain": [
       "<Figure size 432x288 with 1 Axes>"
      ]
     },
     "metadata": {},
     "output_type": "display_data"
    }
   ],
   "source": [
    "import csv\n",
    "import matplotlib.pyplot as plt\n",
    "import matplotlib.font_manager as fm\n",
    "\n",
    "font_path = \"C:/Windows/Fonts/malgun.ttf\" \n",
    "font_name = fm.FontProperties(fname=font_path).get_name()\n",
    "plt.rc('font', family=font_name) \n",
    "f = open('./Data/연간_인구현황.csv', encoding = 'cp949')\n",
    "data = csv.reader(f)\n",
    "\n",
    "header=next(data)\n",
    "print(header)\n",
    "print()\n",
    "\n",
    "age_0_to_9_national = []\n",
    "age_0_to_9_man = []\n",
    "age_0_to_9_wom = []\n",
    "rigeonal_name = []\n",
    "for row in data:\n",
    "    age_0_to_9_national.append( int(row[3].replace(\",\",\"\")) )\n",
    "    rigeonal_name.append(row[0][:-13])\n",
    "    age_0_to_9_man.append( int(row[6].replace(\",\",\"\")) )\n",
    "    age_0_to_9_wom.append( int(row[9].replace(\",\",\"\")) )\n",
    "index = np.arange(len(age_0_to_9))\n",
    "\n",
    "plt.bar(index, age_0_to_9_national, label = \"0 to 9 population\")\n",
    "plt.bar(index, age_0_to_9_man, label = \"0 to 9 man_population\")\n",
    "plt.bar(index, age_0_to_9_wom, label = \"0 to 9 woman_population\")\n",
    "plt.xticks(index, rigeonal_name, rotation = 90)\n",
    "plt.legend(loc = 'best')\n",
    "plt.show\n"
   ]
  },
  {
   "cell_type": "markdown",
   "id": "644b1a1b",
   "metadata": {},
   "source": []
  },
  {
   "cell_type": "code",
   "execution_count": 180,
   "id": "e0980c63",
   "metadata": {},
   "outputs": [
    {
     "name": "stdout",
     "output_type": "stream",
     "text": [
      "               일시  평균기온(℃)  최고기온(℃)  최저기온(℃)\n",
      "0      1907-10-01     13.5     20.7      7.9\n",
      "1      1907-10-02     16.2     22.0      7.9\n",
      "2      1907-10-03     16.2     21.3     13.1\n",
      "3      1907-10-04     16.5     22.0     11.2\n",
      "4      1907-10-05     17.6     25.4     10.9\n",
      "...           ...      ...      ...      ...\n",
      "41117         NaN      NaN      NaN      NaN\n",
      "41118         NaN      NaN      NaN      NaN\n",
      "41119         NaN      NaN      NaN      NaN\n",
      "41120         NaN      NaN      NaN      NaN\n",
      "41121         NaN      NaN      NaN      NaN\n",
      "\n",
      "[41122 rows x 4 columns]\n",
      "일시\n",
      "평균기온(℃)\n",
      "최고기온(℃)\n",
      "최저기온(℃)\n",
      "[]\n"
     ]
    }
   ],
   "source": []
  },
  {
   "cell_type": "code",
   "execution_count": null,
   "id": "95da39e2",
   "metadata": {},
   "outputs": [],
   "source": []
  }
 ],
 "metadata": {
  "jupytext": {
   "formats": "ipynb,auto:light"
  },
  "kernelspec": {
   "display_name": "Python 3",
   "language": "python",
   "name": "python3"
  },
  "language_info": {
   "codemirror_mode": {
    "name": "ipython",
    "version": 3
   },
   "file_extension": ".py",
   "mimetype": "text/x-python",
   "name": "python",
   "nbconvert_exporter": "python",
   "pygments_lexer": "ipython3",
   "version": "3.9.4"
  }
 },
 "nbformat": 4,
 "nbformat_minor": 5
}
