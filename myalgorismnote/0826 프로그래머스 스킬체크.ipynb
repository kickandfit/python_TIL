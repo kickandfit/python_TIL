{
 "cells": [
  {
   "cell_type": "markdown",
   "id": "311d4e77",
   "metadata": {},
   "source": [
    "#### 문제 1\n",
    "- 길이가 n이고, \"수박수박수박수....\"와 같은 패턴을 유지하는 문자열을 리턴하는 함수, solution을 완성하세요. 예를들어 n이 4이면 \"수박수박\"을 리턴하고 3이라면 \"수박수\"를 리턴하면 됩니다."
   ]
  },
  {
   "cell_type": "code",
   "execution_count": null,
   "id": "f34e2499",
   "metadata": {},
   "outputs": [],
   "source": [
    "def solution(n):\n",
    "    answer = \"\"\n",
    "    if n>=1:\n",
    "        if n%2 == 0:\n",
    "            answer = '수박'*(n//2)\n",
    "        else:\n",
    "            answer = '수박'*(n//2)+'수'\n",
    "\n",
    "    return answer"
   ]
  },
  {
   "cell_type": "markdown",
   "id": "83366e2e",
   "metadata": {},
   "source": [
    "#### 문제 2\n",
    "- 두 정수 left와 right가 매개변수로 주어집니다. left부터 right까지의 모든 수들 중에서, 약수의 개수가 짝수인 수는 더하고, 약수의 개수가 홀수인 수는 뺀 수를 return 하도록 solution 함수를 완성해주세요.\n",
    "\n"
   ]
  },
  {
   "cell_type": "code",
   "execution_count": null,
   "id": "3b041077",
   "metadata": {},
   "outputs": [],
   "source": [
    "def solution(left, right):\n",
    "    count = 0\n",
    "    answer = 0\n",
    "    for n in range(left, right+1):\n",
    "        for num in range(1, right+1):       \n",
    "            if n%num == 0:\n",
    "                count += 1\n",
    "        if count%2 == 0:\n",
    "            answer += n\n",
    "            count = 0\n",
    "        else:\n",
    "            answer -= n\n",
    "            count = 0\n",
    "    return answer"
   ]
  }
 ],
 "metadata": {
  "kernelspec": {
   "display_name": "Python 3",
   "language": "python",
   "name": "python3"
  },
  "language_info": {
   "codemirror_mode": {
    "name": "ipython",
    "version": 3
   },
   "file_extension": ".py",
   "mimetype": "text/x-python",
   "name": "python",
   "nbconvert_exporter": "python",
   "pygments_lexer": "ipython3",
   "version": "3.8.10"
  }
 },
 "nbformat": 4,
 "nbformat_minor": 5
}
