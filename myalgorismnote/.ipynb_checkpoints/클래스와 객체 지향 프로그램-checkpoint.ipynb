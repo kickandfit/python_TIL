{
 "cells": [
  {
   "cell_type": "markdown",
   "id": "67d7f128",
   "metadata": {},
   "source": [
    "# equal(동등한) 과 identical(동일한)\n",
    "\n",
    "- is 와 == 의 동작 차이 인지\n",
    "- == 동등 여부 확인, is 는 동일 여부 확인"
   ]
  },
  {
   "cell_type": "code",
   "execution_count": 2,
   "id": "a42c4d99",
   "metadata": {},
   "outputs": [
    {
     "name": "stdout",
     "output_type": "stream",
     "text": [
      "[1, 2, 3]\n",
      "[1, 2, 3]\n",
      "\n",
      "True\n",
      "\n",
      "True\n"
     ]
    }
   ],
   "source": [
    "a = [1, 2, 3]\n",
    "b = a\n",
    "print(a)\n",
    "print(b)\n",
    "print()\n",
    "print(a==b) # 동등한 지를 확인\n",
    "print()\n",
    "# 두 변수가 하나의 리스트 객체를 가리키고 있음을 확인\n",
    "\n",
    "print(a is b) # 동일한 지를 확인\n"
   ]
  },
  {
   "cell_type": "code",
   "execution_count": 4,
   "id": "6121ab8a",
   "metadata": {},
   "outputs": [
    {
     "name": "stdout",
     "output_type": "stream",
     "text": [
      "[1, 2, 3]\n",
      "\n",
      "True\n",
      "\n",
      "False\n"
     ]
    }
   ],
   "source": [
    "# a 리스트 객체를 복사해 c에 넣음\n",
    "# a와 c는 동등하지만 동일하지는 않다\n",
    "# 서로 다른 객체를 가리키고 있음\n",
    "\n",
    "c = list(a)\n",
    "print(c)\n",
    "print()\n",
    "print(a==c)\n",
    "print()\n",
    "print(a is c)"
   ]
  },
  {
   "cell_type": "markdown",
   "id": "a6678c52",
   "metadata": {},
   "source": [
    "#### keypoint( 동등 과 동일 )\n",
    "\n",
    "- 두 변수가 동일(identical)한 객체를 가리키는 경우 is 표현식은 True\n",
    "- == 표현식은 변수가 참조하는 객체가 동등한(equal: 내용이 같은) 경우 True로 평가\n"
   ]
  },
  {
   "cell_type": "markdown",
   "id": "f5730653",
   "metadata": {},
   "source": [
    "# 문자열 변환 ( 모든 클래스는 __repr__이 필요하다 )\n",
    "\n",
    "- 파이썬에서 사용자 정의 클래스를 만들고 그 인스턴스를 콘솔에 출력해 보면 ( 인터프리터 세션에서 보면 ) 결과가 비교적 만족스럽지 않음\n",
    "- '문자열로' 전환하는 기본 동작이 기초적이고 세부 내용이 부족하기 떄문"
   ]
  },
  {
   "cell_type": "markdown",
   "id": "a47aedd7",
   "metadata": {},
   "source": [
    "## 클래스 사용 시\n",
    "\n",
    "- 기본적으로 얻을 수 있는 것은 클래스명과 객체 인스턴스의 id(Cpython에서는 객체의 메모리 주소)를 포함하는 문자열\n",
    "- 클래스의 속성을 직접 출력하거나 클래스에 사용자 정의 to_string() 메서드를 추가하여 문제 해결가능"
   ]
  },
  {
   "cell_type": "code",
   "execution_count": 5,
   "id": "3d75083e",
   "metadata": {},
   "outputs": [
    {
     "name": "stdout",
     "output_type": "stream",
     "text": [
      "<__main__.Car object at 0x0000012EBFC7FAC0>\n"
     ]
    }
   ],
   "source": [
    "class Car:\n",
    "    def __init__(self, color, mileage):\n",
    "        self.color = color\n",
    "        self.mileage = mileage\n",
    "\n",
    "my_car = Car('red', 37281)\n",
    "print(my_car)"
   ]
  },
  {
   "cell_type": "code",
   "execution_count": 6,
   "id": "e8886795",
   "metadata": {},
   "outputs": [
    {
     "name": "stdout",
     "output_type": "stream",
     "text": [
      "red 37281\n"
     ]
    }
   ],
   "source": [
    "# 문제 해결 1\n",
    "print( my_car.color, my_car.mileage)"
   ]
  },
  {
   "cell_type": "markdown",
   "id": "75bea3a7",
   "metadata": {},
   "source": [
    "#### 이 방법의 문제점\n",
    "- 파이썬이 객체를 문자열로 표현하는 데 사용하는 규칙과 기본 제공 메커니즘을 무시함\n",
    "- 자신만의 문자열 변환 시스템을 만드는 대신 클래스에 __ str __ 과 __ repr __ (던더) 메서드를 추가하는 것이 좋음\n",
    "- 서로 다른 상황에서 객체가 문자열로 전환되는 방식은 제어하는 파이다운 방식\n",
    "- 아래 코드를 볼것"
   ]
  },
  {
   "cell_type": "markdown",
   "id": "b325ac91",
   "metadata": {},
   "source": [
    "#### 이 방식은 인스턴스 출력이나 검사시 개선된 결과를 얻을 수 있음"
   ]
  },
  {
   "cell_type": "code",
   "execution_count": 9,
   "id": "dea41b52",
   "metadata": {},
   "outputs": [
    {
     "name": "stdout",
     "output_type": "stream",
     "text": [
      " a red car \n"
     ]
    },
    {
     "data": {
      "text/plain": [
       "<__main__.Car at 0x12ebfcc45b0>"
      ]
     },
     "execution_count": 9,
     "metadata": {},
     "output_type": "execute_result"
    }
   ],
   "source": [
    "class Car:\n",
    "    def __init__(self, color, mileage):\n",
    "        self.color = color\n",
    "        self.mileage = mileage\n",
    "        \n",
    "    def __str__(self):\n",
    "        return f' a {self.color} car '\n",
    "    \n",
    "my_car = Car('red', 37281)\n",
    "print(my_car)\n",
    "my_car"
   ]
  },
  {
   "cell_type": "code",
   "execution_count": 11,
   "id": "71fe3d59",
   "metadata": {},
   "outputs": [
    {
     "name": "stdout",
     "output_type": "stream",
     "text": [
      " a red car \n",
      "<class '__main__.Car'>\n",
      " a red car \n",
      "<class 'str'>\n",
      " a red car \n",
      "<class 'str'>\n"
     ]
    }
   ],
   "source": [
    "print(my_car)\n",
    "print(type(my_car))\n",
    "print(str(my_car))\n",
    "print(type(str(my_car)))\n",
    "print(f'{my_car}')\n",
    "print(type(f'{my_car}'))"
   ]
  },
  {
   "cell_type": "markdown",
   "id": "ccf61ff2",
   "metadata": {},
   "source": [
    "### 위의 예제가 던져주는 메세지\n",
    "    - __ str __ 구현을 사용하면 객체 속성을 직접 출력하거나, 별도의 to_string()함수를 작성할 필요 없음\n",
    "    - 문자열 전환을 제어하는 파이썬 다운 방식\n",
    "    - 사용자가 정의한 메서드나 속성과의 충돌을 피하는 데 도움이 됨\n",
    "    - 던더 메서드를 친숙히 할 것"
   ]
  },
  {
   "cell_type": "markdown",
   "id": "efc46bb3",
   "metadata": {},
   "source": [
    "#  __ str __ vs __ repr __\n",
    "\n",
    "- 그러나 여전히 my_car 를 인터프리터 세션에서 검사하면 주소가 나옴\n",
    "- 이는 파이썬에서 객체가 문자열로 변환되는 방법을 제어아는 던더 메서드가 '2 가지' 이기 때문\n",
    "- 첫 번째는, __ str __ 이고, 두번 째는 __ repr __ 임\n",
    "- __ repr __ 의 동작 방식은 __ str __ 과 유사하지만 다른 상황에서 사용됨"
   ]
  },
  {
   "cell_type": "code",
   "execution_count": 13,
   "id": "2967f15b",
   "metadata": {},
   "outputs": [
    {
     "name": "stdout",
     "output_type": "stream",
     "text": [
      " __str__ for Car\n",
      "\n",
      " __str__ for Car\n",
      "\n"
     ]
    },
    {
     "data": {
      "text/plain": [
       "__repr__ for Car"
      ]
     },
     "execution_count": 13,
     "metadata": {},
     "output_type": "execute_result"
    }
   ],
   "source": [
    "# 예시\n",
    "# 차이 알아보기\n",
    "\n",
    "class Car:\n",
    "    def __init__(self, color, mileage):\n",
    "        self.color = color\n",
    "        self.mileage = mileage\n",
    "    \n",
    "    def __str__(self):\n",
    "        return ' __str__ for Car'\n",
    "    \n",
    "    def __repr__(self):\n",
    "        return '__repr__ for Car'\n",
    "    \n",
    "my_car = Car('red', 37281)\n",
    "print(my_car)\n",
    "print()\n",
    "print(f'{my_car}')\n",
    "print()\n",
    "my_car"
   ]
  },
  {
   "cell_type": "code",
   "execution_count": 14,
   "id": "0df89175",
   "metadata": {},
   "outputs": [
    {
     "data": {
      "text/plain": [
       "'[__repr__ for Car]'"
      ]
     },
     "execution_count": 14,
     "metadata": {},
     "output_type": "execute_result"
    }
   ],
   "source": [
    "# 리스트나 딕셔너리는 __repr__을 사용함\n",
    "str([my_car])"
   ]
  },
  {
   "cell_type": "code",
   "execution_count": 15,
   "id": "64d7d8c8",
   "metadata": {},
   "outputs": [
    {
     "data": {
      "text/plain": [
       "'{__repr__ for Car}'"
      ]
     },
     "execution_count": 15,
     "metadata": {},
     "output_type": "execute_result"
    }
   ],
   "source": [
    "str({my_car})"
   ]
  },
  {
   "cell_type": "markdown",
   "id": "0edd7991",
   "metadata": {},
   "source": [
    "#### 위의 예제가 던져주는 메세지\n",
    "- 코드의 의도를 좀 더 명확하게 표현하기 우해 문자열 전환 메서드를 직접 선택하고자 한다면 str(),rper() 함수를 사용하는 것이 좋음\n",
    "- 이 함수들이 사용하는 편이 보기 좋으면서 결과가 똑같기에 __ str __ 또는 __ rper __ 을 직접 호출하는 것보다 바람직"
   ]
  },
  {
   "cell_type": "code",
   "execution_count": 17,
   "id": "f047b5cf",
   "metadata": {},
   "outputs": [
    {
     "name": "stdout",
     "output_type": "stream",
     "text": [
      " __str__ for Car\n",
      "__repr__ for Car\n"
     ]
    }
   ],
   "source": [
    "# 즉 아래처럼 호출하라는 의미\n",
    "print(str(my_car))\n",
    "print(repr(my_car))"
   ]
  },
  {
   "cell_type": "markdown",
   "id": "63c429ed",
   "metadata": {},
   "source": [
    "### __ repr __ 과 __ str __ 차이점 알아보기\n",
    "- datetime.date 객체를 만들고 문자열 변환을 제어하는 방법을 알아봄"
   ]
  },
  {
   "cell_type": "code",
   "execution_count": 18,
   "id": "3a152f7f",
   "metadata": {},
   "outputs": [
    {
     "data": {
      "text/plain": [
       "'2021-08-08 17:21:53.132381'"
      ]
     },
     "execution_count": 18,
     "metadata": {},
     "output_type": "execute_result"
    }
   ],
   "source": [
    "import datetime\n",
    "\n",
    "today = datetime.datetime.today()\n",
    "\n",
    "str(today)"
   ]
  },
  {
   "cell_type": "markdown",
   "id": "a7ed29e5",
   "metadata": {},
   "source": [
    "#### 위 코드의 의미\n",
    "- 날짜 객체의 __ str __ 함수 결과는 원래 '읽을 수' 있어야 함\n",
    "- 이 함수의 목적은 애플리케이션 사용자에게 보여 줘도 괜찮을 정도로 사람이 읽을 수 있는 간결한 텍스트 표현을 반환하는 것\n",
    "- 즉 str(today) 는 ISO 날짜 형식과 비슷한 것을 얻게 되는 것"
   ]
  },
  {
   "cell_type": "code",
   "execution_count": 19,
   "id": "830d313a",
   "metadata": {},
   "outputs": [
    {
     "data": {
      "text/plain": [
       "'datetime.datetime(2021, 8, 8, 17, 21, 53, 132381)'"
      ]
     },
     "execution_count": 19,
     "metadata": {},
     "output_type": "execute_result"
    }
   ],
   "source": [
    "repr(today)"
   ]
  },
  {
   "cell_type": "markdown",
   "id": "68f0afce",
   "metadata": {},
   "source": [
    "#### 위 코드의 의미\n",
    "\n",
    "- __ reper __ 을 사용하면 그 결과는 무엇보다 명확해야함\n",
    "- 이 메서드의 결과 문자열은 개발자의 디버깅을 도와주려는 의도를 강하게 반영\n",
    "- 그 대상이 무엇인지 가능한 명시적으로 밝혀야 함\n",
    "- repr()을 호출하면 더 정교한 결과를 얻게 됨\n",
    "- 즉 전체 모듈과 클래스 이름까지 포함됨"
   ]
  },
  {
   "cell_type": "markdown",
   "id": "db16e653",
   "metadata": {},
   "source": [
    "#### 모든 클래스에 __ repr __ 이 필요한 이유\n",
    "\n",
    "- __ str __ 메서드를 추가하지 않으면 파이썬을 __ str __ 을 사용해야 할 때도 __ repr __ 을 사용한다. 따라서 클래스에 적어도 __ repr __ 메서드는 항상 추가하는 것이 좋음\n",
    "- 최소한의 구현으로 거의 모든 경우에 유용한 문자열 변환 결과가 보장됨\n",
    "- 기본 문자열 변환 지원을 빠르고 효율적으로 클래스에 추가하는 방법은 다음과 같음\n",
    "    - def __ repr __ (self): return f'Car({self.color!r}, {self.mileage!r})'\n",
    "    - !r 변환 플래그를 사용하며 출력 문자열이 str(self.color)와 str(self.mileage) 대신 repr(self.color)와 repr(self.mileage)\n",
    "        - 다만, 형식 문자열 내에서 클래스명을 반복 사용한다는 것이 아쉬움\n",
    "        - 이 반복을 피하기 위해 __ class __ . __ namge __ 속성을 사용함\n",
    "            - 이 방식은 클래스 이름이 변경 될때, __ repr __ 구현을 수정하지 않아도 됨\n",
    "            - 중복 배체 원칙을 따르게 됨"
   ]
  },
  {
   "cell_type": "code",
   "execution_count": 20,
   "id": "8ab40de9",
   "metadata": {},
   "outputs": [],
   "source": [
    "# 최종 __repr__ 사용\n",
    "\n",
    "def __repr__(self):\n",
    "    return ( f'{self.__class__.__name__}(' f'{self.color}, {self.mileage})')\n",
    "\n",
    "# 이 구현의 단점\n",
    "# 형식 문자열이 상당히 길어서 다루기 힘들다는 것\n",
    "# 그러나 신중하게 형식화하면 코드를 못지게 유지하고 PEP8을 준수 할 수 있음\n"
   ]
  },
  {
   "cell_type": "code",
   "execution_count": 28,
   "id": "b0ce4cd7",
   "metadata": {},
   "outputs": [
    {
     "name": "stdout",
     "output_type": "stream",
     "text": [
      "Car(red, 37281)\n",
      "\n",
      "a red Car\n",
      "\n",
      "a red Car\n",
      "\n"
     ]
    }
   ],
   "source": [
    "# 최종코드\n",
    "class Car:\n",
    "    def __init__(self, color, mileage):\n",
    "        self.color = color\n",
    "        self.mileage = mileage\n",
    "    \n",
    "    def __str__(self):\n",
    "        return f'a {self.color} Car'\n",
    "    \n",
    "    def __repr__(self):\n",
    "        return (f'{self.__class__.__name__}('\n",
    "                f'{self.color}, {self.mileage})')\n",
    "  \n",
    "my_car = Car('red', 37281)\n",
    "print(repr(my_car))\n",
    "print()\n",
    "print(str(my_car))\n",
    "print()\n",
    "print(my_car)\n",
    "print()"
   ]
  },
  {
   "cell_type": "markdown",
   "id": "ced85617",
   "metadata": {},
   "source": [
    "#### keypoint ( __ repr __ vs __ str __ )\n",
    "\n",
    "- str 및 repr 던더 메서드를 사용하여 자신의 클래스에서 문자열 변환을 제어 가능\n",
    "- __ str __ 의 결과는 읽을 수 있어야 함 . __ repr __ 의 결과는 모호하지 않아야 함\n",
    "- 항상 __ repr __ 을 추가하라. __ str __ 의 기본 구현은 __ repr __ 을 호출하기만 함\n"
   ]
  },
  {
   "cell_type": "code",
   "execution_count": null,
   "id": "50a520ac",
   "metadata": {},
   "outputs": [],
   "source": []
  }
 ],
 "metadata": {
  "jupytext": {
   "formats": "ipynb,auto:light"
  },
  "kernelspec": {
   "display_name": "Python 3",
   "language": "python",
   "name": "python3"
  },
  "language_info": {
   "codemirror_mode": {
    "name": "ipython",
    "version": 3
   },
   "file_extension": ".py",
   "mimetype": "text/x-python",
   "name": "python",
   "nbconvert_exporter": "python",
   "pygments_lexer": "ipython3",
   "version": "3.8.10"
  }
 },
 "nbformat": 4,
 "nbformat_minor": 5
}
