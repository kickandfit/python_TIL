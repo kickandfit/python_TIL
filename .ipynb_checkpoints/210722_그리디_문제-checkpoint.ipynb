{
 "cells": [
  {
   "cell_type": "markdown",
   "id": "47803e1a",
   "metadata": {},
   "source": [
    "### 그리디 문제 1"
   ]
  },
  {
   "cell_type": "code",
   "execution_count": null,
   "id": "da63a6dd",
   "metadata": {},
   "outputs": [],
   "source": [
    "#동전 문제\n",
    "N = int(input('동전 개수 입력: (최대 10개)')) ; k =int(input('낼돈 입력:'))\n",
    "sort = (1, 5, 10 ,50, 100, 500 ,1000, 5000, 10000, 50000)\n",
    "N = sort[:n]\n",
    "result = 0\n",
    "for i in range(len(N)-1,-1, -1):\n",
    "    if k // N[i] ==0:\n",
    "        continue\n",
    "    pre = k // N[i]\n",
    "    k = k-(pre*N[i])\n",
    "    result = result+pre\n",
    "print(result)"
   ]
  },
  {
   "cell_type": "code",
   "execution_count": null,
   "id": "729ac7f8",
   "metadata": {},
   "outputs": [],
   "source": [
    "# 1931번\n",
    "from collections import deque\n",
    "\n",
    "N= int(input())\n",
    "\n",
    "pre_lst = []\n",
    "\n",
    "for i in range(N):\n",
    "    st,et = map(int, input().split())\n",
    "    data = (et, st)\n",
    "    if i == 0 :\n",
    "        pre_lst = [data]\n",
    "    else:\n",
    "        pre_lst.append(data)   \n",
    "pre_lst.sort()\n",
    "\n",
    "for i in range(len(pre_lst)):\n",
    "    if i == 0 :\n",
    "        queue = deque([pre_lst[i]])\n",
    "    else:\n",
    "        queue.append(pre_lst[i])\n",
    "cnt = 0\n",
    "min=()\n",
    "pre=()\n",
    "\n",
    "for i in range(len(queue)):\n",
    "    pre = queue.popleft()\n",
    "    if i == 0:\n",
    "        min = pre\n",
    "        cnt +=1\n",
    "        continue\n",
    "    if min[0]=<pre[1]:\n",
    "        min = pre\n",
    "        cnt +=1\n",
    "        print (min)\n",
    "print(cnt)"
   ]
  },
  {
   "cell_type": "code",
   "execution_count": null,
   "id": "0a2aa7d2",
   "metadata": {},
   "outputs": [],
   "source": [
    "# 1931번\n",
    "n = int(input())\n",
    "s = []\n",
    "for i in range(n):\n",
    "    a, b = map(int, input().split())\n",
    "    s.append([a,b])\n",
    "s = [[1,4] , [3,5], [0,6],[5,7],[3,8],[5,9],[6,10],[8,11], [8,12],[2,13],[12,14]]\n",
    "s = sorted(s, key = lambda x:x[0])\n",
    "s = sorted(s, key = lambda x:x[1])\n",
    "\n",
    "\n",
    "min,cnt = 0 , 0\n",
    "for i, j in s:\n",
    "    if i >=min:\n",
    "        cnt += 1\n",
    "        min = j\n",
    "print(cnt)\n",
    "    "
   ]
  },
  {
   "cell_type": "code",
   "execution_count": null,
   "id": "e85ec83c",
   "metadata": {},
   "outputs": [],
   "source": [
    "#11399 번 ATM\n",
    "N = int(input())\n",
    "data = list(map(int, input().split()))\n",
    "data.sort()\n",
    "data\n",
    "sum = 0\n",
    "for i in range(len(data)+1):\n",
    "    for j in range(i):\n",
    "        sum += data[j]\n",
    "print(sum)"
   ]
  },
  {
   "cell_type": "code",
   "execution_count": null,
   "id": "4c5fb501",
   "metadata": {},
   "outputs": [],
   "source": [
    "#1541번 잃어버린 괄호\n",
    "\n",
    "a = input().split('-')\n",
    "num = []\n",
    "for i in a:\n",
    "    cnt = 0\n",
    "    s = i.split('+')\n",
    "    for j in s:\n",
    "        cnt += int(j)\n",
    "    num.append(cnt)\n",
    "n = num[0]\n",
    "for i in range(1, len(num)):\n",
    "    n -= num[i]\n",
    "print(n)\n"
   ]
  },
  {
   "cell_type": "markdown",
   "id": "ace4e348",
   "metadata": {},
   "source": [
    "- 표준 입력으로 다음 정보가 주어진다. 첫 번째 줄에는 도시의 개수를 나타내는 정수 N(2 ≤ N ≤ 100,000)이 주어진다. 다음 줄에는 인접한 두 도시를 연결하는 도로의 길이가 제일 왼쪽 도로부터 N-1개의 자연수로 주어진다. 다음 줄에는 주유소의 리터당 가격이 제일 왼쪽 도시부터 순서대로 N개의 자연수로 주어진다. 제일 왼쪽 도시부터 제일 오른쪽 도시까지의 거리는 1이상 1,000,000,000 이하의 자연수이다. 리터당 가격은 1 이상 1,000,000,000 이하의 자연수이다. "
   ]
  },
  {
   "cell_type": "code",
   "execution_count": 53,
   "id": "8e2c1e34",
   "metadata": {},
   "outputs": [
    {
     "name": "stdout",
     "output_type": "stream",
     "text": [
      "10 None 8 6 9 7 11 8 1 9 \n",
      "0번째 에서 10로 업데이트\n",
      "--------------\n",
      "0\n",
      "0번째 에서 num:0 값\n",
      "0번째 반복증\n",
      "--------------\n",
      "1번째 에서 8로 업데이트\n",
      "--------------\n",
      "60\n",
      "1번째 에서 num:1 값\n",
      "1번째 반복증\n",
      "--------------\n",
      "2번째 에서 num:1 값\n",
      "2번째 반복증\n",
      "--------------\n",
      "3번째 에서 num:1 값\n",
      "3번째 반복증\n",
      "--------------\n",
      "4번째 에서 1로 업데이트\n",
      "--------------\n",
      "300\n",
      "4번째 에서 num:4 값\n",
      "4번째 반복증\n",
      "--------------\n"
     ]
    }
   ],
   "source": [
    "#13305번 주유소\n",
    "\n",
    "class Node():\n",
    "    def __init__(self):\n",
    "        self.data = None\n",
    "        self.link = None\n",
    "        self.lkdata = None\n",
    "def printNodes(start):\n",
    "    current = start\n",
    "    print(current.data, end = \" \")\n",
    "    print(current.lkdata, end = ' ')\n",
    "    while current.link != None:\n",
    "        current = current.link\n",
    "        print(current.data, end = \" \")\n",
    "        print(current.lkdata, end = ' ')\n",
    "        \n",
    "size = 5\n",
    "memory = []\n",
    "dataArray_1 = [10,8,9,11,1]\n",
    "dataArray_2 = [6,7,8,9]\n",
    "\n",
    "head,node, current, pre = None ,None , None, None\n",
    "\n",
    "node = Node()\n",
    "node.data = dataArray_1[0]\n",
    "head = node\n",
    "memory.append(node)\n",
    "\n",
    "for i in range(1, len(dataArray_1)):\n",
    "    pre = node\n",
    "    node= Node()\n",
    "    node.data = dataArray_1[i]\n",
    "    node.lkdata = dataArray_2[i-1]\n",
    "    pre.link = node\n",
    "    memory.append(node)\n",
    "printNodes(head)\n",
    "print()\n",
    "\n",
    "min_o = 9999999999\n",
    "min_r = 9999999999\n",
    "add,result,num =  0,0,0\n",
    "for i in range(len(memory)):\n",
    "    add= 0 \n",
    "    if min_o>(memory[i].data):\n",
    "        min_o = memory[i].data\n",
    "        print(f'{i}번째 에서 {memory[i].data}로 업데이트')\n",
    "        print('--------------')\n",
    "        for n in range(1,i+1):\n",
    "            add += memory[n].lkdata\n",
    "        result += add*memory[num].data\n",
    "        num = i\n",
    "        \n",
    "        print(result)\n",
    "    print(f'{i}번째 에서 num:{num} 값')    \n",
    "    print(f'{i}번째 반복증')\n",
    "    print('--------------')"
   ]
  },
  {
   "cell_type": "code",
   "execution_count": 21,
   "id": "c9026316",
   "metadata": {},
   "outputs": [
    {
     "data": {
      "text/plain": [
       "6"
      ]
     },
     "execution_count": 21,
     "metadata": {},
     "output_type": "execute_result"
    }
   ],
   "source": []
  },
  {
   "cell_type": "code",
   "execution_count": null,
   "id": "5510aad5",
   "metadata": {},
   "outputs": [],
   "source": []
  },
  {
   "cell_type": "code",
   "execution_count": null,
   "id": "7ff5f2be",
   "metadata": {},
   "outputs": [],
   "source": []
  }
 ],
 "metadata": {
  "kernelspec": {
   "display_name": "Python 3",
   "language": "python",
   "name": "python3"
  },
  "language_info": {
   "codemirror_mode": {
    "name": "ipython",
    "version": 3
   },
   "file_extension": ".py",
   "mimetype": "text/x-python",
   "name": "python",
   "nbconvert_exporter": "python",
   "pygments_lexer": "ipython3",
   "version": "3.8.10"
  }
 },
 "nbformat": 4,
 "nbformat_minor": 5
}
