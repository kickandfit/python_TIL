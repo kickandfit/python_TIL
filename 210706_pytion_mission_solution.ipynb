{
 "cells": [
  {
   "cell_type": "code",
   "execution_count": 26,
   "id": "d1b1129e",
   "metadata": {},
   "outputs": [
    {
     "name": "stdout",
     "output_type": "stream",
     "text": [
      "출력 조건 입력(년도별:1, 자치구별:2): 1\n",
      "조회 년도 입력: 2020\n"
     ]
    },
    {
     "name": "stderr",
     "output_type": "stream",
     "text": [
      "<ipython-input-26-48bc93f428a3>:42: SettingWithCopyWarning: \n",
      "A value is trying to be set on a copy of a slice from a DataFrame.\n",
      "Try using .loc[row_indexer,col_indexer] = value instead\n",
      "\n",
      "See the caveats in the documentation: https://pandas.pydata.org/pandas-docs/stable/user_guide/indexing.html#returning-a-view-versus-a-copy\n",
      "  df2['외국인']=df2['외국인(남)']+df2['외국인(여)']\n",
      "<ipython-input-26-48bc93f428a3>:43: SettingWithCopyWarning: \n",
      "A value is trying to be set on a copy of a slice from a DataFrame.\n",
      "Try using .loc[row_indexer,col_indexer] = value instead\n",
      "\n",
      "See the caveats in the documentation: https://pandas.pydata.org/pandas-docs/stable/user_guide/indexing.html#returning-a-view-versus-a-copy\n",
      "  x=df2['자치구'], y=df2[['외국인(남)', '외국인(여)']]\n"
     ]
    },
    {
     "data": {
      "image/png": "[encoded data removed]",
      "text/plain": [
       "<Figure size 720x720 with 2 Axes>"
      ]
     },
     "metadata": {},
     "output_type": "display_data"
    }
   ],
   "source": [
    "import pandas as pd\n",
    "import matplotlib.pyplot as plt\n",
    "\n",
    "import matplotlib.font_manager as fm\n",
    "font_name=fm.FontProperties(fname=\"C:/Windows/Fonts/malgun.ttf\").get_name()\n",
    "plt.rc('font', family=font_name)\n",
    "\n",
    "df1=pd.read_csv('./data/서울시 인구현황_구.txt', sep='\\t', header=1)\n",
    "df1=df1.iloc[:, [0,1,6,7,9,10]]\n",
    "df1.drop(0, inplace=True)\n",
    "\n",
    "### 컬럼 이름 변경하기\n",
    "col_name=['년도', '자치구', '내국인(남)', '내국인(여)','외국인(남)','외국인(여)']\n",
    "for i in range(len(col_name)):\n",
    "    df1.rename(columns={df1.columns[i]:col_name[i]}, inplace=True)\n",
    "\n",
    "### 데이터 중 \"…\" 값 제거하기 / 1991년 데이터 삭제\n",
    "df1=df1[df1['내국인(남)']!=\"…\"]\n",
    "\n",
    "### 콤마(,) 제거하기\n",
    "df1['내국인(남)']=df1['내국인(남)'].str.replace(\",\",\"\")\n",
    "df1['내국인(여)']=df1['내국인(여)'].str.replace(\",\",\"\")\n",
    "df1['외국인(남)']=df1['외국인(남)'].str.replace(\",\",\"\")\n",
    "df1['외국인(여)']=df1['외국인(여)'].str.replace(\",\",\"\")\n",
    "\n",
    "### 숫자형 데이터 변경하기\n",
    "df1=df1.astype({'내국인(남)':'int64','내국인(여)':'int64','외국인(남)':'int64','외국인(여)':'int64'})\n",
    "#print(df1.dtypes)\n",
    "cho=input('출력 조건 입력(년도별:1, 자치구별:2): ')\n",
    "\n",
    "plt.style.use('ggplot')\n",
    "\n",
    "fig=plt.figure(figsize=(10,10))\n",
    "ax1 = fig.add_subplot(2,1,1)\n",
    "ax2 = fig.add_subplot(2,1,2)\n",
    "\n",
    "if cho == \"1\":\n",
    "    ### 년도별 조회(합계 제외)\n",
    "    \n",
    "    inYear=input('조회 년도 입력: ')\n",
    "    df2 = df1[(df1['년도'] == inYear) & (df1['자치구'] != '합계')]  # 합계 제외\n",
    "    df2['외국인']=df2['외국인(남)']+df2['외국인(여)']\n",
    "    x=df2['자치구'], y=df2[['외국인(남)', '외국인(여)']]\n",
    "    df2.plot(kind='bar', x='자치구', y=['외국인(남)', '외국인(여)'], ax=ax1)\n",
    "    df2.plot(kind='bar', x='자치구', y='외국인', ax=ax2)\n",
    "    \n",
    "# plot()에서 ax는 위치값을 나타내주는 옵션, 단 add_subplot를 이용한 상태에서만\n",
    "# 사용가능한 옵션이다\n",
    "elif cho==\"2\":\n",
    "    ### 자치구별 조회\n",
    "    ingu = input('조회 자치구 입력: ')\n",
    "    df2=df1[df1['자치구'] == ingu]\n",
    "    df2.plot(kind='bar', x='년도', y=['외국인(남)', '외국인(여)'], figsize=(10, 4), ax=ax1)\n",
    "    df2.plot(kind='bar', x='년도', y=['내국인(남)', '내국인(여)'], figsize=(10, 4), ax=ax2)\n",
    "else:\n",
    "    print('1과 2중 하나만 입력하세요.')\n",
    "    exit()\n",
    "\n",
    "#plt 안의 데이터를 저장해\n",
    "plt.savefig('./Data/image_1.png')\n",
    "    \n",
    "plt.show()\n",
    "# show 한 이후에는 저장이 되지 않는다.\n",
    "# show 이후에는 메모리가 날라간다"
   ]
  },
  {
   "cell_type": "code",
   "execution_count": null,
   "id": "104d98b3",
   "metadata": {},
   "outputs": [],
   "source": []
  }
 ],
 "metadata": {
  "jupytext": {
   "formats": "ipynb,auto:light"
  },
  "kernelspec": {
   "display_name": "Python 3",
   "language": "python",
   "name": "python3"
  },
  "language_info": {
   "codemirror_mode": {
    "name": "ipython",
    "version": 3
   },
   "file_extension": ".py",
   "mimetype": "text/x-python",
   "name": "python",
   "nbconvert_exporter": "python",
   "pygments_lexer": "ipython3",
   "version": "3.9.4"
  }
 },
 "nbformat": 4,
 "nbformat_minor": 5
}
