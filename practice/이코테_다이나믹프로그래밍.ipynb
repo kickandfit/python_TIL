{
 "cells": [
  {
   "cell_type": "code",
   "execution_count": 57,
   "id": "b2d0a7e2",
   "metadata": {},
   "outputs": [
    {
     "name": "stdout",
     "output_type": "stream",
     "text": [
      "300 0\n",
      "60.0 0\n",
      "12.0 0\n",
      "4.0 0\n",
      "2.0 0\n",
      "1.0 0\n"
     ]
    },
    {
     "data": {
      "text/plain": [
       "5"
      ]
     },
     "execution_count": 57,
     "metadata": {},
     "output_type": "execute_result"
    }
   ],
   "source": [
    "#1로 만들기 : 다이나믹 프로그래밍 필요없음(메모리를 반복해서 쓰지 않음), my solution\n",
    "def make_num_1(num):\n",
    "    global div_lst , cnt , d\n",
    "\n",
    "    if num ==1.0:\n",
    "        return 1\n",
    "    if d[int(num)] != 0 :\n",
    "        return d[int(num)]\n",
    "    for i in div_lst:\n",
    "#         print(num)\n",
    "        if num % i == 0:\n",
    "            num = num / i\n",
    "           \n",
    "            make_num_1(num)\n",
    "            cnt+= 1\n",
    "            d[int(num)] = cnt\n",
    "            return d[int(num)]     \n",
    "    num -=1\n",
    "            \n",
    "#             print(cnt)\n",
    "\n",
    "    make_num_1(num)\n",
    "    cnt += 1\n",
    "    d[int(num)] = cnt\n",
    "    return d[int(num)]\n",
    "div_lst = [5, 3, 2]\n",
    "cnt = 0\n",
    "d = [0]*3001\n",
    "make_num_1(300)"
   ]
  },
  {
   "cell_type": "code",
   "execution_count": 36,
   "id": "fea85ea8",
   "metadata": {},
   "outputs": [
    {
     "name": "stdout",
     "output_type": "stream",
     "text": [
      "9\n",
      "8\n",
      "7\n",
      "6\n",
      "7\n"
     ]
    },
    {
     "data": {
      "text/plain": [
       "34"
      ]
     },
     "execution_count": 36,
     "metadata": {},
     "output_type": "execute_result"
    }
   ],
   "source": [
    "#다이나믹 프로그래밍 예시)\n",
    "def pibo(x):\n",
    "    if x > 2:\n",
    "        print(x)\n",
    "    elif x == 2 or x == 1:\n",
    "        return 1\n",
    "    if d[x] != 0 :\n",
    "        return d[x]\n",
    "    d[x] = pibo(x-1)+pibo(x-2)\n",
    "  \n",
    "    return d[x]\n",
    "  \n",
    "pibo(9)"
   ]
  },
  {
   "cell_type": "code",
   "execution_count": 66,
   "id": "8cb5cd82",
   "metadata": {},
   "outputs": [
    {
     "name": "stdout",
     "output_type": "stream",
     "text": [
      "150.0\n",
      "75.0\n",
      "25.0\n",
      "5.0\n",
      "1.0\n"
     ]
    },
    {
     "data": {
      "text/plain": [
       "5"
      ]
     },
     "execution_count": 66,
     "metadata": {},
     "output_type": "execute_result"
    }
   ],
   "source": [
    "#another solution\n",
    "def a(n):\n",
    "    global d_lst, cnt\n",
    "    if n >1:\n",
    "        \n",
    "        for i in d_lst:\n",
    "            if n % i == 0:\n",
    "                n = n/i\n",
    "                print(n)\n",
    "                a(n)\n",
    "                cnt += 1\n",
    "                return cnt\n",
    "\n",
    "        n -= 1\n",
    "        print(n)\n",
    "        a(n)\n",
    "        cnt += 1\n",
    "        return cnt\n",
    "                    \n",
    "n = 300\n",
    "cnt = 0\n",
    "d_lst = [2 , 3, 5]\n",
    "d = [0]*(n+1)\n",
    "a(n)"
   ]
  },
  {
   "cell_type": "code",
   "execution_count": 72,
   "id": "deccf36a",
   "metadata": {},
   "outputs": [
    {
     "data": {
      "text/plain": [
       "5"
      ]
     },
     "execution_count": 72,
     "metadata": {},
     "output_type": "execute_result"
    }
   ],
   "source": [
    "#풀이 for문 이용\n",
    "d_lst = [2, 3, 5]\n",
    "n = 300\n",
    "new_lst = [0]*(n+1)\n",
    "for i in range(2, n+1):\n",
    "    new_lst[i] = new_lst[i-1]+1\n",
    "    for j in d_lst:\n",
    "        if i % j ==0:\n",
    "            new_lst[i] = min(new_lst[i], new_lst[i//j]+1 )\n",
    "new_lst[300]"
   ]
  },
  {
   "cell_type": "code",
   "execution_count": null,
   "id": "52a72aa4",
   "metadata": {},
   "outputs": [],
   "source": []
  },
  {
   "cell_type": "code",
   "execution_count": null,
   "id": "38ab6b45",
   "metadata": {},
   "outputs": [],
   "source": []
  }
 ],
 "metadata": {
  "jupytext": {
   "formats": "ipynb,auto:light"
  },
  "kernelspec": {
   "display_name": "Python 3",
   "language": "python",
   "name": "python3"
  },
  "language_info": {
   "codemirror_mode": {
    "name": "ipython",
    "version": 3
   },
   "file_extension": ".py",
   "mimetype": "text/x-python",
   "name": "python",
   "nbconvert_exporter": "python",
   "pygments_lexer": "ipython3",
   "version": "3.8.10"
  }
 },
 "nbformat": 4,
 "nbformat_minor": 5
}
