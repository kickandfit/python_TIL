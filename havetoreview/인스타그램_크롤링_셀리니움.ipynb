{
 "cells": [
  {
   "cell_type": "code",
   "execution_count": 1,
   "id": "8b197423",
   "metadata": {},
   "outputs": [
    {
     "name": "stdout",
     "output_type": "stream",
     "text": [
      "인스타그램에서 원하는 검색어를 입력하세요: 강아지\n",
      "스크롤 다운 횟수를 입력하세요(정수입력):10\n",
      "로그인이 잘 되었나요?[y/n]:y\n"
     ]
    }
   ],
   "source": [
    "from selenium import webdriver\n",
    "from bs4 import BeautifulSoup\n",
    "import re\n",
    "import pandas as pd\n",
    "import time\n",
    "import sys\n",
    "\n",
    "def PAGE_DOWN():\n",
    "    driver.execute_script(\"window.scrollTo(0, document.body.scrollHeight);\")\n",
    "    time.sleep(3)\n",
    "    \n",
    "keyword = input(\"인스타그램에서 원하는 검색어를 입력하세요: \")\n",
    "count_down = int(input('스크롤 다운 횟수를 입력하세요(정수입력):'))\n",
    "\n",
    "driver = webdriver.Chrome(\"C:/pydata/chromedriver.exe\")\n",
    "driver.get(\"https://www.instagram.com/\")\n",
    "time.sleep(3)\n",
    "id_ = '개인 아이디'\n",
    "pw = '개인 패스워드'\n",
    "# 로그인 \n",
    "id_input = driver.find_element_by_css_selector('#loginForm > div > div:nth-child(1) > div > label > input')\n",
    "id_input.send_keys(id_)\n",
    "password_input = driver.find_element_by_css_selector('#loginForm > div > div:nth-child(2) > div > label > input')\n",
    "password_input.send_keys(pw)\n",
    "driver.find_element_by_css_selector(\"#loginForm > div > div:nth-child(3)\").click()\n",
    "time.sleep(3)\n",
    "state = input('로그인이 잘 되었나요?[y/n]:')\n",
    "if state == 'n' or state == 'N' or state == 'ㅜ':\n",
    "    print('종료합니다.')\n",
    "    driver.close()\n",
    "    sys.exit()\n",
    "else:\n",
    "    pass\n",
    "# 검색어 결과 페이지로 이동\n",
    "url = 'https://www.instagram.com/explore/tags/'\n",
    "driver.get(url+keyword)\n",
    "time.sleep(3)\n",
    "body = driver.find_element_by_tag_name('body')\n",
    "\n",
    "# 하이퍼 링크 추출\n",
    "link_url_lst = []\n",
    "for down in range(count_down):\n",
    "    PAGE_DOWN()\n",
    "    contents_lst = body.find_elements_by_class_name('v1Nh3')\n",
    "    # 게시글 리스트 생성\n",
    "    for contents_url in contents_lst:\n",
    "        link_url = contents_url.find_element_by_tag_name('a').get_attribute('href')\n",
    "        link_url_lst.append(link_url)\n",
    "    link_url_lst = list(set(link_url_lst))"
   ]
  },
  {
   "cell_type": "code",
   "execution_count": 2,
   "id": "3667968f",
   "metadata": {},
   "outputs": [
    {
     "data": {
      "text/plain": [
       "['https://www.instagram.com/p/CR469wQphXC/',\n",
       " 'https://www.instagram.com/p/CR47J0iCdG1/',\n",
       " 'https://www.instagram.com/p/CR48OWIrjez/',\n",
       " 'https://www.instagram.com/p/CR47dMwCq2i/',\n",
       " 'https://www.instagram.com/p/CR2yjOQnz49/',\n",
       " 'https://www.instagram.com/p/CR47QLwHpRv/',\n",
       " 'https://www.instagram.com/p/CR2c4nRnx8t/',\n",
       " 'https://www.instagram.com/p/CR48RXnsSlj/',\n",
       " 'https://www.instagram.com/p/CR47ZVXH5zA/',\n",
       " 'https://www.instagram.com/p/CR46vXAMK53/',\n",
       " 'https://www.instagram.com/p/CR473B2nk_l/',\n",
       " 'https://www.instagram.com/p/CR44maHnVgY/',\n",
       " 'https://www.instagram.com/p/CR475-GnLcc/',\n",
       " 'https://www.instagram.com/p/CR47mZxrwiH/',\n",
       " 'https://www.instagram.com/p/CR479fmJUL4/',\n",
       " 'https://www.instagram.com/p/CR3r0JWhItv/',\n",
       " 'https://www.instagram.com/p/CR46sKVns3w/',\n",
       " 'https://www.instagram.com/p/CR3YIhaHGg0/',\n",
       " 'https://www.instagram.com/p/CR4682Hs42Z/',\n",
       " 'https://www.instagram.com/p/CR47vs_nqKU/',\n",
       " 'https://www.instagram.com/p/CR47iNUHUl1/',\n",
       " 'https://www.instagram.com/p/CR47txsHGb_/',\n",
       " 'https://www.instagram.com/p/CR48H_hi72w/',\n",
       " 'https://www.instagram.com/p/CR3DfjfnsaS/',\n",
       " 'https://www.instagram.com/p/CR478EanDf0/',\n",
       " 'https://www.instagram.com/p/CR47pJDnqfl/',\n",
       " 'https://www.instagram.com/p/CR47kcNrVYR/',\n",
       " 'https://www.instagram.com/p/CR46r8HDCL2/',\n",
       " 'https://www.instagram.com/p/CR461gEimJT/',\n",
       " 'https://www.instagram.com/p/CR48GCUHs-I/',\n",
       " 'https://www.instagram.com/p/CR3gXEinSQV/',\n",
       " 'https://www.instagram.com/p/CR47dwVnPBZ/',\n",
       " 'https://www.instagram.com/p/CR460heDr1e/',\n",
       " 'https://www.instagram.com/p/CR47ufErrj6/',\n",
       " 'https://www.instagram.com/p/CR210Ytnm7Q/',\n",
       " 'https://www.instagram.com/p/CR47qQMr2Ki/',\n",
       " 'https://www.instagram.com/p/CR48R5_hyYV/',\n",
       " 'https://www.instagram.com/p/CR47ilhp39-/',\n",
       " 'https://www.instagram.com/p/CR47pdrH2cZ/',\n",
       " 'https://www.instagram.com/p/CR47aAYHVEA/',\n",
       " 'https://www.instagram.com/p/CR47dYmFD0N/',\n",
       " 'https://www.instagram.com/p/CR45J7zHqL9/',\n",
       " 'https://www.instagram.com/p/CR47_QIFQBK/',\n",
       " 'https://www.instagram.com/p/CR470KhBslW/',\n",
       " 'https://www.instagram.com/p/CR3juahnxzL/',\n",
       " 'https://www.instagram.com/p/CR472anHkRL/',\n",
       " 'https://www.instagram.com/p/CR47tTUnrA1/',\n",
       " 'https://www.instagram.com/p/CR47Ec9HiJs/',\n",
       " 'https://www.instagram.com/p/CR47jA2nocX/',\n",
       " 'https://www.instagram.com/p/CR47tKRnwXV/',\n",
       " 'https://www.instagram.com/p/CR3G4ivnUFa/',\n",
       " 'https://www.instagram.com/p/CR47tWsKPko/',\n",
       " 'https://www.instagram.com/p/CR48A7BHk7o/',\n",
       " 'https://www.instagram.com/p/CR47tL6HcF9/',\n",
       " 'https://www.instagram.com/p/CR47VvprXAY/',\n",
       " 'https://www.instagram.com/p/CR469QEDtb3/',\n",
       " 'https://www.instagram.com/p/CR46k7pAk0X/',\n",
       " 'https://www.instagram.com/p/CR47Eefi9AO/',\n",
       " 'https://www.instagram.com/p/CR47ah-LoZ9/',\n",
       " 'https://www.instagram.com/p/CR48L2fnoZs/',\n",
       " 'https://www.instagram.com/p/CR464c6l0R8/',\n",
       " 'https://www.instagram.com/p/CR464nHnOB3/',\n",
       " 'https://www.instagram.com/p/CR466ZcnNGm/',\n",
       " 'https://www.instagram.com/p/CR4759LjeFK/',\n",
       " 'https://www.instagram.com/p/CR47u3_MILA/',\n",
       " 'https://www.instagram.com/p/CR48DmsDauJ/',\n",
       " 'https://www.instagram.com/p/CR3gHjrntWe/',\n",
       " 'https://www.instagram.com/p/CR48HFmrtR9/',\n",
       " 'https://www.instagram.com/p/CR472ptHtxx/',\n",
       " 'https://www.instagram.com/p/CR47hUEHyT8/',\n",
       " 'https://www.instagram.com/p/CR47Qb8gVRC/',\n",
       " 'https://www.instagram.com/p/CR3-XPMoGys/',\n",
       " 'https://www.instagram.com/p/CR471V_hlJV/',\n",
       " 'https://www.instagram.com/p/CR46w54susf/',\n",
       " 'https://www.instagram.com/p/CR48K_Gla6C/',\n",
       " 'https://www.instagram.com/p/CR47ye7HS-8/',\n",
       " 'https://www.instagram.com/p/CR47gCqnFDe/',\n",
       " 'https://www.instagram.com/p/CR3jEZrn6cO/',\n",
       " 'https://www.instagram.com/p/CR2ennIHdI7/',\n",
       " 'https://www.instagram.com/p/CR1KbwMjydD/',\n",
       " 'https://www.instagram.com/p/CR469uWHjri/',\n",
       " 'https://www.instagram.com/p/CR48Ax4HtM0/',\n",
       " 'https://www.instagram.com/p/CR48XmzKqVR/',\n",
       " 'https://www.instagram.com/p/CR34fhWKQ7c/',\n",
       " 'https://www.instagram.com/p/CR47hp6nkTo/',\n",
       " 'https://www.instagram.com/p/CR48SGIsmi_/',\n",
       " 'https://www.instagram.com/p/CR46qg-MEbL/',\n",
       " 'https://www.instagram.com/p/CR47uWiLya7/',\n",
       " 'https://www.instagram.com/p/CR48MhcHi0K/',\n",
       " 'https://www.instagram.com/p/CR48buwnnXP/',\n",
       " 'https://www.instagram.com/p/CR47yQsob0S/',\n",
       " 'https://www.instagram.com/p/CR46v_pn_jD/',\n",
       " 'https://www.instagram.com/p/CR2x-sUH_WS/',\n",
       " 'https://www.instagram.com/p/CR47H0SjGFK/',\n",
       " 'https://www.instagram.com/p/CR47y0xnMzB/',\n",
       " 'https://www.instagram.com/p/CR47tolncBz/',\n",
       " 'https://www.instagram.com/p/CR47CVsHIn2/',\n",
       " 'https://www.instagram.com/p/CR47tEeH6Am/',\n",
       " 'https://www.instagram.com/p/CR4D0eoop1I/',\n",
       " 'https://www.instagram.com/p/CR47bQRDXYP/',\n",
       " 'https://www.instagram.com/p/CR4632hHicR/',\n",
       " 'https://www.instagram.com/p/CR4mynljw3c/',\n",
       " 'https://www.instagram.com/p/CR45WPkjgwN/',\n",
       " 'https://www.instagram.com/p/CR46q58rFrN/',\n",
       " 'https://www.instagram.com/p/CR477Q2nTiL/',\n",
       " 'https://www.instagram.com/p/CR47OCuntHo/',\n",
       " 'https://www.instagram.com/p/CR47EE9HpIE/',\n",
       " 'https://www.instagram.com/p/CR48IDGnALx/',\n",
       " 'https://www.instagram.com/p/CR48NZ2HSAw/',\n",
       " 'https://www.instagram.com/p/CR47u_RDgXU/',\n",
       " 'https://www.instagram.com/p/CR47Qz5Hici/',\n",
       " 'https://www.instagram.com/p/CR47gNyrtTy/',\n",
       " 'https://www.instagram.com/p/CR47aeCLAyp/',\n",
       " 'https://www.instagram.com/p/CR1FNe7MoL2/',\n",
       " 'https://www.instagram.com/p/CR46xZUHP3O/',\n",
       " 'https://www.instagram.com/p/CR471TEFbVS/',\n",
       " 'https://www.instagram.com/p/CR46pQVLvzq/',\n",
       " 'https://www.instagram.com/p/CR48MfUsGVi/',\n",
       " 'https://www.instagram.com/p/CR47g_2H9h3/',\n",
       " 'https://www.instagram.com/p/CR43NdQjBs_/',\n",
       " 'https://www.instagram.com/p/CR466xEHtTk/',\n",
       " 'https://www.instagram.com/p/CR46sCGDbaI/',\n",
       " 'https://www.instagram.com/p/CR46qV4HFzS/']"
      ]
     },
     "execution_count": 2,
     "metadata": {},
     "output_type": "execute_result"
    }
   ],
   "source": [
    "link_url_lst"
   ]
  },
  {
   "cell_type": "code",
   "execution_count": 3,
   "id": "9c69fc17",
   "metadata": {},
   "outputs": [],
   "source": [
    "driver.get(\"https://www.instagram.com/p/CR469wQphXC/\")\n",
    "time.sleep(3)"
   ]
  },
  {
   "cell_type": "code",
   "execution_count": 4,
   "id": "856b093a",
   "metadata": {},
   "outputs": [],
   "source": [
    "from bs4 import BeautifulSoup\n",
    "html = driver.page_source\n",
    "soup = BeautifulSoup(html, \"html.parser\")"
   ]
  },
  {
   "cell_type": "code",
   "execution_count": 5,
   "id": "1f9ebdbf",
   "metadata": {},
   "outputs": [
    {
     "data": {
      "text/plain": [
       "<div class=\"C4VMK\"><h2 class=\"_6lAjh \"><div class=\" Igw0E IwRSH eGOV_ _4EzTm ItkAi \"><span class=\"Jv7Aj mArmR MqpiF \"><a class=\"sqdOP yWX7d _8A5w5 ZIAjV \" href=\"/ji.guel/\" tabindex=\"0\">ji.guel</a></span></div></h2><span class=\"\"><a class=\" xil3i\" href=\"/explore/tags/빵굽기/\" tabindex=\"0\">#빵굽기</a> <a class=\" xil3i\" href=\"/explore/tags/베이킹/\" tabindex=\"0\">#베이킹</a> <a class=\" xil3i\" href=\"/explore/tags/피자빵/\" tabindex=\"0\">#피자빵</a> <a class=\" xil3i\" href=\"/explore/tags/고구마빵/\" tabindex=\"0\">#고구마빵</a> <a class=\" xil3i\" href=\"/explore/tags/jmt/\" tabindex=\"0\">#jmt</a> <br/><br/>요새 재미지게 굽고있는 중!<br/>고등학교때 산 오븐이 열일하고있다😝<br/>오랜만에 실습하던 때로 돌아간 기분<br/>그립당<br/><br/><a class=\" xil3i\" href=\"/explore/tags/일상/\" tabindex=\"0\">#일상</a> <a class=\" xil3i\" href=\"/explore/tags/따끈따끈/\" tabindex=\"0\">#따끈따끈</a> <a class=\" xil3i\" href=\"/explore/tags/베이커리/\" tabindex=\"0\">#베이커리</a> <a class=\" xil3i\" href=\"/explore/tags/모든게/\" tabindex=\"0\">#모든게</a> <a class=\" xil3i\" href=\"/explore/tags/핸드메이드/\" tabindex=\"0\">#핸드메이드</a> <a class=\" xil3i\" href=\"/explore/tags/또/\" tabindex=\"0\">#또</a> <a class=\" xil3i\" href=\"/explore/tags/먹고싶네/\" tabindex=\"0\">#먹고싶네</a></span><div class=\" Igw0E IwRSH eGOV_ _4EzTm pjcA_ aGBdT \"><div class=\"_7UhW9 PIoXz MMzan _0PwGv uL8Hv \"><time class=\"FH9sR Nzb55\" datetime=\"2021-01-17T23:05:23.000Z\" title=\"2021년 1월 18일\">27주</time></div></div></div>"
      ]
     },
     "execution_count": 5,
     "metadata": {},
     "output_type": "execute_result"
    }
   ],
   "source": [
    "doc_C4VMK_lst = soup.find_all('div',class_='C4VMK')\n",
    "doc_C4VMK_lst[0]"
   ]
  },
  {
   "cell_type": "code",
   "execution_count": 6,
   "id": "f0773757",
   "metadata": {},
   "outputs": [
    {
     "data": {
      "text/plain": [
       "<span class=\"Jv7Aj mArmR MqpiF \"><a class=\"sqdOP yWX7d _8A5w5 ZIAjV \" href=\"/ji.guel/\" tabindex=\"0\">ji.guel</a></span>"
      ]
     },
     "execution_count": 6,
     "metadata": {},
     "output_type": "execute_result"
    }
   ],
   "source": [
    "doc_C4VMK_lst[0].find('span',class_=\"\")"
   ]
  },
  {
   "cell_type": "code",
   "execution_count": 7,
   "id": "ab024fdf",
   "metadata": {},
   "outputs": [
    {
     "data": {
      "text/plain": [
       "'ji.guel'"
      ]
     },
     "execution_count": 7,
     "metadata": {},
     "output_type": "execute_result"
    }
   ],
   "source": [
    "doc = doc_C4VMK_lst[0].find('span',class_=\"\").text\n",
    "doc"
   ]
  },
  {
   "cell_type": "markdown",
   "id": "77a0f13e",
   "metadata": {},
   "source": [
    "해시태그"
   ]
  },
  {
   "cell_type": "code",
   "execution_count": 8,
   "id": "d2436225",
   "metadata": {},
   "outputs": [],
   "source": [
    "# 해시태그\n",
    "tags = doc_C4VMK_lst[0].find('span',class_=\"\").find_all('a')\n",
    "temptag_lst=[]\n",
    "for tag in tags:\n",
    "    temptag_lst.append(tag.text)"
   ]
  },
  {
   "cell_type": "markdown",
   "id": "c7a6adea",
   "metadata": {},
   "source": [
    "댓글"
   ]
  },
  {
   "cell_type": "code",
   "execution_count": 9,
   "id": "33c387ad",
   "metadata": {},
   "outputs": [],
   "source": [
    "# 댓글\n",
    "comt = ''\n",
    "for i in range(1,len(doc_C4VMK_lst)):\n",
    "    tmp_comt = doc_C4VMK_lst[i].find('span',class_=\"\").text\n",
    "    comt = comt + ' ' + tmp_comt"
   ]
  },
  {
   "cell_type": "markdown",
   "id": "bef1aee6",
   "metadata": {},
   "source": [
    "좋아요"
   ]
  },
  {
   "cell_type": "code",
   "execution_count": 10,
   "id": "4a690ba2",
   "metadata": {},
   "outputs": [
    {
     "data": {
      "text/plain": [
       "20"
      ]
     },
     "execution_count": 10,
     "metadata": {},
     "output_type": "execute_result"
    }
   ],
   "source": [
    "# 좋아요\n",
    "try:\n",
    "    like = soup.find('div',class_='Nm9Fw').find('span').text\n",
    "    like = int(like.replace(\",\",\"\"))\n",
    "except:\n",
    "    like = 0\n",
    "like"
   ]
  },
  {
   "cell_type": "markdown",
   "id": "ca1e7e1c",
   "metadata": {},
   "source": [
    "전체코드"
   ]
  },
  {
   "cell_type": "code",
   "execution_count": null,
   "id": "5a88ed15",
   "metadata": {},
   "outputs": [],
   "source": [
    "from selenium import webdriver\n",
    "from bs4 import BeautifulSoup\n",
    "import re\n",
    "import pandas as pd\n",
    "import time\n",
    "import sys\n",
    "\n",
    "def PAGE_DOWN():\n",
    "    driver.execute_script(\"window.scrollTo(0, document.body.scrollHeight);\")\n",
    "    time.sleep(3)\n",
    "    \n",
    "keyword = input(\"인스타그램에서 원하는 검색어를 입력하세요: \")\n",
    "count_down = int(input('스크롤 다운 횟수를 입력하세요(정수입력):'))\n",
    "\n",
    "driver = webdriver.Chrome(\"C:/py_data/chromedriver.exe\")\n",
    "driver.get(\"https://www.instagram.com/\")\n",
    "time.sleep(3)\n",
    "\n",
    "id_ = '개인 아이디'\n",
    "pw = '개인 패스워드'\n",
    "\n",
    "# 로그인 \n",
    "id_input = driver.find_element_by_css_selector('#loginForm > div > div:nth-child(1) > div > label > input')\n",
    "id_input.send_keys(id_)\n",
    "password_input = driver.find_element_by_css_selector('#loginForm > div > div:nth-child(2) > div > label > input')\n",
    "password_input.send_keys(pw)\n",
    "driver.find_element_by_css_selector(\"#loginForm > div > div:nth-child(3)\").click()\n",
    "time.sleep(3)\n",
    "state = input('로그인이 잘 되었나요?[y/n]:')\n",
    "if state == 'n' or state == 'N' or state == 'ㅜ':\n",
    "    print('종료합니다.')\n",
    "    driver.close()\n",
    "    sys.exit()\n",
    "else:\n",
    "    pass\n",
    "# 검색어 결과 페이지로 이동\n",
    "url = 'https://www.instagram.com/explore/tags/'\n",
    "driver.get(url+keyword)\n",
    "time.sleep(3)\n",
    "body = driver.find_element_by_tag_name('body')\n",
    "\n",
    "# 하이퍼 링크 추출\n",
    "link_url_lst = []\n",
    "for down in range(count_down):\n",
    "    PAGE_DOWN()\n",
    "    contents_lst = body.find_elements_by_class_name('v1Nh3')\n",
    "    # 게시글 리스트 생성\n",
    "    for contents_url in contents_lst:\n",
    "        link_url = contents_url.find_element_by_tag_name('a').get_attribute('href')\n",
    "        link_url_lst.append(link_url)\n",
    "    link_url_lst = list(set(link_url_lst))\n",
    "\n",
    "id_lst=[]\n",
    "cont_lst=[]\n",
    "hash_tag=[]\n",
    "like_lst=[]\n",
    "comt_lst=[]\n",
    "for link_url in link_url_lst:\n",
    "    # 본문 없는경우 첫번째 댓글을 무조건 본문으로 간주\n",
    "    driver.get(link_url)\n",
    "    time.sleep(3)\n",
    "    html = driver.page_source\n",
    "    soup = BeautifulSoup(html, \"html.parser\")\n",
    "    \n",
    "    # ID\n",
    "    try:\n",
    "        user_id = soup.find(class_='sqdOP').get_text()\n",
    "        id_lst.append(user_id)\n",
    "    except:\n",
    "        continue\n",
    "    \n",
    "    # 무조건 첫번째 있는 글은 본문으로 규정\n",
    "    class_C4VMK = soup.find_all('div',class_='C4VMK')\n",
    "    doc = class_C4VMK[0].find('span',class_=\"\").text\n",
    "    doc = re.sub('[^0-9a-zA-Zㄱ-ㅣ가-힣!?# ]',\"\",doc)\n",
    "    cont_lst.append(doc)\n",
    "    \n",
    "    # 해시태그\n",
    "    tags = class_C4VMK[0].find('span',class_=\"\").find_all('a')\n",
    "    temptag_lst=[]\n",
    "    for tag in tags:\n",
    "        temptag_lst.append(re.sub('[^0-9a-zA-Zㄱ-ㅣ가-힣!?# ]',\"\",tag.text))\n",
    "    hash_tag.append(temptag_lst)\n",
    "    \n",
    "    # 좋아요\n",
    "    try:\n",
    "        like = soup.find('div',class_='Nm9Fw').find('span').text\n",
    "        like = int(like.replace(\",\",\"\"))\n",
    "    except:\n",
    "        like = 0\n",
    "    like_lst.append(like)\n",
    "    # 댓글\n",
    "    try:\n",
    "        comt = ''\n",
    "        for i in range(1,len(class_C4VMK)):\n",
    "            tmp_comt = class_C4VMK[i].find('span',class_=\"\").text\n",
    "            comt = comt + ' ' + tmp_comt\n",
    "            comt = re.sub('[^0-9a-zA-Zㄱ-ㅣ가-힣!?# ]',\"\",comt)\n",
    "    except:\n",
    "        comt = ''\n",
    "    comt_lst.append(comt)\n",
    "    \n",
    "data_df=pd.DataFrame({'아이디':id_lst,'본문':cont_lst,'해시태그':hash_tag,\n",
    "                      '좋아요':like_lst,'댓글':comt_lst})\n",
    "driver.close()\n",
    "data_df.to_csv(\"c:/py_data/\"+keyword+\"_instagram_crawling.csv\",encoding=\"cp949\")\n",
    "print(\"c:/py_data/\"+keyword+\"_instagram_crawling.csv에 저장 완료!\")\n",
    "data_df"
   ]
  }
 ],
 "metadata": {
  "kernelspec": {
   "display_name": "Python 3",
   "language": "python",
   "name": "python3"
  },
  "language_info": {
   "codemirror_mode": {
    "name": "ipython",
    "version": 3
   },
   "file_extension": ".py",
   "mimetype": "text/x-python",
   "name": "python",
   "nbconvert_exporter": "python",
   "pygments_lexer": "ipython3",
   "version": "3.8.10"
  }
 },
 "nbformat": 4,
 "nbformat_minor": 5
}
