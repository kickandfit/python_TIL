{
 "cells": [
  {
   "cell_type": "code",
   "execution_count": 20,
   "id": "b2d0a7e2",
   "metadata": {},
   "outputs": [
    {
     "data": {
      "text/plain": [
       "14"
      ]
     },
     "execution_count": 20,
     "metadata": {},
     "output_type": "execute_result"
    }
   ],
   "source": [
    "#1로 만들기 : 다이나믹 프로그래밍 적용전\n",
    "def make_num_1(num):\n",
    "    global div_lst , cnt , d\n",
    "    if num ==1.0:\n",
    "        return 1\n",
    "    for i in div_lst:\n",
    "#         print(num)\n",
    "        if num % i == 0:\n",
    "            num = num / i\n",
    "            cnt+= 1\n",
    "            make_num_1(num)\n",
    "            return cnt\n",
    "        else :     \n",
    "            num -=1\n",
    "            cnt += 1\n",
    "#             print(cnt)\n",
    "            break\n",
    "    make_num_1(num)\n",
    "    return cnt\n",
    "div_lst = [5, 3, 2]\n",
    "cnt = 0\n",
    "d = [0]*30001\n",
    "make_num_1(300000)"
   ]
  },
  {
   "cell_type": "code",
   "execution_count": null,
   "id": "fea85ea8",
   "metadata": {},
   "outputs": [],
   "source": []
  },
  {
   "cell_type": "code",
   "execution_count": null,
   "id": "8cb5cd82",
   "metadata": {},
   "outputs": [],
   "source": []
  },
  {
   "cell_type": "code",
   "execution_count": null,
   "id": "deccf36a",
   "metadata": {},
   "outputs": [],
   "source": []
  },
  {
   "cell_type": "code",
   "execution_count": null,
   "id": "52a72aa4",
   "metadata": {},
   "outputs": [],
   "source": []
  },
  {
   "cell_type": "code",
   "execution_count": null,
   "id": "38ab6b45",
   "metadata": {},
   "outputs": [],
   "source": []
  }
 ],
 "metadata": {
  "jupytext": {
   "formats": "ipynb,auto:light"
  },
  "kernelspec": {
   "display_name": "Python 3",
   "language": "python",
   "name": "python3"
  },
  "language_info": {
   "codemirror_mode": {
    "name": "ipython",
    "version": 3
   },
   "file_extension": ".py",
   "mimetype": "text/x-python",
   "name": "python",
   "nbconvert_exporter": "python",
   "pygments_lexer": "ipython3",
   "version": "3.8.10"
  }
 },
 "nbformat": 4,
 "nbformat_minor": 5
}
