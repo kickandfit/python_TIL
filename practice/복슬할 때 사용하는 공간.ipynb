{
 "cells": [
  {
   "cell_type": "markdown",
   "id": "129fbe80",
   "metadata": {},
   "source": [
    "#### DFS"
   ]
  },
  {
   "cell_type": "code",
   "execution_count": null,
   "id": "090f00c2",
   "metadata": {},
   "outputs": [],
   "source": [
    "graph = [\n",
    "    [],\n",
    "    [2, 3, 8],\n",
    "    [1, 7],\n",
    "    [1, 4, 5],\n",
    "    [3, 5],\n",
    "    [3, 4],\n",
    "    [7],\n",
    "    [2, 6, 8],\n",
    "    [1, 7]\n",
    "]  \n",
    "visited = [False]*9\n",
    "\n",
    "def dfs (graph, v, visited):\n",
    "    visited[v] = True\n",
    "    print(v , end = ' ')\n",
    "    for now in graph[v]:\n",
    "        if not visited[now]:\n",
    "            dfs(graph, now, visited)\n",
    "dfs(graph, 1, visited)\n"
   ]
  },
  {
   "cell_type": "markdown",
   "id": "878f1c2e",
   "metadata": {},
   "source": [
    "#### Bfs"
   ]
  },
  {
   "cell_type": "code",
   "execution_count": 4,
   "id": "36c1faf6",
   "metadata": {},
   "outputs": [
    {
     "name": "stdout",
     "output_type": "stream",
     "text": [
      "1 2 3 8 7 4 5 6 "
     ]
    }
   ],
   "source": [
    "from collections import deque\n",
    "\n",
    "graph = [\n",
    "    [],\n",
    "    [2, 3, 8],\n",
    "    [1, 7],\n",
    "    [1, 4, 5],\n",
    "    [3, 5],\n",
    "    [3, 4],\n",
    "    [7],\n",
    "    [2, 6, 8],\n",
    "    [1, 7]\n",
    "]  \n",
    "def bfs(graph, start, visited):\n",
    "    queue = deque([start])\n",
    "    visited[start] = True\n",
    "    while queue:\n",
    "        v = queue.popleft()\n",
    "        \n",
    "        print(v, end = ' ')\n",
    "        for i in graph[v]:\n",
    "            if not visited[i]:\n",
    "                queue.append(i)\n",
    "                visited[i] = True\n",
    "        \n",
    "    \n",
    "visited = [False]*9\n",
    "bfs(graph, 1, visited)"
   ]
  },
  {
   "cell_type": "markdown",
   "id": "2ab9a2f8",
   "metadata": {},
   "source": [
    "#### 정렬 ( 선택정렬 )"
   ]
  },
  {
   "cell_type": "code",
   "execution_count": 6,
   "id": "701c2eb9",
   "metadata": {},
   "outputs": [
    {
     "name": "stdout",
     "output_type": "stream",
     "text": [
      "[0, 1, 2, 3, 4, 5, 6, 7, 8, 9]\n"
     ]
    }
   ],
   "source": [
    "array = [7,5,9,0,3,1,6,2,4,8]\n",
    "\n",
    "for i in range(len(array)):\n",
    "    min_index = i\n",
    "    for j in range(i+1,len(array)):\n",
    "        if array[min_index] > array[j]:\n",
    "            array[min_index] , array[j] = array[j] , array[min_index]\n",
    "print(array)"
   ]
  },
  {
   "cell_type": "markdown",
   "id": "4f5b058f",
   "metadata": {},
   "source": [
    "#### 정렬( 삽입 정렬)"
   ]
  },
  {
   "cell_type": "code",
   "execution_count": 10,
   "id": "dd7ffb70",
   "metadata": {},
   "outputs": [
    {
     "name": "stdout",
     "output_type": "stream",
     "text": [
      "[0, 1, 2, 3, 4, 5, 6, 7, 8, 9]\n"
     ]
    }
   ],
   "source": [
    "array = [7,5,9,0,3,1,6,2,4,8]\n",
    "\n",
    "for i in range(1,len(array)):\n",
    "    for j in range(i, 0, -1):\n",
    "        if array[j] < array[j-1]:\n",
    "            array[j], array[j-1] = array[j-1], array[j]\n",
    "        else:\n",
    "            break\n",
    "print(array)"
   ]
  },
  {
   "cell_type": "markdown",
   "id": "dbceb154",
   "metadata": {},
   "source": [
    "#### 정렬( 퀵 정렬 )"
   ]
  },
  {
   "cell_type": "code",
   "execution_count": 13,
   "id": "90d99c0c",
   "metadata": {},
   "outputs": [
    {
     "name": "stdout",
     "output_type": "stream",
     "text": [
      "[0, 1, 2, 3, 4, 5, 6, 7, 8, 9]\n"
     ]
    }
   ],
   "source": [
    "# 방법 1\n",
    "array = [7,5,9,0,3,1,6,2,4,8]\n",
    "\n",
    "def quick_sort(array, start, end):\n",
    "    if start >= end:\n",
    "        return\n",
    "    pivot = start\n",
    "    left = start + 1\n",
    "    right = end\n",
    "    while left <= right: \n",
    "        while left <= end and array[left] <= array[pivot]:\n",
    "            left += 1\n",
    "        while right > start and array[right] >= array[pivot]:\n",
    "            right -= 1\n",
    "        if left > right:\n",
    "            array[right], array[pivot] = array[pivot], array[right]\n",
    "        else:\n",
    "            array[left], array[right] = array[right], array[left]\n",
    "        quick_sort(array, start, right-1)\n",
    "        quick_sort(array, right+1 , end)\n",
    "    \n",
    "quick_sort(array, 0, len(array) -1)\n",
    "print(array)\n",
    "        "
   ]
  },
  {
   "cell_type": "code",
   "execution_count": 15,
   "id": "dd713ff4",
   "metadata": {},
   "outputs": [
    {
     "name": "stdout",
     "output_type": "stream",
     "text": [
      "[0, 1, 2, 3, 4, 5, 6, 7, 8, 9]\n"
     ]
    }
   ],
   "source": [
    "# 방법 2 ( 그냥 감탄 밖에 안나오네 코드가 그냥 )\n",
    "array = [7,5,9,0,3,1,6,2,4,8]\n",
    "\n",
    "def quick_sort(array):\n",
    "    if len(array) <= 1:\n",
    "        return array\n",
    "    \n",
    "    pivot = array[0]\n",
    "    tail = array[1:]\n",
    "    left_side = [x for x in tail if x <= pivot]\n",
    "    right_side = [x for x in tail if x > pivot]\n",
    "    \n",
    "    return quick_sort(left_side) + [pivot] + quick_sort(right_side)\n",
    "\n",
    "print(quick_sort(array))"
   ]
  },
  {
   "cell_type": "markdown",
   "id": "9bc8bde2",
   "metadata": {},
   "source": [
    "#### 계수 정렬"
   ]
  },
  {
   "cell_type": "code",
   "execution_count": 17,
   "id": "fac2ee8d",
   "metadata": {},
   "outputs": [
    {
     "name": "stdout",
     "output_type": "stream",
     "text": [
      "0 0 1 1 2 2 3 4 5 5 6 7 8 9 9 "
     ]
    }
   ],
   "source": [
    "array = [7, 5, 9, 0, 3, 1, 6, 2, 9, 1, 4, 8, 0, 5, 2]\n",
    "\n",
    "count = [0] * ( max(array) + 1 )\n",
    "\n",
    "for i in range(len(array)):\n",
    "    count[array[i]] += 1\n",
    "\n",
    "for i in range(len(count)):\n",
    "    for j in range(count[i]):\n",
    "        print( i , end = ' ')"
   ]
  },
  {
   "cell_type": "markdown",
   "id": "fe15c521",
   "metadata": {},
   "source": [
    "#### 파이썬 내장 함수\n"
   ]
  },
  {
   "cell_type": "code",
   "execution_count": 21,
   "id": "bb342cc6",
   "metadata": {},
   "outputs": [
    {
     "name": "stdout",
     "output_type": "stream",
     "text": [
      "[0, 1, 2, 3, 4, 5, 6, 7, 8, 9]\n",
      "[0, 1, 2, 3, 4, 5, 6, 7, 8, 9]\n"
     ]
    }
   ],
   "source": [
    "array = [7,5,9,0,3,1,6,2,4,8]\n",
    "\n",
    "result = sorted(array)\n",
    "print(result)\n",
    "\n",
    "array.sort()\n",
    "print(array)"
   ]
  },
  {
   "cell_type": "markdown",
   "id": "175619b9",
   "metadata": {},
   "source": [
    "#### 순차탐색\n",
    "- 정렬되지 않은 리스트에서 무엇인가를 찾아야 할때"
   ]
  },
  {
   "cell_type": "code",
   "execution_count": 23,
   "id": "cdf4ef75",
   "metadata": {},
   "outputs": [
    {
     "name": "stdout",
     "output_type": "stream",
     "text": [
      "5 Dongbin\n",
      "Hanul Jonggu Dongbin Taeil Sangwook\n",
      "3\n"
     ]
    }
   ],
   "source": [
    "def sequential_search(n, target, array):\n",
    "    for i in range(n):\n",
    "        if array[i] == target:\n",
    "            return i + 1\n",
    "print('생성할 원소 갯수를 입력한 다음 한 칸 띄고 찾을 문자열을 입력하세요')        \n",
    "input_data = input().split()\n",
    "n = int(input_data[0])\n",
    "target = input_data[1]\n",
    "\n",
    "print('앞서 적은 원소 개수만큼 문자열을 입력하세요. 구분은 띄어쓰기 한 칸으로 합니다')\n",
    "array = input().split()\n",
    "print(sequential_search(n, target, array))"
   ]
  },
  {
   "cell_type": "markdown",
   "id": "0f2d904d",
   "metadata": {},
   "source": [
    "#### 이진탐색\n",
    "- 데이터가 정렬되어 있어야만 사용할 수 있음\n",
    "- 데이터 양이 많고 정렬이 되어 있는 상태일 때면 고려"
   ]
  },
  {
   "cell_type": "code",
   "execution_count": 24,
   "id": "47d0f734",
   "metadata": {},
   "outputs": [
    {
     "name": "stdout",
     "output_type": "stream",
     "text": [
      "10 7\n",
      "1 3 5 7 9 11 13 15 17 19\n",
      "4\n"
     ]
    }
   ],
   "source": [
    "# 재귀로 구현한 이진 탐색\n",
    "def binary_search(array, target, start, end):\n",
    "    if start > end:\n",
    "        return None\n",
    "    mid = (start + end) // 2\n",
    "    if array[mid] == target:\n",
    "        return mid\n",
    "    elif array[mid] > target:\n",
    "        return binary_search(array, target, start, mid-1)\n",
    "    else:\n",
    "        return binary_search(array, target, mid + 1, end)\n",
    "    \n",
    "n , target = list(map(int, input().split()))\n",
    "array = list(map(int, input().split()))\n",
    "\n",
    "result = binary_search(array, target, 0, n -1 )\n",
    "if result == None:\n",
    "    print('원소가 존재하지 않습니다')\n",
    "else:\n",
    "    print(result + 1)\n"
   ]
  },
  {
   "cell_type": "code",
   "execution_count": 27,
   "id": "aed98169",
   "metadata": {},
   "outputs": [
    {
     "name": "stdout",
     "output_type": "stream",
     "text": [
      "10 7\n",
      "1 3 5 7 9 11 13 15 17 19\n",
      "4\n"
     ]
    }
   ],
   "source": [
    "# 반복문으로 구현한 이진 탐색\n",
    "\n",
    "def binary_search(array, target, start, end):\n",
    "    while start <= end:\n",
    "        mid = (start + end) // 2\n",
    "        \n",
    "        if array[mid] == target:\n",
    "            return mid\n",
    "        \n",
    "        elif array[mid] > target:\n",
    "            end = mid -1\n",
    "            \n",
    "        else:\n",
    "            \n",
    "            start = mid + 1\n",
    "            \n",
    "    return None\n",
    "    \n",
    "n , target = list(map(int, input().split()))\n",
    "array = list(map(int, input().split()))\n",
    "\n",
    "result = binary_search(array, target, 0, n -1 )\n",
    "if result == None:\n",
    "    print('원소가 존재하지 않습니다')\n",
    "else:\n",
    "    print(result + 1)\n",
    "\n"
   ]
  },
  {
   "cell_type": "code",
   "execution_count": null,
   "id": "dd1343d0",
   "metadata": {},
   "outputs": [],
   "source": []
  }
 ],
 "metadata": {
  "jupytext": {
   "formats": "ipynb,auto:light"
  },
  "kernelspec": {
   "display_name": "Python 3",
   "language": "python",
   "name": "python3"
  },
  "language_info": {
   "codemirror_mode": {
    "name": "ipython",
    "version": 3
   },
   "file_extension": ".py",
   "mimetype": "text/x-python",
   "name": "python",
   "nbconvert_exporter": "python",
   "pygments_lexer": "ipython3",
   "version": "3.8.10"
  }
 },
 "nbformat": 4,
 "nbformat_minor": 5
}
