{
 "cells": [
  {
   "cell_type": "code",
   "execution_count": null,
   "id": "bd6bc2c1",
   "metadata": {},
   "outputs": [],
   "source": [
    "# 전화번호 목록 : 효용성 테스트 실패\n",
    "def solution(phone_book):\n",
    "    n_phone_book = sorted(phone_book)\n",
    "    num_list = defaultdict(str)\n",
    "    for i,k in enumerate(n_phone_book):\n",
    "        num_list[i] = k\n",
    "    for i in num_list:\n",
    "        if i < len(num_list):\n",
    "            for j in range(i+1,len(num_list)):\n",
    "                if num_list[i] == num_list[j][:len(num_list[i])]:\n",
    "                    answer = False\n",
    "                    break\n",
    "                else:\n",
    "                    answer = True\n",
    "                    continue\n",
    "        if answer == False:\n",
    "            break      \n",
    "        else:\n",
    "            continue\n",
    "    return answer\n",
    "\n",
    "# 문자열을 정렬하면 앞의 숫자 순서대로 나온다, 즉 숫자 크기가 아니라 맞춰서 정렬되기 때문에 뒤에 부분 생각할 필요가 없다"
   ]
  },
  {
   "cell_type": "code",
   "execution_count": null,
   "id": "c8a2d6ec",
   "metadata": {},
   "outputs": [],
   "source": [
    "# 전화번호 목로 : 통과\n",
    "def solution(phone_book):\n",
    "    answer = True\n",
    "    phone_book.sort()\n",
    "    for i in range(len(phone_book)-1):\n",
    "        if len(phone_book[i]) < len(phone_book[i+1]):\n",
    "            if phone_book[i + 1][:len(phone_book[i])] == phone_book[i]:\n",
    "                answer = False\n",
    "                break\n",
    "    return answer"
   ]
  },
  {
   "cell_type": "code",
   "execution_count": 3,
   "id": "8eeffdc7",
   "metadata": {},
   "outputs": [
    {
     "name": "stdout",
     "output_type": "stream",
     "text": [
      "[(1, 2), (2, 3)]\n"
     ]
    }
   ],
   "source": [
    "# zip 과 , startswich를 활용한 풀이\n",
    "a = [1,2,3]\n",
    "b = (4,5,6)\n",
    "c = 'abce'\n",
    "print(list(zip(a,a[1:])))\n",
    "\n",
    "def solution(phoneBook):\n",
    "    phoneBook = sorted(phoneBook)\n",
    "\n",
    "    for p1, p2 in zip(phoneBook, phoneBook[1:]):\n",
    "        if p2.startswith(p1):\n",
    "            return False\n",
    "    return True"
   ]
  },
  {
   "cell_type": "code",
   "execution_count": null,
   "id": "e21ebca2",
   "metadata": {},
   "outputs": [],
   "source": [
    "# 파이썬 정렬 알고리즘 h-index\n",
    "\n",
    "def solution(citations):\n",
    "    clist = sorted(citations)\n",
    "    n = len(clist)\n",
    "    for i in range(n):\n",
    "        if n-i <= clist[i]:\n",
    "            answer = n-i \n",
    "            break\n",
    "    \n",
    "    return answer"
   ]
  }
 ],
 "metadata": {
  "jupytext": {
   "formats": "ipynb,auto:light"
  },
  "kernelspec": {
   "display_name": "Python 3",
   "language": "python",
   "name": "python3"
  },
  "language_info": {
   "codemirror_mode": {
    "name": "ipython",
    "version": 3
   },
   "file_extension": ".py",
   "mimetype": "text/x-python",
   "name": "python",
   "nbconvert_exporter": "python",
   "pygments_lexer": "ipython3",
   "version": "3.8.10"
  }
 },
 "nbformat": 4,
 "nbformat_minor": 5
}
