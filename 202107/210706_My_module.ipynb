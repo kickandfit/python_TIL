{
 "cells": [
  {
   "cell_type": "code",
   "execution_count": 31,
   "id": "bfb578cd",
   "metadata": {},
   "outputs": [],
   "source": [
    "class FourCal:\n",
    "    \n",
    "    # self는 자기자신을 의미함\n",
    "    \n",
    "    # 생성자 : 클래스 자체를 정의할 떄 사용함\n",
    "\n",
    "    def __init__(self):\n",
    "        self.result = 0 #FourCal 속성\n",
    "        \n",
    "    def add(self, num): # 함수/ 인스턴스(클래스 입장)/ 메서드\n",
    "        self.result = self.result + num\n",
    "        \n",
    "        return self.result\n",
    "    \n",
    "    def sub(self, num):\n",
    "        self.result= self.result - num\n",
    "        return self.result\n",
    "    \n",
    "    def mul(self, num):\n",
    "        self.result= self.result * num\n",
    "        return self.result\n",
    "    \n",
    "    def Div(self, num) :\n",
    "        self.result= self.result/num\n",
    "        return self.result\n",
    "\n",
    "### 클래스 상속\n",
    "\n",
    "class FourCal_chr(FourCal):\n",
    "    \n",
    "    def __init__(self, number):\n",
    "        super().__init__()\n",
    "        self.number = number\n",
    "        \n",
    "    def add_2(self, number):\n",
    "        self.number = self.number + self.result + number\n",
    "        return self.number"
   ]
  },
  {
   "cell_type": "code",
   "execution_count": 32,
   "id": "7fdc6c7f",
   "metadata": {},
   "outputs": [
    {
     "name": "stdout",
     "output_type": "stream",
     "text": [
      "10.0\n",
      "30 50 10.0\n"
     ]
    }
   ],
   "source": [
    "obj1 = FourCal()\n",
    "padd1 = obj1.add(30)\n",
    "padd2 = obj1.add(20)\n",
    "div1 = obj1.Div(5)\n",
    "\n",
    "print(obj1.result)\n",
    "print(padd1, padd2, div1)"
   ]
  },
  {
   "cell_type": "code",
   "execution_count": 33,
   "id": "73e0e9b6",
   "metadata": {},
   "outputs": [
    {
     "name": "stdout",
     "output_type": "stream",
     "text": [
      "10\n",
      "20\n",
      "60\n"
     ]
    }
   ],
   "source": [
    "obj2 = FourCal_chr(10) #number에 10\n",
    "print(obj2.add(10)) # 부모의 self.result 10\n",
    "print(obj2.add(10)) # 부모의 self.result 20\n",
    "print(obj2.add_2(30))\n",
    "# class FourCal_chr(FourCal):\n",
    "    \n",
    "#     def __init__(self, number):\n",
    "#         super().__init__()\n",
    "#         self.number = number #number는 처음 가지고 들어간 10\n",
    "        \n",
    "#     def add_2(self, number):\n",
    "#         self.number = self.number + self.result #self.result 는 전에 실행된값\n",
    "#         return self.number"
   ]
  },
  {
   "cell_type": "code",
   "execution_count": null,
   "id": "7aab943f",
   "metadata": {},
   "outputs": [],
   "source": []
  },
  {
   "cell_type": "code",
   "execution_count": null,
   "id": "26415984",
   "metadata": {},
   "outputs": [],
   "source": []
  }
 ],
 "metadata": {
  "kernelspec": {
   "display_name": "Python 3",
   "language": "python",
   "name": "python3"
  },
  "language_info": {
   "codemirror_mode": {
    "name": "ipython",
    "version": 3
   },
   "file_extension": ".py",
   "mimetype": "text/x-python",
   "name": "python",
   "nbconvert_exporter": "python",
   "pygments_lexer": "ipython3",
   "version": "3.9.4"
  }
 },
 "nbformat": 4,
 "nbformat_minor": 5
}
