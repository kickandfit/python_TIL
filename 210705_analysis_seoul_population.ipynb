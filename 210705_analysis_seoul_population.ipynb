{
 "cells": [
  {
   "cell_type": "markdown",
   "id": "a7230b78",
   "metadata": {},
   "source": [
    "### [목표]\n",
    "- 년도별 서울시 인구 현황(내국인/외국인/고령자)\n",
    "- 년도별 외국인 남/여 비율"
   ]
  },
  {
   "cell_type": "code",
   "execution_count": 47,
   "id": "00fde5dd",
   "metadata": {
    "lines_to_next_cell": 2
   },
   "outputs": [
    {
     "data": {
      "text/html": [
       "<div>\n",
       "<style scoped>\n",
       "    .dataframe tbody tr th:only-of-type {\n",
       "        vertical-align: middle;\n",
       "    }\n",
       "\n",
       "    .dataframe tbody tr th {\n",
       "        vertical-align: top;\n",
       "    }\n",
       "\n",
       "    .dataframe thead th {\n",
       "        text-align: right;\n",
       "    }\n",
       "</style>\n",
       "<table border=\"1\" class=\"dataframe\">\n",
       "  <thead>\n",
       "    <tr style=\"text-align: right;\">\n",
       "      <th></th>\n",
       "      <th>기간</th>\n",
       "      <th>자치구</th>\n",
       "      <th>세대</th>\n",
       "      <th>합계</th>\n",
       "      <th>합계.1</th>\n",
       "      <th>합계.2</th>\n",
       "      <th>한국인</th>\n",
       "      <th>한국인.1</th>\n",
       "      <th>한국인.2</th>\n",
       "      <th>등록외국인</th>\n",
       "      <th>등록외국인.1</th>\n",
       "      <th>등록외국인.2</th>\n",
       "      <th>인구밀도</th>\n",
       "      <th>인구밀도.1</th>\n",
       "      <th>세대당인구</th>\n",
       "      <th>65세이상고령자</th>\n",
       "    </tr>\n",
       "  </thead>\n",
       "  <tbody>\n",
       "    <tr>\n",
       "      <th>0</th>\n",
       "      <td>기간</td>\n",
       "      <td>자치구</td>\n",
       "      <td>세대</td>\n",
       "      <td>계</td>\n",
       "      <td>남자</td>\n",
       "      <td>여자</td>\n",
       "      <td>계</td>\n",
       "      <td>남자</td>\n",
       "      <td>여자</td>\n",
       "      <td>계</td>\n",
       "      <td>남자</td>\n",
       "      <td>여자</td>\n",
       "      <td>인구밀도(명/㎢)</td>\n",
       "      <td>면적(㎢)</td>\n",
       "      <td>세대당인구</td>\n",
       "      <td>65세이상고령자</td>\n",
       "    </tr>\n",
       "    <tr>\n",
       "      <th>1</th>\n",
       "      <td>1991</td>\n",
       "      <td>합계</td>\n",
       "      <td>3,330,317</td>\n",
       "      <td>10,904,527</td>\n",
       "      <td>5,485,353</td>\n",
       "      <td>5,419,174</td>\n",
       "      <td>…</td>\n",
       "      <td>…</td>\n",
       "      <td>…</td>\n",
       "      <td>…</td>\n",
       "      <td>…</td>\n",
       "      <td>…</td>\n",
       "      <td>18,014</td>\n",
       "      <td>605.33</td>\n",
       "      <td>3.27</td>\n",
       "      <td>…</td>\n",
       "    </tr>\n",
       "    <tr>\n",
       "      <th>2</th>\n",
       "      <td>1991</td>\n",
       "      <td>종로구</td>\n",
       "      <td>78,169</td>\n",
       "      <td>236,806</td>\n",
       "      <td>119,127</td>\n",
       "      <td>117,679</td>\n",
       "      <td>…</td>\n",
       "      <td>…</td>\n",
       "      <td>…</td>\n",
       "      <td>…</td>\n",
       "      <td>…</td>\n",
       "      <td>…</td>\n",
       "      <td>9,865</td>\n",
       "      <td>24.01</td>\n",
       "      <td>3.03</td>\n",
       "      <td>…</td>\n",
       "    </tr>\n",
       "  </tbody>\n",
       "</table>\n",
       "</div>"
      ],
      "text/plain": [
       "     기간  자치구         세대          합계       합계.1       합계.2 한국인 한국인.1 한국인.2  \\\n",
       "0    기간  자치구         세대           계         남자         여자   계    남자    여자   \n",
       "1  1991   합계  3,330,317  10,904,527  5,485,353  5,419,174   …     …     …   \n",
       "2  1991  종로구     78,169     236,806    119,127    117,679   …     …     …   \n",
       "\n",
       "  등록외국인 등록외국인.1 등록외국인.2       인구밀도  인구밀도.1  세대당인구  65세이상고령자  \n",
       "0     계      남자      여자  인구밀도(명/㎢)   면적(㎢)  세대당인구  65세이상고령자  \n",
       "1     …       …       …     18,014  605.33   3.27         …  \n",
       "2     …       …       …      9,865   24.01   3.03         …  "
      ]
     },
     "execution_count": 47,
     "metadata": {},
     "output_type": "execute_result"
    }
   ],
   "source": [
    "# 구분자가 콤마(,)가 아닌 다른 구분자를 사용한 데이터 읽어오기\n",
    "# 제목행 선택: header = 1(index 번호)\n",
    "import pandas as pd\n",
    "\n",
    "df1 = pd.read_csv('./Data/서울시 인구현황_구.txt', sep = '\\t', header = 1)\n",
    "df1.head(3)"
   ]
  },
  {
   "cell_type": "code",
   "execution_count": 48,
   "id": "07e8bb4e",
   "metadata": {},
   "outputs": [
    {
     "data": {
      "text/html": [
       "<div>\n",
       "<style scoped>\n",
       "    .dataframe tbody tr th:only-of-type {\n",
       "        vertical-align: middle;\n",
       "    }\n",
       "\n",
       "    .dataframe tbody tr th {\n",
       "        vertical-align: top;\n",
       "    }\n",
       "\n",
       "    .dataframe thead th {\n",
       "        text-align: right;\n",
       "    }\n",
       "</style>\n",
       "<table border=\"1\" class=\"dataframe\">\n",
       "  <thead>\n",
       "    <tr style=\"text-align: right;\">\n",
       "      <th></th>\n",
       "      <th>기간</th>\n",
       "      <th>자치구</th>\n",
       "      <th>합계</th>\n",
       "      <th>합계.1</th>\n",
       "      <th>합계.2</th>\n",
       "      <th>한국인</th>\n",
       "      <th>한국인.1</th>\n",
       "      <th>한국인.2</th>\n",
       "      <th>등록외국인</th>\n",
       "      <th>등록외국인.1</th>\n",
       "      <th>등록외국인.2</th>\n",
       "      <th>65세이상고령자</th>\n",
       "    </tr>\n",
       "  </thead>\n",
       "  <tbody>\n",
       "    <tr>\n",
       "      <th>0</th>\n",
       "      <td>기간</td>\n",
       "      <td>자치구</td>\n",
       "      <td>계</td>\n",
       "      <td>남자</td>\n",
       "      <td>여자</td>\n",
       "      <td>계</td>\n",
       "      <td>남자</td>\n",
       "      <td>여자</td>\n",
       "      <td>계</td>\n",
       "      <td>남자</td>\n",
       "      <td>여자</td>\n",
       "      <td>65세이상고령자</td>\n",
       "    </tr>\n",
       "    <tr>\n",
       "      <th>1</th>\n",
       "      <td>1991</td>\n",
       "      <td>합계</td>\n",
       "      <td>10,904,527</td>\n",
       "      <td>5,485,353</td>\n",
       "      <td>5,419,174</td>\n",
       "      <td>…</td>\n",
       "      <td>…</td>\n",
       "      <td>…</td>\n",
       "      <td>…</td>\n",
       "      <td>…</td>\n",
       "      <td>…</td>\n",
       "      <td>…</td>\n",
       "    </tr>\n",
       "    <tr>\n",
       "      <th>2</th>\n",
       "      <td>1991</td>\n",
       "      <td>종로구</td>\n",
       "      <td>236,806</td>\n",
       "      <td>119,127</td>\n",
       "      <td>117,679</td>\n",
       "      <td>…</td>\n",
       "      <td>…</td>\n",
       "      <td>…</td>\n",
       "      <td>…</td>\n",
       "      <td>…</td>\n",
       "      <td>…</td>\n",
       "      <td>…</td>\n",
       "    </tr>\n",
       "    <tr>\n",
       "      <th>3</th>\n",
       "      <td>1991</td>\n",
       "      <td>중구</td>\n",
       "      <td>184,142</td>\n",
       "      <td>93,312</td>\n",
       "      <td>90,830</td>\n",
       "      <td>…</td>\n",
       "      <td>…</td>\n",
       "      <td>…</td>\n",
       "      <td>…</td>\n",
       "      <td>…</td>\n",
       "      <td>…</td>\n",
       "      <td>…</td>\n",
       "    </tr>\n",
       "    <tr>\n",
       "      <th>4</th>\n",
       "      <td>1991</td>\n",
       "      <td>용산구</td>\n",
       "      <td>294,341</td>\n",
       "      <td>147,914</td>\n",
       "      <td>146,427</td>\n",
       "      <td>…</td>\n",
       "      <td>…</td>\n",
       "      <td>…</td>\n",
       "      <td>…</td>\n",
       "      <td>…</td>\n",
       "      <td>…</td>\n",
       "      <td>…</td>\n",
       "    </tr>\n",
       "    <tr>\n",
       "      <th>...</th>\n",
       "      <td>...</td>\n",
       "      <td>...</td>\n",
       "      <td>...</td>\n",
       "      <td>...</td>\n",
       "      <td>...</td>\n",
       "      <td>...</td>\n",
       "      <td>...</td>\n",
       "      <td>...</td>\n",
       "      <td>...</td>\n",
       "      <td>...</td>\n",
       "      <td>...</td>\n",
       "      <td>...</td>\n",
       "    </tr>\n",
       "    <tr>\n",
       "      <th>764</th>\n",
       "      <td>2020</td>\n",
       "      <td>관악구</td>\n",
       "      <td>509,803</td>\n",
       "      <td>255,211</td>\n",
       "      <td>254,592</td>\n",
       "      <td>495,060</td>\n",
       "      <td>248,339</td>\n",
       "      <td>246,721</td>\n",
       "      <td>14,743</td>\n",
       "      <td>6,872</td>\n",
       "      <td>7,871</td>\n",
       "      <td>78,875</td>\n",
       "    </tr>\n",
       "    <tr>\n",
       "      <th>765</th>\n",
       "      <td>2020</td>\n",
       "      <td>서초구</td>\n",
       "      <td>429,025</td>\n",
       "      <td>205,282</td>\n",
       "      <td>223,743</td>\n",
       "      <td>425,126</td>\n",
       "      <td>203,359</td>\n",
       "      <td>221,767</td>\n",
       "      <td>3,899</td>\n",
       "      <td>1,923</td>\n",
       "      <td>1,976</td>\n",
       "      <td>60,169</td>\n",
       "    </tr>\n",
       "    <tr>\n",
       "      <th>766</th>\n",
       "      <td>2020</td>\n",
       "      <td>강남구</td>\n",
       "      <td>544,055</td>\n",
       "      <td>260,378</td>\n",
       "      <td>283,677</td>\n",
       "      <td>539,231</td>\n",
       "      <td>257,999</td>\n",
       "      <td>281,232</td>\n",
       "      <td>4,824</td>\n",
       "      <td>2,379</td>\n",
       "      <td>2,445</td>\n",
       "      <td>75,096</td>\n",
       "    </tr>\n",
       "    <tr>\n",
       "      <th>767</th>\n",
       "      <td>2020</td>\n",
       "      <td>송파구</td>\n",
       "      <td>673,926</td>\n",
       "      <td>325,080</td>\n",
       "      <td>348,846</td>\n",
       "      <td>667,960</td>\n",
       "      <td>322,299</td>\n",
       "      <td>345,661</td>\n",
       "      <td>5,966</td>\n",
       "      <td>2,781</td>\n",
       "      <td>3,185</td>\n",
       "      <td>93,483</td>\n",
       "    </tr>\n",
       "    <tr>\n",
       "      <th>768</th>\n",
       "      <td>2020</td>\n",
       "      <td>강동구</td>\n",
       "      <td>463,998</td>\n",
       "      <td>228,044</td>\n",
       "      <td>235,954</td>\n",
       "      <td>459,970</td>\n",
       "      <td>226,216</td>\n",
       "      <td>233,754</td>\n",
       "      <td>4,028</td>\n",
       "      <td>1,828</td>\n",
       "      <td>2,200</td>\n",
       "      <td>70,019</td>\n",
       "    </tr>\n",
       "  </tbody>\n",
       "</table>\n",
       "<p>769 rows × 12 columns</p>\n",
       "</div>"
      ],
      "text/plain": [
       "       기간  자치구          합계       합계.1       합계.2      한국인    한국인.1    한국인.2  \\\n",
       "0      기간  자치구           계         남자         여자        계       남자       여자   \n",
       "1    1991   합계  10,904,527  5,485,353  5,419,174        …        …        …   \n",
       "2    1991  종로구     236,806    119,127    117,679        …        …        …   \n",
       "3    1991   중구     184,142     93,312     90,830        …        …        …   \n",
       "4    1991  용산구     294,341    147,914    146,427        …        …        …   \n",
       "..    ...  ...         ...        ...        ...      ...      ...      ...   \n",
       "764  2020  관악구     509,803    255,211    254,592  495,060  248,339  246,721   \n",
       "765  2020  서초구     429,025    205,282    223,743  425,126  203,359  221,767   \n",
       "766  2020  강남구     544,055    260,378    283,677  539,231  257,999  281,232   \n",
       "767  2020  송파구     673,926    325,080    348,846  667,960  322,299  345,661   \n",
       "768  2020  강동구     463,998    228,044    235,954  459,970  226,216  233,754   \n",
       "\n",
       "      등록외국인 등록외국인.1 등록외국인.2  65세이상고령자  \n",
       "0         계      남자      여자  65세이상고령자  \n",
       "1         …       …       …         …  \n",
       "2         …       …       …         …  \n",
       "3         …       …       …         …  \n",
       "4         …       …       …         …  \n",
       "..      ...     ...     ...       ...  \n",
       "764  14,743   6,872   7,871    78,875  \n",
       "765   3,899   1,923   1,976    60,169  \n",
       "766   4,824   2,379   2,445    75,096  \n",
       "767   5,966   2,781   3,185    93,483  \n",
       "768   4,028   1,828   2,200    70,019  \n",
       "\n",
       "[769 rows x 12 columns]"
      ]
     },
     "execution_count": 48,
     "metadata": {},
     "output_type": "execute_result"
    }
   ],
   "source": [
    "# 기간, 자치구, 전체인구/전체(남)/전체(여)/\n",
    "# 내국인/내국인(남)/내국인(여)/외국인/외국인(남)/외국인(여)/65세이상\n",
    "\n",
    "# df1['기간','자치구', '합계', '합계.1', '합계.2', '한국인', '한국인.1', '한국인.2','등록외국인', '등록외국인.1', '등록외국인.2','65세이상고령자']\n",
    "# df1.loc[:, ['기간','자치구', '합계', '합계.1', '합계.2', '한국인', '한국인.1',\n",
    "#            '한국인.2','등록외국인', '등록외국인.1', '등록외국인.2','65세이상고령자']]\n",
    "df1 = df1.iloc[:, [0,1, 9 ,10, 11]]\n",
    "df1"
   ]
  },
  {
   "cell_type": "code",
   "execution_count": 39,
   "id": "5c5440f0",
   "metadata": {},
   "outputs": [
    {
     "data": {
      "text/plain": [
       "Index(['기간', '자치구', '합계', '합계.1', '합계.2', '한국인', '한국인.1', '한국인.2', '등록외국인',\n",
       "       '등록외국인.1', '등록외국인.2', '65세이상고령자'],\n",
       "      dtype='object')"
      ]
     },
     "execution_count": 39,
     "metadata": {},
     "output_type": "execute_result"
    }
   ],
   "source": [
    "df1.columns"
   ]
  },
  {
   "cell_type": "markdown",
   "id": "5e3c59bf",
   "metadata": {},
   "source": [
    "### ※ 참고사항 : axis = 0 vs axis = 1\n",
    "- axis = 0은 DataFrame 에서 행 단위를 수정할 때 필요한 파라미터 값\n",
    "- axis = 1은 DataFrame 에서 열 단위를 수정할 때 필요한 파라미터 값"
   ]
  },
  {
   "cell_type": "code",
   "execution_count": 49,
   "id": "000a2423",
   "metadata": {},
   "outputs": [],
   "source": [
    "df1.drop(0, axis = 0, inplace = True) #DataFrame.drop(0) axis = 0 이 생략된 상태"
   ]
  },
  {
   "cell_type": "code",
   "execution_count": 30,
   "id": "0d926d34",
   "metadata": {},
   "outputs": [
    {
     "data": {
      "text/html": [
       "<div>\n",
       "<style scoped>\n",
       "    .dataframe tbody tr th:only-of-type {\n",
       "        vertical-align: middle;\n",
       "    }\n",
       "\n",
       "    .dataframe tbody tr th {\n",
       "        vertical-align: top;\n",
       "    }\n",
       "\n",
       "    .dataframe thead th {\n",
       "        text-align: right;\n",
       "    }\n",
       "</style>\n",
       "<table border=\"1\" class=\"dataframe\">\n",
       "  <thead>\n",
       "    <tr style=\"text-align: right;\">\n",
       "      <th></th>\n",
       "      <th>기간</th>\n",
       "      <th>자치구</th>\n",
       "      <th>합계</th>\n",
       "      <th>합계.1</th>\n",
       "      <th>합계.2</th>\n",
       "      <th>한국인</th>\n",
       "      <th>한국인.1</th>\n",
       "      <th>한국인.2</th>\n",
       "      <th>등록외국인</th>\n",
       "      <th>등록외국인.1</th>\n",
       "      <th>등록외국인.2</th>\n",
       "      <th>65세이상고령자</th>\n",
       "    </tr>\n",
       "  </thead>\n",
       "  <tbody>\n",
       "    <tr>\n",
       "      <th>1</th>\n",
       "      <td>1991</td>\n",
       "      <td>합계</td>\n",
       "      <td>10,904,527</td>\n",
       "      <td>5,485,353</td>\n",
       "      <td>5,419,174</td>\n",
       "      <td>…</td>\n",
       "      <td>…</td>\n",
       "      <td>…</td>\n",
       "      <td>…</td>\n",
       "      <td>…</td>\n",
       "      <td>…</td>\n",
       "      <td>…</td>\n",
       "    </tr>\n",
       "    <tr>\n",
       "      <th>2</th>\n",
       "      <td>1991</td>\n",
       "      <td>종로구</td>\n",
       "      <td>236,806</td>\n",
       "      <td>119,127</td>\n",
       "      <td>117,679</td>\n",
       "      <td>…</td>\n",
       "      <td>…</td>\n",
       "      <td>…</td>\n",
       "      <td>…</td>\n",
       "      <td>…</td>\n",
       "      <td>…</td>\n",
       "      <td>…</td>\n",
       "    </tr>\n",
       "    <tr>\n",
       "      <th>3</th>\n",
       "      <td>1991</td>\n",
       "      <td>중구</td>\n",
       "      <td>184,142</td>\n",
       "      <td>93,312</td>\n",
       "      <td>90,830</td>\n",
       "      <td>…</td>\n",
       "      <td>…</td>\n",
       "      <td>…</td>\n",
       "      <td>…</td>\n",
       "      <td>…</td>\n",
       "      <td>…</td>\n",
       "      <td>…</td>\n",
       "    </tr>\n",
       "    <tr>\n",
       "      <th>4</th>\n",
       "      <td>1991</td>\n",
       "      <td>용산구</td>\n",
       "      <td>294,341</td>\n",
       "      <td>147,914</td>\n",
       "      <td>146,427</td>\n",
       "      <td>…</td>\n",
       "      <td>…</td>\n",
       "      <td>…</td>\n",
       "      <td>…</td>\n",
       "      <td>…</td>\n",
       "      <td>…</td>\n",
       "      <td>…</td>\n",
       "    </tr>\n",
       "    <tr>\n",
       "      <th>5</th>\n",
       "      <td>1991</td>\n",
       "      <td>성동구</td>\n",
       "      <td>789,014</td>\n",
       "      <td>401,375</td>\n",
       "      <td>387,639</td>\n",
       "      <td>…</td>\n",
       "      <td>…</td>\n",
       "      <td>…</td>\n",
       "      <td>…</td>\n",
       "      <td>…</td>\n",
       "      <td>…</td>\n",
       "      <td>…</td>\n",
       "    </tr>\n",
       "  </tbody>\n",
       "</table>\n",
       "</div>"
      ],
      "text/plain": [
       "     기간  자치구          합계       합계.1       합계.2 한국인 한국인.1 한국인.2 등록외국인 등록외국인.1  \\\n",
       "1  1991   합계  10,904,527  5,485,353  5,419,174   …     …     …     …       …   \n",
       "2  1991  종로구     236,806    119,127    117,679   …     …     …     …       …   \n",
       "3  1991   중구     184,142     93,312     90,830   …     …     …     …       …   \n",
       "4  1991  용산구     294,341    147,914    146,427   …     …     …     …       …   \n",
       "5  1991  성동구     789,014    401,375    387,639   …     …     …     …       …   \n",
       "\n",
       "  등록외국인.2 65세이상고령자  \n",
       "1       …        …  \n",
       "2       …        …  \n",
       "3       …        …  \n",
       "4       …        …  \n",
       "5       …        …  "
      ]
     },
     "execution_count": 30,
     "metadata": {},
     "output_type": "execute_result"
    }
   ],
   "source": [
    "df1.head()"
   ]
  },
  {
   "cell_type": "markdown",
   "id": "be62c707",
   "metadata": {},
   "source": [
    "### 열 이름 변경\n",
    "- DataFrame.rename(columns = {'합계' : '총인구'}, '합계.1':'총인구(남), ...'}) # 열이름 한두개 바꾸기\n",
    "- DataFrame.rename(columns = {DataFrame.columns(2) : '총인구', DataFrame.columns(3)':'총인구(남), ...'}) #열 이름 다수 변경\n"
   ]
  },
  {
   "cell_type": "code",
   "execution_count": 50,
   "id": "05caf9b0",
   "metadata": {},
   "outputs": [
    {
     "data": {
      "text/html": [
       "<div>\n",
       "<style scoped>\n",
       "    .dataframe tbody tr th:only-of-type {\n",
       "        vertical-align: middle;\n",
       "    }\n",
       "\n",
       "    .dataframe tbody tr th {\n",
       "        vertical-align: top;\n",
       "    }\n",
       "\n",
       "    .dataframe thead th {\n",
       "        text-align: right;\n",
       "    }\n",
       "</style>\n",
       "<table border=\"1\" class=\"dataframe\">\n",
       "  <thead>\n",
       "    <tr style=\"text-align: right;\">\n",
       "      <th></th>\n",
       "      <th>기간</th>\n",
       "      <th>자치구</th>\n",
       "      <th>총인구</th>\n",
       "      <th>합계.1</th>\n",
       "      <th>합계.2</th>\n",
       "      <th>내국인</th>\n",
       "      <th>한국인.1</th>\n",
       "      <th>한국인.2</th>\n",
       "      <th>외국인</th>\n",
       "      <th>등록외국인.1</th>\n",
       "      <th>등록외국인.2</th>\n",
       "      <th>65세이상고령자</th>\n",
       "    </tr>\n",
       "  </thead>\n",
       "  <tbody>\n",
       "    <tr>\n",
       "      <th>1</th>\n",
       "      <td>1991</td>\n",
       "      <td>합계</td>\n",
       "      <td>10,904,527</td>\n",
       "      <td>5,485,353</td>\n",
       "      <td>5,419,174</td>\n",
       "      <td>…</td>\n",
       "      <td>…</td>\n",
       "      <td>…</td>\n",
       "      <td>…</td>\n",
       "      <td>…</td>\n",
       "      <td>…</td>\n",
       "      <td>…</td>\n",
       "    </tr>\n",
       "    <tr>\n",
       "      <th>2</th>\n",
       "      <td>1991</td>\n",
       "      <td>종로구</td>\n",
       "      <td>236,806</td>\n",
       "      <td>119,127</td>\n",
       "      <td>117,679</td>\n",
       "      <td>…</td>\n",
       "      <td>…</td>\n",
       "      <td>…</td>\n",
       "      <td>…</td>\n",
       "      <td>…</td>\n",
       "      <td>…</td>\n",
       "      <td>…</td>\n",
       "    </tr>\n",
       "    <tr>\n",
       "      <th>3</th>\n",
       "      <td>1991</td>\n",
       "      <td>중구</td>\n",
       "      <td>184,142</td>\n",
       "      <td>93,312</td>\n",
       "      <td>90,830</td>\n",
       "      <td>…</td>\n",
       "      <td>…</td>\n",
       "      <td>…</td>\n",
       "      <td>…</td>\n",
       "      <td>…</td>\n",
       "      <td>…</td>\n",
       "      <td>…</td>\n",
       "    </tr>\n",
       "  </tbody>\n",
       "</table>\n",
       "</div>"
      ],
      "text/plain": [
       "     기간  자치구         총인구       합계.1       합계.2 내국인 한국인.1 한국인.2 외국인 등록외국인.1  \\\n",
       "1  1991   합계  10,904,527  5,485,353  5,419,174   …     …     …   …       …   \n",
       "2  1991  종로구     236,806    119,127    117,679   …     …     …   …       …   \n",
       "3  1991   중구     184,142     93,312     90,830   …     …     …   …       …   \n",
       "\n",
       "  등록외국인.2 65세이상고령자  \n",
       "1       …        …  \n",
       "2       …        …  \n",
       "3       …        …  "
      ]
     },
     "execution_count": 50,
     "metadata": {},
     "output_type": "execute_result"
    }
   ],
   "source": [
    "df1 = df1.rename(columns = {'합계' : '총인구', '한국인' : '내국인', '등록외국인' : '외국인'})\n",
    "df1.head(3)"
   ]
  },
  {
   "cell_type": "code",
   "execution_count": 54,
   "id": "289b4000",
   "metadata": {},
   "outputs": [
    {
     "data": {
      "text/html": [
       "<div>\n",
       "<style scoped>\n",
       "    .dataframe tbody tr th:only-of-type {\n",
       "        vertical-align: middle;\n",
       "    }\n",
       "\n",
       "    .dataframe tbody tr th {\n",
       "        vertical-align: top;\n",
       "    }\n",
       "\n",
       "    .dataframe thead th {\n",
       "        text-align: right;\n",
       "    }\n",
       "</style>\n",
       "<table border=\"1\" class=\"dataframe\">\n",
       "  <thead>\n",
       "    <tr style=\"text-align: right;\">\n",
       "      <th></th>\n",
       "      <th>년도</th>\n",
       "      <th>자치구</th>\n",
       "      <th>총인구</th>\n",
       "      <th>총인구(남)</th>\n",
       "      <th>총인구(여)</th>\n",
       "      <th>내국인</th>\n",
       "      <th>내국인(남)</th>\n",
       "      <th>내국인(여)</th>\n",
       "      <th>외국인</th>\n",
       "      <th>외국인(남)</th>\n",
       "      <th>외국인(여)</th>\n",
       "      <th>65세이상</th>\n",
       "    </tr>\n",
       "  </thead>\n",
       "  <tbody>\n",
       "    <tr>\n",
       "      <th>1</th>\n",
       "      <td>1991</td>\n",
       "      <td>합계</td>\n",
       "      <td>10,904,527</td>\n",
       "      <td>5,485,353</td>\n",
       "      <td>5,419,174</td>\n",
       "      <td>…</td>\n",
       "      <td>…</td>\n",
       "      <td>…</td>\n",
       "      <td>…</td>\n",
       "      <td>…</td>\n",
       "      <td>…</td>\n",
       "      <td>…</td>\n",
       "    </tr>\n",
       "    <tr>\n",
       "      <th>2</th>\n",
       "      <td>1991</td>\n",
       "      <td>종로구</td>\n",
       "      <td>236,806</td>\n",
       "      <td>119,127</td>\n",
       "      <td>117,679</td>\n",
       "      <td>…</td>\n",
       "      <td>…</td>\n",
       "      <td>…</td>\n",
       "      <td>…</td>\n",
       "      <td>…</td>\n",
       "      <td>…</td>\n",
       "      <td>…</td>\n",
       "    </tr>\n",
       "    <tr>\n",
       "      <th>3</th>\n",
       "      <td>1991</td>\n",
       "      <td>중구</td>\n",
       "      <td>184,142</td>\n",
       "      <td>93,312</td>\n",
       "      <td>90,830</td>\n",
       "      <td>…</td>\n",
       "      <td>…</td>\n",
       "      <td>…</td>\n",
       "      <td>…</td>\n",
       "      <td>…</td>\n",
       "      <td>…</td>\n",
       "      <td>…</td>\n",
       "    </tr>\n",
       "  </tbody>\n",
       "</table>\n",
       "</div>"
      ],
      "text/plain": [
       "     년도  자치구         총인구     총인구(남)     총인구(여) 내국인 내국인(남) 내국인(여) 외국인 외국인(남)  \\\n",
       "1  1991   합계  10,904,527  5,485,353  5,419,174   …      …      …   …      …   \n",
       "2  1991  종로구     236,806    119,127    117,679   …      …      …   …      …   \n",
       "3  1991   중구     184,142     93,312     90,830   …      …      …   …      …   \n",
       "\n",
       "  외국인(여) 65세이상  \n",
       "1      …     …  \n",
       "2      …     …  \n",
       "3      …     …  "
      ]
     },
     "execution_count": 54,
     "metadata": {},
     "output_type": "execute_result"
    }
   ],
   "source": [
    "ccol_name=['년도', '자치구', '총인구', '총인구(남)', '총인구(여)', '내국인', '내국인(남)', '내국인(여)',\n",
    "          '외국인', '외국인(남)','외국인(여)', '65세이상']\n",
    "\n",
    "for i in range(len(col_name)):\n",
    "    df1.rename(columns={df1.columns[i]:col_name[i]}, inplace=True)\n",
    "\n",
    "df1.head(3)\n"
   ]
  },
  {
   "cell_type": "markdown",
   "id": "c3f0288f",
   "metadata": {},
   "source": [
    "### 년도별 총인구(남)/총인구(여) 값을 나타내는 그래프 작성"
   ]
  },
  {
   "cell_type": "code",
   "execution_count": 55,
   "id": "5fdfb5b3",
   "metadata": {},
   "outputs": [
    {
     "name": "stdout",
     "output_type": "stream",
     "text": [
      "<class 'pandas.core.frame.DataFrame'>\n",
      "Int64Index: 768 entries, 1 to 768\n",
      "Data columns (total 12 columns):\n",
      " #   Column  Non-Null Count  Dtype \n",
      "---  ------  --------------  ----- \n",
      " 0   년도      768 non-null    object\n",
      " 1   자치구     768 non-null    object\n",
      " 2   총인구     768 non-null    object\n",
      " 3   총인구(남)  768 non-null    object\n",
      " 4   총인구(여)  768 non-null    object\n",
      " 5   내국인     768 non-null    object\n",
      " 6   내국인(남)  768 non-null    object\n",
      " 7   내국인(여)  768 non-null    object\n",
      " 8   외국인     768 non-null    object\n",
      " 9   외국인(남)  768 non-null    object\n",
      " 10  외국인(여)  768 non-null    object\n",
      " 11  65세이상   768 non-null    object\n",
      "dtypes: object(12)\n",
      "memory usage: 78.0+ KB\n"
     ]
    }
   ],
   "source": [
    "df1.info()"
   ]
  },
  {
   "cell_type": "code",
   "execution_count": 69,
   "id": "d806578d",
   "metadata": {},
   "outputs": [
    {
     "data": {
      "text/html": [
       "<div>\n",
       "<style scoped>\n",
       "    .dataframe tbody tr th:only-of-type {\n",
       "        vertical-align: middle;\n",
       "    }\n",
       "\n",
       "    .dataframe tbody tr th {\n",
       "        vertical-align: top;\n",
       "    }\n",
       "\n",
       "    .dataframe thead th {\n",
       "        text-align: right;\n",
       "    }\n",
       "</style>\n",
       "<table border=\"1\" class=\"dataframe\">\n",
       "  <thead>\n",
       "    <tr style=\"text-align: right;\">\n",
       "      <th></th>\n",
       "      <th>년도</th>\n",
       "      <th>자치구</th>\n",
       "      <th>총인구</th>\n",
       "      <th>총인구(남)</th>\n",
       "      <th>총인구(여)</th>\n",
       "    </tr>\n",
       "  </thead>\n",
       "  <tbody>\n",
       "    <tr>\n",
       "      <th>1</th>\n",
       "      <td>1991</td>\n",
       "      <td>합계</td>\n",
       "      <td>10904527</td>\n",
       "      <td>5,485,353</td>\n",
       "      <td>5,419,174</td>\n",
       "    </tr>\n",
       "    <tr>\n",
       "      <th>2</th>\n",
       "      <td>1991</td>\n",
       "      <td>종로구</td>\n",
       "      <td>236806</td>\n",
       "      <td>119,127</td>\n",
       "      <td>117,679</td>\n",
       "    </tr>\n",
       "    <tr>\n",
       "      <th>3</th>\n",
       "      <td>1991</td>\n",
       "      <td>중구</td>\n",
       "      <td>184142</td>\n",
       "      <td>93,312</td>\n",
       "      <td>90,830</td>\n",
       "    </tr>\n",
       "    <tr>\n",
       "      <th>4</th>\n",
       "      <td>1991</td>\n",
       "      <td>용산구</td>\n",
       "      <td>294341</td>\n",
       "      <td>147,914</td>\n",
       "      <td>146,427</td>\n",
       "    </tr>\n",
       "    <tr>\n",
       "      <th>5</th>\n",
       "      <td>1991</td>\n",
       "      <td>성동구</td>\n",
       "      <td>789014</td>\n",
       "      <td>401,375</td>\n",
       "      <td>387,639</td>\n",
       "    </tr>\n",
       "  </tbody>\n",
       "</table>\n",
       "</div>"
      ],
      "text/plain": [
       "     년도  자치구       총인구     총인구(남)     총인구(여)\n",
       "1  1991   합계  10904527  5,485,353  5,419,174\n",
       "2  1991  종로구    236806    119,127    117,679\n",
       "3  1991   중구    184142     93,312     90,830\n",
       "4  1991  용산구    294341    147,914    146,427\n",
       "5  1991  성동구    789014    401,375    387,639"
      ]
     },
     "execution_count": 69,
     "metadata": {},
     "output_type": "execute_result"
    }
   ],
   "source": [
    "df2 = df1.iloc[:, 0:5]\n",
    "df2.head()"
   ]
  },
  {
   "cell_type": "markdown",
   "id": "2ac4f449",
   "metadata": {},
   "source": [
    "### DataFrame 데이터 타입 변경하는 방법\n",
    "- pd.astype(dtype) # 모든 열의 데이터 타입 변경\n",
    "- pd.astype({'컬럼명' : dtype}) # 특정 열의 데이터 타입 변경"
   ]
  },
  {
   "cell_type": "code",
   "execution_count": 73,
   "id": "278378f6",
   "metadata": {
    "lines_to_next_cell": 2
   },
   "outputs": [
    {
     "name": "stderr",
     "output_type": "stream",
     "text": [
      "<ipython-input-73-c3e3327191a8>:2: SettingWithCopyWarning: \n",
      "A value is trying to be set on a copy of a slice from a DataFrame.\n",
      "Try using .loc[row_indexer,col_indexer] = value instead\n",
      "\n",
      "See the caveats in the documentation: https://pandas.pydata.org/pandas-docs/stable/user_guide/indexing.html#returning-a-view-versus-a-copy\n",
      "  df2['총인구'] = df2['총인구'].str.replace(',','')\n",
      "<ipython-input-73-c3e3327191a8>:3: SettingWithCopyWarning: \n",
      "A value is trying to be set on a copy of a slice from a DataFrame.\n",
      "Try using .loc[row_indexer,col_indexer] = value instead\n",
      "\n",
      "See the caveats in the documentation: https://pandas.pydata.org/pandas-docs/stable/user_guide/indexing.html#returning-a-view-versus-a-copy\n",
      "  df2['총인구(남)'] = df2['총인구(남)'].str.replace(',','')\n",
      "<ipython-input-73-c3e3327191a8>:4: SettingWithCopyWarning: \n",
      "A value is trying to be set on a copy of a slice from a DataFrame.\n",
      "Try using .loc[row_indexer,col_indexer] = value instead\n",
      "\n",
      "See the caveats in the documentation: https://pandas.pydata.org/pandas-docs/stable/user_guide/indexing.html#returning-a-view-versus-a-copy\n",
      "  df2['총인구(여)'] = df2['총인구(여)'].str.replace(',','')\n"
     ]
    },
    {
     "data": {
      "text/plain": [
       "년도        object\n",
       "자치구       object\n",
       "총인구       object\n",
       "총인구(남)    object\n",
       "총인구(여)    object\n",
       "dtype: object"
      ]
     },
     "execution_count": 73,
     "metadata": {},
     "output_type": "execute_result"
    }
   ],
   "source": [
    "# pandas에서 데이터 타입 변경\n",
    "df2['총인구'] = df2['총인구'].str.replace(',','')\n",
    "df2['총인구(남)'] = df2['총인구(남)'].str.replace(',','')\n",
    "df2['총인구(여)'] = df2['총인구(여)'].str.replace(',','')\n",
    "df2.dtypes"
   ]
  },
  {
   "cell_type": "code",
   "execution_count": 77,
   "id": "f32f6324",
   "metadata": {},
   "outputs": [
    {
     "data": {
      "text/plain": [
       "년도         int32\n",
       "자치구       object\n",
       "총인구        int32\n",
       "총인구(남)     int32\n",
       "총인구(여)     int32\n",
       "dtype: object"
      ]
     },
     "execution_count": 77,
     "metadata": {},
     "output_type": "execute_result"
    }
   ],
   "source": [
    "df2 = df2.astype({'년도': int, '총인구' : int,'총인구(남)' : int,'총인구(여)' : int})\n",
    "df2.dtypes"
   ]
  },
  {
   "cell_type": "code",
   "execution_count": 78,
   "id": "7c7d36f5",
   "metadata": {},
   "outputs": [
    {
     "data": {
      "text/html": [
       "<div>\n",
       "<style scoped>\n",
       "    .dataframe tbody tr th:only-of-type {\n",
       "        vertical-align: middle;\n",
       "    }\n",
       "\n",
       "    .dataframe tbody tr th {\n",
       "        vertical-align: top;\n",
       "    }\n",
       "\n",
       "    .dataframe thead th {\n",
       "        text-align: right;\n",
       "    }\n",
       "</style>\n",
       "<table border=\"1\" class=\"dataframe\">\n",
       "  <thead>\n",
       "    <tr style=\"text-align: right;\">\n",
       "      <th></th>\n",
       "      <th>년도</th>\n",
       "      <th>자치구</th>\n",
       "      <th>총인구</th>\n",
       "      <th>총인구(남)</th>\n",
       "      <th>총인구(여)</th>\n",
       "    </tr>\n",
       "  </thead>\n",
       "  <tbody>\n",
       "    <tr>\n",
       "      <th>1</th>\n",
       "      <td>1991</td>\n",
       "      <td>합계</td>\n",
       "      <td>10904527</td>\n",
       "      <td>5485353</td>\n",
       "      <td>5419174</td>\n",
       "    </tr>\n",
       "    <tr>\n",
       "      <th>2</th>\n",
       "      <td>1991</td>\n",
       "      <td>종로구</td>\n",
       "      <td>236806</td>\n",
       "      <td>119127</td>\n",
       "      <td>117679</td>\n",
       "    </tr>\n",
       "    <tr>\n",
       "      <th>3</th>\n",
       "      <td>1991</td>\n",
       "      <td>중구</td>\n",
       "      <td>184142</td>\n",
       "      <td>93312</td>\n",
       "      <td>90830</td>\n",
       "    </tr>\n",
       "    <tr>\n",
       "      <th>4</th>\n",
       "      <td>1991</td>\n",
       "      <td>용산구</td>\n",
       "      <td>294341</td>\n",
       "      <td>147914</td>\n",
       "      <td>146427</td>\n",
       "    </tr>\n",
       "    <tr>\n",
       "      <th>5</th>\n",
       "      <td>1991</td>\n",
       "      <td>성동구</td>\n",
       "      <td>789014</td>\n",
       "      <td>401375</td>\n",
       "      <td>387639</td>\n",
       "    </tr>\n",
       "  </tbody>\n",
       "</table>\n",
       "</div>"
      ],
      "text/plain": [
       "     년도  자치구       총인구   총인구(남)   총인구(여)\n",
       "1  1991   합계  10904527  5485353  5419174\n",
       "2  1991  종로구    236806   119127   117679\n",
       "3  1991   중구    184142    93312    90830\n",
       "4  1991  용산구    294341   147914   146427\n",
       "5  1991  성동구    789014   401375   387639"
      ]
     },
     "execution_count": 78,
     "metadata": {},
     "output_type": "execute_result"
    }
   ],
   "source": [
    "df2.head()"
   ]
  },
  {
   "cell_type": "code",
   "execution_count": 84,
   "id": "376fcf57",
   "metadata": {
    "lines_to_next_cell": 2
   },
   "outputs": [
    {
     "name": "stdout",
     "output_type": "stream",
     "text": [
      "조회할 구 이름을 입력하세요합계\n"
     ]
    },
    {
     "data": {
      "image/png": "[encoded data removed]",
      "text/plain": [
       "<Figure size 432x288 with 1 Axes>"
      ]
     },
     "metadata": {
      "needs_background": "light"
     },
     "output_type": "display_data"
    }
   ],
   "source": [
    "# 그래프 한번에 보기\n",
    "import matplotlib.pyplot as plt\n",
    "\n",
    "gu = input('조회할 구 이름을 입력하세요')\n",
    "\n",
    "df3 = df2[df2['자치구'] == gu]\n",
    "plt.plot(df3['년도'],df3['총인구'])\n",
    "\n",
    "plt.plot(df3['년도'],df3['총인구(남)'])\n",
    "plt.plot(df3['년도'],df3['총인구(여)'])# plt.plot(x축, y축)\n",
    "plt.show"
   ]
  },
  {
   "cell_type": "code",
   "execution_count": 86,
   "id": "f1a46f41",
   "metadata": {},
   "outputs": [
    {
     "name": "stdout",
     "output_type": "stream",
     "text": [
      "조회할 구 이름을 입력하세요합계\n"
     ]
    },
    {
     "data": {
      "image/png": "[encoded data removed]",
      "text/plain": [
       "<Figure size 432x288 with 1 Axes>"
      ]
     },
     "metadata": {
      "needs_background": "light"
     },
     "output_type": "display_data"
    },
    {
     "data": {
      "text/plain": [
       "<function matplotlib.pyplot.show(close=None, block=None)>"
      ]
     },
     "execution_count": 86,
     "metadata": {},
     "output_type": "execute_result"
    },
    {
     "data": {
      "image/png": "[encoded data removed]",
      "text/plain": [
       "<Figure size 432x288 with 1 Axes>"
      ]
     },
     "metadata": {
      "needs_background": "light"
     },
     "output_type": "display_data"
    }
   ],
   "source": [
    "#그래프 따로보기\n",
    "import matplotlib.pyplot as plt\n",
    "\n",
    "gu = input('조회할 구 이름을 입력하세요')\n",
    "\n",
    "df3 = df2[df2['자치구'] == gu]\n",
    "plt.plot(df3['년도'],df3['총인구'])\n",
    "plt.show()\n",
    "\n",
    "plt.plot(df3['년도'],df3['총인구(남)'], label = 'man')\n",
    "plt.plot(df3['년도'],df3['총인구(여)'], label ='woman')# plt.plot(x축, y축)\n",
    "plt.legend()\n",
    "plt.show"
   ]
  },
  {
   "cell_type": "code",
   "execution_count": 97,
   "id": "de026ae6",
   "metadata": {},
   "outputs": [
    {
     "name": "stderr",
     "output_type": "stream",
     "text": [
      "No handles with labels found to put in legend.\n"
     ]
    },
    {
     "data": {
      "image/png": "[encoded data removed]",
      "text/plain": [
       "<Figure size 432x288 with 2 Axes>"
      ]
     },
     "metadata": {
      "needs_background": "light"
     },
     "output_type": "display_data"
    }
   ],
   "source": [
    "#산점도 그래프 그리기\n",
    "import matplotlib.font_manager as fm\n",
    "\n",
    "font_path = \"C:/Windows/Fonts/malgun.ttf\" \n",
    "font_name = fm.FontProperties(fname=font_path).get_name()\n",
    "plt.rc('font', family=font_name)\n",
    "\n",
    "\n",
    "\n",
    "df3.plot(kind ='hexbin', x = '총인구', y = '년도', label = 'total_population'\n",
    "        , gridsize = 20)\n",
    "plt.legend()\n",
    "plt.show()\n",
    "# hexbin 산점도 그래프"
   ]
  },
  {
   "cell_type": "code",
   "execution_count": 96,
   "id": "eef156cb",
   "metadata": {},
   "outputs": [
    {
     "data": {
      "image/png": "[encoded data removed]",
      "text/plain": [
       "<Figure size 432x288 with 1 Axes>"
      ]
     },
     "metadata": {
      "needs_background": "light"
     },
     "output_type": "display_data"
    }
   ],
   "source": [
    "#bar그래프 그리기\n",
    "df3.plot(kind ='bar', x = '년도', y = ['총인구(남)','총인구(여)'])\n",
    "plt.legend()\n",
    "plt.show()"
   ]
  },
  {
   "cell_type": "code",
   "execution_count": null,
   "id": "2eb1cba0",
   "metadata": {},
   "outputs": [],
   "source": []
  }
 ],
 "metadata": {
  "jupytext": {
   "encoding": "# -*- coding: utf-8 -*-",
   "formats": "ipynb,py:light"
  },
  "kernelspec": {
   "display_name": "Python 3",
   "language": "python",
   "name": "python3"
  },
  "language_info": {
   "codemirror_mode": {
    "name": "ipython",
    "version": 3
   },
   "file_extension": ".py",
   "mimetype": "text/x-python",
   "name": "python",
   "nbconvert_exporter": "python",
   "pygments_lexer": "ipython3",
   "version": "3.9.4"
  }
 },
 "nbformat": 4,
 "nbformat_minor": 5
}
