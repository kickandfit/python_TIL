{
 "cells": [
  {
   "cell_type": "markdown",
   "id": "b12dbe5a",
   "metadata": {},
   "source": [
    "### 그리디"
   ]
  },
  {
   "cell_type": "code",
   "execution_count": 22,
   "id": "59749ecc",
   "metadata": {},
   "outputs": [
    {
     "name": "stdout",
     "output_type": "stream",
     "text": [
      "[6, 6, 6, 5, 5, 5, 4, 4]\n",
      "41\n"
     ]
    }
   ],
   "source": [
    "#문제 1 큰수의 법칙 (my solution)\n",
    "\n",
    "# N , M, K = map(int,input().split())\n",
    "# data = list(map(int, input().split()))\n",
    "\n",
    "N, M, K = 5, 8, 3\n",
    "data = [2, 4, 5, 4, 6]\n",
    "result = []\n",
    "index = 0\n",
    "data.sort(reverse = True)\n",
    "while True:\n",
    "    for _ in range(K):\n",
    "        if len(result) <= M-1:\n",
    "            result.append(data[index])\n",
    "        else:\n",
    "            break\n",
    "    index += 1\n",
    "    if len(result) >= M:\n",
    "        break\n",
    "print(result)      \n",
    "sum = 0\n",
    "for i in result:\n",
    "    sum += i\n",
    "print(sum)"
   ]
  },
  {
   "cell_type": "code",
   "execution_count": 29,
   "id": "83fbb054",
   "metadata": {},
   "outputs": [
    {
     "name": "stdout",
     "output_type": "stream",
     "text": [
      "2 4\n",
      "7 3 1 8\n",
      "3 3 3 4\n",
      "3\n"
     ]
    }
   ],
   "source": [
    "# 숫자 카드게임\n",
    "\n",
    "n , m = map(int, input().split())\n",
    "data = []\n",
    "for _ in range(n):\n",
    "    data.append(list(map(int, input().split())))\n",
    "index = []\n",
    "for i in range(n):\n",
    "    index.append(min(data[i]))\n",
    "\n",
    "print(max(index))\n",
    "    "
   ]
  },
  {
   "cell_type": "code",
   "execution_count": 32,
   "id": "3c494fc2",
   "metadata": {},
   "outputs": [
    {
     "name": "stdout",
     "output_type": "stream",
     "text": [
      "17 4\n",
      "3\n"
     ]
    }
   ],
   "source": [
    "# 1이 될때까지\n",
    "\n",
    "n , k = map(int, input().split())\n",
    "cnt = 0\n",
    "while True:\n",
    "    if n == 1:\n",
    "        break\n",
    "    if n % k == 0:\n",
    "        n = int(n/k)\n",
    "        cnt += 1\n",
    "    else:\n",
    "        n = n-1\n",
    "        cnt += 1\n",
    "print(cnt)"
   ]
  },
  {
   "cell_type": "markdown",
   "id": "125a52e1",
   "metadata": {},
   "source": [
    "### 구현"
   ]
  },
  {
   "cell_type": "code",
   "execution_count": 35,
   "id": "00f4b2b3",
   "metadata": {},
   "outputs": [
    {
     "name": "stdout",
     "output_type": "stream",
     "text": [
      "5\n",
      "R R R U D D\n",
      "3 4\n"
     ]
    }
   ],
   "source": [
    "# 문제 1 상하좌우\n",
    "# I think it is really important code\n",
    "\n",
    "n = int(input())\n",
    "data = list(map(str, input().split()))\n",
    "\n",
    "x, y = 1, 1\n",
    "dx = [1,-1,0,0]\n",
    "dy = [0,0,-1,1]\n",
    "move = ['D','U','L','R']\n",
    "\n",
    "for st in data:\n",
    "    for i in range(4):\n",
    "        if st == move[i]:\n",
    "            nx = x + dx[i]\n",
    "            ny = y + dy[i]\n",
    "    if nx < 1 or ny<1 or nx > n or ny > m:\n",
    "        continue\n",
    "    x, y = nx, ny\n",
    "print(x, y)    "
   ]
  },
  {
   "cell_type": "code",
   "execution_count": 37,
   "id": "cfca3e79",
   "metadata": {},
   "outputs": [
    {
     "name": "stdout",
     "output_type": "stream",
     "text": [
      "11475\n"
     ]
    }
   ],
   "source": [
    "# 문제 2 3이 포함된 시간 찾기 문제\n",
    "h = 5\n",
    "count = 0\n",
    "for i in range(h+1):\n",
    "    for j in range(60):\n",
    "        for k in range(60):\n",
    "            if '3' in str(i) + str(j) + str(k):\n",
    "                count += 1\n",
    "print( count)"
   ]
  },
  {
   "cell_type": "code",
   "execution_count": 55,
   "id": "09690ce2",
   "metadata": {},
   "outputs": [
    {
     "name": "stdout",
     "output_type": "stream",
     "text": [
      "d3\n",
      "6\n"
     ]
    }
   ],
   "source": [
    "# 문제 3 왕실나이트\n",
    "axis = [ 'a', 'b','c','d','e','f','g','h']\n",
    "columns = [1, 2, 3, 4, 5, 6, 7, 8]\n",
    "txt = input()\n",
    "board = [['']*8 for _ in range(8)]\n",
    "for i in range(8):\n",
    "    for j in range(8):\n",
    "        board[i][j]= axis[j]+str(columns[i])\n",
    "dx = [2, 2, -2, -2,-1, -1, 1,1]\n",
    "dy = [1, -1, 1, -1, 2, -2, 2, -2]\n",
    "\n",
    "x, y = 0, 0\n",
    "\n",
    "for i in range(8):\n",
    "    for j in range(8):\n",
    "        if txt == board[i][j]:\n",
    "            x, y = i, j\n",
    "cnt = 0\n",
    "for i in range(8):\n",
    "    nx = x + dx[i]\n",
    "    ny = y + dy[i]\n",
    "    \n",
    "    if nx<8 and ny<8 and nx>0 and ny>0:\n",
    "        cnt += 1\n",
    "print(cnt)\n",
    "            "
   ]
  },
  {
   "cell_type": "code",
   "execution_count": 51,
   "id": "a9087e47",
   "metadata": {},
   "outputs": [
    {
     "data": {
      "text/plain": [
       "'a1'"
      ]
     },
     "execution_count": 51,
     "metadata": {},
     "output_type": "execute_result"
    }
   ],
   "source": [
    "board[0][0][0]"
   ]
  },
  {
   "cell_type": "code",
   "execution_count": null,
   "id": "47ba9378",
   "metadata": {},
   "outputs": [],
   "source": []
  }
 ],
 "metadata": {
  "kernelspec": {
   "display_name": "Python 3",
   "language": "python",
   "name": "python3"
  },
  "language_info": {
   "codemirror_mode": {
    "name": "ipython",
    "version": 3
   },
   "file_extension": ".py",
   "mimetype": "text/x-python",
   "name": "python",
   "nbconvert_exporter": "python",
   "pygments_lexer": "ipython3",
   "version": "3.8.10"
  }
 },
 "nbformat": 4,
 "nbformat_minor": 5
}
