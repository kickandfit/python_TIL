{
 "cells": [
  {
   "cell_type": "markdown",
   "id": "dbad31b4",
   "metadata": {},
   "source": [
    "# 카카오\n",
    "\n",
    "\n",
    "- 20년 카카오\n",
    "    - 구현, 브루트 포스, 투 포인터, BFS\n",
    "- 19년 카카오 \n",
    "    - 구현, 다이나믹 프로그래밍, 자료구조\n",
    "- 18년 카카오\n",
    "    - 그리디, 구현\n",
    "- 17년 카카오\n",
    "    - 그리디, 구현"
   ]
  },
  {
   "cell_type": "markdown",
   "id": "7b13264a",
   "metadata": {},
   "source": [
    "# 라인\n",
    "- 20년\n",
    "    - 완전 탐색, 문자열, 자료구조\n",
    "- 19년 하반기\n",
    "    - 자료구조, 완전 탐색, 구현\n",
    "- 19년 상반기\n",
    "    - 탐색, 구현\n",
    "- 18년 하반기\n",
    "    - 탐색, 그리디, 다이나믹 프로그래밍, \n",
    "- 18년 상반기\n",
    "    - 탐색, 그리디, 다이나믹 프로그래밍"
   ]
  },
  {
   "cell_type": "markdown",
   "id": "d55417ee",
   "metadata": {},
   "source": [
    "# 1주차\n",
    "- 탐색 5문항 (브루드 포스 부분 위에서 5문항)\n"
   ]
  },
  {
   "cell_type": "markdown",
   "id": "d405e429",
   "metadata": {},
   "source": [
    "####  한수"
   ]
  },
  {
   "cell_type": "code",
   "execution_count": null,
   "id": "4bbf0762",
   "metadata": {},
   "outputs": [],
   "source": [
    "N = int(input())\n",
    "result = 0\n",
    "\n",
    "for i in range(1,N+1):\n",
    "    if i <= 99 :\n",
    "        result += 1\n",
    "    else:\n",
    "        N = str(i)\n",
    "        if int(N[0])-int(N[1]) == int(N[1])-int(N[2]):\n",
    "            result += 1\n",
    "print(result)"
   ]
  },
  {
   "cell_type": "markdown",
   "id": "21a305e3",
   "metadata": {},
   "source": [
    "#### 블랙잭"
   ]
  },
  {
   "cell_type": "code",
   "execution_count": null,
   "id": "59eaa738",
   "metadata": {},
   "outputs": [],
   "source": [
    "# 이건 왜 틀린걸까 도대체가... ㅎㅎㅎ\n",
    "from itertools import combinations\n",
    "\n",
    "# n, m = map(int, input().split())\n",
    "n, m = 5, 21\n",
    "# N = list(sys.stdin.readline())\n",
    "# N = [93, 181, 245, 214, 315, 36, 185, 138, 216, 295]\n",
    "N = [5, 6, 7, 8, 9]\n",
    "M = combinations(N, 3)\n",
    "sum = 0\n",
    "min = 10000\n",
    "for a, b, c in M:\n",
    "    sum = a+ b+ c\n",
    "   \n",
    "    if sum <= m and (m-sum)<min:\n",
    "        min = m - sum\n",
    "        result = sum\n",
    "        \n",
    "print (result)\n",
    "\n"
   ]
  },
  {
   "cell_type": "code",
   "execution_count": null,
   "id": "7f75b9a3",
   "metadata": {},
   "outputs": [],
   "source": [
    "from itertools import combinations\n",
    "\n",
    "n, m = map(int, input().split())\n",
    "\n",
    "N = map(int, input().split())\n",
    "\n",
    "sum = 0\n",
    "result = 0\n",
    "for a, b, c in combinations(N, 3):\n",
    "    sum = a+ b+ c\n",
    "    if result < sum <=m:\n",
    "        result = sum \n",
    "    sum = 0\n",
    "    \n",
    "print (result)\n"
   ]
  },
  {
   "cell_type": "code",
   "execution_count": null,
   "id": "863035ae",
   "metadata": {},
   "outputs": [],
   "source": []
  }
 ],
 "metadata": {
  "jupytext": {
   "formats": "ipynb,auto:light"
  },
  "kernelspec": {
   "display_name": "Python 3",
   "language": "python",
   "name": "python3"
  },
  "language_info": {
   "codemirror_mode": {
    "name": "ipython",
    "version": 3
   },
   "file_extension": ".py",
   "mimetype": "text/x-python",
   "name": "python",
   "nbconvert_exporter": "python",
   "pygments_lexer": "ipython3",
   "version": "3.8.10"
  }
 },
 "nbformat": 4,
 "nbformat_minor": 5
}
