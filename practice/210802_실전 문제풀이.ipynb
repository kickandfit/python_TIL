{
 "cells": [
  {
   "cell_type": "code",
   "execution_count": null,
   "id": "475286c3",
   "metadata": {},
   "outputs": [],
   "source": [
    "# 문자 재정렬\n",
    "a = list( 'a1bds42d')\n",
    "a.sort()\n",
    "b = []\n",
    "c = []\n",
    "for i in a:\n",
    "    try:\n",
    "        b.append(int(i))\n",
    "    except:\n",
    "        c.append(i)\n",
    "d= \"\"\n",
    "tot = 0\n",
    "for i in c:\n",
    "    d += i\n",
    "for i in b:\n",
    "    tot +=i\n",
    "print(d+str(tot))"
   ]
  },
  {
   "cell_type": "code",
   "execution_count": null,
   "id": "d0b02605",
   "metadata": {},
   "outputs": [],
   "source": [
    "# 모범답안\n",
    "data = input()\n",
    "result = []\n",
    "value = 0\n",
    "\n",
    "for x in data:\n",
    "    if x.isalpha():\n",
    "        result.append(x)\n",
    "    else:\n",
    "        value += int(x)\n",
    "result.sort()\n",
    "if value != 0:\n",
    "    result.append(str(value))\n",
    "print(''.join(result))\n",
    "    "
   ]
  },
  {
   "cell_type": "code",
   "execution_count": null,
   "id": "2fd0b55d",
   "metadata": {},
   "outputs": [],
   "source": [
    "#문자열 압축\n",
    "s= 'ababcdcdababcdcd'\n",
    "def solution(s):\n",
    "    answer = len(s)\n",
    "    for step in range(1,len(s)//2 + 1):\n",
    "        compressed=''\n",
    "        prev = s[0:step]\n",
    "        count = 1\n",
    "        for j in range(step,len(s), step):\n",
    "            if prev == s[j:j+step]:\n",
    "                count += 1\n",
    "            else:\n",
    "                compressed += str(count) + prev if count >= 2 else prev\n",
    "                prev = s[j:j + step]\n",
    "                count = 1\n",
    "        compressed += str(count) + prev if count >= 2 else prev\n",
    "        answer = min(answer, len(compressed))\n",
    "    return answer"
   ]
  },
  {
   "cell_type": "code",
   "execution_count": 30,
   "id": "913ed4b4",
   "metadata": {},
   "outputs": [
    {
     "name": "stdout",
     "output_type": "stream",
     "text": [
      "27\n"
     ]
    }
   ],
   "source": [
    "#연구소 답은 나오는데..100퍼 시간초과다 이거\n",
    "\n",
    "from itertools import combinations\n",
    "import copy\n",
    "n , m = 7 , 7\n",
    "\n",
    "\n",
    "board = [[2, 0, 0, 0, 1, 1, 0],\n",
    " [0, 0, 1, 0, 1, 2, 0],\n",
    " [0, 1, 1, 0, 1, 0, 0],\n",
    " [0, 1, 0, 0, 0, 0, 0],\n",
    " [0, 0, 0, 0, 0, 1, 1],\n",
    " [0, 1, 0, 0, 0, 0, 0],\n",
    " [0, 1, 0, 0, 0, 0, 0]]\n",
    "temp = copy.deepcopy(board)\n",
    "space = [(0, 1), (0, 2), (0, 3), (0, 6), (1, 0), (1, 1), (1, 3), (1, 6), (2, 0), (2, 3),\n",
    " (2, 5), (2, 6), (3, 0), (3, 2), (3, 3), (3, 4), (3, 5), (3, 6), (4, 0), (4, 1), (4, 2),\n",
    " (4, 3), (4, 4), (5, 0), (5, 2), (5, 3), (5, 4), (5, 5), (5, 6), (6, 0), (6, 2), (6, 3),\n",
    " (6, 4), (6, 5), (6, 6)]\n",
    "virus = [[(0, 0), (1, 5)]]\n",
    "# space = []\n",
    "# virus = []\n",
    "# for i in range(n):\n",
    "#     i = list(map(int, input().split()))\n",
    "#     board.append(i)\n",
    "    \n",
    "for i in range(n):\n",
    "    for j in range(m):\n",
    "        if board[i][j] == 2:\n",
    "            virus.append((i,j))\n",
    "        if board[i][j] == 0:\n",
    "            space.append((i,j))\n",
    "dx = [-1, 0, 1, 0]            \n",
    "dy = [0, 1, 0, -1]      \n",
    "#바이러스 퍼지기\n",
    "def dfs(x,y):\n",
    "    for i in range(4):\n",
    "        nx = x + dx[i]\n",
    "        ny = y + dy[i]\n",
    "\n",
    "        if nx>=0 and nx<n and ny>=0 and ny <m:\n",
    "\n",
    "            if board[nx][ny] == 0:\n",
    "                board[nx][ny] = 2\n",
    "                dfs(nx,ny)\n",
    "\n",
    "            \n",
    "#벽 설치하기\n",
    "cnt = 0\n",
    "result = 0\n",
    "\n",
    "for data in combinations(space, 3):\n",
    "    cnt = 0\n",
    "    for x,y in data:\n",
    "        board[x][y] = 1\n",
    "    for i in range(n):\n",
    "        for j in range(m):\n",
    "            if board[i][j]== 2:\n",
    "                dfs(i,j)\n",
    "    for i in range(n):\n",
    "        for j in range(m):\n",
    "            if board[i][j]==0:\n",
    "                cnt += 1\n",
    "    for x,y in data:\n",
    "        board[x][y] = 0           \n",
    "    \n",
    "    board = copy.deepcopy(temp)\n",
    "     \n",
    "    result = max(result ,cnt)\n",
    "    \n",
    "print(result)\n"
   ]
  },
  {
   "cell_type": "markdown",
   "id": "3a40f03e",
   "metadata": {},
   "source": [
    "#### 경쟁적 전염\n",
    "\n",
    "mysolution keyidea\n",
    "\n",
    "1. 숫자가 있다면, 숫자 없다면 0으로 board 입력\n",
    "- 방법1. 보드 탐색 ->바이러스 숫자 탐색 -> 찾았다면 상하좌우 범위내에서 한칸 전염"
   ]
  },
  {
   "cell_type": "code",
   "execution_count": 11,
   "id": "a2faaad7",
   "metadata": {},
   "outputs": [
    {
     "data": {
      "text/plain": [
       "[(1, 0, 0), (2, 0, 2), (3, 2, 0)]"
      ]
     },
     "execution_count": 11,
     "metadata": {},
     "output_type": "execute_result"
    }
   ],
   "source": [
    "#뭔가 조금씩아쉬워..\n",
    "from collections import deque\n",
    "\n",
    "n,k = map(int, input().split())\n",
    "graph = []\n",
    "data = []\n",
    "for i in ragne(n):\n",
    "    graph.append(list(map(int,input().split())))\n",
    "    \n",
    "    for j in range(n):\n",
    "        if graph[i][j] != 0:\n",
    "            data.append((graph[i][j],0,i,j))\n",
    "data.sort()\n",
    "q = deque(data)\n",
    "\n",
    "\n",
    "dx = [-1, 0, 1, 0]\n",
    "dy = [0, 1, 0, -1]\n",
    "\n",
    "target_s, target_x, target_y = map(int, intput().split())\n",
    "# 핵심코드 bfs\n",
    "while q:\n",
    "    virus, s, x, y = q.popleft()\n",
    "    \n",
    "    if s == target_s:\n",
    "        break\n",
    "        \n",
    "    for i in range(4):\n",
    "        nx = x + dx[i]\n",
    "        ny = y + dy[i]\n",
    "        \n",
    "        if 0<=nx and nx <n and 0 <= ny and ny < n:\n",
    "            \n",
    "            if graph[nx][ny] == 0:\n",
    "                graph[nx][ny] = virus\n",
    "                q.append((virus, s+1, nx, ny))"
   ]
  },
  {
   "cell_type": "code",
   "execution_count": 5,
   "id": "fce7d96b",
   "metadata": {},
   "outputs": [
    {
     "data": {
      "text/plain": [
       "[[1, 0, 2], [0, 0, 0], [3, 0, 0]]"
      ]
     },
     "execution_count": 5,
     "metadata": {},
     "output_type": "execute_result"
    }
   ],
   "source": []
  },
  {
   "cell_type": "code",
   "execution_count": null,
   "id": "ffc9312d",
   "metadata": {},
   "outputs": [],
   "source": []
  }
 ],
 "metadata": {
  "jupytext": {
   "encoding": "# -*- coding: utf-8 -*-",
   "formats": "ipynb,py:light"
  },
  "kernelspec": {
   "display_name": "Python 3",
   "language": "python",
   "name": "python3"
  },
  "language_info": {
   "codemirror_mode": {
    "name": "ipython",
    "version": 3
   },
   "file_extension": ".py",
   "mimetype": "text/x-python",
   "name": "python",
   "nbconvert_exporter": "python",
   "pygments_lexer": "ipython3",
   "version": "3.8.10"
  }
 },
 "nbformat": 4,
 "nbformat_minor": 5
}
