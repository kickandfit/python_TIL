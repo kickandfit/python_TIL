{
 "cells": [
  {
   "cell_type": "markdown",
   "id": "968a2dae",
   "metadata": {},
   "source": [
    "### CSV 형식의 파일 읽어오기\n",
    "\n",
    "- csv 모듈 이용\n",
    "- pandas 모듈 이용"
   ]
  },
  {
   "cell_type": "code",
   "execution_count": 7,
   "id": "d1b3fe01",
   "metadata": {},
   "outputs": [
    {
     "name": "stdout",
     "output_type": "stream",
     "text": [
      "<_csv.reader object at 0x0000029A4C2BCB20>\n"
     ]
    }
   ],
   "source": [
    "import pandas as pd\n",
    "import csv\n",
    "\n",
    "f=open('./Data/seoul.csv','r', encoding='cp949') \n",
    "# 엑셀을 열었는데 한글이 보이면 cp949\n",
    "data = csv.reader(f, delimiter=\",\") # 안에 있는 데이터를 , 단위로 구분해서 가져와라\n",
    "\n",
    "print(data)\n",
    "f.close()"
   ]
  },
  {
   "cell_type": "code",
   "execution_count": null,
   "id": "cc732e2d",
   "metadata": {},
   "outputs": [],
   "source": []
  }
 ],
 "metadata": {
  "jupytext": {
   "formats": "ipynb,auto:light"
  },
  "kernelspec": {
   "display_name": "Python 3",
   "language": "python",
   "name": "python3"
  },
  "language_info": {
   "codemirror_mode": {
    "name": "ipython",
    "version": 3
   },
   "file_extension": ".py",
   "mimetype": "text/x-python",
   "name": "python",
   "nbconvert_exporter": "python",
   "pygments_lexer": "ipython3",
   "version": "3.9.4"
  }
 },
 "nbformat": 4,
 "nbformat_minor": 5
}
