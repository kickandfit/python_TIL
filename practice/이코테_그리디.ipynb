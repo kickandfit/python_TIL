{
 "cells": [
  {
   "cell_type": "code",
   "execution_count": null,
   "id": "5eff1735",
   "metadata": {},
   "outputs": [],
   "source": [
    "#모험가: 애썼는데 답은 참...갈길이 멀다\n",
    "from collections import deque\n",
    "#que = deque(map(int, input().split()))\n",
    "N = 5\n",
    "fear =[2, 3, 1, 2, 2]\n",
    "\n",
    "que = deque(fear)\n",
    "cnt = 0\n",
    "travel_g, result = [], []\n",
    "\n",
    "while que != deque([]) :\n",
    "    num = que.popleft()\n",
    "    for i in range(num):\n",
    "        if i ==0:\n",
    "            travel_g.append(num)\n",
    "\n",
    "        else:\n",
    "            travel_g.append(que.popleft())\n",
    "\n",
    "    if max(travel_g)>len(travel_g):\n",
    "        for i in range((max(travel_g)-len(travel_g))):\n",
    "            travel_g.append(que.popleft())\n",
    "            \n",
    "    result.append(travel_g)\n",
    "    num = 0\n",
    "    travel_g = []\n",
    "    \n",
    "    if que != deque([]):\n",
    "        if max(que)>len(que):\n",
    "            break\n",
    "print(len(result))"
   ]
  },
  {
   "cell_type": "code",
   "execution_count": null,
   "id": "f866b4d6",
   "metadata": {},
   "outputs": [],
   "source": [
    "#답안 예시: ㅋㅋㅋㅋㅋㅋㅋㅋㅋㅋㅋㅋㅋㅋㅋㅋㅋㅋㅋㅋㅋㅋㅋ\n",
    "N = 5\n",
    "fear =[2, 3, 1, 2, 2]\n",
    "fear.sort()\n",
    "count = 0\n",
    "result = 0\n",
    "for i in fear:\n",
    "    count += 1\n",
    "    if count >= i:\n",
    "        result += 1\n",
    "        count = 0\n",
    "print(result)"
   ]
  },
  {
   "cell_type": "code",
   "execution_count": null,
   "id": "6cc68847",
   "metadata": {},
   "outputs": [],
   "source": [
    "#더하기 혹은 곱하기\n",
    "data = input()\n",
    "res = 0\n",
    "for i in range(len(data)):\n",
    "\n",
    "    if int(data[i]) == 0 or int(data[i])==1 or res == 1 or res == 0:\n",
    "        res = int(data[i])+res\n",
    "#         print(res)\n",
    "        continue\n",
    "    if int(data[i]) !=0 and res!=0 :\n",
    "        if res*int(data[i]) > 2e9:\n",
    "            res = res + int(data[i])\n",
    "        else:\n",
    "            res = res*int(data[i])\n",
    "print(res)"
   ]
  },
  {
   "cell_type": "code",
   "execution_count": null,
   "id": "fc644f34",
   "metadata": {},
   "outputs": [],
   "source": [
    "#문자 뒤집기\n",
    "\n",
    "data1 = input()\n",
    "if len(data1)<100:\n",
    "    data = data1\n",
    "\n",
    "cnt0 = 0\n",
    "cnt1 = 0\n",
    "if data[0]== '1':\n",
    "    cnt1 += 1\n",
    "else:\n",
    "    cnt0 += 1\n",
    "for i in range(1,len(data)):\n",
    "    if data[i-1] != data[i]:\n",
    "        if data[i-1] =='1':\n",
    "            cnt0 += 1\n",
    "        else:\n",
    "            cnt1 +=1\n",
    "\n",
    "\n",
    "print(min(cnt0,cnt1))"
   ]
  },
  {
   "cell_type": "code",
   "execution_count": null,
   "id": "c27a7adf",
   "metadata": {},
   "outputs": [],
   "source": [
    "S = input()\n",
    "count = 0\n",
    "for i in range(len(S)-1):\n",
    "    if S[i] != S[i+1]:\n",
    "        count += 1\n",
    "print((count + 1) // 2)"
   ]
  },
  {
   "cell_type": "code",
   "execution_count": null,
   "id": "d8491493",
   "metadata": {},
   "outputs": [],
   "source": [
    "# 만들수 없는 금액 : i think it is so beautiful algorizm. the concept of the answer is amaging\n",
    "data = [3, 2, 1, 1,  9]\n",
    "data.sort()\n",
    "\n",
    "target = 1\n",
    "for x in data : \n",
    "    if target<x:\n",
    "        print('빠져나감')\n",
    "        break\n",
    "    target += x\n",
    "print(target)"
   ]
  },
  {
   "cell_type": "code",
   "execution_count": null,
   "id": "98a68c8a",
   "metadata": {},
   "outputs": [],
   "source": [
    "# 볼링공 고르기: i think the example answer is good, but my answer is more better. my answer is better than example.\n",
    "size = 8\n",
    "data = [1, 5, 4, 3, 2, 4, 5, 2]\n",
    "count = 0\n",
    "\n",
    "for i in range(size):\n",
    "    for j in data[i+1:]:\n",
    "        if data[i]!=j:\n",
    "            count += 1\n",
    "print (count)"
   ]
  },
  {
   "cell_type": "code",
   "execution_count": 22,
   "id": "f0164275",
   "metadata": {},
   "outputs": [],
   "source": [
    "#무지의 먹방 : 못풀겠다 아직...ㅎㅎ"
   ]
  },
  {
   "cell_type": "code",
   "execution_count": 16,
   "id": "6768ab05",
   "metadata": {},
   "outputs": [],
   "source": [
    "data= [0, 0, 0, 0]"
   ]
  },
  {
   "cell_type": "code",
   "execution_count": 19,
   "id": "64759565",
   "metadata": {},
   "outputs": [
    {
     "data": {
      "text/plain": [
       "True"
      ]
     },
     "execution_count": 19,
     "metadata": {},
     "output_type": "execute_result"
    }
   ],
   "source": []
  },
  {
   "cell_type": "code",
   "execution_count": null,
   "id": "3029036e",
   "metadata": {},
   "outputs": [],
   "source": []
  }
 ],
 "metadata": {
  "kernelspec": {
   "display_name": "Python 3",
   "language": "python",
   "name": "python3"
  },
  "language_info": {
   "codemirror_mode": {
    "name": "ipython",
    "version": 3
   },
   "file_extension": ".py",
   "mimetype": "text/x-python",
   "name": "python",
   "nbconvert_exporter": "python",
   "pygments_lexer": "ipython3",
   "version": "3.8.10"
  }
 },
 "nbformat": 4,
 "nbformat_minor": 5
}
