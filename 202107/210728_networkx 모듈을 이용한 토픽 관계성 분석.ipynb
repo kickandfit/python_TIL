{
 "cells": [
  {
   "cell_type": "markdown",
   "id": "1ac394ba",
   "metadata": {},
   "source": [
    "### networkx 기본"
   ]
  },
  {
   "cell_type": "code",
   "execution_count": null,
   "id": "d2c9ef65",
   "metadata": {},
   "outputs": [],
   "source": [
    "import networkx as nx\n",
    "import matplotlib.pyplot as plt\n",
    "import pandas as pd\n",
    "import re"
   ]
  },
  {
   "cell_type": "code",
   "execution_count": null,
   "id": "e7dff4d7",
   "metadata": {
    "scrolled": true
   },
   "outputs": [],
   "source": [
    "graph = nx.Graph()\n",
    "df=pd.DataFrame({'from' : ['a', 'b', 'c', 'a', 'd', 'e'], \n",
    "                 'to' : ['d', 'a', 'e', 'c', 'a', 'e'],\n",
    "                'weight' : [1, 2, 3, 4, 5, 6]})\n",
    "print(df)\n",
    "gra = nx.from_pandas_edgelist(df, 'from', 'to', create_using = nx.DiGraph)\n",
    "nx.draw(gra, with_labels = True)\n",
    "plt.show()"
   ]
  },
  {
   "cell_type": "code",
   "execution_count": null,
   "id": "3437eeb0",
   "metadata": {},
   "outputs": [],
   "source": [
    "# 연습\n",
    "#graph.add_nodes_from((1,2,3,4,5))\n",
    "# graph.add_edges_from([(1,2),(1,3),(1,4),(3,5)])\n",
    "# nx.draw(graph, with_labels=True)\n",
    "# plt.show()"
   ]
  },
  {
   "cell_type": "markdown",
   "id": "d050d9f2",
   "metadata": {},
   "source": [
    "### 전국 공원리뷰를 이용한 네트워크 분석"
   ]
  },
  {
   "cell_type": "code",
   "execution_count": null,
   "id": "60f8f523",
   "metadata": {},
   "outputs": [],
   "source": [
    "f = open('c:/pydata/korpark10.txt', 'r', encoding = 'utf-8')\n",
    "txt_data = f.readlines() # read 는 전체 파일을 메모리 하나의 공간에 넣는것\n",
    "# readlines는 전체 파일을 메모리에 줄단위로 공간에 넣는다\n",
    "# readline은 한줄만 가져온다\n",
    "f.close()\n",
    "txt_data[:5]"
   ]
  },
  {
   "cell_type": "markdown",
   "id": "6c70f887",
   "metadata": {},
   "source": [
    "### 정규식 표현"
   ]
  },
  {
   "cell_type": "code",
   "execution_count": null,
   "id": "da01cc53",
   "metadata": {},
   "outputs": [],
   "source": [
    "from konlpy.tag import Okt\n",
    "from tqdm import tqdm\n",
    "okt = Okt()\n",
    "\n",
    "dataset = []\n",
    "for txt in tqdm(txt_data):\n",
    "    nons =okt.nouns(re.sub('[^ㄱ-ㅣ가-힣a-zA-Z]\\s',\"\",txt))\n",
    "    if len(nons) >= 1:\n",
    "        dataset.append(nons)\n",
    "print(dataset[:5])"
   ]
  },
  {
   "cell_type": "code",
   "execution_count": null,
   "id": "5f271c0b",
   "metadata": {},
   "outputs": [],
   "source": [
    "from apyori import apriori"
   ]
  },
  {
   "cell_type": "code",
   "execution_count": null,
   "id": "47841300",
   "metadata": {},
   "outputs": [],
   "source": [
    "support_res = (list(apriori(dataset, min_support = 0.05)))"
   ]
  },
  {
   "cell_type": "code",
   "execution_count": null,
   "id": "22185f13",
   "metadata": {},
   "outputs": [],
   "source": [
    "df1 = pd.DataFrame(support_res)\n",
    "df1"
   ]
  },
  {
   "cell_type": "code",
   "execution_count": null,
   "id": "6df3a845",
   "metadata": {},
   "outputs": [],
   "source": [
    "df1['length'] = df1['items'].apply(lambda x: len(x))\n",
    "df1"
   ]
  },
  {
   "cell_type": "code",
   "execution_count": null,
   "id": "4842b8bf",
   "metadata": {},
   "outputs": [],
   "source": [
    "df = df1[(df1['length']==2)&(df1['support']>=0.05)].sort_values(by = 'support', ascending = False)"
   ]
  },
  {
   "cell_type": "code",
   "execution_count": null,
   "id": "27b9e700",
   "metadata": {},
   "outputs": [],
   "source": [
    "gra = nx.Graph()\n",
    "arp = (df['items'])\n",
    "gra.add_edges_from(arp)\n",
    "arp"
   ]
  },
  {
   "cell_type": "code",
   "execution_count": null,
   "id": "9ef595e8",
   "metadata": {},
   "outputs": [],
   "source": [
    "import numpy as np\n",
    "prk = nx.pagerank(gra)\n",
    "nsize = np.array([val for val in prk.values()])\n",
    "nsize = 2000*(nsize-min(nsize))/(max(nsize)-min(nsize))"
   ]
  },
  {
   "cell_type": "code",
   "execution_count": null,
   "id": "cfbd473c",
   "metadata": {},
   "outputs": [],
   "source": [
    "pos = nx.planar_layout(gra)\n",
    "pos"
   ]
  },
  {
   "cell_type": "code",
   "execution_count": null,
   "id": "3b103405",
   "metadata": {},
   "outputs": [],
   "source": [
    "# 한글폰트 설정\n",
    "from matplotlib import font_manager\n",
    "font_family = font_manager.FontProperties(fname='C:/Windows/Fonts/malgunsl.ttf').get_name()\n",
    "\n",
    "plt.figure(figsize=(7,7))\n",
    "nx.draw_networkx(gra, node_color=list(prk.values()), node_size=nsize,\n",
    "                 alpha=0.5, edge_color='0.3', #cmap=plt.cm.YlGn,\n",
    "                 font_family=font_family,font_size=15)\n",
    "plt.draw()\n"
   ]
  },
  {
   "cell_type": "markdown",
   "id": "1559ca4c",
   "metadata": {},
   "source": []
  },
  {
   "cell_type": "code",
   "execution_count": 4,
   "id": "b99596f8",
   "metadata": {
    "lines_to_next_cell": 2
   },
   "outputs": [],
   "source": []
  },
  {
   "cell_type": "code",
   "execution_count": null,
   "id": "81a9148b",
   "metadata": {},
   "outputs": [],
   "source": []
  },
  {
   "cell_type": "code",
   "execution_count": 6,
   "id": "681f9a85",
   "metadata": {},
   "outputs": [],
   "source": []
  },
  {
   "cell_type": "code",
   "execution_count": null,
   "id": "b7181cce",
   "metadata": {},
   "outputs": [],
   "source": []
  },
  {
   "cell_type": "code",
   "execution_count": null,
   "id": "da2a516a",
   "metadata": {},
   "outputs": [],
   "source": []
  },
  {
   "cell_type": "code",
   "execution_count": null,
   "id": "7b49dd5f",
   "metadata": {},
   "outputs": [],
   "source": []
  }
 ],
 "metadata": {
  "jupytext": {
   "encoding": "# -*- coding: utf-8 -*-",
   "formats": "ipynb,py:light"
  },
  "kernelspec": {
   "display_name": "Python 3",
   "language": "python",
   "name": "python3"
  },
  "language_info": {
   "codemirror_mode": {
    "name": "ipython",
    "version": 3
   },
   "file_extension": ".py",
   "mimetype": "text/x-python",
   "name": "python",
   "nbconvert_exporter": "python",
   "pygments_lexer": "ipython3",
   "version": "3.8.10"
  }
 },
 "nbformat": 4,
 "nbformat_minor": 5
}
