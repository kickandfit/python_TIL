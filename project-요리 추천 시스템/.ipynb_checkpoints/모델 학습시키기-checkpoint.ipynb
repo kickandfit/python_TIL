{
 "cells": [
  {
   "cell_type": "code",
   "execution_count": null,
   "id": "c9250834",
   "metadata": {},
   "outputs": [],
   "source": [
    "%cd /content/drive/MyDrive/yolov5 \n",
    "!pip install -r requirements.txt # install dependencies \n",
    "%cd /content/drive/MyDrive/yolov5 \n",
    "\n",
    "!python train.py --img 640 --batch 16 --epochs 50 --data /content/drive/MyDrive/yolov5/data/dataset.yaml --cfg /content/drive/MyDrive/yolov5/models/yolov5s.yaml --weights yolov5s.pt --name vetable_yolov5s_results\n"
   ]
  },
  {
   "cell_type": "code",
   "execution_count": null,
   "id": "36a9cc6b",
   "metadata": {},
   "outputs": [],
   "source": []
  },
  {
   "cell_type": "code",
   "execution_count": null,
   "id": "fbe9d96f",
   "metadata": {},
   "outputs": [],
   "source": []
  },
  {
   "cell_type": "code",
   "execution_count": null,
   "id": "4407d54f",
   "metadata": {},
   "outputs": [],
   "source": []
  }
 ],
 "metadata": {
  "kernelspec": {
   "display_name": "Python 3",
   "language": "python",
   "name": "python3"
  },
  "language_info": {
   "codemirror_mode": {
    "name": "ipython",
    "version": 3
   },
   "file_extension": ".py",
   "mimetype": "text/x-python",
   "name": "python",
   "nbconvert_exporter": "python",
   "pygments_lexer": "ipython3",
   "version": "3.8.10"
  }
 },
 "nbformat": 4,
 "nbformat_minor": 5
}
