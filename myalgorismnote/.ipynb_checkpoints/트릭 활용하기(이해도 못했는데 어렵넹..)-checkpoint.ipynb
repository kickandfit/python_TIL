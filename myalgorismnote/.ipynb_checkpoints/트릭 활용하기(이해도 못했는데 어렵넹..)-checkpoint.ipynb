{
 "cells": [
  {
   "cell_type": "code",
   "execution_count": 3,
   "id": "fe19cd9a",
   "metadata": {},
   "outputs": [
    {
     "name": "stdout",
     "output_type": "stream",
     "text": [
      "1 1\n",
      "2 1\n",
      "3 1\n",
      "4 1\n",
      "5 1\n",
      "6 1\n",
      "7 1\n",
      "8 1\n",
      "9 1\n",
      "10 1\n"
     ]
    }
   ],
   "source": [
    "# 한 방향 탐색 알고리즘\n",
    "def move(x,y, i):\n",
    "    if x>10 or y>10 or x<=-1 or y<=-1:\n",
    "        return\n",
    "    print(x,y)\n",
    "    # 아래로 탐색\n",
    "    if i == 0:\n",
    "        return move(x+1,y , 0)\n",
    "    # 오른족 탐색\n",
    "    elif i == 1:\n",
    "        return move(x, y+1, 1)\n",
    "    # 위로 탐색\n",
    "    elif i == 2:\n",
    "        return move(x-1, y, 2)\n",
    "    # 왼쪽 탐색\n",
    "    elif i == 3:\n",
    "        return move(x, y-1, 3)\n",
    "    # 대각선 탐색(우상)\n",
    "    elif i == 4:\n",
    "        return move(x+1, y+1, 4)\n",
    "    # 대각선 탐색(좌하)\n",
    "    else:\n",
    "        return move(x-1, y-1, 5)\n",
    "move(1,1,0)"
   ]
  },
  {
   "cell_type": "code",
   "execution_count": 23,
   "id": "88498bf5",
   "metadata": {},
   "outputs": [
    {
     "name": "stdout",
     "output_type": "stream",
     "text": [
      "1 1\n",
      "0 1\n"
     ]
    }
   ],
   "source": [
    "# 왜 안되는 걸까.. ㅎ\n",
    "# 아 알겠다. 그니까 이건\n",
    "# 기본 아이디어가, 딕셔너리를 만들어 놓고\n",
    "# 그 안에서 찾아서 선택하겠다라는 말이네\n",
    "# 그니까 종료가 되지 않고 무한이 딕셔너리가 만드러지는 수밖에\n",
    "# ㅋㅋㅋㅋㅋㅋㅋㅋ알겠다 이제야 후아아\n",
    "\n",
    "def move(i,x,y):\n",
    "    if x>5 or y>5 or x<=-1 or y<=-1:\n",
    "        return\n",
    "    print (x,y)\n",
    "    return {1: lambda: move(1,x+1,y),\n",
    "          2: lambda: move(2,x-1,y)}.get(i, lambda :None)()\n",
    "move(2, 1, 1)"
   ]
  },
  {
   "cell_type": "code",
   "execution_count": 64,
   "id": "72f44d3e",
   "metadata": {},
   "outputs": [
    {
     "data": {
      "text/plain": [
       "[[0, 0, 0], [0, 0, 0], [0, 0, 0]]"
      ]
     },
     "execution_count": 64,
     "metadata": {},
     "output_type": "execute_result"
    }
   ],
   "source": [
    "class board:\n",
    "    def __init__(self, x, y):\n",
    "        self.x = x\n",
    "        self.y = y\n",
    "    def make(self, x, y):\n",
    "        return [[0]*y for _ in range(x)]\n",
    "    \n",
    "    \n",
    "b1, b2, b3 = board(2,2), board(3,3),board(3,3)\n",
    "\n",
    "b1, b2, b3, = b1.make(2,2), b2.make(3,3), b3.make(3,3)\n",
    "b2[0][0] = 1\n",
    "b3"
   ]
  },
  {
   "cell_type": "code",
   "execution_count": 69,
   "id": "488415b7",
   "metadata": {},
   "outputs": [
    {
     "data": {
      "text/plain": [
       "[[0, 0, 0], [0, 1, 0], [0, 0, 0]]"
      ]
     },
     "execution_count": 69,
     "metadata": {},
     "output_type": "execute_result"
    }
   ],
   "source": [
    "# 리스트 컴프리핸션은 완전 복사다\n",
    "x, y = 3, 3\n",
    "box1 = [[0]*y for _ in range(x)]\n",
    "box2 = [[0]*y for _ in range(x)]\n",
    "\n",
    "id(box2), id(box1)\n",
    "box1[1][1] = 1\n",
    "box1"
   ]
  },
  {
   "cell_type": "code",
   "execution_count": null,
   "id": "4b177131",
   "metadata": {},
   "outputs": [],
   "source": []
  }
 ],
 "metadata": {
  "kernelspec": {
   "display_name": "Python 3",
   "language": "python",
   "name": "python3"
  },
  "language_info": {
   "codemirror_mode": {
    "name": "ipython",
    "version": 3
   },
   "file_extension": ".py",
   "mimetype": "text/x-python",
   "name": "python",
   "nbconvert_exporter": "python",
   "pygments_lexer": "ipython3",
   "version": "3.8.10"
  }
 },
 "nbformat": 4,
 "nbformat_minor": 5
}
