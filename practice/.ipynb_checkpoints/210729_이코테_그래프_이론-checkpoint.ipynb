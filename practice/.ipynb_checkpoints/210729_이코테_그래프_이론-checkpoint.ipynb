{
 "cells": [
  {
   "cell_type": "code",
   "execution_count": 1,
   "id": "8407ece3",
   "metadata": {},
   "outputs": [
    {
     "name": "stdout",
     "output_type": "stream",
     "text": [
      "6 4\n",
      "1 4\n",
      "2 3\n",
      "2 4\n",
      "5 6\n",
      "각 원소가 속한 집합:  1 1 1 1 5 5 \n",
      "부모 테이블:  1 1 2 1 5 5 "
     ]
    }
   ],
   "source": [
    "#기본적인 서로소 집합 알고리즘 구현\n",
    "\n",
    "def find_parent(parent, x):\n",
    "    #루트 노드가 아니라면, 루트 노드를 찾을때 까지 재귀적으로 호출\n",
    "    if parent[x] != x:\n",
    "        return find_parent(parent, parent[x])\n",
    "    return x\n",
    "\n",
    "def union_parent(parent, a, b):\n",
    "    a = find_parent(parent, a)\n",
    "    b = find_parent(parent, b)\n",
    "    if a<b:\n",
    "        parent[b] = a\n",
    "    else:\n",
    "        parent[a] = b\n",
    "\n",
    "#노드의 개수와 간선(union 연산)의 개수 입력받기\n",
    "v, e = map(int, input().split())\n",
    "parent = [0]*(v+1)\n",
    "\n",
    "# 부모 테이블상에서, 부모를 자기 자신으로 초기화\n",
    "for i in range(1, v+1):\n",
    "    parent[i] = i\n",
    "    \n",
    "#union 연산을 각각 수행\n",
    "for i in range(e):\n",
    "    a, b = map(int, input().split())\n",
    "    union_parent(parent, a, b)\n",
    "    \n",
    "#각 원소가 속한 집합 출력\n",
    "print('각 원소가 속한 집합: ', end = ' ')\n",
    "for i in range(1, v+1):\n",
    "    print(find_parent(parent, i), end= ' ')\n",
    "print()\n",
    "\n",
    "#부모 테이블 내용 출력\n",
    "print('부모 테이블: ', end = ' ')\n",
    "for i in range(1, v+1):\n",
    "    print(parent[i], end = ' ')\n",
    "    \n"
   ]
  },
  {
   "cell_type": "code",
   "execution_count": 2,
   "id": "4cf95c7f",
   "metadata": {},
   "outputs": [],
   "source": [
    "# 고찰\n",
    "def find_parent(parent, x):\n",
    "    # 야, parent table 불러오고 x가져와봐\n",
    "    if parent[x] != x : # parent 테이블에 표시된 값이 x야?\n",
    "        # 그럼 parent테이블 블러오는데, x 값을 업데이트시켜\n",
    "        # parent[x]는 연결된 놈을 뜻하니까  그 놈이 끝까지 가서\n",
    "        # 만날때까지 불러오고 불러옴과 동시에 넌 종료해\n",
    "        return find_parent(parent, parent[x])\n",
    "    #같어? 그러면 그 비교한 값이 니 루트노드 값이야\n",
    "    return x\n",
    "\n",
    "def union_parent(parent, a, b):\n",
    "    # 야 a,b 부모가 누구야?\n",
    "    a = find_parent(parent, a)\n",
    "    b = find_parent(parent, b)\n",
    "    #합칠꺼라며, 그럼 부모끼리 비교해\n",
    "    # 큰놈의 부모가 작은놈이야 알겠어?\n",
    "    if a>b:\n",
    "        parent[a] = b\n",
    "    else:\n",
    "        parent[b] = a\n",
    "    \n"
   ]
  },
  {
   "cell_type": "code",
   "execution_count": 3,
   "id": "a51d6aa3",
   "metadata": {},
   "outputs": [],
   "source": [
    "# 경로압축\n",
    "def find_parent(parent,x):\n",
    "    if parent[x] != x:\n",
    "        # 아 일일이 경로 찾기 귀찮어\n",
    "        # 그냥 루트 노드만 데리구와 그냥 경로 필요없이\n",
    "        # 다 그냥 루트노드 가리켜 알겠어?\n",
    "        # if 종료 조건 만족할라면 , 부모까지 올라가야되자너?\n",
    "        # 올라가서 그넘을 그냥 처음 parent[x]에 넣어\n",
    "        parent[x] = find_parent(parent, parent[x])\n",
    "    return parent[x]"
   ]
  },
  {
   "cell_type": "code",
   "execution_count": 10,
   "id": "11a180e2",
   "metadata": {},
   "outputs": [
    {
     "name": "stdout",
     "output_type": "stream",
     "text": [
      "1 2 7 6 8 3 4 5 "
     ]
    }
   ],
   "source": [
    "#review dfs\n",
    "def dfs(graph, v, visited):\n",
    "    visited[v]= True\n",
    "    print(v, end = ' ')\n",
    "    for i in graph[v]:\n",
    "        if not visited[i]:\n",
    "#             return dfs(graph, i, visited) # 깊이로 하나의 경로 탐색\n",
    "            dfs(graph, i, visited) # 깊이로 다 탐색\n",
    "        \n",
    "graph = [\n",
    "    [],\n",
    "    [2, 3, 8],\n",
    "    [1, 7],\n",
    "    [1, 4, 5],\n",
    "    [3, 5],\n",
    "    [3, 4],\n",
    "    [7],\n",
    "    [2, 6, 8],\n",
    "    [1, 7]\n",
    "]  \n",
    "visited = [False]*9\n",
    "dfs(graph, 1, visited)"
   ]
  },
  {
   "cell_type": "code",
   "execution_count": null,
   "id": "556cbb9e",
   "metadata": {},
   "outputs": [],
   "source": []
  }
 ],
 "metadata": {
  "kernelspec": {
   "display_name": "Python 3",
   "language": "python",
   "name": "python3"
  },
  "language_info": {
   "codemirror_mode": {
    "name": "ipython",
    "version": 3
   },
   "file_extension": ".py",
   "mimetype": "text/x-python",
   "name": "python",
   "nbconvert_exporter": "python",
   "pygments_lexer": "ipython3",
   "version": "3.8.10"
  }
 },
 "nbformat": 4,
 "nbformat_minor": 5
}
