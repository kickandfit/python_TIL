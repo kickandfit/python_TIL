{
 "cells": [
  {
   "cell_type": "code",
   "execution_count": 6,
   "id": "35764b21",
   "metadata": {},
   "outputs": [
    {
     "ename": "UnicodeDecodeError",
     "evalue": "'utf-8' codec can't decode byte 0xbb in position 1: invalid start byte",
     "output_type": "error",
     "traceback": [
      "\u001b[1;31m---------------------------------------------------------------------------\u001b[0m",
      "\u001b[1;31mFileNotFoundError\u001b[0m                         Traceback (most recent call last)",
      "\u001b[1;32m<ipython-input-6-36c353ceb912>\u001b[0m in \u001b[0;36mfile_read\u001b[1;34m()\u001b[0m\n\u001b[0;32m     57\u001b[0m             \u001b[1;32mif\u001b[0m \u001b[0mfn\u001b[0m \u001b[1;33m==\u001b[0m \u001b[1;34m\"CARD_SUBWAY_MONTH_202009.csv\"\u001b[0m\u001b[1;33m:\u001b[0m\u001b[1;33m\u001b[0m\u001b[1;33m\u001b[0m\u001b[0m\n\u001b[1;32m---> 58\u001b[1;33m                 \u001b[0mf_9\u001b[0m\u001b[1;33m(\u001b[0m\u001b[0mfn\u001b[0m\u001b[1;33m)\u001b[0m\u001b[1;33m\u001b[0m\u001b[1;33m\u001b[0m\u001b[0m\n\u001b[0m\u001b[0;32m     59\u001b[0m \u001b[1;33m\u001b[0m\u001b[0m\n",
      "\u001b[1;32m<ipython-input-6-36c353ceb912>\u001b[0m in \u001b[0;36mf_9\u001b[1;34m(fn)\u001b[0m\n\u001b[0;32m     14\u001b[0m     \u001b[1;31m### csv 파일 전처리 함수\u001b[0m\u001b[1;33m\u001b[0m\u001b[1;33m\u001b[0m\u001b[1;33m\u001b[0m\u001b[0m\n\u001b[1;32m---> 15\u001b[1;33m     \u001b[0mf\u001b[0m \u001b[1;33m=\u001b[0m \u001b[0mopen\u001b[0m\u001b[1;33m(\u001b[0m\u001b[1;34m'c:/pydata/subway/CARD_SUBWAY_MONTH_202009.csv'\u001b[0m\u001b[1;33m,\u001b[0m \u001b[0mencoding\u001b[0m\u001b[1;33m=\u001b[0m\u001b[1;34m'cp949'\u001b[0m\u001b[1;33m)\u001b[0m\u001b[1;33m\u001b[0m\u001b[1;33m\u001b[0m\u001b[0m\n\u001b[0m\u001b[0;32m     16\u001b[0m     \u001b[0mdata\u001b[0m \u001b[1;33m=\u001b[0m \u001b[0mcsv\u001b[0m\u001b[1;33m.\u001b[0m\u001b[0mreader\u001b[0m\u001b[1;33m(\u001b[0m\u001b[0mf\u001b[0m\u001b[1;33m)\u001b[0m\u001b[1;33m\u001b[0m\u001b[1;33m\u001b[0m\u001b[0m\n",
      "\u001b[1;31mFileNotFoundError\u001b[0m: [Errno 2] No such file or directory: 'c:/pydata/subway/CARD_SUBWAY_MONTH_202009.csv'",
      "\nDuring handling of the above exception, another exception occurred:\n",
      "\u001b[1;31mUnicodeDecodeError\u001b[0m                        Traceback (most recent call last)",
      "\u001b[1;32m<ipython-input-6-36c353ceb912>\u001b[0m in \u001b[0;36m<module>\u001b[1;34m\u001b[0m\n\u001b[0;32m     80\u001b[0m     \u001b[0mplt\u001b[0m\u001b[1;33m.\u001b[0m\u001b[0mshow\u001b[0m\u001b[1;33m(\u001b[0m\u001b[1;33m)\u001b[0m\u001b[1;33m\u001b[0m\u001b[1;33m\u001b[0m\u001b[0m\n\u001b[0;32m     81\u001b[0m \u001b[1;33m\u001b[0m\u001b[0m\n\u001b[1;32m---> 82\u001b[1;33m \u001b[0mdf1\u001b[0m \u001b[1;33m=\u001b[0m \u001b[0mfile_read\u001b[0m\u001b[1;33m(\u001b[0m\u001b[1;33m)\u001b[0m\u001b[1;33m\u001b[0m\u001b[1;33m\u001b[0m\u001b[0m\n\u001b[0m",
      "\u001b[1;32m<ipython-input-6-36c353ceb912>\u001b[0m in \u001b[0;36mfile_read\u001b[1;34m()\u001b[0m\n\u001b[0;32m     61\u001b[0m \u001b[1;33m\u001b[0m\u001b[0m\n\u001b[0;32m     62\u001b[0m         \u001b[1;32mexcept\u001b[0m\u001b[1;33m:\u001b[0m \u001b[1;31m#try구문에서 에러 발생시, 처리하기 위한 구문\u001b[0m\u001b[1;33m\u001b[0m\u001b[1;33m\u001b[0m\u001b[0m\n\u001b[1;32m---> 63\u001b[1;33m             \u001b[0mCsv_reset\u001b[0m\u001b[1;33m(\u001b[0m\u001b[0mfn\u001b[0m\u001b[1;33m)\u001b[0m\u001b[1;33m\u001b[0m\u001b[1;33m\u001b[0m\u001b[0m\n\u001b[0m\u001b[0;32m     64\u001b[0m             \u001b[0mdf2\u001b[0m \u001b[1;33m=\u001b[0m \u001b[0mpd\u001b[0m\u001b[1;33m.\u001b[0m\u001b[0mread_csv\u001b[0m\u001b[1;33m(\u001b[0m\u001b[0mfilePath\u001b[0m\u001b[1;33m+\u001b[0m\u001b[0mfn\u001b[0m\u001b[1;33m,\u001b[0m \u001b[0mencoding\u001b[0m \u001b[1;33m=\u001b[0m \u001b[1;34m'cp949'\u001b[0m\u001b[1;33m)\u001b[0m\u001b[1;33m\u001b[0m\u001b[1;33m\u001b[0m\u001b[0m\n\u001b[0;32m     65\u001b[0m \u001b[1;33m\u001b[0m\u001b[0m\n",
      "\u001b[1;32m<ipython-input-6-36c353ceb912>\u001b[0m in \u001b[0;36mCsv_reset\u001b[1;34m(fn)\u001b[0m\n\u001b[0;32m     35\u001b[0m     \u001b[1;31m# '\\ufeff\"사용일자\"', '노선명', '역명',\u001b[0m\u001b[1;33m\u001b[0m\u001b[1;33m\u001b[0m\u001b[1;33m\u001b[0m\u001b[0m\n\u001b[0;32m     36\u001b[0m     \u001b[1;31m# '승차총승객수', '하차총승객수', '등록일자'\u001b[0m\u001b[1;33m\u001b[0m\u001b[1;33m\u001b[0m\u001b[1;33m\u001b[0m\u001b[0m\n\u001b[1;32m---> 37\u001b[1;33m     \u001b[0mnext\u001b[0m\u001b[1;33m(\u001b[0m\u001b[0mdata\u001b[0m\u001b[1;33m)\u001b[0m\u001b[1;33m\u001b[0m\u001b[1;33m\u001b[0m\u001b[0m\n\u001b[0m\u001b[0;32m     38\u001b[0m     \u001b[0mdata_lst\u001b[0m\u001b[1;33m=\u001b[0m\u001b[1;33m[\u001b[0m\u001b[1;33m]\u001b[0m\u001b[1;33m\u001b[0m\u001b[1;33m\u001b[0m\u001b[0m\n\u001b[0;32m     39\u001b[0m \u001b[1;33m\u001b[0m\u001b[0m\n",
      "\u001b[1;32m~\\Anaconda3\\envs\\big_data_Intelligence_system\\lib\\codecs.py\u001b[0m in \u001b[0;36mdecode\u001b[1;34m(self, input, final)\u001b[0m\n\u001b[0;32m    320\u001b[0m         \u001b[1;31m# decode input (taking the buffer into account)\u001b[0m\u001b[1;33m\u001b[0m\u001b[1;33m\u001b[0m\u001b[1;33m\u001b[0m\u001b[0m\n\u001b[0;32m    321\u001b[0m         \u001b[0mdata\u001b[0m \u001b[1;33m=\u001b[0m \u001b[0mself\u001b[0m\u001b[1;33m.\u001b[0m\u001b[0mbuffer\u001b[0m \u001b[1;33m+\u001b[0m \u001b[0minput\u001b[0m\u001b[1;33m\u001b[0m\u001b[1;33m\u001b[0m\u001b[0m\n\u001b[1;32m--> 322\u001b[1;33m         \u001b[1;33m(\u001b[0m\u001b[0mresult\u001b[0m\u001b[1;33m,\u001b[0m \u001b[0mconsumed\u001b[0m\u001b[1;33m)\u001b[0m \u001b[1;33m=\u001b[0m \u001b[0mself\u001b[0m\u001b[1;33m.\u001b[0m\u001b[0m_buffer_decode\u001b[0m\u001b[1;33m(\u001b[0m\u001b[0mdata\u001b[0m\u001b[1;33m,\u001b[0m \u001b[0mself\u001b[0m\u001b[1;33m.\u001b[0m\u001b[0merrors\u001b[0m\u001b[1;33m,\u001b[0m \u001b[0mfinal\u001b[0m\u001b[1;33m)\u001b[0m\u001b[1;33m\u001b[0m\u001b[1;33m\u001b[0m\u001b[0m\n\u001b[0m\u001b[0;32m    323\u001b[0m         \u001b[1;31m# keep undecoded input until the next call\u001b[0m\u001b[1;33m\u001b[0m\u001b[1;33m\u001b[0m\u001b[1;33m\u001b[0m\u001b[0m\n\u001b[0;32m    324\u001b[0m         \u001b[0mself\u001b[0m\u001b[1;33m.\u001b[0m\u001b[0mbuffer\u001b[0m \u001b[1;33m=\u001b[0m \u001b[0mdata\u001b[0m\u001b[1;33m[\u001b[0m\u001b[0mconsumed\u001b[0m\u001b[1;33m:\u001b[0m\u001b[1;33m]\u001b[0m\u001b[1;33m\u001b[0m\u001b[1;33m\u001b[0m\u001b[0m\n",
      "\u001b[1;31mUnicodeDecodeError\u001b[0m: 'utf-8' codec can't decode byte 0xbb in position 1: invalid start byte"
     ]
    }
   ],
   "source": [
    "import os # 현재 쓰고 있는 운영체제 자체를 의미한다\n",
    "import pandas as pd\n",
    "import matplotlib.font_manager as fm\n",
    "import matplotlib.pyplot as plt\n",
    "\n",
    "font_path = \"C:/Windows/Fonts/malgun.ttf\" \n",
    "font_name = fm.FontProperties(fname=font_path).get_name()\n",
    "plt.rc('font', family=font_name)\n",
    "filePath='c:/pydata/Data/subway/'\n",
    "fileName=os.listdir(filePath) # subway 폴더와 모든 파일 및 하위 폴더 정보를 리스트 형으로 가져와 저장\n",
    "\n",
    "\n",
    "def f_9(fn):\n",
    "    ### csv 파일 전처리 함수\n",
    "    f = open('c:/pydata/subway/CARD_SUBWAY_MONTH_202009.csv', encoding='cp949')\n",
    "    data = csv.reader(f)\n",
    "    # \"사용일자\"', '노선명', '역명', '승차총승객수', '하차총승객수', '등록일자'\n",
    "    next(data)\n",
    "    data_lst = []\n",
    "    for row in data:\n",
    "        data_lst.append(row[:6])\n",
    "        \n",
    "    df = pd.DataFrame(data_lst, columns=['사용일자', '노선명', '역명', '승차총승객수', '하차총승객수', '등록일자'])\n",
    "    df.to_csv('c:/pydata/subway/'+fn, encoding='cp949', index=False)\n",
    "    f.close()\n",
    "\n",
    "def Csv_reset(fn):\n",
    "    import pandas as pd\n",
    "    import csv\n",
    "    \n",
    "    f = open('c:/pydata/Data/subway/'+fn, encoding = 'utf-8')\n",
    "    \n",
    "    data = csv.reader(f)\n",
    "\n",
    "    # '\\ufeff\"사용일자\"', '노선명', '역명', \n",
    "    # '승차총승객수', '하차총승객수', '등록일자'\n",
    "    next(data)\n",
    "    data_lst=[]\n",
    "\n",
    "    for row in data:\n",
    "        data_lst.append(row[0:6])\n",
    "\n",
    "    df = pd.DataFrame(data_lst, columns= ['사용일자', '노선명', '역명', '승차총승객수', '하차총승객수', '등록일자'])\n",
    "    df.to_csv('c:/pydata/Data/subway/'+fn, encoding = 'cp949', index = False)\n",
    "    f.close()\n",
    "def file_read():\n",
    "    filePath='c:/pydata/Data/subway/'\n",
    "    fileName=os.listdir(filePath) # subway 폴더와 모든 파일 및 하위 폴더 정보를 리스트 형으로 가져와 저장\n",
    "\n",
    "    df1 = pd.DataFrame()\n",
    "    df2 = pd.DataFrame()\n",
    "\n",
    "    for fn in fileName:\n",
    "        # try/except 예외처리 try에서 error가 발생하면 except 에서 수행해\n",
    "\n",
    "        try: # 정상코드, 수행\n",
    "            if fn == \"CARD_SUBWAY_MONTH_202009.csv\":\n",
    "                f_9(fn)\n",
    "            \n",
    "            df2 = pd.read_csv(filePath+fn, encoding = 'cp949')\n",
    "\n",
    "        except: #try구문에서 에러 발생시, 처리하기 위한 구문\n",
    "            Csv_reset(fn)\n",
    "            df2 = pd.read_csv(filePath+fn, encoding = 'cp949')\n",
    "            \n",
    "        df1 = pd.concat([df1, df2])\n",
    "    df1=df1.reset_index(drop=False)\n",
    "    return df1\n",
    "# def subway_sch(dfdata, subway_name):\n",
    "#     df2=dfdata[dfdata['역명']==subway_name]\n",
    "#     df2 = df2.astype({'승차총승객수': 'int64','사용일자':'str'})\n",
    "#     df2.plot(x='사용일자', y='승차총승객수')\n",
    "#     plt.show()\n",
    "\n",
    "def subway_sch(dfdata, subway_name):\n",
    "    df2=dfdata[dfdata['역명']==subway_name]\n",
    "    df2 = df2.astype({'승차총승객수': 'int64','사용일자':'str'})\n",
    "    df2 = df2.groupby('사용일자')['승차총승객수','하차총승객수'].sum()\n",
    "    df2.plot()\n",
    "    plt.show()\n",
    "\n",
    "df1 = file_read()"
   ]
  },
  {
   "cell_type": "code",
   "execution_count": null,
   "id": "c863fcfb",
   "metadata": {},
   "outputs": [],
   "source": [
    "subway_name = input('조회할 역 입력:')\n",
    "df2 = subway_sch(df3, subway_name)"
   ]
  },
  {
   "cell_type": "code",
   "execution_count": 4,
   "id": "023221f2",
   "metadata": {},
   "outputs": [
    {
     "name": "stdout",
     "output_type": "stream",
     "text": [
      "   index      사용일자  노선명     역명  승차총승객수  하차총승객수\n",
      "0      0  20190101  2호선  을지로4가    3862    3728\n",
      "1      1  20190101  2호선  을지로3가    8104    7554\n",
      "2      2  20190101  2호선  을지로입구   22478   21330\n",
      "3      3  20190101  2호선     시청    8381    6049\n",
      "4      4  20190101  1호선    동묘앞    8045    8504\n"
     ]
    }
   ],
   "source": [
    "df1 = df1.astype({'사용일자' : 'str', '승차총승객수' : 'int64', '하차총승객수' : 'int64'})\n",
    "\n",
    "## 등록일자 삭제\n",
    "df1.drop( ['등록일자'], axis = 1, inplace = True )\n",
    "\n",
    "print(df1.head())"
   ]
  },
  {
   "cell_type": "code",
   "execution_count": null,
   "id": "016cdd48",
   "metadata": {},
   "outputs": [],
   "source": [
    "## pandas를 이ㅛㅇㅇ한 날짜 변경 : pandas.to_datetime(df['필드명'])\n",
    "pd.to_datetime(df1['사용일자'])"
   ]
  },
  {
   "cell_type": "code",
   "execution_count": null,
   "id": "7944c45d",
   "metadata": {},
   "outputs": [],
   "source": []
  }
 ],
 "metadata": {
  "kernelspec": {
   "display_name": "Python 3",
   "language": "python",
   "name": "python3"
  }
 },
 "nbformat": 4,
 "nbformat_minor": 5
}
