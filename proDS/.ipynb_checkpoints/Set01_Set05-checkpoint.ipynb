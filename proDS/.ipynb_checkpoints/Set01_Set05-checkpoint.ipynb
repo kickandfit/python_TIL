{
 "cells": [
  {
   "cell_type": "code",
   "execution_count": null,
   "id": "1fc00914",
   "metadata": {},
   "outputs": [],
   "source": [
    "\"\"\"\n",
    "Created on 2021\n",
    "\n",
    "@author: Administrator\n",
    "\"\"\""
   ]
  },
  {
   "cell_type": "markdown",
   "id": "e8b899d0",
   "metadata": {},
   "source": [
    " =============================================================================\n",
    " =============================================================================\n",
    " 문제 01 유형(DataSet_01.csv 이용)\n",
    "\n",
    " 구분자 : comma(“,”), 4,572 Rows, 5 Columns, UTF-8 인코딩\n",
    " \n",
    " 글로벌 전자제품 제조회사에서 효과적인 마케팅 방법을 찾기\n",
    " 위해서 채널별 마케팅 예산과 매출금액과의 관계를 분석하고자\n",
    " 한다.\n",
    " 컬 럼 / 정 의  /   Type\n",
    " TV   /     TV 마케팅 예산 (억원)  /   Double\n",
    " Radio / 라디오 마케팅 예산 (억원)  /   Double\n",
    " Social_Media / 소셜미디어 마케팅 예산 (억원)  / Double\n",
    " Influencer / 인플루언서 마케팅\n",
    " (인플루언서의 영향력 크기에 따라 Mega / Macro / Micro / \n",
    " Nano) / String\n",
    " \n",
    " SALES / 매출액 / Double\n",
    " \n",
    " =============================================================================\n",
    "\n",
    "\n"
   ]
  },
  {
   "cell_type": "code",
   "execution_count": 2,
   "id": "192f479e",
   "metadata": {},
   "outputs": [
    {
     "name": "stdout",
     "output_type": "stream",
     "text": [
      "<class 'pandas.core.frame.DataFrame'>\n",
      "RangeIndex: 4572 entries, 0 to 4571\n",
      "Data columns (total 5 columns):\n",
      " #   Column        Non-Null Count  Dtype  \n",
      "---  ------        --------------  -----  \n",
      " 0   TV            4562 non-null   float64\n",
      " 1   Radio         4568 non-null   float64\n",
      " 2   Social_Media  4566 non-null   float64\n",
      " 3   Influencer    4572 non-null   object \n",
      " 4   Sales         4566 non-null   float64\n",
      "dtypes: float64(4), object(1)\n",
      "memory usage: 178.7+ KB\n"
     ]
    }
   ],
   "source": [
    "# 시험에서 사용되는 패키지\n",
    "# pandas, numpy, scipy.stats, statsmodels, sklearn\n",
    "\n",
    "import pandas as pd\n",
    "\n",
    "data1 = pd.read_csv('Dataset_01.csv')\n",
    "data1.info() #결측치 확인 할때\n"
   ]
  },
  {
   "cell_type": "code",
   "execution_count": 4,
   "id": "208744b2",
   "metadata": {},
   "outputs": [
    {
     "data": {
      "text/plain": [
       "Index(['TV', 'Radio', 'Social_Media', 'Influencer', 'Sales'], dtype='object')"
      ]
     },
     "execution_count": 4,
     "metadata": {},
     "output_type": "execute_result"
    }
   ],
   "source": [
    "data1.columns"
   ]
  },
  {
   "cell_type": "code",
   "execution_count": 8,
   "id": "b27114c0",
   "metadata": {},
   "outputs": [
    {
     "data": {
      "text/plain": [
       "26"
      ]
     },
     "execution_count": 8,
     "metadata": {},
     "output_type": "execute_result"
    }
   ],
   "source": [
    "\n",
    "# =============================================================================\n",
    "# 1. 데이터 세트 내에 총 결측값의 개수는 몇 개인가? (답안 예시) 23\n",
    "# =============================================================================\n",
    "\n",
    "# data1.isnull() 전체 true false를 보여줌\n",
    "# 총 결측치의 수\n",
    "# 이번 문제에서는 결측치가 행마다 한가지만 있기 때문에 결과가 같음\n",
    "\n",
    "data1.isnull().sum() # true의 개수 열단위당 , 행단 위당 axis =1 시리즈 수\n",
    "\n",
    "data1.isnull().sum().sum()\n",
    "# 정답 단순\n",
    "\n"
   ]
  },
  {
   "cell_type": "code",
   "execution_count": 11,
   "id": "78a1be3c",
   "metadata": {},
   "outputs": [
    {
     "data": {
      "text/plain": [
       "26"
      ]
     },
     "execution_count": 11,
     "metadata": {},
     "output_type": "execute_result"
    }
   ],
   "source": [
    "# (비교) : 결측치가 포항된 행의 수\n",
    "data1.isna().any(axis = 1).sum()"
   ]
  },
  {
   "cell_type": "markdown",
   "id": "7e08c993",
   "metadata": {},
   "source": [
    " =============================================================================\n",
    " 2. TV, Radio, Social Media 등 세 가지 다른 마케팅 채널의 예산과 매출액과의 상관분석을\n",
    " 통하여 각 채널이 매출에 어느 정도 연관이 있는지 알아보고자 한다. \n",
    " - 매출액과 가장 강한 상관관계를 가지고 있는 채널의 상관계수를 소수점 5번째\n",
    " 자리에서 반올림하여 소수점 넷째 자리까지 기술하시오. (답안 예시) 0.1234\n",
    " \n",
    " \n",
    " #### 상관계수 : 두 변수 간의 선형 관계 정도 ( -1 ~ 1 )\n"
   ]
  },
  {
   "cell_type": "code",
   "execution_count": 12,
   "id": "e09cb998",
   "metadata": {},
   "outputs": [
    {
     "data": {
      "text/html": [
       "<div>\n",
       "<style scoped>\n",
       "    .dataframe tbody tr th:only-of-type {\n",
       "        vertical-align: middle;\n",
       "    }\n",
       "\n",
       "    .dataframe tbody tr th {\n",
       "        vertical-align: top;\n",
       "    }\n",
       "\n",
       "    .dataframe thead th {\n",
       "        text-align: right;\n",
       "    }\n",
       "</style>\n",
       "<table border=\"1\" class=\"dataframe\">\n",
       "  <thead>\n",
       "    <tr style=\"text-align: right;\">\n",
       "      <th></th>\n",
       "      <th>TV</th>\n",
       "      <th>Radio</th>\n",
       "      <th>Social_Media</th>\n",
       "      <th>Sales</th>\n",
       "    </tr>\n",
       "  </thead>\n",
       "  <tbody>\n",
       "    <tr>\n",
       "      <th>TV</th>\n",
       "      <td>1.000000</td>\n",
       "      <td>0.869460</td>\n",
       "      <td>0.528168</td>\n",
       "      <td>0.999497</td>\n",
       "    </tr>\n",
       "    <tr>\n",
       "      <th>Radio</th>\n",
       "      <td>0.869460</td>\n",
       "      <td>1.000000</td>\n",
       "      <td>0.607452</td>\n",
       "      <td>0.869105</td>\n",
       "    </tr>\n",
       "    <tr>\n",
       "      <th>Social_Media</th>\n",
       "      <td>0.528168</td>\n",
       "      <td>0.607452</td>\n",
       "      <td>1.000000</td>\n",
       "      <td>0.528906</td>\n",
       "    </tr>\n",
       "    <tr>\n",
       "      <th>Sales</th>\n",
       "      <td>0.999497</td>\n",
       "      <td>0.869105</td>\n",
       "      <td>0.528906</td>\n",
       "      <td>1.000000</td>\n",
       "    </tr>\n",
       "  </tbody>\n",
       "</table>\n",
       "</div>"
      ],
      "text/plain": [
       "                    TV     Radio  Social_Media     Sales\n",
       "TV            1.000000  0.869460      0.528168  0.999497\n",
       "Radio         0.869460  1.000000      0.607452  0.869105\n",
       "Social_Media  0.528168  0.607452      1.000000  0.528906\n",
       "Sales         0.999497  0.869105      0.528906  1.000000"
      ]
     },
     "execution_count": 12,
     "metadata": {},
     "output_type": "execute_result"
    }
   ],
   "source": [
    "data1.corr()"
   ]
  },
  {
   "cell_type": "code",
   "execution_count": 13,
   "id": "299510c9",
   "metadata": {},
   "outputs": [
    {
     "data": {
      "text/html": [
       "<div>\n",
       "<style scoped>\n",
       "    .dataframe tbody tr th:only-of-type {\n",
       "        vertical-align: middle;\n",
       "    }\n",
       "\n",
       "    .dataframe tbody tr th {\n",
       "        vertical-align: top;\n",
       "    }\n",
       "\n",
       "    .dataframe thead th {\n",
       "        text-align: right;\n",
       "    }\n",
       "</style>\n",
       "<table border=\"1\" class=\"dataframe\">\n",
       "  <thead>\n",
       "    <tr style=\"text-align: right;\">\n",
       "      <th></th>\n",
       "      <th>TV</th>\n",
       "      <th>Radio</th>\n",
       "      <th>Social_Media</th>\n",
       "      <th>Sales</th>\n",
       "    </tr>\n",
       "  </thead>\n",
       "  <tbody>\n",
       "    <tr>\n",
       "      <th>TV</th>\n",
       "      <td>1.000000</td>\n",
       "      <td>0.869460</td>\n",
       "      <td>0.528168</td>\n",
       "      <td>0.999497</td>\n",
       "    </tr>\n",
       "    <tr>\n",
       "      <th>Radio</th>\n",
       "      <td>0.869460</td>\n",
       "      <td>1.000000</td>\n",
       "      <td>0.607452</td>\n",
       "      <td>0.869105</td>\n",
       "    </tr>\n",
       "    <tr>\n",
       "      <th>Social_Media</th>\n",
       "      <td>0.528168</td>\n",
       "      <td>0.607452</td>\n",
       "      <td>1.000000</td>\n",
       "      <td>0.528906</td>\n",
       "    </tr>\n",
       "    <tr>\n",
       "      <th>Sales</th>\n",
       "      <td>0.999497</td>\n",
       "      <td>0.869105</td>\n",
       "      <td>0.528906</td>\n",
       "      <td>1.000000</td>\n",
       "    </tr>\n",
       "  </tbody>\n",
       "</table>\n",
       "</div>"
      ],
      "text/plain": [
       "                    TV     Radio  Social_Media     Sales\n",
       "TV            1.000000  0.869460      0.528168  0.999497\n",
       "Radio         0.869460  1.000000      0.607452  0.869105\n",
       "Social_Media  0.528168  0.607452      1.000000  0.528906\n",
       "Sales         0.999497  0.869105      0.528906  1.000000"
      ]
     },
     "execution_count": 13,
     "metadata": {},
     "output_type": "execute_result"
    }
   ],
   "source": [
    "#x_var = data1.columns.drop(['Influencer'])\n",
    "x_var=['TV', 'Radio', 'Social_Media', 'Sales']\n",
    "data1[x_var].corr()"
   ]
  },
  {
   "cell_type": "code",
   "execution_count": 14,
   "id": "c397ec80",
   "metadata": {},
   "outputs": [
    {
     "data": {
      "text/html": [
       "<div>\n",
       "<style scoped>\n",
       "    .dataframe tbody tr th:only-of-type {\n",
       "        vertical-align: middle;\n",
       "    }\n",
       "\n",
       "    .dataframe tbody tr th {\n",
       "        vertical-align: top;\n",
       "    }\n",
       "\n",
       "    .dataframe thead th {\n",
       "        text-align: right;\n",
       "    }\n",
       "</style>\n",
       "<table border=\"1\" class=\"dataframe\">\n",
       "  <thead>\n",
       "    <tr style=\"text-align: right;\">\n",
       "      <th></th>\n",
       "      <th>TV</th>\n",
       "      <th>Radio</th>\n",
       "      <th>Social_Media</th>\n",
       "      <th>Sales</th>\n",
       "    </tr>\n",
       "  </thead>\n",
       "  <tbody>\n",
       "    <tr>\n",
       "      <th>TV</th>\n",
       "      <td>1.000000</td>\n",
       "      <td>0.869460</td>\n",
       "      <td>0.528168</td>\n",
       "      <td>0.999497</td>\n",
       "    </tr>\n",
       "    <tr>\n",
       "      <th>Radio</th>\n",
       "      <td>0.869460</td>\n",
       "      <td>1.000000</td>\n",
       "      <td>0.607452</td>\n",
       "      <td>0.869105</td>\n",
       "    </tr>\n",
       "    <tr>\n",
       "      <th>Social_Media</th>\n",
       "      <td>0.528168</td>\n",
       "      <td>0.607452</td>\n",
       "      <td>1.000000</td>\n",
       "      <td>0.528906</td>\n",
       "    </tr>\n",
       "  </tbody>\n",
       "</table>\n",
       "</div>"
      ],
      "text/plain": [
       "                    TV     Radio  Social_Media     Sales\n",
       "TV            1.000000  0.869460      0.528168  0.999497\n",
       "Radio         0.869460  1.000000      0.607452  0.869105\n",
       "Social_Media  0.528168  0.607452      1.000000  0.528906"
      ]
     },
     "execution_count": 14,
     "metadata": {},
     "output_type": "execute_result"
    }
   ],
   "source": [
    "data1[x_var].corr().abs().drop('Sales')['Sales'] # Sales 행 제거후 Sales 만 추출"
   ]
  },
  {
   "cell_type": "code",
   "execution_count": 16,
   "id": "1bd24d9c",
   "metadata": {},
   "outputs": [
    {
     "data": {
      "text/plain": [
       "0.999497444941335"
      ]
     },
     "execution_count": 16,
     "metadata": {},
     "output_type": "execute_result"
    }
   ],
   "source": [
    "# max, min // nlargest(), nsmallest()\n",
    "q2 = data1[x_var].corr().abs().drop('Sales')['Sales']\n",
    "q2.max() # 해당하는 정답\n",
    "# q2.nlargest(1) # 최댇값 (상위 몇개)\n",
    "# q2.argmax() # 최대값이 있는 위치번호\n",
    "# q2.idxmax() # 최대값이 있는 인덱스 명"
   ]
  },
  {
   "cell_type": "code",
   "execution_count": 18,
   "id": "65f06de2",
   "metadata": {},
   "outputs": [
    {
     "data": {
      "text/plain": [
       "0"
      ]
     },
     "execution_count": 18,
     "metadata": {},
     "output_type": "execute_result"
    }
   ],
   "source": [
    "q2.argmax()"
   ]
  },
  {
   "cell_type": "code",
   "execution_count": 19,
   "id": "fc2dc24b",
   "metadata": {},
   "outputs": [
    {
     "data": {
      "text/plain": [
       "'TV'"
      ]
     },
     "execution_count": 19,
     "metadata": {},
     "output_type": "execute_result"
    }
   ],
   "source": [
    "q2.idxmax()"
   ]
  },
  {
   "cell_type": "code",
   "execution_count": 20,
   "id": "18c7684b",
   "metadata": {},
   "outputs": [
    {
     "data": {
      "text/plain": [
       "123.5"
      ]
     },
     "execution_count": 20,
     "metadata": {},
     "output_type": "execute_result"
    }
   ],
   "source": [
    "import numpy as np\n",
    "\n",
    "np.round(123.47, 1) # 반올림"
   ]
  },
  {
   "cell_type": "code",
   "execution_count": 26,
   "id": "29748aa9",
   "metadata": {},
   "outputs": [
    {
     "data": {
      "text/plain": [
       "123.0"
      ]
     },
     "execution_count": 26,
     "metadata": {},
     "output_type": "execute_result"
    }
   ],
   "source": [
    "np.floor(123.47) # 내림 ( 정수 형 )"
   ]
  },
  {
   "cell_type": "code",
   "execution_count": 27,
   "id": "65648ba8",
   "metadata": {},
   "outputs": [
    {
     "data": {
      "text/plain": [
       "123.4"
      ]
     },
     "execution_count": 27,
     "metadata": {},
     "output_type": "execute_result"
    }
   ],
   "source": [
    "#floor 소숫점 첫째 자리에서 내림 하는 방법\n",
    "np.floor(123.47*10)/10"
   ]
  },
  {
   "cell_type": "code",
   "execution_count": 28,
   "id": "e05abac4",
   "metadata": {},
   "outputs": [
    {
     "data": {
      "text/plain": [
       "124.0"
      ]
     },
     "execution_count": 28,
     "metadata": {},
     "output_type": "execute_result"
    }
   ],
   "source": [
    "np.ceil(123.47) # 올림"
   ]
  },
  {
   "cell_type": "code",
   "execution_count": 29,
   "id": "2b881db0",
   "metadata": {},
   "outputs": [
    {
     "data": {
      "text/plain": [
       "123.0"
      ]
     },
     "execution_count": 29,
     "metadata": {},
     "output_type": "execute_result"
    }
   ],
   "source": [
    "np.trunc(123.47) # 절삭 : 뒷자리는 무조건 잘라라 양수 음수 모두 잘라 뒤에는"
   ]
  },
  {
   "cell_type": "code",
   "execution_count": 30,
   "id": "abc4a150",
   "metadata": {},
   "outputs": [
    {
     "data": {
      "text/plain": [
       "0.9995"
      ]
     },
     "execution_count": 30,
     "metadata": {},
     "output_type": "execute_result"
    }
   ],
   "source": [
    "round(q2.max(), 4) # 정답처리 방법"
   ]
  },
  {
   "cell_type": "markdown",
   "id": "e65c6680",
   "metadata": {},
   "source": [
    "  =============================================================================\n",
    " 3. 매출액을 종속변수, TV, Radio, Social Media의 예산을 독립변수로 하여 회귀분석을\n",
    " 수행하였을 때, 세 개의 독립변수의 회귀계수를 큰 것에서부터 작은 것 순으로\n",
    " 기술하시오. \n",
    " - 분석 시 결측치가 포함된 행은 제거한 후 진행하며, 회귀계수는 소수점 넷째 자리\n",
    " 이하는 버리고 소수점 셋째 자리까지 기술하시오. (답안 예시) 0.123\n",
    "\n",
    "\n",
    "\n",
    "\n",
    "\n",
    "\n",
    "\n"
   ]
  },
  {
   "cell_type": "code",
   "execution_count": 31,
   "id": "7c41078f",
   "metadata": {},
   "outputs": [
    {
     "data": {
      "text/html": [
       "<div>\n",
       "<style scoped>\n",
       "    .dataframe tbody tr th:only-of-type {\n",
       "        vertical-align: middle;\n",
       "    }\n",
       "\n",
       "    .dataframe tbody tr th {\n",
       "        vertical-align: top;\n",
       "    }\n",
       "\n",
       "    .dataframe thead th {\n",
       "        text-align: right;\n",
       "    }\n",
       "</style>\n",
       "<table border=\"1\" class=\"dataframe\">\n",
       "  <thead>\n",
       "    <tr style=\"text-align: right;\">\n",
       "      <th></th>\n",
       "      <th>TV</th>\n",
       "      <th>Radio</th>\n",
       "      <th>Social_Media</th>\n",
       "      <th>Influencer</th>\n",
       "      <th>Sales</th>\n",
       "    </tr>\n",
       "  </thead>\n",
       "  <tbody>\n",
       "    <tr>\n",
       "      <th>0</th>\n",
       "      <td>16.0</td>\n",
       "      <td>6.566231</td>\n",
       "      <td>2.907983</td>\n",
       "      <td>Mega</td>\n",
       "      <td>54.732757</td>\n",
       "    </tr>\n",
       "    <tr>\n",
       "      <th>1</th>\n",
       "      <td>13.0</td>\n",
       "      <td>9.237765</td>\n",
       "      <td>2.409567</td>\n",
       "      <td>Mega</td>\n",
       "      <td>46.677897</td>\n",
       "    </tr>\n",
       "    <tr>\n",
       "      <th>2</th>\n",
       "      <td>41.0</td>\n",
       "      <td>15.886446</td>\n",
       "      <td>2.913410</td>\n",
       "      <td>Mega</td>\n",
       "      <td>150.177829</td>\n",
       "    </tr>\n",
       "    <tr>\n",
       "      <th>3</th>\n",
       "      <td>83.0</td>\n",
       "      <td>30.020028</td>\n",
       "      <td>6.922304</td>\n",
       "      <td>Mega</td>\n",
       "      <td>298.246340</td>\n",
       "    </tr>\n",
       "    <tr>\n",
       "      <th>4</th>\n",
       "      <td>15.0</td>\n",
       "      <td>8.437408</td>\n",
       "      <td>1.405998</td>\n",
       "      <td>Micro</td>\n",
       "      <td>56.594181</td>\n",
       "    </tr>\n",
       "    <tr>\n",
       "      <th>...</th>\n",
       "      <td>...</td>\n",
       "      <td>...</td>\n",
       "      <td>...</td>\n",
       "      <td>...</td>\n",
       "      <td>...</td>\n",
       "    </tr>\n",
       "    <tr>\n",
       "      <th>4567</th>\n",
       "      <td>26.0</td>\n",
       "      <td>4.472360</td>\n",
       "      <td>0.717090</td>\n",
       "      <td>Micro</td>\n",
       "      <td>94.685866</td>\n",
       "    </tr>\n",
       "    <tr>\n",
       "      <th>4568</th>\n",
       "      <td>71.0</td>\n",
       "      <td>20.610685</td>\n",
       "      <td>6.545573</td>\n",
       "      <td>Nano</td>\n",
       "      <td>249.101915</td>\n",
       "    </tr>\n",
       "    <tr>\n",
       "      <th>4569</th>\n",
       "      <td>44.0</td>\n",
       "      <td>19.800072</td>\n",
       "      <td>5.096192</td>\n",
       "      <td>Micro</td>\n",
       "      <td>163.631457</td>\n",
       "    </tr>\n",
       "    <tr>\n",
       "      <th>4570</th>\n",
       "      <td>71.0</td>\n",
       "      <td>17.534640</td>\n",
       "      <td>1.940873</td>\n",
       "      <td>Macro</td>\n",
       "      <td>253.610411</td>\n",
       "    </tr>\n",
       "    <tr>\n",
       "      <th>4571</th>\n",
       "      <td>42.0</td>\n",
       "      <td>15.966688</td>\n",
       "      <td>5.046548</td>\n",
       "      <td>Micro</td>\n",
       "      <td>148.202414</td>\n",
       "    </tr>\n",
       "  </tbody>\n",
       "</table>\n",
       "<p>4546 rows × 5 columns</p>\n",
       "</div>"
      ],
      "text/plain": [
       "        TV      Radio  Social_Media Influencer       Sales\n",
       "0     16.0   6.566231      2.907983       Mega   54.732757\n",
       "1     13.0   9.237765      2.409567       Mega   46.677897\n",
       "2     41.0  15.886446      2.913410       Mega  150.177829\n",
       "3     83.0  30.020028      6.922304       Mega  298.246340\n",
       "4     15.0   8.437408      1.405998      Micro   56.594181\n",
       "...    ...        ...           ...        ...         ...\n",
       "4567  26.0   4.472360      0.717090      Micro   94.685866\n",
       "4568  71.0  20.610685      6.545573       Nano  249.101915\n",
       "4569  44.0  19.800072      5.096192      Micro  163.631457\n",
       "4570  71.0  17.534640      1.940873      Macro  253.610411\n",
       "4571  42.0  15.966688      5.046548      Micro  148.202414\n",
       "\n",
       "[4546 rows x 5 columns]"
      ]
     },
     "execution_count": 31,
     "metadata": {},
     "output_type": "execute_result"
    }
   ],
   "source": [
    "# 결측치 제거\n",
    "q3 = data1.dropna()\n",
    "x_var = ['TV', 'Radio', 'Social_Media',]\n",
    "\n"
   ]
  },
  {
   "cell_type": "code",
   "execution_count": 36,
   "id": "3dc62d01",
   "metadata": {},
   "outputs": [
    {
     "data": {
      "text/plain": [
       "LinearRegression()"
      ]
     },
     "execution_count": 36,
     "metadata": {},
     "output_type": "execute_result"
    }
   ],
   "source": [
    "# 회귀 분석\n",
    "from sklearn.linear_model import LinearRegression # 데이터 기반\n",
    "from statsmodels.formula.api import ols # 모수적 방법으로 의사 결정 하는 방식, 가설 검정\n",
    "from statsmodels.api import add_constant, OLS # 상수항 미포함\n",
    "\n",
    "lm = LinearRegression(fit_intercept = True) # 상수항 포함하겠다 # default 상수항 포함\n",
    "lm.fit(q3[x_var], q3.Sales)"
   ]
  },
  {
   "cell_type": "code",
   "execution_count": null,
   "id": "e0c6a0eb",
   "metadata": {},
   "outputs": [],
   "source": [
    "dir(lm) # 사용가능한 atrribute, method 확인가능"
   ]
  },
  {
   "cell_type": "code",
   "execution_count": 38,
   "id": "107295ec",
   "metadata": {},
   "outputs": [
    {
     "data": {
      "text/plain": [
       "-0.13396305194245883"
      ]
     },
     "execution_count": 38,
     "metadata": {},
     "output_type": "execute_result"
    }
   ],
   "source": [
    "lm.intercept_ # 상수"
   ]
  },
  {
   "cell_type": "code",
   "execution_count": 39,
   "id": "6d5ad1ee",
   "metadata": {},
   "outputs": [
    {
     "data": {
      "text/plain": [
       "array([ 3.56256963, -0.00397039,  0.00496402])"
      ]
     },
     "execution_count": 39,
     "metadata": {},
     "output_type": "execute_result"
    }
   ],
   "source": [
    "lm.coef_ # 회귀계수 # 상수항 포함 여부 반드시 확인 값이 달라짐"
   ]
  },
  {
   "cell_type": "code",
   "execution_count": 42,
   "id": "abd51d27",
   "metadata": {},
   "outputs": [
    {
     "data": {
      "text/html": [
       "<div>\n",
       "<style scoped>\n",
       "    .dataframe tbody tr th:only-of-type {\n",
       "        vertical-align: middle;\n",
       "    }\n",
       "\n",
       "    .dataframe tbody tr th {\n",
       "        vertical-align: top;\n",
       "    }\n",
       "\n",
       "    .dataframe thead th {\n",
       "        text-align: right;\n",
       "    }\n",
       "</style>\n",
       "<table border=\"1\" class=\"dataframe\">\n",
       "  <thead>\n",
       "    <tr style=\"text-align: right;\">\n",
       "      <th></th>\n",
       "      <th>0</th>\n",
       "    </tr>\n",
       "  </thead>\n",
       "  <tbody>\n",
       "    <tr>\n",
       "      <th>TV</th>\n",
       "      <td>3.562570</td>\n",
       "    </tr>\n",
       "    <tr>\n",
       "      <th>Radio</th>\n",
       "      <td>-0.003970</td>\n",
       "    </tr>\n",
       "    <tr>\n",
       "      <th>Social_Media</th>\n",
       "      <td>0.004964</td>\n",
       "    </tr>\n",
       "  </tbody>\n",
       "</table>\n",
       "</div>"
      ],
      "text/plain": [
       "                     0\n",
       "TV            3.562570\n",
       "Radio        -0.003970\n",
       "Social_Media  0.004964"
      ]
     },
     "execution_count": 42,
     "metadata": {},
     "output_type": "execute_result"
    }
   ],
   "source": [
    "# 변수항 포함\n",
    "lm_out = pd.DataFrame(lm.coef_)\n",
    "lm_out.index = x_var # colums 열, 행은 index\n",
    "lm_out"
   ]
  },
  {
   "cell_type": "code",
   "execution_count": 48,
   "id": "d34fb26e",
   "metadata": {},
   "outputs": [
    {
     "data": {
      "text/html": [
       "<div>\n",
       "<style scoped>\n",
       "    .dataframe tbody tr th:only-of-type {\n",
       "        vertical-align: middle;\n",
       "    }\n",
       "\n",
       "    .dataframe tbody tr th {\n",
       "        vertical-align: top;\n",
       "    }\n",
       "\n",
       "    .dataframe thead th {\n",
       "        text-align: right;\n",
       "    }\n",
       "</style>\n",
       "<table border=\"1\" class=\"dataframe\">\n",
       "  <thead>\n",
       "    <tr style=\"text-align: right;\">\n",
       "      <th></th>\n",
       "      <th>0</th>\n",
       "    </tr>\n",
       "  </thead>\n",
       "  <tbody>\n",
       "    <tr>\n",
       "      <th>TV</th>\n",
       "      <td>3.562570</td>\n",
       "    </tr>\n",
       "    <tr>\n",
       "      <th>Social_Media</th>\n",
       "      <td>0.004964</td>\n",
       "    </tr>\n",
       "    <tr>\n",
       "      <th>Radio</th>\n",
       "      <td>-0.003970</td>\n",
       "    </tr>\n",
       "  </tbody>\n",
       "</table>\n",
       "</div>"
      ],
      "text/plain": [
       "                     0\n",
       "TV            3.562570\n",
       "Social_Media  0.004964\n",
       "Radio        -0.003970"
      ]
     },
     "execution_count": 48,
     "metadata": {},
     "output_type": "execute_result"
    }
   ],
   "source": [
    "lm_out.sort_values(by = 0, ascending = False) \n",
    "# sort_index는 이름을 기준으로 정렬\n",
    "# by = 열이름\n",
    "# ascending = False ( 내림 차순 )"
   ]
  },
  {
   "cell_type": "code",
   "execution_count": 50,
   "id": "b63b9b97",
   "metadata": {},
   "outputs": [
    {
     "data": {
      "text/html": [
       "<div>\n",
       "<style scoped>\n",
       "    .dataframe tbody tr th:only-of-type {\n",
       "        vertical-align: middle;\n",
       "    }\n",
       "\n",
       "    .dataframe tbody tr th {\n",
       "        vertical-align: top;\n",
       "    }\n",
       "\n",
       "    .dataframe thead th {\n",
       "        text-align: right;\n",
       "    }\n",
       "</style>\n",
       "<table border=\"1\" class=\"dataframe\">\n",
       "  <thead>\n",
       "    <tr style=\"text-align: right;\">\n",
       "      <th></th>\n",
       "      <th>0</th>\n",
       "    </tr>\n",
       "  </thead>\n",
       "  <tbody>\n",
       "    <tr>\n",
       "      <th>TV</th>\n",
       "      <td>3.562</td>\n",
       "    </tr>\n",
       "    <tr>\n",
       "      <th>Social_Media</th>\n",
       "      <td>0.004</td>\n",
       "    </tr>\n",
       "    <tr>\n",
       "      <th>Radio</th>\n",
       "      <td>-0.003</td>\n",
       "    </tr>\n",
       "  </tbody>\n",
       "</table>\n",
       "</div>"
      ],
      "text/plain": [
       "                  0\n",
       "TV            3.562\n",
       "Social_Media  0.004\n",
       "Radio        -0.003"
      ]
     },
     "execution_count": 50,
     "metadata": {},
     "output_type": "execute_result"
    }
   ],
   "source": [
    "lm_ans = lm_out.sort_values(by = 0, ascending = False) \n",
    "np.trunc(lm_ans*1000)/1000 # 버리라고 했기 때문에 trunc"
   ]
  },
  {
   "cell_type": "code",
   "execution_count": 53,
   "id": "0a913703",
   "metadata": {},
   "outputs": [
    {
     "data": {
      "text/plain": [
       "'Sales~TV+Radio+Social_Media'"
      ]
     },
     "execution_count": 53,
     "metadata": {},
     "output_type": "execute_result"
    }
   ],
   "source": [
    "#ols(식, 데이터셋).fit()\n",
    "#'y ~ x1+x2+c(x3)' c(x3) : 범주형 변수\n",
    "# 상수항 제거 기법\n",
    "# form = \"Sales~-1+\" + '+'.join(x_var)\n",
    "\n",
    "form = 'Sales~' + '+'.join(x_var) # join 사용하기\n",
    "form"
   ]
  },
  {
   "cell_type": "code",
   "execution_count": 54,
   "id": "e1141616",
   "metadata": {},
   "outputs": [],
   "source": [
    "ols1 = ols(form, q3).fit() # 결측지 제거한 q3 "
   ]
  },
  {
   "cell_type": "code",
   "execution_count": 55,
   "id": "8e325812",
   "metadata": {},
   "outputs": [
    {
     "data": {
      "text/plain": [
       "['HC0_se',\n",
       " 'HC1_se',\n",
       " 'HC2_se',\n",
       " 'HC3_se',\n",
       " '_HCCM',\n",
       " '__class__',\n",
       " '__delattr__',\n",
       " '__dict__',\n",
       " '__dir__',\n",
       " '__doc__',\n",
       " '__eq__',\n",
       " '__format__',\n",
       " '__ge__',\n",
       " '__getattribute__',\n",
       " '__gt__',\n",
       " '__hash__',\n",
       " '__init__',\n",
       " '__init_subclass__',\n",
       " '__le__',\n",
       " '__lt__',\n",
       " '__module__',\n",
       " '__ne__',\n",
       " '__new__',\n",
       " '__reduce__',\n",
       " '__reduce_ex__',\n",
       " '__repr__',\n",
       " '__setattr__',\n",
       " '__sizeof__',\n",
       " '__str__',\n",
       " '__subclasshook__',\n",
       " '__weakref__',\n",
       " '_abat_diagonal',\n",
       " '_cache',\n",
       " '_data_attr',\n",
       " '_data_in_cache',\n",
       " '_get_robustcov_results',\n",
       " '_is_nested',\n",
       " '_use_t',\n",
       " '_wexog_singular_values',\n",
       " 'aic',\n",
       " 'bic',\n",
       " 'bse',\n",
       " 'centered_tss',\n",
       " 'compare_f_test',\n",
       " 'compare_lm_test',\n",
       " 'compare_lr_test',\n",
       " 'condition_number',\n",
       " 'conf_int',\n",
       " 'conf_int_el',\n",
       " 'cov_HC0',\n",
       " 'cov_HC1',\n",
       " 'cov_HC2',\n",
       " 'cov_HC3',\n",
       " 'cov_kwds',\n",
       " 'cov_params',\n",
       " 'cov_type',\n",
       " 'df_model',\n",
       " 'df_resid',\n",
       " 'eigenvals',\n",
       " 'el_test',\n",
       " 'ess',\n",
       " 'f_pvalue',\n",
       " 'f_test',\n",
       " 'fittedvalues',\n",
       " 'fvalue',\n",
       " 'get_influence',\n",
       " 'get_prediction',\n",
       " 'get_robustcov_results',\n",
       " 'info_criteria',\n",
       " 'initialize',\n",
       " 'k_constant',\n",
       " 'llf',\n",
       " 'load',\n",
       " 'model',\n",
       " 'mse_model',\n",
       " 'mse_resid',\n",
       " 'mse_total',\n",
       " 'nobs',\n",
       " 'normalized_cov_params',\n",
       " 'outlier_test',\n",
       " 'params',\n",
       " 'predict',\n",
       " 'pvalues',\n",
       " 'remove_data',\n",
       " 'resid',\n",
       " 'resid_pearson',\n",
       " 'rsquared',\n",
       " 'rsquared_adj',\n",
       " 'save',\n",
       " 'scale',\n",
       " 'ssr',\n",
       " 'summary',\n",
       " 'summary2',\n",
       " 't_test',\n",
       " 't_test_pairwise',\n",
       " 'tvalues',\n",
       " 'uncentered_tss',\n",
       " 'use_t',\n",
       " 'wald_test',\n",
       " 'wald_test_terms',\n",
       " 'wresid']"
      ]
     },
     "execution_count": 55,
     "metadata": {},
     "output_type": "execute_result"
    }
   ],
   "source": [
    "dir(ols1)"
   ]
  },
  {
   "cell_type": "code",
   "execution_count": 56,
   "id": "bbca8cf1",
   "metadata": {},
   "outputs": [
    {
     "data": {
      "text/plain": [
       "Intercept      -0.133963\n",
       "TV              3.562570\n",
       "Radio          -0.003970\n",
       "Social_Media    0.004964\n",
       "dtype: float64"
      ]
     },
     "execution_count": 56,
     "metadata": {},
     "output_type": "execute_result"
    }
   ],
   "source": [
    "ols1.params"
   ]
  },
  {
   "cell_type": "code",
   "execution_count": 57,
   "id": "d2fe1851",
   "metadata": {},
   "outputs": [
    {
     "data": {
      "text/html": [
       "<table class=\"simpletable\">\n",
       "<caption>OLS Regression Results</caption>\n",
       "<tr>\n",
       "  <th>Dep. Variable:</th>          <td>Sales</td>      <th>  R-squared:         </th> <td>   0.999</td> \n",
       "</tr>\n",
       "<tr>\n",
       "  <th>Model:</th>                   <td>OLS</td>       <th>  Adj. R-squared:    </th> <td>   0.999</td> \n",
       "</tr>\n",
       "<tr>\n",
       "  <th>Method:</th>             <td>Least Squares</td>  <th>  F-statistic:       </th> <td>1.505e+06</td>\n",
       "</tr>\n",
       "<tr>\n",
       "  <th>Date:</th>             <td>Sat, 09 Oct 2021</td> <th>  Prob (F-statistic):</th>  <td>  0.00</td>  \n",
       "</tr>\n",
       "<tr>\n",
       "  <th>Time:</th>                 <td>13:42:45</td>     <th>  Log-Likelihood:    </th> <td> -11366.</td> \n",
       "</tr>\n",
       "<tr>\n",
       "  <th>No. Observations:</th>      <td>  4546</td>      <th>  AIC:               </th> <td>2.274e+04</td>\n",
       "</tr>\n",
       "<tr>\n",
       "  <th>Df Residuals:</th>          <td>  4542</td>      <th>  BIC:               </th> <td>2.277e+04</td>\n",
       "</tr>\n",
       "<tr>\n",
       "  <th>Df Model:</th>              <td>     3</td>      <th>                     </th>     <td> </td>    \n",
       "</tr>\n",
       "<tr>\n",
       "  <th>Covariance Type:</th>      <td>nonrobust</td>    <th>                     </th>     <td> </td>    \n",
       "</tr>\n",
       "</table>\n",
       "<table class=\"simpletable\">\n",
       "<tr>\n",
       "        <td></td>          <th>coef</th>     <th>std err</th>      <th>t</th>      <th>P>|t|</th>  <th>[0.025</th>    <th>0.975]</th>  \n",
       "</tr>\n",
       "<tr>\n",
       "  <th>Intercept</th>    <td>   -0.1340</td> <td>    0.103</td> <td>   -1.303</td> <td> 0.193</td> <td>   -0.336</td> <td>    0.068</td>\n",
       "</tr>\n",
       "<tr>\n",
       "  <th>TV</th>           <td>    3.5626</td> <td>    0.003</td> <td> 1051.118</td> <td> 0.000</td> <td>    3.556</td> <td>    3.569</td>\n",
       "</tr>\n",
       "<tr>\n",
       "  <th>Radio</th>        <td>   -0.0040</td> <td>    0.010</td> <td>   -0.406</td> <td> 0.685</td> <td>   -0.023</td> <td>    0.015</td>\n",
       "</tr>\n",
       "<tr>\n",
       "  <th>Social_Media</th> <td>    0.0050</td> <td>    0.025</td> <td>    0.199</td> <td> 0.842</td> <td>   -0.044</td> <td>    0.054</td>\n",
       "</tr>\n",
       "</table>\n",
       "<table class=\"simpletable\">\n",
       "<tr>\n",
       "  <th>Omnibus:</th>       <td> 0.056</td> <th>  Durbin-Watson:     </th> <td>   1.998</td>\n",
       "</tr>\n",
       "<tr>\n",
       "  <th>Prob(Omnibus):</th> <td> 0.972</td> <th>  Jarque-Bera (JB):  </th> <td>   0.034</td>\n",
       "</tr>\n",
       "<tr>\n",
       "  <th>Skew:</th>          <td>-0.001</td> <th>  Prob(JB):          </th> <td>   0.983</td>\n",
       "</tr>\n",
       "<tr>\n",
       "  <th>Kurtosis:</th>      <td> 3.013</td> <th>  Cond. No.          </th> <td>    149.</td>\n",
       "</tr>\n",
       "</table><br/><br/>Notes:<br/>[1] Standard Errors assume that the covariance matrix of the errors is correctly specified."
      ],
      "text/plain": [
       "<class 'statsmodels.iolib.summary.Summary'>\n",
       "\"\"\"\n",
       "                            OLS Regression Results                            \n",
       "==============================================================================\n",
       "Dep. Variable:                  Sales   R-squared:                       0.999\n",
       "Model:                            OLS   Adj. R-squared:                  0.999\n",
       "Method:                 Least Squares   F-statistic:                 1.505e+06\n",
       "Date:                Sat, 09 Oct 2021   Prob (F-statistic):               0.00\n",
       "Time:                        13:42:45   Log-Likelihood:                -11366.\n",
       "No. Observations:                4546   AIC:                         2.274e+04\n",
       "Df Residuals:                    4542   BIC:                         2.277e+04\n",
       "Df Model:                           3                                         \n",
       "Covariance Type:            nonrobust                                         \n",
       "================================================================================\n",
       "                   coef    std err          t      P>|t|      [0.025      0.975]\n",
       "--------------------------------------------------------------------------------\n",
       "Intercept       -0.1340      0.103     -1.303      0.193      -0.336       0.068\n",
       "TV               3.5626      0.003   1051.118      0.000       3.556       3.569\n",
       "Radio           -0.0040      0.010     -0.406      0.685      -0.023       0.015\n",
       "Social_Media     0.0050      0.025      0.199      0.842      -0.044       0.054\n",
       "==============================================================================\n",
       "Omnibus:                        0.056   Durbin-Watson:                   1.998\n",
       "Prob(Omnibus):                  0.972   Jarque-Bera (JB):                0.034\n",
       "Skew:                          -0.001   Prob(JB):                        0.983\n",
       "Kurtosis:                       3.013   Cond. No.                         149.\n",
       "==============================================================================\n",
       "\n",
       "Notes:\n",
       "[1] Standard Errors assume that the covariance matrix of the errors is correctly specified.\n",
       "\"\"\""
      ]
     },
     "execution_count": 57,
     "metadata": {},
     "output_type": "execute_result"
    }
   ],
   "source": [
    "ols1.summary()"
   ]
  },
  {
   "cell_type": "code",
   "execution_count": 58,
   "id": "0f1b0f8a",
   "metadata": {},
   "outputs": [
    {
     "data": {
      "text/plain": [
       "True"
      ]
     },
     "execution_count": 58,
     "metadata": {},
     "output_type": "execute_result"
    }
   ],
   "source": [
    "ols1.f_pvalue < 0.05"
   ]
  },
  {
   "cell_type": "code",
   "execution_count": 59,
   "id": "b0661d62",
   "metadata": {},
   "outputs": [
    {
     "data": {
      "text/plain": [
       "Index(['Intercept', 'TV', 'Radio', 'Social_Media'], dtype='object')"
      ]
     },
     "execution_count": 59,
     "metadata": {},
     "output_type": "execute_result"
    }
   ],
   "source": [
    "(ols1.pvalues < 0.05).index"
   ]
  },
  {
   "cell_type": "code",
   "execution_count": 60,
   "id": "65869afb",
   "metadata": {},
   "outputs": [
    {
     "data": {
      "text/plain": [
       "Index(['TV'], dtype='object')"
      ]
     },
     "execution_count": 60,
     "metadata": {},
     "output_type": "execute_result"
    }
   ],
   "source": [
    " ols1.pvalues.index[ols1.pvalues < 0.05] # 뽑기\n"
   ]
  },
  {
   "cell_type": "code",
   "execution_count": 64,
   "id": "622d1067",
   "metadata": {},
   "outputs": [],
   "source": [
    "x_var1 =  ols1.pvalues.index[ols1.pvalues < 0.05] # 뽑기\n",
    "\n",
    "# c. OLS\n",
    "# OLS(Y, X).fit()\n",
    "xx = add_constant(q3[x_var1])\n",
    "ols2 = OLS(q3['Sales'], q3[x_var1]).fit()\n",
    "ols3 = OLS(q3['Sales'], xx).fit()\n",
    "\n"
   ]
  },
  {
   "cell_type": "code",
   "execution_count": 65,
   "id": "f0914ba1",
   "metadata": {},
   "outputs": [
    {
     "data": {
      "text/html": [
       "<table class=\"simpletable\">\n",
       "<caption>OLS Regression Results</caption>\n",
       "<tr>\n",
       "  <th>Dep. Variable:</th>          <td>Sales</td>      <th>  R-squared (uncentered):</th>      <td>   1.000</td> \n",
       "</tr>\n",
       "<tr>\n",
       "  <th>Model:</th>                   <td>OLS</td>       <th>  Adj. R-squared (uncentered):</th> <td>   1.000</td> \n",
       "</tr>\n",
       "<tr>\n",
       "  <th>Method:</th>             <td>Least Squares</td>  <th>  F-statistic:       </th>          <td>2.386e+07</td>\n",
       "</tr>\n",
       "<tr>\n",
       "  <th>Date:</th>             <td>Sat, 09 Oct 2021</td> <th>  Prob (F-statistic):</th>           <td>  0.00</td>  \n",
       "</tr>\n",
       "<tr>\n",
       "  <th>Time:</th>                 <td>15:45:20</td>     <th>  Log-Likelihood:    </th>          <td> -11367.</td> \n",
       "</tr>\n",
       "<tr>\n",
       "  <th>No. Observations:</th>      <td>  4546</td>      <th>  AIC:               </th>          <td>2.274e+04</td>\n",
       "</tr>\n",
       "<tr>\n",
       "  <th>Df Residuals:</th>          <td>  4545</td>      <th>  BIC:               </th>          <td>2.274e+04</td>\n",
       "</tr>\n",
       "<tr>\n",
       "  <th>Df Model:</th>              <td>     1</td>      <th>                     </th>              <td> </td>    \n",
       "</tr>\n",
       "<tr>\n",
       "  <th>Covariance Type:</th>      <td>nonrobust</td>    <th>                     </th>              <td> </td>    \n",
       "</tr>\n",
       "</table>\n",
       "<table class=\"simpletable\">\n",
       "<tr>\n",
       "   <td></td>     <th>coef</th>     <th>std err</th>      <th>t</th>      <th>P>|t|</th>  <th>[0.025</th>    <th>0.975]</th>  \n",
       "</tr>\n",
       "<tr>\n",
       "  <th>TV</th> <td>    3.5595</td> <td>    0.001</td> <td> 4884.964</td> <td> 0.000</td> <td>    3.558</td> <td>    3.561</td>\n",
       "</tr>\n",
       "</table>\n",
       "<table class=\"simpletable\">\n",
       "<tr>\n",
       "  <th>Omnibus:</th>       <td> 0.055</td> <th>  Durbin-Watson:     </th> <td>   1.999</td>\n",
       "</tr>\n",
       "<tr>\n",
       "  <th>Prob(Omnibus):</th> <td> 0.973</td> <th>  Jarque-Bera (JB):  </th> <td>   0.033</td>\n",
       "</tr>\n",
       "<tr>\n",
       "  <th>Skew:</th>          <td>-0.001</td> <th>  Prob(JB):          </th> <td>   0.984</td>\n",
       "</tr>\n",
       "<tr>\n",
       "  <th>Kurtosis:</th>      <td> 3.013</td> <th>  Cond. No.          </th> <td>    1.00</td>\n",
       "</tr>\n",
       "</table><br/><br/>Notes:<br/>[1] R² is computed without centering (uncentered) since the model does not contain a constant.<br/>[2] Standard Errors assume that the covariance matrix of the errors is correctly specified."
      ],
      "text/plain": [
       "<class 'statsmodels.iolib.summary.Summary'>\n",
       "\"\"\"\n",
       "                                 OLS Regression Results                                \n",
       "=======================================================================================\n",
       "Dep. Variable:                  Sales   R-squared (uncentered):                   1.000\n",
       "Model:                            OLS   Adj. R-squared (uncentered):              1.000\n",
       "Method:                 Least Squares   F-statistic:                          2.386e+07\n",
       "Date:                Sat, 09 Oct 2021   Prob (F-statistic):                        0.00\n",
       "Time:                        15:45:20   Log-Likelihood:                         -11367.\n",
       "No. Observations:                4546   AIC:                                  2.274e+04\n",
       "Df Residuals:                    4545   BIC:                                  2.274e+04\n",
       "Df Model:                           1                                                  \n",
       "Covariance Type:            nonrobust                                                  \n",
       "==============================================================================\n",
       "                 coef    std err          t      P>|t|      [0.025      0.975]\n",
       "------------------------------------------------------------------------------\n",
       "TV             3.5595      0.001   4884.964      0.000       3.558       3.561\n",
       "==============================================================================\n",
       "Omnibus:                        0.055   Durbin-Watson:                   1.999\n",
       "Prob(Omnibus):                  0.973   Jarque-Bera (JB):                0.033\n",
       "Skew:                          -0.001   Prob(JB):                        0.984\n",
       "Kurtosis:                       3.013   Cond. No.                         1.00\n",
       "==============================================================================\n",
       "\n",
       "Notes:\n",
       "[1] R² is computed without centering (uncentered) since the model does not contain a constant.\n",
       "[2] Standard Errors assume that the covariance matrix of the errors is correctly specified.\n",
       "\"\"\""
      ]
     },
     "execution_count": 65,
     "metadata": {},
     "output_type": "execute_result"
    }
   ],
   "source": [
    "ols2.summary()"
   ]
  },
  {
   "cell_type": "code",
   "execution_count": 66,
   "id": "2692e340",
   "metadata": {},
   "outputs": [
    {
     "data": {
      "text/html": [
       "<table class=\"simpletable\">\n",
       "<caption>OLS Regression Results</caption>\n",
       "<tr>\n",
       "  <th>Dep. Variable:</th>          <td>Sales</td>      <th>  R-squared:         </th> <td>   0.999</td> \n",
       "</tr>\n",
       "<tr>\n",
       "  <th>Model:</th>                   <td>OLS</td>       <th>  Adj. R-squared:    </th> <td>   0.999</td> \n",
       "</tr>\n",
       "<tr>\n",
       "  <th>Method:</th>             <td>Least Squares</td>  <th>  F-statistic:       </th> <td>4.517e+06</td>\n",
       "</tr>\n",
       "<tr>\n",
       "  <th>Date:</th>             <td>Sat, 09 Oct 2021</td> <th>  Prob (F-statistic):</th>  <td>  0.00</td>  \n",
       "</tr>\n",
       "<tr>\n",
       "  <th>Time:</th>                 <td>15:45:37</td>     <th>  Log-Likelihood:    </th> <td> -11366.</td> \n",
       "</tr>\n",
       "<tr>\n",
       "  <th>No. Observations:</th>      <td>  4546</td>      <th>  AIC:               </th> <td>2.274e+04</td>\n",
       "</tr>\n",
       "<tr>\n",
       "  <th>Df Residuals:</th>          <td>  4544</td>      <th>  BIC:               </th> <td>2.275e+04</td>\n",
       "</tr>\n",
       "<tr>\n",
       "  <th>Df Model:</th>              <td>     1</td>      <th>                     </th>     <td> </td>    \n",
       "</tr>\n",
       "<tr>\n",
       "  <th>Covariance Type:</th>      <td>nonrobust</td>    <th>                     </th>     <td> </td>    \n",
       "</tr>\n",
       "</table>\n",
       "<table class=\"simpletable\">\n",
       "<tr>\n",
       "    <td></td>       <th>coef</th>     <th>std err</th>      <th>t</th>      <th>P>|t|</th>  <th>[0.025</th>    <th>0.975]</th>  \n",
       "</tr>\n",
       "<tr>\n",
       "  <th>const</th> <td>   -0.1325</td> <td>    0.101</td> <td>   -1.317</td> <td> 0.188</td> <td>   -0.330</td> <td>    0.065</td>\n",
       "</tr>\n",
       "<tr>\n",
       "  <th>TV</th>    <td>    3.5615</td> <td>    0.002</td> <td> 2125.272</td> <td> 0.000</td> <td>    3.558</td> <td>    3.565</td>\n",
       "</tr>\n",
       "</table>\n",
       "<table class=\"simpletable\">\n",
       "<tr>\n",
       "  <th>Omnibus:</th>       <td> 0.052</td> <th>  Durbin-Watson:     </th> <td>   1.998</td>\n",
       "</tr>\n",
       "<tr>\n",
       "  <th>Prob(Omnibus):</th> <td> 0.974</td> <th>  Jarque-Bera (JB):  </th> <td>   0.031</td>\n",
       "</tr>\n",
       "<tr>\n",
       "  <th>Skew:</th>          <td>-0.001</td> <th>  Prob(JB):          </th> <td>   0.985</td>\n",
       "</tr>\n",
       "<tr>\n",
       "  <th>Kurtosis:</th>      <td> 3.012</td> <th>  Cond. No.          </th> <td>    138.</td>\n",
       "</tr>\n",
       "</table><br/><br/>Notes:<br/>[1] Standard Errors assume that the covariance matrix of the errors is correctly specified."
      ],
      "text/plain": [
       "<class 'statsmodels.iolib.summary.Summary'>\n",
       "\"\"\"\n",
       "                            OLS Regression Results                            \n",
       "==============================================================================\n",
       "Dep. Variable:                  Sales   R-squared:                       0.999\n",
       "Model:                            OLS   Adj. R-squared:                  0.999\n",
       "Method:                 Least Squares   F-statistic:                 4.517e+06\n",
       "Date:                Sat, 09 Oct 2021   Prob (F-statistic):               0.00\n",
       "Time:                        15:45:37   Log-Likelihood:                -11366.\n",
       "No. Observations:                4546   AIC:                         2.274e+04\n",
       "Df Residuals:                    4544   BIC:                         2.275e+04\n",
       "Df Model:                           1                                         \n",
       "Covariance Type:            nonrobust                                         \n",
       "==============================================================================\n",
       "                 coef    std err          t      P>|t|      [0.025      0.975]\n",
       "------------------------------------------------------------------------------\n",
       "const         -0.1325      0.101     -1.317      0.188      -0.330       0.065\n",
       "TV             3.5615      0.002   2125.272      0.000       3.558       3.565\n",
       "==============================================================================\n",
       "Omnibus:                        0.052   Durbin-Watson:                   1.998\n",
       "Prob(Omnibus):                  0.974   Jarque-Bera (JB):                0.031\n",
       "Skew:                          -0.001   Prob(JB):                        0.985\n",
       "Kurtosis:                       3.012   Cond. No.                         138.\n",
       "==============================================================================\n",
       "\n",
       "Notes:\n",
       "[1] Standard Errors assume that the covariance matrix of the errors is correctly specified.\n",
       "\"\"\""
      ]
     },
     "execution_count": 66,
     "metadata": {},
     "output_type": "execute_result"
    }
   ],
   "source": [
    "ols3.summary()"
   ]
  },
  {
   "cell_type": "markdown",
   "id": "8497b2fd",
   "metadata": {},
   "source": [
    "\n",
    " =============================================================================\n",
    " 문제 02 유형(DataSet_02.csv 이용)\n",
    " 구분자 : comma(“,”), 200 Rows, 6 Columns, UTF-8 인코딩\n",
    "\n",
    " 환자의 상태와 그에 따라 처방된 약에 대한 정보를 분석하고자한다\n",
    " \n",
    " 컬 럼 / 정 의  / Type\n",
    " Age  / 연령 / Integer\n",
    " Sex / 성별 / String\n",
    " BP / 혈압 레벨 / String\n",
    " Cholesterol / 콜레스테롤 레벨 /  String\n",
    " Na_to_k / 혈액 내 칼륨에 대비한 나트륨 비율 / Double\n",
    " Drug / Drug Type / String\n"
   ]
  },
  {
   "cell_type": "code",
   "execution_count": 67,
   "id": "69d7f352",
   "metadata": {},
   "outputs": [
    {
     "name": "stdout",
     "output_type": "stream",
     "text": [
      "<class 'pandas.core.frame.DataFrame'>\n",
      "RangeIndex: 200 entries, 0 to 199\n",
      "Data columns (total 6 columns):\n",
      " #   Column       Non-Null Count  Dtype  \n",
      "---  ------       --------------  -----  \n",
      " 0   Age          200 non-null    int64  \n",
      " 1   Sex          200 non-null    object \n",
      " 2   BP           200 non-null    object \n",
      " 3   Cholesterol  200 non-null    object \n",
      " 4   Na_to_K      200 non-null    float64\n",
      " 5   Drug         200 non-null    object \n",
      "dtypes: float64(1), int64(1), object(4)\n",
      "memory usage: 9.5+ KB\n"
     ]
    }
   ],
   "source": [
    "import pandas as pd\n",
    "\n",
    "data2 = pd.read_csv('Dataset_02.csv')\n"
   ]
  },
  {
   "cell_type": "markdown",
   "id": "06fcef52",
   "metadata": {},
   "source": [
    "#=============================================================================\n",
    " 1.해당 데이터에 대한 EDA를 수행하고, 여성으로 혈압이 High, Cholesterol이 Normal인\n",
    " 환자의 전체에 대비한 비율이 얼마인지 소수점 네 번째 자리에서 반올림하여 소수점 셋째\n",
    " 자리까지 기술하시오. (답안 예시) 0.123\n",
    " \n",
    "\n",
    "\n",
    "\n",
    "\n"
   ]
  },
  {
   "cell_type": "code",
   "execution_count": 69,
   "id": "62a802ea",
   "metadata": {},
   "outputs": [
    {
     "data": {
      "text/plain": [
       "Index(['Age', 'Sex', 'BP', 'Cholesterol', 'Na_to_K', 'Drug'], dtype='object')"
      ]
     },
     "execution_count": 69,
     "metadata": {},
     "output_type": "execute_result"
    }
   ],
   "source": [
    "data2.columns"
   ]
  },
  {
   "cell_type": "code",
   "execution_count": 70,
   "id": "59124d54",
   "metadata": {},
   "outputs": [
    {
     "data": {
      "text/plain": [
       "Sex  BP      Cholesterol\n",
       "F    HIGH    NORMAL         21\n",
       "M    HIGH    NORMAL         21\n",
       "     LOW     NORMAL         19\n",
       "     NORMAL  HIGH           19\n",
       "F    NORMAL  HIGH           18\n",
       "M    HIGH    HIGH           18\n",
       "F    HIGH    HIGH           17\n",
       "M    LOW     HIGH           17\n",
       "F    LOW     HIGH           14\n",
       "             NORMAL         14\n",
       "     NORMAL  NORMAL         12\n",
       "M    NORMAL  NORMAL         10\n",
       "dtype: int64"
      ]
     },
     "execution_count": 70,
     "metadata": {},
     "output_type": "execute_result"
    }
   ],
   "source": [
    "data2[['Sex','BP', 'Cholesterol']].value_counts()"
   ]
  },
  {
   "cell_type": "code",
   "execution_count": 73,
   "id": "05a755b4",
   "metadata": {},
   "outputs": [],
   "source": [
    "q1 = data2[['Sex','BP', 'Cholesterol']].value_counts(normalize = True)"
   ]
  },
  {
   "cell_type": "code",
   "execution_count": 74,
   "id": "b371d208",
   "metadata": {},
   "outputs": [
    {
     "data": {
      "text/plain": [
       "MultiIndex([('F',   'HIGH', 'NORMAL'),\n",
       "            ('M',   'HIGH', 'NORMAL'),\n",
       "            ('M',    'LOW', 'NORMAL'),\n",
       "            ('M', 'NORMAL',   'HIGH'),\n",
       "            ('F', 'NORMAL',   'HIGH'),\n",
       "            ('M',   'HIGH',   'HIGH'),\n",
       "            ('F',   'HIGH',   'HIGH'),\n",
       "            ('M',    'LOW',   'HIGH'),\n",
       "            ('F',    'LOW',   'HIGH'),\n",
       "            ('F',    'LOW', 'NORMAL'),\n",
       "            ('F', 'NORMAL', 'NORMAL'),\n",
       "            ('M', 'NORMAL', 'NORMAL')],\n",
       "           names=['Sex', 'BP', 'Cholesterol'])"
      ]
     },
     "execution_count": 74,
     "metadata": {},
     "output_type": "execute_result"
    }
   ],
   "source": [
    "q1.index"
   ]
  },
  {
   "cell_type": "code",
   "execution_count": 75,
   "id": "6449a16b",
   "metadata": {},
   "outputs": [
    {
     "data": {
      "text/plain": [
       "0.105"
      ]
     },
     "execution_count": 75,
     "metadata": {},
     "output_type": "execute_result"
    }
   ],
   "source": [
    "q1[('F',   'HIGH', 'NORMAL')] # 정답"
   ]
  },
  {
   "cell_type": "code",
   "execution_count": 76,
   "id": "d3003dfc",
   "metadata": {},
   "outputs": [
    {
     "data": {
      "text/plain": [
       "0.105"
      ]
     },
     "execution_count": 76,
     "metadata": {},
     "output_type": "execute_result"
    }
   ],
   "source": [
    "# 방법 2 구 버전에서 사용하는 방법\n",
    "\n",
    "q1_cross = pd.crosstab(index = [data2['Sex'],data2['BP']], columns = data2['Cholesterol'],\n",
    "                      normalize = True)\n",
    "\n",
    "q1_cross.loc[('F',   'HIGH'), 'NORMAL']"
   ]
  },
  {
   "cell_type": "markdown",
   "id": "513fbbc3",
   "metadata": {},
   "source": [
    " =============================================================================\n",
    "2. Age, Sex, BP, Cholesterol 및 Na_to_k 값이 Drug 타입에 영향을 미치는지 확인하기\n",
    "위하여 아래와 같이 데이터를 변환하고 분석을 수행하시오. \n",
    "- Age_gr 컬럼을 만들고, Age가 20 미만은 ‘10’, 20부터 30 미만은 ‘20’, 30부터 40 미만은\n",
    "‘30’, 40부터 50 미만은 ‘40’, 50부터 60 미만은 ‘50’, 60이상은 ‘60’으로 변환하시오. \n",
    "- Na_K_gr 컬럼을 만들고 Na_to_k 값이 10이하는 ‘Lv1’, 20이하는 ‘Lv2’, 30이하는 ‘Lv3’, 30 \n",
    "초과는 ‘Lv4’로 변환하시오.\n",
    "- Sex, BP, Cholesterol, Age_gr, Na_K_gr이 Drug 변수와 영향이 있는지 독립성 검정을\n",
    "수행하시오.\n",
    "- 검정 수행 결과, Drug 타입과 연관성이 있는 변수는 몇 개인가? 연관성이 있는 변수\n",
    "가운데 가장 큰 p-value를 찾아 소수점 여섯 번째 자리 이하는 버리고 소수점 다섯\n",
    "번째 자리까지 기술하시오.\n",
    "(답안 예시) 3, 1.23456\n",
    "\n",
    "===============================================================================\n",
    "\n",
    "\n",
    "\n",
    "\n",
    "\n",
    "\n"
   ]
  },
  {
   "cell_type": "code",
   "execution_count": 102,
   "id": "9454395f",
   "metadata": {},
   "outputs": [
    {
     "name": "stdout",
     "output_type": "stream",
     "text": [
      "     Age Sex      BP Cholesterol  Na_to_K   Drug  Age_gr Na_K_gr\n",
      "0     23   F    HIGH        HIGH   25.355  DrugY      20     Lv3\n",
      "1     47   M     LOW        HIGH   13.093  drugC      40     Lv2\n",
      "2     47   M     LOW        HIGH   10.114  drugC      40     Lv2\n",
      "3     28   F  NORMAL        HIGH    7.798  drugX      20     Lv1\n",
      "4     61   F     LOW        HIGH   18.043  DrugY      60     Lv2\n",
      "..   ...  ..     ...         ...      ...    ...     ...     ...\n",
      "195   56   F     LOW        HIGH   11.567  drugC      50     Lv2\n",
      "196   16   M     LOW        HIGH   12.006  drugC      10     Lv2\n",
      "197   52   M  NORMAL        HIGH    9.894  drugX      50     Lv1\n",
      "198   23   M  NORMAL      NORMAL   14.020  drugX      20     Lv2\n",
      "199   40   F     LOW      NORMAL   11.349  drugX      40     Lv2\n",
      "\n",
      "[200 rows x 8 columns]\n"
     ]
    }
   ],
   "source": [
    "# 변수 변환 : Age_gr, Na_K_gr\n",
    "import numpy as np\n",
    "q2 = data2.copy()\n",
    "\n",
    "# 일정한 구간으로 끊을 것이라면 cut, 지속 적이라면 끊으려면 np.where\n",
    "# ifelse\n",
    "# np.where(조건) : 조건에 해당하는 위치값을 리턴\n",
    "# np.where(조건, 창인경우 실행문, 거짓인 경우 실행문)\n",
    "q2['Age_gr'] = np.where(q2['Age'] < 20 , 10, \n",
    "                        np.where(q2['Age']<30 , 20, \n",
    "                                np.where(q2['Age'] < 40, 30,\n",
    "                                        np.where(q2['Age'] < 50, 40,\n",
    "                                                np.where(q2['Age']< 60, 50 , 60)))))\n",
    "\n",
    "q2['Na_K_gr'] = np.where(q2['Na_to_K'] <= 10, 'Lv1',\n",
    "                        np.where(q2['Na_to_K'] <= 20, 'Lv2',\n",
    "                                np.where(q2['Na_to_K'] <= 30, 'Lv3', 'Lv4' )))\n",
    "\n",
    "# 빈도 - 카이제곱 검정을 하기 위함\n",
    "q2.columns\n",
    "# [ 'Sex', 'BP', 'Cholesterol', 'Drug', 'Age_gr','Na_K_gr']\n",
    "\n",
    "temp = pd.crosstab(index = q2['Sex'], columns = q2['Drug'])\n",
    "temp\n",
    "\n",
    "# 빈도를 입력으로 카이제곱 검정 진행\n",
    "from scipy.stats import chi2_contingency\n",
    "\n",
    "chi2_contingency(temp)\n",
    "# (2.119248418109203, chi2 통계량\n",
    "#  0.7138369773987128, pvalue\n",
    "#  4, # 자유도\n",
    "#  array([[43.68, 11.04,  7.68,  7.68, 25.92],\n",
    "#         [47.32, 11.96,  8.32,  8.32, 28.08]]))\n"
   ]
  },
  {
   "cell_type": "code",
   "execution_count": 108,
   "id": "8b11d0ea",
   "metadata": {},
   "outputs": [
    {
     "data": {
      "text/plain": [
       "0.0007"
      ]
     },
     "execution_count": 108,
     "metadata": {},
     "output_type": "execute_result"
    }
   ],
   "source": [
    "# 변수 별로 쌍으로 진행( 반복 기능 포함 )\n",
    "var_list = [ 'Sex', 'BP', 'Cholesterol',  'Age_gr','Na_K_gr']\n",
    "\n",
    "q2_out = []\n",
    "\n",
    "for i in var_list:\n",
    "    temp = pd.crosstab(index = q2[i], columns = q2['Drug'])\n",
    "#     print(temp, i)\n",
    "    pvalue = chi2_contingency(temp)[1]\n",
    "    q2_out.append([i, pvalue])\n",
    "    \n",
    "# 연관성이 있다 ( 귀무 가설 기각 되는 변수 목록 ( 통계량인지 이름인지) )\n",
    "q2_out\n",
    "q2_out = pd.DataFrame(q2_out, columns =['var', 'pvalue'])\n",
    "\n",
    "q2_ans = q2_out[q2_out.pvalue < 0.05]['pvalue'].max()\n",
    "\n",
    "np.trunc(q2_ans*100000)/100000"
   ]
  },
  {
   "cell_type": "markdown",
   "id": "251df05c",
   "metadata": {},
   "source": [
    "=============================================================================\n",
    "3.Sex, BP, Cholesterol 등 세 개의 변수를 다음과 같이 변환하고 의사결정나무를 이용한\n",
    "분석을 수행하시오.\n",
    "- Sex는 M을 0, F를 1로 변환하여 Sex_cd 변수 생성\n",
    "- BP는 LOW는 0, NORMAL은 1 그리고 HIGH는 2로 변환하여 BP_cd 변수 생성\n",
    "- Cholesterol은 NORMAL은 0, HIGH는 1로 변환하여 Ch_cd 생성\n",
    "- Age, Na_to_k, Sex_cd, BP_cd, Ch_cd를 Feature로, Drug을 Label로 하여 의사결정나무를\n",
    "수행하고 Root Node의 split feature와 split value를 기술하시오. \n",
    "이 때 split value는 소수점 셋째 자리까지 반올림하여 기술하시오. (답안 예시) Age, \n",
    "12.345\n",
    "\n",
    "\n",
    "\n",
    "\n",
    "\n",
    "\n",
    "\n",
    "\n",
    "\n",
    "\n",
    "\n",
    "\n",
    "\n"
   ]
  },
  {
   "cell_type": "code",
   "execution_count": 110,
   "id": "962126dc",
   "metadata": {},
   "outputs": [],
   "source": [
    "# 결측치 없어야 딤, 입력 변수는 수치형 변수로 구성\n",
    "\n",
    "# 변수 변환\n",
    "\n",
    "q3 = data2.copy()\n",
    "# q3['Sex'].value_counts() 를 통해 label 결측치 확인해야함\n",
    "q3[\"Sex_cd\"] = np.where(q3['Sex'] == 'M', 0 , 1)\n",
    "q3['BP_cd'] = np.where(q3['BP'] == 'LOW' , 0 , \n",
    "                     np.where(q3['BP'] == 'NORMAL' , 1 , 2))\n",
    "q3['Ch_cd'] = np.where(q3['Cholesterol'] == 'NORMAL', 0, 1)"
   ]
  },
  {
   "cell_type": "code",
   "execution_count": 118,
   "id": "629033bd",
   "metadata": {},
   "outputs": [],
   "source": [
    "from sklearn.tree import DecisionTreeClassifier, export_text, plot_tree\n",
    "\n",
    "x_var = ['Age','Na_to_K','Sex_cd', 'BP_cd','Ch_cd']\n",
    "dt = DecisionTreeClassifier().fit(q3[x_var], q3.Drug)"
   ]
  },
  {
   "cell_type": "code",
   "execution_count": 120,
   "id": "06f96c1f",
   "metadata": {},
   "outputs": [
    {
     "data": {
      "text/plain": [
       "'|--- Na_to_K <= 14.83\\n|   |--- BP_cd <= 1.50\\n|   |   |--- BP_cd <= 0.50\\n|   |   |   |--- Ch_cd <= 0.50\\n|   |   |   |   |--- class: drugX\\n|   |   |   |--- Ch_cd >  0.50\\n|   |   |   |   |--- class: drugC\\n|   |   |--- BP_cd >  0.50\\n|   |   |   |--- class: drugX\\n|   |--- BP_cd >  1.50\\n|   |   |--- Age <= 50.50\\n|   |   |   |--- class: drugA\\n|   |   |--- Age >  50.50\\n|   |   |   |--- class: drugB\\n|--- Na_to_K >  14.83\\n|   |--- class: DrugY\\n'"
      ]
     },
     "execution_count": 120,
     "metadata": {},
     "output_type": "execute_result"
    },
    {
     "data": {
      "image/png": "[encoded data removed]",
      "text/plain": [
       "<Figure size 432x288 with 1 Axes>"
      ]
     },
     "metadata": {
      "needs_background": "light"
     },
     "output_type": "display_data"
    }
   ],
   "source": [
    "ylab = list(q3.Drug.unique())\n",
    "\n",
    "plot_tree(dt, max_depth = 2,\n",
    "         feature_names = x_var,\n",
    "         class_names = ylab,\n",
    "         precision = 4,\n",
    "         fontsize = 10)\n",
    "\n",
    "export_text(dt, feature_names = x_var)"
   ]
  },
  {
   "cell_type": "markdown",
   "id": "2c15186e",
   "metadata": {},
   "source": [
    "\n",
    "=============================================================================\n",
    " 문제 03 유형(DataSet_03.csv 이용)\n",
    "\n",
    "구분자 : comma(“,”), 5,001 Rows, 8 Columns, UTF-8 인코딩\n",
    "안경 체인을 운영하고 있는 한 회사에서 고객 사진을 바탕으로 안경의 사이즈를\n",
    "맞춤 제작하는 비즈니스를 기획하고 있다. 우선 데이터만으로 고객의 성별을\n",
    "파악하는 것이 가능할 지를 연구하고자 한다.\n",
    "\n",
    "컬 럼 / 정 의 / Type\n",
    "long_hair / 머리카락 길이 (0 – 길지 않은 경우 / 1 – 긴\n",
    "경우) / Integer\n",
    "forehead_width_cm / 이마의 폭 (cm) / Double\n",
    "forehead_height_cm / 이마의 높이 (cm) / Double\n",
    "nose_wide / 코의 넓이 (0 – 넓지 않은 경우 / 1 – 넓은 경우) / Integer\n",
    "nose_long / 코의 길이 (0 – 길지 않은 경우 / 1 – 긴 경우) / Integer\n",
    "lips_thin / 입술이 얇은지 여부 0 – 얇지 않은 경우 / 1 –\n",
    "얇은 경우) / Integer\n",
    "distance_nose_to_lip_long / 인중의 길이(0 – 인중이 짧은 경우 / 1 – 인중이\n",
    "긴 경우) / Integer\n",
    "gender / 성별 (Female / Male) / String\n"
   ]
  },
  {
   "cell_type": "markdown",
   "id": "02e79ed0",
   "metadata": {},
   "source": [
    " =============================================================================\n",
    "1.이마의 폭(forehead_width_cm)과 높이(forehead_height_cm) 사이의\n",
    "비율(forehead_ratio)에 대해서 평균으로부터 3 표준편차 밖의 경우를 이상치로\n",
    "정의할 때, 이상치에 해당하는 데이터는 몇 개인가? (답안 예시) 10\n",
    "\n",
    "\n",
    "\n",
    "\n",
    "\n",
    "\n",
    "\n",
    "\n",
    "\n"
   ]
  },
  {
   "cell_type": "markdown",
   "id": "d3863921",
   "metadata": {},
   "source": [
    "#=============================================================================\n",
    "2.성별에 따라 forehead_ratio 평균에 차이가 있는지 적절한 통계 검정을 수행하시오.\n",
    "- 검정은 이분산을 가정하고 수행한다.\n",
    "- 검정통계량의 추정치는 절대값을 취한 후 소수점 셋째 자리까지 반올림하여\n",
    "기술하시오.\n",
    "- 신뢰수준 99%에서 양측 검정을 수행하고 결과는 귀무가설 기각의 경우 Y로, 그렇지\n",
    "않을 경우 N으로 답하시오. (답안 예시) 1.234, Y\n",
    "\n",
    "\n",
    "\n",
    "\n",
    "\n",
    "\n",
    "\n"
   ]
  },
  {
   "cell_type": "markdown",
   "id": "5085de59",
   "metadata": {},
   "source": [
    "=============================================================================\n",
    "3.주어진 데이터를 사용하여 성별을 구분할 수 있는지 로지스틱 회귀분석을 적용하여\n",
    "알아 보고자 한다. \n",
    "- 데이터를 7대 3으로 나누어 각각 Train과 Test set로 사용한다. 이 때 seed는 123으로\n",
    "한다.\n",
    "- 원 데이터에 있는 7개의 변수만 Feature로 사용하고 gender를 label로 사용한다.\n",
    "(forehead_ratio는 사용하지 않음)\n",
    "- 로지스틱 회귀분석 예측 함수와 Test dataset를 사용하여 예측을 수행하고 정확도를\n",
    "평가한다. 이 때 임계값은 0.5를 사용한다. \n",
    "- Male의 Precision 값을 소수점 둘째 자리까지 반올림하여 기술하시오. (답안 예시) \n",
    "0.12\n",
    "\n",
    "\n",
    "(참고) \n",
    "from sklearn.linear_model import LogisticRegression\n",
    "from sklearn.model_selection import train_test_split\n",
    "from sklearn import metrics\n",
    "train_test_split 의 random_state = 123\n",
    "\n",
    "\n",
    "\n",
    "\n",
    "\n",
    "\n",
    "\n",
    "\n",
    "\n",
    "\n",
    "\n",
    "\n"
   ]
  },
  {
   "cell_type": "markdown",
   "id": "73c96fcb",
   "metadata": {},
   "source": [
    "\n",
    "=============================================================================\n",
    "문제 04 유형(DataSet_04.csv 이용)\n",
    "\n",
    "구분자 : comma(“,”), 6,718 Rows, 4 Columns, UTF-8 인코딩\n",
    "\n",
    "한국인의 식생활 변화가 건강에 미치는 영향을 분석하기에 앞서 육류\n",
    "소비량에 대한 분석을 하려고 한다. 확보한 데이터는 세계 각국의 1인당\n",
    "육류 소비량 데이터로 아래와 같은 내용을 담고 있다.\n",
    "\n",
    "컬 럼 / 정 의 / Type\n",
    "LOCATION / 국가명 / String\n",
    "SUBJECT / 육류 종류 (BEEF / PIG / POULTRY / SHEEP) / String\n",
    "TIME / 연도 (1990 ~ 2026) / Integer\n",
    "Value / 1인당 육류 소비량 (KG) / Double\n",
    "\n",
    "=============================================================================\n",
    "(참고)\n",
    "\n",
    "import pandas as pd\n",
    "import numpy as np\n",
    "\n",
    "from scipy.stats import ttest_rel\n",
    "\n",
    "from sklearn.linear_model import LinearRegression"
   ]
  },
  {
   "cell_type": "markdown",
   "id": "d8ef60c9",
   "metadata": {},
   "source": [
    "=============================================================================\n",
    "1.한국인의 1인당 육류 소비량이 해가 갈수록 증가하는 것으로 보여 상관분석을 통하여\n",
    "확인하려고 한다. \n",
    "- 데이터 파일로부터 한국 데이터만 추출한다. 한국은 KOR로 표기되어 있다.\n",
    "- 년도별 육류 소비량 합계를 구하여 TIME과 Value간의 상관분석을 수행하고\n",
    "상관계수를 소수점 셋째 자리에서 반올림하여 소수점 둘째 자리까지만 기술하시오. \n",
    "(답안 예시) 0.55\n",
    "\n",
    "=============================================================================\n",
    "\n",
    "\n",
    "\n",
    "\n",
    "\n"
   ]
  },
  {
   "cell_type": "markdown",
   "id": "caeed1ba",
   "metadata": {},
   "source": [
    " =============================================================================\n",
    "2. 한국 인근 국가 가운데 식생의 유사성이 상대적으로 높은 일본(JPN)과 비교하여, 연도별\n",
    "소비량에 평균 차이가 있는지 분석하고자 한다.\n",
    "- 두 국가의 육류별 소비량을 연도기준으로 비교하는 대응표본 t 검정을 수행하시오.\n",
    "- 두 국가 간의 연도별 소비량 차이가 없는 것으로 판단할 수 있는 육류 종류를 모두\n",
    "적으시오. (알파벳 순서) (답안 예시) BEEF, PIG, POULTRY, SHEEP\n",
    "\n",
    "=============================================================================\n",
    "\n",
    "\n",
    "\n",
    "\n"
   ]
  },
  {
   "cell_type": "markdown",
   "id": "7b4dcde2",
   "metadata": {},
   "source": [
    "=============================================================================\n",
    "3.(한국만 포함한 데이터에서) Time을 독립변수로, Value를 종속변수로 하여 육류\n",
    "종류(SUBJECT) 별로 회귀분석을 수행하였을 때, 가장 높은 결정계수를 가진 모델의\n",
    "학습오차 중 MAPE를 반올림하여 소수점 둘째 자리까지 기술하시오. (답안 예시) 21.12\n",
    "(MAPE : Mean Absolute Percentage Error, 평균 절대 백분율 오차)\n",
    "(MAPE = Σ ( | y - y ̂ | / y ) * 100/n ))\n",
    "\n",
    "=============================================================================\n",
    "\n",
    "\n",
    "\n",
    "\n",
    "\n",
    "\n",
    "\n",
    "\n",
    "\n",
    "\n",
    "\n"
   ]
  },
  {
   "cell_type": "markdown",
   "id": "b49128e6",
   "metadata": {
    "lines_to_next_cell": 2
   },
   "source": [
    "=============================================================================\n",
    "#문제 05 유형(DataSet_05.csv 이용)\n",
    "\n",
    "구분자 : comma(“,”), 8,068 Rows, 12 Columns, UTF-8 인코딩\n",
    "\n",
    "A자동차 회사는 신규 진입하는 시장에 기존 모델을 판매하기 위한 마케팅 전략을 \n",
    "세우려고 한다. 기존 시장과 고객 특성이 유사하다는 전제 하에 기존 고객을 세분화하여\n",
    "각 그룹의 특징을 파악하고, 이를 이용하여 신규 진입 시장의 마케팅 계획을 \n",
    "수립하고자 한다. 다음은 기존 시장 고객에 대한 데이터이다.\n",
    "\n",
    "\n",
    "컬 럼 / 정 의 / Type\n",
    "ID / 고유 식별자 / Double\n",
    "Age / 나이 / Double\n",
    "Age_gr / 나이 그룹 (10/20/30/40/50/60/70) / Double\n",
    "Gender / 성별 (여성 : 0 / 남성 : 1) / Double\n",
    "Work_Experience / 취업 연수 (0 ~ 14) / Double\n",
    "Family_Size / 가족 규모 (1 ~ 9) / Double\n",
    "Ever_Married / 결혼 여부 (Unknown : 0 / No : 1 / Yes : 2) / Double\n",
    "Graduated / 재학 중인지 여부 / Double\n",
    "Profession / 직업 (Unknown : 0 / Artist ~ Marketing 등 9개) / Double\n",
    "Spending_Score / 소비 점수 (Average : 0 / High : 1 / Low : 2) / Double\n",
    "Var_1 / 내용이 알려지지 않은 고객 분류 코드 (0 ~ 7) / Double\n",
    "Segmentation / 고객 세분화 결과 (A ~ D) / String\n",
    "\n",
    "=============================================================================\n",
    "\n",
    "\n",
    "(참고)\n",
    "\n",
    "import pandas as pd\n",
    "\n",
    "from scipy.stats import chi2_contingency\n",
    "\n",
    "from sklearn.model_selection import train_test_split\n",
    "from sklearn import metrics\n",
    "from sklearn.tree import DecisionTreeClassifier\n",
    "from sklearn.tree import export_graphviz\n",
    "import pydot"
   ]
  },
  {
   "cell_type": "markdown",
   "id": "68d7679c",
   "metadata": {},
   "source": [
    "=============================================================================\n",
    "1.위의 표에 표시된 데이터 타입에 맞도록 전처리를 수행하였을 때, 데이터 파일 내에\n",
    "존재하는 결측값은 모두 몇 개인가? 숫자형 데이터와 문자열 데이터의 결측값을\n",
    "모두 더하여 답하시오.\n",
    "(String 타입 변수의 경우 White Space(Blank)를 결측으로 처리한다) (답안 예시) 123\n",
    "\n",
    "=============================================================================\n",
    "\n",
    "\n",
    "\n",
    "\n"
   ]
  },
  {
   "cell_type": "markdown",
   "id": "f17361ee",
   "metadata": {},
   "source": [
    "=============================================================================\n",
    "2.이어지는 분석을 위해 결측값을 모두 삭제한다. 그리고, 성별이 세분화(Segmentation)에\n",
    "영향을 미치는지 독립성 검정을 수행한다. 수행 결과, p-value를 반올림하여 소수점\n",
    "넷째 자리까지 쓰고, 귀무가설을 기각하면 Y로, 기각할 수 없으면 N으로 기술하시오. \n",
    "(답안 예시) 0.2345, N\n",
    "\n",
    "=============================================================================\n",
    "\n",
    "\n",
    "\n"
   ]
  },
  {
   "cell_type": "markdown",
   "id": "00bf7d08",
   "metadata": {
    "lines_to_next_cell": 2
   },
   "source": [
    "=============================================================================\n",
    "3.Segmentation 값이 A 또는 D인 데이터만 사용하여 의사결정 나무 기법으로 분류\n",
    "정확도를\n",
    "측정해 본다. \n",
    "- 결측치가 포함된 행은 제거한 후 진행하시오.\n",
    "- Train대 Test 7대3으로 데이터를 분리한다. (Seed = 123)\n",
    "- Train 데이터를 사용하여 의사결정나무 학습을 수행하고, Test 데이터로 평가를\n",
    "수행한다.\n",
    "- 의사결정나무 학습 시, 다음과 같이 설정하시오:\n",
    "• Feature: Age_gr, Gender, Work_Experience, Family_Size, \n",
    "            Ever_Married, Graduated, Spending_Score\n",
    "• Label : Segmentation\n",
    "• Parameter : Gini / Max Depth = 7 / Seed = 123\n",
    "이 때 전체 정확도(Accuracy)를 소수점 셋째 자리 이하는 버리고 소수점 둘째자리까지\n",
    "기술하시오.\n",
    "(답안 예시) 0.12\n",
    "\n",
    "=============================================================================\n",
    "\n"
   ]
  }
 ],
 "metadata": {
  "jupytext": {
   "cell_metadata_filter": "-all",
   "encoding": "# -*- coding: utf-8 -*-",
   "formats": "auto:percent,ipynb",
   "notebook_metadata_filter": "-all"
  },
  "kernelspec": {
   "display_name": "Python 3",
   "language": "python",
   "name": "python3"
  },
  "language_info": {
   "codemirror_mode": {
    "name": "ipython",
    "version": 3
   },
   "file_extension": ".py",
   "mimetype": "text/x-python",
   "name": "python",
   "nbconvert_exporter": "python",
   "pygments_lexer": "ipython3",
   "version": "3.8.10"
  }
 },
 "nbformat": 4,
 "nbformat_minor": 5
}
