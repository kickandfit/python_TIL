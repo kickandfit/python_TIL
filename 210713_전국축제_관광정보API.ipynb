{
 "cells": [
  {
   "cell_type": "code",
   "execution_count": 10,
   "id": "70826401",
   "metadata": {},
   "outputs": [],
   "source": [
    "import requests\n",
    "from bs4 import BeautifulSoup as bs\n",
    "import pandas as pd\n",
    "from tqdm import tqdm"
   ]
  },
  {
   "cell_type": "code",
   "execution_count": 11,
   "id": "74b40165",
   "metadata": {},
   "outputs": [
    {
     "name": "stdout",
     "output_type": "stream",
     "text": [
      "<?xml version=\"1.0\" encoding=\"UTF-8\" standalone=\"yes\"?><response><header><resultcode>0000</resultcode><resultmsg>OK</resultmsg></header><body><items><item><addr1>충청남도 부여군 규암면 백제문로 388</addr1><areacode>34</areacode><cat1>A02</cat1><cat2>A0208</cat2><cat3>A02080100</cat3><contentid>1258353</contentid><contenttypeid>15</contenttypeid><createdtime>20110418095420</createdtime><eventenddate>20211030</eventenddate><eventstartdate>20210306</eventstartdate><firstimage>http://tong.visitkorea.or.kr/cms/resource/54/2483454_image2_1.JPG</firstimage><firstimage2>http://tong.visitkorea.or.kr/cms/resource/54/2483454_image2_1.JPG</firstimage2><mapx>126.8997016069</mapx><mapy>36.3048428766</mapy><mlevel>6</mlevel><modifiedtime>20210226112411</modifiedtime><readcount>56458</readcount><sigungucode>6</sigungucode><tel>041-832-5765</tel><title>가무악극으로 만나는 토요 상설공연</title></item><item><addr1>경상북도 칠곡군 가산면 학하들안2길 105</addr1><areacode>35</areacode><cat1>A02</cat1><cat2>A0207</cat2><cat3>A02070200</cat3><contentid>2709958</contentid><contenttypeid>15</contenttypeid><createdtime>20210316170348</createdtime><eventenddate>20210630</eventenddate><eventstartdate>20210320</eventstartdate><firstimage>http://tong.visitkorea.or.kr/cms/resource/89/2713489_image2_1.jpg</firstimage><firstimage2>http://tong.visitkorea.or.kr/cms/resource/89/2713489_image2_1.jpg</firstimage2><mapx>128.4850691574</mapx><mapy>36.0861545517</mapy><mlevel>6</mlevel><modifiedtime>20210409093816</modifiedtime><readcount>0</readcount><sigungucode>22</sigungucode><tel>054-971-9861</tel><title>가산수피아 '봄의 정원'</title></item><item><addr1>경기도 양평군 단월면 곱다니길 55-2 수미마을 방문객센터</addr1><areacode>31</areacode><cat1>A02</cat1><cat2>A0208</cat2><cat3>A02081300</cat3><contentid>2704330</contentid><contenttypeid>15</contenttypeid><createdtime>20210119152643</createdtime><eventenddate>20211231</eventenddate><eventstartdate>20210116</eventstartdate><firstimage>http://tong.visitkorea.or.kr/cms/resource/26/2704326_image2_1.JPG</firstimage><firstimage2>http://tong.visitkorea.or.kr/cms/resource/26/2704326_image2_1.JPG</firstimage2><mapx>127.6574135888</mapx><mapy>37.5145504080</mapy><mlevel>6</mlevel><modifiedtime>20210119152643</modifiedtime><readcount>0</readcount><sigungucode>19</sigungucode><tel>031-775-5205</tel><title>가족끼리 빙어체험 2021</title></item><item><addr1>경기도 양평군 단월면 곱다니길 55-2</addr1><areacode>31</areacode><cat1>A02</cat1><cat2>A0207</cat2><cat3>A02070200</cat3><contentid>1820268</contentid><contenttypeid>15</contenttypeid><createdtime>20130617093258</createdtime><eventenddate>20210606</eventenddate><eventstartdate>20210301</eventstartdate><firstimage>http://tong.visitkorea.or.kr/cms/resource/96/2707496_image2_1.jpg</firstimage><firstimage2>http://tong.visitkorea.or.kr/cms/resource/96/2707496_image2_1.jpg</firstimage2><mapx>127.6573663730</mapx><mapy>37.5144948588</mapy><mlevel>6</mlevel><modifiedtime>20210308133050</modifiedtime><readcount>94324</readcount><sigungucode>19</sigungucode><tel>031-775-5205</tel><title>가족끼리딸기 캠피닉</title></item><item><addr1>대구광역시 북구 호암로 15</addr1><addr2>(칠성동2가)</addr2><areacode>4</areacode><cat1>A02</cat1><cat2>A0208</cat2><cat3>A02080400</cat3><contentid>2705052</contentid><contenttypeid>15</contenttypeid><createdtime>20210201172200</createdtime><eventenddate>20210228</eventenddate><eventstartdate>20210225</eventstartdate><firstimage>http://tong.visitkorea.or.kr/cms/resource/60/2705060_image2_1.jpg</firstimage><firstimage2>http://tong.visitkorea.or.kr/cms/resource/60/2705060_image2_1.jpg</firstimage2><mapx>128.5922570230</mapx><mapy>35.8835072863</mapy><mlevel>6</mlevel><modifiedtime>20210201173042</modifiedtime><readcount>0</readcount><sigungucode>5</sigungucode><tel>053-666-6170</tel><title>가족오페라 &lt;마술피리&gt; 2021</title></item><item><addr1>강원도 강릉시 단오장길 1</addr1><areacode>32</areacode><cat1>A02</cat1><cat2>A0207</cat2><cat3>A02070200</cat3><contentid>531391</contentid><contenttypeid>15</contenttypeid><createdtime>20080414154012</createdtime><eventenddate>20210617</eventenddate><eventstartdate>20210610</eventstartdate><firstimage>http://tong.visitkorea.or.kr/cms/resource/11/2719611_image2_1.jpg</firstimage><firstimage2>http://tong.visitkorea.or.kr/cms/resource/11/2719611_image2_1.jpg</firstimage2><mapx>128.8950169869</mapx><mapy>37.7482134974</mapy><mlevel>6</mlevel><modifiedtime>20210603170713</modifiedtime><readcount>143108</readcount><sigungucode>1</sigungucode><tel>033-641-1593</tel><title>강릉 단오제</title></item><item><addr1>강원도 춘천시 평화로 26</addr1><addr2>(근화동)</addr2><areacode>32</areacode><cat1>A02</cat1><cat2>A0208</cat2><cat3>A02080600</cat3><contentid>2496162</contentid><contenttypeid>15</contenttypeid><createdtime>20170615173512</createdtime><eventenddate>20210808</eventenddate><eventstartdate>20210806</eventstartdate><firstimage>http://tong.visitkorea.or.kr/cms/resource/58/2496158_image2_1.jpg</firstimage><firstimage2>http://tong.visitkorea.or.kr/cms/resource/58/2496158_image2_1.jpg</firstimage2><mapx>127.7184944906</mapx><mapy>37.8813589518</mapy><mlevel>6</mlevel><modifiedtime>20210521175411</modifiedtime><readcount>3282</readcount><sigungucode>13</sigungucode><tel>033-260-9320</tel><title>강원그린박람회</title></item><item><addr1>경상남도 거창군 거창읍 중앙로 103</addr1><areacode>36</areacode><cat1>A02</cat1><cat2>A0207</cat2><cat3>A02070200</cat3><contentid>1866255</contentid><contenttypeid>15</contenttypeid><createdtime>20131203110702</createdtime><eventenddate>20210214</eventenddate><eventstartdate>20201213</eventstartdate><firstimage>http://tong.visitkorea.or.kr/cms/resource/31/2694131_image2_1.jpg</firstimage><firstimage2>http://tong.visitkorea.or.kr/cms/resource/31/2694131_image2_1.jpg</firstimage2><mapx>127.9095393091</mapx><mapy>35.6866949586</mapy><mlevel>6</mlevel><modifiedtime>20201208153115</modifiedtime><readcount>22057</readcount><sigungucode>2</sigungucode><tel>070-8809-9182</tel><title>거창 크리스마스트리문화축제 2021</title></item><item><addr1>경상남도 거창군 위천면 은하리길 98-11</addr1><areacode>36</areacode><cat1>A02</cat1><cat2>A0207</cat2><cat3>A02070200</cat3><contentid>142069</contentid><contenttypeid>15</contenttypeid><createdtime>20070709000000</createdtime><eventenddate>20210807</eventenddate><eventstartdate>20210730</eventstartdate><firstimage>http://tong.visitkorea.or.kr/cms/resource/92/2725192_image2_1.jpg</firstimage><firstimage2>http://tong.visitkorea.or.kr/cms/resource/92/2725192_image2_1.jpg</firstimage2><mapx>127.8319274874</mapx><mapy>35.7618433910</mapy><mlevel>6</mlevel><modifiedtime>20210712103740</modifiedtime><readcount>35472</readcount><sigungucode>2</sigungucode><tel>055-940-8460</tel><title>거창국제연극제</title></item><item><addr1>온라인개최</addr1><addr2>(웅진동)</addr2><areacode>34</areacode><cat1>A02</cat1><cat2>A0207</cat2><cat3>A02070200</cat3><contentid>2531702</contentid><contenttypeid>15</contenttypeid><createdtime>20180117143143</createdtime><eventenddate>20210131</eventenddate><eventstartdate>20210129</eventstartdate><firstimage>http://tong.visitkorea.or.kr/cms/resource/82/2704382_image2_1.jpg</firstimage><firstimage2>http://tong.visitkorea.or.kr/cms/resource/82/2704382_image2_1.jpg</firstimage2><mapx>127.1075869625</mapx><mapy>36.4666363013</mapy><mlevel>6</mlevel><modifiedtime>20210120171108</modifiedtime><readcount>3567</readcount><sigungucode>1</sigungucode><tel>041-840-8111</tel><title>겨울공주 온라인 군밤축제 2021</title></item></items><numofrows>10</numofrows><pageno>1</pageno><totalcount>385</totalcount></body></response>\n"
     ]
    }
   ],
   "source": [
    "\n",
    "def url_parser(sDate, eDate, row=10):\n",
    "    key=\"VFYXI%2F3A5kIk7QVsO1epAlZSb6ZtCO9N5VC%2FMF3pW6oZ7%2BsFrvH1Y9y0UfmVzTnA0k2FasoNM6t6JsY7%2BEwNEw%3D%3D\"\n",
    "\n",
    "    # 기본 url + 사용자 key\n",
    "    url=\"http://api.visitkorea.or.kr/openapi/service/rest/KorService/searchFestival?serviceKey=\" + key\n",
    "    url=url+\"&MobileOS=ETC&MobileApp=AppTest&arrange=A&listYN=Y\"   # 기본 필수 옵션\n",
    "    url=url+\"&numOfRows=\"+ str(row)   # 한페이지 출력 데이터 개수\n",
    "    url=url+\"&eventStartDate=\"+str(sDate)  # 조회 시작일\n",
    "    url=url+\"&eventEndDate=\"+str(eDate)\n",
    "\n",
    "    xml_soup = requests.get(url)\n",
    "    if xml_soup.status_code != 200:\n",
    "        print('API를 연결하지 못했습니다.')\n",
    "        exit()\n",
    "    \n",
    "    soup=bs(xml_soup.content, 'html.parser')\n",
    "    return soup\n",
    "def tour_info(sDate, eDate, soup):\n",
    "    ### 파씽한 데이터에서 원하는 데이터 추출 및 DataFrame로 변경\n",
    "    row=soup.find('totalcount').text\n",
    "    soup=url_parser(sDate, eDate, row)\n",
    "    \n",
    "    items=soup.find_all('item')\n",
    "    df_list=[]\n",
    "    \n",
    "    for item in items:\n",
    "        staD=item.find('eventstartdate').text      # 축제 시작일\n",
    "        endD=item.find('eventenddate').get_text()  # 축제 종료일\n",
    "        titD=item.find('title').get_text()         # 축제명\n",
    "        try:\n",
    "            addD=item.find('addr1').get_text()         # 주소\n",
    "        except:\n",
    "            addD=\"온라인개최\"\n",
    "        try:\n",
    "            telD=item.find('tel').get_text()           # 전화\n",
    "        except:\n",
    "            telD=\"-\"\n",
    "        try:\n",
    "            lngD=item.find('mapx').text                # 경도\n",
    "            latD=item.find('mapy').get_text()          # 위도\n",
    "        except:\n",
    "            lngD=0\n",
    "            latD=0\n",
    "        \n",
    "        df_list.append({\"시작일\":staD, \"종료일\":endD, \"축제명\":titD,\n",
    "                        \"주소\":addD, \"연락처\":telD, '위도':latD, '경도':lngD})\n",
    "        \n",
    "    df1=pd.DataFrame(df_list)\n",
    "    \n",
    "    return df1\n",
    "\n",
    "#print(url)\n",
    "sDate=\"20210101\"\n",
    "eDate=\"20211231\"\n",
    "row=10\n",
    "### API 연결 및 데이터 파씽\n",
    "\n",
    "soup = url_parser(sDate, eDate, row=10)\n",
    "print(soup)"
   ]
  },
  {
   "cell_type": "code",
   "execution_count": null,
   "id": "0e432354",
   "metadata": {},
   "outputs": [],
   "source": []
  }
 ],
 "metadata": {
  "kernelspec": {
   "display_name": "Python 3",
   "language": "python",
   "name": "python3"
  },
  "language_info": {
   "codemirror_mode": {
    "name": "ipython",
    "version": 3
   },
   "file_extension": ".py",
   "mimetype": "text/x-python",
   "name": "python",
   "nbconvert_exporter": "python",
   "pygments_lexer": "ipython3",
   "version": "3.9.4"
  }
 },
 "nbformat": 4,
 "nbformat_minor": 5
}
