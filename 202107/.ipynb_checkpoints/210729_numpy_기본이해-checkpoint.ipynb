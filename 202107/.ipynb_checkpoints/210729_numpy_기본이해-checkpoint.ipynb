{
 "cells": [
  {
   "cell_type": "markdown",
   "id": "84780a19",
   "metadata": {},
   "source": [
    "### NumPy 특징\n",
    "\n",
    "- 과학 기술 계산을 위한 라이브러리 제공\n",
    "- 백터/행렬/배열 처리 및 연산, 난수 발생\n",
    "- 파일관리(txt, csv 등 파일 읽기/쓰기)\n",
    "- 리스트(list) 형 데이터와 유사하지만 Numpy는 배열의 특징을 가짐\n",
    "- 모든 원소는 동일한 자료형이어야 한다.\n",
    "- 원소들 중 다른 자료형이 있다면 가장 큰 자료형으로 변경됨\n",
    "- 계산 속도가 빠르다\n",
    "- 벡터/연산, 배열 인덱싱 등을 통해 질의 가능"
   ]
  },
  {
   "cell_type": "code",
   "execution_count": 1,
   "id": "64bd4ade",
   "metadata": {},
   "outputs": [],
   "source": [
    "import numpy as np"
   ]
  },
  {
   "cell_type": "code",
   "execution_count": 10,
   "id": "d2ef2432",
   "metadata": {},
   "outputs": [
    {
     "data": {
      "text/plain": [
       "[1, 2, 3, 4, 5, 1, 2, 3, 4, 5]"
      ]
     },
     "execution_count": 10,
     "metadata": {},
     "output_type": "execute_result"
    }
   ],
   "source": [
    "lst = [1, 2, 3, 4, 5]\n",
    "s = [i*2 for i in lst]"
   ]
  },
  {
   "cell_type": "code",
   "execution_count": 12,
   "id": "8fb9ad1c",
   "metadata": {},
   "outputs": [
    {
     "data": {
      "text/plain": [
       "array([ 2,  4,  6,  8, 10])"
      ]
     },
     "execution_count": 12,
     "metadata": {},
     "output_type": "execute_result"
    }
   ],
   "source": [
    "arr_lst = np.array(lst)\n",
    "arr_lst*2"
   ]
  },
  {
   "cell_type": "markdown",
   "id": "d0715ffc",
   "metadata": {},
   "source": [
    "#### numpy 연산\n",
    "- 행렬 연산이라고 생각해라\n",
    "     - 즉 데이터의 개수가 맞지 않으면 연산할 수 없다"
   ]
  },
  {
   "cell_type": "code",
   "execution_count": 14,
   "id": "afbcf2ab",
   "metadata": {},
   "outputs": [
    {
     "name": "stdout",
     "output_type": "stream",
     "text": [
      "[11 22 33]\n",
      "[False  True  True]\n"
     ]
    }
   ],
   "source": [
    "#1차원 배열 구조, 즉 벡터 구조\n",
    "arr1 = np.array([1,2,3])\n",
    "arr2 = np.array([10, 20, 30])\n",
    "print(arr1+arr2)\n",
    "print(arr2>=20)"
   ]
  },
  {
   "cell_type": "markdown",
   "id": "18f58726",
   "metadata": {},
   "source": [
    "#### 넘파이를 두 벡터 연산시자료의 갯수는 동일해야 한다"
   ]
  },
  {
   "cell_type": "code",
   "execution_count": null,
   "id": "eb28f84c",
   "metadata": {},
   "outputs": [],
   "source": [
    "arr1 = np.array([1,2,3,4])\n",
    "arr2 = np.array([10, 20, 30])\n",
    "\n",
    "arr1 + arr2\n",
    "#에러가 나온다 왜? 개수가 맞지 않으니까"
   ]
  },
  {
   "cell_type": "markdown",
   "id": "8889f058",
   "metadata": {},
   "source": [
    "#### 2차원 배열 구조"
   ]
  },
  {
   "cell_type": "code",
   "execution_count": 23,
   "id": "f8ceeb55",
   "metadata": {},
   "outputs": [
    {
     "name": "stdout",
     "output_type": "stream",
     "text": [
      "[[0, 0, 1], [8, 12, 33]]\n",
      "[[ 0  0  1]\n",
      " [ 8 12 33]]\n"
     ]
    }
   ],
   "source": [
    "lst = [[0,0,1], [8, 12, 33]]\n",
    "arr = np.array(lst)\n",
    "print(lst)\n",
    "print(arr)"
   ]
  },
  {
   "cell_type": "code",
   "execution_count": 24,
   "id": "57b35577",
   "metadata": {},
   "outputs": [
    {
     "data": {
      "text/plain": [
       "array([[ 0,  0,  1],\n",
       "       [ 8, 12, 33]])"
      ]
     },
     "execution_count": 24,
     "metadata": {},
     "output_type": "execute_result"
    }
   ],
   "source": [
    "print(len(lst))  # lst의 전체 데이터 개수\n",
    "print(len(arr))  # arr의 행의 개수\n",
    "\n",
    "print(len(lst[0])) # lst의 첫번째 데이터의 갯수\n",
    "print(len(arr[0])) # arr의 열의 갯수"
   ]
  },
  {
   "cell_type": "code",
   "execution_count": null,
   "id": "871205b2",
   "metadata": {},
   "outputs": [],
   "source": []
  }
 ],
 "metadata": {
  "kernelspec": {
   "display_name": "Python 3",
   "language": "python",
   "name": "python3"
  },
  "language_info": {
   "codemirror_mode": {
    "name": "ipython",
    "version": 3
   },
   "file_extension": ".py",
   "mimetype": "text/x-python",
   "name": "python",
   "nbconvert_exporter": "python",
   "pygments_lexer": "ipython3",
   "version": "3.8.10"
  }
 },
 "nbformat": 4,
 "nbformat_minor": 5
}
