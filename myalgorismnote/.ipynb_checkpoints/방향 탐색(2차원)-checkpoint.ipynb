{
 "cells": [
  {
   "cell_type": "markdown",
   "id": "be48e796",
   "metadata": {
    "lines_to_next_cell": 2
   },
   "source": [
    "#### 방향 탐색 설정시 중요한점\n",
    "- 여러방향 동시 탐색을 재귀로 하려고 한다면 추가 종료조건이 필요함\n",
    "- 그렇지 않으면 무한루프가됨\n",
    "- 종료 조건은 방문 처리를 해주면 됨\n",
    "- if move(x+1, y, 0), move(x-1,y,0)을 동시에 돌려주게되면 방문 처리해야함"
   ]
  },
  {
   "cell_type": "code",
   "execution_count": 2,
   "id": "ddb33c40",
   "metadata": {
    "lines_to_next_cell": 0
   },
   "outputs": [],
   "source": [
    "# 한 방향 탐색 알고리즘\n",
    "def move(x,y, i):\n",
    "    if x>10 or y>10 or x<=-1 or y<=-1:\n",
    "        return\n",
    "    print(x,y)\n",
    "    # 아래로 탐색\n",
    "    if i == 0:\n",
    "        return move(x+1,y , 0)\n",
    "    # 오른족 탐색\n",
    "    elif i == 1:\n",
    "        return move(x, y+1, 1)\n",
    "    # 위로 탐색\n",
    "    elif i == 2:\n",
    "        return move(x-1, y, 2)\n",
    "    # 왼쪽 탐색\n",
    "    elif i == 3:\n",
    "        return move(x, y-1, 3)\n",
    "    # 대각선 탐색(우상)\n",
    "    elif i == 4:\n",
    "        return move(x+1, y+1, 4)\n",
    "    # 대각선 탐색(좌하)\n",
    "    else:\n",
    "        return move(x-1, y-1, 5)\n",
    "\n",
    "# for dir in range(5):\n",
    "#     move(4,4,dir)"
   ]
  },
  {
   "cell_type": "code",
   "execution_count": null,
   "id": "f6516544",
   "metadata": {},
   "outputs": [],
   "source": [
    "graph = [[0, 0, 1], [0, 1, 0], [1, 0, 1]]\n",
    "n, m = 3,3\n",
    "\n",
    "def dfs(x, y):\n",
    "    \n",
    "    if x<= -1 or x>=n or y<=-1 or y>=m:\n",
    "        return False\n",
    "    \n",
    "    # 이부분이 방문 여부 묻고 처리하는 부분\n",
    "    if graph[x][y] ==0:\n",
    "        \n",
    "        #방문 처리 하고,\n",
    "        graph[x][y] = 1\n",
    "        \n",
    "        # 탐색해라\n",
    "        dfs(x-1, y)\n",
    "        dfs(x,y-1)\n",
    "        dfs(x+1,y)\n",
    "        dfs(x,y+1)\n",
    "        return True\n",
    "    return False"
   ]
  },
  {
   "cell_type": "code",
   "execution_count": 1,
   "id": "5ea98a34",
   "metadata": {},
   "outputs": [],
   "source": [
    "# for 문과 재귀를 이용한 dfs(삼성전자 바이러스 핵심코드)\n",
    "dx = [-1, 1, 0, 0]\n",
    "dy = [0, 0, -1, 1]\n",
    "n,m =7, 7\n",
    "def dfs(x,y):\n",
    "    for i in range(4):\n",
    "        nx = x + dx[i]\n",
    "        ny = y + dy[i]\n",
    "        \n",
    "        if nx<n and nx>=0 and ny < m and ny>=0:\n",
    "            if board[nx][ny]==0:\n",
    "                board[nx][ny] = 2\n",
    "                dfs(nx,ny)"
   ]
  },
  {
   "cell_type": "code",
   "execution_count": 2,
   "id": "630bd90d",
   "metadata": {},
   "outputs": [],
   "source": [
    "# 한칸이 아니라 두칸으로 움직일 때, 회전이 포함될때\n",
    "\n",
    "# keyidea1 \n",
    "# set으로 관리하면 q에 집입할때 순열느낌으로 들어감\n",
    "# 때문에 방문 처리시 중복을 거를 수 있음\n",
    "# 위치 정보를 인덱싱 하기 위해\n",
    "# pos1, pos2 로 관리하기 전 pos를 리스트화 해줘야함\n",
    "pos = {(1,1),(1,2)} \n",
    "\n",
    "dx = [-1, 1, 0, 0]\n",
    "dy = [0, 0, -1, 1]\n",
    "\n",
    "def get_next_pos(pos,board):\n",
    "    next_pos = []\n",
    "    pos = list(pos)\n",
    "    pos1_x, pos1_y, pos2_x,pos2_y = pos[0][0],pos[0][1],pos[1][0],pos[1][1]\n",
    "    for i in range(4):\n",
    "        pos1_next_x,pos1_next_y,pos2_next_x,pos2_next_y = pos1_x+dx[i], pos1_y+dy[i],pos2_x+dx[i], pos2_y+dy[i]\n",
    "        \n",
    "        #이동가능 조건 파악\n",
    "        if board[pos1_next_x][pos1_next_y]==0 and board[pos2_next_x][pos2_next_y]==0:\n",
    "            next_pos.append({(pos1_next_x,pos1_next_y),(pos2_next_x,pos2_next_y)})\n",
    "    \n",
    "    #keyidea3: 회전처리\n",
    "    # 가로로 놓여져 있다면 조건 만족시 회전\n",
    "    if pos1_x==pos2_x:\n",
    "        for i in [-1, 1]: # 이 -1, 1이 핵심이다\n",
    "            if board[pos1_x + i][pos1_y] == 0 and board[pos2_x + i][pos2_y] == 0:\n",
    "                next_pos.append({(pos1_x, pos1_y), (pos1_x + i, pos1_y)})\n",
    "                next_pos.append({(pos2_x, pos2_y), (pos2_x + i, pos2_y)})"
   ]
  },
  {
   "cell_type": "markdown",
   "id": "3d3fdd85",
   "metadata": {},
   "source": [
    "#### 장애물이나 사물 배치시 고려해야할 사항\n",
    "\n",
    "- 완전 탐색을 진행할 것이라면, 10000이하의 수에 대해 진행해라\n",
    "  ( 대략 40이하의 수에 대해 진행할것 )"
   ]
  },
  {
   "cell_type": "code",
   "execution_count": null,
   "id": "af9fa9a8",
   "metadata": {},
   "outputs": [],
   "source": [
    "# 1차원 회전 밑 방향전환 ( 2차원 맵에서)\n",
    "# 이코드는 돌아가지 않음 핵심 부분만 정리하는 것\n",
    "\n",
    "# 0, 1, 2, 3 / 북 , 동, 남 ,서 로 정의\n",
    "def turn_left():\n",
    "    global direction\n",
    "    direction -= 1\n",
    "    if direction == -1:\n",
    "        direction = 3\n",
    "\n",
    "dx = [-1,0,1,0]\n",
    "dy = [0,1,0,-1] # 북, 동, 남, 서로 맞춰줌\n",
    "\n",
    "turn_left()\n",
    "nx = x + dx[direction]\n",
    "ny = y + dy[direction] # 왼쪽으로 돌고 앞으로이동할 위치값 설정 / cf) 뒤로 이동은 ny = y - dy[direction]\n",
    "\n",
    "# 조건 만족 시 이동\n",
    "if d[nx][ny] ==0 and map[nx][ny] == 0:\n",
    "    d[nx][ny] = 1 # 방문처리\n",
    "    x = nx # x 이동\n",
    "    y = ny # y 이동\n",
    "    # 조건 탐색 후 이동 가능하면, 이동\n",
    "\n",
    "\n"
   ]
  }
 ],
 "metadata": {
  "jupytext": {
   "encoding": "# -*- coding: utf-8 -*-",
   "formats": "ipynb,py:light"
  },
  "kernelspec": {
   "display_name": "Python 3",
   "language": "python",
   "name": "python3"
  },
  "language_info": {
   "codemirror_mode": {
    "name": "ipython",
    "version": 3
   },
   "file_extension": ".py",
   "mimetype": "text/x-python",
   "name": "python",
   "nbconvert_exporter": "python",
   "pygments_lexer": "ipython3",
   "version": "3.8.10"
  }
 },
 "nbformat": 4,
 "nbformat_minor": 5
}
