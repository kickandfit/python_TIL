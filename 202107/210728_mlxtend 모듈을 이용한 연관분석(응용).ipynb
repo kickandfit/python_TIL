{
 "cells": [
  {
   "cell_type": "code",
   "execution_count": 18,
   "id": "1cc6918a",
   "metadata": {},
   "outputs": [],
   "source": [
    "import pandas as pd\n",
    "from mlxtend.preprocessing import TransactionEncoder\n",
    "from mlxtend.frequent_patterns import apriori\n",
    "import re\n",
    "from konlpy.tag import Okt\n",
    "from tqdm import tqdm"
   ]
  },
  {
   "cell_type": "code",
   "execution_count": 17,
   "id": "15415d07",
   "metadata": {},
   "outputs": [],
   "source": [
    "df1 = pd.read_excel('c:/pydata/bigkinds.xlsx')\n",
    "df1 = df1[['일자','언론사','제목','본문']]\n",
    "okt=Okt()\n",
    "dataset=[]\n",
    "for txt in tqdm(df1['본문']):\n",
    "    dataset.append(okt.nouns(re.sub('[^가-힣a-zA-Z ]', \"\", txt)))"
   ]
  },
  {
   "cell_type": "code",
   "execution_count": 28,
   "id": "abc2d28d",
   "metadata": {},
   "outputs": [],
   "source": [
    "tren = TransactionEncoder()\n",
    "tren_ary = tren.fit(dataset).transform(dataset)\n",
    "\n",
    "tren_df = pd.DataFrame(tren_ary, columns=tren.columns_)\n",
    "# tren_df"
   ]
  },
  {
   "cell_type": "code",
   "execution_count": 40,
   "id": "c132054c",
   "metadata": {},
   "outputs": [
    {
     "data": {
      "text/html": [
       "<div>\n",
       "<style scoped>\n",
       "    .dataframe tbody tr th:only-of-type {\n",
       "        vertical-align: middle;\n",
       "    }\n",
       "\n",
       "    .dataframe tbody tr th {\n",
       "        vertical-align: top;\n",
       "    }\n",
       "\n",
       "    .dataframe thead th {\n",
       "        text-align: right;\n",
       "    }\n",
       "</style>\n",
       "<table border=\"1\" class=\"dataframe\">\n",
       "  <thead>\n",
       "    <tr style=\"text-align: right;\">\n",
       "      <th></th>\n",
       "      <th>antecedents</th>\n",
       "      <th>consequents</th>\n",
       "      <th>antecedent support</th>\n",
       "      <th>consequent support</th>\n",
       "      <th>support</th>\n",
       "      <th>confidence</th>\n",
       "      <th>lift</th>\n",
       "      <th>leverage</th>\n",
       "      <th>conviction</th>\n",
       "    </tr>\n",
       "  </thead>\n",
       "  <tbody>\n",
       "    <tr>\n",
       "      <th>0</th>\n",
       "      <td>(건설)</td>\n",
       "      <td>(일)</td>\n",
       "      <td>0.288372</td>\n",
       "      <td>0.672868</td>\n",
       "      <td>0.200000</td>\n",
       "      <td>0.693548</td>\n",
       "      <td>1.030734</td>\n",
       "      <td>0.005964</td>\n",
       "      <td>1.067483</td>\n",
       "    </tr>\n",
       "    <tr>\n",
       "      <th>1</th>\n",
       "      <td>(일)</td>\n",
       "      <td>(건설)</td>\n",
       "      <td>0.672868</td>\n",
       "      <td>0.288372</td>\n",
       "      <td>0.200000</td>\n",
       "      <td>0.297235</td>\n",
       "      <td>1.030734</td>\n",
       "      <td>0.005964</td>\n",
       "      <td>1.012612</td>\n",
       "    </tr>\n",
       "    <tr>\n",
       "      <th>2</th>\n",
       "      <td>(앤)</td>\n",
       "      <td>(일)</td>\n",
       "      <td>0.641860</td>\n",
       "      <td>0.672868</td>\n",
       "      <td>0.494574</td>\n",
       "      <td>0.770531</td>\n",
       "      <td>1.145145</td>\n",
       "      <td>0.062686</td>\n",
       "      <td>1.425606</td>\n",
       "    </tr>\n",
       "    <tr>\n",
       "      <th>3</th>\n",
       "      <td>(일)</td>\n",
       "      <td>(앤)</td>\n",
       "      <td>0.672868</td>\n",
       "      <td>0.641860</td>\n",
       "      <td>0.494574</td>\n",
       "      <td>0.735023</td>\n",
       "      <td>1.145145</td>\n",
       "      <td>0.062686</td>\n",
       "      <td>1.351587</td>\n",
       "    </tr>\n",
       "  </tbody>\n",
       "</table>\n",
       "</div>"
      ],
      "text/plain": [
       "  antecedents consequents  antecedent support  consequent support   support  \\\n",
       "0        (건설)         (일)            0.288372            0.672868  0.200000   \n",
       "1         (일)        (건설)            0.672868            0.288372  0.200000   \n",
       "2         (앤)         (일)            0.641860            0.672868  0.494574   \n",
       "3         (일)         (앤)            0.672868            0.641860  0.494574   \n",
       "\n",
       "   confidence      lift  leverage  conviction  \n",
       "0    0.693548  1.030734  0.005964    1.067483  \n",
       "1    0.297235  1.030734  0.005964    1.012612  \n",
       "2    0.770531  1.145145  0.062686    1.425606  \n",
       "3    0.735023  1.145145  0.062686    1.351587  "
      ]
     },
     "execution_count": 40,
     "metadata": {},
     "output_type": "execute_result"
    }
   ],
   "source": [
    "from mlxtend.frequent_patterns import association_rules\n",
    "apr_item = apriori(tren_df, min_support = 0.2, use_colnames = True)\n",
    "association_rules(apr_item, metric = 'lift', min_threshold = 1.0)"
   ]
  },
  {
   "cell_type": "code",
   "execution_count": null,
   "id": "bef00752",
   "metadata": {},
   "outputs": [],
   "source": []
  }
 ],
 "metadata": {
  "kernelspec": {
   "display_name": "Python 3",
   "language": "python",
   "name": "python3"
  },
  "language_info": {
   "codemirror_mode": {
    "name": "ipython",
    "version": 3
   },
   "file_extension": ".py",
   "mimetype": "text/x-python",
   "name": "python",
   "nbconvert_exporter": "python",
   "pygments_lexer": "ipython3",
   "version": "3.8.10"
  }
 },
 "nbformat": 4,
 "nbformat_minor": 5
}
