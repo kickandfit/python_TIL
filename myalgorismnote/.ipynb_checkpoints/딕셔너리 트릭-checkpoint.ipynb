{
 "cells": [
  {
   "cell_type": "markdown",
   "id": "beab507e",
   "metadata": {},
   "source": [
    "# 딕셔너리 트릭\n",
    "\n",
    "- 딕셔너리에는 대쳇값을 제공하면서 키를 찾는 get()메서드가 있음"
   ]
  },
  {
   "cell_type": "code",
   "execution_count": null,
   "id": "30fb0014",
   "metadata": {},
   "outputs": [],
   "source": [
    "name_for_userid = {382 : \"Alice\", \n",
    "                  950 : \"Bob\",\n",
    "                  590 : \"Dilbert\"}\n",
    "\n",
    "def greeting(userid):\n",
    "    return 'Hi %s !' %name_for_userid[userid]"
   ]
  },
  {
   "cell_type": "code",
   "execution_count": null,
   "id": "e6c292ac",
   "metadata": {},
   "outputs": [],
   "source": [
    "greeting(382)"
   ]
  },
  {
   "cell_type": "code",
   "execution_count": null,
   "id": "70c8706e",
   "metadata": {},
   "outputs": [],
   "source": [
    "greeting(33333)"
   ]
  },
  {
   "cell_type": "markdown",
   "id": "ddbb47fc",
   "metadata": {},
   "source": [
    "#### 하고 싶은 것\n",
    "- 사용자 아이디를 찾을 수 없는 경우 함수가 예외 대신 일반적인 인사말을 반환"
   ]
  },
  {
   "cell_type": "code",
   "execution_count": null,
   "id": "773f6213",
   "metadata": {},
   "outputs": [],
   "source": [
    "def greeting(userid):\n",
    "    if userid in name_for_userid:\n",
    "        return 'Hi %s !' %name_for_userid[userid]\n",
    "    else:\n",
    "        return 'Hi there!'"
   ]
  },
  {
   "cell_type": "code",
   "execution_count": null,
   "id": "69ad2b6c",
   "metadata": {},
   "outputs": [],
   "source": []
  },
  {
   "cell_type": "code",
   "execution_count": null,
   "id": "35445c5d",
   "metadata": {},
   "outputs": [],
   "source": [
    "greeting(33333)"
   ]
  },
  {
   "cell_type": "markdown",
   "id": "2eb794d4",
   "metadata": {},
   "source": [
    "#### 문제점\n",
    "- 딕셔너리를 두 번 조회하기 때문에 비효율적\n",
    "- 인사말 문자열의 일부가 반복되기 때문에 장황\n",
    "- '파이썬답지' 않음\n",
    "    - 공식 문서에서는 허가보다 용서를 구하는게 쉽다( Easier to Ask for Forgiveness than Permission) 코딩 스타일 권장\n",
    "    - 파이썬 코딩 스타일은 유효한 키 혹은 속성이 존재한다고 가정, 가정이 틀렸다고 판명되면 예외를 처리하는 방식"
   ]
  },
  {
   "cell_type": "code",
   "execution_count": null,
   "id": "623b12e5",
   "metadata": {},
   "outputs": [],
   "source": [
    "# 파이썬 다운 코딩은\n",
    "# %s 는 문자열을 출력해라 ( %d 정수형, %f 실수형)\n",
    "#예 1) %03d : 정수를 3칸에 맞추어 출력하는데 앞의 빈칸은 0으로 채워라\n",
    "#예 2) %6.2f : 실수를 전체 6칸 소수이하 2칸에 맞추어 출력하라\n",
    "def greeting(userid):\n",
    "    try:\n",
    "        return 'Hi %s'% name_for_userid[userid]\n",
    "    except:\n",
    "        return 'Hi there'"
   ]
  },
  {
   "cell_type": "markdown",
   "id": "627138b4",
   "metadata": {},
   "source": [
    "#### 문제점\n",
    "- 두 번 조회하지 않으나 여전히 장황\n"
   ]
  },
  {
   "cell_type": "code",
   "execution_count": null,
   "id": "9a387166",
   "metadata": {},
   "outputs": [],
   "source": [
    "# get() 메서드 활용 : get( 변수, 반환값) 변수가 키에 없다면, 반환값을 반환\n",
    "def greeting(userid):\n",
    "    return 'Hi %s!'% name_for_userid[userid].get(userid, 'there')"
   ]
  },
  {
   "cell_type": "markdown",
   "id": "ddad66a4",
   "metadata": {},
   "source": [
    "#### keypoint( 딕셔너리 기본값 )\n",
    "- 멤버십을 테스트할 때 딕셔너리의 키를 명시적으로 확인하지 말것\n",
    "- EAEP 스타일의 예외 처리 또는 내장된 get() 메서드를 사용하는 편이 바람직함\n",
    "- 어떤 경우에는 표준 라이브러리의 collections.defaultdict 클래스가 도움이 됨"
   ]
  },
  {
   "cell_type": "markdown",
   "id": "1b2299ac",
   "metadata": {},
   "source": [
    "# 재미있고 효과도 좋은 딕셔너리 정렬"
   ]
  },
  {
   "cell_type": "code",
   "execution_count": null,
   "id": "3871c739",
   "metadata": {},
   "outputs": [],
   "source": [
    "xs = {'a':4, 'b':2 ,'c': 3, 'd': 1}"
   ]
  },
  {
   "cell_type": "markdown",
   "id": "4540657b",
   "metadata": {},
   "source": [
    "#### 이를 정렬하기 위해서는 items()로 받아 정렬함\n",
    "- items()는 키-값 을 튜플로 묶어 반환\n",
    "- sorted를 통해 정렬"
   ]
  },
  {
   "cell_type": "code",
   "execution_count": null,
   "id": "ae86f8d3",
   "metadata": {},
   "outputs": [],
   "source": [
    "sorted(xs.items())"
   ]
  },
  {
   "cell_type": "markdown",
   "id": "093da9d4",
   "metadata": {},
   "source": [
    "#### 원리\n",
    "- 튜플들은 키 중복을 허용하지 않는 딕셔너리에서 가져온 것임으로, 첫 번째 인덱스 값은 고유함\n",
    "- 두 튜플을 비교할 때는 먼저 인덱스 0에 저장된 항목끼리 비교하고, 같다면 다음 인덱스 항목 비교\n",
    "- 따라서 딕셔너리에서 가져온 튜플은 첫번재 인덱스만을 가지고 비교함"
   ]
  },
  {
   "cell_type": "markdown",
   "id": "11f1d7d4",
   "metadata": {},
   "source": [
    "#### 키 함수\n",
    "\n",
    "- 키 함수는 단순히 비교하기 전에 각 요소에 대해 호출되는 일반적인 파이썬 함수\n",
    "- 키 함수는 딕셔너리 항목을 입력으로 받아 정렬 순서 비교를 위해 원하는 키를 반환\n",
    "- 문제는 '키'라는 단어가 두 가지 문맥에서 동시에 사용\n",
    "\n",
    "키 함수는 딕셔너리 키를 다루지 않으며 그저 각 입력 항목을 임의의 비교 키로 연결하는 역할"
   ]
  },
  {
   "cell_type": "code",
   "execution_count": null,
   "id": "8665750d",
   "metadata": {},
   "outputs": [],
   "source": [
    "sorted(xs.items(), key = lambda x:x[1])"
   ]
  },
  {
   "cell_type": "markdown",
   "id": "13cb86a2",
   "metadata": {},
   "source": [
    "#### 키함수 개념 잡기\n",
    "- operator라는 모듈에 관련 기능을 구현\n",
    "    - 자주 쓰이는 키 함수들을 바로 쓸 수 있는 빌딩 블록 형태로 제공\n",
    "    - operator.itemgetter와 operator.attrgetter가 있음"
   ]
  },
  {
   "cell_type": "code",
   "execution_count": null,
   "id": "d12b99fa",
   "metadata": {},
   "outputs": [],
   "source": [
    "import operator\n",
    "sorted(xs.items(), key = operator.itemgetter(1))"
   ]
  },
  {
   "cell_type": "markdown",
   "id": "ccdf0223",
   "metadata": {},
   "source": [
    "#### operater 모듈 vs lambda 함수\n",
    "- operater 모듈을 사용하면 코드의 의도가 좀 더 명확해짐\n",
    "- 람다 표현식을 사용하면 읽기 쉽고 명료하게 표현\n",
    "    - 람다를 사용자 정의 키 함수로 사용하면 정렬 순서를 훨씬더 세밀하게 제어"
   ]
  },
  {
   "cell_type": "code",
   "execution_count": null,
   "id": "a686fd8a",
   "metadata": {},
   "outputs": [],
   "source": [
    "# 저장된 각 값의 절대 값을 기준으로 정렬\n",
    "\n",
    "sorted(xs.items(), key = lambda x : abs(x[1]))\n"
   ]
  },
  {
   "cell_type": "markdown",
   "id": "33383b36",
   "metadata": {},
   "source": [
    "#### keypoint ( 재미있고 효과도 좋은 딕셔너리 정렬 )\n",
    "\n",
    "- 딕셔너리 및 기타 컬렉션의 정렬된 '뷰'를 만들 때 키 함수로 정렬 순서를 조정할 수 있음\n",
    "- 키 함수는 파이썬에서 중요한 개념\n",
    "    - 가장 많이 사용되는 키 함수들은 표준 라이브러리의 operator 모듈에 추가\n",
    "- 함수는 파이썬의 일급 시민으로, 파이썬 언어의 모든 곳에서 사용되는 강력한 기능"
   ]
  },
  {
   "cell_type": "markdown",
   "id": "68586241",
   "metadata": {},
   "source": [
    "# 딕셔너리로 switch/ case 문 모방하기\n",
    "\n",
    "- 파이썬에서는 switch/case 문이 없으므로 if.....elif.....else 체인을 쓰기도함\n",
    "- 딕셔너리를 활용하면 모방할 수 있음"
   ]
  },
  {
   "cell_type": "code",
   "execution_count": null,
   "id": "f9b58218",
   "metadata": {},
   "outputs": [],
   "source": [
    "def myfunc(a, b):\n",
    "    return a + b"
   ]
  },
  {
   "cell_type": "code",
   "execution_count": null,
   "id": "3e709be8",
   "metadata": {},
   "outputs": [],
   "source": [
    "funcs = [myfunc]\n",
    "funcs[0]"
   ]
  },
  {
   "cell_type": "code",
   "execution_count": null,
   "id": "fa22e5af",
   "metadata": {},
   "outputs": [],
   "source": [
    "funcs[0](2,3)"
   ]
  },
  {
   "cell_type": "code",
   "execution_count": null,
   "id": "dd04db23",
   "metadata": {},
   "outputs": [],
   "source": [
    "# 소름 돋는 아이디언데..?\n",
    "# 이건 좀 소름이다\n",
    "if cond == 'con_a':\n",
    "    handle_a()\n",
    "elif cond == 'con_b':\n",
    "    handle_b()\n",
    "\n",
    "\n",
    "func_dict = {\n",
    "    'cond_a' : handle_a,\n",
    "    'cond_b' : handle_b\n",
    "}\n",
    "func_dict.get(cond, handle_default)\n",
    "\n",
    "cond = 'cond_a'\n",
    "func_dict[cond]()"
   ]
  },
  {
   "cell_type": "code",
   "execution_count": 2,
   "id": "9439bab4",
   "metadata": {},
   "outputs": [],
   "source": [
    "# 활용\n",
    "def dispatch_if(operator, x, y):\n",
    "    if operator == 'add':\n",
    "        return x+y\n",
    "    elif operator == \"sub\":\n",
    "        return x - y\n",
    "    elif operator == 'mul':\n",
    "        return x*y\n",
    "    elif operator == 'div':\n",
    "        return x/y"
   ]
  },
  {
   "cell_type": "markdown",
   "id": "30e257da",
   "metadata": {},
   "source": [
    "#### 리뷰\n",
    "- dispatch_dict() 가 호출될 때마다 연산 코드 조회를 위한 임시 딕셔너리와 다수의 람다가 만들어짐\n",
    "    - 성능 측면에서 이상적이지 않음\n",
    "    - 빨리 처리해야 하는 코드의 경우 딕셔너리를 상수로 한 번만 만들어 놓고 함수가 호출될 떄 이를 참조하는 것이 적합\n",
    "- 간단한 산술연산을 원한다면, operator 모듈을 활용하라"
   ]
  },
  {
   "cell_type": "code",
   "execution_count": 26,
   "id": "28d34989",
   "metadata": {},
   "outputs": [],
   "source": [
    "def dispatch_dict(operator, x, y): # operator 는 key 값을 호출하는 역할을 함\n",
    "    return {\n",
    "        'add' : lambda: x+y,\n",
    "        'sub' : lambda: x-y,\n",
    "        'mul' : lambda: x*y,\n",
    "        'div' : lambda: x/y,\n",
    "    }.get(operator, lambda: None)()# 이 뒤에 get 때문에 operator 가 key 탐색 역할을함/ 그리고 마지막()이 함수 인자전달 역할을함\n",
    "\n",
    "#소름 돋는 코드다"
   ]
  },
  {
   "cell_type": "code",
   "execution_count": 27,
   "id": "19c1b74d",
   "metadata": {},
   "outputs": [
    {
     "data": {
      "text/plain": [
       "-1"
      ]
     },
     "execution_count": 27,
     "metadata": {},
     "output_type": "execute_result"
    }
   ],
   "source": [
    "dispatch_dict('sub', 1, 2)"
   ]
  },
  {
   "cell_type": "markdown",
   "id": "c2363321",
   "metadata": {},
   "source": [
    "#### keypoint ( 딕셔너리로 switch/case 구문 모방하기 )\n",
    "\n",
    "- 파이썬에는 switch/case 문이 없음\n",
    "    - 경우에 따라 딕셔너리 기반 처리 테이블을 사용하여 긴 if 체인을 피할 수 있음\n",
    "- 함수를 반환 받고 인자로 줄 수 있다는 것이 진짜 대단하구나..."
   ]
  },
  {
   "cell_type": "markdown",
   "id": "2fe4f42d",
   "metadata": {},
   "source": [
    "# 파이썬 딕셔너리 표현식의 특이점\n"
   ]
  },
  {
   "cell_type": "code",
   "execution_count": 31,
   "id": "d595d556",
   "metadata": {},
   "outputs": [
    {
     "data": {
      "text/plain": [
       "{True: 'maybe'}"
      ]
     },
     "execution_count": 31,
     "metadata": {},
     "output_type": "execute_result"
    }
   ],
   "source": [
    "# 이건 뭐지?\n",
    "{ True : 'yes' , 1 : 'no', 1.0 : 'maybe'}\n",
    "\n",
    "# 결과가 뭘까 이게 도대체.."
   ]
  },
  {
   "cell_type": "code",
   "execution_count": 33,
   "id": "49f34ee7",
   "metadata": {},
   "outputs": [
    {
     "data": {
      "text/plain": [
       "{True: 'maybe'}"
      ]
     },
     "execution_count": 33,
     "metadata": {},
     "output_type": "execute_result"
    }
   ],
   "source": [
    "xs = dict()\n",
    "xs[True] = 'yes'\n",
    "xs[1] = 'no'\n",
    "xs[1.0] = 'maybe'\n",
    "xs"
   ]
  },
  {
   "cell_type": "markdown",
   "id": "d27618e5",
   "metadata": {},
   "source": [
    "####  위와 같은 결과가 나온 이유는, key가 모두 같다고 인지했기 때문\n",
    "\n",
    "- 파이썬은 bool을 int의 서브클래스로 취급\n",
    "    - 불타입은 정수형의 하위 타입이며 불값은 거의 모든 문맥에서 각각 0과 1처럼 동작하지만 문자열로 변환될때는 예외적으로 각각 'False' 또는 'True'다"
   ]
  },
  {
   "cell_type": "code",
   "execution_count": 34,
   "id": "495e5404",
   "metadata": {},
   "outputs": [
    {
     "data": {
      "text/plain": [
       "True"
      ]
     },
     "execution_count": 34,
     "metadata": {},
     "output_type": "execute_result"
    }
   ],
   "source": [
    "True == 1 == 1.0"
   ]
  },
  {
   "cell_type": "code",
   "execution_count": 36,
   "id": "d19e3a5a",
   "metadata": {},
   "outputs": [
    {
     "data": {
      "text/plain": [
       "'yes'"
      ]
     },
     "execution_count": 36,
     "metadata": {},
     "output_type": "execute_result"
    }
   ],
   "source": [
    "# True는 1과 같이 사용됨으로 인덱스로 사용될 수 있다\n",
    "['no', 'yes'][True]"
   ]
  },
  {
   "cell_type": "markdown",
   "id": "7543f3a6",
   "metadata": {},
   "source": [
    "#### {True: 'maybe'} 에서 key는 왜 여전히 True 인가\n",
    "\n",
    "- 키는 왜 여전히 True인가\n",
    "    - 반복된 할당으로 1.0으로 바뀌어야 정상아닌가?\n",
    "    - CPython 인터프리터 소스 코드에 의하면 딕셔너리는 새로운 값이 연결될 때, 키 객체 자체를 업데이트 하지는 않음\n",
    "    - value 값은 업데이트됨"
   ]
  },
  {
   "cell_type": "markdown",
   "id": "8224d792",
   "metadata": {},
   "source": [
    "#### 딕셔너리 값이 덮어써진 이유는 단순히 키가 같아서 인 것처럼 보임\n",
    "- 사실 이 효과는 __ eq __ 동등성 검사만으로 인한 것이 아님\n",
    "- 파이썬 딕셔너리는 해시 테이블 데이터 구조로 뒷받침됨\n",
    "- 해시 테이블은 각 키의 해시값에 따라 키를 서로 다른 '메모리 영역'에 저장함\n",
    "    - 해시값은 키로부터 나오며 키를 고유하기 식별하는 고정 길이의 숫자값\n",
    "    - 키 객체 전체를 다른 키들과 동등성 검사를 수행하는 것 보다 조회 테이블에서 숫자인 해시 값을 찾는게 빠름\n",
    "    - 문제는 해시값 계싼법이 완벽하지 않다는점\n",
    "    - 실제로, 다른 둘 이상의 키가 같은 해시값을 가지게 되고, 결국 같은 조회 테이블 메모리에 저장됨\n",
    "    - 키 두 개가 같은 해시값을 갖고 있다면 이를 '해시 충돌'이라고 하며, 항목을 삽입하고 찾아내는 데 필요한 해시 테이블 알고리즘이 처리해야하는 특수한 경우임\n",
    " "
   ]
  },
  {
   "cell_type": "markdown",
   "id": "8565df74",
   "metadata": {},
   "source": [
    "#### 해시 충돌 문제인지를 알아보기 위한 검사"
   ]
  },
  {
   "cell_type": "markdown",
   "id": "71ed4c09",
   "metadata": {},
   "source": [
    "#### 이 클래스의 특징\n",
    "- 첫째, __ eq __ 던더 메서드가 항상 True를 반환\n",
    "    - 때문에 이 클래스의 모든 인스턴스는 '어떠한' 다른 객체와도 동일한 것처럼 가장\n",
    "- 둘째, 각 AlwaysEquals 인스턴스 내장된 id() 함수에 의해 생성된 고유한 해시값을 반환"
   ]
  },
  {
   "cell_type": "code",
   "execution_count": 37,
   "id": "dad5d6ff",
   "metadata": {},
   "outputs": [],
   "source": [
    "class AlwaysEquals:\n",
    "    def __eq__(self, other):\n",
    "        return True\n",
    "    \n",
    "    def __hash__(self):\n",
    "        return id(self)"
   ]
  },
  {
   "cell_type": "code",
   "execution_count": 39,
   "id": "ef20730c",
   "metadata": {},
   "outputs": [
    {
     "data": {
      "text/plain": [
       "[2157337329232, 2157337329040, 2157337326736]"
      ]
     },
     "execution_count": 39,
     "metadata": {},
     "output_type": "execute_result"
    }
   ],
   "source": [
    "objects = [AlwaysEquals(),\n",
    "          AlwaysEquals(),\n",
    "          AlwaysEquals(),\n",
    "          ]\n",
    "[hash(obj) for obj in objects]"
   ]
  },
  {
   "cell_type": "markdown",
   "id": "712f2e6a",
   "metadata": {},
   "source": [
    "#### 위 클래스는 True ,1 , 1.0 의 문제의 핵심을 정확하게 반영함\n",
    "- 다른 객체와 동일하다고 가장하지만\n",
    "    - 고유한 해시값을 갖는 객체를 만들 수 있음\n",
    "    - 이것은 동등성 비교 결과만으로 딕셔너리 키를 덮어쓰는지 시험해 볼 수 있음"
   ]
  },
  {
   "cell_type": "code",
   "execution_count": 40,
   "id": "98d97235",
   "metadata": {},
   "outputs": [
    {
     "data": {
      "text/plain": [
       "{<__main__.AlwaysEquals at 0x1f64b533eb0>: 'Yes',\n",
       " <__main__.AlwaysEquals at 0x1f64b533d30>: 'no'}"
      ]
     },
     "execution_count": 40,
     "metadata": {},
     "output_type": "execute_result"
    }
   ],
   "source": [
    "# 동등한 키를 사용하더라도 더 이상 값이 덮어쓰이지 않음\n",
    "{AlwaysEquals() : 'Yes' , AlwaysEquals(): 'no'}"
   ]
  },
  {
   "cell_type": "markdown",
   "id": "16b7f50e",
   "metadata": {},
   "source": [
    "#### 아이디어를 뒤집어 동일한 해시값을 반환해도 키를 덮어 쓸수 있는지 확인"
   ]
  },
  {
   "cell_type": "code",
   "execution_count": 41,
   "id": "5c22afc8",
   "metadata": {},
   "outputs": [],
   "source": [
    "class SameHash:\n",
    "    def __hash__(self):\n",
    "        return 1"
   ]
  },
  {
   "cell_type": "code",
   "execution_count": 42,
   "id": "8c043301",
   "metadata": {},
   "outputs": [],
   "source": [
    "a = SameHash()\n",
    "b = SameHash()"
   ]
  },
  {
   "cell_type": "code",
   "execution_count": 43,
   "id": "3ae8391d",
   "metadata": {},
   "outputs": [
    {
     "data": {
      "text/plain": [
       "False"
      ]
     },
     "execution_count": 43,
     "metadata": {},
     "output_type": "execute_result"
    }
   ],
   "source": [
    "a ==b"
   ]
  },
  {
   "cell_type": "code",
   "execution_count": 45,
   "id": "d82aef66",
   "metadata": {},
   "outputs": [
    {
     "data": {
      "text/plain": [
       "(1, 1)"
      ]
     },
     "execution_count": 45,
     "metadata": {},
     "output_type": "execute_result"
    }
   ],
   "source": [
    "hash(a), hash(b)"
   ]
  },
  {
   "cell_type": "code",
   "execution_count": 46,
   "id": "8c23cfc6",
   "metadata": {},
   "outputs": [
    {
     "data": {
      "text/plain": [
       "(2157337326112, 2157337328080)"
      ]
     },
     "execution_count": 46,
     "metadata": {},
     "output_type": "execute_result"
    }
   ],
   "source": [
    "id(a), id(b)"
   ]
  },
  {
   "cell_type": "code",
   "execution_count": 47,
   "id": "467eb949",
   "metadata": {},
   "outputs": [
    {
     "data": {
      "text/plain": [
       "{<__main__.SameHash at 0x1f64b533220>: 'a',\n",
       " <__main__.SameHash at 0x1f64b5339d0>: 'b'}"
      ]
     },
     "execution_count": 47,
     "metadata": {},
     "output_type": "execute_result"
    }
   ],
   "source": [
    "{a: 'a', b: 'b'}"
   ]
  },
  {
   "cell_type": "markdown",
   "id": "81b15894",
   "metadata": {},
   "source": [
    "#### 위 예제가 주는 의미\n",
    "- 해시 충돌만으로는 '키를 덮어쓰는' 효과는 발생하지 않음\n"
   ]
  },
  {
   "cell_type": "markdown",
   "id": "3876ab57",
   "metadata": {},
   "source": [
    "#### 결국\n",
    "- 딕셔너리는 동등성을 검사하고 해시값을 비교하여 두 개의 키가 같은지 여부를 결정\n",
    "- 즉 True, 1, 1.0 은 동등하고 해시값도 같기 때문에 '키를 덮어쓰는 효과'가 발생됨"
   ]
  },
  {
   "cell_type": "code",
   "execution_count": 48,
   "id": "05d73e4e",
   "metadata": {},
   "outputs": [
    {
     "data": {
      "text/plain": [
       "True"
      ]
     },
     "execution_count": 48,
     "metadata": {},
     "output_type": "execute_result"
    }
   ],
   "source": [
    "True == 1 == 1.0"
   ]
  },
  {
   "cell_type": "code",
   "execution_count": 50,
   "id": "6128cbca",
   "metadata": {},
   "outputs": [
    {
     "data": {
      "text/plain": [
       "(1, 1, 1)"
      ]
     },
     "execution_count": 50,
     "metadata": {},
     "output_type": "execute_result"
    }
   ],
   "source": [
    "hash(1), hash(1.0), hash(True)"
   ]
  },
  {
   "cell_type": "markdown",
   "id": "e1adceaf",
   "metadata": {},
   "source": [
    "#### keypoint ( 딕셔너리 표현식의 특이점 )\n",
    "- 딕셔너리는 __ eq __ 의 비교 결과가 동등하고 해시값이 같다면 키를 동일하게 취급\n",
    "- 예기치 않은 키 충돌로 인해 신기한 결과가 발생하기도 함"
   ]
  },
  {
   "cell_type": "markdown",
   "id": "2bf2a6d6",
   "metadata": {},
   "source": [
    "## 딕셔너리를 병합하는 많은 방법\n"
   ]
  },
  {
   "cell_type": "code",
   "execution_count": 53,
   "id": "e040283b",
   "metadata": {},
   "outputs": [
    {
     "data": {
      "text/plain": [
       "{'a': 1, 'b': 3, 'c': 4}"
      ]
     },
     "execution_count": 53,
     "metadata": {},
     "output_type": "execute_result"
    }
   ],
   "source": [
    "# 방법 1\n",
    "xs = {'a':1, 'b':2}\n",
    "ys = {'b':3, 'c':4}\n",
    "zs = {}\n",
    "zs.update(xs)\n",
    "zs.update(ys)\n",
    "zs"
   ]
  },
  {
   "cell_type": "markdown",
   "id": "9804452e",
   "metadata": {},
   "source": [
    "#### 고려해야할 문제\n",
    "- 키 충돌 문제, 다중 딕셔너리 병합에 대한 문제 고려"
   ]
  },
  {
   "cell_type": "code",
   "execution_count": 52,
   "id": "a82cfe0a",
   "metadata": {},
   "outputs": [],
   "source": [
    "# update의 간단한 구현\n",
    "def update(dict1, dict2):\n",
    "    for key, value in dict2.items():\n",
    "        dict[key] = value"
   ]
  },
  {
   "cell_type": "markdown",
   "id": "392aa876",
   "metadata": {},
   "source": [
    "#### update()를 호출하는 순서가 충돌 해결 방식에 영향을 줌\n",
    "- 마지막 업데이트가 받아들여져 중복 키 'b'는 두 번째 소스 딕셔너리인 ys에서 나온 값 3과 연결됨\n",
    "    - 물론 딕셔너리 여러 개를 하나로 병합하기 위해 원하는 만큼 update()를 반복 호출 할 수 있음\n"
   ]
  },
  {
   "cell_type": "code",
   "execution_count": 56,
   "id": "ac3e264b",
   "metadata": {},
   "outputs": [
    {
     "data": {
      "text/plain": [
       "{'a': 1, 'b': 3, 'c': 4}"
      ]
     },
     "execution_count": 56,
     "metadata": {},
     "output_type": "execute_result"
    }
   ],
   "source": [
    "# 방법이 인자 풀기( 두개의 딕셔너리 병합 )\n",
    "zs = dict(xs, **ys) # xs에 ys를 병합해라\n",
    "zs"
   ]
  },
  {
   "cell_type": "code",
   "execution_count": 60,
   "id": "227b9228",
   "metadata": {},
   "outputs": [
    {
     "ename": "TypeError",
     "evalue": "type object got multiple values for keyword argument 'b'",
     "output_type": "error",
     "traceback": [
      "\u001b[1;31m---------------------------------------------------------------------------\u001b[0m",
      "\u001b[1;31mTypeError\u001b[0m                                 Traceback (most recent call last)",
      "\u001b[1;32m<ipython-input-60-c2d58a434070>\u001b[0m in \u001b[0;36m<module>\u001b[1;34m\u001b[0m\n\u001b[0;32m      1\u001b[0m \u001b[1;31m# 임의의 수의 딕셔너리를 병합하는 간단한 방법\u001b[0m\u001b[1;33m\u001b[0m\u001b[1;33m\u001b[0m\u001b[1;33m\u001b[0m\u001b[0m\n\u001b[0;32m      2\u001b[0m \u001b[1;33m\u001b[0m\u001b[0m\n\u001b[1;32m----> 3\u001b[1;33m \u001b[0mzs\u001b[0m \u001b[1;33m=\u001b[0m \u001b[0mdict\u001b[0m\u001b[1;33m(\u001b[0m\u001b[1;33m**\u001b[0m\u001b[0mxs\u001b[0m\u001b[1;33m,\u001b[0m \u001b[1;33m**\u001b[0m\u001b[0mys\u001b[0m\u001b[1;33m)\u001b[0m\u001b[1;33m\u001b[0m\u001b[1;33m\u001b[0m\u001b[0m\n\u001b[0m\u001b[0;32m      4\u001b[0m \u001b[1;31m# 음 안되는데? 중복 키값을 처리를 못하는데\u001b[0m\u001b[1;33m\u001b[0m\u001b[1;33m\u001b[0m\u001b[1;33m\u001b[0m\u001b[0m\n",
      "\u001b[1;31mTypeError\u001b[0m: type object got multiple values for keyword argument 'b'"
     ]
    }
   ],
   "source": [
    "# 임의의 수의 딕셔너리를 병합하는 간단한 방법\n",
    "\n",
    "zs = dict(**xs, **ys)\n",
    "# 음 안되는데? 중복 키값을 처리를 못하는데\n",
    "# 이론적으로는 오른쪽이 우선순위를 갖는다고 하는데 글쎄.."
   ]
  },
  {
   "cell_type": "markdown",
   "id": "2f8d7cb6",
   "metadata": {},
   "source": [
    "#### keypoint( 딕셔너리를 병합하는 여러 방법 )\n",
    "\n",
    "- 파이썬 3.5 dltkddptjsms ** 연산자를 사용한 표현식 하나로 딕셔너리 객체 여러개를 병합할 수 있음\n",
    "    - 적용은 왼쪽 부터임으로, 오른쪽 값이 덮어씀\n",
    "- update() 메서드를 대신 사용할 수 있음"
   ]
  },
  {
   "cell_type": "markdown",
   "id": "c58fa825",
   "metadata": {},
   "source": [
    "# 보기 좋은 딕셔너리 출력"
   ]
  },
  {
   "cell_type": "code",
   "execution_count": 61,
   "id": "3c23508d",
   "metadata": {},
   "outputs": [
    {
     "data": {
      "text/plain": [
       "{'a': 23, 'b': 42, 'c': 12648430}"
      ]
     },
     "execution_count": 61,
     "metadata": {},
     "output_type": "execute_result"
    }
   ],
   "source": [
    "mapping = {'a' : 23, 'b' : 42, 'c': 0Xc0ffee }\n",
    "mapping"
   ]
  },
  {
   "cell_type": "markdown",
   "id": "3d956c1f",
   "metadata": {},
   "source": [
    "#### json 모듈 사용하기"
   ]
  },
  {
   "cell_type": "code",
   "execution_count": 63,
   "id": "31408591",
   "metadata": {},
   "outputs": [
    {
     "name": "stdout",
     "output_type": "stream",
     "text": [
      "{\n",
      "    \"a\": 23,\n",
      "    \"b\": 42,\n",
      "    \"c\": 12648430\n",
      "}\n"
     ]
    }
   ],
   "source": [
    "import json\n",
    "\n",
    "print(json.dumps(mapping, indent = 4, sort_keys = True))"
   ]
  },
  {
   "cell_type": "markdown",
   "id": "70f31917",
   "metadata": {},
   "source": [
    "#### 그러나 json 모듈로 딕셔너리로 출력하면\n",
    "- 기본 타입만을 담은 딕셔너리에서만 작동\n",
    "- 함수와 같이 기본이 아닌 데이터 타입을 포함하는 딕셔너리를 출력할 수 없음\n",
    "- json.dump() 에는 집합과 같은 복잡한 데이터 타입을 문자열화 할수 없다는 단점도 있음"
   ]
  },
  {
   "cell_type": "markdown",
   "id": "64fabfaa",
   "metadata": {},
   "source": [
    "#### pprint 활용하기"
   ]
  },
  {
   "cell_type": "code",
   "execution_count": 65,
   "id": "239652c3",
   "metadata": {},
   "outputs": [
    {
     "name": "stdout",
     "output_type": "stream",
     "text": [
      "{'a': 23, 'b': 42, 'c': 12648430, 'd': {1, 2, 3, 4}}\n"
     ]
    }
   ],
   "source": [
    "import pprint\n",
    "\n",
    "mapping['d']= {1, 2, 3, 4}\n",
    "pprint.pprint(mapping)"
   ]
  },
  {
   "cell_type": "code",
   "execution_count": 66,
   "id": "6f78871b",
   "metadata": {},
   "outputs": [
    {
     "data": {
      "text/plain": [
       "{'a': 23, 'b': 42, 'c': 12648430, 'd': {1, 2, 3, 4}}"
      ]
     },
     "execution_count": 66,
     "metadata": {},
     "output_type": "execute_result"
    }
   ],
   "source": [
    "mapping # 현재는 딕셔너리가 pprint와 같이 볼수 있어서 딱히..?"
   ]
  },
  {
   "cell_type": "markdown",
   "id": "f2690811",
   "metadata": {},
   "source": [
    "#### keypoint ( 좋은 딕셔너리 출력 )\n",
    "\n",
    "- 딕셔너리 객체의 기본 문자열 변환은 읽기 어려울 수 있음\n",
    "- pprint 및 json 모듈은 파이썬 표준 라이브러리에 내장된 '고급' 옵션\n",
    "- json.dump()를 기본 데이터 타입이 아닌 키나 값과 함께 사용할 때는 Type Error 가 발생하므로 주의"
   ]
  },
  {
   "attachments": {
    "image.png": {
     "image/png": "[encoded data removed]"
    }
   },
   "cell_type": "markdown",
   "id": "057729e0",
   "metadata": {},
   "source": [
    "#### 해쉬란\n",
    "\n",
    "용어\n",
    "- 해쉬(Hash): 임의 값을 고정 길이로 변환하는 것을 의미.\n",
    "- 해쉬 함수(Hash Function): 특정 연산을 이용하여 키 값을 받아서 value를 가진 공간의 주소로 바꾸어주는 함수를 의미.\n",
    "- 해쉬 테이블(Hash Table): 해쉬 구조를 사용하는 데이터 구조.\n",
    "- 해쉬 값(해쉬 주소, Hash Value or Address): Key값을 해쉬 함수에 넣어서 얻은 주소값을 의미. 이 값을 통해 슬롯을 찾아감.\n",
    "- 슬롯(Slot): 한 개의 데이터를 저장할 수 있는 공간을 의미. (아래 그림에서는 bucket)\n",
    "\n",
    "\n",
    "![image.png](attachment:image.png)\n",
    "\n"
   ]
  },
  {
   "cell_type": "code",
   "execution_count": null,
   "id": "d2edebef",
   "metadata": {},
   "outputs": [],
   "source": []
  }
 ],
 "metadata": {
  "jupytext": {
   "encoding": "# -*- coding: utf-8 -*-",
   "formats": "ipynb,py:light"
  },
  "kernelspec": {
   "display_name": "Python 3",
   "language": "python",
   "name": "python3"
  },
  "language_info": {
   "codemirror_mode": {
    "name": "ipython",
    "version": 3
   },
   "file_extension": ".py",
   "mimetype": "text/x-python",
   "name": "python",
   "nbconvert_exporter": "python",
   "pygments_lexer": "ipython3",
   "version": "3.8.10"
  }
 },
 "nbformat": 4,
 "nbformat_minor": 5
}
