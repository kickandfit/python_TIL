{
 "cells": [
  {
   "cell_type": "code",
   "execution_count": 1,
   "id": "17d23cf6",
   "metadata": {},
   "outputs": [],
   "source": [
    "import requests\n",
    "from bs4 import BeautifulSoup as bs"
   ]
  },
  {
   "cell_type": "code",
   "execution_count": 7,
   "id": "ffcfaef8",
   "metadata": {},
   "outputs": [
    {
     "name": "stdout",
     "output_type": "stream",
     "text": [
      "<ul class=\"list_nav NM_FAVORITE_LIST\">\n",
      "<li class=\"nav_item\"><a class=\"nav\" data-clk=\"svc.dic\" href=\"https://dict.naver.com/\">사전</a></li>\n",
      "<li class=\"nav_item\"><a class=\"nav\" data-clk=\"svc.news\" href=\"https://news.naver.com/\">뉴스</a></li>\n",
      "<li class=\"nav_item\"><a class=\"nav\" data-clk=\"svc.stock\" href=\"https://finance.naver.com/\">증권</a></li>\n",
      "<li class=\"nav_item\"><a class=\"nav\" data-clk=\"svc.land\" href=\"https://land.naver.com/\">부동산</a></li>\n",
      "<li class=\"nav_item\"><a class=\"nav\" data-clk=\"svc.map\" href=\"https://map.naver.com/\">지도</a></li>\n",
      "<li class=\"nav_item\"><a class=\"nav\" data-clk=\"svc.vibe\" href=\"https://vibe.naver.com/\">VIBE</a></li>\n",
      "<li class=\"nav_item\"><a class=\"nav\" data-clk=\"svc.book\" href=\"https://book.naver.com/\">책</a></li>\n",
      "<li class=\"nav_item\"><a class=\"nav\" data-clk=\"svc.webtoon\" href=\"https://comic.naver.com/\">웹툰</a></li>\n",
      "</ul>\n"
     ]
    }
   ],
   "source": [
    "url = 'https://www.naver.com/'\n",
    "nav_html = requests.get(url)\n",
    "\n",
    "\n",
    "soup = bs(nav_html.content , 'html.parser')\n",
    "\n",
    "ul_soup = soup.find('ul', class_=\"list_nav NM_FAVORITE_LIST\")\n",
    "print(ul_soup)\n"
   ]
  },
  {
   "cell_type": "code",
   "execution_count": 8,
   "id": "d79c5d34",
   "metadata": {},
   "outputs": [
    {
     "name": "stdout",
     "output_type": "stream",
     "text": [
      "사전\n",
      "뉴스\n",
      "증권\n",
      "부동산\n",
      "지도\n",
      "VIBE\n",
      "책\n",
      "웹툰\n"
     ]
    }
   ],
   "source": [
    "li_soup=ul_soup.find_all('li')\n",
    "for li in li_soup:\n",
    "    print(li.text)"
   ]
  },
  {
   "cell_type": "markdown",
   "id": "7ee99584",
   "metadata": {},
   "source": [
    "### 네이버에서 뉴스에서 코로나를 검색하고 관련 내용 끌어오기"
   ]
  },
  {
   "cell_type": "code",
   "execution_count": 23,
   "id": "37b7c848",
   "metadata": {},
   "outputs": [
    {
     "name": "stdout",
     "output_type": "stream",
     "text": [
      "[전문] 노을 이상곤, 코로나19 확진\n",
      "한은, 기준금리 동결…\"코로나 불확실성 잠재\"(종합2보)\n",
      "김요한·노을 이상곤도 코로나19 확진…방송·가요계 연일 '비상'[종합]\n",
      "차지연, 코로나 19 완치 판정 \"자가격리서 해제\" (전문)\n",
      "금통위, 코로나 확산에도 금리 인상 시그널..\"통화완화 정도 조정할 것\"(상보...\n",
      "[단독]김요한, 코로나19 확진…방송가 '비상'\n",
      "민·관 협력해 ‘코로나 블루’ 디지털 치료제 개발에 나선다\n",
      "김요한, 코로나19 확진에 방송가 비상…김구라·박명수 등 검사 진행(종합)\n",
      "[단독]차지연, 코로나 완치..'레드북' '광화문연가'로 활동 재개 [종합]\n",
      "[종합]코로나 신규 확진자 1600명, 이틀째 1600명 이상 발생\n"
     ]
    }
   ],
   "source": [
    "import sys\n",
    "\n",
    "\n",
    "### 뉴스 기사 정보 가져와 파씽 처리\n",
    "url = 'https://search.naver.com/search.naver?where=news&sm=tab_jum&query=코로나'\n",
    "\n",
    "nav_html=requests.get(url)\n",
    "if nav_html.status_code == 200:\n",
    "    nav_soup = bs(nav_html.text, 'html.parser')\n",
    "else:\n",
    "    sys.exit(0)\n",
    "\n",
    "\n",
    "#print(nav_soup)\n",
    "\n"
   ]
  },
  {
   "cell_type": "code",
   "execution_count": 29,
   "id": "ce946e69",
   "metadata": {},
   "outputs": [
    {
     "name": "stdout",
     "output_type": "stream",
     "text": [
      "[전문] 노을 이상곤, 코로나19 확진\n",
      "한은, 기준금리 동결…\"코로나 불확실성 잠재\"(종합2보)\n",
      "김요한·노을 이상곤도 코로나19 확진…방송·가요계 연일 '비상'[종합]\n",
      "차지연, 코로나 19 완치 판정 \"자가격리서 해제\" (전문)\n",
      "금통위, 코로나 확산에도 금리 인상 시그널..\"통화완화 정도 조정할 것\"(상보...\n",
      "[단독]김요한, 코로나19 확진…방송가 '비상'\n",
      "민·관 협력해 ‘코로나 블루’ 디지털 치료제 개발에 나선다\n",
      "김요한, 코로나19 확진에 방송가 비상…김구라·박명수 등 검사 진행(종합)\n",
      "[단독]차지연, 코로나 완치..'레드북' '광화문연가'로 활동 재개 [종합]\n",
      "[종합]코로나 신규 확진자 1600명, 이틀째 1600명 이상 발생\n"
     ]
    }
   ],
   "source": [
    "### 첫페이지 뉴스 제목 가져오기\n",
    "\n",
    "list_news = nav_soup.find('ul', class_='list_news')\n",
    "prn_soup = list_news.find_all('a', class_=\"news_tit\")\n",
    "\n",
    "for a in prn_soup:\n",
    "    print(a.text)"
   ]
  },
  {
   "cell_type": "code",
   "execution_count": 27,
   "id": "981cf841",
   "metadata": {},
   "outputs": [
    {
     "name": "stdout",
     "output_type": "stream",
     "text": [
      "그룹 노을 이상곤이 코로나19에 확진했다. 소속사 씨제스엔터테인먼트 측은 15일 공식입장을 통해 “당사 소속 가수 노을 이상곤이 오늘 오전(15일) 코로나19 양성 반응 통보를 받았다”고 밝혔다. 이어 소속사 측은...\n",
      "민간소비는 코로나19 재확산으로 일시적으로 주춤하겠지만 추가경정예산 집행 등으로 다시 회복할 것... 보이나, 코로나19 확산과 관련한 불확실성이 잠재해 있으므로 통화정책의 완화기조를 유지해 나갈 것\"이라며 \"이...\n",
      "연예계 코로나19(신종 코로나바이러스 감염증) 확산세가 심상치 않다. 배구선수 출신 방송인 김요한과 그룹 노을 이상곤의 확진 소식이 15일 나란히 들려오며 업계를 연일 긴장시켰다. 김요한은 지난 14일 몸에 이상을...\n",
      "배우 차지연이 신종 코로나 바이러스 감염증(코로나 19) 완치 판정을 받고 일상에 복귀했다. 15일 차지연의 소속사 씨제스 엔터테인먼트 측은 공식입장을 통해 \"차지연이 어제(14일) 최종 음성 판정을 받고...\n",
      "것이다.” 코로나19 일일 확진자 수가 열흘 째 1000명대를 웃돌며 4차 대유행이 시작됐지만 한국은행의 기준금리 인상 기조는 꺾이지 않았다. 코로나19 확산세에도 올해 4% 경제성장률이 달성 가능할 것으로 내다봤고...\n",
      "전 배구선수 김요한이 코로나19 확진 판정을 받았다. 방송가에 비상이 걸렸다. 15일 방송가에 따르면 김요한은 이날 코로나19 확진 판정을 받았다. 전날 이상 증세를 느끼고 자발적으로 코로나19 검사를 받은 결과 코로나...\n",
      "과기부, 학계·병원·IT기업과 ‘코로나 우울증 예방·관리 플랫폼’ 개발 2024년까지 140억원 정부예산... 제공” 코로나 블루. 클립아트코리아 정부가 학계?병원?정보통신기술(IT) 기업 등과 손잡고 이른바 ‘코로나...\n",
      "배구선수 출신 방송인 김요한이 신종 코로나바이러스 감염증(코로나19) 확진 판정을 받은 가운데, 방송가에도 비상이 걸렸다. 15일 뉴스1 취재 결과, 김요한은 최근 코로나19 확진 판정을 받고 이 사실을 고정 출연 중인...\n",
      "뮤지컬 배우 차지연이 코로나19 완치 판정을 받았다. 이에 뮤지컬 '레드북', '광화문연가'를 통해 무대에 복귀한다. 15일 스타뉴스 취재 결과 코로나19 양성 판정을 받았던 차지연이 지난 14일 코로나 완치 통보를 받고...\n",
      "코로나19 신규 확진자가 1600명 발생했다. 이틀 연속 1600명 이상 발생이다. 지난 7일 4차 대유행이... 한편 이날 0시까지 코로나19 예방백신 신규 접종은 21만3631명이다. 1차 신규 접종이 11만1631명으로 총...\n"
     ]
    }
   ],
   "source": [
    "### 첫 페이지 요약 내용 가져오기\n",
    "\n",
    "list_news = nav_soup.find('ul', class_='list_news')\n",
    "prn_soup = list_news.find_all('a', class_=\"api_txt_lines dsc_txt_wrap\")\n",
    "\n",
    "for a in prn_soup:\n",
    "    print(a.text)"
   ]
  },
  {
   "cell_type": "code",
   "execution_count": 33,
   "id": "e67aac26",
   "metadata": {},
   "outputs": [
    {
     "name": "stdout",
     "output_type": "stream",
     "text": [
      "[제목] [전문] 노을 이상곤, 코로나19 확진\n",
      "[내용] 그룹 노을 이상곤이 코로나19에 확진했다. 소속사 씨제스엔터테인먼트 측은 15일 공식입장을 통해 “당사 소속 가수 노을 이상곤이 오늘 오전(15일) 코로나19 양성 반응 통보를 받았다”고 밝혔다. 이어 소속사 측은...\n",
      "[제목] 한은, 기준금리 동결…\"코로나 불확실성 잠재\"(종합2보)\n",
      "[내용] 민간소비는 코로나19 재확산으로 일시적으로 주춤하겠지만 추가경정예산 집행 등으로 다시 회복할 것... 보이나, 코로나19 확산과 관련한 불확실성이 잠재해 있으므로 통화정책의 완화기조를 유지해 나갈 것\"이라며 \"이...\n",
      "[제목] 김요한·노을 이상곤도 코로나19 확진…방송·가요계 연일 '비상'[종합]\n",
      "[내용] 연예계 코로나19(신종 코로나바이러스 감염증) 확산세가 심상치 않다. 배구선수 출신 방송인 김요한과 그룹 노을 이상곤의 확진 소식이 15일 나란히 들려오며 업계를 연일 긴장시켰다. 김요한은 지난 14일 몸에 이상을...\n",
      "[제목] 차지연, 코로나 19 완치 판정 \"자가격리서 해제\" (전문)\n",
      "[내용] 배우 차지연이 신종 코로나 바이러스 감염증(코로나 19) 완치 판정을 받고 일상에 복귀했다. 15일 차지연의 소속사 씨제스 엔터테인먼트 측은 공식입장을 통해 \"차지연이 어제(14일) 최종 음성 판정을 받고...\n",
      "[제목] 금통위, 코로나 확산에도 금리 인상 시그널..\"통화완화 정도 조정할 것\"(상보...\n",
      "[내용] 것이다.” 코로나19 일일 확진자 수가 열흘 째 1000명대를 웃돌며 4차 대유행이 시작됐지만 한국은행의 기준금리 인상 기조는 꺾이지 않았다. 코로나19 확산세에도 올해 4% 경제성장률이 달성 가능할 것으로 내다봤고...\n",
      "[제목] [단독]김요한, 코로나19 확진…방송가 '비상'\n",
      "[내용] 전 배구선수 김요한이 코로나19 확진 판정을 받았다. 방송가에 비상이 걸렸다. 15일 방송가에 따르면 김요한은 이날 코로나19 확진 판정을 받았다. 전날 이상 증세를 느끼고 자발적으로 코로나19 검사를 받은 결과 코로나...\n",
      "[제목] 민·관 협력해 ‘코로나 블루’ 디지털 치료제 개발에 나선다\n",
      "[내용] 과기부, 학계·병원·IT기업과 ‘코로나 우울증 예방·관리 플랫폼’ 개발 2024년까지 140억원 정부예산... 제공” 코로나 블루. 클립아트코리아 정부가 학계?병원?정보통신기술(IT) 기업 등과 손잡고 이른바 ‘코로나...\n",
      "[제목] 김요한, 코로나19 확진에 방송가 비상…김구라·박명수 등 검사 진행(종합)\n",
      "[내용] 배구선수 출신 방송인 김요한이 신종 코로나바이러스 감염증(코로나19) 확진 판정을 받은 가운데, 방송가에도 비상이 걸렸다. 15일 뉴스1 취재 결과, 김요한은 최근 코로나19 확진 판정을 받고 이 사실을 고정 출연 중인...\n",
      "[제목] [단독]차지연, 코로나 완치..'레드북' '광화문연가'로 활동 재개 [종합]\n",
      "[내용] 뮤지컬 배우 차지연이 코로나19 완치 판정을 받았다. 이에 뮤지컬 '레드북', '광화문연가'를 통해 무대에 복귀한다. 15일 스타뉴스 취재 결과 코로나19 양성 판정을 받았던 차지연이 지난 14일 코로나 완치 통보를 받고...\n",
      "[제목] [종합]코로나 신규 확진자 1600명, 이틀째 1600명 이상 발생\n",
      "[내용] 코로나19 신규 확진자가 1600명 발생했다. 이틀 연속 1600명 이상 발생이다. 지난 7일 4차 대유행이... 한편 이날 0시까지 코로나19 예방백신 신규 접종은 21만3631명이다. 1차 신규 접종이 11만1631명으로 총...\n"
     ]
    }
   ],
   "source": [
    "###뉴스 제목과 내용 두가지 모두 출력\n",
    "\n",
    "news_soup=nav_soup.find_all('div',class_=\"news_area\")\n",
    "\n",
    "for news in news_soup:\n",
    "    print(\"[제목]\", news.find('a', class_=\"news_tit\").text)\n",
    "    print(\"[내용]\", news.find('a', class_=\"api_txt_lines dsc_txt_wrap\").text)\n"
   ]
  },
  {
   "cell_type": "code",
   "execution_count": 35,
   "id": "9701764f",
   "metadata": {},
   "outputs": [
    {
     "data": {
      "text/html": [
       "<div>\n",
       "<style scoped>\n",
       "    .dataframe tbody tr th:only-of-type {\n",
       "        vertical-align: middle;\n",
       "    }\n",
       "\n",
       "    .dataframe tbody tr th {\n",
       "        vertical-align: top;\n",
       "    }\n",
       "\n",
       "    .dataframe thead th {\n",
       "        text-align: right;\n",
       "    }\n",
       "</style>\n",
       "<table border=\"1\" class=\"dataframe\">\n",
       "  <thead>\n",
       "    <tr style=\"text-align: right;\">\n",
       "      <th></th>\n",
       "      <th>제목</th>\n",
       "      <th>내용</th>\n",
       "    </tr>\n",
       "  </thead>\n",
       "  <tbody>\n",
       "    <tr>\n",
       "      <th>0</th>\n",
       "      <td>[전문] 노을 이상곤, 코로나19 확진</td>\n",
       "      <td>그룹 노을 이상곤이 코로나19에 확진했다. 소속사 씨제스엔터테인먼트 측은 15일 공...</td>\n",
       "    </tr>\n",
       "    <tr>\n",
       "      <th>1</th>\n",
       "      <td>한은, 기준금리 동결…\"코로나 불확실성 잠재\"(종합2보)</td>\n",
       "      <td>민간소비는 코로나19 재확산으로 일시적으로 주춤하겠지만 추가경정예산 집행 등으로 다...</td>\n",
       "    </tr>\n",
       "    <tr>\n",
       "      <th>2</th>\n",
       "      <td>김요한·노을 이상곤도 코로나19 확진…방송·가요계 연일 '비상'[종합]</td>\n",
       "      <td>연예계 코로나19(신종 코로나바이러스 감염증) 확산세가 심상치 않다. 배구선수 출신...</td>\n",
       "    </tr>\n",
       "    <tr>\n",
       "      <th>3</th>\n",
       "      <td>차지연, 코로나 19 완치 판정 \"자가격리서 해제\" (전문)</td>\n",
       "      <td>배우 차지연이 신종 코로나 바이러스 감염증(코로나 19) 완치 판정을 받고 일상에 ...</td>\n",
       "    </tr>\n",
       "    <tr>\n",
       "      <th>4</th>\n",
       "      <td>금통위, 코로나 확산에도 금리 인상 시그널..\"통화완화 정도 조정할 것\"(상보...</td>\n",
       "      <td>것이다.” 코로나19 일일 확진자 수가 열흘 째 1000명대를 웃돌며 4차 대유행이...</td>\n",
       "    </tr>\n",
       "    <tr>\n",
       "      <th>5</th>\n",
       "      <td>[단독]김요한, 코로나19 확진…방송가 '비상'</td>\n",
       "      <td>전 배구선수 김요한이 코로나19 확진 판정을 받았다. 방송가에 비상이 걸렸다. 15...</td>\n",
       "    </tr>\n",
       "    <tr>\n",
       "      <th>6</th>\n",
       "      <td>민·관 협력해 ‘코로나 블루’ 디지털 치료제 개발에 나선다</td>\n",
       "      <td>과기부, 학계·병원·IT기업과 ‘코로나 우울증 예방·관리 플랫폼’ 개발 2024년까...</td>\n",
       "    </tr>\n",
       "    <tr>\n",
       "      <th>7</th>\n",
       "      <td>김요한, 코로나19 확진에 방송가 비상…김구라·박명수 등 검사 진행(종합)</td>\n",
       "      <td>배구선수 출신 방송인 김요한이 신종 코로나바이러스 감염증(코로나19) 확진 판정을 ...</td>\n",
       "    </tr>\n",
       "    <tr>\n",
       "      <th>8</th>\n",
       "      <td>[단독]차지연, 코로나 완치..'레드북' '광화문연가'로 활동 재개 [종합]</td>\n",
       "      <td>뮤지컬 배우 차지연이 코로나19 완치 판정을 받았다. 이에 뮤지컬 '레드북', '광...</td>\n",
       "    </tr>\n",
       "    <tr>\n",
       "      <th>9</th>\n",
       "      <td>[종합]코로나 신규 확진자 1600명, 이틀째 1600명 이상 발생</td>\n",
       "      <td>코로나19 신규 확진자가 1600명 발생했다. 이틀 연속 1600명 이상 발생이다....</td>\n",
       "    </tr>\n",
       "  </tbody>\n",
       "</table>\n",
       "</div>"
      ],
      "text/plain": [
       "                                               제목  \\\n",
       "0                           [전문] 노을 이상곤, 코로나19 확진   \n",
       "1                 한은, 기준금리 동결…\"코로나 불확실성 잠재\"(종합2보)   \n",
       "2         김요한·노을 이상곤도 코로나19 확진…방송·가요계 연일 '비상'[종합]   \n",
       "3               차지연, 코로나 19 완치 판정 \"자가격리서 해제\" (전문)   \n",
       "4  금통위, 코로나 확산에도 금리 인상 시그널..\"통화완화 정도 조정할 것\"(상보...   \n",
       "5                      [단독]김요한, 코로나19 확진…방송가 '비상'   \n",
       "6                민·관 협력해 ‘코로나 블루’ 디지털 치료제 개발에 나선다   \n",
       "7       김요한, 코로나19 확진에 방송가 비상…김구라·박명수 등 검사 진행(종합)   \n",
       "8      [단독]차지연, 코로나 완치..'레드북' '광화문연가'로 활동 재개 [종합]   \n",
       "9           [종합]코로나 신규 확진자 1600명, 이틀째 1600명 이상 발생   \n",
       "\n",
       "                                                  내용  \n",
       "0  그룹 노을 이상곤이 코로나19에 확진했다. 소속사 씨제스엔터테인먼트 측은 15일 공...  \n",
       "1  민간소비는 코로나19 재확산으로 일시적으로 주춤하겠지만 추가경정예산 집행 등으로 다...  \n",
       "2  연예계 코로나19(신종 코로나바이러스 감염증) 확산세가 심상치 않다. 배구선수 출신...  \n",
       "3  배우 차지연이 신종 코로나 바이러스 감염증(코로나 19) 완치 판정을 받고 일상에 ...  \n",
       "4  것이다.” 코로나19 일일 확진자 수가 열흘 째 1000명대를 웃돌며 4차 대유행이...  \n",
       "5  전 배구선수 김요한이 코로나19 확진 판정을 받았다. 방송가에 비상이 걸렸다. 15...  \n",
       "6  과기부, 학계·병원·IT기업과 ‘코로나 우울증 예방·관리 플랫폼’ 개발 2024년까...  \n",
       "7  배구선수 출신 방송인 김요한이 신종 코로나바이러스 감염증(코로나19) 확진 판정을 ...  \n",
       "8  뮤지컬 배우 차지연이 코로나19 완치 판정을 받았다. 이에 뮤지컬 '레드북', '광...  \n",
       "9  코로나19 신규 확진자가 1600명 발생했다. 이틀 연속 1600명 이상 발생이다....  "
      ]
     },
     "execution_count": 35,
     "metadata": {},
     "output_type": "execute_result"
    }
   ],
   "source": [
    "import pandas as pd\n",
    "\n",
    "news_soup=nav_soup.find_all('div',class_=\"news_area\")\n",
    "news_list = []\n",
    "for news in news_soup:\n",
    "    title = news.find('a', class_=\"news_tit\").text\n",
    "    body = news.find('a', class_=\"api_txt_lines dsc_txt_wrap\").text\n",
    "    news_list.append({'제목':title , '내용' : body})\n",
    "\n",
    "df = pd.DataFrame(news_list)\n",
    "df"
   ]
  },
  {
   "cell_type": "code",
   "execution_count": 36,
   "id": "e6133af7",
   "metadata": {},
   "outputs": [
    {
     "ename": "TypeError",
     "evalue": "'int' object is not subscriptable",
     "output_type": "error",
     "traceback": [
      "\u001b[1;31m---------------------------------------------------------------------------\u001b[0m",
      "\u001b[1;31mTypeError\u001b[0m                                 Traceback (most recent call last)",
      "\u001b[1;32m<ipython-input-36-ae50ad01e2f2>\u001b[0m in \u001b[0;36m<module>\u001b[1;34m\u001b[0m\n\u001b[0;32m      1\u001b[0m \u001b[0ma\u001b[0m \u001b[1;33m=\u001b[0m \u001b[1;36m123421\u001b[0m\u001b[1;33m\u001b[0m\u001b[1;33m\u001b[0m\u001b[0m\n\u001b[1;32m----> 2\u001b[1;33m \u001b[0ma\u001b[0m\u001b[1;33m[\u001b[0m\u001b[1;36m2\u001b[0m\u001b[1;33m:\u001b[0m\u001b[1;36m4\u001b[0m\u001b[1;33m]\u001b[0m\u001b[1;33m\u001b[0m\u001b[1;33m\u001b[0m\u001b[0m\n\u001b[0m",
      "\u001b[1;31mTypeError\u001b[0m: 'int' object is not subscriptable"
     ]
    }
   ],
   "source": [
    "a = 123421\n",
    "a[2:4]"
   ]
  },
  {
   "cell_type": "code",
   "execution_count": 39,
   "id": "14cdce41",
   "metadata": {},
   "outputs": [],
   "source": [
    "import numpy as np\n",
    "import random"
   ]
  },
  {
   "cell_type": "code",
   "execution_count": 42,
   "id": "584554dc",
   "metadata": {},
   "outputs": [
    {
     "data": {
      "text/plain": [
       "[4, 1, 3]"
      ]
     },
     "execution_count": 42,
     "metadata": {},
     "output_type": "execute_result"
    }
   ],
   "source": [
    "num = random.sample(range(1,16),3)\n",
    "num"
   ]
  },
  {
   "cell_type": "code",
   "execution_count": 43,
   "id": "a938a499",
   "metadata": {},
   "outputs": [],
   "source": [
    "num = random.randrange(1,16,3)"
   ]
  },
  {
   "cell_type": "code",
   "execution_count": 44,
   "id": "9b9d3c2d",
   "metadata": {},
   "outputs": [
    {
     "data": {
      "text/plain": [
       "4"
      ]
     },
     "execution_count": 44,
     "metadata": {},
     "output_type": "execute_result"
    }
   ],
   "source": [
    "num"
   ]
  },
  {
   "cell_type": "code",
   "execution_count": null,
   "id": "3b42be17",
   "metadata": {},
   "outputs": [],
   "source": []
  }
 ],
 "metadata": {
  "kernelspec": {
   "display_name": "Python 3",
   "language": "python",
   "name": "python3"
  },
  "language_info": {
   "codemirror_mode": {
    "name": "ipython",
    "version": 3
   },
   "file_extension": ".py",
   "mimetype": "text/x-python",
   "name": "python",
   "nbconvert_exporter": "python",
   "pygments_lexer": "ipython3",
   "version": "3.9.4"
  }
 },
 "nbformat": 4,
 "nbformat_minor": 5
}
