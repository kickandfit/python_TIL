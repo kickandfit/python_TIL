{
 "cells": [
  {
   "cell_type": "code",
   "execution_count": 2,
   "metadata": {
    "colab": {
     "base_uri": "https://localhost:8080/"
    },
    "executionInfo": {
     "elapsed": 609,
     "status": "ok",
     "timestamp": 1628749225219,
     "user": {
      "displayName": "두드림",
      "photoUrl": "https://lh3.googleusercontent.com/a-/AOh14GjzXad5nuvxpsURPSSa0wwNUQw7ZxAVNBPF9kyp=s64",
      "userId": "16001116907625236704"
     },
     "user_tz": -540
    },
    "id": "01PbXrDU_M_2",
    "outputId": "42b4b304-c81b-42cb-8ea4-baebfeccd907"
   },
   "outputs": [
    {
     "name": "stdout",
     "output_type": "stream",
     "text": [
      "오답 수:  8\n",
      "[[129   2]\n",
      " [  6  68]]\n",
      "              precision    recall  f1-score   support\n",
      "\n",
      "           2       0.96      0.98      0.97       131\n",
      "           4       0.97      0.92      0.94        74\n",
      "\n",
      "    accuracy                           0.96       205\n",
      "   macro avg       0.96      0.95      0.96       205\n",
      "weighted avg       0.96      0.96      0.96       205\n",
      "\n"
     ]
    }
   ],
   "source": [
    "from sklearn import metrics\n",
    "from sklearn import tree\n",
    "from sklearn.model_selection import train_test_split\n",
    "from sklearn import preprocessing\n",
    "import pandas as pd\n",
    "import numpy as np\n",
    "import seaborn as sns\n",
    "from sklearn import svm\n",
    "\n",
    "\n",
    "uci_path = 'https://archive.ics.uci.edu/ml/machine-learning-databases/breast-cancer-wisconsin/breast-cancer-wisconsin.data'\n",
    "\n",
    "df = pd.read_csv(uci_path, header = None)\n",
    "\n",
    "# 열 이름 지정\n",
    "\n",
    "df.columns = ['id','clump', 'cell_size',\n",
    "              'cell_shape', 'adhesion', 'epithlial',\n",
    "              'bare_nuclei', 'chromatin',\n",
    "              'normal_nucleoli', 'mitoses', 'class']\n",
    "df['bare_nuclei'].replace('?', np.nan, inplace = True) # ? 를 nan 으로 변경\n",
    "df.dropna(subset = ['bare_nuclei'], axis = 0, inplace = True) # 누락데이터 행 삭제\n",
    "df['bare_nuclei'] = df['bare_nuclei'].astype('int') # 문자열을 상수열로 변경\n",
    "\n",
    "# 속성(변수) 선택\n",
    "X = df[['clump', 'cell_size', 'cell_shape', 'adhesion', 'epithlial',\n",
    "        'bare_nuclei', 'chromatin', 'normal_nucleoli', 'mitoses']]\n",
    "y = df['class']\n",
    "\n",
    "X = preprocessing.StandardScaler().fit(X).transform(X)\n",
    "X_train, X_test, y_train, y_test = train_test_split(X, y, test_size = 0.3, random_state = 10)\n",
    "\n",
    "from sklearn.neighbors import KNeighborsClassifier\n",
    "\n",
    "# 모형 객체 생성 ( k = 5 설정 )\n",
    "knn = KNeighborsClassifier(n_neighbors = 5)\n",
    "\n",
    "# train data를 가지고 모형 학습\n",
    "\n",
    "knn.fit(X_train, y_train)\n",
    "y_hat = knn.predict(X_test)\n",
    "df = pd.DataFrame({'y_hat' : y_hat , 'y' : y_test})\n",
    "df['차이'] = df['y_hat'] == df['y']\n",
    "print('오답 수: ', len(df)- sum(df['차이'])) # True 는 1 이니까\n",
    "knn_matrix = metrics.confusion_matrix(y_test, y_hat)\n",
    "print(knn_matrix)\n",
    "\n",
    "knn_report = metrics.classification_report(y_test, y_hat)\n",
    "print(knn_report)\n"
   ]
  },
  {
   "cell_type": "code",
   "execution_count": 3,
   "metadata": {
    "colab": {
     "base_uri": "https://localhost:8080/"
    },
    "executionInfo": {
     "elapsed": 571,
     "status": "ok",
     "timestamp": 1628749235016,
     "user": {
      "displayName": "두드림",
      "photoUrl": "https://lh3.googleusercontent.com/a-/AOh14GjzXad5nuvxpsURPSSa0wwNUQw7ZxAVNBPF9kyp=s64",
      "userId": "16001116907625236704"
     },
     "user_tz": -540
    },
    "id": "t0HTfMz8AK0v",
    "outputId": "103d42a0-10e4-430b-b429-3c7a2df12f39"
   },
   "outputs": [
    {
     "name": "stdout",
     "output_type": "stream",
     "text": [
      "오답 수:  5\n",
      "[[127   4]\n",
      " [  1  73]]\n",
      "              precision    recall  f1-score   support\n",
      "\n",
      "           2       0.99      0.97      0.98       131\n",
      "           4       0.95      0.99      0.97        74\n",
      "\n",
      "    accuracy                           0.98       205\n",
      "   macro avg       0.97      0.98      0.97       205\n",
      "weighted avg       0.98      0.98      0.98       205\n",
      "\n"
     ]
    }
   ],
   "source": [
    "\n",
    "\n",
    "uci_path = 'https://archive.ics.uci.edu/ml/machine-learning-databases/breast-cancer-wisconsin/breast-cancer-wisconsin.data'\n",
    "\n",
    "df = pd.read_csv(uci_path, header = None)\n",
    "\n",
    "# 열 이름 지정\n",
    "\n",
    "df.columns = ['id','clump', 'cell_size',\n",
    "              'cell_shape', 'adhesion', 'epithlial',\n",
    "              'bare_nuclei', 'chromatin',\n",
    "              'normal_nucleoli', 'mitoses', 'class']\n",
    "df['bare_nuclei'].replace('?', np.nan, inplace = True) # ? 를 nan 으로 변경\n",
    "df.dropna(subset = ['bare_nuclei'], axis = 0, inplace = True) # 누락데이터 행 삭제\n",
    "df['bare_nuclei'] = df['bare_nuclei'].astype('int') # 문자열을 상수열로 변경\n",
    "\n",
    "# 속성(변수) 선택\n",
    "X = df[['clump', 'cell_size', 'cell_shape', 'adhesion', 'epithlial',\n",
    "        'bare_nuclei', 'chromatin', 'normal_nucleoli', 'mitoses']]\n",
    "y = df['class']\n",
    "\n",
    "X = preprocessing.StandardScaler().fit(X).transform(X)\n",
    "X_train, X_test, y_train, y_test = train_test_split(X, y, test_size = 0.3, random_state = 10)\n",
    "svm_model = svm.SVC()\n",
    "\n",
    "svm_model.fit(X_train, y_train)\n",
    "\n",
    "y_hat = svm_model.predict(X_test)\n",
    "df = pd.DataFrame({'y_hat' : y_hat , 'y' : y_test})\n",
    "df['차이'] = df['y_hat'] == df['y']\n",
    "print('오답 수: ', len(df)- sum(df['차이'])) # True 는 1 이니까\n",
    "from sklearn import metrics\n",
    "svm_matrix = metrics.confusion_matrix(y_test, y_hat)\n",
    "print(svm_matrix)\n",
    "svm_report = metrics.classification_report(y_test, y_hat)\n",
    "print(svm_report)"
   ]
  },
  {
   "cell_type": "code",
   "execution_count": 4,
   "metadata": {
    "colab": {
     "base_uri": "https://localhost:8080/"
    },
    "executionInfo": {
     "elapsed": 536,
     "status": "ok",
     "timestamp": 1628749393149,
     "user": {
      "displayName": "두드림",
      "photoUrl": "https://lh3.googleusercontent.com/a-/AOh14GjzXad5nuvxpsURPSSa0wwNUQw7ZxAVNBPF9kyp=s64",
      "userId": "16001116907625236704"
     },
     "user_tz": -540
    },
    "id": "hlzVMJ7bBChT",
    "outputId": "c575d6ab-fcc1-4725-bb4d-bf7f874a3619"
   },
   "outputs": [
    {
     "name": "stdout",
     "output_type": "stream",
     "text": [
      "train data 개수:  (499, 9)\n",
      "test data 개수:  (215, 9)\n",
      "오답 수:  40\n",
      "[[120   5]\n",
      " [ 35  55]]\n",
      "              precision    recall  f1-score   support\n",
      "\n",
      "           0       0.77      0.96      0.86       125\n",
      "           1       0.92      0.61      0.73        90\n",
      "\n",
      "    accuracy                           0.81       215\n",
      "   macro avg       0.85      0.79      0.80       215\n",
      "weighted avg       0.83      0.81      0.81       215\n",
      "\n"
     ]
    }
   ],
   "source": [
    "df = sns.load_dataset('titanic')\n",
    "rdf = df.drop(['deck', 'embark_town'], axis = 1)\n",
    "\n",
    "rdf = rdf.dropna(subset = ['age'], how = 'any' , axis = 0)\n",
    "\n",
    "most_freq = rdf['embarked'].value_counts(dropna = True).idxmax ()\n",
    "rdf['embarked'].fillna(most_freq, inplace = True)\n",
    "ndf = rdf[['survived', 'pclass', 'sex', 'age', 'sibsp', 'parch', 'embarked']]\n",
    "onehot_sex = pd.get_dummies(ndf['sex'])\n",
    "ndf = pd.concat([ndf, onehot_sex], axis = 1)\n",
    "onehot_embarked = pd.get_dummies(ndf['embarked'], prefix = 'town')\n",
    "ndf = pd.concat([ndf, onehot_embarked], axis = 1)\n",
    "ndf.drop(['sex','embarked'], axis = 1, inplace = True)\n",
    "X=ndf[['pclass', 'age', 'sibsp', 'parch', 'female', 'male',\n",
    "       'town_C','town_Q','town_S']]\n",
    "y = ndf['survived']\n",
    "X_train, X_test, y_train, y_test = train_test_split(X, y,\n",
    "                                                    test_size = 0.3, random_state = 10)\n",
    "print('train data 개수: ', X_train.shape)\n",
    "print('test data 개수: ', X_test.shape)\n",
    "tree_model = tree.DecisionTreeClassifier(criterion = 'entropy', max_depth = 5)\n",
    "tree_model.fit(X_train, y_train)\n",
    "y_hat = tree_model.predict(X_test)\n",
    "df = pd.DataFrame({'y_hat':y_hat, 'y':y_test})\n",
    "df['차이'] = df['y_hat'] == df['y']\n",
    "print('오답 수: ', len(df) - sum(df['차이']))\n",
    "tree_matrix = metrics.confusion_matrix(y_test, y_hat)\n",
    "print(tree_matrix)\n",
    "tree_report = metrics.classification_report(y_test, y_hat)\n",
    "print(tree_report)"
   ]
  },
  {
   "cell_type": "code",
   "execution_count": null,
   "metadata": {
    "id": "-7rOZGhfB2mQ"
   },
   "outputs": [],
   "source": []
  }
 ],
 "metadata": {
  "colab": {
   "authorship_tag": "ABX9TyP7F19g9C86mraN9JeoI9aN",
   "name": "Todaymission.ipynb",
   "provenance": []
  },
  "jupytext": {
   "formats": "ipynb,auto:light"
  },
  "kernelspec": {
   "display_name": "Python 3",
   "language": "python",
   "name": "python3"
  },
  "language_info": {
   "codemirror_mode": {
    "name": "ipython",
    "version": 3
   },
   "file_extension": ".py",
   "mimetype": "text/x-python",
   "name": "python",
   "nbconvert_exporter": "python",
   "pygments_lexer": "ipython3",
   "version": "3.8.10"
  }
 },
 "nbformat": 4,
 "nbformat_minor": 1
}
