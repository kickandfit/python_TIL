{
 "cells": [
  {
   "cell_type": "code",
   "execution_count": 4,
   "id": "9f67173e",
   "metadata": {},
   "outputs": [],
   "source": [
    "from selenium import webdriver\n",
    "from bs4 import BeautifulSoup as bs\n",
    "import os\n",
    "from tqdm import tqdm\n",
    "import time\n",
    "import urllib.request"
   ]
  },
  {
   "cell_type": "code",
   "execution_count": 7,
   "id": "3bd9dc31",
   "metadata": {},
   "outputs": [
    {
     "name": "stdout",
     "output_type": "stream",
     "text": [
      "검색할 대상을 입력하세요.바다\n"
     ]
    }
   ],
   "source": [
    "keyword = input('검색할 대상을 입력하세요.')\n",
    "url = 'https://search.naver.com/search.naver?where=image&sm=tab_jum&query='\n",
    "url = url+keyword\n",
    "\n",
    "driver = webdriver.Chrome('c:/pydata/chromedriver.exe')\n",
    "driver.get(url)\n",
    "\n",
    "for i in range(12):\n",
    "    driver.execute_script('window.scrollTo(0, document.body.scrollHeight);')\n",
    "    time.sleep(1)\n",
    "    \n",
    "\n",
    "\n"
   ]
  },
  {
   "cell_type": "code",
   "execution_count": 23,
   "id": "41806748",
   "metadata": {},
   "outputs": [],
   "source": [
    "html = driver.page_source\n",
    "soup = bs(html , 'html.parser')\n",
    "img_soup = soup.select('img._image._listImage')"
   ]
  },
  {
   "cell_type": "code",
   "execution_count": null,
   "id": "0fb4b6cb",
   "metadata": {},
   "outputs": [],
   "source": []
  },
  {
   "cell_type": "code",
   "execution_count": 28,
   "id": "4ce57fe7",
   "metadata": {},
   "outputs": [
    {
     "name": "stderr",
     "output_type": "stream",
     "text": [
      "링크=: 100%|█████████████████████████████████████████████████████████████████████| 485/485 [00:00<00:00, 192672.61it/s]\n"
     ]
    }
   ],
   "source": [
    "img_list = []\n",
    "for img in tqdm(img_soup, desc = '링크='):\n",
    "    try:\n",
    "        img_list.append(img['src'])\n",
    "    except:\n",
    "        img_list.append(img['data-src'])"
   ]
  },
  {
   "cell_type": "code",
   "execution_count": 29,
   "id": "cd8e69f1",
   "metadata": {},
   "outputs": [
    {
     "name": "stdout",
     "output_type": "stream",
     "text": [
      "중복 제거전 사진수: 485\n",
      "중복 제거후 사진수: 106\n"
     ]
    }
   ],
   "source": [
    "print(\"중복 제거전 사진수:\", len(img_list))\n",
    "\n",
    "img_list = set(img_list) #중복 제거\n",
    "\n",
    "print(\"중복 제거후 사진수:\", len(img_list))"
   ]
  },
  {
   "cell_type": "code",
   "execution_count": 27,
   "id": "74fb044c",
   "metadata": {},
   "outputs": [
    {
     "name": "stderr",
     "output_type": "stream",
     "text": [
      "진행률=:   2%|█▍                                                                       | 2/106 [00:00<00:08, 11.69it/s]"
     ]
    },
    {
     "name": "stdout",
     "output_type": "stream",
     "text": [
      "바다0 로 폴더 생성\n"
     ]
    },
    {
     "name": "stderr",
     "output_type": "stream",
     "text": [
      "진행률=: 100%|███████████████████████████████████████████████████████████████████████| 106/106 [00:07<00:00, 13.83it/s]\n"
     ]
    },
    {
     "name": "stdout",
     "output_type": "stream",
     "text": [
      "검색 이미지 저장이 완료되었습니다.\n"
     ]
    }
   ],
   "source": [
    "fDir = \"c:/pydata/image/\"\n",
    "fName = os.listdir(fDir)\n",
    "fName_dir = keyword+\"0\"\n",
    "cnt = 0\n",
    "while True:\n",
    "    if fName_dir not in fName:      # 새로 생성한 폴더가 현재 저장 위치에 있다/없다 결정\n",
    "        os.makedirs(fDir+fName_dir) # 없으면 현재 이름으로 폴더생성\n",
    "        break                      # 폴더 생성후 while문 나가기\n",
    "    cnt += 1\n",
    "    fName_dir = keyword + str(cnt)  # 새로운 폴더명 생성\n",
    "\n",
    "print(fName_dir,\"로 폴더 생성\")\n",
    "cnt=0\n",
    "for img in tqdm(img_list, desc='진행률='):\n",
    "    sfdir = fDir + fName_dir + '/'+ keyword + str(cnt) + '.jpg'\n",
    "    urllib.request.urlretrieve(img, sfdir)\n",
    "    \n",
    "    cnt+=1\n",
    "    \n",
    "\n",
    "driver.close()\n",
    "print('검색 이미지 저장이 완료되었습니다.')"
   ]
  },
  {
   "cell_type": "code",
   "execution_count": null,
   "id": "01df860b",
   "metadata": {},
   "outputs": [],
   "source": []
  }
 ],
 "metadata": {
  "kernelspec": {
   "display_name": "Python 3",
   "language": "python",
   "name": "python3"
  },
  "language_info": {
   "codemirror_mode": {
    "name": "ipython",
    "version": 3
   },
   "file_extension": ".py",
   "mimetype": "text/x-python",
   "name": "python",
   "nbconvert_exporter": "python",
   "pygments_lexer": "ipython3",
   "version": "3.8.10"
  }
 },
 "nbformat": 4,
 "nbformat_minor": 5
}
