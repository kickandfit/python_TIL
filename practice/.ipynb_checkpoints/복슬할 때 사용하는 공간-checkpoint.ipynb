{
 "cells": [
  {
   "cell_type": "markdown",
   "id": "129fbe80",
   "metadata": {},
   "source": [
    "#### DFS"
   ]
  },
  {
   "cell_type": "code",
   "execution_count": null,
   "id": "090f00c2",
   "metadata": {},
   "outputs": [],
   "source": [
    "graph = [\n",
    "    [],\n",
    "    [2, 3, 8],\n",
    "    [1, 7],\n",
    "    [1, 4, 5],\n",
    "    [3, 5],\n",
    "    [3, 4],\n",
    "    [7],\n",
    "    [2, 6, 8],\n",
    "    [1, 7]\n",
    "]  \n",
    "visited = [False]*9\n",
    "\n",
    "def dfs (graph, v, visited):\n",
    "    visited[v] = True\n",
    "    print(v , end = ' ')\n",
    "    for now in graph[v]:\n",
    "        if not visited[now]:\n",
    "            dfs(graph, now, visited)\n",
    "dfs(graph, 1, visited)\n"
   ]
  },
  {
   "cell_type": "code",
   "execution_count": null,
   "id": "0617cf30",
   "metadata": {},
   "outputs": [],
   "source": [
    "# 8/31\n",
    "graph = [\n",
    "    [],\n",
    "    [2, 3, 8],\n",
    "    [1, 7],\n",
    "    [1, 4, 5],\n",
    "    [3, 5],\n",
    "    [3, 4],\n",
    "    [7],\n",
    "    [2, 6, 8],\n",
    "    [1, 7]\n",
    "]  \n",
    "visited = [False]*9\n",
    "\n",
    "def dfs(graph, v, visited):\n",
    "    visited[v] = True\n",
    "    print(v, end = ' ')\n",
    "    for i in graph[v]:\n",
    "        if not visited[i]:\n",
    "            dfs(graph, i, visited)\n",
    "dfs(graph, 1, visited)           \n"
   ]
  },
  {
   "cell_type": "markdown",
   "id": "878f1c2e",
   "metadata": {},
   "source": [
    "#### Bfs"
   ]
  },
  {
   "cell_type": "code",
   "execution_count": null,
   "id": "36c1faf6",
   "metadata": {},
   "outputs": [],
   "source": [
    "from collections import deque\n",
    "\n",
    "graph = [\n",
    "    [],\n",
    "    [2, 3, 8],\n",
    "    [1, 7],\n",
    "    [1, 4, 5],\n",
    "    [3, 5],\n",
    "    [3, 4],\n",
    "    [7],\n",
    "    [2, 6, 8],\n",
    "    [1, 7]\n",
    "]  \n",
    "def bfs(graph, start, visited):\n",
    "    queue = deque([start])\n",
    "    visited[start] = True\n",
    "    while queue:\n",
    "        v = queue.popleft()\n",
    "        \n",
    "        print(v, end = ' ')\n",
    "        for i in graph[v]:\n",
    "            if not visited[i]:\n",
    "                queue.append(i)\n",
    "                visited[i] = True\n",
    "        \n",
    "    \n",
    "visited = [False]*9\n",
    "bfs(graph, 1, visited)"
   ]
  },
  {
   "cell_type": "code",
   "execution_count": null,
   "id": "fc195170",
   "metadata": {},
   "outputs": [],
   "source": [
    "# 8 /31\n",
    "from collections import deque\n",
    "\n",
    "graph = [\n",
    "    [],\n",
    "    [2, 3, 8],\n",
    "    [1, 7],\n",
    "    [1, 4, 5],\n",
    "    [3, 5],\n",
    "    [3, 4],\n",
    "    [7],\n",
    "    [2, 6, 8],\n",
    "    [1, 7]\n",
    "]\n",
    "visited = [False]*9\n",
    "\n",
    "def bfs(graph, start, visited):\n",
    "    q = deque([start])\n",
    "    \n",
    "    while q:\n",
    "        v = q.popleft()\n",
    "        visited[v] = True\n",
    "        print(v, end = ' ')\n",
    "        for i in graph[v]:\n",
    "            if not visited[i]:\n",
    "                q.append(i)\n",
    "                visited[i] = True\n",
    "bfs(graph, 1, visited)"
   ]
  },
  {
   "cell_type": "markdown",
   "id": "2ab9a2f8",
   "metadata": {},
   "source": [
    "#### 정렬 ( 선택정렬 )"
   ]
  },
  {
   "cell_type": "code",
   "execution_count": null,
   "id": "701c2eb9",
   "metadata": {},
   "outputs": [],
   "source": [
    "array = [7,5,9,0,3,1,6,2,4,8]\n",
    "\n",
    "for i in range(len(array)):\n",
    "    min_index = i\n",
    "    for j in range(i+1,len(array)):\n",
    "        if array[min_index] > array[j]:\n",
    "            array[min_index] , array[j] = array[j] , array[min_index]\n",
    "print(array)"
   ]
  },
  {
   "cell_type": "code",
   "execution_count": null,
   "id": "b33688a1",
   "metadata": {},
   "outputs": [],
   "source": [
    "# 8/31\n",
    "array = [7,5,9,0,3,1,6,2,4,8]\n",
    "\n",
    "for i in range(len(array)):\n",
    "    min_index = i # i번째 선택\n",
    "    for j in range(i+1, len(array)): # 가장 작은 데이터 선택후 i로 이동\n",
    "        if array[min_index] > array[j]:\n",
    "            array[min_index] , array[j] = array[j] , array[min_index]\n",
    "print(array)\n",
    "    "
   ]
  },
  {
   "cell_type": "markdown",
   "id": "4f5b058f",
   "metadata": {},
   "source": [
    "#### 정렬( 삽입 정렬과 버블정렬)"
   ]
  },
  {
   "cell_type": "code",
   "execution_count": null,
   "id": "dd7ffb70",
   "metadata": {},
   "outputs": [],
   "source": [
    "array = [7,5,9,0,3,1,6,2,4,8]\n",
    "\n",
    "for i in range(1,len(array)):\n",
    "    for j in range(i, 0, -1):\n",
    "        if array[j] < array[j-1]:\n",
    "            array[j], array[j-1] = array[j-1], array[j]\n",
    "        else:\n",
    "            break\n",
    "\n",
    "# 선택 정렬과 완전 반대 로직 \n",
    "def bubble_sort(array):\n",
    "    for i in range(len(array) - 1, 0, -1):\n",
    "        for j in range(i):\n",
    "            if array[j] > array[j + 1]:\n",
    "                array[j], array[j + 1] = array[j + 1], array[j]\n",
    "print(array)"
   ]
  },
  {
   "cell_type": "code",
   "execution_count": null,
   "id": "76c09079",
   "metadata": {},
   "outputs": [],
   "source": [
    "array = [7,5,9,0,3,1,6,2,4,8]\n",
    "\n",
    "for i in range(1,len(array)):\n",
    "    for j in range(i, 0, -1):\n",
    "        if array[j] < array[j-1]: # 작으면 왼쪽으로 이동하다가\n",
    "            array[j], array[j-1] = array[j-1], array[j]\n",
    "        else: # 크면 그대로 멈춰라\n",
    "            break\n",
    "array"
   ]
  },
  {
   "cell_type": "markdown",
   "id": "dbceb154",
   "metadata": {},
   "source": [
    "#### 정렬( 퀵 정렬 )"
   ]
  },
  {
   "cell_type": "code",
   "execution_count": null,
   "id": "90d99c0c",
   "metadata": {
    "lines_to_next_cell": 2
   },
   "outputs": [],
   "source": [
    "# 방법 1\n",
    "array = [7,5,9,0,3,1,6,2,4,8]\n",
    "\n",
    "def quick_sort(array, start, end):\n",
    "    if start >= end:\n",
    "        return\n",
    "    pivot = start\n",
    "    left = start + 1\n",
    "    right = end\n",
    "    while left <= right: \n",
    "        while left <= end and array[left] <= array[pivot]:\n",
    "            left += 1\n",
    "        while right > start and array[right] >= array[pivot]:\n",
    "            right -= 1\n",
    "        if left > right:\n",
    "            array[right], array[pivot] = array[pivot], array[right]\n",
    "        else:\n",
    "            array[left], array[right] = array[right], array[left]\n",
    "        quick_sort(array, start, right-1)\n",
    "        quick_sort(array, right+1 , end)\n",
    "\n",
    "quick_sort(array, 0, len(array) -1)\n",
    "print(array)"
   ]
  },
  {
   "cell_type": "code",
   "execution_count": null,
   "id": "ec74a903",
   "metadata": {},
   "outputs": [],
   "source": [
    "# 8/31\n",
    "array = [7,5,9,0,3,1,6,2,4,8]\n",
    "\n",
    "def quick_sort(array, start, end):\n",
    "    if start >= end:\n",
    "        return\n",
    "    pivot = start\n",
    "    left = start +1\n",
    "    right = end\n",
    "    while left <= right:\n",
    "        while left <= end and array[left] <= array[pivot]:\n",
    "            left += 1\n",
    "        while right > start and array[right] >= array[pivot]:\n",
    "            right -= 1\n",
    "        if left > right:\n",
    "            array[right], array[pivot] = array[pivot], array[right]\n",
    "        else:\n",
    "            array[right], array[left] = array[left], array[right]\n",
    "        quick_sort(array, right+1, end)\n",
    "        quick_sort(array, start, right -1 )\n",
    "\n",
    "def quick_sort1(array):\n",
    "    if len(array) <= 1:\n",
    "        return array\n",
    "    \n",
    "    pivot = array[0]\n",
    "    tail = array[1:]\n",
    "    left_side = [x for x in tail if x <= pivot]\n",
    "    right_side = [x for x in tail if x > pivot]\n",
    "    \n",
    "    return quick_sort1(left_side) + [pivot] + quick_sort1(right_side)\n",
    "\n",
    "quick_sort(array, 0, len(array) -1)\n",
    "print(array)\n",
    "print(quick_sort1(array))"
   ]
  },
  {
   "cell_type": "code",
   "execution_count": null,
   "id": "dd713ff4",
   "metadata": {},
   "outputs": [],
   "source": [
    "# 방법 2 ( 그냥 감탄 밖에 안나오네 코드가 그냥 )\n",
    "array = [7,5,9,0,3,1,6,2,4,8]\n",
    "\n",
    "def quick_sort(array):\n",
    "    if len(array) <= 1:\n",
    "        return array\n",
    "    \n",
    "    pivot = array[0]\n",
    "    tail = array[1:]\n",
    "    left_side = [x for x in tail if x <= pivot]\n",
    "    right_side = [x for x in tail if x > pivot]\n",
    "    \n",
    "    return quick_sort(left_side) + [pivot] + quick_sort(right_side)\n",
    "\n",
    "print(quick_sort(array))"
   ]
  },
  {
   "cell_type": "markdown",
   "id": "bc04ab7a",
   "metadata": {},
   "source": [
    "#### 병합정렬(추가)"
   ]
  },
  {
   "cell_type": "code",
   "execution_count": null,
   "id": "b0ba4c51",
   "metadata": {},
   "outputs": [],
   "source": [
    "# 8/31\n",
    "# 어렵넹 쉽지 않아\n",
    "def merge_sort(array):\n",
    "    if len(array) <= 1:\n",
    "        return array\n",
    "    \n",
    "    mid = len(array) // 2\n",
    "    low_arr = merge_sort(array[:mid])\n",
    "    high_arr = merge_sort(array[mid:])\n",
    "    merged_arr = []\n",
    "    l, h = 0 , 0\n",
    "    while l < len(low_arr) and h < len(high_arr):\n",
    "        if low_arr[l] < high_arr[h]:\n",
    "            merged_arr.append(low_arr[l])\n",
    "            l += 1\n",
    "            \n",
    "        else:\n",
    "            merged_arr.append(high_arr[h])\n",
    "            h += 1\n",
    "    \n",
    "    merged_arr += low_arr[l:]\n",
    "    merged_arr += high_arr[h:]\n",
    "    print(merged_arr, 'low : ',low_arr, 'high : ', high_arr)\n",
    "    \n",
    "    return merged_arr\n",
    "\n",
    "array = [6,5,3,1,8,7,2,4]\n",
    "merge_sort(array)"
   ]
  },
  {
   "cell_type": "code",
   "execution_count": null,
   "id": "c7e6d4b8",
   "metadata": {},
   "outputs": [],
   "source": [
    "# 8/31\n",
    "# 최적화 코든데 이해가 안가네\n",
    "# 이해가 안갈 수 밖에 시작이 마지막 return이니까\n",
    "def merge_sort(arr):\n",
    "    def sort(low, high): # 이건 sort라기 보다 나누는 거고\n",
    "        if high - low < 2:\n",
    "            return\n",
    "        mid = (low + high) // 2\n",
    "        sort(low, mid)\n",
    "        sort(mid, high)\n",
    "        merge(low, mid, high)\n",
    "\n",
    "    def merge(low, mid, high):\n",
    "        temp = []\n",
    "        l, h = low, mid\n",
    "\n",
    "        while l < mid and h < high: # 이부분 부터가 temp에 정렬해서 넣는 코드고\n",
    "            if arr[l] < arr[h]:\n",
    "                temp.append(arr[l])\n",
    "                l += 1\n",
    "            else:\n",
    "                temp.append(arr[h])\n",
    "                h += 1\n",
    "\n",
    "        while l < mid:\n",
    "            temp.append(arr[l])\n",
    "            l += 1\n",
    "        while h < high:\n",
    "            temp.append(arr[h])\n",
    "            h += 1\n",
    "\n",
    "        for i in range(low, high): # 정렬된 값을 arr에 넣는 과정이네\n",
    "            arr[i] = temp[i - low]\n",
    "\n",
    "    return sort(0, len(arr))\n",
    "array = [6,5,3,1,8,7,2,4]\n",
    "merge_sort(array)\n",
    "array"
   ]
  },
  {
   "cell_type": "markdown",
   "id": "9bc8bde2",
   "metadata": {},
   "source": [
    "#### 계수 정렬"
   ]
  },
  {
   "cell_type": "code",
   "execution_count": null,
   "id": "fac2ee8d",
   "metadata": {},
   "outputs": [],
   "source": [
    "array = [7, 5, 9, 0, 3, 1, 6, 2, 9, 1, 4, 8, 0, 5, 2]\n",
    "\n",
    "count = [0] * ( max(array) + 1 )\n",
    "\n",
    "for i in range(len(array)):\n",
    "    count[array[i]] += 1\n",
    "\n",
    "for i in range(len(count)):\n",
    "    for j in range(count[i]):\n",
    "        print( i , end = ' ')"
   ]
  },
  {
   "cell_type": "markdown",
   "id": "fe15c521",
   "metadata": {},
   "source": [
    "#### 파이썬 내장 함수\n"
   ]
  },
  {
   "cell_type": "code",
   "execution_count": null,
   "id": "bb342cc6",
   "metadata": {},
   "outputs": [],
   "source": [
    "array = [7,5,9,0,3,1,6,2,4,8]\n",
    "\n",
    "result = sorted(array)\n",
    "print(result)\n",
    "\n",
    "array.sort()\n",
    "print(array)"
   ]
  },
  {
   "cell_type": "markdown",
   "id": "175619b9",
   "metadata": {},
   "source": [
    "#### 순차탐색\n",
    "- 정렬되지 않은 리스트에서 무엇인가를 찾아야 할때"
   ]
  },
  {
   "cell_type": "code",
   "execution_count": null,
   "id": "cdf4ef75",
   "metadata": {},
   "outputs": [],
   "source": [
    "def sequential_search(n, target, array):\n",
    "    for i in range(n):\n",
    "        if array[i] == target:\n",
    "            return i + 1\n",
    "print('생성할 원소 갯수를 입력한 다음 한 칸 띄고 찾을 문자열을 입력하세요')        \n",
    "input_data = input().split()\n",
    "n = int(input_data[0])\n",
    "target = input_data[1]\n",
    "\n",
    "print('앞서 적은 원소 개수만큼 문자열을 입력하세요. 구분은 띄어쓰기 한 칸으로 합니다')\n",
    "array = input().split()\n",
    "print(sequential_search(n, target, array))"
   ]
  },
  {
   "cell_type": "markdown",
   "id": "0f2d904d",
   "metadata": {},
   "source": [
    "#### 이진탐색\n",
    "- 데이터가 정렬되어 있어야만 사용할 수 있음\n",
    "- 데이터 양이 많고 정렬이 되어 있는 상태일 때면 고려"
   ]
  },
  {
   "cell_type": "code",
   "execution_count": null,
   "id": "47d0f734",
   "metadata": {},
   "outputs": [],
   "source": [
    "# 재귀로 구현한 이진 탐색\n",
    "def binary_search(array, target, start, end):\n",
    "    if start > end:\n",
    "        return None\n",
    "    mid = (start + end) // 2\n",
    "    if array[mid] == target:\n",
    "        return mid\n",
    "    elif array[mid] > target:\n",
    "        return binary_search(array, target, start, mid-1)\n",
    "    else:\n",
    "        return binary_search(array, target, mid + 1, end)\n",
    "    \n",
    "n , target = list(map(int, input().split()))\n",
    "array = list(map(int, input().split()))\n",
    "\n",
    "result = binary_search(array, target, 0, n -1 )\n",
    "if result == None:\n",
    "    print('원소가 존재하지 않습니다')\n",
    "else:\n",
    "    print(result + 1)"
   ]
  },
  {
   "cell_type": "code",
   "execution_count": null,
   "id": "aed98169",
   "metadata": {
    "lines_to_end_of_cell_marker": 2,
    "lines_to_next_cell": 0
   },
   "outputs": [],
   "source": [
    "# 반복문으로 구현한 이진 탐색\n",
    "\n",
    "def binary_search(array, target, start, end):\n",
    "    while start <= end:\n",
    "        mid = (start + end) // 2\n",
    "        \n",
    "        if array[mid] == target:\n",
    "            return mid\n",
    "        \n",
    "        elif array[mid] > target:\n",
    "            end = mid -1\n",
    "            \n",
    "        else:\n",
    "            \n",
    "            start = mid + 1\n",
    "            \n",
    "    return None\n",
    "    \n",
    "n , target = list(map(int, input().split()))\n",
    "array = list(map(int, input().split()))\n",
    "\n",
    "result = binary_search(array, target, 0, n -1 )\n",
    "if result == None:\n",
    "    print('원소가 존재하지 않습니다')\n",
    "else:\n",
    "    print(result + 1)"
   ]
  },
  {
   "cell_type": "markdown",
   "id": "2713f515",
   "metadata": {
    "lines_to_next_cell": 2
   },
   "source": [
    "# 문자열 관련 알고리즘"
   ]
  },
  {
   "cell_type": "markdown",
   "id": "a13efb75",
   "metadata": {},
   "source": [
    "#### 유형 1. 회문(palindrome)"
   ]
  },
  {
   "cell_type": "code",
   "execution_count": null,
   "id": "54bb2f68",
   "metadata": {},
   "outputs": [],
   "source": [
    "# 단순한 회문\n",
    "def isPalindrome(str):\n",
    "    for i in range(len(str)//2):\n",
    "        if str[i] == str[-i-1]:\n",
    "            continue\n",
    "        else:\n",
    "            print('회문이 아닙니다.')\n",
    "    print('회문 입니다.')\n",
    "data = 'abcba'\n",
    "isPalindrome(data)"
   ]
  },
  {
   "cell_type": "code",
   "execution_count": 9,
   "id": "05207df8",
   "metadata": {},
   "outputs": [
    {
     "name": "stdout",
     "output_type": "stream",
     "text": [
      "deque(['o', 'm', 'a', 'd', 'a', 'm', 'i', 'm', 'a', 'd', 'a', 'm', 'o'])\n",
      "회문 입니다.\n"
     ]
    }
   ],
   "source": [
    "# 전처리가 포함된 회문\n",
    "from collections import deque\n",
    "def isPalindrome(str):\n",
    "    # 전처리\n",
    "    list_str = deque()\n",
    "    for char in str:\n",
    "        if char.isalnum():\n",
    "            list_str.append(char.lower())\n",
    "    \n",
    "# 회문 판별\n",
    "    print(list_str)\n",
    "    while len(list_str)>1:\n",
    "        if list_str.popleft() != list_str.pop():\n",
    "            print(list_str.popleft(), list_str.pop())\n",
    "            print('회문이 아닙니다.')\n",
    "            return\n",
    "    print('회문 입니다.')\n",
    "data1 = 'OMadam, I\\'m AdamO'\n",
    "isPalindrome(data1)\n",
    "        \n",
    "            "
   ]
  },
  {
   "cell_type": "code",
   "execution_count": 10,
   "id": "af6a3f9e",
   "metadata": {},
   "outputs": [
    {
     "name": "stdout",
     "output_type": "stream",
     "text": [
      "회문입니다\n"
     ]
    }
   ],
   "source": [
    "# 슬라이싱을 이용한 회문판별\n",
    "s= ['가나다다나가']\n",
    "if s == s[::-1]:\n",
    "    print('회문입니다')"
   ]
  },
  {
   "cell_type": "code",
   "execution_count": 13,
   "id": "c0304ae0",
   "metadata": {},
   "outputs": [
    {
     "name": "stdout",
     "output_type": "stream",
     "text": [
      "회문입니다\n"
     ]
    }
   ],
   "source": [
    "# 정규식을 이용한 전처리\n",
    "import re\n",
    "def inPalindrome(str):\n",
    "    # 대문자 소문자로 변경\n",
    "    str = str.lower()\n",
    "    \n",
    "    # 정규식 사용\n",
    "    str = re.sub('[^a-z0-9]', '', str)\n",
    "    \n",
    "    if str == str[::-1]:\n",
    "        print('회문입니다')\n",
    "    else:\n",
    "        print('회문이 아닙니다')\n",
    "data1 = 'OMadam, I\\'m AdamO'\n",
    "inPalindrome(data1) \n",
    "\n"
   ]
  },
  {
   "cell_type": "markdown",
   "id": "260c1a70",
   "metadata": {},
   "source": [
    "#### re.sub('패턴', '바꿀문자열', '적용할문자열')"
   ]
  },
  {
   "cell_type": "code",
   "execution_count": 14,
   "id": "f51345ce",
   "metadata": {},
   "outputs": [
    {
     "name": "stdout",
     "output_type": "stream",
     "text": [
      "n n Fizz n Buzz Fizz n n\n"
     ]
    }
   ],
   "source": [
    "print( re.sub('[0-9]+', 'n', '1 2 Fizz 4 Buzz Fizz 7 8') ) # 숫자만 찾아서 n으로 바꿈"
   ]
  },
  {
   "cell_type": "markdown",
   "id": "d3e1eecc",
   "metadata": {},
   "source": [
    "#### 회문정리\n",
    "- 슬라이싱을 활용하는 것이 시간이 제일 적게 걸림"
   ]
  },
  {
   "cell_type": "markdown",
   "id": "4bef639a",
   "metadata": {},
   "source": [
    "#### 유형 2. 문자열 뒤집기\n"
   ]
  },
  {
   "cell_type": "markdown",
   "id": "00bca904",
   "metadata": {},
   "source": [
    "#### 1단계"
   ]
  },
  {
   "cell_type": "code",
   "execution_count": 24,
   "id": "a857b072",
   "metadata": {},
   "outputs": [
    {
     "name": "stdout",
     "output_type": "stream",
     "text": [
      "['e', 'd', 'c', 'b', 'a']\n"
     ]
    }
   ],
   "source": [
    "# 1단계 reverse() 사용하기\n",
    "\n",
    "def reverseString(str):\n",
    "    str.reverse()\n",
    "    print(str)\n",
    "\n",
    "a = ['a','b','c','d','e']\n",
    "reverseString(a)"
   ]
  },
  {
   "cell_type": "markdown",
   "id": "1f5701ab",
   "metadata": {},
   "source": [
    "#### 2단계"
   ]
  },
  {
   "cell_type": "code",
   "execution_count": 25,
   "id": "a19e2cb9",
   "metadata": {},
   "outputs": [
    {
     "name": "stdout",
     "output_type": "stream",
     "text": [
      "edcba\n",
      "['e', 'd', 'c', 'b', 'a']\n"
     ]
    }
   ],
   "source": [
    "# 2단계 슬라이싱 활용하기\n",
    "\n",
    "a = 'abcde'\n",
    "a = a[::-1]\n",
    "print(a)\n",
    "\n",
    "b = ['a','b','c','d','e']\n",
    "b = b[::-1]\n",
    "print(b)\n",
    "# 오류가 발생한다면 할당에 제한이 걸린것이므로, b[:] = b[::-1] 을 사용하면 됨"
   ]
  },
  {
   "cell_type": "markdown",
   "id": "6b27b3c0",
   "metadata": {},
   "source": [
    "#### 3단계"
   ]
  },
  {
   "cell_type": "code",
   "execution_count": 26,
   "id": "e0f62b25",
   "metadata": {},
   "outputs": [
    {
     "name": "stdout",
     "output_type": "stream",
     "text": [
      "['e', 'd', 'c', 'b', 'a']\n"
     ]
    }
   ],
   "source": [
    "# 3단계 투포인터\n",
    "def reverseString(str):\n",
    "    left_idx, right_idx = 0, len(str)-1\n",
    "    while left_idx < right_idx:\n",
    "        str[left_idx], str[right_idx] = str[right_idx], str[left_idx]\n",
    "        left_idx += 1\n",
    "        right_idx -= 1\n",
    "    print(str)\n",
    "b = ['a','b','c','d','e']\n",
    "reverseString(b)"
   ]
  },
  {
   "cell_type": "markdown",
   "id": "05a9a6e1",
   "metadata": {},
   "source": [
    "#### 유형 3. 조건에 맞게 재정렬"
   ]
  },
  {
   "cell_type": "code",
   "execution_count": 28,
   "id": "d6bc008b",
   "metadata": {},
   "outputs": [],
   "source": [
    "data = ['1 A', '1 B', '6 A', '2 D', '4 B']\n",
    "# 문제 리스트 안의 요소를 번호 순 정렬이 아닌 그 뒤의 문자 순으로 졍렬"
   ]
  },
  {
   "cell_type": "markdown",
   "id": "2136a7af",
   "metadata": {},
   "source": [
    "#### 1 단계 sort의 key"
   ]
  },
  {
   "cell_type": "code",
   "execution_count": 29,
   "id": "6a353f2d",
   "metadata": {},
   "outputs": [
    {
     "name": "stdout",
     "output_type": "stream",
     "text": [
      "['1 A', '6 A', '1 B', '4 B', '2 D']\n"
     ]
    }
   ],
   "source": [
    "# 오호 신박한데?\n",
    "\n",
    "data = ['1 A', '1 B', '6 A', '2 D', '4 B']\n",
    "\n",
    "def func(x):\n",
    "    return x.split()[1], x.split()[0]\n",
    "data.sort(key=func)\n",
    "print(data)"
   ]
  },
  {
   "cell_type": "markdown",
   "id": "35a5bc09",
   "metadata": {},
   "source": [
    "#### 2 단계 lambda 사용하기"
   ]
  },
  {
   "cell_type": "code",
   "execution_count": 30,
   "id": "4db7269f",
   "metadata": {},
   "outputs": [
    {
     "name": "stdout",
     "output_type": "stream",
     "text": [
      "['1 A', '6 A', '1 B', '4 B', '2 D']\n"
     ]
    }
   ],
   "source": [
    "data = ['1 A', '1 B', '6 A', '2 D', '4 B']\n",
    "\n",
    "data.sort(key = lambda x : (x.split()[1], x.split()[0]))\n",
    "print(data)"
   ]
  },
  {
   "cell_type": "markdown",
   "id": "ea97a1bb",
   "metadata": {},
   "source": [
    "#### 3 단계"
   ]
  },
  {
   "cell_type": "code",
   "execution_count": 31,
   "id": "1edf45b1",
   "metadata": {},
   "outputs": [],
   "source": [
    "data = [\"hanpy 20101213 재미없다 235 재미있다\", ...]\n",
    "# 회원의 아이디, 회원가입날짜, 사용자가 쓴 댓글들\n",
    "# 문제는 이런식이다. 각각의 DB의 회원들을 댓글들 중에 숫자를 제거하고, \n",
    "# 댓글들을 정렬한 후에, 가입한 날짜 순으로 재정렬하라"
   ]
  },
  {
   "cell_type": "code",
   "execution_count": 32,
   "id": "a7d51831",
   "metadata": {},
   "outputs": [],
   "source": [
    "def divide_sentence(list_data):\n",
    "    str_l, int_l = [], []\n",
    "    list_datas = list_data.split()[2:]\n",
    "    for data in list_datas:\n",
    "        if data.isdigit():\n",
    "            str_l.append(data)\n",
    "        else:\n",
    "            int_l.append(data)"
   ]
  },
  {
   "cell_type": "markdown",
   "id": "445c63ff",
   "metadata": {},
   "source": [
    "- isalpha() 문자열이 문자인지를 판별하여 True,Fasle\n",
    "- isdigit() 문자열이 숫자인지를 판별하여 True,False"
   ]
  },
  {
   "cell_type": "markdown",
   "id": "dd341fef",
   "metadata": {},
   "source": [
    "#### 유형4. 특정 단어 추출"
   ]
  },
  {
   "cell_type": "code",
   "execution_count": 33,
   "id": "4659dfcd",
   "metadata": {},
   "outputs": [],
   "source": [
    "paragraph = \"Bob hit a ball, the hit BALL flew far after it was hit\""
   ]
  },
  {
   "cell_type": "markdown",
   "id": "e9794a79",
   "metadata": {},
   "source": [
    "- 'hit'을 제외한 단어 중 가장 많이 등장하는 단어를 뽑는 코드"
   ]
  },
  {
   "cell_type": "markdown",
   "id": "5982a7bf",
   "metadata": {},
   "source": [
    "#### 1단계 정규식을 사용한 구두점 제거"
   ]
  },
  {
   "cell_type": "code",
   "execution_count": 34,
   "id": "f0e44a10",
   "metadata": {},
   "outputs": [
    {
     "data": {
      "text/plain": [
       "'Bob hit a ball  the hit BALL flew far after it was hit'"
      ]
     },
     "execution_count": 34,
     "metadata": {},
     "output_type": "execute_result"
    }
   ],
   "source": [
    "import re\n",
    "re.sub('[^\\w]', ' ', paragraph)\n",
    "#[^\\w]은 모든 문자와 숫자를 제외하고 공백으로 바꿈"
   ]
  },
  {
   "cell_type": "markdown",
   "id": "56a73aba",
   "metadata": {},
   "source": [
    "#### 2단계 정규식 추가 처리"
   ]
  },
  {
   "cell_type": "code",
   "execution_count": 35,
   "id": "86dedb95",
   "metadata": {},
   "outputs": [
    {
     "name": "stdout",
     "output_type": "stream",
     "text": [
      "['bob', 'a', 'ball', 'the', 'ball', 'flew', 'far', 'after', 'was']\n"
     ]
    }
   ],
   "source": [
    "banned = 'hit'\n",
    "word_list = re.sub('[^\\w]', ' ' , paragraph).lower().split()\n",
    "words = [word for word in word_list if word not in banned ]\n",
    "print(words)"
   ]
  },
  {
   "cell_type": "markdown",
   "id": "ec7174a9",
   "metadata": {},
   "source": [
    "#### 3단계 counter()함수를 사용하여 빈도수 계산\n",
    "\n",
    "- counter 객체는 아이템에 대한 개수를 딕셔너리 형태로 리턴\n",
    "- 개수를 자동으로 계싼\n",
    "- most_common()을 사용하면 빈도수가 가장 높은 요소 추출 가능"
   ]
  },
  {
   "cell_type": "code",
   "execution_count": 38,
   "id": "2ece2941",
   "metadata": {},
   "outputs": [
    {
     "name": "stdout",
     "output_type": "stream",
     "text": [
      "Counter({'ball': 2, 'bob': 1, 'a': 1, 'the': 1, 'flew': 1, 'far': 1, 'after': 1, 'was': 1})\n"
     ]
    }
   ],
   "source": [
    "from collections import Counter\n",
    "\n",
    "counts = Counter(words)\n",
    "print(counts)"
   ]
  },
  {
   "cell_type": "code",
   "execution_count": 41,
   "id": "371a08d4",
   "metadata": {},
   "outputs": [
    {
     "name": "stdout",
     "output_type": "stream",
     "text": [
      "Counter({3: 3, 2: 2, 1: 1, 4: 1, 5: 1, 6: 1, 7: 1, 8: 1})\n",
      "[(3, 3), (2, 2), (1, 1), (4, 1), (5, 1), (6, 1), (7, 1), (8, 1)]\n",
      "[(3, 3), (2, 2)]\n"
     ]
    }
   ],
   "source": [
    "#most_common 예시\n",
    "\n",
    "data = [1, 2, 3, 4, 5, 6, 7, 8, 2, 3, 3]\n",
    "dic_data = Counter(data)\n",
    "print(dic_data)\n",
    "print(dic_data.most_common()) # 빈도수가 높은 수로 정렬 후 보여줌\n",
    "print(dic_data.most_common(2)) # ()의 int는 최빈수부터 몇개를 보여줄지"
   ]
  },
  {
   "cell_type": "markdown",
   "id": "66523033",
   "metadata": {},
   "source": [
    "#### 자연어 처리의 또 다른 스킬"
   ]
  },
  {
   "cell_type": "code",
   "execution_count": 46,
   "id": "2a2197ca",
   "metadata": {},
   "outputs": [
    {
     "name": "stdout",
     "output_type": "stream",
     "text": [
      "['barber', 'person', 'barber', 'good', 'person', 'barber', 'huge', 'person', 'knew', 'secret', 'secret', 'kept', 'huge', 'secret', 'huge', 'secret', 'barber', 'kept', 'word', 'barber', 'kept', 'word', 'barber', 'kept', 'secret', 'keeping', 'keeping', 'huge', 'secret', 'driving', 'barber', 'crazy', 'barber', 'went', 'huge', 'mountain']\n",
      "\n",
      "Counter({'barber': 8, 'secret': 6, 'huge': 5, 'kept': 4, 'person': 3, 'word': 2, 'keeping': 2, 'good': 1, 'knew': 1, 'driving': 1, 'crazy': 1, 'went': 1, 'mountain': 1})\n",
      "\n",
      "[('barber', 8), ('secret', 6), ('huge', 5), ('kept', 4), ('person', 3)]\n",
      "\n",
      "{'barber': 1, 'secret': 2, 'huge': 3, 'kept': 4, 'person': 5}\n"
     ]
    }
   ],
   "source": [
    "from collections import Counter\n",
    "sentences = [['barber', 'person'], ['barber', 'good', 'person'], ['barber', 'huge', 'person'], ['knew', 'secret'], ['secret', 'kept', 'huge', 'secret'], ['huge', 'secret'], ['barber', 'kept', 'word'], ['barber', 'kept', 'word'], ['barber', 'kept', 'secret'], \n",
    "             ['keeping', 'keeping', 'huge', 'secret', 'driving', 'barber', 'crazy'], \n",
    "             ['barber', 'went', 'huge', 'mountain']]\n",
    "\n",
    "# 단어들을 하나의 리스트로 만들기\n",
    "words = sum(sentences, []) # 넌 뭐냐 / sum( iterble, start)\n",
    "print(words)\n",
    "print()\n",
    "\n",
    "#중복을 제거하고 빈도수를 기록하자.\n",
    "vocab = Counter(words) # 파이썬의 Counter 모듈을 이용하면 단어의 모든 빈도를 쉽게 계산할 수 있다.\n",
    "print(vocab)\n",
    "print()\n",
    "\n",
    "# most_common()는 상위 빈도수를 가진 주어진 수의 단어만을 리턴\n",
    "vocab_size = 5\n",
    "vocab = vocab.most_common(vocab_size) # 등장 빈도수가 높은 상위 5개의 단어\n",
    "print(vocab)\n",
    "print()\n",
    "\n",
    "# 높은 빈도수 => 낮은 정수 인덱스\n",
    "word_to_index = {}\n",
    "i = 0\n",
    "for (word, frequency) in vocab :\n",
    "    i += 1\n",
    "    word_to_index[word] = i\n",
    "print(word_to_index)"
   ]
  },
  {
   "cell_type": "markdown",
   "id": "234fa58e",
   "metadata": {},
   "source": [
    "#### 유형 5. 애너그램\n",
    "\n",
    "- 애너그램이란 문자를 재배열하여 다른뜻을 가진 단어로 바꾸는 것을 말함"
   ]
  },
  {
   "cell_type": "code",
   "execution_count": 47,
   "id": "2dee584f",
   "metadata": {},
   "outputs": [
    {
     "name": "stdout",
     "output_type": "stream",
     "text": [
      "dict_values([['eat', 'tea', 'ate'], ['tan', 'nat'], ['bat']])\n"
     ]
    }
   ],
   "source": [
    "import collections\n",
    "data = [\"eat\",\"tea\",\"tan\",\"ate\",\"nat\",\"bat\"]\n",
    "sort_data = collections.defaultdict(list)\n",
    "for word in data:\n",
    "    sort_data[''.join(sorted(word))].append(word)\n",
    "print(sort_data.values())"
   ]
  },
  {
   "cell_type": "markdown",
   "id": "5ef63890",
   "metadata": {},
   "source": [
    "- defaultdict\n",
    "    - 딕셔너리를 사용할 때, 지정되지 않는 키를 조회하면 에러메세지 출력\n",
    "    - 사용법 collections import 해야함\n",
    "- sort_data [''. join(sorted(word))]. append(word)\n",
    "    - word에 sorted하고 join을 해주는 이유 \n",
    "        - sorted()의 결과 값은 리스트가 됨\n",
    "        - ex) 'eat'가 sorted()를 만나면 ['a','e','t'] 가 출력됨\n",
    "        - 따라서 join을 활용하여 'aet'로 바꿔줌\n",
    "    - append를 한 이유\n",
    "        - sort_data[''.join(sorted(word))]의 결과 값이 리스트이기 때문\n",
    "        - 리스트에 넣어주기위해 append를 활용"
   ]
  },
  {
   "cell_type": "code",
   "execution_count": 48,
   "id": "e46ce5a6",
   "metadata": {},
   "outputs": [
    {
     "ename": "KeyError",
     "evalue": "'c'",
     "output_type": "error",
     "traceback": [
      "\u001b[1;31m---------------------------------------------------------------------------\u001b[0m",
      "\u001b[1;31mKeyError\u001b[0m                                  Traceback (most recent call last)",
      "\u001b[1;32m<ipython-input-48-0f445bc808aa>\u001b[0m in \u001b[0;36m<module>\u001b[1;34m\u001b[0m\n\u001b[0;32m      1\u001b[0m \u001b[1;31m# 예시\u001b[0m\u001b[1;33m\u001b[0m\u001b[1;33m\u001b[0m\u001b[1;33m\u001b[0m\u001b[0m\n\u001b[0;32m      2\u001b[0m \u001b[0ma\u001b[0m \u001b[1;33m=\u001b[0m \u001b[1;33m{\u001b[0m\u001b[1;34m'a'\u001b[0m \u001b[1;33m:\u001b[0m \u001b[1;36m1\u001b[0m\u001b[1;33m,\u001b[0m \u001b[1;34m'b'\u001b[0m \u001b[1;33m:\u001b[0m \u001b[1;36m2\u001b[0m\u001b[1;33m}\u001b[0m\u001b[1;33m\u001b[0m\u001b[1;33m\u001b[0m\u001b[0m\n\u001b[1;32m----> 3\u001b[1;33m \u001b[0mprint\u001b[0m\u001b[1;33m(\u001b[0m\u001b[0ma\u001b[0m\u001b[1;33m[\u001b[0m\u001b[1;34m'c'\u001b[0m\u001b[1;33m]\u001b[0m\u001b[1;33m)\u001b[0m\u001b[1;33m\u001b[0m\u001b[1;33m\u001b[0m\u001b[0m\n\u001b[0m",
      "\u001b[1;31mKeyError\u001b[0m: 'c'"
     ]
    }
   ],
   "source": [
    "# 예시\n",
    "a = {'a' : 1, 'b' : 2}\n",
    "print(a['c'])\n",
    "\n",
    "# 사용 방법\n",
    "# 방법 1\n",
    "import collections\n",
    "a = collections.defaultdict(int)\n",
    "\n",
    "# 방법 2\n",
    "from collections import defaultdict\n",
    "a = defaultdict(int)"
   ]
  },
  {
   "cell_type": "markdown",
   "id": "be3a6a35",
   "metadata": {},
   "source": [
    "- defaultdict()의 인자로 위의 예시에는 int가 들어갔음\n",
    "- int 외에도 list, set이 들어갈 수 있음.\n",
    "    - int가 들어간 경우에는 없는 key값을 넣었을 때, 자동으로 value에 0이 들어감. int 대신 list를 넣으면 빈 리스트가 들어가게 됨"
   ]
  },
  {
   "cell_type": "code",
   "execution_count": 50,
   "id": "dae53469",
   "metadata": {},
   "outputs": [
    {
     "name": "stdout",
     "output_type": "stream",
     "text": [
      "0\n",
      "defaultdict(<class 'int'>, {'b': 0})\n",
      "[]\n",
      "defaultdict(<class 'list'>, {'b': []})\n",
      "set()\n",
      "defaultdict(<class 'set'>, {'b': set()})\n",
      "defaultdict(<class 'int'>, {'H': 5, 'A': 3, 'N': 1})\n",
      "defaultdict(<class 'list'>, {'int_data': [123, 81811]})\n"
     ]
    }
   ],
   "source": [
    "# int를 인자로 넣은 경우\n",
    "import collections\n",
    "a = collections.defaultdict(int)\n",
    "print(a['b'])    #   0\n",
    "print(a)     #    defaultdict(<class 'int'>, {'b': 0})\n",
    "\n",
    "\n",
    "\n",
    "# list를 인자로 넣은 경우\n",
    "import collections\n",
    "a = collections.defaultdict(list)\n",
    "print(a['b'])     #    []\n",
    "print(a)       # defaultdict(<class 'list'>, {'b': []})\n",
    "\n",
    "\n",
    "\n",
    "# set을 인자로 넣은 경우\n",
    "import collections\n",
    "a = collections.defaultdict(set)\n",
    "print(a['b'])     #     set()\n",
    "print(a)        #  defaultdict(<class 'set'>, {'b': set()})\n",
    "\n",
    "# 응용\n",
    "import collections\n",
    "a = collections.defaultdict(int)\n",
    "a['H'] = 5\n",
    "a['A'] = 3\n",
    "a['N'] += 1\n",
    "print(a)\n",
    "\n",
    "# a['N'] += 1 부분을 보면, 우리는 a라는 딕셔너리에 'N' 값을 key로 지정하지 않음\n",
    "# 에러가 뜨지 않고 0을 기준으로 더하기 1을 해준 것을 알 수 있다.\n",
    "\n",
    "import collections\n",
    "a = collections.defaultdict(list)\n",
    "data = ['hanpy', 123, 'bbb', 81811]\n",
    "for i in data:\n",
    "    if type(i) == int:\n",
    "        a['int_data'].append(i)\n",
    "print(a)"
   ]
  },
  {
   "cell_type": "markdown",
   "id": "d66e5e81",
   "metadata": {},
   "source": [
    "#### 유형 6. 가장 긴 팰린드롬 찾기"
   ]
  },
  {
   "cell_type": "code",
   "execution_count": 56,
   "id": "47956707",
   "metadata": {},
   "outputs": [
    {
     "name": "stdout",
     "output_type": "stream",
     "text": [
      "abcdefedcba\n"
     ]
    }
   ],
   "source": [
    "def palindrome(n, left, right):\n",
    "    while right <= n and left >= 0 and data[left] == data[right-1]:\n",
    "        right += 1\n",
    "        left -= 1\n",
    "        \n",
    "    return data[left + 1: right -1]\n",
    "\n",
    "data = 'ewqpbewqbfjabcdefedcbaienqnfkndkl'\n",
    "\n",
    "res = ''\n",
    "if data == data[::-1] or len(data) < 2:\n",
    "    print(data)\n",
    "else:\n",
    "    for i in range(len(data)-1):\n",
    "        \n",
    "        # 이게 회문 판단이 2개 들어간 이유\n",
    "        # 하나는 문자열의 개수가 짝수 중 회문\n",
    "        # 다른 하나는 문자열 개수가 홀수 중 회문\n",
    "        # res 는 계산 중 가장 긴 회문( 반복문에서 지속적인 업데이트 )\n",
    "        res = max(res, palindrome(len(data), i, i+1), palindrome(len(data), i, i+2), key=len)\n",
    "        \n",
    "    print(res)\n",
    "\n"
   ]
  },
  {
   "cell_type": "markdown",
   "id": "d42b068d",
   "metadata": {},
   "source": [
    "#### if data == data [::-1] or len(data) < 2:\n",
    "\n",
    "- 위에서 작성한 코드는 순차적으로 인덱스 0부터 팰린드롬을 검사함 .data==data [::-1]인 경우 굳이 처음부터 검사를 할 필요가 없기 때문에 제거함. 이렇게 불필요한 계산을 하지 않게 하는 것을 가지치기라 함. 코드가 뻗어나가기 전에 가지를 쳐서 잘라낸다고 생각을 하자.\n",
    "      - 완전 탐색에 활용된 가지치기 스킬 찾아보고 이해 및 활용하기\n",
    "\n",
    " \n",
    "\n",
    "#### res = max(res, palindrome(len(data), i, i+1), palindrome(len(data), i, i+2), key=len)\n",
    "\n",
    "- 이 부분을 보면, max안에 key인자가 들어있음. key=len의 의미는 내용 중에 길이가 가장 긴 값을 리턴한다는 의미.\n",
    "     - 즉, for문을 반복하면서, max를 활용하여 길이가 가장 긴 값을 res에 담은 후, 다시 res 변수를 max에 넣는 것을 반복하여 모든 팰린드롬의 경우 중에 가장 긴 팰린드롬을 찾는 것.\n",
    "\n",
    " "
   ]
  },
  {
   "cell_type": "code",
   "execution_count": null,
   "id": "c1e52052",
   "metadata": {},
   "outputs": [],
   "source": []
  }
 ],
 "metadata": {
  "jupytext": {
   "encoding": "# -*- coding: utf-8 -*-",
   "formats": "ipynb,py:light"
  },
  "kernelspec": {
   "display_name": "Python 3",
   "language": "python",
   "name": "python3"
  },
  "language_info": {
   "codemirror_mode": {
    "name": "ipython",
    "version": 3
   },
   "file_extension": ".py",
   "mimetype": "text/x-python",
   "name": "python",
   "nbconvert_exporter": "python",
   "pygments_lexer": "ipython3",
   "version": "3.8.10"
  }
 },
 "nbformat": 4,
 "nbformat_minor": 5
}
