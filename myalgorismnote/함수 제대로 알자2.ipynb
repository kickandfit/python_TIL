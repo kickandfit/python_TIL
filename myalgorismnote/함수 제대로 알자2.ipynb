{
 "cells": [
  {
   "cell_type": "markdown",
   "id": "43b52c62",
   "metadata": {},
   "source": [
    "### 데코레이터\n",
    "\n",
    "- 데코레이터는 호출 가능 객체(함수, 메서드, 클래스)를 영구적으로 수정하지 않고도 그 동작을 확장, 수정할 수 있게 함\n",
    "- 기존 클래스나 함수의 동작에 일반적인 기능을 덧붙이고 싶을 때 유용\n",
    "    - 로그 남기기\n",
    "    - 접근 제어와 인증 시행\n",
    "    - 계측 및 시간 측정\n",
    "    - 비율 제한\n",
    "    - 캐싱 및 기타\n",
    "      - 선행조건\n",
    "          - 일금 함수의 속성 파악\n",
    "          - 파이썬 언어에서 개념 몇가지 완벽 파악\n",
    "      \n",
    "    - review : 함수는 객체 \n",
    "        - 변수에 할당되고 다른 함수로 전달되거나 다른 함수로부터 반환 가능\n",
    "    - 함수는 다른 함수 내부에서 정의될 수 있음\n",
    "        - 자식 함수는 부모 함수의 로컬 상태를 포착할 수 있다(클로저)\n",
    "        "
   ]
  },
  {
   "cell_type": "markdown",
   "id": "10073a47",
   "metadata": {},
   "source": [
    "#### 데코레이터 기본\n",
    "\n",
    "- 다른 함수를 '장식'하거나 '포장'하고 감싼 함수가 실행되기 전과 후에 다른 코드를 수행할 수 있게 됨\n",
    "- 데코레이터를 사용하면 재사용 가능한 빌딩 블록을 정의할 수 있음\n",
    "- 블록으로 다른 함수의 동작을 변경하거나 확장 가능\n",
    "- 감싼 함수 자체를 영구적으로 수정하지 않고도 그렇게 할 수 있음.\n",
    "- 함수의 동작은 장식되었을 때만 바뀜\n"
   ]
  },
  {
   "cell_type": "markdown",
   "id": "72cbeee6",
   "metadata": {},
   "source": [
    "#### 데코레이터 구현\n",
    "\n",
    "- 데코레이터는 호출 가능 객체를 입력받아 다른 호출 가능 객체를 반환하는 호출 가능 객체"
   ]
  },
  {
   "cell_type": "code",
   "execution_count": 18,
   "id": "156d8113",
   "metadata": {},
   "outputs": [
    {
     "data": {
      "text/plain": [
       "'Hello!'"
      ]
     },
     "execution_count": 18,
     "metadata": {},
     "output_type": "execute_result"
    }
   ],
   "source": [
    "# 호출 가능(함수) 다른 호출 가능 객체를 입력받아 그 호출 가능 객체를 수정 않고 반환\n",
    "\n",
    "def null_decorator(func):\n",
    "    return func\n",
    "\n",
    "# 다른 함수를 꾸며(감싸)보기\n",
    "\n",
    "def greet():\n",
    "    return 'Hello!'\n",
    "\n",
    "greet = null_decorator(greet)\n",
    "greet()"
   ]
  },
  {
   "cell_type": "markdown",
   "id": "1463dcf1",
   "metadata": {},
   "source": [
    "#### @null_decortor\n",
    "\n",
    "- @null_Decorator 행을 함수 정의 앞에 두는 것은 함수를 먼저 정의한 다음 데코레이터를 거치는 것과 같음\n",
    "- @ 구문은 널리 활용되는 이 패턴을 간편하게 적용할 수 있는 지름길\n",
    "- @ 구문을 사용하면 정의 시간에 즉시 함수가 장식됨\n",
    "- 까다로운 해킹을 하지 않는 다면 원본에 접근하기 어려워짐\n",
    "- 장식되지 않은 원본을 호출하는 기능을 유지하고 싶은 함수라면 @구문을 사용하지 않고 직접 장식"
   ]
  },
  {
   "cell_type": "code",
   "execution_count": 4,
   "id": "3f8529c8",
   "metadata": {},
   "outputs": [
    {
     "data": {
      "text/plain": [
       "'Hello!'"
      ]
     },
     "execution_count": 4,
     "metadata": {},
     "output_type": "execute_result"
    }
   ],
   "source": [
    "@null_decorator\n",
    "def greet():\n",
    "    return 'Hello!'\n",
    "\n",
    "greet()"
   ]
  },
  {
   "cell_type": "markdown",
   "id": "bf2b978c",
   "metadata": {},
   "source": [
    "#### 데코레이터는 동작을 수정할 수 있음"
   ]
  },
  {
   "cell_type": "markdown",
   "id": "97fb8103",
   "metadata": {},
   "source": [
    "- 입력 함수를 반환 하는 대신 uppercase 데코레이터는 새로운 함수(클로저)를 즉성에서 정의해 입력 함수를 감쌈\n",
    "- 나중에 호출될 때 함수의 동작이 달라짐\n",
    "- wrapper 클로저는 장식되지 않은 입력 함수에 접근할 수 있음\n",
    "- 입력 함수를 호출하기 전후에 추가 코드를 자유롭게 실행 가능( 입력 함수를 아예 호출하지 않아도 됨 )\n",
    "    - keypoint는 장식된 함수는 (wrapper()) 함수는 아예 호출 된적 없음"
   ]
  },
  {
   "cell_type": "code",
   "execution_count": 15,
   "id": "9a95d6c9",
   "metadata": {},
   "outputs": [
    {
     "data": {
      "text/plain": [
       "'HELLO'"
      ]
     },
     "execution_count": 15,
     "metadata": {},
     "output_type": "execute_result"
    }
   ],
   "source": [
    "def uppercase(func):\n",
    "    def wrapper():\n",
    "        original_result = func()\n",
    "        modified_result = original_result.upper()\n",
    "        return modified_result\n",
    "    return wrapper\n",
    "\n",
    "@uppercase\n",
    "def greet():\n",
    "    return \"Hello\"\n",
    "\n",
    "greet()"
   ]
  },
  {
   "cell_type": "markdown",
   "id": "1af39894",
   "metadata": {},
   "source": [
    "#### 그러니까 정리해보면\n",
    "\n",
    "- 원본 함수를 클로저로 받음\n",
    "- 그 원본 함수를 데코레이터에서 수정\n",
    "- 그 함수를 반환받음\n",
    "- 원본 함수는 건드리지 않고 원하는 내용을 수정할 수 있음"
   ]
  },
  {
   "cell_type": "code",
   "execution_count": 19,
   "id": "df23910e",
   "metadata": {},
   "outputs": [
    {
     "name": "stdout",
     "output_type": "stream",
     "text": [
      "<function greet at 0x000002132172B700>\n",
      "\n",
      "<function greet at 0x000002132172B700>\n",
      "\n",
      "<function uppercase.<locals>.wrapper at 0x00000213218A84C0>\n"
     ]
    }
   ],
   "source": [
    "# 고찰\n",
    "\n",
    "print(greet)\n",
    "print()\n",
    "print(null_decorator(greet))\n",
    "print()\n",
    "print(uppercase(greet))"
   ]
  },
  {
   "cell_type": "markdown",
   "id": "f715c190",
   "metadata": {},
   "source": [
    "#### 다중데코레이터 적용하기\n",
    "\n",
    "- 데코레이터는 아래부터 위 순서로 적용됨 ( 작은 장식이 감싸고 큰 장식이 감쌈 )\n",
    "- 데코1 데코2 함수라면 적용 순서는 (함수)->데코2->데코1\n",
    "    - @ 구문을 사용하지 않는다면, decorated_greet = strong(emphasis(greet())) 의 형태가 될 것"
   ]
  },
  {
   "cell_type": "code",
   "execution_count": 32,
   "id": "193f00b1",
   "metadata": {},
   "outputs": [
    {
     "name": "stdout",
     "output_type": "stream",
     "text": [
      "<strong><em>Hello</em></strong>\n"
     ]
    }
   ],
   "source": [
    "def strong(func):\n",
    "    def wrapper():\n",
    "        return '<strong>' + func() +'</strong>'\n",
    "    return wrapper\n",
    "\n",
    "def emphasis(func):\n",
    "    def wrapper():\n",
    "        return '<em>' + func() + '</em>'\n",
    "    return wrapper\n",
    "\n",
    "@strong\n",
    "@empasis\n",
    "def greet():\n",
    "    return 'Hello'\n",
    "    \n",
    "print(greet())\n",
    "\n",
    "# decorated_greet = strong(emphasis(greet))\n",
    "# print()\n",
    "# print(decorated_greet())"
   ]
  },
  {
   "cell_type": "markdown",
   "id": "d596ae7d",
   "metadata": {},
   "source": [
    "#### 인자를 받는 함수 작성\n",
    "- 인자를 취하는 함수를 장식하기 위해 필요한 것 *agrs, * *kwargs"
   ]
  },
  {
   "cell_type": "markdown",
   "id": "abed5598",
   "metadata": {},
   "source": [
    "##### 주요 특징\n",
    "\n",
    "- *(별) 및 * *(쌍별) 연산자를 사용하여 모든 위치 및 키워드 인자 수집 후 변수 (args와 kwargs)에 저장\n",
    "- wrapper 클로저는 수집된 인자를 * 및 ** '인자 풀기' 연산자를 사용하여 원래 입력 함수로 전달\n",
    "\n",
    "    - *(별) 인자 : 여러 개의 인자를 함수로 받고자 할 때 쓰임(튜플)\n",
    "    - ** (쌍별) 인자 : 여러 개의 인자를 딕셔너리로 받고자 함"
   ]
  },
  {
   "cell_type": "code",
   "execution_count": 33,
   "id": "332faf19",
   "metadata": {},
   "outputs": [],
   "source": [
    "def proxy(func):\n",
    "    def wapper(*agrs, **kwargs):\n",
    "        return func(*args, **kwargs)\n",
    "    return wrapper\n",
    "# *과 ** 연산자의 의미가 문맥에 따라 오보로딩되고 바뀌는 것은 아쉬움"
   ]
  },
  {
   "cell_type": "code",
   "execution_count": 102,
   "id": "894e19e5",
   "metadata": {},
   "outputs": [
    {
     "name": "stdout",
     "output_type": "stream",
     "text": [
      "TRACE: calling say() with ('Jane', 'Hello,world!'),{}\n",
      "TRACE: say()returned ' Jane : Hello,world! '\n"
     ]
    },
    {
     "data": {
      "text/plain": [
       "' Jane : Hello,world! '"
      ]
     },
     "execution_count": 102,
     "metadata": {},
     "output_type": "execute_result"
    }
   ],
   "source": [
    "# 함수 인자와 결과를 기록하는 trace 데코레이터\n",
    "\n",
    "def trace(func):\n",
    "    def wrapper(*args, **kwargs):\n",
    "        print(f'TRACE: calling {func.__name__}()',\n",
    "             f'with {args},{kwargs}')\n",
    "        \n",
    "        original_result = func(*args, **kwargs)\n",
    "        \n",
    "        print(f'TRACE: {func.__name__}()'\n",
    "             f'returned {original_result!r}')\n",
    "        return original_result\n",
    "    return wrapper\n",
    "\n",
    "\n",
    "    \n",
    "@trace\n",
    "def say(name, line):\n",
    "\n",
    "    return f' {name} : {line} '\n",
    "\n",
    "say('Jane', 'Hello,world!') "
   ]
  },
  {
   "cell_type": "markdown",
   "id": "51c08a72",
   "metadata": {},
   "source": [
    "####  '디버깅 가능한' 데코레이터 작성법\n",
    "\n",
    "- 데코레이터를 사용하면 실제로 한 한수가 다른 함수로 교체됨\n",
    "- 이 프로세스의 단점은 원래(장식되지 않은) 함수에 첨부된 일부 메타데이터를 '숨김'\n",
    "    - ex) 원래 함수명, 독스트링(docstring), 매개 변수 리스트는 감싼 클로저에 의해 숨겨짐"
   ]
  },
  {
   "cell_type": "code",
   "execution_count": 78,
   "id": "d2f3f058",
   "metadata": {},
   "outputs": [
    {
     "name": "stdout",
     "output_type": "stream",
     "text": [
      "greet\n",
      "\n",
      "Return a friendly greeting.\n",
      "\n",
      "wrapper\n",
      "\n",
      "None\n",
      "\n"
     ]
    }
   ],
   "source": [
    "def greet():\n",
    "    '''Return a friendly greeting.''' # 독스트링 이란 함수를 설명해주는 부분\n",
    "    return 'Hello!'\n",
    "\n",
    "decorated_greet = uppercase(greet)\n",
    "print(greet.__name__)\n",
    "print()\n",
    "print(greet.__doc__)\n",
    "print()\n",
    "print(decorated_greet.__name__)\n",
    "print()\n",
    "print(decorated_greet.__doc__)\n",
    "print()"
   ]
  },
  {
   "cell_type": "markdown",
   "id": "495d1a2a",
   "metadata": {},
   "source": [
    "#### 이런 문제는 fuctools.wraps를 사용하여 해결가능\n",
    "\n",
    "- 메타 데이터란( 함수를 지칭하는 변수 )\n",
    "- 독스트링( 함수 설명 부분)\n",
    "    - import functools\n",
    "    - wrapper()을 @functools.wrap(func)으로 감쌈"
   ]
  },
  {
   "cell_type": "code",
   "execution_count": 83,
   "id": "b2188c61",
   "metadata": {},
   "outputs": [
    {
     "name": "stdout",
     "output_type": "stream",
     "text": [
      "greet\n",
      "\n",
      "Retrun a friendly greeting.\n",
      "\n"
     ]
    }
   ],
   "source": [
    "import functools\n",
    "\n",
    "def uppercase(func):\n",
    "    @functools.wraps(func)\n",
    "    def wrapper():\n",
    "        return func().upper()\n",
    "    return wrapper\n",
    "\n",
    "@uppercase\n",
    "def greet():\n",
    "    \"\"\"Retrun a friendly greeting.\"\"\"\n",
    "    return 'Hello!'\n",
    "\n",
    "\n",
    "decorated_greet = uppercase(greet)\n",
    "print(greet.__name__)\n",
    "print()\n",
    "print(greet.__doc__)\n",
    "print()\n"
   ]
  },
  {
   "cell_type": "markdown",
   "id": "f7d53c1d",
   "metadata": {},
   "source": [
    "#### keypoint( 데코레이터 )\n",
    "\n",
    "- 데코레이터는 재사용 가능한 빌딩 블록을 정의하여 호출 가능 객체를 영구적으로 수정하지 않고도 그 동작을 수정 가능하게 함\n",
    "- @ 구문은 입력 함수를 사용할 때 데코레이터를 자동으로 호출하기 위한 단축형\n",
    "- 한 함수에 여러 데코레이터를 적용할 떄는 아래에서 위 순서로 적용('데코레이터 쌓기')\n",
    "- 디버깅 모범 사례로 자신의 데코레이터에서 fuctools.wraps를 사용하면 원본 호출 가능 객체에서 장식된 호출 가능 객체로 메타데이터를 전달\n",
    "- 데코레이터는 완전한 치료제가 아니니 남용하지 말아야함. '코드가 끔직하고 유지가 불가능할 정도로 고이지 않는' 목표와 '코드가 잘 돌아가는' 필요의 균형을 맞추는 것이 중요"
   ]
  },
  {
   "cell_type": "markdown",
   "id": "26a4fda2",
   "metadata": {},
   "source": [
    "# * (별)args ** (쌍별)kwargs\n",
    "\n",
    "- 함수가 선택적으로 인지를 받아들일 수 있음으로 모듈 및 클래스에서 유연한 API를 만들 수 있음\n"
   ]
  },
  {
   "cell_type": "markdown",
   "id": "cacaac8a",
   "metadata": {},
   "source": [
    "#### 아래 함수 설명\n",
    "\n",
    "- required 라는 인자 하나를 필요로함\n",
    "- 추가 위치 인자와 키워드 매개 변수도 추가로 사용가능\n",
    "- 추가 인자 사용하여 함수를 호출하면 매개 변수 이름 앞에 * (별) 접두사가 있기 떄문에, args 가 여분의 위치 인자를 튜플로 수집\n",
    "- kwargs 는 매개 변수명에 ** (쌍별) 접두사가 있기 때문에 딕셔너리로 추가 키워드 수집\n",
    "- 함수에 추가 인자가 전될되지 않으면, args, 와 kwargs는 비어 있을 수 있음\n"
   ]
  },
  {
   "cell_type": "code",
   "execution_count": 84,
   "id": "573ba828",
   "metadata": {},
   "outputs": [],
   "source": [
    "def foo(required, *args, **kwargs):\n",
    "    print(required)\n",
    "    if args:\n",
    "        print(args)\n",
    "    if kwargs:\n",
    "        print(kwargs)"
   ]
  },
  {
   "cell_type": "code",
   "execution_count": 85,
   "id": "f7204211",
   "metadata": {},
   "outputs": [
    {
     "ename": "TypeError",
     "evalue": "foo() missing 1 required positional argument: 'required'",
     "output_type": "error",
     "traceback": [
      "\u001b[1;31m---------------------------------------------------------------------------\u001b[0m",
      "\u001b[1;31mTypeError\u001b[0m                                 Traceback (most recent call last)",
      "\u001b[1;32m<ipython-input-85-c19b6d9633cf>\u001b[0m in \u001b[0;36m<module>\u001b[1;34m\u001b[0m\n\u001b[1;32m----> 1\u001b[1;33m \u001b[0mfoo\u001b[0m\u001b[1;33m(\u001b[0m\u001b[1;33m)\u001b[0m\u001b[1;33m\u001b[0m\u001b[1;33m\u001b[0m\u001b[0m\n\u001b[0m",
      "\u001b[1;31mTypeError\u001b[0m: foo() missing 1 required positional argument: 'required'"
     ]
    }
   ],
   "source": [
    "foo()"
   ]
  },
  {
   "cell_type": "code",
   "execution_count": 86,
   "id": "43fe93e6",
   "metadata": {},
   "outputs": [
    {
     "name": "stdout",
     "output_type": "stream",
     "text": [
      "Hello\n"
     ]
    }
   ],
   "source": [
    "foo('Hello')"
   ]
  },
  {
   "cell_type": "code",
   "execution_count": 87,
   "id": "a9953033",
   "metadata": {},
   "outputs": [
    {
     "name": "stdout",
     "output_type": "stream",
     "text": [
      "Hello\n",
      "(1, 2, 3)\n"
     ]
    }
   ],
   "source": [
    "foo ('Hello', 1, 2, 3)"
   ]
  },
  {
   "cell_type": "code",
   "execution_count": 88,
   "id": "2e4f2f21",
   "metadata": {},
   "outputs": [
    {
     "name": "stdout",
     "output_type": "stream",
     "text": [
      "Hello\n",
      "(1, 2, 3)\n",
      "{'key1': 'value', 'key2': 999}\n"
     ]
    }
   ],
   "source": [
    "foo ('Hello', 1, 2, 3, key1 = 'value', key2= 999)"
   ]
  },
  {
   "cell_type": "markdown",
   "id": "9754dcce",
   "metadata": {},
   "source": [
    "#### 선택적 또는 키워드 매개 변수 전달하기\n",
    "\n",
    "- 한 함수에서 다른 함수로 선택적 또는 키워드 매개 변수를 전달 가능\n",
    "- 인자를 전달할 함수를 호출할 때 인자 풀기 연산자 * 와 ** 를 사용하면 됨\n",
    "- 인자를 전달하기 전에 인자를 수정할 수 있는 기회 제공"
   ]
  },
  {
   "cell_type": "markdown",
   "id": "1d334861",
   "metadata": {},
   "source": [
    "#### 아래 코드 설명\n",
    "- 감싸는 함수를 작성하고 서브클래싱하는 데 유용\n",
    "- 부모 클래스 생성자의 시그너처 전체를 자식 클래스에 복제하지 않고도 부모클래스 동작 확장 가능\n",
    "- API로 작업하는 경우 매우 편리"
   ]
  },
  {
   "cell_type": "code",
   "execution_count": 89,
   "id": "298fcdfa",
   "metadata": {},
   "outputs": [],
   "source": [
    "def foo(x, *args, **kwargs):\n",
    "    kwargs['name'] = 'Alice'\n",
    "    new_args = args + ('extra', )\n",
    "    bar(x, *new_args, **kwargs)"
   ]
  },
  {
   "cell_type": "markdown",
   "id": "794bd29e",
   "metadata": {},
   "source": [
    "#### 아래 코드 설명\n",
    "\n",
    "- AlwaysBlueCar 생성자는 모든 인자를 상위 클래스에 전달한 다음 내부 속성을 재정의\n",
    "- 즉 부모 클래스 생성자가 변경돼도, AlwaysBlueCar는 여전히 의도대로 작동\n",
    "- 단점\n",
    "    - AlwaysBlueCar 생성자의 시그니처는 크게 도움이 되지 않기때문에 부모 클래스를 찾아보지 않고서는 어떤 인자를 기대하는지 알수 없음\n",
    "    \n",
    "----------------------------------------------------------------------\n",
    "- 주의\n",
    "    - 일반적으로 자신의 클래스 계층 구조를 이런 방식으로 작성하지는 않을 것\n",
    "    - 자신이 제어하지 못하는 일부 외부 클래스의 동작을 수정하거나 재정의\n",
    "    - 그러나 늘 위험한 영역이기 때문에 조심해야 함\n",
    "    - 잠재적으로는 데코레이터와 같은 감싸는 함수를 작성하는 시나리오에서 도움이 됨\n",
    "    - 감싸진 함수로 전달되는 임의의 인자를 허용하고 싶을 수 있음\n",
    "    - 원래 함수의 시그니처를 복사하여 붙여 넣지 않고도 이 작업을 수행할 수 있다면 유지 관리가 쉬움"
   ]
  },
  {
   "cell_type": "code",
   "execution_count": 96,
   "id": "dca2a74a",
   "metadata": {},
   "outputs": [
    {
     "data": {
      "text/plain": [
       "'blue'"
      ]
     },
     "execution_count": 96,
     "metadata": {},
     "output_type": "execute_result"
    }
   ],
   "source": [
    "class Car:\n",
    "    def __init__(self, color, mileage):\n",
    "        self.color = color\n",
    "        self.mileage = mileage\n",
    "\n",
    "class AlwaysBlueCar(Car): # Car 라는 부모 클래스를 상속 받겠다\n",
    "    def __init__(self, *args, **kwargs):\n",
    "        super().__init__(*args,**kwargs)\n",
    "        self.color = 'blue'\n",
    "    \n",
    "AlwaysBlueCar('green', 48392).color\n"
   ]
  },
  {
   "cell_type": "code",
   "execution_count": 104,
   "id": "6ed82f0a",
   "metadata": {},
   "outputs": [
    {
     "name": "stdout",
     "output_type": "stream",
     "text": [
      "<function greet at 0x00000213218A85E0> ('Hello', 'Bob') {}\n",
      "Hello! , Bob\n"
     ]
    },
    {
     "data": {
      "text/plain": [
       "'Hello! , Bob'"
      ]
     },
     "execution_count": 104,
     "metadata": {},
     "output_type": "execute_result"
    }
   ],
   "source": [
    "# 다른 예시\n",
    "import functools\n",
    "def trace(f):\n",
    "    @functools.wraps(f)\n",
    "    def decorated_function(*args,**kwargs):\n",
    "        print(f, args, kwargs)\n",
    "        result = f(*args, **kwargs)\n",
    "        print(result)\n",
    "        return result # 이 부분을 하지 않으면 greet() 호출시 가지는 값이 없음\n",
    "    return decorated_function\n",
    "\n",
    "@trace\n",
    "def greet(greeting, name):\n",
    "    return f'{greeting}! , {name}'\n",
    "\n",
    "greet('Hello', 'Bob')"
   ]
  },
  {
   "cell_type": "markdown",
   "id": "a3f8e0c8",
   "metadata": {},
   "source": [
    "#### keypoint ( * args, ** kwargs)\n",
    "\n",
    "- * (별) args와 ** kwargs를 사용하면 파이썬에서 인자 개수가 가변적인 함수를 작성 가능\n",
    "- * (별) args는 여분의 위치 인자를 튜플로 수집, ** kwargs는 여분의 키워드를 딕셔너리 인자로 수집\n",
    "- 실제 문법은 * 와 ** 이나 관례를 따르는 것이 좋음"
   ]
  },
  {
   "cell_type": "markdown",
   "id": "d739dc47",
   "metadata": {},
   "source": [
    "# 함수 인자 풀기\n",
    "\n",
    "- 별과 쌍별 연산자를 사용하여 연속된 데이터와 딕셔너리에서 함수 인자를 '풀어 내는' 기능은 근사\n"
   ]
  },
  {
   "cell_type": "markdown",
   "id": "6303bd30",
   "metadata": {},
   "source": [
    "#### 아래 코드 설명\n",
    "- 아래의 함수는 ( x, y, z ) 세 개의 인자를 취해 형식화하여 출력\n"
   ]
  },
  {
   "cell_type": "code",
   "execution_count": 106,
   "id": "0be4d564",
   "metadata": {},
   "outputs": [
    {
     "name": "stdout",
     "output_type": "stream",
     "text": [
      "<0, 1, 0>\n"
     ]
    }
   ],
   "source": [
    "# 삼차원 벡터 출력하기\n",
    "\n",
    "def print_vector(x, y, z):\n",
    "    print ('<%s, %s, %s>' %(x, y, z))\n",
    "    \n",
    "print_vector(0, 1, 0)"
   ]
  },
  {
   "cell_type": "markdown",
   "id": "cf0523d2",
   "metadata": {},
   "source": [
    "- 함수를 호출할 때 반복 가능 객체 앞에 * 를 두면 인자를 풀어서 각각의 요소로 개별 인자로 전달함"
   ]
  },
  {
   "cell_type": "code",
   "execution_count": 109,
   "id": "f8c4f320",
   "metadata": {},
   "outputs": [
    {
     "name": "stdout",
     "output_type": "stream",
     "text": [
      "<0, 1, 0>\n",
      "\n",
      "<0, 1, 0>\n",
      "\n",
      "<0, 1, 0>\n"
     ]
    }
   ],
   "source": [
    "# 좀더 구체 적인 표현\n",
    "\n",
    "tuple_vec  = ( 0, 1, 0)\n",
    "list_vec = [0, 1, 0]\n",
    "print_vector(*tuple_vec)\n",
    "print()\n",
    "print_vector(*list_vec)\n",
    "print()\n",
    "\n",
    "# 위 방법이 아니라면\n",
    "\n",
    "print_vector(tuple_vec[0], tuple_vec[1], tuple_vec[2])"
   ]
  },
  {
   "attachments": {
    "image-2.png": {
     "image/png": "[encoded data removed]"
    },
    "image.png": {
     "image/png": "[encoded data removed]"
    }
   },
   "cell_type": "markdown",
   "id": "3156f5aa",
   "metadata": {},
   "source": [
    "#### 제너레이터란\n",
    "\n",
    "- genexpr = ( x*x for x in range(3) ) 과 같은 형태로 표현\n",
    "- 다만 한번 사용하고 나면 사라진다는 특징을 가짐\n",
    "    - ex) genexpr ( 0 , 1, 4 )가 있지만, 사용하고 나면 사라짐\n",
    "    - ![image.png](attachment:image.png)\n",
    "    - ![image-2.png](attachment:image-2.png)"
   ]
  },
  {
   "cell_type": "code",
   "execution_count": 110,
   "id": "159bae98",
   "metadata": {},
   "outputs": [
    {
     "name": "stdout",
     "output_type": "stream",
     "text": [
      "<0, 1, 4>\n"
     ]
    }
   ],
   "source": [
    "# generator 표현식을 포함한 예제\n",
    "\n",
    "genexpr = ( x*x for x in range(3))\n",
    "print_vector(*genexpr)"
   ]
  },
  {
   "cell_type": "markdown",
   "id": "03f1bc1d",
   "metadata": {},
   "source": [
    "#### 딕셔너리 구조는 순서가 지정되지 않음\n",
    "\n",
    "- 딕셔너리의 키를 기준으로 이름이 같은 인자와 해당 딕셔너리 값을 연결함\n",
    "- x 인자는 딕셔너리의 'x' 와 연관된 값을 받음\n",
    "- 그러나 * 로 함수를 주게 된다면, 키가 임의의 순서로 함수에 전달 ( 적혀 있는 순서 + key를 전달함 )"
   ]
  },
  {
   "cell_type": "code",
   "execution_count": 117,
   "id": "ea04b649",
   "metadata": {},
   "outputs": [
    {
     "name": "stdout",
     "output_type": "stream",
     "text": [
      "<1, 0, 1>\n",
      "<y, z, x>\n"
     ]
    }
   ],
   "source": [
    "# dic 구조로 표현\n",
    "dict_vec = {'y' : 0 , 'z' : 1, 'x' : 1}\n",
    "print_vector(**dict_vec)\n",
    "print_vector(*dict_vec)"
   ]
  },
  {
   "cell_type": "markdown",
   "id": "f87ccc7f",
   "metadata": {},
   "source": [
    "#### keypoint ( 함수 인자 풀기 )\n",
    "- ** 와 * 연산자는 데이터 및 딕셔너리를 함수 인자로 '푸는' 데 사용할 수 있음\n",
    "- 인자 풀기를 효과적으로 사용하면 모듈과 함수의 인터페이스를 좀 더 유연하게 작성 가능"
   ]
  },
  {
   "cell_type": "markdown",
   "id": "d8e9aaf8",
   "metadata": {},
   "source": [
    "# 반환할 것이 없는 경우\n",
    "\n",
    "- 파이썬은 함수의 끝에 암시적으로 return None 문을 추가함\n",
    "- 함수가 반환 값을 지정하지 않으면 기본적으로 None이 반환됨\n",
    "- 즉 return None 문을 아무것도 없는 return 문으로 대체하거나 심지어 완전히 없애더라도 동일한 결과를 얻음"
   ]
  },
  {
   "cell_type": "code",
   "execution_count": 119,
   "id": "2497a245",
   "metadata": {},
   "outputs": [
    {
     "name": "stdout",
     "output_type": "stream",
     "text": [
      "<class 'NoneType'>\n",
      "<class 'NoneType'>\n",
      "<class 'NoneType'>\n"
     ]
    }
   ],
   "source": [
    "def foo1(value):\n",
    "    if value:\n",
    "        return value\n",
    "    else:\n",
    "        return None\n",
    "\n",
    "def foo2(value):\n",
    "    \"\"\" return 문에 값이 생략돈 경우 'return None'을 의미함\"\"\"\n",
    "    if value:\n",
    "        return value\n",
    "    else:\n",
    "        return \n",
    "\n",
    "def foo3(value):\n",
    "    \"\"\" return 문이 생략되어도 'return Npne'을 의미함\"\"\"\n",
    "    if value:\n",
    "        return value\n",
    "  \n",
    "print(type(foo1(0)))\n",
    "print(type(foo2(0)))\n",
    "print(type(foo3(0)))"
   ]
  },
  {
   "cell_type": "markdown",
   "id": "fce115fa",
   "metadata": {},
   "source": [
    "#### 이 코드의 활용법\n",
    "- 함수에 반환 값이 없는 경우 ( 다른 언어에서 '프리시저'라고 부름 ) return 문을 생략함\n",
    "- 함수가 논리적인 관점에서 값을 반환하는 게 자연수럽다면 암시적 반환을 사용할지 여부를 결정해야함\n",
    "    - ex) sum 이라는 함수는 한 번 더하고 말 것을 뜻하지 않음 논리적으로 연산에 추가적으로 사용될 수 있음으로 값을 반환받음"
   ]
  },
  {
   "cell_type": "markdown",
   "id": "b3da378d",
   "metadata": {},
   "source": [
    "#### keypoint ( 반환문 )\n",
    "\n",
    "- 함수가 반환값을 지정하지 않으면 None을 반환함. 명시적으로 return None을 쓸지는 취향\n",
    "- 핵심적인 파이썬 기능이지만 명시적 return None 문을 써서 코드의 의도를 좀 더 명확하게 전달할 수 있음"
   ]
  },
  {
   "cell_type": "code",
   "execution_count": null,
   "id": "209d16ef",
   "metadata": {},
   "outputs": [],
   "source": []
  }
 ],
 "metadata": {
  "jupytext": {
   "formats": "ipynb,auto:light"
  },
  "kernelspec": {
   "display_name": "Python 3",
   "language": "python",
   "name": "python3"
  },
  "language_info": {
   "codemirror_mode": {
    "name": "ipython",
    "version": 3
   },
   "file_extension": ".py",
   "mimetype": "text/x-python",
   "name": "python",
   "nbconvert_exporter": "python",
   "pygments_lexer": "ipython3",
   "version": "3.8.10"
  }
 },
 "nbformat": 4,
 "nbformat_minor": 5
}
