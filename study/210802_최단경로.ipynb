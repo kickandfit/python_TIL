{
 "cells": [
  {
   "cell_type": "code",
   "execution_count": 10,
   "id": "3f72b1b8",
   "metadata": {},
   "outputs": [
    {
     "name": "stdout",
     "output_type": "stream",
     "text": [
      "0\n",
      "2\n",
      "3\n",
      "1\n",
      "2\n",
      "4\n"
     ]
    }
   ],
   "source": [
    "#우선 순위 큐를 활용한 다익스라 알고리즘 구현\n",
    "# n개의 노드 , m 개의 간선\n",
    "import heapq\n",
    "n , m = 6, 11\n",
    "# graph = [[] for _ in range(n+1)]\n",
    "graph = [[],\n",
    " [(2, 2), (3, 5), (4, 1)],\n",
    " [(3, 3), (4, 2)],\n",
    " [(2, 3), (6, 5)],\n",
    " [(3, 3), (5, 1)],\n",
    " [(3, 1), (6, 2)],\n",
    " []]\n",
    "# 스타트 노드 입력받기\n",
    "start = 1\n",
    "INF = int(1e9)\n",
    "distance = [INF]*(n+1)\n",
    "# for _ in range(m):\n",
    "#     a , b, c = map(int, input().split())\n",
    "#     graph[a].append((b,c))\n",
    "def dijkstra(start):\n",
    "    q = []\n",
    "    heapq.heappush(q,(0,start)) # 시작 노드를 넣는데 비용이 0이다\n",
    "    distance[start] = 0\n",
    "    while q:\n",
    "        dist, now = heapq.heappop(q)\n",
    "        \n",
    "        # 방문한적 있으면 무시\n",
    "        if distance[now]< dist:\n",
    "            continue\n",
    "        for  i in graph[now]:\n",
    "            cost = i[1]+ dist\n",
    "            if cost < distance[i[0]]:\n",
    "                distance[i[0]] = cost\n",
    "                heapq.heappush(q, (cost, i[0]))\n",
    "dijkstra(start)\n",
    "\n",
    "for i in range(1, n+1):\n",
    "    # 도달할 수 없는 경우, 무한(INF)라고 풀력\n",
    "    if distance[i] == INF:\n",
    "        print('INF')\n",
    "    else:\n",
    "        print(distance[i])"
   ]
  },
  {
   "cell_type": "code",
   "execution_count": 14,
   "id": "08d3880e",
   "metadata": {},
   "outputs": [],
   "source": [
    "#one more\n",
    "def dijkstra(start):\n",
    "    q=[]\n",
    "    heapq.heappush(q, (0,start))\n",
    "    distance[start] = 0\n",
    "    while q:\n",
    "        dist , now = heapq.heappop(q)\n",
    "        if distance[now] < dist:\n",
    "            continue\n",
    "        for i in graph[now]:\n",
    "            cost = i[1] + dist\n",
    "            if cost < distance[i[0]]:\n",
    "                distance[i[0]] = cost\n",
    "                heapq.heappush(q, (cost, i[0]))\n"
   ]
  },
  {
   "cell_type": "code",
   "execution_count": null,
   "id": "3e07579e",
   "metadata": {
    "scrolled": true
   },
   "outputs": [],
   "source": []
  },
  {
   "cell_type": "code",
   "execution_count": null,
   "id": "b969bb50",
   "metadata": {},
   "outputs": [],
   "source": []
  }
 ],
 "metadata": {
  "jupytext": {
   "formats": "ipynb,auto:light"
  },
  "kernelspec": {
   "display_name": "Python 3",
   "language": "python",
   "name": "python3"
  },
  "language_info": {
   "codemirror_mode": {
    "name": "ipython",
    "version": 3
   },
   "file_extension": ".py",
   "mimetype": "text/x-python",
   "name": "python",
   "nbconvert_exporter": "python",
   "pygments_lexer": "ipython3",
   "version": "3.8.10"
  }
 },
 "nbformat": 4,
 "nbformat_minor": 5
}
