{
 "cells": [
  {
   "cell_type": "code",
   "execution_count": 28,
   "id": "850fbd1a",
   "metadata": {},
   "outputs": [
    {
     "name": "stdout",
     "output_type": "stream",
     "text": [
      "[0, 1, 2, 3, 4, 5, 6, 7, 8, 9]\n"
     ]
    }
   ],
   "source": [
    "#선택 정렬 구현\n",
    "data = [7, 2, 1 ,6 ,3, 5, 4, 9 ,8, 0]\n",
    "for i in range(len(data)):\n",
    "    min_index = i\n",
    "    for j in range(i+1, len(data)):\n",
    "        if data[min_index] > data[j]:\n",
    "            min_index = j\n",
    "    data[i], data[min_index] = data[min_index] , data[i]\n",
    "print(data)"
   ]
  },
  {
   "cell_type": "code",
   "execution_count": 5,
   "id": "6860bc35",
   "metadata": {},
   "outputs": [],
   "source": [
    "# 삽입 정렬 / 7.28\n",
    "data = [7, 2, 1 ,6 ,3, 5, 4, 9 ,8, 0]\n",
    "for i in range(1,len(data)):\n",
    "    for j in range(i, 0 , -1):\n",
    "        \n",
    "        if data[j] < data [j-1]:\n",
    "            data[j], data[j-1] = data[j-1], data[j]\n",
    "        else:\n",
    "            break"
   ]
  },
  {
   "cell_type": "code",
   "execution_count": 16,
   "id": "73cc9c05",
   "metadata": {
    "lines_to_next_cell": 2
   },
   "outputs": [
    {
     "name": "stdout",
     "output_type": "stream",
     "text": [
      "[0, 1, 2, 3, 4, 5, 6, 7, 8, 9]\n"
     ]
    }
   ],
   "source": [
    "#퀵정렬 구형/ 7.28\n",
    "array = [7, 2, 1 ,6 ,3, 5, 4, 9 ,8, 0]\n",
    "def quick_sort(array, start, end):\n",
    "    if start >= end:\n",
    "        return\n",
    "    pivot = start\n",
    "    left = start +1\n",
    "    right = end\n",
    "    \n",
    "    while left <= right:\n",
    "        \n",
    "        while array[left]<= array[pivot] and left<=end :\n",
    "            left += 1\n",
    "            \n",
    "        while right > start and array[right] >= array[pivot]:\n",
    "            \n",
    "            right -= 1\n",
    "        if left <= right:\n",
    "            array[left], array[right] = array[right],array[left]\n",
    "        else:\n",
    "            array[pivot], array[right] = array[right], array[pivot]\n",
    "        quick_sort(array, start, right -1 )\n",
    "        quick_sort(array, right+1 , end)\n",
    "    \n",
    "quick_sort(array, 0, len(array)-1)\n",
    "print(array)"
   ]
  },
  {
   "cell_type": "code",
   "execution_count": 14,
   "id": "39a72327",
   "metadata": {},
   "outputs": [
    {
     "data": {
      "text/plain": [
       "[0, 1, 2, 3, 4, 5, 6, 7, 8, 9]"
      ]
     },
     "execution_count": 14,
     "metadata": {},
     "output_type": "execute_result"
    }
   ],
   "source": [
    "# 파이썬을 활용한 퀵정렬 using 재귀함수\n",
    "array = [7, 2, 1 ,6 ,3, 5, 4, 9 ,8, 0]\n",
    "def quick_sort(array):\n",
    "    if len(array) <=1:\n",
    "        return array\n",
    "    \n",
    "    pivot = array[0]\n",
    "    tail = array[1:]\n",
    "    \n",
    "    left_side = [x for x in tail if x <= pivot]\n",
    "    right_side = [x for x in tail if x >=pivot]\n",
    "    \n",
    "    return quick_sort(left_side) + [pivot] + quick_sort(right_side)\n",
    "\n",
    "quick_sort(array)"
   ]
  },
  {
   "cell_type": "code",
   "execution_count": 27,
   "id": "6a0f602d",
   "metadata": {
    "lines_to_next_cell": 0
   },
   "outputs": [
    {
     "name": "stdout",
     "output_type": "stream",
     "text": [
      "[0, 1, 2, 3, 4, 5, 6, 7, 8, 9]\n"
     ]
    }
   ],
   "source": [
    "# reveiw quick_sort()\n",
    "array = [7, 2, 1 ,6 ,3, 5, 4, 9 ,8, 0]\n",
    "def quick_sort(array, start, end):\n",
    "    if start >= end:\n",
    "        return\n",
    "    pivot = start\n",
    "    left = start + 1\n",
    "    right = end\n",
    "    \n",
    "    while left<=end and array[pivot]>= array[left]:\n",
    "        left += 1\n",
    "    while right> start and array[pivot] <= array[right]:\n",
    "        right -= 1\n",
    "        \n",
    "    if left >= right :\n",
    "        array[pivot], array[right] = array[right], array[pivot]\n",
    "        \n",
    "    else:\n",
    "        array[left], array[right] = array[right], array[left]\n",
    "    \n",
    "    \n",
    "    quick_sort(array, start, right -1 )\n",
    "    quick_sort(array, right+1, end)\n",
    "\n",
    "quick_sort(array, 0, len(array)-1)\n",
    "print(array)"
   ]
  },
  {
   "cell_type": "code",
   "execution_count": 31,
   "id": "42948239",
   "metadata": {
    "lines_to_next_cell": 2
   },
   "outputs": [
    {
     "name": "stdout",
     "output_type": "stream",
     "text": [
      "0 0 1 1 2 2 3 4 5 5 6 7 8 9 9 "
     ]
    }
   ],
   "source": [
    "#계수정렬\n",
    "array = [7, 5, 9 , 0 ,3 ,1, 6, 2, 9, 1, 4, 8 ,0, 5, 2]\n",
    "\n",
    "count = [0]*(max(array)+1)\n",
    "\n",
    "for i in range(len(array)):\n",
    "    count[array[i]] += 1\n",
    "\n",
    "for i in range(len(count)):\n",
    "    for j in range(count[i]):\n",
    "        print(i, end= \" \")\n",
    "    "
   ]
  },
  {
   "cell_type": "code",
   "execution_count": null,
   "id": "21398e97",
   "metadata": {},
   "outputs": [],
   "source": []
  }
 ],
 "metadata": {
  "jupytext": {
   "encoding": "# -*- coding: utf-8 -*-",
   "formats": "ipynb,py:light"
  },
  "kernelspec": {
   "display_name": "Python 3",
   "language": "python",
   "name": "python3"
  },
  "language_info": {
   "codemirror_mode": {
    "name": "ipython",
    "version": 3
   },
   "file_extension": ".py",
   "mimetype": "text/x-python",
   "name": "python",
   "nbconvert_exporter": "python",
   "pygments_lexer": "ipython3",
   "version": "3.8.10"
  }
 },
 "nbformat": 4,
 "nbformat_minor": 5
}
