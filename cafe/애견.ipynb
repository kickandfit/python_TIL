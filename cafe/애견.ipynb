{
 "cells": [
  {
   "cell_type": "markdown",
   "id": "0727871f",
   "metadata": {},
   "source": [
    "# step 1 벤치마킹"
   ]
  },
  {
   "cell_type": "markdown",
   "id": "780e2d58",
   "metadata": {},
   "source": [
    "#### 애견 관련 블로그 & 카페 벤치마킹\n",
    "\n",
    "- 카페, 블로그 3개 가입\n",
    "- 벤치마킹\n",
    "- 조회수 관리, 카테고리 분석\n",
    "- 특화된 분야 만들기\n",
    "    - 조회수, 견종 , 유기견\n",
    "    - 활동\n",
    "- 애견 : 관련 조회수 , 병원, 카페, 미용"
   ]
  },
  {
   "cell_type": "markdown",
   "id": "6170396b",
   "metadata": {},
   "source": [
    "#### 사업을 시작하게 된다면\n",
    "\n",
    "- 지분을 구조를 어떻게 가져갈것이냐( 내게 떨어질 어드벤디지 )\n",
    "    - 사업은 개인적으로만 가져갈 것인지\n",
    "    - 정부 연계 사업까지 들어갈 것인지\n",
    "    \n",
    "- 하루에 투자해야할 시"
   ]
  }
 ],
 "metadata": {
  "kernelspec": {
   "display_name": "Python 3",
   "language": "python",
   "name": "python3"
  },
  "language_info": {
   "codemirror_mode": {
    "name": "ipython",
    "version": 3
   },
   "file_extension": ".py",
   "mimetype": "text/x-python",
   "name": "python",
   "nbconvert_exporter": "python",
   "pygments_lexer": "ipython3",
   "version": "3.8.10"
  }
 },
 "nbformat": 4,
 "nbformat_minor": 5
}
