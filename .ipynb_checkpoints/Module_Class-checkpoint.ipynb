{
 "cells": [
  {
   "cell_type": "code",
   "execution_count": 9,
   "id": "fffd6b23",
   "metadata": {},
   "outputs": [],
   "source": [
    "## 실행 함수(메서드)만 가지고 있는 클래스\n",
    "\n",
    "class Fun_cls: # 클래스 첫 글자는 대문자로 많이 적음\n",
    "    \n",
    "    # 클래스 기준 인스턴스 속성에 해당됨\n",
    "    def usr_fun1(x, y, z = 10):\n",
    "\n",
    "        tot = x + y + z\n",
    "        print(f'x={x}, y={y}, z={z}, 합계={tot}')\n",
    "\n",
    "    def usr_fun2(x, y, z):\n",
    "\n",
    "        tot = x + y + z\n",
    "        p_tot = tot *10\n",
    "        return tot , p_tot\n",
    "\n",
    "## 생성자를 가직 있는 클래스\n",
    "## 사칙연산\n",
    "class FourCal:\n",
    "    \n",
    "    # self는 자기자신을 의미함\n",
    "    \n",
    "    # 생성자 : 클래스 자체를 정의할 떄 사용함\n",
    "\n",
    "    def __init__(self):\n",
    "        self.result = 0 #FourCal 속성\n",
    "        \n",
    "    def add(self, num): # 함수/ 인스턴스(클래스 입장)/ 메서드\n",
    "        self.result = self.result + num\n",
    "        \n",
    "        return self.result\n",
    "    \n",
    "    def sub(self, num):\n",
    "        self.result= self.result - num\n",
    "        return self.result\n",
    "    \n",
    "    def mul(self, num):\n",
    "        self.result= self.result * num\n",
    "        return self.result\n",
    "    \n",
    "    def Div(self, num) :\n",
    "        self.result= self.result/num\n",
    "        return self.result\n",
    "\n",
    "        "
   ]
  },
  {
   "cell_type": "code",
   "execution_count": 11,
   "id": "17ab5ce7",
   "metadata": {},
   "outputs": [
    {
     "name": "stdout",
     "output_type": "stream",
     "text": [
      "10\n"
     ]
    }
   ],
   "source": [
    "# 생성자가 있는 클래스의 경우\n",
    "\n",
    "f_cal = FourCal()\n",
    "tot = f_cal.add(10)\n",
    "print(tot)"
   ]
  },
  {
   "cell_type": "code",
   "execution_count": 13,
   "id": "e3123dc0",
   "metadata": {},
   "outputs": [
    {
     "name": "stdout",
     "output_type": "stream",
     "text": [
      "FourCal 클래스 result = 0\n"
     ]
    }
   ],
   "source": [
    "#클래스 FourCal을 이용해서 객체 fcall을 생성해라\n",
    "fcall = FourCal() #생성자가 있을때 생성자를 통해 초기화 해줘라\n",
    "\n",
    "print('FourCal 클래스 result =', fcall.result) "
   ]
  },
  {
   "cell_type": "code",
   "execution_count": 17,
   "id": "48c5b92e",
   "metadata": {},
   "outputs": [
    {
     "name": "stdout",
     "output_type": "stream",
     "text": [
      "FourCal.sub 계산후 result = 0\n",
      "FourCal.add 계산후 result = 10\n",
      "FourCal.sub 계산후 result = 5\n",
      "FourCal.add 계산후 result = 10\n",
      "FourCal.add 계산후 result = 0\n"
     ]
    }
   ],
   "source": [
    "if __name__ == \"__main__\": # 자기자신이 실행하면 실행하고 다른곳에서 호출하면 실행하지 말아라\n",
    "    # __ 는 숨겨진 변수\n",
    "    print('FourCal.sub 계산후 result =', fcall.result) \n",
    "    fcall.add(10)\n",
    "    print('FourCal.add 계산후 result =', fcall.result) \n",
    "    fcall.sub(5)\n",
    "    print('FourCal.sub 계산후 result =', fcall.result) \n",
    "\n",
    "\n",
    "    # 끝나고 재정의 하면 초기화된다\n",
    "    fcall = FourCal() \n",
    "    fcal2 = FourCal()\n",
    "\n",
    "    fcall.add(10)\n",
    "    print('FourCal.add 계산후 result =', fcall.result) \n",
    "    print('FourCal.add 계산후 result =', fcal2.result) "
   ]
  },
  {
   "cell_type": "code",
   "execution_count": 18,
   "id": "abc1730e",
   "metadata": {},
   "outputs": [
    {
     "name": "stdout",
     "output_type": "stream",
     "text": [
      "10\n",
      "FourCal 클래스 result = 0\n"
     ]
    },
    {
     "ename": "ModuleNotFoundError",
     "evalue": "No module named 'Module_c'",
     "output_type": "error",
     "traceback": [
      "\u001b[1;31m---------------------------------------------------------------------------\u001b[0m",
      "\u001b[1;31mModuleNotFoundError\u001b[0m                       Traceback (most recent call last)",
      "\u001b[1;32m<ipython-input-18-71b4bd7d72a4>\u001b[0m in \u001b[0;36m<module>\u001b[1;34m\u001b[0m\n\u001b[1;32m----> 1\u001b[1;33m \u001b[1;32mimport\u001b[0m \u001b[0mModule_Class\u001b[0m \u001b[1;32mas\u001b[0m \u001b[0mMC\u001b[0m\u001b[1;33m\u001b[0m\u001b[1;33m\u001b[0m\u001b[0m\n\u001b[0m",
      "\u001b[1;32m~\\Desktop\\python_TIL\\Module_Class.py\u001b[0m in \u001b[0;36m<module>\u001b[1;34m\u001b[0m\n\u001b[0;32m     93\u001b[0m     \u001b[0mprint\u001b[0m\u001b[1;33m(\u001b[0m\u001b[1;34m'FourCal.add 계산후 result ='\u001b[0m\u001b[1;33m,\u001b[0m \u001b[0mfcal2\u001b[0m\u001b[1;33m.\u001b[0m\u001b[0mresult\u001b[0m\u001b[1;33m)\u001b[0m\u001b[1;33m\u001b[0m\u001b[1;33m\u001b[0m\u001b[0m\n\u001b[0;32m     94\u001b[0m \u001b[1;33m\u001b[0m\u001b[0m\n\u001b[1;32m---> 95\u001b[1;33m \u001b[1;32mimport\u001b[0m \u001b[0mModule_c\u001b[0m\u001b[1;33m\u001b[0m\u001b[1;33m\u001b[0m\u001b[0m\n\u001b[0m\u001b[0;32m     96\u001b[0m \u001b[1;33m\u001b[0m\u001b[0m\n\u001b[0;32m     97\u001b[0m \u001b[1;33m\u001b[0m\u001b[0m\n",
      "\u001b[1;31mModuleNotFoundError\u001b[0m: No module named 'Module_c'"
     ]
    }
   ],
   "source": []
  },
  {
   "cell_type": "code",
   "execution_count": null,
   "id": "007388af",
   "metadata": {},
   "outputs": [],
   "source": []
  },
  {
   "cell_type": "code",
   "execution_count": null,
   "id": "28a964c7",
   "metadata": {},
   "outputs": [],
   "source": []
  },
  {
   "cell_type": "code",
   "execution_count": null,
   "id": "0cf9e71f",
   "metadata": {},
   "outputs": [],
   "source": []
  },
  {
   "cell_type": "code",
   "execution_count": null,
   "id": "b4b50d0c",
   "metadata": {},
   "outputs": [],
   "source": []
  }
 ],
 "metadata": {
  "jupytext": {
   "formats": "ipynb,auto:light"
  },
  "kernelspec": {
   "display_name": "Python 3",
   "language": "python",
   "name": "python3"
  },
  "language_info": {
   "codemirror_mode": {
    "name": "ipython",
    "version": 3
   },
   "file_extension": ".py",
   "mimetype": "text/x-python",
   "name": "python",
   "nbconvert_exporter": "python",
   "pygments_lexer": "ipython3",
   "version": "3.9.4"
  }
 },
 "nbformat": 4,
 "nbformat_minor": 5
}
