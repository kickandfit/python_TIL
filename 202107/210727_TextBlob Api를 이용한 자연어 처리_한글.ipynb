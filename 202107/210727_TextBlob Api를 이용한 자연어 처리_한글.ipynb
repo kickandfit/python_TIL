{
 "cells": [
  {
   "cell_type": "code",
   "execution_count": 1,
   "id": "0ced3dfa",
   "metadata": {},
   "outputs": [],
   "source": [
    "from textblob import TextBlob as tb\n",
    "from textblob.classifiers import NaiveBayesClassifier\n"
   ]
  },
  {
   "cell_type": "code",
   "execution_count": 2,
   "id": "43701fec",
   "metadata": {},
   "outputs": [],
   "source": [
    "train = [('나는 이 샌드위치를 정말 좋아해.', '긍정'),\n",
    "         ('정말 멋진 곳이에요!', '긍정'),\n",
    "         ('나는 이 맥주들이 아주 좋다고 생각해요.', '긍정'),\n",
    "         ('이것은 나의 최고의 작품입니다.', '긍정'),\n",
    "         (\"정말 멋진 광경이다\", \"긍정\"),\n",
    "         ('난 이 식당 싫어', '부정'),\n",
    "         ('난 이게 지겨워.', '부정'),\n",
    "         (\"이 문제는 처리할 수 없습니다.\", \"부정\"),\n",
    "         ('그는 나의 불구대천의 원수이다.', '부정'),\n",
    "         ('내 상사는 끔찍해.', '부정'),\n",
    "         ('나는 내 꿈을 믿는다', '긍정'),\n",
    "         ('나는 매일 최선을 다하고 있다', '긍정'),\n",
    "         ('나는 있는 그대로의 나를 사랑한다', '긍정'),\n",
    "         ('나는 내 삶을 100% 책임진다', '긍정'),\n",
    "         ('가장 좋은 일은 아직 생기지 않았다', '긍정'),\n",
    "         ('나는 매일 나의 삶에 감사한다', '긍정'),\n",
    "         ('새로나온 휴대폰은 배터리 교체가 되지 않아 불편하다', '부정'),\n",
    "         ('이번에 나온 영화 너무 재밌다. 주말에 또 보고 싶다.', '긍정'),\n",
    "         ('나의 아버지는 이해가 안된다', '부정'),\n",
    "         ('나는 어머니와 있을 때 퉁명해진다', '부정'),\n",
    "         ('나는 어머니와 있을 때 불편할 때가 있다.', '부정'),\n",
    "         ('치킨집에 선결제로 주문했는데 돈은 결제가 되었는데 치킨집에선 주문이 안들어왔다고합니다.', '부정'),\n",
    "         ('지금 현재 네이버 실시간 검색어에 떴고, 여전히 고객센터는 전화연결이 되지않습니다. ', '부정'),\n",
    "         ('이럴거면 요기요처럼 아예 접속도 안되게하던가 결제를 막았어야하는데', '부정'),\n",
    "         ('결제해서 가게에 돈 준 것도 아니고 본인들이 가져가놓고 전화도 안받으면 돈은 어떻게 돌려받습니까?', '부정'),\n",
    "         ('너무 유용하고 편리하네요.. ', '긍정'),\n",
    "         ('처음 구입한다고 쿠폰 받고 이용하니깐 저렴하게 먹을 수 있었고 배달시간도 만족스러워서 좋았습니다.', '긍정'),\n",
    "         ('배달의 민족 강추 합니다. ', '긍정'),\n",
    "         ('자주 이용할께요ㅡㅡㅡ강추 강추!!!', '긍정')\n",
    "         ]\n",
    "\n"
   ]
  },
  {
   "cell_type": "code",
   "execution_count": 3,
   "id": "d6718978",
   "metadata": {},
   "outputs": [],
   "source": [
    "test = [('맥주가 좋았습니다.', '긍정'),\n",
    "        ('난 내 일을 즐기지 않는다', '부정'),\n",
    "        ('오늘은 기분이 안 좋아요.', '부정'),\n",
    "        ('빠른 배달 좋네요', '긍정'),\n",
    "        ('네드는 나의 친구입니다.', '긍정'),\n",
    "        ('제가 이렇게 하고 있다니 믿을 수가 없어요.', '부정')]\n"
   ]
  },
  {
   "cell_type": "code",
   "execution_count": 4,
   "id": "01865dd9",
   "metadata": {},
   "outputs": [
    {
     "data": {
      "text/plain": [
       "<NaiveBayesClassifier trained on 29 instances>"
      ]
     },
     "execution_count": 4,
     "metadata": {},
     "output_type": "execute_result"
    }
   ],
   "source": [
    "pos_neg = NaiveBayesClassifier(train)\n",
    "pos_neg"
   ]
  },
  {
   "cell_type": "code",
   "execution_count": 5,
   "id": "1d3ebbb2",
   "metadata": {},
   "outputs": [
    {
     "name": "stdout",
     "output_type": "stream",
     "text": [
      "정확도: 0.5\n"
     ]
    }
   ],
   "source": [
    "# 테스트 데이터를 이용해 전체 긍정/부정 테스트해 결과 확인\n",
    "test_acc=pos_neg.accuracy(test)\n",
    "print(f'정확도: {test_acc}')"
   ]
  },
  {
   "cell_type": "code",
   "execution_count": 6,
   "id": "c0b44128",
   "metadata": {},
   "outputs": [
    {
     "name": "stdout",
     "output_type": "stream",
     "text": [
      "긍정\n",
      "긍정\n",
      "긍정\n",
      "긍정\n",
      "긍정\n",
      "긍정\n"
     ]
    }
   ],
   "source": [
    "for txt in test:\n",
    "    \n",
    "    print(pos_neg.classify(txt[0]))"
   ]
  },
  {
   "cell_type": "code",
   "execution_count": 7,
   "id": "ff4c2805",
   "metadata": {},
   "outputs": [],
   "source": [
    "# train 데이터와 텍스트를 형태소 분석하여 train_data를 생성\n",
    "from konlpy.tag import Okt\n",
    "okt= Okt()"
   ]
  },
  {
   "cell_type": "code",
   "execution_count": 8,
   "id": "41d8d36f",
   "metadata": {},
   "outputs": [
    {
     "data": {
      "text/plain": [
       "[(['맥주/Noun', '가/Josa', '좋았습니다/Adjective', './Punctuation'], '긍정'),\n",
       " (['난/Noun', '내/Noun', '일/Noun', '을/Josa', '즐기지/Verb', '않는다/Verb'], '부정'),\n",
       " (['오늘/Noun',\n",
       "   '은/Josa',\n",
       "   '기분/Noun',\n",
       "   '이/Josa',\n",
       "   '안/Noun',\n",
       "   '좋아요/Adjective',\n",
       "   './Punctuation'],\n",
       "  '부정'),\n",
       " (['빠른/Adjective', '배달/Noun', '좋네요/Adjective'], '긍정'),\n",
       " (['네/Noun',\n",
       "   '드는/Verb',\n",
       "   '나/Noun',\n",
       "   '의/Josa',\n",
       "   '친구/Noun',\n",
       "   '입니다/Adjective',\n",
       "   './Punctuation'],\n",
       "  '긍정'),\n",
       " (['제/Noun',\n",
       "   '가/Josa',\n",
       "   '이렇게/Adverb',\n",
       "   '하고/Verb',\n",
       "   '있다니/Adjective',\n",
       "   '믿을/Verb',\n",
       "   '수가/Noun',\n",
       "   '없어요/Adjective',\n",
       "   './Punctuation'],\n",
       "  '부정')]"
      ]
     },
     "execution_count": 8,
     "metadata": {},
     "output_type": "execute_result"
    }
   ],
   "source": [
    "### train를 품사단위로 분류\n",
    "# train_data = []\n",
    "# train_data=[(['/'.join(token) for token in okt.pos(sen)], res) for [sen, res] in train]\n",
    "\n",
    "train_data = []\n",
    "\n",
    "for [sen, res] in train:\n",
    "    token_list = []\n",
    "    for token in okt.pos(sen):\n",
    "        token_list.append('/'.join(token))\n",
    "    train_data.append((token_list, res))\n",
    "\n",
    "test_data = []\n",
    "test_data = [(['/'.join(token) for token in okt.pos(sen)], res) for [sen, res] in test]\n",
    "test_data"
   ]
  },
  {
   "cell_type": "code",
   "execution_count": 9,
   "id": "6e9869f4",
   "metadata": {},
   "outputs": [
    {
     "name": "stdout",
     "output_type": "stream",
     "text": [
      "정확도: 0.5\n"
     ]
    }
   ],
   "source": [
    "pos_neg = NaiveBayesClassifier(train)\n",
    "test_acc = pos_neg.accuracy(test_data)\n",
    "print(f'정확도: {test_acc}')"
   ]
  },
  {
   "cell_type": "code",
   "execution_count": 10,
   "id": "4172a4db",
   "metadata": {},
   "outputs": [
    {
     "name": "stdout",
     "output_type": "stream",
     "text": [
      "Most Informative Features\n",
      "            contains(나는) = True               긍정 : 부정     =      2.5 : 1.0\n",
      "            contains(나는) = False              부정 : 긍정     =      1.5 : 1.0\n",
      "             contains(내) = True               긍정 : 부정     =      1.4 : 1.0\n",
      "            contains(나의) = True               부정 : 긍정     =      1.2 : 1.0\n",
      "             contains(이) = True               부정 : 긍정     =      1.2 : 1.0\n",
      "            contains(정말) = False              부정 : 긍정     =      1.2 : 1.0\n",
      "             contains(수) = True               부정 : 긍정     =      1.2 : 1.0\n",
      "            contains(있다) = True               부정 : 긍정     =      1.2 : 1.0\n",
      "             contains(난) = False              긍정 : 부정     =      1.2 : 1.0\n",
      "            contains(돈은) = False              긍정 : 부정     =      1.2 : 1.0\n",
      "None\n"
     ]
    }
   ],
   "source": [
    "print(pos_neg.show_informative_features())"
   ]
  },
  {
   "cell_type": "code",
   "execution_count": null,
   "id": "702b9576",
   "metadata": {},
   "outputs": [],
   "source": []
  },
  {
   "cell_type": "code",
   "execution_count": null,
   "id": "cf9d92ac",
   "metadata": {},
   "outputs": [],
   "source": []
  },
  {
   "cell_type": "code",
   "execution_count": null,
   "id": "cf50a2a8",
   "metadata": {},
   "outputs": [],
   "source": []
  }
 ],
 "metadata": {
  "kernelspec": {
   "display_name": "Python 3",
   "language": "python",
   "name": "python3"
  },
  "language_info": {
   "codemirror_mode": {
    "name": "ipython",
    "version": 3
   },
   "file_extension": ".py",
   "mimetype": "text/x-python",
   "name": "python",
   "nbconvert_exporter": "python",
   "pygments_lexer": "ipython3",
   "version": "3.8.10"
  }
 },
 "nbformat": 4,
 "nbformat_minor": 5
}
