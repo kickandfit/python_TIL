{
 "cells": [
  {
   "cell_type": "code",
   "execution_count": 4,
   "id": "74ba0944",
   "metadata": {},
   "outputs": [],
   "source": [
    "import numpy as np\n",
    "#np.random.randint(10,20)\n",
    "#10 이상 20미만 range에서 랜덤수를 출력해라"
   ]
  },
  {
   "cell_type": "code",
   "execution_count": 11,
   "id": "2cab8209",
   "metadata": {},
   "outputs": [
    {
     "name": "stdout",
     "output_type": "stream",
     "text": [
      "[20, 7, 21, 46, 31, 7, 27, 31, 22, 21]\n"
     ]
    }
   ],
   "source": [
    "#실습 1 - 0~50 랜덤한 숫자를 뽑아서, 리스트에 10개의 수를 넣어라\n",
    "l1 = []\n",
    "for num in range(10):\n",
    "    num=np.random.randint(0,51)\n",
    "    l1.append(num)\n",
    "print(l1)"
   ]
  },
  {
   "cell_type": "code",
   "execution_count": 18,
   "id": "ed0a72bc",
   "metadata": {},
   "outputs": [
    {
     "name": "stdout",
     "output_type": "stream",
     "text": [
      "[31, 46, 22, 42, 43, 4, 1, 49, 39, 3]\n"
     ]
    }
   ],
   "source": [
    "#강사님 예시\n",
    "rd_lst=[]\n",
    "\n",
    "for i in range(10):\n",
    "    rd_lst.append(np.random.randint(0,51))\n",
    "\n",
    "print(rd_lst)"
   ]
  },
  {
   "cell_type": "code",
   "execution_count": 20,
   "id": "72e26c90",
   "metadata": {
    "scrolled": true
   },
   "outputs": [
    {
     "name": "stdout",
     "output_type": "stream",
     "text": [
      "[37, 39, 32, 26, 47, 21, 7, 40, 23, 16]\n"
     ]
    }
   ],
   "source": [
    "#같은 방법 데이터 한줄쓰기\n",
    "\n",
    "rd_lst = [np.random.randint(0,51) for i in range(10)]\n",
    "print(rd_lst)\n",
    "\n",
    "# lst = [ 리스트에 추가하고자하는 데이터를 발생시키는 부분 for 문 ]"
   ]
  },
  {
   "cell_type": "code",
   "execution_count": 33,
   "id": "bedce009",
   "metadata": {},
   "outputs": [
    {
     "name": "stdout",
     "output_type": "stream",
     "text": [
      "['멀티캠퍼스', '티스토리', '프로그래밍']\n"
     ]
    }
   ],
   "source": [
    "# 한줄쓰기 예시 2.\n",
    "# words 데이터에서 글자수가 4개 이상인 데이터를 찾아 new_words에 리스트로 저장\n",
    "words = [\"멀티캠퍼스\",\"티스토리\", \"블로그\", \"파이썬\", \"for\", \"프로그래밍\", \"반복\"]\n",
    "\n",
    "new_words = []\n",
    "\n",
    "for word in words:\n",
    "    if len(word)>3:\n",
    "        new_words.append(word)\n",
    "\n",
    "print(new_words)"
   ]
  },
  {
   "cell_type": "code",
   "execution_count": 34,
   "id": "ec9a395c",
   "metadata": {},
   "outputs": [
    {
     "name": "stdout",
     "output_type": "stream",
     "text": [
      "['멀티캠퍼스', '티스토리', '프로그래밍']\n"
     ]
    }
   ],
   "source": [
    "# 강사님 코딩\n",
    "\n",
    "new_words1 = [word for word in words if len(word) > 3]\n",
    "print(new_words1)\n",
    "\n",
    "# 리스트 구조가 리스트로 연결될 때 사용\n",
    "# 단 문법이 복잡하지 않을 때 사용"
   ]
  },
  {
   "cell_type": "code",
   "execution_count": 37,
   "id": "a52af5a0",
   "metadata": {},
   "outputs": [
    {
     "name": "stdout",
     "output_type": "stream",
     "text": [
      "['이중 for문', '프로그래밍', 'Python', 'leetCode', 'BaekJoon', 'HackerRank', '멀티캠퍼스', 'COMPAS', 'DACON', 'Kaggle']\n"
     ]
    }
   ],
   "source": [
    "# 이중구조 리스트\n",
    "# 리스트에 단어 추가하기 한줄쓰기\n",
    "words = [ [ \"이중 for문\", \"파이썬\", \"프로그래밍\", \"스터디\" ], \n",
    "          [ \"Python\", \"NLP\", \"ML\", \"DL\" ], \n",
    "          [ \"leetCode\", \"BaekJoon\", \"HackerRank\" ], \n",
    "          [ \"멀티캠퍼스\", \"COMPAS\", \"DACON\", \"Kaggle\" ] ]\n",
    "\n",
    "wd_lst=[ j for i in words for j in i if len(j)>3 ]\n",
    "print(wd_lst)"
   ]
  },
  {
   "cell_type": "markdown",
   "id": "25662865",
   "metadata": {},
   "source": [
    "### 문제 예시)random 모듈을 이용한 리스트 발생\n",
    "\n",
    "- 기준 : 0-50의 난수\n",
    "- 1세드당 인수가 10-20 개의 값을 갖게하라\n",
    "- 젠체 세트가 5세트\n",
    "\n"
   ]
  },
  {
   "cell_type": "code",
   "execution_count": 42,
   "id": "2cf2951e",
   "metadata": {},
   "outputs": [],
   "source": [
    "import numpy as np"
   ]
  },
  {
   "cell_type": "code",
   "execution_count": 47,
   "id": "55be9384",
   "metadata": {},
   "outputs": [
    {
     "name": "stdout",
     "output_type": "stream",
     "text": [
      "31\n",
      "43\n",
      "[36  4 25 33  0 38  7 33  3 12]\n",
      "[13  6  6 38 40 36 16  4 48  8]\n"
     ]
    }
   ],
   "source": [
    "print(np.random.randint(51))\n",
    "print(np.random.randint(25, 51))\n",
    "print(np.random.randint(0, 51, 10))\n",
    "print(np.random.randint(51, size=10))"
   ]
  },
  {
   "cell_type": "code",
   "execution_count": 60,
   "id": "a8155230",
   "metadata": {},
   "outputs": [
    {
     "data": {
      "text/plain": [
       "[[38, 8, 35, 30, 8, 17, 20, 43, 41, 8, 32, 33, 45, 5, 29, 6, 25, 48, 21],\n",
       " [11, 42, 49, 42, 2, 0, 6, 9, 32, 29, 37, 17],\n",
       " [18, 4, 23, 42, 43, 34, 45, 46, 40, 24, 2, 44, 45],\n",
       " [46, 25, 50, 18, 5, 7, 50, 47, 13, 41, 4, 20, 32, 11, 22, 17, 20, 15, 19, 32],\n",
       " [22, 42, 14, 30, 33, 32, 17, 31, 6, 19, 29, 34, 12, 9, 13, 48, 2]]"
      ]
     },
     "execution_count": 60,
     "metadata": {},
     "output_type": "execute_result"
    }
   ],
   "source": [
    "int_lst = []\n",
    "\n",
    "for num in range(5):\n",
    "    int_lst.append(list(np.random.randint(0,51, size= np.random.randint(10,21))))\n",
    "int_lst\n"
   ]
  },
  {
   "cell_type": "code",
   "execution_count": 62,
   "id": "f2e0800e",
   "metadata": {},
   "outputs": [
    {
     "data": {
      "text/plain": [
       "[[43, 19, 31, 5, 3, 32, 23, 38, 5, 18, 39, 36, 13, 23, 23, 41, 47, 13, 41],\n",
       " [29, 15, 23, 20, 28, 34, 27, 46, 15, 7, 5],\n",
       " [0, 21, 21, 48, 16, 47, 22, 33, 46, 49, 7, 20, 29, 44, 28, 21, 0, 34, 28],\n",
       " [2, 13, 2, 29, 34, 10, 41, 28, 44, 0, 9],\n",
       " [23, 11, 16, 17, 1, 11, 26, 0, 17, 34, 24, 14]]"
      ]
     },
     "execution_count": 62,
     "metadata": {},
     "output_type": "execute_result"
    }
   ],
   "source": [
    "#한줄 쓰기\n",
    "rd_lst=[list(np.random.randint(51,size=np.random.randint(10,21))) for i in range(5)]\n",
    "rd_lst\n",
    "#list는 구조 변경이 안된다. array는 차원 구조를 바꿀수 있다\n",
    "#list는 1차원 구조다, array는 다차원 구조다"
   ]
  },
  {
   "cell_type": "markdown",
   "id": "666f3a47",
   "metadata": {},
   "source": [
    "### (요구사항)입력된 숫자 데이터에서 최대값/최소값/합계 계산\n",
    "- 1. data에 입력된 값을 기준으로 계산\n",
    "- 2. 위에서 생성된 rd_lst 데이터를 이용해 계산\n",
    "\n",
    "### 제한조건\n",
    "- sum(),max(),min() 함수 사용 금지"
   ]
  },
  {
   "cell_type": "code",
   "execution_count": 70,
   "id": "fbbb6683",
   "metadata": {},
   "outputs": [
    {
     "name": "stdout",
     "output_type": "stream",
     "text": [
      "47\n",
      "3\n",
      "536\n"
     ]
    }
   ],
   "source": [
    "data1=[43, 19, 31, 5, 3, 32, 23, 38, 5, 18, 39, 36, 13, 23, 23, 41, 47, 13, 41]\n",
    "max1 = data1[0]\n",
    "min1 = data1[0]\n",
    "sum1 = data1[0]\n",
    "for num in data1:\n",
    "    if num > max1:\n",
    "        max1=num\n",
    "    if num < min1:\n",
    "        min1=num\n",
    "    sum1 += num\n",
    "print(max1)\n",
    "print(min1)\n",
    "print(sum1)"
   ]
  },
  {
   "cell_type": "code",
   "execution_count": 108,
   "id": "37e67660",
   "metadata": {
    "scrolled": true
   },
   "outputs": [
    {
     "name": "stdout",
     "output_type": "stream",
     "text": [
      "[[39, 12, 13, 7, 8, 16, 41, 34, 49, 27, 12], [24, 35, 5, 40, 29, 22, 40, 16, 43, 25, 10, 2, 5, 49, 28, 20], [26, 31, 1, 2, 7, 14, 20, 42, 28, 21, 45, 20, 5, 13], [0, 36, 27, 48, 40, 17, 18, 18, 33, 30, 10, 13, 39, 30, 42], [33, 23, 18, 7, 50, 22, 38, 32, 44, 46, 42, 9, 35, 42, 37, 15, 42, 0, 21]]\n",
      "전체 최대값:50, 전체 최소값:0, 전체 합계:[1922]\n",
      "그룹별 최대값:[39, 49, 49, 49, 49, 50], 그룹별 최소값:[39, 7, 2, 1, 0, 0], 그룹별 합계:[array([297]), 393, 275, 401, 556]\n"
     ]
    }
   ],
   "source": [
    "#전체에서 최대값/최소값/합계 + 그룹내 최대값/최소값/합계\n",
    "rd_lst=[list(np.random.randint(51,size=np.random.randint(10,21))) for i in range(5)]\n",
    "\n",
    "tot_max2= [(rd_lst[0][0])]\n",
    "tot_min2= [(rd_lst[0][0])]\n",
    "tot_sum2= [(rd_lst[0][0])]\n",
    "par_max2=[(rd_lst[0][0])]\n",
    "par_min2=[(rd_lst[0][0])]\n",
    "pre_sum = [(rd_lst[0][0])]\n",
    "par_sum2=[]\n",
    "for num in rd_lst:\n",
    "    for i in num:\n",
    "        if i > tot_max2:\n",
    "            tot_max2 = i\n",
    "    \n",
    "        \n",
    "        if i < tot_min2:\n",
    "            tot_min2 = i\n",
    "   \n",
    "        tot_sum2 += i\n",
    "        pre_sum += i\n",
    "    par_max2.append(tot_max2)\n",
    "    par_min2.append(tot_min2)\n",
    "    par_sum2.append(pre_sum)\n",
    "        \n",
    "        \n",
    "    pre_sum = 0\n",
    "        \n",
    "print(rd_lst)\n",
    "print(f'전체 최대값:{tot_max2}, 전체 최소값:{tot_min2}, 전체 합계:{tot_sum2}')\n",
    "\n",
    "print(f'그룹별 최대값:{par_max2}, 그룹별 최소값:{par_min2}, 그룹별 합계:{par_sum2}')"
   ]
  },
  {
   "cell_type": "code",
   "execution_count": 131,
   "id": "5e70e711",
   "metadata": {},
   "outputs": [
    {
     "name": "stdout",
     "output_type": "stream",
     "text": [
      "1그룹 합계:248 최대:48 최소:0\n",
      "2그룹 합계:267 최대:48 최소:1\n",
      "3그룹 합계:357 최대:50 최소:0\n",
      "4그룹 합계:526 최대:50 최소:5\n",
      "5그룹 합계:441 최대:49 최소:4\n",
      "전체 합계:1839 최대:50 최소:0\n"
     ]
    }
   ],
   "source": [
    "rd_lst=[list(np.random.randint(51,size=np.random.randint(10,21))) for i in range(5)]\n",
    "\n",
    "T_lst = [0, rd_lst[0][0], rd_lst[0][0]] #전체 값 계산\n",
    "G_lst = []\n",
    "G_num = 0\n",
    "for lst in rd_lst:\n",
    "    tem_lst=[0, lst[0], lst[0]]\n",
    "    G_num += 1\n",
    "    for Glst in lst:\n",
    "        \n",
    "        if Glst> tem_lst[1]:\n",
    "            tem_lst[1] = Glst\n",
    "        \n",
    "        if Glst< tem_lst[2]:\n",
    "            tem_lst[2] = Glst\n",
    "        \n",
    "        tem_lst[0] += Glst\n",
    "    \n",
    "    G_lst.append(tem_lst)\n",
    "    print(f'{G_num}그룹 합계:{tem_lst[0]} 최대:{tem_lst[1]} 최소:{tem_lst[2]}')\n",
    "    \n",
    "    T_lst[0] = T_lst[0] + tem_lst[0]\n",
    "    \n",
    "    if tem_lst[1] > T_lst[1]:\n",
    "        T_lst[1] = tem_lst[1]\n",
    "    \n",
    "    if tem_lst[2] < T_lst[2]:\n",
    "        T_lst[2] = tem_lst[2]\n",
    "print(f'전체 합계:{T_lst[0]} 최대:{T_lst[1]} 최소:{T_lst[2]}')\n",
    "\n",
    "#list 는 어떤 배열이든 마구 때려넣을 수 있어, array는 데이터의 개수가 맞아야되"
   ]
  },
  {
   "cell_type": "code",
   "execution_count": null,
   "id": "50f3be84",
   "metadata": {},
   "outputs": [],
   "source": []
  },
  {
   "cell_type": "code",
   "execution_count": null,
   "id": "3a313889",
   "metadata": {},
   "outputs": [],
   "source": []
  },
  {
   "cell_type": "code",
   "execution_count": null,
   "id": "2488b555",
   "metadata": {},
   "outputs": [],
   "source": []
  },
  {
   "cell_type": "code",
   "execution_count": null,
   "id": "faf16b40",
   "metadata": {},
   "outputs": [],
   "source": []
  },
  {
   "cell_type": "code",
   "execution_count": null,
   "id": "339797ac",
   "metadata": {},
   "outputs": [],
   "source": []
  },
  {
   "cell_type": "code",
   "execution_count": null,
   "id": "85bc65fc",
   "metadata": {},
   "outputs": [],
   "source": []
  },
  {
   "cell_type": "code",
   "execution_count": null,
   "id": "6635536d",
   "metadata": {},
   "outputs": [],
   "source": []
  }
 ],
 "metadata": {
  "jupytext": {
   "formats": "ipynb,auto:light"
  },
  "kernelspec": {
   "display_name": "Python 3",
   "language": "python",
   "name": "python3"
  },
  "language_info": {
   "codemirror_mode": {
    "name": "ipython",
    "version": 3
   },
   "file_extension": ".py",
   "mimetype": "text/x-python",
   "name": "python",
   "nbconvert_exporter": "python",
   "pygments_lexer": "ipython3",
   "version": "3.9.4"
  }
 },
 "nbformat": 4,
 "nbformat_minor": 5
}
